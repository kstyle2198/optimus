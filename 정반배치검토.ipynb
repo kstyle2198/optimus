{
 "cells": [
  {
   "cell_type": "code",
   "execution_count": 2,
   "id": "04634caf",
   "metadata": {},
   "outputs": [],
   "source": [
    "import numpy as np\n",
    "import matplotlib.pyplot as plt\n",
    "import matplotlib.colors as mcolors"
   ]
  },
  {
   "cell_type": "code",
   "execution_count": 3,
   "id": "25d36245",
   "metadata": {},
   "outputs": [
    {
     "data": {
      "text/plain": [
       "10"
      ]
     },
     "execution_count": 3,
     "metadata": {},
     "output_type": "execute_result"
    }
   ],
   "source": [
    "# Define the dimensions of the surface\n",
    "사이즈 = (10, 10)\n",
    "사이즈[0]"
   ]
  },
  {
   "cell_type": "code",
   "execution_count": 10,
   "id": "61e7ed48",
   "metadata": {},
   "outputs": [],
   "source": [
    "def 정반세팅(사이즈):  #사이즈 = (10, 10)\n",
    "    surface_width, surface_height = 사이즈[0], 사이즈[1]  # Adjusted to match the provided image for demonstration\n",
    "    surface = np.zeros((surface_height, surface_width), dtype=int)\n",
    "    return surface, surface_width, surface_height"
   ]
  },
  {
   "cell_type": "code",
   "execution_count": 11,
   "id": "6e29cd5d",
   "metadata": {},
   "outputs": [
    {
     "data": {
      "text/plain": [
       "(array([[0, 0, 0, 0, 0, 0, 0, 0, 0, 0],\n",
       "        [0, 0, 0, 0, 0, 0, 0, 0, 0, 0],\n",
       "        [0, 0, 0, 0, 0, 0, 0, 0, 0, 0],\n",
       "        [0, 0, 0, 0, 0, 0, 0, 0, 0, 0],\n",
       "        [0, 0, 0, 0, 0, 0, 0, 0, 0, 0],\n",
       "        [0, 0, 0, 0, 0, 0, 0, 0, 0, 0],\n",
       "        [0, 0, 0, 0, 0, 0, 0, 0, 0, 0],\n",
       "        [0, 0, 0, 0, 0, 0, 0, 0, 0, 0],\n",
       "        [0, 0, 0, 0, 0, 0, 0, 0, 0, 0],\n",
       "        [0, 0, 0, 0, 0, 0, 0, 0, 0, 0]]),\n",
       " 10,\n",
       " 10)"
      ]
     },
     "execution_count": 11,
     "metadata": {},
     "output_type": "execute_result"
    }
   ],
   "source": [
    "surface, surface_width, surface_height = 정반세팅(사이즈)\n",
    "surface, surface_width, surface_height"
   ]
  },
  {
   "cell_type": "code",
   "execution_count": 6,
   "id": "abe0d3da",
   "metadata": {},
   "outputs": [],
   "source": [
    "# Define the blocks we want to place with a unique ID for each block type\n",
    "block_sizes = [(2, 2), (3, 3), (2, 4), (4, 5), (2, 4), (2, 6), (2, 5), (4, 6), (2, 8), (4, 5)]  # Updated block list\n",
    "block_names = [\"S1\", \"S2\", \"S3\", \"S4\", \"S5\", \"S6\", \"S7\", \"S8\",\"S9\", \"S10\"]"
   ]
  },
  {
   "cell_type": "code",
   "execution_count": 7,
   "id": "5c40402d",
   "metadata": {},
   "outputs": [],
   "source": [
    "# Function to check if a block can be placed on the surface\n",
    "def can_place(surface, block, start_row, start_col):\n",
    "    block_height, block_width = block\n",
    "    if start_row + block_height > surface_height or start_col + block_width > surface_width:\n",
    "        return False\n",
    "    return np.all(surface[start_row:start_row + block_height, start_col:start_col + block_width] == 0)\n",
    "\n",
    "# Function to place a block on the surface, if possible\n",
    "def place_block(surface, block, start_row, start_col, block_id):\n",
    "    block_height, block_width = block\n",
    "    surface[start_row:start_row + block_height, start_col:start_col + block_width] = block_id\n",
    "\n",
    "# Function to find the best fit for a block on the surface\n",
    "def find_best_fit(surface, block, block_id):\n",
    "    best_fit_score = float('inf')\n",
    "    best_position = None\n",
    "    block_height, block_width = block\n",
    "\n",
    "    # Iterate over all possible positions on the surface\n",
    "    for y in range(surface_height - block_height + 1):\n",
    "        for x in range(surface_width - block_width + 1):\n",
    "            if can_place(surface, block, y, x):\n",
    "                # Calculate a score; here we use the top-left corner (y, x) as the score\n",
    "                # A lower score means the block is closer to the top-left\n",
    "                score = y + x\n",
    "                if score < best_fit_score:\n",
    "                    best_fit_score = score\n",
    "                    best_position = (y, x)\n",
    "\n",
    "    # If a best position was found, place the block there\n",
    "    if best_position:\n",
    "        place_block(surface, block, *best_position, block_id)\n",
    "        return True\n",
    "    return False  # No fit found\n",
    "\n",
    "# Function to fit blocks on the surface in order\n",
    "def fit_blocks(surface, blocks, names):\n",
    "    result_dict = dict()\n",
    "    block_id = 1  # Start numbering blocks from 1\n",
    "    for name, block in zip(names, blocks):\n",
    "        if not find_best_fit(surface, block, block_id):\n",
    "            print(f\"Block {block_id} of size {block} could not be placed.\")\n",
    "            result_dict[name] = \"미배치\"\n",
    "        else:\n",
    "            result_dict[name] = \"배치\"\n",
    "        block_id += 1  # Increment block_id for the next block\n",
    "    return surface, result_dict"
   ]
  },
  {
   "cell_type": "code",
   "execution_count": 12,
   "id": "bd73e330",
   "metadata": {},
   "outputs": [
    {
     "name": "stdout",
     "output_type": "stream",
     "text": [
      "Block 8 of size (4, 6) could not be placed.\n",
      "Block 9 of size (2, 8) could not be placed.\n",
      "Block 10 of size (4, 5) could not be placed.\n"
     ]
    },
    {
     "data": {
      "text/plain": [
       "array([[1, 1, 2, 2, 2, 4, 4, 4, 4, 4],\n",
       "       [1, 1, 2, 2, 2, 4, 4, 4, 4, 4],\n",
       "       [0, 0, 2, 2, 2, 4, 4, 4, 4, 4],\n",
       "       [3, 3, 3, 3, 0, 4, 4, 4, 4, 4],\n",
       "       [3, 3, 3, 3, 7, 7, 7, 7, 7, 0],\n",
       "       [5, 5, 5, 5, 7, 7, 7, 7, 7, 0],\n",
       "       [5, 5, 5, 5, 0, 0, 0, 0, 0, 0],\n",
       "       [6, 6, 6, 6, 6, 6, 0, 0, 0, 0],\n",
       "       [6, 6, 6, 6, 6, 6, 0, 0, 0, 0],\n",
       "       [0, 0, 0, 0, 0, 0, 0, 0, 0, 0]])"
      ]
     },
     "execution_count": 12,
     "metadata": {},
     "output_type": "execute_result"
    }
   ],
   "source": [
    "# Place the blocks on the surface\n",
    "surface = fit_blocks(surface, block_sizes, block_names)\n",
    "surface[0]"
   ]
  },
  {
   "cell_type": "code",
   "execution_count": 13,
   "id": "4a0d8f3b",
   "metadata": {},
   "outputs": [
    {
     "data": {
      "text/plain": [
       "{'S1': '배치',\n",
       " 'S2': '배치',\n",
       " 'S3': '배치',\n",
       " 'S4': '배치',\n",
       " 'S5': '배치',\n",
       " 'S6': '배치',\n",
       " 'S7': '배치',\n",
       " 'S8': '미배치',\n",
       " 'S9': '미배치',\n",
       " 'S10': '미배치'}"
      ]
     },
     "execution_count": 13,
     "metadata": {},
     "output_type": "execute_result"
    }
   ],
   "source": [
    "surface[1]"
   ]
  },
  {
   "cell_type": "code",
   "execution_count": 14,
   "id": "32de4bd2",
   "metadata": {
    "scrolled": false
   },
   "outputs": [],
   "source": [
    "# Visualize the surface with the blocks placed\n",
    "def draw(surface):\n",
    "    fig, ax = plt.subplots(figsize=(8, 8))  # Adjust figure size to be square\n",
    "    # Create a colormap with a distinct color for each block ID\n",
    "    cmap = mcolors.ListedColormap(['white'] + ['C{}'.format(i) for i in range(len(blocks))])\n",
    "    norm = mcolors.BoundaryNorm(np.arange(0.5, len(blocks) + 2), cmap.N)\n",
    "\n",
    "    ax.imshow(surface[0], cmap=cmap, norm=norm)\n",
    "\n",
    "    # Add gridlines and block numbers\n",
    "    for y in range(surface_height):\n",
    "        for x in range(surface_width):\n",
    "            if surface[0][y, x] != 0:\n",
    "                ax.text(x, y, str(block_names[surface[0][y, x]-1]), ha='center', va='center', color='black')\n",
    "\n",
    "    # Draw gridlines\n",
    "    ax.set_xticks(np.arange(-.5, surface_width, 1), minor=True)\n",
    "    ax.set_yticks(np.arange(-.5, surface_height, 1), minor=True)\n",
    "    ax.grid(which=\"minor\", color=\"black\", linestyle='-', linewidth=1)\n",
    "    ax.tick_params(which=\"minor\", size=0)\n",
    "\n",
    "    # Remove the major ticks\n",
    "    ax.set_xticks([])\n",
    "    ax.set_yticks([])\n",
    "\n",
    "    plt.show()"
   ]
  },
  {
   "cell_type": "code",
   "execution_count": 15,
   "id": "2fa6d581",
   "metadata": {},
   "outputs": [
    {
     "ename": "NameError",
     "evalue": "name 'blocks' is not defined",
     "output_type": "error",
     "traceback": [
      "\u001b[1;31m---------------------------------------------------------------------------\u001b[0m",
      "\u001b[1;31mNameError\u001b[0m                                 Traceback (most recent call last)",
      "Cell \u001b[1;32mIn[15], line 1\u001b[0m\n\u001b[1;32m----> 1\u001b[0m \u001b[43mdraw\u001b[49m\u001b[43m(\u001b[49m\u001b[43msurface\u001b[49m\u001b[43m)\u001b[49m\n",
      "Cell \u001b[1;32mIn[14], line 5\u001b[0m, in \u001b[0;36mdraw\u001b[1;34m(surface)\u001b[0m\n\u001b[0;32m      3\u001b[0m fig, ax \u001b[38;5;241m=\u001b[39m plt\u001b[38;5;241m.\u001b[39msubplots(figsize\u001b[38;5;241m=\u001b[39m(\u001b[38;5;241m8\u001b[39m, \u001b[38;5;241m8\u001b[39m))  \u001b[38;5;66;03m# Adjust figure size to be square\u001b[39;00m\n\u001b[0;32m      4\u001b[0m \u001b[38;5;66;03m# Create a colormap with a distinct color for each block ID\u001b[39;00m\n\u001b[1;32m----> 5\u001b[0m cmap \u001b[38;5;241m=\u001b[39m mcolors\u001b[38;5;241m.\u001b[39mListedColormap([\u001b[38;5;124m'\u001b[39m\u001b[38;5;124mwhite\u001b[39m\u001b[38;5;124m'\u001b[39m] \u001b[38;5;241m+\u001b[39m [\u001b[38;5;124m'\u001b[39m\u001b[38;5;124mC\u001b[39m\u001b[38;5;132;01m{}\u001b[39;00m\u001b[38;5;124m'\u001b[39m\u001b[38;5;241m.\u001b[39mformat(i) \u001b[38;5;28;01mfor\u001b[39;00m i \u001b[38;5;129;01min\u001b[39;00m \u001b[38;5;28mrange\u001b[39m(\u001b[38;5;28mlen\u001b[39m(\u001b[43mblocks\u001b[49m))])\n\u001b[0;32m      6\u001b[0m norm \u001b[38;5;241m=\u001b[39m mcolors\u001b[38;5;241m.\u001b[39mBoundaryNorm(np\u001b[38;5;241m.\u001b[39marange(\u001b[38;5;241m0.5\u001b[39m, \u001b[38;5;28mlen\u001b[39m(blocks) \u001b[38;5;241m+\u001b[39m \u001b[38;5;241m2\u001b[39m), cmap\u001b[38;5;241m.\u001b[39mN)\n\u001b[0;32m      8\u001b[0m ax\u001b[38;5;241m.\u001b[39mimshow(surface[\u001b[38;5;241m0\u001b[39m], cmap\u001b[38;5;241m=\u001b[39mcmap, norm\u001b[38;5;241m=\u001b[39mnorm)\n",
      "\u001b[1;31mNameError\u001b[0m: name 'blocks' is not defined"
     ]
    },
    {
     "data": {
      "image/png": "[encoded data removed]",
      "text/plain": [
       "<Figure size 576x576 with 1 Axes>"
      ]
     },
     "metadata": {
      "needs_background": "light"
     },
     "output_type": "display_data"
    }
   ],
   "source": [
    "draw(surface)"
   ]
  },
  {
   "cell_type": "code",
   "execution_count": null,
   "id": "99ecc452",
   "metadata": {},
   "outputs": [],
   "source": []
  }
 ],
 "metadata": {
  "kernelspec": {
   "display_name": "Python 3 (ipykernel)",
   "language": "python",
   "name": "python3"
  },
  "language_info": {
   "codemirror_mode": {
    "name": "ipython",
    "version": 3
   },
   "file_extension": ".py",
   "mimetype": "text/x-python",
   "name": "python",
   "nbconvert_exporter": "python",
   "pygments_lexer": "ipython3",
   "version": "3.10.6"
  },
  "toc": {
   "base_numbering": 1,
   "nav_menu": {},
   "number_sections": true,
   "sideBar": true,
   "skip_h1_title": false,
   "title_cell": "Table of Contents",
   "title_sidebar": "Contents",
   "toc_cell": false,
   "toc_position": {
    "height": "648.182px",
    "left": "92px",
    "top": "110.795px",
    "width": "349.091px"
   },
   "toc_section_display": true,
   "toc_window_display": true
  }
 },
 "nbformat": 4,
 "nbformat_minor": 5
}
