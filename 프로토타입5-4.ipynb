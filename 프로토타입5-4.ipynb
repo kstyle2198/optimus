{
 "cells": [
  {
   "cell_type": "code",
   "execution_count": 1,
   "id": "f9b64f3a",
   "metadata": {},
   "outputs": [],
   "source": [
    "import pandas as pd\n",
    "import numpy as np\n",
    "from tqdm import tqdm\n",
    "from random import random, randrange, choice, shuffle\n",
    "from datetime import datetime, timedelta, date\n",
    "from itertools import combinations\n",
    "from pprint import pprint\n",
    "import calendar\n",
    "import plotly.express as px\n",
    "\n",
    "import matplotlib.pyplot as plt\n",
    "import matplotlib.colors as mcolors\n",
    "\n",
    "import warnings\n",
    "warnings.filterwarnings('ignore')\n",
    "\n",
    "from IPython.core.interactiveshell import InteractiveShell \n",
    "InteractiveShell.ast_node_interactivity = \"all\" # Cell의 모든 반환값 출력\n",
    "\n",
    "pd.set_option('display.max_rows', None)"
   ]
  },
  {
   "cell_type": "markdown",
   "id": "09df493d",
   "metadata": {},
   "source": [
    "# 기본 데이터 세팅"
   ]
  },
  {
   "cell_type": "code",
   "execution_count": 2,
   "id": "e9045597",
   "metadata": {},
   "outputs": [
    {
     "data": {
      "text/html": [
       "<div>\n",
       "<style scoped>\n",
       "    .dataframe tbody tr th:only-of-type {\n",
       "        vertical-align: middle;\n",
       "    }\n",
       "\n",
       "    .dataframe tbody tr th {\n",
       "        vertical-align: top;\n",
       "    }\n",
       "\n",
       "    .dataframe thead th {\n",
       "        text-align: right;\n",
       "    }\n",
       "</style>\n",
       "<table border=\"1\" class=\"dataframe\">\n",
       "  <thead>\n",
       "    <tr style=\"text-align: right;\">\n",
       "      <th></th>\n",
       "      <th>블록명</th>\n",
       "      <th>중량</th>\n",
       "      <th>가로</th>\n",
       "      <th>세로</th>\n",
       "      <th>표준공기</th>\n",
       "      <th>납기</th>\n",
       "    </tr>\n",
       "  </thead>\n",
       "  <tbody>\n",
       "    <tr>\n",
       "      <th>0</th>\n",
       "      <td>S1</td>\n",
       "      <td>50</td>\n",
       "      <td>10</td>\n",
       "      <td>10</td>\n",
       "      <td>2</td>\n",
       "      <td>2024-02-15</td>\n",
       "    </tr>\n",
       "    <tr>\n",
       "      <th>1</th>\n",
       "      <td>S2</td>\n",
       "      <td>60</td>\n",
       "      <td>10</td>\n",
       "      <td>12</td>\n",
       "      <td>3</td>\n",
       "      <td>2024-02-15</td>\n",
       "    </tr>\n",
       "    <tr>\n",
       "      <th>2</th>\n",
       "      <td>S3</td>\n",
       "      <td>30</td>\n",
       "      <td>5</td>\n",
       "      <td>6</td>\n",
       "      <td>1</td>\n",
       "      <td>2024-02-15</td>\n",
       "    </tr>\n",
       "    <tr>\n",
       "      <th>3</th>\n",
       "      <td>S4</td>\n",
       "      <td>20</td>\n",
       "      <td>5</td>\n",
       "      <td>6</td>\n",
       "      <td>2</td>\n",
       "      <td>2024-02-15</td>\n",
       "    </tr>\n",
       "  </tbody>\n",
       "</table>\n",
       "</div>"
      ],
      "text/plain": [
       "  블록명  중량  가로  세로  표준공기          납기\n",
       "0  S1  50  10  10     2  2024-02-15\n",
       "1  S2  60  10  12     3  2024-02-15\n",
       "2  S3  30   5   6     1  2024-02-15\n",
       "3  S4  20   5   6     2  2024-02-15"
      ]
     },
     "execution_count": 2,
     "metadata": {},
     "output_type": "execute_result"
    }
   ],
   "source": [
    "블록원데이터 = pd.DataFrame({\"블록명\":[\"S1\", \"S2\", \"S3\", \"S4\"], \n",
    "                    \"중량\": [50, 60, 30, 20], \n",
    "                    \"가로\": [10, 10, 5, 5], \n",
    "                    \"세로\":[10, 12, 6, 6], \n",
    "                    \"표준공기\":[2, 3, 1, 2], \n",
    "                    \"납기\":[\"2024-02-15\", \"2024-02-15\", \"2024-02-15\", \"2024-02-15\"],\n",
    "                    })\n",
    "블록원데이터.head()"
   ]
  },
  {
   "cell_type": "code",
   "execution_count": 3,
   "id": "d5908f92",
   "metadata": {},
   "outputs": [
    {
     "data": {
      "text/html": [
       "<div>\n",
       "<style scoped>\n",
       "    .dataframe tbody tr th:only-of-type {\n",
       "        vertical-align: middle;\n",
       "    }\n",
       "\n",
       "    .dataframe tbody tr th {\n",
       "        vertical-align: top;\n",
       "    }\n",
       "\n",
       "    .dataframe thead th {\n",
       "        text-align: right;\n",
       "    }\n",
       "</style>\n",
       "<table border=\"1\" class=\"dataframe\">\n",
       "  <thead>\n",
       "    <tr style=\"text-align: right;\">\n",
       "      <th></th>\n",
       "      <th>정반명</th>\n",
       "      <th>가능중량</th>\n",
       "      <th>가로</th>\n",
       "      <th>세로</th>\n",
       "    </tr>\n",
       "  </thead>\n",
       "  <tbody>\n",
       "    <tr>\n",
       "      <th>0</th>\n",
       "      <td>A</td>\n",
       "      <td>100</td>\n",
       "      <td>10</td>\n",
       "      <td>20</td>\n",
       "    </tr>\n",
       "    <tr>\n",
       "      <th>1</th>\n",
       "      <td>B</td>\n",
       "      <td>100</td>\n",
       "      <td>10</td>\n",
       "      <td>10</td>\n",
       "    </tr>\n",
       "    <tr>\n",
       "      <th>2</th>\n",
       "      <td>C</td>\n",
       "      <td>30</td>\n",
       "      <td>5</td>\n",
       "      <td>10</td>\n",
       "    </tr>\n",
       "  </tbody>\n",
       "</table>\n",
       "</div>"
      ],
      "text/plain": [
       "  정반명  가능중량  가로  세로\n",
       "0   A   100  10  20\n",
       "1   B   100  10  10\n",
       "2   C    30   5  10"
      ]
     },
     "execution_count": 3,
     "metadata": {},
     "output_type": "execute_result"
    }
   ],
   "source": [
    "정반원데이터 = pd.DataFrame({\"정반명\":[\"A\", \"B\", \"C\"],\n",
    "                   \"가능중량\":[100, 100, 30],\n",
    "                   \"가로\":[10, 10, 5],\n",
    "                   \"세로\":[20, 10, 10],\n",
    "                   })\n",
    "정반원데이터.head()"
   ]
  },
  {
   "cell_type": "code",
   "execution_count": 4,
   "id": "3afd4249",
   "metadata": {},
   "outputs": [
    {
     "data": {
      "text/plain": [
       "1"
      ]
     },
     "execution_count": 4,
     "metadata": {},
     "output_type": "execute_result"
    }
   ],
   "source": [
    "정반원데이터.index[정반원데이터[\"정반명\"]==\"B\"].values[0]"
   ]
  },
  {
   "cell_type": "code",
   "execution_count": 5,
   "id": "ef19c09f",
   "metadata": {},
   "outputs": [
    {
     "data": {
      "text/plain": [
       "DatetimeIndex(['2024-02-01', '2024-02-02', '2024-02-03', '2024-02-04',\n",
       "               '2024-02-05', '2024-02-06', '2024-02-07', '2024-02-08',\n",
       "               '2024-02-09', '2024-02-10', '2024-02-11', '2024-02-12',\n",
       "               '2024-02-13', '2024-02-14', '2024-02-15', '2024-02-16',\n",
       "               '2024-02-17', '2024-02-18', '2024-02-19', '2024-02-20',\n",
       "               '2024-02-21', '2024-02-22', '2024-02-23', '2024-02-24',\n",
       "               '2024-02-25', '2024-02-26', '2024-02-27', '2024-02-28'],\n",
       "              dtype='datetime64[ns]', freq='D')"
      ]
     },
     "execution_count": 5,
     "metadata": {},
     "output_type": "execute_result"
    }
   ],
   "source": [
    "start_date = datetime(2024, 2, 1)\n",
    "end_date = datetime(2024, 2, 28)\n",
    "날짜집합  = pd.date_range(start=start_date, end=end_date, freq='D')\n",
    "날짜집합"
   ]
  },
  {
   "cell_type": "code",
   "execution_count": 6,
   "id": "ee2ee346",
   "metadata": {},
   "outputs": [
    {
     "data": {
      "text/plain": [
       "['S1', 'S2', 'S3', 'S4']"
      ]
     },
     "execution_count": 6,
     "metadata": {},
     "output_type": "execute_result"
    }
   ],
   "source": [
    "블록집합 = 블록원데이터[\"블록명\"].unique().tolist()\n",
    "블록집합"
   ]
  },
  {
   "cell_type": "code",
   "execution_count": 7,
   "id": "71d472fc",
   "metadata": {},
   "outputs": [
    {
     "data": {
      "text/plain": [
       "['A', 'B', 'C']"
      ]
     },
     "execution_count": 7,
     "metadata": {},
     "output_type": "execute_result"
    }
   ],
   "source": [
    "최초정반집합 = 정반원데이터[\"정반명\"].unique().tolist()\n",
    "최초정반집합"
   ]
  },
  {
   "cell_type": "markdown",
   "id": "70935972",
   "metadata": {},
   "source": [
    "# 블록 데이터 전처리 함수"
   ]
  },
  {
   "cell_type": "code",
   "execution_count": 8,
   "id": "52c1c100",
   "metadata": {},
   "outputs": [],
   "source": [
    "import functools\n",
    "def unpack_df_columns(func):\n",
    "    @functools.wraps(func)\n",
    "    def _unpack_df_columns(*args, **kwargs):\n",
    "        series = args[0]\n",
    "        return func(*series.values)\n",
    "    return _unpack_df_columns"
   ]
  },
  {
   "cell_type": "code",
   "execution_count": 9,
   "id": "aa800a66",
   "metadata": {},
   "outputs": [],
   "source": [
    "@unpack_df_columns\n",
    "def 최소착수요구일구하기(납기, 공기):\n",
    "    result = pd.to_datetime(납기) - timedelta(days=int(공기))\n",
    "    return result.date()"
   ]
  },
  {
   "cell_type": "code",
   "execution_count": 10,
   "id": "1c77f1ff",
   "metadata": {},
   "outputs": [],
   "source": [
    "착수일가중치, 공기가중치, 크기가중치 = 0.7, 0.5, 0.5\n",
    "\n",
    "@unpack_df_columns\n",
    "def 블록우선순위구하기(날순, 공순, 크순):\n",
    "    global 착수일가중치, 공기가중치, 크기가중치\n",
    "    result = np.round((날순*착수일가중치 + 공순*공기가중치 + 크순*크기가중치)/3,1)\n",
    "    return result\n",
    "\n",
    "@unpack_df_columns\n",
    "def 블록사이즈튜플만들기(가로, 세로):\n",
    "    길이1 = max(가로, 세로)  \n",
    "    길이2 = min(가로, 세로)\n",
    "    result = (길이2, 길이1)\n",
    "    return result"
   ]
  },
  {
   "cell_type": "code",
   "execution_count": 11,
   "id": "65f716a2",
   "metadata": {},
   "outputs": [],
   "source": [
    "def 블록데이터전처리(블록원데이터):\n",
    "    df1 = 블록원데이터.copy()\n",
    "    df1[\"사이즈\"] = df1[[\"가로\", \"세로\"]].apply(블록사이즈튜플만들기, axis=1)\n",
    "    df1[\"납기\"] = pd.to_datetime(df1[\"납기\"])\n",
    "    df1[\"면적\"] = df1.eval(\"가로*세로\")\n",
    "    df1[\"최소착수요구일\"] = df1[[\"납기\", \"표준공기\"]].apply(최소착수요구일구하기, axis=1)\n",
    "    df1[\"날짜순서\"] = df1[\"최소착수요구일\"].rank()\n",
    "    df1[\"공기순서\"] = df1[\"표준공기\"].rank(ascending=False)\n",
    "    df1[\"크기순서\"] = df1[\"면적\"].rank(ascending=False)\n",
    "    df1[\"우선순위\"] = df1[[\"날짜순서\", \"공기순서\", \"크기순서\"]].apply(블록우선순위구하기, axis=1)\n",
    "    \n",
    "    df1 = df1.drop(['가로', '세로'], axis=1)\n",
    "    df1 = df1.sort_values(by=[\"우선순위\"])\n",
    "    return df1"
   ]
  },
  {
   "cell_type": "code",
   "execution_count": 12,
   "id": "62c11c89",
   "metadata": {},
   "outputs": [
    {
     "data": {
      "text/html": [
       "<div>\n",
       "<style scoped>\n",
       "    .dataframe tbody tr th:only-of-type {\n",
       "        vertical-align: middle;\n",
       "    }\n",
       "\n",
       "    .dataframe tbody tr th {\n",
       "        vertical-align: top;\n",
       "    }\n",
       "\n",
       "    .dataframe thead th {\n",
       "        text-align: right;\n",
       "    }\n",
       "</style>\n",
       "<table border=\"1\" class=\"dataframe\">\n",
       "  <thead>\n",
       "    <tr style=\"text-align: right;\">\n",
       "      <th></th>\n",
       "      <th>블록명</th>\n",
       "      <th>중량</th>\n",
       "      <th>표준공기</th>\n",
       "      <th>납기</th>\n",
       "      <th>사이즈</th>\n",
       "      <th>면적</th>\n",
       "      <th>최소착수요구일</th>\n",
       "      <th>날짜순서</th>\n",
       "      <th>공기순서</th>\n",
       "      <th>크기순서</th>\n",
       "      <th>우선순위</th>\n",
       "    </tr>\n",
       "  </thead>\n",
       "  <tbody>\n",
       "    <tr>\n",
       "      <th>1</th>\n",
       "      <td>S2</td>\n",
       "      <td>60</td>\n",
       "      <td>3</td>\n",
       "      <td>2024-02-15</td>\n",
       "      <td>(10, 12)</td>\n",
       "      <td>120</td>\n",
       "      <td>2024-02-12</td>\n",
       "      <td>1.0</td>\n",
       "      <td>1.0</td>\n",
       "      <td>1.0</td>\n",
       "      <td>0.6</td>\n",
       "    </tr>\n",
       "    <tr>\n",
       "      <th>0</th>\n",
       "      <td>S1</td>\n",
       "      <td>50</td>\n",
       "      <td>2</td>\n",
       "      <td>2024-02-15</td>\n",
       "      <td>(10, 10)</td>\n",
       "      <td>100</td>\n",
       "      <td>2024-02-13</td>\n",
       "      <td>2.5</td>\n",
       "      <td>2.5</td>\n",
       "      <td>2.0</td>\n",
       "      <td>1.3</td>\n",
       "    </tr>\n",
       "    <tr>\n",
       "      <th>3</th>\n",
       "      <td>S4</td>\n",
       "      <td>20</td>\n",
       "      <td>2</td>\n",
       "      <td>2024-02-15</td>\n",
       "      <td>(5, 6)</td>\n",
       "      <td>30</td>\n",
       "      <td>2024-02-13</td>\n",
       "      <td>2.5</td>\n",
       "      <td>2.5</td>\n",
       "      <td>3.5</td>\n",
       "      <td>1.6</td>\n",
       "    </tr>\n",
       "    <tr>\n",
       "      <th>2</th>\n",
       "      <td>S3</td>\n",
       "      <td>30</td>\n",
       "      <td>1</td>\n",
       "      <td>2024-02-15</td>\n",
       "      <td>(5, 6)</td>\n",
       "      <td>30</td>\n",
       "      <td>2024-02-14</td>\n",
       "      <td>4.0</td>\n",
       "      <td>4.0</td>\n",
       "      <td>3.5</td>\n",
       "      <td>2.2</td>\n",
       "    </tr>\n",
       "  </tbody>\n",
       "</table>\n",
       "</div>"
      ],
      "text/plain": [
       "  블록명  중량  표준공기         납기       사이즈   면적     최소착수요구일  날짜순서  공기순서  크기순서  우선순위\n",
       "1  S2  60     3 2024-02-15  (10, 12)  120  2024-02-12   1.0   1.0   1.0   0.6\n",
       "0  S1  50     2 2024-02-15  (10, 10)  100  2024-02-13   2.5   2.5   2.0   1.3\n",
       "3  S4  20     2 2024-02-15    (5, 6)   30  2024-02-13   2.5   2.5   3.5   1.6\n",
       "2  S3  30     1 2024-02-15    (5, 6)   30  2024-02-14   4.0   4.0   3.5   2.2"
      ]
     },
     "execution_count": 12,
     "metadata": {},
     "output_type": "execute_result"
    }
   ],
   "source": [
    "df1 = 블록데이터전처리(블록원데이터)\n",
    "df1"
   ]
  },
  {
   "cell_type": "code",
   "execution_count": 13,
   "id": "4bce4c99",
   "metadata": {},
   "outputs": [
    {
     "name": "stdout",
     "output_type": "stream",
     "text": [
      "  블록명  우선순위\n",
      "1  S2   3.3\n",
      "0  S1   8.2\n",
      "3  S4   8.5\n",
      "2  S3  13.2\n",
      "  블록명  우선순위\n",
      "1  S2   3.3\n",
      "0  S1   6.8\n",
      "3  S4  11.3\n",
      "2  S3  11.8\n"
     ]
    }
   ],
   "source": [
    "공기가중치 = [9, 0.5]\n",
    "크기가중치 = [0.5, 9]\n",
    "착수일가중치 = 0.5\n",
    "for 공기가중치, 크기가중치 in zip(공기가중치, 크기가중치):\n",
    "    df2 = 블록데이터전처리(블록원데이터)\n",
    "    print(df2[[\"블록명\", \"우선순위\"]])"
   ]
  },
  {
   "cell_type": "markdown",
   "id": "23c1b482",
   "metadata": {},
   "source": [
    "# 정반 데이터 전처리 함수"
   ]
  },
  {
   "cell_type": "code",
   "execution_count": 14,
   "id": "21a217cc",
   "metadata": {},
   "outputs": [],
   "source": [
    "중량가중치, 크기가중치 = 0.5, 0.7\n",
    "\n",
    "@unpack_df_columns\n",
    "def 정반우선순위구하기(중순, 크순):\n",
    "    global 중량가중치, 크기가중치\n",
    "    result = np.round((중순*중량가중치 + 크순*크기가중치)/3,1)\n",
    "    return result\n",
    "\n",
    "@unpack_df_columns\n",
    "def 정반사이즈튜플만들기(가로, 세로):\n",
    "    길이1 = max(가로, 세로)  \n",
    "    길이2 = min(가로, 세로)\n",
    "    result = (길이1, 길이2)\n",
    "    return result"
   ]
  },
  {
   "cell_type": "code",
   "execution_count": 15,
   "id": "e8232335",
   "metadata": {},
   "outputs": [],
   "source": [
    "def 정반데이터전처리(정반원데이터):\n",
    "    df = 정반원데이터.copy()\n",
    "    \n",
    "    df[\"사이즈\"] = df[[\"가로\", \"세로\"]].apply(정반사이즈튜플만들기, axis=1)\n",
    "    df[\"면적\"] = df.eval(\"가로*세로\")\n",
    "    df[\"중량순서\"] = df[\"가능중량\"].rank(ascending=False)\n",
    "    df[\"크기순서\"] = df[\"면적\"].rank(ascending=False)\n",
    "    df[\"우선순위\"] = df[[\"중량순서\", \"크기순서\"]].apply(정반우선순위구하기, axis=1)\n",
    "    \n",
    "    df = df.drop(['가로', '세로'], axis=1)\n",
    "    df = df.sort_values(by=[\"우선순위\"])\n",
    "    return df"
   ]
  },
  {
   "cell_type": "code",
   "execution_count": 16,
   "id": "ff9147f0",
   "metadata": {},
   "outputs": [
    {
     "data": {
      "text/html": [
       "<div>\n",
       "<style scoped>\n",
       "    .dataframe tbody tr th:only-of-type {\n",
       "        vertical-align: middle;\n",
       "    }\n",
       "\n",
       "    .dataframe tbody tr th {\n",
       "        vertical-align: top;\n",
       "    }\n",
       "\n",
       "    .dataframe thead th {\n",
       "        text-align: right;\n",
       "    }\n",
       "</style>\n",
       "<table border=\"1\" class=\"dataframe\">\n",
       "  <thead>\n",
       "    <tr style=\"text-align: right;\">\n",
       "      <th></th>\n",
       "      <th>정반명</th>\n",
       "      <th>가능중량</th>\n",
       "      <th>사이즈</th>\n",
       "      <th>면적</th>\n",
       "      <th>중량순서</th>\n",
       "      <th>크기순서</th>\n",
       "      <th>우선순위</th>\n",
       "    </tr>\n",
       "  </thead>\n",
       "  <tbody>\n",
       "    <tr>\n",
       "      <th>0</th>\n",
       "      <td>A</td>\n",
       "      <td>100</td>\n",
       "      <td>(20, 10)</td>\n",
       "      <td>200</td>\n",
       "      <td>1.5</td>\n",
       "      <td>1.0</td>\n",
       "      <td>0.5</td>\n",
       "    </tr>\n",
       "    <tr>\n",
       "      <th>1</th>\n",
       "      <td>B</td>\n",
       "      <td>100</td>\n",
       "      <td>(10, 10)</td>\n",
       "      <td>100</td>\n",
       "      <td>1.5</td>\n",
       "      <td>2.0</td>\n",
       "      <td>0.7</td>\n",
       "    </tr>\n",
       "    <tr>\n",
       "      <th>2</th>\n",
       "      <td>C</td>\n",
       "      <td>30</td>\n",
       "      <td>(10, 5)</td>\n",
       "      <td>50</td>\n",
       "      <td>3.0</td>\n",
       "      <td>3.0</td>\n",
       "      <td>1.2</td>\n",
       "    </tr>\n",
       "  </tbody>\n",
       "</table>\n",
       "</div>"
      ],
      "text/plain": [
       "  정반명  가능중량       사이즈   면적  중량순서  크기순서  우선순위\n",
       "0   A   100  (20, 10)  200   1.5   1.0   0.5\n",
       "1   B   100  (10, 10)  100   1.5   2.0   0.7\n",
       "2   C    30   (10, 5)   50   3.0   3.0   1.2"
      ]
     },
     "execution_count": 16,
     "metadata": {},
     "output_type": "execute_result"
    }
   ],
   "source": [
    "df2 = 정반데이터전처리(정반원데이터)\n",
    "df2"
   ]
  },
  {
   "cell_type": "code",
   "execution_count": 17,
   "id": "9b59b991",
   "metadata": {},
   "outputs": [
    {
     "name": "stdout",
     "output_type": "stream",
     "text": [
      "  정반명  우선순위\n",
      "0   A   0.5\n",
      "1   B   0.5\n",
      "2   C   0.9\n",
      "  정반명  우선순위\n",
      "0   A   1.0\n",
      "1   B   2.0\n",
      "2   C   3.0\n"
     ]
    }
   ],
   "source": [
    "중량가중치들 = [0.9, 0.01]\n",
    "크기가중치들 = [0.01, 3]\n",
    "\n",
    "for 중량가중치, 크기가중치 in zip(중량가중치들, 크기가중치들):\n",
    "    df2 = 정반데이터전처리(정반원데이터)\n",
    "    print(df2[[\"정반명\", \"우선순위\"]])"
   ]
  },
  {
   "cell_type": "markdown",
   "id": "7cddb3ce",
   "metadata": {},
   "source": [
    "# 변수정리함수"
   ]
  },
  {
   "cell_type": "code",
   "execution_count": 18,
   "id": "9dfa03a2",
   "metadata": {},
   "outputs": [],
   "source": [
    "def 블록변수정리(블록데이터, target_block):\n",
    "    블록 = dict()\n",
    "    블록[\"블록명\"] = target_block\n",
    "    블록[\"인덱스\"] =  블록데이터[블록데이터[\"블록명\"]==target_block].index.values[0]\n",
    "    블록[\"중량\"] = 블록데이터[블록데이터[\"블록명\"]==target_block][\"중량\"].values[0]\n",
    "    블록[\"사이즈\"] = 블록데이터[블록데이터[\"블록명\"]==target_block][\"사이즈\"].values[0]\n",
    "    블록[\"면적\"] = 블록데이터[블록데이터[\"블록명\"]==target_block][\"면적\"].values[0]\n",
    "    블록[\"표준공기\"] = 블록데이터[블록데이터[\"블록명\"]==target_block][\"표준공기\"].values[0]\n",
    "    블록[\"최소착수요구일\"] = 블록데이터[블록데이터[\"블록명\"]==target_block][\"최소착수요구일\"].values[0]\n",
    "    return 블록"
   ]
  },
  {
   "cell_type": "code",
   "execution_count": 19,
   "id": "d5e8bfb7",
   "metadata": {},
   "outputs": [
    {
     "data": {
      "text/plain": [
       "{'블록명': 'S1',\n",
       " '인덱스': 0,\n",
       " '중량': 50,\n",
       " '사이즈': (10, 10),\n",
       " '면적': 100,\n",
       " '표준공기': 2,\n",
       " '최소착수요구일': datetime.date(2024, 2, 13)}"
      ]
     },
     "execution_count": 19,
     "metadata": {},
     "output_type": "execute_result"
    }
   ],
   "source": [
    "블록변수정리(df1, \"S1\")"
   ]
  },
  {
   "cell_type": "code",
   "execution_count": 20,
   "id": "fc35acd5",
   "metadata": {},
   "outputs": [],
   "source": [
    "def 정반변수정리(정반데이터, 정반명):\n",
    "    정반 = dict()\n",
    "    정반[\"정반명\"] = 정반명\n",
    "    정반[\"가능중량\"] = 정반데이터[정반데이터[\"정반명\"]==정반명][\"가능중량\"].values[0]\n",
    "    정반[\"사이즈\"] = 정반데이터[정반데이터[\"정반명\"]==정반명][\"사이즈\"].values[0]\n",
    "    정반[\"면적\"] = 정반데이터[정반데이터[\"정반명\"]==정반명][\"면적\"].values[0]\n",
    "    \n",
    "    return 정반"
   ]
  },
  {
   "cell_type": "code",
   "execution_count": 21,
   "id": "d34599db",
   "metadata": {},
   "outputs": [
    {
     "data": {
      "text/plain": [
       "{'정반명': 'A', '가능중량': 100, '사이즈': (20, 10), '면적': 200}"
      ]
     },
     "execution_count": 21,
     "metadata": {},
     "output_type": "execute_result"
    }
   ],
   "source": [
    "A = 정반변수정리(df2, \"A\")\n",
    "A"
   ]
  },
  {
   "cell_type": "markdown",
   "id": "fe0f8e07",
   "metadata": {},
   "source": [
    "# 정반가능중량 조건 적합도 검토"
   ]
  },
  {
   "cell_type": "code",
   "execution_count": 22,
   "id": "dcce5421",
   "metadata": {},
   "outputs": [],
   "source": [
    "def 정반가능중량검토(target_block, 블록데이터, 정반, 정반데이터):\n",
    "    블록중량 = 블록데이터[블록데이터[\"블록명\"]==target_block][\"중량\"].values[0]\n",
    "    정반가능중량 = 정반데이터[정반데이터[\"정반명\"]==정반][\"가능중량\"].values[0]\n",
    "    \n",
    "    if 정반가능중량 > 블록중량: \n",
    "        return \"적합\"\n",
    "    else:\n",
    "        return \"부적합\""
   ]
  },
  {
   "cell_type": "code",
   "execution_count": 23,
   "id": "d4c19bac",
   "metadata": {},
   "outputs": [
    {
     "data": {
      "text/plain": [
       "'적합'"
      ]
     },
     "execution_count": 23,
     "metadata": {},
     "output_type": "execute_result"
    }
   ],
   "source": [
    "정반가능중량검토(\"S1\", df1, \"A\", df2)"
   ]
  },
  {
   "cell_type": "markdown",
   "id": "e7bd96f6",
   "metadata": {},
   "source": [
    "# 면적 달력"
   ]
  },
  {
   "cell_type": "code",
   "execution_count": 24,
   "id": "31aa1ade",
   "metadata": {},
   "outputs": [],
   "source": [
    "def get_end_date_of_month(year, month):\n",
    "    # Get the number of days in the given month\n",
    "    num_days = calendar.monthrange(year, month)[1]\n",
    "    # Return the last day of the month as a datetime object\n",
    "    return date(year, month, num_days)"
   ]
  },
  {
   "cell_type": "code",
   "execution_count": 25,
   "id": "f1840920",
   "metadata": {},
   "outputs": [],
   "source": [
    "def create_면적달력(시작년:int, 시작월:int, 종료년:int, 종료월:int, 정반데이터):\n",
    "    start_date = datetime(시작년, 시작월, 1)\n",
    "    end_date = get_end_date_of_month(종료년, 종료월)\n",
    "    정반집합 = 정반데이터[\"정반명\"].tolist()\n",
    "    날짜집합  = pd.date_range(start=start_date, end=end_date, freq='D')\n",
    "    \n",
    "    면적달력 = pd.DataFrame()\n",
    "    면적달력.index = 날짜집합\n",
    "   \n",
    "    for 정반 in 정반집합:\n",
    "        면적달력[f\"{정반}\"] = 정반데이터[정반데이터[\"정반명\"]==정반][\"면적\"].values[0]\n",
    "\n",
    "    return 면적달력"
   ]
  },
  {
   "cell_type": "code",
   "execution_count": 26,
   "id": "3d43b85b",
   "metadata": {
    "scrolled": true
   },
   "outputs": [
    {
     "data": {
      "text/html": [
       "<div>\n",
       "<style scoped>\n",
       "    .dataframe tbody tr th:only-of-type {\n",
       "        vertical-align: middle;\n",
       "    }\n",
       "\n",
       "    .dataframe tbody tr th {\n",
       "        vertical-align: top;\n",
       "    }\n",
       "\n",
       "    .dataframe thead th {\n",
       "        text-align: right;\n",
       "    }\n",
       "</style>\n",
       "<table border=\"1\" class=\"dataframe\">\n",
       "  <thead>\n",
       "    <tr style=\"text-align: right;\">\n",
       "      <th></th>\n",
       "      <th>A</th>\n",
       "      <th>B</th>\n",
       "      <th>C</th>\n",
       "    </tr>\n",
       "  </thead>\n",
       "  <tbody>\n",
       "    <tr>\n",
       "      <th>2024-02-01</th>\n",
       "      <td>200</td>\n",
       "      <td>100</td>\n",
       "      <td>50</td>\n",
       "    </tr>\n",
       "    <tr>\n",
       "      <th>2024-02-02</th>\n",
       "      <td>200</td>\n",
       "      <td>100</td>\n",
       "      <td>50</td>\n",
       "    </tr>\n",
       "    <tr>\n",
       "      <th>2024-02-03</th>\n",
       "      <td>200</td>\n",
       "      <td>100</td>\n",
       "      <td>50</td>\n",
       "    </tr>\n",
       "    <tr>\n",
       "      <th>2024-02-04</th>\n",
       "      <td>200</td>\n",
       "      <td>100</td>\n",
       "      <td>50</td>\n",
       "    </tr>\n",
       "    <tr>\n",
       "      <th>2024-02-05</th>\n",
       "      <td>200</td>\n",
       "      <td>100</td>\n",
       "      <td>50</td>\n",
       "    </tr>\n",
       "  </tbody>\n",
       "</table>\n",
       "</div>"
      ],
      "text/plain": [
       "              A    B   C\n",
       "2024-02-01  200  100  50\n",
       "2024-02-02  200  100  50\n",
       "2024-02-03  200  100  50\n",
       "2024-02-04  200  100  50\n",
       "2024-02-05  200  100  50"
      ]
     },
     "execution_count": 26,
     "metadata": {},
     "output_type": "execute_result"
    }
   ],
   "source": [
    "면적달력 = create_면적달력(2024, 2, 2024, 2, df2)\n",
    "면적달력.head()"
   ]
  },
  {
   "cell_type": "code",
   "execution_count": 27,
   "id": "c5a701ff",
   "metadata": {},
   "outputs": [],
   "source": [
    "def get_최선조기착수일후보(면적달력, 정반리스트, 대상블록, 블록데이터):\n",
    "    result_dict = dict()\n",
    "    \n",
    "    블록면적 = 블록데이터[블록데이터[\"블록명\"]==대상블록][\"면적\"].values[0]\n",
    "    표준공기 = 블록데이터[블록데이터[\"블록명\"]==대상블록][\"표준공기\"].values[0]\n",
    "    \n",
    "    for 대상정반 in 정반리스트:\n",
    "        대상정반면적리스트 = 면적달력[f\"{대상정반}\"].iloc[:].values\n",
    "        \n",
    "        for i in range(len(대상정반면적리스트)):\n",
    "            조회시점인덱스 = i\n",
    "            조회구간면적리스트 = 대상정반면적리스트[조회시점인덱스:조회시점인덱스+표준공기]\n",
    "            조회기간최소면적 = min(조회구간면적리스트)\n",
    "            \n",
    "            if 조회기간최소면적 >= 블록면적 * 1.05: # 블록크기 5% 가중\n",
    "                최선조기착수일 = 면적달력.index[조회시점인덱스]\n",
    "                result_dict[대상정반] = 최선조기착수일\n",
    "                print(f\">>> 대상정반:{대상정반}, 조회기간최소면적:{조회기간최소면적}, 블록명:{대상블록}, 최선조기착수일: {최선조기착수일}\")  \n",
    "                break\n",
    "        \n",
    "        \n",
    "    return result_dict"
   ]
  },
  {
   "cell_type": "code",
   "execution_count": 28,
   "id": "78018aba",
   "metadata": {
    "scrolled": false
   },
   "outputs": [
    {
     "name": "stdout",
     "output_type": "stream",
     "text": [
      ">>> 대상정반:A, 조회기간최소면적:200, 블록명:S2, 최선조기착수일: 2024-02-01 00:00:00\n"
     ]
    },
    {
     "data": {
      "text/plain": [
       "{'A': Timestamp('2024-02-01 00:00:00', freq='D')}"
      ]
     },
     "execution_count": 28,
     "metadata": {},
     "output_type": "execute_result"
    }
   ],
   "source": [
    "정반리스트 = [\"A\", \"B\"]\n",
    "최선조기착수일후보 = get_최선조기착수일후보(면적달력, 정반리스트, \"S2\", df1)\n",
    "최선조기착수일후보"
   ]
  },
  {
   "cell_type": "code",
   "execution_count": 29,
   "id": "5a3a65a2",
   "metadata": {},
   "outputs": [],
   "source": [
    "def get_최선조기착수대상(최선조기착수일후보, 최소요구착수일):\n",
    "    # 복수의 경우 셔플후 랜덤 선택\n",
    "    temp_list = list(최선조기착수일후보.items())\n",
    "    shuffle(temp_list)\n",
    "    최선조기착수일후보 = dict(temp_list)\n",
    "    \n",
    "    최소요구착수일 = pd.Timestamp(최소요구착수일)\n",
    "    \n",
    "    print(temp_list)\n",
    "    \n",
    "    최소요구납기충족리스트 = []\n",
    "    for 후보날짜 in temp_list:\n",
    "        \n",
    "        if 후보날짜[1] <= 최소요구착수일:\n",
    "            최소요구납기충족리스트.append(후보날짜)\n",
    "            \n",
    "    print()\n",
    "    print(f\">>> 최소요구납기충족리스트: {최소요구납기충족리스트}\")\n",
    "    print()\n",
    "    \n",
    "    if 최소요구납기충족리스트 != []:\n",
    "        최소요구납기충족리스트 = dict(최소요구납기충족리스트)\n",
    "\n",
    "        earliest_item = min(최소요구납기충족리스트.items(), key=lambda x: x[1])\n",
    "        최선정반 = earliest_item[0]\n",
    "        최선착수일 = earliest_item[1].strftime('%Y-%m-%d')\n",
    "        return 최선정반, 최선착수일\n",
    "    \n",
    "    else:\n",
    "        return None, None"
   ]
  },
  {
   "cell_type": "code",
   "execution_count": 30,
   "id": "53612213",
   "metadata": {},
   "outputs": [
    {
     "name": "stdout",
     "output_type": "stream",
     "text": [
      "[('A', Timestamp('2024-02-01 00:00:00', freq='D'))]\n",
      "\n",
      ">>> 최소요구납기충족리스트: [('A', Timestamp('2024-02-01 00:00:00', freq='D'))]\n",
      "\n"
     ]
    },
    {
     "data": {
      "text/plain": [
       "('A', '2024-02-01')"
      ]
     },
     "execution_count": 30,
     "metadata": {},
     "output_type": "execute_result"
    }
   ],
   "source": [
    "최선조기착수대상 = get_최선조기착수대상(최선조기착수일후보, \"2024-02-10\")\n",
    "최선조기착수대상"
   ]
  },
  {
   "cell_type": "code",
   "execution_count": 31,
   "id": "b2bd80f2",
   "metadata": {},
   "outputs": [],
   "source": [
    "def update_면적달력(면적달력, 최선조기착수대상, 배치블록명, 블록데이터):\n",
    "    \n",
    "    정반리스트 = 면적달력.columns.tolist()\n",
    "    블록면적 = 블록데이터[블록데이터[\"블록명\"]==배치블록명][\"면적\"].values[0]\n",
    "    표준공기 = 블록데이터[블록데이터[\"블록명\"]==배치블록명][\"표준공기\"].values[0]\n",
    "    블록착수일 = 최선조기착수대상[1]\n",
    "    시점인덱스 = list(면적달력.index.strftime('%Y-%m-%d')).index(블록착수일)\n",
    "    정반 = 최선조기착수대상[0]\n",
    "        \n",
    "\n",
    "    조회기간면적리스트 = 면적달력[f\"{정반}\"].iloc[시점인덱스:시점인덱스+표준공기].values\n",
    "\n",
    "    if min(조회기간면적리스트) >= 블록면적:\n",
    "        for idx, 대상일면적 in enumerate(조회기간면적리스트):\n",
    "            수정면적 = 대상일면적 - 블록면적\n",
    "            대상일인덱스 = 시점인덱스 + idx\n",
    "            면적달력[f\"{정반}\"].iloc[대상일인덱스:대상일인덱스+1] = 수정면적\n",
    "            \n",
    "        return 면적달력"
   ]
  },
  {
   "cell_type": "code",
   "execution_count": 32,
   "id": "1a26804b",
   "metadata": {},
   "outputs": [
    {
     "data": {
      "text/html": [
       "<div>\n",
       "<style scoped>\n",
       "    .dataframe tbody tr th:only-of-type {\n",
       "        vertical-align: middle;\n",
       "    }\n",
       "\n",
       "    .dataframe tbody tr th {\n",
       "        vertical-align: top;\n",
       "    }\n",
       "\n",
       "    .dataframe thead th {\n",
       "        text-align: right;\n",
       "    }\n",
       "</style>\n",
       "<table border=\"1\" class=\"dataframe\">\n",
       "  <thead>\n",
       "    <tr style=\"text-align: right;\">\n",
       "      <th></th>\n",
       "      <th>A</th>\n",
       "      <th>B</th>\n",
       "      <th>C</th>\n",
       "    </tr>\n",
       "  </thead>\n",
       "  <tbody>\n",
       "    <tr>\n",
       "      <th>2024-02-01</th>\n",
       "      <td>100</td>\n",
       "      <td>100</td>\n",
       "      <td>50</td>\n",
       "    </tr>\n",
       "    <tr>\n",
       "      <th>2024-02-02</th>\n",
       "      <td>100</td>\n",
       "      <td>100</td>\n",
       "      <td>50</td>\n",
       "    </tr>\n",
       "    <tr>\n",
       "      <th>2024-02-03</th>\n",
       "      <td>200</td>\n",
       "      <td>100</td>\n",
       "      <td>50</td>\n",
       "    </tr>\n",
       "    <tr>\n",
       "      <th>2024-02-04</th>\n",
       "      <td>200</td>\n",
       "      <td>100</td>\n",
       "      <td>50</td>\n",
       "    </tr>\n",
       "    <tr>\n",
       "      <th>2024-02-05</th>\n",
       "      <td>200</td>\n",
       "      <td>100</td>\n",
       "      <td>50</td>\n",
       "    </tr>\n",
       "    <tr>\n",
       "      <th>2024-02-06</th>\n",
       "      <td>200</td>\n",
       "      <td>100</td>\n",
       "      <td>50</td>\n",
       "    </tr>\n",
       "    <tr>\n",
       "      <th>2024-02-07</th>\n",
       "      <td>200</td>\n",
       "      <td>100</td>\n",
       "      <td>50</td>\n",
       "    </tr>\n",
       "    <tr>\n",
       "      <th>2024-02-08</th>\n",
       "      <td>200</td>\n",
       "      <td>100</td>\n",
       "      <td>50</td>\n",
       "    </tr>\n",
       "    <tr>\n",
       "      <th>2024-02-09</th>\n",
       "      <td>200</td>\n",
       "      <td>100</td>\n",
       "      <td>50</td>\n",
       "    </tr>\n",
       "    <tr>\n",
       "      <th>2024-02-10</th>\n",
       "      <td>200</td>\n",
       "      <td>100</td>\n",
       "      <td>50</td>\n",
       "    </tr>\n",
       "  </tbody>\n",
       "</table>\n",
       "</div>"
      ],
      "text/plain": [
       "              A    B   C\n",
       "2024-02-01  100  100  50\n",
       "2024-02-02  100  100  50\n",
       "2024-02-03  200  100  50\n",
       "2024-02-04  200  100  50\n",
       "2024-02-05  200  100  50\n",
       "2024-02-06  200  100  50\n",
       "2024-02-07  200  100  50\n",
       "2024-02-08  200  100  50\n",
       "2024-02-09  200  100  50\n",
       "2024-02-10  200  100  50"
      ]
     },
     "execution_count": 32,
     "metadata": {},
     "output_type": "execute_result"
    }
   ],
   "source": [
    "면적달력 = update_면적달력(면적달력, 최선조기착수대상, \"S1\", df1)\n",
    "면적달력.head(10)"
   ]
  },
  {
   "cell_type": "markdown",
   "id": "59fead66",
   "metadata": {},
   "source": [
    "# 블록명 달력"
   ]
  },
  {
   "cell_type": "code",
   "execution_count": 33,
   "id": "c3af6433",
   "metadata": {},
   "outputs": [],
   "source": [
    "def create_블록명달력(시작년:int, 시작월:int, 종료년:int, 종료월:int, 정반데이터):\n",
    "    start_date = datetime(시작년, 시작월, 1)\n",
    "    end_date = get_end_date_of_month(종료년, 종료월)\n",
    "    정반집합 = 정반데이터[\"정반명\"].tolist()\n",
    "    날짜집합  = pd.date_range(start=start_date, end=end_date, freq='D')\n",
    "    \n",
    "    달력 = pd.DataFrame()\n",
    "    달력.index = 날짜집합\n",
    "    \n",
    "    for 정반 in 정반집합:\n",
    "        달력[정반] = [[] for _ in range(len(날짜집합))]\n",
    "        \n",
    "    return 달력"
   ]
  },
  {
   "cell_type": "code",
   "execution_count": 34,
   "id": "a02a2442",
   "metadata": {
    "scrolled": true
   },
   "outputs": [
    {
     "data": {
      "text/html": [
       "<div>\n",
       "<style scoped>\n",
       "    .dataframe tbody tr th:only-of-type {\n",
       "        vertical-align: middle;\n",
       "    }\n",
       "\n",
       "    .dataframe tbody tr th {\n",
       "        vertical-align: top;\n",
       "    }\n",
       "\n",
       "    .dataframe thead th {\n",
       "        text-align: right;\n",
       "    }\n",
       "</style>\n",
       "<table border=\"1\" class=\"dataframe\">\n",
       "  <thead>\n",
       "    <tr style=\"text-align: right;\">\n",
       "      <th></th>\n",
       "      <th>A</th>\n",
       "      <th>B</th>\n",
       "      <th>C</th>\n",
       "    </tr>\n",
       "  </thead>\n",
       "  <tbody>\n",
       "    <tr>\n",
       "      <th>2024-02-01</th>\n",
       "      <td>[]</td>\n",
       "      <td>[]</td>\n",
       "      <td>[]</td>\n",
       "    </tr>\n",
       "    <tr>\n",
       "      <th>2024-02-02</th>\n",
       "      <td>[]</td>\n",
       "      <td>[]</td>\n",
       "      <td>[]</td>\n",
       "    </tr>\n",
       "    <tr>\n",
       "      <th>2024-02-03</th>\n",
       "      <td>[]</td>\n",
       "      <td>[]</td>\n",
       "      <td>[]</td>\n",
       "    </tr>\n",
       "    <tr>\n",
       "      <th>2024-02-04</th>\n",
       "      <td>[]</td>\n",
       "      <td>[]</td>\n",
       "      <td>[]</td>\n",
       "    </tr>\n",
       "    <tr>\n",
       "      <th>2024-02-05</th>\n",
       "      <td>[]</td>\n",
       "      <td>[]</td>\n",
       "      <td>[]</td>\n",
       "    </tr>\n",
       "  </tbody>\n",
       "</table>\n",
       "</div>"
      ],
      "text/plain": [
       "             A   B   C\n",
       "2024-02-01  []  []  []\n",
       "2024-02-02  []  []  []\n",
       "2024-02-03  []  []  []\n",
       "2024-02-04  []  []  []\n",
       "2024-02-05  []  []  []"
      ]
     },
     "execution_count": 34,
     "metadata": {},
     "output_type": "execute_result"
    }
   ],
   "source": [
    "블록명달력 = create_블록명달력(2024, 2, 2024, 2, df2)\n",
    "블록명달력.head()"
   ]
  },
  {
   "cell_type": "code",
   "execution_count": 35,
   "id": "8b8f5c9d",
   "metadata": {},
   "outputs": [],
   "source": [
    "def update_블록명달력(블록명달력, 최선정반, 블록데이터, block_names, best_st_date):\n",
    "    \n",
    "    달력 = 블록명달력\n",
    "    날짜집합 = 블록명달력.index.tolist()\n",
    "    결과모음 = [[] for _ in range(len(날짜집합))]\n",
    "\n",
    "    for block_name, 블록착수일 in zip(block_names, best_st_date):\n",
    "\n",
    "        시점인덱스 = list(달력.index.strftime('%Y-%m-%d')).index(블록착수일)\n",
    "        표준공기 = 블록데이터[블록데이터[\"블록명\"]==block_name][\"표준공기\"].values[0]\n",
    "\n",
    "        for i in 결과모음[시점인덱스:시점인덱스+표준공기]:\n",
    "            i.append(block_name)\n",
    "            \n",
    "    달력[f\"{최선정반}\"] = 결과모음\n",
    "\n",
    "    return 달력"
   ]
  },
  {
   "cell_type": "code",
   "execution_count": 36,
   "id": "2c41e022",
   "metadata": {
    "scrolled": true
   },
   "outputs": [
    {
     "data": {
      "text/html": [
       "<div>\n",
       "<style scoped>\n",
       "    .dataframe tbody tr th:only-of-type {\n",
       "        vertical-align: middle;\n",
       "    }\n",
       "\n",
       "    .dataframe tbody tr th {\n",
       "        vertical-align: top;\n",
       "    }\n",
       "\n",
       "    .dataframe thead th {\n",
       "        text-align: right;\n",
       "    }\n",
       "</style>\n",
       "<table border=\"1\" class=\"dataframe\">\n",
       "  <thead>\n",
       "    <tr style=\"text-align: right;\">\n",
       "      <th></th>\n",
       "      <th>A</th>\n",
       "      <th>B</th>\n",
       "      <th>C</th>\n",
       "    </tr>\n",
       "  </thead>\n",
       "  <tbody>\n",
       "    <tr>\n",
       "      <th>2024-02-01</th>\n",
       "      <td>[S1]</td>\n",
       "      <td>[]</td>\n",
       "      <td>[]</td>\n",
       "    </tr>\n",
       "    <tr>\n",
       "      <th>2024-02-02</th>\n",
       "      <td>[S1]</td>\n",
       "      <td>[]</td>\n",
       "      <td>[]</td>\n",
       "    </tr>\n",
       "    <tr>\n",
       "      <th>2024-02-03</th>\n",
       "      <td>[]</td>\n",
       "      <td>[]</td>\n",
       "      <td>[]</td>\n",
       "    </tr>\n",
       "    <tr>\n",
       "      <th>2024-02-04</th>\n",
       "      <td>[]</td>\n",
       "      <td>[]</td>\n",
       "      <td>[]</td>\n",
       "    </tr>\n",
       "    <tr>\n",
       "      <th>2024-02-05</th>\n",
       "      <td>[]</td>\n",
       "      <td>[]</td>\n",
       "      <td>[]</td>\n",
       "    </tr>\n",
       "  </tbody>\n",
       "</table>\n",
       "</div>"
      ],
      "text/plain": [
       "               A   B   C\n",
       "2024-02-01  [S1]  []  []\n",
       "2024-02-02  [S1]  []  []\n",
       "2024-02-03    []  []  []\n",
       "2024-02-04    []  []  []\n",
       "2024-02-05    []  []  []"
      ]
     },
     "execution_count": 36,
     "metadata": {},
     "output_type": "execute_result"
    }
   ],
   "source": [
    "block_names = [\"S1\"]\n",
    "block_sizes = [(2, 5)]\n",
    "best_st_date = [\"2024-02-01\"]\n",
    "블록명달력 = update_블록명달력(블록명달력, \"A\", df1, block_names, best_st_date)\n",
    "블록명달력.head()"
   ]
  },
  {
   "cell_type": "code",
   "execution_count": 37,
   "id": "0d863aba",
   "metadata": {},
   "outputs": [
    {
     "data": {
      "text/html": [
       "<div>\n",
       "<style scoped>\n",
       "    .dataframe tbody tr th:only-of-type {\n",
       "        vertical-align: middle;\n",
       "    }\n",
       "\n",
       "    .dataframe tbody tr th {\n",
       "        vertical-align: top;\n",
       "    }\n",
       "\n",
       "    .dataframe thead th {\n",
       "        text-align: right;\n",
       "    }\n",
       "</style>\n",
       "<table border=\"1\" class=\"dataframe\">\n",
       "  <thead>\n",
       "    <tr style=\"text-align: right;\">\n",
       "      <th></th>\n",
       "      <th>A</th>\n",
       "      <th>B</th>\n",
       "      <th>C</th>\n",
       "    </tr>\n",
       "  </thead>\n",
       "  <tbody>\n",
       "    <tr>\n",
       "      <th>2024-02-01</th>\n",
       "      <td>[S1]</td>\n",
       "      <td>[]</td>\n",
       "      <td>[]</td>\n",
       "    </tr>\n",
       "    <tr>\n",
       "      <th>2024-02-02</th>\n",
       "      <td>[S1, S2]</td>\n",
       "      <td>[]</td>\n",
       "      <td>[]</td>\n",
       "    </tr>\n",
       "    <tr>\n",
       "      <th>2024-02-03</th>\n",
       "      <td>[S2]</td>\n",
       "      <td>[]</td>\n",
       "      <td>[]</td>\n",
       "    </tr>\n",
       "    <tr>\n",
       "      <th>2024-02-04</th>\n",
       "      <td>[S2]</td>\n",
       "      <td>[]</td>\n",
       "      <td>[]</td>\n",
       "    </tr>\n",
       "    <tr>\n",
       "      <th>2024-02-05</th>\n",
       "      <td>[]</td>\n",
       "      <td>[]</td>\n",
       "      <td>[]</td>\n",
       "    </tr>\n",
       "  </tbody>\n",
       "</table>\n",
       "</div>"
      ],
      "text/plain": [
       "                   A   B   C\n",
       "2024-02-01      [S1]  []  []\n",
       "2024-02-02  [S1, S2]  []  []\n",
       "2024-02-03      [S2]  []  []\n",
       "2024-02-04      [S2]  []  []\n",
       "2024-02-05        []  []  []"
      ]
     },
     "execution_count": 37,
     "metadata": {},
     "output_type": "execute_result"
    }
   ],
   "source": [
    "block_names = [\"S1\", \"S2\"]\n",
    "block_sizes = [(2, 5), (3, 4)]\n",
    "best_st_date = [\"2024-02-01\", \"2024-02-02\"]\n",
    "블록명달력 = update_블록명달력(블록명달력, \"A\", df1, block_names, best_st_date)\n",
    "블록명달력.head()"
   ]
  },
  {
   "cell_type": "markdown",
   "id": "8363c84d",
   "metadata": {},
   "source": [
    "# 사이즈 달력"
   ]
  },
  {
   "cell_type": "code",
   "execution_count": 38,
   "id": "434586cf",
   "metadata": {},
   "outputs": [],
   "source": [
    "def create_사이즈달력(시작년:int, 시작월:int, 종료년:int, 종료월:int, 정반데이터):\n",
    "    start_date = datetime(시작년, 시작월, 1)\n",
    "    end_date = get_end_date_of_month(종료년, 종료월)\n",
    "    정반집합 = 정반데이터[\"정반명\"].tolist()\n",
    "    날짜집합  = pd.date_range(start=start_date, end=end_date, freq='D')\n",
    "    \n",
    "    달력 = pd.DataFrame()\n",
    "    달력.index = 날짜집합\n",
    "    \n",
    "    for 정반 in 정반집합:\n",
    "        달력[정반] = [[] for _ in range(len(날짜집합))]\n",
    "        \n",
    "    return 달력"
   ]
  },
  {
   "cell_type": "code",
   "execution_count": 39,
   "id": "a4382995",
   "metadata": {
    "scrolled": true
   },
   "outputs": [
    {
     "data": {
      "text/html": [
       "<div>\n",
       "<style scoped>\n",
       "    .dataframe tbody tr th:only-of-type {\n",
       "        vertical-align: middle;\n",
       "    }\n",
       "\n",
       "    .dataframe tbody tr th {\n",
       "        vertical-align: top;\n",
       "    }\n",
       "\n",
       "    .dataframe thead th {\n",
       "        text-align: right;\n",
       "    }\n",
       "</style>\n",
       "<table border=\"1\" class=\"dataframe\">\n",
       "  <thead>\n",
       "    <tr style=\"text-align: right;\">\n",
       "      <th></th>\n",
       "      <th>A</th>\n",
       "      <th>B</th>\n",
       "      <th>C</th>\n",
       "    </tr>\n",
       "  </thead>\n",
       "  <tbody>\n",
       "    <tr>\n",
       "      <th>2024-02-01</th>\n",
       "      <td>[]</td>\n",
       "      <td>[]</td>\n",
       "      <td>[]</td>\n",
       "    </tr>\n",
       "    <tr>\n",
       "      <th>2024-02-02</th>\n",
       "      <td>[]</td>\n",
       "      <td>[]</td>\n",
       "      <td>[]</td>\n",
       "    </tr>\n",
       "    <tr>\n",
       "      <th>2024-02-03</th>\n",
       "      <td>[]</td>\n",
       "      <td>[]</td>\n",
       "      <td>[]</td>\n",
       "    </tr>\n",
       "    <tr>\n",
       "      <th>2024-02-04</th>\n",
       "      <td>[]</td>\n",
       "      <td>[]</td>\n",
       "      <td>[]</td>\n",
       "    </tr>\n",
       "    <tr>\n",
       "      <th>2024-02-05</th>\n",
       "      <td>[]</td>\n",
       "      <td>[]</td>\n",
       "      <td>[]</td>\n",
       "    </tr>\n",
       "    <tr>\n",
       "      <th>2024-02-06</th>\n",
       "      <td>[]</td>\n",
       "      <td>[]</td>\n",
       "      <td>[]</td>\n",
       "    </tr>\n",
       "    <tr>\n",
       "      <th>2024-02-07</th>\n",
       "      <td>[]</td>\n",
       "      <td>[]</td>\n",
       "      <td>[]</td>\n",
       "    </tr>\n",
       "    <tr>\n",
       "      <th>2024-02-08</th>\n",
       "      <td>[]</td>\n",
       "      <td>[]</td>\n",
       "      <td>[]</td>\n",
       "    </tr>\n",
       "    <tr>\n",
       "      <th>2024-02-09</th>\n",
       "      <td>[]</td>\n",
       "      <td>[]</td>\n",
       "      <td>[]</td>\n",
       "    </tr>\n",
       "    <tr>\n",
       "      <th>2024-02-10</th>\n",
       "      <td>[]</td>\n",
       "      <td>[]</td>\n",
       "      <td>[]</td>\n",
       "    </tr>\n",
       "    <tr>\n",
       "      <th>2024-02-11</th>\n",
       "      <td>[]</td>\n",
       "      <td>[]</td>\n",
       "      <td>[]</td>\n",
       "    </tr>\n",
       "    <tr>\n",
       "      <th>2024-02-12</th>\n",
       "      <td>[]</td>\n",
       "      <td>[]</td>\n",
       "      <td>[]</td>\n",
       "    </tr>\n",
       "    <tr>\n",
       "      <th>2024-02-13</th>\n",
       "      <td>[]</td>\n",
       "      <td>[]</td>\n",
       "      <td>[]</td>\n",
       "    </tr>\n",
       "    <tr>\n",
       "      <th>2024-02-14</th>\n",
       "      <td>[]</td>\n",
       "      <td>[]</td>\n",
       "      <td>[]</td>\n",
       "    </tr>\n",
       "    <tr>\n",
       "      <th>2024-02-15</th>\n",
       "      <td>[]</td>\n",
       "      <td>[]</td>\n",
       "      <td>[]</td>\n",
       "    </tr>\n",
       "    <tr>\n",
       "      <th>2024-02-16</th>\n",
       "      <td>[]</td>\n",
       "      <td>[]</td>\n",
       "      <td>[]</td>\n",
       "    </tr>\n",
       "    <tr>\n",
       "      <th>2024-02-17</th>\n",
       "      <td>[]</td>\n",
       "      <td>[]</td>\n",
       "      <td>[]</td>\n",
       "    </tr>\n",
       "    <tr>\n",
       "      <th>2024-02-18</th>\n",
       "      <td>[]</td>\n",
       "      <td>[]</td>\n",
       "      <td>[]</td>\n",
       "    </tr>\n",
       "    <tr>\n",
       "      <th>2024-02-19</th>\n",
       "      <td>[]</td>\n",
       "      <td>[]</td>\n",
       "      <td>[]</td>\n",
       "    </tr>\n",
       "    <tr>\n",
       "      <th>2024-02-20</th>\n",
       "      <td>[]</td>\n",
       "      <td>[]</td>\n",
       "      <td>[]</td>\n",
       "    </tr>\n",
       "    <tr>\n",
       "      <th>2024-02-21</th>\n",
       "      <td>[]</td>\n",
       "      <td>[]</td>\n",
       "      <td>[]</td>\n",
       "    </tr>\n",
       "    <tr>\n",
       "      <th>2024-02-22</th>\n",
       "      <td>[]</td>\n",
       "      <td>[]</td>\n",
       "      <td>[]</td>\n",
       "    </tr>\n",
       "    <tr>\n",
       "      <th>2024-02-23</th>\n",
       "      <td>[]</td>\n",
       "      <td>[]</td>\n",
       "      <td>[]</td>\n",
       "    </tr>\n",
       "    <tr>\n",
       "      <th>2024-02-24</th>\n",
       "      <td>[]</td>\n",
       "      <td>[]</td>\n",
       "      <td>[]</td>\n",
       "    </tr>\n",
       "    <tr>\n",
       "      <th>2024-02-25</th>\n",
       "      <td>[]</td>\n",
       "      <td>[]</td>\n",
       "      <td>[]</td>\n",
       "    </tr>\n",
       "    <tr>\n",
       "      <th>2024-02-26</th>\n",
       "      <td>[]</td>\n",
       "      <td>[]</td>\n",
       "      <td>[]</td>\n",
       "    </tr>\n",
       "    <tr>\n",
       "      <th>2024-02-27</th>\n",
       "      <td>[]</td>\n",
       "      <td>[]</td>\n",
       "      <td>[]</td>\n",
       "    </tr>\n",
       "    <tr>\n",
       "      <th>2024-02-28</th>\n",
       "      <td>[]</td>\n",
       "      <td>[]</td>\n",
       "      <td>[]</td>\n",
       "    </tr>\n",
       "    <tr>\n",
       "      <th>2024-02-29</th>\n",
       "      <td>[]</td>\n",
       "      <td>[]</td>\n",
       "      <td>[]</td>\n",
       "    </tr>\n",
       "  </tbody>\n",
       "</table>\n",
       "</div>"
      ],
      "text/plain": [
       "             A   B   C\n",
       "2024-02-01  []  []  []\n",
       "2024-02-02  []  []  []\n",
       "2024-02-03  []  []  []\n",
       "2024-02-04  []  []  []\n",
       "2024-02-05  []  []  []\n",
       "2024-02-06  []  []  []\n",
       "2024-02-07  []  []  []\n",
       "2024-02-08  []  []  []\n",
       "2024-02-09  []  []  []\n",
       "2024-02-10  []  []  []\n",
       "2024-02-11  []  []  []\n",
       "2024-02-12  []  []  []\n",
       "2024-02-13  []  []  []\n",
       "2024-02-14  []  []  []\n",
       "2024-02-15  []  []  []\n",
       "2024-02-16  []  []  []\n",
       "2024-02-17  []  []  []\n",
       "2024-02-18  []  []  []\n",
       "2024-02-19  []  []  []\n",
       "2024-02-20  []  []  []\n",
       "2024-02-21  []  []  []\n",
       "2024-02-22  []  []  []\n",
       "2024-02-23  []  []  []\n",
       "2024-02-24  []  []  []\n",
       "2024-02-25  []  []  []\n",
       "2024-02-26  []  []  []\n",
       "2024-02-27  []  []  []\n",
       "2024-02-28  []  []  []\n",
       "2024-02-29  []  []  []"
      ]
     },
     "execution_count": 39,
     "metadata": {},
     "output_type": "execute_result"
    }
   ],
   "source": [
    "사이즈달력 = create_사이즈달력(2024, 2, 2024, 2, df2)\n",
    "사이즈달력"
   ]
  },
  {
   "cell_type": "code",
   "execution_count": 40,
   "id": "6c7263a5",
   "metadata": {},
   "outputs": [],
   "source": [
    "def update_사이즈달력(사이즈달력, 최선정반, 블록데이터, block_names, block_sizes, best_st_date):\n",
    "    \n",
    "    달력 = 사이즈달력\n",
    "    날짜집합 = 달력.index.tolist()\n",
    "    결과모음 = [[] for _ in range(len(날짜집합))]\n",
    "        \n",
    "    for i in range(len(block_names)):\n",
    "        블록명 = block_names[i]\n",
    "        블록사이즈 = block_sizes[i]\n",
    "        블록착수일 = best_st_date[i]\n",
    "        \n",
    "        표준공기 = 블록데이터[블록데이터[\"블록명\"]==블록명][\"표준공기\"].values[0]\n",
    "        시점인덱스 = list(달력.index.strftime('%Y-%m-%d')).index(블록착수일)\n",
    "        \n",
    "        for i in 결과모음[시점인덱스:시점인덱스+표준공기]:\n",
    "            i.append(블록사이즈)\n",
    "            \n",
    "    달력[f\"{최선정반}\"] = 결과모음\n",
    "\n",
    "    return 달력\n"
   ]
  },
  {
   "cell_type": "code",
   "execution_count": 41,
   "id": "a725efeb",
   "metadata": {
    "scrolled": true
   },
   "outputs": [
    {
     "data": {
      "text/html": [
       "<div>\n",
       "<style scoped>\n",
       "    .dataframe tbody tr th:only-of-type {\n",
       "        vertical-align: middle;\n",
       "    }\n",
       "\n",
       "    .dataframe tbody tr th {\n",
       "        vertical-align: top;\n",
       "    }\n",
       "\n",
       "    .dataframe thead th {\n",
       "        text-align: right;\n",
       "    }\n",
       "</style>\n",
       "<table border=\"1\" class=\"dataframe\">\n",
       "  <thead>\n",
       "    <tr style=\"text-align: right;\">\n",
       "      <th></th>\n",
       "      <th>A</th>\n",
       "      <th>B</th>\n",
       "      <th>C</th>\n",
       "    </tr>\n",
       "  </thead>\n",
       "  <tbody>\n",
       "    <tr>\n",
       "      <th>2024-02-01</th>\n",
       "      <td>[]</td>\n",
       "      <td>[(2, 5)]</td>\n",
       "      <td>[]</td>\n",
       "    </tr>\n",
       "    <tr>\n",
       "      <th>2024-02-02</th>\n",
       "      <td>[]</td>\n",
       "      <td>[(2, 5)]</td>\n",
       "      <td>[]</td>\n",
       "    </tr>\n",
       "    <tr>\n",
       "      <th>2024-02-03</th>\n",
       "      <td>[]</td>\n",
       "      <td>[(3, 4)]</td>\n",
       "      <td>[]</td>\n",
       "    </tr>\n",
       "    <tr>\n",
       "      <th>2024-02-04</th>\n",
       "      <td>[]</td>\n",
       "      <td>[(3, 4)]</td>\n",
       "      <td>[]</td>\n",
       "    </tr>\n",
       "    <tr>\n",
       "      <th>2024-02-05</th>\n",
       "      <td>[]</td>\n",
       "      <td>[(3, 4)]</td>\n",
       "      <td>[]</td>\n",
       "    </tr>\n",
       "    <tr>\n",
       "      <th>2024-02-06</th>\n",
       "      <td>[]</td>\n",
       "      <td>[(2, 5)]</td>\n",
       "      <td>[]</td>\n",
       "    </tr>\n",
       "    <tr>\n",
       "      <th>2024-02-07</th>\n",
       "      <td>[]</td>\n",
       "      <td>[]</td>\n",
       "      <td>[]</td>\n",
       "    </tr>\n",
       "    <tr>\n",
       "      <th>2024-02-08</th>\n",
       "      <td>[]</td>\n",
       "      <td>[]</td>\n",
       "      <td>[]</td>\n",
       "    </tr>\n",
       "    <tr>\n",
       "      <th>2024-02-09</th>\n",
       "      <td>[]</td>\n",
       "      <td>[]</td>\n",
       "      <td>[]</td>\n",
       "    </tr>\n",
       "    <tr>\n",
       "      <th>2024-02-10</th>\n",
       "      <td>[]</td>\n",
       "      <td>[]</td>\n",
       "      <td>[]</td>\n",
       "    </tr>\n",
       "    <tr>\n",
       "      <th>2024-02-11</th>\n",
       "      <td>[]</td>\n",
       "      <td>[]</td>\n",
       "      <td>[]</td>\n",
       "    </tr>\n",
       "    <tr>\n",
       "      <th>2024-02-12</th>\n",
       "      <td>[]</td>\n",
       "      <td>[]</td>\n",
       "      <td>[]</td>\n",
       "    </tr>\n",
       "    <tr>\n",
       "      <th>2024-02-13</th>\n",
       "      <td>[]</td>\n",
       "      <td>[]</td>\n",
       "      <td>[]</td>\n",
       "    </tr>\n",
       "    <tr>\n",
       "      <th>2024-02-14</th>\n",
       "      <td>[]</td>\n",
       "      <td>[]</td>\n",
       "      <td>[]</td>\n",
       "    </tr>\n",
       "    <tr>\n",
       "      <th>2024-02-15</th>\n",
       "      <td>[]</td>\n",
       "      <td>[]</td>\n",
       "      <td>[]</td>\n",
       "    </tr>\n",
       "    <tr>\n",
       "      <th>2024-02-16</th>\n",
       "      <td>[]</td>\n",
       "      <td>[]</td>\n",
       "      <td>[]</td>\n",
       "    </tr>\n",
       "    <tr>\n",
       "      <th>2024-02-17</th>\n",
       "      <td>[]</td>\n",
       "      <td>[]</td>\n",
       "      <td>[]</td>\n",
       "    </tr>\n",
       "    <tr>\n",
       "      <th>2024-02-18</th>\n",
       "      <td>[]</td>\n",
       "      <td>[]</td>\n",
       "      <td>[]</td>\n",
       "    </tr>\n",
       "    <tr>\n",
       "      <th>2024-02-19</th>\n",
       "      <td>[]</td>\n",
       "      <td>[]</td>\n",
       "      <td>[]</td>\n",
       "    </tr>\n",
       "    <tr>\n",
       "      <th>2024-02-20</th>\n",
       "      <td>[]</td>\n",
       "      <td>[]</td>\n",
       "      <td>[]</td>\n",
       "    </tr>\n",
       "    <tr>\n",
       "      <th>2024-02-21</th>\n",
       "      <td>[]</td>\n",
       "      <td>[]</td>\n",
       "      <td>[]</td>\n",
       "    </tr>\n",
       "    <tr>\n",
       "      <th>2024-02-22</th>\n",
       "      <td>[]</td>\n",
       "      <td>[]</td>\n",
       "      <td>[]</td>\n",
       "    </tr>\n",
       "    <tr>\n",
       "      <th>2024-02-23</th>\n",
       "      <td>[]</td>\n",
       "      <td>[]</td>\n",
       "      <td>[]</td>\n",
       "    </tr>\n",
       "    <tr>\n",
       "      <th>2024-02-24</th>\n",
       "      <td>[]</td>\n",
       "      <td>[]</td>\n",
       "      <td>[]</td>\n",
       "    </tr>\n",
       "    <tr>\n",
       "      <th>2024-02-25</th>\n",
       "      <td>[]</td>\n",
       "      <td>[]</td>\n",
       "      <td>[]</td>\n",
       "    </tr>\n",
       "    <tr>\n",
       "      <th>2024-02-26</th>\n",
       "      <td>[]</td>\n",
       "      <td>[]</td>\n",
       "      <td>[]</td>\n",
       "    </tr>\n",
       "    <tr>\n",
       "      <th>2024-02-27</th>\n",
       "      <td>[]</td>\n",
       "      <td>[]</td>\n",
       "      <td>[]</td>\n",
       "    </tr>\n",
       "    <tr>\n",
       "      <th>2024-02-28</th>\n",
       "      <td>[]</td>\n",
       "      <td>[]</td>\n",
       "      <td>[]</td>\n",
       "    </tr>\n",
       "    <tr>\n",
       "      <th>2024-02-29</th>\n",
       "      <td>[]</td>\n",
       "      <td>[]</td>\n",
       "      <td>[]</td>\n",
       "    </tr>\n",
       "  </tbody>\n",
       "</table>\n",
       "</div>"
      ],
      "text/plain": [
       "             A         B   C\n",
       "2024-02-01  []  [(2, 5)]  []\n",
       "2024-02-02  []  [(2, 5)]  []\n",
       "2024-02-03  []  [(3, 4)]  []\n",
       "2024-02-04  []  [(3, 4)]  []\n",
       "2024-02-05  []  [(3, 4)]  []\n",
       "2024-02-06  []  [(2, 5)]  []\n",
       "2024-02-07  []        []  []\n",
       "2024-02-08  []        []  []\n",
       "2024-02-09  []        []  []\n",
       "2024-02-10  []        []  []\n",
       "2024-02-11  []        []  []\n",
       "2024-02-12  []        []  []\n",
       "2024-02-13  []        []  []\n",
       "2024-02-14  []        []  []\n",
       "2024-02-15  []        []  []\n",
       "2024-02-16  []        []  []\n",
       "2024-02-17  []        []  []\n",
       "2024-02-18  []        []  []\n",
       "2024-02-19  []        []  []\n",
       "2024-02-20  []        []  []\n",
       "2024-02-21  []        []  []\n",
       "2024-02-22  []        []  []\n",
       "2024-02-23  []        []  []\n",
       "2024-02-24  []        []  []\n",
       "2024-02-25  []        []  []\n",
       "2024-02-26  []        []  []\n",
       "2024-02-27  []        []  []\n",
       "2024-02-28  []        []  []\n",
       "2024-02-29  []        []  []"
      ]
     },
     "execution_count": 41,
     "metadata": {},
     "output_type": "execute_result"
    }
   ],
   "source": [
    "block_names = [\"S1\", \"S2\", \"S3\"]\n",
    "block_sizes = [(2, 5), (3, 4), (2, 5)]\n",
    "best_st_date = [\"2024-02-01\", \"2024-02-03\", \"2024-02-06\"]\n",
    "사이즈달력 = update_사이즈달력(사이즈달력, \"B\", df1, block_names,block_sizes, best_st_date)\n",
    "사이즈달력"
   ]
  },
  {
   "cell_type": "code",
   "execution_count": 42,
   "id": "ad7fa43e",
   "metadata": {
    "scrolled": true
   },
   "outputs": [
    {
     "data": {
      "text/html": [
       "<div>\n",
       "<style scoped>\n",
       "    .dataframe tbody tr th:only-of-type {\n",
       "        vertical-align: middle;\n",
       "    }\n",
       "\n",
       "    .dataframe tbody tr th {\n",
       "        vertical-align: top;\n",
       "    }\n",
       "\n",
       "    .dataframe thead th {\n",
       "        text-align: right;\n",
       "    }\n",
       "</style>\n",
       "<table border=\"1\" class=\"dataframe\">\n",
       "  <thead>\n",
       "    <tr style=\"text-align: right;\">\n",
       "      <th></th>\n",
       "      <th>A</th>\n",
       "      <th>B</th>\n",
       "      <th>C</th>\n",
       "    </tr>\n",
       "  </thead>\n",
       "  <tbody>\n",
       "    <tr>\n",
       "      <th>2024-02-01</th>\n",
       "      <td>[]</td>\n",
       "      <td>[(2, 5)]</td>\n",
       "      <td>[]</td>\n",
       "    </tr>\n",
       "    <tr>\n",
       "      <th>2024-02-02</th>\n",
       "      <td>[]</td>\n",
       "      <td>[(2, 5), (4, 5)]</td>\n",
       "      <td>[]</td>\n",
       "    </tr>\n",
       "    <tr>\n",
       "      <th>2024-02-03</th>\n",
       "      <td>[]</td>\n",
       "      <td>[(3, 4), (4, 5)]</td>\n",
       "      <td>[]</td>\n",
       "    </tr>\n",
       "    <tr>\n",
       "      <th>2024-02-04</th>\n",
       "      <td>[]</td>\n",
       "      <td>[(3, 4)]</td>\n",
       "      <td>[]</td>\n",
       "    </tr>\n",
       "    <tr>\n",
       "      <th>2024-02-05</th>\n",
       "      <td>[]</td>\n",
       "      <td>[(3, 4)]</td>\n",
       "      <td>[]</td>\n",
       "    </tr>\n",
       "    <tr>\n",
       "      <th>2024-02-06</th>\n",
       "      <td>[]</td>\n",
       "      <td>[(2, 5)]</td>\n",
       "      <td>[]</td>\n",
       "    </tr>\n",
       "    <tr>\n",
       "      <th>2024-02-07</th>\n",
       "      <td>[]</td>\n",
       "      <td>[]</td>\n",
       "      <td>[]</td>\n",
       "    </tr>\n",
       "    <tr>\n",
       "      <th>2024-02-08</th>\n",
       "      <td>[]</td>\n",
       "      <td>[]</td>\n",
       "      <td>[]</td>\n",
       "    </tr>\n",
       "    <tr>\n",
       "      <th>2024-02-09</th>\n",
       "      <td>[]</td>\n",
       "      <td>[]</td>\n",
       "      <td>[]</td>\n",
       "    </tr>\n",
       "    <tr>\n",
       "      <th>2024-02-10</th>\n",
       "      <td>[]</td>\n",
       "      <td>[]</td>\n",
       "      <td>[]</td>\n",
       "    </tr>\n",
       "    <tr>\n",
       "      <th>2024-02-11</th>\n",
       "      <td>[]</td>\n",
       "      <td>[]</td>\n",
       "      <td>[]</td>\n",
       "    </tr>\n",
       "    <tr>\n",
       "      <th>2024-02-12</th>\n",
       "      <td>[]</td>\n",
       "      <td>[]</td>\n",
       "      <td>[]</td>\n",
       "    </tr>\n",
       "    <tr>\n",
       "      <th>2024-02-13</th>\n",
       "      <td>[]</td>\n",
       "      <td>[]</td>\n",
       "      <td>[]</td>\n",
       "    </tr>\n",
       "    <tr>\n",
       "      <th>2024-02-14</th>\n",
       "      <td>[]</td>\n",
       "      <td>[]</td>\n",
       "      <td>[]</td>\n",
       "    </tr>\n",
       "    <tr>\n",
       "      <th>2024-02-15</th>\n",
       "      <td>[]</td>\n",
       "      <td>[]</td>\n",
       "      <td>[]</td>\n",
       "    </tr>\n",
       "    <tr>\n",
       "      <th>2024-02-16</th>\n",
       "      <td>[]</td>\n",
       "      <td>[]</td>\n",
       "      <td>[]</td>\n",
       "    </tr>\n",
       "    <tr>\n",
       "      <th>2024-02-17</th>\n",
       "      <td>[]</td>\n",
       "      <td>[]</td>\n",
       "      <td>[]</td>\n",
       "    </tr>\n",
       "    <tr>\n",
       "      <th>2024-02-18</th>\n",
       "      <td>[]</td>\n",
       "      <td>[]</td>\n",
       "      <td>[]</td>\n",
       "    </tr>\n",
       "    <tr>\n",
       "      <th>2024-02-19</th>\n",
       "      <td>[]</td>\n",
       "      <td>[]</td>\n",
       "      <td>[]</td>\n",
       "    </tr>\n",
       "    <tr>\n",
       "      <th>2024-02-20</th>\n",
       "      <td>[]</td>\n",
       "      <td>[]</td>\n",
       "      <td>[]</td>\n",
       "    </tr>\n",
       "    <tr>\n",
       "      <th>2024-02-21</th>\n",
       "      <td>[]</td>\n",
       "      <td>[]</td>\n",
       "      <td>[]</td>\n",
       "    </tr>\n",
       "    <tr>\n",
       "      <th>2024-02-22</th>\n",
       "      <td>[]</td>\n",
       "      <td>[]</td>\n",
       "      <td>[]</td>\n",
       "    </tr>\n",
       "    <tr>\n",
       "      <th>2024-02-23</th>\n",
       "      <td>[]</td>\n",
       "      <td>[]</td>\n",
       "      <td>[]</td>\n",
       "    </tr>\n",
       "    <tr>\n",
       "      <th>2024-02-24</th>\n",
       "      <td>[]</td>\n",
       "      <td>[]</td>\n",
       "      <td>[]</td>\n",
       "    </tr>\n",
       "    <tr>\n",
       "      <th>2024-02-25</th>\n",
       "      <td>[]</td>\n",
       "      <td>[]</td>\n",
       "      <td>[]</td>\n",
       "    </tr>\n",
       "    <tr>\n",
       "      <th>2024-02-26</th>\n",
       "      <td>[]</td>\n",
       "      <td>[]</td>\n",
       "      <td>[]</td>\n",
       "    </tr>\n",
       "    <tr>\n",
       "      <th>2024-02-27</th>\n",
       "      <td>[]</td>\n",
       "      <td>[]</td>\n",
       "      <td>[]</td>\n",
       "    </tr>\n",
       "    <tr>\n",
       "      <th>2024-02-28</th>\n",
       "      <td>[]</td>\n",
       "      <td>[]</td>\n",
       "      <td>[]</td>\n",
       "    </tr>\n",
       "    <tr>\n",
       "      <th>2024-02-29</th>\n",
       "      <td>[]</td>\n",
       "      <td>[]</td>\n",
       "      <td>[]</td>\n",
       "    </tr>\n",
       "  </tbody>\n",
       "</table>\n",
       "</div>"
      ],
      "text/plain": [
       "             A                 B   C\n",
       "2024-02-01  []          [(2, 5)]  []\n",
       "2024-02-02  []  [(2, 5), (4, 5)]  []\n",
       "2024-02-03  []  [(3, 4), (4, 5)]  []\n",
       "2024-02-04  []          [(3, 4)]  []\n",
       "2024-02-05  []          [(3, 4)]  []\n",
       "2024-02-06  []          [(2, 5)]  []\n",
       "2024-02-07  []                []  []\n",
       "2024-02-08  []                []  []\n",
       "2024-02-09  []                []  []\n",
       "2024-02-10  []                []  []\n",
       "2024-02-11  []                []  []\n",
       "2024-02-12  []                []  []\n",
       "2024-02-13  []                []  []\n",
       "2024-02-14  []                []  []\n",
       "2024-02-15  []                []  []\n",
       "2024-02-16  []                []  []\n",
       "2024-02-17  []                []  []\n",
       "2024-02-18  []                []  []\n",
       "2024-02-19  []                []  []\n",
       "2024-02-20  []                []  []\n",
       "2024-02-21  []                []  []\n",
       "2024-02-22  []                []  []\n",
       "2024-02-23  []                []  []\n",
       "2024-02-24  []                []  []\n",
       "2024-02-25  []                []  []\n",
       "2024-02-26  []                []  []\n",
       "2024-02-27  []                []  []\n",
       "2024-02-28  []                []  []\n",
       "2024-02-29  []                []  []"
      ]
     },
     "execution_count": 42,
     "metadata": {},
     "output_type": "execute_result"
    }
   ],
   "source": [
    "block_names = [\"S1\", \"S2\", \"S3\", \"S4\"]\n",
    "block_sizes = [(2, 5), (3, 4), (2, 5), (4, 5)]\n",
    "best_st_date = [\"2024-02-01\", \"2024-02-03\", \"2024-02-06\", \"2024-02-02\"]\n",
    "사이즈달력 = update_사이즈달력(사이즈달력, \"B\", df1, block_names, block_sizes, best_st_date)\n",
    "사이즈달력"
   ]
  },
  {
   "cell_type": "markdown",
   "id": "692f6bfa",
   "metadata": {},
   "source": [
    "# 정반 레이아웃 배치 적합도 검토"
   ]
  },
  {
   "cell_type": "code",
   "execution_count": 43,
   "id": "3c774c4b",
   "metadata": {},
   "outputs": [],
   "source": [
    "def 정반세팅(사이즈):  #사이즈 = (10, 10)\n",
    "    surface_width, surface_height = 사이즈[0], 사이즈[1]  # Adjusted to match the provided image for demonstration\n",
    "    surface = np.zeros((surface_height, surface_width), dtype=int)\n",
    "    return surface, surface_width, surface_height"
   ]
  },
  {
   "cell_type": "code",
   "execution_count": 44,
   "id": "67927c96",
   "metadata": {},
   "outputs": [],
   "source": [
    "# 수정Function to check if a block can be placed on the surface\n",
    "def can_place(surface, surface_width, surface_height, block_height, block_width, start_row, start_col):\n",
    "    block_height, block_width = block_height, block_width\n",
    "    if start_row + block_height > surface_height or start_col + block_width > surface_width:\n",
    "        return False\n",
    "    return np.all(surface[start_row:start_row + block_height, start_col:start_col + block_width] == 0)\n",
    "\n",
    "# Function to place a block on the surface, if possible\n",
    "def place_block(surface, block_height, block_width, start_row, start_col, block_id):\n",
    "    block_height, block_width = block_height, block_width\n",
    "    surface[start_row:start_row + block_height, start_col:start_col + block_width] = block_id\n",
    "\n",
    "# Function to find the best fit for a block on the surface\n",
    "def find_best_fit(surface, surface_width, surface_height, block_height, block_width, block_id):\n",
    "    best_fit_score = float('inf')\n",
    "    best_position = None\n",
    "    block_height, block_width = block_height, block_width\n",
    "\n",
    "    # Iterate over all possible positions on the surface\n",
    "    for y in range(surface_height - block_height + 1):\n",
    "        for x in range(surface_width - block_width + 1):\n",
    "            if can_place(surface, surface_width, surface_height, block_height, block_width, y, x):\n",
    "                # Calculate a score; here we use the top-left corner (y, x) as the score\n",
    "                # A lower score means the block is closer to the top-left\n",
    "                score = y + x\n",
    "                if score < best_fit_score:\n",
    "                    best_fit_score = score\n",
    "                    best_position = (y, x)\n",
    "\n",
    "    # If a best position was found, place the block there\n",
    "    if best_position:\n",
    "        place_block(surface, block_height, block_width, *best_position, block_id)\n",
    "        return True\n",
    "\n",
    "    return False  # No fit found\n",
    "\n",
    "# Function to fit blocks on the surface in order\n",
    "def fit_blocks(surface, surface_width, surface_height, blocks, names):\n",
    "    result = \"\"\n",
    "    block_id = max(map(max, surface))+1  # Start numbering blocks from 1\n",
    "    for name, block in zip(names, blocks):\n",
    "        \n",
    "        block_height, block_width = block\n",
    "        \n",
    "        if find_best_fit(surface, surface_width, surface_height, block_height, block_width, block_id) == False:\n",
    "            print(f\"1차검토 - Block {block_id} of height {block_height} width {block_width} could not be placed.\")\n",
    "            result = \"부적합\"\n",
    "            \n",
    "            ## 가로 세로 길이 바꿔서 검토 -------------------------------------\n",
    "            block_height, block_width = block_width, block_height\n",
    "            if find_best_fit(surface, surface_width, surface_height, block_height, block_width, block_id) == False:\n",
    "                print(f\"2차검토 - Block {block_id} of height {block_height} width {block_width} could not be placed.\")\n",
    "                result = \"부적합\"\n",
    "            \n",
    "        else:\n",
    "            result = \"적합\"\n",
    "        block_id += 1  # Increment block_id for the next block\n",
    "    return surface, result"
   ]
  },
  {
   "cell_type": "code",
   "execution_count": 45,
   "id": "e03466d1",
   "metadata": {},
   "outputs": [],
   "source": [
    "def draw1(surface, block_names):\n",
    "    fig, ax = plt.subplots(figsize=(10, 10))\n",
    "\n",
    "    cmap = mcolors.ListedColormap(['white'] + ['C{}'.format(i) for i in range(len(block_names))])\n",
    "    norm = mcolors.BoundaryNorm(np.arange(0.5, len(block_names) + 2), cmap.N)\n",
    "\n",
    "    ax.imshow(surface, cmap=cmap, norm=norm)\n",
    "\n",
    "    for y in range(surface.shape[0]):\n",
    "        for x in range(surface.shape[1]):\n",
    "            if surface[y, x] != 0:\n",
    "                ax.text(x, y, str(block_names[surface[y, x]-1]), ha='center', va='center', color='black')\n",
    "                \n",
    "    ax.set_xticks(np.arange(-.5, surface.shape[1], 1), minor=True)\n",
    "    ax.set_yticks(np.arange(-.5, surface.shape[0], 1), minor=True)\n",
    "    ax.grid(which=\"minor\", color=\"black\", linestyle='-', linewidth=1)\n",
    "    ax.tick_params(which=\"minor\", size=0)\n",
    "\n",
    "    ax.set_xticks([])\n",
    "    ax.set_yticks([])\n",
    "\n",
    "    plt.show()"
   ]
  },
  {
   "cell_type": "code",
   "execution_count": 46,
   "id": "8f79e920",
   "metadata": {},
   "outputs": [],
   "source": [
    "def 정반배치레이아웃적합도(정반명, 정반데이터, 조회날짜, 블록명달력, 블록사이즈달력):\n",
    "    \n",
    "    정반사이즈 = 정반데이터[정반데이터[\"정반명\"]==정반명][\"사이즈\"].values[0]\n",
    "    block_names = 블록명달력.at[조회날짜, 정반명]\n",
    "    block_sizes = 블록사이즈달력.at[조회날짜, 정반명]\n",
    "        \n",
    "    surface, surface_width, surface_height = 정반세팅(정반사이즈)\n",
    "    배치결과 = fit_blocks(surface, surface_width, surface_height, block_sizes, block_names)\n",
    "    적합도 = 배치결과[1]\n",
    "    \n",
    "    return 적합도"
   ]
  },
  {
   "cell_type": "code",
   "execution_count": 47,
   "id": "6619f0a7",
   "metadata": {},
   "outputs": [],
   "source": [
    "# 적합도 = 정반배치레이아웃적합도(\"B\", df2, \"2024-02-03\", 블록명달력, 사이즈달력)\n",
    "# 적합도"
   ]
  },
  {
   "cell_type": "markdown",
   "id": "69416b3c",
   "metadata": {},
   "source": [
    "# 생산계획수립"
   ]
  },
  {
   "cell_type": "code",
   "execution_count": 48,
   "id": "68138c92",
   "metadata": {},
   "outputs": [],
   "source": [
    "def check_if_value_in_list(my_list, value_to_check):\n",
    "    if value_to_check in my_list:\n",
    "        return \"부적합\"\n",
    "    else:\n",
    "        return \"적합\""
   ]
  },
  {
   "cell_type": "code",
   "execution_count": 270,
   "id": "67400690",
   "metadata": {},
   "outputs": [],
   "source": [
    "def 생산계획수립(블록데이터, 정반데이터, 면적달력, 블록명달력, 사이즈달력):\n",
    "    \n",
    "    블록리스트 = 블록데이터[\"블록명\"].tolist()\n",
    "    정반리스트 = 정반데이터[\"정반명\"].tolist()\n",
    "    \n",
    "    면적달력 = 면적달력\n",
    "    블록명달력 = 블록명달력\n",
    "    사이즈달력 = 사이즈달력\n",
    "        \n",
    "    \n",
    "    결론_정반_dict = {key: [] for key in 정반리스트}\n",
    "    결론_블록_dict = {key: [] for key in 정반리스트}\n",
    "    결론_블록사이즈_dict = {key: [] for key in 정반리스트}\n",
    "    결론_정반_dict = {key: [] for key in 정반리스트}\n",
    "    결론_착수일자_dict = {key: [] for key in 정반리스트}\n",
    "    \n",
    "    \n",
    "    df_블록리스트 = []\n",
    "    df_블록사이즈리스트 = []\n",
    "    df_정반리스트 = []\n",
    "    df_착수일자 = []\n",
    "    df_상태정보 = []\n",
    "    \n",
    "        \n",
    "    for _ in tqdm(range(len(블록리스트))):\n",
    "                \n",
    "        if 블록리스트:\n",
    "            target_block = 블록리스트[0]\n",
    "        else:\n",
    "            print(\"수정블록리스트에 검토대상 잔여블록이 없습니다.\")\n",
    "            print()\n",
    "            break        \n",
    "        \n",
    "        블록 = 블록변수정리(블록데이터, target_block)\n",
    "        블록명 = 블록[\"블록명\"]\n",
    "        블록사이즈 = 블록[\"사이즈\"]\n",
    "        표준공기 = 블록[\"표준공기\"]\n",
    "        최소착수요구일 = 블록[\"최소착수요구일\"]\n",
    "        \n",
    "        print(f\"*** 검토대상블록: {블록명}, 사이즈: {블록사이즈}, 표준공기: {표준공기}, 최소착수요구일:{최소착수요구일}\")\n",
    "        print()\n",
    "        \n",
    "        ## 정반가능중량 조건 적합도 검토 ----------------------------------------------------------\n",
    "        중량조건적합정반들 = []\n",
    "        for 정반 in 정반리스트:\n",
    "            중량적합도 = 정반가능중량검토(블록명, 블록데이터, 정반, 정반데이터)\n",
    "            if 중량적합도 == \"적합\":\n",
    "                중량조건적합정반들.append(정반)\n",
    "\n",
    "        print(f\"*** 중량조건적합정반들: {중량조건적합정반들}\")\n",
    "        print()\n",
    "        \n",
    "        ## 중량조건 적합 정반이 있는 경우, 최선조기착수일 검토 ---------------------------------------------------------------------\n",
    "        if 중량조건적합정반들 != []:\n",
    "            최선조기착수일후보 = get_최선조기착수일후보(면적달력, 중량조건적합정반들, 블록명, 블록데이터)\n",
    "            print(f\"*** 최선조기착수일후보: {최선조기착수일후보}\")\n",
    "                  \n",
    "            최선조기착수대상 = get_최선조기착수대상(최선조기착수일후보, 최소착수요구일)  ##랜덤 셀렉트 적용\n",
    "            \n",
    "            if 최선조기착수대상[0] != None:\n",
    "                최선정반명 = 최선조기착수대상[0]\n",
    "                최선조기착수일 = 최선조기착수대상[1]\n",
    "\n",
    "                print(f\"*** 랜덤선택 최선정반명:{최선정반명}, 최선조기착수일:{최선조기착수일}\")\n",
    "                print()\n",
    "\n",
    "                ###-----------------------------------------------------------------------------------------------------\n",
    "                                \n",
    "                결론_블록_dict[최선정반명].append(블록명)\n",
    "                결론_블록사이즈_dict[최선정반명].append(블록사이즈)\n",
    "                결론_정반_dict[최선정반명].append(최선정반명)\n",
    "                결론_착수일자_dict[최선정반명].append(최선조기착수일)\n",
    "                \n",
    "                df_블록리스트.append(블록명)\n",
    "                df_블록사이즈리스트.append(블록사이즈)\n",
    "                df_정반리스트.append(최선정반명)\n",
    "                df_착수일자.append(최선조기착수일)\n",
    "                \n",
    "                임시_블록명달력 = update_블록명달력(블록명달력, 최선정반명, 블록데이터, 결론_블록_dict[최선정반명], 결론_착수일자_dict[최선정반명])\n",
    "                \n",
    "                임시_사이즈달력 = update_사이즈달력(사이즈달력, 최선정반명, 블록데이터, 결론_블록_dict[최선정반명], 결론_블록사이즈_dict[최선정반명], 결론_착수일자_dict[최선정반명])\n",
    "                print()\n",
    "                \n",
    "                레이아웃적합도리스트 = []\n",
    "                for i in range(표준공기):\n",
    "                    date_object = datetime.strptime(최선조기착수일, \"%Y-%m-%d\")\n",
    "                    new_date = date_object + timedelta(days=i)\n",
    "                    레이아웃검토날짜 = new_date.strftime(\"%Y-%m-%d\")   \n",
    "\n",
    "                    적합도 = 정반배치레이아웃적합도(최선정반명, 정반데이터, 레이아웃검토날짜, 임시_블록명달력, 임시_사이즈달력)\n",
    "                    레이아웃적합도리스트.append(적합도)\n",
    "\n",
    "                적합도리스트체크 = check_if_value_in_list(레이아웃적합도리스트, \"부적합\")\n",
    "                print(f\"레이아웃적합도리스트: {레이아웃적합도리스트}\")\n",
    "                print(f\"*** 적합도리스트체크: {적합도리스트체크}\")\n",
    "\n",
    "                ### -----------------------------------------------------------------------------------------------------\n",
    "                if 적합도리스트체크 == \"부적합\":\n",
    "                    \n",
    "                    결론_블록_dict[최선정반명] = 결론_블록_dict[최선정반명][:-1]                    \n",
    "                    결론_블록사이즈_dict[최선정반명] = 결론_블록사이즈_dict[최선정반명][:-1]\n",
    "                    결론_정반_dict[최선정반명] = 결론_정반_dict[최선정반명][:-1]\n",
    "                    결론_착수일자_dict[최선정반명] = 결론_착수일자_dict[최선정반명][:-1]\n",
    "                    \n",
    "                    df_블록리스트 = df_블록리스트[:-1]\n",
    "                    df_블록사이즈리스트 = df_블록사이즈리스트[:-1]\n",
    "                    df_정반리스트 = df_정반리스트[:-1]\n",
    "                    df_착수일자 = df_착수일자[:-1]\n",
    "                    \n",
    "                    df_상태정보.append('레이아웃 배치불가')\n",
    "                    \n",
    "                    print(\"블록길이 조건상 레이아웃 배치 불가능!!\")\n",
    "\n",
    "                else:  # 적합도리스트체크가 적합이라면..\n",
    "                    \n",
    "                    블록명달력 = 임시_블록명달력\n",
    "                    사이즈달력 = 임시_사이즈달력\n",
    "                    \n",
    "                    면적달력 = update_면적달력(면적달력, 최선조기착수대상, 블록명, 블록데이터)\n",
    "                    \n",
    "                    df_상태정보.append('정상배치완료')\n",
    "                    print(f\"*** 정상배치 완료\")\n",
    "\n",
    "                블록리스트.remove(블록명)\n",
    "#                 print(f\"*** 검토후 블록리스트 : {블록리스트}\")\n",
    "            \n",
    "            else:\n",
    "                df_상태정보.append('최소요구납기 충족 불가능')\n",
    "                블록리스트.remove(블록명)\n",
    "                print(\">>> 최소요구납기 충족 정반이 없습니다.\")\n",
    "                \n",
    "        else:\n",
    "            df_상태정보.append('중량조건 충족 불가능')\n",
    "            블록리스트.remove(블록명)\n",
    "            print(\">>>중량조건 충족 정반이 없습니다.\")\n",
    "        \n",
    "        print(\"=\"*90)\n",
    "        \n",
    "        print()\n",
    "            \n",
    "    return df_블록리스트, df_정반리스트, df_착수일자, df_상태정보, 면적달력, 블록명달력, 사이즈달력"
   ]
  },
  {
   "cell_type": "markdown",
   "id": "fd48c407",
   "metadata": {},
   "source": [
    "# 시뮬레이션"
   ]
  },
  {
   "cell_type": "code",
   "execution_count": 271,
   "id": "08b0dc8b",
   "metadata": {},
   "outputs": [
    {
     "data": {
      "text/plain": [
       "((30, 11), (2, 7))"
      ]
     },
     "execution_count": 271,
     "metadata": {},
     "output_type": "execute_result"
    }
   ],
   "source": [
    "data_num = \"00\"\n",
    "\n",
    "블록원데이터 = pd.read_excel(f\"./data/data{data_num}.xlsx\", sheet_name=\"블록데이터\")\n",
    "정반원데이터 = pd.read_excel(f\"./data/data{data_num}.xlsx\", sheet_name=\"정반데이터\")\n",
    "\n",
    "블록데이터 = 블록데이터전처리(블록원데이터)\n",
    "정반데이터 = 정반데이터전처리(정반원데이터)\n",
    "블록데이터.shape, 정반데이터.shape"
   ]
  },
  {
   "cell_type": "code",
   "execution_count": 272,
   "id": "86b68df2",
   "metadata": {},
   "outputs": [],
   "source": [
    "면적달력 = create_면적달력(2024, 2, 2024, 4, 정반데이터)\n",
    "블록명달력 = create_블록명달력(2024, 2, 2024, 4, 정반데이터)\n",
    "사이즈달력 = create_사이즈달력(2024, 2, 2024, 4, 정반데이터)"
   ]
  },
  {
   "cell_type": "code",
   "execution_count": 273,
   "id": "2c058a05",
   "metadata": {
    "scrolled": false
   },
   "outputs": [
    {
     "name": "stderr",
     "output_type": "stream",
     "text": [
      "  7%| | 2/30 [00:00<00:02, 12.18i"
     ]
    },
    {
     "name": "stdout",
     "output_type": "stream",
     "text": [
      "*** 검토대상블록: S2, 사이즈: (14, 16), 표준공기: 7, 최소착수요구일:2024-02-08\n",
      "\n",
      "*** 중량조건적합정반들: ['A', 'B']\n",
      "\n",
      ">>> 대상정반:A, 조회기간최소면적:1350, 블록명:S2, 최선조기착수일: 2024-02-01 00:00:00\n",
      ">>> 대상정반:B, 조회기간최소면적:1350, 블록명:S2, 최선조기착수일: 2024-02-01 00:00:00\n",
      "*** 최선조기착수일후보: {'A': Timestamp('2024-02-01 00:00:00', freq='D'), 'B': Timestamp('2024-02-01 00:00:00', freq='D')}\n",
      "[('A', Timestamp('2024-02-01 00:00:00', freq='D')), ('B', Timestamp('2024-02-01 00:00:00', freq='D'))]\n",
      "\n",
      ">>> 최소요구납기충족리스트: [('A', Timestamp('2024-02-01 00:00:00', freq='D')), ('B', Timestamp('2024-02-01 00:00:00', freq='D'))]\n",
      "\n",
      "*** 랜덤선택 최선정반명:A, 최선조기착수일:2024-02-01\n",
      "\n",
      "\n",
      "레이아웃적합도리스트: ['적합', '적합', '적합', '적합', '적합', '적합', '적합']\n",
      "*** 적합도리스트체크: 적합\n",
      "*** 정상배치 완료\n",
      "==========================================================================================\n",
      "\n",
      "*** 검토대상블록: S6, 사이즈: (15, 15), 표준공기: 6, 최소착수요구일:2024-02-14\n",
      "\n",
      "*** 중량조건적합정반들: ['A', 'B']\n",
      "\n",
      ">>> 대상정반:A, 조회기간최소면적:1126, 블록명:S6, 최선조기착수일: 2024-02-01 00:00:00\n",
      ">>> 대상정반:B, 조회기간최소면적:1350, 블록명:S6, 최선조기착수일: 2024-02-01 00:00:00\n",
      "*** 최선조기착수일후보: {'A': Timestamp('2024-02-01 00:00:00', freq='D'), 'B': Timestamp('2024-02-01 00:00:00', freq='D')}\n",
      "[('A', Timestamp('2024-02-01 00:00:00', freq='D')), ('B', Timestamp('2024-02-01 00:00:00', freq='D'))]\n",
      "\n",
      ">>> 최소요구납기충족리스트: [('A', Timestamp('2024-02-01 00:00:00', freq='D')), ('B', Timestamp('2024-02-01 00:00:00', freq='D'))]\n",
      "\n",
      "*** 랜덤선택 최선정반명:A, 최선조기착수일:2024-02-01\n",
      "\n",
      "\n",
      "레이아웃적합도리스트: ['적합', '적합', '적합', '적합', '적합', '적합']\n",
      "*** 적합도리스트체크: 적합\n",
      "*** 정상배치 완료\n",
      "==========================================================================================\n",
      "\n",
      "*** 검토대상블록: S9, 사이즈: (12, 16), 표준공기: 8, 최소착수요구일:2024-02-12\n",
      "\n",
      "*** 중량조건적합정반들: ['A', 'B']\n",
      "\n",
      ">>> 대상정반:A, 조회기간최소면적:901, 블록명:S9, 최선조기착수일: 2024-02-01 00:00:00\n",
      ">>> 대상정반:B, 조회기간최소면적:1350, 블록명:S9, 최선조기착수일: 2024-02-01 00:00:00\n",
      "*** 최선조기착수일후보: {'A': Timestamp('2024-02-01 00:00:00', freq='D'), 'B': Timestamp('2024-02-01 00:00:00', freq='D')}\n",
      "[('A', Timestamp('2024-02-01 00:00:00', freq='D')), ('B', Timestamp('2024-02-01 00:00:00', freq='D'))]\n",
      "\n",
      ">>> 최소요구납기충족리스트: [('A', Timestamp('2024-02-01 00:00:00', freq='D')), ('B', Timestamp('2024-02-01 00:00:00', freq='D'))]\n",
      "\n",
      "*** 랜덤선택 최선정반명:A, 최선조기착수일:2024-02-01\n",
      "\n",
      "\n"
     ]
    },
    {
     "name": "stderr",
     "output_type": "stream",
     "text": [
      "\r",
      " 13%|▏| 4/30 [00:00<00:03,  8.37i"
     ]
    },
    {
     "name": "stdout",
     "output_type": "stream",
     "text": [
      "레이아웃적합도리스트: ['적합', '적합', '적합', '적합', '적합', '적합', '적합', '적합']\n",
      "*** 적합도리스트체크: 적합\n",
      "*** 정상배치 완료\n",
      "==========================================================================================\n",
      "\n",
      "*** 검토대상블록: S16, 사이즈: (12, 16), 표준공기: 7, 최소착수요구일:2024-03-03\n",
      "\n",
      "*** 중량조건적합정반들: ['A', 'B']\n",
      "\n",
      ">>> 대상정반:A, 조회기간최소면적:709, 블록명:S16, 최선조기착수일: 2024-02-01 00:00:00\n",
      ">>> 대상정반:B, 조회기간최소면적:1350, 블록명:S16, 최선조기착수일: 2024-02-01 00:00:00\n",
      "*** 최선조기착수일후보: {'A': Timestamp('2024-02-01 00:00:00', freq='D'), 'B': Timestamp('2024-02-01 00:00:00', freq='D')}\n",
      "[('A', Timestamp('2024-02-01 00:00:00', freq='D')), ('B', Timestamp('2024-02-01 00:00:00', freq='D'))]\n",
      "\n",
      ">>> 최소요구납기충족리스트: [('A', Timestamp('2024-02-01 00:00:00', freq='D')), ('B', Timestamp('2024-02-01 00:00:00', freq='D'))]\n",
      "\n",
      "*** 랜덤선택 최선정반명:A, 최선조기착수일:2024-02-01\n",
      "\n",
      "\n",
      "레이아웃적합도리스트: ['적합', '적합', '적합', '적합', '적합', '적합', '적합']\n",
      "*** 적합도리스트체크: 적합\n",
      "*** 정상배치 완료\n",
      "==========================================================================================\n",
      "\n",
      "*** 검토대상블록: S21, 사이즈: (14, 15), 표준공기: 6, 최소착수요구일:2024-03-14\n",
      "\n",
      "*** 중량조건적합정반들: ['A', 'B']\n",
      "\n",
      ">>> 대상정반:A, 조회기간최소면적:517, 블록명:S21, 최선조기착수일: 2024-02-01 00:00:00\n",
      ">>> 대상정반:B, 조회기간최소면적:1350, 블록명:S21, 최선조기착수일: 2024-02-01 00:00:00\n",
      "*** 최선조기착수일후보: {'A': Timestamp('2024-02-01 00:00:00', freq='D'), 'B': Timestamp('2024-02-01 00:00:00', freq='D')}\n",
      "[('A', Timestamp('2024-02-01 00:00:00', freq='D')), ('B', Timestamp('2024-02-01 00:00:00', freq='D'))]\n",
      "\n",
      ">>> 최소요구납기충족리스트: [('A', Timestamp('2024-02-01 00:00:00', freq='D')), ('B', Timestamp('2024-02-01 00:00:00', freq='D'))]\n",
      "\n",
      "*** 랜덤선택 최선정반명:A, 최선조기착수일:2024-02-01\n",
      "\n",
      "\n",
      "1차검토 - Block 5 of height 14 width 15 could not be placed.\n",
      "2차검토 - Block 5 of height 15 width 14 could not be placed.\n",
      "1차검토 - Block 5 of height 14 width 15 could not be placed.\n",
      "2차검토 - Block 5 of height 15 width 14 could not be placed.\n",
      "1차검토 - Block 5 of height 14 width 15 could not be placed.\n",
      "2차검토 - Block 5 of height 15 width 14 could not be placed.\n"
     ]
    },
    {
     "name": "stderr",
     "output_type": "stream",
     "text": [
      " 23%|▏| 7/30 [00:00<00:02,  8.63i"
     ]
    },
    {
     "name": "stdout",
     "output_type": "stream",
     "text": [
      "1차검토 - Block 5 of height 14 width 15 could not be placed.\n",
      "2차검토 - Block 5 of height 15 width 14 could not be placed.\n",
      "1차검토 - Block 5 of height 14 width 15 could not be placed.\n",
      "2차검토 - Block 5 of height 15 width 14 could not be placed.\n",
      "1차검토 - Block 5 of height 14 width 15 could not be placed.\n",
      "2차검토 - Block 5 of height 15 width 14 could not be placed.\n",
      "레이아웃적합도리스트: ['부적합', '부적합', '부적합', '부적합', '부적합', '부적합']\n",
      "*** 적합도리스트체크: 부적합\n",
      "블록길이 조건상 레이아웃 배치 불가능!!\n",
      "==========================================================================================\n",
      "\n",
      "*** 검토대상블록: S3, 사이즈: (11, 15), 표준공기: 7, 최소착수요구일:2024-02-08\n",
      "\n",
      "*** 중량조건적합정반들: ['A', 'B']\n",
      "\n",
      ">>> 대상정반:A, 조회기간최소면적:517, 블록명:S3, 최선조기착수일: 2024-02-01 00:00:00\n",
      ">>> 대상정반:B, 조회기간최소면적:1350, 블록명:S3, 최선조기착수일: 2024-02-01 00:00:00\n",
      "*** 최선조기착수일후보: {'A': Timestamp('2024-02-01 00:00:00', freq='D'), 'B': Timestamp('2024-02-01 00:00:00', freq='D')}\n",
      "[('B', Timestamp('2024-02-01 00:00:00', freq='D')), ('A', Timestamp('2024-02-01 00:00:00', freq='D'))]\n",
      "\n",
      ">>> 최소요구납기충족리스트: [('B', Timestamp('2024-02-01 00:00:00', freq='D')), ('A', Timestamp('2024-02-01 00:00:00', freq='D'))]\n",
      "\n",
      "*** 랜덤선택 최선정반명:B, 최선조기착수일:2024-02-01\n",
      "\n",
      "\n",
      "레이아웃적합도리스트: ['적합', '적합', '적합', '적합', '적합', '적합', '적합']\n",
      "*** 적합도리스트체크: 적합\n",
      "*** 정상배치 완료\n",
      "==========================================================================================\n",
      "\n",
      "*** 검토대상블록: S14, 사이즈: (11, 15), 표준공기: 7, 최소착수요구일:2024-02-22\n",
      "\n",
      "*** 중량조건적합정반들: ['A', 'B']\n",
      "\n",
      ">>> 대상정반:A, 조회기간최소면적:517, 블록명:S14, 최선조기착수일: 2024-02-01 00:00:00\n",
      ">>> 대상정반:B, 조회기간최소면적:1185, 블록명:S14, 최선조기착수일: 2024-02-01 00:00:00\n",
      "*** 최선조기착수일후보: {'A': Timestamp('2024-02-01 00:00:00', freq='D'), 'B': Timestamp('2024-02-01 00:00:00', freq='D')}\n",
      "[('B', Timestamp('2024-02-01 00:00:00', freq='D')), ('A', Timestamp('2024-02-01 00:00:00', freq='D'))]\n",
      "\n",
      ">>> 최소요구납기충족리스트: [('B', Timestamp('2024-02-01 00:00:00', freq='D')), ('A', Timestamp('2024-02-01 00:00:00', freq='D'))]\n",
      "\n",
      "*** 랜덤선택 최선정반명:B, 최선조기착수일:2024-02-01\n",
      "\n",
      "\n",
      "레이아웃적합도리스트: ['적합', '적합', '적합', '적합', '적합', '적합', '적합']\n",
      "*** 적합도리스트체크: 적합\n",
      "*** 정상배치 완료\n",
      "==========================================================================================\n",
      "\n"
     ]
    },
    {
     "name": "stderr",
     "output_type": "stream",
     "text": [
      "\r",
      " 27%|▎| 8/30 [00:01<00:02,  7.35i"
     ]
    },
    {
     "name": "stdout",
     "output_type": "stream",
     "text": [
      "*** 검토대상블록: S1, 사이즈: (11, 16), 표준공기: 5, 최소착수요구일:2024-02-10\n",
      "\n",
      "*** 중량조건적합정반들: ['A', 'B']\n",
      "\n",
      ">>> 대상정반:A, 조회기간최소면적:517, 블록명:S1, 최선조기착수일: 2024-02-01 00:00:00\n",
      ">>> 대상정반:B, 조회기간최소면적:1020, 블록명:S1, 최선조기착수일: 2024-02-01 00:00:00\n",
      "*** 최선조기착수일후보: {'A': Timestamp('2024-02-01 00:00:00', freq='D'), 'B': Timestamp('2024-02-01 00:00:00', freq='D')}\n",
      "[('A', Timestamp('2024-02-01 00:00:00', freq='D')), ('B', Timestamp('2024-02-01 00:00:00', freq='D'))]\n",
      "\n",
      ">>> 최소요구납기충족리스트: [('A', Timestamp('2024-02-01 00:00:00', freq='D')), ('B', Timestamp('2024-02-01 00:00:00', freq='D'))]\n",
      "\n",
      "*** 랜덤선택 최선정반명:A, 최선조기착수일:2024-02-01\n",
      "\n",
      "\n",
      "1차검토 - Block 5 of height 11 width 16 could not be placed.\n",
      "1차검토 - Block 5 of height 11 width 16 could not be placed.\n",
      "1차검토 - Block 5 of height 11 width 16 could not be placed.\n",
      "1차검토 - Block 5 of height 11 width 16 could not be placed.\n",
      "1차검토 - Block 5 of height 11 width 16 could not be placed.\n",
      "레이아웃적합도리스트: ['부적합', '부적합', '부적합', '부적합', '부적합']\n",
      "*** 적합도리스트체크: 부적합\n",
      "블록길이 조건상 레이아웃 배치 불가능!!\n",
      "==========================================================================================\n",
      "\n",
      "*** 검토대상블록: S27, 사이즈: (12, 16), 표준공기: 6, 최소착수요구일:2024-03-25\n",
      "\n",
      "*** 중량조건적합정반들: ['A', 'B']\n",
      "\n",
      ">>> 대상정반:A, 조회기간최소면적:517, 블록명:S27, 최선조기착수일: 2024-02-01 00:00:00\n",
      ">>> 대상정반:B, 조회기간최소면적:1020, 블록명:S27, 최선조기착수일: 2024-02-01 00:00:00\n",
      "*** 최선조기착수일후보: {'A': Timestamp('2024-02-01 00:00:00', freq='D'), 'B': Timestamp('2024-02-01 00:00:00', freq='D')}\n",
      "[('A', Timestamp('2024-02-01 00:00:00', freq='D')), ('B', Timestamp('2024-02-01 00:00:00', freq='D'))]\n",
      "\n",
      ">>> 최소요구납기충족리스트: [('A', Timestamp('2024-02-01 00:00:00', freq='D')), ('B', Timestamp('2024-02-01 00:00:00', freq='D'))]\n",
      "\n",
      "*** 랜덤선택 최선정반명:A, 최선조기착수일:2024-02-01\n",
      "\n",
      "\n",
      "1차검토 - Block 5 of height 12 width 16 could not be placed.\n",
      "1차검토 - Block 5 of height 12 width 16 could not be placed.\n"
     ]
    },
    {
     "name": "stderr",
     "output_type": "stream",
     "text": [
      "\r",
      " 30%|▎| 9/30 [00:01<00:03,  6.37i"
     ]
    },
    {
     "name": "stdout",
     "output_type": "stream",
     "text": [
      "1차검토 - Block 5 of height 12 width 16 could not be placed.\n",
      "1차검토 - Block 5 of height 12 width 16 could not be placed.\n",
      "1차검토 - Block 5 of height 12 width 16 could not be placed.\n",
      "1차검토 - Block 5 of height 12 width 16 could not be placed.\n",
      "레이아웃적합도리스트: ['부적합', '부적합', '부적합', '부적합', '부적합', '부적합']\n",
      "*** 적합도리스트체크: 부적합\n",
      "블록길이 조건상 레이아웃 배치 불가능!!\n",
      "==========================================================================================\n",
      "\n",
      "*** 검토대상블록: S22, 사이즈: (12, 13), 표준공기: 6, 최소착수요구일:2024-03-14\n",
      "\n",
      "*** 중량조건적합정반들: ['A', 'B']\n",
      "\n",
      ">>> 대상정반:A, 조회기간최소면적:517, 블록명:S22, 최선조기착수일: 2024-02-01 00:00:00\n",
      ">>> 대상정반:B, 조회기간최소면적:1020, 블록명:S22, 최선조기착수일: 2024-02-01 00:00:00\n",
      "*** 최선조기착수일후보: {'A': Timestamp('2024-02-01 00:00:00', freq='D'), 'B': Timestamp('2024-02-01 00:00:00', freq='D')}\n",
      "[('A', Timestamp('2024-02-01 00:00:00', freq='D')), ('B', Timestamp('2024-02-01 00:00:00', freq='D'))]\n",
      "\n",
      ">>> 최소요구납기충족리스트: [('A', Timestamp('2024-02-01 00:00:00', freq='D')), ('B', Timestamp('2024-02-01 00:00:00', freq='D'))]\n",
      "\n",
      "*** 랜덤선택 최선정반명:A, 최선조기착수일:2024-02-01\n",
      "\n",
      "\n"
     ]
    },
    {
     "name": "stderr",
     "output_type": "stream",
     "text": [
      "\r",
      " 33%|▎| 10/30 [00:01<00:03,  6.09"
     ]
    },
    {
     "name": "stdout",
     "output_type": "stream",
     "text": [
      "레이아웃적합도리스트: ['적합', '적합', '적합', '적합', '적합', '적합']\n",
      "*** 적합도리스트체크: 적합\n",
      "*** 정상배치 완료\n",
      "==========================================================================================\n",
      "\n",
      "*** 검토대상블록: S8, 사이즈: (11, 14), 표준공기: 5, 최소착수요구일:2024-02-15\n",
      "\n",
      "*** 중량조건적합정반들: ['A', 'B']\n",
      "\n",
      ">>> 대상정반:A, 조회기간최소면적:361, 블록명:S8, 최선조기착수일: 2024-02-01 00:00:00\n",
      ">>> 대상정반:B, 조회기간최소면적:1020, 블록명:S8, 최선조기착수일: 2024-02-01 00:00:00\n",
      "*** 최선조기착수일후보: {'A': Timestamp('2024-02-01 00:00:00', freq='D'), 'B': Timestamp('2024-02-01 00:00:00', freq='D')}\n",
      "[('A', Timestamp('2024-02-01 00:00:00', freq='D')), ('B', Timestamp('2024-02-01 00:00:00', freq='D'))]\n",
      "\n",
      ">>> 최소요구납기충족리스트: [('A', Timestamp('2024-02-01 00:00:00', freq='D')), ('B', Timestamp('2024-02-01 00:00:00', freq='D'))]\n",
      "\n",
      "*** 랜덤선택 최선정반명:A, 최선조기착수일:2024-02-01\n",
      "\n",
      "\n",
      "1차검토 - Block 6 of height 11 width 14 could not be placed.\n",
      "1차검토 - Block 6 of height 11 width 14 could not be placed.\n",
      "1차검토 - Block 6 of height 11 width 14 could not be placed.\n",
      "1차검토 - Block 6 of height 11 width 14 could not be placed.\n",
      "1차검토 - Block 6 of height 11 width 14 could not be placed.\n",
      "레이아웃적합도리스트: ['부적합', '부적합', '부적합', '부적합', '부적합']\n",
      "*** 적합도리스트체크: 부적합\n",
      "블록길이 조건상 레이아웃 배치 불가능!!\n",
      "==========================================================================================\n",
      "\n"
     ]
    },
    {
     "name": "stderr",
     "output_type": "stream",
     "text": [
      " 40%|▍| 12/30 [00:01<00:03,  5.34"
     ]
    },
    {
     "name": "stdout",
     "output_type": "stream",
     "text": [
      "*** 검토대상블록: S5, 사이즈: (11, 12), 표준공기: 7, 최소착수요구일:2024-02-08\n",
      "\n",
      "*** 중량조건적합정반들: ['A', 'B']\n",
      "\n",
      ">>> 대상정반:A, 조회기간최소면적:361, 블록명:S5, 최선조기착수일: 2024-02-01 00:00:00\n",
      ">>> 대상정반:B, 조회기간최소면적:1020, 블록명:S5, 최선조기착수일: 2024-02-01 00:00:00\n",
      "*** 최선조기착수일후보: {'A': Timestamp('2024-02-01 00:00:00', freq='D'), 'B': Timestamp('2024-02-01 00:00:00', freq='D')}\n",
      "[('A', Timestamp('2024-02-01 00:00:00', freq='D')), ('B', Timestamp('2024-02-01 00:00:00', freq='D'))]\n",
      "\n",
      ">>> 최소요구납기충족리스트: [('A', Timestamp('2024-02-01 00:00:00', freq='D')), ('B', Timestamp('2024-02-01 00:00:00', freq='D'))]\n",
      "\n",
      "*** 랜덤선택 최선정반명:A, 최선조기착수일:2024-02-01\n",
      "\n",
      "\n",
      "레이아웃적합도리스트: ['적합', '적합', '적합', '적합', '적합', '적합', '적합']\n",
      "*** 적합도리스트체크: 적합\n",
      "*** 정상배치 완료\n",
      "==========================================================================================\n",
      "\n",
      "*** 검토대상블록: S18, 사이즈: (11, 13), 표준공기: 7, 최소착수요구일:2024-03-03\n",
      "\n",
      "*** 중량조건적합정반들: ['A', 'B']\n",
      "\n",
      ">>> 대상정반:A, 조회기간최소면적:229, 블록명:S18, 최선조기착수일: 2024-02-01 00:00:00\n",
      ">>> 대상정반:B, 조회기간최소면적:1020, 블록명:S18, 최선조기착수일: 2024-02-01 00:00:00\n",
      "*** 최선조기착수일후보: {'A': Timestamp('2024-02-01 00:00:00', freq='D'), 'B': Timestamp('2024-02-01 00:00:00', freq='D')}\n",
      "[('A', Timestamp('2024-02-01 00:00:00', freq='D')), ('B', Timestamp('2024-02-01 00:00:00', freq='D'))]\n",
      "\n",
      ">>> 최소요구납기충족리스트: [('A', Timestamp('2024-02-01 00:00:00', freq='D')), ('B', Timestamp('2024-02-01 00:00:00', freq='D'))]\n",
      "\n",
      "*** 랜덤선택 최선정반명:A, 최선조기착수일:2024-02-01\n",
      "\n",
      "\n",
      "1차검토 - Block 7 of height 11 width 13 could not be placed.\n"
     ]
    },
    {
     "name": "stderr",
     "output_type": "stream",
     "text": [
      "\r",
      " 43%|▍| 13/30 [00:02<00:03,  4.52"
     ]
    },
    {
     "name": "stdout",
     "output_type": "stream",
     "text": [
      "2차검토 - Block 7 of height 13 width 11 could not be placed.\n",
      "1차검토 - Block 7 of height 11 width 13 could not be placed.\n",
      "2차검토 - Block 7 of height 13 width 11 could not be placed.\n",
      "1차검토 - Block 7 of height 11 width 13 could not be placed.\n",
      "2차검토 - Block 7 of height 13 width 11 could not be placed.\n",
      "1차검토 - Block 7 of height 11 width 13 could not be placed.\n",
      "2차검토 - Block 7 of height 13 width 11 could not be placed.\n",
      "1차검토 - Block 7 of height 11 width 13 could not be placed.\n",
      "2차검토 - Block 7 of height 13 width 11 could not be placed.\n",
      "1차검토 - Block 7 of height 11 width 13 could not be placed.\n",
      "2차검토 - Block 7 of height 13 width 11 could not be placed.\n",
      "레이아웃적합도리스트: ['부적합', '부적합', '부적합', '부적합', '부적합', '부적합', '적합']\n",
      "*** 적합도리스트체크: 부적합\n",
      "블록길이 조건상 레이아웃 배치 불가능!!\n",
      "==========================================================================================\n",
      "\n",
      "*** 검토대상블록: S26, 사이즈: (11, 14), 표준공기: 6, 최소착수요구일:2024-03-25\n",
      "\n",
      "*** 중량조건적합정반들: ['A', 'B']\n",
      "\n",
      ">>> 대상정반:A, 조회기간최소면적:229, 블록명:S26, 최선조기착수일: 2024-02-01 00:00:00\n",
      ">>> 대상정반:B, 조회기간최소면적:1020, 블록명:S26, 최선조기착수일: 2024-02-01 00:00:00\n",
      "*** 최선조기착수일후보: {'A': Timestamp('2024-02-01 00:00:00', freq='D'), 'B': Timestamp('2024-02-01 00:00:00', freq='D')}\n",
      "[('A', Timestamp('2024-02-01 00:00:00', freq='D')), ('B', Timestamp('2024-02-01 00:00:00', freq='D'))]\n",
      "\n",
      ">>> 최소요구납기충족리스트: [('A', Timestamp('2024-02-01 00:00:00', freq='D')), ('B', Timestamp('2024-02-01 00:00:00', freq='D'))]\n",
      "\n",
      "*** 랜덤선택 최선정반명:A, 최선조기착수일:2024-02-01\n",
      "\n",
      "\n",
      "1차검토 - Block 7 of height 11 width 14 could not be placed.\n",
      "2차검토 - Block 7 of height 14 width 11 could not be placed.\n",
      "1차검토 - Block 7 of height 11 width 14 could not be placed.\n",
      "2차검토 - Block 7 of height 14 width 11 could not be placed.\n",
      "1차검토 - Block 7 of height 11 width 14 could not be placed.\n",
      "2차검토 - Block 7 of height 14 width 11 could not be placed.\n"
     ]
    },
    {
     "name": "stderr",
     "output_type": "stream",
     "text": [
      " 50%|▌| 15/30 [00:02<00:03,  4.72"
     ]
    },
    {
     "name": "stdout",
     "output_type": "stream",
     "text": [
      "1차검토 - Block 7 of height 11 width 14 could not be placed.\n",
      "2차검토 - Block 7 of height 14 width 11 could not be placed.\n",
      "1차검토 - Block 7 of height 11 width 14 could not be placed.\n",
      "2차검토 - Block 7 of height 14 width 11 could not be placed.\n",
      "1차검토 - Block 7 of height 11 width 14 could not be placed.\n",
      "2차검토 - Block 7 of height 14 width 11 could not be placed.\n",
      "레이아웃적합도리스트: ['부적합', '부적합', '부적합', '부적합', '부적합', '부적합']\n",
      "*** 적합도리스트체크: 부적합\n",
      "블록길이 조건상 레이아웃 배치 불가능!!\n",
      "==========================================================================================\n",
      "\n",
      "*** 검토대상블록: S25, 사이즈: (10, 15), 표준공기: 6, 최소착수요구일:2024-03-14\n",
      "\n",
      "*** 중량조건적합정반들: ['A', 'B']\n",
      "\n",
      ">>> 대상정반:A, 조회기간최소면적:229, 블록명:S25, 최선조기착수일: 2024-02-01 00:00:00\n",
      ">>> 대상정반:B, 조회기간최소면적:1020, 블록명:S25, 최선조기착수일: 2024-02-01 00:00:00\n",
      "*** 최선조기착수일후보: {'A': Timestamp('2024-02-01 00:00:00', freq='D'), 'B': Timestamp('2024-02-01 00:00:00', freq='D')}\n",
      "[('B', Timestamp('2024-02-01 00:00:00', freq='D')), ('A', Timestamp('2024-02-01 00:00:00', freq='D'))]\n",
      "\n",
      ">>> 최소요구납기충족리스트: [('B', Timestamp('2024-02-01 00:00:00', freq='D')), ('A', Timestamp('2024-02-01 00:00:00', freq='D'))]\n",
      "\n",
      "*** 랜덤선택 최선정반명:B, 최선조기착수일:2024-02-01\n",
      "\n",
      "\n",
      "레이아웃적합도리스트: ['적합', '적합', '적합', '적합', '적합', '적합']\n",
      "*** 적합도리스트체크: 적합\n",
      "*** 정상배치 완료\n",
      "==========================================================================================\n",
      "\n",
      "*** 검토대상블록: S13, 사이즈: (9, 15), 표준공기: 6, 최소착수요구일:2024-02-23\n",
      "\n",
      "*** 중량조건적합정반들: ['A', 'B']\n",
      "\n",
      ">>> 대상정반:A, 조회기간최소면적:229, 블록명:S13, 최선조기착수일: 2024-02-01 00:00:00\n",
      ">>> 대상정반:B, 조회기간최소면적:870, 블록명:S13, 최선조기착수일: 2024-02-01 00:00:00\n",
      "*** 최선조기착수일후보: {'A': Timestamp('2024-02-01 00:00:00', freq='D'), 'B': Timestamp('2024-02-01 00:00:00', freq='D')}\n",
      "[('B', Timestamp('2024-02-01 00:00:00', freq='D')), ('A', Timestamp('2024-02-01 00:00:00', freq='D'))]\n",
      "\n",
      ">>> 최소요구납기충족리스트: [('B', Timestamp('2024-02-01 00:00:00', freq='D')), ('A', Timestamp('2024-02-01 00:00:00', freq='D'))]\n",
      "\n",
      "*** 랜덤선택 최선정반명:B, 최선조기착수일:2024-02-01\n",
      "\n",
      "\n"
     ]
    },
    {
     "name": "stderr",
     "output_type": "stream",
     "text": [
      " 57%|▌| 17/30 [00:02<00:02,  5.02"
     ]
    },
    {
     "name": "stdout",
     "output_type": "stream",
     "text": [
      "레이아웃적합도리스트: ['적합', '적합', '적합', '적합', '적합', '적합']\n",
      "*** 적합도리스트체크: 적합\n",
      "*** 정상배치 완료\n",
      "==========================================================================================\n",
      "\n",
      "*** 검토대상블록: S4, 사이즈: (10, 12), 표준공기: 7, 최소착수요구일:2024-02-08\n",
      "\n",
      "*** 중량조건적합정반들: ['A', 'B']\n",
      "\n",
      ">>> 대상정반:A, 조회기간최소면적:229, 블록명:S4, 최선조기착수일: 2024-02-01 00:00:00\n",
      ">>> 대상정반:B, 조회기간최소면적:735, 블록명:S4, 최선조기착수일: 2024-02-01 00:00:00\n",
      "*** 최선조기착수일후보: {'A': Timestamp('2024-02-01 00:00:00', freq='D'), 'B': Timestamp('2024-02-01 00:00:00', freq='D')}\n",
      "[('B', Timestamp('2024-02-01 00:00:00', freq='D')), ('A', Timestamp('2024-02-01 00:00:00', freq='D'))]\n",
      "\n",
      ">>> 최소요구납기충족리스트: [('B', Timestamp('2024-02-01 00:00:00', freq='D')), ('A', Timestamp('2024-02-01 00:00:00', freq='D'))]\n",
      "\n",
      "*** 랜덤선택 최선정반명:B, 최선조기착수일:2024-02-01\n",
      "\n",
      "\n",
      "레이아웃적합도리스트: ['적합', '적합', '적합', '적합', '적합', '적합', '적합']\n",
      "*** 적합도리스트체크: 적합\n",
      "*** 정상배치 완료\n",
      "==========================================================================================\n",
      "\n"
     ]
    },
    {
     "name": "stderr",
     "output_type": "stream",
     "text": [
      "\r",
      " 60%|▌| 18/30 [00:03<00:02,  4.26"
     ]
    },
    {
     "name": "stdout",
     "output_type": "stream",
     "text": [
      "*** 검토대상블록: S24, 사이즈: (8, 16), 표준공기: 7, 최소착수요구일:2024-03-13\n",
      "\n",
      "*** 중량조건적합정반들: ['A', 'B']\n",
      "\n",
      ">>> 대상정반:A, 조회기간최소면적:229, 블록명:S24, 최선조기착수일: 2024-02-01 00:00:00\n",
      ">>> 대상정반:B, 조회기간최소면적:615, 블록명:S24, 최선조기착수일: 2024-02-01 00:00:00\n",
      "*** 최선조기착수일후보: {'A': Timestamp('2024-02-01 00:00:00', freq='D'), 'B': Timestamp('2024-02-01 00:00:00', freq='D')}\n",
      "[('B', Timestamp('2024-02-01 00:00:00', freq='D')), ('A', Timestamp('2024-02-01 00:00:00', freq='D'))]\n",
      "\n",
      ">>> 최소요구납기충족리스트: [('B', Timestamp('2024-02-01 00:00:00', freq='D')), ('A', Timestamp('2024-02-01 00:00:00', freq='D'))]\n",
      "\n",
      "*** 랜덤선택 최선정반명:B, 최선조기착수일:2024-02-01\n",
      "\n",
      "\n",
      "레이아웃적합도리스트: ['적합', '적합', '적합', '적합', '적합', '적합', '적합']\n",
      "*** 적합도리스트체크: 적합\n",
      "*** 정상배치 완료\n",
      "==========================================================================================\n",
      "\n",
      "*** 검토대상블록: S19, 사이즈: (9, 14), 표준공기: 7, 최소착수요구일:2024-03-03\n",
      "\n",
      "*** 중량조건적합정반들: ['A', 'B']\n",
      "\n",
      ">>> 대상정반:A, 조회기간최소면적:229, 블록명:S19, 최선조기착수일: 2024-02-01 00:00:00\n",
      ">>> 대상정반:B, 조회기간최소면적:487, 블록명:S19, 최선조기착수일: 2024-02-01 00:00:00\n",
      "*** 최선조기착수일후보: {'A': Timestamp('2024-02-01 00:00:00', freq='D'), 'B': Timestamp('2024-02-01 00:00:00', freq='D')}\n",
      "[('A', Timestamp('2024-02-01 00:00:00', freq='D')), ('B', Timestamp('2024-02-01 00:00:00', freq='D'))]\n",
      "\n",
      ">>> 최소요구납기충족리스트: [('A', Timestamp('2024-02-01 00:00:00', freq='D')), ('B', Timestamp('2024-02-01 00:00:00', freq='D'))]\n",
      "\n",
      "*** 랜덤선택 최선정반명:A, 최선조기착수일:2024-02-01\n",
      "\n",
      "\n",
      "1차검토 - Block 7 of height 9 width 14 could not be placed.\n",
      "2차검토 - Block 7 of height 14 width 9 could not be placed.\n",
      "1차검토 - Block 7 of height 9 width 14 could not be placed.\n",
      "2차검토 - Block 7 of height 14 width 9 could not be placed.\n",
      "1차검토 - Block 7 of height 9 width 14 could not be placed.\n",
      "2차검토 - Block 7 of height 14 width 9 could not be placed.\n",
      "1차검토 - Block 7 of height 9 width 14 could not be placed.\n",
      "2차검토 - Block 7 of height 14 width 9 could not be placed.\n",
      "1차검토 - Block 7 of height 9 width 14 could not be placed.\n",
      "2차검토 - Block 7 of height 14 width 9 could not be placed.\n",
      "1차검토 - Block 7 of height 9 width 14 could not be placed.\n",
      "2차검토 - Block 7 of height 14 width 9 could not be placed.\n"
     ]
    },
    {
     "name": "stderr",
     "output_type": "stream",
     "text": [
      "\r",
      " 63%|▋| 19/30 [00:03<00:02,  3.86"
     ]
    },
    {
     "name": "stdout",
     "output_type": "stream",
     "text": [
      "레이아웃적합도리스트: ['부적합', '부적합', '부적합', '부적합', '부적합', '부적합', '적합']\n",
      "*** 적합도리스트체크: 부적합\n",
      "블록길이 조건상 레이아웃 배치 불가능!!\n",
      "==========================================================================================\n",
      "\n",
      "*** 검토대상블록: S23, 사이즈: (8, 16), 표준공기: 6, 최소착수요구일:2024-03-14\n",
      "\n",
      "*** 중량조건적합정반들: ['A', 'B']\n",
      "\n",
      ">>> 대상정반:A, 조회기간최소면적:229, 블록명:S23, 최선조기착수일: 2024-02-01 00:00:00\n",
      ">>> 대상정반:B, 조회기간최소면적:487, 블록명:S23, 최선조기착수일: 2024-02-01 00:00:00\n",
      "*** 최선조기착수일후보: {'A': Timestamp('2024-02-01 00:00:00', freq='D'), 'B': Timestamp('2024-02-01 00:00:00', freq='D')}\n",
      "[('A', Timestamp('2024-02-01 00:00:00', freq='D')), ('B', Timestamp('2024-02-01 00:00:00', freq='D'))]\n",
      "\n",
      ">>> 최소요구납기충족리스트: [('A', Timestamp('2024-02-01 00:00:00', freq='D')), ('B', Timestamp('2024-02-01 00:00:00', freq='D'))]\n",
      "\n",
      "*** 랜덤선택 최선정반명:A, 최선조기착수일:2024-02-01\n",
      "\n",
      "\n",
      "1차검토 - Block 7 of height 8 width 16 could not be placed.\n",
      "2차검토 - Block 7 of height 16 width 8 could not be placed.\n",
      "1차검토 - Block 7 of height 8 width 16 could not be placed.\n",
      "2차검토 - Block 7 of height 16 width 8 could not be placed.\n",
      "1차검토 - Block 7 of height 8 width 16 could not be placed.\n",
      "2차검토 - Block 7 of height 16 width 8 could not be placed.\n",
      "1차검토 - Block 7 of height 8 width 16 could not be placed.\n",
      "2차검토 - Block 7 of height 16 width 8 could not be placed.\n",
      "1차검토 - Block 7 of height 8 width 16 could not be placed.\n"
     ]
    },
    {
     "name": "stderr",
     "output_type": "stream",
     "text": [
      "\r",
      " 67%|▋| 20/30 [00:03<00:02,  3.78"
     ]
    },
    {
     "name": "stdout",
     "output_type": "stream",
     "text": [
      "2차검토 - Block 7 of height 16 width 8 could not be placed.\n",
      "1차검토 - Block 7 of height 8 width 16 could not be placed.\n",
      "2차검토 - Block 7 of height 16 width 8 could not be placed.\n",
      "레이아웃적합도리스트: ['부적합', '부적합', '부적합', '부적합', '부적합', '부적합']\n",
      "*** 적합도리스트체크: 부적합\n",
      "블록길이 조건상 레이아웃 배치 불가능!!\n",
      "==========================================================================================\n",
      "\n",
      "*** 검토대상블록: S17, 사이즈: (8, 14), 표준공기: 8, 최소착수요구일:2024-03-02\n",
      "\n",
      "*** 중량조건적합정반들: ['A', 'B']\n",
      "\n",
      ">>> 대상정반:A, 조회기간최소면적:229, 블록명:S17, 최선조기착수일: 2024-02-01 00:00:00\n",
      ">>> 대상정반:B, 조회기간최소면적:487, 블록명:S17, 최선조기착수일: 2024-02-01 00:00:00\n",
      "*** 최선조기착수일후보: {'A': Timestamp('2024-02-01 00:00:00', freq='D'), 'B': Timestamp('2024-02-01 00:00:00', freq='D')}\n",
      "[('A', Timestamp('2024-02-01 00:00:00', freq='D')), ('B', Timestamp('2024-02-01 00:00:00', freq='D'))]\n",
      "\n",
      ">>> 최소요구납기충족리스트: [('A', Timestamp('2024-02-01 00:00:00', freq='D')), ('B', Timestamp('2024-02-01 00:00:00', freq='D'))]\n",
      "\n",
      "*** 랜덤선택 최선정반명:A, 최선조기착수일:2024-02-01\n",
      "\n",
      "\n",
      "1차검토 - Block 7 of height 8 width 14 could not be placed.\n",
      "2차검토 - Block 7 of height 14 width 8 could not be placed.\n",
      "1차검토 - Block 7 of height 8 width 14 could not be placed.\n",
      "2차검토 - Block 7 of height 14 width 8 could not be placed.\n",
      "1차검토 - Block 7 of height 8 width 14 could not be placed.\n",
      "2차검토 - Block 7 of height 14 width 8 could not be placed.\n",
      "1차검토 - Block 7 of height 8 width 14 could not be placed.\n",
      "2차검토 - Block 7 of height 14 width 8 could not be placed.\n"
     ]
    },
    {
     "name": "stderr",
     "output_type": "stream",
     "text": [
      "\r",
      " 70%|▋| 21/30 [00:04<00:02,  3.61"
     ]
    },
    {
     "name": "stdout",
     "output_type": "stream",
     "text": [
      "1차검토 - Block 7 of height 8 width 14 could not be placed.\n",
      "2차검토 - Block 7 of height 14 width 8 could not be placed.\n",
      "1차검토 - Block 7 of height 8 width 14 could not be placed.\n",
      "2차검토 - Block 7 of height 14 width 8 could not be placed.\n",
      "레이아웃적합도리스트: ['부적합', '부적합', '부적합', '부적합', '부적합', '부적합', '적합', '적합']\n",
      "*** 적합도리스트체크: 부적합\n",
      "블록길이 조건상 레이아웃 배치 불가능!!\n",
      "==========================================================================================\n",
      "\n",
      "*** 검토대상블록: S7, 사이즈: (8, 12), 표준공기: 8, 최소착수요구일:2024-02-12\n",
      "\n",
      "*** 중량조건적합정반들: ['A', 'B']\n",
      "\n",
      ">>> 대상정반:A, 조회기간최소면적:229, 블록명:S7, 최선조기착수일: 2024-02-01 00:00:00\n",
      ">>> 대상정반:B, 조회기간최소면적:487, 블록명:S7, 최선조기착수일: 2024-02-01 00:00:00\n",
      "*** 최선조기착수일후보: {'A': Timestamp('2024-02-01 00:00:00', freq='D'), 'B': Timestamp('2024-02-01 00:00:00', freq='D')}\n",
      "[('A', Timestamp('2024-02-01 00:00:00', freq='D')), ('B', Timestamp('2024-02-01 00:00:00', freq='D'))]\n",
      "\n",
      ">>> 최소요구납기충족리스트: [('A', Timestamp('2024-02-01 00:00:00', freq='D')), ('B', Timestamp('2024-02-01 00:00:00', freq='D'))]\n",
      "\n",
      "*** 랜덤선택 최선정반명:A, 최선조기착수일:2024-02-01\n",
      "\n",
      "\n",
      "1차검토 - Block 7 of height 8 width 12 could not be placed.\n",
      "2차검토 - Block 7 of height 12 width 8 could not be placed.\n",
      "1차검토 - Block 7 of height 8 width 12 could not be placed.\n",
      "2차검토 - Block 7 of height 12 width 8 could not be placed.\n"
     ]
    },
    {
     "name": "stderr",
     "output_type": "stream",
     "text": [
      "\r",
      " 73%|▋| 22/30 [00:04<00:02,  3.26"
     ]
    },
    {
     "name": "stdout",
     "output_type": "stream",
     "text": [
      "1차검토 - Block 7 of height 8 width 12 could not be placed.\n",
      "2차검토 - Block 7 of height 12 width 8 could not be placed.\n",
      "1차검토 - Block 7 of height 8 width 12 could not be placed.\n",
      "2차검토 - Block 7 of height 12 width 8 could not be placed.\n",
      "1차검토 - Block 7 of height 8 width 12 could not be placed.\n",
      "2차검토 - Block 7 of height 12 width 8 could not be placed.\n",
      "1차검토 - Block 7 of height 8 width 12 could not be placed.\n",
      "2차검토 - Block 7 of height 12 width 8 could not be placed.\n",
      "레이아웃적합도리스트: ['부적합', '부적합', '부적합', '부적합', '부적합', '부적합', '적합', '적합']\n",
      "*** 적합도리스트체크: 부적합\n",
      "블록길이 조건상 레이아웃 배치 불가능!!\n",
      "==========================================================================================\n",
      "\n",
      "*** 검토대상블록: S15, 사이즈: (9, 13), 표준공기: 6, 최소착수요구일:2024-02-23\n",
      "\n",
      "*** 중량조건적합정반들: ['A', 'B']\n",
      "\n",
      ">>> 대상정반:A, 조회기간최소면적:229, 블록명:S15, 최선조기착수일: 2024-02-01 00:00:00\n",
      ">>> 대상정반:B, 조회기간최소면적:487, 블록명:S15, 최선조기착수일: 2024-02-01 00:00:00\n",
      "*** 최선조기착수일후보: {'A': Timestamp('2024-02-01 00:00:00', freq='D'), 'B': Timestamp('2024-02-01 00:00:00', freq='D')}\n",
      "[('A', Timestamp('2024-02-01 00:00:00', freq='D')), ('B', Timestamp('2024-02-01 00:00:00', freq='D'))]\n",
      "\n",
      ">>> 최소요구납기충족리스트: [('A', Timestamp('2024-02-01 00:00:00', freq='D')), ('B', Timestamp('2024-02-01 00:00:00', freq='D'))]\n",
      "\n",
      "*** 랜덤선택 최선정반명:A, 최선조기착수일:2024-02-01\n",
      "\n",
      "\n",
      "1차검토 - Block 7 of height 9 width 13 could not be placed.\n",
      "2차검토 - Block 7 of height 13 width 9 could not be placed.\n",
      "1차검토 - Block 7 of height 9 width 13 could not be placed.\n",
      "2차검토 - Block 7 of height 13 width 9 could not be placed.\n",
      "1차검토 - Block 7 of height 9 width 13 could not be placed.\n",
      "2차검토 - Block 7 of height 13 width 9 could not be placed.\n"
     ]
    },
    {
     "name": "stderr",
     "output_type": "stream",
     "text": [
      "\r",
      " 77%|▊| 23/30 [00:04<00:02,  3.33"
     ]
    },
    {
     "name": "stdout",
     "output_type": "stream",
     "text": [
      "1차검토 - Block 7 of height 9 width 13 could not be placed.\n",
      "2차검토 - Block 7 of height 13 width 9 could not be placed.\n",
      "1차검토 - Block 7 of height 9 width 13 could not be placed.\n",
      "2차검토 - Block 7 of height 13 width 9 could not be placed.\n",
      "1차검토 - Block 7 of height 9 width 13 could not be placed.\n",
      "2차검토 - Block 7 of height 13 width 9 could not be placed.\n",
      "레이아웃적합도리스트: ['부적합', '부적합', '부적합', '부적합', '부적합', '부적합']\n",
      "*** 적합도리스트체크: 부적합\n",
      "블록길이 조건상 레이아웃 배치 불가능!!\n",
      "==========================================================================================\n",
      "\n",
      "*** 검토대상블록: S11, 사이즈: (9, 13), 표준공기: 6, 최소착수요구일:2024-02-23\n",
      "\n",
      "*** 중량조건적합정반들: ['A', 'B']\n",
      "\n",
      ">>> 대상정반:A, 조회기간최소면적:229, 블록명:S11, 최선조기착수일: 2024-02-01 00:00:00\n",
      ">>> 대상정반:B, 조회기간최소면적:487, 블록명:S11, 최선조기착수일: 2024-02-01 00:00:00\n",
      "*** 최선조기착수일후보: {'A': Timestamp('2024-02-01 00:00:00', freq='D'), 'B': Timestamp('2024-02-01 00:00:00', freq='D')}\n",
      "[('A', Timestamp('2024-02-01 00:00:00', freq='D')), ('B', Timestamp('2024-02-01 00:00:00', freq='D'))]\n",
      "\n",
      ">>> 최소요구납기충족리스트: [('A', Timestamp('2024-02-01 00:00:00', freq='D')), ('B', Timestamp('2024-02-01 00:00:00', freq='D'))]\n",
      "\n",
      "*** 랜덤선택 최선정반명:A, 최선조기착수일:2024-02-01\n",
      "\n",
      "\n",
      "1차검토 - Block 7 of height 9 width 13 could not be placed.\n",
      "2차검토 - Block 7 of height 13 width 9 could not be placed.\n",
      "1차검토 - Block 7 of height 9 width 13 could not be placed.\n",
      "2차검토 - Block 7 of height 13 width 9 could not be placed.\n",
      "1차검토 - Block 7 of height 9 width 13 could not be placed.\n",
      "2차검토 - Block 7 of height 13 width 9 could not be placed.\n",
      "1차검토 - Block 7 of height 9 width 13 could not be placed.\n",
      "2차검토 - Block 7 of height 13 width 9 could not be placed.\n"
     ]
    },
    {
     "name": "stderr",
     "output_type": "stream",
     "text": [
      "\r",
      " 80%|▊| 24/30 [00:05<00:01,  3.35"
     ]
    },
    {
     "name": "stdout",
     "output_type": "stream",
     "text": [
      "1차검토 - Block 7 of height 9 width 13 could not be placed.\n",
      "2차검토 - Block 7 of height 13 width 9 could not be placed.\n",
      "1차검토 - Block 7 of height 9 width 13 could not be placed.\n",
      "2차검토 - Block 7 of height 13 width 9 could not be placed.\n",
      "레이아웃적합도리스트: ['부적합', '부적합', '부적합', '부적합', '부적합', '부적합']\n",
      "*** 적합도리스트체크: 부적합\n",
      "블록길이 조건상 레이아웃 배치 불가능!!\n",
      "==========================================================================================\n",
      "\n",
      "*** 검토대상블록: S20, 사이즈: (9, 13), 표준공기: 6, 최소착수요구일:2024-03-04\n",
      "\n",
      "*** 중량조건적합정반들: ['A', 'B']\n",
      "\n",
      ">>> 대상정반:A, 조회기간최소면적:229, 블록명:S20, 최선조기착수일: 2024-02-01 00:00:00\n",
      ">>> 대상정반:B, 조회기간최소면적:487, 블록명:S20, 최선조기착수일: 2024-02-01 00:00:00\n",
      "*** 최선조기착수일후보: {'A': Timestamp('2024-02-01 00:00:00', freq='D'), 'B': Timestamp('2024-02-01 00:00:00', freq='D')}\n",
      "[('B', Timestamp('2024-02-01 00:00:00', freq='D')), ('A', Timestamp('2024-02-01 00:00:00', freq='D'))]\n",
      "\n",
      ">>> 최소요구납기충족리스트: [('B', Timestamp('2024-02-01 00:00:00', freq='D')), ('A', Timestamp('2024-02-01 00:00:00', freq='D'))]\n",
      "\n",
      "*** 랜덤선택 최선정반명:B, 최선조기착수일:2024-02-01\n",
      "\n",
      "\n"
     ]
    },
    {
     "name": "stderr",
     "output_type": "stream",
     "text": [
      "\r",
      " 83%|▊| 25/30 [00:05<00:01,  3.39"
     ]
    },
    {
     "name": "stdout",
     "output_type": "stream",
     "text": [
      "레이아웃적합도리스트: ['적합', '적합', '적합', '적합', '적합', '적합']\n",
      "*** 적합도리스트체크: 적합\n",
      "*** 정상배치 완료\n",
      "==========================================================================================\n",
      "\n",
      "*** 검토대상블록: S29, 사이즈: (9, 9), 표준공기: 8, 최소착수요구일:2024-03-23\n",
      "\n",
      "*** 중량조건적합정반들: ['A', 'B']\n",
      "\n",
      ">>> 대상정반:A, 조회기간최소면적:229, 블록명:S29, 최선조기착수일: 2024-02-01 00:00:00\n",
      ">>> 대상정반:B, 조회기간최소면적:370, 블록명:S29, 최선조기착수일: 2024-02-01 00:00:00\n",
      "*** 최선조기착수일후보: {'A': Timestamp('2024-02-01 00:00:00', freq='D'), 'B': Timestamp('2024-02-01 00:00:00', freq='D')}\n",
      "[('B', Timestamp('2024-02-01 00:00:00', freq='D')), ('A', Timestamp('2024-02-01 00:00:00', freq='D'))]\n",
      "\n",
      ">>> 최소요구납기충족리스트: [('B', Timestamp('2024-02-01 00:00:00', freq='D')), ('A', Timestamp('2024-02-01 00:00:00', freq='D'))]\n",
      "\n",
      "*** 랜덤선택 최선정반명:B, 최선조기착수일:2024-02-01\n",
      "\n",
      "\n"
     ]
    },
    {
     "name": "stderr",
     "output_type": "stream",
     "text": [
      "\r",
      " 87%|▊| 26/30 [00:05<00:01,  3.08"
     ]
    },
    {
     "name": "stdout",
     "output_type": "stream",
     "text": [
      "레이아웃적합도리스트: ['적합', '적합', '적합', '적합', '적합', '적합', '적합', '적합']\n",
      "*** 적합도리스트체크: 적합\n",
      "*** 정상배치 완료\n",
      "==========================================================================================\n",
      "\n",
      "*** 검토대상블록: S10, 사이즈: (8, 8), 표준공기: 7, 최소착수요구일:2024-02-13\n",
      "\n",
      "*** 중량조건적합정반들: ['A', 'B']\n",
      "\n",
      ">>> 대상정반:A, 조회기간최소면적:229, 블록명:S10, 최선조기착수일: 2024-02-01 00:00:00\n",
      ">>> 대상정반:B, 조회기간최소면적:289, 블록명:S10, 최선조기착수일: 2024-02-01 00:00:00\n",
      "*** 최선조기착수일후보: {'A': Timestamp('2024-02-01 00:00:00', freq='D'), 'B': Timestamp('2024-02-01 00:00:00', freq='D')}\n",
      "[('A', Timestamp('2024-02-01 00:00:00', freq='D')), ('B', Timestamp('2024-02-01 00:00:00', freq='D'))]\n",
      "\n",
      ">>> 최소요구납기충족리스트: [('A', Timestamp('2024-02-01 00:00:00', freq='D')), ('B', Timestamp('2024-02-01 00:00:00', freq='D'))]\n",
      "\n",
      "*** 랜덤선택 최선정반명:A, 최선조기착수일:2024-02-01\n",
      "\n",
      "\n",
      "1차검토 - Block 7 of height 8 width 8 could not be placed.\n",
      "2차검토 - Block 7 of height 8 width 8 could not be placed.\n",
      "1차검토 - Block 7 of height 8 width 8 could not be placed.\n",
      "2차검토 - Block 7 of height 8 width 8 could not be placed.\n",
      "1차검토 - Block 7 of height 8 width 8 could not be placed.\n",
      "2차검토 - Block 7 of height 8 width 8 could not be placed.\n",
      "1차검토 - Block 7 of height 8 width 8 could not be placed.\n",
      "2차검토 - Block 7 of height 8 width 8 could not be placed.\n"
     ]
    },
    {
     "name": "stderr",
     "output_type": "stream",
     "text": [
      "\r",
      " 90%|▉| 27/30 [00:06<00:00,  3.06"
     ]
    },
    {
     "name": "stdout",
     "output_type": "stream",
     "text": [
      "1차검토 - Block 7 of height 8 width 8 could not be placed.\n",
      "2차검토 - Block 7 of height 8 width 8 could not be placed.\n",
      "1차검토 - Block 7 of height 8 width 8 could not be placed.\n",
      "2차검토 - Block 7 of height 8 width 8 could not be placed.\n",
      "레이아웃적합도리스트: ['부적합', '부적합', '부적합', '부적합', '부적합', '부적합', '적합']\n",
      "*** 적합도리스트체크: 부적합\n",
      "블록길이 조건상 레이아웃 배치 불가능!!\n",
      "==========================================================================================\n",
      "\n",
      "*** 검토대상블록: S12, 사이즈: (8, 9), 표준공기: 6, 최소착수요구일:2024-02-23\n",
      "\n",
      "*** 중량조건적합정반들: ['A', 'B']\n",
      "\n",
      ">>> 대상정반:A, 조회기간최소면적:229, 블록명:S12, 최선조기착수일: 2024-02-01 00:00:00\n",
      ">>> 대상정반:B, 조회기간최소면적:289, 블록명:S12, 최선조기착수일: 2024-02-01 00:00:00\n",
      "*** 최선조기착수일후보: {'A': Timestamp('2024-02-01 00:00:00', freq='D'), 'B': Timestamp('2024-02-01 00:00:00', freq='D')}\n",
      "[('B', Timestamp('2024-02-01 00:00:00', freq='D')), ('A', Timestamp('2024-02-01 00:00:00', freq='D'))]\n",
      "\n",
      ">>> 최소요구납기충족리스트: [('B', Timestamp('2024-02-01 00:00:00', freq='D')), ('A', Timestamp('2024-02-01 00:00:00', freq='D'))]\n",
      "\n",
      "*** 랜덤선택 최선정반명:B, 최선조기착수일:2024-02-01\n",
      "\n",
      "\n"
     ]
    },
    {
     "name": "stderr",
     "output_type": "stream",
     "text": [
      "\r",
      " 93%|▉| 28/30 [00:06<00:00,  2.90"
     ]
    },
    {
     "name": "stdout",
     "output_type": "stream",
     "text": [
      "레이아웃적합도리스트: ['적합', '적합', '적합', '적합', '적합', '적합']\n",
      "*** 적합도리스트체크: 적합\n",
      "*** 정상배치 완료\n",
      "==========================================================================================\n",
      "\n",
      "*** 검토대상블록: S30, 사이즈: (9, 11), 표준공기: 5, 최소착수요구일:2024-03-26\n",
      "\n",
      "*** 중량조건적합정반들: ['A', 'B']\n",
      "\n",
      ">>> 대상정반:A, 조회기간최소면적:229, 블록명:S30, 최선조기착수일: 2024-02-01 00:00:00\n",
      ">>> 대상정반:B, 조회기간최소면적:217, 블록명:S30, 최선조기착수일: 2024-02-01 00:00:00\n",
      "*** 최선조기착수일후보: {'A': Timestamp('2024-02-01 00:00:00', freq='D'), 'B': Timestamp('2024-02-01 00:00:00', freq='D')}\n",
      "[('A', Timestamp('2024-02-01 00:00:00', freq='D')), ('B', Timestamp('2024-02-01 00:00:00', freq='D'))]\n",
      "\n",
      ">>> 최소요구납기충족리스트: [('A', Timestamp('2024-02-01 00:00:00', freq='D')), ('B', Timestamp('2024-02-01 00:00:00', freq='D'))]\n",
      "\n",
      "*** 랜덤선택 최선정반명:A, 최선조기착수일:2024-02-01\n",
      "\n",
      "\n",
      "1차검토 - Block 7 of height 9 width 11 could not be placed.\n",
      "2차검토 - Block 7 of height 11 width 9 could not be placed.\n",
      "1차검토 - Block 7 of height 9 width 11 could not be placed.\n",
      "2차검토 - Block 7 of height 11 width 9 could not be placed.\n",
      "1차검토 - Block 7 of height 9 width 11 could not be placed.\n",
      "2차검토 - Block 7 of height 11 width 9 could not be placed.\n",
      "1차검토 - Block 7 of height 9 width 11 could not be placed.\n",
      "2차검토 - Block 7 of height 11 width 9 could not be placed.\n"
     ]
    },
    {
     "name": "stderr",
     "output_type": "stream",
     "text": [
      "\r",
      " 97%|▉| 29/30 [00:06<00:00,  3.14"
     ]
    },
    {
     "name": "stdout",
     "output_type": "stream",
     "text": [
      "1차검토 - Block 7 of height 9 width 11 could not be placed.\n",
      "2차검토 - Block 7 of height 11 width 9 could not be placed.\n",
      "레이아웃적합도리스트: ['부적합', '부적합', '부적합', '부적합', '부적합']\n",
      "*** 적합도리스트체크: 부적합\n",
      "블록길이 조건상 레이아웃 배치 불가능!!\n",
      "==========================================================================================\n",
      "\n",
      "*** 검토대상블록: S28, 사이즈: (8, 11), 표준공기: 5, 최소착수요구일:2024-03-26\n",
      "\n",
      "*** 중량조건적합정반들: ['A', 'B']\n",
      "\n",
      ">>> 대상정반:A, 조회기간최소면적:229, 블록명:S28, 최선조기착수일: 2024-02-01 00:00:00\n",
      ">>> 대상정반:B, 조회기간최소면적:217, 블록명:S28, 최선조기착수일: 2024-02-01 00:00:00\n",
      "*** 최선조기착수일후보: {'A': Timestamp('2024-02-01 00:00:00', freq='D'), 'B': Timestamp('2024-02-01 00:00:00', freq='D')}\n",
      "[('A', Timestamp('2024-02-01 00:00:00', freq='D')), ('B', Timestamp('2024-02-01 00:00:00', freq='D'))]\n",
      "\n",
      ">>> 최소요구납기충족리스트: [('A', Timestamp('2024-02-01 00:00:00', freq='D')), ('B', Timestamp('2024-02-01 00:00:00', freq='D'))]\n",
      "\n",
      "*** 랜덤선택 최선정반명:A, 최선조기착수일:2024-02-01\n",
      "\n",
      "\n",
      "1차검토 - Block 7 of height 8 width 11 could not be placed.\n",
      "2차검토 - Block 7 of height 11 width 8 could not be placed.\n",
      "1차검토 - Block 7 of height 8 width 11 could not be placed.\n",
      "2차검토 - Block 7 of height 11 width 8 could not be placed.\n",
      "1차검토 - Block 7 of height 8 width 11 could not be placed.\n",
      "2차검토 - Block 7 of height 11 width 8 could not be placed.\n"
     ]
    },
    {
     "name": "stderr",
     "output_type": "stream",
     "text": [
      "100%|█| 30/30 [00:07<00:00,  4.26"
     ]
    },
    {
     "name": "stdout",
     "output_type": "stream",
     "text": [
      "1차검토 - Block 7 of height 8 width 11 could not be placed.\n",
      "2차검토 - Block 7 of height 11 width 8 could not be placed.\n",
      "1차검토 - Block 7 of height 8 width 11 could not be placed.\n",
      "2차검토 - Block 7 of height 11 width 8 could not be placed.\n",
      "레이아웃적합도리스트: ['부적합', '부적합', '부적합', '부적합', '부적합']\n",
      "*** 적합도리스트체크: 부적합\n",
      "블록길이 조건상 레이아웃 배치 불가능!!\n",
      "==========================================================================================\n",
      "\n"
     ]
    },
    {
     "name": "stderr",
     "output_type": "stream",
     "text": [
      "\n"
     ]
    }
   ],
   "source": [
    "생산계획결과 = 생산계획수립(블록데이터, 정반데이터, 면적달력, 블록명달력, 사이즈달력)"
   ]
  },
  {
   "cell_type": "code",
   "execution_count": 256,
   "id": "eb113687",
   "metadata": {
    "scrolled": false
   },
   "outputs": [],
   "source": [
    "결론_블록리스트 = 생산계획결과[0]\n",
    "결론_정반리스트 = 생산계획결과[1]\n",
    "결론_착수일자 = 생산계획결과[2]\n",
    "결론_상태정보 = 생산계획결과[3]\n",
    "면적달력 = 생산계획결과[4]\n",
    "블록명달력 = 생산계획결과[5]\n",
    "사이즈달력 = 생산계획결과[6]"
   ]
  },
  {
   "cell_type": "code",
   "execution_count": 257,
   "id": "234e6272",
   "metadata": {
    "scrolled": true
   },
   "outputs": [
    {
     "data": {
      "text/plain": [
       "['S2', 'S1', 'S5', 'S4', 'S3']"
      ]
     },
     "execution_count": 257,
     "metadata": {},
     "output_type": "execute_result"
    },
    {
     "data": {
      "text/plain": [
       "['A', 'B', 'A', 'A', 'A']"
      ]
     },
     "execution_count": 257,
     "metadata": {},
     "output_type": "execute_result"
    },
    {
     "data": {
      "text/plain": [
       "['2024-02-01', '2024-02-01', '2024-02-06', '2024-02-01', '2024-02-01']"
      ]
     },
     "execution_count": 257,
     "metadata": {},
     "output_type": "execute_result"
    },
    {
     "data": {
      "text/plain": [
       "['정상배치완료', '정상배치완료', '정상배치완료', '정상배치완료', '정상배치완료']"
      ]
     },
     "execution_count": 257,
     "metadata": {},
     "output_type": "execute_result"
    },
    {
     "data": {
      "text/html": [
       "<div>\n",
       "<style scoped>\n",
       "    .dataframe tbody tr th:only-of-type {\n",
       "        vertical-align: middle;\n",
       "    }\n",
       "\n",
       "    .dataframe tbody tr th {\n",
       "        vertical-align: top;\n",
       "    }\n",
       "\n",
       "    .dataframe thead th {\n",
       "        text-align: right;\n",
       "    }\n",
       "</style>\n",
       "<table border=\"1\" class=\"dataframe\">\n",
       "  <thead>\n",
       "    <tr style=\"text-align: right;\">\n",
       "      <th></th>\n",
       "      <th>A</th>\n",
       "      <th>B</th>\n",
       "    </tr>\n",
       "  </thead>\n",
       "  <tbody>\n",
       "    <tr>\n",
       "      <th>2024-02-01</th>\n",
       "      <td>20</td>\n",
       "      <td>10</td>\n",
       "    </tr>\n",
       "    <tr>\n",
       "      <th>2024-02-02</th>\n",
       "      <td>20</td>\n",
       "      <td>10</td>\n",
       "    </tr>\n",
       "    <tr>\n",
       "      <th>2024-02-03</th>\n",
       "      <td>20</td>\n",
       "      <td>10</td>\n",
       "    </tr>\n",
       "    <tr>\n",
       "      <th>2024-02-04</th>\n",
       "      <td>20</td>\n",
       "      <td>10</td>\n",
       "    </tr>\n",
       "    <tr>\n",
       "      <th>2024-02-05</th>\n",
       "      <td>20</td>\n",
       "      <td>10</td>\n",
       "    </tr>\n",
       "  </tbody>\n",
       "</table>\n",
       "</div>"
      ],
      "text/plain": [
       "             A   B\n",
       "2024-02-01  20  10\n",
       "2024-02-02  20  10\n",
       "2024-02-03  20  10\n",
       "2024-02-04  20  10\n",
       "2024-02-05  20  10"
      ]
     },
     "execution_count": 257,
     "metadata": {},
     "output_type": "execute_result"
    },
    {
     "data": {
      "text/html": [
       "<div>\n",
       "<style scoped>\n",
       "    .dataframe tbody tr th:only-of-type {\n",
       "        vertical-align: middle;\n",
       "    }\n",
       "\n",
       "    .dataframe tbody tr th {\n",
       "        vertical-align: top;\n",
       "    }\n",
       "\n",
       "    .dataframe thead th {\n",
       "        text-align: right;\n",
       "    }\n",
       "</style>\n",
       "<table border=\"1\" class=\"dataframe\">\n",
       "  <thead>\n",
       "    <tr style=\"text-align: right;\">\n",
       "      <th></th>\n",
       "      <th>A</th>\n",
       "      <th>B</th>\n",
       "    </tr>\n",
       "  </thead>\n",
       "  <tbody>\n",
       "    <tr>\n",
       "      <th>2024-02-01</th>\n",
       "      <td>[S2, S4, S3]</td>\n",
       "      <td>[S1]</td>\n",
       "    </tr>\n",
       "    <tr>\n",
       "      <th>2024-02-02</th>\n",
       "      <td>[S2, S4, S3]</td>\n",
       "      <td>[S1]</td>\n",
       "    </tr>\n",
       "    <tr>\n",
       "      <th>2024-02-03</th>\n",
       "      <td>[S2, S4, S3]</td>\n",
       "      <td>[S1]</td>\n",
       "    </tr>\n",
       "    <tr>\n",
       "      <th>2024-02-04</th>\n",
       "      <td>[S2, S4, S3]</td>\n",
       "      <td>[S1]</td>\n",
       "    </tr>\n",
       "    <tr>\n",
       "      <th>2024-02-05</th>\n",
       "      <td>[S2, S4, S3]</td>\n",
       "      <td>[S1]</td>\n",
       "    </tr>\n",
       "  </tbody>\n",
       "</table>\n",
       "</div>"
      ],
      "text/plain": [
       "                       A     B\n",
       "2024-02-01  [S2, S4, S3]  [S1]\n",
       "2024-02-02  [S2, S4, S3]  [S1]\n",
       "2024-02-03  [S2, S4, S3]  [S1]\n",
       "2024-02-04  [S2, S4, S3]  [S1]\n",
       "2024-02-05  [S2, S4, S3]  [S1]"
      ]
     },
     "execution_count": 257,
     "metadata": {},
     "output_type": "execute_result"
    },
    {
     "data": {
      "text/html": [
       "<div>\n",
       "<style scoped>\n",
       "    .dataframe tbody tr th:only-of-type {\n",
       "        vertical-align: middle;\n",
       "    }\n",
       "\n",
       "    .dataframe tbody tr th {\n",
       "        vertical-align: top;\n",
       "    }\n",
       "\n",
       "    .dataframe thead th {\n",
       "        text-align: right;\n",
       "    }\n",
       "</style>\n",
       "<table border=\"1\" class=\"dataframe\">\n",
       "  <thead>\n",
       "    <tr style=\"text-align: right;\">\n",
       "      <th></th>\n",
       "      <th>A</th>\n",
       "      <th>B</th>\n",
       "    </tr>\n",
       "  </thead>\n",
       "  <tbody>\n",
       "    <tr>\n",
       "      <th>2024-02-01</th>\n",
       "      <td>[(10, 12), (5, 6), (5, 6)]</td>\n",
       "      <td>[(9, 10)]</td>\n",
       "    </tr>\n",
       "    <tr>\n",
       "      <th>2024-02-02</th>\n",
       "      <td>[(10, 12), (5, 6), (5, 6)]</td>\n",
       "      <td>[(9, 10)]</td>\n",
       "    </tr>\n",
       "    <tr>\n",
       "      <th>2024-02-03</th>\n",
       "      <td>[(10, 12), (5, 6), (5, 6)]</td>\n",
       "      <td>[(9, 10)]</td>\n",
       "    </tr>\n",
       "    <tr>\n",
       "      <th>2024-02-04</th>\n",
       "      <td>[(10, 12), (5, 6), (5, 6)]</td>\n",
       "      <td>[(9, 10)]</td>\n",
       "    </tr>\n",
       "    <tr>\n",
       "      <th>2024-02-05</th>\n",
       "      <td>[(10, 12), (5, 6), (5, 6)]</td>\n",
       "      <td>[(9, 10)]</td>\n",
       "    </tr>\n",
       "  </tbody>\n",
       "</table>\n",
       "</div>"
      ],
      "text/plain": [
       "                                     A          B\n",
       "2024-02-01  [(10, 12), (5, 6), (5, 6)]  [(9, 10)]\n",
       "2024-02-02  [(10, 12), (5, 6), (5, 6)]  [(9, 10)]\n",
       "2024-02-03  [(10, 12), (5, 6), (5, 6)]  [(9, 10)]\n",
       "2024-02-04  [(10, 12), (5, 6), (5, 6)]  [(9, 10)]\n",
       "2024-02-05  [(10, 12), (5, 6), (5, 6)]  [(9, 10)]"
      ]
     },
     "execution_count": 257,
     "metadata": {},
     "output_type": "execute_result"
    }
   ],
   "source": [
    "결론_블록리스트\n",
    "결론_정반리스트\n",
    "결론_착수일자\n",
    "결론_상태정보\n",
    "면적달력.head()\n",
    "블록명달력.head()\n",
    "사이즈달력.head()"
   ]
  },
  {
   "cell_type": "markdown",
   "id": "82d10c55",
   "metadata": {},
   "source": [
    "# 결과정리 - 레이아웃 달력"
   ]
  },
  {
   "cell_type": "code",
   "execution_count": 258,
   "id": "826c3383",
   "metadata": {},
   "outputs": [],
   "source": [
    "def 정반배치레이아웃(정반명, 정반데이터, 조회날짜, 블록명달력, 블록사이즈달력):\n",
    "    \n",
    "    정반사이즈 = 정반데이터[정반데이터[\"정반명\"]==정반명][\"사이즈\"].values[0]\n",
    "    block_names = 블록명달력.at[조회날짜, 정반명]\n",
    "    block_sizes = 블록사이즈달력.at[조회날짜, 정반명]\n",
    "        \n",
    "    surface, surface_width, surface_height = 정반세팅(정반사이즈)\n",
    "    배치결과 = fit_blocks(surface, surface_width, surface_height, block_sizes, block_names)\n",
    "    배치레이아웃 = 배치결과[0]\n",
    "    draw1(배치레이아웃, block_names)\n"
   ]
  },
  {
   "cell_type": "code",
   "execution_count": 259,
   "id": "959121d9",
   "metadata": {
    "scrolled": true
   },
   "outputs": [
    {
     "name": "stdout",
     "output_type": "stream",
     "text": [
      "*** 정반A: 2024-02-01 00:00:00\n"
     ]
    },
    {
     "data": {
      "image/png": "[encoded data removed]",
      "text/plain": [
       "<Figure size 720x720 with 1 Axes>"
      ]
     },
     "metadata": {},
     "output_type": "display_data"
    },
    {
     "name": "stdout",
     "output_type": "stream",
     "text": [
      "*** 정반B: 2024-02-01 00:00:00\n"
     ]
    },
    {
     "data": {
      "image/png": "[encoded data removed]",
      "text/plain": [
       "<Figure size 720x720 with 1 Axes>"
      ]
     },
     "metadata": {},
     "output_type": "display_data"
    },
    {
     "name": "stdout",
     "output_type": "stream",
     "text": [
      "*** 정반A: 2024-02-02 00:00:00\n"
     ]
    },
    {
     "data": {
      "image/png": "[encoded data removed]",
      "text/plain": [
       "<Figure size 720x720 with 1 Axes>"
      ]
     },
     "metadata": {},
     "output_type": "display_data"
    },
    {
     "name": "stdout",
     "output_type": "stream",
     "text": [
      "*** 정반B: 2024-02-02 00:00:00\n"
     ]
    },
    {
     "data": {
      "image/png": "[encoded data removed]",
      "text/plain": [
       "<Figure size 720x720 with 1 Axes>"
      ]
     },
     "metadata": {},
     "output_type": "display_data"
    },
    {
     "name": "stdout",
     "output_type": "stream",
     "text": [
      "*** 정반A: 2024-02-03 00:00:00\n"
     ]
    },
    {
     "data": {
      "image/png": "[encoded data removed]",
      "text/plain": [
       "<Figure size 720x720 with 1 Axes>"
      ]
     },
     "metadata": {},
     "output_type": "display_data"
    },
    {
     "name": "stdout",
     "output_type": "stream",
     "text": [
      "*** 정반B: 2024-02-03 00:00:00\n"
     ]
    },
    {
     "data": {
      "image/png": "[encoded data removed]",
      "text/plain": [
       "<Figure size 720x720 with 1 Axes>"
      ]
     },
     "metadata": {},
     "output_type": "display_data"
    },
    {
     "name": "stdout",
     "output_type": "stream",
     "text": [
      "*** 정반A: 2024-02-04 00:00:00\n"
     ]
    },
    {
     "data": {
      "image/png": "[encoded data removed]",
      "text/plain": [
       "<Figure size 720x720 with 1 Axes>"
      ]
     },
     "metadata": {},
     "output_type": "display_data"
    },
    {
     "name": "stdout",
     "output_type": "stream",
     "text": [
      "*** 정반B: 2024-02-04 00:00:00\n"
     ]
    },
    {
     "data": {
      "image/png": "[encoded data removed]",
      "text/plain": [
       "<Figure size 720x720 with 1 Axes>"
      ]
     },
     "metadata": {},
     "output_type": "display_data"
    },
    {
     "name": "stdout",
     "output_type": "stream",
     "text": [
      "*** 정반A: 2024-02-05 00:00:00\n"
     ]
    },
    {
     "data": {
      "image/png": "[encoded data removed]",
      "text/plain": [
       "<Figure size 720x720 with 1 Axes>"
      ]
     },
     "metadata": {},
     "output_type": "display_data"
    },
    {
     "name": "stdout",
     "output_type": "stream",
     "text": [
      "*** 정반B: 2024-02-05 00:00:00\n"
     ]
    },
    {
     "data": {
      "image/png": "[encoded data removed]",
      "text/plain": [
       "<Figure size 720x720 with 1 Axes>"
      ]
     },
     "metadata": {},
     "output_type": "display_data"
    },
    {
     "name": "stdout",
     "output_type": "stream",
     "text": [
      "*** 정반A: 2024-02-06 00:00:00\n"
     ]
    },
    {
     "data": {
      "image/png": "[encoded data removed]",
      "text/plain": [
       "<Figure size 720x720 with 1 Axes>"
      ]
     },
     "metadata": {},
     "output_type": "display_data"
    },
    {
     "name": "stdout",
     "output_type": "stream",
     "text": [
      "*** 정반B: 2024-02-06 00:00:00\n"
     ]
    },
    {
     "data": {
      "image/png": "[encoded data removed]",
      "text/plain": [
       "<Figure size 720x720 with 1 Axes>"
      ]
     },
     "metadata": {},
     "output_type": "display_data"
    },
    {
     "name": "stdout",
     "output_type": "stream",
     "text": [
      "*** 정반A: 2024-02-07 00:00:00\n"
     ]
    },
    {
     "data": {
      "image/png": "[encoded data removed]",
      "text/plain": [
       "<Figure size 720x720 with 1 Axes>"
      ]
     },
     "metadata": {},
     "output_type": "display_data"
    },
    {
     "name": "stdout",
     "output_type": "stream",
     "text": [
      "*** 정반B: 2024-02-07 00:00:00\n"
     ]
    },
    {
     "data": {
      "image/png": "[encoded data removed]",
      "text/plain": [
       "<Figure size 720x720 with 1 Axes>"
      ]
     },
     "metadata": {},
     "output_type": "display_data"
    },
    {
     "name": "stdout",
     "output_type": "stream",
     "text": [
      "*** 정반A: 2024-02-08 00:00:00\n"
     ]
    },
    {
     "data": {
      "image/png": "[encoded data removed]",
      "text/plain": [
       "<Figure size 720x720 with 1 Axes>"
      ]
     },
     "metadata": {},
     "output_type": "display_data"
    },
    {
     "name": "stdout",
     "output_type": "stream",
     "text": [
      "*** 정반B: 2024-02-08 00:00:00\n"
     ]
    },
    {
     "data": {
      "image/png": "[encoded data removed]",
      "text/plain": [
       "<Figure size 720x720 with 1 Axes>"
      ]
     },
     "metadata": {},
     "output_type": "display_data"
    },
    {
     "name": "stdout",
     "output_type": "stream",
     "text": [
      "*** 정반A: 2024-02-09 00:00:00\n"
     ]
    },
    {
     "data": {
      "image/png": "[encoded data removed]",
      "text/plain": [
       "<Figure size 720x720 with 1 Axes>"
      ]
     },
     "metadata": {},
     "output_type": "display_data"
    },
    {
     "name": "stdout",
     "output_type": "stream",
     "text": [
      "*** 정반B: 2024-02-09 00:00:00\n"
     ]
    },
    {
     "data": {
      "image/png": "[encoded data removed]",
      "text/plain": [
       "<Figure size 720x720 with 1 Axes>"
      ]
     },
     "metadata": {},
     "output_type": "display_data"
    },
    {
     "name": "stdout",
     "output_type": "stream",
     "text": [
      "*** 정반A: 2024-02-10 00:00:00\n"
     ]
    },
    {
     "data": {
      "image/png": "[encoded data removed]",
      "text/plain": [
       "<Figure size 720x720 with 1 Axes>"
      ]
     },
     "metadata": {},
     "output_type": "display_data"
    },
    {
     "name": "stdout",
     "output_type": "stream",
     "text": [
      "*** 정반B: 2024-02-10 00:00:00\n"
     ]
    },
    {
     "data": {
      "image/png": "[encoded data removed]",
      "text/plain": [
       "<Figure size 720x720 with 1 Axes>"
      ]
     },
     "metadata": {},
     "output_type": "display_data"
    }
   ],
   "source": [
    "for 조회날짜 in 면적달력.index[:10]:\n",
    "    print(f\"*** 정반A: {조회날짜}\")\n",
    "    정반배치레이아웃(\"A\", 정반데이터, 조회날짜, 블록명달력, 사이즈달력)\n",
    "    try:\n",
    "        print(f\"*** 정반B: {조회날짜}\")\n",
    "        정반배치레이아웃(\"B\", 정반데이터, 조회날짜, 블록명달력, 사이즈달력)\n",
    "    except:\n",
    "        pass"
   ]
  },
  {
   "cell_type": "markdown",
   "id": "0cf69437",
   "metadata": {},
   "source": [
    "# 결과정리 - 간트차트"
   ]
  },
  {
   "cell_type": "code",
   "execution_count": 260,
   "id": "d5e2f97e",
   "metadata": {},
   "outputs": [
    {
     "data": {
      "text/html": [
       "<div>\n",
       "<style scoped>\n",
       "    .dataframe tbody tr th:only-of-type {\n",
       "        vertical-align: middle;\n",
       "    }\n",
       "\n",
       "    .dataframe tbody tr th {\n",
       "        vertical-align: top;\n",
       "    }\n",
       "\n",
       "    .dataframe thead th {\n",
       "        text-align: right;\n",
       "    }\n",
       "</style>\n",
       "<table border=\"1\" class=\"dataframe\">\n",
       "  <thead>\n",
       "    <tr style=\"text-align: right;\">\n",
       "      <th></th>\n",
       "      <th>블록명</th>\n",
       "      <th>정반명</th>\n",
       "      <th>착수일자</th>\n",
       "    </tr>\n",
       "  </thead>\n",
       "  <tbody>\n",
       "    <tr>\n",
       "      <th>0</th>\n",
       "      <td>S2</td>\n",
       "      <td>A</td>\n",
       "      <td>2024-02-01</td>\n",
       "    </tr>\n",
       "    <tr>\n",
       "      <th>1</th>\n",
       "      <td>S1</td>\n",
       "      <td>B</td>\n",
       "      <td>2024-02-01</td>\n",
       "    </tr>\n",
       "    <tr>\n",
       "      <th>2</th>\n",
       "      <td>S5</td>\n",
       "      <td>A</td>\n",
       "      <td>2024-02-06</td>\n",
       "    </tr>\n",
       "    <tr>\n",
       "      <th>3</th>\n",
       "      <td>S4</td>\n",
       "      <td>A</td>\n",
       "      <td>2024-02-01</td>\n",
       "    </tr>\n",
       "    <tr>\n",
       "      <th>4</th>\n",
       "      <td>S3</td>\n",
       "      <td>A</td>\n",
       "      <td>2024-02-01</td>\n",
       "    </tr>\n",
       "  </tbody>\n",
       "</table>\n",
       "</div>"
      ],
      "text/plain": [
       "  블록명 정반명        착수일자\n",
       "0  S2   A  2024-02-01\n",
       "1  S1   B  2024-02-01\n",
       "2  S5   A  2024-02-06\n",
       "3  S4   A  2024-02-01\n",
       "4  S3   A  2024-02-01"
      ]
     },
     "execution_count": 260,
     "metadata": {},
     "output_type": "execute_result"
    }
   ],
   "source": [
    "fin_df = pd.DataFrame({\n",
    "    \"블록명\":결론_블록리스트,\n",
    "    \"정반명\":결론_정반리스트,\n",
    "    \"착수일자\":결론_착수일자,\n",
    "    })\n",
    "fin_df"
   ]
  },
  {
   "cell_type": "code",
   "execution_count": 261,
   "id": "bc57e1cf",
   "metadata": {
    "scrolled": false
   },
   "outputs": [
    {
     "data": {
      "text/html": [
       "<div>\n",
       "<style scoped>\n",
       "    .dataframe tbody tr th:only-of-type {\n",
       "        vertical-align: middle;\n",
       "    }\n",
       "\n",
       "    .dataframe tbody tr th {\n",
       "        vertical-align: top;\n",
       "    }\n",
       "\n",
       "    .dataframe thead th {\n",
       "        text-align: right;\n",
       "    }\n",
       "</style>\n",
       "<table border=\"1\" class=\"dataframe\">\n",
       "  <thead>\n",
       "    <tr style=\"text-align: right;\">\n",
       "      <th></th>\n",
       "      <th>블록명</th>\n",
       "      <th>중량</th>\n",
       "      <th>표준공기</th>\n",
       "      <th>납기</th>\n",
       "      <th>사이즈</th>\n",
       "      <th>면적</th>\n",
       "      <th>최소착수요구일</th>\n",
       "      <th>날짜순서</th>\n",
       "      <th>공기순서</th>\n",
       "      <th>크기순서</th>\n",
       "      <th>우선순위</th>\n",
       "      <th>정반명</th>\n",
       "      <th>착수일자</th>\n",
       "      <th>상태정보</th>\n",
       "    </tr>\n",
       "  </thead>\n",
       "  <tbody>\n",
       "    <tr>\n",
       "      <th>0</th>\n",
       "      <td>S2</td>\n",
       "      <td>60</td>\n",
       "      <td>5</td>\n",
       "      <td>2024-02-14</td>\n",
       "      <td>(10, 12)</td>\n",
       "      <td>120</td>\n",
       "      <td>2024-02-09</td>\n",
       "      <td>4.0</td>\n",
       "      <td>3.5</td>\n",
       "      <td>1.0</td>\n",
       "      <td>2.2</td>\n",
       "      <td>A</td>\n",
       "      <td>2024-02-01</td>\n",
       "      <td>정상배치완료</td>\n",
       "    </tr>\n",
       "    <tr>\n",
       "      <th>1</th>\n",
       "      <td>S1</td>\n",
       "      <td>50</td>\n",
       "      <td>8</td>\n",
       "      <td>2024-02-15</td>\n",
       "      <td>(9, 10)</td>\n",
       "      <td>90</td>\n",
       "      <td>2024-02-07</td>\n",
       "      <td>2.0</td>\n",
       "      <td>1.0</td>\n",
       "      <td>2.5</td>\n",
       "      <td>3.0</td>\n",
       "      <td>B</td>\n",
       "      <td>2024-02-01</td>\n",
       "      <td>정상배치완료</td>\n",
       "    </tr>\n",
       "    <tr>\n",
       "      <th>2</th>\n",
       "      <td>S5</td>\n",
       "      <td>50</td>\n",
       "      <td>3</td>\n",
       "      <td>2024-02-20</td>\n",
       "      <td>(9, 10)</td>\n",
       "      <td>90</td>\n",
       "      <td>2024-02-17</td>\n",
       "      <td>5.0</td>\n",
       "      <td>5.0</td>\n",
       "      <td>2.5</td>\n",
       "      <td>4.2</td>\n",
       "      <td>A</td>\n",
       "      <td>2024-02-06</td>\n",
       "      <td>정상배치완료</td>\n",
       "    </tr>\n",
       "    <tr>\n",
       "      <th>3</th>\n",
       "      <td>S4</td>\n",
       "      <td>20</td>\n",
       "      <td>6</td>\n",
       "      <td>2024-02-12</td>\n",
       "      <td>(5, 6)</td>\n",
       "      <td>30</td>\n",
       "      <td>2024-02-06</td>\n",
       "      <td>1.0</td>\n",
       "      <td>2.0</td>\n",
       "      <td>4.5</td>\n",
       "      <td>5.0</td>\n",
       "      <td>A</td>\n",
       "      <td>2024-02-01</td>\n",
       "      <td>정상배치완료</td>\n",
       "    </tr>\n",
       "    <tr>\n",
       "      <th>4</th>\n",
       "      <td>S3</td>\n",
       "      <td>30</td>\n",
       "      <td>5</td>\n",
       "      <td>2024-02-13</td>\n",
       "      <td>(5, 6)</td>\n",
       "      <td>30</td>\n",
       "      <td>2024-02-08</td>\n",
       "      <td>3.0</td>\n",
       "      <td>3.5</td>\n",
       "      <td>4.5</td>\n",
       "      <td>5.6</td>\n",
       "      <td>A</td>\n",
       "      <td>2024-02-01</td>\n",
       "      <td>정상배치완료</td>\n",
       "    </tr>\n",
       "  </tbody>\n",
       "</table>\n",
       "</div>"
      ],
      "text/plain": [
       "  블록명  중량  표준공기         납기       사이즈   면적     최소착수요구일  날짜순서  공기순서  크기순서  우선순위  \\\n",
       "0  S2  60     5 2024-02-14  (10, 12)  120  2024-02-09   4.0   3.5   1.0   2.2   \n",
       "1  S1  50     8 2024-02-15   (9, 10)   90  2024-02-07   2.0   1.0   2.5   3.0   \n",
       "2  S5  50     3 2024-02-20   (9, 10)   90  2024-02-17   5.0   5.0   2.5   4.2   \n",
       "3  S4  20     6 2024-02-12    (5, 6)   30  2024-02-06   1.0   2.0   4.5   5.0   \n",
       "4  S3  30     5 2024-02-13    (5, 6)   30  2024-02-08   3.0   3.5   4.5   5.6   \n",
       "\n",
       "  정반명        착수일자    상태정보  \n",
       "0   A  2024-02-01  정상배치완료  \n",
       "1   B  2024-02-01  정상배치완료  \n",
       "2   A  2024-02-06  정상배치완료  \n",
       "3   A  2024-02-01  정상배치완료  \n",
       "4   A  2024-02-01  정상배치완료  "
      ]
     },
     "execution_count": 261,
     "metadata": {},
     "output_type": "execute_result"
    }
   ],
   "source": [
    "merged_df = pd.merge(블록데이터, fin_df, on=\"블록명\", how=\"left\")\n",
    "merged_df[\"상태정보\"] = 결론_상태정보\n",
    "merged_df"
   ]
  },
  {
   "cell_type": "code",
   "execution_count": 262,
   "id": "d8b7aa25",
   "metadata": {},
   "outputs": [],
   "source": [
    "@unpack_df_columns\n",
    "def 종료일구하기(착수일자, 표준공기):\n",
    "    try:\n",
    "        original_date = datetime.strptime(착수일자, \"%Y-%m-%d\")\n",
    "        종료날짜 = original_date + timedelta(days=int(표준공기)) \n",
    "        종료날짜 = 종료날짜.strftime(\"%Y-%m-%d\")\n",
    "        return 종료날짜\n",
    "    except:\n",
    "        pass"
   ]
  },
  {
   "cell_type": "code",
   "execution_count": 263,
   "id": "4ac0d1f8",
   "metadata": {},
   "outputs": [],
   "source": [
    "@unpack_df_columns\n",
    "def create_text(블록명, 표준공기, 사이즈):\n",
    "    return str(블록명)+\"/\"+\"조립중량:\"+str(표준공기)+\"ton\" + \"/\" +\"사이즈:\"+str(사이즈)"
   ]
  },
  {
   "cell_type": "code",
   "execution_count": 264,
   "id": "a76a49fb",
   "metadata": {
    "scrolled": true
   },
   "outputs": [
    {
     "data": {
      "text/html": [
       "<div>\n",
       "<style scoped>\n",
       "    .dataframe tbody tr th:only-of-type {\n",
       "        vertical-align: middle;\n",
       "    }\n",
       "\n",
       "    .dataframe tbody tr th {\n",
       "        vertical-align: top;\n",
       "    }\n",
       "\n",
       "    .dataframe thead th {\n",
       "        text-align: right;\n",
       "    }\n",
       "</style>\n",
       "<table border=\"1\" class=\"dataframe\">\n",
       "  <thead>\n",
       "    <tr style=\"text-align: right;\">\n",
       "      <th></th>\n",
       "      <th>블록명</th>\n",
       "      <th>중량</th>\n",
       "      <th>표준공기</th>\n",
       "      <th>납기</th>\n",
       "      <th>사이즈</th>\n",
       "      <th>면적</th>\n",
       "      <th>최소착수요구일</th>\n",
       "      <th>날짜순서</th>\n",
       "      <th>공기순서</th>\n",
       "      <th>크기순서</th>\n",
       "      <th>우선순위</th>\n",
       "      <th>정반명</th>\n",
       "      <th>착수일자</th>\n",
       "      <th>상태정보</th>\n",
       "      <th>종료일자</th>\n",
       "      <th>차트텍스트</th>\n",
       "    </tr>\n",
       "  </thead>\n",
       "  <tbody>\n",
       "    <tr>\n",
       "      <th>0</th>\n",
       "      <td>S2</td>\n",
       "      <td>60</td>\n",
       "      <td>5</td>\n",
       "      <td>2024-02-14</td>\n",
       "      <td>(10, 12)</td>\n",
       "      <td>120</td>\n",
       "      <td>2024-02-09</td>\n",
       "      <td>4.0</td>\n",
       "      <td>3.5</td>\n",
       "      <td>1.0</td>\n",
       "      <td>2.2</td>\n",
       "      <td>A</td>\n",
       "      <td>2024-02-01</td>\n",
       "      <td>정상배치완료</td>\n",
       "      <td>2024-02-06</td>\n",
       "      <td>S2/조립중량:5ton/사이즈:(10, 12)</td>\n",
       "    </tr>\n",
       "    <tr>\n",
       "      <th>1</th>\n",
       "      <td>S1</td>\n",
       "      <td>50</td>\n",
       "      <td>8</td>\n",
       "      <td>2024-02-15</td>\n",
       "      <td>(9, 10)</td>\n",
       "      <td>90</td>\n",
       "      <td>2024-02-07</td>\n",
       "      <td>2.0</td>\n",
       "      <td>1.0</td>\n",
       "      <td>2.5</td>\n",
       "      <td>3.0</td>\n",
       "      <td>B</td>\n",
       "      <td>2024-02-01</td>\n",
       "      <td>정상배치완료</td>\n",
       "      <td>2024-02-09</td>\n",
       "      <td>S1/조립중량:8ton/사이즈:(9, 10)</td>\n",
       "    </tr>\n",
       "    <tr>\n",
       "      <th>2</th>\n",
       "      <td>S5</td>\n",
       "      <td>50</td>\n",
       "      <td>3</td>\n",
       "      <td>2024-02-20</td>\n",
       "      <td>(9, 10)</td>\n",
       "      <td>90</td>\n",
       "      <td>2024-02-17</td>\n",
       "      <td>5.0</td>\n",
       "      <td>5.0</td>\n",
       "      <td>2.5</td>\n",
       "      <td>4.2</td>\n",
       "      <td>A</td>\n",
       "      <td>2024-02-06</td>\n",
       "      <td>정상배치완료</td>\n",
       "      <td>2024-02-09</td>\n",
       "      <td>S5/조립중량:3ton/사이즈:(9, 10)</td>\n",
       "    </tr>\n",
       "    <tr>\n",
       "      <th>3</th>\n",
       "      <td>S4</td>\n",
       "      <td>20</td>\n",
       "      <td>6</td>\n",
       "      <td>2024-02-12</td>\n",
       "      <td>(5, 6)</td>\n",
       "      <td>30</td>\n",
       "      <td>2024-02-06</td>\n",
       "      <td>1.0</td>\n",
       "      <td>2.0</td>\n",
       "      <td>4.5</td>\n",
       "      <td>5.0</td>\n",
       "      <td>A</td>\n",
       "      <td>2024-02-01</td>\n",
       "      <td>정상배치완료</td>\n",
       "      <td>2024-02-07</td>\n",
       "      <td>S4/조립중량:6ton/사이즈:(5, 6)</td>\n",
       "    </tr>\n",
       "    <tr>\n",
       "      <th>4</th>\n",
       "      <td>S3</td>\n",
       "      <td>30</td>\n",
       "      <td>5</td>\n",
       "      <td>2024-02-13</td>\n",
       "      <td>(5, 6)</td>\n",
       "      <td>30</td>\n",
       "      <td>2024-02-08</td>\n",
       "      <td>3.0</td>\n",
       "      <td>3.5</td>\n",
       "      <td>4.5</td>\n",
       "      <td>5.6</td>\n",
       "      <td>A</td>\n",
       "      <td>2024-02-01</td>\n",
       "      <td>정상배치완료</td>\n",
       "      <td>2024-02-06</td>\n",
       "      <td>S3/조립중량:5ton/사이즈:(5, 6)</td>\n",
       "    </tr>\n",
       "  </tbody>\n",
       "</table>\n",
       "</div>"
      ],
      "text/plain": [
       "  블록명  중량  표준공기         납기       사이즈   면적     최소착수요구일  날짜순서  공기순서  크기순서  우선순위  \\\n",
       "0  S2  60     5 2024-02-14  (10, 12)  120  2024-02-09   4.0   3.5   1.0   2.2   \n",
       "1  S1  50     8 2024-02-15   (9, 10)   90  2024-02-07   2.0   1.0   2.5   3.0   \n",
       "2  S5  50     3 2024-02-20   (9, 10)   90  2024-02-17   5.0   5.0   2.5   4.2   \n",
       "3  S4  20     6 2024-02-12    (5, 6)   30  2024-02-06   1.0   2.0   4.5   5.0   \n",
       "4  S3  30     5 2024-02-13    (5, 6)   30  2024-02-08   3.0   3.5   4.5   5.6   \n",
       "\n",
       "  정반명        착수일자    상태정보        종료일자                      차트텍스트  \n",
       "0   A  2024-02-01  정상배치완료  2024-02-06  S2/조립중량:5ton/사이즈:(10, 12)  \n",
       "1   B  2024-02-01  정상배치완료  2024-02-09   S1/조립중량:8ton/사이즈:(9, 10)  \n",
       "2   A  2024-02-06  정상배치완료  2024-02-09   S5/조립중량:3ton/사이즈:(9, 10)  \n",
       "3   A  2024-02-01  정상배치완료  2024-02-07    S4/조립중량:6ton/사이즈:(5, 6)  \n",
       "4   A  2024-02-01  정상배치완료  2024-02-06    S3/조립중량:5ton/사이즈:(5, 6)  "
      ]
     },
     "execution_count": 264,
     "metadata": {},
     "output_type": "execute_result"
    }
   ],
   "source": [
    "merged_df[\"종료일자\"] = merged_df[[\"착수일자\", \"표준공기\"]].apply(종료일구하기, axis=1)\n",
    "merged_df[\"차트텍스트\"] = merged_df[[\"블록명\", \"표준공기\", \"사이즈\"]].apply(create_text, axis=1)\n",
    "merged_df"
   ]
  },
  {
   "cell_type": "code",
   "execution_count": 265,
   "id": "f9a9ca7e",
   "metadata": {},
   "outputs": [],
   "source": [
    "def draw_gant(df):\n",
    "    fig = px.timeline(\n",
    "        \n",
    "        df, \n",
    "        x_start=\"착수일자\", \n",
    "        x_end=\"종료일자\", \n",
    "        y=\"블록명\",\n",
    "        color=\"정반명\",\n",
    "        hover_data = [\"표준공기\", \"중량\"],\n",
    "        text = \"차트텍스트\",\n",
    "        opacity=0.7\n",
    "        )\n",
    "\n",
    "    fig.update_yaxes(autorange=\"reversed\")          #if not specified as 'reversed', the tasks will be listed from bottom up       \n",
    "    fig.update_layout(\n",
    "                    # title='Project Plan Gantt Chart',\n",
    "                    hoverlabel_bgcolor='#DAEEED',   #Change the hover tooltip background color to a universal light blue color. If not specified, the background color will vary by team or completion pct, depending on what view the user chooses\n",
    "                    bargap=0.2,\n",
    "                    height=500,              \n",
    "                    xaxis_title=\"\", \n",
    "                    yaxis_title=\"정반명\", \n",
    "                    font=dict(\n",
    "                        family=\"Courier New, monospace\",\n",
    "                        size=12,  # Set the font size here\n",
    "                        color=\"RebeccaPurple\"\n",
    "                        ),\n",
    "    )\n",
    "    fig.show()"
   ]
  },
  {
   "cell_type": "code",
   "execution_count": 266,
   "id": "354ceeb0",
   "metadata": {},
   "outputs": [
    {
     "data": {
      "application/vnd.plotly.v1+json": {
       "config": {
        "plotlyServerURL": "https://plot.ly"
       },
       "data": [
        {
         "alignmentgroup": "True",
         "base": [
          "2024-02-01",
          "2024-02-06",
          "2024-02-01",
          "2024-02-01"
         ],
         "customdata": [
          [
           5,
           60
          ],
          [
           3,
           50
          ],
          [
           6,
           20
          ],
          [
           5,
           30
          ]
         ],
         "hovertemplate": "정반명=A<br>착수일자=%{base}<br>종료일자=%{x}<br>블록명=%{y}<br>차트텍스트=%{text}<br>표준공기=%{customdata[0]}<br>중량=%{customdata[1]}<extra></extra>",
         "legendgroup": "A",
         "marker": {
          "color": "#636efa",
          "opacity": 0.7,
          "pattern": {
           "shape": ""
          }
         },
         "name": "A",
         "offsetgroup": "A",
         "orientation": "h",
         "showlegend": true,
         "text": [
          "S2/조립중량:5ton/사이즈:(10, 12)",
          "S5/조립중량:3ton/사이즈:(9, 10)",
          "S4/조립중량:6ton/사이즈:(5, 6)",
          "S3/조립중량:5ton/사이즈:(5, 6)"
         ],
         "textposition": "auto",
         "type": "bar",
         "x": [
          432000000,
          259200000,
          518400000,
          432000000
         ],
         "xaxis": "x",
         "y": [
          "S2",
          "S5",
          "S4",
          "S3"
         ],
         "yaxis": "y"
        },
        {
         "alignmentgroup": "True",
         "base": [
          "2024-02-01"
         ],
         "customdata": [
          [
           8,
           50
          ]
         ],
         "hovertemplate": "정반명=B<br>착수일자=%{base}<br>종료일자=%{x}<br>블록명=%{y}<br>차트텍스트=%{text}<br>표준공기=%{customdata[0]}<br>중량=%{customdata[1]}<extra></extra>",
         "legendgroup": "B",
         "marker": {
          "color": "#EF553B",
          "opacity": 0.7,
          "pattern": {
           "shape": ""
          }
         },
         "name": "B",
         "offsetgroup": "B",
         "orientation": "h",
         "showlegend": true,
         "text": [
          "S1/조립중량:8ton/사이즈:(9, 10)"
         ],
         "textposition": "auto",
         "type": "bar",
         "x": [
          691200000
         ],
         "xaxis": "x",
         "y": [
          "S1"
         ],
         "yaxis": "y"
        }
       ],
       "layout": {
        "bargap": 0.2,
        "barmode": "overlay",
        "font": {
         "color": "RebeccaPurple",
         "family": "Courier New, monospace",
         "size": 12
        },
        "height": 500,
        "hoverlabel": {
         "bgcolor": "#DAEEED"
        },
        "legend": {
         "title": {
          "text": "정반명"
         },
         "tracegroupgap": 0
        },
        "margin": {
         "t": 60
        },
        "template": {
         "data": {
          "bar": [
           {
            "error_x": {
             "color": "#2a3f5f"
            },
            "error_y": {
             "color": "#2a3f5f"
            },
            "marker": {
             "line": {
              "color": "#E5ECF6",
              "width": 0.5
             },
             "pattern": {
              "fillmode": "overlay",
              "size": 10,
              "solidity": 0.2
             }
            },
            "type": "bar"
           }
          ],
          "barpolar": [
           {
            "marker": {
             "line": {
              "color": "#E5ECF6",
              "width": 0.5
             },
             "pattern": {
              "fillmode": "overlay",
              "size": 10,
              "solidity": 0.2
             }
            },
            "type": "barpolar"
           }
          ],
          "carpet": [
           {
            "aaxis": {
             "endlinecolor": "#2a3f5f",
             "gridcolor": "white",
             "linecolor": "white",
             "minorgridcolor": "white",
             "startlinecolor": "#2a3f5f"
            },
            "baxis": {
             "endlinecolor": "#2a3f5f",
             "gridcolor": "white",
             "linecolor": "white",
             "minorgridcolor": "white",
             "startlinecolor": "#2a3f5f"
            },
            "type": "carpet"
           }
          ],
          "choropleth": [
           {
            "colorbar": {
             "outlinewidth": 0,
             "ticks": ""
            },
            "type": "choropleth"
           }
          ],
          "contour": [
           {
            "colorbar": {
             "outlinewidth": 0,
             "ticks": ""
            },
            "colorscale": [
             [
              0,
              "#0d0887"
             ],
             [
              0.1111111111111111,
              "#46039f"
             ],
             [
              0.2222222222222222,
              "#7201a8"
             ],
             [
              0.3333333333333333,
              "#9c179e"
             ],
             [
              0.4444444444444444,
              "#bd3786"
             ],
             [
              0.5555555555555556,
              "#d8576b"
             ],
             [
              0.6666666666666666,
              "#ed7953"
             ],
             [
              0.7777777777777778,
              "#fb9f3a"
             ],
             [
              0.8888888888888888,
              "#fdca26"
             ],
             [
              1,
              "#f0f921"
             ]
            ],
            "type": "contour"
           }
          ],
          "contourcarpet": [
           {
            "colorbar": {
             "outlinewidth": 0,
             "ticks": ""
            },
            "type": "contourcarpet"
           }
          ],
          "heatmap": [
           {
            "colorbar": {
             "outlinewidth": 0,
             "ticks": ""
            },
            "colorscale": [
             [
              0,
              "#0d0887"
             ],
             [
              0.1111111111111111,
              "#46039f"
             ],
             [
              0.2222222222222222,
              "#7201a8"
             ],
             [
              0.3333333333333333,
              "#9c179e"
             ],
             [
              0.4444444444444444,
              "#bd3786"
             ],
             [
              0.5555555555555556,
              "#d8576b"
             ],
             [
              0.6666666666666666,
              "#ed7953"
             ],
             [
              0.7777777777777778,
              "#fb9f3a"
             ],
             [
              0.8888888888888888,
              "#fdca26"
             ],
             [
              1,
              "#f0f921"
             ]
            ],
            "type": "heatmap"
           }
          ],
          "heatmapgl": [
           {
            "colorbar": {
             "outlinewidth": 0,
             "ticks": ""
            },
            "colorscale": [
             [
              0,
              "#0d0887"
             ],
             [
              0.1111111111111111,
              "#46039f"
             ],
             [
              0.2222222222222222,
              "#7201a8"
             ],
             [
              0.3333333333333333,
              "#9c179e"
             ],
             [
              0.4444444444444444,
              "#bd3786"
             ],
             [
              0.5555555555555556,
              "#d8576b"
             ],
             [
              0.6666666666666666,
              "#ed7953"
             ],
             [
              0.7777777777777778,
              "#fb9f3a"
             ],
             [
              0.8888888888888888,
              "#fdca26"
             ],
             [
              1,
              "#f0f921"
             ]
            ],
            "type": "heatmapgl"
           }
          ],
          "histogram": [
           {
            "marker": {
             "pattern": {
              "fillmode": "overlay",
              "size": 10,
              "solidity": 0.2
             }
            },
            "type": "histogram"
           }
          ],
          "histogram2d": [
           {
            "colorbar": {
             "outlinewidth": 0,
             "ticks": ""
            },
            "colorscale": [
             [
              0,
              "#0d0887"
             ],
             [
              0.1111111111111111,
              "#46039f"
             ],
             [
              0.2222222222222222,
              "#7201a8"
             ],
             [
              0.3333333333333333,
              "#9c179e"
             ],
             [
              0.4444444444444444,
              "#bd3786"
             ],
             [
              0.5555555555555556,
              "#d8576b"
             ],
             [
              0.6666666666666666,
              "#ed7953"
             ],
             [
              0.7777777777777778,
              "#fb9f3a"
             ],
             [
              0.8888888888888888,
              "#fdca26"
             ],
             [
              1,
              "#f0f921"
             ]
            ],
            "type": "histogram2d"
           }
          ],
          "histogram2dcontour": [
           {
            "colorbar": {
             "outlinewidth": 0,
             "ticks": ""
            },
            "colorscale": [
             [
              0,
              "#0d0887"
             ],
             [
              0.1111111111111111,
              "#46039f"
             ],
             [
              0.2222222222222222,
              "#7201a8"
             ],
             [
              0.3333333333333333,
              "#9c179e"
             ],
             [
              0.4444444444444444,
              "#bd3786"
             ],
             [
              0.5555555555555556,
              "#d8576b"
             ],
             [
              0.6666666666666666,
              "#ed7953"
             ],
             [
              0.7777777777777778,
              "#fb9f3a"
             ],
             [
              0.8888888888888888,
              "#fdca26"
             ],
             [
              1,
              "#f0f921"
             ]
            ],
            "type": "histogram2dcontour"
           }
          ],
          "mesh3d": [
           {
            "colorbar": {
             "outlinewidth": 0,
             "ticks": ""
            },
            "type": "mesh3d"
           }
          ],
          "parcoords": [
           {
            "line": {
             "colorbar": {
              "outlinewidth": 0,
              "ticks": ""
             }
            },
            "type": "parcoords"
           }
          ],
          "pie": [
           {
            "automargin": true,
            "type": "pie"
           }
          ],
          "scatter": [
           {
            "fillpattern": {
             "fillmode": "overlay",
             "size": 10,
             "solidity": 0.2
            },
            "type": "scatter"
           }
          ],
          "scatter3d": [
           {
            "line": {
             "colorbar": {
              "outlinewidth": 0,
              "ticks": ""
             }
            },
            "marker": {
             "colorbar": {
              "outlinewidth": 0,
              "ticks": ""
             }
            },
            "type": "scatter3d"
           }
          ],
          "scattercarpet": [
           {
            "marker": {
             "colorbar": {
              "outlinewidth": 0,
              "ticks": ""
             }
            },
            "type": "scattercarpet"
           }
          ],
          "scattergeo": [
           {
            "marker": {
             "colorbar": {
              "outlinewidth": 0,
              "ticks": ""
             }
            },
            "type": "scattergeo"
           }
          ],
          "scattergl": [
           {
            "marker": {
             "colorbar": {
              "outlinewidth": 0,
              "ticks": ""
             }
            },
            "type": "scattergl"
           }
          ],
          "scattermapbox": [
           {
            "marker": {
             "colorbar": {
              "outlinewidth": 0,
              "ticks": ""
             }
            },
            "type": "scattermapbox"
           }
          ],
          "scatterpolar": [
           {
            "marker": {
             "colorbar": {
              "outlinewidth": 0,
              "ticks": ""
             }
            },
            "type": "scatterpolar"
           }
          ],
          "scatterpolargl": [
           {
            "marker": {
             "colorbar": {
              "outlinewidth": 0,
              "ticks": ""
             }
            },
            "type": "scatterpolargl"
           }
          ],
          "scatterternary": [
           {
            "marker": {
             "colorbar": {
              "outlinewidth": 0,
              "ticks": ""
             }
            },
            "type": "scatterternary"
           }
          ],
          "surface": [
           {
            "colorbar": {
             "outlinewidth": 0,
             "ticks": ""
            },
            "colorscale": [
             [
              0,
              "#0d0887"
             ],
             [
              0.1111111111111111,
              "#46039f"
             ],
             [
              0.2222222222222222,
              "#7201a8"
             ],
             [
              0.3333333333333333,
              "#9c179e"
             ],
             [
              0.4444444444444444,
              "#bd3786"
             ],
             [
              0.5555555555555556,
              "#d8576b"
             ],
             [
              0.6666666666666666,
              "#ed7953"
             ],
             [
              0.7777777777777778,
              "#fb9f3a"
             ],
             [
              0.8888888888888888,
              "#fdca26"
             ],
             [
              1,
              "#f0f921"
             ]
            ],
            "type": "surface"
           }
          ],
          "table": [
           {
            "cells": {
             "fill": {
              "color": "#EBF0F8"
             },
             "line": {
              "color": "white"
             }
            },
            "header": {
             "fill": {
              "color": "#C8D4E3"
             },
             "line": {
              "color": "white"
             }
            },
            "type": "table"
           }
          ]
         },
         "layout": {
          "annotationdefaults": {
           "arrowcolor": "#2a3f5f",
           "arrowhead": 0,
           "arrowwidth": 1
          },
          "autotypenumbers": "strict",
          "coloraxis": {
           "colorbar": {
            "outlinewidth": 0,
            "ticks": ""
           }
          },
          "colorscale": {
           "diverging": [
            [
             0,
             "#8e0152"
            ],
            [
             0.1,
             "#c51b7d"
            ],
            [
             0.2,
             "#de77ae"
            ],
            [
             0.3,
             "#f1b6da"
            ],
            [
             0.4,
             "#fde0ef"
            ],
            [
             0.5,
             "#f7f7f7"
            ],
            [
             0.6,
             "#e6f5d0"
            ],
            [
             0.7,
             "#b8e186"
            ],
            [
             0.8,
             "#7fbc41"
            ],
            [
             0.9,
             "#4d9221"
            ],
            [
             1,
             "#276419"
            ]
           ],
           "sequential": [
            [
             0,
             "#0d0887"
            ],
            [
             0.1111111111111111,
             "#46039f"
            ],
            [
             0.2222222222222222,
             "#7201a8"
            ],
            [
             0.3333333333333333,
             "#9c179e"
            ],
            [
             0.4444444444444444,
             "#bd3786"
            ],
            [
             0.5555555555555556,
             "#d8576b"
            ],
            [
             0.6666666666666666,
             "#ed7953"
            ],
            [
             0.7777777777777778,
             "#fb9f3a"
            ],
            [
             0.8888888888888888,
             "#fdca26"
            ],
            [
             1,
             "#f0f921"
            ]
           ],
           "sequentialminus": [
            [
             0,
             "#0d0887"
            ],
            [
             0.1111111111111111,
             "#46039f"
            ],
            [
             0.2222222222222222,
             "#7201a8"
            ],
            [
             0.3333333333333333,
             "#9c179e"
            ],
            [
             0.4444444444444444,
             "#bd3786"
            ],
            [
             0.5555555555555556,
             "#d8576b"
            ],
            [
             0.6666666666666666,
             "#ed7953"
            ],
            [
             0.7777777777777778,
             "#fb9f3a"
            ],
            [
             0.8888888888888888,
             "#fdca26"
            ],
            [
             1,
             "#f0f921"
            ]
           ]
          },
          "colorway": [
           "#636efa",
           "#EF553B",
           "#00cc96",
           "#ab63fa",
           "#FFA15A",
           "#19d3f3",
           "#FF6692",
           "#B6E880",
           "#FF97FF",
           "#FECB52"
          ],
          "font": {
           "color": "#2a3f5f"
          },
          "geo": {
           "bgcolor": "white",
           "lakecolor": "white",
           "landcolor": "#E5ECF6",
           "showlakes": true,
           "showland": true,
           "subunitcolor": "white"
          },
          "hoverlabel": {
           "align": "left"
          },
          "hovermode": "closest",
          "mapbox": {
           "style": "light"
          },
          "paper_bgcolor": "white",
          "plot_bgcolor": "#E5ECF6",
          "polar": {
           "angularaxis": {
            "gridcolor": "white",
            "linecolor": "white",
            "ticks": ""
           },
           "bgcolor": "#E5ECF6",
           "radialaxis": {
            "gridcolor": "white",
            "linecolor": "white",
            "ticks": ""
           }
          },
          "scene": {
           "xaxis": {
            "backgroundcolor": "#E5ECF6",
            "gridcolor": "white",
            "gridwidth": 2,
            "linecolor": "white",
            "showbackground": true,
            "ticks": "",
            "zerolinecolor": "white"
           },
           "yaxis": {
            "backgroundcolor": "#E5ECF6",
            "gridcolor": "white",
            "gridwidth": 2,
            "linecolor": "white",
            "showbackground": true,
            "ticks": "",
            "zerolinecolor": "white"
           },
           "zaxis": {
            "backgroundcolor": "#E5ECF6",
            "gridcolor": "white",
            "gridwidth": 2,
            "linecolor": "white",
            "showbackground": true,
            "ticks": "",
            "zerolinecolor": "white"
           }
          },
          "shapedefaults": {
           "line": {
            "color": "#2a3f5f"
           }
          },
          "ternary": {
           "aaxis": {
            "gridcolor": "white",
            "linecolor": "white",
            "ticks": ""
           },
           "baxis": {
            "gridcolor": "white",
            "linecolor": "white",
            "ticks": ""
           },
           "bgcolor": "#E5ECF6",
           "caxis": {
            "gridcolor": "white",
            "linecolor": "white",
            "ticks": ""
           }
          },
          "title": {
           "x": 0.05
          },
          "xaxis": {
           "automargin": true,
           "gridcolor": "white",
           "linecolor": "white",
           "ticks": "",
           "title": {
            "standoff": 15
           },
           "zerolinecolor": "white",
           "zerolinewidth": 2
          },
          "yaxis": {
           "automargin": true,
           "gridcolor": "white",
           "linecolor": "white",
           "ticks": "",
           "title": {
            "standoff": 15
           },
           "zerolinecolor": "white",
           "zerolinewidth": 2
          }
         }
        },
        "xaxis": {
         "anchor": "y",
         "domain": [
          0,
          1
         ],
         "title": {
          "text": ""
         },
         "type": "date"
        },
        "yaxis": {
         "anchor": "x",
         "autorange": "reversed",
         "domain": [
          0,
          1
         ],
         "title": {
          "text": "정반명"
         }
        }
       }
      },
      "text/html": [
       "<div>                            <div id=\"ffa501bf-b258-4c9b-a05b-2a3e726ebfe1\" class=\"plotly-graph-div\" style=\"height:500px; width:100%;\"></div>            <script type=\"text/javascript\">                require([\"plotly\"], function(Plotly) {                    window.PLOTLYENV=window.PLOTLYENV || {};                                    if (document.getElementById(\"ffa501bf-b258-4c9b-a05b-2a3e726ebfe1\")) {                    Plotly.newPlot(                        \"ffa501bf-b258-4c9b-a05b-2a3e726ebfe1\",                        [{\"alignmentgroup\":\"True\",\"base\":[\"2024-02-01\",\"2024-02-06\",\"2024-02-01\",\"2024-02-01\"],\"customdata\":[[5,60],[3,50],[6,20],[5,30]],\"hovertemplate\":\"정반명=A<br>착수일자=%{base}<br>종료일자=%{x}<br>블록명=%{y}<br>차트텍스트=%{text}<br>표준공기=%{customdata[0]}<br>중량=%{customdata[1]}<extra></extra>\",\"legendgroup\":\"A\",\"marker\":{\"color\":\"#636efa\",\"opacity\":0.7,\"pattern\":{\"shape\":\"\"}},\"name\":\"A\",\"offsetgroup\":\"A\",\"orientation\":\"h\",\"showlegend\":true,\"text\":[\"S2/조립중량:5ton/사이즈:(10, 12)\",\"S5/조립중량:3ton/사이즈:(9, 10)\",\"S4/조립중량:6ton/사이즈:(5, 6)\",\"S3/조립중량:5ton/사이즈:(5, 6)\"],\"textposition\":\"auto\",\"x\":[432000000.0,259200000.0,518400000.0,432000000.0],\"xaxis\":\"x\",\"y\":[\"S2\",\"S5\",\"S4\",\"S3\"],\"yaxis\":\"y\",\"type\":\"bar\"},{\"alignmentgroup\":\"True\",\"base\":[\"2024-02-01\"],\"customdata\":[[8,50]],\"hovertemplate\":\"정반명=B<br>착수일자=%{base}<br>종료일자=%{x}<br>블록명=%{y}<br>차트텍스트=%{text}<br>표준공기=%{customdata[0]}<br>중량=%{customdata[1]}<extra></extra>\",\"legendgroup\":\"B\",\"marker\":{\"color\":\"#EF553B\",\"opacity\":0.7,\"pattern\":{\"shape\":\"\"}},\"name\":\"B\",\"offsetgroup\":\"B\",\"orientation\":\"h\",\"showlegend\":true,\"text\":[\"S1/조립중량:8ton/사이즈:(9, 10)\"],\"textposition\":\"auto\",\"x\":[691200000.0],\"xaxis\":\"x\",\"y\":[\"S1\"],\"yaxis\":\"y\",\"type\":\"bar\"}],                        {\"template\":{\"data\":{\"histogram2dcontour\":[{\"type\":\"histogram2dcontour\",\"colorbar\":{\"outlinewidth\":0,\"ticks\":\"\"},\"colorscale\":[[0.0,\"#0d0887\"],[0.1111111111111111,\"#46039f\"],[0.2222222222222222,\"#7201a8\"],[0.3333333333333333,\"#9c179e\"],[0.4444444444444444,\"#bd3786\"],[0.5555555555555556,\"#d8576b\"],[0.6666666666666666,\"#ed7953\"],[0.7777777777777778,\"#fb9f3a\"],[0.8888888888888888,\"#fdca26\"],[1.0,\"#f0f921\"]]}],\"choropleth\":[{\"type\":\"choropleth\",\"colorbar\":{\"outlinewidth\":0,\"ticks\":\"\"}}],\"histogram2d\":[{\"type\":\"histogram2d\",\"colorbar\":{\"outlinewidth\":0,\"ticks\":\"\"},\"colorscale\":[[0.0,\"#0d0887\"],[0.1111111111111111,\"#46039f\"],[0.2222222222222222,\"#7201a8\"],[0.3333333333333333,\"#9c179e\"],[0.4444444444444444,\"#bd3786\"],[0.5555555555555556,\"#d8576b\"],[0.6666666666666666,\"#ed7953\"],[0.7777777777777778,\"#fb9f3a\"],[0.8888888888888888,\"#fdca26\"],[1.0,\"#f0f921\"]]}],\"heatmap\":[{\"type\":\"heatmap\",\"colorbar\":{\"outlinewidth\":0,\"ticks\":\"\"},\"colorscale\":[[0.0,\"#0d0887\"],[0.1111111111111111,\"#46039f\"],[0.2222222222222222,\"#7201a8\"],[0.3333333333333333,\"#9c179e\"],[0.4444444444444444,\"#bd3786\"],[0.5555555555555556,\"#d8576b\"],[0.6666666666666666,\"#ed7953\"],[0.7777777777777778,\"#fb9f3a\"],[0.8888888888888888,\"#fdca26\"],[1.0,\"#f0f921\"]]}],\"heatmapgl\":[{\"type\":\"heatmapgl\",\"colorbar\":{\"outlinewidth\":0,\"ticks\":\"\"},\"colorscale\":[[0.0,\"#0d0887\"],[0.1111111111111111,\"#46039f\"],[0.2222222222222222,\"#7201a8\"],[0.3333333333333333,\"#9c179e\"],[0.4444444444444444,\"#bd3786\"],[0.5555555555555556,\"#d8576b\"],[0.6666666666666666,\"#ed7953\"],[0.7777777777777778,\"#fb9f3a\"],[0.8888888888888888,\"#fdca26\"],[1.0,\"#f0f921\"]]}],\"contourcarpet\":[{\"type\":\"contourcarpet\",\"colorbar\":{\"outlinewidth\":0,\"ticks\":\"\"}}],\"contour\":[{\"type\":\"contour\",\"colorbar\":{\"outlinewidth\":0,\"ticks\":\"\"},\"colorscale\":[[0.0,\"#0d0887\"],[0.1111111111111111,\"#46039f\"],[0.2222222222222222,\"#7201a8\"],[0.3333333333333333,\"#9c179e\"],[0.4444444444444444,\"#bd3786\"],[0.5555555555555556,\"#d8576b\"],[0.6666666666666666,\"#ed7953\"],[0.7777777777777778,\"#fb9f3a\"],[0.8888888888888888,\"#fdca26\"],[1.0,\"#f0f921\"]]}],\"surface\":[{\"type\":\"surface\",\"colorbar\":{\"outlinewidth\":0,\"ticks\":\"\"},\"colorscale\":[[0.0,\"#0d0887\"],[0.1111111111111111,\"#46039f\"],[0.2222222222222222,\"#7201a8\"],[0.3333333333333333,\"#9c179e\"],[0.4444444444444444,\"#bd3786\"],[0.5555555555555556,\"#d8576b\"],[0.6666666666666666,\"#ed7953\"],[0.7777777777777778,\"#fb9f3a\"],[0.8888888888888888,\"#fdca26\"],[1.0,\"#f0f921\"]]}],\"mesh3d\":[{\"type\":\"mesh3d\",\"colorbar\":{\"outlinewidth\":0,\"ticks\":\"\"}}],\"scatter\":[{\"fillpattern\":{\"fillmode\":\"overlay\",\"size\":10,\"solidity\":0.2},\"type\":\"scatter\"}],\"parcoords\":[{\"type\":\"parcoords\",\"line\":{\"colorbar\":{\"outlinewidth\":0,\"ticks\":\"\"}}}],\"scatterpolargl\":[{\"type\":\"scatterpolargl\",\"marker\":{\"colorbar\":{\"outlinewidth\":0,\"ticks\":\"\"}}}],\"bar\":[{\"error_x\":{\"color\":\"#2a3f5f\"},\"error_y\":{\"color\":\"#2a3f5f\"},\"marker\":{\"line\":{\"color\":\"#E5ECF6\",\"width\":0.5},\"pattern\":{\"fillmode\":\"overlay\",\"size\":10,\"solidity\":0.2}},\"type\":\"bar\"}],\"scattergeo\":[{\"type\":\"scattergeo\",\"marker\":{\"colorbar\":{\"outlinewidth\":0,\"ticks\":\"\"}}}],\"scatterpolar\":[{\"type\":\"scatterpolar\",\"marker\":{\"colorbar\":{\"outlinewidth\":0,\"ticks\":\"\"}}}],\"histogram\":[{\"marker\":{\"pattern\":{\"fillmode\":\"overlay\",\"size\":10,\"solidity\":0.2}},\"type\":\"histogram\"}],\"scattergl\":[{\"type\":\"scattergl\",\"marker\":{\"colorbar\":{\"outlinewidth\":0,\"ticks\":\"\"}}}],\"scatter3d\":[{\"type\":\"scatter3d\",\"line\":{\"colorbar\":{\"outlinewidth\":0,\"ticks\":\"\"}},\"marker\":{\"colorbar\":{\"outlinewidth\":0,\"ticks\":\"\"}}}],\"scattermapbox\":[{\"type\":\"scattermapbox\",\"marker\":{\"colorbar\":{\"outlinewidth\":0,\"ticks\":\"\"}}}],\"scatterternary\":[{\"type\":\"scatterternary\",\"marker\":{\"colorbar\":{\"outlinewidth\":0,\"ticks\":\"\"}}}],\"scattercarpet\":[{\"type\":\"scattercarpet\",\"marker\":{\"colorbar\":{\"outlinewidth\":0,\"ticks\":\"\"}}}],\"carpet\":[{\"aaxis\":{\"endlinecolor\":\"#2a3f5f\",\"gridcolor\":\"white\",\"linecolor\":\"white\",\"minorgridcolor\":\"white\",\"startlinecolor\":\"#2a3f5f\"},\"baxis\":{\"endlinecolor\":\"#2a3f5f\",\"gridcolor\":\"white\",\"linecolor\":\"white\",\"minorgridcolor\":\"white\",\"startlinecolor\":\"#2a3f5f\"},\"type\":\"carpet\"}],\"table\":[{\"cells\":{\"fill\":{\"color\":\"#EBF0F8\"},\"line\":{\"color\":\"white\"}},\"header\":{\"fill\":{\"color\":\"#C8D4E3\"},\"line\":{\"color\":\"white\"}},\"type\":\"table\"}],\"barpolar\":[{\"marker\":{\"line\":{\"color\":\"#E5ECF6\",\"width\":0.5},\"pattern\":{\"fillmode\":\"overlay\",\"size\":10,\"solidity\":0.2}},\"type\":\"barpolar\"}],\"pie\":[{\"automargin\":true,\"type\":\"pie\"}]},\"layout\":{\"autotypenumbers\":\"strict\",\"colorway\":[\"#636efa\",\"#EF553B\",\"#00cc96\",\"#ab63fa\",\"#FFA15A\",\"#19d3f3\",\"#FF6692\",\"#B6E880\",\"#FF97FF\",\"#FECB52\"],\"font\":{\"color\":\"#2a3f5f\"},\"hovermode\":\"closest\",\"hoverlabel\":{\"align\":\"left\"},\"paper_bgcolor\":\"white\",\"plot_bgcolor\":\"#E5ECF6\",\"polar\":{\"bgcolor\":\"#E5ECF6\",\"angularaxis\":{\"gridcolor\":\"white\",\"linecolor\":\"white\",\"ticks\":\"\"},\"radialaxis\":{\"gridcolor\":\"white\",\"linecolor\":\"white\",\"ticks\":\"\"}},\"ternary\":{\"bgcolor\":\"#E5ECF6\",\"aaxis\":{\"gridcolor\":\"white\",\"linecolor\":\"white\",\"ticks\":\"\"},\"baxis\":{\"gridcolor\":\"white\",\"linecolor\":\"white\",\"ticks\":\"\"},\"caxis\":{\"gridcolor\":\"white\",\"linecolor\":\"white\",\"ticks\":\"\"}},\"coloraxis\":{\"colorbar\":{\"outlinewidth\":0,\"ticks\":\"\"}},\"colorscale\":{\"sequential\":[[0.0,\"#0d0887\"],[0.1111111111111111,\"#46039f\"],[0.2222222222222222,\"#7201a8\"],[0.3333333333333333,\"#9c179e\"],[0.4444444444444444,\"#bd3786\"],[0.5555555555555556,\"#d8576b\"],[0.6666666666666666,\"#ed7953\"],[0.7777777777777778,\"#fb9f3a\"],[0.8888888888888888,\"#fdca26\"],[1.0,\"#f0f921\"]],\"sequentialminus\":[[0.0,\"#0d0887\"],[0.1111111111111111,\"#46039f\"],[0.2222222222222222,\"#7201a8\"],[0.3333333333333333,\"#9c179e\"],[0.4444444444444444,\"#bd3786\"],[0.5555555555555556,\"#d8576b\"],[0.6666666666666666,\"#ed7953\"],[0.7777777777777778,\"#fb9f3a\"],[0.8888888888888888,\"#fdca26\"],[1.0,\"#f0f921\"]],\"diverging\":[[0,\"#8e0152\"],[0.1,\"#c51b7d\"],[0.2,\"#de77ae\"],[0.3,\"#f1b6da\"],[0.4,\"#fde0ef\"],[0.5,\"#f7f7f7\"],[0.6,\"#e6f5d0\"],[0.7,\"#b8e186\"],[0.8,\"#7fbc41\"],[0.9,\"#4d9221\"],[1,\"#276419\"]]},\"xaxis\":{\"gridcolor\":\"white\",\"linecolor\":\"white\",\"ticks\":\"\",\"title\":{\"standoff\":15},\"zerolinecolor\":\"white\",\"automargin\":true,\"zerolinewidth\":2},\"yaxis\":{\"gridcolor\":\"white\",\"linecolor\":\"white\",\"ticks\":\"\",\"title\":{\"standoff\":15},\"zerolinecolor\":\"white\",\"automargin\":true,\"zerolinewidth\":2},\"scene\":{\"xaxis\":{\"backgroundcolor\":\"#E5ECF6\",\"gridcolor\":\"white\",\"linecolor\":\"white\",\"showbackground\":true,\"ticks\":\"\",\"zerolinecolor\":\"white\",\"gridwidth\":2},\"yaxis\":{\"backgroundcolor\":\"#E5ECF6\",\"gridcolor\":\"white\",\"linecolor\":\"white\",\"showbackground\":true,\"ticks\":\"\",\"zerolinecolor\":\"white\",\"gridwidth\":2},\"zaxis\":{\"backgroundcolor\":\"#E5ECF6\",\"gridcolor\":\"white\",\"linecolor\":\"white\",\"showbackground\":true,\"ticks\":\"\",\"zerolinecolor\":\"white\",\"gridwidth\":2}},\"shapedefaults\":{\"line\":{\"color\":\"#2a3f5f\"}},\"annotationdefaults\":{\"arrowcolor\":\"#2a3f5f\",\"arrowhead\":0,\"arrowwidth\":1},\"geo\":{\"bgcolor\":\"white\",\"landcolor\":\"#E5ECF6\",\"subunitcolor\":\"white\",\"showland\":true,\"showlakes\":true,\"lakecolor\":\"white\"},\"title\":{\"x\":0.05},\"mapbox\":{\"style\":\"light\"}}},\"xaxis\":{\"anchor\":\"y\",\"domain\":[0.0,1.0],\"type\":\"date\",\"title\":{\"text\":\"\"}},\"yaxis\":{\"anchor\":\"x\",\"domain\":[0.0,1.0],\"title\":{\"text\":\"정반명\"},\"autorange\":\"reversed\"},\"legend\":{\"title\":{\"text\":\"정반명\"},\"tracegroupgap\":0},\"margin\":{\"t\":60},\"barmode\":\"overlay\",\"hoverlabel\":{\"bgcolor\":\"#DAEEED\"},\"font\":{\"family\":\"Courier New, monospace\",\"size\":12,\"color\":\"RebeccaPurple\"},\"bargap\":0.2,\"height\":500},                        {\"responsive\": true}                    ).then(function(){\n",
       "                            \n",
       "var gd = document.getElementById('ffa501bf-b258-4c9b-a05b-2a3e726ebfe1');\n",
       "var x = new MutationObserver(function (mutations, observer) {{\n",
       "        var display = window.getComputedStyle(gd).display;\n",
       "        if (!display || display === 'none') {{\n",
       "            console.log([gd, 'removed!']);\n",
       "            Plotly.purge(gd);\n",
       "            observer.disconnect();\n",
       "        }}\n",
       "}});\n",
       "\n",
       "// Listen for the removal of the full notebook cells\n",
       "var notebookContainer = gd.closest('#notebook-container');\n",
       "if (notebookContainer) {{\n",
       "    x.observe(notebookContainer, {childList: true});\n",
       "}}\n",
       "\n",
       "// Listen for the clearing of the current output cell\n",
       "var outputEl = gd.closest('.output');\n",
       "if (outputEl) {{\n",
       "    x.observe(outputEl, {childList: true});\n",
       "}}\n",
       "\n",
       "                        })                };                });            </script>        </div>"
      ]
     },
     "metadata": {},
     "output_type": "display_data"
    }
   ],
   "source": [
    "draw_gant(merged_df)"
   ]
  },
  {
   "cell_type": "code",
   "execution_count": null,
   "id": "aede3f98",
   "metadata": {},
   "outputs": [],
   "source": []
  },
  {
   "cell_type": "code",
   "execution_count": null,
   "id": "4b09cf3f",
   "metadata": {},
   "outputs": [],
   "source": []
  },
  {
   "cell_type": "code",
   "execution_count": null,
   "id": "4ecc48eb",
   "metadata": {},
   "outputs": [],
   "source": []
  }
 ],
 "metadata": {
  "kernelspec": {
   "display_name": "Python 3 (ipykernel)",
   "language": "python",
   "name": "python3"
  },
  "language_info": {
   "codemirror_mode": {
    "name": "ipython",
    "version": 3
   },
   "file_extension": ".py",
   "mimetype": "text/x-python",
   "name": "python",
   "nbconvert_exporter": "python",
   "pygments_lexer": "ipython3",
   "version": "3.10.6"
  },
  "toc": {
   "base_numbering": 1,
   "nav_menu": {
    "height": "190.99px",
    "width": "257.309px"
   },
   "number_sections": true,
   "sideBar": true,
   "skip_h1_title": false,
   "title_cell": "Table of Contents",
   "title_sidebar": "Contents",
   "toc_cell": false,
   "toc_position": {
    "height": "648.182px",
    "left": "39px",
    "top": "110.795px",
    "width": "285.451px"
   },
   "toc_section_display": true,
   "toc_window_display": true
  }
 },
 "nbformat": 4,
 "nbformat_minor": 5
}
