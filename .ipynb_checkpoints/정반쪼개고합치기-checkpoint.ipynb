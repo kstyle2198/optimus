{
 "cells": [
  {
   "cell_type": "code",
   "execution_count": 1,
   "id": "2d1fe1e8",
   "metadata": {},
   "outputs": [],
   "source": [
    "import pandas as pd\n",
    "import numpy as np\n",
    "from tqdm import tqdm\n",
    "from random import random, randrange, choice\n",
    "from datetime import datetime, timedelta\n",
    "from itertools import combinations\n",
    "from pprint import pprint\n",
    "\n",
    "import warnings\n",
    "warnings.filterwarnings('ignore')\n",
    "\n",
    "from IPython.core.interactiveshell import InteractiveShell \n",
    "InteractiveShell.ast_node_interactivity = \"all\" # Cell의 모든 반환값 출력"
   ]
  },
  {
   "cell_type": "markdown",
   "id": "12294644",
   "metadata": {},
   "source": [
    "# get_면적리스트"
   ]
  },
  {
   "cell_type": "code",
   "execution_count": 26,
   "id": "e7d8de06",
   "metadata": {},
   "outputs": [],
   "source": [
    "def get_면적리스트(길이리스트):\n",
    "    result = []\n",
    "    if 길이리스트[0] == 길이리스트[1]:\n",
    "        면적 = 길이리스트[1] * 길이리스트[2]\n",
    "        result.append(면적)\n",
    "    else:\n",
    "        면적1 = 길이리스트[0] * 길이리스트[3]\n",
    "        면적2 = 길이리스트[1] * 길이리스트[2]\n",
    "        result.append(면적1)\n",
    "        result.append(면적2)\n",
    "    result.sort(reverse=True)\n",
    "    return result"
   ]
  },
  {
   "cell_type": "code",
   "execution_count": 27,
   "id": "381bc552",
   "metadata": {},
   "outputs": [
    {
     "data": {
      "text/plain": [
       "[80]"
      ]
     },
     "execution_count": 27,
     "metadata": {},
     "output_type": "execute_result"
    }
   ],
   "source": [
    "정반길이리스트 = [10, 10, 8, 8]\n",
    "get_면적리스트(정반길이리스트)"
   ]
  },
  {
   "cell_type": "code",
   "execution_count": 28,
   "id": "48c22272",
   "metadata": {},
   "outputs": [
    {
     "data": {
      "text/plain": [
       "[32, 30]"
      ]
     },
     "execution_count": 28,
     "metadata": {},
     "output_type": "execute_result"
    }
   ],
   "source": [
    "정반길이리스트 = [8, 10, 3, 4]\n",
    "get_면적리스트(정반길이리스트)"
   ]
  },
  {
   "cell_type": "markdown",
   "id": "d2aadb79",
   "metadata": {},
   "source": [
    "# 면적_최장길이적합도_검토"
   ]
  },
  {
   "cell_type": "code",
   "execution_count": 29,
   "id": "f6dc425f",
   "metadata": {},
   "outputs": [],
   "source": [
    "def 면적_최장길이적합도_검토(정반길이리스트, 블록길이리스트):\n",
    "    result = []\n",
    "    블록최장길이 = max(블록길이리스트)\n",
    "    블록최소길이 = min(블록길이리스트)\n",
    "    블록면적 = get_면적리스트(블록길이리스트)[0]\n",
    "    정반면적리스트 = get_면적리스트(정반길이리스트)\n",
    "    try:\n",
    "        for i in range(len(정반면적리스트)):\n",
    "            if i == 0:\n",
    "                if 정반면적리스트[i] >= 블록면적 and max(정반길이리스트[0], 정반길이리스트[3]) >= 블록최장길이 and min(정반길이리스트[0], 정반길이리스트[3]) >= 블록최소길이:\n",
    "                    result.append(\"적합\")\n",
    "                else:\n",
    "                    result.append(\"부적합\")\n",
    "\n",
    "            else:\n",
    "                if 정반면적리스트[i] >= 블록면적 and max(정반길이리스트[1], 정반길이리스트[2]) >= 블록최장길이 and min(정반길이리스트[1], 정반길이리스트[2]) >= 블록최소길이:\n",
    "                    result.append(\"적합\")\n",
    "                else:\n",
    "                    result.append(\"부적합\")\n",
    "\n",
    "        return result\n",
    "    except:\n",
    "        return result"
   ]
  },
  {
   "cell_type": "code",
   "execution_count": 30,
   "id": "fbc8f67a",
   "metadata": {},
   "outputs": [
    {
     "data": {
      "text/plain": [
       "['적합']"
      ]
     },
     "execution_count": 30,
     "metadata": {},
     "output_type": "execute_result"
    }
   ],
   "source": [
    "면적리스트 = [200]\n",
    "정반길이리스트 = [20, 20, 10, 10]\n",
    "블록면적 = 100\n",
    "블록길이리스트 = [10, 10, 10, 10]\n",
    "면적_최장길이적합도_검토(정반길이리스트, 블록길이리스트)"
   ]
  },
  {
   "cell_type": "code",
   "execution_count": 32,
   "id": "88800a78",
   "metadata": {},
   "outputs": [
    {
     "data": {
      "text/plain": [
       "['부적합', '부적합']"
      ]
     },
     "execution_count": 32,
     "metadata": {},
     "output_type": "execute_result"
    }
   ],
   "source": [
    "면적리스트 = [32, 30]\n",
    "정반길이리스트 = [8, 10, 3, 4]\n",
    "블록면적 = 30\n",
    "블록길이리스트 = [6, 6, 5, 5]\n",
    "면적_최장길이적합도_검토(정반길이리스트, 블록길이리스트)"
   ]
  },
  {
   "cell_type": "markdown",
   "id": "546fd27c",
   "metadata": {},
   "source": [
    "# 배치후정반길이리스트"
   ]
  },
  {
   "cell_type": "code",
   "execution_count": 101,
   "id": "d8ba39b2",
   "metadata": {},
   "outputs": [],
   "source": [
    "def 배치후정반길이리스트(정반길이리스트1, 블록길이리스트):\n",
    "    정반길이리스트 = 정반길이리스트1.copy()\n",
    "    \n",
    "    블록최소길이 = min(블록길이리스트)\n",
    "    블록최장길이 = max(블록길이리스트)\n",
    "    정반최소길이 = min(정반길이리스트)\n",
    "    정반최장길이 = max(정반길이리스트)\n",
    "    \n",
    "    if 정반최소길이 == 블록최소길이 and 정반최장길이 >= 블록최장길이:\n",
    "        정반길이리스트[0] = max(정반길이리스트[0] - 블록최장길이,0)\n",
    "        정반길이리스트[1] = max(정반길이리스트[1] - 블록최장길이,0)\n",
    "        정반길이리스트[2] = 블록최소길이\n",
    "        정반길이리스트[3] = 블록최소길이\n",
    "\n",
    "    elif 정반최장길이 == 블록최장길이 and 정반최소길이 >= 블록최소길이:\n",
    "        정반길이리스트[0] = 블록최장길이\n",
    "        정반길이리스트[1] = 블록최장길이\n",
    "        정반길이리스트[2] = max(정반길이리스트[2] - 블록최소길이,0)\n",
    "        정반길이리스트[3] = max(정반길이리스트[3] - 블록최소길이,0)\n",
    "\n",
    "    else:\n",
    "        정반길이리스트[0] = max(정반길이리스트[0] - 블록최장길이,0)\n",
    "        정반길이리스트[2] = max(정반길이리스트[2] - 블록최소길이,0)\n",
    "    \n",
    "    정반길이리스트 = [max([정반길이리스트[0], 정반길이리스트[3]]),\n",
    "              max([정반길이리스트[1], 정반길이리스트[2]]),\n",
    "              min([정반길이리스트[1], 정반길이리스트[2]]),\n",
    "              min([정반길이리스트[0], 정반길이리스트[3]])]\n",
    "    \n",
    "    return 정반길이리스트"
   ]
  },
  {
   "cell_type": "code",
   "execution_count": 102,
   "id": "c02a9ca7",
   "metadata": {},
   "outputs": [],
   "source": [
    "def get_새끼사각형(정반길이리스트):\n",
    "    새끼사각형 = []\n",
    "    사각형1 = [정반길이리스트[1], 정반길이리스트[1], 정반길이리스트[2], 정반길이리스트[2]]\n",
    "    사각형2 = [정반길이리스트[0], 정반길이리스트[0], 정반길이리스트[3], 정반길이리스트[3]]\n",
    "    for i in [사각형1, 사각형2]:\n",
    "        if i not in 새끼사각형:\n",
    "            새끼사각형.append(i)\n",
    "    return 새끼사각형"
   ]
  },
  {
   "cell_type": "markdown",
   "id": "faa63e58",
   "metadata": {},
   "source": [
    "# 복귀후정반길이리스트"
   ]
  },
  {
   "cell_type": "code",
   "execution_count": 103,
   "id": "0f81bfae",
   "metadata": {},
   "outputs": [],
   "source": [
    "def 복귀후정반길이리스트(정반길이리스트, 블록길이리스트):\n",
    "    if 정반길이리스트[0] != 정반길이리스트[1]:\n",
    "        정반긴길이 = 정반길이리스트[1]\n",
    "        정반짧은길이 = 정반길이리스트[0]\n",
    "        return [정반긴길이, 정반긴길이, 정반짧은길이, 정반짧은길이]\n",
    "    else:\n",
    "        정반긴길이 = 정반길이리스트[1]\n",
    "        정반짧은길이 = 정반길이리스트[2] + 블록길이리스트[2]\n",
    "        return [정반긴길이, 정반긴길이, 정반짧은길이, 정반짧은길이]"
   ]
  },
  {
   "cell_type": "markdown",
   "id": "d0838bf1",
   "metadata": {},
   "source": [
    "# 케이스 검토"
   ]
  },
  {
   "cell_type": "markdown",
   "id": "1ed49549",
   "metadata": {},
   "source": [
    "## 단순사례"
   ]
  },
  {
   "cell_type": "code",
   "execution_count": 104,
   "id": "9e367ad6",
   "metadata": {},
   "outputs": [
    {
     "name": "stdout",
     "output_type": "stream",
     "text": [
      "물리적적합도: ['적합']\n",
      "배치후결과: [8, 10, 3, 4]\n",
      "배치후새끼사각형: [[10, 10, 3, 3], [8, 8, 4, 4]]\n",
      "복귀후결과: [10, 10, 8, 8]\n"
     ]
    }
   ],
   "source": [
    "정반길이리스트 = [10, 10, 8, 8]\n",
    "블록길이리스트 = [6, 6, 5, 5]\n",
    "\n",
    "물리적적합도 = 면적_최장길이적합도_검토(정반길이리스트, 블록길이리스트)\n",
    "print(f\"물리적적합도: {물리적적합도}\")\n",
    "배치후결과 = 배치후정반길이리스트(정반길이리스트, 블록길이리스트)\n",
    "print(f\"배치후결과: {배치후결과}\")\n",
    "\n",
    "배치후새끼사각형 = get_새끼사각형(배치후결과)\n",
    "print(f\"배치후새끼사각형: {배치후새끼사각형}\")\n",
    "\n",
    "복귀후결과 = 복귀후정반길이리스트(배치후결과, 블록길이리스트)\n",
    "print(f\"복귀후결과: {복귀후결과}\")"
   ]
  },
  {
   "cell_type": "code",
   "execution_count": 105,
   "id": "64fccf4a",
   "metadata": {},
   "outputs": [
    {
     "name": "stdout",
     "output_type": "stream",
     "text": [
      "물리적적합도: ['적합']\n",
      "배치후결과: [10, 10, 3, 3]\n",
      "배치후새끼사각형: [[10, 10, 3, 3]]\n",
      "복귀후결과: [10, 10, 8, 8]\n"
     ]
    }
   ],
   "source": [
    "정반길이리스트 = [10, 10, 8, 8]\n",
    "블록길이리스트 = [10, 10, 5, 5]\n",
    "\n",
    "물리적적합도 = 면적_최장길이적합도_검토(정반길이리스트, 블록길이리스트)\n",
    "print(f\"물리적적합도: {물리적적합도}\")\n",
    "배치후결과 = 배치후정반길이리스트(정반길이리스트, 블록길이리스트)\n",
    "print(f\"배치후결과: {배치후결과}\")\n",
    "\n",
    "배치후새끼사각형 = get_새끼사각형(배치후결과)\n",
    "print(f\"배치후새끼사각형: {배치후새끼사각형}\")\n",
    "\n",
    "복귀후결과 = 복귀후정반길이리스트(배치후결과, 블록길이리스트)\n",
    "print(f\"복귀후결과: {복귀후결과}\")"
   ]
  },
  {
   "cell_type": "markdown",
   "id": "db790b97",
   "metadata": {},
   "source": [
    "## 복잡사례"
   ]
  },
  {
   "cell_type": "code",
   "execution_count": 107,
   "id": "6c870d60",
   "metadata": {},
   "outputs": [
    {
     "name": "stdout",
     "output_type": "stream",
     "text": [
      "물리적적합도: ['적합']\n",
      "배치후결과: [8, 10, 3, 4]\n",
      "배치후새끼사각형: [[10, 10, 3, 3], [8, 8, 4, 4]]\n"
     ]
    }
   ],
   "source": [
    "정반길이리스트 = [10, 10, 8, 8]\n",
    "블록길이리스트 = [6, 6, 5, 5]\n",
    "\n",
    "물리적적합도 = 면적_최장길이적합도_검토(정반길이리스트, 블록길이리스트)\n",
    "print(f\"물리적적합도: {물리적적합도}\")\n",
    "\n",
    "배치후결과 = 배치후정반길이리스트(정반길이리스트, 블록길이리스트)\n",
    "print(f\"배치후결과: {배치후결과}\")\n",
    "\n",
    "배치후새끼사각형 = get_새끼사각형(배치후결과)\n",
    "print(f\"배치후새끼사각형: {배치후새끼사각형}\")"
   ]
  },
  {
   "cell_type": "code",
   "execution_count": 114,
   "id": "60b76f49",
   "metadata": {},
   "outputs": [
    {
     "name": "stdout",
     "output_type": "stream",
     "text": [
      "정반길이리스트: [10, 10, 3, 3]\n",
      "물리적적합도: ['적합']\n",
      "배치후결과: [3, 10, 1, 2]\n",
      "복귀후결과: [10, 10, 3, 3]\n"
     ]
    }
   ],
   "source": [
    "정반길이리스트 = 배치후새끼사각형[0]\n",
    "print(f\"정반길이리스트: {정반길이리스트}\")\n",
    "블록길이리스트 = [8, 8, 2, 2]\n",
    "\n",
    "물리적적합도 = 면적_최장길이적합도_검토(정반길이리스트, 블록길이리스트)\n",
    "print(f\"물리적적합도: {물리적적합도}\")\n",
    "\n",
    "배치후결과1 = 배치후정반길이리스트(정반길이리스트, 블록길이리스트)\n",
    "print(f\"배치후결과: {배치후결과1}\")\n",
    "\n",
    "복귀후결과1 = 복귀후정반길이리스트(배치후결과1, 블록길이리스트)\n",
    "print(f\"복귀후결과: {복귀후결과1}\")\n"
   ]
  },
  {
   "cell_type": "code",
   "execution_count": 115,
   "id": "145441b7",
   "metadata": {},
   "outputs": [
    {
     "name": "stdout",
     "output_type": "stream",
     "text": [
      "정반길이리스트: [8, 8, 4, 4]\n",
      "물리적적합도: ['적합']\n",
      "배치후결과: [8, 8, 2, 2]\n",
      "복귀후결과: [8, 8, 4, 4]\n"
     ]
    }
   ],
   "source": [
    "정반길이리스트 = 배치후새끼사각형[1]\n",
    "print(f\"정반길이리스트: {정반길이리스트}\")\n",
    "블록길이리스트 = [8, 8, 2, 2]\n",
    "\n",
    "물리적적합도 = 면적_최장길이적합도_검토(정반길이리스트, 블록길이리스트)\n",
    "print(f\"물리적적합도: {물리적적합도}\")\n",
    "\n",
    "배치후결과1 = 배치후정반길이리스트(정반길이리스트, 블록길이리스트)\n",
    "print(f\"배치후결과: {배치후결과1}\")\n",
    "\n",
    "복귀후결과1 = 복귀후정반길이리스트(배치후결과1, 블록길이리스트)\n",
    "print(f\"복귀후결과: {복귀후결과1}\")"
   ]
  },
  {
   "cell_type": "code",
   "execution_count": null,
   "id": "fbe3023e",
   "metadata": {},
   "outputs": [],
   "source": []
  },
  {
   "cell_type": "code",
   "execution_count": null,
   "id": "5d0908aa",
   "metadata": {},
   "outputs": [],
   "source": []
  }
 ],
 "metadata": {
  "kernelspec": {
   "display_name": "Python 3 (ipykernel)",
   "language": "python",
   "name": "python3"
  },
  "language_info": {
   "codemirror_mode": {
    "name": "ipython",
    "version": 3
   },
   "file_extension": ".py",
   "mimetype": "text/x-python",
   "name": "python",
   "nbconvert_exporter": "python",
   "pygments_lexer": "ipython3",
   "version": "3.10.6"
  },
  "toc": {
   "base_numbering": 1,
   "nav_menu": {},
   "number_sections": true,
   "sideBar": true,
   "skip_h1_title": false,
   "title_cell": "Table of Contents",
   "title_sidebar": "Contents",
   "toc_cell": false,
   "toc_position": {
    "height": "calc(100% - 180px)",
    "left": "10px",
    "top": "150px",
    "width": "276.264px"
   },
   "toc_section_display": true,
   "toc_window_display": true
  }
 },
 "nbformat": 4,
 "nbformat_minor": 5
}
