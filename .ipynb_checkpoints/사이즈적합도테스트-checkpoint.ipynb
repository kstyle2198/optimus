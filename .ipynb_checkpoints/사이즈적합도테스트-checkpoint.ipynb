{
 "cells": [
  {
   "cell_type": "code",
   "execution_count": 1,
   "id": "ebb50f24",
   "metadata": {},
   "outputs": [],
   "source": [
    "import pandas as pd"
   ]
  },
  {
   "cell_type": "code",
   "execution_count": 2,
   "id": "ba1f9c28",
   "metadata": {},
   "outputs": [
    {
     "data": {
      "text/html": [
       "<div>\n",
       "<style scoped>\n",
       "    .dataframe tbody tr th:only-of-type {\n",
       "        vertical-align: middle;\n",
       "    }\n",
       "\n",
       "    .dataframe tbody tr th {\n",
       "        vertical-align: top;\n",
       "    }\n",
       "\n",
       "    .dataframe thead th {\n",
       "        text-align: right;\n",
       "    }\n",
       "</style>\n",
       "<table border=\"1\" class=\"dataframe\">\n",
       "  <thead>\n",
       "    <tr style=\"text-align: right;\">\n",
       "      <th></th>\n",
       "      <th>가로</th>\n",
       "      <th>세로</th>\n",
       "    </tr>\n",
       "  </thead>\n",
       "  <tbody>\n",
       "    <tr>\n",
       "      <th>0</th>\n",
       "      <td>10</td>\n",
       "      <td>5</td>\n",
       "    </tr>\n",
       "    <tr>\n",
       "      <th>1</th>\n",
       "      <td>20</td>\n",
       "      <td>10</td>\n",
       "    </tr>\n",
       "    <tr>\n",
       "      <th>2</th>\n",
       "      <td>30</td>\n",
       "      <td>15</td>\n",
       "    </tr>\n",
       "  </tbody>\n",
       "</table>\n",
       "</div>"
      ],
      "text/plain": [
       "   가로  세로\n",
       "0  10   5\n",
       "1  20  10\n",
       "2  30  15"
      ]
     },
     "execution_count": 2,
     "metadata": {},
     "output_type": "execute_result"
    }
   ],
   "source": [
    "df = pd.DataFrame({\n",
    "    \"가로\":[10, 20, 30],\n",
    "    \"세로\":[5, 10, 15]\n",
    "})\n",
    "df"
   ]
  },
  {
   "cell_type": "code",
   "execution_count": 3,
   "id": "a95715ec",
   "metadata": {},
   "outputs": [
    {
     "data": {
      "text/html": [
       "<div>\n",
       "<style scoped>\n",
       "    .dataframe tbody tr th:only-of-type {\n",
       "        vertical-align: middle;\n",
       "    }\n",
       "\n",
       "    .dataframe tbody tr th {\n",
       "        vertical-align: top;\n",
       "    }\n",
       "\n",
       "    .dataframe thead th {\n",
       "        text-align: right;\n",
       "    }\n",
       "</style>\n",
       "<table border=\"1\" class=\"dataframe\">\n",
       "  <thead>\n",
       "    <tr style=\"text-align: right;\">\n",
       "      <th></th>\n",
       "      <th>가로</th>\n",
       "      <th>세로</th>\n",
       "      <th>면적</th>\n",
       "    </tr>\n",
       "  </thead>\n",
       "  <tbody>\n",
       "    <tr>\n",
       "      <th>0</th>\n",
       "      <td>10</td>\n",
       "      <td>5</td>\n",
       "      <td>50</td>\n",
       "    </tr>\n",
       "    <tr>\n",
       "      <th>1</th>\n",
       "      <td>20</td>\n",
       "      <td>10</td>\n",
       "      <td>200</td>\n",
       "    </tr>\n",
       "    <tr>\n",
       "      <th>2</th>\n",
       "      <td>30</td>\n",
       "      <td>15</td>\n",
       "      <td>450</td>\n",
       "    </tr>\n",
       "  </tbody>\n",
       "</table>\n",
       "</div>"
      ],
      "text/plain": [
       "   가로  세로   면적\n",
       "0  10   5   50\n",
       "1  20  10  200\n",
       "2  30  15  450"
      ]
     },
     "execution_count": 3,
     "metadata": {},
     "output_type": "execute_result"
    }
   ],
   "source": [
    "df[\"면적\"] = df.eval(\"가로*세로\")\n",
    "df"
   ]
  },
  {
   "cell_type": "code",
   "execution_count": 4,
   "id": "d6a5fcc7",
   "metadata": {},
   "outputs": [],
   "source": [
    "target = {\"가로\": 10, \"세로\": 20, \"면적\": 200, \"최장길이\": 20, \"최소길이\": 10}"
   ]
  },
  {
   "cell_type": "code",
   "execution_count": 5,
   "id": "669a9ef9",
   "metadata": {},
   "outputs": [],
   "source": [
    "import functools # not required, but helps in production\n",
    "def unpack_df_columns(func):\n",
    "    @functools.wraps(func)\n",
    "    def _unpack_df_columns(*args, **kwargs):\n",
    "        series = args[0]\n",
    "        return func(*series.values)\n",
    "    return _unpack_df_columns"
   ]
  },
  {
   "cell_type": "code",
   "execution_count": 6,
   "id": "a7059994",
   "metadata": {},
   "outputs": [],
   "source": [
    "@unpack_df_columns\n",
    "def 길이리스트만들기(길이1, 길이2):\n",
    "    result = []\n",
    "    가로 = max(길이1, 길이2)\n",
    "    세로 = min(길이1, 길이2)\n",
    "    result.append(가로)\n",
    "    result.append(가로)\n",
    "    result.append(세로)\n",
    "    result.append(세로)\n",
    "    return result"
   ]
  },
  {
   "cell_type": "code",
   "execution_count": 7,
   "id": "3e02fc80",
   "metadata": {},
   "outputs": [
    {
     "data": {
      "text/html": [
       "<div>\n",
       "<style scoped>\n",
       "    .dataframe tbody tr th:only-of-type {\n",
       "        vertical-align: middle;\n",
       "    }\n",
       "\n",
       "    .dataframe tbody tr th {\n",
       "        vertical-align: top;\n",
       "    }\n",
       "\n",
       "    .dataframe thead th {\n",
       "        text-align: right;\n",
       "    }\n",
       "</style>\n",
       "<table border=\"1\" class=\"dataframe\">\n",
       "  <thead>\n",
       "    <tr style=\"text-align: right;\">\n",
       "      <th></th>\n",
       "      <th>가로</th>\n",
       "      <th>세로</th>\n",
       "      <th>면적</th>\n",
       "      <th>길이리스트</th>\n",
       "    </tr>\n",
       "  </thead>\n",
       "  <tbody>\n",
       "    <tr>\n",
       "      <th>0</th>\n",
       "      <td>10</td>\n",
       "      <td>5</td>\n",
       "      <td>50</td>\n",
       "      <td>[10, 10, 5, 5]</td>\n",
       "    </tr>\n",
       "    <tr>\n",
       "      <th>1</th>\n",
       "      <td>20</td>\n",
       "      <td>10</td>\n",
       "      <td>200</td>\n",
       "      <td>[20, 20, 10, 10]</td>\n",
       "    </tr>\n",
       "    <tr>\n",
       "      <th>2</th>\n",
       "      <td>30</td>\n",
       "      <td>15</td>\n",
       "      <td>450</td>\n",
       "      <td>[30, 30, 15, 15]</td>\n",
       "    </tr>\n",
       "  </tbody>\n",
       "</table>\n",
       "</div>"
      ],
      "text/plain": [
       "   가로  세로   면적             길이리스트\n",
       "0  10   5   50    [10, 10, 5, 5]\n",
       "1  20  10  200  [20, 20, 10, 10]\n",
       "2  30  15  450  [30, 30, 15, 15]"
      ]
     },
     "execution_count": 7,
     "metadata": {},
     "output_type": "execute_result"
    }
   ],
   "source": [
    "df[\"길이리스트\"] = df[[\"가로\", \"세로\"]].apply(길이리스트만들기, axis=1)\n",
    "df"
   ]
  },
  {
   "cell_type": "code",
   "execution_count": 8,
   "id": "c73f7eaa",
   "metadata": {},
   "outputs": [
    {
     "data": {
      "text/html": [
       "<div>\n",
       "<style scoped>\n",
       "    .dataframe tbody tr th:only-of-type {\n",
       "        vertical-align: middle;\n",
       "    }\n",
       "\n",
       "    .dataframe tbody tr th {\n",
       "        vertical-align: top;\n",
       "    }\n",
       "\n",
       "    .dataframe thead th {\n",
       "        text-align: right;\n",
       "    }\n",
       "</style>\n",
       "<table border=\"1\" class=\"dataframe\">\n",
       "  <thead>\n",
       "    <tr style=\"text-align: right;\">\n",
       "      <th></th>\n",
       "      <th>가로</th>\n",
       "      <th>세로</th>\n",
       "      <th>면적</th>\n",
       "      <th>길이리스트</th>\n",
       "      <th>최장길이</th>\n",
       "      <th>최소길이</th>\n",
       "    </tr>\n",
       "  </thead>\n",
       "  <tbody>\n",
       "    <tr>\n",
       "      <th>0</th>\n",
       "      <td>10</td>\n",
       "      <td>5</td>\n",
       "      <td>50</td>\n",
       "      <td>[10, 10, 5, 5]</td>\n",
       "      <td>10</td>\n",
       "      <td>5</td>\n",
       "    </tr>\n",
       "    <tr>\n",
       "      <th>1</th>\n",
       "      <td>20</td>\n",
       "      <td>10</td>\n",
       "      <td>200</td>\n",
       "      <td>[20, 20, 10, 10]</td>\n",
       "      <td>20</td>\n",
       "      <td>10</td>\n",
       "    </tr>\n",
       "    <tr>\n",
       "      <th>2</th>\n",
       "      <td>30</td>\n",
       "      <td>15</td>\n",
       "      <td>450</td>\n",
       "      <td>[30, 30, 15, 15]</td>\n",
       "      <td>30</td>\n",
       "      <td>15</td>\n",
       "    </tr>\n",
       "  </tbody>\n",
       "</table>\n",
       "</div>"
      ],
      "text/plain": [
       "   가로  세로   면적             길이리스트  최장길이  최소길이\n",
       "0  10   5   50    [10, 10, 5, 5]    10     5\n",
       "1  20  10  200  [20, 20, 10, 10]    20    10\n",
       "2  30  15  450  [30, 30, 15, 15]    30    15"
      ]
     },
     "execution_count": 8,
     "metadata": {},
     "output_type": "execute_result"
    }
   ],
   "source": [
    "df[\"최장길이\"] = df[\"길이리스트\"].apply(lambda x : max(x))\n",
    "df[\"최소길이\"] = df[\"길이리스트\"].apply(lambda x : min(x))\n",
    "df"
   ]
  },
  {
   "cell_type": "code",
   "execution_count": 9,
   "id": "3f211a59",
   "metadata": {},
   "outputs": [],
   "source": [
    "@unpack_df_columns\n",
    "def 면적_최장길이적합도_검토(정반면적, 정반최장길이):\n",
    "    global target\n",
    "    \n",
    "    if 정반면적 >= target[\"면적\"] and 정반최장길이 >= target[\"최장길이\"]:\n",
    "        return \"적합\"\n",
    "    else:\n",
    "        return \"부적합\""
   ]
  },
  {
   "cell_type": "code",
   "execution_count": 10,
   "id": "65047731",
   "metadata": {},
   "outputs": [
    {
     "data": {
      "text/html": [
       "<div>\n",
       "<style scoped>\n",
       "    .dataframe tbody tr th:only-of-type {\n",
       "        vertical-align: middle;\n",
       "    }\n",
       "\n",
       "    .dataframe tbody tr th {\n",
       "        vertical-align: top;\n",
       "    }\n",
       "\n",
       "    .dataframe thead th {\n",
       "        text-align: right;\n",
       "    }\n",
       "</style>\n",
       "<table border=\"1\" class=\"dataframe\">\n",
       "  <thead>\n",
       "    <tr style=\"text-align: right;\">\n",
       "      <th></th>\n",
       "      <th>가로</th>\n",
       "      <th>세로</th>\n",
       "      <th>면적</th>\n",
       "      <th>길이리스트</th>\n",
       "      <th>최장길이</th>\n",
       "      <th>최소길이</th>\n",
       "      <th>적합도검토</th>\n",
       "    </tr>\n",
       "  </thead>\n",
       "  <tbody>\n",
       "    <tr>\n",
       "      <th>0</th>\n",
       "      <td>10</td>\n",
       "      <td>5</td>\n",
       "      <td>50</td>\n",
       "      <td>[10, 10, 5, 5]</td>\n",
       "      <td>10</td>\n",
       "      <td>5</td>\n",
       "      <td>부적합</td>\n",
       "    </tr>\n",
       "    <tr>\n",
       "      <th>1</th>\n",
       "      <td>20</td>\n",
       "      <td>10</td>\n",
       "      <td>200</td>\n",
       "      <td>[20, 20, 10, 10]</td>\n",
       "      <td>20</td>\n",
       "      <td>10</td>\n",
       "      <td>적합</td>\n",
       "    </tr>\n",
       "    <tr>\n",
       "      <th>2</th>\n",
       "      <td>30</td>\n",
       "      <td>15</td>\n",
       "      <td>450</td>\n",
       "      <td>[30, 30, 15, 15]</td>\n",
       "      <td>30</td>\n",
       "      <td>15</td>\n",
       "      <td>적합</td>\n",
       "    </tr>\n",
       "  </tbody>\n",
       "</table>\n",
       "</div>"
      ],
      "text/plain": [
       "   가로  세로   면적             길이리스트  최장길이  최소길이 적합도검토\n",
       "0  10   5   50    [10, 10, 5, 5]    10     5   부적합\n",
       "1  20  10  200  [20, 20, 10, 10]    20    10    적합\n",
       "2  30  15  450  [30, 30, 15, 15]    30    15    적합"
      ]
     },
     "execution_count": 10,
     "metadata": {},
     "output_type": "execute_result"
    }
   ],
   "source": [
    "df[\"적합도검토\"] = df[[\"면적\", \"최장길이\"]].apply(면적_최장길이적합도_검토, axis=1)\n",
    "df"
   ]
  },
  {
   "cell_type": "code",
   "execution_count": 11,
   "id": "778706a6",
   "metadata": {},
   "outputs": [],
   "source": [
    "# 만약 target을 2번 정반에 배치했다면...잔여 정반 사이지를 어떻게 표현할 것인가?"
   ]
  },
  {
   "cell_type": "code",
   "execution_count": 12,
   "id": "3dbdfb6c",
   "metadata": {},
   "outputs": [],
   "source": [
    "# target = {\"가로\": 30, \"세로\": 10, \"면적\": 300, \"최장길이\": 30, \"최소길이\": 10}\n",
    "target = {\"가로\": 20, \"세로\": 5, \"면적\": 100, \"최장길이\": 20, \"최소길이\": 5}\n",
    "길이리스트 = [30, 30, 15, 15]"
   ]
  },
  {
   "cell_type": "code",
   "execution_count": 13,
   "id": "10c3b5f7",
   "metadata": {},
   "outputs": [],
   "source": [
    "if min(길이리스트) == target[\"최소길이\"] and max(길이리스트) >= target[\"최장길이\"]:\n",
    "    길이리스트[0] = 길이리스트[0] - target[\"최장길이\"]\n",
    "    길이리스트[1] = 길이리스트[1] - target[\"최장길이\"]\n",
    "    길이리스트[2] = target[\"최소길이\"]\n",
    "    길이리스트[3] = target[\"최소길이\"]\n",
    "\n",
    "if max(길이리스트) == target[\"최장길이\"] and min(길이리스트) >= target[\"최소길이\"]:\n",
    "    길이리스트[0] = target[\"최장길이\"]\n",
    "    길이리스트[1] = target[\"최장길이\"]\n",
    "    길이리스트[2] = 길이리스트[2] - target[\"최소길이\"]\n",
    "    길이리스트[3] = 길이리스트[3] - target[\"최소길이\"]\n",
    "\n",
    "else:\n",
    "    길이리스트[0] = 길이리스트[0] - target[\"최장길이\"]\n",
    "    길이리스트[2] = 길이리스트[2] - target[\"최소길이\"]"
   ]
  },
  {
   "cell_type": "code",
   "execution_count": 25,
   "id": "459464a1",
   "metadata": {},
   "outputs": [],
   "source": [
    "def 배치후잔여정반길이리스트(정반길이리스트, 블록최장길이, 블록최소길이):\n",
    "    \n",
    "    if min(정반길이리스트) == 블록최소길이 and max(정반길이리스트) >= 블록최장길이:\n",
    "        정반길이리스트[0] = 정반길이리스트[0] - 블록최장길이\n",
    "        정반길이리스트[1] = 정반길이리스트[1] - 블록최장길이\n",
    "        정반길이리스트[2] = 블록최소길이\n",
    "        정반길이리스트[3] = 블록최소길이\n",
    "\n",
    "    elif max(정반길이리스트) == 블록최장길이 and min(정반길이리스트) >= 블록최소길이:\n",
    "        정반길이리스트[0] = 블록최장길이\n",
    "        정반길이리스트[1] = 블록최장길이\n",
    "        정반길이리스트[2] = 정반길이리스트[2] - 블록최소길이\n",
    "        정반길이리스트[3] = 정반길이리스트[3] - 블록최소길이\n",
    "\n",
    "    else:\n",
    "        정반길이리스트[0] = 정반길이리스트[0] - 블록최장길이\n",
    "        정반길이리스트[2] = 정반길이리스트[2] - 블록최소길이\n",
    "    \n",
    "    return 정반길이리스트\n",
    "    "
   ]
  },
  {
   "cell_type": "code",
   "execution_count": 26,
   "id": "5d640c47",
   "metadata": {},
   "outputs": [
    {
     "data": {
      "text/plain": [
       "[10, 10, 10, 10]"
      ]
     },
     "execution_count": 26,
     "metadata": {},
     "output_type": "execute_result"
    }
   ],
   "source": [
    "정반길이리스트 = [20, 20, 10, 10]\n",
    "블록최장길이 = 10\n",
    "블록최소길이 = 10\n",
    "정반길이리스트 = 배치후잔여정반길이리스트(정반길이리스트, 블록최장길이, 블록최소길이)\n",
    "정반길이리스트"
   ]
  },
  {
   "cell_type": "code",
   "execution_count": 16,
   "id": "5bee47e8",
   "metadata": {},
   "outputs": [],
   "source": [
    "# 잔여면적 = []\n",
    "# if 길이리스트[0] == 길이리스트[1]:\n",
    "#     잔여면적.append(길이리스트[0]*길이리스트[3])\n",
    "# else:\n",
    "#     잔여면적  = []\n",
    "#     잔여면적.append(길이리스트[0]*길이리스트[3])\n",
    "#     잔여면적.append(길이리스트[1]*길이리스트[2])\n",
    "# 잔여면적"
   ]
  },
  {
   "cell_type": "code",
   "execution_count": 17,
   "id": "9cc93b92",
   "metadata": {},
   "outputs": [],
   "source": [
    "def 면적리스트구하기(길이리스트):\n",
    "    면적리스트 = []\n",
    "    if 길이리스트[0] == 길이리스트[1]:\n",
    "        면적리스트.append(길이리스트[0]*길이리스트[3])\n",
    "    else:\n",
    "        면적리스트  = []\n",
    "        면적리스트.append(길이리스트[0]*길이리스트[3])\n",
    "        면적리스트.append(길이리스트[1]*길이리스트[2])\n",
    "    return 면적리스트"
   ]
  },
  {
   "cell_type": "code",
   "execution_count": 18,
   "id": "b607bf3f",
   "metadata": {},
   "outputs": [
    {
     "data": {
      "text/plain": [
       "[150, 210]"
      ]
     },
     "execution_count": 18,
     "metadata": {},
     "output_type": "execute_result"
    }
   ],
   "source": [
    "면적리스트구하기(길이리스트1)"
   ]
  },
  {
   "cell_type": "code",
   "execution_count": null,
   "id": "4e678d1b",
   "metadata": {},
   "outputs": [],
   "source": []
  },
  {
   "cell_type": "code",
   "execution_count": 19,
   "id": "e22cec14",
   "metadata": {},
   "outputs": [],
   "source": [
    "## 자식정반에 면적이 2개 이상인 경우는???\n",
    "def 면적_최장길이적합도_검토1(면적리스트, 정반길이리스트, 블록면적, 블록최장길이):\n",
    "    result = []\n",
    "    for i in range(len(면적리스트)):\n",
    "        if i == 0:\n",
    "            if 면적리스트[i] >= 블록면적 and max(정반길이리스트[0], 정반길이리스트[3]) >= 블록최장길이:\n",
    "                result.append(\"적합\")\n",
    "            else:\n",
    "                result.append(\"부적합\")\n",
    "        \n",
    "        else:\n",
    "            if 면적리스트[i] >= 블록면적 and max(정반길이리스트[1], 정반길이리스트[2]) >= 블록최장길이:\n",
    "                result.append(\"적합\")\n",
    "            else:\n",
    "                result.append(\"부적합\")\n",
    "                \n",
    "    return result"
   ]
  },
  {
   "cell_type": "code",
   "execution_count": 20,
   "id": "9ab1fc3a",
   "metadata": {},
   "outputs": [
    {
     "data": {
      "text/plain": [
       "['부적합', '적합']"
      ]
     },
     "execution_count": 20,
     "metadata": {},
     "output_type": "execute_result"
    }
   ],
   "source": [
    "면적리스트 = [150, 210]\n",
    "정반길이리스트 = [10, 30, 7, 15]\n",
    "블록면적 = 40\n",
    "블록최장길이 = 20\n",
    "면적_최장길이적합도_검토1(면적리스트, 정반길이리스트, 블록면적, 블록최장길이)"
   ]
  },
  {
   "cell_type": "code",
   "execution_count": 22,
   "id": "cb5304f1",
   "metadata": {},
   "outputs": [
    {
     "data": {
      "text/plain": [
       "['부적합']"
      ]
     },
     "execution_count": 22,
     "metadata": {},
     "output_type": "execute_result"
    }
   ],
   "source": [
    "면적리스트 = [100]\n",
    "정반길이리스트 = [10, 10, 10, 10]\n",
    "블록면적 = 120\n",
    "블록최장길이 = 12\n",
    "면적_최장길이적합도_검토1(면적리스트, 정반길이리스트, 블록면적, 블록최장길이)"
   ]
  },
  {
   "cell_type": "code",
   "execution_count": null,
   "id": "a2dda272",
   "metadata": {},
   "outputs": [],
   "source": []
  }
 ],
 "metadata": {
  "kernelspec": {
   "display_name": "Python 3 (ipykernel)",
   "language": "python",
   "name": "python3"
  },
  "language_info": {
   "codemirror_mode": {
    "name": "ipython",
    "version": 3
   },
   "file_extension": ".py",
   "mimetype": "text/x-python",
   "name": "python",
   "nbconvert_exporter": "python",
   "pygments_lexer": "ipython3",
   "version": "3.10.6"
  },
  "toc": {
   "base_numbering": 1,
   "nav_menu": {},
   "number_sections": true,
   "sideBar": true,
   "skip_h1_title": false,
   "title_cell": "Table of Contents",
   "title_sidebar": "Contents",
   "toc_cell": false,
   "toc_position": {},
   "toc_section_display": true,
   "toc_window_display": false
  }
 },
 "nbformat": 4,
 "nbformat_minor": 5
}
