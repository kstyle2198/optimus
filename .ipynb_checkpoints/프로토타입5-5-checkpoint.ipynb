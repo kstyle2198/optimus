{
 "cells": [
  {
   "cell_type": "code",
   "execution_count": 465,
   "id": "f9b64f3a",
   "metadata": {},
   "outputs": [],
   "source": [
    "import pandas as pd\n",
    "import numpy as np\n",
    "from tqdm.notebook  import tqdm\n",
    "from random import random, randrange, choice, shuffle\n",
    "from datetime import datetime, timedelta, date\n",
    "from itertools import combinations\n",
    "from pprint import pprint\n",
    "import calendar\n",
    "import plotly.express as px\n",
    "\n",
    "import matplotlib.pyplot as plt\n",
    "import matplotlib.colors as mcolors\n",
    "\n",
    "import warnings\n",
    "warnings.filterwarnings('ignore')\n",
    "\n",
    "from IPython.core.interactiveshell import InteractiveShell \n",
    "InteractiveShell.ast_node_interactivity = \"all\" # Cell의 모든 반환값 출력\n",
    "\n",
    "pd.set_option('display.max_rows', None)"
   ]
  },
  {
   "cell_type": "markdown",
   "id": "09df493d",
   "metadata": {},
   "source": [
    "# 기본 데이터 세팅"
   ]
  },
  {
   "cell_type": "code",
   "execution_count": 466,
   "id": "e9045597",
   "metadata": {},
   "outputs": [
    {
     "data": {
      "text/html": [
       "<div>\n",
       "<style scoped>\n",
       "    .dataframe tbody tr th:only-of-type {\n",
       "        vertical-align: middle;\n",
       "    }\n",
       "\n",
       "    .dataframe tbody tr th {\n",
       "        vertical-align: top;\n",
       "    }\n",
       "\n",
       "    .dataframe thead th {\n",
       "        text-align: right;\n",
       "    }\n",
       "</style>\n",
       "<table border=\"1\" class=\"dataframe\">\n",
       "  <thead>\n",
       "    <tr style=\"text-align: right;\">\n",
       "      <th></th>\n",
       "      <th>블록명</th>\n",
       "      <th>중량</th>\n",
       "      <th>가로</th>\n",
       "      <th>세로</th>\n",
       "      <th>표준공기</th>\n",
       "      <th>납기</th>\n",
       "    </tr>\n",
       "  </thead>\n",
       "  <tbody>\n",
       "    <tr>\n",
       "      <th>0</th>\n",
       "      <td>S1</td>\n",
       "      <td>50</td>\n",
       "      <td>10</td>\n",
       "      <td>10</td>\n",
       "      <td>2</td>\n",
       "      <td>2024-02-15</td>\n",
       "    </tr>\n",
       "    <tr>\n",
       "      <th>1</th>\n",
       "      <td>S2</td>\n",
       "      <td>60</td>\n",
       "      <td>10</td>\n",
       "      <td>12</td>\n",
       "      <td>3</td>\n",
       "      <td>2024-02-15</td>\n",
       "    </tr>\n",
       "    <tr>\n",
       "      <th>2</th>\n",
       "      <td>S3</td>\n",
       "      <td>30</td>\n",
       "      <td>5</td>\n",
       "      <td>6</td>\n",
       "      <td>1</td>\n",
       "      <td>2024-02-15</td>\n",
       "    </tr>\n",
       "    <tr>\n",
       "      <th>3</th>\n",
       "      <td>S4</td>\n",
       "      <td>20</td>\n",
       "      <td>5</td>\n",
       "      <td>6</td>\n",
       "      <td>2</td>\n",
       "      <td>2024-02-15</td>\n",
       "    </tr>\n",
       "  </tbody>\n",
       "</table>\n",
       "</div>"
      ],
      "text/plain": [
       "  블록명  중량  가로  세로  표준공기          납기\n",
       "0  S1  50  10  10     2  2024-02-15\n",
       "1  S2  60  10  12     3  2024-02-15\n",
       "2  S3  30   5   6     1  2024-02-15\n",
       "3  S4  20   5   6     2  2024-02-15"
      ]
     },
     "execution_count": 466,
     "metadata": {},
     "output_type": "execute_result"
    }
   ],
   "source": [
    "블록원데이터 = pd.DataFrame({\"블록명\":[\"S1\", \"S2\", \"S3\", \"S4\"], \n",
    "                    \"중량\": [50, 60, 30, 20], \n",
    "                    \"가로\": [10, 10, 5, 5], \n",
    "                    \"세로\":[10, 12, 6, 6], \n",
    "                    \"표준공기\":[2, 3, 1, 2], \n",
    "                    \"납기\":[\"2024-02-15\", \"2024-02-15\", \"2024-02-15\", \"2024-02-15\"],\n",
    "                    })\n",
    "블록원데이터.head()"
   ]
  },
  {
   "cell_type": "code",
   "execution_count": 467,
   "id": "d5908f92",
   "metadata": {},
   "outputs": [
    {
     "data": {
      "text/html": [
       "<div>\n",
       "<style scoped>\n",
       "    .dataframe tbody tr th:only-of-type {\n",
       "        vertical-align: middle;\n",
       "    }\n",
       "\n",
       "    .dataframe tbody tr th {\n",
       "        vertical-align: top;\n",
       "    }\n",
       "\n",
       "    .dataframe thead th {\n",
       "        text-align: right;\n",
       "    }\n",
       "</style>\n",
       "<table border=\"1\" class=\"dataframe\">\n",
       "  <thead>\n",
       "    <tr style=\"text-align: right;\">\n",
       "      <th></th>\n",
       "      <th>정반명</th>\n",
       "      <th>가능중량</th>\n",
       "      <th>가로</th>\n",
       "      <th>세로</th>\n",
       "    </tr>\n",
       "  </thead>\n",
       "  <tbody>\n",
       "    <tr>\n",
       "      <th>0</th>\n",
       "      <td>A</td>\n",
       "      <td>100</td>\n",
       "      <td>10</td>\n",
       "      <td>20</td>\n",
       "    </tr>\n",
       "    <tr>\n",
       "      <th>1</th>\n",
       "      <td>B</td>\n",
       "      <td>100</td>\n",
       "      <td>10</td>\n",
       "      <td>10</td>\n",
       "    </tr>\n",
       "    <tr>\n",
       "      <th>2</th>\n",
       "      <td>C</td>\n",
       "      <td>30</td>\n",
       "      <td>5</td>\n",
       "      <td>10</td>\n",
       "    </tr>\n",
       "  </tbody>\n",
       "</table>\n",
       "</div>"
      ],
      "text/plain": [
       "  정반명  가능중량  가로  세로\n",
       "0   A   100  10  20\n",
       "1   B   100  10  10\n",
       "2   C    30   5  10"
      ]
     },
     "execution_count": 467,
     "metadata": {},
     "output_type": "execute_result"
    }
   ],
   "source": [
    "정반원데이터 = pd.DataFrame({\"정반명\":[\"A\", \"B\", \"C\"],\n",
    "                   \"가능중량\":[100, 100, 30],\n",
    "                   \"가로\":[10, 10, 5],\n",
    "                   \"세로\":[20, 10, 10],\n",
    "                   })\n",
    "정반원데이터.head()"
   ]
  },
  {
   "cell_type": "code",
   "execution_count": 468,
   "id": "3afd4249",
   "metadata": {},
   "outputs": [
    {
     "data": {
      "text/plain": [
       "1"
      ]
     },
     "execution_count": 468,
     "metadata": {},
     "output_type": "execute_result"
    }
   ],
   "source": [
    "정반원데이터.index[정반원데이터[\"정반명\"]==\"B\"].values[0]"
   ]
  },
  {
   "cell_type": "code",
   "execution_count": 469,
   "id": "ef19c09f",
   "metadata": {},
   "outputs": [
    {
     "data": {
      "text/plain": [
       "DatetimeIndex(['2024-02-01', '2024-02-02', '2024-02-03', '2024-02-04',\n",
       "               '2024-02-05', '2024-02-06', '2024-02-07', '2024-02-08',\n",
       "               '2024-02-09', '2024-02-10', '2024-02-11', '2024-02-12',\n",
       "               '2024-02-13', '2024-02-14', '2024-02-15', '2024-02-16',\n",
       "               '2024-02-17', '2024-02-18', '2024-02-19', '2024-02-20',\n",
       "               '2024-02-21', '2024-02-22', '2024-02-23', '2024-02-24',\n",
       "               '2024-02-25', '2024-02-26', '2024-02-27', '2024-02-28'],\n",
       "              dtype='datetime64[ns]', freq='D')"
      ]
     },
     "execution_count": 469,
     "metadata": {},
     "output_type": "execute_result"
    }
   ],
   "source": [
    "start_date = datetime(2024, 2, 1)\n",
    "end_date = datetime(2024, 2, 28)\n",
    "날짜집합  = pd.date_range(start=start_date, end=end_date, freq='D')\n",
    "날짜집합"
   ]
  },
  {
   "cell_type": "code",
   "execution_count": 470,
   "id": "ee2ee346",
   "metadata": {},
   "outputs": [
    {
     "data": {
      "text/plain": [
       "['S1', 'S2', 'S3', 'S4']"
      ]
     },
     "execution_count": 470,
     "metadata": {},
     "output_type": "execute_result"
    }
   ],
   "source": [
    "블록집합 = 블록원데이터[\"블록명\"].unique().tolist()\n",
    "블록집합"
   ]
  },
  {
   "cell_type": "code",
   "execution_count": 471,
   "id": "71d472fc",
   "metadata": {},
   "outputs": [
    {
     "data": {
      "text/plain": [
       "['A', 'B', 'C']"
      ]
     },
     "execution_count": 471,
     "metadata": {},
     "output_type": "execute_result"
    }
   ],
   "source": [
    "최초정반집합 = 정반원데이터[\"정반명\"].unique().tolist()\n",
    "최초정반집합"
   ]
  },
  {
   "cell_type": "markdown",
   "id": "70935972",
   "metadata": {},
   "source": [
    "# 블록 데이터 전처리 함수"
   ]
  },
  {
   "cell_type": "code",
   "execution_count": 472,
   "id": "52c1c100",
   "metadata": {},
   "outputs": [],
   "source": [
    "import functools\n",
    "def unpack_df_columns(func):\n",
    "    @functools.wraps(func)\n",
    "    def _unpack_df_columns(*args, **kwargs):\n",
    "        series = args[0]\n",
    "        return func(*series.values)\n",
    "    return _unpack_df_columns"
   ]
  },
  {
   "cell_type": "code",
   "execution_count": 473,
   "id": "aa800a66",
   "metadata": {},
   "outputs": [],
   "source": [
    "@unpack_df_columns\n",
    "def 최소착수요구일구하기(납기, 공기):\n",
    "    result = pd.to_datetime(납기) - timedelta(days=int(공기))\n",
    "    return result.date()"
   ]
  },
  {
   "cell_type": "code",
   "execution_count": 474,
   "id": "1c77f1ff",
   "metadata": {},
   "outputs": [],
   "source": [
    "착수일가중치, 공기가중치, 크기가중치 = 0.7, 0.5, 0.5\n",
    "\n",
    "@unpack_df_columns\n",
    "def 블록우선순위구하기(날순, 공순, 크순):\n",
    "    global 착수일가중치, 공기가중치, 크기가중치\n",
    "    result = np.round((날순*착수일가중치 + 공순*공기가중치 + 크순*크기가중치)/3,1)\n",
    "    return result\n",
    "\n",
    "@unpack_df_columns\n",
    "def 블록사이즈튜플만들기(가로, 세로):\n",
    "    길이1 = max(가로, 세로)  \n",
    "    길이2 = min(가로, 세로)\n",
    "    result = (길이2, 길이1)\n",
    "    return result"
   ]
  },
  {
   "cell_type": "code",
   "execution_count": 475,
   "id": "65f716a2",
   "metadata": {},
   "outputs": [],
   "source": [
    "def 블록데이터전처리(블록원데이터):\n",
    "    df1 = 블록원데이터.copy()\n",
    "    df1[\"사이즈\"] = df1[[\"가로\", \"세로\"]].apply(블록사이즈튜플만들기, axis=1)\n",
    "    df1[\"납기\"] = pd.to_datetime(df1[\"납기\"])\n",
    "    df1[\"면적\"] = df1.eval(\"가로*세로\")\n",
    "    df1[\"최소착수요구일\"] = df1[[\"납기\", \"표준공기\"]].apply(최소착수요구일구하기, axis=1)\n",
    "    df1[\"날짜순서\"] = df1[\"최소착수요구일\"].rank()\n",
    "    df1[\"공기순서\"] = df1[\"표준공기\"].rank(ascending=False)\n",
    "    df1[\"크기순서\"] = df1[\"면적\"].rank(ascending=False)\n",
    "    df1[\"우선순위\"] = df1[[\"날짜순서\", \"공기순서\", \"크기순서\"]].apply(블록우선순위구하기, axis=1)\n",
    "    \n",
    "    df1 = df1.drop(['가로', '세로'], axis=1)\n",
    "    df1 = df1.sort_values(by=[\"우선순위\"])\n",
    "    return df1"
   ]
  },
  {
   "cell_type": "code",
   "execution_count": 476,
   "id": "62c11c89",
   "metadata": {},
   "outputs": [
    {
     "data": {
      "text/html": [
       "<div>\n",
       "<style scoped>\n",
       "    .dataframe tbody tr th:only-of-type {\n",
       "        vertical-align: middle;\n",
       "    }\n",
       "\n",
       "    .dataframe tbody tr th {\n",
       "        vertical-align: top;\n",
       "    }\n",
       "\n",
       "    .dataframe thead th {\n",
       "        text-align: right;\n",
       "    }\n",
       "</style>\n",
       "<table border=\"1\" class=\"dataframe\">\n",
       "  <thead>\n",
       "    <tr style=\"text-align: right;\">\n",
       "      <th></th>\n",
       "      <th>블록명</th>\n",
       "      <th>중량</th>\n",
       "      <th>표준공기</th>\n",
       "      <th>납기</th>\n",
       "      <th>사이즈</th>\n",
       "      <th>면적</th>\n",
       "      <th>최소착수요구일</th>\n",
       "      <th>날짜순서</th>\n",
       "      <th>공기순서</th>\n",
       "      <th>크기순서</th>\n",
       "      <th>우선순위</th>\n",
       "    </tr>\n",
       "  </thead>\n",
       "  <tbody>\n",
       "    <tr>\n",
       "      <th>1</th>\n",
       "      <td>S2</td>\n",
       "      <td>60</td>\n",
       "      <td>3</td>\n",
       "      <td>2024-02-15</td>\n",
       "      <td>(10, 12)</td>\n",
       "      <td>120</td>\n",
       "      <td>2024-02-12</td>\n",
       "      <td>1.0</td>\n",
       "      <td>1.0</td>\n",
       "      <td>1.0</td>\n",
       "      <td>0.6</td>\n",
       "    </tr>\n",
       "    <tr>\n",
       "      <th>0</th>\n",
       "      <td>S1</td>\n",
       "      <td>50</td>\n",
       "      <td>2</td>\n",
       "      <td>2024-02-15</td>\n",
       "      <td>(10, 10)</td>\n",
       "      <td>100</td>\n",
       "      <td>2024-02-13</td>\n",
       "      <td>2.5</td>\n",
       "      <td>2.5</td>\n",
       "      <td>2.0</td>\n",
       "      <td>1.3</td>\n",
       "    </tr>\n",
       "    <tr>\n",
       "      <th>3</th>\n",
       "      <td>S4</td>\n",
       "      <td>20</td>\n",
       "      <td>2</td>\n",
       "      <td>2024-02-15</td>\n",
       "      <td>(5, 6)</td>\n",
       "      <td>30</td>\n",
       "      <td>2024-02-13</td>\n",
       "      <td>2.5</td>\n",
       "      <td>2.5</td>\n",
       "      <td>3.5</td>\n",
       "      <td>1.6</td>\n",
       "    </tr>\n",
       "    <tr>\n",
       "      <th>2</th>\n",
       "      <td>S3</td>\n",
       "      <td>30</td>\n",
       "      <td>1</td>\n",
       "      <td>2024-02-15</td>\n",
       "      <td>(5, 6)</td>\n",
       "      <td>30</td>\n",
       "      <td>2024-02-14</td>\n",
       "      <td>4.0</td>\n",
       "      <td>4.0</td>\n",
       "      <td>3.5</td>\n",
       "      <td>2.2</td>\n",
       "    </tr>\n",
       "  </tbody>\n",
       "</table>\n",
       "</div>"
      ],
      "text/plain": [
       "  블록명  중량  표준공기         납기       사이즈   면적     최소착수요구일  날짜순서  공기순서  크기순서  우선순위\n",
       "1  S2  60     3 2024-02-15  (10, 12)  120  2024-02-12   1.0   1.0   1.0   0.6\n",
       "0  S1  50     2 2024-02-15  (10, 10)  100  2024-02-13   2.5   2.5   2.0   1.3\n",
       "3  S4  20     2 2024-02-15    (5, 6)   30  2024-02-13   2.5   2.5   3.5   1.6\n",
       "2  S3  30     1 2024-02-15    (5, 6)   30  2024-02-14   4.0   4.0   3.5   2.2"
      ]
     },
     "execution_count": 476,
     "metadata": {},
     "output_type": "execute_result"
    }
   ],
   "source": [
    "df1 = 블록데이터전처리(블록원데이터)\n",
    "df1"
   ]
  },
  {
   "cell_type": "code",
   "execution_count": 477,
   "id": "4bce4c99",
   "metadata": {},
   "outputs": [
    {
     "name": "stdout",
     "output_type": "stream",
     "text": [
      "  블록명  우선순위\n",
      "1  S2   3.3\n",
      "0  S1   8.2\n",
      "3  S4   8.5\n",
      "2  S3  13.2\n",
      "  블록명  우선순위\n",
      "1  S2   3.3\n",
      "0  S1   6.8\n",
      "3  S4  11.3\n",
      "2  S3  11.8\n"
     ]
    }
   ],
   "source": [
    "공기가중치 = [9, 0.5]\n",
    "크기가중치 = [0.5, 9]\n",
    "착수일가중치 = 0.5\n",
    "for 공기가중치, 크기가중치 in zip(공기가중치, 크기가중치):\n",
    "    df2 = 블록데이터전처리(블록원데이터)\n",
    "    print(df2[[\"블록명\", \"우선순위\"]])"
   ]
  },
  {
   "cell_type": "markdown",
   "id": "23c1b482",
   "metadata": {},
   "source": [
    "# 정반 데이터 전처리 함수"
   ]
  },
  {
   "cell_type": "code",
   "execution_count": 478,
   "id": "21a217cc",
   "metadata": {},
   "outputs": [],
   "source": [
    "중량가중치, 크기가중치 = 0.5, 0.7\n",
    "\n",
    "@unpack_df_columns\n",
    "def 정반우선순위구하기(중순, 크순):\n",
    "    global 중량가중치, 크기가중치\n",
    "    result = np.round((중순*중량가중치 + 크순*크기가중치)/3,1)\n",
    "    return result\n",
    "\n",
    "@unpack_df_columns\n",
    "def 정반사이즈튜플만들기(가로, 세로):\n",
    "    길이1 = max(가로, 세로)  \n",
    "    길이2 = min(가로, 세로)\n",
    "    result = (길이1, 길이2)\n",
    "    return result"
   ]
  },
  {
   "cell_type": "code",
   "execution_count": 479,
   "id": "e8232335",
   "metadata": {},
   "outputs": [],
   "source": [
    "def 정반데이터전처리(정반원데이터):\n",
    "    df = 정반원데이터.copy()\n",
    "    \n",
    "    df[\"사이즈\"] = df[[\"가로\", \"세로\"]].apply(정반사이즈튜플만들기, axis=1)\n",
    "    df[\"면적\"] = df.eval(\"가로*세로\")\n",
    "    df[\"중량순서\"] = df[\"가능중량\"].rank(ascending=False)\n",
    "    df[\"크기순서\"] = df[\"면적\"].rank(ascending=False)\n",
    "    df[\"우선순위\"] = df[[\"중량순서\", \"크기순서\"]].apply(정반우선순위구하기, axis=1)\n",
    "    \n",
    "    df = df.drop(['가로', '세로'], axis=1)\n",
    "    df = df.sort_values(by=[\"우선순위\"])\n",
    "    return df"
   ]
  },
  {
   "cell_type": "code",
   "execution_count": 480,
   "id": "ff9147f0",
   "metadata": {},
   "outputs": [
    {
     "data": {
      "text/html": [
       "<div>\n",
       "<style scoped>\n",
       "    .dataframe tbody tr th:only-of-type {\n",
       "        vertical-align: middle;\n",
       "    }\n",
       "\n",
       "    .dataframe tbody tr th {\n",
       "        vertical-align: top;\n",
       "    }\n",
       "\n",
       "    .dataframe thead th {\n",
       "        text-align: right;\n",
       "    }\n",
       "</style>\n",
       "<table border=\"1\" class=\"dataframe\">\n",
       "  <thead>\n",
       "    <tr style=\"text-align: right;\">\n",
       "      <th></th>\n",
       "      <th>정반명</th>\n",
       "      <th>가능중량</th>\n",
       "      <th>사이즈</th>\n",
       "      <th>면적</th>\n",
       "      <th>중량순서</th>\n",
       "      <th>크기순서</th>\n",
       "      <th>우선순위</th>\n",
       "    </tr>\n",
       "  </thead>\n",
       "  <tbody>\n",
       "    <tr>\n",
       "      <th>0</th>\n",
       "      <td>A</td>\n",
       "      <td>100</td>\n",
       "      <td>(20, 10)</td>\n",
       "      <td>200</td>\n",
       "      <td>1.5</td>\n",
       "      <td>1.0</td>\n",
       "      <td>0.5</td>\n",
       "    </tr>\n",
       "    <tr>\n",
       "      <th>1</th>\n",
       "      <td>B</td>\n",
       "      <td>100</td>\n",
       "      <td>(10, 10)</td>\n",
       "      <td>100</td>\n",
       "      <td>1.5</td>\n",
       "      <td>2.0</td>\n",
       "      <td>0.7</td>\n",
       "    </tr>\n",
       "    <tr>\n",
       "      <th>2</th>\n",
       "      <td>C</td>\n",
       "      <td>30</td>\n",
       "      <td>(10, 5)</td>\n",
       "      <td>50</td>\n",
       "      <td>3.0</td>\n",
       "      <td>3.0</td>\n",
       "      <td>1.2</td>\n",
       "    </tr>\n",
       "  </tbody>\n",
       "</table>\n",
       "</div>"
      ],
      "text/plain": [
       "  정반명  가능중량       사이즈   면적  중량순서  크기순서  우선순위\n",
       "0   A   100  (20, 10)  200   1.5   1.0   0.5\n",
       "1   B   100  (10, 10)  100   1.5   2.0   0.7\n",
       "2   C    30   (10, 5)   50   3.0   3.0   1.2"
      ]
     },
     "execution_count": 480,
     "metadata": {},
     "output_type": "execute_result"
    }
   ],
   "source": [
    "df2 = 정반데이터전처리(정반원데이터)\n",
    "df2"
   ]
  },
  {
   "cell_type": "code",
   "execution_count": 481,
   "id": "9b59b991",
   "metadata": {},
   "outputs": [
    {
     "name": "stdout",
     "output_type": "stream",
     "text": [
      "  정반명  우선순위\n",
      "0   A   0.5\n",
      "1   B   0.5\n",
      "2   C   0.9\n",
      "  정반명  우선순위\n",
      "0   A   1.0\n",
      "1   B   2.0\n",
      "2   C   3.0\n"
     ]
    }
   ],
   "source": [
    "중량가중치들 = [0.9, 0.01]\n",
    "크기가중치들 = [0.01, 3]\n",
    "\n",
    "for 중량가중치, 크기가중치 in zip(중량가중치들, 크기가중치들):\n",
    "    df2 = 정반데이터전처리(정반원데이터)\n",
    "    print(df2[[\"정반명\", \"우선순위\"]])"
   ]
  },
  {
   "cell_type": "markdown",
   "id": "7cddb3ce",
   "metadata": {},
   "source": [
    "# 변수정리함수"
   ]
  },
  {
   "cell_type": "code",
   "execution_count": 482,
   "id": "9dfa03a2",
   "metadata": {},
   "outputs": [],
   "source": [
    "def 블록변수정리(블록데이터, target_block):\n",
    "    블록 = dict()\n",
    "    블록[\"블록명\"] = target_block\n",
    "    블록[\"인덱스\"] =  블록데이터[블록데이터[\"블록명\"]==target_block].index.values[0]\n",
    "    블록[\"중량\"] = 블록데이터[블록데이터[\"블록명\"]==target_block][\"중량\"].values[0]\n",
    "    블록[\"사이즈\"] = 블록데이터[블록데이터[\"블록명\"]==target_block][\"사이즈\"].values[0]\n",
    "    블록[\"면적\"] = 블록데이터[블록데이터[\"블록명\"]==target_block][\"면적\"].values[0]\n",
    "    블록[\"표준공기\"] = 블록데이터[블록데이터[\"블록명\"]==target_block][\"표준공기\"].values[0]\n",
    "    블록[\"최소착수요구일\"] = 블록데이터[블록데이터[\"블록명\"]==target_block][\"최소착수요구일\"].values[0]\n",
    "    return 블록"
   ]
  },
  {
   "cell_type": "code",
   "execution_count": 483,
   "id": "d5e8bfb7",
   "metadata": {},
   "outputs": [
    {
     "data": {
      "text/plain": [
       "{'블록명': 'S1',\n",
       " '인덱스': 0,\n",
       " '중량': 50,\n",
       " '사이즈': (10, 10),\n",
       " '면적': 100,\n",
       " '표준공기': 2,\n",
       " '최소착수요구일': datetime.date(2024, 2, 13)}"
      ]
     },
     "execution_count": 483,
     "metadata": {},
     "output_type": "execute_result"
    }
   ],
   "source": [
    "블록변수정리(df1, \"S1\")"
   ]
  },
  {
   "cell_type": "code",
   "execution_count": 484,
   "id": "fc35acd5",
   "metadata": {},
   "outputs": [],
   "source": [
    "def 정반변수정리(정반데이터, 정반명):\n",
    "    정반 = dict()\n",
    "    정반[\"정반명\"] = 정반명\n",
    "    정반[\"가능중량\"] = 정반데이터[정반데이터[\"정반명\"]==정반명][\"가능중량\"].values[0]\n",
    "    정반[\"사이즈\"] = 정반데이터[정반데이터[\"정반명\"]==정반명][\"사이즈\"].values[0]\n",
    "    정반[\"면적\"] = 정반데이터[정반데이터[\"정반명\"]==정반명][\"면적\"].values[0]\n",
    "    \n",
    "    return 정반"
   ]
  },
  {
   "cell_type": "code",
   "execution_count": 485,
   "id": "d34599db",
   "metadata": {},
   "outputs": [
    {
     "data": {
      "text/plain": [
       "{'정반명': 'A', '가능중량': 100, '사이즈': (20, 10), '면적': 200}"
      ]
     },
     "execution_count": 485,
     "metadata": {},
     "output_type": "execute_result"
    }
   ],
   "source": [
    "A = 정반변수정리(df2, \"A\")\n",
    "A"
   ]
  },
  {
   "cell_type": "markdown",
   "id": "fe0f8e07",
   "metadata": {},
   "source": [
    "# 정반가능중량 조건 적합도 검토"
   ]
  },
  {
   "cell_type": "code",
   "execution_count": 486,
   "id": "dcce5421",
   "metadata": {},
   "outputs": [],
   "source": [
    "# 정반가능중량에 안전고려하여 감률 적용?????\n",
    "\n",
    "def 정반가능중량검토(target_block, 블록데이터, 정반, 정반데이터):\n",
    "    블록중량 = 블록데이터[블록데이터[\"블록명\"]==target_block][\"중량\"].values[0]\n",
    "    정반가능중량 = 정반데이터[정반데이터[\"정반명\"]==정반][\"가능중량\"].values[0]\n",
    "    \n",
    "    if 정반가능중량 > 블록중량: \n",
    "        return \"적합\"\n",
    "    else:\n",
    "        return \"부적합\""
   ]
  },
  {
   "cell_type": "code",
   "execution_count": 487,
   "id": "d4c19bac",
   "metadata": {},
   "outputs": [
    {
     "data": {
      "text/plain": [
       "'적합'"
      ]
     },
     "execution_count": 487,
     "metadata": {},
     "output_type": "execute_result"
    }
   ],
   "source": [
    "정반가능중량검토(\"S1\", df1, \"A\", df2)"
   ]
  },
  {
   "cell_type": "markdown",
   "id": "e7bd96f6",
   "metadata": {},
   "source": [
    "# 면적 달력"
   ]
  },
  {
   "cell_type": "code",
   "execution_count": 488,
   "id": "31aa1ade",
   "metadata": {},
   "outputs": [],
   "source": [
    "def get_end_date_of_month(year, month):\n",
    "    # Get the number of days in the given month\n",
    "    num_days = calendar.monthrange(year, month)[1]\n",
    "    # Return the last day of the month as a datetime object\n",
    "    return date(year, month, num_days)"
   ]
  },
  {
   "cell_type": "code",
   "execution_count": 489,
   "id": "f1840920",
   "metadata": {},
   "outputs": [],
   "source": [
    "def create_면적달력(시작년:int, 시작월:int, 종료년:int, 종료월:int, 정반데이터):\n",
    "    start_date = datetime(시작년, 시작월, 1)\n",
    "    end_date = get_end_date_of_month(종료년, 종료월)\n",
    "    정반집합 = 정반데이터[\"정반명\"].tolist()\n",
    "    날짜집합  = pd.date_range(start=start_date, end=end_date, freq='D')\n",
    "    \n",
    "    면적달력 = pd.DataFrame()\n",
    "    면적달력.index = 날짜집합\n",
    "   \n",
    "    for 정반 in 정반집합:\n",
    "        면적달력[f\"{정반}\"] = 정반데이터[정반데이터[\"정반명\"]==정반][\"면적\"].values[0]\n",
    "\n",
    "    return 면적달력"
   ]
  },
  {
   "cell_type": "code",
   "execution_count": 490,
   "id": "3d43b85b",
   "metadata": {
    "scrolled": true
   },
   "outputs": [
    {
     "data": {
      "text/html": [
       "<div>\n",
       "<style scoped>\n",
       "    .dataframe tbody tr th:only-of-type {\n",
       "        vertical-align: middle;\n",
       "    }\n",
       "\n",
       "    .dataframe tbody tr th {\n",
       "        vertical-align: top;\n",
       "    }\n",
       "\n",
       "    .dataframe thead th {\n",
       "        text-align: right;\n",
       "    }\n",
       "</style>\n",
       "<table border=\"1\" class=\"dataframe\">\n",
       "  <thead>\n",
       "    <tr style=\"text-align: right;\">\n",
       "      <th></th>\n",
       "      <th>A</th>\n",
       "      <th>B</th>\n",
       "      <th>C</th>\n",
       "    </tr>\n",
       "  </thead>\n",
       "  <tbody>\n",
       "    <tr>\n",
       "      <th>2024-02-01</th>\n",
       "      <td>200</td>\n",
       "      <td>100</td>\n",
       "      <td>50</td>\n",
       "    </tr>\n",
       "    <tr>\n",
       "      <th>2024-02-02</th>\n",
       "      <td>200</td>\n",
       "      <td>100</td>\n",
       "      <td>50</td>\n",
       "    </tr>\n",
       "    <tr>\n",
       "      <th>2024-02-03</th>\n",
       "      <td>200</td>\n",
       "      <td>100</td>\n",
       "      <td>50</td>\n",
       "    </tr>\n",
       "    <tr>\n",
       "      <th>2024-02-04</th>\n",
       "      <td>200</td>\n",
       "      <td>100</td>\n",
       "      <td>50</td>\n",
       "    </tr>\n",
       "    <tr>\n",
       "      <th>2024-02-05</th>\n",
       "      <td>200</td>\n",
       "      <td>100</td>\n",
       "      <td>50</td>\n",
       "    </tr>\n",
       "  </tbody>\n",
       "</table>\n",
       "</div>"
      ],
      "text/plain": [
       "              A    B   C\n",
       "2024-02-01  200  100  50\n",
       "2024-02-02  200  100  50\n",
       "2024-02-03  200  100  50\n",
       "2024-02-04  200  100  50\n",
       "2024-02-05  200  100  50"
      ]
     },
     "execution_count": 490,
     "metadata": {},
     "output_type": "execute_result"
    }
   ],
   "source": [
    "면적달력 = create_면적달력(2024, 2, 2024, 2, df2)\n",
    "면적달력.head()"
   ]
  },
  {
   "cell_type": "code",
   "execution_count": 491,
   "id": "c5a701ff",
   "metadata": {},
   "outputs": [],
   "source": [
    "# 작업성 및 안전고려 배치블록 면적에 가중 %????\n",
    "\n",
    "# def get_최선조기착수일후보(면적달력, 정반리스트, 대상블록, 블록데이터):\n",
    "#     result_dict = dict()\n",
    "    \n",
    "#     블록면적 = 블록데이터[블록데이터[\"블록명\"]==대상블록][\"면적\"].values[0]\n",
    "#     표준공기 = 블록데이터[블록데이터[\"블록명\"]==대상블록][\"표준공기\"].values[0]\n",
    "    \n",
    "#     for 대상정반 in 정반리스트:\n",
    "#         대상정반면적리스트 = 면적달력[f\"{대상정반}\"].iloc[:].values\n",
    "        \n",
    "#         for i in range(len(대상정반면적리스트)):\n",
    "#             조회시점인덱스 = i\n",
    "#             조회구간면적리스트 = 대상정반면적리스트[조회시점인덱스:조회시점인덱스+표준공기]\n",
    "#             조회기간최소면적 = min(조회구간면적리스트)\n",
    "            \n",
    "#             if 조회기간최소면적 >= 블록면적:\n",
    "#                 최선조기착수일 = 면적달력.index[조회시점인덱스]\n",
    "#                 result_dict[대상정반] = 최선조기착수일\n",
    "#                 print(f\">>> 대상정반:{대상정반}, 조회기간최소면적:{조회기간최소면적}, 블록명:{대상블록}, 최선조기착수일: {최선조기착수일}\")  \n",
    "#                 break\n",
    "        \n",
    "        \n",
    "#     return result_dict"
   ]
  },
  {
   "cell_type": "markdown",
   "id": "d4792cd9",
   "metadata": {},
   "source": [
    "# 최선조기착수일 후보 및 착수대상 지정"
   ]
  },
  {
   "cell_type": "code",
   "execution_count": 492,
   "id": "bc063677",
   "metadata": {},
   "outputs": [],
   "source": [
    "def get_최선조기착수일후보_가중(면적달력, 정반리스트, 대상블록, 블록데이터, 시점후퇴배수,  면적가중비율):\n",
    "    '''\n",
    "    조회시기 날짜를 표준공기만큼 뒤로 빼고.. 필요시 면적 가중\n",
    "    '''\n",
    "    \n",
    "    result_dict = dict()\n",
    "    \n",
    "    블록면적 = 블록데이터[블록데이터[\"블록명\"]==대상블록][\"면적\"].values[0]\n",
    "    표준공기 = 블록데이터[블록데이터[\"블록명\"]==대상블록][\"표준공기\"].values[0]\n",
    "    \n",
    "    표준공기\n",
    "    \n",
    "    for 대상정반 in 정반리스트:\n",
    "        대상정반면적리스트 = 면적달력[f\"{대상정반}\"].iloc[:].values\n",
    "        \n",
    "        for i in range(len(대상정반면적리스트)):\n",
    "            조회시점인덱스 = int(np.round(i + 표준공기 * 시점후퇴배수 * 0.2, 0))  ### 시점을 표준공기의 몇배만큼 뒤로 뺄 건가??\n",
    "            조회구간면적리스트 = 대상정반면적리스트[조회시점인덱스:조회시점인덱스+표준공기]\n",
    "            조회기간최소면적 = min(조회구간면적리스트)\n",
    "            \n",
    "            if 조회기간최소면적 >= 블록면적 * 면적가중비율:\n",
    "                최선조기착수일 = 면적달력.index[조회시점인덱스]\n",
    "                result_dict[대상정반] = 최선조기착수일\n",
    "#                 print(f\">>> 대상정반:{대상정반}, 조회기간최소면적:{조회기간최소면적}, 블록명:{대상블록}, 최선조기착수일: {최선조기착수일}\")  \n",
    "                break\n",
    "        \n",
    "        \n",
    "    return result_dict"
   ]
  },
  {
   "cell_type": "code",
   "execution_count": 493,
   "id": "78018aba",
   "metadata": {
    "scrolled": false
   },
   "outputs": [
    {
     "name": "stdout",
     "output_type": "stream",
     "text": [
      ">>> 대상정반:A, 조회기간최소면적:200, 블록명:S2, 최선조기착수일: 2024-02-01 00:00:00\n"
     ]
    },
    {
     "data": {
      "text/plain": [
       "{'A': Timestamp('2024-02-01 00:00:00', freq='D')}"
      ]
     },
     "execution_count": 493,
     "metadata": {},
     "output_type": "execute_result"
    }
   ],
   "source": [
    "정반리스트 = [\"A\", \"B\"]\n",
    "최선조기착수일후보 = get_최선조기착수일후보(면적달력, 정반리스트, \"S2\", df1)\n",
    "최선조기착수일후보"
   ]
  },
  {
   "cell_type": "code",
   "execution_count": 494,
   "id": "5a3a65a2",
   "metadata": {},
   "outputs": [],
   "source": [
    "def get_최선조기착수대상(최선조기착수일후보, 최소요구착수일):\n",
    "    # 복수의 경우 셔플후 랜덤 선택\n",
    "    temp_list = list(최선조기착수일후보.items())\n",
    "    shuffle(temp_list)\n",
    "    최선조기착수일후보 = dict(temp_list)\n",
    "    \n",
    "    최소요구착수일 = pd.Timestamp(최소요구착수일)\n",
    "    \n",
    "#     print(temp_list)\n",
    "    \n",
    "    최소요구납기충족리스트 = []\n",
    "    for 후보날짜 in temp_list:\n",
    "        \n",
    "        if 후보날짜[1] <= 최소요구착수일:\n",
    "            최소요구납기충족리스트.append(후보날짜)\n",
    "            \n",
    "    print(f\">>> 최소요구납기충족리스트: {최소요구납기충족리스트}\")\n",
    "    \n",
    "    if 최소요구납기충족리스트 != []:\n",
    "        최소요구납기충족리스트 = dict(최소요구납기충족리스트)\n",
    "\n",
    "        earliest_item = min(최소요구납기충족리스트.items(), key=lambda x: x[1])\n",
    "        최선정반 = earliest_item[0]\n",
    "        최선착수일 = earliest_item[1].strftime('%Y-%m-%d')\n",
    "        return 최선정반, 최선착수일\n",
    "    \n",
    "    else:\n",
    "        return None, None"
   ]
  },
  {
   "cell_type": "code",
   "execution_count": 495,
   "id": "53612213",
   "metadata": {},
   "outputs": [
    {
     "name": "stdout",
     "output_type": "stream",
     "text": [
      ">>> 최소요구납기충족리스트: [('A', Timestamp('2024-02-01 00:00:00', freq='D'))]\n"
     ]
    },
    {
     "data": {
      "text/plain": [
       "('A', '2024-02-01')"
      ]
     },
     "execution_count": 495,
     "metadata": {},
     "output_type": "execute_result"
    }
   ],
   "source": [
    "최선조기착수대상 = get_최선조기착수대상(최선조기착수일후보, \"2024-02-10\")\n",
    "최선조기착수대상"
   ]
  },
  {
   "cell_type": "code",
   "execution_count": 496,
   "id": "b2bd80f2",
   "metadata": {},
   "outputs": [],
   "source": [
    "def update_면적달력(면적달력, 최선조기착수대상, 배치블록명, 블록데이터):\n",
    "    \n",
    "    정반리스트 = 면적달력.columns.tolist()\n",
    "    블록면적 = 블록데이터[블록데이터[\"블록명\"]==배치블록명][\"면적\"].values[0]\n",
    "    표준공기 = 블록데이터[블록데이터[\"블록명\"]==배치블록명][\"표준공기\"].values[0]\n",
    "    블록착수일 = 최선조기착수대상[1]\n",
    "    시점인덱스 = list(면적달력.index.strftime('%Y-%m-%d')).index(블록착수일)\n",
    "    정반 = 최선조기착수대상[0]\n",
    "        \n",
    "\n",
    "    조회기간면적리스트 = 면적달력[f\"{정반}\"].iloc[시점인덱스:시점인덱스+표준공기].values\n",
    "\n",
    "    if min(조회기간면적리스트) >= 블록면적:\n",
    "        for idx, 대상일면적 in enumerate(조회기간면적리스트):\n",
    "            수정면적 = 대상일면적 - 블록면적\n",
    "            대상일인덱스 = 시점인덱스 + idx\n",
    "            면적달력[f\"{정반}\"].iloc[대상일인덱스:대상일인덱스+1] = 수정면적\n",
    "            \n",
    "        return 면적달력"
   ]
  },
  {
   "cell_type": "code",
   "execution_count": 497,
   "id": "1a26804b",
   "metadata": {},
   "outputs": [
    {
     "data": {
      "text/html": [
       "<div>\n",
       "<style scoped>\n",
       "    .dataframe tbody tr th:only-of-type {\n",
       "        vertical-align: middle;\n",
       "    }\n",
       "\n",
       "    .dataframe tbody tr th {\n",
       "        vertical-align: top;\n",
       "    }\n",
       "\n",
       "    .dataframe thead th {\n",
       "        text-align: right;\n",
       "    }\n",
       "</style>\n",
       "<table border=\"1\" class=\"dataframe\">\n",
       "  <thead>\n",
       "    <tr style=\"text-align: right;\">\n",
       "      <th></th>\n",
       "      <th>A</th>\n",
       "      <th>B</th>\n",
       "      <th>C</th>\n",
       "    </tr>\n",
       "  </thead>\n",
       "  <tbody>\n",
       "    <tr>\n",
       "      <th>2024-02-01</th>\n",
       "      <td>100</td>\n",
       "      <td>100</td>\n",
       "      <td>50</td>\n",
       "    </tr>\n",
       "    <tr>\n",
       "      <th>2024-02-02</th>\n",
       "      <td>100</td>\n",
       "      <td>100</td>\n",
       "      <td>50</td>\n",
       "    </tr>\n",
       "    <tr>\n",
       "      <th>2024-02-03</th>\n",
       "      <td>200</td>\n",
       "      <td>100</td>\n",
       "      <td>50</td>\n",
       "    </tr>\n",
       "    <tr>\n",
       "      <th>2024-02-04</th>\n",
       "      <td>200</td>\n",
       "      <td>100</td>\n",
       "      <td>50</td>\n",
       "    </tr>\n",
       "    <tr>\n",
       "      <th>2024-02-05</th>\n",
       "      <td>200</td>\n",
       "      <td>100</td>\n",
       "      <td>50</td>\n",
       "    </tr>\n",
       "    <tr>\n",
       "      <th>2024-02-06</th>\n",
       "      <td>200</td>\n",
       "      <td>100</td>\n",
       "      <td>50</td>\n",
       "    </tr>\n",
       "    <tr>\n",
       "      <th>2024-02-07</th>\n",
       "      <td>200</td>\n",
       "      <td>100</td>\n",
       "      <td>50</td>\n",
       "    </tr>\n",
       "    <tr>\n",
       "      <th>2024-02-08</th>\n",
       "      <td>200</td>\n",
       "      <td>100</td>\n",
       "      <td>50</td>\n",
       "    </tr>\n",
       "    <tr>\n",
       "      <th>2024-02-09</th>\n",
       "      <td>200</td>\n",
       "      <td>100</td>\n",
       "      <td>50</td>\n",
       "    </tr>\n",
       "    <tr>\n",
       "      <th>2024-02-10</th>\n",
       "      <td>200</td>\n",
       "      <td>100</td>\n",
       "      <td>50</td>\n",
       "    </tr>\n",
       "  </tbody>\n",
       "</table>\n",
       "</div>"
      ],
      "text/plain": [
       "              A    B   C\n",
       "2024-02-01  100  100  50\n",
       "2024-02-02  100  100  50\n",
       "2024-02-03  200  100  50\n",
       "2024-02-04  200  100  50\n",
       "2024-02-05  200  100  50\n",
       "2024-02-06  200  100  50\n",
       "2024-02-07  200  100  50\n",
       "2024-02-08  200  100  50\n",
       "2024-02-09  200  100  50\n",
       "2024-02-10  200  100  50"
      ]
     },
     "execution_count": 497,
     "metadata": {},
     "output_type": "execute_result"
    }
   ],
   "source": [
    "면적달력 = update_면적달력(면적달력, 최선조기착수대상, \"S1\", df1)\n",
    "면적달력.head(10)"
   ]
  },
  {
   "cell_type": "markdown",
   "id": "59fead66",
   "metadata": {},
   "source": [
    "# 블록명 달력"
   ]
  },
  {
   "cell_type": "code",
   "execution_count": 498,
   "id": "c3af6433",
   "metadata": {},
   "outputs": [],
   "source": [
    "def create_블록명달력(시작년:int, 시작월:int, 종료년:int, 종료월:int, 정반데이터):\n",
    "    start_date = datetime(시작년, 시작월, 1)\n",
    "    end_date = get_end_date_of_month(종료년, 종료월)\n",
    "    정반집합 = 정반데이터[\"정반명\"].tolist()\n",
    "    날짜집합  = pd.date_range(start=start_date, end=end_date, freq='D')\n",
    "    \n",
    "    달력 = pd.DataFrame()\n",
    "    달력.index = 날짜집합\n",
    "    \n",
    "    for 정반 in 정반집합:\n",
    "        달력[정반] = [[] for _ in range(len(날짜집합))]\n",
    "        \n",
    "    return 달력"
   ]
  },
  {
   "cell_type": "code",
   "execution_count": 499,
   "id": "a02a2442",
   "metadata": {
    "scrolled": true
   },
   "outputs": [
    {
     "data": {
      "text/html": [
       "<div>\n",
       "<style scoped>\n",
       "    .dataframe tbody tr th:only-of-type {\n",
       "        vertical-align: middle;\n",
       "    }\n",
       "\n",
       "    .dataframe tbody tr th {\n",
       "        vertical-align: top;\n",
       "    }\n",
       "\n",
       "    .dataframe thead th {\n",
       "        text-align: right;\n",
       "    }\n",
       "</style>\n",
       "<table border=\"1\" class=\"dataframe\">\n",
       "  <thead>\n",
       "    <tr style=\"text-align: right;\">\n",
       "      <th></th>\n",
       "      <th>A</th>\n",
       "      <th>B</th>\n",
       "      <th>C</th>\n",
       "    </tr>\n",
       "  </thead>\n",
       "  <tbody>\n",
       "    <tr>\n",
       "      <th>2024-02-01</th>\n",
       "      <td>[]</td>\n",
       "      <td>[]</td>\n",
       "      <td>[]</td>\n",
       "    </tr>\n",
       "    <tr>\n",
       "      <th>2024-02-02</th>\n",
       "      <td>[]</td>\n",
       "      <td>[]</td>\n",
       "      <td>[]</td>\n",
       "    </tr>\n",
       "    <tr>\n",
       "      <th>2024-02-03</th>\n",
       "      <td>[]</td>\n",
       "      <td>[]</td>\n",
       "      <td>[]</td>\n",
       "    </tr>\n",
       "    <tr>\n",
       "      <th>2024-02-04</th>\n",
       "      <td>[]</td>\n",
       "      <td>[]</td>\n",
       "      <td>[]</td>\n",
       "    </tr>\n",
       "    <tr>\n",
       "      <th>2024-02-05</th>\n",
       "      <td>[]</td>\n",
       "      <td>[]</td>\n",
       "      <td>[]</td>\n",
       "    </tr>\n",
       "  </tbody>\n",
       "</table>\n",
       "</div>"
      ],
      "text/plain": [
       "             A   B   C\n",
       "2024-02-01  []  []  []\n",
       "2024-02-02  []  []  []\n",
       "2024-02-03  []  []  []\n",
       "2024-02-04  []  []  []\n",
       "2024-02-05  []  []  []"
      ]
     },
     "execution_count": 499,
     "metadata": {},
     "output_type": "execute_result"
    }
   ],
   "source": [
    "블록명달력 = create_블록명달력(2024, 2, 2024, 2, df2)\n",
    "블록명달력.head()"
   ]
  },
  {
   "cell_type": "code",
   "execution_count": 500,
   "id": "8b8f5c9d",
   "metadata": {},
   "outputs": [],
   "source": [
    "def update_블록명달력(블록명달력, 최선정반, 블록데이터, block_names, best_st_date):\n",
    "    \n",
    "    달력 = 블록명달력\n",
    "    날짜집합 = 블록명달력.index.tolist()\n",
    "    결과모음 = [[] for _ in range(len(날짜집합))]\n",
    "\n",
    "    for block_name, 블록착수일 in zip(block_names, best_st_date):\n",
    "\n",
    "        시점인덱스 = list(달력.index.strftime('%Y-%m-%d')).index(블록착수일)\n",
    "        표준공기 = 블록데이터[블록데이터[\"블록명\"]==block_name][\"표준공기\"].values[0]\n",
    "\n",
    "        for i in 결과모음[시점인덱스:시점인덱스+표준공기]:\n",
    "            i.append(block_name)\n",
    "            \n",
    "    달력[f\"{최선정반}\"] = 결과모음\n",
    "\n",
    "    return 달력"
   ]
  },
  {
   "cell_type": "code",
   "execution_count": 501,
   "id": "2c41e022",
   "metadata": {
    "scrolled": true
   },
   "outputs": [
    {
     "data": {
      "text/html": [
       "<div>\n",
       "<style scoped>\n",
       "    .dataframe tbody tr th:only-of-type {\n",
       "        vertical-align: middle;\n",
       "    }\n",
       "\n",
       "    .dataframe tbody tr th {\n",
       "        vertical-align: top;\n",
       "    }\n",
       "\n",
       "    .dataframe thead th {\n",
       "        text-align: right;\n",
       "    }\n",
       "</style>\n",
       "<table border=\"1\" class=\"dataframe\">\n",
       "  <thead>\n",
       "    <tr style=\"text-align: right;\">\n",
       "      <th></th>\n",
       "      <th>A</th>\n",
       "      <th>B</th>\n",
       "      <th>C</th>\n",
       "    </tr>\n",
       "  </thead>\n",
       "  <tbody>\n",
       "    <tr>\n",
       "      <th>2024-02-01</th>\n",
       "      <td>[S1]</td>\n",
       "      <td>[]</td>\n",
       "      <td>[]</td>\n",
       "    </tr>\n",
       "    <tr>\n",
       "      <th>2024-02-02</th>\n",
       "      <td>[S1]</td>\n",
       "      <td>[]</td>\n",
       "      <td>[]</td>\n",
       "    </tr>\n",
       "    <tr>\n",
       "      <th>2024-02-03</th>\n",
       "      <td>[]</td>\n",
       "      <td>[]</td>\n",
       "      <td>[]</td>\n",
       "    </tr>\n",
       "    <tr>\n",
       "      <th>2024-02-04</th>\n",
       "      <td>[]</td>\n",
       "      <td>[]</td>\n",
       "      <td>[]</td>\n",
       "    </tr>\n",
       "    <tr>\n",
       "      <th>2024-02-05</th>\n",
       "      <td>[]</td>\n",
       "      <td>[]</td>\n",
       "      <td>[]</td>\n",
       "    </tr>\n",
       "  </tbody>\n",
       "</table>\n",
       "</div>"
      ],
      "text/plain": [
       "               A   B   C\n",
       "2024-02-01  [S1]  []  []\n",
       "2024-02-02  [S1]  []  []\n",
       "2024-02-03    []  []  []\n",
       "2024-02-04    []  []  []\n",
       "2024-02-05    []  []  []"
      ]
     },
     "execution_count": 501,
     "metadata": {},
     "output_type": "execute_result"
    }
   ],
   "source": [
    "block_names = [\"S1\"]\n",
    "block_sizes = [(2, 5)]\n",
    "best_st_date = [\"2024-02-01\"]\n",
    "블록명달력 = update_블록명달력(블록명달력, \"A\", df1, block_names, best_st_date)\n",
    "블록명달력.head()"
   ]
  },
  {
   "cell_type": "code",
   "execution_count": 502,
   "id": "7804644e",
   "metadata": {},
   "outputs": [
    {
     "data": {
      "text/html": [
       "<div>\n",
       "<style scoped>\n",
       "    .dataframe tbody tr th:only-of-type {\n",
       "        vertical-align: middle;\n",
       "    }\n",
       "\n",
       "    .dataframe tbody tr th {\n",
       "        vertical-align: top;\n",
       "    }\n",
       "\n",
       "    .dataframe thead th {\n",
       "        text-align: right;\n",
       "    }\n",
       "</style>\n",
       "<table border=\"1\" class=\"dataframe\">\n",
       "  <thead>\n",
       "    <tr style=\"text-align: right;\">\n",
       "      <th></th>\n",
       "      <th>A</th>\n",
       "      <th>B</th>\n",
       "      <th>C</th>\n",
       "    </tr>\n",
       "  </thead>\n",
       "  <tbody>\n",
       "    <tr>\n",
       "      <th>2024-02-01</th>\n",
       "      <td>[S1]</td>\n",
       "      <td>[]</td>\n",
       "      <td>[]</td>\n",
       "    </tr>\n",
       "    <tr>\n",
       "      <th>2024-02-02</th>\n",
       "      <td>[S1, S2]</td>\n",
       "      <td>[]</td>\n",
       "      <td>[]</td>\n",
       "    </tr>\n",
       "    <tr>\n",
       "      <th>2024-02-03</th>\n",
       "      <td>[S2]</td>\n",
       "      <td>[]</td>\n",
       "      <td>[]</td>\n",
       "    </tr>\n",
       "    <tr>\n",
       "      <th>2024-02-04</th>\n",
       "      <td>[S2]</td>\n",
       "      <td>[]</td>\n",
       "      <td>[]</td>\n",
       "    </tr>\n",
       "    <tr>\n",
       "      <th>2024-02-05</th>\n",
       "      <td>[]</td>\n",
       "      <td>[]</td>\n",
       "      <td>[]</td>\n",
       "    </tr>\n",
       "  </tbody>\n",
       "</table>\n",
       "</div>"
      ],
      "text/plain": [
       "                   A   B   C\n",
       "2024-02-01      [S1]  []  []\n",
       "2024-02-02  [S1, S2]  []  []\n",
       "2024-02-03      [S2]  []  []\n",
       "2024-02-04      [S2]  []  []\n",
       "2024-02-05        []  []  []"
      ]
     },
     "execution_count": 502,
     "metadata": {},
     "output_type": "execute_result"
    }
   ],
   "source": [
    "block_names = [\"S1\", \"S2\"]\n",
    "block_sizes = [(2, 5), (3, 4)]\n",
    "best_st_date = [\"2024-02-01\", \"2024-02-02\"]\n",
    "블록명달력 = update_블록명달력(블록명달력, \"A\", df1, block_names, best_st_date)\n",
    "블록명달력.head()"
   ]
  },
  {
   "cell_type": "markdown",
   "id": "8363c84d",
   "metadata": {},
   "source": [
    "# 사이즈 달력"
   ]
  },
  {
   "cell_type": "code",
   "execution_count": 503,
   "id": "434586cf",
   "metadata": {},
   "outputs": [],
   "source": [
    "def create_사이즈달력(시작년:int, 시작월:int, 종료년:int, 종료월:int, 정반데이터):\n",
    "    start_date = datetime(시작년, 시작월, 1)\n",
    "    end_date = get_end_date_of_month(종료년, 종료월)\n",
    "    정반집합 = 정반데이터[\"정반명\"].tolist()\n",
    "    날짜집합  = pd.date_range(start=start_date, end=end_date, freq='D')\n",
    "    \n",
    "    달력 = pd.DataFrame()\n",
    "    달력.index = 날짜집합\n",
    "    \n",
    "    for 정반 in 정반집합:\n",
    "        달력[정반] = [[] for _ in range(len(날짜집합))]\n",
    "        \n",
    "    return 달력"
   ]
  },
  {
   "cell_type": "code",
   "execution_count": 504,
   "id": "a4382995",
   "metadata": {
    "scrolled": true
   },
   "outputs": [
    {
     "data": {
      "text/html": [
       "<div>\n",
       "<style scoped>\n",
       "    .dataframe tbody tr th:only-of-type {\n",
       "        vertical-align: middle;\n",
       "    }\n",
       "\n",
       "    .dataframe tbody tr th {\n",
       "        vertical-align: top;\n",
       "    }\n",
       "\n",
       "    .dataframe thead th {\n",
       "        text-align: right;\n",
       "    }\n",
       "</style>\n",
       "<table border=\"1\" class=\"dataframe\">\n",
       "  <thead>\n",
       "    <tr style=\"text-align: right;\">\n",
       "      <th></th>\n",
       "      <th>A</th>\n",
       "      <th>B</th>\n",
       "      <th>C</th>\n",
       "    </tr>\n",
       "  </thead>\n",
       "  <tbody>\n",
       "    <tr>\n",
       "      <th>2024-02-01</th>\n",
       "      <td>[]</td>\n",
       "      <td>[]</td>\n",
       "      <td>[]</td>\n",
       "    </tr>\n",
       "    <tr>\n",
       "      <th>2024-02-02</th>\n",
       "      <td>[]</td>\n",
       "      <td>[]</td>\n",
       "      <td>[]</td>\n",
       "    </tr>\n",
       "    <tr>\n",
       "      <th>2024-02-03</th>\n",
       "      <td>[]</td>\n",
       "      <td>[]</td>\n",
       "      <td>[]</td>\n",
       "    </tr>\n",
       "    <tr>\n",
       "      <th>2024-02-04</th>\n",
       "      <td>[]</td>\n",
       "      <td>[]</td>\n",
       "      <td>[]</td>\n",
       "    </tr>\n",
       "    <tr>\n",
       "      <th>2024-02-05</th>\n",
       "      <td>[]</td>\n",
       "      <td>[]</td>\n",
       "      <td>[]</td>\n",
       "    </tr>\n",
       "    <tr>\n",
       "      <th>2024-02-06</th>\n",
       "      <td>[]</td>\n",
       "      <td>[]</td>\n",
       "      <td>[]</td>\n",
       "    </tr>\n",
       "    <tr>\n",
       "      <th>2024-02-07</th>\n",
       "      <td>[]</td>\n",
       "      <td>[]</td>\n",
       "      <td>[]</td>\n",
       "    </tr>\n",
       "    <tr>\n",
       "      <th>2024-02-08</th>\n",
       "      <td>[]</td>\n",
       "      <td>[]</td>\n",
       "      <td>[]</td>\n",
       "    </tr>\n",
       "    <tr>\n",
       "      <th>2024-02-09</th>\n",
       "      <td>[]</td>\n",
       "      <td>[]</td>\n",
       "      <td>[]</td>\n",
       "    </tr>\n",
       "    <tr>\n",
       "      <th>2024-02-10</th>\n",
       "      <td>[]</td>\n",
       "      <td>[]</td>\n",
       "      <td>[]</td>\n",
       "    </tr>\n",
       "    <tr>\n",
       "      <th>2024-02-11</th>\n",
       "      <td>[]</td>\n",
       "      <td>[]</td>\n",
       "      <td>[]</td>\n",
       "    </tr>\n",
       "    <tr>\n",
       "      <th>2024-02-12</th>\n",
       "      <td>[]</td>\n",
       "      <td>[]</td>\n",
       "      <td>[]</td>\n",
       "    </tr>\n",
       "    <tr>\n",
       "      <th>2024-02-13</th>\n",
       "      <td>[]</td>\n",
       "      <td>[]</td>\n",
       "      <td>[]</td>\n",
       "    </tr>\n",
       "    <tr>\n",
       "      <th>2024-02-14</th>\n",
       "      <td>[]</td>\n",
       "      <td>[]</td>\n",
       "      <td>[]</td>\n",
       "    </tr>\n",
       "    <tr>\n",
       "      <th>2024-02-15</th>\n",
       "      <td>[]</td>\n",
       "      <td>[]</td>\n",
       "      <td>[]</td>\n",
       "    </tr>\n",
       "    <tr>\n",
       "      <th>2024-02-16</th>\n",
       "      <td>[]</td>\n",
       "      <td>[]</td>\n",
       "      <td>[]</td>\n",
       "    </tr>\n",
       "    <tr>\n",
       "      <th>2024-02-17</th>\n",
       "      <td>[]</td>\n",
       "      <td>[]</td>\n",
       "      <td>[]</td>\n",
       "    </tr>\n",
       "    <tr>\n",
       "      <th>2024-02-18</th>\n",
       "      <td>[]</td>\n",
       "      <td>[]</td>\n",
       "      <td>[]</td>\n",
       "    </tr>\n",
       "    <tr>\n",
       "      <th>2024-02-19</th>\n",
       "      <td>[]</td>\n",
       "      <td>[]</td>\n",
       "      <td>[]</td>\n",
       "    </tr>\n",
       "    <tr>\n",
       "      <th>2024-02-20</th>\n",
       "      <td>[]</td>\n",
       "      <td>[]</td>\n",
       "      <td>[]</td>\n",
       "    </tr>\n",
       "    <tr>\n",
       "      <th>2024-02-21</th>\n",
       "      <td>[]</td>\n",
       "      <td>[]</td>\n",
       "      <td>[]</td>\n",
       "    </tr>\n",
       "    <tr>\n",
       "      <th>2024-02-22</th>\n",
       "      <td>[]</td>\n",
       "      <td>[]</td>\n",
       "      <td>[]</td>\n",
       "    </tr>\n",
       "    <tr>\n",
       "      <th>2024-02-23</th>\n",
       "      <td>[]</td>\n",
       "      <td>[]</td>\n",
       "      <td>[]</td>\n",
       "    </tr>\n",
       "    <tr>\n",
       "      <th>2024-02-24</th>\n",
       "      <td>[]</td>\n",
       "      <td>[]</td>\n",
       "      <td>[]</td>\n",
       "    </tr>\n",
       "    <tr>\n",
       "      <th>2024-02-25</th>\n",
       "      <td>[]</td>\n",
       "      <td>[]</td>\n",
       "      <td>[]</td>\n",
       "    </tr>\n",
       "    <tr>\n",
       "      <th>2024-02-26</th>\n",
       "      <td>[]</td>\n",
       "      <td>[]</td>\n",
       "      <td>[]</td>\n",
       "    </tr>\n",
       "    <tr>\n",
       "      <th>2024-02-27</th>\n",
       "      <td>[]</td>\n",
       "      <td>[]</td>\n",
       "      <td>[]</td>\n",
       "    </tr>\n",
       "    <tr>\n",
       "      <th>2024-02-28</th>\n",
       "      <td>[]</td>\n",
       "      <td>[]</td>\n",
       "      <td>[]</td>\n",
       "    </tr>\n",
       "    <tr>\n",
       "      <th>2024-02-29</th>\n",
       "      <td>[]</td>\n",
       "      <td>[]</td>\n",
       "      <td>[]</td>\n",
       "    </tr>\n",
       "  </tbody>\n",
       "</table>\n",
       "</div>"
      ],
      "text/plain": [
       "             A   B   C\n",
       "2024-02-01  []  []  []\n",
       "2024-02-02  []  []  []\n",
       "2024-02-03  []  []  []\n",
       "2024-02-04  []  []  []\n",
       "2024-02-05  []  []  []\n",
       "2024-02-06  []  []  []\n",
       "2024-02-07  []  []  []\n",
       "2024-02-08  []  []  []\n",
       "2024-02-09  []  []  []\n",
       "2024-02-10  []  []  []\n",
       "2024-02-11  []  []  []\n",
       "2024-02-12  []  []  []\n",
       "2024-02-13  []  []  []\n",
       "2024-02-14  []  []  []\n",
       "2024-02-15  []  []  []\n",
       "2024-02-16  []  []  []\n",
       "2024-02-17  []  []  []\n",
       "2024-02-18  []  []  []\n",
       "2024-02-19  []  []  []\n",
       "2024-02-20  []  []  []\n",
       "2024-02-21  []  []  []\n",
       "2024-02-22  []  []  []\n",
       "2024-02-23  []  []  []\n",
       "2024-02-24  []  []  []\n",
       "2024-02-25  []  []  []\n",
       "2024-02-26  []  []  []\n",
       "2024-02-27  []  []  []\n",
       "2024-02-28  []  []  []\n",
       "2024-02-29  []  []  []"
      ]
     },
     "execution_count": 504,
     "metadata": {},
     "output_type": "execute_result"
    }
   ],
   "source": [
    "사이즈달력 = create_사이즈달력(2024, 2, 2024, 2, df2)\n",
    "사이즈달력"
   ]
  },
  {
   "cell_type": "code",
   "execution_count": 505,
   "id": "6c7263a5",
   "metadata": {},
   "outputs": [],
   "source": [
    "def update_사이즈달력(사이즈달력, 최선정반, 블록데이터, block_names, block_sizes, best_st_date):\n",
    "    \n",
    "    달력 = 사이즈달력\n",
    "    날짜집합 = 달력.index.tolist()\n",
    "    결과모음 = [[] for _ in range(len(날짜집합))]\n",
    "        \n",
    "    for i in range(len(block_names)):\n",
    "        블록명 = block_names[i]\n",
    "        블록사이즈 = block_sizes[i]\n",
    "        블록착수일 = best_st_date[i]\n",
    "        \n",
    "        표준공기 = 블록데이터[블록데이터[\"블록명\"]==블록명][\"표준공기\"].values[0]\n",
    "        시점인덱스 = list(달력.index.strftime('%Y-%m-%d')).index(블록착수일)\n",
    "        \n",
    "        for i in 결과모음[시점인덱스:시점인덱스+표준공기]:\n",
    "            i.append(블록사이즈)\n",
    "            \n",
    "    달력[f\"{최선정반}\"] = 결과모음\n",
    "\n",
    "    return 달력\n"
   ]
  },
  {
   "cell_type": "code",
   "execution_count": 506,
   "id": "a725efeb",
   "metadata": {
    "scrolled": true
   },
   "outputs": [
    {
     "data": {
      "text/html": [
       "<div>\n",
       "<style scoped>\n",
       "    .dataframe tbody tr th:only-of-type {\n",
       "        vertical-align: middle;\n",
       "    }\n",
       "\n",
       "    .dataframe tbody tr th {\n",
       "        vertical-align: top;\n",
       "    }\n",
       "\n",
       "    .dataframe thead th {\n",
       "        text-align: right;\n",
       "    }\n",
       "</style>\n",
       "<table border=\"1\" class=\"dataframe\">\n",
       "  <thead>\n",
       "    <tr style=\"text-align: right;\">\n",
       "      <th></th>\n",
       "      <th>A</th>\n",
       "      <th>B</th>\n",
       "      <th>C</th>\n",
       "    </tr>\n",
       "  </thead>\n",
       "  <tbody>\n",
       "    <tr>\n",
       "      <th>2024-02-01</th>\n",
       "      <td>[]</td>\n",
       "      <td>[(2, 5)]</td>\n",
       "      <td>[]</td>\n",
       "    </tr>\n",
       "    <tr>\n",
       "      <th>2024-02-02</th>\n",
       "      <td>[]</td>\n",
       "      <td>[(2, 5)]</td>\n",
       "      <td>[]</td>\n",
       "    </tr>\n",
       "    <tr>\n",
       "      <th>2024-02-03</th>\n",
       "      <td>[]</td>\n",
       "      <td>[(3, 4)]</td>\n",
       "      <td>[]</td>\n",
       "    </tr>\n",
       "    <tr>\n",
       "      <th>2024-02-04</th>\n",
       "      <td>[]</td>\n",
       "      <td>[(3, 4)]</td>\n",
       "      <td>[]</td>\n",
       "    </tr>\n",
       "    <tr>\n",
       "      <th>2024-02-05</th>\n",
       "      <td>[]</td>\n",
       "      <td>[(3, 4)]</td>\n",
       "      <td>[]</td>\n",
       "    </tr>\n",
       "    <tr>\n",
       "      <th>2024-02-06</th>\n",
       "      <td>[]</td>\n",
       "      <td>[(2, 5)]</td>\n",
       "      <td>[]</td>\n",
       "    </tr>\n",
       "    <tr>\n",
       "      <th>2024-02-07</th>\n",
       "      <td>[]</td>\n",
       "      <td>[]</td>\n",
       "      <td>[]</td>\n",
       "    </tr>\n",
       "    <tr>\n",
       "      <th>2024-02-08</th>\n",
       "      <td>[]</td>\n",
       "      <td>[]</td>\n",
       "      <td>[]</td>\n",
       "    </tr>\n",
       "    <tr>\n",
       "      <th>2024-02-09</th>\n",
       "      <td>[]</td>\n",
       "      <td>[]</td>\n",
       "      <td>[]</td>\n",
       "    </tr>\n",
       "    <tr>\n",
       "      <th>2024-02-10</th>\n",
       "      <td>[]</td>\n",
       "      <td>[]</td>\n",
       "      <td>[]</td>\n",
       "    </tr>\n",
       "    <tr>\n",
       "      <th>2024-02-11</th>\n",
       "      <td>[]</td>\n",
       "      <td>[]</td>\n",
       "      <td>[]</td>\n",
       "    </tr>\n",
       "    <tr>\n",
       "      <th>2024-02-12</th>\n",
       "      <td>[]</td>\n",
       "      <td>[]</td>\n",
       "      <td>[]</td>\n",
       "    </tr>\n",
       "    <tr>\n",
       "      <th>2024-02-13</th>\n",
       "      <td>[]</td>\n",
       "      <td>[]</td>\n",
       "      <td>[]</td>\n",
       "    </tr>\n",
       "    <tr>\n",
       "      <th>2024-02-14</th>\n",
       "      <td>[]</td>\n",
       "      <td>[]</td>\n",
       "      <td>[]</td>\n",
       "    </tr>\n",
       "    <tr>\n",
       "      <th>2024-02-15</th>\n",
       "      <td>[]</td>\n",
       "      <td>[]</td>\n",
       "      <td>[]</td>\n",
       "    </tr>\n",
       "    <tr>\n",
       "      <th>2024-02-16</th>\n",
       "      <td>[]</td>\n",
       "      <td>[]</td>\n",
       "      <td>[]</td>\n",
       "    </tr>\n",
       "    <tr>\n",
       "      <th>2024-02-17</th>\n",
       "      <td>[]</td>\n",
       "      <td>[]</td>\n",
       "      <td>[]</td>\n",
       "    </tr>\n",
       "    <tr>\n",
       "      <th>2024-02-18</th>\n",
       "      <td>[]</td>\n",
       "      <td>[]</td>\n",
       "      <td>[]</td>\n",
       "    </tr>\n",
       "    <tr>\n",
       "      <th>2024-02-19</th>\n",
       "      <td>[]</td>\n",
       "      <td>[]</td>\n",
       "      <td>[]</td>\n",
       "    </tr>\n",
       "    <tr>\n",
       "      <th>2024-02-20</th>\n",
       "      <td>[]</td>\n",
       "      <td>[]</td>\n",
       "      <td>[]</td>\n",
       "    </tr>\n",
       "    <tr>\n",
       "      <th>2024-02-21</th>\n",
       "      <td>[]</td>\n",
       "      <td>[]</td>\n",
       "      <td>[]</td>\n",
       "    </tr>\n",
       "    <tr>\n",
       "      <th>2024-02-22</th>\n",
       "      <td>[]</td>\n",
       "      <td>[]</td>\n",
       "      <td>[]</td>\n",
       "    </tr>\n",
       "    <tr>\n",
       "      <th>2024-02-23</th>\n",
       "      <td>[]</td>\n",
       "      <td>[]</td>\n",
       "      <td>[]</td>\n",
       "    </tr>\n",
       "    <tr>\n",
       "      <th>2024-02-24</th>\n",
       "      <td>[]</td>\n",
       "      <td>[]</td>\n",
       "      <td>[]</td>\n",
       "    </tr>\n",
       "    <tr>\n",
       "      <th>2024-02-25</th>\n",
       "      <td>[]</td>\n",
       "      <td>[]</td>\n",
       "      <td>[]</td>\n",
       "    </tr>\n",
       "    <tr>\n",
       "      <th>2024-02-26</th>\n",
       "      <td>[]</td>\n",
       "      <td>[]</td>\n",
       "      <td>[]</td>\n",
       "    </tr>\n",
       "    <tr>\n",
       "      <th>2024-02-27</th>\n",
       "      <td>[]</td>\n",
       "      <td>[]</td>\n",
       "      <td>[]</td>\n",
       "    </tr>\n",
       "    <tr>\n",
       "      <th>2024-02-28</th>\n",
       "      <td>[]</td>\n",
       "      <td>[]</td>\n",
       "      <td>[]</td>\n",
       "    </tr>\n",
       "    <tr>\n",
       "      <th>2024-02-29</th>\n",
       "      <td>[]</td>\n",
       "      <td>[]</td>\n",
       "      <td>[]</td>\n",
       "    </tr>\n",
       "  </tbody>\n",
       "</table>\n",
       "</div>"
      ],
      "text/plain": [
       "             A         B   C\n",
       "2024-02-01  []  [(2, 5)]  []\n",
       "2024-02-02  []  [(2, 5)]  []\n",
       "2024-02-03  []  [(3, 4)]  []\n",
       "2024-02-04  []  [(3, 4)]  []\n",
       "2024-02-05  []  [(3, 4)]  []\n",
       "2024-02-06  []  [(2, 5)]  []\n",
       "2024-02-07  []        []  []\n",
       "2024-02-08  []        []  []\n",
       "2024-02-09  []        []  []\n",
       "2024-02-10  []        []  []\n",
       "2024-02-11  []        []  []\n",
       "2024-02-12  []        []  []\n",
       "2024-02-13  []        []  []\n",
       "2024-02-14  []        []  []\n",
       "2024-02-15  []        []  []\n",
       "2024-02-16  []        []  []\n",
       "2024-02-17  []        []  []\n",
       "2024-02-18  []        []  []\n",
       "2024-02-19  []        []  []\n",
       "2024-02-20  []        []  []\n",
       "2024-02-21  []        []  []\n",
       "2024-02-22  []        []  []\n",
       "2024-02-23  []        []  []\n",
       "2024-02-24  []        []  []\n",
       "2024-02-25  []        []  []\n",
       "2024-02-26  []        []  []\n",
       "2024-02-27  []        []  []\n",
       "2024-02-28  []        []  []\n",
       "2024-02-29  []        []  []"
      ]
     },
     "execution_count": 506,
     "metadata": {},
     "output_type": "execute_result"
    }
   ],
   "source": [
    "block_names = [\"S1\", \"S2\", \"S3\"]\n",
    "block_sizes = [(2, 5), (3, 4), (2, 5)]\n",
    "best_st_date = [\"2024-02-01\", \"2024-02-03\", \"2024-02-06\"]\n",
    "사이즈달력 = update_사이즈달력(사이즈달력, \"B\", df1, block_names,block_sizes, best_st_date)\n",
    "사이즈달력"
   ]
  },
  {
   "cell_type": "code",
   "execution_count": 507,
   "id": "ad7fa43e",
   "metadata": {
    "scrolled": true
   },
   "outputs": [
    {
     "data": {
      "text/html": [
       "<div>\n",
       "<style scoped>\n",
       "    .dataframe tbody tr th:only-of-type {\n",
       "        vertical-align: middle;\n",
       "    }\n",
       "\n",
       "    .dataframe tbody tr th {\n",
       "        vertical-align: top;\n",
       "    }\n",
       "\n",
       "    .dataframe thead th {\n",
       "        text-align: right;\n",
       "    }\n",
       "</style>\n",
       "<table border=\"1\" class=\"dataframe\">\n",
       "  <thead>\n",
       "    <tr style=\"text-align: right;\">\n",
       "      <th></th>\n",
       "      <th>A</th>\n",
       "      <th>B</th>\n",
       "      <th>C</th>\n",
       "    </tr>\n",
       "  </thead>\n",
       "  <tbody>\n",
       "    <tr>\n",
       "      <th>2024-02-01</th>\n",
       "      <td>[]</td>\n",
       "      <td>[(2, 5)]</td>\n",
       "      <td>[]</td>\n",
       "    </tr>\n",
       "    <tr>\n",
       "      <th>2024-02-02</th>\n",
       "      <td>[]</td>\n",
       "      <td>[(2, 5), (4, 5)]</td>\n",
       "      <td>[]</td>\n",
       "    </tr>\n",
       "    <tr>\n",
       "      <th>2024-02-03</th>\n",
       "      <td>[]</td>\n",
       "      <td>[(3, 4), (4, 5)]</td>\n",
       "      <td>[]</td>\n",
       "    </tr>\n",
       "    <tr>\n",
       "      <th>2024-02-04</th>\n",
       "      <td>[]</td>\n",
       "      <td>[(3, 4)]</td>\n",
       "      <td>[]</td>\n",
       "    </tr>\n",
       "    <tr>\n",
       "      <th>2024-02-05</th>\n",
       "      <td>[]</td>\n",
       "      <td>[(3, 4)]</td>\n",
       "      <td>[]</td>\n",
       "    </tr>\n",
       "    <tr>\n",
       "      <th>2024-02-06</th>\n",
       "      <td>[]</td>\n",
       "      <td>[(2, 5)]</td>\n",
       "      <td>[]</td>\n",
       "    </tr>\n",
       "    <tr>\n",
       "      <th>2024-02-07</th>\n",
       "      <td>[]</td>\n",
       "      <td>[]</td>\n",
       "      <td>[]</td>\n",
       "    </tr>\n",
       "    <tr>\n",
       "      <th>2024-02-08</th>\n",
       "      <td>[]</td>\n",
       "      <td>[]</td>\n",
       "      <td>[]</td>\n",
       "    </tr>\n",
       "    <tr>\n",
       "      <th>2024-02-09</th>\n",
       "      <td>[]</td>\n",
       "      <td>[]</td>\n",
       "      <td>[]</td>\n",
       "    </tr>\n",
       "    <tr>\n",
       "      <th>2024-02-10</th>\n",
       "      <td>[]</td>\n",
       "      <td>[]</td>\n",
       "      <td>[]</td>\n",
       "    </tr>\n",
       "    <tr>\n",
       "      <th>2024-02-11</th>\n",
       "      <td>[]</td>\n",
       "      <td>[]</td>\n",
       "      <td>[]</td>\n",
       "    </tr>\n",
       "    <tr>\n",
       "      <th>2024-02-12</th>\n",
       "      <td>[]</td>\n",
       "      <td>[]</td>\n",
       "      <td>[]</td>\n",
       "    </tr>\n",
       "    <tr>\n",
       "      <th>2024-02-13</th>\n",
       "      <td>[]</td>\n",
       "      <td>[]</td>\n",
       "      <td>[]</td>\n",
       "    </tr>\n",
       "    <tr>\n",
       "      <th>2024-02-14</th>\n",
       "      <td>[]</td>\n",
       "      <td>[]</td>\n",
       "      <td>[]</td>\n",
       "    </tr>\n",
       "    <tr>\n",
       "      <th>2024-02-15</th>\n",
       "      <td>[]</td>\n",
       "      <td>[]</td>\n",
       "      <td>[]</td>\n",
       "    </tr>\n",
       "    <tr>\n",
       "      <th>2024-02-16</th>\n",
       "      <td>[]</td>\n",
       "      <td>[]</td>\n",
       "      <td>[]</td>\n",
       "    </tr>\n",
       "    <tr>\n",
       "      <th>2024-02-17</th>\n",
       "      <td>[]</td>\n",
       "      <td>[]</td>\n",
       "      <td>[]</td>\n",
       "    </tr>\n",
       "    <tr>\n",
       "      <th>2024-02-18</th>\n",
       "      <td>[]</td>\n",
       "      <td>[]</td>\n",
       "      <td>[]</td>\n",
       "    </tr>\n",
       "    <tr>\n",
       "      <th>2024-02-19</th>\n",
       "      <td>[]</td>\n",
       "      <td>[]</td>\n",
       "      <td>[]</td>\n",
       "    </tr>\n",
       "    <tr>\n",
       "      <th>2024-02-20</th>\n",
       "      <td>[]</td>\n",
       "      <td>[]</td>\n",
       "      <td>[]</td>\n",
       "    </tr>\n",
       "    <tr>\n",
       "      <th>2024-02-21</th>\n",
       "      <td>[]</td>\n",
       "      <td>[]</td>\n",
       "      <td>[]</td>\n",
       "    </tr>\n",
       "    <tr>\n",
       "      <th>2024-02-22</th>\n",
       "      <td>[]</td>\n",
       "      <td>[]</td>\n",
       "      <td>[]</td>\n",
       "    </tr>\n",
       "    <tr>\n",
       "      <th>2024-02-23</th>\n",
       "      <td>[]</td>\n",
       "      <td>[]</td>\n",
       "      <td>[]</td>\n",
       "    </tr>\n",
       "    <tr>\n",
       "      <th>2024-02-24</th>\n",
       "      <td>[]</td>\n",
       "      <td>[]</td>\n",
       "      <td>[]</td>\n",
       "    </tr>\n",
       "    <tr>\n",
       "      <th>2024-02-25</th>\n",
       "      <td>[]</td>\n",
       "      <td>[]</td>\n",
       "      <td>[]</td>\n",
       "    </tr>\n",
       "    <tr>\n",
       "      <th>2024-02-26</th>\n",
       "      <td>[]</td>\n",
       "      <td>[]</td>\n",
       "      <td>[]</td>\n",
       "    </tr>\n",
       "    <tr>\n",
       "      <th>2024-02-27</th>\n",
       "      <td>[]</td>\n",
       "      <td>[]</td>\n",
       "      <td>[]</td>\n",
       "    </tr>\n",
       "    <tr>\n",
       "      <th>2024-02-28</th>\n",
       "      <td>[]</td>\n",
       "      <td>[]</td>\n",
       "      <td>[]</td>\n",
       "    </tr>\n",
       "    <tr>\n",
       "      <th>2024-02-29</th>\n",
       "      <td>[]</td>\n",
       "      <td>[]</td>\n",
       "      <td>[]</td>\n",
       "    </tr>\n",
       "  </tbody>\n",
       "</table>\n",
       "</div>"
      ],
      "text/plain": [
       "             A                 B   C\n",
       "2024-02-01  []          [(2, 5)]  []\n",
       "2024-02-02  []  [(2, 5), (4, 5)]  []\n",
       "2024-02-03  []  [(3, 4), (4, 5)]  []\n",
       "2024-02-04  []          [(3, 4)]  []\n",
       "2024-02-05  []          [(3, 4)]  []\n",
       "2024-02-06  []          [(2, 5)]  []\n",
       "2024-02-07  []                []  []\n",
       "2024-02-08  []                []  []\n",
       "2024-02-09  []                []  []\n",
       "2024-02-10  []                []  []\n",
       "2024-02-11  []                []  []\n",
       "2024-02-12  []                []  []\n",
       "2024-02-13  []                []  []\n",
       "2024-02-14  []                []  []\n",
       "2024-02-15  []                []  []\n",
       "2024-02-16  []                []  []\n",
       "2024-02-17  []                []  []\n",
       "2024-02-18  []                []  []\n",
       "2024-02-19  []                []  []\n",
       "2024-02-20  []                []  []\n",
       "2024-02-21  []                []  []\n",
       "2024-02-22  []                []  []\n",
       "2024-02-23  []                []  []\n",
       "2024-02-24  []                []  []\n",
       "2024-02-25  []                []  []\n",
       "2024-02-26  []                []  []\n",
       "2024-02-27  []                []  []\n",
       "2024-02-28  []                []  []\n",
       "2024-02-29  []                []  []"
      ]
     },
     "execution_count": 507,
     "metadata": {},
     "output_type": "execute_result"
    }
   ],
   "source": [
    "block_names = [\"S1\", \"S2\", \"S3\", \"S4\"]\n",
    "block_sizes = [(2, 5), (3, 4), (2, 5), (4, 5)]\n",
    "best_st_date = [\"2024-02-01\", \"2024-02-03\", \"2024-02-06\", \"2024-02-02\"]\n",
    "사이즈달력 = update_사이즈달력(사이즈달력, \"B\", df1, block_names, block_sizes, best_st_date)\n",
    "사이즈달력"
   ]
  },
  {
   "cell_type": "markdown",
   "id": "692f6bfa",
   "metadata": {},
   "source": [
    "# 정반 레이아웃 배치 적합도 검토"
   ]
  },
  {
   "cell_type": "code",
   "execution_count": 508,
   "id": "3c774c4b",
   "metadata": {},
   "outputs": [],
   "source": [
    "def 정반세팅(사이즈):  #사이즈 = (10, 10)\n",
    "    surface_width, surface_height = 사이즈[0], 사이즈[1]  # Adjusted to match the provided image for demonstration\n",
    "    surface = np.zeros((surface_height, surface_width), dtype=int)\n",
    "    return surface, surface_width, surface_height"
   ]
  },
  {
   "cell_type": "code",
   "execution_count": 509,
   "id": "67927c96",
   "metadata": {},
   "outputs": [],
   "source": [
    "# 수정Function to check if a block can be placed on the surface\n",
    "def can_place(surface, surface_width, surface_height, block_height, block_width, start_row, start_col):\n",
    "    block_height, block_width = block_height, block_width\n",
    "    if start_row + block_height > surface_height or start_col + block_width > surface_width:\n",
    "        return False\n",
    "    return np.all(surface[start_row:start_row + block_height, start_col:start_col + block_width] == 0)\n",
    "\n",
    "# Function to place a block on the surface, if possible\n",
    "def place_block(surface, block_height, block_width, start_row, start_col, block_id):\n",
    "    block_height, block_width = block_height, block_width\n",
    "    surface[start_row:start_row + block_height, start_col:start_col + block_width] = block_id\n",
    "\n",
    "# Function to find the best fit for a block on the surface\n",
    "def find_best_fit(surface, surface_width, surface_height, block_height, block_width, block_id):\n",
    "    best_fit_score = float('inf')\n",
    "    best_position = None\n",
    "    block_height, block_width = block_height, block_width\n",
    "\n",
    "    # Iterate over all possible positions on the surface\n",
    "    for y in range(surface_height - block_height + 1):\n",
    "        for x in range(surface_width - block_width + 1):\n",
    "            if can_place(surface, surface_width, surface_height, block_height, block_width, y, x):\n",
    "                # Calculate a score; here we use the top-left corner (y, x) as the score\n",
    "                # A lower score means the block is closer to the top-left\n",
    "                score = y + x\n",
    "                if score < best_fit_score:\n",
    "                    best_fit_score = score\n",
    "                    best_position = (y, x)\n",
    "\n",
    "    # If a best position was found, place the block there\n",
    "    if best_position:\n",
    "        place_block(surface, block_height, block_width, *best_position, block_id)\n",
    "        return True\n",
    "\n",
    "    return False  # No fit found\n",
    "\n",
    "# Function to fit blocks on the surface in order\n",
    "def fit_blocks(surface, surface_width, surface_height, blocks, names):\n",
    "    result = \"\"\n",
    "    block_id = max(map(max, surface))+1  # Start numbering blocks from 1\n",
    "    for name, block in zip(names, blocks):\n",
    "        \n",
    "        block_height, block_width = block\n",
    "        \n",
    "        if find_best_fit(surface, surface_width, surface_height, block_height, block_width, block_id) == False:\n",
    "#             print(f\"1차검토 - Block {block_id} of height {block_height} width {block_width} could not be placed.\")\n",
    "            result = \"부적합\"\n",
    "            \n",
    "            ## 가로 세로 길이 바꿔서 검토 -------------------------------------\n",
    "            block_height, block_width = block_width, block_height\n",
    "            if find_best_fit(surface, surface_width, surface_height, block_height, block_width, block_id) == False:\n",
    "#                 print(f\"2차검토 - Block {block_id} of height {block_height} width {block_width} could not be placed.\")\n",
    "                result = \"부적합\"\n",
    "            \n",
    "        else:\n",
    "            result = \"적합\"\n",
    "        block_id += 1  # Increment block_id for the next block\n",
    "    return surface, result"
   ]
  },
  {
   "cell_type": "code",
   "execution_count": 510,
   "id": "e03466d1",
   "metadata": {},
   "outputs": [],
   "source": [
    "def draw1(surface, block_names):\n",
    "    fig, ax = plt.subplots(figsize=(25, 10))\n",
    "\n",
    "    cmap = mcolors.ListedColormap(['white'] + ['C{}'.format(i) for i in range(len(block_names))])\n",
    "    norm = mcolors.BoundaryNorm(np.arange(0.5, len(block_names) + 2), cmap.N)\n",
    "\n",
    "    ax.imshow(surface, cmap=cmap, norm=norm)\n",
    "\n",
    "    for y in range(surface.shape[0]):\n",
    "        for x in range(surface.shape[1]):\n",
    "            if surface[y, x] != 0:\n",
    "                ax.text(x, y, str(block_names[surface[y, x]-1]), ha='center', va='center', color='black')\n",
    "                \n",
    "    ax.set_xticks(np.arange(-.5, surface.shape[1], 1), minor=True)\n",
    "    ax.set_yticks(np.arange(-.5, surface.shape[0], 1), minor=True)\n",
    "    ax.grid(which=\"minor\", color=\"black\", linestyle='-', linewidth=1)\n",
    "    ax.tick_params(which=\"minor\", size=0)\n",
    "\n",
    "    ax.set_xticks([])\n",
    "    ax.set_yticks([])\n",
    "\n",
    "    plt.show()"
   ]
  },
  {
   "cell_type": "code",
   "execution_count": 511,
   "id": "8f79e920",
   "metadata": {},
   "outputs": [],
   "source": [
    "def 정반배치레이아웃적합도(정반명, 정반데이터, 조회날짜, 블록명달력, 블록사이즈달력):\n",
    "    \n",
    "    정반사이즈 = 정반데이터[정반데이터[\"정반명\"]==정반명][\"사이즈\"].values[0]\n",
    "    block_names = 블록명달력.at[조회날짜, 정반명]\n",
    "    block_sizes = 블록사이즈달력.at[조회날짜, 정반명]\n",
    "        \n",
    "    surface, surface_width, surface_height = 정반세팅(정반사이즈)\n",
    "    배치결과 = fit_blocks(surface, surface_width, surface_height, block_sizes, block_names)\n",
    "    적합도 = 배치결과[1]\n",
    "    \n",
    "    return 적합도"
   ]
  },
  {
   "cell_type": "code",
   "execution_count": 512,
   "id": "6619f0a7",
   "metadata": {},
   "outputs": [],
   "source": [
    "# 적합도 = 정반배치레이아웃적합도(\"B\", df2, \"2024-02-03\", 블록명달력, 사이즈달력)\n",
    "# 적합도"
   ]
  },
  {
   "cell_type": "code",
   "execution_count": 513,
   "id": "68138c92",
   "metadata": {},
   "outputs": [],
   "source": [
    "def check_if_value_in_list(my_list, value_to_check):\n",
    "    if value_to_check in my_list:\n",
    "        return \"부적합\"\n",
    "    else:\n",
    "        return \"적합\""
   ]
  },
  {
   "cell_type": "markdown",
   "id": "69416b3c",
   "metadata": {},
   "source": [
    "# 생산계획수립"
   ]
  },
  {
   "cell_type": "code",
   "execution_count": 585,
   "id": "67400690",
   "metadata": {},
   "outputs": [],
   "source": [
    "def 생산계획수립(블록데이터, 정반데이터, 면적달력, 블록명달력, 사이즈달력):\n",
    "    \n",
    "    블록리스트 = 블록데이터[\"블록명\"].tolist()\n",
    "    정반리스트 = 정반데이터[\"정반명\"].tolist()\n",
    "    \n",
    "    면적달력 = 면적달력\n",
    "    블록명달력 = 블록명달력\n",
    "    사이즈달력 = 사이즈달력\n",
    "    \n",
    "    결론_정반_dict = {key: [] for key in 정반리스트}\n",
    "    결론_블록_dict = {key: [] for key in 정반리스트}\n",
    "    결론_블록사이즈_dict = {key: [] for key in 정반리스트}\n",
    "    결론_정반_dict = {key: [] for key in 정반리스트}\n",
    "    결론_착수일자_dict = {key: [] for key in 정반리스트}\n",
    "    \n",
    "    df_블록리스트 = []\n",
    "    df_블록사이즈리스트 = []\n",
    "    df_정반리스트 = []\n",
    "    df_착수일자 = []\n",
    "    df_상태정보 = []\n",
    "    \n",
    "    레이아웃배치실패 = []\n",
    "    \n",
    "    for _ in tqdm(range(len(블록리스트))):\n",
    "                \n",
    "        if 블록리스트:\n",
    "            target_block = 블록리스트[0]\n",
    "        else:\n",
    "            print(\"수정블록리스트에 검토대상 잔여블록이 없습니다.\")\n",
    "            break        \n",
    "        \n",
    "        블록 = 블록변수정리(블록데이터, target_block)\n",
    "        블록명 = 블록[\"블록명\"]\n",
    "        블록사이즈 = 블록[\"사이즈\"]\n",
    "        표준공기 = 블록[\"표준공기\"]\n",
    "        최소착수요구일 = 블록[\"최소착수요구일\"]\n",
    "        \n",
    "        print(f\"*** 검토대상블록: {블록명}, 사이즈: {블록사이즈}, 표준공기: {표준공기}, 최소착수요구일:{최소착수요구일}\")\n",
    "        \n",
    "        ## 정반가능중량 조건 적합도 검토 ----------------------------------------------------------\n",
    "        중량조건적합정반들 = []\n",
    "        for 정반 in 정반리스트:\n",
    "            중량적합도 = 정반가능중량검토(블록명, 블록데이터, 정반, 정반데이터)\n",
    "            if 중량적합도 == \"적합\":\n",
    "                중량조건적합정반들.append(정반)\n",
    "\n",
    "        print(f\"*** 중량조건적합정반들: {중량조건적합정반들}\")\n",
    "        \n",
    "        ## 면적달력으로 최선조기착수일 검토 ---------------------------------------------------------------------\n",
    "        if 중량조건적합정반들 != []:\n",
    "            \n",
    "            ####------------------------------------------------------------------------------------\n",
    "            for i in range(30):   ## 레이아웃 배치 불가시 최대 표준공기의 몇배까지 날짜 후퇴 검토를 할 것인가?\n",
    "                print()\n",
    "                print(f\">>> 제{i+1}차 레이아웃 적합도 검토\")\n",
    "            \n",
    "                최선조기착수일후보 = get_최선조기착수일후보_가중(면적달력, 중량조건적합정반들, 블록명, 블록데이터, i, 1) \n",
    "                print(f\"*** 최선조기착수일후보: {최선조기착수일후보}\")\n",
    "                \n",
    "                최선조기착수대상 = get_최선조기착수대상(최선조기착수일후보, 최소착수요구일)  ##랜덤 셀렉트 적용\n",
    "                \n",
    "                if 최선조기착수대상[0] == None:\n",
    "                    df_상태정보.append('최선조기착수 후보날짜가 없음')\n",
    "                    블록리스트.remove(블록명)\n",
    "                    print(\">>> 최선조기착수 후보날짜가 없습니다.\")\n",
    "                    \n",
    "                    break\n",
    "                \n",
    "                \n",
    "                else:      #  최선조기착수대상[0] != None:\n",
    "                    최선정반명 = 최선조기착수대상[0]\n",
    "                    최선조기착수일 = 최선조기착수대상[1]\n",
    "\n",
    "                    print(f\"*** 랜덤선택 최선정반명:{최선정반명}, 최선조기착수일:{최선조기착수일}\")\n",
    "\n",
    "                    결론_블록_dict[최선정반명].append(블록명)\n",
    "                    결론_블록사이즈_dict[최선정반명].append(블록사이즈)\n",
    "                    결론_정반_dict[최선정반명].append(최선정반명)\n",
    "                    결론_착수일자_dict[최선정반명].append(최선조기착수일)\n",
    "\n",
    "                    df_블록리스트.append(블록명)\n",
    "                    df_블록사이즈리스트.append(블록사이즈)\n",
    "                    df_정반리스트.append(최선정반명)\n",
    "                    df_착수일자.append(최선조기착수일)\n",
    "\n",
    "                    임시_블록명달력 = update_블록명달력(블록명달력, 최선정반명, 블록데이터, 결론_블록_dict[최선정반명], 결론_착수일자_dict[최선정반명])\n",
    "                    임시_사이즈달력 = update_사이즈달력(사이즈달력, 최선정반명, 블록데이터, 결론_블록_dict[최선정반명], 결론_블록사이즈_dict[최선정반명], 결론_착수일자_dict[최선정반명])\n",
    "                \n",
    "                    ### 나중에 함수로 빼야...\n",
    "                    레이아웃적합도리스트 = []\n",
    "                    for i in range(표준공기):\n",
    "                        date_object = datetime.strptime(최선조기착수일, \"%Y-%m-%d\")\n",
    "                        new_date = date_object + timedelta(days=i)\n",
    "                        레이아웃검토날짜 = new_date.strftime(\"%Y-%m-%d\")   \n",
    "\n",
    "                        적합도 = 정반배치레이아웃적합도(최선정반명, 정반데이터, 레이아웃검토날짜, 임시_블록명달력, 임시_사이즈달력)\n",
    "\n",
    "                        레이아웃적합도리스트.append(적합도)\n",
    "\n",
    "                    적합도리스트체크 = check_if_value_in_list(레이아웃적합도리스트, \"부적합\")\n",
    "#                     print(f\"레이아웃적합도리스트: {레이아웃적합도리스트}\")\n",
    "                    print(f\"*** 레이아웃 적합도리스트 체크: {적합도리스트체크}\")\n",
    "\n",
    "                    ### -----------------------------------------------------------------------------------------------------\n",
    "                    if 적합도리스트체크 == \"부적합\":\n",
    "\n",
    "                        결론_블록_dict[최선정반명] = 결론_블록_dict[최선정반명][:-1]                    \n",
    "                        결론_블록사이즈_dict[최선정반명] = 결론_블록사이즈_dict[최선정반명][:-1]\n",
    "                        결론_정반_dict[최선정반명] = 결론_정반_dict[최선정반명][:-1]\n",
    "                        결론_착수일자_dict[최선정반명] = 결론_착수일자_dict[최선정반명][:-1]\n",
    "\n",
    "                        df_블록리스트 = df_블록리스트[:-1]\n",
    "                        df_블록사이즈리스트 = df_블록사이즈리스트[:-1]\n",
    "                        df_정반리스트 = df_정반리스트[:-1]\n",
    "                        df_착수일자 = df_착수일자[:-1]\n",
    "                        \n",
    "                        임시_블록명달력 = None\n",
    "                        임시_사이즈달력 = None\n",
    "                        \n",
    "                        pass\n",
    "                    \n",
    "                    else:\n",
    "                        블록명달력 = 임시_블록명달력\n",
    "                        사이즈달력 = 임시_사이즈달력\n",
    "                        면적달력 = update_면적달력(면적달력, 최선조기착수대상, 블록명, 블록데이터)\n",
    "                        블록리스트.remove(블록명)\n",
    "                        \n",
    "                        df_상태정보.append('정상배치완료')\n",
    "                        print(f\"*** 정상배치 완료\")\n",
    "                        break\n",
    "            else:\n",
    "                df_상태정보.append('최소요구납기 충족 불가능')\n",
    "                블록리스트.remove(블록명)\n",
    "                print(\">>> 최소요구납기 충족 정반이 없습니다.\")\n",
    "                \n",
    "        else:\n",
    "            df_상태정보.append('중량조건 충족 불가능')\n",
    "            블록리스트.remove(블록명)\n",
    "            print(\">>>중량조건 충족 정반이 없습니다.\")\n",
    "        \n",
    "        print(\"=\"*120)\n",
    "        print()\n",
    "    \n",
    "    return df_블록리스트, df_정반리스트, df_착수일자, df_상태정보, 면적달력, 블록명달력, 사이즈달력"
   ]
  },
  {
   "cell_type": "markdown",
   "id": "fd48c407",
   "metadata": {},
   "source": [
    "# 시뮬레이션"
   ]
  },
  {
   "cell_type": "code",
   "execution_count": 586,
   "id": "08b0dc8b",
   "metadata": {},
   "outputs": [
    {
     "data": {
      "text/plain": [
       "((14, 13), (1, 7))"
      ]
     },
     "execution_count": 586,
     "metadata": {},
     "output_type": "execute_result"
    }
   ],
   "source": [
    "data_num = \"111\"\n",
    "\n",
    "블록원데이터 = pd.read_excel(f\"./data/data{data_num}.xlsx\", sheet_name=\"블록데이터\")\n",
    "블록원데이터 = 블록원데이터.iloc[4:,:]  ## 12월 블록 제외\n",
    "\n",
    "정반원데이터 = pd.read_excel(f\"./data/data{data_num}.xlsx\", sheet_name=\"정반데이터\")\n",
    "\n",
    "\n",
    "착수일가중치, 공기가중치, 크기가중치 = 1, 0.2, 0.1\n",
    "블록데이터 = 블록데이터전처리(블록원데이터)\n",
    "\n",
    "중량가중치, 크기가중치 = 0.5, 0.5\n",
    "정반데이터 = 정반데이터전처리(정반원데이터)\n",
    "블록데이터.shape, 정반데이터.shape"
   ]
  },
  {
   "cell_type": "code",
   "execution_count": 587,
   "id": "32edcd27",
   "metadata": {
    "scrolled": true
   },
   "outputs": [
    {
     "data": {
      "text/html": [
       "<div>\n",
       "<style scoped>\n",
       "    .dataframe tbody tr th:only-of-type {\n",
       "        vertical-align: middle;\n",
       "    }\n",
       "\n",
       "    .dataframe tbody tr th {\n",
       "        vertical-align: top;\n",
       "    }\n",
       "\n",
       "    .dataframe thead th {\n",
       "        text-align: right;\n",
       "    }\n",
       "</style>\n",
       "<table border=\"1\" class=\"dataframe\">\n",
       "  <thead>\n",
       "    <tr style=\"text-align: right;\">\n",
       "      <th></th>\n",
       "      <th>블록명</th>\n",
       "      <th>중량</th>\n",
       "      <th>높이</th>\n",
       "      <th>표준공기</th>\n",
       "      <th>납기</th>\n",
       "      <th>정반배치</th>\n",
       "      <th>사이즈</th>\n",
       "      <th>면적</th>\n",
       "      <th>최소착수요구일</th>\n",
       "      <th>날짜순서</th>\n",
       "      <th>공기순서</th>\n",
       "      <th>크기순서</th>\n",
       "      <th>우선순위</th>\n",
       "    </tr>\n",
       "  </thead>\n",
       "  <tbody>\n",
       "    <tr>\n",
       "      <th>5</th>\n",
       "      <td>S6</td>\n",
       "      <td>59</td>\n",
       "      <td>4.49</td>\n",
       "      <td>18</td>\n",
       "      <td>2024-01-19</td>\n",
       "      <td>NaN</td>\n",
       "      <td>(14, 15)</td>\n",
       "      <td>210</td>\n",
       "      <td>2024-01-01</td>\n",
       "      <td>1.0</td>\n",
       "      <td>1.0</td>\n",
       "      <td>6.0</td>\n",
       "      <td>0.6</td>\n",
       "    </tr>\n",
       "    <tr>\n",
       "      <th>6</th>\n",
       "      <td>S7</td>\n",
       "      <td>87</td>\n",
       "      <td>5.02</td>\n",
       "      <td>10</td>\n",
       "      <td>2024-01-12</td>\n",
       "      <td>NaN</td>\n",
       "      <td>(13, 31)</td>\n",
       "      <td>403</td>\n",
       "      <td>2024-01-02</td>\n",
       "      <td>2.0</td>\n",
       "      <td>9.0</td>\n",
       "      <td>2.0</td>\n",
       "      <td>1.3</td>\n",
       "    </tr>\n",
       "    <tr>\n",
       "      <th>7</th>\n",
       "      <td>S8</td>\n",
       "      <td>85</td>\n",
       "      <td>3.63</td>\n",
       "      <td>11</td>\n",
       "      <td>2024-01-15</td>\n",
       "      <td>NaN</td>\n",
       "      <td>(15, 27)</td>\n",
       "      <td>405</td>\n",
       "      <td>2024-01-04</td>\n",
       "      <td>3.0</td>\n",
       "      <td>6.5</td>\n",
       "      <td>1.0</td>\n",
       "      <td>1.5</td>\n",
       "    </tr>\n",
       "    <tr>\n",
       "      <th>4</th>\n",
       "      <td>S5</td>\n",
       "      <td>68</td>\n",
       "      <td>11.00</td>\n",
       "      <td>11</td>\n",
       "      <td>2024-01-16</td>\n",
       "      <td>NaN</td>\n",
       "      <td>(7, 15)</td>\n",
       "      <td>105</td>\n",
       "      <td>2024-01-05</td>\n",
       "      <td>4.0</td>\n",
       "      <td>6.5</td>\n",
       "      <td>13.0</td>\n",
       "      <td>2.2</td>\n",
       "    </tr>\n",
       "    <tr>\n",
       "      <th>8</th>\n",
       "      <td>S9</td>\n",
       "      <td>60</td>\n",
       "      <td>4.57</td>\n",
       "      <td>17</td>\n",
       "      <td>2024-01-31</td>\n",
       "      <td>NaN</td>\n",
       "      <td>(15, 15)</td>\n",
       "      <td>225</td>\n",
       "      <td>2024-01-14</td>\n",
       "      <td>6.0</td>\n",
       "      <td>2.0</td>\n",
       "      <td>5.0</td>\n",
       "      <td>2.3</td>\n",
       "    </tr>\n",
       "  </tbody>\n",
       "</table>\n",
       "</div>"
      ],
      "text/plain": [
       "  블록명  중량     높이  표준공기         납기  정반배치       사이즈   면적     최소착수요구일  날짜순서  \\\n",
       "5  S6  59   4.49    18 2024-01-19   NaN  (14, 15)  210  2024-01-01   1.0   \n",
       "6  S7  87   5.02    10 2024-01-12   NaN  (13, 31)  403  2024-01-02   2.0   \n",
       "7  S8  85   3.63    11 2024-01-15   NaN  (15, 27)  405  2024-01-04   3.0   \n",
       "4  S5  68  11.00    11 2024-01-16   NaN   (7, 15)  105  2024-01-05   4.0   \n",
       "8  S9  60   4.57    17 2024-01-31   NaN  (15, 15)  225  2024-01-14   6.0   \n",
       "\n",
       "   공기순서  크기순서  우선순위  \n",
       "5   1.0   6.0   0.6  \n",
       "6   9.0   2.0   1.3  \n",
       "7   6.5   1.0   1.5  \n",
       "4   6.5  13.0   2.2  \n",
       "8   2.0   5.0   2.3  "
      ]
     },
     "execution_count": 587,
     "metadata": {},
     "output_type": "execute_result"
    }
   ],
   "source": [
    "블록데이터.head()"
   ]
  },
  {
   "cell_type": "code",
   "execution_count": 588,
   "id": "551aa995",
   "metadata": {},
   "outputs": [
    {
     "data": {
      "text/html": [
       "<div>\n",
       "<style scoped>\n",
       "    .dataframe tbody tr th:only-of-type {\n",
       "        vertical-align: middle;\n",
       "    }\n",
       "\n",
       "    .dataframe tbody tr th {\n",
       "        vertical-align: top;\n",
       "    }\n",
       "\n",
       "    .dataframe thead th {\n",
       "        text-align: right;\n",
       "    }\n",
       "</style>\n",
       "<table border=\"1\" class=\"dataframe\">\n",
       "  <thead>\n",
       "    <tr style=\"text-align: right;\">\n",
       "      <th></th>\n",
       "      <th>정반명</th>\n",
       "      <th>가능중량</th>\n",
       "      <th>사이즈</th>\n",
       "      <th>면적</th>\n",
       "      <th>중량순서</th>\n",
       "      <th>크기순서</th>\n",
       "      <th>우선순위</th>\n",
       "    </tr>\n",
       "  </thead>\n",
       "  <tbody>\n",
       "    <tr>\n",
       "      <th>0</th>\n",
       "      <td>A</td>\n",
       "      <td>120</td>\n",
       "      <td>(43, 28)</td>\n",
       "      <td>1204</td>\n",
       "      <td>1.0</td>\n",
       "      <td>1.0</td>\n",
       "      <td>0.3</td>\n",
       "    </tr>\n",
       "  </tbody>\n",
       "</table>\n",
       "</div>"
      ],
      "text/plain": [
       "  정반명  가능중량       사이즈    면적  중량순서  크기순서  우선순위\n",
       "0   A   120  (43, 28)  1204   1.0   1.0   0.3"
      ]
     },
     "execution_count": 588,
     "metadata": {},
     "output_type": "execute_result"
    }
   ],
   "source": [
    "정반데이터.head()   ## 세로 길이에 안전통로 여분 고려 +2m (원사이즈는 26이었음)"
   ]
  },
  {
   "cell_type": "code",
   "execution_count": 589,
   "id": "c9b3c643",
   "metadata": {},
   "outputs": [],
   "source": [
    "면적달력 = create_면적달력(2024, 1, 2024, 3, 정반데이터)\n",
    "블록명달력 = create_블록명달력(2024, 1, 2024, 3, 정반데이터)\n",
    "사이즈달력 = create_사이즈달력(2024, 1, 2024, 3, 정반데이터)"
   ]
  },
  {
   "cell_type": "code",
   "execution_count": 590,
   "id": "86b68df2",
   "metadata": {
    "scrolled": true
   },
   "outputs": [
    {
     "data": {
      "application/vnd.jupyter.widget-view+json": {
       "model_id": "824bab5f08ed440f883af3fd70ef2c0b",
       "version_major": 2,
       "version_minor": 0
      },
      "text/plain": [
       "  0%|          | 0/14 [00:00<?, ?it/s]"
      ]
     },
     "metadata": {},
     "output_type": "display_data"
    },
    {
     "name": "stdout",
     "output_type": "stream",
     "text": [
      "*** 검토대상블록: S6, 사이즈: (14, 15), 표준공기: 18, 최소착수요구일:2024-01-01\n",
      "*** 중량조건적합정반들: ['A']\n",
      "\n",
      ">>> 제1차 레이아웃 적합도 검토\n",
      "*** 최선조기착수일후보: {'A': Timestamp('2024-01-01 00:00:00', freq='D')}\n",
      ">>> 최소요구납기충족리스트: [('A', Timestamp('2024-01-01 00:00:00', freq='D'))]\n",
      "*** 랜덤선택 최선정반명:A, 최선조기착수일:2024-01-01\n",
      "*** 레이아웃 적합도리스트 체크: 적합\n",
      "*** 정상배치 완료\n",
      "========================================================================================================================\n",
      "\n",
      "*** 검토대상블록: S7, 사이즈: (13, 31), 표준공기: 10, 최소착수요구일:2024-01-02\n",
      "*** 중량조건적합정반들: ['A']\n",
      "\n",
      ">>> 제1차 레이아웃 적합도 검토\n",
      "*** 최선조기착수일후보: {'A': Timestamp('2024-01-01 00:00:00', freq='D')}\n",
      ">>> 최소요구납기충족리스트: [('A', Timestamp('2024-01-01 00:00:00', freq='D'))]\n",
      "*** 랜덤선택 최선정반명:A, 최선조기착수일:2024-01-01\n",
      "*** 레이아웃 적합도리스트 체크: 적합\n",
      "*** 정상배치 완료\n",
      "========================================================================================================================\n",
      "\n",
      "*** 검토대상블록: S8, 사이즈: (15, 27), 표준공기: 11, 최소착수요구일:2024-01-04\n",
      "*** 중량조건적합정반들: ['A']\n",
      "\n",
      ">>> 제1차 레이아웃 적합도 검토\n",
      "*** 최선조기착수일후보: {'A': Timestamp('2024-01-01 00:00:00', freq='D')}\n",
      ">>> 최소요구납기충족리스트: [('A', Timestamp('2024-01-01 00:00:00', freq='D'))]\n",
      "*** 랜덤선택 최선정반명:A, 최선조기착수일:2024-01-01\n",
      "*** 레이아웃 적합도리스트 체크: 부적합\n",
      "\n",
      ">>> 제2차 레이아웃 적합도 검토\n",
      "*** 최선조기착수일후보: {'A': Timestamp('2024-01-03 00:00:00', freq='D')}\n",
      ">>> 최소요구납기충족리스트: [('A', Timestamp('2024-01-03 00:00:00', freq='D'))]\n",
      "*** 랜덤선택 최선정반명:A, 최선조기착수일:2024-01-03\n",
      "*** 레이아웃 적합도리스트 체크: 부적합\n",
      "\n",
      ">>> 제3차 레이아웃 적합도 검토\n",
      "*** 최선조기착수일후보: {'A': Timestamp('2024-01-05 00:00:00', freq='D')}\n",
      ">>> 최소요구납기충족리스트: []\n",
      ">>> 최선조기착수 후보날짜가 없습니다.\n",
      "========================================================================================================================\n",
      "\n",
      "*** 검토대상블록: S5, 사이즈: (7, 15), 표준공기: 11, 최소착수요구일:2024-01-05\n",
      "*** 중량조건적합정반들: ['A']\n",
      "\n",
      ">>> 제1차 레이아웃 적합도 검토\n",
      "*** 최선조기착수일후보: {'A': Timestamp('2024-01-01 00:00:00', freq='D')}\n",
      ">>> 최소요구납기충족리스트: [('A', Timestamp('2024-01-01 00:00:00', freq='D'))]\n",
      "*** 랜덤선택 최선정반명:A, 최선조기착수일:2024-01-01\n",
      "*** 레이아웃 적합도리스트 체크: 적합\n",
      "*** 정상배치 완료\n",
      "========================================================================================================================\n",
      "\n",
      "*** 검토대상블록: S9, 사이즈: (15, 15), 표준공기: 17, 최소착수요구일:2024-01-14\n",
      "*** 중량조건적합정반들: ['A']\n",
      "\n",
      ">>> 제1차 레이아웃 적합도 검토\n",
      "*** 최선조기착수일후보: {'A': Timestamp('2024-01-01 00:00:00', freq='D')}\n",
      ">>> 최소요구납기충족리스트: [('A', Timestamp('2024-01-01 00:00:00', freq='D'))]\n",
      "*** 랜덤선택 최선정반명:A, 최선조기착수일:2024-01-01\n",
      "*** 레이아웃 적합도리스트 체크: 부적합\n",
      "\n",
      ">>> 제2차 레이아웃 적합도 검토\n",
      "*** 최선조기착수일후보: {'A': Timestamp('2024-01-04 00:00:00', freq='D')}\n",
      ">>> 최소요구납기충족리스트: [('A', Timestamp('2024-01-04 00:00:00', freq='D'))]\n",
      "*** 랜덤선택 최선정반명:A, 최선조기착수일:2024-01-04\n",
      "*** 레이아웃 적합도리스트 체크: 부적합\n",
      "\n",
      ">>> 제3차 레이아웃 적합도 검토\n",
      "*** 최선조기착수일후보: {'A': Timestamp('2024-01-08 00:00:00', freq='D')}\n",
      ">>> 최소요구납기충족리스트: [('A', Timestamp('2024-01-08 00:00:00', freq='D'))]\n",
      "*** 랜덤선택 최선정반명:A, 최선조기착수일:2024-01-08\n",
      "*** 레이아웃 적합도리스트 체크: 부적합\n",
      "\n",
      ">>> 제4차 레이아웃 적합도 검토\n",
      "*** 최선조기착수일후보: {'A': Timestamp('2024-01-11 00:00:00', freq='D')}\n",
      ">>> 최소요구납기충족리스트: [('A', Timestamp('2024-01-11 00:00:00', freq='D'))]\n",
      "*** 랜덤선택 최선정반명:A, 최선조기착수일:2024-01-11\n",
      "*** 레이아웃 적합도리스트 체크: 적합\n",
      "*** 정상배치 완료\n",
      "========================================================================================================================\n",
      "\n",
      "*** 검토대상블록: S13, 사이즈: (14, 26), 표준공기: 9, 최소착수요구일:2024-01-08\n",
      "*** 중량조건적합정반들: ['A']\n",
      "\n",
      ">>> 제1차 레이아웃 적합도 검토\n",
      "*** 최선조기착수일후보: {'A': Timestamp('2024-01-01 00:00:00', freq='D')}\n",
      ">>> 최소요구납기충족리스트: [('A', Timestamp('2024-01-01 00:00:00', freq='D'))]\n",
      "*** 랜덤선택 최선정반명:A, 최선조기착수일:2024-01-01\n",
      "*** 레이아웃 적합도리스트 체크: 부적합\n",
      "\n",
      ">>> 제2차 레이아웃 적합도 검토\n",
      "*** 최선조기착수일후보: {'A': Timestamp('2024-01-03 00:00:00', freq='D')}\n",
      ">>> 최소요구납기충족리스트: [('A', Timestamp('2024-01-03 00:00:00', freq='D'))]\n",
      "*** 랜덤선택 최선정반명:A, 최선조기착수일:2024-01-03\n",
      "*** 레이아웃 적합도리스트 체크: 부적합\n",
      "\n",
      ">>> 제3차 레이아웃 적합도 검토\n",
      "*** 최선조기착수일후보: {'A': Timestamp('2024-01-05 00:00:00', freq='D')}\n",
      ">>> 최소요구납기충족리스트: [('A', Timestamp('2024-01-05 00:00:00', freq='D'))]\n",
      "*** 랜덤선택 최선정반명:A, 최선조기착수일:2024-01-05\n",
      "*** 레이아웃 적합도리스트 체크: 부적합\n",
      "\n",
      ">>> 제4차 레이아웃 적합도 검토\n",
      "*** 최선조기착수일후보: {'A': Timestamp('2024-01-06 00:00:00', freq='D')}\n",
      ">>> 최소요구납기충족리스트: [('A', Timestamp('2024-01-06 00:00:00', freq='D'))]\n",
      "*** 랜덤선택 최선정반명:A, 최선조기착수일:2024-01-06\n",
      "*** 레이아웃 적합도리스트 체크: 부적합\n",
      "\n",
      ">>> 제5차 레이아웃 적합도 검토\n",
      "*** 최선조기착수일후보: {'A': Timestamp('2024-01-08 00:00:00', freq='D')}\n",
      ">>> 최소요구납기충족리스트: [('A', Timestamp('2024-01-08 00:00:00', freq='D'))]\n",
      "*** 랜덤선택 최선정반명:A, 최선조기착수일:2024-01-08\n",
      "*** 레이아웃 적합도리스트 체크: 부적합\n",
      "\n",
      ">>> 제6차 레이아웃 적합도 검토\n",
      "*** 최선조기착수일후보: {'A': Timestamp('2024-01-10 00:00:00', freq='D')}\n",
      ">>> 최소요구납기충족리스트: []\n",
      ">>> 최선조기착수 후보날짜가 없습니다.\n",
      "========================================================================================================================\n",
      "\n",
      "*** 검토대상블록: S11, 사이즈: (14, 14), 표준공기: 13, 최소착수요구일:2024-01-18\n",
      "*** 중량조건적합정반들: ['A']\n",
      "\n",
      ">>> 제1차 레이아웃 적합도 검토\n",
      "*** 최선조기착수일후보: {'A': Timestamp('2024-01-01 00:00:00', freq='D')}\n",
      ">>> 최소요구납기충족리스트: [('A', Timestamp('2024-01-01 00:00:00', freq='D'))]\n",
      "*** 랜덤선택 최선정반명:A, 최선조기착수일:2024-01-01\n",
      "*** 레이아웃 적합도리스트 체크: 부적합\n",
      "\n",
      ">>> 제2차 레이아웃 적합도 검토\n",
      "*** 최선조기착수일후보: {'A': Timestamp('2024-01-04 00:00:00', freq='D')}\n",
      ">>> 최소요구납기충족리스트: [('A', Timestamp('2024-01-04 00:00:00', freq='D'))]\n",
      "*** 랜덤선택 최선정반명:A, 최선조기착수일:2024-01-04\n",
      "*** 레이아웃 적합도리스트 체크: 부적합\n",
      "\n",
      ">>> 제3차 레이아웃 적합도 검토\n",
      "*** 최선조기착수일후보: {'A': Timestamp('2024-01-06 00:00:00', freq='D')}\n",
      ">>> 최소요구납기충족리스트: [('A', Timestamp('2024-01-06 00:00:00', freq='D'))]\n",
      "*** 랜덤선택 최선정반명:A, 최선조기착수일:2024-01-06\n",
      "*** 레이아웃 적합도리스트 체크: 부적합\n",
      "\n",
      ">>> 제4차 레이아웃 적합도 검토\n",
      "*** 최선조기착수일후보: {'A': Timestamp('2024-01-09 00:00:00', freq='D')}\n",
      ">>> 최소요구납기충족리스트: [('A', Timestamp('2024-01-09 00:00:00', freq='D'))]\n",
      "*** 랜덤선택 최선정반명:A, 최선조기착수일:2024-01-09\n",
      "*** 레이아웃 적합도리스트 체크: 부적합\n",
      "\n",
      ">>> 제5차 레이아웃 적합도 검토\n",
      "*** 최선조기착수일후보: {'A': Timestamp('2024-01-11 00:00:00', freq='D')}\n",
      ">>> 최소요구납기충족리스트: [('A', Timestamp('2024-01-11 00:00:00', freq='D'))]\n",
      "*** 랜덤선택 최선정반명:A, 최선조기착수일:2024-01-11\n",
      "*** 레이아웃 적합도리스트 체크: 부적합\n",
      "\n",
      ">>> 제6차 레이아웃 적합도 검토\n",
      "*** 최선조기착수일후보: {'A': Timestamp('2024-01-14 00:00:00', freq='D')}\n",
      ">>> 최소요구납기충족리스트: [('A', Timestamp('2024-01-14 00:00:00', freq='D'))]\n",
      "*** 랜덤선택 최선정반명:A, 최선조기착수일:2024-01-14\n",
      "*** 레이아웃 적합도리스트 체크: 적합\n",
      "*** 정상배치 완료\n",
      "========================================================================================================================\n",
      "\n",
      "*** 검토대상블록: S10, 사이즈: (8, 16), 표준공기: 11, 최소착수요구일:2024-01-18\n",
      "*** 중량조건적합정반들: ['A']\n",
      "\n",
      ">>> 제1차 레이아웃 적합도 검토\n",
      "*** 최선조기착수일후보: {'A': Timestamp('2024-01-01 00:00:00', freq='D')}\n",
      ">>> 최소요구납기충족리스트: [('A', Timestamp('2024-01-01 00:00:00', freq='D'))]\n",
      "*** 랜덤선택 최선정반명:A, 최선조기착수일:2024-01-01\n",
      "*** 레이아웃 적합도리스트 체크: 부적합\n",
      "\n",
      ">>> 제2차 레이아웃 적합도 검토\n",
      "*** 최선조기착수일후보: {'A': Timestamp('2024-01-03 00:00:00', freq='D')}\n",
      ">>> 최소요구납기충족리스트: [('A', Timestamp('2024-01-03 00:00:00', freq='D'))]\n",
      "*** 랜덤선택 최선정반명:A, 최선조기착수일:2024-01-03\n",
      "*** 레이아웃 적합도리스트 체크: 부적합\n",
      "\n",
      ">>> 제3차 레이아웃 적합도 검토\n",
      "*** 최선조기착수일후보: {'A': Timestamp('2024-01-05 00:00:00', freq='D')}\n",
      ">>> 최소요구납기충족리스트: [('A', Timestamp('2024-01-05 00:00:00', freq='D'))]\n",
      "*** 랜덤선택 최선정반명:A, 최선조기착수일:2024-01-05\n",
      "*** 레이아웃 적합도리스트 체크: 부적합\n",
      "\n",
      ">>> 제4차 레이아웃 적합도 검토\n",
      "*** 최선조기착수일후보: {'A': Timestamp('2024-01-08 00:00:00', freq='D')}\n",
      ">>> 최소요구납기충족리스트: [('A', Timestamp('2024-01-08 00:00:00', freq='D'))]\n",
      "*** 랜덤선택 최선정반명:A, 최선조기착수일:2024-01-08\n",
      "*** 레이아웃 적합도리스트 체크: 부적합\n",
      "\n",
      ">>> 제5차 레이아웃 적합도 검토\n",
      "*** 최선조기착수일후보: {'A': Timestamp('2024-01-10 00:00:00', freq='D')}\n",
      ">>> 최소요구납기충족리스트: [('A', Timestamp('2024-01-10 00:00:00', freq='D'))]\n",
      "*** 랜덤선택 최선정반명:A, 최선조기착수일:2024-01-10\n",
      "*** 레이아웃 적합도리스트 체크: 부적합\n",
      "\n",
      ">>> 제6차 레이아웃 적합도 검토\n",
      "*** 최선조기착수일후보: {'A': Timestamp('2024-01-12 00:00:00', freq='D')}\n",
      ">>> 최소요구납기충족리스트: [('A', Timestamp('2024-01-12 00:00:00', freq='D'))]\n",
      "*** 랜덤선택 최선정반명:A, 최선조기착수일:2024-01-12\n",
      "*** 레이아웃 적합도리스트 체크: 적합\n",
      "*** 정상배치 완료\n",
      "========================================================================================================================\n",
      "\n",
      "*** 검토대상블록: S14, 사이즈: (15, 16), 표준공기: 9, 최소착수요구일:2024-01-23\n",
      "*** 중량조건적합정반들: ['A']\n",
      "\n",
      ">>> 제1차 레이아웃 적합도 검토\n",
      "*** 최선조기착수일후보: {'A': Timestamp('2024-01-01 00:00:00', freq='D')}\n",
      ">>> 최소요구납기충족리스트: [('A', Timestamp('2024-01-01 00:00:00', freq='D'))]\n",
      "*** 랜덤선택 최선정반명:A, 최선조기착수일:2024-01-01\n",
      "*** 레이아웃 적합도리스트 체크: 부적합\n",
      "\n",
      ">>> 제2차 레이아웃 적합도 검토\n",
      "*** 최선조기착수일후보: {'A': Timestamp('2024-01-03 00:00:00', freq='D')}\n",
      ">>> 최소요구납기충족리스트: [('A', Timestamp('2024-01-03 00:00:00', freq='D'))]\n",
      "*** 랜덤선택 최선정반명:A, 최선조기착수일:2024-01-03\n",
      "*** 레이아웃 적합도리스트 체크: 부적합\n",
      "\n",
      ">>> 제3차 레이아웃 적합도 검토\n",
      "*** 최선조기착수일후보: {'A': Timestamp('2024-01-05 00:00:00', freq='D')}\n",
      ">>> 최소요구납기충족리스트: [('A', Timestamp('2024-01-05 00:00:00', freq='D'))]\n",
      "*** 랜덤선택 최선정반명:A, 최선조기착수일:2024-01-05\n"
     ]
    },
    {
     "name": "stdout",
     "output_type": "stream",
     "text": [
      "*** 레이아웃 적합도리스트 체크: 부적합\n",
      "\n",
      ">>> 제4차 레이아웃 적합도 검토\n",
      "*** 최선조기착수일후보: {'A': Timestamp('2024-01-06 00:00:00', freq='D')}\n",
      ">>> 최소요구납기충족리스트: [('A', Timestamp('2024-01-06 00:00:00', freq='D'))]\n",
      "*** 랜덤선택 최선정반명:A, 최선조기착수일:2024-01-06\n",
      "*** 레이아웃 적합도리스트 체크: 부적합\n",
      "\n",
      ">>> 제5차 레이아웃 적합도 검토\n",
      "*** 최선조기착수일후보: {'A': Timestamp('2024-01-08 00:00:00', freq='D')}\n",
      ">>> 최소요구납기충족리스트: [('A', Timestamp('2024-01-08 00:00:00', freq='D'))]\n",
      "*** 랜덤선택 최선정반명:A, 최선조기착수일:2024-01-08\n",
      "*** 레이아웃 적합도리스트 체크: 부적합\n",
      "\n",
      ">>> 제6차 레이아웃 적합도 검토\n",
      "*** 최선조기착수일후보: {'A': Timestamp('2024-01-10 00:00:00', freq='D')}\n",
      ">>> 최소요구납기충족리스트: [('A', Timestamp('2024-01-10 00:00:00', freq='D'))]\n",
      "*** 랜덤선택 최선정반명:A, 최선조기착수일:2024-01-10\n",
      "*** 레이아웃 적합도리스트 체크: 부적합\n",
      "\n",
      ">>> 제7차 레이아웃 적합도 검토\n",
      "*** 최선조기착수일후보: {'A': Timestamp('2024-01-12 00:00:00', freq='D')}\n",
      ">>> 최소요구납기충족리스트: [('A', Timestamp('2024-01-12 00:00:00', freq='D'))]\n",
      "*** 랜덤선택 최선정반명:A, 최선조기착수일:2024-01-12\n",
      "*** 레이아웃 적합도리스트 체크: 부적합\n",
      "\n",
      ">>> 제8차 레이아웃 적합도 검토\n",
      "*** 최선조기착수일후보: {'A': Timestamp('2024-01-14 00:00:00', freq='D')}\n",
      ">>> 최소요구납기충족리스트: [('A', Timestamp('2024-01-14 00:00:00', freq='D'))]\n",
      "*** 랜덤선택 최선정반명:A, 최선조기착수일:2024-01-14\n",
      "*** 레이아웃 적합도리스트 체크: 부적합\n",
      "\n",
      ">>> 제9차 레이아웃 적합도 검토\n",
      "*** 최선조기착수일후보: {'A': Timestamp('2024-01-15 00:00:00', freq='D')}\n",
      ">>> 최소요구납기충족리스트: [('A', Timestamp('2024-01-15 00:00:00', freq='D'))]\n",
      "*** 랜덤선택 최선정반명:A, 최선조기착수일:2024-01-15\n",
      "*** 레이아웃 적합도리스트 체크: 부적합\n",
      "\n",
      ">>> 제10차 레이아웃 적합도 검토\n",
      "*** 최선조기착수일후보: {'A': Timestamp('2024-01-17 00:00:00', freq='D')}\n",
      ">>> 최소요구납기충족리스트: [('A', Timestamp('2024-01-17 00:00:00', freq='D'))]\n",
      "*** 랜덤선택 최선정반명:A, 최선조기착수일:2024-01-17\n",
      "*** 레이아웃 적합도리스트 체크: 부적합\n",
      "\n",
      ">>> 제11차 레이아웃 적합도 검토\n",
      "*** 최선조기착수일후보: {'A': Timestamp('2024-01-19 00:00:00', freq='D')}\n",
      ">>> 최소요구납기충족리스트: [('A', Timestamp('2024-01-19 00:00:00', freq='D'))]\n",
      "*** 랜덤선택 최선정반명:A, 최선조기착수일:2024-01-19\n",
      "*** 레이아웃 적합도리스트 체크: 부적합\n",
      "\n",
      ">>> 제12차 레이아웃 적합도 검토\n",
      "*** 최선조기착수일후보: {'A': Timestamp('2024-01-21 00:00:00', freq='D')}\n",
      ">>> 최소요구납기충족리스트: [('A', Timestamp('2024-01-21 00:00:00', freq='D'))]\n",
      "*** 랜덤선택 최선정반명:A, 최선조기착수일:2024-01-21\n",
      "*** 레이아웃 적합도리스트 체크: 부적합\n",
      "\n",
      ">>> 제13차 레이아웃 적합도 검토\n",
      "*** 최선조기착수일후보: {'A': Timestamp('2024-01-23 00:00:00', freq='D')}\n",
      ">>> 최소요구납기충족리스트: [('A', Timestamp('2024-01-23 00:00:00', freq='D'))]\n",
      "*** 랜덤선택 최선정반명:A, 최선조기착수일:2024-01-23\n",
      "*** 레이아웃 적합도리스트 체크: 부적합\n",
      "\n",
      ">>> 제14차 레이아웃 적합도 검토\n",
      "*** 최선조기착수일후보: {'A': Timestamp('2024-01-24 00:00:00', freq='D')}\n",
      ">>> 최소요구납기충족리스트: []\n",
      ">>> 최선조기착수 후보날짜가 없습니다.\n",
      "========================================================================================================================\n",
      "\n",
      "*** 검토대상블록: S16, 사이즈: (12, 14), 표준공기: 15, 최소착수요구일:2024-01-24\n",
      "*** 중량조건적합정반들: ['A']\n",
      "\n",
      ">>> 제1차 레이아웃 적합도 검토\n",
      "*** 최선조기착수일후보: {'A': Timestamp('2024-01-01 00:00:00', freq='D')}\n",
      ">>> 최소요구납기충족리스트: [('A', Timestamp('2024-01-01 00:00:00', freq='D'))]\n",
      "*** 랜덤선택 최선정반명:A, 최선조기착수일:2024-01-01\n",
      "*** 레이아웃 적합도리스트 체크: 부적합\n",
      "\n",
      ">>> 제2차 레이아웃 적합도 검토\n",
      "*** 최선조기착수일후보: {'A': Timestamp('2024-01-04 00:00:00', freq='D')}\n",
      ">>> 최소요구납기충족리스트: [('A', Timestamp('2024-01-04 00:00:00', freq='D'))]\n",
      "*** 랜덤선택 최선정반명:A, 최선조기착수일:2024-01-04\n",
      "*** 레이아웃 적합도리스트 체크: 부적합\n",
      "\n",
      ">>> 제3차 레이아웃 적합도 검토\n",
      "*** 최선조기착수일후보: {'A': Timestamp('2024-01-07 00:00:00', freq='D')}\n",
      ">>> 최소요구납기충족리스트: [('A', Timestamp('2024-01-07 00:00:00', freq='D'))]\n",
      "*** 랜덤선택 최선정반명:A, 최선조기착수일:2024-01-07\n",
      "*** 레이아웃 적합도리스트 체크: 부적합\n",
      "\n",
      ">>> 제4차 레이아웃 적합도 검토\n",
      "*** 최선조기착수일후보: {'A': Timestamp('2024-01-10 00:00:00', freq='D')}\n",
      ">>> 최소요구납기충족리스트: [('A', Timestamp('2024-01-10 00:00:00', freq='D'))]\n",
      "*** 랜덤선택 최선정반명:A, 최선조기착수일:2024-01-10\n",
      "*** 레이아웃 적합도리스트 체크: 부적합\n",
      "\n",
      ">>> 제5차 레이아웃 적합도 검토\n",
      "*** 최선조기착수일후보: {'A': Timestamp('2024-01-13 00:00:00', freq='D')}\n",
      ">>> 최소요구납기충족리스트: [('A', Timestamp('2024-01-13 00:00:00', freq='D'))]\n",
      "*** 랜덤선택 최선정반명:A, 최선조기착수일:2024-01-13\n",
      "*** 레이아웃 적합도리스트 체크: 부적합\n",
      "\n",
      ">>> 제6차 레이아웃 적합도 검토\n",
      "*** 최선조기착수일후보: {'A': Timestamp('2024-01-16 00:00:00', freq='D')}\n",
      ">>> 최소요구납기충족리스트: [('A', Timestamp('2024-01-16 00:00:00', freq='D'))]\n",
      "*** 랜덤선택 최선정반명:A, 최선조기착수일:2024-01-16\n",
      "*** 레이아웃 적합도리스트 체크: 부적합\n",
      "\n",
      ">>> 제7차 레이아웃 적합도 검토\n",
      "*** 최선조기착수일후보: {'A': Timestamp('2024-01-19 00:00:00', freq='D')}\n",
      ">>> 최소요구납기충족리스트: [('A', Timestamp('2024-01-19 00:00:00', freq='D'))]\n",
      "*** 랜덤선택 최선정반명:A, 최선조기착수일:2024-01-19\n",
      "*** 레이아웃 적합도리스트 체크: 적합\n",
      "*** 정상배치 완료\n",
      "========================================================================================================================\n",
      "\n",
      "*** 검토대상블록: S12, 사이즈: (8, 15), 표준공기: 4, 최소착수요구일:2024-01-19\n",
      "*** 중량조건적합정반들: ['A']\n",
      "\n",
      ">>> 제1차 레이아웃 적합도 검토\n",
      "*** 최선조기착수일후보: {'A': Timestamp('2024-01-01 00:00:00', freq='D')}\n",
      ">>> 최소요구납기충족리스트: [('A', Timestamp('2024-01-01 00:00:00', freq='D'))]\n",
      "*** 랜덤선택 최선정반명:A, 최선조기착수일:2024-01-01\n",
      "*** 레이아웃 적합도리스트 체크: 부적합\n",
      "\n",
      ">>> 제2차 레이아웃 적합도 검토\n",
      "*** 최선조기착수일후보: {'A': Timestamp('2024-01-02 00:00:00', freq='D')}\n",
      ">>> 최소요구납기충족리스트: [('A', Timestamp('2024-01-02 00:00:00', freq='D'))]\n",
      "*** 랜덤선택 최선정반명:A, 최선조기착수일:2024-01-02\n",
      "*** 레이아웃 적합도리스트 체크: 부적합\n",
      "\n",
      ">>> 제3차 레이아웃 적합도 검토\n",
      "*** 최선조기착수일후보: {'A': Timestamp('2024-01-03 00:00:00', freq='D')}\n",
      ">>> 최소요구납기충족리스트: [('A', Timestamp('2024-01-03 00:00:00', freq='D'))]\n",
      "*** 랜덤선택 최선정반명:A, 최선조기착수일:2024-01-03\n",
      "*** 레이아웃 적합도리스트 체크: 부적합\n",
      "\n",
      ">>> 제4차 레이아웃 적합도 검토\n",
      "*** 최선조기착수일후보: {'A': Timestamp('2024-01-03 00:00:00', freq='D')}\n",
      ">>> 최소요구납기충족리스트: [('A', Timestamp('2024-01-03 00:00:00', freq='D'))]\n",
      "*** 랜덤선택 최선정반명:A, 최선조기착수일:2024-01-03\n",
      "*** 레이아웃 적합도리스트 체크: 부적합\n",
      "\n",
      ">>> 제5차 레이아웃 적합도 검토\n",
      "*** 최선조기착수일후보: {'A': Timestamp('2024-01-04 00:00:00', freq='D')}\n",
      ">>> 최소요구납기충족리스트: [('A', Timestamp('2024-01-04 00:00:00', freq='D'))]\n",
      "*** 랜덤선택 최선정반명:A, 최선조기착수일:2024-01-04\n",
      "*** 레이아웃 적합도리스트 체크: 부적합\n",
      "\n",
      ">>> 제6차 레이아웃 적합도 검토\n",
      "*** 최선조기착수일후보: {'A': Timestamp('2024-01-05 00:00:00', freq='D')}\n",
      ">>> 최소요구납기충족리스트: [('A', Timestamp('2024-01-05 00:00:00', freq='D'))]\n",
      "*** 랜덤선택 최선정반명:A, 최선조기착수일:2024-01-05\n",
      "*** 레이아웃 적합도리스트 체크: 부적합\n",
      "\n",
      ">>> 제7차 레이아웃 적합도 검토\n",
      "*** 최선조기착수일후보: {'A': Timestamp('2024-01-06 00:00:00', freq='D')}\n",
      ">>> 최소요구납기충족리스트: [('A', Timestamp('2024-01-06 00:00:00', freq='D'))]\n",
      "*** 랜덤선택 최선정반명:A, 최선조기착수일:2024-01-06\n",
      "*** 레이아웃 적합도리스트 체크: 부적합\n",
      "\n",
      ">>> 제8차 레이아웃 적합도 검토\n",
      "*** 최선조기착수일후보: {'A': Timestamp('2024-01-07 00:00:00', freq='D')}\n",
      ">>> 최소요구납기충족리스트: [('A', Timestamp('2024-01-07 00:00:00', freq='D'))]\n",
      "*** 랜덤선택 최선정반명:A, 최선조기착수일:2024-01-07\n",
      "*** 레이아웃 적합도리스트 체크: 부적합\n",
      "\n",
      ">>> 제9차 레이아웃 적합도 검토\n",
      "*** 최선조기착수일후보: {'A': Timestamp('2024-01-07 00:00:00', freq='D')}\n",
      ">>> 최소요구납기충족리스트: [('A', Timestamp('2024-01-07 00:00:00', freq='D'))]\n",
      "*** 랜덤선택 최선정반명:A, 최선조기착수일:2024-01-07\n",
      "*** 레이아웃 적합도리스트 체크: 부적합\n",
      "\n",
      ">>> 제10차 레이아웃 적합도 검토\n",
      "*** 최선조기착수일후보: {'A': Timestamp('2024-01-08 00:00:00', freq='D')}\n",
      ">>> 최소요구납기충족리스트: [('A', Timestamp('2024-01-08 00:00:00', freq='D'))]\n",
      "*** 랜덤선택 최선정반명:A, 최선조기착수일:2024-01-08\n",
      "*** 레이아웃 적합도리스트 체크: 부적합\n",
      "\n",
      ">>> 제11차 레이아웃 적합도 검토\n",
      "*** 최선조기착수일후보: {'A': Timestamp('2024-01-09 00:00:00', freq='D')}\n",
      ">>> 최소요구납기충족리스트: [('A', Timestamp('2024-01-09 00:00:00', freq='D'))]\n",
      "*** 랜덤선택 최선정반명:A, 최선조기착수일:2024-01-09\n",
      "*** 레이아웃 적합도리스트 체크: 부적합\n",
      "\n",
      ">>> 제12차 레이아웃 적합도 검토\n",
      "*** 최선조기착수일후보: {'A': Timestamp('2024-01-10 00:00:00', freq='D')}\n",
      ">>> 최소요구납기충족리스트: [('A', Timestamp('2024-01-10 00:00:00', freq='D'))]\n",
      "*** 랜덤선택 최선정반명:A, 최선조기착수일:2024-01-10\n",
      "*** 레이아웃 적합도리스트 체크: 부적합\n",
      "\n",
      ">>> 제13차 레이아웃 적합도 검토\n",
      "*** 최선조기착수일후보: {'A': Timestamp('2024-01-11 00:00:00', freq='D')}\n",
      ">>> 최소요구납기충족리스트: [('A', Timestamp('2024-01-11 00:00:00', freq='D'))]\n",
      "*** 랜덤선택 최선정반명:A, 최선조기착수일:2024-01-11\n",
      "*** 레이아웃 적합도리스트 체크: 부적합\n",
      "\n",
      ">>> 제14차 레이아웃 적합도 검토\n",
      "*** 최선조기착수일후보: {'A': Timestamp('2024-01-11 00:00:00', freq='D')}\n",
      ">>> 최소요구납기충족리스트: [('A', Timestamp('2024-01-11 00:00:00', freq='D'))]\n",
      "*** 랜덤선택 최선정반명:A, 최선조기착수일:2024-01-11\n",
      "*** 레이아웃 적합도리스트 체크: 부적합\n",
      "\n",
      ">>> 제15차 레이아웃 적합도 검토\n",
      "*** 최선조기착수일후보: {'A': Timestamp('2024-01-12 00:00:00', freq='D')}\n",
      ">>> 최소요구납기충족리스트: [('A', Timestamp('2024-01-12 00:00:00', freq='D'))]\n",
      "*** 랜덤선택 최선정반명:A, 최선조기착수일:2024-01-12\n",
      "*** 레이아웃 적합도리스트 체크: 부적합\n",
      "\n",
      ">>> 제16차 레이아웃 적합도 검토\n",
      "*** 최선조기착수일후보: {'A': Timestamp('2024-01-13 00:00:00', freq='D')}\n",
      ">>> 최소요구납기충족리스트: [('A', Timestamp('2024-01-13 00:00:00', freq='D'))]\n",
      "*** 랜덤선택 최선정반명:A, 최선조기착수일:2024-01-13\n",
      "*** 레이아웃 적합도리스트 체크: 부적합\n",
      "\n",
      ">>> 제17차 레이아웃 적합도 검토\n",
      "*** 최선조기착수일후보: {'A': Timestamp('2024-01-14 00:00:00', freq='D')}\n",
      ">>> 최소요구납기충족리스트: [('A', Timestamp('2024-01-14 00:00:00', freq='D'))]\n",
      "*** 랜덤선택 최선정반명:A, 최선조기착수일:2024-01-14\n",
      "*** 레이아웃 적합도리스트 체크: 부적합\n",
      "\n",
      ">>> 제18차 레이아웃 적합도 검토\n",
      "*** 최선조기착수일후보: {'A': Timestamp('2024-01-15 00:00:00', freq='D')}\n",
      ">>> 최소요구납기충족리스트: [('A', Timestamp('2024-01-15 00:00:00', freq='D'))]\n",
      "*** 랜덤선택 최선정반명:A, 최선조기착수일:2024-01-15\n",
      "*** 레이아웃 적합도리스트 체크: 부적합\n",
      "\n",
      ">>> 제19차 레이아웃 적합도 검토\n",
      "*** 최선조기착수일후보: {'A': Timestamp('2024-01-15 00:00:00', freq='D')}\n",
      ">>> 최소요구납기충족리스트: [('A', Timestamp('2024-01-15 00:00:00', freq='D'))]\n",
      "*** 랜덤선택 최선정반명:A, 최선조기착수일:2024-01-15\n"
     ]
    },
    {
     "name": "stdout",
     "output_type": "stream",
     "text": [
      "*** 레이아웃 적합도리스트 체크: 부적합\n",
      "\n",
      ">>> 제20차 레이아웃 적합도 검토\n",
      "*** 최선조기착수일후보: {'A': Timestamp('2024-01-16 00:00:00', freq='D')}\n",
      ">>> 최소요구납기충족리스트: [('A', Timestamp('2024-01-16 00:00:00', freq='D'))]\n",
      "*** 랜덤선택 최선정반명:A, 최선조기착수일:2024-01-16\n",
      "*** 레이아웃 적합도리스트 체크: 부적합\n",
      "\n",
      ">>> 제21차 레이아웃 적합도 검토\n",
      "*** 최선조기착수일후보: {'A': Timestamp('2024-01-17 00:00:00', freq='D')}\n",
      ">>> 최소요구납기충족리스트: [('A', Timestamp('2024-01-17 00:00:00', freq='D'))]\n",
      "*** 랜덤선택 최선정반명:A, 최선조기착수일:2024-01-17\n",
      "*** 레이아웃 적합도리스트 체크: 부적합\n",
      "\n",
      ">>> 제22차 레이아웃 적합도 검토\n",
      "*** 최선조기착수일후보: {'A': Timestamp('2024-01-18 00:00:00', freq='D')}\n",
      ">>> 최소요구납기충족리스트: [('A', Timestamp('2024-01-18 00:00:00', freq='D'))]\n",
      "*** 랜덤선택 최선정반명:A, 최선조기착수일:2024-01-18\n",
      "*** 레이아웃 적합도리스트 체크: 부적합\n",
      "\n",
      ">>> 제23차 레이아웃 적합도 검토\n",
      "*** 최선조기착수일후보: {'A': Timestamp('2024-01-19 00:00:00', freq='D')}\n",
      ">>> 최소요구납기충족리스트: [('A', Timestamp('2024-01-19 00:00:00', freq='D'))]\n",
      "*** 랜덤선택 최선정반명:A, 최선조기착수일:2024-01-19\n",
      "*** 레이아웃 적합도리스트 체크: 적합\n",
      "*** 정상배치 완료\n",
      "========================================================================================================================\n",
      "\n",
      "*** 검토대상블록: S18, 사이즈: (13, 16), 표준공기: 4, 최소착수요구일:2024-01-28\n",
      "*** 중량조건적합정반들: ['A']\n",
      "\n",
      ">>> 제1차 레이아웃 적합도 검토\n",
      "*** 최선조기착수일후보: {'A': Timestamp('2024-01-01 00:00:00', freq='D')}\n",
      ">>> 최소요구납기충족리스트: [('A', Timestamp('2024-01-01 00:00:00', freq='D'))]\n",
      "*** 랜덤선택 최선정반명:A, 최선조기착수일:2024-01-01\n",
      "*** 레이아웃 적합도리스트 체크: 부적합\n",
      "\n",
      ">>> 제2차 레이아웃 적합도 검토\n",
      "*** 최선조기착수일후보: {'A': Timestamp('2024-01-02 00:00:00', freq='D')}\n",
      ">>> 최소요구납기충족리스트: [('A', Timestamp('2024-01-02 00:00:00', freq='D'))]\n",
      "*** 랜덤선택 최선정반명:A, 최선조기착수일:2024-01-02\n",
      "*** 레이아웃 적합도리스트 체크: 부적합\n",
      "\n",
      ">>> 제3차 레이아웃 적합도 검토\n",
      "*** 최선조기착수일후보: {'A': Timestamp('2024-01-03 00:00:00', freq='D')}\n",
      ">>> 최소요구납기충족리스트: [('A', Timestamp('2024-01-03 00:00:00', freq='D'))]\n",
      "*** 랜덤선택 최선정반명:A, 최선조기착수일:2024-01-03\n",
      "*** 레이아웃 적합도리스트 체크: 부적합\n",
      "\n",
      ">>> 제4차 레이아웃 적합도 검토\n",
      "*** 최선조기착수일후보: {'A': Timestamp('2024-01-03 00:00:00', freq='D')}\n",
      ">>> 최소요구납기충족리스트: [('A', Timestamp('2024-01-03 00:00:00', freq='D'))]\n",
      "*** 랜덤선택 최선정반명:A, 최선조기착수일:2024-01-03\n",
      "*** 레이아웃 적합도리스트 체크: 부적합\n",
      "\n",
      ">>> 제5차 레이아웃 적합도 검토\n",
      "*** 최선조기착수일후보: {'A': Timestamp('2024-01-04 00:00:00', freq='D')}\n",
      ">>> 최소요구납기충족리스트: [('A', Timestamp('2024-01-04 00:00:00', freq='D'))]\n",
      "*** 랜덤선택 최선정반명:A, 최선조기착수일:2024-01-04\n",
      "*** 레이아웃 적합도리스트 체크: 부적합\n",
      "\n",
      ">>> 제6차 레이아웃 적합도 검토\n",
      "*** 최선조기착수일후보: {'A': Timestamp('2024-01-05 00:00:00', freq='D')}\n",
      ">>> 최소요구납기충족리스트: [('A', Timestamp('2024-01-05 00:00:00', freq='D'))]\n",
      "*** 랜덤선택 최선정반명:A, 최선조기착수일:2024-01-05\n",
      "*** 레이아웃 적합도리스트 체크: 부적합\n",
      "\n",
      ">>> 제7차 레이아웃 적합도 검토\n",
      "*** 최선조기착수일후보: {'A': Timestamp('2024-01-06 00:00:00', freq='D')}\n",
      ">>> 최소요구납기충족리스트: [('A', Timestamp('2024-01-06 00:00:00', freq='D'))]\n",
      "*** 랜덤선택 최선정반명:A, 최선조기착수일:2024-01-06\n",
      "*** 레이아웃 적합도리스트 체크: 부적합\n",
      "\n",
      ">>> 제8차 레이아웃 적합도 검토\n",
      "*** 최선조기착수일후보: {'A': Timestamp('2024-01-07 00:00:00', freq='D')}\n",
      ">>> 최소요구납기충족리스트: [('A', Timestamp('2024-01-07 00:00:00', freq='D'))]\n",
      "*** 랜덤선택 최선정반명:A, 최선조기착수일:2024-01-07\n",
      "*** 레이아웃 적합도리스트 체크: 부적합\n",
      "\n",
      ">>> 제9차 레이아웃 적합도 검토\n",
      "*** 최선조기착수일후보: {'A': Timestamp('2024-01-07 00:00:00', freq='D')}\n",
      ">>> 최소요구납기충족리스트: [('A', Timestamp('2024-01-07 00:00:00', freq='D'))]\n",
      "*** 랜덤선택 최선정반명:A, 최선조기착수일:2024-01-07\n",
      "*** 레이아웃 적합도리스트 체크: 부적합\n",
      "\n",
      ">>> 제10차 레이아웃 적합도 검토\n",
      "*** 최선조기착수일후보: {'A': Timestamp('2024-01-08 00:00:00', freq='D')}\n",
      ">>> 최소요구납기충족리스트: [('A', Timestamp('2024-01-08 00:00:00', freq='D'))]\n",
      "*** 랜덤선택 최선정반명:A, 최선조기착수일:2024-01-08\n",
      "*** 레이아웃 적합도리스트 체크: 부적합\n",
      "\n",
      ">>> 제11차 레이아웃 적합도 검토\n",
      "*** 최선조기착수일후보: {'A': Timestamp('2024-01-09 00:00:00', freq='D')}\n",
      ">>> 최소요구납기충족리스트: [('A', Timestamp('2024-01-09 00:00:00', freq='D'))]\n",
      "*** 랜덤선택 최선정반명:A, 최선조기착수일:2024-01-09\n",
      "*** 레이아웃 적합도리스트 체크: 부적합\n",
      "\n",
      ">>> 제12차 레이아웃 적합도 검토\n",
      "*** 최선조기착수일후보: {'A': Timestamp('2024-01-10 00:00:00', freq='D')}\n",
      ">>> 최소요구납기충족리스트: [('A', Timestamp('2024-01-10 00:00:00', freq='D'))]\n",
      "*** 랜덤선택 최선정반명:A, 최선조기착수일:2024-01-10\n",
      "*** 레이아웃 적합도리스트 체크: 부적합\n",
      "\n",
      ">>> 제13차 레이아웃 적합도 검토\n",
      "*** 최선조기착수일후보: {'A': Timestamp('2024-01-11 00:00:00', freq='D')}\n",
      ">>> 최소요구납기충족리스트: [('A', Timestamp('2024-01-11 00:00:00', freq='D'))]\n",
      "*** 랜덤선택 최선정반명:A, 최선조기착수일:2024-01-11\n",
      "*** 레이아웃 적합도리스트 체크: 부적합\n",
      "\n",
      ">>> 제14차 레이아웃 적합도 검토\n",
      "*** 최선조기착수일후보: {'A': Timestamp('2024-01-11 00:00:00', freq='D')}\n",
      ">>> 최소요구납기충족리스트: [('A', Timestamp('2024-01-11 00:00:00', freq='D'))]\n",
      "*** 랜덤선택 최선정반명:A, 최선조기착수일:2024-01-11\n",
      "*** 레이아웃 적합도리스트 체크: 부적합\n",
      "\n",
      ">>> 제15차 레이아웃 적합도 검토\n",
      "*** 최선조기착수일후보: {'A': Timestamp('2024-01-12 00:00:00', freq='D')}\n",
      ">>> 최소요구납기충족리스트: [('A', Timestamp('2024-01-12 00:00:00', freq='D'))]\n",
      "*** 랜덤선택 최선정반명:A, 최선조기착수일:2024-01-12\n",
      "*** 레이아웃 적합도리스트 체크: 부적합\n",
      "\n",
      ">>> 제16차 레이아웃 적합도 검토\n",
      "*** 최선조기착수일후보: {'A': Timestamp('2024-01-13 00:00:00', freq='D')}\n",
      ">>> 최소요구납기충족리스트: [('A', Timestamp('2024-01-13 00:00:00', freq='D'))]\n",
      "*** 랜덤선택 최선정반명:A, 최선조기착수일:2024-01-13\n",
      "*** 레이아웃 적합도리스트 체크: 부적합\n",
      "\n",
      ">>> 제17차 레이아웃 적합도 검토\n",
      "*** 최선조기착수일후보: {'A': Timestamp('2024-01-14 00:00:00', freq='D')}\n",
      ">>> 최소요구납기충족리스트: [('A', Timestamp('2024-01-14 00:00:00', freq='D'))]\n",
      "*** 랜덤선택 최선정반명:A, 최선조기착수일:2024-01-14\n",
      "*** 레이아웃 적합도리스트 체크: 부적합\n",
      "\n",
      ">>> 제18차 레이아웃 적합도 검토\n",
      "*** 최선조기착수일후보: {'A': Timestamp('2024-01-15 00:00:00', freq='D')}\n",
      ">>> 최소요구납기충족리스트: [('A', Timestamp('2024-01-15 00:00:00', freq='D'))]\n",
      "*** 랜덤선택 최선정반명:A, 최선조기착수일:2024-01-15\n",
      "*** 레이아웃 적합도리스트 체크: 부적합\n",
      "\n",
      ">>> 제19차 레이아웃 적합도 검토\n",
      "*** 최선조기착수일후보: {'A': Timestamp('2024-01-15 00:00:00', freq='D')}\n",
      ">>> 최소요구납기충족리스트: [('A', Timestamp('2024-01-15 00:00:00', freq='D'))]\n",
      "*** 랜덤선택 최선정반명:A, 최선조기착수일:2024-01-15\n",
      "*** 레이아웃 적합도리스트 체크: 부적합\n",
      "\n",
      ">>> 제20차 레이아웃 적합도 검토\n",
      "*** 최선조기착수일후보: {'A': Timestamp('2024-01-16 00:00:00', freq='D')}\n",
      ">>> 최소요구납기충족리스트: [('A', Timestamp('2024-01-16 00:00:00', freq='D'))]\n",
      "*** 랜덤선택 최선정반명:A, 최선조기착수일:2024-01-16\n",
      "*** 레이아웃 적합도리스트 체크: 부적합\n",
      "\n",
      ">>> 제21차 레이아웃 적합도 검토\n",
      "*** 최선조기착수일후보: {'A': Timestamp('2024-01-17 00:00:00', freq='D')}\n",
      ">>> 최소요구납기충족리스트: [('A', Timestamp('2024-01-17 00:00:00', freq='D'))]\n",
      "*** 랜덤선택 최선정반명:A, 최선조기착수일:2024-01-17\n",
      "*** 레이아웃 적합도리스트 체크: 부적합\n",
      "\n",
      ">>> 제22차 레이아웃 적합도 검토\n",
      "*** 최선조기착수일후보: {'A': Timestamp('2024-01-18 00:00:00', freq='D')}\n",
      ">>> 최소요구납기충족리스트: [('A', Timestamp('2024-01-18 00:00:00', freq='D'))]\n",
      "*** 랜덤선택 최선정반명:A, 최선조기착수일:2024-01-18\n",
      "*** 레이아웃 적합도리스트 체크: 부적합\n",
      "\n",
      ">>> 제23차 레이아웃 적합도 검토\n",
      "*** 최선조기착수일후보: {'A': Timestamp('2024-01-19 00:00:00', freq='D')}\n",
      ">>> 최소요구납기충족리스트: [('A', Timestamp('2024-01-19 00:00:00', freq='D'))]\n",
      "*** 랜덤선택 최선정반명:A, 최선조기착수일:2024-01-19\n",
      "*** 레이아웃 적합도리스트 체크: 부적합\n",
      "\n",
      ">>> 제24차 레이아웃 적합도 검토\n",
      "*** 최선조기착수일후보: {'A': Timestamp('2024-01-19 00:00:00', freq='D')}\n",
      ">>> 최소요구납기충족리스트: [('A', Timestamp('2024-01-19 00:00:00', freq='D'))]\n",
      "*** 랜덤선택 최선정반명:A, 최선조기착수일:2024-01-19\n",
      "*** 레이아웃 적합도리스트 체크: 부적합\n",
      "\n",
      ">>> 제25차 레이아웃 적합도 검토\n",
      "*** 최선조기착수일후보: {'A': Timestamp('2024-01-20 00:00:00', freq='D')}\n",
      ">>> 최소요구납기충족리스트: [('A', Timestamp('2024-01-20 00:00:00', freq='D'))]\n",
      "*** 랜덤선택 최선정반명:A, 최선조기착수일:2024-01-20\n",
      "*** 레이아웃 적합도리스트 체크: 부적합\n",
      "\n",
      ">>> 제26차 레이아웃 적합도 검토\n",
      "*** 최선조기착수일후보: {'A': Timestamp('2024-01-21 00:00:00', freq='D')}\n",
      ">>> 최소요구납기충족리스트: [('A', Timestamp('2024-01-21 00:00:00', freq='D'))]\n",
      "*** 랜덤선택 최선정반명:A, 최선조기착수일:2024-01-21\n",
      "*** 레이아웃 적합도리스트 체크: 부적합\n",
      "\n",
      ">>> 제27차 레이아웃 적합도 검토\n",
      "*** 최선조기착수일후보: {'A': Timestamp('2024-01-22 00:00:00', freq='D')}\n",
      ">>> 최소요구납기충족리스트: [('A', Timestamp('2024-01-22 00:00:00', freq='D'))]\n",
      "*** 랜덤선택 최선정반명:A, 최선조기착수일:2024-01-22\n",
      "*** 레이아웃 적합도리스트 체크: 부적합\n",
      "\n",
      ">>> 제28차 레이아웃 적합도 검토\n",
      "*** 최선조기착수일후보: {'A': Timestamp('2024-01-23 00:00:00', freq='D')}\n",
      ">>> 최소요구납기충족리스트: [('A', Timestamp('2024-01-23 00:00:00', freq='D'))]\n",
      "*** 랜덤선택 최선정반명:A, 최선조기착수일:2024-01-23\n",
      "*** 레이아웃 적합도리스트 체크: 적합\n",
      "*** 정상배치 완료\n",
      "========================================================================================================================\n",
      "\n",
      "*** 검토대상블록: S15, 사이즈: (13, 14), 표준공기: 4, 최소착수요구일:2024-02-01\n",
      "*** 중량조건적합정반들: ['A']\n",
      "\n",
      ">>> 제1차 레이아웃 적합도 검토\n",
      "*** 최선조기착수일후보: {'A': Timestamp('2024-01-01 00:00:00', freq='D')}\n",
      ">>> 최소요구납기충족리스트: [('A', Timestamp('2024-01-01 00:00:00', freq='D'))]\n",
      "*** 랜덤선택 최선정반명:A, 최선조기착수일:2024-01-01\n",
      "*** 레이아웃 적합도리스트 체크: 부적합\n",
      "\n",
      ">>> 제2차 레이아웃 적합도 검토\n",
      "*** 최선조기착수일후보: {'A': Timestamp('2024-01-02 00:00:00', freq='D')}\n",
      ">>> 최소요구납기충족리스트: [('A', Timestamp('2024-01-02 00:00:00', freq='D'))]\n",
      "*** 랜덤선택 최선정반명:A, 최선조기착수일:2024-01-02\n",
      "*** 레이아웃 적합도리스트 체크: 부적합\n",
      "\n",
      ">>> 제3차 레이아웃 적합도 검토\n",
      "*** 최선조기착수일후보: {'A': Timestamp('2024-01-03 00:00:00', freq='D')}\n",
      ">>> 최소요구납기충족리스트: [('A', Timestamp('2024-01-03 00:00:00', freq='D'))]\n",
      "*** 랜덤선택 최선정반명:A, 최선조기착수일:2024-01-03\n",
      "*** 레이아웃 적합도리스트 체크: 부적합\n",
      "\n",
      ">>> 제4차 레이아웃 적합도 검토\n",
      "*** 최선조기착수일후보: {'A': Timestamp('2024-01-03 00:00:00', freq='D')}\n",
      ">>> 최소요구납기충족리스트: [('A', Timestamp('2024-01-03 00:00:00', freq='D'))]\n",
      "*** 랜덤선택 최선정반명:A, 최선조기착수일:2024-01-03\n",
      "*** 레이아웃 적합도리스트 체크: 부적합\n",
      "\n",
      ">>> 제5차 레이아웃 적합도 검토\n",
      "*** 최선조기착수일후보: {'A': Timestamp('2024-01-04 00:00:00', freq='D')}\n",
      ">>> 최소요구납기충족리스트: [('A', Timestamp('2024-01-04 00:00:00', freq='D'))]\n",
      "*** 랜덤선택 최선정반명:A, 최선조기착수일:2024-01-04\n",
      "*** 레이아웃 적합도리스트 체크: 부적합\n",
      "\n",
      ">>> 제6차 레이아웃 적합도 검토\n",
      "*** 최선조기착수일후보: {'A': Timestamp('2024-01-05 00:00:00', freq='D')}\n",
      ">>> 최소요구납기충족리스트: [('A', Timestamp('2024-01-05 00:00:00', freq='D'))]\n",
      "*** 랜덤선택 최선정반명:A, 최선조기착수일:2024-01-05\n",
      "*** 레이아웃 적합도리스트 체크: 부적합\n",
      "\n",
      ">>> 제7차 레이아웃 적합도 검토\n",
      "*** 최선조기착수일후보: {'A': Timestamp('2024-01-06 00:00:00', freq='D')}\n",
      ">>> 최소요구납기충족리스트: [('A', Timestamp('2024-01-06 00:00:00', freq='D'))]\n",
      "*** 랜덤선택 최선정반명:A, 최선조기착수일:2024-01-06\n"
     ]
    },
    {
     "name": "stdout",
     "output_type": "stream",
     "text": [
      "*** 레이아웃 적합도리스트 체크: 부적합\n",
      "\n",
      ">>> 제8차 레이아웃 적합도 검토\n",
      "*** 최선조기착수일후보: {'A': Timestamp('2024-01-07 00:00:00', freq='D')}\n",
      ">>> 최소요구납기충족리스트: [('A', Timestamp('2024-01-07 00:00:00', freq='D'))]\n",
      "*** 랜덤선택 최선정반명:A, 최선조기착수일:2024-01-07\n",
      "*** 레이아웃 적합도리스트 체크: 부적합\n",
      "\n",
      ">>> 제9차 레이아웃 적합도 검토\n",
      "*** 최선조기착수일후보: {'A': Timestamp('2024-01-07 00:00:00', freq='D')}\n",
      ">>> 최소요구납기충족리스트: [('A', Timestamp('2024-01-07 00:00:00', freq='D'))]\n",
      "*** 랜덤선택 최선정반명:A, 최선조기착수일:2024-01-07\n",
      "*** 레이아웃 적합도리스트 체크: 부적합\n",
      "\n",
      ">>> 제10차 레이아웃 적합도 검토\n",
      "*** 최선조기착수일후보: {'A': Timestamp('2024-01-08 00:00:00', freq='D')}\n",
      ">>> 최소요구납기충족리스트: [('A', Timestamp('2024-01-08 00:00:00', freq='D'))]\n",
      "*** 랜덤선택 최선정반명:A, 최선조기착수일:2024-01-08\n",
      "*** 레이아웃 적합도리스트 체크: 부적합\n",
      "\n",
      ">>> 제11차 레이아웃 적합도 검토\n",
      "*** 최선조기착수일후보: {'A': Timestamp('2024-01-09 00:00:00', freq='D')}\n",
      ">>> 최소요구납기충족리스트: [('A', Timestamp('2024-01-09 00:00:00', freq='D'))]\n",
      "*** 랜덤선택 최선정반명:A, 최선조기착수일:2024-01-09\n",
      "*** 레이아웃 적합도리스트 체크: 부적합\n",
      "\n",
      ">>> 제12차 레이아웃 적합도 검토\n",
      "*** 최선조기착수일후보: {'A': Timestamp('2024-01-10 00:00:00', freq='D')}\n",
      ">>> 최소요구납기충족리스트: [('A', Timestamp('2024-01-10 00:00:00', freq='D'))]\n",
      "*** 랜덤선택 최선정반명:A, 최선조기착수일:2024-01-10\n",
      "*** 레이아웃 적합도리스트 체크: 부적합\n",
      "\n",
      ">>> 제13차 레이아웃 적합도 검토\n",
      "*** 최선조기착수일후보: {'A': Timestamp('2024-01-11 00:00:00', freq='D')}\n",
      ">>> 최소요구납기충족리스트: [('A', Timestamp('2024-01-11 00:00:00', freq='D'))]\n",
      "*** 랜덤선택 최선정반명:A, 최선조기착수일:2024-01-11\n",
      "*** 레이아웃 적합도리스트 체크: 부적합\n",
      "\n",
      ">>> 제14차 레이아웃 적합도 검토\n",
      "*** 최선조기착수일후보: {'A': Timestamp('2024-01-11 00:00:00', freq='D')}\n",
      ">>> 최소요구납기충족리스트: [('A', Timestamp('2024-01-11 00:00:00', freq='D'))]\n",
      "*** 랜덤선택 최선정반명:A, 최선조기착수일:2024-01-11\n",
      "*** 레이아웃 적합도리스트 체크: 부적합\n",
      "\n",
      ">>> 제15차 레이아웃 적합도 검토\n",
      "*** 최선조기착수일후보: {'A': Timestamp('2024-01-12 00:00:00', freq='D')}\n",
      ">>> 최소요구납기충족리스트: [('A', Timestamp('2024-01-12 00:00:00', freq='D'))]\n",
      "*** 랜덤선택 최선정반명:A, 최선조기착수일:2024-01-12\n",
      "*** 레이아웃 적합도리스트 체크: 부적합\n",
      "\n",
      ">>> 제16차 레이아웃 적합도 검토\n",
      "*** 최선조기착수일후보: {'A': Timestamp('2024-01-13 00:00:00', freq='D')}\n",
      ">>> 최소요구납기충족리스트: [('A', Timestamp('2024-01-13 00:00:00', freq='D'))]\n",
      "*** 랜덤선택 최선정반명:A, 최선조기착수일:2024-01-13\n",
      "*** 레이아웃 적합도리스트 체크: 부적합\n",
      "\n",
      ">>> 제17차 레이아웃 적합도 검토\n",
      "*** 최선조기착수일후보: {'A': Timestamp('2024-01-14 00:00:00', freq='D')}\n",
      ">>> 최소요구납기충족리스트: [('A', Timestamp('2024-01-14 00:00:00', freq='D'))]\n",
      "*** 랜덤선택 최선정반명:A, 최선조기착수일:2024-01-14\n",
      "*** 레이아웃 적합도리스트 체크: 부적합\n",
      "\n",
      ">>> 제18차 레이아웃 적합도 검토\n",
      "*** 최선조기착수일후보: {'A': Timestamp('2024-01-15 00:00:00', freq='D')}\n",
      ">>> 최소요구납기충족리스트: [('A', Timestamp('2024-01-15 00:00:00', freq='D'))]\n",
      "*** 랜덤선택 최선정반명:A, 최선조기착수일:2024-01-15\n",
      "*** 레이아웃 적합도리스트 체크: 부적합\n",
      "\n",
      ">>> 제19차 레이아웃 적합도 검토\n",
      "*** 최선조기착수일후보: {'A': Timestamp('2024-01-15 00:00:00', freq='D')}\n",
      ">>> 최소요구납기충족리스트: [('A', Timestamp('2024-01-15 00:00:00', freq='D'))]\n",
      "*** 랜덤선택 최선정반명:A, 최선조기착수일:2024-01-15\n",
      "*** 레이아웃 적합도리스트 체크: 부적합\n",
      "\n",
      ">>> 제20차 레이아웃 적합도 검토\n",
      "*** 최선조기착수일후보: {'A': Timestamp('2024-01-16 00:00:00', freq='D')}\n",
      ">>> 최소요구납기충족리스트: [('A', Timestamp('2024-01-16 00:00:00', freq='D'))]\n",
      "*** 랜덤선택 최선정반명:A, 최선조기착수일:2024-01-16\n",
      "*** 레이아웃 적합도리스트 체크: 부적합\n",
      "\n",
      ">>> 제21차 레이아웃 적합도 검토\n",
      "*** 최선조기착수일후보: {'A': Timestamp('2024-01-17 00:00:00', freq='D')}\n",
      ">>> 최소요구납기충족리스트: [('A', Timestamp('2024-01-17 00:00:00', freq='D'))]\n",
      "*** 랜덤선택 최선정반명:A, 최선조기착수일:2024-01-17\n",
      "*** 레이아웃 적합도리스트 체크: 부적합\n",
      "\n",
      ">>> 제22차 레이아웃 적합도 검토\n",
      "*** 최선조기착수일후보: {'A': Timestamp('2024-01-18 00:00:00', freq='D')}\n",
      ">>> 최소요구납기충족리스트: [('A', Timestamp('2024-01-18 00:00:00', freq='D'))]\n",
      "*** 랜덤선택 최선정반명:A, 최선조기착수일:2024-01-18\n",
      "*** 레이아웃 적합도리스트 체크: 부적합\n",
      "\n",
      ">>> 제23차 레이아웃 적합도 검토\n",
      "*** 최선조기착수일후보: {'A': Timestamp('2024-01-19 00:00:00', freq='D')}\n",
      ">>> 최소요구납기충족리스트: [('A', Timestamp('2024-01-19 00:00:00', freq='D'))]\n",
      "*** 랜덤선택 최선정반명:A, 최선조기착수일:2024-01-19\n",
      "*** 레이아웃 적합도리스트 체크: 부적합\n",
      "\n",
      ">>> 제24차 레이아웃 적합도 검토\n",
      "*** 최선조기착수일후보: {'A': Timestamp('2024-01-19 00:00:00', freq='D')}\n",
      ">>> 최소요구납기충족리스트: [('A', Timestamp('2024-01-19 00:00:00', freq='D'))]\n",
      "*** 랜덤선택 최선정반명:A, 최선조기착수일:2024-01-19\n",
      "*** 레이아웃 적합도리스트 체크: 부적합\n",
      "\n",
      ">>> 제25차 레이아웃 적합도 검토\n",
      "*** 최선조기착수일후보: {'A': Timestamp('2024-01-20 00:00:00', freq='D')}\n",
      ">>> 최소요구납기충족리스트: [('A', Timestamp('2024-01-20 00:00:00', freq='D'))]\n",
      "*** 랜덤선택 최선정반명:A, 최선조기착수일:2024-01-20\n",
      "*** 레이아웃 적합도리스트 체크: 부적합\n",
      "\n",
      ">>> 제26차 레이아웃 적합도 검토\n",
      "*** 최선조기착수일후보: {'A': Timestamp('2024-01-21 00:00:00', freq='D')}\n",
      ">>> 최소요구납기충족리스트: [('A', Timestamp('2024-01-21 00:00:00', freq='D'))]\n",
      "*** 랜덤선택 최선정반명:A, 최선조기착수일:2024-01-21\n",
      "*** 레이아웃 적합도리스트 체크: 부적합\n",
      "\n",
      ">>> 제27차 레이아웃 적합도 검토\n",
      "*** 최선조기착수일후보: {'A': Timestamp('2024-01-22 00:00:00', freq='D')}\n",
      ">>> 최소요구납기충족리스트: [('A', Timestamp('2024-01-22 00:00:00', freq='D'))]\n",
      "*** 랜덤선택 최선정반명:A, 최선조기착수일:2024-01-22\n",
      "*** 레이아웃 적합도리스트 체크: 부적합\n",
      "\n",
      ">>> 제28차 레이아웃 적합도 검토\n",
      "*** 최선조기착수일후보: {'A': Timestamp('2024-01-23 00:00:00', freq='D')}\n",
      ">>> 최소요구납기충족리스트: [('A', Timestamp('2024-01-23 00:00:00', freq='D'))]\n",
      "*** 랜덤선택 최선정반명:A, 최선조기착수일:2024-01-23\n",
      "*** 레이아웃 적합도리스트 체크: 적합\n",
      "*** 정상배치 완료\n",
      "========================================================================================================================\n",
      "\n",
      "*** 검토대상블록: S17, 사이즈: (6, 15), 표준공기: 11, 최소착수요구일:2024-02-03\n",
      "*** 중량조건적합정반들: ['A']\n",
      "\n",
      ">>> 제1차 레이아웃 적합도 검토\n",
      "*** 최선조기착수일후보: {'A': Timestamp('2024-01-01 00:00:00', freq='D')}\n",
      ">>> 최소요구납기충족리스트: [('A', Timestamp('2024-01-01 00:00:00', freq='D'))]\n",
      "*** 랜덤선택 최선정반명:A, 최선조기착수일:2024-01-01\n",
      "*** 레이아웃 적합도리스트 체크: 적합\n",
      "*** 정상배치 완료\n",
      "========================================================================================================================\n",
      "\n"
     ]
    }
   ],
   "source": [
    "생산계획결과 = 생산계획수립(블록데이터, 정반데이터, 면적달력, 블록명달력, 사이즈달력)"
   ]
  },
  {
   "cell_type": "code",
   "execution_count": 591,
   "id": "eb113687",
   "metadata": {
    "scrolled": false
   },
   "outputs": [],
   "source": [
    "결론_블록리스트 = 생산계획결과[0]\n",
    "결론_정반리스트 = 생산계획결과[1]\n",
    "결론_착수일자 = 생산계획결과[2]\n",
    "결론_상태정보 = 생산계획결과[3]\n",
    "면적달력 = 생산계획결과[4]\n",
    "블록명달력 = 생산계획결과[5]\n",
    "사이즈달력 = 생산계획결과[6]"
   ]
  },
  {
   "cell_type": "code",
   "execution_count": 592,
   "id": "e9a34835",
   "metadata": {},
   "outputs": [
    {
     "name": "stdout",
     "output_type": "stream",
     "text": [
      ">>> 총블록개수: 14, 정상배치개수: 11, 미배치개수: 3\n"
     ]
    }
   ],
   "source": [
    "print(f\">>> 총블록개수: {len(결론_상태정보)}, 정상배치개수: {결론_상태정보.count('정상배치완료')}, 미배치개수: {len(결론_상태정보)-결론_상태정보.count('정상배치완료')}\")"
   ]
  },
  {
   "cell_type": "code",
   "execution_count": 596,
   "id": "234e6272",
   "metadata": {
    "scrolled": true
   },
   "outputs": [
    {
     "data": {
      "text/plain": [
       "(14, 11)"
      ]
     },
     "execution_count": 596,
     "metadata": {},
     "output_type": "execute_result"
    },
    {
     "data": {
      "text/plain": [
       "['S6', 'S7', 'S5', 'S9', 'S11', 'S10', 'S16', 'S12', 'S18', 'S15', 'S17']"
      ]
     },
     "execution_count": 596,
     "metadata": {},
     "output_type": "execute_result"
    },
    {
     "data": {
      "text/plain": [
       "['A', 'A', 'A', 'A', 'A', 'A', 'A', 'A', 'A', 'A', 'A']"
      ]
     },
     "execution_count": 596,
     "metadata": {},
     "output_type": "execute_result"
    },
    {
     "data": {
      "text/plain": [
       "['2024-01-01',\n",
       " '2024-01-01',\n",
       " '2024-01-01',\n",
       " '2024-01-11',\n",
       " '2024-01-14',\n",
       " '2024-01-12',\n",
       " '2024-01-19',\n",
       " '2024-01-19',\n",
       " '2024-01-23',\n",
       " '2024-01-23',\n",
       " '2024-01-01']"
      ]
     },
     "execution_count": 596,
     "metadata": {},
     "output_type": "execute_result"
    },
    {
     "data": {
      "text/plain": [
       "['정상배치완료',\n",
       " '정상배치완료',\n",
       " '최선조기착수 후보날짜가 없음',\n",
       " '정상배치완료',\n",
       " '정상배치완료',\n",
       " '최선조기착수 후보날짜가 없음',\n",
       " '정상배치완료',\n",
       " '정상배치완료',\n",
       " '최선조기착수 후보날짜가 없음',\n",
       " '정상배치완료',\n",
       " '정상배치완료',\n",
       " '정상배치완료',\n",
       " '정상배치완료',\n",
       " '정상배치완료']"
      ]
     },
     "execution_count": 596,
     "metadata": {},
     "output_type": "execute_result"
    },
    {
     "data": {
      "text/html": [
       "<div>\n",
       "<style scoped>\n",
       "    .dataframe tbody tr th:only-of-type {\n",
       "        vertical-align: middle;\n",
       "    }\n",
       "\n",
       "    .dataframe tbody tr th {\n",
       "        vertical-align: top;\n",
       "    }\n",
       "\n",
       "    .dataframe thead th {\n",
       "        text-align: right;\n",
       "    }\n",
       "</style>\n",
       "<table border=\"1\" class=\"dataframe\">\n",
       "  <thead>\n",
       "    <tr style=\"text-align: right;\">\n",
       "      <th></th>\n",
       "      <th>A</th>\n",
       "    </tr>\n",
       "  </thead>\n",
       "  <tbody>\n",
       "    <tr>\n",
       "      <th>2024-01-01</th>\n",
       "      <td>396</td>\n",
       "    </tr>\n",
       "    <tr>\n",
       "      <th>2024-01-02</th>\n",
       "      <td>396</td>\n",
       "    </tr>\n",
       "    <tr>\n",
       "      <th>2024-01-03</th>\n",
       "      <td>396</td>\n",
       "    </tr>\n",
       "    <tr>\n",
       "      <th>2024-01-04</th>\n",
       "      <td>396</td>\n",
       "    </tr>\n",
       "    <tr>\n",
       "      <th>2024-01-05</th>\n",
       "      <td>396</td>\n",
       "    </tr>\n",
       "  </tbody>\n",
       "</table>\n",
       "</div>"
      ],
      "text/plain": [
       "              A\n",
       "2024-01-01  396\n",
       "2024-01-02  396\n",
       "2024-01-03  396\n",
       "2024-01-04  396\n",
       "2024-01-05  396"
      ]
     },
     "execution_count": 596,
     "metadata": {},
     "output_type": "execute_result"
    },
    {
     "data": {
      "text/html": [
       "<div>\n",
       "<style scoped>\n",
       "    .dataframe tbody tr th:only-of-type {\n",
       "        vertical-align: middle;\n",
       "    }\n",
       "\n",
       "    .dataframe tbody tr th {\n",
       "        vertical-align: top;\n",
       "    }\n",
       "\n",
       "    .dataframe thead th {\n",
       "        text-align: right;\n",
       "    }\n",
       "</style>\n",
       "<table border=\"1\" class=\"dataframe\">\n",
       "  <thead>\n",
       "    <tr style=\"text-align: right;\">\n",
       "      <th></th>\n",
       "      <th>A</th>\n",
       "    </tr>\n",
       "  </thead>\n",
       "  <tbody>\n",
       "    <tr>\n",
       "      <th>2024-01-01</th>\n",
       "      <td>[(14, 15), (13, 31), (7, 15), (6, 15)]</td>\n",
       "    </tr>\n",
       "    <tr>\n",
       "      <th>2024-01-02</th>\n",
       "      <td>[(14, 15), (13, 31), (7, 15), (6, 15)]</td>\n",
       "    </tr>\n",
       "    <tr>\n",
       "      <th>2024-01-03</th>\n",
       "      <td>[(14, 15), (13, 31), (7, 15), (6, 15)]</td>\n",
       "    </tr>\n",
       "    <tr>\n",
       "      <th>2024-01-04</th>\n",
       "      <td>[(14, 15), (13, 31), (7, 15), (6, 15)]</td>\n",
       "    </tr>\n",
       "    <tr>\n",
       "      <th>2024-01-05</th>\n",
       "      <td>[(14, 15), (13, 31), (7, 15), (6, 15)]</td>\n",
       "    </tr>\n",
       "  </tbody>\n",
       "</table>\n",
       "</div>"
      ],
      "text/plain": [
       "                                                 A\n",
       "2024-01-01  [(14, 15), (13, 31), (7, 15), (6, 15)]\n",
       "2024-01-02  [(14, 15), (13, 31), (7, 15), (6, 15)]\n",
       "2024-01-03  [(14, 15), (13, 31), (7, 15), (6, 15)]\n",
       "2024-01-04  [(14, 15), (13, 31), (7, 15), (6, 15)]\n",
       "2024-01-05  [(14, 15), (13, 31), (7, 15), (6, 15)]"
      ]
     },
     "execution_count": 596,
     "metadata": {},
     "output_type": "execute_result"
    },
    {
     "data": {
      "text/html": [
       "<div>\n",
       "<style scoped>\n",
       "    .dataframe tbody tr th:only-of-type {\n",
       "        vertical-align: middle;\n",
       "    }\n",
       "\n",
       "    .dataframe tbody tr th {\n",
       "        vertical-align: top;\n",
       "    }\n",
       "\n",
       "    .dataframe thead th {\n",
       "        text-align: right;\n",
       "    }\n",
       "</style>\n",
       "<table border=\"1\" class=\"dataframe\">\n",
       "  <thead>\n",
       "    <tr style=\"text-align: right;\">\n",
       "      <th></th>\n",
       "      <th>A</th>\n",
       "    </tr>\n",
       "  </thead>\n",
       "  <tbody>\n",
       "    <tr>\n",
       "      <th>2024-01-01</th>\n",
       "      <td>[S6, S7, S5, S17]</td>\n",
       "    </tr>\n",
       "    <tr>\n",
       "      <th>2024-01-02</th>\n",
       "      <td>[S6, S7, S5, S17]</td>\n",
       "    </tr>\n",
       "    <tr>\n",
       "      <th>2024-01-03</th>\n",
       "      <td>[S6, S7, S5, S17]</td>\n",
       "    </tr>\n",
       "    <tr>\n",
       "      <th>2024-01-04</th>\n",
       "      <td>[S6, S7, S5, S17]</td>\n",
       "    </tr>\n",
       "    <tr>\n",
       "      <th>2024-01-05</th>\n",
       "      <td>[S6, S7, S5, S17]</td>\n",
       "    </tr>\n",
       "    <tr>\n",
       "      <th>2024-01-06</th>\n",
       "      <td>[S6, S7, S5, S17]</td>\n",
       "    </tr>\n",
       "    <tr>\n",
       "      <th>2024-01-07</th>\n",
       "      <td>[S6, S7, S5, S17]</td>\n",
       "    </tr>\n",
       "    <tr>\n",
       "      <th>2024-01-08</th>\n",
       "      <td>[S6, S7, S5, S17]</td>\n",
       "    </tr>\n",
       "    <tr>\n",
       "      <th>2024-01-09</th>\n",
       "      <td>[S6, S7, S5, S17]</td>\n",
       "    </tr>\n",
       "    <tr>\n",
       "      <th>2024-01-10</th>\n",
       "      <td>[S6, S7, S5, S17]</td>\n",
       "    </tr>\n",
       "    <tr>\n",
       "      <th>2024-01-11</th>\n",
       "      <td>[S6, S5, S9, S17]</td>\n",
       "    </tr>\n",
       "    <tr>\n",
       "      <th>2024-01-12</th>\n",
       "      <td>[S6, S9, S10]</td>\n",
       "    </tr>\n",
       "    <tr>\n",
       "      <th>2024-01-13</th>\n",
       "      <td>[S6, S9, S10]</td>\n",
       "    </tr>\n",
       "    <tr>\n",
       "      <th>2024-01-14</th>\n",
       "      <td>[S6, S9, S11, S10]</td>\n",
       "    </tr>\n",
       "    <tr>\n",
       "      <th>2024-01-15</th>\n",
       "      <td>[S6, S9, S11, S10]</td>\n",
       "    </tr>\n",
       "    <tr>\n",
       "      <th>2024-01-16</th>\n",
       "      <td>[S6, S9, S11, S10]</td>\n",
       "    </tr>\n",
       "    <tr>\n",
       "      <th>2024-01-17</th>\n",
       "      <td>[S6, S9, S11, S10]</td>\n",
       "    </tr>\n",
       "    <tr>\n",
       "      <th>2024-01-18</th>\n",
       "      <td>[S6, S9, S11, S10]</td>\n",
       "    </tr>\n",
       "    <tr>\n",
       "      <th>2024-01-19</th>\n",
       "      <td>[S9, S11, S10, S16, S12]</td>\n",
       "    </tr>\n",
       "    <tr>\n",
       "      <th>2024-01-20</th>\n",
       "      <td>[S9, S11, S10, S16, S12]</td>\n",
       "    </tr>\n",
       "    <tr>\n",
       "      <th>2024-01-21</th>\n",
       "      <td>[S9, S11, S10, S16, S12]</td>\n",
       "    </tr>\n",
       "    <tr>\n",
       "      <th>2024-01-22</th>\n",
       "      <td>[S9, S11, S10, S16, S12]</td>\n",
       "    </tr>\n",
       "    <tr>\n",
       "      <th>2024-01-23</th>\n",
       "      <td>[S9, S11, S16, S18, S15]</td>\n",
       "    </tr>\n",
       "    <tr>\n",
       "      <th>2024-01-24</th>\n",
       "      <td>[S9, S11, S16, S18, S15]</td>\n",
       "    </tr>\n",
       "    <tr>\n",
       "      <th>2024-01-25</th>\n",
       "      <td>[S9, S11, S16, S18, S15]</td>\n",
       "    </tr>\n",
       "    <tr>\n",
       "      <th>2024-01-26</th>\n",
       "      <td>[S9, S11, S16, S18, S15]</td>\n",
       "    </tr>\n",
       "    <tr>\n",
       "      <th>2024-01-27</th>\n",
       "      <td>[S9, S16]</td>\n",
       "    </tr>\n",
       "    <tr>\n",
       "      <th>2024-01-28</th>\n",
       "      <td>[S16]</td>\n",
       "    </tr>\n",
       "    <tr>\n",
       "      <th>2024-01-29</th>\n",
       "      <td>[S16]</td>\n",
       "    </tr>\n",
       "    <tr>\n",
       "      <th>2024-01-30</th>\n",
       "      <td>[S16]</td>\n",
       "    </tr>\n",
       "    <tr>\n",
       "      <th>2024-01-31</th>\n",
       "      <td>[S16]</td>\n",
       "    </tr>\n",
       "    <tr>\n",
       "      <th>2024-02-01</th>\n",
       "      <td>[S16]</td>\n",
       "    </tr>\n",
       "    <tr>\n",
       "      <th>2024-02-02</th>\n",
       "      <td>[S16]</td>\n",
       "    </tr>\n",
       "    <tr>\n",
       "      <th>2024-02-03</th>\n",
       "      <td>[]</td>\n",
       "    </tr>\n",
       "    <tr>\n",
       "      <th>2024-02-04</th>\n",
       "      <td>[]</td>\n",
       "    </tr>\n",
       "    <tr>\n",
       "      <th>2024-02-05</th>\n",
       "      <td>[]</td>\n",
       "    </tr>\n",
       "    <tr>\n",
       "      <th>2024-02-06</th>\n",
       "      <td>[]</td>\n",
       "    </tr>\n",
       "    <tr>\n",
       "      <th>2024-02-07</th>\n",
       "      <td>[]</td>\n",
       "    </tr>\n",
       "    <tr>\n",
       "      <th>2024-02-08</th>\n",
       "      <td>[]</td>\n",
       "    </tr>\n",
       "    <tr>\n",
       "      <th>2024-02-09</th>\n",
       "      <td>[]</td>\n",
       "    </tr>\n",
       "    <tr>\n",
       "      <th>2024-02-10</th>\n",
       "      <td>[]</td>\n",
       "    </tr>\n",
       "    <tr>\n",
       "      <th>2024-02-11</th>\n",
       "      <td>[]</td>\n",
       "    </tr>\n",
       "    <tr>\n",
       "      <th>2024-02-12</th>\n",
       "      <td>[]</td>\n",
       "    </tr>\n",
       "    <tr>\n",
       "      <th>2024-02-13</th>\n",
       "      <td>[]</td>\n",
       "    </tr>\n",
       "    <tr>\n",
       "      <th>2024-02-14</th>\n",
       "      <td>[]</td>\n",
       "    </tr>\n",
       "    <tr>\n",
       "      <th>2024-02-15</th>\n",
       "      <td>[]</td>\n",
       "    </tr>\n",
       "    <tr>\n",
       "      <th>2024-02-16</th>\n",
       "      <td>[]</td>\n",
       "    </tr>\n",
       "    <tr>\n",
       "      <th>2024-02-17</th>\n",
       "      <td>[]</td>\n",
       "    </tr>\n",
       "    <tr>\n",
       "      <th>2024-02-18</th>\n",
       "      <td>[]</td>\n",
       "    </tr>\n",
       "    <tr>\n",
       "      <th>2024-02-19</th>\n",
       "      <td>[]</td>\n",
       "    </tr>\n",
       "    <tr>\n",
       "      <th>2024-02-20</th>\n",
       "      <td>[]</td>\n",
       "    </tr>\n",
       "    <tr>\n",
       "      <th>2024-02-21</th>\n",
       "      <td>[]</td>\n",
       "    </tr>\n",
       "    <tr>\n",
       "      <th>2024-02-22</th>\n",
       "      <td>[]</td>\n",
       "    </tr>\n",
       "    <tr>\n",
       "      <th>2024-02-23</th>\n",
       "      <td>[]</td>\n",
       "    </tr>\n",
       "    <tr>\n",
       "      <th>2024-02-24</th>\n",
       "      <td>[]</td>\n",
       "    </tr>\n",
       "    <tr>\n",
       "      <th>2024-02-25</th>\n",
       "      <td>[]</td>\n",
       "    </tr>\n",
       "    <tr>\n",
       "      <th>2024-02-26</th>\n",
       "      <td>[]</td>\n",
       "    </tr>\n",
       "    <tr>\n",
       "      <th>2024-02-27</th>\n",
       "      <td>[]</td>\n",
       "    </tr>\n",
       "    <tr>\n",
       "      <th>2024-02-28</th>\n",
       "      <td>[]</td>\n",
       "    </tr>\n",
       "    <tr>\n",
       "      <th>2024-02-29</th>\n",
       "      <td>[]</td>\n",
       "    </tr>\n",
       "    <tr>\n",
       "      <th>2024-03-01</th>\n",
       "      <td>[]</td>\n",
       "    </tr>\n",
       "    <tr>\n",
       "      <th>2024-03-02</th>\n",
       "      <td>[]</td>\n",
       "    </tr>\n",
       "    <tr>\n",
       "      <th>2024-03-03</th>\n",
       "      <td>[]</td>\n",
       "    </tr>\n",
       "    <tr>\n",
       "      <th>2024-03-04</th>\n",
       "      <td>[]</td>\n",
       "    </tr>\n",
       "    <tr>\n",
       "      <th>2024-03-05</th>\n",
       "      <td>[]</td>\n",
       "    </tr>\n",
       "    <tr>\n",
       "      <th>2024-03-06</th>\n",
       "      <td>[]</td>\n",
       "    </tr>\n",
       "    <tr>\n",
       "      <th>2024-03-07</th>\n",
       "      <td>[]</td>\n",
       "    </tr>\n",
       "    <tr>\n",
       "      <th>2024-03-08</th>\n",
       "      <td>[]</td>\n",
       "    </tr>\n",
       "    <tr>\n",
       "      <th>2024-03-09</th>\n",
       "      <td>[]</td>\n",
       "    </tr>\n",
       "    <tr>\n",
       "      <th>2024-03-10</th>\n",
       "      <td>[]</td>\n",
       "    </tr>\n",
       "    <tr>\n",
       "      <th>2024-03-11</th>\n",
       "      <td>[]</td>\n",
       "    </tr>\n",
       "    <tr>\n",
       "      <th>2024-03-12</th>\n",
       "      <td>[]</td>\n",
       "    </tr>\n",
       "    <tr>\n",
       "      <th>2024-03-13</th>\n",
       "      <td>[]</td>\n",
       "    </tr>\n",
       "    <tr>\n",
       "      <th>2024-03-14</th>\n",
       "      <td>[]</td>\n",
       "    </tr>\n",
       "    <tr>\n",
       "      <th>2024-03-15</th>\n",
       "      <td>[]</td>\n",
       "    </tr>\n",
       "    <tr>\n",
       "      <th>2024-03-16</th>\n",
       "      <td>[]</td>\n",
       "    </tr>\n",
       "    <tr>\n",
       "      <th>2024-03-17</th>\n",
       "      <td>[]</td>\n",
       "    </tr>\n",
       "    <tr>\n",
       "      <th>2024-03-18</th>\n",
       "      <td>[]</td>\n",
       "    </tr>\n",
       "    <tr>\n",
       "      <th>2024-03-19</th>\n",
       "      <td>[]</td>\n",
       "    </tr>\n",
       "    <tr>\n",
       "      <th>2024-03-20</th>\n",
       "      <td>[]</td>\n",
       "    </tr>\n",
       "    <tr>\n",
       "      <th>2024-03-21</th>\n",
       "      <td>[]</td>\n",
       "    </tr>\n",
       "    <tr>\n",
       "      <th>2024-03-22</th>\n",
       "      <td>[]</td>\n",
       "    </tr>\n",
       "    <tr>\n",
       "      <th>2024-03-23</th>\n",
       "      <td>[]</td>\n",
       "    </tr>\n",
       "    <tr>\n",
       "      <th>2024-03-24</th>\n",
       "      <td>[]</td>\n",
       "    </tr>\n",
       "    <tr>\n",
       "      <th>2024-03-25</th>\n",
       "      <td>[]</td>\n",
       "    </tr>\n",
       "    <tr>\n",
       "      <th>2024-03-26</th>\n",
       "      <td>[]</td>\n",
       "    </tr>\n",
       "    <tr>\n",
       "      <th>2024-03-27</th>\n",
       "      <td>[]</td>\n",
       "    </tr>\n",
       "    <tr>\n",
       "      <th>2024-03-28</th>\n",
       "      <td>[]</td>\n",
       "    </tr>\n",
       "    <tr>\n",
       "      <th>2024-03-29</th>\n",
       "      <td>[]</td>\n",
       "    </tr>\n",
       "    <tr>\n",
       "      <th>2024-03-30</th>\n",
       "      <td>[]</td>\n",
       "    </tr>\n",
       "    <tr>\n",
       "      <th>2024-03-31</th>\n",
       "      <td>[]</td>\n",
       "    </tr>\n",
       "  </tbody>\n",
       "</table>\n",
       "</div>"
      ],
      "text/plain": [
       "                                   A\n",
       "2024-01-01         [S6, S7, S5, S17]\n",
       "2024-01-02         [S6, S7, S5, S17]\n",
       "2024-01-03         [S6, S7, S5, S17]\n",
       "2024-01-04         [S6, S7, S5, S17]\n",
       "2024-01-05         [S6, S7, S5, S17]\n",
       "2024-01-06         [S6, S7, S5, S17]\n",
       "2024-01-07         [S6, S7, S5, S17]\n",
       "2024-01-08         [S6, S7, S5, S17]\n",
       "2024-01-09         [S6, S7, S5, S17]\n",
       "2024-01-10         [S6, S7, S5, S17]\n",
       "2024-01-11         [S6, S5, S9, S17]\n",
       "2024-01-12             [S6, S9, S10]\n",
       "2024-01-13             [S6, S9, S10]\n",
       "2024-01-14        [S6, S9, S11, S10]\n",
       "2024-01-15        [S6, S9, S11, S10]\n",
       "2024-01-16        [S6, S9, S11, S10]\n",
       "2024-01-17        [S6, S9, S11, S10]\n",
       "2024-01-18        [S6, S9, S11, S10]\n",
       "2024-01-19  [S9, S11, S10, S16, S12]\n",
       "2024-01-20  [S9, S11, S10, S16, S12]\n",
       "2024-01-21  [S9, S11, S10, S16, S12]\n",
       "2024-01-22  [S9, S11, S10, S16, S12]\n",
       "2024-01-23  [S9, S11, S16, S18, S15]\n",
       "2024-01-24  [S9, S11, S16, S18, S15]\n",
       "2024-01-25  [S9, S11, S16, S18, S15]\n",
       "2024-01-26  [S9, S11, S16, S18, S15]\n",
       "2024-01-27                 [S9, S16]\n",
       "2024-01-28                     [S16]\n",
       "2024-01-29                     [S16]\n",
       "2024-01-30                     [S16]\n",
       "2024-01-31                     [S16]\n",
       "2024-02-01                     [S16]\n",
       "2024-02-02                     [S16]\n",
       "2024-02-03                        []\n",
       "2024-02-04                        []\n",
       "2024-02-05                        []\n",
       "2024-02-06                        []\n",
       "2024-02-07                        []\n",
       "2024-02-08                        []\n",
       "2024-02-09                        []\n",
       "2024-02-10                        []\n",
       "2024-02-11                        []\n",
       "2024-02-12                        []\n",
       "2024-02-13                        []\n",
       "2024-02-14                        []\n",
       "2024-02-15                        []\n",
       "2024-02-16                        []\n",
       "2024-02-17                        []\n",
       "2024-02-18                        []\n",
       "2024-02-19                        []\n",
       "2024-02-20                        []\n",
       "2024-02-21                        []\n",
       "2024-02-22                        []\n",
       "2024-02-23                        []\n",
       "2024-02-24                        []\n",
       "2024-02-25                        []\n",
       "2024-02-26                        []\n",
       "2024-02-27                        []\n",
       "2024-02-28                        []\n",
       "2024-02-29                        []\n",
       "2024-03-01                        []\n",
       "2024-03-02                        []\n",
       "2024-03-03                        []\n",
       "2024-03-04                        []\n",
       "2024-03-05                        []\n",
       "2024-03-06                        []\n",
       "2024-03-07                        []\n",
       "2024-03-08                        []\n",
       "2024-03-09                        []\n",
       "2024-03-10                        []\n",
       "2024-03-11                        []\n",
       "2024-03-12                        []\n",
       "2024-03-13                        []\n",
       "2024-03-14                        []\n",
       "2024-03-15                        []\n",
       "2024-03-16                        []\n",
       "2024-03-17                        []\n",
       "2024-03-18                        []\n",
       "2024-03-19                        []\n",
       "2024-03-20                        []\n",
       "2024-03-21                        []\n",
       "2024-03-22                        []\n",
       "2024-03-23                        []\n",
       "2024-03-24                        []\n",
       "2024-03-25                        []\n",
       "2024-03-26                        []\n",
       "2024-03-27                        []\n",
       "2024-03-28                        []\n",
       "2024-03-29                        []\n",
       "2024-03-30                        []\n",
       "2024-03-31                        []"
      ]
     },
     "execution_count": 596,
     "metadata": {},
     "output_type": "execute_result"
    }
   ],
   "source": [
    "len(결론_상태정보), len(결론_블록리스트)\n",
    "결론_블록리스트\n",
    "결론_정반리스트\n",
    "결론_착수일자\n",
    "결론_상태정보\n",
    "면적달력.head()\n",
    "사이즈달력.head()\n",
    "블록명달력"
   ]
  },
  {
   "cell_type": "markdown",
   "id": "0cf69437",
   "metadata": {},
   "source": [
    "# 결과정리 - 간트차트"
   ]
  },
  {
   "cell_type": "code",
   "execution_count": 597,
   "id": "d5e2f97e",
   "metadata": {
    "scrolled": true
   },
   "outputs": [
    {
     "data": {
      "text/html": [
       "<div>\n",
       "<style scoped>\n",
       "    .dataframe tbody tr th:only-of-type {\n",
       "        vertical-align: middle;\n",
       "    }\n",
       "\n",
       "    .dataframe tbody tr th {\n",
       "        vertical-align: top;\n",
       "    }\n",
       "\n",
       "    .dataframe thead th {\n",
       "        text-align: right;\n",
       "    }\n",
       "</style>\n",
       "<table border=\"1\" class=\"dataframe\">\n",
       "  <thead>\n",
       "    <tr style=\"text-align: right;\">\n",
       "      <th></th>\n",
       "      <th>블록명</th>\n",
       "      <th>정반명</th>\n",
       "      <th>착수일자</th>\n",
       "    </tr>\n",
       "  </thead>\n",
       "  <tbody>\n",
       "    <tr>\n",
       "      <th>0</th>\n",
       "      <td>S6</td>\n",
       "      <td>A</td>\n",
       "      <td>2024-01-01</td>\n",
       "    </tr>\n",
       "    <tr>\n",
       "      <th>1</th>\n",
       "      <td>S7</td>\n",
       "      <td>A</td>\n",
       "      <td>2024-01-01</td>\n",
       "    </tr>\n",
       "    <tr>\n",
       "      <th>2</th>\n",
       "      <td>S5</td>\n",
       "      <td>A</td>\n",
       "      <td>2024-01-01</td>\n",
       "    </tr>\n",
       "    <tr>\n",
       "      <th>3</th>\n",
       "      <td>S9</td>\n",
       "      <td>A</td>\n",
       "      <td>2024-01-11</td>\n",
       "    </tr>\n",
       "    <tr>\n",
       "      <th>4</th>\n",
       "      <td>S11</td>\n",
       "      <td>A</td>\n",
       "      <td>2024-01-14</td>\n",
       "    </tr>\n",
       "    <tr>\n",
       "      <th>5</th>\n",
       "      <td>S10</td>\n",
       "      <td>A</td>\n",
       "      <td>2024-01-12</td>\n",
       "    </tr>\n",
       "    <tr>\n",
       "      <th>6</th>\n",
       "      <td>S16</td>\n",
       "      <td>A</td>\n",
       "      <td>2024-01-19</td>\n",
       "    </tr>\n",
       "    <tr>\n",
       "      <th>7</th>\n",
       "      <td>S12</td>\n",
       "      <td>A</td>\n",
       "      <td>2024-01-19</td>\n",
       "    </tr>\n",
       "    <tr>\n",
       "      <th>8</th>\n",
       "      <td>S18</td>\n",
       "      <td>A</td>\n",
       "      <td>2024-01-23</td>\n",
       "    </tr>\n",
       "    <tr>\n",
       "      <th>9</th>\n",
       "      <td>S15</td>\n",
       "      <td>A</td>\n",
       "      <td>2024-01-23</td>\n",
       "    </tr>\n",
       "    <tr>\n",
       "      <th>10</th>\n",
       "      <td>S17</td>\n",
       "      <td>A</td>\n",
       "      <td>2024-01-01</td>\n",
       "    </tr>\n",
       "  </tbody>\n",
       "</table>\n",
       "</div>"
      ],
      "text/plain": [
       "    블록명 정반명        착수일자\n",
       "0    S6   A  2024-01-01\n",
       "1    S7   A  2024-01-01\n",
       "2    S5   A  2024-01-01\n",
       "3    S9   A  2024-01-11\n",
       "4   S11   A  2024-01-14\n",
       "5   S10   A  2024-01-12\n",
       "6   S16   A  2024-01-19\n",
       "7   S12   A  2024-01-19\n",
       "8   S18   A  2024-01-23\n",
       "9   S15   A  2024-01-23\n",
       "10  S17   A  2024-01-01"
      ]
     },
     "execution_count": 597,
     "metadata": {},
     "output_type": "execute_result"
    }
   ],
   "source": [
    "fin_df = pd.DataFrame({\n",
    "    \"블록명\":결론_블록리스트,\n",
    "    \"정반명\":결론_정반리스트,\n",
    "    \"착수일자\":결론_착수일자,\n",
    "    })\n",
    "fin_df"
   ]
  },
  {
   "cell_type": "code",
   "execution_count": 598,
   "id": "bc57e1cf",
   "metadata": {
    "scrolled": true
   },
   "outputs": [
    {
     "data": {
      "text/html": [
       "<div>\n",
       "<style scoped>\n",
       "    .dataframe tbody tr th:only-of-type {\n",
       "        vertical-align: middle;\n",
       "    }\n",
       "\n",
       "    .dataframe tbody tr th {\n",
       "        vertical-align: top;\n",
       "    }\n",
       "\n",
       "    .dataframe thead th {\n",
       "        text-align: right;\n",
       "    }\n",
       "</style>\n",
       "<table border=\"1\" class=\"dataframe\">\n",
       "  <thead>\n",
       "    <tr style=\"text-align: right;\">\n",
       "      <th></th>\n",
       "      <th>블록명</th>\n",
       "      <th>중량</th>\n",
       "      <th>높이</th>\n",
       "      <th>표준공기</th>\n",
       "      <th>납기</th>\n",
       "      <th>정반배치</th>\n",
       "      <th>사이즈</th>\n",
       "      <th>면적</th>\n",
       "      <th>최소착수요구일</th>\n",
       "      <th>날짜순서</th>\n",
       "      <th>공기순서</th>\n",
       "      <th>크기순서</th>\n",
       "      <th>우선순위</th>\n",
       "      <th>정반명</th>\n",
       "      <th>착수일자</th>\n",
       "      <th>상태정보</th>\n",
       "    </tr>\n",
       "  </thead>\n",
       "  <tbody>\n",
       "    <tr>\n",
       "      <th>0</th>\n",
       "      <td>S6</td>\n",
       "      <td>59</td>\n",
       "      <td>4.49</td>\n",
       "      <td>18</td>\n",
       "      <td>2024-01-19</td>\n",
       "      <td>NaN</td>\n",
       "      <td>(14, 15)</td>\n",
       "      <td>210</td>\n",
       "      <td>2024-01-01</td>\n",
       "      <td>1.0</td>\n",
       "      <td>1.0</td>\n",
       "      <td>6.0</td>\n",
       "      <td>0.6</td>\n",
       "      <td>A</td>\n",
       "      <td>2024-01-01</td>\n",
       "      <td>정상배치완료</td>\n",
       "    </tr>\n",
       "    <tr>\n",
       "      <th>1</th>\n",
       "      <td>S7</td>\n",
       "      <td>87</td>\n",
       "      <td>5.02</td>\n",
       "      <td>10</td>\n",
       "      <td>2024-01-12</td>\n",
       "      <td>NaN</td>\n",
       "      <td>(13, 31)</td>\n",
       "      <td>403</td>\n",
       "      <td>2024-01-02</td>\n",
       "      <td>2.0</td>\n",
       "      <td>9.0</td>\n",
       "      <td>2.0</td>\n",
       "      <td>1.3</td>\n",
       "      <td>A</td>\n",
       "      <td>2024-01-01</td>\n",
       "      <td>정상배치완료</td>\n",
       "    </tr>\n",
       "    <tr>\n",
       "      <th>2</th>\n",
       "      <td>S8</td>\n",
       "      <td>85</td>\n",
       "      <td>3.63</td>\n",
       "      <td>11</td>\n",
       "      <td>2024-01-15</td>\n",
       "      <td>NaN</td>\n",
       "      <td>(15, 27)</td>\n",
       "      <td>405</td>\n",
       "      <td>2024-01-04</td>\n",
       "      <td>3.0</td>\n",
       "      <td>6.5</td>\n",
       "      <td>1.0</td>\n",
       "      <td>1.5</td>\n",
       "      <td>NaN</td>\n",
       "      <td>NaN</td>\n",
       "      <td>최선조기착수 후보날짜가 없음</td>\n",
       "    </tr>\n",
       "    <tr>\n",
       "      <th>3</th>\n",
       "      <td>S5</td>\n",
       "      <td>68</td>\n",
       "      <td>11.00</td>\n",
       "      <td>11</td>\n",
       "      <td>2024-01-16</td>\n",
       "      <td>NaN</td>\n",
       "      <td>(7, 15)</td>\n",
       "      <td>105</td>\n",
       "      <td>2024-01-05</td>\n",
       "      <td>4.0</td>\n",
       "      <td>6.5</td>\n",
       "      <td>13.0</td>\n",
       "      <td>2.2</td>\n",
       "      <td>A</td>\n",
       "      <td>2024-01-01</td>\n",
       "      <td>정상배치완료</td>\n",
       "    </tr>\n",
       "    <tr>\n",
       "      <th>4</th>\n",
       "      <td>S9</td>\n",
       "      <td>60</td>\n",
       "      <td>4.57</td>\n",
       "      <td>17</td>\n",
       "      <td>2024-01-31</td>\n",
       "      <td>NaN</td>\n",
       "      <td>(15, 15)</td>\n",
       "      <td>225</td>\n",
       "      <td>2024-01-14</td>\n",
       "      <td>6.0</td>\n",
       "      <td>2.0</td>\n",
       "      <td>5.0</td>\n",
       "      <td>2.3</td>\n",
       "      <td>A</td>\n",
       "      <td>2024-01-11</td>\n",
       "      <td>정상배치완료</td>\n",
       "    </tr>\n",
       "    <tr>\n",
       "      <th>5</th>\n",
       "      <td>S13</td>\n",
       "      <td>93</td>\n",
       "      <td>3.37</td>\n",
       "      <td>9</td>\n",
       "      <td>2024-01-17</td>\n",
       "      <td>NaN</td>\n",
       "      <td>(14, 26)</td>\n",
       "      <td>364</td>\n",
       "      <td>2024-01-08</td>\n",
       "      <td>5.0</td>\n",
       "      <td>10.5</td>\n",
       "      <td>3.0</td>\n",
       "      <td>2.5</td>\n",
       "      <td>NaN</td>\n",
       "      <td>NaN</td>\n",
       "      <td>최선조기착수 후보날짜가 없음</td>\n",
       "    </tr>\n",
       "    <tr>\n",
       "      <th>6</th>\n",
       "      <td>S11</td>\n",
       "      <td>76</td>\n",
       "      <td>5.90</td>\n",
       "      <td>13</td>\n",
       "      <td>2024-01-31</td>\n",
       "      <td>NaN</td>\n",
       "      <td>(14, 14)</td>\n",
       "      <td>196</td>\n",
       "      <td>2024-01-18</td>\n",
       "      <td>7.5</td>\n",
       "      <td>4.0</td>\n",
       "      <td>8.0</td>\n",
       "      <td>3.0</td>\n",
       "      <td>A</td>\n",
       "      <td>2024-01-14</td>\n",
       "      <td>정상배치완료</td>\n",
       "    </tr>\n",
       "    <tr>\n",
       "      <th>7</th>\n",
       "      <td>S10</td>\n",
       "      <td>43</td>\n",
       "      <td>5.47</td>\n",
       "      <td>11</td>\n",
       "      <td>2024-01-29</td>\n",
       "      <td>NaN</td>\n",
       "      <td>(8, 16)</td>\n",
       "      <td>128</td>\n",
       "      <td>2024-01-18</td>\n",
       "      <td>7.5</td>\n",
       "      <td>6.5</td>\n",
       "      <td>11.0</td>\n",
       "      <td>3.3</td>\n",
       "      <td>A</td>\n",
       "      <td>2024-01-12</td>\n",
       "      <td>정상배치완료</td>\n",
       "    </tr>\n",
       "    <tr>\n",
       "      <th>8</th>\n",
       "      <td>S14</td>\n",
       "      <td>95</td>\n",
       "      <td>2.07</td>\n",
       "      <td>9</td>\n",
       "      <td>2024-02-01</td>\n",
       "      <td>NaN</td>\n",
       "      <td>(15, 16)</td>\n",
       "      <td>240</td>\n",
       "      <td>2024-01-23</td>\n",
       "      <td>10.0</td>\n",
       "      <td>10.5</td>\n",
       "      <td>4.0</td>\n",
       "      <td>4.2</td>\n",
       "      <td>NaN</td>\n",
       "      <td>NaN</td>\n",
       "      <td>최선조기착수 후보날짜가 없음</td>\n",
       "    </tr>\n",
       "    <tr>\n",
       "      <th>9</th>\n",
       "      <td>S16</td>\n",
       "      <td>65</td>\n",
       "      <td>1.90</td>\n",
       "      <td>15</td>\n",
       "      <td>2024-02-08</td>\n",
       "      <td>NaN</td>\n",
       "      <td>(12, 14)</td>\n",
       "      <td>168</td>\n",
       "      <td>2024-01-24</td>\n",
       "      <td>11.0</td>\n",
       "      <td>3.0</td>\n",
       "      <td>10.0</td>\n",
       "      <td>4.2</td>\n",
       "      <td>A</td>\n",
       "      <td>2024-01-19</td>\n",
       "      <td>정상배치완료</td>\n",
       "    </tr>\n",
       "    <tr>\n",
       "      <th>10</th>\n",
       "      <td>S12</td>\n",
       "      <td>0</td>\n",
       "      <td>6.70</td>\n",
       "      <td>4</td>\n",
       "      <td>2024-01-23</td>\n",
       "      <td>NaN</td>\n",
       "      <td>(8, 15)</td>\n",
       "      <td>120</td>\n",
       "      <td>2024-01-19</td>\n",
       "      <td>9.0</td>\n",
       "      <td>13.0</td>\n",
       "      <td>12.0</td>\n",
       "      <td>4.3</td>\n",
       "      <td>A</td>\n",
       "      <td>2024-01-19</td>\n",
       "      <td>정상배치완료</td>\n",
       "    </tr>\n",
       "    <tr>\n",
       "      <th>11</th>\n",
       "      <td>S18</td>\n",
       "      <td>0</td>\n",
       "      <td>5.01</td>\n",
       "      <td>4</td>\n",
       "      <td>2024-02-01</td>\n",
       "      <td>NaN</td>\n",
       "      <td>(13, 16)</td>\n",
       "      <td>208</td>\n",
       "      <td>2024-01-28</td>\n",
       "      <td>12.0</td>\n",
       "      <td>13.0</td>\n",
       "      <td>7.0</td>\n",
       "      <td>5.1</td>\n",
       "      <td>A</td>\n",
       "      <td>2024-01-23</td>\n",
       "      <td>정상배치완료</td>\n",
       "    </tr>\n",
       "    <tr>\n",
       "      <th>12</th>\n",
       "      <td>S15</td>\n",
       "      <td>0</td>\n",
       "      <td>3.71</td>\n",
       "      <td>4</td>\n",
       "      <td>2024-02-05</td>\n",
       "      <td>NaN</td>\n",
       "      <td>(13, 14)</td>\n",
       "      <td>182</td>\n",
       "      <td>2024-02-01</td>\n",
       "      <td>13.0</td>\n",
       "      <td>13.0</td>\n",
       "      <td>9.0</td>\n",
       "      <td>5.5</td>\n",
       "      <td>A</td>\n",
       "      <td>2024-01-23</td>\n",
       "      <td>정상배치완료</td>\n",
       "    </tr>\n",
       "    <tr>\n",
       "      <th>13</th>\n",
       "      <td>S17</td>\n",
       "      <td>91</td>\n",
       "      <td>13.14</td>\n",
       "      <td>11</td>\n",
       "      <td>2024-02-14</td>\n",
       "      <td>NaN</td>\n",
       "      <td>(6, 15)</td>\n",
       "      <td>90</td>\n",
       "      <td>2024-02-03</td>\n",
       "      <td>14.0</td>\n",
       "      <td>6.5</td>\n",
       "      <td>14.0</td>\n",
       "      <td>5.6</td>\n",
       "      <td>A</td>\n",
       "      <td>2024-01-01</td>\n",
       "      <td>정상배치완료</td>\n",
       "    </tr>\n",
       "  </tbody>\n",
       "</table>\n",
       "</div>"
      ],
      "text/plain": [
       "    블록명  중량     높이  표준공기         납기  정반배치       사이즈   면적     최소착수요구일  날짜순서  \\\n",
       "0    S6  59   4.49    18 2024-01-19   NaN  (14, 15)  210  2024-01-01   1.0   \n",
       "1    S7  87   5.02    10 2024-01-12   NaN  (13, 31)  403  2024-01-02   2.0   \n",
       "2    S8  85   3.63    11 2024-01-15   NaN  (15, 27)  405  2024-01-04   3.0   \n",
       "3    S5  68  11.00    11 2024-01-16   NaN   (7, 15)  105  2024-01-05   4.0   \n",
       "4    S9  60   4.57    17 2024-01-31   NaN  (15, 15)  225  2024-01-14   6.0   \n",
       "5   S13  93   3.37     9 2024-01-17   NaN  (14, 26)  364  2024-01-08   5.0   \n",
       "6   S11  76   5.90    13 2024-01-31   NaN  (14, 14)  196  2024-01-18   7.5   \n",
       "7   S10  43   5.47    11 2024-01-29   NaN   (8, 16)  128  2024-01-18   7.5   \n",
       "8   S14  95   2.07     9 2024-02-01   NaN  (15, 16)  240  2024-01-23  10.0   \n",
       "9   S16  65   1.90    15 2024-02-08   NaN  (12, 14)  168  2024-01-24  11.0   \n",
       "10  S12   0   6.70     4 2024-01-23   NaN   (8, 15)  120  2024-01-19   9.0   \n",
       "11  S18   0   5.01     4 2024-02-01   NaN  (13, 16)  208  2024-01-28  12.0   \n",
       "12  S15   0   3.71     4 2024-02-05   NaN  (13, 14)  182  2024-02-01  13.0   \n",
       "13  S17  91  13.14    11 2024-02-14   NaN   (6, 15)   90  2024-02-03  14.0   \n",
       "\n",
       "    공기순서  크기순서  우선순위  정반명        착수일자             상태정보  \n",
       "0    1.0   6.0   0.6    A  2024-01-01           정상배치완료  \n",
       "1    9.0   2.0   1.3    A  2024-01-01           정상배치완료  \n",
       "2    6.5   1.0   1.5  NaN         NaN  최선조기착수 후보날짜가 없음  \n",
       "3    6.5  13.0   2.2    A  2024-01-01           정상배치완료  \n",
       "4    2.0   5.0   2.3    A  2024-01-11           정상배치완료  \n",
       "5   10.5   3.0   2.5  NaN         NaN  최선조기착수 후보날짜가 없음  \n",
       "6    4.0   8.0   3.0    A  2024-01-14           정상배치완료  \n",
       "7    6.5  11.0   3.3    A  2024-01-12           정상배치완료  \n",
       "8   10.5   4.0   4.2  NaN         NaN  최선조기착수 후보날짜가 없음  \n",
       "9    3.0  10.0   4.2    A  2024-01-19           정상배치완료  \n",
       "10  13.0  12.0   4.3    A  2024-01-19           정상배치완료  \n",
       "11  13.0   7.0   5.1    A  2024-01-23           정상배치완료  \n",
       "12  13.0   9.0   5.5    A  2024-01-23           정상배치완료  \n",
       "13   6.5  14.0   5.6    A  2024-01-01           정상배치완료  "
      ]
     },
     "execution_count": 598,
     "metadata": {},
     "output_type": "execute_result"
    }
   ],
   "source": [
    "merged_df = pd.merge(블록데이터, fin_df, on=\"블록명\", how=\"left\")\n",
    "merged_df[\"상태정보\"] = 결론_상태정보\n",
    "merged_df"
   ]
  },
  {
   "cell_type": "code",
   "execution_count": 599,
   "id": "d8b7aa25",
   "metadata": {},
   "outputs": [],
   "source": [
    "@unpack_df_columns\n",
    "def 종료일구하기(착수일자, 표준공기):\n",
    "    try:\n",
    "        original_date = datetime.strptime(착수일자, \"%Y-%m-%d\")\n",
    "        종료날짜 = original_date + timedelta(days=int(표준공기)) \n",
    "        종료날짜 = 종료날짜.strftime(\"%Y-%m-%d\")\n",
    "        return 종료날짜\n",
    "    except:\n",
    "        pass"
   ]
  },
  {
   "cell_type": "code",
   "execution_count": 600,
   "id": "4ac0d1f8",
   "metadata": {},
   "outputs": [],
   "source": [
    "@unpack_df_columns\n",
    "def create_text(블록명, 표준공기, 사이즈):\n",
    "    return str(블록명)+\"/\"+\"조립중량:\"+str(표준공기)+\"ton\" + \"/\" +\"사이즈:\"+str(사이즈)"
   ]
  },
  {
   "cell_type": "code",
   "execution_count": 601,
   "id": "a76a49fb",
   "metadata": {
    "scrolled": true
   },
   "outputs": [
    {
     "data": {
      "text/html": [
       "<div>\n",
       "<style scoped>\n",
       "    .dataframe tbody tr th:only-of-type {\n",
       "        vertical-align: middle;\n",
       "    }\n",
       "\n",
       "    .dataframe tbody tr th {\n",
       "        vertical-align: top;\n",
       "    }\n",
       "\n",
       "    .dataframe thead th {\n",
       "        text-align: right;\n",
       "    }\n",
       "</style>\n",
       "<table border=\"1\" class=\"dataframe\">\n",
       "  <thead>\n",
       "    <tr style=\"text-align: right;\">\n",
       "      <th></th>\n",
       "      <th>블록명</th>\n",
       "      <th>중량</th>\n",
       "      <th>높이</th>\n",
       "      <th>표준공기</th>\n",
       "      <th>납기</th>\n",
       "      <th>정반배치</th>\n",
       "      <th>사이즈</th>\n",
       "      <th>면적</th>\n",
       "      <th>최소착수요구일</th>\n",
       "      <th>날짜순서</th>\n",
       "      <th>공기순서</th>\n",
       "      <th>크기순서</th>\n",
       "      <th>우선순위</th>\n",
       "      <th>정반명</th>\n",
       "      <th>착수일자</th>\n",
       "      <th>상태정보</th>\n",
       "      <th>종료일자</th>\n",
       "      <th>차트텍스트</th>\n",
       "    </tr>\n",
       "  </thead>\n",
       "  <tbody>\n",
       "    <tr>\n",
       "      <th>0</th>\n",
       "      <td>S6</td>\n",
       "      <td>59</td>\n",
       "      <td>4.49</td>\n",
       "      <td>18</td>\n",
       "      <td>2024-01-19</td>\n",
       "      <td>NaN</td>\n",
       "      <td>(14, 15)</td>\n",
       "      <td>210</td>\n",
       "      <td>2024-01-01</td>\n",
       "      <td>1.0</td>\n",
       "      <td>1.0</td>\n",
       "      <td>6.0</td>\n",
       "      <td>0.6</td>\n",
       "      <td>A</td>\n",
       "      <td>2024-01-01</td>\n",
       "      <td>정상배치완료</td>\n",
       "      <td>2024-01-19</td>\n",
       "      <td>S6/조립중량:18ton/사이즈:(14, 15)</td>\n",
       "    </tr>\n",
       "    <tr>\n",
       "      <th>1</th>\n",
       "      <td>S7</td>\n",
       "      <td>87</td>\n",
       "      <td>5.02</td>\n",
       "      <td>10</td>\n",
       "      <td>2024-01-12</td>\n",
       "      <td>NaN</td>\n",
       "      <td>(13, 31)</td>\n",
       "      <td>403</td>\n",
       "      <td>2024-01-02</td>\n",
       "      <td>2.0</td>\n",
       "      <td>9.0</td>\n",
       "      <td>2.0</td>\n",
       "      <td>1.3</td>\n",
       "      <td>A</td>\n",
       "      <td>2024-01-01</td>\n",
       "      <td>정상배치완료</td>\n",
       "      <td>2024-01-11</td>\n",
       "      <td>S7/조립중량:10ton/사이즈:(13, 31)</td>\n",
       "    </tr>\n",
       "    <tr>\n",
       "      <th>2</th>\n",
       "      <td>S8</td>\n",
       "      <td>85</td>\n",
       "      <td>3.63</td>\n",
       "      <td>11</td>\n",
       "      <td>2024-01-15</td>\n",
       "      <td>NaN</td>\n",
       "      <td>(15, 27)</td>\n",
       "      <td>405</td>\n",
       "      <td>2024-01-04</td>\n",
       "      <td>3.0</td>\n",
       "      <td>6.5</td>\n",
       "      <td>1.0</td>\n",
       "      <td>1.5</td>\n",
       "      <td>NaN</td>\n",
       "      <td>NaN</td>\n",
       "      <td>최선조기착수 후보날짜가 없음</td>\n",
       "      <td>None</td>\n",
       "      <td>S8/조립중량:11ton/사이즈:(15, 27)</td>\n",
       "    </tr>\n",
       "    <tr>\n",
       "      <th>3</th>\n",
       "      <td>S5</td>\n",
       "      <td>68</td>\n",
       "      <td>11.00</td>\n",
       "      <td>11</td>\n",
       "      <td>2024-01-16</td>\n",
       "      <td>NaN</td>\n",
       "      <td>(7, 15)</td>\n",
       "      <td>105</td>\n",
       "      <td>2024-01-05</td>\n",
       "      <td>4.0</td>\n",
       "      <td>6.5</td>\n",
       "      <td>13.0</td>\n",
       "      <td>2.2</td>\n",
       "      <td>A</td>\n",
       "      <td>2024-01-01</td>\n",
       "      <td>정상배치완료</td>\n",
       "      <td>2024-01-12</td>\n",
       "      <td>S5/조립중량:11ton/사이즈:(7, 15)</td>\n",
       "    </tr>\n",
       "    <tr>\n",
       "      <th>4</th>\n",
       "      <td>S9</td>\n",
       "      <td>60</td>\n",
       "      <td>4.57</td>\n",
       "      <td>17</td>\n",
       "      <td>2024-01-31</td>\n",
       "      <td>NaN</td>\n",
       "      <td>(15, 15)</td>\n",
       "      <td>225</td>\n",
       "      <td>2024-01-14</td>\n",
       "      <td>6.0</td>\n",
       "      <td>2.0</td>\n",
       "      <td>5.0</td>\n",
       "      <td>2.3</td>\n",
       "      <td>A</td>\n",
       "      <td>2024-01-11</td>\n",
       "      <td>정상배치완료</td>\n",
       "      <td>2024-01-28</td>\n",
       "      <td>S9/조립중량:17ton/사이즈:(15, 15)</td>\n",
       "    </tr>\n",
       "    <tr>\n",
       "      <th>5</th>\n",
       "      <td>S13</td>\n",
       "      <td>93</td>\n",
       "      <td>3.37</td>\n",
       "      <td>9</td>\n",
       "      <td>2024-01-17</td>\n",
       "      <td>NaN</td>\n",
       "      <td>(14, 26)</td>\n",
       "      <td>364</td>\n",
       "      <td>2024-01-08</td>\n",
       "      <td>5.0</td>\n",
       "      <td>10.5</td>\n",
       "      <td>3.0</td>\n",
       "      <td>2.5</td>\n",
       "      <td>NaN</td>\n",
       "      <td>NaN</td>\n",
       "      <td>최선조기착수 후보날짜가 없음</td>\n",
       "      <td>None</td>\n",
       "      <td>S13/조립중량:9ton/사이즈:(14, 26)</td>\n",
       "    </tr>\n",
       "    <tr>\n",
       "      <th>6</th>\n",
       "      <td>S11</td>\n",
       "      <td>76</td>\n",
       "      <td>5.90</td>\n",
       "      <td>13</td>\n",
       "      <td>2024-01-31</td>\n",
       "      <td>NaN</td>\n",
       "      <td>(14, 14)</td>\n",
       "      <td>196</td>\n",
       "      <td>2024-01-18</td>\n",
       "      <td>7.5</td>\n",
       "      <td>4.0</td>\n",
       "      <td>8.0</td>\n",
       "      <td>3.0</td>\n",
       "      <td>A</td>\n",
       "      <td>2024-01-14</td>\n",
       "      <td>정상배치완료</td>\n",
       "      <td>2024-01-27</td>\n",
       "      <td>S11/조립중량:13ton/사이즈:(14, 14)</td>\n",
       "    </tr>\n",
       "    <tr>\n",
       "      <th>7</th>\n",
       "      <td>S10</td>\n",
       "      <td>43</td>\n",
       "      <td>5.47</td>\n",
       "      <td>11</td>\n",
       "      <td>2024-01-29</td>\n",
       "      <td>NaN</td>\n",
       "      <td>(8, 16)</td>\n",
       "      <td>128</td>\n",
       "      <td>2024-01-18</td>\n",
       "      <td>7.5</td>\n",
       "      <td>6.5</td>\n",
       "      <td>11.0</td>\n",
       "      <td>3.3</td>\n",
       "      <td>A</td>\n",
       "      <td>2024-01-12</td>\n",
       "      <td>정상배치완료</td>\n",
       "      <td>2024-01-23</td>\n",
       "      <td>S10/조립중량:11ton/사이즈:(8, 16)</td>\n",
       "    </tr>\n",
       "    <tr>\n",
       "      <th>8</th>\n",
       "      <td>S14</td>\n",
       "      <td>95</td>\n",
       "      <td>2.07</td>\n",
       "      <td>9</td>\n",
       "      <td>2024-02-01</td>\n",
       "      <td>NaN</td>\n",
       "      <td>(15, 16)</td>\n",
       "      <td>240</td>\n",
       "      <td>2024-01-23</td>\n",
       "      <td>10.0</td>\n",
       "      <td>10.5</td>\n",
       "      <td>4.0</td>\n",
       "      <td>4.2</td>\n",
       "      <td>NaN</td>\n",
       "      <td>NaN</td>\n",
       "      <td>최선조기착수 후보날짜가 없음</td>\n",
       "      <td>None</td>\n",
       "      <td>S14/조립중량:9ton/사이즈:(15, 16)</td>\n",
       "    </tr>\n",
       "    <tr>\n",
       "      <th>9</th>\n",
       "      <td>S16</td>\n",
       "      <td>65</td>\n",
       "      <td>1.90</td>\n",
       "      <td>15</td>\n",
       "      <td>2024-02-08</td>\n",
       "      <td>NaN</td>\n",
       "      <td>(12, 14)</td>\n",
       "      <td>168</td>\n",
       "      <td>2024-01-24</td>\n",
       "      <td>11.0</td>\n",
       "      <td>3.0</td>\n",
       "      <td>10.0</td>\n",
       "      <td>4.2</td>\n",
       "      <td>A</td>\n",
       "      <td>2024-01-19</td>\n",
       "      <td>정상배치완료</td>\n",
       "      <td>2024-02-03</td>\n",
       "      <td>S16/조립중량:15ton/사이즈:(12, 14)</td>\n",
       "    </tr>\n",
       "    <tr>\n",
       "      <th>10</th>\n",
       "      <td>S12</td>\n",
       "      <td>0</td>\n",
       "      <td>6.70</td>\n",
       "      <td>4</td>\n",
       "      <td>2024-01-23</td>\n",
       "      <td>NaN</td>\n",
       "      <td>(8, 15)</td>\n",
       "      <td>120</td>\n",
       "      <td>2024-01-19</td>\n",
       "      <td>9.0</td>\n",
       "      <td>13.0</td>\n",
       "      <td>12.0</td>\n",
       "      <td>4.3</td>\n",
       "      <td>A</td>\n",
       "      <td>2024-01-19</td>\n",
       "      <td>정상배치완료</td>\n",
       "      <td>2024-01-23</td>\n",
       "      <td>S12/조립중량:4ton/사이즈:(8, 15)</td>\n",
       "    </tr>\n",
       "    <tr>\n",
       "      <th>11</th>\n",
       "      <td>S18</td>\n",
       "      <td>0</td>\n",
       "      <td>5.01</td>\n",
       "      <td>4</td>\n",
       "      <td>2024-02-01</td>\n",
       "      <td>NaN</td>\n",
       "      <td>(13, 16)</td>\n",
       "      <td>208</td>\n",
       "      <td>2024-01-28</td>\n",
       "      <td>12.0</td>\n",
       "      <td>13.0</td>\n",
       "      <td>7.0</td>\n",
       "      <td>5.1</td>\n",
       "      <td>A</td>\n",
       "      <td>2024-01-23</td>\n",
       "      <td>정상배치완료</td>\n",
       "      <td>2024-01-27</td>\n",
       "      <td>S18/조립중량:4ton/사이즈:(13, 16)</td>\n",
       "    </tr>\n",
       "    <tr>\n",
       "      <th>12</th>\n",
       "      <td>S15</td>\n",
       "      <td>0</td>\n",
       "      <td>3.71</td>\n",
       "      <td>4</td>\n",
       "      <td>2024-02-05</td>\n",
       "      <td>NaN</td>\n",
       "      <td>(13, 14)</td>\n",
       "      <td>182</td>\n",
       "      <td>2024-02-01</td>\n",
       "      <td>13.0</td>\n",
       "      <td>13.0</td>\n",
       "      <td>9.0</td>\n",
       "      <td>5.5</td>\n",
       "      <td>A</td>\n",
       "      <td>2024-01-23</td>\n",
       "      <td>정상배치완료</td>\n",
       "      <td>2024-01-27</td>\n",
       "      <td>S15/조립중량:4ton/사이즈:(13, 14)</td>\n",
       "    </tr>\n",
       "    <tr>\n",
       "      <th>13</th>\n",
       "      <td>S17</td>\n",
       "      <td>91</td>\n",
       "      <td>13.14</td>\n",
       "      <td>11</td>\n",
       "      <td>2024-02-14</td>\n",
       "      <td>NaN</td>\n",
       "      <td>(6, 15)</td>\n",
       "      <td>90</td>\n",
       "      <td>2024-02-03</td>\n",
       "      <td>14.0</td>\n",
       "      <td>6.5</td>\n",
       "      <td>14.0</td>\n",
       "      <td>5.6</td>\n",
       "      <td>A</td>\n",
       "      <td>2024-01-01</td>\n",
       "      <td>정상배치완료</td>\n",
       "      <td>2024-01-12</td>\n",
       "      <td>S17/조립중량:11ton/사이즈:(6, 15)</td>\n",
       "    </tr>\n",
       "  </tbody>\n",
       "</table>\n",
       "</div>"
      ],
      "text/plain": [
       "    블록명  중량     높이  표준공기         납기  정반배치       사이즈   면적     최소착수요구일  날짜순서  \\\n",
       "0    S6  59   4.49    18 2024-01-19   NaN  (14, 15)  210  2024-01-01   1.0   \n",
       "1    S7  87   5.02    10 2024-01-12   NaN  (13, 31)  403  2024-01-02   2.0   \n",
       "2    S8  85   3.63    11 2024-01-15   NaN  (15, 27)  405  2024-01-04   3.0   \n",
       "3    S5  68  11.00    11 2024-01-16   NaN   (7, 15)  105  2024-01-05   4.0   \n",
       "4    S9  60   4.57    17 2024-01-31   NaN  (15, 15)  225  2024-01-14   6.0   \n",
       "5   S13  93   3.37     9 2024-01-17   NaN  (14, 26)  364  2024-01-08   5.0   \n",
       "6   S11  76   5.90    13 2024-01-31   NaN  (14, 14)  196  2024-01-18   7.5   \n",
       "7   S10  43   5.47    11 2024-01-29   NaN   (8, 16)  128  2024-01-18   7.5   \n",
       "8   S14  95   2.07     9 2024-02-01   NaN  (15, 16)  240  2024-01-23  10.0   \n",
       "9   S16  65   1.90    15 2024-02-08   NaN  (12, 14)  168  2024-01-24  11.0   \n",
       "10  S12   0   6.70     4 2024-01-23   NaN   (8, 15)  120  2024-01-19   9.0   \n",
       "11  S18   0   5.01     4 2024-02-01   NaN  (13, 16)  208  2024-01-28  12.0   \n",
       "12  S15   0   3.71     4 2024-02-05   NaN  (13, 14)  182  2024-02-01  13.0   \n",
       "13  S17  91  13.14    11 2024-02-14   NaN   (6, 15)   90  2024-02-03  14.0   \n",
       "\n",
       "    공기순서  크기순서  우선순위  정반명        착수일자             상태정보        종료일자  \\\n",
       "0    1.0   6.0   0.6    A  2024-01-01           정상배치완료  2024-01-19   \n",
       "1    9.0   2.0   1.3    A  2024-01-01           정상배치완료  2024-01-11   \n",
       "2    6.5   1.0   1.5  NaN         NaN  최선조기착수 후보날짜가 없음        None   \n",
       "3    6.5  13.0   2.2    A  2024-01-01           정상배치완료  2024-01-12   \n",
       "4    2.0   5.0   2.3    A  2024-01-11           정상배치완료  2024-01-28   \n",
       "5   10.5   3.0   2.5  NaN         NaN  최선조기착수 후보날짜가 없음        None   \n",
       "6    4.0   8.0   3.0    A  2024-01-14           정상배치완료  2024-01-27   \n",
       "7    6.5  11.0   3.3    A  2024-01-12           정상배치완료  2024-01-23   \n",
       "8   10.5   4.0   4.2  NaN         NaN  최선조기착수 후보날짜가 없음        None   \n",
       "9    3.0  10.0   4.2    A  2024-01-19           정상배치완료  2024-02-03   \n",
       "10  13.0  12.0   4.3    A  2024-01-19           정상배치완료  2024-01-23   \n",
       "11  13.0   7.0   5.1    A  2024-01-23           정상배치완료  2024-01-27   \n",
       "12  13.0   9.0   5.5    A  2024-01-23           정상배치완료  2024-01-27   \n",
       "13   6.5  14.0   5.6    A  2024-01-01           정상배치완료  2024-01-12   \n",
       "\n",
       "                          차트텍스트  \n",
       "0    S6/조립중량:18ton/사이즈:(14, 15)  \n",
       "1    S7/조립중량:10ton/사이즈:(13, 31)  \n",
       "2    S8/조립중량:11ton/사이즈:(15, 27)  \n",
       "3     S5/조립중량:11ton/사이즈:(7, 15)  \n",
       "4    S9/조립중량:17ton/사이즈:(15, 15)  \n",
       "5    S13/조립중량:9ton/사이즈:(14, 26)  \n",
       "6   S11/조립중량:13ton/사이즈:(14, 14)  \n",
       "7    S10/조립중량:11ton/사이즈:(8, 16)  \n",
       "8    S14/조립중량:9ton/사이즈:(15, 16)  \n",
       "9   S16/조립중량:15ton/사이즈:(12, 14)  \n",
       "10    S12/조립중량:4ton/사이즈:(8, 15)  \n",
       "11   S18/조립중량:4ton/사이즈:(13, 16)  \n",
       "12   S15/조립중량:4ton/사이즈:(13, 14)  \n",
       "13   S17/조립중량:11ton/사이즈:(6, 15)  "
      ]
     },
     "execution_count": 601,
     "metadata": {},
     "output_type": "execute_result"
    }
   ],
   "source": [
    "merged_df[\"종료일자\"] = merged_df[[\"착수일자\", \"표준공기\"]].apply(종료일구하기, axis=1)\n",
    "merged_df[\"차트텍스트\"] = merged_df[[\"블록명\", \"표준공기\", \"사이즈\"]].apply(create_text, axis=1)\n",
    "merged_df"
   ]
  },
  {
   "cell_type": "code",
   "execution_count": 602,
   "id": "f9a9ca7e",
   "metadata": {},
   "outputs": [],
   "source": [
    "def draw_gant(df):\n",
    "    fig = px.timeline(\n",
    "        df, x_start=\"착수일자\", x_end=\"종료일자\", y=\"블록명\",color=\"정반명\", hover_data = [\"표준공기\", \"중량\"],\n",
    "        text = \"차트텍스트\", opacity=0.7)\n",
    "    fig.update_yaxes(autorange=\"reversed\")          #if not specified as 'reversed', the tasks will be listed from bottom up       \n",
    "    fig.update_layout(\n",
    "                    hoverlabel_bgcolor='#DAEEED',   #Change the hover tooltip background color to a universal light blue color. If not specified, the background color will vary by team or completion pct, depending on what view the user chooses\n",
    "                    bargap=0.2,\n",
    "                    height=500,              \n",
    "                    xaxis_title=\"\", \n",
    "                    yaxis_title=\"블록명\", \n",
    "                    font=dict(\n",
    "                        family=\"Courier New, monospace\",\n",
    "                        size=12,  # Set the font size here\n",
    "                        color=\"RebeccaPurple\"),),\n",
    "    fig.update_traces(marker_line_width=2, opacity = 1)\n",
    "    fig.show()"
   ]
  },
  {
   "cell_type": "code",
   "execution_count": 603,
   "id": "354ceeb0",
   "metadata": {
    "scrolled": false
   },
   "outputs": [
    {
     "data": {
      "application/vnd.plotly.v1+json": {
       "config": {
        "plotlyServerURL": "https://plot.ly"
       },
       "data": [
        {
         "alignmentgroup": "True",
         "base": [
          "2024-01-01",
          "2024-01-01",
          "2024-01-01",
          "2024-01-11",
          "2024-01-14",
          "2024-01-12",
          "2024-01-19",
          "2024-01-19",
          "2024-01-23",
          "2024-01-23",
          "2024-01-01"
         ],
         "customdata": [
          [
           18,
           59
          ],
          [
           10,
           87
          ],
          [
           11,
           68
          ],
          [
           17,
           60
          ],
          [
           13,
           76
          ],
          [
           11,
           43
          ],
          [
           15,
           65
          ],
          [
           4,
           0
          ],
          [
           4,
           0
          ],
          [
           4,
           0
          ],
          [
           11,
           91
          ]
         ],
         "hovertemplate": "정반명=A<br>착수일자=%{base}<br>종료일자=%{x}<br>블록명=%{y}<br>차트텍스트=%{text}<br>표준공기=%{customdata[0]}<br>중량=%{customdata[1]}<extra></extra>",
         "legendgroup": "A",
         "marker": {
          "color": "#636efa",
          "line": {
           "width": 2
          },
          "opacity": 0.7,
          "pattern": {
           "shape": ""
          }
         },
         "name": "A",
         "offsetgroup": "A",
         "opacity": 1,
         "orientation": "h",
         "showlegend": true,
         "text": [
          "S6/조립중량:18ton/사이즈:(14, 15)",
          "S7/조립중량:10ton/사이즈:(13, 31)",
          "S5/조립중량:11ton/사이즈:(7, 15)",
          "S9/조립중량:17ton/사이즈:(15, 15)",
          "S11/조립중량:13ton/사이즈:(14, 14)",
          "S10/조립중량:11ton/사이즈:(8, 16)",
          "S16/조립중량:15ton/사이즈:(12, 14)",
          "S12/조립중량:4ton/사이즈:(8, 15)",
          "S18/조립중량:4ton/사이즈:(13, 16)",
          "S15/조립중량:4ton/사이즈:(13, 14)",
          "S17/조립중량:11ton/사이즈:(6, 15)"
         ],
         "textposition": "auto",
         "type": "bar",
         "x": [
          1555200000,
          864000000,
          950400000,
          1468800000,
          1123200000,
          950400000,
          1296000000,
          345600000,
          345600000,
          345600000,
          950400000
         ],
         "xaxis": "x",
         "y": [
          "S6",
          "S7",
          "S5",
          "S9",
          "S11",
          "S10",
          "S16",
          "S12",
          "S18",
          "S15",
          "S17"
         ],
         "yaxis": "y"
        }
       ],
       "layout": {
        "bargap": 0.2,
        "barmode": "overlay",
        "font": {
         "color": "RebeccaPurple",
         "family": "Courier New, monospace",
         "size": 12
        },
        "height": 500,
        "hoverlabel": {
         "bgcolor": "#DAEEED"
        },
        "legend": {
         "title": {
          "text": "정반명"
         },
         "tracegroupgap": 0
        },
        "margin": {
         "t": 60
        },
        "template": {
         "data": {
          "bar": [
           {
            "error_x": {
             "color": "#2a3f5f"
            },
            "error_y": {
             "color": "#2a3f5f"
            },
            "marker": {
             "line": {
              "color": "#E5ECF6",
              "width": 0.5
             },
             "pattern": {
              "fillmode": "overlay",
              "size": 10,
              "solidity": 0.2
             }
            },
            "type": "bar"
           }
          ],
          "barpolar": [
           {
            "marker": {
             "line": {
              "color": "#E5ECF6",
              "width": 0.5
             },
             "pattern": {
              "fillmode": "overlay",
              "size": 10,
              "solidity": 0.2
             }
            },
            "type": "barpolar"
           }
          ],
          "carpet": [
           {
            "aaxis": {
             "endlinecolor": "#2a3f5f",
             "gridcolor": "white",
             "linecolor": "white",
             "minorgridcolor": "white",
             "startlinecolor": "#2a3f5f"
            },
            "baxis": {
             "endlinecolor": "#2a3f5f",
             "gridcolor": "white",
             "linecolor": "white",
             "minorgridcolor": "white",
             "startlinecolor": "#2a3f5f"
            },
            "type": "carpet"
           }
          ],
          "choropleth": [
           {
            "colorbar": {
             "outlinewidth": 0,
             "ticks": ""
            },
            "type": "choropleth"
           }
          ],
          "contour": [
           {
            "colorbar": {
             "outlinewidth": 0,
             "ticks": ""
            },
            "colorscale": [
             [
              0,
              "#0d0887"
             ],
             [
              0.1111111111111111,
              "#46039f"
             ],
             [
              0.2222222222222222,
              "#7201a8"
             ],
             [
              0.3333333333333333,
              "#9c179e"
             ],
             [
              0.4444444444444444,
              "#bd3786"
             ],
             [
              0.5555555555555556,
              "#d8576b"
             ],
             [
              0.6666666666666666,
              "#ed7953"
             ],
             [
              0.7777777777777778,
              "#fb9f3a"
             ],
             [
              0.8888888888888888,
              "#fdca26"
             ],
             [
              1,
              "#f0f921"
             ]
            ],
            "type": "contour"
           }
          ],
          "contourcarpet": [
           {
            "colorbar": {
             "outlinewidth": 0,
             "ticks": ""
            },
            "type": "contourcarpet"
           }
          ],
          "heatmap": [
           {
            "colorbar": {
             "outlinewidth": 0,
             "ticks": ""
            },
            "colorscale": [
             [
              0,
              "#0d0887"
             ],
             [
              0.1111111111111111,
              "#46039f"
             ],
             [
              0.2222222222222222,
              "#7201a8"
             ],
             [
              0.3333333333333333,
              "#9c179e"
             ],
             [
              0.4444444444444444,
              "#bd3786"
             ],
             [
              0.5555555555555556,
              "#d8576b"
             ],
             [
              0.6666666666666666,
              "#ed7953"
             ],
             [
              0.7777777777777778,
              "#fb9f3a"
             ],
             [
              0.8888888888888888,
              "#fdca26"
             ],
             [
              1,
              "#f0f921"
             ]
            ],
            "type": "heatmap"
           }
          ],
          "heatmapgl": [
           {
            "colorbar": {
             "outlinewidth": 0,
             "ticks": ""
            },
            "colorscale": [
             [
              0,
              "#0d0887"
             ],
             [
              0.1111111111111111,
              "#46039f"
             ],
             [
              0.2222222222222222,
              "#7201a8"
             ],
             [
              0.3333333333333333,
              "#9c179e"
             ],
             [
              0.4444444444444444,
              "#bd3786"
             ],
             [
              0.5555555555555556,
              "#d8576b"
             ],
             [
              0.6666666666666666,
              "#ed7953"
             ],
             [
              0.7777777777777778,
              "#fb9f3a"
             ],
             [
              0.8888888888888888,
              "#fdca26"
             ],
             [
              1,
              "#f0f921"
             ]
            ],
            "type": "heatmapgl"
           }
          ],
          "histogram": [
           {
            "marker": {
             "pattern": {
              "fillmode": "overlay",
              "size": 10,
              "solidity": 0.2
             }
            },
            "type": "histogram"
           }
          ],
          "histogram2d": [
           {
            "colorbar": {
             "outlinewidth": 0,
             "ticks": ""
            },
            "colorscale": [
             [
              0,
              "#0d0887"
             ],
             [
              0.1111111111111111,
              "#46039f"
             ],
             [
              0.2222222222222222,
              "#7201a8"
             ],
             [
              0.3333333333333333,
              "#9c179e"
             ],
             [
              0.4444444444444444,
              "#bd3786"
             ],
             [
              0.5555555555555556,
              "#d8576b"
             ],
             [
              0.6666666666666666,
              "#ed7953"
             ],
             [
              0.7777777777777778,
              "#fb9f3a"
             ],
             [
              0.8888888888888888,
              "#fdca26"
             ],
             [
              1,
              "#f0f921"
             ]
            ],
            "type": "histogram2d"
           }
          ],
          "histogram2dcontour": [
           {
            "colorbar": {
             "outlinewidth": 0,
             "ticks": ""
            },
            "colorscale": [
             [
              0,
              "#0d0887"
             ],
             [
              0.1111111111111111,
              "#46039f"
             ],
             [
              0.2222222222222222,
              "#7201a8"
             ],
             [
              0.3333333333333333,
              "#9c179e"
             ],
             [
              0.4444444444444444,
              "#bd3786"
             ],
             [
              0.5555555555555556,
              "#d8576b"
             ],
             [
              0.6666666666666666,
              "#ed7953"
             ],
             [
              0.7777777777777778,
              "#fb9f3a"
             ],
             [
              0.8888888888888888,
              "#fdca26"
             ],
             [
              1,
              "#f0f921"
             ]
            ],
            "type": "histogram2dcontour"
           }
          ],
          "mesh3d": [
           {
            "colorbar": {
             "outlinewidth": 0,
             "ticks": ""
            },
            "type": "mesh3d"
           }
          ],
          "parcoords": [
           {
            "line": {
             "colorbar": {
              "outlinewidth": 0,
              "ticks": ""
             }
            },
            "type": "parcoords"
           }
          ],
          "pie": [
           {
            "automargin": true,
            "type": "pie"
           }
          ],
          "scatter": [
           {
            "fillpattern": {
             "fillmode": "overlay",
             "size": 10,
             "solidity": 0.2
            },
            "type": "scatter"
           }
          ],
          "scatter3d": [
           {
            "line": {
             "colorbar": {
              "outlinewidth": 0,
              "ticks": ""
             }
            },
            "marker": {
             "colorbar": {
              "outlinewidth": 0,
              "ticks": ""
             }
            },
            "type": "scatter3d"
           }
          ],
          "scattercarpet": [
           {
            "marker": {
             "colorbar": {
              "outlinewidth": 0,
              "ticks": ""
             }
            },
            "type": "scattercarpet"
           }
          ],
          "scattergeo": [
           {
            "marker": {
             "colorbar": {
              "outlinewidth": 0,
              "ticks": ""
             }
            },
            "type": "scattergeo"
           }
          ],
          "scattergl": [
           {
            "marker": {
             "colorbar": {
              "outlinewidth": 0,
              "ticks": ""
             }
            },
            "type": "scattergl"
           }
          ],
          "scattermapbox": [
           {
            "marker": {
             "colorbar": {
              "outlinewidth": 0,
              "ticks": ""
             }
            },
            "type": "scattermapbox"
           }
          ],
          "scatterpolar": [
           {
            "marker": {
             "colorbar": {
              "outlinewidth": 0,
              "ticks": ""
             }
            },
            "type": "scatterpolar"
           }
          ],
          "scatterpolargl": [
           {
            "marker": {
             "colorbar": {
              "outlinewidth": 0,
              "ticks": ""
             }
            },
            "type": "scatterpolargl"
           }
          ],
          "scatterternary": [
           {
            "marker": {
             "colorbar": {
              "outlinewidth": 0,
              "ticks": ""
             }
            },
            "type": "scatterternary"
           }
          ],
          "surface": [
           {
            "colorbar": {
             "outlinewidth": 0,
             "ticks": ""
            },
            "colorscale": [
             [
              0,
              "#0d0887"
             ],
             [
              0.1111111111111111,
              "#46039f"
             ],
             [
              0.2222222222222222,
              "#7201a8"
             ],
             [
              0.3333333333333333,
              "#9c179e"
             ],
             [
              0.4444444444444444,
              "#bd3786"
             ],
             [
              0.5555555555555556,
              "#d8576b"
             ],
             [
              0.6666666666666666,
              "#ed7953"
             ],
             [
              0.7777777777777778,
              "#fb9f3a"
             ],
             [
              0.8888888888888888,
              "#fdca26"
             ],
             [
              1,
              "#f0f921"
             ]
            ],
            "type": "surface"
           }
          ],
          "table": [
           {
            "cells": {
             "fill": {
              "color": "#EBF0F8"
             },
             "line": {
              "color": "white"
             }
            },
            "header": {
             "fill": {
              "color": "#C8D4E3"
             },
             "line": {
              "color": "white"
             }
            },
            "type": "table"
           }
          ]
         },
         "layout": {
          "annotationdefaults": {
           "arrowcolor": "#2a3f5f",
           "arrowhead": 0,
           "arrowwidth": 1
          },
          "autotypenumbers": "strict",
          "coloraxis": {
           "colorbar": {
            "outlinewidth": 0,
            "ticks": ""
           }
          },
          "colorscale": {
           "diverging": [
            [
             0,
             "#8e0152"
            ],
            [
             0.1,
             "#c51b7d"
            ],
            [
             0.2,
             "#de77ae"
            ],
            [
             0.3,
             "#f1b6da"
            ],
            [
             0.4,
             "#fde0ef"
            ],
            [
             0.5,
             "#f7f7f7"
            ],
            [
             0.6,
             "#e6f5d0"
            ],
            [
             0.7,
             "#b8e186"
            ],
            [
             0.8,
             "#7fbc41"
            ],
            [
             0.9,
             "#4d9221"
            ],
            [
             1,
             "#276419"
            ]
           ],
           "sequential": [
            [
             0,
             "#0d0887"
            ],
            [
             0.1111111111111111,
             "#46039f"
            ],
            [
             0.2222222222222222,
             "#7201a8"
            ],
            [
             0.3333333333333333,
             "#9c179e"
            ],
            [
             0.4444444444444444,
             "#bd3786"
            ],
            [
             0.5555555555555556,
             "#d8576b"
            ],
            [
             0.6666666666666666,
             "#ed7953"
            ],
            [
             0.7777777777777778,
             "#fb9f3a"
            ],
            [
             0.8888888888888888,
             "#fdca26"
            ],
            [
             1,
             "#f0f921"
            ]
           ],
           "sequentialminus": [
            [
             0,
             "#0d0887"
            ],
            [
             0.1111111111111111,
             "#46039f"
            ],
            [
             0.2222222222222222,
             "#7201a8"
            ],
            [
             0.3333333333333333,
             "#9c179e"
            ],
            [
             0.4444444444444444,
             "#bd3786"
            ],
            [
             0.5555555555555556,
             "#d8576b"
            ],
            [
             0.6666666666666666,
             "#ed7953"
            ],
            [
             0.7777777777777778,
             "#fb9f3a"
            ],
            [
             0.8888888888888888,
             "#fdca26"
            ],
            [
             1,
             "#f0f921"
            ]
           ]
          },
          "colorway": [
           "#636efa",
           "#EF553B",
           "#00cc96",
           "#ab63fa",
           "#FFA15A",
           "#19d3f3",
           "#FF6692",
           "#B6E880",
           "#FF97FF",
           "#FECB52"
          ],
          "font": {
           "color": "#2a3f5f"
          },
          "geo": {
           "bgcolor": "white",
           "lakecolor": "white",
           "landcolor": "#E5ECF6",
           "showlakes": true,
           "showland": true,
           "subunitcolor": "white"
          },
          "hoverlabel": {
           "align": "left"
          },
          "hovermode": "closest",
          "mapbox": {
           "style": "light"
          },
          "paper_bgcolor": "white",
          "plot_bgcolor": "#E5ECF6",
          "polar": {
           "angularaxis": {
            "gridcolor": "white",
            "linecolor": "white",
            "ticks": ""
           },
           "bgcolor": "#E5ECF6",
           "radialaxis": {
            "gridcolor": "white",
            "linecolor": "white",
            "ticks": ""
           }
          },
          "scene": {
           "xaxis": {
            "backgroundcolor": "#E5ECF6",
            "gridcolor": "white",
            "gridwidth": 2,
            "linecolor": "white",
            "showbackground": true,
            "ticks": "",
            "zerolinecolor": "white"
           },
           "yaxis": {
            "backgroundcolor": "#E5ECF6",
            "gridcolor": "white",
            "gridwidth": 2,
            "linecolor": "white",
            "showbackground": true,
            "ticks": "",
            "zerolinecolor": "white"
           },
           "zaxis": {
            "backgroundcolor": "#E5ECF6",
            "gridcolor": "white",
            "gridwidth": 2,
            "linecolor": "white",
            "showbackground": true,
            "ticks": "",
            "zerolinecolor": "white"
           }
          },
          "shapedefaults": {
           "line": {
            "color": "#2a3f5f"
           }
          },
          "ternary": {
           "aaxis": {
            "gridcolor": "white",
            "linecolor": "white",
            "ticks": ""
           },
           "baxis": {
            "gridcolor": "white",
            "linecolor": "white",
            "ticks": ""
           },
           "bgcolor": "#E5ECF6",
           "caxis": {
            "gridcolor": "white",
            "linecolor": "white",
            "ticks": ""
           }
          },
          "title": {
           "x": 0.05
          },
          "xaxis": {
           "automargin": true,
           "gridcolor": "white",
           "linecolor": "white",
           "ticks": "",
           "title": {
            "standoff": 15
           },
           "zerolinecolor": "white",
           "zerolinewidth": 2
          },
          "yaxis": {
           "automargin": true,
           "gridcolor": "white",
           "linecolor": "white",
           "ticks": "",
           "title": {
            "standoff": 15
           },
           "zerolinecolor": "white",
           "zerolinewidth": 2
          }
         }
        },
        "xaxis": {
         "anchor": "y",
         "domain": [
          0,
          1
         ],
         "title": {
          "text": ""
         },
         "type": "date"
        },
        "yaxis": {
         "anchor": "x",
         "autorange": "reversed",
         "domain": [
          0,
          1
         ],
         "title": {
          "text": "블록명"
         }
        }
       }
      },
      "text/html": [
       "<div>                            <div id=\"c7496ac9-41b7-45af-a7d0-d3738679e99f\" class=\"plotly-graph-div\" style=\"height:500px; width:100%;\"></div>            <script type=\"text/javascript\">                require([\"plotly\"], function(Plotly) {                    window.PLOTLYENV=window.PLOTLYENV || {};                                    if (document.getElementById(\"c7496ac9-41b7-45af-a7d0-d3738679e99f\")) {                    Plotly.newPlot(                        \"c7496ac9-41b7-45af-a7d0-d3738679e99f\",                        [{\"alignmentgroup\":\"True\",\"base\":[\"2024-01-01\",\"2024-01-01\",\"2024-01-01\",\"2024-01-11\",\"2024-01-14\",\"2024-01-12\",\"2024-01-19\",\"2024-01-19\",\"2024-01-23\",\"2024-01-23\",\"2024-01-01\"],\"customdata\":[[18,59],[10,87],[11,68],[17,60],[13,76],[11,43],[15,65],[4,0],[4,0],[4,0],[11,91]],\"hovertemplate\":\"정반명=A<br>착수일자=%{base}<br>종료일자=%{x}<br>블록명=%{y}<br>차트텍스트=%{text}<br>표준공기=%{customdata[0]}<br>중량=%{customdata[1]}<extra></extra>\",\"legendgroup\":\"A\",\"marker\":{\"color\":\"#636efa\",\"opacity\":0.7,\"pattern\":{\"shape\":\"\"},\"line\":{\"width\":2}},\"name\":\"A\",\"offsetgroup\":\"A\",\"orientation\":\"h\",\"showlegend\":true,\"text\":[\"S6/조립중량:18ton/사이즈:(14, 15)\",\"S7/조립중량:10ton/사이즈:(13, 31)\",\"S5/조립중량:11ton/사이즈:(7, 15)\",\"S9/조립중량:17ton/사이즈:(15, 15)\",\"S11/조립중량:13ton/사이즈:(14, 14)\",\"S10/조립중량:11ton/사이즈:(8, 16)\",\"S16/조립중량:15ton/사이즈:(12, 14)\",\"S12/조립중량:4ton/사이즈:(8, 15)\",\"S18/조립중량:4ton/사이즈:(13, 16)\",\"S15/조립중량:4ton/사이즈:(13, 14)\",\"S17/조립중량:11ton/사이즈:(6, 15)\"],\"textposition\":\"auto\",\"x\":[1555200000.0,864000000.0,950400000.0,1468800000.0,1123200000.0,950400000.0,1296000000.0,345600000.0,345600000.0,345600000.0,950400000.0],\"xaxis\":\"x\",\"y\":[\"S6\",\"S7\",\"S5\",\"S9\",\"S11\",\"S10\",\"S16\",\"S12\",\"S18\",\"S15\",\"S17\"],\"yaxis\":\"y\",\"type\":\"bar\",\"opacity\":1}],                        {\"template\":{\"data\":{\"histogram2dcontour\":[{\"type\":\"histogram2dcontour\",\"colorbar\":{\"outlinewidth\":0,\"ticks\":\"\"},\"colorscale\":[[0.0,\"#0d0887\"],[0.1111111111111111,\"#46039f\"],[0.2222222222222222,\"#7201a8\"],[0.3333333333333333,\"#9c179e\"],[0.4444444444444444,\"#bd3786\"],[0.5555555555555556,\"#d8576b\"],[0.6666666666666666,\"#ed7953\"],[0.7777777777777778,\"#fb9f3a\"],[0.8888888888888888,\"#fdca26\"],[1.0,\"#f0f921\"]]}],\"choropleth\":[{\"type\":\"choropleth\",\"colorbar\":{\"outlinewidth\":0,\"ticks\":\"\"}}],\"histogram2d\":[{\"type\":\"histogram2d\",\"colorbar\":{\"outlinewidth\":0,\"ticks\":\"\"},\"colorscale\":[[0.0,\"#0d0887\"],[0.1111111111111111,\"#46039f\"],[0.2222222222222222,\"#7201a8\"],[0.3333333333333333,\"#9c179e\"],[0.4444444444444444,\"#bd3786\"],[0.5555555555555556,\"#d8576b\"],[0.6666666666666666,\"#ed7953\"],[0.7777777777777778,\"#fb9f3a\"],[0.8888888888888888,\"#fdca26\"],[1.0,\"#f0f921\"]]}],\"heatmap\":[{\"type\":\"heatmap\",\"colorbar\":{\"outlinewidth\":0,\"ticks\":\"\"},\"colorscale\":[[0.0,\"#0d0887\"],[0.1111111111111111,\"#46039f\"],[0.2222222222222222,\"#7201a8\"],[0.3333333333333333,\"#9c179e\"],[0.4444444444444444,\"#bd3786\"],[0.5555555555555556,\"#d8576b\"],[0.6666666666666666,\"#ed7953\"],[0.7777777777777778,\"#fb9f3a\"],[0.8888888888888888,\"#fdca26\"],[1.0,\"#f0f921\"]]}],\"heatmapgl\":[{\"type\":\"heatmapgl\",\"colorbar\":{\"outlinewidth\":0,\"ticks\":\"\"},\"colorscale\":[[0.0,\"#0d0887\"],[0.1111111111111111,\"#46039f\"],[0.2222222222222222,\"#7201a8\"],[0.3333333333333333,\"#9c179e\"],[0.4444444444444444,\"#bd3786\"],[0.5555555555555556,\"#d8576b\"],[0.6666666666666666,\"#ed7953\"],[0.7777777777777778,\"#fb9f3a\"],[0.8888888888888888,\"#fdca26\"],[1.0,\"#f0f921\"]]}],\"contourcarpet\":[{\"type\":\"contourcarpet\",\"colorbar\":{\"outlinewidth\":0,\"ticks\":\"\"}}],\"contour\":[{\"type\":\"contour\",\"colorbar\":{\"outlinewidth\":0,\"ticks\":\"\"},\"colorscale\":[[0.0,\"#0d0887\"],[0.1111111111111111,\"#46039f\"],[0.2222222222222222,\"#7201a8\"],[0.3333333333333333,\"#9c179e\"],[0.4444444444444444,\"#bd3786\"],[0.5555555555555556,\"#d8576b\"],[0.6666666666666666,\"#ed7953\"],[0.7777777777777778,\"#fb9f3a\"],[0.8888888888888888,\"#fdca26\"],[1.0,\"#f0f921\"]]}],\"surface\":[{\"type\":\"surface\",\"colorbar\":{\"outlinewidth\":0,\"ticks\":\"\"},\"colorscale\":[[0.0,\"#0d0887\"],[0.1111111111111111,\"#46039f\"],[0.2222222222222222,\"#7201a8\"],[0.3333333333333333,\"#9c179e\"],[0.4444444444444444,\"#bd3786\"],[0.5555555555555556,\"#d8576b\"],[0.6666666666666666,\"#ed7953\"],[0.7777777777777778,\"#fb9f3a\"],[0.8888888888888888,\"#fdca26\"],[1.0,\"#f0f921\"]]}],\"mesh3d\":[{\"type\":\"mesh3d\",\"colorbar\":{\"outlinewidth\":0,\"ticks\":\"\"}}],\"scatter\":[{\"fillpattern\":{\"fillmode\":\"overlay\",\"size\":10,\"solidity\":0.2},\"type\":\"scatter\"}],\"parcoords\":[{\"type\":\"parcoords\",\"line\":{\"colorbar\":{\"outlinewidth\":0,\"ticks\":\"\"}}}],\"scatterpolargl\":[{\"type\":\"scatterpolargl\",\"marker\":{\"colorbar\":{\"outlinewidth\":0,\"ticks\":\"\"}}}],\"bar\":[{\"error_x\":{\"color\":\"#2a3f5f\"},\"error_y\":{\"color\":\"#2a3f5f\"},\"marker\":{\"line\":{\"color\":\"#E5ECF6\",\"width\":0.5},\"pattern\":{\"fillmode\":\"overlay\",\"size\":10,\"solidity\":0.2}},\"type\":\"bar\"}],\"scattergeo\":[{\"type\":\"scattergeo\",\"marker\":{\"colorbar\":{\"outlinewidth\":0,\"ticks\":\"\"}}}],\"scatterpolar\":[{\"type\":\"scatterpolar\",\"marker\":{\"colorbar\":{\"outlinewidth\":0,\"ticks\":\"\"}}}],\"histogram\":[{\"marker\":{\"pattern\":{\"fillmode\":\"overlay\",\"size\":10,\"solidity\":0.2}},\"type\":\"histogram\"}],\"scattergl\":[{\"type\":\"scattergl\",\"marker\":{\"colorbar\":{\"outlinewidth\":0,\"ticks\":\"\"}}}],\"scatter3d\":[{\"type\":\"scatter3d\",\"line\":{\"colorbar\":{\"outlinewidth\":0,\"ticks\":\"\"}},\"marker\":{\"colorbar\":{\"outlinewidth\":0,\"ticks\":\"\"}}}],\"scattermapbox\":[{\"type\":\"scattermapbox\",\"marker\":{\"colorbar\":{\"outlinewidth\":0,\"ticks\":\"\"}}}],\"scatterternary\":[{\"type\":\"scatterternary\",\"marker\":{\"colorbar\":{\"outlinewidth\":0,\"ticks\":\"\"}}}],\"scattercarpet\":[{\"type\":\"scattercarpet\",\"marker\":{\"colorbar\":{\"outlinewidth\":0,\"ticks\":\"\"}}}],\"carpet\":[{\"aaxis\":{\"endlinecolor\":\"#2a3f5f\",\"gridcolor\":\"white\",\"linecolor\":\"white\",\"minorgridcolor\":\"white\",\"startlinecolor\":\"#2a3f5f\"},\"baxis\":{\"endlinecolor\":\"#2a3f5f\",\"gridcolor\":\"white\",\"linecolor\":\"white\",\"minorgridcolor\":\"white\",\"startlinecolor\":\"#2a3f5f\"},\"type\":\"carpet\"}],\"table\":[{\"cells\":{\"fill\":{\"color\":\"#EBF0F8\"},\"line\":{\"color\":\"white\"}},\"header\":{\"fill\":{\"color\":\"#C8D4E3\"},\"line\":{\"color\":\"white\"}},\"type\":\"table\"}],\"barpolar\":[{\"marker\":{\"line\":{\"color\":\"#E5ECF6\",\"width\":0.5},\"pattern\":{\"fillmode\":\"overlay\",\"size\":10,\"solidity\":0.2}},\"type\":\"barpolar\"}],\"pie\":[{\"automargin\":true,\"type\":\"pie\"}]},\"layout\":{\"autotypenumbers\":\"strict\",\"colorway\":[\"#636efa\",\"#EF553B\",\"#00cc96\",\"#ab63fa\",\"#FFA15A\",\"#19d3f3\",\"#FF6692\",\"#B6E880\",\"#FF97FF\",\"#FECB52\"],\"font\":{\"color\":\"#2a3f5f\"},\"hovermode\":\"closest\",\"hoverlabel\":{\"align\":\"left\"},\"paper_bgcolor\":\"white\",\"plot_bgcolor\":\"#E5ECF6\",\"polar\":{\"bgcolor\":\"#E5ECF6\",\"angularaxis\":{\"gridcolor\":\"white\",\"linecolor\":\"white\",\"ticks\":\"\"},\"radialaxis\":{\"gridcolor\":\"white\",\"linecolor\":\"white\",\"ticks\":\"\"}},\"ternary\":{\"bgcolor\":\"#E5ECF6\",\"aaxis\":{\"gridcolor\":\"white\",\"linecolor\":\"white\",\"ticks\":\"\"},\"baxis\":{\"gridcolor\":\"white\",\"linecolor\":\"white\",\"ticks\":\"\"},\"caxis\":{\"gridcolor\":\"white\",\"linecolor\":\"white\",\"ticks\":\"\"}},\"coloraxis\":{\"colorbar\":{\"outlinewidth\":0,\"ticks\":\"\"}},\"colorscale\":{\"sequential\":[[0.0,\"#0d0887\"],[0.1111111111111111,\"#46039f\"],[0.2222222222222222,\"#7201a8\"],[0.3333333333333333,\"#9c179e\"],[0.4444444444444444,\"#bd3786\"],[0.5555555555555556,\"#d8576b\"],[0.6666666666666666,\"#ed7953\"],[0.7777777777777778,\"#fb9f3a\"],[0.8888888888888888,\"#fdca26\"],[1.0,\"#f0f921\"]],\"sequentialminus\":[[0.0,\"#0d0887\"],[0.1111111111111111,\"#46039f\"],[0.2222222222222222,\"#7201a8\"],[0.3333333333333333,\"#9c179e\"],[0.4444444444444444,\"#bd3786\"],[0.5555555555555556,\"#d8576b\"],[0.6666666666666666,\"#ed7953\"],[0.7777777777777778,\"#fb9f3a\"],[0.8888888888888888,\"#fdca26\"],[1.0,\"#f0f921\"]],\"diverging\":[[0,\"#8e0152\"],[0.1,\"#c51b7d\"],[0.2,\"#de77ae\"],[0.3,\"#f1b6da\"],[0.4,\"#fde0ef\"],[0.5,\"#f7f7f7\"],[0.6,\"#e6f5d0\"],[0.7,\"#b8e186\"],[0.8,\"#7fbc41\"],[0.9,\"#4d9221\"],[1,\"#276419\"]]},\"xaxis\":{\"gridcolor\":\"white\",\"linecolor\":\"white\",\"ticks\":\"\",\"title\":{\"standoff\":15},\"zerolinecolor\":\"white\",\"automargin\":true,\"zerolinewidth\":2},\"yaxis\":{\"gridcolor\":\"white\",\"linecolor\":\"white\",\"ticks\":\"\",\"title\":{\"standoff\":15},\"zerolinecolor\":\"white\",\"automargin\":true,\"zerolinewidth\":2},\"scene\":{\"xaxis\":{\"backgroundcolor\":\"#E5ECF6\",\"gridcolor\":\"white\",\"linecolor\":\"white\",\"showbackground\":true,\"ticks\":\"\",\"zerolinecolor\":\"white\",\"gridwidth\":2},\"yaxis\":{\"backgroundcolor\":\"#E5ECF6\",\"gridcolor\":\"white\",\"linecolor\":\"white\",\"showbackground\":true,\"ticks\":\"\",\"zerolinecolor\":\"white\",\"gridwidth\":2},\"zaxis\":{\"backgroundcolor\":\"#E5ECF6\",\"gridcolor\":\"white\",\"linecolor\":\"white\",\"showbackground\":true,\"ticks\":\"\",\"zerolinecolor\":\"white\",\"gridwidth\":2}},\"shapedefaults\":{\"line\":{\"color\":\"#2a3f5f\"}},\"annotationdefaults\":{\"arrowcolor\":\"#2a3f5f\",\"arrowhead\":0,\"arrowwidth\":1},\"geo\":{\"bgcolor\":\"white\",\"landcolor\":\"#E5ECF6\",\"subunitcolor\":\"white\",\"showland\":true,\"showlakes\":true,\"lakecolor\":\"white\"},\"title\":{\"x\":0.05},\"mapbox\":{\"style\":\"light\"}}},\"xaxis\":{\"anchor\":\"y\",\"domain\":[0.0,1.0],\"type\":\"date\",\"title\":{\"text\":\"\"}},\"yaxis\":{\"anchor\":\"x\",\"domain\":[0.0,1.0],\"title\":{\"text\":\"블록명\"},\"autorange\":\"reversed\"},\"legend\":{\"title\":{\"text\":\"정반명\"},\"tracegroupgap\":0},\"margin\":{\"t\":60},\"barmode\":\"overlay\",\"hoverlabel\":{\"bgcolor\":\"#DAEEED\"},\"font\":{\"family\":\"Courier New, monospace\",\"size\":12,\"color\":\"RebeccaPurple\"},\"bargap\":0.2,\"height\":500},                        {\"responsive\": true}                    ).then(function(){\n",
       "                            \n",
       "var gd = document.getElementById('c7496ac9-41b7-45af-a7d0-d3738679e99f');\n",
       "var x = new MutationObserver(function (mutations, observer) {{\n",
       "        var display = window.getComputedStyle(gd).display;\n",
       "        if (!display || display === 'none') {{\n",
       "            console.log([gd, 'removed!']);\n",
       "            Plotly.purge(gd);\n",
       "            observer.disconnect();\n",
       "        }}\n",
       "}});\n",
       "\n",
       "// Listen for the removal of the full notebook cells\n",
       "var notebookContainer = gd.closest('#notebook-container');\n",
       "if (notebookContainer) {{\n",
       "    x.observe(notebookContainer, {childList: true});\n",
       "}}\n",
       "\n",
       "// Listen for the clearing of the current output cell\n",
       "var outputEl = gd.closest('.output');\n",
       "if (outputEl) {{\n",
       "    x.observe(outputEl, {childList: true});\n",
       "}}\n",
       "\n",
       "                        })                };                });            </script>        </div>"
      ]
     },
     "metadata": {},
     "output_type": "display_data"
    }
   ],
   "source": [
    "draw_gant(merged_df)"
   ]
  },
  {
   "cell_type": "markdown",
   "id": "82d10c55",
   "metadata": {},
   "source": [
    "# 결과정리 - 레이아웃 달력"
   ]
  },
  {
   "cell_type": "code",
   "execution_count": 604,
   "id": "826c3383",
   "metadata": {},
   "outputs": [],
   "source": [
    "def 정반배치레이아웃(정반명, 정반데이터, 조회날짜, 블록명달력, 블록사이즈달력):\n",
    "    \n",
    "    정반사이즈 = 정반데이터[정반데이터[\"정반명\"]==정반명][\"사이즈\"].values[0]\n",
    "    block_names = 블록명달력.at[조회날짜, 정반명]\n",
    "    block_sizes = 블록사이즈달력.at[조회날짜, 정반명]\n",
    "        \n",
    "    surface, surface_width, surface_height = 정반세팅(정반사이즈)\n",
    "    배치결과 = fit_blocks(surface, surface_width, surface_height, block_sizes, block_names)\n",
    "    배치레이아웃 = 배치결과[0]\n",
    "    draw1(배치레이아웃, block_names)"
   ]
  },
  {
   "cell_type": "code",
   "execution_count": 605,
   "id": "959121d9",
   "metadata": {
    "scrolled": true
   },
   "outputs": [
    {
     "name": "stdout",
     "output_type": "stream",
     "text": [
      "*** 정반명: A, 조회날짜: 2024-01-01 00:00:00\n"
     ]
    },
    {
     "data": {
      "image/png": "[encoded data removed]",
      "text/plain": [
       "<Figure size 1800x720 with 1 Axes>"
      ]
     },
     "metadata": {},
     "output_type": "display_data"
    },
    {
     "name": "stdout",
     "output_type": "stream",
     "text": [
      "*** 정반명: A, 조회날짜: 2024-01-02 00:00:00\n"
     ]
    },
    {
     "data": {
      "image/png": "[encoded data removed]",
      "text/plain": [
       "<Figure size 1800x720 with 1 Axes>"
      ]
     },
     "metadata": {},
     "output_type": "display_data"
    },
    {
     "name": "stdout",
     "output_type": "stream",
     "text": [
      "*** 정반명: A, 조회날짜: 2024-01-03 00:00:00\n"
     ]
    },
    {
     "data": {
      "image/png": "[encoded data removed]",
      "text/plain": [
       "<Figure size 1800x720 with 1 Axes>"
      ]
     },
     "metadata": {},
     "output_type": "display_data"
    },
    {
     "name": "stdout",
     "output_type": "stream",
     "text": [
      "*** 정반명: A, 조회날짜: 2024-01-04 00:00:00\n"
     ]
    },
    {
     "data": {
      "image/png": "[encoded data removed]",
      "text/plain": [
       "<Figure size 1800x720 with 1 Axes>"
      ]
     },
     "metadata": {},
     "output_type": "display_data"
    },
    {
     "name": "stdout",
     "output_type": "stream",
     "text": [
      "*** 정반명: A, 조회날짜: 2024-01-05 00:00:00\n"
     ]
    },
    {
     "data": {
      "image/png": "[encoded data removed]",
      "text/plain": [
       "<Figure size 1800x720 with 1 Axes>"
      ]
     },
     "metadata": {},
     "output_type": "display_data"
    }
   ],
   "source": [
    "for 조회날짜 in 면적달력.index[:5]:\n",
    "    for 정반명 in 면적달력.columns:\n",
    "        print(f\"*** 정반명: {정반명}, 조회날짜: {조회날짜}\")\n",
    "        정반배치레이아웃(정반명, 정반데이터, 조회날짜, 블록명달력, 사이즈달력)"
   ]
  },
  {
   "cell_type": "markdown",
   "id": "d1772927",
   "metadata": {},
   "source": [
    "# 가중치 변경 시뮬레이션 (GidSearchCV 방식)"
   ]
  },
  {
   "cell_type": "code",
   "execution_count": 606,
   "id": "4ecc48eb",
   "metadata": {
    "scrolled": true
   },
   "outputs": [
    {
     "data": {
      "text/plain": [
       "((14, 13), (1, 7))"
      ]
     },
     "execution_count": 606,
     "metadata": {},
     "output_type": "execute_result"
    },
    {
     "data": {
      "application/vnd.jupyter.widget-view+json": {
       "model_id": "c178b7258b934cc0b0e955883b07fc67",
       "version_major": 2,
       "version_minor": 0
      },
      "text/plain": [
       "0it [00:00, ?it/s]"
      ]
     },
     "metadata": {},
     "output_type": "display_data"
    },
    {
     "data": {
      "application/vnd.jupyter.widget-view+json": {
       "model_id": "794926d64796498f86484e875f2b3897",
       "version_major": 2,
       "version_minor": 0
      },
      "text/plain": [
       "  0%|          | 0/14 [00:00<?, ?it/s]"
      ]
     },
     "metadata": {},
     "output_type": "display_data"
    },
    {
     "name": "stdout",
     "output_type": "stream",
     "text": [
      "*** 검토대상블록: S6, 사이즈: (14, 15), 표준공기: 18, 최소착수요구일:2024-01-01\n",
      "*** 중량조건적합정반들: ['A']\n",
      "\n",
      ">>> 제1차 레이아웃 적합도 검토\n",
      "*** 최선조기착수일후보: {'A': Timestamp('2024-01-01 00:00:00', freq='D')}\n",
      ">>> 최소요구납기충족리스트: [('A', Timestamp('2024-01-01 00:00:00', freq='D'))]\n",
      "*** 랜덤선택 최선정반명:A, 최선조기착수일:2024-01-01\n",
      "*** 레이아웃 적합도리스트 체크: 적합\n",
      "*** 정상배치 완료\n",
      "========================================================================================================================\n",
      "\n",
      "*** 검토대상블록: S7, 사이즈: (13, 31), 표준공기: 10, 최소착수요구일:2024-01-02\n",
      "*** 중량조건적합정반들: ['A']\n",
      "\n",
      ">>> 제1차 레이아웃 적합도 검토\n",
      "*** 최선조기착수일후보: {'A': Timestamp('2024-01-01 00:00:00', freq='D')}\n",
      ">>> 최소요구납기충족리스트: [('A', Timestamp('2024-01-01 00:00:00', freq='D'))]\n",
      "*** 랜덤선택 최선정반명:A, 최선조기착수일:2024-01-01\n",
      "*** 레이아웃 적합도리스트 체크: 적합\n",
      "*** 정상배치 완료\n",
      "========================================================================================================================\n",
      "\n",
      "*** 검토대상블록: S8, 사이즈: (15, 27), 표준공기: 11, 최소착수요구일:2024-01-04\n",
      "*** 중량조건적합정반들: ['A']\n",
      "\n",
      ">>> 제1차 레이아웃 적합도 검토\n",
      "*** 최선조기착수일후보: {'A': Timestamp('2024-01-01 00:00:00', freq='D')}\n",
      ">>> 최소요구납기충족리스트: [('A', Timestamp('2024-01-01 00:00:00', freq='D'))]\n",
      "*** 랜덤선택 최선정반명:A, 최선조기착수일:2024-01-01\n",
      "*** 레이아웃 적합도리스트 체크: 부적합\n",
      "\n",
      ">>> 제2차 레이아웃 적합도 검토\n",
      "*** 최선조기착수일후보: {'A': Timestamp('2024-01-03 00:00:00', freq='D')}\n",
      ">>> 최소요구납기충족리스트: [('A', Timestamp('2024-01-03 00:00:00', freq='D'))]\n",
      "*** 랜덤선택 최선정반명:A, 최선조기착수일:2024-01-03\n",
      "*** 레이아웃 적합도리스트 체크: 부적합\n",
      "\n",
      ">>> 제3차 레이아웃 적합도 검토\n",
      "*** 최선조기착수일후보: {'A': Timestamp('2024-01-05 00:00:00', freq='D')}\n",
      ">>> 최소요구납기충족리스트: []\n",
      ">>> 최선조기착수 후보날짜가 없습니다.\n",
      "========================================================================================================================\n",
      "\n",
      "*** 검토대상블록: S5, 사이즈: (7, 15), 표준공기: 11, 최소착수요구일:2024-01-05\n",
      "*** 중량조건적합정반들: ['A']\n",
      "\n",
      ">>> 제1차 레이아웃 적합도 검토\n",
      "*** 최선조기착수일후보: {'A': Timestamp('2024-01-01 00:00:00', freq='D')}\n",
      ">>> 최소요구납기충족리스트: [('A', Timestamp('2024-01-01 00:00:00', freq='D'))]\n",
      "*** 랜덤선택 최선정반명:A, 최선조기착수일:2024-01-01\n",
      "*** 레이아웃 적합도리스트 체크: 적합\n",
      "*** 정상배치 완료\n",
      "========================================================================================================================\n",
      "\n",
      "*** 검토대상블록: S9, 사이즈: (15, 15), 표준공기: 17, 최소착수요구일:2024-01-14\n",
      "*** 중량조건적합정반들: ['A']\n",
      "\n",
      ">>> 제1차 레이아웃 적합도 검토\n",
      "*** 최선조기착수일후보: {'A': Timestamp('2024-01-01 00:00:00', freq='D')}\n",
      ">>> 최소요구납기충족리스트: [('A', Timestamp('2024-01-01 00:00:00', freq='D'))]\n",
      "*** 랜덤선택 최선정반명:A, 최선조기착수일:2024-01-01\n",
      "*** 레이아웃 적합도리스트 체크: 부적합\n",
      "\n",
      ">>> 제2차 레이아웃 적합도 검토\n",
      "*** 최선조기착수일후보: {'A': Timestamp('2024-01-04 00:00:00', freq='D')}\n",
      ">>> 최소요구납기충족리스트: [('A', Timestamp('2024-01-04 00:00:00', freq='D'))]\n",
      "*** 랜덤선택 최선정반명:A, 최선조기착수일:2024-01-04\n",
      "*** 레이아웃 적합도리스트 체크: 부적합\n",
      "\n",
      ">>> 제3차 레이아웃 적합도 검토\n",
      "*** 최선조기착수일후보: {'A': Timestamp('2024-01-08 00:00:00', freq='D')}\n",
      ">>> 최소요구납기충족리스트: [('A', Timestamp('2024-01-08 00:00:00', freq='D'))]\n",
      "*** 랜덤선택 최선정반명:A, 최선조기착수일:2024-01-08\n",
      "*** 레이아웃 적합도리스트 체크: 부적합\n",
      "\n",
      ">>> 제4차 레이아웃 적합도 검토\n",
      "*** 최선조기착수일후보: {'A': Timestamp('2024-01-11 00:00:00', freq='D')}\n",
      ">>> 최소요구납기충족리스트: [('A', Timestamp('2024-01-11 00:00:00', freq='D'))]\n",
      "*** 랜덤선택 최선정반명:A, 최선조기착수일:2024-01-11\n",
      "*** 레이아웃 적합도리스트 체크: 적합\n",
      "*** 정상배치 완료\n",
      "========================================================================================================================\n",
      "\n",
      "*** 검토대상블록: S13, 사이즈: (14, 26), 표준공기: 9, 최소착수요구일:2024-01-08\n",
      "*** 중량조건적합정반들: ['A']\n",
      "\n",
      ">>> 제1차 레이아웃 적합도 검토\n",
      "*** 최선조기착수일후보: {'A': Timestamp('2024-01-01 00:00:00', freq='D')}\n",
      ">>> 최소요구납기충족리스트: [('A', Timestamp('2024-01-01 00:00:00', freq='D'))]\n",
      "*** 랜덤선택 최선정반명:A, 최선조기착수일:2024-01-01\n",
      "*** 레이아웃 적합도리스트 체크: 부적합\n",
      "\n",
      ">>> 제2차 레이아웃 적합도 검토\n",
      "*** 최선조기착수일후보: {'A': Timestamp('2024-01-03 00:00:00', freq='D')}\n",
      ">>> 최소요구납기충족리스트: [('A', Timestamp('2024-01-03 00:00:00', freq='D'))]\n",
      "*** 랜덤선택 최선정반명:A, 최선조기착수일:2024-01-03\n",
      "*** 레이아웃 적합도리스트 체크: 부적합\n",
      "\n",
      ">>> 제3차 레이아웃 적합도 검토\n",
      "*** 최선조기착수일후보: {'A': Timestamp('2024-01-05 00:00:00', freq='D')}\n",
      ">>> 최소요구납기충족리스트: [('A', Timestamp('2024-01-05 00:00:00', freq='D'))]\n",
      "*** 랜덤선택 최선정반명:A, 최선조기착수일:2024-01-05\n",
      "*** 레이아웃 적합도리스트 체크: 부적합\n",
      "\n",
      ">>> 제4차 레이아웃 적합도 검토\n",
      "*** 최선조기착수일후보: {'A': Timestamp('2024-01-06 00:00:00', freq='D')}\n",
      ">>> 최소요구납기충족리스트: [('A', Timestamp('2024-01-06 00:00:00', freq='D'))]\n",
      "*** 랜덤선택 최선정반명:A, 최선조기착수일:2024-01-06\n",
      "*** 레이아웃 적합도리스트 체크: 부적합\n",
      "\n",
      ">>> 제5차 레이아웃 적합도 검토\n",
      "*** 최선조기착수일후보: {'A': Timestamp('2024-01-08 00:00:00', freq='D')}\n",
      ">>> 최소요구납기충족리스트: [('A', Timestamp('2024-01-08 00:00:00', freq='D'))]\n",
      "*** 랜덤선택 최선정반명:A, 최선조기착수일:2024-01-08\n",
      "*** 레이아웃 적합도리스트 체크: 부적합\n",
      "\n",
      ">>> 제6차 레이아웃 적합도 검토\n",
      "*** 최선조기착수일후보: {'A': Timestamp('2024-01-10 00:00:00', freq='D')}\n",
      ">>> 최소요구납기충족리스트: []\n",
      ">>> 최선조기착수 후보날짜가 없습니다.\n",
      "========================================================================================================================\n",
      "\n",
      "*** 검토대상블록: S11, 사이즈: (14, 14), 표준공기: 13, 최소착수요구일:2024-01-18\n",
      "*** 중량조건적합정반들: ['A']\n",
      "\n",
      ">>> 제1차 레이아웃 적합도 검토\n",
      "*** 최선조기착수일후보: {'A': Timestamp('2024-01-01 00:00:00', freq='D')}\n",
      ">>> 최소요구납기충족리스트: [('A', Timestamp('2024-01-01 00:00:00', freq='D'))]\n",
      "*** 랜덤선택 최선정반명:A, 최선조기착수일:2024-01-01\n",
      "*** 레이아웃 적합도리스트 체크: 부적합\n",
      "\n",
      ">>> 제2차 레이아웃 적합도 검토\n",
      "*** 최선조기착수일후보: {'A': Timestamp('2024-01-04 00:00:00', freq='D')}\n",
      ">>> 최소요구납기충족리스트: [('A', Timestamp('2024-01-04 00:00:00', freq='D'))]\n",
      "*** 랜덤선택 최선정반명:A, 최선조기착수일:2024-01-04\n",
      "*** 레이아웃 적합도리스트 체크: 부적합\n",
      "\n",
      ">>> 제3차 레이아웃 적합도 검토\n",
      "*** 최선조기착수일후보: {'A': Timestamp('2024-01-06 00:00:00', freq='D')}\n",
      ">>> 최소요구납기충족리스트: [('A', Timestamp('2024-01-06 00:00:00', freq='D'))]\n",
      "*** 랜덤선택 최선정반명:A, 최선조기착수일:2024-01-06\n",
      "*** 레이아웃 적합도리스트 체크: 부적합\n",
      "\n",
      ">>> 제4차 레이아웃 적합도 검토\n",
      "*** 최선조기착수일후보: {'A': Timestamp('2024-01-09 00:00:00', freq='D')}\n",
      ">>> 최소요구납기충족리스트: [('A', Timestamp('2024-01-09 00:00:00', freq='D'))]\n",
      "*** 랜덤선택 최선정반명:A, 최선조기착수일:2024-01-09\n",
      "*** 레이아웃 적합도리스트 체크: 부적합\n",
      "\n",
      ">>> 제5차 레이아웃 적합도 검토\n",
      "*** 최선조기착수일후보: {'A': Timestamp('2024-01-11 00:00:00', freq='D')}\n",
      ">>> 최소요구납기충족리스트: [('A', Timestamp('2024-01-11 00:00:00', freq='D'))]\n",
      "*** 랜덤선택 최선정반명:A, 최선조기착수일:2024-01-11\n",
      "*** 레이아웃 적합도리스트 체크: 부적합\n",
      "\n",
      ">>> 제6차 레이아웃 적합도 검토\n",
      "*** 최선조기착수일후보: {'A': Timestamp('2024-01-14 00:00:00', freq='D')}\n",
      ">>> 최소요구납기충족리스트: [('A', Timestamp('2024-01-14 00:00:00', freq='D'))]\n",
      "*** 랜덤선택 최선정반명:A, 최선조기착수일:2024-01-14\n",
      "*** 레이아웃 적합도리스트 체크: 적합\n",
      "*** 정상배치 완료\n",
      "========================================================================================================================\n",
      "\n",
      "*** 검토대상블록: S10, 사이즈: (8, 16), 표준공기: 11, 최소착수요구일:2024-01-18\n",
      "*** 중량조건적합정반들: ['A']\n",
      "\n",
      ">>> 제1차 레이아웃 적합도 검토\n",
      "*** 최선조기착수일후보: {'A': Timestamp('2024-01-01 00:00:00', freq='D')}\n",
      ">>> 최소요구납기충족리스트: [('A', Timestamp('2024-01-01 00:00:00', freq='D'))]\n",
      "*** 랜덤선택 최선정반명:A, 최선조기착수일:2024-01-01\n",
      "*** 레이아웃 적합도리스트 체크: 부적합\n",
      "\n",
      ">>> 제2차 레이아웃 적합도 검토\n",
      "*** 최선조기착수일후보: {'A': Timestamp('2024-01-03 00:00:00', freq='D')}\n",
      ">>> 최소요구납기충족리스트: [('A', Timestamp('2024-01-03 00:00:00', freq='D'))]\n",
      "*** 랜덤선택 최선정반명:A, 최선조기착수일:2024-01-03\n",
      "*** 레이아웃 적합도리스트 체크: 부적합\n",
      "\n",
      ">>> 제3차 레이아웃 적합도 검토\n",
      "*** 최선조기착수일후보: {'A': Timestamp('2024-01-05 00:00:00', freq='D')}\n",
      ">>> 최소요구납기충족리스트: [('A', Timestamp('2024-01-05 00:00:00', freq='D'))]\n",
      "*** 랜덤선택 최선정반명:A, 최선조기착수일:2024-01-05\n",
      "*** 레이아웃 적합도리스트 체크: 부적합\n",
      "\n",
      ">>> 제4차 레이아웃 적합도 검토\n",
      "*** 최선조기착수일후보: {'A': Timestamp('2024-01-08 00:00:00', freq='D')}\n",
      ">>> 최소요구납기충족리스트: [('A', Timestamp('2024-01-08 00:00:00', freq='D'))]\n",
      "*** 랜덤선택 최선정반명:A, 최선조기착수일:2024-01-08\n",
      "*** 레이아웃 적합도리스트 체크: 부적합\n",
      "\n",
      ">>> 제5차 레이아웃 적합도 검토\n",
      "*** 최선조기착수일후보: {'A': Timestamp('2024-01-10 00:00:00', freq='D')}\n",
      ">>> 최소요구납기충족리스트: [('A', Timestamp('2024-01-10 00:00:00', freq='D'))]\n",
      "*** 랜덤선택 최선정반명:A, 최선조기착수일:2024-01-10\n",
      "*** 레이아웃 적합도리스트 체크: 부적합\n",
      "\n",
      ">>> 제6차 레이아웃 적합도 검토\n",
      "*** 최선조기착수일후보: {'A': Timestamp('2024-01-12 00:00:00', freq='D')}\n",
      ">>> 최소요구납기충족리스트: [('A', Timestamp('2024-01-12 00:00:00', freq='D'))]\n",
      "*** 랜덤선택 최선정반명:A, 최선조기착수일:2024-01-12\n",
      "*** 레이아웃 적합도리스트 체크: 적합\n",
      "*** 정상배치 완료\n",
      "========================================================================================================================\n",
      "\n",
      "*** 검토대상블록: S16, 사이즈: (12, 14), 표준공기: 15, 최소착수요구일:2024-01-24\n",
      "*** 중량조건적합정반들: ['A']\n",
      "\n",
      ">>> 제1차 레이아웃 적합도 검토\n",
      "*** 최선조기착수일후보: {'A': Timestamp('2024-01-01 00:00:00', freq='D')}\n",
      ">>> 최소요구납기충족리스트: [('A', Timestamp('2024-01-01 00:00:00', freq='D'))]\n",
      "*** 랜덤선택 최선정반명:A, 최선조기착수일:2024-01-01\n",
      "*** 레이아웃 적합도리스트 체크: 부적합\n",
      "\n",
      ">>> 제2차 레이아웃 적합도 검토\n",
      "*** 최선조기착수일후보: {'A': Timestamp('2024-01-04 00:00:00', freq='D')}\n",
      ">>> 최소요구납기충족리스트: [('A', Timestamp('2024-01-04 00:00:00', freq='D'))]\n",
      "*** 랜덤선택 최선정반명:A, 최선조기착수일:2024-01-04\n",
      "*** 레이아웃 적합도리스트 체크: 부적합\n",
      "\n",
      ">>> 제3차 레이아웃 적합도 검토\n",
      "*** 최선조기착수일후보: {'A': Timestamp('2024-01-07 00:00:00', freq='D')}\n",
      ">>> 최소요구납기충족리스트: [('A', Timestamp('2024-01-07 00:00:00', freq='D'))]\n",
      "*** 랜덤선택 최선정반명:A, 최선조기착수일:2024-01-07\n"
     ]
    },
    {
     "name": "stdout",
     "output_type": "stream",
     "text": [
      "*** 레이아웃 적합도리스트 체크: 부적합\n",
      "\n",
      ">>> 제4차 레이아웃 적합도 검토\n",
      "*** 최선조기착수일후보: {'A': Timestamp('2024-01-10 00:00:00', freq='D')}\n",
      ">>> 최소요구납기충족리스트: [('A', Timestamp('2024-01-10 00:00:00', freq='D'))]\n",
      "*** 랜덤선택 최선정반명:A, 최선조기착수일:2024-01-10\n",
      "*** 레이아웃 적합도리스트 체크: 부적합\n",
      "\n",
      ">>> 제5차 레이아웃 적합도 검토\n",
      "*** 최선조기착수일후보: {'A': Timestamp('2024-01-13 00:00:00', freq='D')}\n",
      ">>> 최소요구납기충족리스트: [('A', Timestamp('2024-01-13 00:00:00', freq='D'))]\n",
      "*** 랜덤선택 최선정반명:A, 최선조기착수일:2024-01-13\n",
      "*** 레이아웃 적합도리스트 체크: 부적합\n",
      "\n",
      ">>> 제6차 레이아웃 적합도 검토\n",
      "*** 최선조기착수일후보: {'A': Timestamp('2024-01-16 00:00:00', freq='D')}\n",
      ">>> 최소요구납기충족리스트: [('A', Timestamp('2024-01-16 00:00:00', freq='D'))]\n",
      "*** 랜덤선택 최선정반명:A, 최선조기착수일:2024-01-16\n",
      "*** 레이아웃 적합도리스트 체크: 부적합\n",
      "\n",
      ">>> 제7차 레이아웃 적합도 검토\n",
      "*** 최선조기착수일후보: {'A': Timestamp('2024-01-19 00:00:00', freq='D')}\n",
      ">>> 최소요구납기충족리스트: [('A', Timestamp('2024-01-19 00:00:00', freq='D'))]\n",
      "*** 랜덤선택 최선정반명:A, 최선조기착수일:2024-01-19\n",
      "*** 레이아웃 적합도리스트 체크: 적합\n",
      "*** 정상배치 완료\n",
      "========================================================================================================================\n",
      "\n",
      "*** 검토대상블록: S12, 사이즈: (8, 15), 표준공기: 4, 최소착수요구일:2024-01-19\n",
      "*** 중량조건적합정반들: ['A']\n",
      "\n",
      ">>> 제1차 레이아웃 적합도 검토\n",
      "*** 최선조기착수일후보: {'A': Timestamp('2024-01-01 00:00:00', freq='D')}\n",
      ">>> 최소요구납기충족리스트: [('A', Timestamp('2024-01-01 00:00:00', freq='D'))]\n",
      "*** 랜덤선택 최선정반명:A, 최선조기착수일:2024-01-01\n",
      "*** 레이아웃 적합도리스트 체크: 부적합\n",
      "\n",
      ">>> 제2차 레이아웃 적합도 검토\n",
      "*** 최선조기착수일후보: {'A': Timestamp('2024-01-02 00:00:00', freq='D')}\n",
      ">>> 최소요구납기충족리스트: [('A', Timestamp('2024-01-02 00:00:00', freq='D'))]\n",
      "*** 랜덤선택 최선정반명:A, 최선조기착수일:2024-01-02\n",
      "*** 레이아웃 적합도리스트 체크: 부적합\n",
      "\n",
      ">>> 제3차 레이아웃 적합도 검토\n",
      "*** 최선조기착수일후보: {'A': Timestamp('2024-01-03 00:00:00', freq='D')}\n",
      ">>> 최소요구납기충족리스트: [('A', Timestamp('2024-01-03 00:00:00', freq='D'))]\n",
      "*** 랜덤선택 최선정반명:A, 최선조기착수일:2024-01-03\n",
      "*** 레이아웃 적합도리스트 체크: 부적합\n",
      "\n",
      ">>> 제4차 레이아웃 적합도 검토\n",
      "*** 최선조기착수일후보: {'A': Timestamp('2024-01-03 00:00:00', freq='D')}\n",
      ">>> 최소요구납기충족리스트: [('A', Timestamp('2024-01-03 00:00:00', freq='D'))]\n",
      "*** 랜덤선택 최선정반명:A, 최선조기착수일:2024-01-03\n",
      "*** 레이아웃 적합도리스트 체크: 부적합\n",
      "\n",
      ">>> 제5차 레이아웃 적합도 검토\n",
      "*** 최선조기착수일후보: {'A': Timestamp('2024-01-04 00:00:00', freq='D')}\n",
      ">>> 최소요구납기충족리스트: [('A', Timestamp('2024-01-04 00:00:00', freq='D'))]\n",
      "*** 랜덤선택 최선정반명:A, 최선조기착수일:2024-01-04\n",
      "*** 레이아웃 적합도리스트 체크: 부적합\n",
      "\n",
      ">>> 제6차 레이아웃 적합도 검토\n",
      "*** 최선조기착수일후보: {'A': Timestamp('2024-01-05 00:00:00', freq='D')}\n",
      ">>> 최소요구납기충족리스트: [('A', Timestamp('2024-01-05 00:00:00', freq='D'))]\n",
      "*** 랜덤선택 최선정반명:A, 최선조기착수일:2024-01-05\n",
      "*** 레이아웃 적합도리스트 체크: 부적합\n",
      "\n",
      ">>> 제7차 레이아웃 적합도 검토\n",
      "*** 최선조기착수일후보: {'A': Timestamp('2024-01-06 00:00:00', freq='D')}\n",
      ">>> 최소요구납기충족리스트: [('A', Timestamp('2024-01-06 00:00:00', freq='D'))]\n",
      "*** 랜덤선택 최선정반명:A, 최선조기착수일:2024-01-06\n",
      "*** 레이아웃 적합도리스트 체크: 부적합\n",
      "\n",
      ">>> 제8차 레이아웃 적합도 검토\n",
      "*** 최선조기착수일후보: {'A': Timestamp('2024-01-07 00:00:00', freq='D')}\n",
      ">>> 최소요구납기충족리스트: [('A', Timestamp('2024-01-07 00:00:00', freq='D'))]\n",
      "*** 랜덤선택 최선정반명:A, 최선조기착수일:2024-01-07\n",
      "*** 레이아웃 적합도리스트 체크: 부적합\n",
      "\n",
      ">>> 제9차 레이아웃 적합도 검토\n",
      "*** 최선조기착수일후보: {'A': Timestamp('2024-01-07 00:00:00', freq='D')}\n",
      ">>> 최소요구납기충족리스트: [('A', Timestamp('2024-01-07 00:00:00', freq='D'))]\n",
      "*** 랜덤선택 최선정반명:A, 최선조기착수일:2024-01-07\n",
      "*** 레이아웃 적합도리스트 체크: 부적합\n",
      "\n",
      ">>> 제10차 레이아웃 적합도 검토\n",
      "*** 최선조기착수일후보: {'A': Timestamp('2024-01-08 00:00:00', freq='D')}\n",
      ">>> 최소요구납기충족리스트: [('A', Timestamp('2024-01-08 00:00:00', freq='D'))]\n",
      "*** 랜덤선택 최선정반명:A, 최선조기착수일:2024-01-08\n",
      "*** 레이아웃 적합도리스트 체크: 부적합\n",
      "\n",
      ">>> 제11차 레이아웃 적합도 검토\n",
      "*** 최선조기착수일후보: {'A': Timestamp('2024-01-09 00:00:00', freq='D')}\n",
      ">>> 최소요구납기충족리스트: [('A', Timestamp('2024-01-09 00:00:00', freq='D'))]\n",
      "*** 랜덤선택 최선정반명:A, 최선조기착수일:2024-01-09\n",
      "*** 레이아웃 적합도리스트 체크: 부적합\n",
      "\n",
      ">>> 제12차 레이아웃 적합도 검토\n",
      "*** 최선조기착수일후보: {'A': Timestamp('2024-01-10 00:00:00', freq='D')}\n",
      ">>> 최소요구납기충족리스트: [('A', Timestamp('2024-01-10 00:00:00', freq='D'))]\n",
      "*** 랜덤선택 최선정반명:A, 최선조기착수일:2024-01-10\n",
      "*** 레이아웃 적합도리스트 체크: 부적합\n",
      "\n",
      ">>> 제13차 레이아웃 적합도 검토\n",
      "*** 최선조기착수일후보: {'A': Timestamp('2024-01-11 00:00:00', freq='D')}\n",
      ">>> 최소요구납기충족리스트: [('A', Timestamp('2024-01-11 00:00:00', freq='D'))]\n",
      "*** 랜덤선택 최선정반명:A, 최선조기착수일:2024-01-11\n",
      "*** 레이아웃 적합도리스트 체크: 부적합\n",
      "\n",
      ">>> 제14차 레이아웃 적합도 검토\n",
      "*** 최선조기착수일후보: {'A': Timestamp('2024-01-11 00:00:00', freq='D')}\n",
      ">>> 최소요구납기충족리스트: [('A', Timestamp('2024-01-11 00:00:00', freq='D'))]\n",
      "*** 랜덤선택 최선정반명:A, 최선조기착수일:2024-01-11\n",
      "*** 레이아웃 적합도리스트 체크: 부적합\n",
      "\n",
      ">>> 제15차 레이아웃 적합도 검토\n",
      "*** 최선조기착수일후보: {'A': Timestamp('2024-01-12 00:00:00', freq='D')}\n",
      ">>> 최소요구납기충족리스트: [('A', Timestamp('2024-01-12 00:00:00', freq='D'))]\n",
      "*** 랜덤선택 최선정반명:A, 최선조기착수일:2024-01-12\n",
      "*** 레이아웃 적합도리스트 체크: 부적합\n",
      "\n",
      ">>> 제16차 레이아웃 적합도 검토\n",
      "*** 최선조기착수일후보: {'A': Timestamp('2024-01-13 00:00:00', freq='D')}\n",
      ">>> 최소요구납기충족리스트: [('A', Timestamp('2024-01-13 00:00:00', freq='D'))]\n",
      "*** 랜덤선택 최선정반명:A, 최선조기착수일:2024-01-13\n",
      "*** 레이아웃 적합도리스트 체크: 부적합\n",
      "\n",
      ">>> 제17차 레이아웃 적합도 검토\n",
      "*** 최선조기착수일후보: {'A': Timestamp('2024-01-14 00:00:00', freq='D')}\n",
      ">>> 최소요구납기충족리스트: [('A', Timestamp('2024-01-14 00:00:00', freq='D'))]\n",
      "*** 랜덤선택 최선정반명:A, 최선조기착수일:2024-01-14\n",
      "*** 레이아웃 적합도리스트 체크: 부적합\n",
      "\n",
      ">>> 제18차 레이아웃 적합도 검토\n",
      "*** 최선조기착수일후보: {'A': Timestamp('2024-01-15 00:00:00', freq='D')}\n",
      ">>> 최소요구납기충족리스트: [('A', Timestamp('2024-01-15 00:00:00', freq='D'))]\n",
      "*** 랜덤선택 최선정반명:A, 최선조기착수일:2024-01-15\n",
      "*** 레이아웃 적합도리스트 체크: 부적합\n",
      "\n",
      ">>> 제19차 레이아웃 적합도 검토\n",
      "*** 최선조기착수일후보: {'A': Timestamp('2024-01-15 00:00:00', freq='D')}\n",
      ">>> 최소요구납기충족리스트: [('A', Timestamp('2024-01-15 00:00:00', freq='D'))]\n",
      "*** 랜덤선택 최선정반명:A, 최선조기착수일:2024-01-15\n",
      "*** 레이아웃 적합도리스트 체크: 부적합\n",
      "\n",
      ">>> 제20차 레이아웃 적합도 검토\n",
      "*** 최선조기착수일후보: {'A': Timestamp('2024-01-16 00:00:00', freq='D')}\n",
      ">>> 최소요구납기충족리스트: [('A', Timestamp('2024-01-16 00:00:00', freq='D'))]\n",
      "*** 랜덤선택 최선정반명:A, 최선조기착수일:2024-01-16\n",
      "*** 레이아웃 적합도리스트 체크: 부적합\n",
      "\n",
      ">>> 제21차 레이아웃 적합도 검토\n",
      "*** 최선조기착수일후보: {'A': Timestamp('2024-01-17 00:00:00', freq='D')}\n",
      ">>> 최소요구납기충족리스트: [('A', Timestamp('2024-01-17 00:00:00', freq='D'))]\n",
      "*** 랜덤선택 최선정반명:A, 최선조기착수일:2024-01-17\n",
      "*** 레이아웃 적합도리스트 체크: 부적합\n",
      "\n",
      ">>> 제22차 레이아웃 적합도 검토\n",
      "*** 최선조기착수일후보: {'A': Timestamp('2024-01-18 00:00:00', freq='D')}\n",
      ">>> 최소요구납기충족리스트: [('A', Timestamp('2024-01-18 00:00:00', freq='D'))]\n",
      "*** 랜덤선택 최선정반명:A, 최선조기착수일:2024-01-18\n",
      "*** 레이아웃 적합도리스트 체크: 부적합\n",
      "\n",
      ">>> 제23차 레이아웃 적합도 검토\n",
      "*** 최선조기착수일후보: {'A': Timestamp('2024-01-19 00:00:00', freq='D')}\n",
      ">>> 최소요구납기충족리스트: [('A', Timestamp('2024-01-19 00:00:00', freq='D'))]\n",
      "*** 랜덤선택 최선정반명:A, 최선조기착수일:2024-01-19\n",
      "*** 레이아웃 적합도리스트 체크: 적합\n",
      "*** 정상배치 완료\n",
      "========================================================================================================================\n",
      "\n",
      "*** 검토대상블록: S14, 사이즈: (15, 16), 표준공기: 9, 최소착수요구일:2024-01-23\n",
      "*** 중량조건적합정반들: ['A']\n",
      "\n",
      ">>> 제1차 레이아웃 적합도 검토\n",
      "*** 최선조기착수일후보: {'A': Timestamp('2024-01-01 00:00:00', freq='D')}\n",
      ">>> 최소요구납기충족리스트: [('A', Timestamp('2024-01-01 00:00:00', freq='D'))]\n",
      "*** 랜덤선택 최선정반명:A, 최선조기착수일:2024-01-01\n",
      "*** 레이아웃 적합도리스트 체크: 부적합\n",
      "\n",
      ">>> 제2차 레이아웃 적합도 검토\n",
      "*** 최선조기착수일후보: {'A': Timestamp('2024-01-03 00:00:00', freq='D')}\n",
      ">>> 최소요구납기충족리스트: [('A', Timestamp('2024-01-03 00:00:00', freq='D'))]\n",
      "*** 랜덤선택 최선정반명:A, 최선조기착수일:2024-01-03\n",
      "*** 레이아웃 적합도리스트 체크: 부적합\n",
      "\n",
      ">>> 제3차 레이아웃 적합도 검토\n",
      "*** 최선조기착수일후보: {'A': Timestamp('2024-01-05 00:00:00', freq='D')}\n",
      ">>> 최소요구납기충족리스트: [('A', Timestamp('2024-01-05 00:00:00', freq='D'))]\n",
      "*** 랜덤선택 최선정반명:A, 최선조기착수일:2024-01-05\n",
      "*** 레이아웃 적합도리스트 체크: 부적합\n",
      "\n",
      ">>> 제4차 레이아웃 적합도 검토\n",
      "*** 최선조기착수일후보: {'A': Timestamp('2024-01-06 00:00:00', freq='D')}\n",
      ">>> 최소요구납기충족리스트: [('A', Timestamp('2024-01-06 00:00:00', freq='D'))]\n",
      "*** 랜덤선택 최선정반명:A, 최선조기착수일:2024-01-06\n",
      "*** 레이아웃 적합도리스트 체크: 부적합\n",
      "\n",
      ">>> 제5차 레이아웃 적합도 검토\n",
      "*** 최선조기착수일후보: {'A': Timestamp('2024-01-08 00:00:00', freq='D')}\n",
      ">>> 최소요구납기충족리스트: [('A', Timestamp('2024-01-08 00:00:00', freq='D'))]\n",
      "*** 랜덤선택 최선정반명:A, 최선조기착수일:2024-01-08\n",
      "*** 레이아웃 적합도리스트 체크: 부적합\n",
      "\n",
      ">>> 제6차 레이아웃 적합도 검토\n",
      "*** 최선조기착수일후보: {'A': Timestamp('2024-01-10 00:00:00', freq='D')}\n",
      ">>> 최소요구납기충족리스트: [('A', Timestamp('2024-01-10 00:00:00', freq='D'))]\n",
      "*** 랜덤선택 최선정반명:A, 최선조기착수일:2024-01-10\n",
      "*** 레이아웃 적합도리스트 체크: 부적합\n",
      "\n",
      ">>> 제7차 레이아웃 적합도 검토\n",
      "*** 최선조기착수일후보: {'A': Timestamp('2024-01-12 00:00:00', freq='D')}\n",
      ">>> 최소요구납기충족리스트: [('A', Timestamp('2024-01-12 00:00:00', freq='D'))]\n",
      "*** 랜덤선택 최선정반명:A, 최선조기착수일:2024-01-12\n",
      "*** 레이아웃 적합도리스트 체크: 부적합\n",
      "\n",
      ">>> 제8차 레이아웃 적합도 검토\n",
      "*** 최선조기착수일후보: {'A': Timestamp('2024-01-14 00:00:00', freq='D')}\n",
      ">>> 최소요구납기충족리스트: [('A', Timestamp('2024-01-14 00:00:00', freq='D'))]\n",
      "*** 랜덤선택 최선정반명:A, 최선조기착수일:2024-01-14\n",
      "*** 레이아웃 적합도리스트 체크: 부적합\n",
      "\n",
      ">>> 제9차 레이아웃 적합도 검토\n",
      "*** 최선조기착수일후보: {'A': Timestamp('2024-01-15 00:00:00', freq='D')}\n",
      ">>> 최소요구납기충족리스트: [('A', Timestamp('2024-01-15 00:00:00', freq='D'))]\n",
      "*** 랜덤선택 최선정반명:A, 최선조기착수일:2024-01-15\n",
      "*** 레이아웃 적합도리스트 체크: 부적합\n",
      "\n",
      ">>> 제10차 레이아웃 적합도 검토\n",
      "*** 최선조기착수일후보: {'A': Timestamp('2024-01-17 00:00:00', freq='D')}\n",
      ">>> 최소요구납기충족리스트: [('A', Timestamp('2024-01-17 00:00:00', freq='D'))]\n",
      "*** 랜덤선택 최선정반명:A, 최선조기착수일:2024-01-17\n"
     ]
    },
    {
     "name": "stdout",
     "output_type": "stream",
     "text": [
      "*** 레이아웃 적합도리스트 체크: 부적합\n",
      "\n",
      ">>> 제11차 레이아웃 적합도 검토\n",
      "*** 최선조기착수일후보: {'A': Timestamp('2024-01-19 00:00:00', freq='D')}\n",
      ">>> 최소요구납기충족리스트: [('A', Timestamp('2024-01-19 00:00:00', freq='D'))]\n",
      "*** 랜덤선택 최선정반명:A, 최선조기착수일:2024-01-19\n",
      "*** 레이아웃 적합도리스트 체크: 부적합\n",
      "\n",
      ">>> 제12차 레이아웃 적합도 검토\n",
      "*** 최선조기착수일후보: {'A': Timestamp('2024-01-21 00:00:00', freq='D')}\n",
      ">>> 최소요구납기충족리스트: [('A', Timestamp('2024-01-21 00:00:00', freq='D'))]\n",
      "*** 랜덤선택 최선정반명:A, 최선조기착수일:2024-01-21\n",
      "*** 레이아웃 적합도리스트 체크: 부적합\n",
      "\n",
      ">>> 제13차 레이아웃 적합도 검토\n",
      "*** 최선조기착수일후보: {'A': Timestamp('2024-01-23 00:00:00', freq='D')}\n",
      ">>> 최소요구납기충족리스트: [('A', Timestamp('2024-01-23 00:00:00', freq='D'))]\n",
      "*** 랜덤선택 최선정반명:A, 최선조기착수일:2024-01-23\n",
      "*** 레이아웃 적합도리스트 체크: 부적합\n",
      "\n",
      ">>> 제14차 레이아웃 적합도 검토\n",
      "*** 최선조기착수일후보: {'A': Timestamp('2024-01-24 00:00:00', freq='D')}\n",
      ">>> 최소요구납기충족리스트: []\n",
      ">>> 최선조기착수 후보날짜가 없습니다.\n",
      "========================================================================================================================\n",
      "\n",
      "*** 검토대상블록: S18, 사이즈: (13, 16), 표준공기: 4, 최소착수요구일:2024-01-28\n",
      "*** 중량조건적합정반들: ['A']\n",
      "\n",
      ">>> 제1차 레이아웃 적합도 검토\n",
      "*** 최선조기착수일후보: {'A': Timestamp('2024-01-01 00:00:00', freq='D')}\n",
      ">>> 최소요구납기충족리스트: [('A', Timestamp('2024-01-01 00:00:00', freq='D'))]\n",
      "*** 랜덤선택 최선정반명:A, 최선조기착수일:2024-01-01\n",
      "*** 레이아웃 적합도리스트 체크: 부적합\n",
      "\n",
      ">>> 제2차 레이아웃 적합도 검토\n",
      "*** 최선조기착수일후보: {'A': Timestamp('2024-01-02 00:00:00', freq='D')}\n",
      ">>> 최소요구납기충족리스트: [('A', Timestamp('2024-01-02 00:00:00', freq='D'))]\n",
      "*** 랜덤선택 최선정반명:A, 최선조기착수일:2024-01-02\n",
      "*** 레이아웃 적합도리스트 체크: 부적합\n",
      "\n",
      ">>> 제3차 레이아웃 적합도 검토\n",
      "*** 최선조기착수일후보: {'A': Timestamp('2024-01-03 00:00:00', freq='D')}\n",
      ">>> 최소요구납기충족리스트: [('A', Timestamp('2024-01-03 00:00:00', freq='D'))]\n",
      "*** 랜덤선택 최선정반명:A, 최선조기착수일:2024-01-03\n",
      "*** 레이아웃 적합도리스트 체크: 부적합\n",
      "\n",
      ">>> 제4차 레이아웃 적합도 검토\n",
      "*** 최선조기착수일후보: {'A': Timestamp('2024-01-03 00:00:00', freq='D')}\n",
      ">>> 최소요구납기충족리스트: [('A', Timestamp('2024-01-03 00:00:00', freq='D'))]\n",
      "*** 랜덤선택 최선정반명:A, 최선조기착수일:2024-01-03\n",
      "*** 레이아웃 적합도리스트 체크: 부적합\n",
      "\n",
      ">>> 제5차 레이아웃 적합도 검토\n",
      "*** 최선조기착수일후보: {'A': Timestamp('2024-01-04 00:00:00', freq='D')}\n",
      ">>> 최소요구납기충족리스트: [('A', Timestamp('2024-01-04 00:00:00', freq='D'))]\n",
      "*** 랜덤선택 최선정반명:A, 최선조기착수일:2024-01-04\n",
      "*** 레이아웃 적합도리스트 체크: 부적합\n",
      "\n",
      ">>> 제6차 레이아웃 적합도 검토\n",
      "*** 최선조기착수일후보: {'A': Timestamp('2024-01-05 00:00:00', freq='D')}\n",
      ">>> 최소요구납기충족리스트: [('A', Timestamp('2024-01-05 00:00:00', freq='D'))]\n",
      "*** 랜덤선택 최선정반명:A, 최선조기착수일:2024-01-05\n",
      "*** 레이아웃 적합도리스트 체크: 부적합\n",
      "\n",
      ">>> 제7차 레이아웃 적합도 검토\n",
      "*** 최선조기착수일후보: {'A': Timestamp('2024-01-06 00:00:00', freq='D')}\n",
      ">>> 최소요구납기충족리스트: [('A', Timestamp('2024-01-06 00:00:00', freq='D'))]\n",
      "*** 랜덤선택 최선정반명:A, 최선조기착수일:2024-01-06\n",
      "*** 레이아웃 적합도리스트 체크: 부적합\n",
      "\n",
      ">>> 제8차 레이아웃 적합도 검토\n",
      "*** 최선조기착수일후보: {'A': Timestamp('2024-01-07 00:00:00', freq='D')}\n",
      ">>> 최소요구납기충족리스트: [('A', Timestamp('2024-01-07 00:00:00', freq='D'))]\n",
      "*** 랜덤선택 최선정반명:A, 최선조기착수일:2024-01-07\n",
      "*** 레이아웃 적합도리스트 체크: 부적합\n",
      "\n",
      ">>> 제9차 레이아웃 적합도 검토\n",
      "*** 최선조기착수일후보: {'A': Timestamp('2024-01-07 00:00:00', freq='D')}\n",
      ">>> 최소요구납기충족리스트: [('A', Timestamp('2024-01-07 00:00:00', freq='D'))]\n",
      "*** 랜덤선택 최선정반명:A, 최선조기착수일:2024-01-07\n",
      "*** 레이아웃 적합도리스트 체크: 부적합\n",
      "\n",
      ">>> 제10차 레이아웃 적합도 검토\n",
      "*** 최선조기착수일후보: {'A': Timestamp('2024-01-08 00:00:00', freq='D')}\n",
      ">>> 최소요구납기충족리스트: [('A', Timestamp('2024-01-08 00:00:00', freq='D'))]\n",
      "*** 랜덤선택 최선정반명:A, 최선조기착수일:2024-01-08\n",
      "*** 레이아웃 적합도리스트 체크: 부적합\n",
      "\n",
      ">>> 제11차 레이아웃 적합도 검토\n",
      "*** 최선조기착수일후보: {'A': Timestamp('2024-01-09 00:00:00', freq='D')}\n",
      ">>> 최소요구납기충족리스트: [('A', Timestamp('2024-01-09 00:00:00', freq='D'))]\n",
      "*** 랜덤선택 최선정반명:A, 최선조기착수일:2024-01-09\n",
      "*** 레이아웃 적합도리스트 체크: 부적합\n",
      "\n",
      ">>> 제12차 레이아웃 적합도 검토\n",
      "*** 최선조기착수일후보: {'A': Timestamp('2024-01-10 00:00:00', freq='D')}\n",
      ">>> 최소요구납기충족리스트: [('A', Timestamp('2024-01-10 00:00:00', freq='D'))]\n",
      "*** 랜덤선택 최선정반명:A, 최선조기착수일:2024-01-10\n",
      "*** 레이아웃 적합도리스트 체크: 부적합\n",
      "\n",
      ">>> 제13차 레이아웃 적합도 검토\n",
      "*** 최선조기착수일후보: {'A': Timestamp('2024-01-11 00:00:00', freq='D')}\n",
      ">>> 최소요구납기충족리스트: [('A', Timestamp('2024-01-11 00:00:00', freq='D'))]\n",
      "*** 랜덤선택 최선정반명:A, 최선조기착수일:2024-01-11\n",
      "*** 레이아웃 적합도리스트 체크: 부적합\n",
      "\n",
      ">>> 제14차 레이아웃 적합도 검토\n",
      "*** 최선조기착수일후보: {'A': Timestamp('2024-01-11 00:00:00', freq='D')}\n",
      ">>> 최소요구납기충족리스트: [('A', Timestamp('2024-01-11 00:00:00', freq='D'))]\n",
      "*** 랜덤선택 최선정반명:A, 최선조기착수일:2024-01-11\n",
      "*** 레이아웃 적합도리스트 체크: 부적합\n",
      "\n",
      ">>> 제15차 레이아웃 적합도 검토\n",
      "*** 최선조기착수일후보: {'A': Timestamp('2024-01-12 00:00:00', freq='D')}\n",
      ">>> 최소요구납기충족리스트: [('A', Timestamp('2024-01-12 00:00:00', freq='D'))]\n",
      "*** 랜덤선택 최선정반명:A, 최선조기착수일:2024-01-12\n",
      "*** 레이아웃 적합도리스트 체크: 부적합\n",
      "\n",
      ">>> 제16차 레이아웃 적합도 검토\n",
      "*** 최선조기착수일후보: {'A': Timestamp('2024-01-13 00:00:00', freq='D')}\n",
      ">>> 최소요구납기충족리스트: [('A', Timestamp('2024-01-13 00:00:00', freq='D'))]\n",
      "*** 랜덤선택 최선정반명:A, 최선조기착수일:2024-01-13\n",
      "*** 레이아웃 적합도리스트 체크: 부적합\n",
      "\n",
      ">>> 제17차 레이아웃 적합도 검토\n",
      "*** 최선조기착수일후보: {'A': Timestamp('2024-01-14 00:00:00', freq='D')}\n",
      ">>> 최소요구납기충족리스트: [('A', Timestamp('2024-01-14 00:00:00', freq='D'))]\n",
      "*** 랜덤선택 최선정반명:A, 최선조기착수일:2024-01-14\n",
      "*** 레이아웃 적합도리스트 체크: 부적합\n",
      "\n",
      ">>> 제18차 레이아웃 적합도 검토\n",
      "*** 최선조기착수일후보: {'A': Timestamp('2024-01-15 00:00:00', freq='D')}\n",
      ">>> 최소요구납기충족리스트: [('A', Timestamp('2024-01-15 00:00:00', freq='D'))]\n",
      "*** 랜덤선택 최선정반명:A, 최선조기착수일:2024-01-15\n",
      "*** 레이아웃 적합도리스트 체크: 부적합\n",
      "\n",
      ">>> 제19차 레이아웃 적합도 검토\n",
      "*** 최선조기착수일후보: {'A': Timestamp('2024-01-15 00:00:00', freq='D')}\n",
      ">>> 최소요구납기충족리스트: [('A', Timestamp('2024-01-15 00:00:00', freq='D'))]\n",
      "*** 랜덤선택 최선정반명:A, 최선조기착수일:2024-01-15\n",
      "*** 레이아웃 적합도리스트 체크: 부적합\n",
      "\n",
      ">>> 제20차 레이아웃 적합도 검토\n",
      "*** 최선조기착수일후보: {'A': Timestamp('2024-01-16 00:00:00', freq='D')}\n",
      ">>> 최소요구납기충족리스트: [('A', Timestamp('2024-01-16 00:00:00', freq='D'))]\n",
      "*** 랜덤선택 최선정반명:A, 최선조기착수일:2024-01-16\n",
      "*** 레이아웃 적합도리스트 체크: 부적합\n",
      "\n",
      ">>> 제21차 레이아웃 적합도 검토\n",
      "*** 최선조기착수일후보: {'A': Timestamp('2024-01-17 00:00:00', freq='D')}\n",
      ">>> 최소요구납기충족리스트: [('A', Timestamp('2024-01-17 00:00:00', freq='D'))]\n",
      "*** 랜덤선택 최선정반명:A, 최선조기착수일:2024-01-17\n",
      "*** 레이아웃 적합도리스트 체크: 부적합\n",
      "\n",
      ">>> 제22차 레이아웃 적합도 검토\n",
      "*** 최선조기착수일후보: {'A': Timestamp('2024-01-18 00:00:00', freq='D')}\n",
      ">>> 최소요구납기충족리스트: [('A', Timestamp('2024-01-18 00:00:00', freq='D'))]\n",
      "*** 랜덤선택 최선정반명:A, 최선조기착수일:2024-01-18\n",
      "*** 레이아웃 적합도리스트 체크: 부적합\n",
      "\n",
      ">>> 제23차 레이아웃 적합도 검토\n",
      "*** 최선조기착수일후보: {'A': Timestamp('2024-01-19 00:00:00', freq='D')}\n",
      ">>> 최소요구납기충족리스트: [('A', Timestamp('2024-01-19 00:00:00', freq='D'))]\n",
      "*** 랜덤선택 최선정반명:A, 최선조기착수일:2024-01-19\n",
      "*** 레이아웃 적합도리스트 체크: 부적합\n",
      "\n",
      ">>> 제24차 레이아웃 적합도 검토\n",
      "*** 최선조기착수일후보: {'A': Timestamp('2024-01-19 00:00:00', freq='D')}\n",
      ">>> 최소요구납기충족리스트: [('A', Timestamp('2024-01-19 00:00:00', freq='D'))]\n",
      "*** 랜덤선택 최선정반명:A, 최선조기착수일:2024-01-19\n",
      "*** 레이아웃 적합도리스트 체크: 부적합\n",
      "\n",
      ">>> 제25차 레이아웃 적합도 검토\n",
      "*** 최선조기착수일후보: {'A': Timestamp('2024-01-20 00:00:00', freq='D')}\n",
      ">>> 최소요구납기충족리스트: [('A', Timestamp('2024-01-20 00:00:00', freq='D'))]\n",
      "*** 랜덤선택 최선정반명:A, 최선조기착수일:2024-01-20\n",
      "*** 레이아웃 적합도리스트 체크: 부적합\n",
      "\n",
      ">>> 제26차 레이아웃 적합도 검토\n",
      "*** 최선조기착수일후보: {'A': Timestamp('2024-01-21 00:00:00', freq='D')}\n",
      ">>> 최소요구납기충족리스트: [('A', Timestamp('2024-01-21 00:00:00', freq='D'))]\n",
      "*** 랜덤선택 최선정반명:A, 최선조기착수일:2024-01-21\n",
      "*** 레이아웃 적합도리스트 체크: 부적합\n",
      "\n",
      ">>> 제27차 레이아웃 적합도 검토\n",
      "*** 최선조기착수일후보: {'A': Timestamp('2024-01-22 00:00:00', freq='D')}\n",
      ">>> 최소요구납기충족리스트: [('A', Timestamp('2024-01-22 00:00:00', freq='D'))]\n",
      "*** 랜덤선택 최선정반명:A, 최선조기착수일:2024-01-22\n",
      "*** 레이아웃 적합도리스트 체크: 부적합\n",
      "\n",
      ">>> 제28차 레이아웃 적합도 검토\n",
      "*** 최선조기착수일후보: {'A': Timestamp('2024-01-23 00:00:00', freq='D')}\n",
      ">>> 최소요구납기충족리스트: [('A', Timestamp('2024-01-23 00:00:00', freq='D'))]\n",
      "*** 랜덤선택 최선정반명:A, 최선조기착수일:2024-01-23\n",
      "*** 레이아웃 적합도리스트 체크: 적합\n",
      "*** 정상배치 완료\n",
      "========================================================================================================================\n",
      "\n",
      "*** 검토대상블록: S17, 사이즈: (6, 15), 표준공기: 11, 최소착수요구일:2024-02-03\n",
      "*** 중량조건적합정반들: ['A']\n",
      "\n",
      ">>> 제1차 레이아웃 적합도 검토\n",
      "*** 최선조기착수일후보: {'A': Timestamp('2024-01-01 00:00:00', freq='D')}\n",
      ">>> 최소요구납기충족리스트: [('A', Timestamp('2024-01-01 00:00:00', freq='D'))]\n",
      "*** 랜덤선택 최선정반명:A, 최선조기착수일:2024-01-01\n",
      "*** 레이아웃 적합도리스트 체크: 적합\n",
      "*** 정상배치 완료\n",
      "========================================================================================================================\n",
      "\n",
      "*** 검토대상블록: S15, 사이즈: (13, 14), 표준공기: 4, 최소착수요구일:2024-02-01\n",
      "*** 중량조건적합정반들: ['A']\n",
      "\n",
      ">>> 제1차 레이아웃 적합도 검토\n",
      "*** 최선조기착수일후보: {'A': Timestamp('2024-01-01 00:00:00', freq='D')}\n",
      ">>> 최소요구납기충족리스트: [('A', Timestamp('2024-01-01 00:00:00', freq='D'))]\n",
      "*** 랜덤선택 최선정반명:A, 최선조기착수일:2024-01-01\n",
      "*** 레이아웃 적합도리스트 체크: 부적합\n",
      "\n",
      ">>> 제2차 레이아웃 적합도 검토\n",
      "*** 최선조기착수일후보: {'A': Timestamp('2024-01-02 00:00:00', freq='D')}\n",
      ">>> 최소요구납기충족리스트: [('A', Timestamp('2024-01-02 00:00:00', freq='D'))]\n",
      "*** 랜덤선택 최선정반명:A, 최선조기착수일:2024-01-02\n",
      "*** 레이아웃 적합도리스트 체크: 부적합\n",
      "\n",
      ">>> 제3차 레이아웃 적합도 검토\n",
      "*** 최선조기착수일후보: {'A': Timestamp('2024-01-03 00:00:00', freq='D')}\n",
      ">>> 최소요구납기충족리스트: [('A', Timestamp('2024-01-03 00:00:00', freq='D'))]\n",
      "*** 랜덤선택 최선정반명:A, 최선조기착수일:2024-01-03\n"
     ]
    },
    {
     "name": "stdout",
     "output_type": "stream",
     "text": [
      "*** 레이아웃 적합도리스트 체크: 부적합\n",
      "\n",
      ">>> 제4차 레이아웃 적합도 검토\n",
      "*** 최선조기착수일후보: {'A': Timestamp('2024-01-03 00:00:00', freq='D')}\n",
      ">>> 최소요구납기충족리스트: [('A', Timestamp('2024-01-03 00:00:00', freq='D'))]\n",
      "*** 랜덤선택 최선정반명:A, 최선조기착수일:2024-01-03\n",
      "*** 레이아웃 적합도리스트 체크: 부적합\n",
      "\n",
      ">>> 제5차 레이아웃 적합도 검토\n",
      "*** 최선조기착수일후보: {'A': Timestamp('2024-01-04 00:00:00', freq='D')}\n",
      ">>> 최소요구납기충족리스트: [('A', Timestamp('2024-01-04 00:00:00', freq='D'))]\n",
      "*** 랜덤선택 최선정반명:A, 최선조기착수일:2024-01-04\n",
      "*** 레이아웃 적합도리스트 체크: 부적합\n",
      "\n",
      ">>> 제6차 레이아웃 적합도 검토\n",
      "*** 최선조기착수일후보: {'A': Timestamp('2024-01-05 00:00:00', freq='D')}\n",
      ">>> 최소요구납기충족리스트: [('A', Timestamp('2024-01-05 00:00:00', freq='D'))]\n",
      "*** 랜덤선택 최선정반명:A, 최선조기착수일:2024-01-05\n",
      "*** 레이아웃 적합도리스트 체크: 부적합\n",
      "\n",
      ">>> 제7차 레이아웃 적합도 검토\n",
      "*** 최선조기착수일후보: {'A': Timestamp('2024-01-06 00:00:00', freq='D')}\n",
      ">>> 최소요구납기충족리스트: [('A', Timestamp('2024-01-06 00:00:00', freq='D'))]\n",
      "*** 랜덤선택 최선정반명:A, 최선조기착수일:2024-01-06\n",
      "*** 레이아웃 적합도리스트 체크: 부적합\n",
      "\n",
      ">>> 제8차 레이아웃 적합도 검토\n",
      "*** 최선조기착수일후보: {'A': Timestamp('2024-01-07 00:00:00', freq='D')}\n",
      ">>> 최소요구납기충족리스트: [('A', Timestamp('2024-01-07 00:00:00', freq='D'))]\n",
      "*** 랜덤선택 최선정반명:A, 최선조기착수일:2024-01-07\n",
      "*** 레이아웃 적합도리스트 체크: 부적합\n",
      "\n",
      ">>> 제9차 레이아웃 적합도 검토\n",
      "*** 최선조기착수일후보: {'A': Timestamp('2024-01-07 00:00:00', freq='D')}\n",
      ">>> 최소요구납기충족리스트: [('A', Timestamp('2024-01-07 00:00:00', freq='D'))]\n",
      "*** 랜덤선택 최선정반명:A, 최선조기착수일:2024-01-07\n",
      "*** 레이아웃 적합도리스트 체크: 부적합\n",
      "\n",
      ">>> 제10차 레이아웃 적합도 검토\n",
      "*** 최선조기착수일후보: {'A': Timestamp('2024-01-08 00:00:00', freq='D')}\n",
      ">>> 최소요구납기충족리스트: [('A', Timestamp('2024-01-08 00:00:00', freq='D'))]\n",
      "*** 랜덤선택 최선정반명:A, 최선조기착수일:2024-01-08\n",
      "*** 레이아웃 적합도리스트 체크: 부적합\n",
      "\n",
      ">>> 제11차 레이아웃 적합도 검토\n",
      "*** 최선조기착수일후보: {'A': Timestamp('2024-01-09 00:00:00', freq='D')}\n",
      ">>> 최소요구납기충족리스트: [('A', Timestamp('2024-01-09 00:00:00', freq='D'))]\n",
      "*** 랜덤선택 최선정반명:A, 최선조기착수일:2024-01-09\n",
      "*** 레이아웃 적합도리스트 체크: 부적합\n",
      "\n",
      ">>> 제12차 레이아웃 적합도 검토\n",
      "*** 최선조기착수일후보: {'A': Timestamp('2024-01-10 00:00:00', freq='D')}\n",
      ">>> 최소요구납기충족리스트: [('A', Timestamp('2024-01-10 00:00:00', freq='D'))]\n",
      "*** 랜덤선택 최선정반명:A, 최선조기착수일:2024-01-10\n",
      "*** 레이아웃 적합도리스트 체크: 부적합\n",
      "\n",
      ">>> 제13차 레이아웃 적합도 검토\n",
      "*** 최선조기착수일후보: {'A': Timestamp('2024-01-11 00:00:00', freq='D')}\n",
      ">>> 최소요구납기충족리스트: [('A', Timestamp('2024-01-11 00:00:00', freq='D'))]\n",
      "*** 랜덤선택 최선정반명:A, 최선조기착수일:2024-01-11\n",
      "*** 레이아웃 적합도리스트 체크: 부적합\n",
      "\n",
      ">>> 제14차 레이아웃 적합도 검토\n",
      "*** 최선조기착수일후보: {'A': Timestamp('2024-01-11 00:00:00', freq='D')}\n",
      ">>> 최소요구납기충족리스트: [('A', Timestamp('2024-01-11 00:00:00', freq='D'))]\n",
      "*** 랜덤선택 최선정반명:A, 최선조기착수일:2024-01-11\n",
      "*** 레이아웃 적합도리스트 체크: 부적합\n",
      "\n",
      ">>> 제15차 레이아웃 적합도 검토\n",
      "*** 최선조기착수일후보: {'A': Timestamp('2024-01-12 00:00:00', freq='D')}\n",
      ">>> 최소요구납기충족리스트: [('A', Timestamp('2024-01-12 00:00:00', freq='D'))]\n",
      "*** 랜덤선택 최선정반명:A, 최선조기착수일:2024-01-12\n",
      "*** 레이아웃 적합도리스트 체크: 부적합\n",
      "\n",
      ">>> 제16차 레이아웃 적합도 검토\n",
      "*** 최선조기착수일후보: {'A': Timestamp('2024-01-13 00:00:00', freq='D')}\n",
      ">>> 최소요구납기충족리스트: [('A', Timestamp('2024-01-13 00:00:00', freq='D'))]\n",
      "*** 랜덤선택 최선정반명:A, 최선조기착수일:2024-01-13\n",
      "*** 레이아웃 적합도리스트 체크: 부적합\n",
      "\n",
      ">>> 제17차 레이아웃 적합도 검토\n",
      "*** 최선조기착수일후보: {'A': Timestamp('2024-01-14 00:00:00', freq='D')}\n",
      ">>> 최소요구납기충족리스트: [('A', Timestamp('2024-01-14 00:00:00', freq='D'))]\n",
      "*** 랜덤선택 최선정반명:A, 최선조기착수일:2024-01-14\n",
      "*** 레이아웃 적합도리스트 체크: 부적합\n",
      "\n",
      ">>> 제18차 레이아웃 적합도 검토\n",
      "*** 최선조기착수일후보: {'A': Timestamp('2024-01-15 00:00:00', freq='D')}\n",
      ">>> 최소요구납기충족리스트: [('A', Timestamp('2024-01-15 00:00:00', freq='D'))]\n",
      "*** 랜덤선택 최선정반명:A, 최선조기착수일:2024-01-15\n",
      "*** 레이아웃 적합도리스트 체크: 부적합\n",
      "\n",
      ">>> 제19차 레이아웃 적합도 검토\n",
      "*** 최선조기착수일후보: {'A': Timestamp('2024-01-15 00:00:00', freq='D')}\n",
      ">>> 최소요구납기충족리스트: [('A', Timestamp('2024-01-15 00:00:00', freq='D'))]\n",
      "*** 랜덤선택 최선정반명:A, 최선조기착수일:2024-01-15\n",
      "*** 레이아웃 적합도리스트 체크: 부적합\n",
      "\n",
      ">>> 제20차 레이아웃 적합도 검토\n",
      "*** 최선조기착수일후보: {'A': Timestamp('2024-01-16 00:00:00', freq='D')}\n",
      ">>> 최소요구납기충족리스트: [('A', Timestamp('2024-01-16 00:00:00', freq='D'))]\n",
      "*** 랜덤선택 최선정반명:A, 최선조기착수일:2024-01-16\n",
      "*** 레이아웃 적합도리스트 체크: 부적합\n",
      "\n",
      ">>> 제21차 레이아웃 적합도 검토\n",
      "*** 최선조기착수일후보: {'A': Timestamp('2024-01-17 00:00:00', freq='D')}\n",
      ">>> 최소요구납기충족리스트: [('A', Timestamp('2024-01-17 00:00:00', freq='D'))]\n",
      "*** 랜덤선택 최선정반명:A, 최선조기착수일:2024-01-17\n",
      "*** 레이아웃 적합도리스트 체크: 부적합\n",
      "\n",
      ">>> 제22차 레이아웃 적합도 검토\n",
      "*** 최선조기착수일후보: {'A': Timestamp('2024-01-18 00:00:00', freq='D')}\n",
      ">>> 최소요구납기충족리스트: [('A', Timestamp('2024-01-18 00:00:00', freq='D'))]\n",
      "*** 랜덤선택 최선정반명:A, 최선조기착수일:2024-01-18\n",
      "*** 레이아웃 적합도리스트 체크: 부적합\n",
      "\n",
      ">>> 제23차 레이아웃 적합도 검토\n",
      "*** 최선조기착수일후보: {'A': Timestamp('2024-01-19 00:00:00', freq='D')}\n",
      ">>> 최소요구납기충족리스트: [('A', Timestamp('2024-01-19 00:00:00', freq='D'))]\n",
      "*** 랜덤선택 최선정반명:A, 최선조기착수일:2024-01-19\n",
      "*** 레이아웃 적합도리스트 체크: 부적합\n",
      "\n",
      ">>> 제24차 레이아웃 적합도 검토\n",
      "*** 최선조기착수일후보: {'A': Timestamp('2024-01-19 00:00:00', freq='D')}\n",
      ">>> 최소요구납기충족리스트: [('A', Timestamp('2024-01-19 00:00:00', freq='D'))]\n",
      "*** 랜덤선택 최선정반명:A, 최선조기착수일:2024-01-19\n",
      "*** 레이아웃 적합도리스트 체크: 부적합\n",
      "\n",
      ">>> 제25차 레이아웃 적합도 검토\n",
      "*** 최선조기착수일후보: {'A': Timestamp('2024-01-20 00:00:00', freq='D')}\n",
      ">>> 최소요구납기충족리스트: [('A', Timestamp('2024-01-20 00:00:00', freq='D'))]\n",
      "*** 랜덤선택 최선정반명:A, 최선조기착수일:2024-01-20\n",
      "*** 레이아웃 적합도리스트 체크: 부적합\n",
      "\n",
      ">>> 제26차 레이아웃 적합도 검토\n",
      "*** 최선조기착수일후보: {'A': Timestamp('2024-01-21 00:00:00', freq='D')}\n",
      ">>> 최소요구납기충족리스트: [('A', Timestamp('2024-01-21 00:00:00', freq='D'))]\n",
      "*** 랜덤선택 최선정반명:A, 최선조기착수일:2024-01-21\n",
      "*** 레이아웃 적합도리스트 체크: 부적합\n",
      "\n",
      ">>> 제27차 레이아웃 적합도 검토\n",
      "*** 최선조기착수일후보: {'A': Timestamp('2024-01-22 00:00:00', freq='D')}\n",
      ">>> 최소요구납기충족리스트: [('A', Timestamp('2024-01-22 00:00:00', freq='D'))]\n",
      "*** 랜덤선택 최선정반명:A, 최선조기착수일:2024-01-22\n",
      "*** 레이아웃 적합도리스트 체크: 부적합\n",
      "\n",
      ">>> 제28차 레이아웃 적합도 검토\n",
      "*** 최선조기착수일후보: {'A': Timestamp('2024-01-23 00:00:00', freq='D')}\n",
      ">>> 최소요구납기충족리스트: [('A', Timestamp('2024-01-23 00:00:00', freq='D'))]\n",
      "*** 랜덤선택 최선정반명:A, 최선조기착수일:2024-01-23\n",
      "*** 레이아웃 적합도리스트 체크: 적합\n",
      "*** 정상배치 완료\n",
      "========================================================================================================================\n",
      "\n",
      ">>>>>>>> 총 블록 대수: 14\n",
      ">>>>>>>> 정상배치 블록 대수: 11\n",
      ">>>>>>>> 배치못한 블록 대수: 3\n",
      "----------------------------------------------------------------------\n",
      "결론_상태정보: ['정상배치완료', '정상배치완료', '최선조기착수 후보날짜가 없음', '정상배치완료', '정상배치완료', '최선조기착수 후보날짜가 없음', '정상배치완료', '정상배치완료', '정상배치완료', '정상배치완료', '최선조기착수 후보날짜가 없음', '정상배치완료', '정상배치완료', '정상배치완료']\n"
     ]
    },
    {
     "data": {
      "application/vnd.jupyter.widget-view+json": {
       "model_id": "a756de0c7f1a4453974e2776c7452131",
       "version_major": 2,
       "version_minor": 0
      },
      "text/plain": [
       "  0%|          | 0/14 [00:00<?, ?it/s]"
      ]
     },
     "metadata": {},
     "output_type": "display_data"
    },
    {
     "name": "stdout",
     "output_type": "stream",
     "text": [
      "*** 검토대상블록: S6, 사이즈: (14, 15), 표준공기: 18, 최소착수요구일:2024-01-01\n",
      "*** 중량조건적합정반들: ['A']\n",
      "\n",
      ">>> 제1차 레이아웃 적합도 검토\n",
      "*** 최선조기착수일후보: {'A': Timestamp('2024-01-01 00:00:00', freq='D')}\n",
      ">>> 최소요구납기충족리스트: [('A', Timestamp('2024-01-01 00:00:00', freq='D'))]\n",
      "*** 랜덤선택 최선정반명:A, 최선조기착수일:2024-01-01\n",
      "*** 레이아웃 적합도리스트 체크: 적합\n",
      "*** 정상배치 완료\n",
      "========================================================================================================================\n",
      "\n",
      "*** 검토대상블록: S7, 사이즈: (13, 31), 표준공기: 10, 최소착수요구일:2024-01-02\n",
      "*** 중량조건적합정반들: ['A']\n",
      "\n",
      ">>> 제1차 레이아웃 적합도 검토\n",
      "*** 최선조기착수일후보: {'A': Timestamp('2024-01-01 00:00:00', freq='D')}\n",
      ">>> 최소요구납기충족리스트: [('A', Timestamp('2024-01-01 00:00:00', freq='D'))]\n",
      "*** 랜덤선택 최선정반명:A, 최선조기착수일:2024-01-01\n",
      "*** 레이아웃 적합도리스트 체크: 적합\n",
      "*** 정상배치 완료\n",
      "========================================================================================================================\n",
      "\n",
      "*** 검토대상블록: S8, 사이즈: (15, 27), 표준공기: 11, 최소착수요구일:2024-01-04\n",
      "*** 중량조건적합정반들: ['A']\n",
      "\n",
      ">>> 제1차 레이아웃 적합도 검토\n",
      "*** 최선조기착수일후보: {'A': Timestamp('2024-01-01 00:00:00', freq='D')}\n",
      ">>> 최소요구납기충족리스트: [('A', Timestamp('2024-01-01 00:00:00', freq='D'))]\n",
      "*** 랜덤선택 최선정반명:A, 최선조기착수일:2024-01-01\n",
      "*** 레이아웃 적합도리스트 체크: 부적합\n",
      "\n",
      ">>> 제2차 레이아웃 적합도 검토\n",
      "*** 최선조기착수일후보: {'A': Timestamp('2024-01-03 00:00:00', freq='D')}\n",
      ">>> 최소요구납기충족리스트: [('A', Timestamp('2024-01-03 00:00:00', freq='D'))]\n",
      "*** 랜덤선택 최선정반명:A, 최선조기착수일:2024-01-03\n",
      "*** 레이아웃 적합도리스트 체크: 부적합\n",
      "\n",
      ">>> 제3차 레이아웃 적합도 검토\n",
      "*** 최선조기착수일후보: {'A': Timestamp('2024-01-05 00:00:00', freq='D')}\n",
      ">>> 최소요구납기충족리스트: []\n",
      ">>> 최선조기착수 후보날짜가 없습니다.\n",
      "========================================================================================================================\n",
      "\n",
      "*** 검토대상블록: S5, 사이즈: (7, 15), 표준공기: 11, 최소착수요구일:2024-01-05\n",
      "*** 중량조건적합정반들: ['A']\n",
      "\n",
      ">>> 제1차 레이아웃 적합도 검토\n",
      "*** 최선조기착수일후보: {'A': Timestamp('2024-01-01 00:00:00', freq='D')}\n",
      ">>> 최소요구납기충족리스트: [('A', Timestamp('2024-01-01 00:00:00', freq='D'))]\n",
      "*** 랜덤선택 최선정반명:A, 최선조기착수일:2024-01-01\n",
      "*** 레이아웃 적합도리스트 체크: 적합\n",
      "*** 정상배치 완료\n",
      "========================================================================================================================\n",
      "\n",
      "*** 검토대상블록: S9, 사이즈: (15, 15), 표준공기: 17, 최소착수요구일:2024-01-14\n",
      "*** 중량조건적합정반들: ['A']\n",
      "\n",
      ">>> 제1차 레이아웃 적합도 검토\n",
      "*** 최선조기착수일후보: {'A': Timestamp('2024-01-01 00:00:00', freq='D')}\n",
      ">>> 최소요구납기충족리스트: [('A', Timestamp('2024-01-01 00:00:00', freq='D'))]\n",
      "*** 랜덤선택 최선정반명:A, 최선조기착수일:2024-01-01\n",
      "*** 레이아웃 적합도리스트 체크: 부적합\n",
      "\n",
      ">>> 제2차 레이아웃 적합도 검토\n",
      "*** 최선조기착수일후보: {'A': Timestamp('2024-01-04 00:00:00', freq='D')}\n",
      ">>> 최소요구납기충족리스트: [('A', Timestamp('2024-01-04 00:00:00', freq='D'))]\n",
      "*** 랜덤선택 최선정반명:A, 최선조기착수일:2024-01-04\n",
      "*** 레이아웃 적합도리스트 체크: 부적합\n",
      "\n",
      ">>> 제3차 레이아웃 적합도 검토\n",
      "*** 최선조기착수일후보: {'A': Timestamp('2024-01-08 00:00:00', freq='D')}\n",
      ">>> 최소요구납기충족리스트: [('A', Timestamp('2024-01-08 00:00:00', freq='D'))]\n",
      "*** 랜덤선택 최선정반명:A, 최선조기착수일:2024-01-08\n",
      "*** 레이아웃 적합도리스트 체크: 부적합\n",
      "\n",
      ">>> 제4차 레이아웃 적합도 검토\n",
      "*** 최선조기착수일후보: {'A': Timestamp('2024-01-11 00:00:00', freq='D')}\n",
      ">>> 최소요구납기충족리스트: [('A', Timestamp('2024-01-11 00:00:00', freq='D'))]\n",
      "*** 랜덤선택 최선정반명:A, 최선조기착수일:2024-01-11\n",
      "*** 레이아웃 적합도리스트 체크: 적합\n",
      "*** 정상배치 완료\n",
      "========================================================================================================================\n",
      "\n",
      "*** 검토대상블록: S13, 사이즈: (14, 26), 표준공기: 9, 최소착수요구일:2024-01-08\n",
      "*** 중량조건적합정반들: ['A']\n",
      "\n",
      ">>> 제1차 레이아웃 적합도 검토\n",
      "*** 최선조기착수일후보: {'A': Timestamp('2024-01-01 00:00:00', freq='D')}\n",
      ">>> 최소요구납기충족리스트: [('A', Timestamp('2024-01-01 00:00:00', freq='D'))]\n",
      "*** 랜덤선택 최선정반명:A, 최선조기착수일:2024-01-01\n",
      "*** 레이아웃 적합도리스트 체크: 부적합\n",
      "\n",
      ">>> 제2차 레이아웃 적합도 검토\n",
      "*** 최선조기착수일후보: {'A': Timestamp('2024-01-03 00:00:00', freq='D')}\n",
      ">>> 최소요구납기충족리스트: [('A', Timestamp('2024-01-03 00:00:00', freq='D'))]\n",
      "*** 랜덤선택 최선정반명:A, 최선조기착수일:2024-01-03\n",
      "*** 레이아웃 적합도리스트 체크: 부적합\n",
      "\n",
      ">>> 제3차 레이아웃 적합도 검토\n",
      "*** 최선조기착수일후보: {'A': Timestamp('2024-01-05 00:00:00', freq='D')}\n",
      ">>> 최소요구납기충족리스트: [('A', Timestamp('2024-01-05 00:00:00', freq='D'))]\n",
      "*** 랜덤선택 최선정반명:A, 최선조기착수일:2024-01-05\n",
      "*** 레이아웃 적합도리스트 체크: 부적합\n",
      "\n",
      ">>> 제4차 레이아웃 적합도 검토\n",
      "*** 최선조기착수일후보: {'A': Timestamp('2024-01-06 00:00:00', freq='D')}\n",
      ">>> 최소요구납기충족리스트: [('A', Timestamp('2024-01-06 00:00:00', freq='D'))]\n",
      "*** 랜덤선택 최선정반명:A, 최선조기착수일:2024-01-06\n",
      "*** 레이아웃 적합도리스트 체크: 부적합\n",
      "\n",
      ">>> 제5차 레이아웃 적합도 검토\n",
      "*** 최선조기착수일후보: {'A': Timestamp('2024-01-08 00:00:00', freq='D')}\n",
      ">>> 최소요구납기충족리스트: [('A', Timestamp('2024-01-08 00:00:00', freq='D'))]\n",
      "*** 랜덤선택 최선정반명:A, 최선조기착수일:2024-01-08\n",
      "*** 레이아웃 적합도리스트 체크: 부적합\n",
      "\n",
      ">>> 제6차 레이아웃 적합도 검토\n",
      "*** 최선조기착수일후보: {'A': Timestamp('2024-01-10 00:00:00', freq='D')}\n",
      ">>> 최소요구납기충족리스트: []\n",
      ">>> 최선조기착수 후보날짜가 없습니다.\n",
      "========================================================================================================================\n",
      "\n",
      "*** 검토대상블록: S11, 사이즈: (14, 14), 표준공기: 13, 최소착수요구일:2024-01-18\n",
      "*** 중량조건적합정반들: ['A']\n",
      "\n",
      ">>> 제1차 레이아웃 적합도 검토\n",
      "*** 최선조기착수일후보: {'A': Timestamp('2024-01-01 00:00:00', freq='D')}\n",
      ">>> 최소요구납기충족리스트: [('A', Timestamp('2024-01-01 00:00:00', freq='D'))]\n",
      "*** 랜덤선택 최선정반명:A, 최선조기착수일:2024-01-01\n",
      "*** 레이아웃 적합도리스트 체크: 부적합\n",
      "\n",
      ">>> 제2차 레이아웃 적합도 검토\n",
      "*** 최선조기착수일후보: {'A': Timestamp('2024-01-04 00:00:00', freq='D')}\n",
      ">>> 최소요구납기충족리스트: [('A', Timestamp('2024-01-04 00:00:00', freq='D'))]\n",
      "*** 랜덤선택 최선정반명:A, 최선조기착수일:2024-01-04\n",
      "*** 레이아웃 적합도리스트 체크: 부적합\n",
      "\n",
      ">>> 제3차 레이아웃 적합도 검토\n",
      "*** 최선조기착수일후보: {'A': Timestamp('2024-01-06 00:00:00', freq='D')}\n",
      ">>> 최소요구납기충족리스트: [('A', Timestamp('2024-01-06 00:00:00', freq='D'))]\n",
      "*** 랜덤선택 최선정반명:A, 최선조기착수일:2024-01-06\n",
      "*** 레이아웃 적합도리스트 체크: 부적합\n",
      "\n",
      ">>> 제4차 레이아웃 적합도 검토\n",
      "*** 최선조기착수일후보: {'A': Timestamp('2024-01-09 00:00:00', freq='D')}\n",
      ">>> 최소요구납기충족리스트: [('A', Timestamp('2024-01-09 00:00:00', freq='D'))]\n",
      "*** 랜덤선택 최선정반명:A, 최선조기착수일:2024-01-09\n",
      "*** 레이아웃 적합도리스트 체크: 부적합\n",
      "\n",
      ">>> 제5차 레이아웃 적합도 검토\n",
      "*** 최선조기착수일후보: {'A': Timestamp('2024-01-11 00:00:00', freq='D')}\n",
      ">>> 최소요구납기충족리스트: [('A', Timestamp('2024-01-11 00:00:00', freq='D'))]\n",
      "*** 랜덤선택 최선정반명:A, 최선조기착수일:2024-01-11\n",
      "*** 레이아웃 적합도리스트 체크: 부적합\n",
      "\n",
      ">>> 제6차 레이아웃 적합도 검토\n",
      "*** 최선조기착수일후보: {'A': Timestamp('2024-01-14 00:00:00', freq='D')}\n",
      ">>> 최소요구납기충족리스트: [('A', Timestamp('2024-01-14 00:00:00', freq='D'))]\n",
      "*** 랜덤선택 최선정반명:A, 최선조기착수일:2024-01-14\n",
      "*** 레이아웃 적합도리스트 체크: 적합\n",
      "*** 정상배치 완료\n",
      "========================================================================================================================\n",
      "\n",
      "*** 검토대상블록: S10, 사이즈: (8, 16), 표준공기: 11, 최소착수요구일:2024-01-18\n",
      "*** 중량조건적합정반들: ['A']\n",
      "\n",
      ">>> 제1차 레이아웃 적합도 검토\n",
      "*** 최선조기착수일후보: {'A': Timestamp('2024-01-01 00:00:00', freq='D')}\n",
      ">>> 최소요구납기충족리스트: [('A', Timestamp('2024-01-01 00:00:00', freq='D'))]\n",
      "*** 랜덤선택 최선정반명:A, 최선조기착수일:2024-01-01\n",
      "*** 레이아웃 적합도리스트 체크: 부적합\n",
      "\n",
      ">>> 제2차 레이아웃 적합도 검토\n",
      "*** 최선조기착수일후보: {'A': Timestamp('2024-01-03 00:00:00', freq='D')}\n",
      ">>> 최소요구납기충족리스트: [('A', Timestamp('2024-01-03 00:00:00', freq='D'))]\n",
      "*** 랜덤선택 최선정반명:A, 최선조기착수일:2024-01-03\n",
      "*** 레이아웃 적합도리스트 체크: 부적합\n",
      "\n",
      ">>> 제3차 레이아웃 적합도 검토\n",
      "*** 최선조기착수일후보: {'A': Timestamp('2024-01-05 00:00:00', freq='D')}\n",
      ">>> 최소요구납기충족리스트: [('A', Timestamp('2024-01-05 00:00:00', freq='D'))]\n",
      "*** 랜덤선택 최선정반명:A, 최선조기착수일:2024-01-05\n",
      "*** 레이아웃 적합도리스트 체크: 부적합\n",
      "\n",
      ">>> 제4차 레이아웃 적합도 검토\n",
      "*** 최선조기착수일후보: {'A': Timestamp('2024-01-08 00:00:00', freq='D')}\n",
      ">>> 최소요구납기충족리스트: [('A', Timestamp('2024-01-08 00:00:00', freq='D'))]\n",
      "*** 랜덤선택 최선정반명:A, 최선조기착수일:2024-01-08\n",
      "*** 레이아웃 적합도리스트 체크: 부적합\n",
      "\n",
      ">>> 제5차 레이아웃 적합도 검토\n",
      "*** 최선조기착수일후보: {'A': Timestamp('2024-01-10 00:00:00', freq='D')}\n",
      ">>> 최소요구납기충족리스트: [('A', Timestamp('2024-01-10 00:00:00', freq='D'))]\n",
      "*** 랜덤선택 최선정반명:A, 최선조기착수일:2024-01-10\n",
      "*** 레이아웃 적합도리스트 체크: 부적합\n",
      "\n",
      ">>> 제6차 레이아웃 적합도 검토\n",
      "*** 최선조기착수일후보: {'A': Timestamp('2024-01-12 00:00:00', freq='D')}\n",
      ">>> 최소요구납기충족리스트: [('A', Timestamp('2024-01-12 00:00:00', freq='D'))]\n",
      "*** 랜덤선택 최선정반명:A, 최선조기착수일:2024-01-12\n",
      "*** 레이아웃 적합도리스트 체크: 적합\n",
      "*** 정상배치 완료\n",
      "========================================================================================================================\n",
      "\n",
      "*** 검토대상블록: S14, 사이즈: (15, 16), 표준공기: 9, 최소착수요구일:2024-01-23\n",
      "*** 중량조건적합정반들: ['A']\n",
      "\n",
      ">>> 제1차 레이아웃 적합도 검토\n",
      "*** 최선조기착수일후보: {'A': Timestamp('2024-01-01 00:00:00', freq='D')}\n",
      ">>> 최소요구납기충족리스트: [('A', Timestamp('2024-01-01 00:00:00', freq='D'))]\n",
      "*** 랜덤선택 최선정반명:A, 최선조기착수일:2024-01-01\n",
      "*** 레이아웃 적합도리스트 체크: 부적합\n",
      "\n",
      ">>> 제2차 레이아웃 적합도 검토\n",
      "*** 최선조기착수일후보: {'A': Timestamp('2024-01-03 00:00:00', freq='D')}\n",
      ">>> 최소요구납기충족리스트: [('A', Timestamp('2024-01-03 00:00:00', freq='D'))]\n",
      "*** 랜덤선택 최선정반명:A, 최선조기착수일:2024-01-03\n",
      "*** 레이아웃 적합도리스트 체크: 부적합\n",
      "\n",
      ">>> 제3차 레이아웃 적합도 검토\n",
      "*** 최선조기착수일후보: {'A': Timestamp('2024-01-05 00:00:00', freq='D')}\n",
      ">>> 최소요구납기충족리스트: [('A', Timestamp('2024-01-05 00:00:00', freq='D'))]\n",
      "*** 랜덤선택 최선정반명:A, 최선조기착수일:2024-01-05\n",
      "*** 레이아웃 적합도리스트 체크: 부적합\n",
      "\n",
      ">>> 제4차 레이아웃 적합도 검토\n",
      "*** 최선조기착수일후보: {'A': Timestamp('2024-01-06 00:00:00', freq='D')}\n",
      ">>> 최소요구납기충족리스트: [('A', Timestamp('2024-01-06 00:00:00', freq='D'))]\n",
      "*** 랜덤선택 최선정반명:A, 최선조기착수일:2024-01-06\n"
     ]
    },
    {
     "name": "stdout",
     "output_type": "stream",
     "text": [
      "*** 레이아웃 적합도리스트 체크: 부적합\n",
      "\n",
      ">>> 제5차 레이아웃 적합도 검토\n",
      "*** 최선조기착수일후보: {'A': Timestamp('2024-01-08 00:00:00', freq='D')}\n",
      ">>> 최소요구납기충족리스트: [('A', Timestamp('2024-01-08 00:00:00', freq='D'))]\n",
      "*** 랜덤선택 최선정반명:A, 최선조기착수일:2024-01-08\n",
      "*** 레이아웃 적합도리스트 체크: 부적합\n",
      "\n",
      ">>> 제6차 레이아웃 적합도 검토\n",
      "*** 최선조기착수일후보: {'A': Timestamp('2024-01-10 00:00:00', freq='D')}\n",
      ">>> 최소요구납기충족리스트: [('A', Timestamp('2024-01-10 00:00:00', freq='D'))]\n",
      "*** 랜덤선택 최선정반명:A, 최선조기착수일:2024-01-10\n",
      "*** 레이아웃 적합도리스트 체크: 부적합\n",
      "\n",
      ">>> 제7차 레이아웃 적합도 검토\n",
      "*** 최선조기착수일후보: {'A': Timestamp('2024-01-12 00:00:00', freq='D')}\n",
      ">>> 최소요구납기충족리스트: [('A', Timestamp('2024-01-12 00:00:00', freq='D'))]\n",
      "*** 랜덤선택 최선정반명:A, 최선조기착수일:2024-01-12\n",
      "*** 레이아웃 적합도리스트 체크: 부적합\n",
      "\n",
      ">>> 제8차 레이아웃 적합도 검토\n",
      "*** 최선조기착수일후보: {'A': Timestamp('2024-01-14 00:00:00', freq='D')}\n",
      ">>> 최소요구납기충족리스트: [('A', Timestamp('2024-01-14 00:00:00', freq='D'))]\n",
      "*** 랜덤선택 최선정반명:A, 최선조기착수일:2024-01-14\n",
      "*** 레이아웃 적합도리스트 체크: 부적합\n",
      "\n",
      ">>> 제9차 레이아웃 적합도 검토\n",
      "*** 최선조기착수일후보: {'A': Timestamp('2024-01-15 00:00:00', freq='D')}\n",
      ">>> 최소요구납기충족리스트: [('A', Timestamp('2024-01-15 00:00:00', freq='D'))]\n",
      "*** 랜덤선택 최선정반명:A, 최선조기착수일:2024-01-15\n",
      "*** 레이아웃 적합도리스트 체크: 부적합\n",
      "\n",
      ">>> 제10차 레이아웃 적합도 검토\n",
      "*** 최선조기착수일후보: {'A': Timestamp('2024-01-17 00:00:00', freq='D')}\n",
      ">>> 최소요구납기충족리스트: [('A', Timestamp('2024-01-17 00:00:00', freq='D'))]\n",
      "*** 랜덤선택 최선정반명:A, 최선조기착수일:2024-01-17\n",
      "*** 레이아웃 적합도리스트 체크: 부적합\n",
      "\n",
      ">>> 제11차 레이아웃 적합도 검토\n",
      "*** 최선조기착수일후보: {'A': Timestamp('2024-01-19 00:00:00', freq='D')}\n",
      ">>> 최소요구납기충족리스트: [('A', Timestamp('2024-01-19 00:00:00', freq='D'))]\n",
      "*** 랜덤선택 최선정반명:A, 최선조기착수일:2024-01-19\n",
      "*** 레이아웃 적합도리스트 체크: 부적합\n",
      "\n",
      ">>> 제12차 레이아웃 적합도 검토\n",
      "*** 최선조기착수일후보: {'A': Timestamp('2024-01-21 00:00:00', freq='D')}\n",
      ">>> 최소요구납기충족리스트: [('A', Timestamp('2024-01-21 00:00:00', freq='D'))]\n",
      "*** 랜덤선택 최선정반명:A, 최선조기착수일:2024-01-21\n",
      "*** 레이아웃 적합도리스트 체크: 부적합\n",
      "\n",
      ">>> 제13차 레이아웃 적합도 검토\n",
      "*** 최선조기착수일후보: {'A': Timestamp('2024-01-23 00:00:00', freq='D')}\n",
      ">>> 최소요구납기충족리스트: [('A', Timestamp('2024-01-23 00:00:00', freq='D'))]\n",
      "*** 랜덤선택 최선정반명:A, 최선조기착수일:2024-01-23\n",
      "*** 레이아웃 적합도리스트 체크: 부적합\n",
      "\n",
      ">>> 제14차 레이아웃 적합도 검토\n",
      "*** 최선조기착수일후보: {'A': Timestamp('2024-01-24 00:00:00', freq='D')}\n",
      ">>> 최소요구납기충족리스트: []\n",
      ">>> 최선조기착수 후보날짜가 없습니다.\n",
      "========================================================================================================================\n",
      "\n",
      "*** 검토대상블록: S12, 사이즈: (8, 15), 표준공기: 4, 최소착수요구일:2024-01-19\n",
      "*** 중량조건적합정반들: ['A']\n",
      "\n",
      ">>> 제1차 레이아웃 적합도 검토\n",
      "*** 최선조기착수일후보: {'A': Timestamp('2024-01-01 00:00:00', freq='D')}\n",
      ">>> 최소요구납기충족리스트: [('A', Timestamp('2024-01-01 00:00:00', freq='D'))]\n",
      "*** 랜덤선택 최선정반명:A, 최선조기착수일:2024-01-01\n",
      "*** 레이아웃 적합도리스트 체크: 부적합\n",
      "\n",
      ">>> 제2차 레이아웃 적합도 검토\n",
      "*** 최선조기착수일후보: {'A': Timestamp('2024-01-02 00:00:00', freq='D')}\n",
      ">>> 최소요구납기충족리스트: [('A', Timestamp('2024-01-02 00:00:00', freq='D'))]\n",
      "*** 랜덤선택 최선정반명:A, 최선조기착수일:2024-01-02\n",
      "*** 레이아웃 적합도리스트 체크: 부적합\n",
      "\n",
      ">>> 제3차 레이아웃 적합도 검토\n",
      "*** 최선조기착수일후보: {'A': Timestamp('2024-01-03 00:00:00', freq='D')}\n",
      ">>> 최소요구납기충족리스트: [('A', Timestamp('2024-01-03 00:00:00', freq='D'))]\n",
      "*** 랜덤선택 최선정반명:A, 최선조기착수일:2024-01-03\n",
      "*** 레이아웃 적합도리스트 체크: 부적합\n",
      "\n",
      ">>> 제4차 레이아웃 적합도 검토\n",
      "*** 최선조기착수일후보: {'A': Timestamp('2024-01-03 00:00:00', freq='D')}\n",
      ">>> 최소요구납기충족리스트: [('A', Timestamp('2024-01-03 00:00:00', freq='D'))]\n",
      "*** 랜덤선택 최선정반명:A, 최선조기착수일:2024-01-03\n",
      "*** 레이아웃 적합도리스트 체크: 부적합\n",
      "\n",
      ">>> 제5차 레이아웃 적합도 검토\n",
      "*** 최선조기착수일후보: {'A': Timestamp('2024-01-04 00:00:00', freq='D')}\n",
      ">>> 최소요구납기충족리스트: [('A', Timestamp('2024-01-04 00:00:00', freq='D'))]\n",
      "*** 랜덤선택 최선정반명:A, 최선조기착수일:2024-01-04\n",
      "*** 레이아웃 적합도리스트 체크: 부적합\n",
      "\n",
      ">>> 제6차 레이아웃 적합도 검토\n",
      "*** 최선조기착수일후보: {'A': Timestamp('2024-01-05 00:00:00', freq='D')}\n",
      ">>> 최소요구납기충족리스트: [('A', Timestamp('2024-01-05 00:00:00', freq='D'))]\n",
      "*** 랜덤선택 최선정반명:A, 최선조기착수일:2024-01-05\n",
      "*** 레이아웃 적합도리스트 체크: 부적합\n",
      "\n",
      ">>> 제7차 레이아웃 적합도 검토\n",
      "*** 최선조기착수일후보: {'A': Timestamp('2024-01-06 00:00:00', freq='D')}\n",
      ">>> 최소요구납기충족리스트: [('A', Timestamp('2024-01-06 00:00:00', freq='D'))]\n",
      "*** 랜덤선택 최선정반명:A, 최선조기착수일:2024-01-06\n",
      "*** 레이아웃 적합도리스트 체크: 부적합\n",
      "\n",
      ">>> 제8차 레이아웃 적합도 검토\n",
      "*** 최선조기착수일후보: {'A': Timestamp('2024-01-07 00:00:00', freq='D')}\n",
      ">>> 최소요구납기충족리스트: [('A', Timestamp('2024-01-07 00:00:00', freq='D'))]\n",
      "*** 랜덤선택 최선정반명:A, 최선조기착수일:2024-01-07\n",
      "*** 레이아웃 적합도리스트 체크: 부적합\n",
      "\n",
      ">>> 제9차 레이아웃 적합도 검토\n",
      "*** 최선조기착수일후보: {'A': Timestamp('2024-01-07 00:00:00', freq='D')}\n",
      ">>> 최소요구납기충족리스트: [('A', Timestamp('2024-01-07 00:00:00', freq='D'))]\n",
      "*** 랜덤선택 최선정반명:A, 최선조기착수일:2024-01-07\n",
      "*** 레이아웃 적합도리스트 체크: 부적합\n",
      "\n",
      ">>> 제10차 레이아웃 적합도 검토\n",
      "*** 최선조기착수일후보: {'A': Timestamp('2024-01-08 00:00:00', freq='D')}\n",
      ">>> 최소요구납기충족리스트: [('A', Timestamp('2024-01-08 00:00:00', freq='D'))]\n",
      "*** 랜덤선택 최선정반명:A, 최선조기착수일:2024-01-08\n",
      "*** 레이아웃 적합도리스트 체크: 부적합\n",
      "\n",
      ">>> 제11차 레이아웃 적합도 검토\n",
      "*** 최선조기착수일후보: {'A': Timestamp('2024-01-09 00:00:00', freq='D')}\n",
      ">>> 최소요구납기충족리스트: [('A', Timestamp('2024-01-09 00:00:00', freq='D'))]\n",
      "*** 랜덤선택 최선정반명:A, 최선조기착수일:2024-01-09\n",
      "*** 레이아웃 적합도리스트 체크: 부적합\n",
      "\n",
      ">>> 제12차 레이아웃 적합도 검토\n",
      "*** 최선조기착수일후보: {'A': Timestamp('2024-01-10 00:00:00', freq='D')}\n",
      ">>> 최소요구납기충족리스트: [('A', Timestamp('2024-01-10 00:00:00', freq='D'))]\n",
      "*** 랜덤선택 최선정반명:A, 최선조기착수일:2024-01-10\n",
      "*** 레이아웃 적합도리스트 체크: 부적합\n",
      "\n",
      ">>> 제13차 레이아웃 적합도 검토\n",
      "*** 최선조기착수일후보: {'A': Timestamp('2024-01-11 00:00:00', freq='D')}\n",
      ">>> 최소요구납기충족리스트: [('A', Timestamp('2024-01-11 00:00:00', freq='D'))]\n",
      "*** 랜덤선택 최선정반명:A, 최선조기착수일:2024-01-11\n",
      "*** 레이아웃 적합도리스트 체크: 부적합\n",
      "\n",
      ">>> 제14차 레이아웃 적합도 검토\n",
      "*** 최선조기착수일후보: {'A': Timestamp('2024-01-11 00:00:00', freq='D')}\n",
      ">>> 최소요구납기충족리스트: [('A', Timestamp('2024-01-11 00:00:00', freq='D'))]\n",
      "*** 랜덤선택 최선정반명:A, 최선조기착수일:2024-01-11\n",
      "*** 레이아웃 적합도리스트 체크: 부적합\n",
      "\n",
      ">>> 제15차 레이아웃 적합도 검토\n",
      "*** 최선조기착수일후보: {'A': Timestamp('2024-01-12 00:00:00', freq='D')}\n",
      ">>> 최소요구납기충족리스트: [('A', Timestamp('2024-01-12 00:00:00', freq='D'))]\n",
      "*** 랜덤선택 최선정반명:A, 최선조기착수일:2024-01-12\n",
      "*** 레이아웃 적합도리스트 체크: 부적합\n",
      "\n",
      ">>> 제16차 레이아웃 적합도 검토\n",
      "*** 최선조기착수일후보: {'A': Timestamp('2024-01-13 00:00:00', freq='D')}\n",
      ">>> 최소요구납기충족리스트: [('A', Timestamp('2024-01-13 00:00:00', freq='D'))]\n",
      "*** 랜덤선택 최선정반명:A, 최선조기착수일:2024-01-13\n",
      "*** 레이아웃 적합도리스트 체크: 부적합\n",
      "\n",
      ">>> 제17차 레이아웃 적합도 검토\n",
      "*** 최선조기착수일후보: {'A': Timestamp('2024-01-14 00:00:00', freq='D')}\n",
      ">>> 최소요구납기충족리스트: [('A', Timestamp('2024-01-14 00:00:00', freq='D'))]\n",
      "*** 랜덤선택 최선정반명:A, 최선조기착수일:2024-01-14\n",
      "*** 레이아웃 적합도리스트 체크: 부적합\n",
      "\n",
      ">>> 제18차 레이아웃 적합도 검토\n",
      "*** 최선조기착수일후보: {'A': Timestamp('2024-01-15 00:00:00', freq='D')}\n",
      ">>> 최소요구납기충족리스트: [('A', Timestamp('2024-01-15 00:00:00', freq='D'))]\n",
      "*** 랜덤선택 최선정반명:A, 최선조기착수일:2024-01-15\n",
      "*** 레이아웃 적합도리스트 체크: 부적합\n",
      "\n",
      ">>> 제19차 레이아웃 적합도 검토\n",
      "*** 최선조기착수일후보: {'A': Timestamp('2024-01-15 00:00:00', freq='D')}\n",
      ">>> 최소요구납기충족리스트: [('A', Timestamp('2024-01-15 00:00:00', freq='D'))]\n",
      "*** 랜덤선택 최선정반명:A, 최선조기착수일:2024-01-15\n",
      "*** 레이아웃 적합도리스트 체크: 부적합\n",
      "\n",
      ">>> 제20차 레이아웃 적합도 검토\n",
      "*** 최선조기착수일후보: {'A': Timestamp('2024-01-16 00:00:00', freq='D')}\n",
      ">>> 최소요구납기충족리스트: [('A', Timestamp('2024-01-16 00:00:00', freq='D'))]\n",
      "*** 랜덤선택 최선정반명:A, 최선조기착수일:2024-01-16\n",
      "*** 레이아웃 적합도리스트 체크: 부적합\n",
      "\n",
      ">>> 제21차 레이아웃 적합도 검토\n",
      "*** 최선조기착수일후보: {'A': Timestamp('2024-01-17 00:00:00', freq='D')}\n",
      ">>> 최소요구납기충족리스트: [('A', Timestamp('2024-01-17 00:00:00', freq='D'))]\n",
      "*** 랜덤선택 최선정반명:A, 최선조기착수일:2024-01-17\n",
      "*** 레이아웃 적합도리스트 체크: 부적합\n",
      "\n",
      ">>> 제22차 레이아웃 적합도 검토\n",
      "*** 최선조기착수일후보: {'A': Timestamp('2024-01-18 00:00:00', freq='D')}\n",
      ">>> 최소요구납기충족리스트: [('A', Timestamp('2024-01-18 00:00:00', freq='D'))]\n",
      "*** 랜덤선택 최선정반명:A, 최선조기착수일:2024-01-18\n",
      "*** 레이아웃 적합도리스트 체크: 부적합\n",
      "\n",
      ">>> 제23차 레이아웃 적합도 검토\n",
      "*** 최선조기착수일후보: {'A': Timestamp('2024-01-19 00:00:00', freq='D')}\n",
      ">>> 최소요구납기충족리스트: [('A', Timestamp('2024-01-19 00:00:00', freq='D'))]\n",
      "*** 랜덤선택 최선정반명:A, 최선조기착수일:2024-01-19\n",
      "*** 레이아웃 적합도리스트 체크: 적합\n",
      "*** 정상배치 완료\n",
      "========================================================================================================================\n",
      "\n",
      "*** 검토대상블록: S16, 사이즈: (12, 14), 표준공기: 15, 최소착수요구일:2024-01-24\n",
      "*** 중량조건적합정반들: ['A']\n",
      "\n",
      ">>> 제1차 레이아웃 적합도 검토\n",
      "*** 최선조기착수일후보: {'A': Timestamp('2024-01-01 00:00:00', freq='D')}\n",
      ">>> 최소요구납기충족리스트: [('A', Timestamp('2024-01-01 00:00:00', freq='D'))]\n",
      "*** 랜덤선택 최선정반명:A, 최선조기착수일:2024-01-01\n",
      "*** 레이아웃 적합도리스트 체크: 부적합\n",
      "\n",
      ">>> 제2차 레이아웃 적합도 검토\n",
      "*** 최선조기착수일후보: {'A': Timestamp('2024-01-04 00:00:00', freq='D')}\n",
      ">>> 최소요구납기충족리스트: [('A', Timestamp('2024-01-04 00:00:00', freq='D'))]\n",
      "*** 랜덤선택 최선정반명:A, 최선조기착수일:2024-01-04\n",
      "*** 레이아웃 적합도리스트 체크: 부적합\n",
      "\n",
      ">>> 제3차 레이아웃 적합도 검토\n",
      "*** 최선조기착수일후보: {'A': Timestamp('2024-01-07 00:00:00', freq='D')}\n",
      ">>> 최소요구납기충족리스트: [('A', Timestamp('2024-01-07 00:00:00', freq='D'))]\n",
      "*** 랜덤선택 최선정반명:A, 최선조기착수일:2024-01-07\n",
      "*** 레이아웃 적합도리스트 체크: 부적합\n",
      "\n",
      ">>> 제4차 레이아웃 적합도 검토\n",
      "*** 최선조기착수일후보: {'A': Timestamp('2024-01-10 00:00:00', freq='D')}\n",
      ">>> 최소요구납기충족리스트: [('A', Timestamp('2024-01-10 00:00:00', freq='D'))]\n",
      "*** 랜덤선택 최선정반명:A, 최선조기착수일:2024-01-10\n"
     ]
    },
    {
     "name": "stdout",
     "output_type": "stream",
     "text": [
      "*** 레이아웃 적합도리스트 체크: 부적합\n",
      "\n",
      ">>> 제5차 레이아웃 적합도 검토\n",
      "*** 최선조기착수일후보: {'A': Timestamp('2024-01-13 00:00:00', freq='D')}\n",
      ">>> 최소요구납기충족리스트: [('A', Timestamp('2024-01-13 00:00:00', freq='D'))]\n",
      "*** 랜덤선택 최선정반명:A, 최선조기착수일:2024-01-13\n",
      "*** 레이아웃 적합도리스트 체크: 부적합\n",
      "\n",
      ">>> 제6차 레이아웃 적합도 검토\n",
      "*** 최선조기착수일후보: {'A': Timestamp('2024-01-16 00:00:00', freq='D')}\n",
      ">>> 최소요구납기충족리스트: [('A', Timestamp('2024-01-16 00:00:00', freq='D'))]\n",
      "*** 랜덤선택 최선정반명:A, 최선조기착수일:2024-01-16\n",
      "*** 레이아웃 적합도리스트 체크: 부적합\n",
      "\n",
      ">>> 제7차 레이아웃 적합도 검토\n",
      "*** 최선조기착수일후보: {'A': Timestamp('2024-01-19 00:00:00', freq='D')}\n",
      ">>> 최소요구납기충족리스트: [('A', Timestamp('2024-01-19 00:00:00', freq='D'))]\n",
      "*** 랜덤선택 최선정반명:A, 최선조기착수일:2024-01-19\n",
      "*** 레이아웃 적합도리스트 체크: 적합\n",
      "*** 정상배치 완료\n",
      "========================================================================================================================\n",
      "\n",
      "*** 검토대상블록: S18, 사이즈: (13, 16), 표준공기: 4, 최소착수요구일:2024-01-28\n",
      "*** 중량조건적합정반들: ['A']\n",
      "\n",
      ">>> 제1차 레이아웃 적합도 검토\n",
      "*** 최선조기착수일후보: {'A': Timestamp('2024-01-01 00:00:00', freq='D')}\n",
      ">>> 최소요구납기충족리스트: [('A', Timestamp('2024-01-01 00:00:00', freq='D'))]\n",
      "*** 랜덤선택 최선정반명:A, 최선조기착수일:2024-01-01\n",
      "*** 레이아웃 적합도리스트 체크: 부적합\n",
      "\n",
      ">>> 제2차 레이아웃 적합도 검토\n",
      "*** 최선조기착수일후보: {'A': Timestamp('2024-01-02 00:00:00', freq='D')}\n",
      ">>> 최소요구납기충족리스트: [('A', Timestamp('2024-01-02 00:00:00', freq='D'))]\n",
      "*** 랜덤선택 최선정반명:A, 최선조기착수일:2024-01-02\n",
      "*** 레이아웃 적합도리스트 체크: 부적합\n",
      "\n",
      ">>> 제3차 레이아웃 적합도 검토\n",
      "*** 최선조기착수일후보: {'A': Timestamp('2024-01-03 00:00:00', freq='D')}\n",
      ">>> 최소요구납기충족리스트: [('A', Timestamp('2024-01-03 00:00:00', freq='D'))]\n",
      "*** 랜덤선택 최선정반명:A, 최선조기착수일:2024-01-03\n",
      "*** 레이아웃 적합도리스트 체크: 부적합\n",
      "\n",
      ">>> 제4차 레이아웃 적합도 검토\n",
      "*** 최선조기착수일후보: {'A': Timestamp('2024-01-03 00:00:00', freq='D')}\n",
      ">>> 최소요구납기충족리스트: [('A', Timestamp('2024-01-03 00:00:00', freq='D'))]\n",
      "*** 랜덤선택 최선정반명:A, 최선조기착수일:2024-01-03\n",
      "*** 레이아웃 적합도리스트 체크: 부적합\n",
      "\n",
      ">>> 제5차 레이아웃 적합도 검토\n",
      "*** 최선조기착수일후보: {'A': Timestamp('2024-01-04 00:00:00', freq='D')}\n",
      ">>> 최소요구납기충족리스트: [('A', Timestamp('2024-01-04 00:00:00', freq='D'))]\n",
      "*** 랜덤선택 최선정반명:A, 최선조기착수일:2024-01-04\n",
      "*** 레이아웃 적합도리스트 체크: 부적합\n",
      "\n",
      ">>> 제6차 레이아웃 적합도 검토\n",
      "*** 최선조기착수일후보: {'A': Timestamp('2024-01-05 00:00:00', freq='D')}\n",
      ">>> 최소요구납기충족리스트: [('A', Timestamp('2024-01-05 00:00:00', freq='D'))]\n",
      "*** 랜덤선택 최선정반명:A, 최선조기착수일:2024-01-05\n",
      "*** 레이아웃 적합도리스트 체크: 부적합\n",
      "\n",
      ">>> 제7차 레이아웃 적합도 검토\n",
      "*** 최선조기착수일후보: {'A': Timestamp('2024-01-06 00:00:00', freq='D')}\n",
      ">>> 최소요구납기충족리스트: [('A', Timestamp('2024-01-06 00:00:00', freq='D'))]\n",
      "*** 랜덤선택 최선정반명:A, 최선조기착수일:2024-01-06\n",
      "*** 레이아웃 적합도리스트 체크: 부적합\n",
      "\n",
      ">>> 제8차 레이아웃 적합도 검토\n",
      "*** 최선조기착수일후보: {'A': Timestamp('2024-01-07 00:00:00', freq='D')}\n",
      ">>> 최소요구납기충족리스트: [('A', Timestamp('2024-01-07 00:00:00', freq='D'))]\n",
      "*** 랜덤선택 최선정반명:A, 최선조기착수일:2024-01-07\n",
      "*** 레이아웃 적합도리스트 체크: 부적합\n",
      "\n",
      ">>> 제9차 레이아웃 적합도 검토\n",
      "*** 최선조기착수일후보: {'A': Timestamp('2024-01-07 00:00:00', freq='D')}\n",
      ">>> 최소요구납기충족리스트: [('A', Timestamp('2024-01-07 00:00:00', freq='D'))]\n",
      "*** 랜덤선택 최선정반명:A, 최선조기착수일:2024-01-07\n",
      "*** 레이아웃 적합도리스트 체크: 부적합\n",
      "\n",
      ">>> 제10차 레이아웃 적합도 검토\n",
      "*** 최선조기착수일후보: {'A': Timestamp('2024-01-08 00:00:00', freq='D')}\n",
      ">>> 최소요구납기충족리스트: [('A', Timestamp('2024-01-08 00:00:00', freq='D'))]\n",
      "*** 랜덤선택 최선정반명:A, 최선조기착수일:2024-01-08\n",
      "*** 레이아웃 적합도리스트 체크: 부적합\n",
      "\n",
      ">>> 제11차 레이아웃 적합도 검토\n",
      "*** 최선조기착수일후보: {'A': Timestamp('2024-01-09 00:00:00', freq='D')}\n",
      ">>> 최소요구납기충족리스트: [('A', Timestamp('2024-01-09 00:00:00', freq='D'))]\n",
      "*** 랜덤선택 최선정반명:A, 최선조기착수일:2024-01-09\n",
      "*** 레이아웃 적합도리스트 체크: 부적합\n",
      "\n",
      ">>> 제12차 레이아웃 적합도 검토\n",
      "*** 최선조기착수일후보: {'A': Timestamp('2024-01-10 00:00:00', freq='D')}\n",
      ">>> 최소요구납기충족리스트: [('A', Timestamp('2024-01-10 00:00:00', freq='D'))]\n",
      "*** 랜덤선택 최선정반명:A, 최선조기착수일:2024-01-10\n",
      "*** 레이아웃 적합도리스트 체크: 부적합\n",
      "\n",
      ">>> 제13차 레이아웃 적합도 검토\n",
      "*** 최선조기착수일후보: {'A': Timestamp('2024-01-11 00:00:00', freq='D')}\n",
      ">>> 최소요구납기충족리스트: [('A', Timestamp('2024-01-11 00:00:00', freq='D'))]\n",
      "*** 랜덤선택 최선정반명:A, 최선조기착수일:2024-01-11\n",
      "*** 레이아웃 적합도리스트 체크: 부적합\n",
      "\n",
      ">>> 제14차 레이아웃 적합도 검토\n",
      "*** 최선조기착수일후보: {'A': Timestamp('2024-01-11 00:00:00', freq='D')}\n",
      ">>> 최소요구납기충족리스트: [('A', Timestamp('2024-01-11 00:00:00', freq='D'))]\n",
      "*** 랜덤선택 최선정반명:A, 최선조기착수일:2024-01-11\n",
      "*** 레이아웃 적합도리스트 체크: 부적합\n",
      "\n",
      ">>> 제15차 레이아웃 적합도 검토\n",
      "*** 최선조기착수일후보: {'A': Timestamp('2024-01-12 00:00:00', freq='D')}\n",
      ">>> 최소요구납기충족리스트: [('A', Timestamp('2024-01-12 00:00:00', freq='D'))]\n",
      "*** 랜덤선택 최선정반명:A, 최선조기착수일:2024-01-12\n",
      "*** 레이아웃 적합도리스트 체크: 부적합\n",
      "\n",
      ">>> 제16차 레이아웃 적합도 검토\n",
      "*** 최선조기착수일후보: {'A': Timestamp('2024-01-13 00:00:00', freq='D')}\n",
      ">>> 최소요구납기충족리스트: [('A', Timestamp('2024-01-13 00:00:00', freq='D'))]\n",
      "*** 랜덤선택 최선정반명:A, 최선조기착수일:2024-01-13\n",
      "*** 레이아웃 적합도리스트 체크: 부적합\n",
      "\n",
      ">>> 제17차 레이아웃 적합도 검토\n",
      "*** 최선조기착수일후보: {'A': Timestamp('2024-01-14 00:00:00', freq='D')}\n",
      ">>> 최소요구납기충족리스트: [('A', Timestamp('2024-01-14 00:00:00', freq='D'))]\n",
      "*** 랜덤선택 최선정반명:A, 최선조기착수일:2024-01-14\n",
      "*** 레이아웃 적합도리스트 체크: 부적합\n",
      "\n",
      ">>> 제18차 레이아웃 적합도 검토\n",
      "*** 최선조기착수일후보: {'A': Timestamp('2024-01-15 00:00:00', freq='D')}\n",
      ">>> 최소요구납기충족리스트: [('A', Timestamp('2024-01-15 00:00:00', freq='D'))]\n",
      "*** 랜덤선택 최선정반명:A, 최선조기착수일:2024-01-15\n",
      "*** 레이아웃 적합도리스트 체크: 부적합\n",
      "\n",
      ">>> 제19차 레이아웃 적합도 검토\n",
      "*** 최선조기착수일후보: {'A': Timestamp('2024-01-15 00:00:00', freq='D')}\n",
      ">>> 최소요구납기충족리스트: [('A', Timestamp('2024-01-15 00:00:00', freq='D'))]\n",
      "*** 랜덤선택 최선정반명:A, 최선조기착수일:2024-01-15\n",
      "*** 레이아웃 적합도리스트 체크: 부적합\n",
      "\n",
      ">>> 제20차 레이아웃 적합도 검토\n",
      "*** 최선조기착수일후보: {'A': Timestamp('2024-01-16 00:00:00', freq='D')}\n",
      ">>> 최소요구납기충족리스트: [('A', Timestamp('2024-01-16 00:00:00', freq='D'))]\n",
      "*** 랜덤선택 최선정반명:A, 최선조기착수일:2024-01-16\n",
      "*** 레이아웃 적합도리스트 체크: 부적합\n",
      "\n",
      ">>> 제21차 레이아웃 적합도 검토\n",
      "*** 최선조기착수일후보: {'A': Timestamp('2024-01-17 00:00:00', freq='D')}\n",
      ">>> 최소요구납기충족리스트: [('A', Timestamp('2024-01-17 00:00:00', freq='D'))]\n",
      "*** 랜덤선택 최선정반명:A, 최선조기착수일:2024-01-17\n",
      "*** 레이아웃 적합도리스트 체크: 부적합\n",
      "\n",
      ">>> 제22차 레이아웃 적합도 검토\n",
      "*** 최선조기착수일후보: {'A': Timestamp('2024-01-18 00:00:00', freq='D')}\n",
      ">>> 최소요구납기충족리스트: [('A', Timestamp('2024-01-18 00:00:00', freq='D'))]\n",
      "*** 랜덤선택 최선정반명:A, 최선조기착수일:2024-01-18\n",
      "*** 레이아웃 적합도리스트 체크: 부적합\n",
      "\n",
      ">>> 제23차 레이아웃 적합도 검토\n",
      "*** 최선조기착수일후보: {'A': Timestamp('2024-01-19 00:00:00', freq='D')}\n",
      ">>> 최소요구납기충족리스트: [('A', Timestamp('2024-01-19 00:00:00', freq='D'))]\n",
      "*** 랜덤선택 최선정반명:A, 최선조기착수일:2024-01-19\n",
      "*** 레이아웃 적합도리스트 체크: 부적합\n",
      "\n",
      ">>> 제24차 레이아웃 적합도 검토\n",
      "*** 최선조기착수일후보: {'A': Timestamp('2024-01-19 00:00:00', freq='D')}\n",
      ">>> 최소요구납기충족리스트: [('A', Timestamp('2024-01-19 00:00:00', freq='D'))]\n",
      "*** 랜덤선택 최선정반명:A, 최선조기착수일:2024-01-19\n",
      "*** 레이아웃 적합도리스트 체크: 부적합\n",
      "\n",
      ">>> 제25차 레이아웃 적합도 검토\n",
      "*** 최선조기착수일후보: {'A': Timestamp('2024-01-20 00:00:00', freq='D')}\n",
      ">>> 최소요구납기충족리스트: [('A', Timestamp('2024-01-20 00:00:00', freq='D'))]\n",
      "*** 랜덤선택 최선정반명:A, 최선조기착수일:2024-01-20\n",
      "*** 레이아웃 적합도리스트 체크: 부적합\n",
      "\n",
      ">>> 제26차 레이아웃 적합도 검토\n",
      "*** 최선조기착수일후보: {'A': Timestamp('2024-01-21 00:00:00', freq='D')}\n",
      ">>> 최소요구납기충족리스트: [('A', Timestamp('2024-01-21 00:00:00', freq='D'))]\n",
      "*** 랜덤선택 최선정반명:A, 최선조기착수일:2024-01-21\n",
      "*** 레이아웃 적합도리스트 체크: 부적합\n",
      "\n",
      ">>> 제27차 레이아웃 적합도 검토\n",
      "*** 최선조기착수일후보: {'A': Timestamp('2024-01-22 00:00:00', freq='D')}\n",
      ">>> 최소요구납기충족리스트: [('A', Timestamp('2024-01-22 00:00:00', freq='D'))]\n",
      "*** 랜덤선택 최선정반명:A, 최선조기착수일:2024-01-22\n",
      "*** 레이아웃 적합도리스트 체크: 부적합\n",
      "\n",
      ">>> 제28차 레이아웃 적합도 검토\n",
      "*** 최선조기착수일후보: {'A': Timestamp('2024-01-23 00:00:00', freq='D')}\n",
      ">>> 최소요구납기충족리스트: [('A', Timestamp('2024-01-23 00:00:00', freq='D'))]\n",
      "*** 랜덤선택 최선정반명:A, 최선조기착수일:2024-01-23\n",
      "*** 레이아웃 적합도리스트 체크: 적합\n",
      "*** 정상배치 완료\n",
      "========================================================================================================================\n",
      "\n",
      "*** 검토대상블록: S15, 사이즈: (13, 14), 표준공기: 4, 최소착수요구일:2024-02-01\n",
      "*** 중량조건적합정반들: ['A']\n",
      "\n",
      ">>> 제1차 레이아웃 적합도 검토\n",
      "*** 최선조기착수일후보: {'A': Timestamp('2024-01-01 00:00:00', freq='D')}\n",
      ">>> 최소요구납기충족리스트: [('A', Timestamp('2024-01-01 00:00:00', freq='D'))]\n",
      "*** 랜덤선택 최선정반명:A, 최선조기착수일:2024-01-01\n",
      "*** 레이아웃 적합도리스트 체크: 부적합\n",
      "\n",
      ">>> 제2차 레이아웃 적합도 검토\n",
      "*** 최선조기착수일후보: {'A': Timestamp('2024-01-02 00:00:00', freq='D')}\n",
      ">>> 최소요구납기충족리스트: [('A', Timestamp('2024-01-02 00:00:00', freq='D'))]\n",
      "*** 랜덤선택 최선정반명:A, 최선조기착수일:2024-01-02\n",
      "*** 레이아웃 적합도리스트 체크: 부적합\n",
      "\n",
      ">>> 제3차 레이아웃 적합도 검토\n",
      "*** 최선조기착수일후보: {'A': Timestamp('2024-01-03 00:00:00', freq='D')}\n",
      ">>> 최소요구납기충족리스트: [('A', Timestamp('2024-01-03 00:00:00', freq='D'))]\n",
      "*** 랜덤선택 최선정반명:A, 최선조기착수일:2024-01-03\n",
      "*** 레이아웃 적합도리스트 체크: 부적합\n",
      "\n",
      ">>> 제4차 레이아웃 적합도 검토\n",
      "*** 최선조기착수일후보: {'A': Timestamp('2024-01-03 00:00:00', freq='D')}\n",
      ">>> 최소요구납기충족리스트: [('A', Timestamp('2024-01-03 00:00:00', freq='D'))]\n",
      "*** 랜덤선택 최선정반명:A, 최선조기착수일:2024-01-03\n",
      "*** 레이아웃 적합도리스트 체크: 부적합\n",
      "\n",
      ">>> 제5차 레이아웃 적합도 검토\n",
      "*** 최선조기착수일후보: {'A': Timestamp('2024-01-04 00:00:00', freq='D')}\n",
      ">>> 최소요구납기충족리스트: [('A', Timestamp('2024-01-04 00:00:00', freq='D'))]\n",
      "*** 랜덤선택 최선정반명:A, 최선조기착수일:2024-01-04\n"
     ]
    },
    {
     "name": "stdout",
     "output_type": "stream",
     "text": [
      "*** 레이아웃 적합도리스트 체크: 부적합\n",
      "\n",
      ">>> 제6차 레이아웃 적합도 검토\n",
      "*** 최선조기착수일후보: {'A': Timestamp('2024-01-05 00:00:00', freq='D')}\n",
      ">>> 최소요구납기충족리스트: [('A', Timestamp('2024-01-05 00:00:00', freq='D'))]\n",
      "*** 랜덤선택 최선정반명:A, 최선조기착수일:2024-01-05\n",
      "*** 레이아웃 적합도리스트 체크: 부적합\n",
      "\n",
      ">>> 제7차 레이아웃 적합도 검토\n",
      "*** 최선조기착수일후보: {'A': Timestamp('2024-01-06 00:00:00', freq='D')}\n",
      ">>> 최소요구납기충족리스트: [('A', Timestamp('2024-01-06 00:00:00', freq='D'))]\n",
      "*** 랜덤선택 최선정반명:A, 최선조기착수일:2024-01-06\n",
      "*** 레이아웃 적합도리스트 체크: 부적합\n",
      "\n",
      ">>> 제8차 레이아웃 적합도 검토\n",
      "*** 최선조기착수일후보: {'A': Timestamp('2024-01-07 00:00:00', freq='D')}\n",
      ">>> 최소요구납기충족리스트: [('A', Timestamp('2024-01-07 00:00:00', freq='D'))]\n",
      "*** 랜덤선택 최선정반명:A, 최선조기착수일:2024-01-07\n",
      "*** 레이아웃 적합도리스트 체크: 부적합\n",
      "\n",
      ">>> 제9차 레이아웃 적합도 검토\n",
      "*** 최선조기착수일후보: {'A': Timestamp('2024-01-07 00:00:00', freq='D')}\n",
      ">>> 최소요구납기충족리스트: [('A', Timestamp('2024-01-07 00:00:00', freq='D'))]\n",
      "*** 랜덤선택 최선정반명:A, 최선조기착수일:2024-01-07\n",
      "*** 레이아웃 적합도리스트 체크: 부적합\n",
      "\n",
      ">>> 제10차 레이아웃 적합도 검토\n",
      "*** 최선조기착수일후보: {'A': Timestamp('2024-01-08 00:00:00', freq='D')}\n",
      ">>> 최소요구납기충족리스트: [('A', Timestamp('2024-01-08 00:00:00', freq='D'))]\n",
      "*** 랜덤선택 최선정반명:A, 최선조기착수일:2024-01-08\n",
      "*** 레이아웃 적합도리스트 체크: 부적합\n",
      "\n",
      ">>> 제11차 레이아웃 적합도 검토\n",
      "*** 최선조기착수일후보: {'A': Timestamp('2024-01-09 00:00:00', freq='D')}\n",
      ">>> 최소요구납기충족리스트: [('A', Timestamp('2024-01-09 00:00:00', freq='D'))]\n",
      "*** 랜덤선택 최선정반명:A, 최선조기착수일:2024-01-09\n",
      "*** 레이아웃 적합도리스트 체크: 부적합\n",
      "\n",
      ">>> 제12차 레이아웃 적합도 검토\n",
      "*** 최선조기착수일후보: {'A': Timestamp('2024-01-10 00:00:00', freq='D')}\n",
      ">>> 최소요구납기충족리스트: [('A', Timestamp('2024-01-10 00:00:00', freq='D'))]\n",
      "*** 랜덤선택 최선정반명:A, 최선조기착수일:2024-01-10\n",
      "*** 레이아웃 적합도리스트 체크: 부적합\n",
      "\n",
      ">>> 제13차 레이아웃 적합도 검토\n",
      "*** 최선조기착수일후보: {'A': Timestamp('2024-01-11 00:00:00', freq='D')}\n",
      ">>> 최소요구납기충족리스트: [('A', Timestamp('2024-01-11 00:00:00', freq='D'))]\n",
      "*** 랜덤선택 최선정반명:A, 최선조기착수일:2024-01-11\n",
      "*** 레이아웃 적합도리스트 체크: 부적합\n",
      "\n",
      ">>> 제14차 레이아웃 적합도 검토\n",
      "*** 최선조기착수일후보: {'A': Timestamp('2024-01-11 00:00:00', freq='D')}\n",
      ">>> 최소요구납기충족리스트: [('A', Timestamp('2024-01-11 00:00:00', freq='D'))]\n",
      "*** 랜덤선택 최선정반명:A, 최선조기착수일:2024-01-11\n",
      "*** 레이아웃 적합도리스트 체크: 부적합\n",
      "\n",
      ">>> 제15차 레이아웃 적합도 검토\n",
      "*** 최선조기착수일후보: {'A': Timestamp('2024-01-12 00:00:00', freq='D')}\n",
      ">>> 최소요구납기충족리스트: [('A', Timestamp('2024-01-12 00:00:00', freq='D'))]\n",
      "*** 랜덤선택 최선정반명:A, 최선조기착수일:2024-01-12\n",
      "*** 레이아웃 적합도리스트 체크: 부적합\n",
      "\n",
      ">>> 제16차 레이아웃 적합도 검토\n",
      "*** 최선조기착수일후보: {'A': Timestamp('2024-01-13 00:00:00', freq='D')}\n",
      ">>> 최소요구납기충족리스트: [('A', Timestamp('2024-01-13 00:00:00', freq='D'))]\n",
      "*** 랜덤선택 최선정반명:A, 최선조기착수일:2024-01-13\n",
      "*** 레이아웃 적합도리스트 체크: 부적합\n",
      "\n",
      ">>> 제17차 레이아웃 적합도 검토\n",
      "*** 최선조기착수일후보: {'A': Timestamp('2024-01-14 00:00:00', freq='D')}\n",
      ">>> 최소요구납기충족리스트: [('A', Timestamp('2024-01-14 00:00:00', freq='D'))]\n",
      "*** 랜덤선택 최선정반명:A, 최선조기착수일:2024-01-14\n",
      "*** 레이아웃 적합도리스트 체크: 부적합\n",
      "\n",
      ">>> 제18차 레이아웃 적합도 검토\n",
      "*** 최선조기착수일후보: {'A': Timestamp('2024-01-15 00:00:00', freq='D')}\n",
      ">>> 최소요구납기충족리스트: [('A', Timestamp('2024-01-15 00:00:00', freq='D'))]\n",
      "*** 랜덤선택 최선정반명:A, 최선조기착수일:2024-01-15\n",
      "*** 레이아웃 적합도리스트 체크: 부적합\n",
      "\n",
      ">>> 제19차 레이아웃 적합도 검토\n",
      "*** 최선조기착수일후보: {'A': Timestamp('2024-01-15 00:00:00', freq='D')}\n",
      ">>> 최소요구납기충족리스트: [('A', Timestamp('2024-01-15 00:00:00', freq='D'))]\n",
      "*** 랜덤선택 최선정반명:A, 최선조기착수일:2024-01-15\n",
      "*** 레이아웃 적합도리스트 체크: 부적합\n",
      "\n",
      ">>> 제20차 레이아웃 적합도 검토\n",
      "*** 최선조기착수일후보: {'A': Timestamp('2024-01-16 00:00:00', freq='D')}\n",
      ">>> 최소요구납기충족리스트: [('A', Timestamp('2024-01-16 00:00:00', freq='D'))]\n",
      "*** 랜덤선택 최선정반명:A, 최선조기착수일:2024-01-16\n",
      "*** 레이아웃 적합도리스트 체크: 부적합\n",
      "\n",
      ">>> 제21차 레이아웃 적합도 검토\n",
      "*** 최선조기착수일후보: {'A': Timestamp('2024-01-17 00:00:00', freq='D')}\n",
      ">>> 최소요구납기충족리스트: [('A', Timestamp('2024-01-17 00:00:00', freq='D'))]\n",
      "*** 랜덤선택 최선정반명:A, 최선조기착수일:2024-01-17\n",
      "*** 레이아웃 적합도리스트 체크: 부적합\n",
      "\n",
      ">>> 제22차 레이아웃 적합도 검토\n",
      "*** 최선조기착수일후보: {'A': Timestamp('2024-01-18 00:00:00', freq='D')}\n",
      ">>> 최소요구납기충족리스트: [('A', Timestamp('2024-01-18 00:00:00', freq='D'))]\n",
      "*** 랜덤선택 최선정반명:A, 최선조기착수일:2024-01-18\n",
      "*** 레이아웃 적합도리스트 체크: 부적합\n",
      "\n",
      ">>> 제23차 레이아웃 적합도 검토\n",
      "*** 최선조기착수일후보: {'A': Timestamp('2024-01-19 00:00:00', freq='D')}\n",
      ">>> 최소요구납기충족리스트: [('A', Timestamp('2024-01-19 00:00:00', freq='D'))]\n",
      "*** 랜덤선택 최선정반명:A, 최선조기착수일:2024-01-19\n",
      "*** 레이아웃 적합도리스트 체크: 부적합\n",
      "\n",
      ">>> 제24차 레이아웃 적합도 검토\n",
      "*** 최선조기착수일후보: {'A': Timestamp('2024-01-19 00:00:00', freq='D')}\n",
      ">>> 최소요구납기충족리스트: [('A', Timestamp('2024-01-19 00:00:00', freq='D'))]\n",
      "*** 랜덤선택 최선정반명:A, 최선조기착수일:2024-01-19\n",
      "*** 레이아웃 적합도리스트 체크: 부적합\n",
      "\n",
      ">>> 제25차 레이아웃 적합도 검토\n",
      "*** 최선조기착수일후보: {'A': Timestamp('2024-01-20 00:00:00', freq='D')}\n",
      ">>> 최소요구납기충족리스트: [('A', Timestamp('2024-01-20 00:00:00', freq='D'))]\n",
      "*** 랜덤선택 최선정반명:A, 최선조기착수일:2024-01-20\n",
      "*** 레이아웃 적합도리스트 체크: 부적합\n",
      "\n",
      ">>> 제26차 레이아웃 적합도 검토\n",
      "*** 최선조기착수일후보: {'A': Timestamp('2024-01-21 00:00:00', freq='D')}\n",
      ">>> 최소요구납기충족리스트: [('A', Timestamp('2024-01-21 00:00:00', freq='D'))]\n",
      "*** 랜덤선택 최선정반명:A, 최선조기착수일:2024-01-21\n",
      "*** 레이아웃 적합도리스트 체크: 부적합\n",
      "\n",
      ">>> 제27차 레이아웃 적합도 검토\n",
      "*** 최선조기착수일후보: {'A': Timestamp('2024-01-22 00:00:00', freq='D')}\n",
      ">>> 최소요구납기충족리스트: [('A', Timestamp('2024-01-22 00:00:00', freq='D'))]\n",
      "*** 랜덤선택 최선정반명:A, 최선조기착수일:2024-01-22\n",
      "*** 레이아웃 적합도리스트 체크: 부적합\n",
      "\n",
      ">>> 제28차 레이아웃 적합도 검토\n",
      "*** 최선조기착수일후보: {'A': Timestamp('2024-01-23 00:00:00', freq='D')}\n",
      ">>> 최소요구납기충족리스트: [('A', Timestamp('2024-01-23 00:00:00', freq='D'))]\n",
      "*** 랜덤선택 최선정반명:A, 최선조기착수일:2024-01-23\n",
      "*** 레이아웃 적합도리스트 체크: 적합\n",
      "*** 정상배치 완료\n",
      "========================================================================================================================\n",
      "\n",
      "*** 검토대상블록: S17, 사이즈: (6, 15), 표준공기: 11, 최소착수요구일:2024-02-03\n",
      "*** 중량조건적합정반들: ['A']\n",
      "\n",
      ">>> 제1차 레이아웃 적합도 검토\n",
      "*** 최선조기착수일후보: {'A': Timestamp('2024-01-01 00:00:00', freq='D')}\n",
      ">>> 최소요구납기충족리스트: [('A', Timestamp('2024-01-01 00:00:00', freq='D'))]\n",
      "*** 랜덤선택 최선정반명:A, 최선조기착수일:2024-01-01\n",
      "*** 레이아웃 적합도리스트 체크: 적합\n",
      "*** 정상배치 완료\n",
      "========================================================================================================================\n",
      "\n",
      ">>>>>>>> 총 블록 대수: 14\n",
      ">>>>>>>> 정상배치 블록 대수: 11\n",
      ">>>>>>>> 배치못한 블록 대수: 3\n",
      "----------------------------------------------------------------------\n",
      "결론_상태정보: ['정상배치완료', '정상배치완료', '최선조기착수 후보날짜가 없음', '정상배치완료', '정상배치완료', '최선조기착수 후보날짜가 없음', '정상배치완료', '정상배치완료', '최선조기착수 후보날짜가 없음', '정상배치완료', '정상배치완료', '정상배치완료', '정상배치완료', '정상배치완료']\n"
     ]
    },
    {
     "data": {
      "application/vnd.jupyter.widget-view+json": {
       "model_id": "723f96bafd8c4c99ad4edfac82485ed2",
       "version_major": 2,
       "version_minor": 0
      },
      "text/plain": [
       "  0%|          | 0/14 [00:00<?, ?it/s]"
      ]
     },
     "metadata": {},
     "output_type": "display_data"
    },
    {
     "name": "stdout",
     "output_type": "stream",
     "text": [
      "*** 검토대상블록: S6, 사이즈: (14, 15), 표준공기: 18, 최소착수요구일:2024-01-01\n",
      "*** 중량조건적합정반들: ['A']\n",
      "\n",
      ">>> 제1차 레이아웃 적합도 검토\n",
      "*** 최선조기착수일후보: {'A': Timestamp('2024-01-01 00:00:00', freq='D')}\n",
      ">>> 최소요구납기충족리스트: [('A', Timestamp('2024-01-01 00:00:00', freq='D'))]\n",
      "*** 랜덤선택 최선정반명:A, 최선조기착수일:2024-01-01\n",
      "*** 레이아웃 적합도리스트 체크: 적합\n",
      "*** 정상배치 완료\n",
      "========================================================================================================================\n",
      "\n",
      "*** 검토대상블록: S7, 사이즈: (13, 31), 표준공기: 10, 최소착수요구일:2024-01-02\n",
      "*** 중량조건적합정반들: ['A']\n",
      "\n",
      ">>> 제1차 레이아웃 적합도 검토\n",
      "*** 최선조기착수일후보: {'A': Timestamp('2024-01-01 00:00:00', freq='D')}\n",
      ">>> 최소요구납기충족리스트: [('A', Timestamp('2024-01-01 00:00:00', freq='D'))]\n",
      "*** 랜덤선택 최선정반명:A, 최선조기착수일:2024-01-01\n",
      "*** 레이아웃 적합도리스트 체크: 적합\n",
      "*** 정상배치 완료\n",
      "========================================================================================================================\n",
      "\n",
      "*** 검토대상블록: S8, 사이즈: (15, 27), 표준공기: 11, 최소착수요구일:2024-01-04\n",
      "*** 중량조건적합정반들: ['A']\n",
      "\n",
      ">>> 제1차 레이아웃 적합도 검토\n",
      "*** 최선조기착수일후보: {'A': Timestamp('2024-01-01 00:00:00', freq='D')}\n",
      ">>> 최소요구납기충족리스트: [('A', Timestamp('2024-01-01 00:00:00', freq='D'))]\n",
      "*** 랜덤선택 최선정반명:A, 최선조기착수일:2024-01-01\n",
      "*** 레이아웃 적합도리스트 체크: 부적합\n",
      "\n",
      ">>> 제2차 레이아웃 적합도 검토\n",
      "*** 최선조기착수일후보: {'A': Timestamp('2024-01-03 00:00:00', freq='D')}\n",
      ">>> 최소요구납기충족리스트: [('A', Timestamp('2024-01-03 00:00:00', freq='D'))]\n",
      "*** 랜덤선택 최선정반명:A, 최선조기착수일:2024-01-03\n",
      "*** 레이아웃 적합도리스트 체크: 부적합\n",
      "\n",
      ">>> 제3차 레이아웃 적합도 검토\n",
      "*** 최선조기착수일후보: {'A': Timestamp('2024-01-05 00:00:00', freq='D')}\n",
      ">>> 최소요구납기충족리스트: []\n",
      ">>> 최선조기착수 후보날짜가 없습니다.\n",
      "========================================================================================================================\n",
      "\n",
      "*** 검토대상블록: S13, 사이즈: (14, 26), 표준공기: 9, 최소착수요구일:2024-01-08\n",
      "*** 중량조건적합정반들: ['A']\n",
      "\n",
      ">>> 제1차 레이아웃 적합도 검토\n",
      "*** 최선조기착수일후보: {'A': Timestamp('2024-01-01 00:00:00', freq='D')}\n",
      ">>> 최소요구납기충족리스트: [('A', Timestamp('2024-01-01 00:00:00', freq='D'))]\n",
      "*** 랜덤선택 최선정반명:A, 최선조기착수일:2024-01-01\n",
      "*** 레이아웃 적합도리스트 체크: 적합\n",
      "*** 정상배치 완료\n",
      "========================================================================================================================\n",
      "\n",
      "*** 검토대상블록: S9, 사이즈: (15, 15), 표준공기: 17, 최소착수요구일:2024-01-14\n",
      "*** 중량조건적합정반들: ['A']\n",
      "\n",
      ">>> 제1차 레이아웃 적합도 검토\n",
      "*** 최선조기착수일후보: {'A': Timestamp('2024-01-01 00:00:00', freq='D')}\n",
      ">>> 최소요구납기충족리스트: [('A', Timestamp('2024-01-01 00:00:00', freq='D'))]\n",
      "*** 랜덤선택 최선정반명:A, 최선조기착수일:2024-01-01\n",
      "*** 레이아웃 적합도리스트 체크: 부적합\n",
      "\n",
      ">>> 제2차 레이아웃 적합도 검토\n",
      "*** 최선조기착수일후보: {'A': Timestamp('2024-01-04 00:00:00', freq='D')}\n",
      ">>> 최소요구납기충족리스트: [('A', Timestamp('2024-01-04 00:00:00', freq='D'))]\n",
      "*** 랜덤선택 최선정반명:A, 최선조기착수일:2024-01-04\n",
      "*** 레이아웃 적합도리스트 체크: 부적합\n",
      "\n",
      ">>> 제3차 레이아웃 적합도 검토\n",
      "*** 최선조기착수일후보: {'A': Timestamp('2024-01-08 00:00:00', freq='D')}\n",
      ">>> 최소요구납기충족리스트: [('A', Timestamp('2024-01-08 00:00:00', freq='D'))]\n",
      "*** 랜덤선택 최선정반명:A, 최선조기착수일:2024-01-08\n",
      "*** 레이아웃 적합도리스트 체크: 부적합\n",
      "\n",
      ">>> 제4차 레이아웃 적합도 검토\n",
      "*** 최선조기착수일후보: {'A': Timestamp('2024-01-11 00:00:00', freq='D')}\n",
      ">>> 최소요구납기충족리스트: [('A', Timestamp('2024-01-11 00:00:00', freq='D'))]\n",
      "*** 랜덤선택 최선정반명:A, 최선조기착수일:2024-01-11\n",
      "*** 레이아웃 적합도리스트 체크: 적합\n",
      "*** 정상배치 완료\n",
      "========================================================================================================================\n",
      "\n",
      "*** 검토대상블록: S5, 사이즈: (7, 15), 표준공기: 11, 최소착수요구일:2024-01-05\n",
      "*** 중량조건적합정반들: ['A']\n",
      "\n",
      ">>> 제1차 레이아웃 적합도 검토\n",
      "*** 최선조기착수일후보: {'A': Timestamp('2024-01-01 00:00:00', freq='D')}\n",
      ">>> 최소요구납기충족리스트: [('A', Timestamp('2024-01-01 00:00:00', freq='D'))]\n",
      "*** 랜덤선택 최선정반명:A, 최선조기착수일:2024-01-01\n",
      "*** 레이아웃 적합도리스트 체크: 부적합\n",
      "\n",
      ">>> 제2차 레이아웃 적합도 검토\n",
      "*** 최선조기착수일후보: {'A': Timestamp('2024-01-03 00:00:00', freq='D')}\n",
      ">>> 최소요구납기충족리스트: [('A', Timestamp('2024-01-03 00:00:00', freq='D'))]\n",
      "*** 랜덤선택 최선정반명:A, 최선조기착수일:2024-01-03\n",
      "*** 레이아웃 적합도리스트 체크: 부적합\n",
      "\n",
      ">>> 제3차 레이아웃 적합도 검토\n",
      "*** 최선조기착수일후보: {'A': Timestamp('2024-01-05 00:00:00', freq='D')}\n",
      ">>> 최소요구납기충족리스트: [('A', Timestamp('2024-01-05 00:00:00', freq='D'))]\n",
      "*** 랜덤선택 최선정반명:A, 최선조기착수일:2024-01-05\n",
      "*** 레이아웃 적합도리스트 체크: 부적합\n",
      "\n",
      ">>> 제4차 레이아웃 적합도 검토\n",
      "*** 최선조기착수일후보: {'A': Timestamp('2024-01-08 00:00:00', freq='D')}\n",
      ">>> 최소요구납기충족리스트: []\n",
      ">>> 최선조기착수 후보날짜가 없습니다.\n",
      "========================================================================================================================\n",
      "\n",
      "*** 검토대상블록: S11, 사이즈: (14, 14), 표준공기: 13, 최소착수요구일:2024-01-18\n",
      "*** 중량조건적합정반들: ['A']\n",
      "\n",
      ">>> 제1차 레이아웃 적합도 검토\n",
      "*** 최선조기착수일후보: {'A': Timestamp('2024-01-01 00:00:00', freq='D')}\n",
      ">>> 최소요구납기충족리스트: [('A', Timestamp('2024-01-01 00:00:00', freq='D'))]\n",
      "*** 랜덤선택 최선정반명:A, 최선조기착수일:2024-01-01\n",
      "*** 레이아웃 적합도리스트 체크: 부적합\n",
      "\n",
      ">>> 제2차 레이아웃 적합도 검토\n",
      "*** 최선조기착수일후보: {'A': Timestamp('2024-01-04 00:00:00', freq='D')}\n",
      ">>> 최소요구납기충족리스트: [('A', Timestamp('2024-01-04 00:00:00', freq='D'))]\n",
      "*** 랜덤선택 최선정반명:A, 최선조기착수일:2024-01-04\n",
      "*** 레이아웃 적합도리스트 체크: 부적합\n",
      "\n",
      ">>> 제3차 레이아웃 적합도 검토\n",
      "*** 최선조기착수일후보: {'A': Timestamp('2024-01-06 00:00:00', freq='D')}\n",
      ">>> 최소요구납기충족리스트: [('A', Timestamp('2024-01-06 00:00:00', freq='D'))]\n",
      "*** 랜덤선택 최선정반명:A, 최선조기착수일:2024-01-06\n",
      "*** 레이아웃 적합도리스트 체크: 부적합\n",
      "\n",
      ">>> 제4차 레이아웃 적합도 검토\n",
      "*** 최선조기착수일후보: {'A': Timestamp('2024-01-09 00:00:00', freq='D')}\n",
      ">>> 최소요구납기충족리스트: [('A', Timestamp('2024-01-09 00:00:00', freq='D'))]\n",
      "*** 랜덤선택 최선정반명:A, 최선조기착수일:2024-01-09\n",
      "*** 레이아웃 적합도리스트 체크: 부적합\n",
      "\n",
      ">>> 제5차 레이아웃 적합도 검토\n",
      "*** 최선조기착수일후보: {'A': Timestamp('2024-01-11 00:00:00', freq='D')}\n",
      ">>> 최소요구납기충족리스트: [('A', Timestamp('2024-01-11 00:00:00', freq='D'))]\n",
      "*** 랜덤선택 최선정반명:A, 최선조기착수일:2024-01-11\n",
      "*** 레이아웃 적합도리스트 체크: 적합\n",
      "*** 정상배치 완료\n",
      "========================================================================================================================\n",
      "\n",
      "*** 검토대상블록: S10, 사이즈: (8, 16), 표준공기: 11, 최소착수요구일:2024-01-18\n",
      "*** 중량조건적합정반들: ['A']\n",
      "\n",
      ">>> 제1차 레이아웃 적합도 검토\n",
      "*** 최선조기착수일후보: {'A': Timestamp('2024-01-01 00:00:00', freq='D')}\n",
      ">>> 최소요구납기충족리스트: [('A', Timestamp('2024-01-01 00:00:00', freq='D'))]\n",
      "*** 랜덤선택 최선정반명:A, 최선조기착수일:2024-01-01\n",
      "*** 레이아웃 적합도리스트 체크: 부적합\n",
      "\n",
      ">>> 제2차 레이아웃 적합도 검토\n",
      "*** 최선조기착수일후보: {'A': Timestamp('2024-01-03 00:00:00', freq='D')}\n",
      ">>> 최소요구납기충족리스트: [('A', Timestamp('2024-01-03 00:00:00', freq='D'))]\n",
      "*** 랜덤선택 최선정반명:A, 최선조기착수일:2024-01-03\n",
      "*** 레이아웃 적합도리스트 체크: 부적합\n",
      "\n",
      ">>> 제3차 레이아웃 적합도 검토\n",
      "*** 최선조기착수일후보: {'A': Timestamp('2024-01-05 00:00:00', freq='D')}\n",
      ">>> 최소요구납기충족리스트: [('A', Timestamp('2024-01-05 00:00:00', freq='D'))]\n",
      "*** 랜덤선택 최선정반명:A, 최선조기착수일:2024-01-05\n",
      "*** 레이아웃 적합도리스트 체크: 부적합\n",
      "\n",
      ">>> 제4차 레이아웃 적합도 검토\n",
      "*** 최선조기착수일후보: {'A': Timestamp('2024-01-08 00:00:00', freq='D')}\n",
      ">>> 최소요구납기충족리스트: [('A', Timestamp('2024-01-08 00:00:00', freq='D'))]\n",
      "*** 랜덤선택 최선정반명:A, 최선조기착수일:2024-01-08\n",
      "*** 레이아웃 적합도리스트 체크: 부적합\n",
      "\n",
      ">>> 제5차 레이아웃 적합도 검토\n",
      "*** 최선조기착수일후보: {'A': Timestamp('2024-01-10 00:00:00', freq='D')}\n",
      ">>> 최소요구납기충족리스트: [('A', Timestamp('2024-01-10 00:00:00', freq='D'))]\n",
      "*** 랜덤선택 최선정반명:A, 최선조기착수일:2024-01-10\n",
      "*** 레이아웃 적합도리스트 체크: 적합\n",
      "*** 정상배치 완료\n",
      "========================================================================================================================\n",
      "\n",
      "*** 검토대상블록: S14, 사이즈: (15, 16), 표준공기: 9, 최소착수요구일:2024-01-23\n",
      "*** 중량조건적합정반들: ['A']\n",
      "\n",
      ">>> 제1차 레이아웃 적합도 검토\n",
      "*** 최선조기착수일후보: {'A': Timestamp('2024-01-10 00:00:00', freq='D')}\n",
      ">>> 최소요구납기충족리스트: [('A', Timestamp('2024-01-10 00:00:00', freq='D'))]\n",
      "*** 랜덤선택 최선정반명:A, 최선조기착수일:2024-01-10\n",
      "*** 레이아웃 적합도리스트 체크: 부적합\n",
      "\n",
      ">>> 제2차 레이아웃 적합도 검토\n",
      "*** 최선조기착수일후보: {'A': Timestamp('2024-01-10 00:00:00', freq='D')}\n",
      ">>> 최소요구납기충족리스트: [('A', Timestamp('2024-01-10 00:00:00', freq='D'))]\n",
      "*** 랜덤선택 최선정반명:A, 최선조기착수일:2024-01-10\n",
      "*** 레이아웃 적합도리스트 체크: 부적합\n",
      "\n",
      ">>> 제3차 레이아웃 적합도 검토\n",
      "*** 최선조기착수일후보: {'A': Timestamp('2024-01-10 00:00:00', freq='D')}\n",
      ">>> 최소요구납기충족리스트: [('A', Timestamp('2024-01-10 00:00:00', freq='D'))]\n",
      "*** 랜덤선택 최선정반명:A, 최선조기착수일:2024-01-10\n",
      "*** 레이아웃 적합도리스트 체크: 부적합\n",
      "\n",
      ">>> 제4차 레이아웃 적합도 검토\n",
      "*** 최선조기착수일후보: {'A': Timestamp('2024-01-10 00:00:00', freq='D')}\n",
      ">>> 최소요구납기충족리스트: [('A', Timestamp('2024-01-10 00:00:00', freq='D'))]\n",
      "*** 랜덤선택 최선정반명:A, 최선조기착수일:2024-01-10\n",
      "*** 레이아웃 적합도리스트 체크: 부적합\n",
      "\n",
      ">>> 제5차 레이아웃 적합도 검토\n",
      "*** 최선조기착수일후보: {'A': Timestamp('2024-01-10 00:00:00', freq='D')}\n",
      ">>> 최소요구납기충족리스트: [('A', Timestamp('2024-01-10 00:00:00', freq='D'))]\n",
      "*** 랜덤선택 최선정반명:A, 최선조기착수일:2024-01-10\n",
      "*** 레이아웃 적합도리스트 체크: 부적합\n",
      "\n",
      ">>> 제6차 레이아웃 적합도 검토\n",
      "*** 최선조기착수일후보: {'A': Timestamp('2024-01-10 00:00:00', freq='D')}\n",
      ">>> 최소요구납기충족리스트: [('A', Timestamp('2024-01-10 00:00:00', freq='D'))]\n",
      "*** 랜덤선택 최선정반명:A, 최선조기착수일:2024-01-10\n",
      "*** 레이아웃 적합도리스트 체크: 부적합\n",
      "\n",
      ">>> 제7차 레이아웃 적합도 검토\n",
      "*** 최선조기착수일후보: {'A': Timestamp('2024-01-12 00:00:00', freq='D')}\n",
      ">>> 최소요구납기충족리스트: [('A', Timestamp('2024-01-12 00:00:00', freq='D'))]\n",
      "*** 랜덤선택 최선정반명:A, 최선조기착수일:2024-01-12\n",
      "*** 레이아웃 적합도리스트 체크: 부적합\n",
      "\n",
      ">>> 제8차 레이아웃 적합도 검토\n",
      "*** 최선조기착수일후보: {'A': Timestamp('2024-01-14 00:00:00', freq='D')}\n",
      ">>> 최소요구납기충족리스트: [('A', Timestamp('2024-01-14 00:00:00', freq='D'))]\n",
      "*** 랜덤선택 최선정반명:A, 최선조기착수일:2024-01-14\n"
     ]
    },
    {
     "name": "stdout",
     "output_type": "stream",
     "text": [
      "*** 레이아웃 적합도리스트 체크: 부적합\n",
      "\n",
      ">>> 제9차 레이아웃 적합도 검토\n",
      "*** 최선조기착수일후보: {'A': Timestamp('2024-01-15 00:00:00', freq='D')}\n",
      ">>> 최소요구납기충족리스트: [('A', Timestamp('2024-01-15 00:00:00', freq='D'))]\n",
      "*** 랜덤선택 최선정반명:A, 최선조기착수일:2024-01-15\n",
      "*** 레이아웃 적합도리스트 체크: 부적합\n",
      "\n",
      ">>> 제10차 레이아웃 적합도 검토\n",
      "*** 최선조기착수일후보: {'A': Timestamp('2024-01-17 00:00:00', freq='D')}\n",
      ">>> 최소요구납기충족리스트: [('A', Timestamp('2024-01-17 00:00:00', freq='D'))]\n",
      "*** 랜덤선택 최선정반명:A, 최선조기착수일:2024-01-17\n",
      "*** 레이아웃 적합도리스트 체크: 부적합\n",
      "\n",
      ">>> 제11차 레이아웃 적합도 검토\n",
      "*** 최선조기착수일후보: {'A': Timestamp('2024-01-19 00:00:00', freq='D')}\n",
      ">>> 최소요구납기충족리스트: [('A', Timestamp('2024-01-19 00:00:00', freq='D'))]\n",
      "*** 랜덤선택 최선정반명:A, 최선조기착수일:2024-01-19\n",
      "*** 레이아웃 적합도리스트 체크: 부적합\n",
      "\n",
      ">>> 제12차 레이아웃 적합도 검토\n",
      "*** 최선조기착수일후보: {'A': Timestamp('2024-01-21 00:00:00', freq='D')}\n",
      ">>> 최소요구납기충족리스트: [('A', Timestamp('2024-01-21 00:00:00', freq='D'))]\n",
      "*** 랜덤선택 최선정반명:A, 최선조기착수일:2024-01-21\n",
      "*** 레이아웃 적합도리스트 체크: 부적합\n",
      "\n",
      ">>> 제13차 레이아웃 적합도 검토\n",
      "*** 최선조기착수일후보: {'A': Timestamp('2024-01-23 00:00:00', freq='D')}\n",
      ">>> 최소요구납기충족리스트: [('A', Timestamp('2024-01-23 00:00:00', freq='D'))]\n",
      "*** 랜덤선택 최선정반명:A, 최선조기착수일:2024-01-23\n",
      "*** 레이아웃 적합도리스트 체크: 부적합\n",
      "\n",
      ">>> 제14차 레이아웃 적합도 검토\n",
      "*** 최선조기착수일후보: {'A': Timestamp('2024-01-24 00:00:00', freq='D')}\n",
      ">>> 최소요구납기충족리스트: []\n",
      ">>> 최선조기착수 후보날짜가 없습니다.\n",
      "========================================================================================================================\n",
      "\n",
      "*** 검토대상블록: S12, 사이즈: (8, 15), 표준공기: 4, 최소착수요구일:2024-01-19\n",
      "*** 중량조건적합정반들: ['A']\n",
      "\n",
      ">>> 제1차 레이아웃 적합도 검토\n",
      "*** 최선조기착수일후보: {'A': Timestamp('2024-01-01 00:00:00', freq='D')}\n",
      ">>> 최소요구납기충족리스트: [('A', Timestamp('2024-01-01 00:00:00', freq='D'))]\n",
      "*** 랜덤선택 최선정반명:A, 최선조기착수일:2024-01-01\n",
      "*** 레이아웃 적합도리스트 체크: 부적합\n",
      "\n",
      ">>> 제2차 레이아웃 적합도 검토\n",
      "*** 최선조기착수일후보: {'A': Timestamp('2024-01-02 00:00:00', freq='D')}\n",
      ">>> 최소요구납기충족리스트: [('A', Timestamp('2024-01-02 00:00:00', freq='D'))]\n",
      "*** 랜덤선택 최선정반명:A, 최선조기착수일:2024-01-02\n",
      "*** 레이아웃 적합도리스트 체크: 부적합\n",
      "\n",
      ">>> 제3차 레이아웃 적합도 검토\n",
      "*** 최선조기착수일후보: {'A': Timestamp('2024-01-03 00:00:00', freq='D')}\n",
      ">>> 최소요구납기충족리스트: [('A', Timestamp('2024-01-03 00:00:00', freq='D'))]\n",
      "*** 랜덤선택 최선정반명:A, 최선조기착수일:2024-01-03\n",
      "*** 레이아웃 적합도리스트 체크: 부적합\n",
      "\n",
      ">>> 제4차 레이아웃 적합도 검토\n",
      "*** 최선조기착수일후보: {'A': Timestamp('2024-01-03 00:00:00', freq='D')}\n",
      ">>> 최소요구납기충족리스트: [('A', Timestamp('2024-01-03 00:00:00', freq='D'))]\n",
      "*** 랜덤선택 최선정반명:A, 최선조기착수일:2024-01-03\n",
      "*** 레이아웃 적합도리스트 체크: 부적합\n",
      "\n",
      ">>> 제5차 레이아웃 적합도 검토\n",
      "*** 최선조기착수일후보: {'A': Timestamp('2024-01-04 00:00:00', freq='D')}\n",
      ">>> 최소요구납기충족리스트: [('A', Timestamp('2024-01-04 00:00:00', freq='D'))]\n",
      "*** 랜덤선택 최선정반명:A, 최선조기착수일:2024-01-04\n",
      "*** 레이아웃 적합도리스트 체크: 부적합\n",
      "\n",
      ">>> 제6차 레이아웃 적합도 검토\n",
      "*** 최선조기착수일후보: {'A': Timestamp('2024-01-05 00:00:00', freq='D')}\n",
      ">>> 최소요구납기충족리스트: [('A', Timestamp('2024-01-05 00:00:00', freq='D'))]\n",
      "*** 랜덤선택 최선정반명:A, 최선조기착수일:2024-01-05\n",
      "*** 레이아웃 적합도리스트 체크: 부적합\n",
      "\n",
      ">>> 제7차 레이아웃 적합도 검토\n",
      "*** 최선조기착수일후보: {'A': Timestamp('2024-01-06 00:00:00', freq='D')}\n",
      ">>> 최소요구납기충족리스트: [('A', Timestamp('2024-01-06 00:00:00', freq='D'))]\n",
      "*** 랜덤선택 최선정반명:A, 최선조기착수일:2024-01-06\n",
      "*** 레이아웃 적합도리스트 체크: 부적합\n",
      "\n",
      ">>> 제8차 레이아웃 적합도 검토\n",
      "*** 최선조기착수일후보: {'A': Timestamp('2024-01-07 00:00:00', freq='D')}\n",
      ">>> 최소요구납기충족리스트: [('A', Timestamp('2024-01-07 00:00:00', freq='D'))]\n",
      "*** 랜덤선택 최선정반명:A, 최선조기착수일:2024-01-07\n",
      "*** 레이아웃 적합도리스트 체크: 부적합\n",
      "\n",
      ">>> 제9차 레이아웃 적합도 검토\n",
      "*** 최선조기착수일후보: {'A': Timestamp('2024-01-07 00:00:00', freq='D')}\n",
      ">>> 최소요구납기충족리스트: [('A', Timestamp('2024-01-07 00:00:00', freq='D'))]\n",
      "*** 랜덤선택 최선정반명:A, 최선조기착수일:2024-01-07\n",
      "*** 레이아웃 적합도리스트 체크: 부적합\n",
      "\n",
      ">>> 제10차 레이아웃 적합도 검토\n",
      "*** 최선조기착수일후보: {'A': Timestamp('2024-01-08 00:00:00', freq='D')}\n",
      ">>> 최소요구납기충족리스트: [('A', Timestamp('2024-01-08 00:00:00', freq='D'))]\n",
      "*** 랜덤선택 최선정반명:A, 최선조기착수일:2024-01-08\n",
      "*** 레이아웃 적합도리스트 체크: 부적합\n",
      "\n",
      ">>> 제11차 레이아웃 적합도 검토\n",
      "*** 최선조기착수일후보: {'A': Timestamp('2024-01-09 00:00:00', freq='D')}\n",
      ">>> 최소요구납기충족리스트: [('A', Timestamp('2024-01-09 00:00:00', freq='D'))]\n",
      "*** 랜덤선택 최선정반명:A, 최선조기착수일:2024-01-09\n",
      "*** 레이아웃 적합도리스트 체크: 부적합\n",
      "\n",
      ">>> 제12차 레이아웃 적합도 검토\n",
      "*** 최선조기착수일후보: {'A': Timestamp('2024-01-10 00:00:00', freq='D')}\n",
      ">>> 최소요구납기충족리스트: [('A', Timestamp('2024-01-10 00:00:00', freq='D'))]\n",
      "*** 랜덤선택 최선정반명:A, 최선조기착수일:2024-01-10\n",
      "*** 레이아웃 적합도리스트 체크: 부적합\n",
      "\n",
      ">>> 제13차 레이아웃 적합도 검토\n",
      "*** 최선조기착수일후보: {'A': Timestamp('2024-01-11 00:00:00', freq='D')}\n",
      ">>> 최소요구납기충족리스트: [('A', Timestamp('2024-01-11 00:00:00', freq='D'))]\n",
      "*** 랜덤선택 최선정반명:A, 최선조기착수일:2024-01-11\n",
      "*** 레이아웃 적합도리스트 체크: 부적합\n",
      "\n",
      ">>> 제14차 레이아웃 적합도 검토\n",
      "*** 최선조기착수일후보: {'A': Timestamp('2024-01-11 00:00:00', freq='D')}\n",
      ">>> 최소요구납기충족리스트: [('A', Timestamp('2024-01-11 00:00:00', freq='D'))]\n",
      "*** 랜덤선택 최선정반명:A, 최선조기착수일:2024-01-11\n",
      "*** 레이아웃 적합도리스트 체크: 부적합\n",
      "\n",
      ">>> 제15차 레이아웃 적합도 검토\n",
      "*** 최선조기착수일후보: {'A': Timestamp('2024-01-12 00:00:00', freq='D')}\n",
      ">>> 최소요구납기충족리스트: [('A', Timestamp('2024-01-12 00:00:00', freq='D'))]\n",
      "*** 랜덤선택 최선정반명:A, 최선조기착수일:2024-01-12\n",
      "*** 레이아웃 적합도리스트 체크: 부적합\n",
      "\n",
      ">>> 제16차 레이아웃 적합도 검토\n",
      "*** 최선조기착수일후보: {'A': Timestamp('2024-01-13 00:00:00', freq='D')}\n",
      ">>> 최소요구납기충족리스트: [('A', Timestamp('2024-01-13 00:00:00', freq='D'))]\n",
      "*** 랜덤선택 최선정반명:A, 최선조기착수일:2024-01-13\n",
      "*** 레이아웃 적합도리스트 체크: 부적합\n",
      "\n",
      ">>> 제17차 레이아웃 적합도 검토\n",
      "*** 최선조기착수일후보: {'A': Timestamp('2024-01-14 00:00:00', freq='D')}\n",
      ">>> 최소요구납기충족리스트: [('A', Timestamp('2024-01-14 00:00:00', freq='D'))]\n",
      "*** 랜덤선택 최선정반명:A, 최선조기착수일:2024-01-14\n",
      "*** 레이아웃 적합도리스트 체크: 부적합\n",
      "\n",
      ">>> 제18차 레이아웃 적합도 검토\n",
      "*** 최선조기착수일후보: {'A': Timestamp('2024-01-15 00:00:00', freq='D')}\n",
      ">>> 최소요구납기충족리스트: [('A', Timestamp('2024-01-15 00:00:00', freq='D'))]\n",
      "*** 랜덤선택 최선정반명:A, 최선조기착수일:2024-01-15\n",
      "*** 레이아웃 적합도리스트 체크: 부적합\n",
      "\n",
      ">>> 제19차 레이아웃 적합도 검토\n",
      "*** 최선조기착수일후보: {'A': Timestamp('2024-01-15 00:00:00', freq='D')}\n",
      ">>> 최소요구납기충족리스트: [('A', Timestamp('2024-01-15 00:00:00', freq='D'))]\n",
      "*** 랜덤선택 최선정반명:A, 최선조기착수일:2024-01-15\n",
      "*** 레이아웃 적합도리스트 체크: 부적합\n",
      "\n",
      ">>> 제20차 레이아웃 적합도 검토\n",
      "*** 최선조기착수일후보: {'A': Timestamp('2024-01-16 00:00:00', freq='D')}\n",
      ">>> 최소요구납기충족리스트: [('A', Timestamp('2024-01-16 00:00:00', freq='D'))]\n",
      "*** 랜덤선택 최선정반명:A, 최선조기착수일:2024-01-16\n",
      "*** 레이아웃 적합도리스트 체크: 부적합\n",
      "\n",
      ">>> 제21차 레이아웃 적합도 검토\n",
      "*** 최선조기착수일후보: {'A': Timestamp('2024-01-17 00:00:00', freq='D')}\n",
      ">>> 최소요구납기충족리스트: [('A', Timestamp('2024-01-17 00:00:00', freq='D'))]\n",
      "*** 랜덤선택 최선정반명:A, 최선조기착수일:2024-01-17\n",
      "*** 레이아웃 적합도리스트 체크: 부적합\n",
      "\n",
      ">>> 제22차 레이아웃 적합도 검토\n",
      "*** 최선조기착수일후보: {'A': Timestamp('2024-01-18 00:00:00', freq='D')}\n",
      ">>> 최소요구납기충족리스트: [('A', Timestamp('2024-01-18 00:00:00', freq='D'))]\n",
      "*** 랜덤선택 최선정반명:A, 최선조기착수일:2024-01-18\n",
      "*** 레이아웃 적합도리스트 체크: 부적합\n",
      "\n",
      ">>> 제23차 레이아웃 적합도 검토\n",
      "*** 최선조기착수일후보: {'A': Timestamp('2024-01-19 00:00:00', freq='D')}\n",
      ">>> 최소요구납기충족리스트: [('A', Timestamp('2024-01-19 00:00:00', freq='D'))]\n",
      "*** 랜덤선택 최선정반명:A, 최선조기착수일:2024-01-19\n",
      "*** 레이아웃 적합도리스트 체크: 적합\n",
      "*** 정상배치 완료\n",
      "========================================================================================================================\n",
      "\n",
      "*** 검토대상블록: S16, 사이즈: (12, 14), 표준공기: 15, 최소착수요구일:2024-01-24\n",
      "*** 중량조건적합정반들: ['A']\n",
      "\n",
      ">>> 제1차 레이아웃 적합도 검토\n",
      "*** 최선조기착수일후보: {'A': Timestamp('2024-01-01 00:00:00', freq='D')}\n",
      ">>> 최소요구납기충족리스트: [('A', Timestamp('2024-01-01 00:00:00', freq='D'))]\n",
      "*** 랜덤선택 최선정반명:A, 최선조기착수일:2024-01-01\n",
      "*** 레이아웃 적합도리스트 체크: 부적합\n",
      "\n",
      ">>> 제2차 레이아웃 적합도 검토\n",
      "*** 최선조기착수일후보: {'A': Timestamp('2024-01-04 00:00:00', freq='D')}\n",
      ">>> 최소요구납기충족리스트: [('A', Timestamp('2024-01-04 00:00:00', freq='D'))]\n",
      "*** 랜덤선택 최선정반명:A, 최선조기착수일:2024-01-04\n",
      "*** 레이아웃 적합도리스트 체크: 부적합\n",
      "\n",
      ">>> 제3차 레이아웃 적합도 검토\n",
      "*** 최선조기착수일후보: {'A': Timestamp('2024-01-07 00:00:00', freq='D')}\n",
      ">>> 최소요구납기충족리스트: [('A', Timestamp('2024-01-07 00:00:00', freq='D'))]\n",
      "*** 랜덤선택 최선정반명:A, 최선조기착수일:2024-01-07\n",
      "*** 레이아웃 적합도리스트 체크: 부적합\n",
      "\n",
      ">>> 제4차 레이아웃 적합도 검토\n",
      "*** 최선조기착수일후보: {'A': Timestamp('2024-01-10 00:00:00', freq='D')}\n",
      ">>> 최소요구납기충족리스트: [('A', Timestamp('2024-01-10 00:00:00', freq='D'))]\n",
      "*** 랜덤선택 최선정반명:A, 최선조기착수일:2024-01-10\n",
      "*** 레이아웃 적합도리스트 체크: 부적합\n",
      "\n",
      ">>> 제5차 레이아웃 적합도 검토\n",
      "*** 최선조기착수일후보: {'A': Timestamp('2024-01-13 00:00:00', freq='D')}\n",
      ">>> 최소요구납기충족리스트: [('A', Timestamp('2024-01-13 00:00:00', freq='D'))]\n",
      "*** 랜덤선택 최선정반명:A, 최선조기착수일:2024-01-13\n",
      "*** 레이아웃 적합도리스트 체크: 부적합\n",
      "\n",
      ">>> 제6차 레이아웃 적합도 검토\n",
      "*** 최선조기착수일후보: {'A': Timestamp('2024-01-16 00:00:00', freq='D')}\n",
      ">>> 최소요구납기충족리스트: [('A', Timestamp('2024-01-16 00:00:00', freq='D'))]\n",
      "*** 랜덤선택 최선정반명:A, 최선조기착수일:2024-01-16\n",
      "*** 레이아웃 적합도리스트 체크: 부적합\n",
      "\n",
      ">>> 제7차 레이아웃 적합도 검토\n",
      "*** 최선조기착수일후보: {'A': Timestamp('2024-01-19 00:00:00', freq='D')}\n",
      ">>> 최소요구납기충족리스트: [('A', Timestamp('2024-01-19 00:00:00', freq='D'))]\n",
      "*** 랜덤선택 최선정반명:A, 최선조기착수일:2024-01-19\n",
      "*** 레이아웃 적합도리스트 체크: 적합\n",
      "*** 정상배치 완료\n",
      "========================================================================================================================\n",
      "\n",
      "*** 검토대상블록: S18, 사이즈: (13, 16), 표준공기: 4, 최소착수요구일:2024-01-28\n",
      "*** 중량조건적합정반들: ['A']\n",
      "\n",
      ">>> 제1차 레이아웃 적합도 검토\n",
      "*** 최선조기착수일후보: {'A': Timestamp('2024-01-01 00:00:00', freq='D')}\n",
      ">>> 최소요구납기충족리스트: [('A', Timestamp('2024-01-01 00:00:00', freq='D'))]\n",
      "*** 랜덤선택 최선정반명:A, 최선조기착수일:2024-01-01\n",
      "*** 레이아웃 적합도리스트 체크: 부적합\n",
      "\n",
      ">>> 제2차 레이아웃 적합도 검토\n",
      "*** 최선조기착수일후보: {'A': Timestamp('2024-01-02 00:00:00', freq='D')}\n",
      ">>> 최소요구납기충족리스트: [('A', Timestamp('2024-01-02 00:00:00', freq='D'))]\n",
      "*** 랜덤선택 최선정반명:A, 최선조기착수일:2024-01-02\n",
      "*** 레이아웃 적합도리스트 체크: 부적합\n",
      "\n",
      ">>> 제3차 레이아웃 적합도 검토\n",
      "*** 최선조기착수일후보: {'A': Timestamp('2024-01-03 00:00:00', freq='D')}\n",
      ">>> 최소요구납기충족리스트: [('A', Timestamp('2024-01-03 00:00:00', freq='D'))]\n",
      "*** 랜덤선택 최선정반명:A, 최선조기착수일:2024-01-03\n",
      "*** 레이아웃 적합도리스트 체크: 부적합\n",
      "\n",
      ">>> 제4차 레이아웃 적합도 검토\n",
      "*** 최선조기착수일후보: {'A': Timestamp('2024-01-03 00:00:00', freq='D')}\n",
      ">>> 최소요구납기충족리스트: [('A', Timestamp('2024-01-03 00:00:00', freq='D'))]\n",
      "*** 랜덤선택 최선정반명:A, 최선조기착수일:2024-01-03\n"
     ]
    },
    {
     "name": "stdout",
     "output_type": "stream",
     "text": [
      "*** 레이아웃 적합도리스트 체크: 부적합\n",
      "\n",
      ">>> 제5차 레이아웃 적합도 검토\n",
      "*** 최선조기착수일후보: {'A': Timestamp('2024-01-04 00:00:00', freq='D')}\n",
      ">>> 최소요구납기충족리스트: [('A', Timestamp('2024-01-04 00:00:00', freq='D'))]\n",
      "*** 랜덤선택 최선정반명:A, 최선조기착수일:2024-01-04\n",
      "*** 레이아웃 적합도리스트 체크: 부적합\n",
      "\n",
      ">>> 제6차 레이아웃 적합도 검토\n",
      "*** 최선조기착수일후보: {'A': Timestamp('2024-01-05 00:00:00', freq='D')}\n",
      ">>> 최소요구납기충족리스트: [('A', Timestamp('2024-01-05 00:00:00', freq='D'))]\n",
      "*** 랜덤선택 최선정반명:A, 최선조기착수일:2024-01-05\n",
      "*** 레이아웃 적합도리스트 체크: 부적합\n",
      "\n",
      ">>> 제7차 레이아웃 적합도 검토\n",
      "*** 최선조기착수일후보: {'A': Timestamp('2024-01-06 00:00:00', freq='D')}\n",
      ">>> 최소요구납기충족리스트: [('A', Timestamp('2024-01-06 00:00:00', freq='D'))]\n",
      "*** 랜덤선택 최선정반명:A, 최선조기착수일:2024-01-06\n",
      "*** 레이아웃 적합도리스트 체크: 부적합\n",
      "\n",
      ">>> 제8차 레이아웃 적합도 검토\n",
      "*** 최선조기착수일후보: {'A': Timestamp('2024-01-07 00:00:00', freq='D')}\n",
      ">>> 최소요구납기충족리스트: [('A', Timestamp('2024-01-07 00:00:00', freq='D'))]\n",
      "*** 랜덤선택 최선정반명:A, 최선조기착수일:2024-01-07\n",
      "*** 레이아웃 적합도리스트 체크: 부적합\n",
      "\n",
      ">>> 제9차 레이아웃 적합도 검토\n",
      "*** 최선조기착수일후보: {'A': Timestamp('2024-01-07 00:00:00', freq='D')}\n",
      ">>> 최소요구납기충족리스트: [('A', Timestamp('2024-01-07 00:00:00', freq='D'))]\n",
      "*** 랜덤선택 최선정반명:A, 최선조기착수일:2024-01-07\n",
      "*** 레이아웃 적합도리스트 체크: 부적합\n",
      "\n",
      ">>> 제10차 레이아웃 적합도 검토\n",
      "*** 최선조기착수일후보: {'A': Timestamp('2024-01-08 00:00:00', freq='D')}\n",
      ">>> 최소요구납기충족리스트: [('A', Timestamp('2024-01-08 00:00:00', freq='D'))]\n",
      "*** 랜덤선택 최선정반명:A, 최선조기착수일:2024-01-08\n",
      "*** 레이아웃 적합도리스트 체크: 부적합\n",
      "\n",
      ">>> 제11차 레이아웃 적합도 검토\n",
      "*** 최선조기착수일후보: {'A': Timestamp('2024-01-09 00:00:00', freq='D')}\n",
      ">>> 최소요구납기충족리스트: [('A', Timestamp('2024-01-09 00:00:00', freq='D'))]\n",
      "*** 랜덤선택 최선정반명:A, 최선조기착수일:2024-01-09\n",
      "*** 레이아웃 적합도리스트 체크: 부적합\n",
      "\n",
      ">>> 제12차 레이아웃 적합도 검토\n",
      "*** 최선조기착수일후보: {'A': Timestamp('2024-01-10 00:00:00', freq='D')}\n",
      ">>> 최소요구납기충족리스트: [('A', Timestamp('2024-01-10 00:00:00', freq='D'))]\n",
      "*** 랜덤선택 최선정반명:A, 최선조기착수일:2024-01-10\n",
      "*** 레이아웃 적합도리스트 체크: 부적합\n",
      "\n",
      ">>> 제13차 레이아웃 적합도 검토\n",
      "*** 최선조기착수일후보: {'A': Timestamp('2024-01-11 00:00:00', freq='D')}\n",
      ">>> 최소요구납기충족리스트: [('A', Timestamp('2024-01-11 00:00:00', freq='D'))]\n",
      "*** 랜덤선택 최선정반명:A, 최선조기착수일:2024-01-11\n",
      "*** 레이아웃 적합도리스트 체크: 부적합\n",
      "\n",
      ">>> 제14차 레이아웃 적합도 검토\n",
      "*** 최선조기착수일후보: {'A': Timestamp('2024-01-11 00:00:00', freq='D')}\n",
      ">>> 최소요구납기충족리스트: [('A', Timestamp('2024-01-11 00:00:00', freq='D'))]\n",
      "*** 랜덤선택 최선정반명:A, 최선조기착수일:2024-01-11\n",
      "*** 레이아웃 적합도리스트 체크: 부적합\n",
      "\n",
      ">>> 제15차 레이아웃 적합도 검토\n",
      "*** 최선조기착수일후보: {'A': Timestamp('2024-01-12 00:00:00', freq='D')}\n",
      ">>> 최소요구납기충족리스트: [('A', Timestamp('2024-01-12 00:00:00', freq='D'))]\n",
      "*** 랜덤선택 최선정반명:A, 최선조기착수일:2024-01-12\n",
      "*** 레이아웃 적합도리스트 체크: 부적합\n",
      "\n",
      ">>> 제16차 레이아웃 적합도 검토\n",
      "*** 최선조기착수일후보: {'A': Timestamp('2024-01-13 00:00:00', freq='D')}\n",
      ">>> 최소요구납기충족리스트: [('A', Timestamp('2024-01-13 00:00:00', freq='D'))]\n",
      "*** 랜덤선택 최선정반명:A, 최선조기착수일:2024-01-13\n",
      "*** 레이아웃 적합도리스트 체크: 부적합\n",
      "\n",
      ">>> 제17차 레이아웃 적합도 검토\n",
      "*** 최선조기착수일후보: {'A': Timestamp('2024-01-14 00:00:00', freq='D')}\n",
      ">>> 최소요구납기충족리스트: [('A', Timestamp('2024-01-14 00:00:00', freq='D'))]\n",
      "*** 랜덤선택 최선정반명:A, 최선조기착수일:2024-01-14\n",
      "*** 레이아웃 적합도리스트 체크: 부적합\n",
      "\n",
      ">>> 제18차 레이아웃 적합도 검토\n",
      "*** 최선조기착수일후보: {'A': Timestamp('2024-01-15 00:00:00', freq='D')}\n",
      ">>> 최소요구납기충족리스트: [('A', Timestamp('2024-01-15 00:00:00', freq='D'))]\n",
      "*** 랜덤선택 최선정반명:A, 최선조기착수일:2024-01-15\n",
      "*** 레이아웃 적합도리스트 체크: 부적합\n",
      "\n",
      ">>> 제19차 레이아웃 적합도 검토\n",
      "*** 최선조기착수일후보: {'A': Timestamp('2024-01-15 00:00:00', freq='D')}\n",
      ">>> 최소요구납기충족리스트: [('A', Timestamp('2024-01-15 00:00:00', freq='D'))]\n",
      "*** 랜덤선택 최선정반명:A, 최선조기착수일:2024-01-15\n",
      "*** 레이아웃 적합도리스트 체크: 부적합\n",
      "\n",
      ">>> 제20차 레이아웃 적합도 검토\n",
      "*** 최선조기착수일후보: {'A': Timestamp('2024-01-16 00:00:00', freq='D')}\n",
      ">>> 최소요구납기충족리스트: [('A', Timestamp('2024-01-16 00:00:00', freq='D'))]\n",
      "*** 랜덤선택 최선정반명:A, 최선조기착수일:2024-01-16\n",
      "*** 레이아웃 적합도리스트 체크: 부적합\n",
      "\n",
      ">>> 제21차 레이아웃 적합도 검토\n",
      "*** 최선조기착수일후보: {'A': Timestamp('2024-01-17 00:00:00', freq='D')}\n",
      ">>> 최소요구납기충족리스트: [('A', Timestamp('2024-01-17 00:00:00', freq='D'))]\n",
      "*** 랜덤선택 최선정반명:A, 최선조기착수일:2024-01-17\n",
      "*** 레이아웃 적합도리스트 체크: 부적합\n",
      "\n",
      ">>> 제22차 레이아웃 적합도 검토\n",
      "*** 최선조기착수일후보: {'A': Timestamp('2024-01-18 00:00:00', freq='D')}\n",
      ">>> 최소요구납기충족리스트: [('A', Timestamp('2024-01-18 00:00:00', freq='D'))]\n",
      "*** 랜덤선택 최선정반명:A, 최선조기착수일:2024-01-18\n",
      "*** 레이아웃 적합도리스트 체크: 부적합\n",
      "\n",
      ">>> 제23차 레이아웃 적합도 검토\n",
      "*** 최선조기착수일후보: {'A': Timestamp('2024-01-19 00:00:00', freq='D')}\n",
      ">>> 최소요구납기충족리스트: [('A', Timestamp('2024-01-19 00:00:00', freq='D'))]\n",
      "*** 랜덤선택 최선정반명:A, 최선조기착수일:2024-01-19\n",
      "*** 레이아웃 적합도리스트 체크: 부적합\n",
      "\n",
      ">>> 제24차 레이아웃 적합도 검토\n",
      "*** 최선조기착수일후보: {'A': Timestamp('2024-01-19 00:00:00', freq='D')}\n",
      ">>> 최소요구납기충족리스트: [('A', Timestamp('2024-01-19 00:00:00', freq='D'))]\n",
      "*** 랜덤선택 최선정반명:A, 최선조기착수일:2024-01-19\n",
      "*** 레이아웃 적합도리스트 체크: 부적합\n",
      "\n",
      ">>> 제25차 레이아웃 적합도 검토\n",
      "*** 최선조기착수일후보: {'A': Timestamp('2024-01-20 00:00:00', freq='D')}\n",
      ">>> 최소요구납기충족리스트: [('A', Timestamp('2024-01-20 00:00:00', freq='D'))]\n",
      "*** 랜덤선택 최선정반명:A, 최선조기착수일:2024-01-20\n",
      "*** 레이아웃 적합도리스트 체크: 부적합\n",
      "\n",
      ">>> 제26차 레이아웃 적합도 검토\n",
      "*** 최선조기착수일후보: {'A': Timestamp('2024-01-21 00:00:00', freq='D')}\n",
      ">>> 최소요구납기충족리스트: [('A', Timestamp('2024-01-21 00:00:00', freq='D'))]\n",
      "*** 랜덤선택 최선정반명:A, 최선조기착수일:2024-01-21\n",
      "*** 레이아웃 적합도리스트 체크: 적합\n",
      "*** 정상배치 완료\n",
      "========================================================================================================================\n",
      "\n",
      "*** 검토대상블록: S15, 사이즈: (13, 14), 표준공기: 4, 최소착수요구일:2024-02-01\n",
      "*** 중량조건적합정반들: ['A']\n",
      "\n",
      ">>> 제1차 레이아웃 적합도 검토\n",
      "*** 최선조기착수일후보: {'A': Timestamp('2024-01-01 00:00:00', freq='D')}\n",
      ">>> 최소요구납기충족리스트: [('A', Timestamp('2024-01-01 00:00:00', freq='D'))]\n",
      "*** 랜덤선택 최선정반명:A, 최선조기착수일:2024-01-01\n",
      "*** 레이아웃 적합도리스트 체크: 부적합\n",
      "\n",
      ">>> 제2차 레이아웃 적합도 검토\n",
      "*** 최선조기착수일후보: {'A': Timestamp('2024-01-02 00:00:00', freq='D')}\n",
      ">>> 최소요구납기충족리스트: [('A', Timestamp('2024-01-02 00:00:00', freq='D'))]\n",
      "*** 랜덤선택 최선정반명:A, 최선조기착수일:2024-01-02\n",
      "*** 레이아웃 적합도리스트 체크: 부적합\n",
      "\n",
      ">>> 제3차 레이아웃 적합도 검토\n",
      "*** 최선조기착수일후보: {'A': Timestamp('2024-01-03 00:00:00', freq='D')}\n",
      ">>> 최소요구납기충족리스트: [('A', Timestamp('2024-01-03 00:00:00', freq='D'))]\n",
      "*** 랜덤선택 최선정반명:A, 최선조기착수일:2024-01-03\n",
      "*** 레이아웃 적합도리스트 체크: 부적합\n",
      "\n",
      ">>> 제4차 레이아웃 적합도 검토\n",
      "*** 최선조기착수일후보: {'A': Timestamp('2024-01-03 00:00:00', freq='D')}\n",
      ">>> 최소요구납기충족리스트: [('A', Timestamp('2024-01-03 00:00:00', freq='D'))]\n",
      "*** 랜덤선택 최선정반명:A, 최선조기착수일:2024-01-03\n",
      "*** 레이아웃 적합도리스트 체크: 부적합\n",
      "\n",
      ">>> 제5차 레이아웃 적합도 검토\n",
      "*** 최선조기착수일후보: {'A': Timestamp('2024-01-04 00:00:00', freq='D')}\n",
      ">>> 최소요구납기충족리스트: [('A', Timestamp('2024-01-04 00:00:00', freq='D'))]\n",
      "*** 랜덤선택 최선정반명:A, 최선조기착수일:2024-01-04\n",
      "*** 레이아웃 적합도리스트 체크: 부적합\n",
      "\n",
      ">>> 제6차 레이아웃 적합도 검토\n",
      "*** 최선조기착수일후보: {'A': Timestamp('2024-01-05 00:00:00', freq='D')}\n",
      ">>> 최소요구납기충족리스트: [('A', Timestamp('2024-01-05 00:00:00', freq='D'))]\n",
      "*** 랜덤선택 최선정반명:A, 최선조기착수일:2024-01-05\n",
      "*** 레이아웃 적합도리스트 체크: 부적합\n",
      "\n",
      ">>> 제7차 레이아웃 적합도 검토\n",
      "*** 최선조기착수일후보: {'A': Timestamp('2024-01-06 00:00:00', freq='D')}\n",
      ">>> 최소요구납기충족리스트: [('A', Timestamp('2024-01-06 00:00:00', freq='D'))]\n",
      "*** 랜덤선택 최선정반명:A, 최선조기착수일:2024-01-06\n",
      "*** 레이아웃 적합도리스트 체크: 부적합\n",
      "\n",
      ">>> 제8차 레이아웃 적합도 검토\n",
      "*** 최선조기착수일후보: {'A': Timestamp('2024-01-07 00:00:00', freq='D')}\n",
      ">>> 최소요구납기충족리스트: [('A', Timestamp('2024-01-07 00:00:00', freq='D'))]\n",
      "*** 랜덤선택 최선정반명:A, 최선조기착수일:2024-01-07\n",
      "*** 레이아웃 적합도리스트 체크: 부적합\n",
      "\n",
      ">>> 제9차 레이아웃 적합도 검토\n",
      "*** 최선조기착수일후보: {'A': Timestamp('2024-01-07 00:00:00', freq='D')}\n",
      ">>> 최소요구납기충족리스트: [('A', Timestamp('2024-01-07 00:00:00', freq='D'))]\n",
      "*** 랜덤선택 최선정반명:A, 최선조기착수일:2024-01-07\n",
      "*** 레이아웃 적합도리스트 체크: 부적합\n",
      "\n",
      ">>> 제10차 레이아웃 적합도 검토\n",
      "*** 최선조기착수일후보: {'A': Timestamp('2024-01-08 00:00:00', freq='D')}\n",
      ">>> 최소요구납기충족리스트: [('A', Timestamp('2024-01-08 00:00:00', freq='D'))]\n",
      "*** 랜덤선택 최선정반명:A, 최선조기착수일:2024-01-08\n",
      "*** 레이아웃 적합도리스트 체크: 부적합\n",
      "\n",
      ">>> 제11차 레이아웃 적합도 검토\n",
      "*** 최선조기착수일후보: {'A': Timestamp('2024-01-09 00:00:00', freq='D')}\n",
      ">>> 최소요구납기충족리스트: [('A', Timestamp('2024-01-09 00:00:00', freq='D'))]\n",
      "*** 랜덤선택 최선정반명:A, 최선조기착수일:2024-01-09\n",
      "*** 레이아웃 적합도리스트 체크: 부적합\n",
      "\n",
      ">>> 제12차 레이아웃 적합도 검토\n",
      "*** 최선조기착수일후보: {'A': Timestamp('2024-01-10 00:00:00', freq='D')}\n",
      ">>> 최소요구납기충족리스트: [('A', Timestamp('2024-01-10 00:00:00', freq='D'))]\n",
      "*** 랜덤선택 최선정반명:A, 최선조기착수일:2024-01-10\n",
      "*** 레이아웃 적합도리스트 체크: 부적합\n",
      "\n",
      ">>> 제13차 레이아웃 적합도 검토\n",
      "*** 최선조기착수일후보: {'A': Timestamp('2024-01-11 00:00:00', freq='D')}\n",
      ">>> 최소요구납기충족리스트: [('A', Timestamp('2024-01-11 00:00:00', freq='D'))]\n",
      "*** 랜덤선택 최선정반명:A, 최선조기착수일:2024-01-11\n",
      "*** 레이아웃 적합도리스트 체크: 부적합\n",
      "\n",
      ">>> 제14차 레이아웃 적합도 검토\n",
      "*** 최선조기착수일후보: {'A': Timestamp('2024-01-11 00:00:00', freq='D')}\n",
      ">>> 최소요구납기충족리스트: [('A', Timestamp('2024-01-11 00:00:00', freq='D'))]\n",
      "*** 랜덤선택 최선정반명:A, 최선조기착수일:2024-01-11\n",
      "*** 레이아웃 적합도리스트 체크: 부적합\n",
      "\n",
      ">>> 제15차 레이아웃 적합도 검토\n",
      "*** 최선조기착수일후보: {'A': Timestamp('2024-01-12 00:00:00', freq='D')}\n",
      ">>> 최소요구납기충족리스트: [('A', Timestamp('2024-01-12 00:00:00', freq='D'))]\n",
      "*** 랜덤선택 최선정반명:A, 최선조기착수일:2024-01-12\n",
      "*** 레이아웃 적합도리스트 체크: 부적합\n",
      "\n",
      ">>> 제16차 레이아웃 적합도 검토\n",
      "*** 최선조기착수일후보: {'A': Timestamp('2024-01-13 00:00:00', freq='D')}\n",
      ">>> 최소요구납기충족리스트: [('A', Timestamp('2024-01-13 00:00:00', freq='D'))]\n",
      "*** 랜덤선택 최선정반명:A, 최선조기착수일:2024-01-13\n",
      "*** 레이아웃 적합도리스트 체크: 부적합\n",
      "\n",
      ">>> 제17차 레이아웃 적합도 검토\n",
      "*** 최선조기착수일후보: {'A': Timestamp('2024-01-14 00:00:00', freq='D')}\n",
      ">>> 최소요구납기충족리스트: [('A', Timestamp('2024-01-14 00:00:00', freq='D'))]\n",
      "*** 랜덤선택 최선정반명:A, 최선조기착수일:2024-01-14\n"
     ]
    },
    {
     "name": "stdout",
     "output_type": "stream",
     "text": [
      "*** 레이아웃 적합도리스트 체크: 부적합\n",
      "\n",
      ">>> 제18차 레이아웃 적합도 검토\n",
      "*** 최선조기착수일후보: {'A': Timestamp('2024-01-15 00:00:00', freq='D')}\n",
      ">>> 최소요구납기충족리스트: [('A', Timestamp('2024-01-15 00:00:00', freq='D'))]\n",
      "*** 랜덤선택 최선정반명:A, 최선조기착수일:2024-01-15\n",
      "*** 레이아웃 적합도리스트 체크: 부적합\n",
      "\n",
      ">>> 제19차 레이아웃 적합도 검토\n",
      "*** 최선조기착수일후보: {'A': Timestamp('2024-01-15 00:00:00', freq='D')}\n",
      ">>> 최소요구납기충족리스트: [('A', Timestamp('2024-01-15 00:00:00', freq='D'))]\n",
      "*** 랜덤선택 최선정반명:A, 최선조기착수일:2024-01-15\n",
      "*** 레이아웃 적합도리스트 체크: 부적합\n",
      "\n",
      ">>> 제20차 레이아웃 적합도 검토\n",
      "*** 최선조기착수일후보: {'A': Timestamp('2024-01-16 00:00:00', freq='D')}\n",
      ">>> 최소요구납기충족리스트: [('A', Timestamp('2024-01-16 00:00:00', freq='D'))]\n",
      "*** 랜덤선택 최선정반명:A, 최선조기착수일:2024-01-16\n",
      "*** 레이아웃 적합도리스트 체크: 부적합\n",
      "\n",
      ">>> 제21차 레이아웃 적합도 검토\n",
      "*** 최선조기착수일후보: {'A': Timestamp('2024-01-17 00:00:00', freq='D')}\n",
      ">>> 최소요구납기충족리스트: [('A', Timestamp('2024-01-17 00:00:00', freq='D'))]\n",
      "*** 랜덤선택 최선정반명:A, 최선조기착수일:2024-01-17\n",
      "*** 레이아웃 적합도리스트 체크: 부적합\n",
      "\n",
      ">>> 제22차 레이아웃 적합도 검토\n",
      "*** 최선조기착수일후보: {'A': Timestamp('2024-01-18 00:00:00', freq='D')}\n",
      ">>> 최소요구납기충족리스트: [('A', Timestamp('2024-01-18 00:00:00', freq='D'))]\n",
      "*** 랜덤선택 최선정반명:A, 최선조기착수일:2024-01-18\n",
      "*** 레이아웃 적합도리스트 체크: 부적합\n",
      "\n",
      ">>> 제23차 레이아웃 적합도 검토\n",
      "*** 최선조기착수일후보: {'A': Timestamp('2024-01-19 00:00:00', freq='D')}\n",
      ">>> 최소요구납기충족리스트: [('A', Timestamp('2024-01-19 00:00:00', freq='D'))]\n",
      "*** 랜덤선택 최선정반명:A, 최선조기착수일:2024-01-19\n",
      "*** 레이아웃 적합도리스트 체크: 부적합\n",
      "\n",
      ">>> 제24차 레이아웃 적합도 검토\n",
      "*** 최선조기착수일후보: {'A': Timestamp('2024-01-19 00:00:00', freq='D')}\n",
      ">>> 최소요구납기충족리스트: [('A', Timestamp('2024-01-19 00:00:00', freq='D'))]\n",
      "*** 랜덤선택 최선정반명:A, 최선조기착수일:2024-01-19\n",
      "*** 레이아웃 적합도리스트 체크: 부적합\n",
      "\n",
      ">>> 제25차 레이아웃 적합도 검토\n",
      "*** 최선조기착수일후보: {'A': Timestamp('2024-01-20 00:00:00', freq='D')}\n",
      ">>> 최소요구납기충족리스트: [('A', Timestamp('2024-01-20 00:00:00', freq='D'))]\n",
      "*** 랜덤선택 최선정반명:A, 최선조기착수일:2024-01-20\n",
      "*** 레이아웃 적합도리스트 체크: 부적합\n",
      "\n",
      ">>> 제26차 레이아웃 적합도 검토\n",
      "*** 최선조기착수일후보: {'A': Timestamp('2024-01-21 00:00:00', freq='D')}\n",
      ">>> 최소요구납기충족리스트: [('A', Timestamp('2024-01-21 00:00:00', freq='D'))]\n",
      "*** 랜덤선택 최선정반명:A, 최선조기착수일:2024-01-21\n",
      "*** 레이아웃 적합도리스트 체크: 부적합\n",
      "\n",
      ">>> 제27차 레이아웃 적합도 검토\n",
      "*** 최선조기착수일후보: {'A': Timestamp('2024-01-22 00:00:00', freq='D')}\n",
      ">>> 최소요구납기충족리스트: [('A', Timestamp('2024-01-22 00:00:00', freq='D'))]\n",
      "*** 랜덤선택 최선정반명:A, 최선조기착수일:2024-01-22\n",
      "*** 레이아웃 적합도리스트 체크: 부적합\n",
      "\n",
      ">>> 제28차 레이아웃 적합도 검토\n",
      "*** 최선조기착수일후보: {'A': Timestamp('2024-01-23 00:00:00', freq='D')}\n",
      ">>> 최소요구납기충족리스트: [('A', Timestamp('2024-01-23 00:00:00', freq='D'))]\n",
      "*** 랜덤선택 최선정반명:A, 최선조기착수일:2024-01-23\n",
      "*** 레이아웃 적합도리스트 체크: 적합\n",
      "*** 정상배치 완료\n",
      "========================================================================================================================\n",
      "\n",
      "*** 검토대상블록: S17, 사이즈: (6, 15), 표준공기: 11, 최소착수요구일:2024-02-03\n",
      "*** 중량조건적합정반들: ['A']\n",
      "\n",
      ">>> 제1차 레이아웃 적합도 검토\n",
      "*** 최선조기착수일후보: {'A': Timestamp('2024-01-01 00:00:00', freq='D')}\n",
      ">>> 최소요구납기충족리스트: [('A', Timestamp('2024-01-01 00:00:00', freq='D'))]\n",
      "*** 랜덤선택 최선정반명:A, 최선조기착수일:2024-01-01\n",
      "*** 레이아웃 적합도리스트 체크: 부적합\n",
      "\n",
      ">>> 제2차 레이아웃 적합도 검토\n",
      "*** 최선조기착수일후보: {'A': Timestamp('2024-01-03 00:00:00', freq='D')}\n",
      ">>> 최소요구납기충족리스트: [('A', Timestamp('2024-01-03 00:00:00', freq='D'))]\n",
      "*** 랜덤선택 최선정반명:A, 최선조기착수일:2024-01-03\n",
      "*** 레이아웃 적합도리스트 체크: 부적합\n",
      "\n",
      ">>> 제3차 레이아웃 적합도 검토\n",
      "*** 최선조기착수일후보: {'A': Timestamp('2024-01-05 00:00:00', freq='D')}\n",
      ">>> 최소요구납기충족리스트: [('A', Timestamp('2024-01-05 00:00:00', freq='D'))]\n",
      "*** 랜덤선택 최선정반명:A, 최선조기착수일:2024-01-05\n",
      "*** 레이아웃 적합도리스트 체크: 부적합\n",
      "\n",
      ">>> 제4차 레이아웃 적합도 검토\n",
      "*** 최선조기착수일후보: {'A': Timestamp('2024-01-08 00:00:00', freq='D')}\n",
      ">>> 최소요구납기충족리스트: [('A', Timestamp('2024-01-08 00:00:00', freq='D'))]\n",
      "*** 랜덤선택 최선정반명:A, 최선조기착수일:2024-01-08\n",
      "*** 레이아웃 적합도리스트 체크: 부적합\n",
      "\n",
      ">>> 제5차 레이아웃 적합도 검토\n",
      "*** 최선조기착수일후보: {'A': Timestamp('2024-01-10 00:00:00', freq='D')}\n",
      ">>> 최소요구납기충족리스트: [('A', Timestamp('2024-01-10 00:00:00', freq='D'))]\n",
      "*** 랜덤선택 최선정반명:A, 최선조기착수일:2024-01-10\n",
      "*** 레이아웃 적합도리스트 체크: 부적합\n",
      "\n",
      ">>> 제6차 레이아웃 적합도 검토\n",
      "*** 최선조기착수일후보: {'A': Timestamp('2024-01-12 00:00:00', freq='D')}\n",
      ">>> 최소요구납기충족리스트: [('A', Timestamp('2024-01-12 00:00:00', freq='D'))]\n",
      "*** 랜덤선택 최선정반명:A, 최선조기착수일:2024-01-12\n",
      "*** 레이아웃 적합도리스트 체크: 부적합\n",
      "\n",
      ">>> 제7차 레이아웃 적합도 검토\n",
      "*** 최선조기착수일후보: {'A': Timestamp('2024-01-14 00:00:00', freq='D')}\n",
      ">>> 최소요구납기충족리스트: [('A', Timestamp('2024-01-14 00:00:00', freq='D'))]\n",
      "*** 랜덤선택 최선정반명:A, 최선조기착수일:2024-01-14\n",
      "*** 레이아웃 적합도리스트 체크: 부적합\n",
      "\n",
      ">>> 제8차 레이아웃 적합도 검토\n",
      "*** 최선조기착수일후보: {'A': Timestamp('2024-01-16 00:00:00', freq='D')}\n",
      ">>> 최소요구납기충족리스트: [('A', Timestamp('2024-01-16 00:00:00', freq='D'))]\n",
      "*** 랜덤선택 최선정반명:A, 최선조기착수일:2024-01-16\n",
      "*** 레이아웃 적합도리스트 체크: 부적합\n",
      "\n",
      ">>> 제9차 레이아웃 적합도 검토\n",
      "*** 최선조기착수일후보: {'A': Timestamp('2024-01-19 00:00:00', freq='D')}\n",
      ">>> 최소요구납기충족리스트: [('A', Timestamp('2024-01-19 00:00:00', freq='D'))]\n",
      "*** 랜덤선택 최선정반명:A, 최선조기착수일:2024-01-19\n",
      "*** 레이아웃 적합도리스트 체크: 부적합\n",
      "\n",
      ">>> 제10차 레이아웃 적합도 검토\n",
      "*** 최선조기착수일후보: {'A': Timestamp('2024-01-21 00:00:00', freq='D')}\n",
      ">>> 최소요구납기충족리스트: [('A', Timestamp('2024-01-21 00:00:00', freq='D'))]\n",
      "*** 랜덤선택 최선정반명:A, 최선조기착수일:2024-01-21\n",
      "*** 레이아웃 적합도리스트 체크: 부적합\n",
      "\n",
      ">>> 제11차 레이아웃 적합도 검토\n",
      "*** 최선조기착수일후보: {'A': Timestamp('2024-01-23 00:00:00', freq='D')}\n",
      ">>> 최소요구납기충족리스트: [('A', Timestamp('2024-01-23 00:00:00', freq='D'))]\n",
      "*** 랜덤선택 최선정반명:A, 최선조기착수일:2024-01-23\n",
      "*** 레이아웃 적합도리스트 체크: 부적합\n",
      "\n",
      ">>> 제12차 레이아웃 적합도 검토\n",
      "*** 최선조기착수일후보: {'A': Timestamp('2024-01-25 00:00:00', freq='D')}\n",
      ">>> 최소요구납기충족리스트: [('A', Timestamp('2024-01-25 00:00:00', freq='D'))]\n",
      "*** 랜덤선택 최선정반명:A, 최선조기착수일:2024-01-25\n",
      "*** 레이아웃 적합도리스트 체크: 적합\n",
      "*** 정상배치 완료\n",
      "========================================================================================================================\n",
      "\n",
      ">>>>>>>> 총 블록 대수: 14\n",
      ">>>>>>>> 정상배치 블록 대수: 11\n",
      ">>>>>>>> 배치못한 블록 대수: 3\n",
      "----------------------------------------------------------------------\n",
      "결론_상태정보: ['정상배치완료', '정상배치완료', '최선조기착수 후보날짜가 없음', '정상배치완료', '정상배치완료', '최선조기착수 후보날짜가 없음', '정상배치완료', '정상배치완료', '최선조기착수 후보날짜가 없음', '정상배치완료', '정상배치완료', '정상배치완료', '정상배치완료', '정상배치완료']\n"
     ]
    }
   ],
   "source": [
    "data_num = \"111\"\n",
    "\n",
    "블록원데이터 = pd.read_excel(f\"./data/data{data_num}.xlsx\", sheet_name=\"블록데이터\")\n",
    "블록원데이터 = 블록원데이터.iloc[4:,:]\n",
    "\n",
    "정반원데이터 = pd.read_excel(f\"./data/data{data_num}.xlsx\", sheet_name=\"정반데이터\")\n",
    "\n",
    "블록데이터 = 블록데이터전처리(블록원데이터)\n",
    "정반데이터 = 정반데이터전처리(정반원데이터)\n",
    "블록데이터.shape, 정반데이터.shape\n",
    "\n",
    "## Block Weight 후보들\n",
    "공기가중치들 = [0.9, 0.5, 0.1]\n",
    "크기가중치들 = [0.1, 0.5, 0.9]\n",
    "착수일가중치 = 3\n",
    "\n",
    "배치결과모음 = []\n",
    "\n",
    "for 공기가중치, 크기가중치 in tqdm(zip(공기가중치들, 크기가중치들)):\n",
    "    블록데이터 = 블록데이터전처리(블록원데이터)    \n",
    "    면적달력 = create_면적달력(2024, 1, 2024, 3, 정반데이터)\n",
    "    블록명달력 = create_블록명달력(2024, 1, 2024, 3, 정반데이터)\n",
    "    사이즈달력 = create_사이즈달력(2024, 1, 2024, 3, 정반데이터)\n",
    "    \n",
    "    생산계획결과 = 생산계획수립(블록데이터, 정반데이터, 면적달력, 블록명달력, 사이즈달력)\n",
    "    \n",
    "    결론_블록리스트 = 생산계획결과[0]\n",
    "    결론_정반리스트 = 생산계획결과[1]\n",
    "    결론_착수일자 = 생산계획결과[2]\n",
    "    결론_상태정보 = 생산계획결과[3]\n",
    "    면적달력 = 생산계획결과[4]\n",
    "    블록명달력 = 생산계획결과[5]\n",
    "    사이즈달력 = 생산계획결과[6]\n",
    "\n",
    "    print(f\">>>>>>>> 총 블록 대수: {len(결론_상태정보)}\")\n",
    "    print(f\">>>>>>>> 정상배치 블록 대수: {결론_상태정보.count('정상배치완료')}\")\n",
    "    print(f\">>>>>>>> 배치못한 블록 대수: {len(결론_상태정보) - 결론_상태정보.count('정상배치완료')}\")\n",
    "    print(\"-\"*70)\n",
    "    \n",
    "    fin_df = pd.DataFrame({\n",
    "    \"블록명\":결론_블록리스트,\n",
    "    \"정반명\":결론_정반리스트,\n",
    "    \"착수일자\":결론_착수일자,\n",
    "    })\n",
    "    merged_df = pd.merge(블록데이터, fin_df, on=\"블록명\", how=\"left\")\n",
    "    print(f\"결론_상태정보: {결론_상태정보}\")\n",
    "    merged_df[\"상태정보\"] = 결론_상태정보\n",
    "    \n",
    "    merged_df[\"종료일자\"] = merged_df[[\"착수일자\", \"표준공기\"]].apply(종료일구하기, axis=1)\n",
    "    merged_df[\"차트텍스트\"] = merged_df[[\"블록명\", \"표준공기\", \"사이즈\"]].apply(create_text, axis=1)\n",
    "    \n",
    "    배치결과모음.append(merged_df)"
   ]
  },
  {
   "cell_type": "code",
   "execution_count": 607,
   "id": "2f37f60e",
   "metadata": {
    "scrolled": false
   },
   "outputs": [
    {
     "data": {
      "application/vnd.plotly.v1+json": {
       "config": {
        "plotlyServerURL": "https://plot.ly"
       },
       "data": [
        {
         "alignmentgroup": "True",
         "base": [
          "2024-01-01",
          "2024-01-01",
          "2024-01-01",
          "2024-01-11",
          "2024-01-14",
          "2024-01-12",
          "2024-01-19",
          "2024-01-19",
          "2024-01-23",
          "2024-01-01",
          "2024-01-23"
         ],
         "customdata": [
          [
           18,
           59
          ],
          [
           10,
           87
          ],
          [
           11,
           68
          ],
          [
           17,
           60
          ],
          [
           13,
           76
          ],
          [
           11,
           43
          ],
          [
           15,
           65
          ],
          [
           4,
           0
          ],
          [
           4,
           0
          ],
          [
           11,
           91
          ],
          [
           4,
           0
          ]
         ],
         "hovertemplate": "정반명=A<br>착수일자=%{base}<br>종료일자=%{x}<br>블록명=%{y}<br>차트텍스트=%{text}<br>표준공기=%{customdata[0]}<br>중량=%{customdata[1]}<extra></extra>",
         "legendgroup": "A",
         "marker": {
          "color": "#636efa",
          "line": {
           "width": 2
          },
          "opacity": 0.7,
          "pattern": {
           "shape": ""
          }
         },
         "name": "A",
         "offsetgroup": "A",
         "opacity": 1,
         "orientation": "h",
         "showlegend": true,
         "text": [
          "S6/조립중량:18ton/사이즈:(14, 15)",
          "S7/조립중량:10ton/사이즈:(13, 31)",
          "S5/조립중량:11ton/사이즈:(7, 15)",
          "S9/조립중량:17ton/사이즈:(15, 15)",
          "S11/조립중량:13ton/사이즈:(14, 14)",
          "S10/조립중량:11ton/사이즈:(8, 16)",
          "S16/조립중량:15ton/사이즈:(12, 14)",
          "S12/조립중량:4ton/사이즈:(8, 15)",
          "S18/조립중량:4ton/사이즈:(13, 16)",
          "S17/조립중량:11ton/사이즈:(6, 15)",
          "S15/조립중량:4ton/사이즈:(13, 14)"
         ],
         "textposition": "auto",
         "type": "bar",
         "x": [
          1555200000,
          864000000,
          950400000,
          1468800000,
          1123200000,
          950400000,
          1296000000,
          345600000,
          345600000,
          950400000,
          345600000
         ],
         "xaxis": "x",
         "y": [
          "S6",
          "S7",
          "S5",
          "S9",
          "S11",
          "S10",
          "S16",
          "S12",
          "S18",
          "S17",
          "S15"
         ],
         "yaxis": "y"
        }
       ],
       "layout": {
        "bargap": 0.2,
        "barmode": "overlay",
        "font": {
         "color": "RebeccaPurple",
         "family": "Courier New, monospace",
         "size": 12
        },
        "height": 500,
        "hoverlabel": {
         "bgcolor": "#DAEEED"
        },
        "legend": {
         "title": {
          "text": "정반명"
         },
         "tracegroupgap": 0
        },
        "margin": {
         "t": 60
        },
        "template": {
         "data": {
          "bar": [
           {
            "error_x": {
             "color": "#2a3f5f"
            },
            "error_y": {
             "color": "#2a3f5f"
            },
            "marker": {
             "line": {
              "color": "#E5ECF6",
              "width": 0.5
             },
             "pattern": {
              "fillmode": "overlay",
              "size": 10,
              "solidity": 0.2
             }
            },
            "type": "bar"
           }
          ],
          "barpolar": [
           {
            "marker": {
             "line": {
              "color": "#E5ECF6",
              "width": 0.5
             },
             "pattern": {
              "fillmode": "overlay",
              "size": 10,
              "solidity": 0.2
             }
            },
            "type": "barpolar"
           }
          ],
          "carpet": [
           {
            "aaxis": {
             "endlinecolor": "#2a3f5f",
             "gridcolor": "white",
             "linecolor": "white",
             "minorgridcolor": "white",
             "startlinecolor": "#2a3f5f"
            },
            "baxis": {
             "endlinecolor": "#2a3f5f",
             "gridcolor": "white",
             "linecolor": "white",
             "minorgridcolor": "white",
             "startlinecolor": "#2a3f5f"
            },
            "type": "carpet"
           }
          ],
          "choropleth": [
           {
            "colorbar": {
             "outlinewidth": 0,
             "ticks": ""
            },
            "type": "choropleth"
           }
          ],
          "contour": [
           {
            "colorbar": {
             "outlinewidth": 0,
             "ticks": ""
            },
            "colorscale": [
             [
              0,
              "#0d0887"
             ],
             [
              0.1111111111111111,
              "#46039f"
             ],
             [
              0.2222222222222222,
              "#7201a8"
             ],
             [
              0.3333333333333333,
              "#9c179e"
             ],
             [
              0.4444444444444444,
              "#bd3786"
             ],
             [
              0.5555555555555556,
              "#d8576b"
             ],
             [
              0.6666666666666666,
              "#ed7953"
             ],
             [
              0.7777777777777778,
              "#fb9f3a"
             ],
             [
              0.8888888888888888,
              "#fdca26"
             ],
             [
              1,
              "#f0f921"
             ]
            ],
            "type": "contour"
           }
          ],
          "contourcarpet": [
           {
            "colorbar": {
             "outlinewidth": 0,
             "ticks": ""
            },
            "type": "contourcarpet"
           }
          ],
          "heatmap": [
           {
            "colorbar": {
             "outlinewidth": 0,
             "ticks": ""
            },
            "colorscale": [
             [
              0,
              "#0d0887"
             ],
             [
              0.1111111111111111,
              "#46039f"
             ],
             [
              0.2222222222222222,
              "#7201a8"
             ],
             [
              0.3333333333333333,
              "#9c179e"
             ],
             [
              0.4444444444444444,
              "#bd3786"
             ],
             [
              0.5555555555555556,
              "#d8576b"
             ],
             [
              0.6666666666666666,
              "#ed7953"
             ],
             [
              0.7777777777777778,
              "#fb9f3a"
             ],
             [
              0.8888888888888888,
              "#fdca26"
             ],
             [
              1,
              "#f0f921"
             ]
            ],
            "type": "heatmap"
           }
          ],
          "heatmapgl": [
           {
            "colorbar": {
             "outlinewidth": 0,
             "ticks": ""
            },
            "colorscale": [
             [
              0,
              "#0d0887"
             ],
             [
              0.1111111111111111,
              "#46039f"
             ],
             [
              0.2222222222222222,
              "#7201a8"
             ],
             [
              0.3333333333333333,
              "#9c179e"
             ],
             [
              0.4444444444444444,
              "#bd3786"
             ],
             [
              0.5555555555555556,
              "#d8576b"
             ],
             [
              0.6666666666666666,
              "#ed7953"
             ],
             [
              0.7777777777777778,
              "#fb9f3a"
             ],
             [
              0.8888888888888888,
              "#fdca26"
             ],
             [
              1,
              "#f0f921"
             ]
            ],
            "type": "heatmapgl"
           }
          ],
          "histogram": [
           {
            "marker": {
             "pattern": {
              "fillmode": "overlay",
              "size": 10,
              "solidity": 0.2
             }
            },
            "type": "histogram"
           }
          ],
          "histogram2d": [
           {
            "colorbar": {
             "outlinewidth": 0,
             "ticks": ""
            },
            "colorscale": [
             [
              0,
              "#0d0887"
             ],
             [
              0.1111111111111111,
              "#46039f"
             ],
             [
              0.2222222222222222,
              "#7201a8"
             ],
             [
              0.3333333333333333,
              "#9c179e"
             ],
             [
              0.4444444444444444,
              "#bd3786"
             ],
             [
              0.5555555555555556,
              "#d8576b"
             ],
             [
              0.6666666666666666,
              "#ed7953"
             ],
             [
              0.7777777777777778,
              "#fb9f3a"
             ],
             [
              0.8888888888888888,
              "#fdca26"
             ],
             [
              1,
              "#f0f921"
             ]
            ],
            "type": "histogram2d"
           }
          ],
          "histogram2dcontour": [
           {
            "colorbar": {
             "outlinewidth": 0,
             "ticks": ""
            },
            "colorscale": [
             [
              0,
              "#0d0887"
             ],
             [
              0.1111111111111111,
              "#46039f"
             ],
             [
              0.2222222222222222,
              "#7201a8"
             ],
             [
              0.3333333333333333,
              "#9c179e"
             ],
             [
              0.4444444444444444,
              "#bd3786"
             ],
             [
              0.5555555555555556,
              "#d8576b"
             ],
             [
              0.6666666666666666,
              "#ed7953"
             ],
             [
              0.7777777777777778,
              "#fb9f3a"
             ],
             [
              0.8888888888888888,
              "#fdca26"
             ],
             [
              1,
              "#f0f921"
             ]
            ],
            "type": "histogram2dcontour"
           }
          ],
          "mesh3d": [
           {
            "colorbar": {
             "outlinewidth": 0,
             "ticks": ""
            },
            "type": "mesh3d"
           }
          ],
          "parcoords": [
           {
            "line": {
             "colorbar": {
              "outlinewidth": 0,
              "ticks": ""
             }
            },
            "type": "parcoords"
           }
          ],
          "pie": [
           {
            "automargin": true,
            "type": "pie"
           }
          ],
          "scatter": [
           {
            "fillpattern": {
             "fillmode": "overlay",
             "size": 10,
             "solidity": 0.2
            },
            "type": "scatter"
           }
          ],
          "scatter3d": [
           {
            "line": {
             "colorbar": {
              "outlinewidth": 0,
              "ticks": ""
             }
            },
            "marker": {
             "colorbar": {
              "outlinewidth": 0,
              "ticks": ""
             }
            },
            "type": "scatter3d"
           }
          ],
          "scattercarpet": [
           {
            "marker": {
             "colorbar": {
              "outlinewidth": 0,
              "ticks": ""
             }
            },
            "type": "scattercarpet"
           }
          ],
          "scattergeo": [
           {
            "marker": {
             "colorbar": {
              "outlinewidth": 0,
              "ticks": ""
             }
            },
            "type": "scattergeo"
           }
          ],
          "scattergl": [
           {
            "marker": {
             "colorbar": {
              "outlinewidth": 0,
              "ticks": ""
             }
            },
            "type": "scattergl"
           }
          ],
          "scattermapbox": [
           {
            "marker": {
             "colorbar": {
              "outlinewidth": 0,
              "ticks": ""
             }
            },
            "type": "scattermapbox"
           }
          ],
          "scatterpolar": [
           {
            "marker": {
             "colorbar": {
              "outlinewidth": 0,
              "ticks": ""
             }
            },
            "type": "scatterpolar"
           }
          ],
          "scatterpolargl": [
           {
            "marker": {
             "colorbar": {
              "outlinewidth": 0,
              "ticks": ""
             }
            },
            "type": "scatterpolargl"
           }
          ],
          "scatterternary": [
           {
            "marker": {
             "colorbar": {
              "outlinewidth": 0,
              "ticks": ""
             }
            },
            "type": "scatterternary"
           }
          ],
          "surface": [
           {
            "colorbar": {
             "outlinewidth": 0,
             "ticks": ""
            },
            "colorscale": [
             [
              0,
              "#0d0887"
             ],
             [
              0.1111111111111111,
              "#46039f"
             ],
             [
              0.2222222222222222,
              "#7201a8"
             ],
             [
              0.3333333333333333,
              "#9c179e"
             ],
             [
              0.4444444444444444,
              "#bd3786"
             ],
             [
              0.5555555555555556,
              "#d8576b"
             ],
             [
              0.6666666666666666,
              "#ed7953"
             ],
             [
              0.7777777777777778,
              "#fb9f3a"
             ],
             [
              0.8888888888888888,
              "#fdca26"
             ],
             [
              1,
              "#f0f921"
             ]
            ],
            "type": "surface"
           }
          ],
          "table": [
           {
            "cells": {
             "fill": {
              "color": "#EBF0F8"
             },
             "line": {
              "color": "white"
             }
            },
            "header": {
             "fill": {
              "color": "#C8D4E3"
             },
             "line": {
              "color": "white"
             }
            },
            "type": "table"
           }
          ]
         },
         "layout": {
          "annotationdefaults": {
           "arrowcolor": "#2a3f5f",
           "arrowhead": 0,
           "arrowwidth": 1
          },
          "autotypenumbers": "strict",
          "coloraxis": {
           "colorbar": {
            "outlinewidth": 0,
            "ticks": ""
           }
          },
          "colorscale": {
           "diverging": [
            [
             0,
             "#8e0152"
            ],
            [
             0.1,
             "#c51b7d"
            ],
            [
             0.2,
             "#de77ae"
            ],
            [
             0.3,
             "#f1b6da"
            ],
            [
             0.4,
             "#fde0ef"
            ],
            [
             0.5,
             "#f7f7f7"
            ],
            [
             0.6,
             "#e6f5d0"
            ],
            [
             0.7,
             "#b8e186"
            ],
            [
             0.8,
             "#7fbc41"
            ],
            [
             0.9,
             "#4d9221"
            ],
            [
             1,
             "#276419"
            ]
           ],
           "sequential": [
            [
             0,
             "#0d0887"
            ],
            [
             0.1111111111111111,
             "#46039f"
            ],
            [
             0.2222222222222222,
             "#7201a8"
            ],
            [
             0.3333333333333333,
             "#9c179e"
            ],
            [
             0.4444444444444444,
             "#bd3786"
            ],
            [
             0.5555555555555556,
             "#d8576b"
            ],
            [
             0.6666666666666666,
             "#ed7953"
            ],
            [
             0.7777777777777778,
             "#fb9f3a"
            ],
            [
             0.8888888888888888,
             "#fdca26"
            ],
            [
             1,
             "#f0f921"
            ]
           ],
           "sequentialminus": [
            [
             0,
             "#0d0887"
            ],
            [
             0.1111111111111111,
             "#46039f"
            ],
            [
             0.2222222222222222,
             "#7201a8"
            ],
            [
             0.3333333333333333,
             "#9c179e"
            ],
            [
             0.4444444444444444,
             "#bd3786"
            ],
            [
             0.5555555555555556,
             "#d8576b"
            ],
            [
             0.6666666666666666,
             "#ed7953"
            ],
            [
             0.7777777777777778,
             "#fb9f3a"
            ],
            [
             0.8888888888888888,
             "#fdca26"
            ],
            [
             1,
             "#f0f921"
            ]
           ]
          },
          "colorway": [
           "#636efa",
           "#EF553B",
           "#00cc96",
           "#ab63fa",
           "#FFA15A",
           "#19d3f3",
           "#FF6692",
           "#B6E880",
           "#FF97FF",
           "#FECB52"
          ],
          "font": {
           "color": "#2a3f5f"
          },
          "geo": {
           "bgcolor": "white",
           "lakecolor": "white",
           "landcolor": "#E5ECF6",
           "showlakes": true,
           "showland": true,
           "subunitcolor": "white"
          },
          "hoverlabel": {
           "align": "left"
          },
          "hovermode": "closest",
          "mapbox": {
           "style": "light"
          },
          "paper_bgcolor": "white",
          "plot_bgcolor": "#E5ECF6",
          "polar": {
           "angularaxis": {
            "gridcolor": "white",
            "linecolor": "white",
            "ticks": ""
           },
           "bgcolor": "#E5ECF6",
           "radialaxis": {
            "gridcolor": "white",
            "linecolor": "white",
            "ticks": ""
           }
          },
          "scene": {
           "xaxis": {
            "backgroundcolor": "#E5ECF6",
            "gridcolor": "white",
            "gridwidth": 2,
            "linecolor": "white",
            "showbackground": true,
            "ticks": "",
            "zerolinecolor": "white"
           },
           "yaxis": {
            "backgroundcolor": "#E5ECF6",
            "gridcolor": "white",
            "gridwidth": 2,
            "linecolor": "white",
            "showbackground": true,
            "ticks": "",
            "zerolinecolor": "white"
           },
           "zaxis": {
            "backgroundcolor": "#E5ECF6",
            "gridcolor": "white",
            "gridwidth": 2,
            "linecolor": "white",
            "showbackground": true,
            "ticks": "",
            "zerolinecolor": "white"
           }
          },
          "shapedefaults": {
           "line": {
            "color": "#2a3f5f"
           }
          },
          "ternary": {
           "aaxis": {
            "gridcolor": "white",
            "linecolor": "white",
            "ticks": ""
           },
           "baxis": {
            "gridcolor": "white",
            "linecolor": "white",
            "ticks": ""
           },
           "bgcolor": "#E5ECF6",
           "caxis": {
            "gridcolor": "white",
            "linecolor": "white",
            "ticks": ""
           }
          },
          "title": {
           "x": 0.05
          },
          "xaxis": {
           "automargin": true,
           "gridcolor": "white",
           "linecolor": "white",
           "ticks": "",
           "title": {
            "standoff": 15
           },
           "zerolinecolor": "white",
           "zerolinewidth": 2
          },
          "yaxis": {
           "automargin": true,
           "gridcolor": "white",
           "linecolor": "white",
           "ticks": "",
           "title": {
            "standoff": 15
           },
           "zerolinecolor": "white",
           "zerolinewidth": 2
          }
         }
        },
        "xaxis": {
         "anchor": "y",
         "domain": [
          0,
          1
         ],
         "title": {
          "text": ""
         },
         "type": "date"
        },
        "yaxis": {
         "anchor": "x",
         "autorange": "reversed",
         "domain": [
          0,
          1
         ],
         "title": {
          "text": "블록명"
         }
        }
       }
      },
      "text/html": [
       "<div>                            <div id=\"668d279a-7d61-4cac-8684-c8479f4d0c35\" class=\"plotly-graph-div\" style=\"height:500px; width:100%;\"></div>            <script type=\"text/javascript\">                require([\"plotly\"], function(Plotly) {                    window.PLOTLYENV=window.PLOTLYENV || {};                                    if (document.getElementById(\"668d279a-7d61-4cac-8684-c8479f4d0c35\")) {                    Plotly.newPlot(                        \"668d279a-7d61-4cac-8684-c8479f4d0c35\",                        [{\"alignmentgroup\":\"True\",\"base\":[\"2024-01-01\",\"2024-01-01\",\"2024-01-01\",\"2024-01-11\",\"2024-01-14\",\"2024-01-12\",\"2024-01-19\",\"2024-01-19\",\"2024-01-23\",\"2024-01-01\",\"2024-01-23\"],\"customdata\":[[18,59],[10,87],[11,68],[17,60],[13,76],[11,43],[15,65],[4,0],[4,0],[11,91],[4,0]],\"hovertemplate\":\"정반명=A<br>착수일자=%{base}<br>종료일자=%{x}<br>블록명=%{y}<br>차트텍스트=%{text}<br>표준공기=%{customdata[0]}<br>중량=%{customdata[1]}<extra></extra>\",\"legendgroup\":\"A\",\"marker\":{\"color\":\"#636efa\",\"opacity\":0.7,\"pattern\":{\"shape\":\"\"},\"line\":{\"width\":2}},\"name\":\"A\",\"offsetgroup\":\"A\",\"orientation\":\"h\",\"showlegend\":true,\"text\":[\"S6/조립중량:18ton/사이즈:(14, 15)\",\"S7/조립중량:10ton/사이즈:(13, 31)\",\"S5/조립중량:11ton/사이즈:(7, 15)\",\"S9/조립중량:17ton/사이즈:(15, 15)\",\"S11/조립중량:13ton/사이즈:(14, 14)\",\"S10/조립중량:11ton/사이즈:(8, 16)\",\"S16/조립중량:15ton/사이즈:(12, 14)\",\"S12/조립중량:4ton/사이즈:(8, 15)\",\"S18/조립중량:4ton/사이즈:(13, 16)\",\"S17/조립중량:11ton/사이즈:(6, 15)\",\"S15/조립중량:4ton/사이즈:(13, 14)\"],\"textposition\":\"auto\",\"x\":[1555200000.0,864000000.0,950400000.0,1468800000.0,1123200000.0,950400000.0,1296000000.0,345600000.0,345600000.0,950400000.0,345600000.0],\"xaxis\":\"x\",\"y\":[\"S6\",\"S7\",\"S5\",\"S9\",\"S11\",\"S10\",\"S16\",\"S12\",\"S18\",\"S17\",\"S15\"],\"yaxis\":\"y\",\"type\":\"bar\",\"opacity\":1}],                        {\"template\":{\"data\":{\"histogram2dcontour\":[{\"type\":\"histogram2dcontour\",\"colorbar\":{\"outlinewidth\":0,\"ticks\":\"\"},\"colorscale\":[[0.0,\"#0d0887\"],[0.1111111111111111,\"#46039f\"],[0.2222222222222222,\"#7201a8\"],[0.3333333333333333,\"#9c179e\"],[0.4444444444444444,\"#bd3786\"],[0.5555555555555556,\"#d8576b\"],[0.6666666666666666,\"#ed7953\"],[0.7777777777777778,\"#fb9f3a\"],[0.8888888888888888,\"#fdca26\"],[1.0,\"#f0f921\"]]}],\"choropleth\":[{\"type\":\"choropleth\",\"colorbar\":{\"outlinewidth\":0,\"ticks\":\"\"}}],\"histogram2d\":[{\"type\":\"histogram2d\",\"colorbar\":{\"outlinewidth\":0,\"ticks\":\"\"},\"colorscale\":[[0.0,\"#0d0887\"],[0.1111111111111111,\"#46039f\"],[0.2222222222222222,\"#7201a8\"],[0.3333333333333333,\"#9c179e\"],[0.4444444444444444,\"#bd3786\"],[0.5555555555555556,\"#d8576b\"],[0.6666666666666666,\"#ed7953\"],[0.7777777777777778,\"#fb9f3a\"],[0.8888888888888888,\"#fdca26\"],[1.0,\"#f0f921\"]]}],\"heatmap\":[{\"type\":\"heatmap\",\"colorbar\":{\"outlinewidth\":0,\"ticks\":\"\"},\"colorscale\":[[0.0,\"#0d0887\"],[0.1111111111111111,\"#46039f\"],[0.2222222222222222,\"#7201a8\"],[0.3333333333333333,\"#9c179e\"],[0.4444444444444444,\"#bd3786\"],[0.5555555555555556,\"#d8576b\"],[0.6666666666666666,\"#ed7953\"],[0.7777777777777778,\"#fb9f3a\"],[0.8888888888888888,\"#fdca26\"],[1.0,\"#f0f921\"]]}],\"heatmapgl\":[{\"type\":\"heatmapgl\",\"colorbar\":{\"outlinewidth\":0,\"ticks\":\"\"},\"colorscale\":[[0.0,\"#0d0887\"],[0.1111111111111111,\"#46039f\"],[0.2222222222222222,\"#7201a8\"],[0.3333333333333333,\"#9c179e\"],[0.4444444444444444,\"#bd3786\"],[0.5555555555555556,\"#d8576b\"],[0.6666666666666666,\"#ed7953\"],[0.7777777777777778,\"#fb9f3a\"],[0.8888888888888888,\"#fdca26\"],[1.0,\"#f0f921\"]]}],\"contourcarpet\":[{\"type\":\"contourcarpet\",\"colorbar\":{\"outlinewidth\":0,\"ticks\":\"\"}}],\"contour\":[{\"type\":\"contour\",\"colorbar\":{\"outlinewidth\":0,\"ticks\":\"\"},\"colorscale\":[[0.0,\"#0d0887\"],[0.1111111111111111,\"#46039f\"],[0.2222222222222222,\"#7201a8\"],[0.3333333333333333,\"#9c179e\"],[0.4444444444444444,\"#bd3786\"],[0.5555555555555556,\"#d8576b\"],[0.6666666666666666,\"#ed7953\"],[0.7777777777777778,\"#fb9f3a\"],[0.8888888888888888,\"#fdca26\"],[1.0,\"#f0f921\"]]}],\"surface\":[{\"type\":\"surface\",\"colorbar\":{\"outlinewidth\":0,\"ticks\":\"\"},\"colorscale\":[[0.0,\"#0d0887\"],[0.1111111111111111,\"#46039f\"],[0.2222222222222222,\"#7201a8\"],[0.3333333333333333,\"#9c179e\"],[0.4444444444444444,\"#bd3786\"],[0.5555555555555556,\"#d8576b\"],[0.6666666666666666,\"#ed7953\"],[0.7777777777777778,\"#fb9f3a\"],[0.8888888888888888,\"#fdca26\"],[1.0,\"#f0f921\"]]}],\"mesh3d\":[{\"type\":\"mesh3d\",\"colorbar\":{\"outlinewidth\":0,\"ticks\":\"\"}}],\"scatter\":[{\"fillpattern\":{\"fillmode\":\"overlay\",\"size\":10,\"solidity\":0.2},\"type\":\"scatter\"}],\"parcoords\":[{\"type\":\"parcoords\",\"line\":{\"colorbar\":{\"outlinewidth\":0,\"ticks\":\"\"}}}],\"scatterpolargl\":[{\"type\":\"scatterpolargl\",\"marker\":{\"colorbar\":{\"outlinewidth\":0,\"ticks\":\"\"}}}],\"bar\":[{\"error_x\":{\"color\":\"#2a3f5f\"},\"error_y\":{\"color\":\"#2a3f5f\"},\"marker\":{\"line\":{\"color\":\"#E5ECF6\",\"width\":0.5},\"pattern\":{\"fillmode\":\"overlay\",\"size\":10,\"solidity\":0.2}},\"type\":\"bar\"}],\"scattergeo\":[{\"type\":\"scattergeo\",\"marker\":{\"colorbar\":{\"outlinewidth\":0,\"ticks\":\"\"}}}],\"scatterpolar\":[{\"type\":\"scatterpolar\",\"marker\":{\"colorbar\":{\"outlinewidth\":0,\"ticks\":\"\"}}}],\"histogram\":[{\"marker\":{\"pattern\":{\"fillmode\":\"overlay\",\"size\":10,\"solidity\":0.2}},\"type\":\"histogram\"}],\"scattergl\":[{\"type\":\"scattergl\",\"marker\":{\"colorbar\":{\"outlinewidth\":0,\"ticks\":\"\"}}}],\"scatter3d\":[{\"type\":\"scatter3d\",\"line\":{\"colorbar\":{\"outlinewidth\":0,\"ticks\":\"\"}},\"marker\":{\"colorbar\":{\"outlinewidth\":0,\"ticks\":\"\"}}}],\"scattermapbox\":[{\"type\":\"scattermapbox\",\"marker\":{\"colorbar\":{\"outlinewidth\":0,\"ticks\":\"\"}}}],\"scatterternary\":[{\"type\":\"scatterternary\",\"marker\":{\"colorbar\":{\"outlinewidth\":0,\"ticks\":\"\"}}}],\"scattercarpet\":[{\"type\":\"scattercarpet\",\"marker\":{\"colorbar\":{\"outlinewidth\":0,\"ticks\":\"\"}}}],\"carpet\":[{\"aaxis\":{\"endlinecolor\":\"#2a3f5f\",\"gridcolor\":\"white\",\"linecolor\":\"white\",\"minorgridcolor\":\"white\",\"startlinecolor\":\"#2a3f5f\"},\"baxis\":{\"endlinecolor\":\"#2a3f5f\",\"gridcolor\":\"white\",\"linecolor\":\"white\",\"minorgridcolor\":\"white\",\"startlinecolor\":\"#2a3f5f\"},\"type\":\"carpet\"}],\"table\":[{\"cells\":{\"fill\":{\"color\":\"#EBF0F8\"},\"line\":{\"color\":\"white\"}},\"header\":{\"fill\":{\"color\":\"#C8D4E3\"},\"line\":{\"color\":\"white\"}},\"type\":\"table\"}],\"barpolar\":[{\"marker\":{\"line\":{\"color\":\"#E5ECF6\",\"width\":0.5},\"pattern\":{\"fillmode\":\"overlay\",\"size\":10,\"solidity\":0.2}},\"type\":\"barpolar\"}],\"pie\":[{\"automargin\":true,\"type\":\"pie\"}]},\"layout\":{\"autotypenumbers\":\"strict\",\"colorway\":[\"#636efa\",\"#EF553B\",\"#00cc96\",\"#ab63fa\",\"#FFA15A\",\"#19d3f3\",\"#FF6692\",\"#B6E880\",\"#FF97FF\",\"#FECB52\"],\"font\":{\"color\":\"#2a3f5f\"},\"hovermode\":\"closest\",\"hoverlabel\":{\"align\":\"left\"},\"paper_bgcolor\":\"white\",\"plot_bgcolor\":\"#E5ECF6\",\"polar\":{\"bgcolor\":\"#E5ECF6\",\"angularaxis\":{\"gridcolor\":\"white\",\"linecolor\":\"white\",\"ticks\":\"\"},\"radialaxis\":{\"gridcolor\":\"white\",\"linecolor\":\"white\",\"ticks\":\"\"}},\"ternary\":{\"bgcolor\":\"#E5ECF6\",\"aaxis\":{\"gridcolor\":\"white\",\"linecolor\":\"white\",\"ticks\":\"\"},\"baxis\":{\"gridcolor\":\"white\",\"linecolor\":\"white\",\"ticks\":\"\"},\"caxis\":{\"gridcolor\":\"white\",\"linecolor\":\"white\",\"ticks\":\"\"}},\"coloraxis\":{\"colorbar\":{\"outlinewidth\":0,\"ticks\":\"\"}},\"colorscale\":{\"sequential\":[[0.0,\"#0d0887\"],[0.1111111111111111,\"#46039f\"],[0.2222222222222222,\"#7201a8\"],[0.3333333333333333,\"#9c179e\"],[0.4444444444444444,\"#bd3786\"],[0.5555555555555556,\"#d8576b\"],[0.6666666666666666,\"#ed7953\"],[0.7777777777777778,\"#fb9f3a\"],[0.8888888888888888,\"#fdca26\"],[1.0,\"#f0f921\"]],\"sequentialminus\":[[0.0,\"#0d0887\"],[0.1111111111111111,\"#46039f\"],[0.2222222222222222,\"#7201a8\"],[0.3333333333333333,\"#9c179e\"],[0.4444444444444444,\"#bd3786\"],[0.5555555555555556,\"#d8576b\"],[0.6666666666666666,\"#ed7953\"],[0.7777777777777778,\"#fb9f3a\"],[0.8888888888888888,\"#fdca26\"],[1.0,\"#f0f921\"]],\"diverging\":[[0,\"#8e0152\"],[0.1,\"#c51b7d\"],[0.2,\"#de77ae\"],[0.3,\"#f1b6da\"],[0.4,\"#fde0ef\"],[0.5,\"#f7f7f7\"],[0.6,\"#e6f5d0\"],[0.7,\"#b8e186\"],[0.8,\"#7fbc41\"],[0.9,\"#4d9221\"],[1,\"#276419\"]]},\"xaxis\":{\"gridcolor\":\"white\",\"linecolor\":\"white\",\"ticks\":\"\",\"title\":{\"standoff\":15},\"zerolinecolor\":\"white\",\"automargin\":true,\"zerolinewidth\":2},\"yaxis\":{\"gridcolor\":\"white\",\"linecolor\":\"white\",\"ticks\":\"\",\"title\":{\"standoff\":15},\"zerolinecolor\":\"white\",\"automargin\":true,\"zerolinewidth\":2},\"scene\":{\"xaxis\":{\"backgroundcolor\":\"#E5ECF6\",\"gridcolor\":\"white\",\"linecolor\":\"white\",\"showbackground\":true,\"ticks\":\"\",\"zerolinecolor\":\"white\",\"gridwidth\":2},\"yaxis\":{\"backgroundcolor\":\"#E5ECF6\",\"gridcolor\":\"white\",\"linecolor\":\"white\",\"showbackground\":true,\"ticks\":\"\",\"zerolinecolor\":\"white\",\"gridwidth\":2},\"zaxis\":{\"backgroundcolor\":\"#E5ECF6\",\"gridcolor\":\"white\",\"linecolor\":\"white\",\"showbackground\":true,\"ticks\":\"\",\"zerolinecolor\":\"white\",\"gridwidth\":2}},\"shapedefaults\":{\"line\":{\"color\":\"#2a3f5f\"}},\"annotationdefaults\":{\"arrowcolor\":\"#2a3f5f\",\"arrowhead\":0,\"arrowwidth\":1},\"geo\":{\"bgcolor\":\"white\",\"landcolor\":\"#E5ECF6\",\"subunitcolor\":\"white\",\"showland\":true,\"showlakes\":true,\"lakecolor\":\"white\"},\"title\":{\"x\":0.05},\"mapbox\":{\"style\":\"light\"}}},\"xaxis\":{\"anchor\":\"y\",\"domain\":[0.0,1.0],\"type\":\"date\",\"title\":{\"text\":\"\"}},\"yaxis\":{\"anchor\":\"x\",\"domain\":[0.0,1.0],\"title\":{\"text\":\"블록명\"},\"autorange\":\"reversed\"},\"legend\":{\"title\":{\"text\":\"정반명\"},\"tracegroupgap\":0},\"margin\":{\"t\":60},\"barmode\":\"overlay\",\"hoverlabel\":{\"bgcolor\":\"#DAEEED\"},\"font\":{\"family\":\"Courier New, monospace\",\"size\":12,\"color\":\"RebeccaPurple\"},\"bargap\":0.2,\"height\":500},                        {\"responsive\": true}                    ).then(function(){\n",
       "                            \n",
       "var gd = document.getElementById('668d279a-7d61-4cac-8684-c8479f4d0c35');\n",
       "var x = new MutationObserver(function (mutations, observer) {{\n",
       "        var display = window.getComputedStyle(gd).display;\n",
       "        if (!display || display === 'none') {{\n",
       "            console.log([gd, 'removed!']);\n",
       "            Plotly.purge(gd);\n",
       "            observer.disconnect();\n",
       "        }}\n",
       "}});\n",
       "\n",
       "// Listen for the removal of the full notebook cells\n",
       "var notebookContainer = gd.closest('#notebook-container');\n",
       "if (notebookContainer) {{\n",
       "    x.observe(notebookContainer, {childList: true});\n",
       "}}\n",
       "\n",
       "// Listen for the clearing of the current output cell\n",
       "var outputEl = gd.closest('.output');\n",
       "if (outputEl) {{\n",
       "    x.observe(outputEl, {childList: true});\n",
       "}}\n",
       "\n",
       "                        })                };                });            </script>        </div>"
      ]
     },
     "metadata": {},
     "output_type": "display_data"
    },
    {
     "data": {
      "application/vnd.plotly.v1+json": {
       "config": {
        "plotlyServerURL": "https://plot.ly"
       },
       "data": [
        {
         "alignmentgroup": "True",
         "base": [
          "2024-01-01",
          "2024-01-01",
          "2024-01-01",
          "2024-01-11",
          "2024-01-14",
          "2024-01-12",
          "2024-01-19",
          "2024-01-19",
          "2024-01-23",
          "2024-01-23",
          "2024-01-01"
         ],
         "customdata": [
          [
           18,
           59
          ],
          [
           10,
           87
          ],
          [
           11,
           68
          ],
          [
           17,
           60
          ],
          [
           13,
           76
          ],
          [
           11,
           43
          ],
          [
           4,
           0
          ],
          [
           15,
           65
          ],
          [
           4,
           0
          ],
          [
           4,
           0
          ],
          [
           11,
           91
          ]
         ],
         "hovertemplate": "정반명=A<br>착수일자=%{base}<br>종료일자=%{x}<br>블록명=%{y}<br>차트텍스트=%{text}<br>표준공기=%{customdata[0]}<br>중량=%{customdata[1]}<extra></extra>",
         "legendgroup": "A",
         "marker": {
          "color": "#636efa",
          "line": {
           "width": 2
          },
          "opacity": 0.7,
          "pattern": {
           "shape": ""
          }
         },
         "name": "A",
         "offsetgroup": "A",
         "opacity": 1,
         "orientation": "h",
         "showlegend": true,
         "text": [
          "S6/조립중량:18ton/사이즈:(14, 15)",
          "S7/조립중량:10ton/사이즈:(13, 31)",
          "S5/조립중량:11ton/사이즈:(7, 15)",
          "S9/조립중량:17ton/사이즈:(15, 15)",
          "S11/조립중량:13ton/사이즈:(14, 14)",
          "S10/조립중량:11ton/사이즈:(8, 16)",
          "S12/조립중량:4ton/사이즈:(8, 15)",
          "S16/조립중량:15ton/사이즈:(12, 14)",
          "S18/조립중량:4ton/사이즈:(13, 16)",
          "S15/조립중량:4ton/사이즈:(13, 14)",
          "S17/조립중량:11ton/사이즈:(6, 15)"
         ],
         "textposition": "auto",
         "type": "bar",
         "x": [
          1555200000,
          864000000,
          950400000,
          1468800000,
          1123200000,
          950400000,
          345600000,
          1296000000,
          345600000,
          345600000,
          950400000
         ],
         "xaxis": "x",
         "y": [
          "S6",
          "S7",
          "S5",
          "S9",
          "S11",
          "S10",
          "S12",
          "S16",
          "S18",
          "S15",
          "S17"
         ],
         "yaxis": "y"
        }
       ],
       "layout": {
        "bargap": 0.2,
        "barmode": "overlay",
        "font": {
         "color": "RebeccaPurple",
         "family": "Courier New, monospace",
         "size": 12
        },
        "height": 500,
        "hoverlabel": {
         "bgcolor": "#DAEEED"
        },
        "legend": {
         "title": {
          "text": "정반명"
         },
         "tracegroupgap": 0
        },
        "margin": {
         "t": 60
        },
        "template": {
         "data": {
          "bar": [
           {
            "error_x": {
             "color": "#2a3f5f"
            },
            "error_y": {
             "color": "#2a3f5f"
            },
            "marker": {
             "line": {
              "color": "#E5ECF6",
              "width": 0.5
             },
             "pattern": {
              "fillmode": "overlay",
              "size": 10,
              "solidity": 0.2
             }
            },
            "type": "bar"
           }
          ],
          "barpolar": [
           {
            "marker": {
             "line": {
              "color": "#E5ECF6",
              "width": 0.5
             },
             "pattern": {
              "fillmode": "overlay",
              "size": 10,
              "solidity": 0.2
             }
            },
            "type": "barpolar"
           }
          ],
          "carpet": [
           {
            "aaxis": {
             "endlinecolor": "#2a3f5f",
             "gridcolor": "white",
             "linecolor": "white",
             "minorgridcolor": "white",
             "startlinecolor": "#2a3f5f"
            },
            "baxis": {
             "endlinecolor": "#2a3f5f",
             "gridcolor": "white",
             "linecolor": "white",
             "minorgridcolor": "white",
             "startlinecolor": "#2a3f5f"
            },
            "type": "carpet"
           }
          ],
          "choropleth": [
           {
            "colorbar": {
             "outlinewidth": 0,
             "ticks": ""
            },
            "type": "choropleth"
           }
          ],
          "contour": [
           {
            "colorbar": {
             "outlinewidth": 0,
             "ticks": ""
            },
            "colorscale": [
             [
              0,
              "#0d0887"
             ],
             [
              0.1111111111111111,
              "#46039f"
             ],
             [
              0.2222222222222222,
              "#7201a8"
             ],
             [
              0.3333333333333333,
              "#9c179e"
             ],
             [
              0.4444444444444444,
              "#bd3786"
             ],
             [
              0.5555555555555556,
              "#d8576b"
             ],
             [
              0.6666666666666666,
              "#ed7953"
             ],
             [
              0.7777777777777778,
              "#fb9f3a"
             ],
             [
              0.8888888888888888,
              "#fdca26"
             ],
             [
              1,
              "#f0f921"
             ]
            ],
            "type": "contour"
           }
          ],
          "contourcarpet": [
           {
            "colorbar": {
             "outlinewidth": 0,
             "ticks": ""
            },
            "type": "contourcarpet"
           }
          ],
          "heatmap": [
           {
            "colorbar": {
             "outlinewidth": 0,
             "ticks": ""
            },
            "colorscale": [
             [
              0,
              "#0d0887"
             ],
             [
              0.1111111111111111,
              "#46039f"
             ],
             [
              0.2222222222222222,
              "#7201a8"
             ],
             [
              0.3333333333333333,
              "#9c179e"
             ],
             [
              0.4444444444444444,
              "#bd3786"
             ],
             [
              0.5555555555555556,
              "#d8576b"
             ],
             [
              0.6666666666666666,
              "#ed7953"
             ],
             [
              0.7777777777777778,
              "#fb9f3a"
             ],
             [
              0.8888888888888888,
              "#fdca26"
             ],
             [
              1,
              "#f0f921"
             ]
            ],
            "type": "heatmap"
           }
          ],
          "heatmapgl": [
           {
            "colorbar": {
             "outlinewidth": 0,
             "ticks": ""
            },
            "colorscale": [
             [
              0,
              "#0d0887"
             ],
             [
              0.1111111111111111,
              "#46039f"
             ],
             [
              0.2222222222222222,
              "#7201a8"
             ],
             [
              0.3333333333333333,
              "#9c179e"
             ],
             [
              0.4444444444444444,
              "#bd3786"
             ],
             [
              0.5555555555555556,
              "#d8576b"
             ],
             [
              0.6666666666666666,
              "#ed7953"
             ],
             [
              0.7777777777777778,
              "#fb9f3a"
             ],
             [
              0.8888888888888888,
              "#fdca26"
             ],
             [
              1,
              "#f0f921"
             ]
            ],
            "type": "heatmapgl"
           }
          ],
          "histogram": [
           {
            "marker": {
             "pattern": {
              "fillmode": "overlay",
              "size": 10,
              "solidity": 0.2
             }
            },
            "type": "histogram"
           }
          ],
          "histogram2d": [
           {
            "colorbar": {
             "outlinewidth": 0,
             "ticks": ""
            },
            "colorscale": [
             [
              0,
              "#0d0887"
             ],
             [
              0.1111111111111111,
              "#46039f"
             ],
             [
              0.2222222222222222,
              "#7201a8"
             ],
             [
              0.3333333333333333,
              "#9c179e"
             ],
             [
              0.4444444444444444,
              "#bd3786"
             ],
             [
              0.5555555555555556,
              "#d8576b"
             ],
             [
              0.6666666666666666,
              "#ed7953"
             ],
             [
              0.7777777777777778,
              "#fb9f3a"
             ],
             [
              0.8888888888888888,
              "#fdca26"
             ],
             [
              1,
              "#f0f921"
             ]
            ],
            "type": "histogram2d"
           }
          ],
          "histogram2dcontour": [
           {
            "colorbar": {
             "outlinewidth": 0,
             "ticks": ""
            },
            "colorscale": [
             [
              0,
              "#0d0887"
             ],
             [
              0.1111111111111111,
              "#46039f"
             ],
             [
              0.2222222222222222,
              "#7201a8"
             ],
             [
              0.3333333333333333,
              "#9c179e"
             ],
             [
              0.4444444444444444,
              "#bd3786"
             ],
             [
              0.5555555555555556,
              "#d8576b"
             ],
             [
              0.6666666666666666,
              "#ed7953"
             ],
             [
              0.7777777777777778,
              "#fb9f3a"
             ],
             [
              0.8888888888888888,
              "#fdca26"
             ],
             [
              1,
              "#f0f921"
             ]
            ],
            "type": "histogram2dcontour"
           }
          ],
          "mesh3d": [
           {
            "colorbar": {
             "outlinewidth": 0,
             "ticks": ""
            },
            "type": "mesh3d"
           }
          ],
          "parcoords": [
           {
            "line": {
             "colorbar": {
              "outlinewidth": 0,
              "ticks": ""
             }
            },
            "type": "parcoords"
           }
          ],
          "pie": [
           {
            "automargin": true,
            "type": "pie"
           }
          ],
          "scatter": [
           {
            "fillpattern": {
             "fillmode": "overlay",
             "size": 10,
             "solidity": 0.2
            },
            "type": "scatter"
           }
          ],
          "scatter3d": [
           {
            "line": {
             "colorbar": {
              "outlinewidth": 0,
              "ticks": ""
             }
            },
            "marker": {
             "colorbar": {
              "outlinewidth": 0,
              "ticks": ""
             }
            },
            "type": "scatter3d"
           }
          ],
          "scattercarpet": [
           {
            "marker": {
             "colorbar": {
              "outlinewidth": 0,
              "ticks": ""
             }
            },
            "type": "scattercarpet"
           }
          ],
          "scattergeo": [
           {
            "marker": {
             "colorbar": {
              "outlinewidth": 0,
              "ticks": ""
             }
            },
            "type": "scattergeo"
           }
          ],
          "scattergl": [
           {
            "marker": {
             "colorbar": {
              "outlinewidth": 0,
              "ticks": ""
             }
            },
            "type": "scattergl"
           }
          ],
          "scattermapbox": [
           {
            "marker": {
             "colorbar": {
              "outlinewidth": 0,
              "ticks": ""
             }
            },
            "type": "scattermapbox"
           }
          ],
          "scatterpolar": [
           {
            "marker": {
             "colorbar": {
              "outlinewidth": 0,
              "ticks": ""
             }
            },
            "type": "scatterpolar"
           }
          ],
          "scatterpolargl": [
           {
            "marker": {
             "colorbar": {
              "outlinewidth": 0,
              "ticks": ""
             }
            },
            "type": "scatterpolargl"
           }
          ],
          "scatterternary": [
           {
            "marker": {
             "colorbar": {
              "outlinewidth": 0,
              "ticks": ""
             }
            },
            "type": "scatterternary"
           }
          ],
          "surface": [
           {
            "colorbar": {
             "outlinewidth": 0,
             "ticks": ""
            },
            "colorscale": [
             [
              0,
              "#0d0887"
             ],
             [
              0.1111111111111111,
              "#46039f"
             ],
             [
              0.2222222222222222,
              "#7201a8"
             ],
             [
              0.3333333333333333,
              "#9c179e"
             ],
             [
              0.4444444444444444,
              "#bd3786"
             ],
             [
              0.5555555555555556,
              "#d8576b"
             ],
             [
              0.6666666666666666,
              "#ed7953"
             ],
             [
              0.7777777777777778,
              "#fb9f3a"
             ],
             [
              0.8888888888888888,
              "#fdca26"
             ],
             [
              1,
              "#f0f921"
             ]
            ],
            "type": "surface"
           }
          ],
          "table": [
           {
            "cells": {
             "fill": {
              "color": "#EBF0F8"
             },
             "line": {
              "color": "white"
             }
            },
            "header": {
             "fill": {
              "color": "#C8D4E3"
             },
             "line": {
              "color": "white"
             }
            },
            "type": "table"
           }
          ]
         },
         "layout": {
          "annotationdefaults": {
           "arrowcolor": "#2a3f5f",
           "arrowhead": 0,
           "arrowwidth": 1
          },
          "autotypenumbers": "strict",
          "coloraxis": {
           "colorbar": {
            "outlinewidth": 0,
            "ticks": ""
           }
          },
          "colorscale": {
           "diverging": [
            [
             0,
             "#8e0152"
            ],
            [
             0.1,
             "#c51b7d"
            ],
            [
             0.2,
             "#de77ae"
            ],
            [
             0.3,
             "#f1b6da"
            ],
            [
             0.4,
             "#fde0ef"
            ],
            [
             0.5,
             "#f7f7f7"
            ],
            [
             0.6,
             "#e6f5d0"
            ],
            [
             0.7,
             "#b8e186"
            ],
            [
             0.8,
             "#7fbc41"
            ],
            [
             0.9,
             "#4d9221"
            ],
            [
             1,
             "#276419"
            ]
           ],
           "sequential": [
            [
             0,
             "#0d0887"
            ],
            [
             0.1111111111111111,
             "#46039f"
            ],
            [
             0.2222222222222222,
             "#7201a8"
            ],
            [
             0.3333333333333333,
             "#9c179e"
            ],
            [
             0.4444444444444444,
             "#bd3786"
            ],
            [
             0.5555555555555556,
             "#d8576b"
            ],
            [
             0.6666666666666666,
             "#ed7953"
            ],
            [
             0.7777777777777778,
             "#fb9f3a"
            ],
            [
             0.8888888888888888,
             "#fdca26"
            ],
            [
             1,
             "#f0f921"
            ]
           ],
           "sequentialminus": [
            [
             0,
             "#0d0887"
            ],
            [
             0.1111111111111111,
             "#46039f"
            ],
            [
             0.2222222222222222,
             "#7201a8"
            ],
            [
             0.3333333333333333,
             "#9c179e"
            ],
            [
             0.4444444444444444,
             "#bd3786"
            ],
            [
             0.5555555555555556,
             "#d8576b"
            ],
            [
             0.6666666666666666,
             "#ed7953"
            ],
            [
             0.7777777777777778,
             "#fb9f3a"
            ],
            [
             0.8888888888888888,
             "#fdca26"
            ],
            [
             1,
             "#f0f921"
            ]
           ]
          },
          "colorway": [
           "#636efa",
           "#EF553B",
           "#00cc96",
           "#ab63fa",
           "#FFA15A",
           "#19d3f3",
           "#FF6692",
           "#B6E880",
           "#FF97FF",
           "#FECB52"
          ],
          "font": {
           "color": "#2a3f5f"
          },
          "geo": {
           "bgcolor": "white",
           "lakecolor": "white",
           "landcolor": "#E5ECF6",
           "showlakes": true,
           "showland": true,
           "subunitcolor": "white"
          },
          "hoverlabel": {
           "align": "left"
          },
          "hovermode": "closest",
          "mapbox": {
           "style": "light"
          },
          "paper_bgcolor": "white",
          "plot_bgcolor": "#E5ECF6",
          "polar": {
           "angularaxis": {
            "gridcolor": "white",
            "linecolor": "white",
            "ticks": ""
           },
           "bgcolor": "#E5ECF6",
           "radialaxis": {
            "gridcolor": "white",
            "linecolor": "white",
            "ticks": ""
           }
          },
          "scene": {
           "xaxis": {
            "backgroundcolor": "#E5ECF6",
            "gridcolor": "white",
            "gridwidth": 2,
            "linecolor": "white",
            "showbackground": true,
            "ticks": "",
            "zerolinecolor": "white"
           },
           "yaxis": {
            "backgroundcolor": "#E5ECF6",
            "gridcolor": "white",
            "gridwidth": 2,
            "linecolor": "white",
            "showbackground": true,
            "ticks": "",
            "zerolinecolor": "white"
           },
           "zaxis": {
            "backgroundcolor": "#E5ECF6",
            "gridcolor": "white",
            "gridwidth": 2,
            "linecolor": "white",
            "showbackground": true,
            "ticks": "",
            "zerolinecolor": "white"
           }
          },
          "shapedefaults": {
           "line": {
            "color": "#2a3f5f"
           }
          },
          "ternary": {
           "aaxis": {
            "gridcolor": "white",
            "linecolor": "white",
            "ticks": ""
           },
           "baxis": {
            "gridcolor": "white",
            "linecolor": "white",
            "ticks": ""
           },
           "bgcolor": "#E5ECF6",
           "caxis": {
            "gridcolor": "white",
            "linecolor": "white",
            "ticks": ""
           }
          },
          "title": {
           "x": 0.05
          },
          "xaxis": {
           "automargin": true,
           "gridcolor": "white",
           "linecolor": "white",
           "ticks": "",
           "title": {
            "standoff": 15
           },
           "zerolinecolor": "white",
           "zerolinewidth": 2
          },
          "yaxis": {
           "automargin": true,
           "gridcolor": "white",
           "linecolor": "white",
           "ticks": "",
           "title": {
            "standoff": 15
           },
           "zerolinecolor": "white",
           "zerolinewidth": 2
          }
         }
        },
        "xaxis": {
         "anchor": "y",
         "domain": [
          0,
          1
         ],
         "title": {
          "text": ""
         },
         "type": "date"
        },
        "yaxis": {
         "anchor": "x",
         "autorange": "reversed",
         "domain": [
          0,
          1
         ],
         "title": {
          "text": "블록명"
         }
        }
       }
      },
      "text/html": [
       "<div>                            <div id=\"65d22d99-5fb5-423b-8bc4-199a02b55d13\" class=\"plotly-graph-div\" style=\"height:500px; width:100%;\"></div>            <script type=\"text/javascript\">                require([\"plotly\"], function(Plotly) {                    window.PLOTLYENV=window.PLOTLYENV || {};                                    if (document.getElementById(\"65d22d99-5fb5-423b-8bc4-199a02b55d13\")) {                    Plotly.newPlot(                        \"65d22d99-5fb5-423b-8bc4-199a02b55d13\",                        [{\"alignmentgroup\":\"True\",\"base\":[\"2024-01-01\",\"2024-01-01\",\"2024-01-01\",\"2024-01-11\",\"2024-01-14\",\"2024-01-12\",\"2024-01-19\",\"2024-01-19\",\"2024-01-23\",\"2024-01-23\",\"2024-01-01\"],\"customdata\":[[18,59],[10,87],[11,68],[17,60],[13,76],[11,43],[4,0],[15,65],[4,0],[4,0],[11,91]],\"hovertemplate\":\"정반명=A<br>착수일자=%{base}<br>종료일자=%{x}<br>블록명=%{y}<br>차트텍스트=%{text}<br>표준공기=%{customdata[0]}<br>중량=%{customdata[1]}<extra></extra>\",\"legendgroup\":\"A\",\"marker\":{\"color\":\"#636efa\",\"opacity\":0.7,\"pattern\":{\"shape\":\"\"},\"line\":{\"width\":2}},\"name\":\"A\",\"offsetgroup\":\"A\",\"orientation\":\"h\",\"showlegend\":true,\"text\":[\"S6/조립중량:18ton/사이즈:(14, 15)\",\"S7/조립중량:10ton/사이즈:(13, 31)\",\"S5/조립중량:11ton/사이즈:(7, 15)\",\"S9/조립중량:17ton/사이즈:(15, 15)\",\"S11/조립중량:13ton/사이즈:(14, 14)\",\"S10/조립중량:11ton/사이즈:(8, 16)\",\"S12/조립중량:4ton/사이즈:(8, 15)\",\"S16/조립중량:15ton/사이즈:(12, 14)\",\"S18/조립중량:4ton/사이즈:(13, 16)\",\"S15/조립중량:4ton/사이즈:(13, 14)\",\"S17/조립중량:11ton/사이즈:(6, 15)\"],\"textposition\":\"auto\",\"x\":[1555200000.0,864000000.0,950400000.0,1468800000.0,1123200000.0,950400000.0,345600000.0,1296000000.0,345600000.0,345600000.0,950400000.0],\"xaxis\":\"x\",\"y\":[\"S6\",\"S7\",\"S5\",\"S9\",\"S11\",\"S10\",\"S12\",\"S16\",\"S18\",\"S15\",\"S17\"],\"yaxis\":\"y\",\"type\":\"bar\",\"opacity\":1}],                        {\"template\":{\"data\":{\"histogram2dcontour\":[{\"type\":\"histogram2dcontour\",\"colorbar\":{\"outlinewidth\":0,\"ticks\":\"\"},\"colorscale\":[[0.0,\"#0d0887\"],[0.1111111111111111,\"#46039f\"],[0.2222222222222222,\"#7201a8\"],[0.3333333333333333,\"#9c179e\"],[0.4444444444444444,\"#bd3786\"],[0.5555555555555556,\"#d8576b\"],[0.6666666666666666,\"#ed7953\"],[0.7777777777777778,\"#fb9f3a\"],[0.8888888888888888,\"#fdca26\"],[1.0,\"#f0f921\"]]}],\"choropleth\":[{\"type\":\"choropleth\",\"colorbar\":{\"outlinewidth\":0,\"ticks\":\"\"}}],\"histogram2d\":[{\"type\":\"histogram2d\",\"colorbar\":{\"outlinewidth\":0,\"ticks\":\"\"},\"colorscale\":[[0.0,\"#0d0887\"],[0.1111111111111111,\"#46039f\"],[0.2222222222222222,\"#7201a8\"],[0.3333333333333333,\"#9c179e\"],[0.4444444444444444,\"#bd3786\"],[0.5555555555555556,\"#d8576b\"],[0.6666666666666666,\"#ed7953\"],[0.7777777777777778,\"#fb9f3a\"],[0.8888888888888888,\"#fdca26\"],[1.0,\"#f0f921\"]]}],\"heatmap\":[{\"type\":\"heatmap\",\"colorbar\":{\"outlinewidth\":0,\"ticks\":\"\"},\"colorscale\":[[0.0,\"#0d0887\"],[0.1111111111111111,\"#46039f\"],[0.2222222222222222,\"#7201a8\"],[0.3333333333333333,\"#9c179e\"],[0.4444444444444444,\"#bd3786\"],[0.5555555555555556,\"#d8576b\"],[0.6666666666666666,\"#ed7953\"],[0.7777777777777778,\"#fb9f3a\"],[0.8888888888888888,\"#fdca26\"],[1.0,\"#f0f921\"]]}],\"heatmapgl\":[{\"type\":\"heatmapgl\",\"colorbar\":{\"outlinewidth\":0,\"ticks\":\"\"},\"colorscale\":[[0.0,\"#0d0887\"],[0.1111111111111111,\"#46039f\"],[0.2222222222222222,\"#7201a8\"],[0.3333333333333333,\"#9c179e\"],[0.4444444444444444,\"#bd3786\"],[0.5555555555555556,\"#d8576b\"],[0.6666666666666666,\"#ed7953\"],[0.7777777777777778,\"#fb9f3a\"],[0.8888888888888888,\"#fdca26\"],[1.0,\"#f0f921\"]]}],\"contourcarpet\":[{\"type\":\"contourcarpet\",\"colorbar\":{\"outlinewidth\":0,\"ticks\":\"\"}}],\"contour\":[{\"type\":\"contour\",\"colorbar\":{\"outlinewidth\":0,\"ticks\":\"\"},\"colorscale\":[[0.0,\"#0d0887\"],[0.1111111111111111,\"#46039f\"],[0.2222222222222222,\"#7201a8\"],[0.3333333333333333,\"#9c179e\"],[0.4444444444444444,\"#bd3786\"],[0.5555555555555556,\"#d8576b\"],[0.6666666666666666,\"#ed7953\"],[0.7777777777777778,\"#fb9f3a\"],[0.8888888888888888,\"#fdca26\"],[1.0,\"#f0f921\"]]}],\"surface\":[{\"type\":\"surface\",\"colorbar\":{\"outlinewidth\":0,\"ticks\":\"\"},\"colorscale\":[[0.0,\"#0d0887\"],[0.1111111111111111,\"#46039f\"],[0.2222222222222222,\"#7201a8\"],[0.3333333333333333,\"#9c179e\"],[0.4444444444444444,\"#bd3786\"],[0.5555555555555556,\"#d8576b\"],[0.6666666666666666,\"#ed7953\"],[0.7777777777777778,\"#fb9f3a\"],[0.8888888888888888,\"#fdca26\"],[1.0,\"#f0f921\"]]}],\"mesh3d\":[{\"type\":\"mesh3d\",\"colorbar\":{\"outlinewidth\":0,\"ticks\":\"\"}}],\"scatter\":[{\"fillpattern\":{\"fillmode\":\"overlay\",\"size\":10,\"solidity\":0.2},\"type\":\"scatter\"}],\"parcoords\":[{\"type\":\"parcoords\",\"line\":{\"colorbar\":{\"outlinewidth\":0,\"ticks\":\"\"}}}],\"scatterpolargl\":[{\"type\":\"scatterpolargl\",\"marker\":{\"colorbar\":{\"outlinewidth\":0,\"ticks\":\"\"}}}],\"bar\":[{\"error_x\":{\"color\":\"#2a3f5f\"},\"error_y\":{\"color\":\"#2a3f5f\"},\"marker\":{\"line\":{\"color\":\"#E5ECF6\",\"width\":0.5},\"pattern\":{\"fillmode\":\"overlay\",\"size\":10,\"solidity\":0.2}},\"type\":\"bar\"}],\"scattergeo\":[{\"type\":\"scattergeo\",\"marker\":{\"colorbar\":{\"outlinewidth\":0,\"ticks\":\"\"}}}],\"scatterpolar\":[{\"type\":\"scatterpolar\",\"marker\":{\"colorbar\":{\"outlinewidth\":0,\"ticks\":\"\"}}}],\"histogram\":[{\"marker\":{\"pattern\":{\"fillmode\":\"overlay\",\"size\":10,\"solidity\":0.2}},\"type\":\"histogram\"}],\"scattergl\":[{\"type\":\"scattergl\",\"marker\":{\"colorbar\":{\"outlinewidth\":0,\"ticks\":\"\"}}}],\"scatter3d\":[{\"type\":\"scatter3d\",\"line\":{\"colorbar\":{\"outlinewidth\":0,\"ticks\":\"\"}},\"marker\":{\"colorbar\":{\"outlinewidth\":0,\"ticks\":\"\"}}}],\"scattermapbox\":[{\"type\":\"scattermapbox\",\"marker\":{\"colorbar\":{\"outlinewidth\":0,\"ticks\":\"\"}}}],\"scatterternary\":[{\"type\":\"scatterternary\",\"marker\":{\"colorbar\":{\"outlinewidth\":0,\"ticks\":\"\"}}}],\"scattercarpet\":[{\"type\":\"scattercarpet\",\"marker\":{\"colorbar\":{\"outlinewidth\":0,\"ticks\":\"\"}}}],\"carpet\":[{\"aaxis\":{\"endlinecolor\":\"#2a3f5f\",\"gridcolor\":\"white\",\"linecolor\":\"white\",\"minorgridcolor\":\"white\",\"startlinecolor\":\"#2a3f5f\"},\"baxis\":{\"endlinecolor\":\"#2a3f5f\",\"gridcolor\":\"white\",\"linecolor\":\"white\",\"minorgridcolor\":\"white\",\"startlinecolor\":\"#2a3f5f\"},\"type\":\"carpet\"}],\"table\":[{\"cells\":{\"fill\":{\"color\":\"#EBF0F8\"},\"line\":{\"color\":\"white\"}},\"header\":{\"fill\":{\"color\":\"#C8D4E3\"},\"line\":{\"color\":\"white\"}},\"type\":\"table\"}],\"barpolar\":[{\"marker\":{\"line\":{\"color\":\"#E5ECF6\",\"width\":0.5},\"pattern\":{\"fillmode\":\"overlay\",\"size\":10,\"solidity\":0.2}},\"type\":\"barpolar\"}],\"pie\":[{\"automargin\":true,\"type\":\"pie\"}]},\"layout\":{\"autotypenumbers\":\"strict\",\"colorway\":[\"#636efa\",\"#EF553B\",\"#00cc96\",\"#ab63fa\",\"#FFA15A\",\"#19d3f3\",\"#FF6692\",\"#B6E880\",\"#FF97FF\",\"#FECB52\"],\"font\":{\"color\":\"#2a3f5f\"},\"hovermode\":\"closest\",\"hoverlabel\":{\"align\":\"left\"},\"paper_bgcolor\":\"white\",\"plot_bgcolor\":\"#E5ECF6\",\"polar\":{\"bgcolor\":\"#E5ECF6\",\"angularaxis\":{\"gridcolor\":\"white\",\"linecolor\":\"white\",\"ticks\":\"\"},\"radialaxis\":{\"gridcolor\":\"white\",\"linecolor\":\"white\",\"ticks\":\"\"}},\"ternary\":{\"bgcolor\":\"#E5ECF6\",\"aaxis\":{\"gridcolor\":\"white\",\"linecolor\":\"white\",\"ticks\":\"\"},\"baxis\":{\"gridcolor\":\"white\",\"linecolor\":\"white\",\"ticks\":\"\"},\"caxis\":{\"gridcolor\":\"white\",\"linecolor\":\"white\",\"ticks\":\"\"}},\"coloraxis\":{\"colorbar\":{\"outlinewidth\":0,\"ticks\":\"\"}},\"colorscale\":{\"sequential\":[[0.0,\"#0d0887\"],[0.1111111111111111,\"#46039f\"],[0.2222222222222222,\"#7201a8\"],[0.3333333333333333,\"#9c179e\"],[0.4444444444444444,\"#bd3786\"],[0.5555555555555556,\"#d8576b\"],[0.6666666666666666,\"#ed7953\"],[0.7777777777777778,\"#fb9f3a\"],[0.8888888888888888,\"#fdca26\"],[1.0,\"#f0f921\"]],\"sequentialminus\":[[0.0,\"#0d0887\"],[0.1111111111111111,\"#46039f\"],[0.2222222222222222,\"#7201a8\"],[0.3333333333333333,\"#9c179e\"],[0.4444444444444444,\"#bd3786\"],[0.5555555555555556,\"#d8576b\"],[0.6666666666666666,\"#ed7953\"],[0.7777777777777778,\"#fb9f3a\"],[0.8888888888888888,\"#fdca26\"],[1.0,\"#f0f921\"]],\"diverging\":[[0,\"#8e0152\"],[0.1,\"#c51b7d\"],[0.2,\"#de77ae\"],[0.3,\"#f1b6da\"],[0.4,\"#fde0ef\"],[0.5,\"#f7f7f7\"],[0.6,\"#e6f5d0\"],[0.7,\"#b8e186\"],[0.8,\"#7fbc41\"],[0.9,\"#4d9221\"],[1,\"#276419\"]]},\"xaxis\":{\"gridcolor\":\"white\",\"linecolor\":\"white\",\"ticks\":\"\",\"title\":{\"standoff\":15},\"zerolinecolor\":\"white\",\"automargin\":true,\"zerolinewidth\":2},\"yaxis\":{\"gridcolor\":\"white\",\"linecolor\":\"white\",\"ticks\":\"\",\"title\":{\"standoff\":15},\"zerolinecolor\":\"white\",\"automargin\":true,\"zerolinewidth\":2},\"scene\":{\"xaxis\":{\"backgroundcolor\":\"#E5ECF6\",\"gridcolor\":\"white\",\"linecolor\":\"white\",\"showbackground\":true,\"ticks\":\"\",\"zerolinecolor\":\"white\",\"gridwidth\":2},\"yaxis\":{\"backgroundcolor\":\"#E5ECF6\",\"gridcolor\":\"white\",\"linecolor\":\"white\",\"showbackground\":true,\"ticks\":\"\",\"zerolinecolor\":\"white\",\"gridwidth\":2},\"zaxis\":{\"backgroundcolor\":\"#E5ECF6\",\"gridcolor\":\"white\",\"linecolor\":\"white\",\"showbackground\":true,\"ticks\":\"\",\"zerolinecolor\":\"white\",\"gridwidth\":2}},\"shapedefaults\":{\"line\":{\"color\":\"#2a3f5f\"}},\"annotationdefaults\":{\"arrowcolor\":\"#2a3f5f\",\"arrowhead\":0,\"arrowwidth\":1},\"geo\":{\"bgcolor\":\"white\",\"landcolor\":\"#E5ECF6\",\"subunitcolor\":\"white\",\"showland\":true,\"showlakes\":true,\"lakecolor\":\"white\"},\"title\":{\"x\":0.05},\"mapbox\":{\"style\":\"light\"}}},\"xaxis\":{\"anchor\":\"y\",\"domain\":[0.0,1.0],\"type\":\"date\",\"title\":{\"text\":\"\"}},\"yaxis\":{\"anchor\":\"x\",\"domain\":[0.0,1.0],\"title\":{\"text\":\"블록명\"},\"autorange\":\"reversed\"},\"legend\":{\"title\":{\"text\":\"정반명\"},\"tracegroupgap\":0},\"margin\":{\"t\":60},\"barmode\":\"overlay\",\"hoverlabel\":{\"bgcolor\":\"#DAEEED\"},\"font\":{\"family\":\"Courier New, monospace\",\"size\":12,\"color\":\"RebeccaPurple\"},\"bargap\":0.2,\"height\":500},                        {\"responsive\": true}                    ).then(function(){\n",
       "                            \n",
       "var gd = document.getElementById('65d22d99-5fb5-423b-8bc4-199a02b55d13');\n",
       "var x = new MutationObserver(function (mutations, observer) {{\n",
       "        var display = window.getComputedStyle(gd).display;\n",
       "        if (!display || display === 'none') {{\n",
       "            console.log([gd, 'removed!']);\n",
       "            Plotly.purge(gd);\n",
       "            observer.disconnect();\n",
       "        }}\n",
       "}});\n",
       "\n",
       "// Listen for the removal of the full notebook cells\n",
       "var notebookContainer = gd.closest('#notebook-container');\n",
       "if (notebookContainer) {{\n",
       "    x.observe(notebookContainer, {childList: true});\n",
       "}}\n",
       "\n",
       "// Listen for the clearing of the current output cell\n",
       "var outputEl = gd.closest('.output');\n",
       "if (outputEl) {{\n",
       "    x.observe(outputEl, {childList: true});\n",
       "}}\n",
       "\n",
       "                        })                };                });            </script>        </div>"
      ]
     },
     "metadata": {},
     "output_type": "display_data"
    },
    {
     "data": {
      "application/vnd.plotly.v1+json": {
       "config": {
        "plotlyServerURL": "https://plot.ly"
       },
       "data": [
        {
         "alignmentgroup": "True",
         "base": [
          "2024-01-01",
          "2024-01-01",
          "2024-01-01",
          "2024-01-11",
          "2024-01-11",
          "2024-01-10",
          "2024-01-19",
          "2024-01-19",
          "2024-01-21",
          "2024-01-23",
          "2024-01-25"
         ],
         "customdata": [
          [
           18,
           59
          ],
          [
           10,
           87
          ],
          [
           9,
           93
          ],
          [
           17,
           60
          ],
          [
           13,
           76
          ],
          [
           11,
           43
          ],
          [
           4,
           0
          ],
          [
           15,
           65
          ],
          [
           4,
           0
          ],
          [
           4,
           0
          ],
          [
           11,
           91
          ]
         ],
         "hovertemplate": "정반명=A<br>착수일자=%{base}<br>종료일자=%{x}<br>블록명=%{y}<br>차트텍스트=%{text}<br>표준공기=%{customdata[0]}<br>중량=%{customdata[1]}<extra></extra>",
         "legendgroup": "A",
         "marker": {
          "color": "#636efa",
          "line": {
           "width": 2
          },
          "opacity": 0.7,
          "pattern": {
           "shape": ""
          }
         },
         "name": "A",
         "offsetgroup": "A",
         "opacity": 1,
         "orientation": "h",
         "showlegend": true,
         "text": [
          "S6/조립중량:18ton/사이즈:(14, 15)",
          "S7/조립중량:10ton/사이즈:(13, 31)",
          "S13/조립중량:9ton/사이즈:(14, 26)",
          "S9/조립중량:17ton/사이즈:(15, 15)",
          "S11/조립중량:13ton/사이즈:(14, 14)",
          "S10/조립중량:11ton/사이즈:(8, 16)",
          "S12/조립중량:4ton/사이즈:(8, 15)",
          "S16/조립중량:15ton/사이즈:(12, 14)",
          "S18/조립중량:4ton/사이즈:(13, 16)",
          "S15/조립중량:4ton/사이즈:(13, 14)",
          "S17/조립중량:11ton/사이즈:(6, 15)"
         ],
         "textposition": "auto",
         "type": "bar",
         "x": [
          1555200000,
          864000000,
          777600000,
          1468800000,
          1123200000,
          950400000,
          345600000,
          1296000000,
          345600000,
          345600000,
          950400000
         ],
         "xaxis": "x",
         "y": [
          "S6",
          "S7",
          "S13",
          "S9",
          "S11",
          "S10",
          "S12",
          "S16",
          "S18",
          "S15",
          "S17"
         ],
         "yaxis": "y"
        }
       ],
       "layout": {
        "bargap": 0.2,
        "barmode": "overlay",
        "font": {
         "color": "RebeccaPurple",
         "family": "Courier New, monospace",
         "size": 12
        },
        "height": 500,
        "hoverlabel": {
         "bgcolor": "#DAEEED"
        },
        "legend": {
         "title": {
          "text": "정반명"
         },
         "tracegroupgap": 0
        },
        "margin": {
         "t": 60
        },
        "template": {
         "data": {
          "bar": [
           {
            "error_x": {
             "color": "#2a3f5f"
            },
            "error_y": {
             "color": "#2a3f5f"
            },
            "marker": {
             "line": {
              "color": "#E5ECF6",
              "width": 0.5
             },
             "pattern": {
              "fillmode": "overlay",
              "size": 10,
              "solidity": 0.2
             }
            },
            "type": "bar"
           }
          ],
          "barpolar": [
           {
            "marker": {
             "line": {
              "color": "#E5ECF6",
              "width": 0.5
             },
             "pattern": {
              "fillmode": "overlay",
              "size": 10,
              "solidity": 0.2
             }
            },
            "type": "barpolar"
           }
          ],
          "carpet": [
           {
            "aaxis": {
             "endlinecolor": "#2a3f5f",
             "gridcolor": "white",
             "linecolor": "white",
             "minorgridcolor": "white",
             "startlinecolor": "#2a3f5f"
            },
            "baxis": {
             "endlinecolor": "#2a3f5f",
             "gridcolor": "white",
             "linecolor": "white",
             "minorgridcolor": "white",
             "startlinecolor": "#2a3f5f"
            },
            "type": "carpet"
           }
          ],
          "choropleth": [
           {
            "colorbar": {
             "outlinewidth": 0,
             "ticks": ""
            },
            "type": "choropleth"
           }
          ],
          "contour": [
           {
            "colorbar": {
             "outlinewidth": 0,
             "ticks": ""
            },
            "colorscale": [
             [
              0,
              "#0d0887"
             ],
             [
              0.1111111111111111,
              "#46039f"
             ],
             [
              0.2222222222222222,
              "#7201a8"
             ],
             [
              0.3333333333333333,
              "#9c179e"
             ],
             [
              0.4444444444444444,
              "#bd3786"
             ],
             [
              0.5555555555555556,
              "#d8576b"
             ],
             [
              0.6666666666666666,
              "#ed7953"
             ],
             [
              0.7777777777777778,
              "#fb9f3a"
             ],
             [
              0.8888888888888888,
              "#fdca26"
             ],
             [
              1,
              "#f0f921"
             ]
            ],
            "type": "contour"
           }
          ],
          "contourcarpet": [
           {
            "colorbar": {
             "outlinewidth": 0,
             "ticks": ""
            },
            "type": "contourcarpet"
           }
          ],
          "heatmap": [
           {
            "colorbar": {
             "outlinewidth": 0,
             "ticks": ""
            },
            "colorscale": [
             [
              0,
              "#0d0887"
             ],
             [
              0.1111111111111111,
              "#46039f"
             ],
             [
              0.2222222222222222,
              "#7201a8"
             ],
             [
              0.3333333333333333,
              "#9c179e"
             ],
             [
              0.4444444444444444,
              "#bd3786"
             ],
             [
              0.5555555555555556,
              "#d8576b"
             ],
             [
              0.6666666666666666,
              "#ed7953"
             ],
             [
              0.7777777777777778,
              "#fb9f3a"
             ],
             [
              0.8888888888888888,
              "#fdca26"
             ],
             [
              1,
              "#f0f921"
             ]
            ],
            "type": "heatmap"
           }
          ],
          "heatmapgl": [
           {
            "colorbar": {
             "outlinewidth": 0,
             "ticks": ""
            },
            "colorscale": [
             [
              0,
              "#0d0887"
             ],
             [
              0.1111111111111111,
              "#46039f"
             ],
             [
              0.2222222222222222,
              "#7201a8"
             ],
             [
              0.3333333333333333,
              "#9c179e"
             ],
             [
              0.4444444444444444,
              "#bd3786"
             ],
             [
              0.5555555555555556,
              "#d8576b"
             ],
             [
              0.6666666666666666,
              "#ed7953"
             ],
             [
              0.7777777777777778,
              "#fb9f3a"
             ],
             [
              0.8888888888888888,
              "#fdca26"
             ],
             [
              1,
              "#f0f921"
             ]
            ],
            "type": "heatmapgl"
           }
          ],
          "histogram": [
           {
            "marker": {
             "pattern": {
              "fillmode": "overlay",
              "size": 10,
              "solidity": 0.2
             }
            },
            "type": "histogram"
           }
          ],
          "histogram2d": [
           {
            "colorbar": {
             "outlinewidth": 0,
             "ticks": ""
            },
            "colorscale": [
             [
              0,
              "#0d0887"
             ],
             [
              0.1111111111111111,
              "#46039f"
             ],
             [
              0.2222222222222222,
              "#7201a8"
             ],
             [
              0.3333333333333333,
              "#9c179e"
             ],
             [
              0.4444444444444444,
              "#bd3786"
             ],
             [
              0.5555555555555556,
              "#d8576b"
             ],
             [
              0.6666666666666666,
              "#ed7953"
             ],
             [
              0.7777777777777778,
              "#fb9f3a"
             ],
             [
              0.8888888888888888,
              "#fdca26"
             ],
             [
              1,
              "#f0f921"
             ]
            ],
            "type": "histogram2d"
           }
          ],
          "histogram2dcontour": [
           {
            "colorbar": {
             "outlinewidth": 0,
             "ticks": ""
            },
            "colorscale": [
             [
              0,
              "#0d0887"
             ],
             [
              0.1111111111111111,
              "#46039f"
             ],
             [
              0.2222222222222222,
              "#7201a8"
             ],
             [
              0.3333333333333333,
              "#9c179e"
             ],
             [
              0.4444444444444444,
              "#bd3786"
             ],
             [
              0.5555555555555556,
              "#d8576b"
             ],
             [
              0.6666666666666666,
              "#ed7953"
             ],
             [
              0.7777777777777778,
              "#fb9f3a"
             ],
             [
              0.8888888888888888,
              "#fdca26"
             ],
             [
              1,
              "#f0f921"
             ]
            ],
            "type": "histogram2dcontour"
           }
          ],
          "mesh3d": [
           {
            "colorbar": {
             "outlinewidth": 0,
             "ticks": ""
            },
            "type": "mesh3d"
           }
          ],
          "parcoords": [
           {
            "line": {
             "colorbar": {
              "outlinewidth": 0,
              "ticks": ""
             }
            },
            "type": "parcoords"
           }
          ],
          "pie": [
           {
            "automargin": true,
            "type": "pie"
           }
          ],
          "scatter": [
           {
            "fillpattern": {
             "fillmode": "overlay",
             "size": 10,
             "solidity": 0.2
            },
            "type": "scatter"
           }
          ],
          "scatter3d": [
           {
            "line": {
             "colorbar": {
              "outlinewidth": 0,
              "ticks": ""
             }
            },
            "marker": {
             "colorbar": {
              "outlinewidth": 0,
              "ticks": ""
             }
            },
            "type": "scatter3d"
           }
          ],
          "scattercarpet": [
           {
            "marker": {
             "colorbar": {
              "outlinewidth": 0,
              "ticks": ""
             }
            },
            "type": "scattercarpet"
           }
          ],
          "scattergeo": [
           {
            "marker": {
             "colorbar": {
              "outlinewidth": 0,
              "ticks": ""
             }
            },
            "type": "scattergeo"
           }
          ],
          "scattergl": [
           {
            "marker": {
             "colorbar": {
              "outlinewidth": 0,
              "ticks": ""
             }
            },
            "type": "scattergl"
           }
          ],
          "scattermapbox": [
           {
            "marker": {
             "colorbar": {
              "outlinewidth": 0,
              "ticks": ""
             }
            },
            "type": "scattermapbox"
           }
          ],
          "scatterpolar": [
           {
            "marker": {
             "colorbar": {
              "outlinewidth": 0,
              "ticks": ""
             }
            },
            "type": "scatterpolar"
           }
          ],
          "scatterpolargl": [
           {
            "marker": {
             "colorbar": {
              "outlinewidth": 0,
              "ticks": ""
             }
            },
            "type": "scatterpolargl"
           }
          ],
          "scatterternary": [
           {
            "marker": {
             "colorbar": {
              "outlinewidth": 0,
              "ticks": ""
             }
            },
            "type": "scatterternary"
           }
          ],
          "surface": [
           {
            "colorbar": {
             "outlinewidth": 0,
             "ticks": ""
            },
            "colorscale": [
             [
              0,
              "#0d0887"
             ],
             [
              0.1111111111111111,
              "#46039f"
             ],
             [
              0.2222222222222222,
              "#7201a8"
             ],
             [
              0.3333333333333333,
              "#9c179e"
             ],
             [
              0.4444444444444444,
              "#bd3786"
             ],
             [
              0.5555555555555556,
              "#d8576b"
             ],
             [
              0.6666666666666666,
              "#ed7953"
             ],
             [
              0.7777777777777778,
              "#fb9f3a"
             ],
             [
              0.8888888888888888,
              "#fdca26"
             ],
             [
              1,
              "#f0f921"
             ]
            ],
            "type": "surface"
           }
          ],
          "table": [
           {
            "cells": {
             "fill": {
              "color": "#EBF0F8"
             },
             "line": {
              "color": "white"
             }
            },
            "header": {
             "fill": {
              "color": "#C8D4E3"
             },
             "line": {
              "color": "white"
             }
            },
            "type": "table"
           }
          ]
         },
         "layout": {
          "annotationdefaults": {
           "arrowcolor": "#2a3f5f",
           "arrowhead": 0,
           "arrowwidth": 1
          },
          "autotypenumbers": "strict",
          "coloraxis": {
           "colorbar": {
            "outlinewidth": 0,
            "ticks": ""
           }
          },
          "colorscale": {
           "diverging": [
            [
             0,
             "#8e0152"
            ],
            [
             0.1,
             "#c51b7d"
            ],
            [
             0.2,
             "#de77ae"
            ],
            [
             0.3,
             "#f1b6da"
            ],
            [
             0.4,
             "#fde0ef"
            ],
            [
             0.5,
             "#f7f7f7"
            ],
            [
             0.6,
             "#e6f5d0"
            ],
            [
             0.7,
             "#b8e186"
            ],
            [
             0.8,
             "#7fbc41"
            ],
            [
             0.9,
             "#4d9221"
            ],
            [
             1,
             "#276419"
            ]
           ],
           "sequential": [
            [
             0,
             "#0d0887"
            ],
            [
             0.1111111111111111,
             "#46039f"
            ],
            [
             0.2222222222222222,
             "#7201a8"
            ],
            [
             0.3333333333333333,
             "#9c179e"
            ],
            [
             0.4444444444444444,
             "#bd3786"
            ],
            [
             0.5555555555555556,
             "#d8576b"
            ],
            [
             0.6666666666666666,
             "#ed7953"
            ],
            [
             0.7777777777777778,
             "#fb9f3a"
            ],
            [
             0.8888888888888888,
             "#fdca26"
            ],
            [
             1,
             "#f0f921"
            ]
           ],
           "sequentialminus": [
            [
             0,
             "#0d0887"
            ],
            [
             0.1111111111111111,
             "#46039f"
            ],
            [
             0.2222222222222222,
             "#7201a8"
            ],
            [
             0.3333333333333333,
             "#9c179e"
            ],
            [
             0.4444444444444444,
             "#bd3786"
            ],
            [
             0.5555555555555556,
             "#d8576b"
            ],
            [
             0.6666666666666666,
             "#ed7953"
            ],
            [
             0.7777777777777778,
             "#fb9f3a"
            ],
            [
             0.8888888888888888,
             "#fdca26"
            ],
            [
             1,
             "#f0f921"
            ]
           ]
          },
          "colorway": [
           "#636efa",
           "#EF553B",
           "#00cc96",
           "#ab63fa",
           "#FFA15A",
           "#19d3f3",
           "#FF6692",
           "#B6E880",
           "#FF97FF",
           "#FECB52"
          ],
          "font": {
           "color": "#2a3f5f"
          },
          "geo": {
           "bgcolor": "white",
           "lakecolor": "white",
           "landcolor": "#E5ECF6",
           "showlakes": true,
           "showland": true,
           "subunitcolor": "white"
          },
          "hoverlabel": {
           "align": "left"
          },
          "hovermode": "closest",
          "mapbox": {
           "style": "light"
          },
          "paper_bgcolor": "white",
          "plot_bgcolor": "#E5ECF6",
          "polar": {
           "angularaxis": {
            "gridcolor": "white",
            "linecolor": "white",
            "ticks": ""
           },
           "bgcolor": "#E5ECF6",
           "radialaxis": {
            "gridcolor": "white",
            "linecolor": "white",
            "ticks": ""
           }
          },
          "scene": {
           "xaxis": {
            "backgroundcolor": "#E5ECF6",
            "gridcolor": "white",
            "gridwidth": 2,
            "linecolor": "white",
            "showbackground": true,
            "ticks": "",
            "zerolinecolor": "white"
           },
           "yaxis": {
            "backgroundcolor": "#E5ECF6",
            "gridcolor": "white",
            "gridwidth": 2,
            "linecolor": "white",
            "showbackground": true,
            "ticks": "",
            "zerolinecolor": "white"
           },
           "zaxis": {
            "backgroundcolor": "#E5ECF6",
            "gridcolor": "white",
            "gridwidth": 2,
            "linecolor": "white",
            "showbackground": true,
            "ticks": "",
            "zerolinecolor": "white"
           }
          },
          "shapedefaults": {
           "line": {
            "color": "#2a3f5f"
           }
          },
          "ternary": {
           "aaxis": {
            "gridcolor": "white",
            "linecolor": "white",
            "ticks": ""
           },
           "baxis": {
            "gridcolor": "white",
            "linecolor": "white",
            "ticks": ""
           },
           "bgcolor": "#E5ECF6",
           "caxis": {
            "gridcolor": "white",
            "linecolor": "white",
            "ticks": ""
           }
          },
          "title": {
           "x": 0.05
          },
          "xaxis": {
           "automargin": true,
           "gridcolor": "white",
           "linecolor": "white",
           "ticks": "",
           "title": {
            "standoff": 15
           },
           "zerolinecolor": "white",
           "zerolinewidth": 2
          },
          "yaxis": {
           "automargin": true,
           "gridcolor": "white",
           "linecolor": "white",
           "ticks": "",
           "title": {
            "standoff": 15
           },
           "zerolinecolor": "white",
           "zerolinewidth": 2
          }
         }
        },
        "xaxis": {
         "anchor": "y",
         "domain": [
          0,
          1
         ],
         "title": {
          "text": ""
         },
         "type": "date"
        },
        "yaxis": {
         "anchor": "x",
         "autorange": "reversed",
         "domain": [
          0,
          1
         ],
         "title": {
          "text": "블록명"
         }
        }
       }
      },
      "text/html": [
       "<div>                            <div id=\"81aa7cdd-2ed4-43ee-ae39-1ecc60442f2d\" class=\"plotly-graph-div\" style=\"height:500px; width:100%;\"></div>            <script type=\"text/javascript\">                require([\"plotly\"], function(Plotly) {                    window.PLOTLYENV=window.PLOTLYENV || {};                                    if (document.getElementById(\"81aa7cdd-2ed4-43ee-ae39-1ecc60442f2d\")) {                    Plotly.newPlot(                        \"81aa7cdd-2ed4-43ee-ae39-1ecc60442f2d\",                        [{\"alignmentgroup\":\"True\",\"base\":[\"2024-01-01\",\"2024-01-01\",\"2024-01-01\",\"2024-01-11\",\"2024-01-11\",\"2024-01-10\",\"2024-01-19\",\"2024-01-19\",\"2024-01-21\",\"2024-01-23\",\"2024-01-25\"],\"customdata\":[[18,59],[10,87],[9,93],[17,60],[13,76],[11,43],[4,0],[15,65],[4,0],[4,0],[11,91]],\"hovertemplate\":\"정반명=A<br>착수일자=%{base}<br>종료일자=%{x}<br>블록명=%{y}<br>차트텍스트=%{text}<br>표준공기=%{customdata[0]}<br>중량=%{customdata[1]}<extra></extra>\",\"legendgroup\":\"A\",\"marker\":{\"color\":\"#636efa\",\"opacity\":0.7,\"pattern\":{\"shape\":\"\"},\"line\":{\"width\":2}},\"name\":\"A\",\"offsetgroup\":\"A\",\"orientation\":\"h\",\"showlegend\":true,\"text\":[\"S6/조립중량:18ton/사이즈:(14, 15)\",\"S7/조립중량:10ton/사이즈:(13, 31)\",\"S13/조립중량:9ton/사이즈:(14, 26)\",\"S9/조립중량:17ton/사이즈:(15, 15)\",\"S11/조립중량:13ton/사이즈:(14, 14)\",\"S10/조립중량:11ton/사이즈:(8, 16)\",\"S12/조립중량:4ton/사이즈:(8, 15)\",\"S16/조립중량:15ton/사이즈:(12, 14)\",\"S18/조립중량:4ton/사이즈:(13, 16)\",\"S15/조립중량:4ton/사이즈:(13, 14)\",\"S17/조립중량:11ton/사이즈:(6, 15)\"],\"textposition\":\"auto\",\"x\":[1555200000.0,864000000.0,777600000.0,1468800000.0,1123200000.0,950400000.0,345600000.0,1296000000.0,345600000.0,345600000.0,950400000.0],\"xaxis\":\"x\",\"y\":[\"S6\",\"S7\",\"S13\",\"S9\",\"S11\",\"S10\",\"S12\",\"S16\",\"S18\",\"S15\",\"S17\"],\"yaxis\":\"y\",\"type\":\"bar\",\"opacity\":1}],                        {\"template\":{\"data\":{\"histogram2dcontour\":[{\"type\":\"histogram2dcontour\",\"colorbar\":{\"outlinewidth\":0,\"ticks\":\"\"},\"colorscale\":[[0.0,\"#0d0887\"],[0.1111111111111111,\"#46039f\"],[0.2222222222222222,\"#7201a8\"],[0.3333333333333333,\"#9c179e\"],[0.4444444444444444,\"#bd3786\"],[0.5555555555555556,\"#d8576b\"],[0.6666666666666666,\"#ed7953\"],[0.7777777777777778,\"#fb9f3a\"],[0.8888888888888888,\"#fdca26\"],[1.0,\"#f0f921\"]]}],\"choropleth\":[{\"type\":\"choropleth\",\"colorbar\":{\"outlinewidth\":0,\"ticks\":\"\"}}],\"histogram2d\":[{\"type\":\"histogram2d\",\"colorbar\":{\"outlinewidth\":0,\"ticks\":\"\"},\"colorscale\":[[0.0,\"#0d0887\"],[0.1111111111111111,\"#46039f\"],[0.2222222222222222,\"#7201a8\"],[0.3333333333333333,\"#9c179e\"],[0.4444444444444444,\"#bd3786\"],[0.5555555555555556,\"#d8576b\"],[0.6666666666666666,\"#ed7953\"],[0.7777777777777778,\"#fb9f3a\"],[0.8888888888888888,\"#fdca26\"],[1.0,\"#f0f921\"]]}],\"heatmap\":[{\"type\":\"heatmap\",\"colorbar\":{\"outlinewidth\":0,\"ticks\":\"\"},\"colorscale\":[[0.0,\"#0d0887\"],[0.1111111111111111,\"#46039f\"],[0.2222222222222222,\"#7201a8\"],[0.3333333333333333,\"#9c179e\"],[0.4444444444444444,\"#bd3786\"],[0.5555555555555556,\"#d8576b\"],[0.6666666666666666,\"#ed7953\"],[0.7777777777777778,\"#fb9f3a\"],[0.8888888888888888,\"#fdca26\"],[1.0,\"#f0f921\"]]}],\"heatmapgl\":[{\"type\":\"heatmapgl\",\"colorbar\":{\"outlinewidth\":0,\"ticks\":\"\"},\"colorscale\":[[0.0,\"#0d0887\"],[0.1111111111111111,\"#46039f\"],[0.2222222222222222,\"#7201a8\"],[0.3333333333333333,\"#9c179e\"],[0.4444444444444444,\"#bd3786\"],[0.5555555555555556,\"#d8576b\"],[0.6666666666666666,\"#ed7953\"],[0.7777777777777778,\"#fb9f3a\"],[0.8888888888888888,\"#fdca26\"],[1.0,\"#f0f921\"]]}],\"contourcarpet\":[{\"type\":\"contourcarpet\",\"colorbar\":{\"outlinewidth\":0,\"ticks\":\"\"}}],\"contour\":[{\"type\":\"contour\",\"colorbar\":{\"outlinewidth\":0,\"ticks\":\"\"},\"colorscale\":[[0.0,\"#0d0887\"],[0.1111111111111111,\"#46039f\"],[0.2222222222222222,\"#7201a8\"],[0.3333333333333333,\"#9c179e\"],[0.4444444444444444,\"#bd3786\"],[0.5555555555555556,\"#d8576b\"],[0.6666666666666666,\"#ed7953\"],[0.7777777777777778,\"#fb9f3a\"],[0.8888888888888888,\"#fdca26\"],[1.0,\"#f0f921\"]]}],\"surface\":[{\"type\":\"surface\",\"colorbar\":{\"outlinewidth\":0,\"ticks\":\"\"},\"colorscale\":[[0.0,\"#0d0887\"],[0.1111111111111111,\"#46039f\"],[0.2222222222222222,\"#7201a8\"],[0.3333333333333333,\"#9c179e\"],[0.4444444444444444,\"#bd3786\"],[0.5555555555555556,\"#d8576b\"],[0.6666666666666666,\"#ed7953\"],[0.7777777777777778,\"#fb9f3a\"],[0.8888888888888888,\"#fdca26\"],[1.0,\"#f0f921\"]]}],\"mesh3d\":[{\"type\":\"mesh3d\",\"colorbar\":{\"outlinewidth\":0,\"ticks\":\"\"}}],\"scatter\":[{\"fillpattern\":{\"fillmode\":\"overlay\",\"size\":10,\"solidity\":0.2},\"type\":\"scatter\"}],\"parcoords\":[{\"type\":\"parcoords\",\"line\":{\"colorbar\":{\"outlinewidth\":0,\"ticks\":\"\"}}}],\"scatterpolargl\":[{\"type\":\"scatterpolargl\",\"marker\":{\"colorbar\":{\"outlinewidth\":0,\"ticks\":\"\"}}}],\"bar\":[{\"error_x\":{\"color\":\"#2a3f5f\"},\"error_y\":{\"color\":\"#2a3f5f\"},\"marker\":{\"line\":{\"color\":\"#E5ECF6\",\"width\":0.5},\"pattern\":{\"fillmode\":\"overlay\",\"size\":10,\"solidity\":0.2}},\"type\":\"bar\"}],\"scattergeo\":[{\"type\":\"scattergeo\",\"marker\":{\"colorbar\":{\"outlinewidth\":0,\"ticks\":\"\"}}}],\"scatterpolar\":[{\"type\":\"scatterpolar\",\"marker\":{\"colorbar\":{\"outlinewidth\":0,\"ticks\":\"\"}}}],\"histogram\":[{\"marker\":{\"pattern\":{\"fillmode\":\"overlay\",\"size\":10,\"solidity\":0.2}},\"type\":\"histogram\"}],\"scattergl\":[{\"type\":\"scattergl\",\"marker\":{\"colorbar\":{\"outlinewidth\":0,\"ticks\":\"\"}}}],\"scatter3d\":[{\"type\":\"scatter3d\",\"line\":{\"colorbar\":{\"outlinewidth\":0,\"ticks\":\"\"}},\"marker\":{\"colorbar\":{\"outlinewidth\":0,\"ticks\":\"\"}}}],\"scattermapbox\":[{\"type\":\"scattermapbox\",\"marker\":{\"colorbar\":{\"outlinewidth\":0,\"ticks\":\"\"}}}],\"scatterternary\":[{\"type\":\"scatterternary\",\"marker\":{\"colorbar\":{\"outlinewidth\":0,\"ticks\":\"\"}}}],\"scattercarpet\":[{\"type\":\"scattercarpet\",\"marker\":{\"colorbar\":{\"outlinewidth\":0,\"ticks\":\"\"}}}],\"carpet\":[{\"aaxis\":{\"endlinecolor\":\"#2a3f5f\",\"gridcolor\":\"white\",\"linecolor\":\"white\",\"minorgridcolor\":\"white\",\"startlinecolor\":\"#2a3f5f\"},\"baxis\":{\"endlinecolor\":\"#2a3f5f\",\"gridcolor\":\"white\",\"linecolor\":\"white\",\"minorgridcolor\":\"white\",\"startlinecolor\":\"#2a3f5f\"},\"type\":\"carpet\"}],\"table\":[{\"cells\":{\"fill\":{\"color\":\"#EBF0F8\"},\"line\":{\"color\":\"white\"}},\"header\":{\"fill\":{\"color\":\"#C8D4E3\"},\"line\":{\"color\":\"white\"}},\"type\":\"table\"}],\"barpolar\":[{\"marker\":{\"line\":{\"color\":\"#E5ECF6\",\"width\":0.5},\"pattern\":{\"fillmode\":\"overlay\",\"size\":10,\"solidity\":0.2}},\"type\":\"barpolar\"}],\"pie\":[{\"automargin\":true,\"type\":\"pie\"}]},\"layout\":{\"autotypenumbers\":\"strict\",\"colorway\":[\"#636efa\",\"#EF553B\",\"#00cc96\",\"#ab63fa\",\"#FFA15A\",\"#19d3f3\",\"#FF6692\",\"#B6E880\",\"#FF97FF\",\"#FECB52\"],\"font\":{\"color\":\"#2a3f5f\"},\"hovermode\":\"closest\",\"hoverlabel\":{\"align\":\"left\"},\"paper_bgcolor\":\"white\",\"plot_bgcolor\":\"#E5ECF6\",\"polar\":{\"bgcolor\":\"#E5ECF6\",\"angularaxis\":{\"gridcolor\":\"white\",\"linecolor\":\"white\",\"ticks\":\"\"},\"radialaxis\":{\"gridcolor\":\"white\",\"linecolor\":\"white\",\"ticks\":\"\"}},\"ternary\":{\"bgcolor\":\"#E5ECF6\",\"aaxis\":{\"gridcolor\":\"white\",\"linecolor\":\"white\",\"ticks\":\"\"},\"baxis\":{\"gridcolor\":\"white\",\"linecolor\":\"white\",\"ticks\":\"\"},\"caxis\":{\"gridcolor\":\"white\",\"linecolor\":\"white\",\"ticks\":\"\"}},\"coloraxis\":{\"colorbar\":{\"outlinewidth\":0,\"ticks\":\"\"}},\"colorscale\":{\"sequential\":[[0.0,\"#0d0887\"],[0.1111111111111111,\"#46039f\"],[0.2222222222222222,\"#7201a8\"],[0.3333333333333333,\"#9c179e\"],[0.4444444444444444,\"#bd3786\"],[0.5555555555555556,\"#d8576b\"],[0.6666666666666666,\"#ed7953\"],[0.7777777777777778,\"#fb9f3a\"],[0.8888888888888888,\"#fdca26\"],[1.0,\"#f0f921\"]],\"sequentialminus\":[[0.0,\"#0d0887\"],[0.1111111111111111,\"#46039f\"],[0.2222222222222222,\"#7201a8\"],[0.3333333333333333,\"#9c179e\"],[0.4444444444444444,\"#bd3786\"],[0.5555555555555556,\"#d8576b\"],[0.6666666666666666,\"#ed7953\"],[0.7777777777777778,\"#fb9f3a\"],[0.8888888888888888,\"#fdca26\"],[1.0,\"#f0f921\"]],\"diverging\":[[0,\"#8e0152\"],[0.1,\"#c51b7d\"],[0.2,\"#de77ae\"],[0.3,\"#f1b6da\"],[0.4,\"#fde0ef\"],[0.5,\"#f7f7f7\"],[0.6,\"#e6f5d0\"],[0.7,\"#b8e186\"],[0.8,\"#7fbc41\"],[0.9,\"#4d9221\"],[1,\"#276419\"]]},\"xaxis\":{\"gridcolor\":\"white\",\"linecolor\":\"white\",\"ticks\":\"\",\"title\":{\"standoff\":15},\"zerolinecolor\":\"white\",\"automargin\":true,\"zerolinewidth\":2},\"yaxis\":{\"gridcolor\":\"white\",\"linecolor\":\"white\",\"ticks\":\"\",\"title\":{\"standoff\":15},\"zerolinecolor\":\"white\",\"automargin\":true,\"zerolinewidth\":2},\"scene\":{\"xaxis\":{\"backgroundcolor\":\"#E5ECF6\",\"gridcolor\":\"white\",\"linecolor\":\"white\",\"showbackground\":true,\"ticks\":\"\",\"zerolinecolor\":\"white\",\"gridwidth\":2},\"yaxis\":{\"backgroundcolor\":\"#E5ECF6\",\"gridcolor\":\"white\",\"linecolor\":\"white\",\"showbackground\":true,\"ticks\":\"\",\"zerolinecolor\":\"white\",\"gridwidth\":2},\"zaxis\":{\"backgroundcolor\":\"#E5ECF6\",\"gridcolor\":\"white\",\"linecolor\":\"white\",\"showbackground\":true,\"ticks\":\"\",\"zerolinecolor\":\"white\",\"gridwidth\":2}},\"shapedefaults\":{\"line\":{\"color\":\"#2a3f5f\"}},\"annotationdefaults\":{\"arrowcolor\":\"#2a3f5f\",\"arrowhead\":0,\"arrowwidth\":1},\"geo\":{\"bgcolor\":\"white\",\"landcolor\":\"#E5ECF6\",\"subunitcolor\":\"white\",\"showland\":true,\"showlakes\":true,\"lakecolor\":\"white\"},\"title\":{\"x\":0.05},\"mapbox\":{\"style\":\"light\"}}},\"xaxis\":{\"anchor\":\"y\",\"domain\":[0.0,1.0],\"type\":\"date\",\"title\":{\"text\":\"\"}},\"yaxis\":{\"anchor\":\"x\",\"domain\":[0.0,1.0],\"title\":{\"text\":\"블록명\"},\"autorange\":\"reversed\"},\"legend\":{\"title\":{\"text\":\"정반명\"},\"tracegroupgap\":0},\"margin\":{\"t\":60},\"barmode\":\"overlay\",\"hoverlabel\":{\"bgcolor\":\"#DAEEED\"},\"font\":{\"family\":\"Courier New, monospace\",\"size\":12,\"color\":\"RebeccaPurple\"},\"bargap\":0.2,\"height\":500},                        {\"responsive\": true}                    ).then(function(){\n",
       "                            \n",
       "var gd = document.getElementById('81aa7cdd-2ed4-43ee-ae39-1ecc60442f2d');\n",
       "var x = new MutationObserver(function (mutations, observer) {{\n",
       "        var display = window.getComputedStyle(gd).display;\n",
       "        if (!display || display === 'none') {{\n",
       "            console.log([gd, 'removed!']);\n",
       "            Plotly.purge(gd);\n",
       "            observer.disconnect();\n",
       "        }}\n",
       "}});\n",
       "\n",
       "// Listen for the removal of the full notebook cells\n",
       "var notebookContainer = gd.closest('#notebook-container');\n",
       "if (notebookContainer) {{\n",
       "    x.observe(notebookContainer, {childList: true});\n",
       "}}\n",
       "\n",
       "// Listen for the clearing of the current output cell\n",
       "var outputEl = gd.closest('.output');\n",
       "if (outputEl) {{\n",
       "    x.observe(outputEl, {childList: true});\n",
       "}}\n",
       "\n",
       "                        })                };                });            </script>        </div>"
      ]
     },
     "metadata": {},
     "output_type": "display_data"
    }
   ],
   "source": [
    "for i in range(len(공기가중치들)):\n",
    "    draw_gant(배치결과모음[i])"
   ]
  }
 ],
 "metadata": {
  "kernelspec": {
   "display_name": "Python 3 (ipykernel)",
   "language": "python",
   "name": "python3"
  },
  "language_info": {
   "codemirror_mode": {
    "name": "ipython",
    "version": 3
   },
   "file_extension": ".py",
   "mimetype": "text/x-python",
   "name": "python",
   "nbconvert_exporter": "python",
   "pygments_lexer": "ipython3",
   "version": "3.10.6"
  },
  "toc": {
   "base_numbering": 1,
   "nav_menu": {
    "height": "190.99px",
    "width": "257.309px"
   },
   "number_sections": true,
   "sideBar": true,
   "skip_h1_title": false,
   "title_cell": "Table of Contents",
   "title_sidebar": "Contents",
   "toc_cell": false,
   "toc_position": {
    "height": "648.182px",
    "left": "39px",
    "top": "110.795px",
    "width": "285.412px"
   },
   "toc_section_display": true,
   "toc_window_display": true
  }
 },
 "nbformat": 4,
 "nbformat_minor": 5
}
