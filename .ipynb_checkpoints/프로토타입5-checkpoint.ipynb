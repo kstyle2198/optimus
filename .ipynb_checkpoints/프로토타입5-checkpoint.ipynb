{
 "cells": [
  {
   "cell_type": "code",
   "execution_count": 1,
   "id": "f9b64f3a",
   "metadata": {},
   "outputs": [],
   "source": [
    "import pandas as pd\n",
    "import numpy as np\n",
    "from tqdm import tqdm\n",
    "from random import random, randrange, choice, shuffle\n",
    "from datetime import datetime, timedelta\n",
    "from itertools import combinations\n",
    "from pprint import pprint\n",
    "\n",
    "import matplotlib.pyplot as plt\n",
    "import matplotlib.colors as mcolors\n",
    "\n",
    "import warnings\n",
    "warnings.filterwarnings('ignore')\n",
    "\n",
    "from IPython.core.interactiveshell import InteractiveShell \n",
    "InteractiveShell.ast_node_interactivity = \"all\" # Cell의 모든 반환값 출력"
   ]
  },
  {
   "cell_type": "markdown",
   "id": "09df493d",
   "metadata": {},
   "source": [
    "# 기본 데이터 세팅"
   ]
  },
  {
   "cell_type": "code",
   "execution_count": 2,
   "id": "e9045597",
   "metadata": {},
   "outputs": [
    {
     "data": {
      "text/html": [
       "<div>\n",
       "<style scoped>\n",
       "    .dataframe tbody tr th:only-of-type {\n",
       "        vertical-align: middle;\n",
       "    }\n",
       "\n",
       "    .dataframe tbody tr th {\n",
       "        vertical-align: top;\n",
       "    }\n",
       "\n",
       "    .dataframe thead th {\n",
       "        text-align: right;\n",
       "    }\n",
       "</style>\n",
       "<table border=\"1\" class=\"dataframe\">\n",
       "  <thead>\n",
       "    <tr style=\"text-align: right;\">\n",
       "      <th></th>\n",
       "      <th>블록명</th>\n",
       "      <th>중량</th>\n",
       "      <th>가로</th>\n",
       "      <th>세로</th>\n",
       "      <th>표준공기</th>\n",
       "      <th>납기</th>\n",
       "      <th>정반배치</th>\n",
       "    </tr>\n",
       "  </thead>\n",
       "  <tbody>\n",
       "    <tr>\n",
       "      <th>0</th>\n",
       "      <td>S1</td>\n",
       "      <td>50</td>\n",
       "      <td>10</td>\n",
       "      <td>10</td>\n",
       "      <td>2</td>\n",
       "      <td>2024-02-15</td>\n",
       "      <td>0</td>\n",
       "    </tr>\n",
       "    <tr>\n",
       "      <th>1</th>\n",
       "      <td>S2</td>\n",
       "      <td>60</td>\n",
       "      <td>10</td>\n",
       "      <td>12</td>\n",
       "      <td>3</td>\n",
       "      <td>2024-02-15</td>\n",
       "      <td>0</td>\n",
       "    </tr>\n",
       "    <tr>\n",
       "      <th>2</th>\n",
       "      <td>S3</td>\n",
       "      <td>30</td>\n",
       "      <td>5</td>\n",
       "      <td>6</td>\n",
       "      <td>1</td>\n",
       "      <td>2024-02-15</td>\n",
       "      <td>0</td>\n",
       "    </tr>\n",
       "    <tr>\n",
       "      <th>3</th>\n",
       "      <td>S4</td>\n",
       "      <td>20</td>\n",
       "      <td>5</td>\n",
       "      <td>6</td>\n",
       "      <td>2</td>\n",
       "      <td>2024-02-15</td>\n",
       "      <td>0</td>\n",
       "    </tr>\n",
       "  </tbody>\n",
       "</table>\n",
       "</div>"
      ],
      "text/plain": [
       "  블록명  중량  가로  세로  표준공기          납기  정반배치\n",
       "0  S1  50  10  10     2  2024-02-15     0\n",
       "1  S2  60  10  12     3  2024-02-15     0\n",
       "2  S3  30   5   6     1  2024-02-15     0\n",
       "3  S4  20   5   6     2  2024-02-15     0"
      ]
     },
     "execution_count": 2,
     "metadata": {},
     "output_type": "execute_result"
    }
   ],
   "source": [
    "블록원데이터 = pd.DataFrame({\"블록명\":[\"S1\", \"S2\", \"S3\", \"S4\"], \n",
    "                    \"중량\": [50, 60, 30, 20], \n",
    "                    \"가로\": [10, 10, 5, 5], \n",
    "                    \"세로\":[10, 12, 6, 6], \n",
    "                    \"표준공기\":[2, 3, 1, 2], \n",
    "                    \"납기\":[\"2024-02-15\", \"2024-02-15\", \"2024-02-15\", \"2024-02-15\"],\n",
    "                    \"정반배치\":[0, 0, 0, 0]})\n",
    "블록원데이터.head()"
   ]
  },
  {
   "cell_type": "code",
   "execution_count": 3,
   "id": "d5908f92",
   "metadata": {},
   "outputs": [
    {
     "data": {
      "text/html": [
       "<div>\n",
       "<style scoped>\n",
       "    .dataframe tbody tr th:only-of-type {\n",
       "        vertical-align: middle;\n",
       "    }\n",
       "\n",
       "    .dataframe tbody tr th {\n",
       "        vertical-align: top;\n",
       "    }\n",
       "\n",
       "    .dataframe thead th {\n",
       "        text-align: right;\n",
       "    }\n",
       "</style>\n",
       "<table border=\"1\" class=\"dataframe\">\n",
       "  <thead>\n",
       "    <tr style=\"text-align: right;\">\n",
       "      <th></th>\n",
       "      <th>정반명</th>\n",
       "      <th>가능중량</th>\n",
       "      <th>가로</th>\n",
       "      <th>세로</th>\n",
       "    </tr>\n",
       "  </thead>\n",
       "  <tbody>\n",
       "    <tr>\n",
       "      <th>0</th>\n",
       "      <td>A</td>\n",
       "      <td>100</td>\n",
       "      <td>10</td>\n",
       "      <td>20</td>\n",
       "    </tr>\n",
       "    <tr>\n",
       "      <th>1</th>\n",
       "      <td>B</td>\n",
       "      <td>100</td>\n",
       "      <td>10</td>\n",
       "      <td>10</td>\n",
       "    </tr>\n",
       "    <tr>\n",
       "      <th>2</th>\n",
       "      <td>C</td>\n",
       "      <td>30</td>\n",
       "      <td>5</td>\n",
       "      <td>10</td>\n",
       "    </tr>\n",
       "  </tbody>\n",
       "</table>\n",
       "</div>"
      ],
      "text/plain": [
       "  정반명  가능중량  가로  세로\n",
       "0   A   100  10  20\n",
       "1   B   100  10  10\n",
       "2   C    30   5  10"
      ]
     },
     "execution_count": 3,
     "metadata": {},
     "output_type": "execute_result"
    }
   ],
   "source": [
    "정반원데이터 = pd.DataFrame({\"정반명\":[\"A\", \"B\", \"C\"],\n",
    "                   \"가능중량\":[100, 100, 30],\n",
    "                   \"가로\":[10, 10, 5],\n",
    "                   \"세로\":[20, 10, 10],\n",
    "                   })\n",
    "정반원데이터.head()"
   ]
  },
  {
   "cell_type": "code",
   "execution_count": 4,
   "id": "3afd4249",
   "metadata": {},
   "outputs": [
    {
     "data": {
      "text/plain": [
       "1"
      ]
     },
     "execution_count": 4,
     "metadata": {},
     "output_type": "execute_result"
    }
   ],
   "source": [
    "정반원데이터.index[정반원데이터[\"정반명\"]==\"B\"].values[0]"
   ]
  },
  {
   "cell_type": "code",
   "execution_count": 5,
   "id": "ef19c09f",
   "metadata": {},
   "outputs": [
    {
     "data": {
      "text/plain": [
       "DatetimeIndex(['2024-02-01', '2024-02-02', '2024-02-03', '2024-02-04',\n",
       "               '2024-02-05', '2024-02-06', '2024-02-07', '2024-02-08',\n",
       "               '2024-02-09', '2024-02-10', '2024-02-11', '2024-02-12',\n",
       "               '2024-02-13', '2024-02-14', '2024-02-15', '2024-02-16',\n",
       "               '2024-02-17', '2024-02-18', '2024-02-19', '2024-02-20',\n",
       "               '2024-02-21', '2024-02-22', '2024-02-23', '2024-02-24',\n",
       "               '2024-02-25', '2024-02-26', '2024-02-27', '2024-02-28'],\n",
       "              dtype='datetime64[ns]', freq='D')"
      ]
     },
     "execution_count": 5,
     "metadata": {},
     "output_type": "execute_result"
    }
   ],
   "source": [
    "start_date = datetime(2024, 2, 1)\n",
    "end_date = datetime(2024, 2, 28)\n",
    "날짜집합  = pd.date_range(start=start_date, end=end_date, freq='D')\n",
    "날짜집합"
   ]
  },
  {
   "cell_type": "code",
   "execution_count": 6,
   "id": "ee2ee346",
   "metadata": {},
   "outputs": [
    {
     "data": {
      "text/plain": [
       "['S1', 'S2', 'S3', 'S4']"
      ]
     },
     "execution_count": 6,
     "metadata": {},
     "output_type": "execute_result"
    }
   ],
   "source": [
    "블록집합 = 블록원데이터[\"블록명\"].unique().tolist()\n",
    "블록집합"
   ]
  },
  {
   "cell_type": "code",
   "execution_count": 7,
   "id": "71d472fc",
   "metadata": {},
   "outputs": [
    {
     "data": {
      "text/plain": [
       "['A', 'B', 'C']"
      ]
     },
     "execution_count": 7,
     "metadata": {},
     "output_type": "execute_result"
    }
   ],
   "source": [
    "최초정반집합 = 정반원데이터[\"정반명\"].unique().tolist()\n",
    "최초정반집합"
   ]
  },
  {
   "cell_type": "markdown",
   "id": "70935972",
   "metadata": {},
   "source": [
    "# 블록 데이터 전처리 함수"
   ]
  },
  {
   "cell_type": "code",
   "execution_count": 8,
   "id": "52c1c100",
   "metadata": {},
   "outputs": [],
   "source": [
    "import functools\n",
    "def unpack_df_columns(func):\n",
    "    @functools.wraps(func)\n",
    "    def _unpack_df_columns(*args, **kwargs):\n",
    "        series = args[0]\n",
    "        return func(*series.values)\n",
    "    return _unpack_df_columns"
   ]
  },
  {
   "cell_type": "code",
   "execution_count": 9,
   "id": "aa800a66",
   "metadata": {},
   "outputs": [],
   "source": [
    "@unpack_df_columns\n",
    "def 최소착수요구일구하기(납기, 공기):\n",
    "    result = pd.to_datetime(납기) - timedelta(days=int(공기))\n",
    "    return result.date()"
   ]
  },
  {
   "cell_type": "code",
   "execution_count": 10,
   "id": "1c77f1ff",
   "metadata": {},
   "outputs": [],
   "source": [
    "착수일가중치, 공기가중치, 크기가중치 = 0.7, 0.5, 0.5\n",
    "\n",
    "@unpack_df_columns\n",
    "def 블록우선순위구하기(날순, 공순, 크순):\n",
    "    global 착수일가중치, 공기가중치, 크기가중치\n",
    "    result = np.round((날순*착수일가중치 + 공순*공기가중치 + 크순*크기가중치)/3,1)\n",
    "    return result\n",
    "\n",
    "@unpack_df_columns\n",
    "def 블록사이즈튜플만들기(가로, 세로):\n",
    "    길이1 = max(가로, 세로)  \n",
    "    길이2 = min(가로, 세로)\n",
    "    result = (길이2, 길이1)\n",
    "    return result"
   ]
  },
  {
   "cell_type": "code",
   "execution_count": 11,
   "id": "65f716a2",
   "metadata": {},
   "outputs": [],
   "source": [
    "def 블록데이터전처리(블록원데이터):\n",
    "    df1 = 블록원데이터.copy()\n",
    "    df1[\"사이즈\"] = df1[[\"가로\", \"세로\"]].apply(블록사이즈튜플만들기, axis=1)\n",
    "    df1[\"납기\"] = pd.to_datetime(df1[\"납기\"])\n",
    "    df1[\"면적\"] = df1.eval(\"가로*세로\")\n",
    "    df1[\"최소착수요구일\"] = df1[[\"납기\", \"표준공기\"]].apply(최소착수요구일구하기, axis=1)\n",
    "    df1[\"날짜순서\"] = df1[\"최소착수요구일\"].rank()\n",
    "    df1[\"공기순서\"] = df1[\"표준공기\"].rank(ascending=False)\n",
    "    df1[\"크기순서\"] = df1[\"면적\"].rank(ascending=False)\n",
    "    df1[\"우선순위\"] = df1[[\"날짜순서\", \"공기순서\", \"크기순서\"]].apply(블록우선순위구하기, axis=1)\n",
    "    \n",
    "    df1 = df1.drop(['가로', '세로'], axis=1)\n",
    "    df1 = df1.sort_values(by=[\"우선순위\"])\n",
    "    return df1"
   ]
  },
  {
   "cell_type": "code",
   "execution_count": 12,
   "id": "62c11c89",
   "metadata": {},
   "outputs": [
    {
     "data": {
      "text/html": [
       "<div>\n",
       "<style scoped>\n",
       "    .dataframe tbody tr th:only-of-type {\n",
       "        vertical-align: middle;\n",
       "    }\n",
       "\n",
       "    .dataframe tbody tr th {\n",
       "        vertical-align: top;\n",
       "    }\n",
       "\n",
       "    .dataframe thead th {\n",
       "        text-align: right;\n",
       "    }\n",
       "</style>\n",
       "<table border=\"1\" class=\"dataframe\">\n",
       "  <thead>\n",
       "    <tr style=\"text-align: right;\">\n",
       "      <th></th>\n",
       "      <th>블록명</th>\n",
       "      <th>중량</th>\n",
       "      <th>표준공기</th>\n",
       "      <th>납기</th>\n",
       "      <th>정반배치</th>\n",
       "      <th>사이즈</th>\n",
       "      <th>면적</th>\n",
       "      <th>최소착수요구일</th>\n",
       "      <th>날짜순서</th>\n",
       "      <th>공기순서</th>\n",
       "      <th>크기순서</th>\n",
       "      <th>우선순위</th>\n",
       "    </tr>\n",
       "  </thead>\n",
       "  <tbody>\n",
       "    <tr>\n",
       "      <th>1</th>\n",
       "      <td>S2</td>\n",
       "      <td>60</td>\n",
       "      <td>3</td>\n",
       "      <td>2024-02-15</td>\n",
       "      <td>0</td>\n",
       "      <td>(10, 12)</td>\n",
       "      <td>120</td>\n",
       "      <td>2024-02-12</td>\n",
       "      <td>1.0</td>\n",
       "      <td>1.0</td>\n",
       "      <td>1.0</td>\n",
       "      <td>0.6</td>\n",
       "    </tr>\n",
       "    <tr>\n",
       "      <th>0</th>\n",
       "      <td>S1</td>\n",
       "      <td>50</td>\n",
       "      <td>2</td>\n",
       "      <td>2024-02-15</td>\n",
       "      <td>0</td>\n",
       "      <td>(10, 10)</td>\n",
       "      <td>100</td>\n",
       "      <td>2024-02-13</td>\n",
       "      <td>2.5</td>\n",
       "      <td>2.5</td>\n",
       "      <td>2.0</td>\n",
       "      <td>1.3</td>\n",
       "    </tr>\n",
       "    <tr>\n",
       "      <th>3</th>\n",
       "      <td>S4</td>\n",
       "      <td>20</td>\n",
       "      <td>2</td>\n",
       "      <td>2024-02-15</td>\n",
       "      <td>0</td>\n",
       "      <td>(5, 6)</td>\n",
       "      <td>30</td>\n",
       "      <td>2024-02-13</td>\n",
       "      <td>2.5</td>\n",
       "      <td>2.5</td>\n",
       "      <td>3.5</td>\n",
       "      <td>1.6</td>\n",
       "    </tr>\n",
       "    <tr>\n",
       "      <th>2</th>\n",
       "      <td>S3</td>\n",
       "      <td>30</td>\n",
       "      <td>1</td>\n",
       "      <td>2024-02-15</td>\n",
       "      <td>0</td>\n",
       "      <td>(5, 6)</td>\n",
       "      <td>30</td>\n",
       "      <td>2024-02-14</td>\n",
       "      <td>4.0</td>\n",
       "      <td>4.0</td>\n",
       "      <td>3.5</td>\n",
       "      <td>2.2</td>\n",
       "    </tr>\n",
       "  </tbody>\n",
       "</table>\n",
       "</div>"
      ],
      "text/plain": [
       "  블록명  중량  표준공기         납기  정반배치       사이즈   면적     최소착수요구일  날짜순서  공기순서  크기순서  \\\n",
       "1  S2  60     3 2024-02-15     0  (10, 12)  120  2024-02-12   1.0   1.0   1.0   \n",
       "0  S1  50     2 2024-02-15     0  (10, 10)  100  2024-02-13   2.5   2.5   2.0   \n",
       "3  S4  20     2 2024-02-15     0    (5, 6)   30  2024-02-13   2.5   2.5   3.5   \n",
       "2  S3  30     1 2024-02-15     0    (5, 6)   30  2024-02-14   4.0   4.0   3.5   \n",
       "\n",
       "   우선순위  \n",
       "1   0.6  \n",
       "0   1.3  \n",
       "3   1.6  \n",
       "2   2.2  "
      ]
     },
     "execution_count": 12,
     "metadata": {},
     "output_type": "execute_result"
    }
   ],
   "source": [
    "df1 = 블록데이터전처리(블록원데이터)\n",
    "df1"
   ]
  },
  {
   "cell_type": "code",
   "execution_count": 13,
   "id": "4bce4c99",
   "metadata": {},
   "outputs": [
    {
     "name": "stdout",
     "output_type": "stream",
     "text": [
      "  블록명  우선순위\n",
      "1  S2   3.3\n",
      "0  S1   8.2\n",
      "3  S4   8.5\n",
      "2  S3  13.2\n",
      "  블록명  우선순위\n",
      "1  S2   3.3\n",
      "0  S1   6.8\n",
      "3  S4  11.3\n",
      "2  S3  11.8\n"
     ]
    }
   ],
   "source": [
    "공기가중치 = [9, 0.5]\n",
    "크기가중치 = [0.5, 9]\n",
    "착수일가중치 = 0.5\n",
    "for 공기가중치, 크기가중치 in zip(공기가중치, 크기가중치):\n",
    "    df2 = 블록데이터전처리(블록원데이터)\n",
    "    print(df2[[\"블록명\", \"우선순위\"]])"
   ]
  },
  {
   "cell_type": "markdown",
   "id": "23c1b482",
   "metadata": {},
   "source": [
    "# 정반 데이터 전처리 함수"
   ]
  },
  {
   "cell_type": "code",
   "execution_count": 14,
   "id": "21a217cc",
   "metadata": {},
   "outputs": [],
   "source": [
    "중량가중치, 크기가중치 = 0.5, 0.7\n",
    "\n",
    "@unpack_df_columns\n",
    "def 정반우선순위구하기(중순, 크순):\n",
    "    global 중량가중치, 크기가중치\n",
    "    result = np.round((중순*중량가중치 + 크순*크기가중치)/3,1)\n",
    "    return result\n",
    "\n",
    "@unpack_df_columns\n",
    "def 정반사이즈튜플만들기(가로, 세로):\n",
    "    길이1 = max(가로, 세로)  \n",
    "    길이2 = min(가로, 세로)\n",
    "    result = (길이1, 길이2)\n",
    "    return result"
   ]
  },
  {
   "cell_type": "code",
   "execution_count": 15,
   "id": "e8232335",
   "metadata": {},
   "outputs": [],
   "source": [
    "def 정반데이터전처리(정반원데이터):\n",
    "    df = 정반원데이터.copy()\n",
    "    \n",
    "    df[\"사이즈\"] = df[[\"가로\", \"세로\"]].apply(정반사이즈튜플만들기, axis=1)\n",
    "    df[\"면적\"] = df.eval(\"가로*세로\")\n",
    "    df[\"중량순서\"] = df[\"가능중량\"].rank(ascending=False)\n",
    "    df[\"크기순서\"] = df[\"면적\"].rank(ascending=False)\n",
    "    df[\"우선순위\"] = df[[\"중량순서\", \"크기순서\"]].apply(정반우선순위구하기, axis=1)\n",
    "    \n",
    "    df = df.drop(['가로', '세로'], axis=1)\n",
    "    df = df.sort_values(by=[\"우선순위\"])\n",
    "    return df"
   ]
  },
  {
   "cell_type": "code",
   "execution_count": 16,
   "id": "ff9147f0",
   "metadata": {},
   "outputs": [
    {
     "data": {
      "text/html": [
       "<div>\n",
       "<style scoped>\n",
       "    .dataframe tbody tr th:only-of-type {\n",
       "        vertical-align: middle;\n",
       "    }\n",
       "\n",
       "    .dataframe tbody tr th {\n",
       "        vertical-align: top;\n",
       "    }\n",
       "\n",
       "    .dataframe thead th {\n",
       "        text-align: right;\n",
       "    }\n",
       "</style>\n",
       "<table border=\"1\" class=\"dataframe\">\n",
       "  <thead>\n",
       "    <tr style=\"text-align: right;\">\n",
       "      <th></th>\n",
       "      <th>정반명</th>\n",
       "      <th>가능중량</th>\n",
       "      <th>사이즈</th>\n",
       "      <th>면적</th>\n",
       "      <th>중량순서</th>\n",
       "      <th>크기순서</th>\n",
       "      <th>우선순위</th>\n",
       "    </tr>\n",
       "  </thead>\n",
       "  <tbody>\n",
       "    <tr>\n",
       "      <th>0</th>\n",
       "      <td>A</td>\n",
       "      <td>100</td>\n",
       "      <td>(20, 10)</td>\n",
       "      <td>200</td>\n",
       "      <td>1.5</td>\n",
       "      <td>1.0</td>\n",
       "      <td>0.5</td>\n",
       "    </tr>\n",
       "    <tr>\n",
       "      <th>1</th>\n",
       "      <td>B</td>\n",
       "      <td>100</td>\n",
       "      <td>(10, 10)</td>\n",
       "      <td>100</td>\n",
       "      <td>1.5</td>\n",
       "      <td>2.0</td>\n",
       "      <td>0.7</td>\n",
       "    </tr>\n",
       "    <tr>\n",
       "      <th>2</th>\n",
       "      <td>C</td>\n",
       "      <td>30</td>\n",
       "      <td>(10, 5)</td>\n",
       "      <td>50</td>\n",
       "      <td>3.0</td>\n",
       "      <td>3.0</td>\n",
       "      <td>1.2</td>\n",
       "    </tr>\n",
       "  </tbody>\n",
       "</table>\n",
       "</div>"
      ],
      "text/plain": [
       "  정반명  가능중량       사이즈   면적  중량순서  크기순서  우선순위\n",
       "0   A   100  (20, 10)  200   1.5   1.0   0.5\n",
       "1   B   100  (10, 10)  100   1.5   2.0   0.7\n",
       "2   C    30   (10, 5)   50   3.0   3.0   1.2"
      ]
     },
     "execution_count": 16,
     "metadata": {},
     "output_type": "execute_result"
    }
   ],
   "source": [
    "df2 = 정반데이터전처리(정반원데이터)\n",
    "df2"
   ]
  },
  {
   "cell_type": "code",
   "execution_count": 17,
   "id": "9b59b991",
   "metadata": {},
   "outputs": [
    {
     "name": "stdout",
     "output_type": "stream",
     "text": [
      "  정반명  우선순위\n",
      "0   A   0.5\n",
      "1   B   0.5\n",
      "2   C   0.9\n",
      "  정반명  우선순위\n",
      "0   A   1.0\n",
      "1   B   2.0\n",
      "2   C   3.0\n"
     ]
    }
   ],
   "source": [
    "중량가중치들 = [0.9, 0.01]\n",
    "크기가중치들 = [0.01, 3]\n",
    "\n",
    "for 중량가중치, 크기가중치 in zip(중량가중치들, 크기가중치들):\n",
    "    df2 = 정반데이터전처리(정반원데이터)\n",
    "    print(df2[[\"정반명\", \"우선순위\"]])"
   ]
  },
  {
   "cell_type": "markdown",
   "id": "7cddb3ce",
   "metadata": {},
   "source": [
    "# 변수정리함수"
   ]
  },
  {
   "cell_type": "code",
   "execution_count": 18,
   "id": "9dfa03a2",
   "metadata": {},
   "outputs": [],
   "source": [
    "def 블록변수정리(블록데이터, target_block):\n",
    "    블록 = dict()\n",
    "    블록[\"블록명\"] = target_block\n",
    "    블록[\"인덱스\"] =  블록데이터[블록데이터[\"블록명\"]==target_block].index.values[0]\n",
    "    블록[\"중량\"] = 블록데이터[블록데이터[\"블록명\"]==target_block][\"중량\"].values[0]\n",
    "    블록[\"사이즈\"] = 블록데이터[블록데이터[\"블록명\"]==target_block][\"사이즈\"].values[0]\n",
    "    블록[\"면적\"] = 블록데이터[블록데이터[\"블록명\"]==target_block][\"면적\"].values[0]\n",
    "    블록[\"표준공기\"] = 블록데이터[블록데이터[\"블록명\"]==target_block][\"표준공기\"].values[0]\n",
    "    블록[\"최소착수요구일\"] = 블록데이터[블록데이터[\"블록명\"]==target_block][\"최소착수요구일\"].values[0]\n",
    "    return 블록"
   ]
  },
  {
   "cell_type": "code",
   "execution_count": 19,
   "id": "d5e8bfb7",
   "metadata": {},
   "outputs": [
    {
     "data": {
      "text/plain": [
       "{'블록명': 'S1',\n",
       " '인덱스': 0,\n",
       " '중량': 50,\n",
       " '사이즈': (10, 10),\n",
       " '면적': 100,\n",
       " '표준공기': 2,\n",
       " '최소착수요구일': datetime.date(2024, 2, 13)}"
      ]
     },
     "execution_count": 19,
     "metadata": {},
     "output_type": "execute_result"
    }
   ],
   "source": [
    "블록변수정리(df1, \"S1\")"
   ]
  },
  {
   "cell_type": "code",
   "execution_count": 20,
   "id": "fc35acd5",
   "metadata": {},
   "outputs": [],
   "source": [
    "def 정반변수정리(정반데이터, 정반명):\n",
    "    정반 = dict()\n",
    "    정반[\"정반명\"] = 정반명\n",
    "    정반[\"가능중량\"] = 정반데이터[정반데이터[\"정반명\"]==정반명][\"가능중량\"].values[0]\n",
    "    정반[\"사이즈\"] = 정반데이터[정반데이터[\"정반명\"]==정반명][\"사이즈\"].values[0]\n",
    "    정반[\"면적\"] = 정반데이터[정반데이터[\"정반명\"]==정반명][\"면적\"].values[0]\n",
    "    \n",
    "    return 정반"
   ]
  },
  {
   "cell_type": "code",
   "execution_count": 21,
   "id": "d34599db",
   "metadata": {},
   "outputs": [
    {
     "data": {
      "text/plain": [
       "{'정반명': 'A', '가능중량': 100, '사이즈': (20, 10), '면적': 200}"
      ]
     },
     "execution_count": 21,
     "metadata": {},
     "output_type": "execute_result"
    }
   ],
   "source": [
    "A = 정반변수정리(df2, \"A\")\n",
    "A"
   ]
  },
  {
   "cell_type": "markdown",
   "id": "fe0f8e07",
   "metadata": {},
   "source": [
    "# 정반가능중량 조건 적합도 검토"
   ]
  },
  {
   "cell_type": "code",
   "execution_count": 22,
   "id": "dcce5421",
   "metadata": {},
   "outputs": [],
   "source": [
    "def 정반가능중량검토(target_block, 블록데이터, 정반, 정반데이터):\n",
    "    블록중량 = 블록데이터[블록데이터[\"블록명\"]==target_block][\"중량\"].values[0]\n",
    "    정반가능중량 = 정반데이터[정반데이터[\"정반명\"]==정반][\"가능중량\"].values[0]\n",
    "    \n",
    "    if 정반가능중량 > 블록중량: \n",
    "        return \"적합\"\n",
    "    else:\n",
    "        return \"부적합\""
   ]
  },
  {
   "cell_type": "code",
   "execution_count": 23,
   "id": "d4c19bac",
   "metadata": {},
   "outputs": [
    {
     "data": {
      "text/plain": [
       "'적합'"
      ]
     },
     "execution_count": 23,
     "metadata": {},
     "output_type": "execute_result"
    }
   ],
   "source": [
    "정반가능중량검토(\"S1\", df1, \"A\", df2)"
   ]
  },
  {
   "cell_type": "markdown",
   "id": "e7bd96f6",
   "metadata": {},
   "source": [
    "# 면적 달력 함수 정의"
   ]
  },
  {
   "cell_type": "code",
   "execution_count": 24,
   "id": "f1840920",
   "metadata": {},
   "outputs": [],
   "source": [
    "def create_면적달력(시작년:int, 시작월:int, 종료년:int, 종료월:int, 정반데이터):\n",
    "    start_date = datetime(시작년, 시작월, 1)\n",
    "    end_date = datetime(종료년, 종료월, 28)\n",
    "    정반집합 = 정반데이터[\"정반명\"].tolist()\n",
    "    날짜집합  = pd.date_range(start=start_date, end=end_date, freq='D')\n",
    "    \n",
    "    면적달력 = pd.DataFrame()\n",
    "    면적달력.index = 날짜집합\n",
    "   \n",
    "    for 정반 in 정반집합:\n",
    "        면적달력[f\"{정반}\"] = 정반데이터[정반데이터[\"정반명\"]==정반][\"면적\"].values[0]\n",
    "\n",
    "    return 면적달력"
   ]
  },
  {
   "cell_type": "code",
   "execution_count": 25,
   "id": "3d43b85b",
   "metadata": {},
   "outputs": [
    {
     "data": {
      "text/html": [
       "<div>\n",
       "<style scoped>\n",
       "    .dataframe tbody tr th:only-of-type {\n",
       "        vertical-align: middle;\n",
       "    }\n",
       "\n",
       "    .dataframe tbody tr th {\n",
       "        vertical-align: top;\n",
       "    }\n",
       "\n",
       "    .dataframe thead th {\n",
       "        text-align: right;\n",
       "    }\n",
       "</style>\n",
       "<table border=\"1\" class=\"dataframe\">\n",
       "  <thead>\n",
       "    <tr style=\"text-align: right;\">\n",
       "      <th></th>\n",
       "      <th>A</th>\n",
       "      <th>B</th>\n",
       "      <th>C</th>\n",
       "    </tr>\n",
       "  </thead>\n",
       "  <tbody>\n",
       "    <tr>\n",
       "      <th>2024-02-01</th>\n",
       "      <td>200</td>\n",
       "      <td>100</td>\n",
       "      <td>50</td>\n",
       "    </tr>\n",
       "    <tr>\n",
       "      <th>2024-02-02</th>\n",
       "      <td>200</td>\n",
       "      <td>100</td>\n",
       "      <td>50</td>\n",
       "    </tr>\n",
       "    <tr>\n",
       "      <th>2024-02-03</th>\n",
       "      <td>200</td>\n",
       "      <td>100</td>\n",
       "      <td>50</td>\n",
       "    </tr>\n",
       "  </tbody>\n",
       "</table>\n",
       "</div>"
      ],
      "text/plain": [
       "              A    B   C\n",
       "2024-02-01  200  100  50\n",
       "2024-02-02  200  100  50\n",
       "2024-02-03  200  100  50"
      ]
     },
     "execution_count": 25,
     "metadata": {},
     "output_type": "execute_result"
    }
   ],
   "source": [
    "면적달력 = create_면적달력(2024, 2, 2024, 2, df2)\n",
    "면적달력.head(3)"
   ]
  },
  {
   "cell_type": "code",
   "execution_count": 26,
   "id": "c5a701ff",
   "metadata": {},
   "outputs": [],
   "source": [
    "def get_최선조기착수일후보(면적달력, 정반리스트, 대상블록, 블록데이터):\n",
    "    result_dict = dict()\n",
    "    \n",
    "    블록면적 = 블록데이터[블록데이터[\"블록명\"]==대상블록][\"면적\"].values[0]\n",
    "    표준공기 = 블록데이터[블록데이터[\"블록명\"]==대상블록][\"표준공기\"].values[0]\n",
    "    print(f\"블록명:{대상블록}, 블록면적:{블록면적}, 표준공기:{표준공기}\")\n",
    "    \n",
    "    for 대상정반 in 정반리스트:\n",
    "        \n",
    "        대상정반면적리스트 = 면적달력[f\"{대상정반}\"].iloc[:].values\n",
    "#         print(f\"{대상정반면적리스트}\")    \n",
    "        \n",
    "        for i in range(len(대상정반면적리스트)):\n",
    "            조회시점인덱스 = i\n",
    "            조회구간면적리스트 = 대상정반면적리스트[조회시점인덱스:조회시점인덱스+표준공기]\n",
    "            조회기간최소면적 = min(조회구간면적리스트)\n",
    "#             print(f\"조회시점인덱스:{조회시점인덱스}, 조회기간최소면적:{조회기간최소면적}\")\n",
    "            \n",
    "            if 조회기간최소면적 >= 블록면적:\n",
    "                최선조기착수일 = 면적달력.index[조회시점인덱스]\n",
    "                result_dict[대상정반] = 최선조기착수일\n",
    "                print(f\"대상정반:{대상정반}, 최선조기착수일: {최선조기착수일}\")  \n",
    "                break\n",
    "        \n",
    "    return result_dict"
   ]
  },
  {
   "cell_type": "code",
   "execution_count": 27,
   "id": "78018aba",
   "metadata": {},
   "outputs": [
    {
     "name": "stdout",
     "output_type": "stream",
     "text": [
      "블록명:S2, 블록면적:120, 표준공기:3\n",
      "대상정반:A, 최선조기착수일: 2024-02-01 00:00:00\n"
     ]
    },
    {
     "data": {
      "text/plain": [
       "{'A': Timestamp('2024-02-01 00:00:00', freq='D')}"
      ]
     },
     "execution_count": 27,
     "metadata": {},
     "output_type": "execute_result"
    }
   ],
   "source": [
    "정반리스트 = [\"A\", \"B\"]\n",
    "최선조기착수일후보 = get_최선조기착수일후보(면적달력, 정반리스트, \"S2\", df1)\n",
    "최선조기착수일후보"
   ]
  },
  {
   "cell_type": "code",
   "execution_count": 28,
   "id": "5a3a65a2",
   "metadata": {},
   "outputs": [],
   "source": [
    "def get_최선조기착수대상(최선조기착수일후보):\n",
    "    # 복수의 경우 셔플후 랜덤 선택\n",
    "    temp_list = list(최선조기착수일후보.items())\n",
    "    shuffle(temp_list)\n",
    "    최선조기착수일후보 = dict(temp_list)\n",
    "\n",
    "    earliest_item = min(최선조기착수일후보.items(), key=lambda x: x[1])\n",
    "    최선정반 = earliest_item[0]\n",
    "    최선착수일 = earliest_item[1].strftime('%Y-%m-%d')\n",
    "    return 최선정반, 최선착수일"
   ]
  },
  {
   "cell_type": "code",
   "execution_count": 29,
   "id": "53612213",
   "metadata": {},
   "outputs": [
    {
     "data": {
      "text/plain": [
       "('A', '2024-02-01')"
      ]
     },
     "execution_count": 29,
     "metadata": {},
     "output_type": "execute_result"
    }
   ],
   "source": [
    "최선조기착수대상 = get_최선조기착수대상(최선조기착수일후보)\n",
    "최선조기착수대상"
   ]
  },
  {
   "cell_type": "code",
   "execution_count": 30,
   "id": "b2bd80f2",
   "metadata": {},
   "outputs": [],
   "source": [
    "def update_면적달력(면적달력, 최선조기착수대상, 배치블록명, 블록데이터):\n",
    "    \n",
    "    정반리스트 = 면적달력.columns.tolist()\n",
    "    블록면적 = 블록데이터[블록데이터[\"블록명\"]==배치블록명][\"면적\"].values[0]\n",
    "    표준공기 = 블록데이터[블록데이터[\"블록명\"]==배치블록명][\"표준공기\"].values[0]\n",
    "    블록착수일 = 최선조기착수대상[1]\n",
    "    시점인덱스 = list(면적달력.index.strftime('%Y-%m-%d')).index(블록착수일)\n",
    "    정반 = 최선조기착수대상[0]\n",
    "        \n",
    "\n",
    "    조회기간면적리스트 = 면적달력[f\"{정반}\"].iloc[시점인덱스:시점인덱스+표준공기].values\n",
    "\n",
    "    if min(조회기간면적리스트) >= 블록면적:\n",
    "        for idx, 대상일면적 in enumerate(조회기간면적리스트):\n",
    "            수정면적 = 대상일면적 - 블록면적\n",
    "            대상일인덱스 = 시점인덱스 + idx\n",
    "            면적달력[f\"{정반}\"].iloc[대상일인덱스:대상일인덱스+1] = 수정면적\n",
    "#             print(f\"정반면적:{대상일면적}, 수정면적:{수정면적}\")\n",
    "    else:\n",
    "        print(\"면적이 부족하여 블록을 배치할 수 없습니다.\")\n",
    "    \n",
    "    return 면적달력\n",
    "    "
   ]
  },
  {
   "cell_type": "code",
   "execution_count": 31,
   "id": "1a26804b",
   "metadata": {},
   "outputs": [
    {
     "data": {
      "text/html": [
       "<div>\n",
       "<style scoped>\n",
       "    .dataframe tbody tr th:only-of-type {\n",
       "        vertical-align: middle;\n",
       "    }\n",
       "\n",
       "    .dataframe tbody tr th {\n",
       "        vertical-align: top;\n",
       "    }\n",
       "\n",
       "    .dataframe thead th {\n",
       "        text-align: right;\n",
       "    }\n",
       "</style>\n",
       "<table border=\"1\" class=\"dataframe\">\n",
       "  <thead>\n",
       "    <tr style=\"text-align: right;\">\n",
       "      <th></th>\n",
       "      <th>A</th>\n",
       "      <th>B</th>\n",
       "      <th>C</th>\n",
       "    </tr>\n",
       "  </thead>\n",
       "  <tbody>\n",
       "    <tr>\n",
       "      <th>2024-02-01</th>\n",
       "      <td>170</td>\n",
       "      <td>100</td>\n",
       "      <td>50</td>\n",
       "    </tr>\n",
       "    <tr>\n",
       "      <th>2024-02-02</th>\n",
       "      <td>170</td>\n",
       "      <td>100</td>\n",
       "      <td>50</td>\n",
       "    </tr>\n",
       "    <tr>\n",
       "      <th>2024-02-03</th>\n",
       "      <td>200</td>\n",
       "      <td>100</td>\n",
       "      <td>50</td>\n",
       "    </tr>\n",
       "    <tr>\n",
       "      <th>2024-02-04</th>\n",
       "      <td>200</td>\n",
       "      <td>100</td>\n",
       "      <td>50</td>\n",
       "    </tr>\n",
       "    <tr>\n",
       "      <th>2024-02-05</th>\n",
       "      <td>200</td>\n",
       "      <td>100</td>\n",
       "      <td>50</td>\n",
       "    </tr>\n",
       "    <tr>\n",
       "      <th>2024-02-06</th>\n",
       "      <td>200</td>\n",
       "      <td>100</td>\n",
       "      <td>50</td>\n",
       "    </tr>\n",
       "    <tr>\n",
       "      <th>2024-02-07</th>\n",
       "      <td>200</td>\n",
       "      <td>100</td>\n",
       "      <td>50</td>\n",
       "    </tr>\n",
       "    <tr>\n",
       "      <th>2024-02-08</th>\n",
       "      <td>200</td>\n",
       "      <td>100</td>\n",
       "      <td>50</td>\n",
       "    </tr>\n",
       "    <tr>\n",
       "      <th>2024-02-09</th>\n",
       "      <td>200</td>\n",
       "      <td>100</td>\n",
       "      <td>50</td>\n",
       "    </tr>\n",
       "    <tr>\n",
       "      <th>2024-02-10</th>\n",
       "      <td>200</td>\n",
       "      <td>100</td>\n",
       "      <td>50</td>\n",
       "    </tr>\n",
       "  </tbody>\n",
       "</table>\n",
       "</div>"
      ],
      "text/plain": [
       "              A    B   C\n",
       "2024-02-01  170  100  50\n",
       "2024-02-02  170  100  50\n",
       "2024-02-03  200  100  50\n",
       "2024-02-04  200  100  50\n",
       "2024-02-05  200  100  50\n",
       "2024-02-06  200  100  50\n",
       "2024-02-07  200  100  50\n",
       "2024-02-08  200  100  50\n",
       "2024-02-09  200  100  50\n",
       "2024-02-10  200  100  50"
      ]
     },
     "execution_count": 31,
     "metadata": {},
     "output_type": "execute_result"
    }
   ],
   "source": [
    "면적달력 = update_면적달력(면적달력, 최선조기착수대상, \"S4\", df1)\n",
    "면적달력.head(10)"
   ]
  },
  {
   "cell_type": "markdown",
   "id": "692f6bfa",
   "metadata": {},
   "source": [
    "# 정반면적 조건 적합도 검토"
   ]
  },
  {
   "cell_type": "markdown",
   "id": "1e465264",
   "metadata": {},
   "source": [
    "## 함수 정의"
   ]
  },
  {
   "cell_type": "code",
   "execution_count": 32,
   "id": "3c774c4b",
   "metadata": {},
   "outputs": [],
   "source": [
    "def 정반세팅(사이즈):  #사이즈 = (10, 10)\n",
    "    surface_width, surface_height = 사이즈[0], 사이즈[1]  # Adjusted to match the provided image for demonstration\n",
    "    surface = np.zeros((surface_height, surface_width), dtype=int)\n",
    "    return surface, surface_width, surface_height"
   ]
  },
  {
   "cell_type": "code",
   "execution_count": 33,
   "id": "67927c96",
   "metadata": {},
   "outputs": [],
   "source": [
    "# Function to check if a block can be placed on the surface\n",
    "def can_place(surface, surface_width, surface_height, block, start_row, start_col):\n",
    "    block_height, block_width = block\n",
    "    if start_row + block_height > surface_height or start_col + block_width > surface_width:\n",
    "        return False\n",
    "    return np.all(surface[start_row:start_row + block_height, start_col:start_col + block_width] == 0)\n",
    "\n",
    "# Function to place a block on the surface, if possible\n",
    "def place_block(surface, block, start_row, start_col, block_id):\n",
    "    block_height, block_width = block\n",
    "    surface[start_row:start_row + block_height, start_col:start_col + block_width] = block_id\n",
    "\n",
    "# Function to find the best fit for a block on the surface\n",
    "def find_best_fit(surface, surface_width, surface_height, block, block_id):\n",
    "    best_fit_score = float('inf')\n",
    "    best_position = None\n",
    "    block_height, block_width = block\n",
    "\n",
    "    # Iterate over all possible positions on the surface\n",
    "    for y in range(surface_height - block_height + 1):\n",
    "        for x in range(surface_width - block_width + 1):\n",
    "            if can_place(surface, surface_width, surface_height, block, y, x):\n",
    "                # Calculate a score; here we use the top-left corner (y, x) as the score\n",
    "                # A lower score means the block is closer to the top-left\n",
    "                score = y + x\n",
    "                if score < best_fit_score:\n",
    "                    best_fit_score = score\n",
    "                    best_position = (y, x)\n",
    "\n",
    "    # If a best position was found, place the block there\n",
    "    if best_position:\n",
    "        place_block(surface, block, *best_position, block_id)\n",
    "        return True\n",
    "    return False  # No fit found\n",
    "\n",
    "# Function to fit blocks on the surface in order\n",
    "def fit_blocks(surface, surface_width, surface_height, blocks, names):\n",
    "    result = \"\"\n",
    "    block_id = max(map(max, surface))+1  # Start numbering blocks from 1\n",
    "    for name, block in zip(names, blocks):\n",
    "        if not find_best_fit(surface, surface_width, surface_height, block, block_id):\n",
    "            print(f\"Block {block_id} of size {block} could not be placed.\")\n",
    "            result = \"부적합\"\n",
    "        else:\n",
    "            result = \"적합\"\n",
    "        block_id += 1  # Increment block_id for the next block\n",
    "    return surface, result"
   ]
  },
  {
   "cell_type": "code",
   "execution_count": 34,
   "id": "e03466d1",
   "metadata": {},
   "outputs": [],
   "source": [
    "def draw1(surface, block_names):\n",
    "    fig, ax = plt.subplots(figsize=(5, 5))\n",
    "\n",
    "    cmap = mcolors.ListedColormap(['white'] + ['C{}'.format(i) for i in range(len(block_names))])\n",
    "    norm = mcolors.BoundaryNorm(np.arange(0.5, len(block_names) + 2), cmap.N)\n",
    "\n",
    "    ax.imshow(surface, cmap=cmap, norm=norm)\n",
    "\n",
    "    for y in range(surface.shape[0]):\n",
    "        for x in range(surface.shape[1]):\n",
    "            if surface[y, x] != 0:\n",
    "                ax.text(x, y, str(block_names[surface[y, x]-1]), ha='center', va='center', color='black')\n",
    "                \n",
    "    ax.set_xticks(np.arange(-.5, surface.shape[1], 1), minor=True)\n",
    "    ax.set_yticks(np.arange(-.5, surface.shape[0], 1), minor=True)\n",
    "    ax.grid(which=\"minor\", color=\"black\", linestyle='-', linewidth=1)\n",
    "    ax.tick_params(which=\"minor\", size=0)\n",
    "\n",
    "    ax.set_xticks([])\n",
    "    ax.set_yticks([])\n",
    "\n",
    "    plt.show()"
   ]
  },
  {
   "cell_type": "markdown",
   "id": "3fe4d580",
   "metadata": {},
   "source": [
    "## 단순시뮬"
   ]
  },
  {
   "cell_type": "code",
   "execution_count": 35,
   "id": "0ca268c6",
   "metadata": {},
   "outputs": [
    {
     "data": {
      "text/plain": [
       "(array([[0, 0, 0, 0, 0, 0, 0, 0, 0, 0],\n",
       "        [0, 0, 0, 0, 0, 0, 0, 0, 0, 0],\n",
       "        [0, 0, 0, 0, 0, 0, 0, 0, 0, 0],\n",
       "        [0, 0, 0, 0, 0, 0, 0, 0, 0, 0],\n",
       "        [0, 0, 0, 0, 0, 0, 0, 0, 0, 0],\n",
       "        [0, 0, 0, 0, 0, 0, 0, 0, 0, 0],\n",
       "        [0, 0, 0, 0, 0, 0, 0, 0, 0, 0],\n",
       "        [0, 0, 0, 0, 0, 0, 0, 0, 0, 0],\n",
       "        [0, 0, 0, 0, 0, 0, 0, 0, 0, 0],\n",
       "        [0, 0, 0, 0, 0, 0, 0, 0, 0, 0]]),\n",
       " 10,\n",
       " 10)"
      ]
     },
     "execution_count": 35,
     "metadata": {},
     "output_type": "execute_result"
    }
   ],
   "source": [
    "사이즈 = (10, 10)\n",
    "surface, surface_width, surface_height = 정반세팅(사이즈)\n",
    "surface, surface_width, surface_height"
   ]
  },
  {
   "cell_type": "code",
   "execution_count": 36,
   "id": "8521f58d",
   "metadata": {},
   "outputs": [],
   "source": [
    "# Define the blocks we want to place with a unique ID for each block type\n",
    "block_sizes = [(2, 2), (3, 3), (2, 4), (4, 5), (2, 4), (2, 6), (2, 5), (4, 6), (2, 8), (4, 5)]  # Updated block list\n",
    "block_names = [\"S1\", \"S2\", \"S3\", \"S4\", \"S5\", \"S6\", \"S7\", \"S8\",\"S9\", \"S10\"]"
   ]
  },
  {
   "cell_type": "code",
   "execution_count": 37,
   "id": "f2a846e4",
   "metadata": {},
   "outputs": [
    {
     "name": "stdout",
     "output_type": "stream",
     "text": [
      "Block 8 of size (4, 6) could not be placed.\n",
      "Block 9 of size (2, 8) could not be placed.\n",
      "Block 10 of size (4, 5) could not be placed.\n"
     ]
    }
   ],
   "source": [
    "# Place the blocks on the surface\n",
    "results = fit_blocks(surface, surface_width, surface_height, block_sizes, block_names)\n",
    "surface = results[0]\n",
    "적합도 = results[1]"
   ]
  },
  {
   "cell_type": "code",
   "execution_count": 38,
   "id": "919164ca",
   "metadata": {
    "scrolled": false
   },
   "outputs": [
    {
     "data": {
      "image/png": "[encoded data removed]",
      "text/plain": [
       "<Figure size 360x360 with 1 Axes>"
      ]
     },
     "metadata": {},
     "output_type": "display_data"
    }
   ],
   "source": [
    "draw1(surface, block_names)"
   ]
  },
  {
   "cell_type": "markdown",
   "id": "25ea7f03",
   "metadata": {},
   "source": [
    "## 정반 한개에만 배치 시뮬"
   ]
  },
  {
   "cell_type": "code",
   "execution_count": 39,
   "id": "f892b41f",
   "metadata": {},
   "outputs": [
    {
     "data": {
      "text/plain": [
       "(array([[0, 0, 0, 0, 0, 0, 0, 0, 0, 0],\n",
       "        [0, 0, 0, 0, 0, 0, 0, 0, 0, 0],\n",
       "        [0, 0, 0, 0, 0, 0, 0, 0, 0, 0],\n",
       "        [0, 0, 0, 0, 0, 0, 0, 0, 0, 0],\n",
       "        [0, 0, 0, 0, 0, 0, 0, 0, 0, 0]]),\n",
       " 10,\n",
       " 5)"
      ]
     },
     "execution_count": 39,
     "metadata": {},
     "output_type": "execute_result"
    }
   ],
   "source": [
    "정반사이즈 = (10, 5)\n",
    "surface, surface_width, surface_height = 정반세팅(정반사이즈)\n",
    "surface, surface_width, surface_height"
   ]
  },
  {
   "cell_type": "code",
   "execution_count": 40,
   "id": "24ea841f",
   "metadata": {},
   "outputs": [],
   "source": [
    "block_sizes = []\n",
    "block_names = []"
   ]
  },
  {
   "cell_type": "code",
   "execution_count": 41,
   "id": "29aa5e12",
   "metadata": {},
   "outputs": [
    {
     "data": {
      "text/plain": [
       "([(3, 10)], ['A'])"
      ]
     },
     "execution_count": 41,
     "metadata": {},
     "output_type": "execute_result"
    }
   ],
   "source": [
    "블록사이즈 = (3, 10)\n",
    "블록명 = \"A\"\n",
    "block_size = [블록사이즈]\n",
    "block_name = [블록명]\n",
    "block_size, block_name"
   ]
  },
  {
   "cell_type": "code",
   "execution_count": 42,
   "id": "a1cbebde",
   "metadata": {},
   "outputs": [
    {
     "data": {
      "text/plain": [
       "'적합'"
      ]
     },
     "execution_count": 42,
     "metadata": {},
     "output_type": "execute_result"
    }
   ],
   "source": [
    "result = fit_blocks(surface, surface_width, surface_height, block_size, block_name)\n",
    "적합도 = result[1]\n",
    "적합도"
   ]
  },
  {
   "cell_type": "code",
   "execution_count": 43,
   "id": "8c7bebe1",
   "metadata": {},
   "outputs": [],
   "source": [
    "block_sizes.append(블록사이즈)\n",
    "block_names.append(블록명)\n",
    "surface, surface_width, surface_height = 정반세팅(사이즈)"
   ]
  },
  {
   "cell_type": "code",
   "execution_count": 44,
   "id": "e60158d3",
   "metadata": {},
   "outputs": [
    {
     "data": {
      "text/plain": [
       "array([[1, 1, 1, 1, 1, 1, 1, 1, 1, 1],\n",
       "       [1, 1, 1, 1, 1, 1, 1, 1, 1, 1],\n",
       "       [1, 1, 1, 1, 1, 1, 1, 1, 1, 1],\n",
       "       [0, 0, 0, 0, 0, 0, 0, 0, 0, 0],\n",
       "       [0, 0, 0, 0, 0, 0, 0, 0, 0, 0],\n",
       "       [0, 0, 0, 0, 0, 0, 0, 0, 0, 0],\n",
       "       [0, 0, 0, 0, 0, 0, 0, 0, 0, 0],\n",
       "       [0, 0, 0, 0, 0, 0, 0, 0, 0, 0],\n",
       "       [0, 0, 0, 0, 0, 0, 0, 0, 0, 0],\n",
       "       [0, 0, 0, 0, 0, 0, 0, 0, 0, 0]])"
      ]
     },
     "execution_count": 44,
     "metadata": {},
     "output_type": "execute_result"
    }
   ],
   "source": [
    "# Place the blocks on the surface\n",
    "results = fit_blocks(surface, surface_width, surface_height, block_sizes, block_names)\n",
    "surface = results[0]\n",
    "surface"
   ]
  },
  {
   "cell_type": "code",
   "execution_count": 45,
   "id": "00b1689a",
   "metadata": {
    "scrolled": true
   },
   "outputs": [
    {
     "data": {
      "image/png": "[encoded data removed]",
      "text/plain": [
       "<Figure size 360x360 with 1 Axes>"
      ]
     },
     "metadata": {},
     "output_type": "display_data"
    }
   ],
   "source": [
    "draw1(surface, block_names)"
   ]
  },
  {
   "cell_type": "code",
   "execution_count": 46,
   "id": "c581928a",
   "metadata": {},
   "outputs": [
    {
     "data": {
      "text/plain": [
       "([(2, 4)], ['B'])"
      ]
     },
     "execution_count": 46,
     "metadata": {},
     "output_type": "execute_result"
    }
   ],
   "source": [
    "block_size = [(2, 4)]\n",
    "block_name = [\"B\"]\n",
    "block_size, block_name"
   ]
  },
  {
   "cell_type": "code",
   "execution_count": 47,
   "id": "6b415292",
   "metadata": {},
   "outputs": [
    {
     "data": {
      "text/plain": [
       "'적합'"
      ]
     },
     "execution_count": 47,
     "metadata": {},
     "output_type": "execute_result"
    }
   ],
   "source": [
    "result = fit_blocks(surface, surface_width, surface_height, block_size, block_name)\n",
    "적합도 = result[1]\n",
    "적합도"
   ]
  },
  {
   "cell_type": "code",
   "execution_count": 48,
   "id": "4aa31dec",
   "metadata": {},
   "outputs": [
    {
     "data": {
      "text/plain": [
       "([(3, 10), (2, 4)], ['A', 'B'])"
      ]
     },
     "execution_count": 48,
     "metadata": {},
     "output_type": "execute_result"
    }
   ],
   "source": [
    "block_sizes = block_sizes + block_size\n",
    "block_names = block_names + block_name\n",
    "block_sizes, block_names\n",
    "\n",
    "surface, surface_width, surface_height = 정반세팅(사이즈)"
   ]
  },
  {
   "cell_type": "code",
   "execution_count": 49,
   "id": "4c2eb474",
   "metadata": {},
   "outputs": [
    {
     "data": {
      "text/plain": [
       "array([[1, 1, 1, 1, 1, 1, 1, 1, 1, 1],\n",
       "       [1, 1, 1, 1, 1, 1, 1, 1, 1, 1],\n",
       "       [1, 1, 1, 1, 1, 1, 1, 1, 1, 1],\n",
       "       [2, 2, 2, 2, 0, 0, 0, 0, 0, 0],\n",
       "       [2, 2, 2, 2, 0, 0, 0, 0, 0, 0],\n",
       "       [0, 0, 0, 0, 0, 0, 0, 0, 0, 0],\n",
       "       [0, 0, 0, 0, 0, 0, 0, 0, 0, 0],\n",
       "       [0, 0, 0, 0, 0, 0, 0, 0, 0, 0],\n",
       "       [0, 0, 0, 0, 0, 0, 0, 0, 0, 0],\n",
       "       [0, 0, 0, 0, 0, 0, 0, 0, 0, 0]])"
      ]
     },
     "execution_count": 49,
     "metadata": {},
     "output_type": "execute_result"
    },
    {
     "data": {
      "text/plain": [
       "'적합'"
      ]
     },
     "execution_count": 49,
     "metadata": {},
     "output_type": "execute_result"
    }
   ],
   "source": [
    "# Place the blocks on the surface\n",
    "results = fit_blocks(surface, surface_width, surface_height, block_sizes, block_names)\n",
    "surface = results[0]\n",
    "적합도 = results[1]\n",
    "surface\n",
    "적합도"
   ]
  },
  {
   "cell_type": "code",
   "execution_count": 50,
   "id": "1dfd3ee0",
   "metadata": {},
   "outputs": [
    {
     "data": {
      "image/png": "[encoded data removed]",
      "text/plain": [
       "<Figure size 360x360 with 1 Axes>"
      ]
     },
     "metadata": {},
     "output_type": "display_data"
    }
   ],
   "source": [
    "draw1(surface, block_names)"
   ]
  },
  {
   "cell_type": "markdown",
   "id": "f3bbc318",
   "metadata": {},
   "source": [
    "## 복수정반 배치 시뮬"
   ]
  },
  {
   "cell_type": "code",
   "execution_count": 51,
   "id": "dc96e8b6",
   "metadata": {},
   "outputs": [],
   "source": [
    "def 정반배치적합도체크(정반명, 정반데이터, 추가블록명, 블록데이터, 최선조기착수일):\n",
    "    global fin_results \n",
    "    \n",
    "  \n",
    "    정반사이즈 = 정반데이터[정반데이터[\"정반명\"]==정반명][\"사이즈\"].values[0]\n",
    "    블록사이즈 = 블록데이터[블록데이터[\"블록명\"]==추가블록명][\"사이즈\"].values[0]\n",
    "    \n",
    "    fin_results[정반명][\"block_sizes\"] = fin_results[정반명][\"block_sizes\"] + [블록사이즈]\n",
    "    fin_results[정반명][\"block_names\"] = fin_results[정반명][\"block_names\"] + [추가블록명]\n",
    "    fin_results[정반명][\"best_st_date\"] = fin_results[정반명][\"best_st_date\"] + [최선조기착수일]\n",
    "    \n",
    "    surface, surface_width, surface_height = 정반세팅(정반사이즈)\n",
    "    배치결과 = fit_blocks(surface, surface_width, surface_height, fin_results[정반명][\"block_sizes\"], fin_results[정반명][\"block_names\"])\n",
    "#     print(f\"배치결과: {배치결과[1]}\")\n",
    "    \n",
    "    if 배치결과[1] == \"적합\":\n",
    "        배치레이아웃 = 배치결과[0]\n",
    "#         draw1(배치레이아웃, fin_results[정반명][\"block_names\"])\n",
    "        \n",
    "    else:\n",
    "        fin_results[정반명][\"block_sizes\"].remove(블록사이즈)\n",
    "        fin_results[정반명][\"block_names\"].remove(추가블록명)\n",
    "        fin_results[정반명][\"best_st_date\"].remove(최선조기착수일)\n",
    "    \n",
    "    return 배치결과[1], fin_results"
   ]
  },
  {
   "cell_type": "code",
   "execution_count": 52,
   "id": "b9b7edfa",
   "metadata": {},
   "outputs": [],
   "source": [
    "fin_results = {\n",
    "\"A\": {\"block_sizes\":[], \"block_names\":[], \"best_st_date\":[]},\n",
    "\"B\": {\"block_sizes\":[], \"block_names\":[], \"best_st_date\":[]},\n",
    "      }"
   ]
  },
  {
   "cell_type": "code",
   "execution_count": 53,
   "id": "d0528bee",
   "metadata": {},
   "outputs": [
    {
     "data": {
      "text/plain": [
       "('적합',\n",
       " {'A': {'block_sizes': [(10, 12)],\n",
       "   'block_names': ['S2'],\n",
       "   'best_st_date': ['2024-02-01']},\n",
       "  'B': {'block_sizes': [], 'block_names': [], 'best_st_date': []}})"
      ]
     },
     "execution_count": 53,
     "metadata": {},
     "output_type": "execute_result"
    }
   ],
   "source": [
    "정반배치적합도체크(\"A\", df2, \"S2\", df1, \"2024-02-01\")"
   ]
  },
  {
   "cell_type": "code",
   "execution_count": 54,
   "id": "51fd17da",
   "metadata": {},
   "outputs": [
    {
     "name": "stdout",
     "output_type": "stream",
     "text": [
      "Block 2 of size (10, 12) could not be placed.\n"
     ]
    },
    {
     "data": {
      "text/plain": [
       "('부적합',\n",
       " {'A': {'block_sizes': [(10, 12)],\n",
       "   'block_names': ['S2'],\n",
       "   'best_st_date': ['2024-02-01']},\n",
       "  'B': {'block_sizes': [], 'block_names': [], 'best_st_date': []}})"
      ]
     },
     "execution_count": 54,
     "metadata": {},
     "output_type": "execute_result"
    }
   ],
   "source": [
    "정반배치적합도체크(\"A\", df2, \"S2\", df1, \"2024-02-01\")"
   ]
  },
  {
   "cell_type": "code",
   "execution_count": 55,
   "id": "bd840f46",
   "metadata": {},
   "outputs": [
    {
     "data": {
      "text/plain": [
       "('적합',\n",
       " {'A': {'block_sizes': [(10, 12), (5, 6)],\n",
       "   'block_names': ['S2', 'S3'],\n",
       "   'best_st_date': ['2024-02-01', '2024-02-01']},\n",
       "  'B': {'block_sizes': [], 'block_names': [], 'best_st_date': []}})"
      ]
     },
     "execution_count": 55,
     "metadata": {},
     "output_type": "execute_result"
    }
   ],
   "source": [
    "정반배치적합도체크(\"A\", df2, \"S3\", df1, \"2024-02-01\")"
   ]
  },
  {
   "cell_type": "markdown",
   "id": "69416b3c",
   "metadata": {},
   "source": [
    "# 생산계획수립"
   ]
  },
  {
   "cell_type": "code",
   "execution_count": 56,
   "id": "67400690",
   "metadata": {},
   "outputs": [],
   "source": [
    "def 생산계획수립(블록데이터, 정반데이터, 면적달력):\n",
    "    \n",
    "    블록리스트 = 블록데이터[\"블록명\"].tolist()\n",
    "    정반리스트 = 정반데이터[\"정반명\"].tolist()\n",
    "    \n",
    "    \n",
    "    \n",
    "#     면적달력 = create_면적달력(2024, 2, 2024, 2, 정반데이터)\n",
    "    \n",
    "    결론_블록리스트 = []\n",
    "    결론_정반리스트 = []\n",
    "    결론_착수일자 = []\n",
    "    \n",
    "        \n",
    "    for _ in tqdm(range(len(블록리스트))):\n",
    "        \n",
    "        if 블록리스트:\n",
    "            target_block = 블록리스트[0]\n",
    "        else:\n",
    "            print(\"수정블록리스트에 검토대상 잔여블록이 없습니다.\")\n",
    "            print()\n",
    "            break        \n",
    "        \n",
    "        블록 = 블록변수정리(블록데이터, target_block)\n",
    "        블록명 = 블록[\"블록명\"]\n",
    "        print(f\"검토대상블록: {블록명}\")\n",
    "        \n",
    "        ## 정반가능중량 조건 적합도 검토 ----------------------------------------------------------\n",
    "        result1 = []\n",
    "        for 정반 in 정반리스트:\n",
    "            중량적합도 = 정반가능중량검토(target_block, 블록데이터, 정반, 정반데이터)\n",
    "            if 중량적합도 == \"적합\":\n",
    "                result1.append(정반)\n",
    "        \n",
    "        print(f\"중량조건적합정반들: {result1}\")\n",
    "        \n",
    "\n",
    "        ## 최선조기착수일 검토 ---------------------------------------------------------------------\n",
    "        최선조기착수일후보 = get_최선조기착수일후보(면적달력, result1, target_block, 블록데이터)\n",
    "        print(f\"최선조기착수일후보: {최선조기착수일후보}\")\n",
    "        \n",
    "        '''\n",
    "        정반배치레이아웃 검토 위치 이동 필요\n",
    "        '''\n",
    "        \n",
    "        \n",
    "        \n",
    "        최선조기착수대상 = get_최선조기착수대상(최선조기착수일후보)  ##랜덤 셀렉트 적용\n",
    "        최선정반명 = 최선조기착수대상[0]\n",
    "        최선조기착수일 = 최선조기착수대상[1]\n",
    "        \n",
    "        print(f\"최선정반명:{최선정반명}, 최선조기착수일:{최선조기착수일}\")\n",
    "        print()\n",
    "        \n",
    "        ## 정반배치레이아웃검토---------------------------------------------------------------------------------        \n",
    "        정반배치적합도 = 정반배치적합도체크(최선정반명, 정반데이터, target_block, 블록데이터, 최선조기착수일)\n",
    "        print(정반배치적합도[0])\n",
    "        \n",
    "        if 정반배치적합도[0] == \"적합\":\n",
    "            결론_블록리스트.append(target_block)\n",
    "            결론_정반리스트.append(최선정반명)\n",
    "            결론_착수일자.append(최선조기착수일)\n",
    "            면적달력 = update_면적달력(면적달력, 최선조기착수대상, target_block, 블록데이터)\n",
    "            \n",
    "        else:\n",
    "            print(\"배치가능한 정반이 없습니다.\")\n",
    "        \n",
    "        블록리스트.remove(target_block)\n",
    "        print(f\"검토후 블록리스트 : {블록리스트}\")\n",
    "\n",
    "        print(\"=\"*70)\n",
    "        \n",
    "        \n",
    "    return 정반배치적합도, 결론_블록리스트, 결론_정반리스트, 결론_착수일자, 면적달력"
   ]
  },
  {
   "cell_type": "code",
   "execution_count": 77,
   "id": "08b0dc8b",
   "metadata": {},
   "outputs": [],
   "source": [
    "data_num = 1\n",
    "\n",
    "블록원데이터 = pd.read_excel(f\"./data/data{data_num}.xlsx\", sheet_name=\"블록데이터\")\n",
    "정반원데이터 = pd.read_excel(f\"./data/data{data_num}.xlsx\", sheet_name=\"정반데이터\")\n",
    "\n",
    "블록데이터 = 블록데이터전처리(블록원데이터)\n",
    "정반데이터 = 정반데이터전처리(정반원데이터)\n"
   ]
  },
  {
   "cell_type": "code",
   "execution_count": 78,
   "id": "2c058a05",
   "metadata": {
    "scrolled": true
   },
   "outputs": [
    {
     "name": "stderr",
     "output_type": "stream",
     "text": [
      "100%|█████████████████████████████████████████████████████████| 4/4 [00:00<00:00, 83.26it/s]"
     ]
    },
    {
     "name": "stdout",
     "output_type": "stream",
     "text": [
      "검토대상블록: S2\n",
      "중량조건적합정반들: ['A', 'B']\n",
      "블록명:S2, 블록면적:120, 표준공기:5\n",
      "대상정반:A, 최선조기착수일: 2024-02-01 00:00:00\n",
      "대상정반:B, 최선조기착수일: 2024-02-01 00:00:00\n",
      "최선조기착수일후보: {'A': Timestamp('2024-02-01 00:00:00', freq='D'), 'B': Timestamp('2024-02-01 00:00:00', freq='D')}\n",
      "최선정반명:B, 최선조기착수일:2024-02-01\n",
      "\n",
      "적합\n",
      "검토후 블록리스트 : ['S1', 'S4', 'S3']\n",
      "======================================================================\n",
      "검토대상블록: S1\n",
      "중량조건적합정반들: ['A', 'B']\n",
      "블록명:S1, 블록면적:90, 표준공기:8\n",
      "대상정반:A, 최선조기착수일: 2024-02-01 00:00:00\n",
      "대상정반:B, 최선조기착수일: 2024-02-06 00:00:00\n",
      "최선조기착수일후보: {'A': Timestamp('2024-02-01 00:00:00', freq='D'), 'B': Timestamp('2024-02-06 00:00:00', freq='D')}\n",
      "최선정반명:A, 최선조기착수일:2024-02-01\n",
      "\n",
      "적합\n",
      "검토후 블록리스트 : ['S4', 'S3']\n",
      "======================================================================\n",
      "검토대상블록: S4\n",
      "중량조건적합정반들: ['A', 'B', 'C']\n",
      "블록명:S4, 블록면적:30, 표준공기:6\n",
      "대상정반:A, 최선조기착수일: 2024-02-01 00:00:00\n",
      "대상정반:B, 최선조기착수일: 2024-02-01 00:00:00\n",
      "대상정반:C, 최선조기착수일: 2024-02-01 00:00:00\n",
      "최선조기착수일후보: {'A': Timestamp('2024-02-01 00:00:00', freq='D'), 'B': Timestamp('2024-02-01 00:00:00', freq='D'), 'C': Timestamp('2024-02-01 00:00:00', freq='D')}\n",
      "최선정반명:A, 최선조기착수일:2024-02-01\n",
      "\n",
      "적합\n",
      "검토후 블록리스트 : ['S3']\n",
      "======================================================================\n",
      "검토대상블록: S3\n",
      "중량조건적합정반들: ['A', 'B']\n",
      "블록명:S3, 블록면적:30, 표준공기:5\n",
      "대상정반:A, 최선조기착수일: 2024-02-01 00:00:00\n",
      "대상정반:B, 최선조기착수일: 2024-02-01 00:00:00\n",
      "최선조기착수일후보: {'A': Timestamp('2024-02-01 00:00:00', freq='D'), 'B': Timestamp('2024-02-01 00:00:00', freq='D')}\n",
      "최선정반명:A, 최선조기착수일:2024-02-01\n",
      "\n",
      "적합\n",
      "검토후 블록리스트 : []\n",
      "======================================================================\n"
     ]
    },
    {
     "name": "stderr",
     "output_type": "stream",
     "text": [
      "\n"
     ]
    }
   ],
   "source": [
    "fin_results = {\n",
    "\"A\": {\"block_sizes\":[], \"block_names\":[], \"best_st_date\":[]},\n",
    "\"B\": {\"block_sizes\":[], \"block_names\":[], \"best_st_date\":[]},\n",
    "\"C\": {\"block_sizes\":[], \"block_names\":[], \"best_st_date\":[]},\n",
    "\"D\": {\"block_sizes\":[], \"block_names\":[], \"best_st_date\":[]},\n",
    "      }\n",
    "\n",
    "면적달력 = create_면적달력(2024, 2, 2024, 2, 정반데이터)\n",
    "생산계획결과 = 생산계획수립(블록데이터, 정반데이터, 면적달력)"
   ]
  },
  {
   "cell_type": "code",
   "execution_count": 79,
   "id": "eb113687",
   "metadata": {
    "scrolled": false
   },
   "outputs": [],
   "source": [
    "정반배치적합도 = 생산계획결과[0]\n",
    "결론_블록리스트 = 생산계획결과[1]\n",
    "결론_정반리스트 = 생산계획결과[2]\n",
    "결론_착수일자 = 생산계획결과[3]\n",
    "면적달력result = 생산계획결과[4]"
   ]
  },
  {
   "cell_type": "code",
   "execution_count": 80,
   "id": "5dee4c19",
   "metadata": {
    "scrolled": true
   },
   "outputs": [
    {
     "data": {
      "text/plain": [
       "('적합',\n",
       " {'A': {'block_sizes': [(9, 10), (5, 6), (5, 6)],\n",
       "   'block_names': ['S1', 'S4', 'S3'],\n",
       "   'best_st_date': ['2024-02-01', '2024-02-01', '2024-02-01']},\n",
       "  'B': {'block_sizes': [(10, 12)],\n",
       "   'block_names': ['S2'],\n",
       "   'best_st_date': ['2024-02-01']},\n",
       "  'C': {'block_sizes': [], 'block_names': [], 'best_st_date': []},\n",
       "  'D': {'block_sizes': [], 'block_names': [], 'best_st_date': []}})"
      ]
     },
     "execution_count": 80,
     "metadata": {},
     "output_type": "execute_result"
    },
    {
     "data": {
      "text/plain": [
       "['S2', 'S1', 'S4', 'S3']"
      ]
     },
     "execution_count": 80,
     "metadata": {},
     "output_type": "execute_result"
    },
    {
     "data": {
      "text/plain": [
       "['B', 'A', 'A', 'A']"
      ]
     },
     "execution_count": 80,
     "metadata": {},
     "output_type": "execute_result"
    },
    {
     "data": {
      "text/plain": [
       "['2024-02-01', '2024-02-01', '2024-02-01', '2024-02-01']"
      ]
     },
     "execution_count": 80,
     "metadata": {},
     "output_type": "execute_result"
    },
    {
     "data": {
      "text/html": [
       "<div>\n",
       "<style scoped>\n",
       "    .dataframe tbody tr th:only-of-type {\n",
       "        vertical-align: middle;\n",
       "    }\n",
       "\n",
       "    .dataframe tbody tr th {\n",
       "        vertical-align: top;\n",
       "    }\n",
       "\n",
       "    .dataframe thead th {\n",
       "        text-align: right;\n",
       "    }\n",
       "</style>\n",
       "<table border=\"1\" class=\"dataframe\">\n",
       "  <thead>\n",
       "    <tr style=\"text-align: right;\">\n",
       "      <th></th>\n",
       "      <th>A</th>\n",
       "      <th>B</th>\n",
       "      <th>C</th>\n",
       "    </tr>\n",
       "  </thead>\n",
       "  <tbody>\n",
       "    <tr>\n",
       "      <th>2024-02-01</th>\n",
       "      <td>50</td>\n",
       "      <td>30</td>\n",
       "      <td>50</td>\n",
       "    </tr>\n",
       "    <tr>\n",
       "      <th>2024-02-02</th>\n",
       "      <td>50</td>\n",
       "      <td>30</td>\n",
       "      <td>50</td>\n",
       "    </tr>\n",
       "    <tr>\n",
       "      <th>2024-02-03</th>\n",
       "      <td>50</td>\n",
       "      <td>30</td>\n",
       "      <td>50</td>\n",
       "    </tr>\n",
       "    <tr>\n",
       "      <th>2024-02-04</th>\n",
       "      <td>50</td>\n",
       "      <td>30</td>\n",
       "      <td>50</td>\n",
       "    </tr>\n",
       "    <tr>\n",
       "      <th>2024-02-05</th>\n",
       "      <td>50</td>\n",
       "      <td>30</td>\n",
       "      <td>50</td>\n",
       "    </tr>\n",
       "    <tr>\n",
       "      <th>2024-02-06</th>\n",
       "      <td>80</td>\n",
       "      <td>150</td>\n",
       "      <td>50</td>\n",
       "    </tr>\n",
       "    <tr>\n",
       "      <th>2024-02-07</th>\n",
       "      <td>110</td>\n",
       "      <td>150</td>\n",
       "      <td>50</td>\n",
       "    </tr>\n",
       "    <tr>\n",
       "      <th>2024-02-08</th>\n",
       "      <td>110</td>\n",
       "      <td>150</td>\n",
       "      <td>50</td>\n",
       "    </tr>\n",
       "    <tr>\n",
       "      <th>2024-02-09</th>\n",
       "      <td>200</td>\n",
       "      <td>150</td>\n",
       "      <td>50</td>\n",
       "    </tr>\n",
       "    <tr>\n",
       "      <th>2024-02-10</th>\n",
       "      <td>200</td>\n",
       "      <td>150</td>\n",
       "      <td>50</td>\n",
       "    </tr>\n",
       "    <tr>\n",
       "      <th>2024-02-11</th>\n",
       "      <td>200</td>\n",
       "      <td>150</td>\n",
       "      <td>50</td>\n",
       "    </tr>\n",
       "    <tr>\n",
       "      <th>2024-02-12</th>\n",
       "      <td>200</td>\n",
       "      <td>150</td>\n",
       "      <td>50</td>\n",
       "    </tr>\n",
       "    <tr>\n",
       "      <th>2024-02-13</th>\n",
       "      <td>200</td>\n",
       "      <td>150</td>\n",
       "      <td>50</td>\n",
       "    </tr>\n",
       "    <tr>\n",
       "      <th>2024-02-14</th>\n",
       "      <td>200</td>\n",
       "      <td>150</td>\n",
       "      <td>50</td>\n",
       "    </tr>\n",
       "    <tr>\n",
       "      <th>2024-02-15</th>\n",
       "      <td>200</td>\n",
       "      <td>150</td>\n",
       "      <td>50</td>\n",
       "    </tr>\n",
       "    <tr>\n",
       "      <th>2024-02-16</th>\n",
       "      <td>200</td>\n",
       "      <td>150</td>\n",
       "      <td>50</td>\n",
       "    </tr>\n",
       "    <tr>\n",
       "      <th>2024-02-17</th>\n",
       "      <td>200</td>\n",
       "      <td>150</td>\n",
       "      <td>50</td>\n",
       "    </tr>\n",
       "    <tr>\n",
       "      <th>2024-02-18</th>\n",
       "      <td>200</td>\n",
       "      <td>150</td>\n",
       "      <td>50</td>\n",
       "    </tr>\n",
       "    <tr>\n",
       "      <th>2024-02-19</th>\n",
       "      <td>200</td>\n",
       "      <td>150</td>\n",
       "      <td>50</td>\n",
       "    </tr>\n",
       "    <tr>\n",
       "      <th>2024-02-20</th>\n",
       "      <td>200</td>\n",
       "      <td>150</td>\n",
       "      <td>50</td>\n",
       "    </tr>\n",
       "    <tr>\n",
       "      <th>2024-02-21</th>\n",
       "      <td>200</td>\n",
       "      <td>150</td>\n",
       "      <td>50</td>\n",
       "    </tr>\n",
       "    <tr>\n",
       "      <th>2024-02-22</th>\n",
       "      <td>200</td>\n",
       "      <td>150</td>\n",
       "      <td>50</td>\n",
       "    </tr>\n",
       "    <tr>\n",
       "      <th>2024-02-23</th>\n",
       "      <td>200</td>\n",
       "      <td>150</td>\n",
       "      <td>50</td>\n",
       "    </tr>\n",
       "    <tr>\n",
       "      <th>2024-02-24</th>\n",
       "      <td>200</td>\n",
       "      <td>150</td>\n",
       "      <td>50</td>\n",
       "    </tr>\n",
       "    <tr>\n",
       "      <th>2024-02-25</th>\n",
       "      <td>200</td>\n",
       "      <td>150</td>\n",
       "      <td>50</td>\n",
       "    </tr>\n",
       "    <tr>\n",
       "      <th>2024-02-26</th>\n",
       "      <td>200</td>\n",
       "      <td>150</td>\n",
       "      <td>50</td>\n",
       "    </tr>\n",
       "    <tr>\n",
       "      <th>2024-02-27</th>\n",
       "      <td>200</td>\n",
       "      <td>150</td>\n",
       "      <td>50</td>\n",
       "    </tr>\n",
       "    <tr>\n",
       "      <th>2024-02-28</th>\n",
       "      <td>200</td>\n",
       "      <td>150</td>\n",
       "      <td>50</td>\n",
       "    </tr>\n",
       "  </tbody>\n",
       "</table>\n",
       "</div>"
      ],
      "text/plain": [
       "              A    B   C\n",
       "2024-02-01   50   30  50\n",
       "2024-02-02   50   30  50\n",
       "2024-02-03   50   30  50\n",
       "2024-02-04   50   30  50\n",
       "2024-02-05   50   30  50\n",
       "2024-02-06   80  150  50\n",
       "2024-02-07  110  150  50\n",
       "2024-02-08  110  150  50\n",
       "2024-02-09  200  150  50\n",
       "2024-02-10  200  150  50\n",
       "2024-02-11  200  150  50\n",
       "2024-02-12  200  150  50\n",
       "2024-02-13  200  150  50\n",
       "2024-02-14  200  150  50\n",
       "2024-02-15  200  150  50\n",
       "2024-02-16  200  150  50\n",
       "2024-02-17  200  150  50\n",
       "2024-02-18  200  150  50\n",
       "2024-02-19  200  150  50\n",
       "2024-02-20  200  150  50\n",
       "2024-02-21  200  150  50\n",
       "2024-02-22  200  150  50\n",
       "2024-02-23  200  150  50\n",
       "2024-02-24  200  150  50\n",
       "2024-02-25  200  150  50\n",
       "2024-02-26  200  150  50\n",
       "2024-02-27  200  150  50\n",
       "2024-02-28  200  150  50"
      ]
     },
     "execution_count": 80,
     "metadata": {},
     "output_type": "execute_result"
    }
   ],
   "source": [
    "정반배치적합도\n",
    "결론_블록리스트\n",
    "결론_정반리스트\n",
    "결론_착수일자\n",
    "면적달력result"
   ]
  },
  {
   "cell_type": "markdown",
   "id": "82d10c55",
   "metadata": {},
   "source": [
    "# 결과정리 - 레이아웃 달력"
   ]
  },
  {
   "cell_type": "code",
   "execution_count": 81,
   "id": "88906202",
   "metadata": {},
   "outputs": [],
   "source": [
    "def 배치후_블록명달력(시작년:int, 시작월:int, 종료년:int, 종료월:int, result, 정반데이터, 블록데이터):\n",
    "    \n",
    "    start_date = datetime(시작년, 시작월, 1)\n",
    "    end_date = datetime(종료년, 종료월, 28)\n",
    "    정반집합 = 정반데이터[\"정반명\"].tolist()\n",
    "    날짜집합  = pd.date_range(start=start_date, end=end_date, freq='D')\n",
    "    \n",
    "    달력 = pd.DataFrame()\n",
    "    달력.index = 날짜집합\n",
    "   \n",
    "    for 정반 in 정반집합:\n",
    "\n",
    "        block_names = result[0][1][f\"{정반}\"][\"block_names\"]\n",
    "        best_st_date = result[0][1][f\"{정반}\"][\"best_st_date\"]\n",
    "        block_sizes = result[0][1][f\"{정반}\"][\"block_sizes\"]\n",
    "\n",
    "        결과모음 = [[] for _ in range(len(날짜집합))]\n",
    "\n",
    "        for block_name, 블록착수일 in zip(block_names, best_st_date):\n",
    "\n",
    "            시점인덱스 = list(달력.index.strftime('%Y-%m-%d')).index(블록착수일)\n",
    "            표준공기 = 블록데이터[블록데이터[\"블록명\"]==block_name][\"표준공기\"].values[0]\n",
    "\n",
    "            for i in 결과모음[시점인덱스:시점인덱스+표준공기]:\n",
    "                i.append(block_name)\n",
    "            달력[f\"{정반}\"] = 결과모음\n",
    "        \n",
    "    return 달력"
   ]
  },
  {
   "cell_type": "code",
   "execution_count": 82,
   "id": "194f6980",
   "metadata": {
    "scrolled": true
   },
   "outputs": [
    {
     "data": {
      "text/html": [
       "<div>\n",
       "<style scoped>\n",
       "    .dataframe tbody tr th:only-of-type {\n",
       "        vertical-align: middle;\n",
       "    }\n",
       "\n",
       "    .dataframe tbody tr th {\n",
       "        vertical-align: top;\n",
       "    }\n",
       "\n",
       "    .dataframe thead th {\n",
       "        text-align: right;\n",
       "    }\n",
       "</style>\n",
       "<table border=\"1\" class=\"dataframe\">\n",
       "  <thead>\n",
       "    <tr style=\"text-align: right;\">\n",
       "      <th></th>\n",
       "      <th>A</th>\n",
       "      <th>B</th>\n",
       "    </tr>\n",
       "  </thead>\n",
       "  <tbody>\n",
       "    <tr>\n",
       "      <th>2024-02-01</th>\n",
       "      <td>[S1, S4, S3]</td>\n",
       "      <td>[S2]</td>\n",
       "    </tr>\n",
       "    <tr>\n",
       "      <th>2024-02-02</th>\n",
       "      <td>[S1, S4, S3]</td>\n",
       "      <td>[S2]</td>\n",
       "    </tr>\n",
       "    <tr>\n",
       "      <th>2024-02-03</th>\n",
       "      <td>[S1, S4, S3]</td>\n",
       "      <td>[S2]</td>\n",
       "    </tr>\n",
       "    <tr>\n",
       "      <th>2024-02-04</th>\n",
       "      <td>[S1, S4, S3]</td>\n",
       "      <td>[S2]</td>\n",
       "    </tr>\n",
       "    <tr>\n",
       "      <th>2024-02-05</th>\n",
       "      <td>[S1, S4, S3]</td>\n",
       "      <td>[S2]</td>\n",
       "    </tr>\n",
       "    <tr>\n",
       "      <th>2024-02-06</th>\n",
       "      <td>[S1, S4]</td>\n",
       "      <td>[]</td>\n",
       "    </tr>\n",
       "    <tr>\n",
       "      <th>2024-02-07</th>\n",
       "      <td>[S1]</td>\n",
       "      <td>[]</td>\n",
       "    </tr>\n",
       "    <tr>\n",
       "      <th>2024-02-08</th>\n",
       "      <td>[S1]</td>\n",
       "      <td>[]</td>\n",
       "    </tr>\n",
       "    <tr>\n",
       "      <th>2024-02-09</th>\n",
       "      <td>[]</td>\n",
       "      <td>[]</td>\n",
       "    </tr>\n",
       "    <tr>\n",
       "      <th>2024-02-10</th>\n",
       "      <td>[]</td>\n",
       "      <td>[]</td>\n",
       "    </tr>\n",
       "    <tr>\n",
       "      <th>2024-02-11</th>\n",
       "      <td>[]</td>\n",
       "      <td>[]</td>\n",
       "    </tr>\n",
       "    <tr>\n",
       "      <th>2024-02-12</th>\n",
       "      <td>[]</td>\n",
       "      <td>[]</td>\n",
       "    </tr>\n",
       "    <tr>\n",
       "      <th>2024-02-13</th>\n",
       "      <td>[]</td>\n",
       "      <td>[]</td>\n",
       "    </tr>\n",
       "    <tr>\n",
       "      <th>2024-02-14</th>\n",
       "      <td>[]</td>\n",
       "      <td>[]</td>\n",
       "    </tr>\n",
       "    <tr>\n",
       "      <th>2024-02-15</th>\n",
       "      <td>[]</td>\n",
       "      <td>[]</td>\n",
       "    </tr>\n",
       "    <tr>\n",
       "      <th>2024-02-16</th>\n",
       "      <td>[]</td>\n",
       "      <td>[]</td>\n",
       "    </tr>\n",
       "    <tr>\n",
       "      <th>2024-02-17</th>\n",
       "      <td>[]</td>\n",
       "      <td>[]</td>\n",
       "    </tr>\n",
       "    <tr>\n",
       "      <th>2024-02-18</th>\n",
       "      <td>[]</td>\n",
       "      <td>[]</td>\n",
       "    </tr>\n",
       "    <tr>\n",
       "      <th>2024-02-19</th>\n",
       "      <td>[]</td>\n",
       "      <td>[]</td>\n",
       "    </tr>\n",
       "    <tr>\n",
       "      <th>2024-02-20</th>\n",
       "      <td>[]</td>\n",
       "      <td>[]</td>\n",
       "    </tr>\n",
       "    <tr>\n",
       "      <th>2024-02-21</th>\n",
       "      <td>[]</td>\n",
       "      <td>[]</td>\n",
       "    </tr>\n",
       "    <tr>\n",
       "      <th>2024-02-22</th>\n",
       "      <td>[]</td>\n",
       "      <td>[]</td>\n",
       "    </tr>\n",
       "    <tr>\n",
       "      <th>2024-02-23</th>\n",
       "      <td>[]</td>\n",
       "      <td>[]</td>\n",
       "    </tr>\n",
       "    <tr>\n",
       "      <th>2024-02-24</th>\n",
       "      <td>[]</td>\n",
       "      <td>[]</td>\n",
       "    </tr>\n",
       "    <tr>\n",
       "      <th>2024-02-25</th>\n",
       "      <td>[]</td>\n",
       "      <td>[]</td>\n",
       "    </tr>\n",
       "    <tr>\n",
       "      <th>2024-02-26</th>\n",
       "      <td>[]</td>\n",
       "      <td>[]</td>\n",
       "    </tr>\n",
       "    <tr>\n",
       "      <th>2024-02-27</th>\n",
       "      <td>[]</td>\n",
       "      <td>[]</td>\n",
       "    </tr>\n",
       "    <tr>\n",
       "      <th>2024-02-28</th>\n",
       "      <td>[]</td>\n",
       "      <td>[]</td>\n",
       "    </tr>\n",
       "  </tbody>\n",
       "</table>\n",
       "</div>"
      ],
      "text/plain": [
       "                       A     B\n",
       "2024-02-01  [S1, S4, S3]  [S2]\n",
       "2024-02-02  [S1, S4, S3]  [S2]\n",
       "2024-02-03  [S1, S4, S3]  [S2]\n",
       "2024-02-04  [S1, S4, S3]  [S2]\n",
       "2024-02-05  [S1, S4, S3]  [S2]\n",
       "2024-02-06      [S1, S4]    []\n",
       "2024-02-07          [S1]    []\n",
       "2024-02-08          [S1]    []\n",
       "2024-02-09            []    []\n",
       "2024-02-10            []    []\n",
       "2024-02-11            []    []\n",
       "2024-02-12            []    []\n",
       "2024-02-13            []    []\n",
       "2024-02-14            []    []\n",
       "2024-02-15            []    []\n",
       "2024-02-16            []    []\n",
       "2024-02-17            []    []\n",
       "2024-02-18            []    []\n",
       "2024-02-19            []    []\n",
       "2024-02-20            []    []\n",
       "2024-02-21            []    []\n",
       "2024-02-22            []    []\n",
       "2024-02-23            []    []\n",
       "2024-02-24            []    []\n",
       "2024-02-25            []    []\n",
       "2024-02-26            []    []\n",
       "2024-02-27            []    []\n",
       "2024-02-28            []    []"
      ]
     },
     "execution_count": 82,
     "metadata": {},
     "output_type": "execute_result"
    }
   ],
   "source": [
    "블록명달력 = 배치후_블록명달력(2024, 2, 2024, 2, 생산계획결과, 정반데이터, 블록데이터)\n",
    "블록명달력"
   ]
  },
  {
   "cell_type": "code",
   "execution_count": 83,
   "id": "fb613b0a",
   "metadata": {},
   "outputs": [],
   "source": [
    "def 배치후_블록사이즈달력(시작년:int, 시작월:int, 종료년:int, 종료월:int, result, 정반데이터, 블록데이터):\n",
    "    \n",
    "    start_date = datetime(시작년, 시작월, 1)\n",
    "    end_date = datetime(종료년, 종료월, 28)\n",
    "    정반집합 = 정반데이터[\"정반명\"].tolist()\n",
    "    날짜집합  = pd.date_range(start=start_date, end=end_date, freq='D')\n",
    "    \n",
    "    달력 = pd.DataFrame()\n",
    "    달력.index = 날짜집합\n",
    "   \n",
    "    for 정반 in 정반집합:\n",
    "\n",
    "        block_names = result[0][1][f\"{정반}\"][\"block_names\"]\n",
    "        best_st_date = result[0][1][f\"{정반}\"][\"best_st_date\"]\n",
    "        block_sizes = result[0][1][f\"{정반}\"][\"block_sizes\"]\n",
    "\n",
    "        결과모음 = [[] for _ in range(len(날짜집합))]\n",
    "\n",
    "        for block_name, 블록착수일 in zip(block_names, best_st_date):\n",
    "\n",
    "            시점인덱스 = list(달력.index.strftime('%Y-%m-%d')).index(블록착수일)\n",
    "            표준공기 = 블록데이터[블록데이터[\"블록명\"]==block_name][\"표준공기\"].values[0]\n",
    "            블록사이즈 = 블록데이터[블록데이터[\"블록명\"]==block_name][\"사이즈\"].values[0]\n",
    "\n",
    "            for i in 결과모음[시점인덱스:시점인덱스+표준공기]:\n",
    "                i.append(블록사이즈)\n",
    "            달력[f\"{정반}\"] = 결과모음\n",
    "        \n",
    "    return 달력"
   ]
  },
  {
   "cell_type": "code",
   "execution_count": 84,
   "id": "ccfea02b",
   "metadata": {
    "scrolled": true
   },
   "outputs": [
    {
     "data": {
      "text/html": [
       "<div>\n",
       "<style scoped>\n",
       "    .dataframe tbody tr th:only-of-type {\n",
       "        vertical-align: middle;\n",
       "    }\n",
       "\n",
       "    .dataframe tbody tr th {\n",
       "        vertical-align: top;\n",
       "    }\n",
       "\n",
       "    .dataframe thead th {\n",
       "        text-align: right;\n",
       "    }\n",
       "</style>\n",
       "<table border=\"1\" class=\"dataframe\">\n",
       "  <thead>\n",
       "    <tr style=\"text-align: right;\">\n",
       "      <th></th>\n",
       "      <th>A</th>\n",
       "      <th>B</th>\n",
       "    </tr>\n",
       "  </thead>\n",
       "  <tbody>\n",
       "    <tr>\n",
       "      <th>2024-02-01</th>\n",
       "      <td>[(9, 10), (5, 6), (5, 6)]</td>\n",
       "      <td>[(10, 12)]</td>\n",
       "    </tr>\n",
       "    <tr>\n",
       "      <th>2024-02-02</th>\n",
       "      <td>[(9, 10), (5, 6), (5, 6)]</td>\n",
       "      <td>[(10, 12)]</td>\n",
       "    </tr>\n",
       "    <tr>\n",
       "      <th>2024-02-03</th>\n",
       "      <td>[(9, 10), (5, 6), (5, 6)]</td>\n",
       "      <td>[(10, 12)]</td>\n",
       "    </tr>\n",
       "    <tr>\n",
       "      <th>2024-02-04</th>\n",
       "      <td>[(9, 10), (5, 6), (5, 6)]</td>\n",
       "      <td>[(10, 12)]</td>\n",
       "    </tr>\n",
       "    <tr>\n",
       "      <th>2024-02-05</th>\n",
       "      <td>[(9, 10), (5, 6), (5, 6)]</td>\n",
       "      <td>[(10, 12)]</td>\n",
       "    </tr>\n",
       "    <tr>\n",
       "      <th>2024-02-06</th>\n",
       "      <td>[(9, 10), (5, 6)]</td>\n",
       "      <td>[]</td>\n",
       "    </tr>\n",
       "    <tr>\n",
       "      <th>2024-02-07</th>\n",
       "      <td>[(9, 10)]</td>\n",
       "      <td>[]</td>\n",
       "    </tr>\n",
       "    <tr>\n",
       "      <th>2024-02-08</th>\n",
       "      <td>[(9, 10)]</td>\n",
       "      <td>[]</td>\n",
       "    </tr>\n",
       "    <tr>\n",
       "      <th>2024-02-09</th>\n",
       "      <td>[]</td>\n",
       "      <td>[]</td>\n",
       "    </tr>\n",
       "    <tr>\n",
       "      <th>2024-02-10</th>\n",
       "      <td>[]</td>\n",
       "      <td>[]</td>\n",
       "    </tr>\n",
       "    <tr>\n",
       "      <th>2024-02-11</th>\n",
       "      <td>[]</td>\n",
       "      <td>[]</td>\n",
       "    </tr>\n",
       "    <tr>\n",
       "      <th>2024-02-12</th>\n",
       "      <td>[]</td>\n",
       "      <td>[]</td>\n",
       "    </tr>\n",
       "    <tr>\n",
       "      <th>2024-02-13</th>\n",
       "      <td>[]</td>\n",
       "      <td>[]</td>\n",
       "    </tr>\n",
       "    <tr>\n",
       "      <th>2024-02-14</th>\n",
       "      <td>[]</td>\n",
       "      <td>[]</td>\n",
       "    </tr>\n",
       "    <tr>\n",
       "      <th>2024-02-15</th>\n",
       "      <td>[]</td>\n",
       "      <td>[]</td>\n",
       "    </tr>\n",
       "    <tr>\n",
       "      <th>2024-02-16</th>\n",
       "      <td>[]</td>\n",
       "      <td>[]</td>\n",
       "    </tr>\n",
       "    <tr>\n",
       "      <th>2024-02-17</th>\n",
       "      <td>[]</td>\n",
       "      <td>[]</td>\n",
       "    </tr>\n",
       "    <tr>\n",
       "      <th>2024-02-18</th>\n",
       "      <td>[]</td>\n",
       "      <td>[]</td>\n",
       "    </tr>\n",
       "    <tr>\n",
       "      <th>2024-02-19</th>\n",
       "      <td>[]</td>\n",
       "      <td>[]</td>\n",
       "    </tr>\n",
       "    <tr>\n",
       "      <th>2024-02-20</th>\n",
       "      <td>[]</td>\n",
       "      <td>[]</td>\n",
       "    </tr>\n",
       "    <tr>\n",
       "      <th>2024-02-21</th>\n",
       "      <td>[]</td>\n",
       "      <td>[]</td>\n",
       "    </tr>\n",
       "    <tr>\n",
       "      <th>2024-02-22</th>\n",
       "      <td>[]</td>\n",
       "      <td>[]</td>\n",
       "    </tr>\n",
       "    <tr>\n",
       "      <th>2024-02-23</th>\n",
       "      <td>[]</td>\n",
       "      <td>[]</td>\n",
       "    </tr>\n",
       "    <tr>\n",
       "      <th>2024-02-24</th>\n",
       "      <td>[]</td>\n",
       "      <td>[]</td>\n",
       "    </tr>\n",
       "    <tr>\n",
       "      <th>2024-02-25</th>\n",
       "      <td>[]</td>\n",
       "      <td>[]</td>\n",
       "    </tr>\n",
       "    <tr>\n",
       "      <th>2024-02-26</th>\n",
       "      <td>[]</td>\n",
       "      <td>[]</td>\n",
       "    </tr>\n",
       "    <tr>\n",
       "      <th>2024-02-27</th>\n",
       "      <td>[]</td>\n",
       "      <td>[]</td>\n",
       "    </tr>\n",
       "    <tr>\n",
       "      <th>2024-02-28</th>\n",
       "      <td>[]</td>\n",
       "      <td>[]</td>\n",
       "    </tr>\n",
       "  </tbody>\n",
       "</table>\n",
       "</div>"
      ],
      "text/plain": [
       "                                    A           B\n",
       "2024-02-01  [(9, 10), (5, 6), (5, 6)]  [(10, 12)]\n",
       "2024-02-02  [(9, 10), (5, 6), (5, 6)]  [(10, 12)]\n",
       "2024-02-03  [(9, 10), (5, 6), (5, 6)]  [(10, 12)]\n",
       "2024-02-04  [(9, 10), (5, 6), (5, 6)]  [(10, 12)]\n",
       "2024-02-05  [(9, 10), (5, 6), (5, 6)]  [(10, 12)]\n",
       "2024-02-06          [(9, 10), (5, 6)]          []\n",
       "2024-02-07                  [(9, 10)]          []\n",
       "2024-02-08                  [(9, 10)]          []\n",
       "2024-02-09                         []          []\n",
       "2024-02-10                         []          []\n",
       "2024-02-11                         []          []\n",
       "2024-02-12                         []          []\n",
       "2024-02-13                         []          []\n",
       "2024-02-14                         []          []\n",
       "2024-02-15                         []          []\n",
       "2024-02-16                         []          []\n",
       "2024-02-17                         []          []\n",
       "2024-02-18                         []          []\n",
       "2024-02-19                         []          []\n",
       "2024-02-20                         []          []\n",
       "2024-02-21                         []          []\n",
       "2024-02-22                         []          []\n",
       "2024-02-23                         []          []\n",
       "2024-02-24                         []          []\n",
       "2024-02-25                         []          []\n",
       "2024-02-26                         []          []\n",
       "2024-02-27                         []          []\n",
       "2024-02-28                         []          []"
      ]
     },
     "execution_count": 84,
     "metadata": {},
     "output_type": "execute_result"
    }
   ],
   "source": [
    "블록사이즈달력 = 배치후_블록사이즈달력(2024, 2, 2024, 2, 생산계획결과, 정반데이터, 블록데이터)\n",
    "블록사이즈달력"
   ]
  },
  {
   "cell_type": "code",
   "execution_count": 85,
   "id": "826c3383",
   "metadata": {},
   "outputs": [],
   "source": [
    "def 정반배치레이아웃(정반명, 정반데이터, 조회날짜, 블록명달력, 블록사이즈달력):\n",
    "    \n",
    "    정반사이즈 = 정반데이터[정반데이터[\"정반명\"]==정반명][\"사이즈\"].values[0]\n",
    "    block_names = 블록명달력.at[조회날짜, 정반명]\n",
    "    block_sizes = 블록사이즈달력.at[조회날짜, 정반명]\n",
    "    \n",
    "    print(정반사이즈, block_names, block_sizes)\n",
    "    \n",
    "    surface, surface_width, surface_height = 정반세팅(정반사이즈)\n",
    "    배치결과 = fit_blocks(surface, surface_width, surface_height, block_sizes, block_names)\n",
    "    배치레이아웃 = 배치결과[0]\n",
    "    draw1(배치레이아웃, block_names)\n"
   ]
  },
  {
   "cell_type": "code",
   "execution_count": 86,
   "id": "959121d9",
   "metadata": {
    "scrolled": true
   },
   "outputs": [
    {
     "name": "stdout",
     "output_type": "stream",
     "text": [
      "(20, 10) ['S1', 'S4', 'S3'] [(9, 10), (5, 6), (5, 6)]\n"
     ]
    },
    {
     "data": {
      "image/png": "[encoded data removed]",
      "text/plain": [
       "<Figure size 360x360 with 1 Axes>"
      ]
     },
     "metadata": {},
     "output_type": "display_data"
    },
    {
     "name": "stdout",
     "output_type": "stream",
     "text": [
      "(20, 10) ['S1', 'S4', 'S3'] [(9, 10), (5, 6), (5, 6)]\n"
     ]
    },
    {
     "data": {
      "image/png": "[encoded data removed]",
      "text/plain": [
       "<Figure size 360x360 with 1 Axes>"
      ]
     },
     "metadata": {},
     "output_type": "display_data"
    },
    {
     "name": "stdout",
     "output_type": "stream",
     "text": [
      "(20, 10) ['S1', 'S4', 'S3'] [(9, 10), (5, 6), (5, 6)]\n"
     ]
    },
    {
     "data": {
      "image/png": "[encoded data removed]",
      "text/plain": [
       "<Figure size 360x360 with 1 Axes>"
      ]
     },
     "metadata": {},
     "output_type": "display_data"
    },
    {
     "name": "stdout",
     "output_type": "stream",
     "text": [
      "(20, 10) ['S1', 'S4', 'S3'] [(9, 10), (5, 6), (5, 6)]\n"
     ]
    },
    {
     "data": {
      "image/png": "[encoded data removed]",
      "text/plain": [
       "<Figure size 360x360 with 1 Axes>"
      ]
     },
     "metadata": {},
     "output_type": "display_data"
    },
    {
     "name": "stdout",
     "output_type": "stream",
     "text": [
      "(20, 10) ['S1', 'S4', 'S3'] [(9, 10), (5, 6), (5, 6)]\n"
     ]
    },
    {
     "data": {
      "image/png": "[encoded data removed]",
      "text/plain": [
       "<Figure size 360x360 with 1 Axes>"
      ]
     },
     "metadata": {},
     "output_type": "display_data"
    },
    {
     "name": "stdout",
     "output_type": "stream",
     "text": [
      "(20, 10) ['S1', 'S4'] [(9, 10), (5, 6)]\n"
     ]
    },
    {
     "data": {
      "image/png": "[encoded data removed]",
      "text/plain": [
       "<Figure size 360x360 with 1 Axes>"
      ]
     },
     "metadata": {},
     "output_type": "display_data"
    },
    {
     "name": "stdout",
     "output_type": "stream",
     "text": [
      "(20, 10) ['S1'] [(9, 10)]\n"
     ]
    },
    {
     "data": {
      "image/png": "[encoded data removed]",
      "text/plain": [
       "<Figure size 360x360 with 1 Axes>"
      ]
     },
     "metadata": {},
     "output_type": "display_data"
    },
    {
     "name": "stdout",
     "output_type": "stream",
     "text": [
      "(20, 10) ['S1'] [(9, 10)]\n"
     ]
    },
    {
     "data": {
      "image/png": "[encoded data removed]",
      "text/plain": [
       "<Figure size 360x360 with 1 Axes>"
      ]
     },
     "metadata": {},
     "output_type": "display_data"
    },
    {
     "name": "stdout",
     "output_type": "stream",
     "text": [
      "(20, 10) [] []\n"
     ]
    },
    {
     "data": {
      "image/png": "[encoded data removed]",
      "text/plain": [
       "<Figure size 360x360 with 1 Axes>"
      ]
     },
     "metadata": {},
     "output_type": "display_data"
    }
   ],
   "source": [
    "for data in 면적달력.index[:9]:\n",
    "    정반배치레이아웃(\"A\", 정반데이터, data, 블록명달력, 블록사이즈달력)"
   ]
  },
  {
   "cell_type": "code",
   "execution_count": 87,
   "id": "84068545",
   "metadata": {
    "scrolled": true
   },
   "outputs": [
    {
     "name": "stdout",
     "output_type": "stream",
     "text": [
      "(15, 10) ['S2'] [(10, 12)]\n"
     ]
    },
    {
     "data": {
      "image/png": "[encoded data removed]",
      "text/plain": [
       "<Figure size 360x360 with 1 Axes>"
      ]
     },
     "metadata": {},
     "output_type": "display_data"
    },
    {
     "name": "stdout",
     "output_type": "stream",
     "text": [
      "(15, 10) ['S2'] [(10, 12)]\n"
     ]
    },
    {
     "data": {
      "image/png": "[encoded data removed]",
      "text/plain": [
       "<Figure size 360x360 with 1 Axes>"
      ]
     },
     "metadata": {},
     "output_type": "display_data"
    },
    {
     "name": "stdout",
     "output_type": "stream",
     "text": [
      "(15, 10) ['S2'] [(10, 12)]\n"
     ]
    },
    {
     "data": {
      "image/png": "[encoded data removed]",
      "text/plain": [
       "<Figure size 360x360 with 1 Axes>"
      ]
     },
     "metadata": {},
     "output_type": "display_data"
    },
    {
     "name": "stdout",
     "output_type": "stream",
     "text": [
      "(15, 10) ['S2'] [(10, 12)]\n"
     ]
    },
    {
     "data": {
      "image/png": "[encoded data removed]",
      "text/plain": [
       "<Figure size 360x360 with 1 Axes>"
      ]
     },
     "metadata": {},
     "output_type": "display_data"
    },
    {
     "name": "stdout",
     "output_type": "stream",
     "text": [
      "(15, 10) ['S2'] [(10, 12)]\n"
     ]
    },
    {
     "data": {
      "image/png": "[encoded data removed]",
      "text/plain": [
       "<Figure size 360x360 with 1 Axes>"
      ]
     },
     "metadata": {},
     "output_type": "display_data"
    },
    {
     "name": "stdout",
     "output_type": "stream",
     "text": [
      "(15, 10) [] []\n"
     ]
    },
    {
     "data": {
      "image/png": "[encoded data removed]",
      "text/plain": [
       "<Figure size 360x360 with 1 Axes>"
      ]
     },
     "metadata": {},
     "output_type": "display_data"
    },
    {
     "name": "stdout",
     "output_type": "stream",
     "text": [
      "(15, 10) [] []\n"
     ]
    },
    {
     "data": {
      "image/png": "[encoded data removed]",
      "text/plain": [
       "<Figure size 360x360 with 1 Axes>"
      ]
     },
     "metadata": {},
     "output_type": "display_data"
    },
    {
     "name": "stdout",
     "output_type": "stream",
     "text": [
      "(15, 10) [] []\n"
     ]
    },
    {
     "data": {
      "image/png": "[encoded data removed]",
      "text/plain": [
       "<Figure size 360x360 with 1 Axes>"
      ]
     },
     "metadata": {},
     "output_type": "display_data"
    },
    {
     "name": "stdout",
     "output_type": "stream",
     "text": [
      "(15, 10) [] []\n"
     ]
    },
    {
     "data": {
      "image/png": "[encoded data removed]",
      "text/plain": [
       "<Figure size 360x360 with 1 Axes>"
      ]
     },
     "metadata": {},
     "output_type": "display_data"
    }
   ],
   "source": [
    "for data in 면적달력.index[:9]:\n",
    "    정반배치레이아웃(\"B\", 정반데이터, data, 블록명달력, 블록사이즈달력)"
   ]
  },
  {
   "cell_type": "markdown",
   "id": "0cf69437",
   "metadata": {},
   "source": [
    "# 결과정리 - 간트차트"
   ]
  },
  {
   "cell_type": "code",
   "execution_count": 88,
   "id": "d5e2f97e",
   "metadata": {},
   "outputs": [
    {
     "data": {
      "text/html": [
       "<div>\n",
       "<style scoped>\n",
       "    .dataframe tbody tr th:only-of-type {\n",
       "        vertical-align: middle;\n",
       "    }\n",
       "\n",
       "    .dataframe tbody tr th {\n",
       "        vertical-align: top;\n",
       "    }\n",
       "\n",
       "    .dataframe thead th {\n",
       "        text-align: right;\n",
       "    }\n",
       "</style>\n",
       "<table border=\"1\" class=\"dataframe\">\n",
       "  <thead>\n",
       "    <tr style=\"text-align: right;\">\n",
       "      <th></th>\n",
       "      <th>블록명</th>\n",
       "      <th>정반명</th>\n",
       "      <th>착수일자</th>\n",
       "    </tr>\n",
       "  </thead>\n",
       "  <tbody>\n",
       "    <tr>\n",
       "      <th>0</th>\n",
       "      <td>S2</td>\n",
       "      <td>B</td>\n",
       "      <td>2024-02-01</td>\n",
       "    </tr>\n",
       "    <tr>\n",
       "      <th>1</th>\n",
       "      <td>S1</td>\n",
       "      <td>A</td>\n",
       "      <td>2024-02-01</td>\n",
       "    </tr>\n",
       "    <tr>\n",
       "      <th>2</th>\n",
       "      <td>S4</td>\n",
       "      <td>A</td>\n",
       "      <td>2024-02-01</td>\n",
       "    </tr>\n",
       "    <tr>\n",
       "      <th>3</th>\n",
       "      <td>S3</td>\n",
       "      <td>A</td>\n",
       "      <td>2024-02-01</td>\n",
       "    </tr>\n",
       "  </tbody>\n",
       "</table>\n",
       "</div>"
      ],
      "text/plain": [
       "  블록명 정반명        착수일자\n",
       "0  S2   B  2024-02-01\n",
       "1  S1   A  2024-02-01\n",
       "2  S4   A  2024-02-01\n",
       "3  S3   A  2024-02-01"
      ]
     },
     "execution_count": 88,
     "metadata": {},
     "output_type": "execute_result"
    }
   ],
   "source": [
    "fin_df = pd.DataFrame({\n",
    "    \"블록명\":결론_블록리스트,\n",
    "    \"정반명\":결론_정반리스트,\n",
    "    \"착수일자\":결론_착수일자\n",
    "    })\n",
    "fin_df"
   ]
  },
  {
   "cell_type": "code",
   "execution_count": 89,
   "id": "bc57e1cf",
   "metadata": {
    "scrolled": true
   },
   "outputs": [
    {
     "data": {
      "text/html": [
       "<div>\n",
       "<style scoped>\n",
       "    .dataframe tbody tr th:only-of-type {\n",
       "        vertical-align: middle;\n",
       "    }\n",
       "\n",
       "    .dataframe tbody tr th {\n",
       "        vertical-align: top;\n",
       "    }\n",
       "\n",
       "    .dataframe thead th {\n",
       "        text-align: right;\n",
       "    }\n",
       "</style>\n",
       "<table border=\"1\" class=\"dataframe\">\n",
       "  <thead>\n",
       "    <tr style=\"text-align: right;\">\n",
       "      <th></th>\n",
       "      <th>블록명</th>\n",
       "      <th>중량</th>\n",
       "      <th>표준공기</th>\n",
       "      <th>납기</th>\n",
       "      <th>정반배치</th>\n",
       "      <th>사이즈</th>\n",
       "      <th>면적</th>\n",
       "      <th>최소착수요구일</th>\n",
       "      <th>날짜순서</th>\n",
       "      <th>공기순서</th>\n",
       "      <th>크기순서</th>\n",
       "      <th>우선순위</th>\n",
       "      <th>정반명</th>\n",
       "      <th>착수일자</th>\n",
       "    </tr>\n",
       "  </thead>\n",
       "  <tbody>\n",
       "    <tr>\n",
       "      <th>0</th>\n",
       "      <td>S2</td>\n",
       "      <td>60</td>\n",
       "      <td>5</td>\n",
       "      <td>2024-02-14</td>\n",
       "      <td>0</td>\n",
       "      <td>(10, 12)</td>\n",
       "      <td>120</td>\n",
       "      <td>2024-02-09</td>\n",
       "      <td>4.0</td>\n",
       "      <td>3.5</td>\n",
       "      <td>1.0</td>\n",
       "      <td>2.2</td>\n",
       "      <td>B</td>\n",
       "      <td>2024-02-01</td>\n",
       "    </tr>\n",
       "    <tr>\n",
       "      <th>1</th>\n",
       "      <td>S1</td>\n",
       "      <td>50</td>\n",
       "      <td>8</td>\n",
       "      <td>2024-02-15</td>\n",
       "      <td>0</td>\n",
       "      <td>(9, 10)</td>\n",
       "      <td>90</td>\n",
       "      <td>2024-02-07</td>\n",
       "      <td>2.0</td>\n",
       "      <td>1.0</td>\n",
       "      <td>2.0</td>\n",
       "      <td>2.5</td>\n",
       "      <td>A</td>\n",
       "      <td>2024-02-01</td>\n",
       "    </tr>\n",
       "    <tr>\n",
       "      <th>2</th>\n",
       "      <td>S4</td>\n",
       "      <td>20</td>\n",
       "      <td>6</td>\n",
       "      <td>2024-02-12</td>\n",
       "      <td>0</td>\n",
       "      <td>(5, 6)</td>\n",
       "      <td>30</td>\n",
       "      <td>2024-02-06</td>\n",
       "      <td>1.0</td>\n",
       "      <td>2.0</td>\n",
       "      <td>3.5</td>\n",
       "      <td>4.0</td>\n",
       "      <td>A</td>\n",
       "      <td>2024-02-01</td>\n",
       "    </tr>\n",
       "    <tr>\n",
       "      <th>3</th>\n",
       "      <td>S3</td>\n",
       "      <td>30</td>\n",
       "      <td>5</td>\n",
       "      <td>2024-02-13</td>\n",
       "      <td>0</td>\n",
       "      <td>(5, 6)</td>\n",
       "      <td>30</td>\n",
       "      <td>2024-02-08</td>\n",
       "      <td>3.0</td>\n",
       "      <td>3.5</td>\n",
       "      <td>3.5</td>\n",
       "      <td>4.6</td>\n",
       "      <td>A</td>\n",
       "      <td>2024-02-01</td>\n",
       "    </tr>\n",
       "  </tbody>\n",
       "</table>\n",
       "</div>"
      ],
      "text/plain": [
       "  블록명  중량  표준공기         납기  정반배치       사이즈   면적     최소착수요구일  날짜순서  공기순서  크기순서  \\\n",
       "0  S2  60     5 2024-02-14     0  (10, 12)  120  2024-02-09   4.0   3.5   1.0   \n",
       "1  S1  50     8 2024-02-15     0   (9, 10)   90  2024-02-07   2.0   1.0   2.0   \n",
       "2  S4  20     6 2024-02-12     0    (5, 6)   30  2024-02-06   1.0   2.0   3.5   \n",
       "3  S3  30     5 2024-02-13     0    (5, 6)   30  2024-02-08   3.0   3.5   3.5   \n",
       "\n",
       "   우선순위 정반명        착수일자  \n",
       "0   2.2   B  2024-02-01  \n",
       "1   2.5   A  2024-02-01  \n",
       "2   4.0   A  2024-02-01  \n",
       "3   4.6   A  2024-02-01  "
      ]
     },
     "execution_count": 89,
     "metadata": {},
     "output_type": "execute_result"
    }
   ],
   "source": [
    "merged_df = pd.merge(블록데이터, fin_df, on=\"블록명\", how=\"left\")\n",
    "merged_df"
   ]
  },
  {
   "cell_type": "code",
   "execution_count": 90,
   "id": "d8b7aa25",
   "metadata": {},
   "outputs": [],
   "source": [
    "@unpack_df_columns\n",
    "def 종료일구하기(착수일자, 표준공기):\n",
    "    try:\n",
    "        original_date = datetime.strptime(착수일자, \"%Y-%m-%d\")\n",
    "        종료날짜 = original_date + timedelta(days=int(표준공기)) \n",
    "        종료날짜 = 종료날짜.strftime(\"%Y-%m-%d\")\n",
    "        return 종료날짜\n",
    "    except:\n",
    "        pass\n",
    "        "
   ]
  },
  {
   "cell_type": "code",
   "execution_count": 91,
   "id": "4ac0d1f8",
   "metadata": {},
   "outputs": [],
   "source": [
    "@unpack_df_columns\n",
    "def create_text(블록명, 표준공기):\n",
    "    return str(블록명)+\" / \"+\"조립중량: \"+str(표준공기)+\"ton\""
   ]
  },
  {
   "cell_type": "code",
   "execution_count": 92,
   "id": "a76a49fb",
   "metadata": {
    "scrolled": true
   },
   "outputs": [
    {
     "data": {
      "text/html": [
       "<div>\n",
       "<style scoped>\n",
       "    .dataframe tbody tr th:only-of-type {\n",
       "        vertical-align: middle;\n",
       "    }\n",
       "\n",
       "    .dataframe tbody tr th {\n",
       "        vertical-align: top;\n",
       "    }\n",
       "\n",
       "    .dataframe thead th {\n",
       "        text-align: right;\n",
       "    }\n",
       "</style>\n",
       "<table border=\"1\" class=\"dataframe\">\n",
       "  <thead>\n",
       "    <tr style=\"text-align: right;\">\n",
       "      <th></th>\n",
       "      <th>블록명</th>\n",
       "      <th>중량</th>\n",
       "      <th>표준공기</th>\n",
       "      <th>납기</th>\n",
       "      <th>정반배치</th>\n",
       "      <th>사이즈</th>\n",
       "      <th>면적</th>\n",
       "      <th>최소착수요구일</th>\n",
       "      <th>날짜순서</th>\n",
       "      <th>공기순서</th>\n",
       "      <th>크기순서</th>\n",
       "      <th>우선순위</th>\n",
       "      <th>정반명</th>\n",
       "      <th>착수일자</th>\n",
       "      <th>종료일자</th>\n",
       "      <th>차트텍스트</th>\n",
       "    </tr>\n",
       "  </thead>\n",
       "  <tbody>\n",
       "    <tr>\n",
       "      <th>0</th>\n",
       "      <td>S2</td>\n",
       "      <td>60</td>\n",
       "      <td>5</td>\n",
       "      <td>2024-02-14</td>\n",
       "      <td>0</td>\n",
       "      <td>(10, 12)</td>\n",
       "      <td>120</td>\n",
       "      <td>2024-02-09</td>\n",
       "      <td>4.0</td>\n",
       "      <td>3.5</td>\n",
       "      <td>1.0</td>\n",
       "      <td>2.2</td>\n",
       "      <td>B</td>\n",
       "      <td>2024-02-01</td>\n",
       "      <td>2024-02-06</td>\n",
       "      <td>S2 / 조립중량: 5ton</td>\n",
       "    </tr>\n",
       "    <tr>\n",
       "      <th>1</th>\n",
       "      <td>S1</td>\n",
       "      <td>50</td>\n",
       "      <td>8</td>\n",
       "      <td>2024-02-15</td>\n",
       "      <td>0</td>\n",
       "      <td>(9, 10)</td>\n",
       "      <td>90</td>\n",
       "      <td>2024-02-07</td>\n",
       "      <td>2.0</td>\n",
       "      <td>1.0</td>\n",
       "      <td>2.0</td>\n",
       "      <td>2.5</td>\n",
       "      <td>A</td>\n",
       "      <td>2024-02-01</td>\n",
       "      <td>2024-02-09</td>\n",
       "      <td>S1 / 조립중량: 8ton</td>\n",
       "    </tr>\n",
       "    <tr>\n",
       "      <th>2</th>\n",
       "      <td>S4</td>\n",
       "      <td>20</td>\n",
       "      <td>6</td>\n",
       "      <td>2024-02-12</td>\n",
       "      <td>0</td>\n",
       "      <td>(5, 6)</td>\n",
       "      <td>30</td>\n",
       "      <td>2024-02-06</td>\n",
       "      <td>1.0</td>\n",
       "      <td>2.0</td>\n",
       "      <td>3.5</td>\n",
       "      <td>4.0</td>\n",
       "      <td>A</td>\n",
       "      <td>2024-02-01</td>\n",
       "      <td>2024-02-07</td>\n",
       "      <td>S4 / 조립중량: 6ton</td>\n",
       "    </tr>\n",
       "    <tr>\n",
       "      <th>3</th>\n",
       "      <td>S3</td>\n",
       "      <td>30</td>\n",
       "      <td>5</td>\n",
       "      <td>2024-02-13</td>\n",
       "      <td>0</td>\n",
       "      <td>(5, 6)</td>\n",
       "      <td>30</td>\n",
       "      <td>2024-02-08</td>\n",
       "      <td>3.0</td>\n",
       "      <td>3.5</td>\n",
       "      <td>3.5</td>\n",
       "      <td>4.6</td>\n",
       "      <td>A</td>\n",
       "      <td>2024-02-01</td>\n",
       "      <td>2024-02-06</td>\n",
       "      <td>S3 / 조립중량: 5ton</td>\n",
       "    </tr>\n",
       "  </tbody>\n",
       "</table>\n",
       "</div>"
      ],
      "text/plain": [
       "  블록명  중량  표준공기         납기  정반배치       사이즈   면적     최소착수요구일  날짜순서  공기순서  크기순서  \\\n",
       "0  S2  60     5 2024-02-14     0  (10, 12)  120  2024-02-09   4.0   3.5   1.0   \n",
       "1  S1  50     8 2024-02-15     0   (9, 10)   90  2024-02-07   2.0   1.0   2.0   \n",
       "2  S4  20     6 2024-02-12     0    (5, 6)   30  2024-02-06   1.0   2.0   3.5   \n",
       "3  S3  30     5 2024-02-13     0    (5, 6)   30  2024-02-08   3.0   3.5   3.5   \n",
       "\n",
       "   우선순위 정반명        착수일자        종료일자            차트텍스트  \n",
       "0   2.2   B  2024-02-01  2024-02-06  S2 / 조립중량: 5ton  \n",
       "1   2.5   A  2024-02-01  2024-02-09  S1 / 조립중량: 8ton  \n",
       "2   4.0   A  2024-02-01  2024-02-07  S4 / 조립중량: 6ton  \n",
       "3   4.6   A  2024-02-01  2024-02-06  S3 / 조립중량: 5ton  "
      ]
     },
     "execution_count": 92,
     "metadata": {},
     "output_type": "execute_result"
    }
   ],
   "source": [
    "merged_df[\"종료일자\"] = merged_df[[\"착수일자\", \"표준공기\"]].apply(종료일구하기, axis=1)\n",
    "merged_df[\"차트텍스트\"] = merged_df[[\"블록명\", \"표준공기\"]].apply(create_text, axis=1)\n",
    "merged_df"
   ]
  },
  {
   "cell_type": "code",
   "execution_count": 93,
   "id": "f9a9ca7e",
   "metadata": {},
   "outputs": [],
   "source": [
    "import plotly.express as px\n",
    "def draw_gant(df):\n",
    "    fig = px.timeline(\n",
    "        \n",
    "        df, \n",
    "        x_start=\"착수일자\", \n",
    "        x_end=\"종료일자\", \n",
    "        y=\"블록명\",\n",
    "        color=\"정반명\",\n",
    "        hover_data = [\"표준공기\", \"중량\"],\n",
    "        text = \"차트텍스트\",\n",
    "        opacity=0.7\n",
    "        )\n",
    "\n",
    "    fig.update_yaxes(autorange=\"reversed\")          #if not specified as 'reversed', the tasks will be listed from bottom up       \n",
    "    fig.update_layout(\n",
    "                    # title='Project Plan Gantt Chart',\n",
    "                    hoverlabel_bgcolor='#DAEEED',   #Change the hover tooltip background color to a universal light blue color. If not specified, the background color will vary by team or completion pct, depending on what view the user chooses\n",
    "                    bargap=0.2,\n",
    "                    height=500,              \n",
    "                    xaxis_title=\"\", \n",
    "                    yaxis_title=\"정반명\", \n",
    "                    font=dict(\n",
    "                        family=\"Courier New, monospace\",\n",
    "                        size=12,  # Set the font size here\n",
    "                        color=\"RebeccaPurple\"\n",
    "                        ),\n",
    "    )\n",
    "    fig.show()"
   ]
  },
  {
   "cell_type": "code",
   "execution_count": 94,
   "id": "354ceeb0",
   "metadata": {},
   "outputs": [
    {
     "data": {
      "application/vnd.plotly.v1+json": {
       "config": {
        "plotlyServerURL": "https://plot.ly"
       },
       "data": [
        {
         "alignmentgroup": "True",
         "base": [
          "2024-02-01"
         ],
         "customdata": [
          [
           5,
           60
          ]
         ],
         "hovertemplate": "정반명=B<br>착수일자=%{base}<br>종료일자=%{x}<br>블록명=%{y}<br>차트텍스트=%{text}<br>표준공기=%{customdata[0]}<br>중량=%{customdata[1]}<extra></extra>",
         "legendgroup": "B",
         "marker": {
          "color": "#636efa",
          "opacity": 0.7,
          "pattern": {
           "shape": ""
          }
         },
         "name": "B",
         "offsetgroup": "B",
         "orientation": "h",
         "showlegend": true,
         "text": [
          "S2 / 조립중량: 5ton"
         ],
         "textposition": "auto",
         "type": "bar",
         "x": [
          432000000
         ],
         "xaxis": "x",
         "y": [
          "S2"
         ],
         "yaxis": "y"
        },
        {
         "alignmentgroup": "True",
         "base": [
          "2024-02-01",
          "2024-02-01",
          "2024-02-01"
         ],
         "customdata": [
          [
           8,
           50
          ],
          [
           6,
           20
          ],
          [
           5,
           30
          ]
         ],
         "hovertemplate": "정반명=A<br>착수일자=%{base}<br>종료일자=%{x}<br>블록명=%{y}<br>차트텍스트=%{text}<br>표준공기=%{customdata[0]}<br>중량=%{customdata[1]}<extra></extra>",
         "legendgroup": "A",
         "marker": {
          "color": "#EF553B",
          "opacity": 0.7,
          "pattern": {
           "shape": ""
          }
         },
         "name": "A",
         "offsetgroup": "A",
         "orientation": "h",
         "showlegend": true,
         "text": [
          "S1 / 조립중량: 8ton",
          "S4 / 조립중량: 6ton",
          "S3 / 조립중량: 5ton"
         ],
         "textposition": "auto",
         "type": "bar",
         "x": [
          691200000,
          518400000,
          432000000
         ],
         "xaxis": "x",
         "y": [
          "S1",
          "S4",
          "S3"
         ],
         "yaxis": "y"
        }
       ],
       "layout": {
        "bargap": 0.2,
        "barmode": "overlay",
        "font": {
         "color": "RebeccaPurple",
         "family": "Courier New, monospace",
         "size": 12
        },
        "height": 500,
        "hoverlabel": {
         "bgcolor": "#DAEEED"
        },
        "legend": {
         "title": {
          "text": "정반명"
         },
         "tracegroupgap": 0
        },
        "margin": {
         "t": 60
        },
        "template": {
         "data": {
          "bar": [
           {
            "error_x": {
             "color": "#2a3f5f"
            },
            "error_y": {
             "color": "#2a3f5f"
            },
            "marker": {
             "line": {
              "color": "#E5ECF6",
              "width": 0.5
             },
             "pattern": {
              "fillmode": "overlay",
              "size": 10,
              "solidity": 0.2
             }
            },
            "type": "bar"
           }
          ],
          "barpolar": [
           {
            "marker": {
             "line": {
              "color": "#E5ECF6",
              "width": 0.5
             },
             "pattern": {
              "fillmode": "overlay",
              "size": 10,
              "solidity": 0.2
             }
            },
            "type": "barpolar"
           }
          ],
          "carpet": [
           {
            "aaxis": {
             "endlinecolor": "#2a3f5f",
             "gridcolor": "white",
             "linecolor": "white",
             "minorgridcolor": "white",
             "startlinecolor": "#2a3f5f"
            },
            "baxis": {
             "endlinecolor": "#2a3f5f",
             "gridcolor": "white",
             "linecolor": "white",
             "minorgridcolor": "white",
             "startlinecolor": "#2a3f5f"
            },
            "type": "carpet"
           }
          ],
          "choropleth": [
           {
            "colorbar": {
             "outlinewidth": 0,
             "ticks": ""
            },
            "type": "choropleth"
           }
          ],
          "contour": [
           {
            "colorbar": {
             "outlinewidth": 0,
             "ticks": ""
            },
            "colorscale": [
             [
              0,
              "#0d0887"
             ],
             [
              0.1111111111111111,
              "#46039f"
             ],
             [
              0.2222222222222222,
              "#7201a8"
             ],
             [
              0.3333333333333333,
              "#9c179e"
             ],
             [
              0.4444444444444444,
              "#bd3786"
             ],
             [
              0.5555555555555556,
              "#d8576b"
             ],
             [
              0.6666666666666666,
              "#ed7953"
             ],
             [
              0.7777777777777778,
              "#fb9f3a"
             ],
             [
              0.8888888888888888,
              "#fdca26"
             ],
             [
              1,
              "#f0f921"
             ]
            ],
            "type": "contour"
           }
          ],
          "contourcarpet": [
           {
            "colorbar": {
             "outlinewidth": 0,
             "ticks": ""
            },
            "type": "contourcarpet"
           }
          ],
          "heatmap": [
           {
            "colorbar": {
             "outlinewidth": 0,
             "ticks": ""
            },
            "colorscale": [
             [
              0,
              "#0d0887"
             ],
             [
              0.1111111111111111,
              "#46039f"
             ],
             [
              0.2222222222222222,
              "#7201a8"
             ],
             [
              0.3333333333333333,
              "#9c179e"
             ],
             [
              0.4444444444444444,
              "#bd3786"
             ],
             [
              0.5555555555555556,
              "#d8576b"
             ],
             [
              0.6666666666666666,
              "#ed7953"
             ],
             [
              0.7777777777777778,
              "#fb9f3a"
             ],
             [
              0.8888888888888888,
              "#fdca26"
             ],
             [
              1,
              "#f0f921"
             ]
            ],
            "type": "heatmap"
           }
          ],
          "heatmapgl": [
           {
            "colorbar": {
             "outlinewidth": 0,
             "ticks": ""
            },
            "colorscale": [
             [
              0,
              "#0d0887"
             ],
             [
              0.1111111111111111,
              "#46039f"
             ],
             [
              0.2222222222222222,
              "#7201a8"
             ],
             [
              0.3333333333333333,
              "#9c179e"
             ],
             [
              0.4444444444444444,
              "#bd3786"
             ],
             [
              0.5555555555555556,
              "#d8576b"
             ],
             [
              0.6666666666666666,
              "#ed7953"
             ],
             [
              0.7777777777777778,
              "#fb9f3a"
             ],
             [
              0.8888888888888888,
              "#fdca26"
             ],
             [
              1,
              "#f0f921"
             ]
            ],
            "type": "heatmapgl"
           }
          ],
          "histogram": [
           {
            "marker": {
             "pattern": {
              "fillmode": "overlay",
              "size": 10,
              "solidity": 0.2
             }
            },
            "type": "histogram"
           }
          ],
          "histogram2d": [
           {
            "colorbar": {
             "outlinewidth": 0,
             "ticks": ""
            },
            "colorscale": [
             [
              0,
              "#0d0887"
             ],
             [
              0.1111111111111111,
              "#46039f"
             ],
             [
              0.2222222222222222,
              "#7201a8"
             ],
             [
              0.3333333333333333,
              "#9c179e"
             ],
             [
              0.4444444444444444,
              "#bd3786"
             ],
             [
              0.5555555555555556,
              "#d8576b"
             ],
             [
              0.6666666666666666,
              "#ed7953"
             ],
             [
              0.7777777777777778,
              "#fb9f3a"
             ],
             [
              0.8888888888888888,
              "#fdca26"
             ],
             [
              1,
              "#f0f921"
             ]
            ],
            "type": "histogram2d"
           }
          ],
          "histogram2dcontour": [
           {
            "colorbar": {
             "outlinewidth": 0,
             "ticks": ""
            },
            "colorscale": [
             [
              0,
              "#0d0887"
             ],
             [
              0.1111111111111111,
              "#46039f"
             ],
             [
              0.2222222222222222,
              "#7201a8"
             ],
             [
              0.3333333333333333,
              "#9c179e"
             ],
             [
              0.4444444444444444,
              "#bd3786"
             ],
             [
              0.5555555555555556,
              "#d8576b"
             ],
             [
              0.6666666666666666,
              "#ed7953"
             ],
             [
              0.7777777777777778,
              "#fb9f3a"
             ],
             [
              0.8888888888888888,
              "#fdca26"
             ],
             [
              1,
              "#f0f921"
             ]
            ],
            "type": "histogram2dcontour"
           }
          ],
          "mesh3d": [
           {
            "colorbar": {
             "outlinewidth": 0,
             "ticks": ""
            },
            "type": "mesh3d"
           }
          ],
          "parcoords": [
           {
            "line": {
             "colorbar": {
              "outlinewidth": 0,
              "ticks": ""
             }
            },
            "type": "parcoords"
           }
          ],
          "pie": [
           {
            "automargin": true,
            "type": "pie"
           }
          ],
          "scatter": [
           {
            "fillpattern": {
             "fillmode": "overlay",
             "size": 10,
             "solidity": 0.2
            },
            "type": "scatter"
           }
          ],
          "scatter3d": [
           {
            "line": {
             "colorbar": {
              "outlinewidth": 0,
              "ticks": ""
             }
            },
            "marker": {
             "colorbar": {
              "outlinewidth": 0,
              "ticks": ""
             }
            },
            "type": "scatter3d"
           }
          ],
          "scattercarpet": [
           {
            "marker": {
             "colorbar": {
              "outlinewidth": 0,
              "ticks": ""
             }
            },
            "type": "scattercarpet"
           }
          ],
          "scattergeo": [
           {
            "marker": {
             "colorbar": {
              "outlinewidth": 0,
              "ticks": ""
             }
            },
            "type": "scattergeo"
           }
          ],
          "scattergl": [
           {
            "marker": {
             "colorbar": {
              "outlinewidth": 0,
              "ticks": ""
             }
            },
            "type": "scattergl"
           }
          ],
          "scattermapbox": [
           {
            "marker": {
             "colorbar": {
              "outlinewidth": 0,
              "ticks": ""
             }
            },
            "type": "scattermapbox"
           }
          ],
          "scatterpolar": [
           {
            "marker": {
             "colorbar": {
              "outlinewidth": 0,
              "ticks": ""
             }
            },
            "type": "scatterpolar"
           }
          ],
          "scatterpolargl": [
           {
            "marker": {
             "colorbar": {
              "outlinewidth": 0,
              "ticks": ""
             }
            },
            "type": "scatterpolargl"
           }
          ],
          "scatterternary": [
           {
            "marker": {
             "colorbar": {
              "outlinewidth": 0,
              "ticks": ""
             }
            },
            "type": "scatterternary"
           }
          ],
          "surface": [
           {
            "colorbar": {
             "outlinewidth": 0,
             "ticks": ""
            },
            "colorscale": [
             [
              0,
              "#0d0887"
             ],
             [
              0.1111111111111111,
              "#46039f"
             ],
             [
              0.2222222222222222,
              "#7201a8"
             ],
             [
              0.3333333333333333,
              "#9c179e"
             ],
             [
              0.4444444444444444,
              "#bd3786"
             ],
             [
              0.5555555555555556,
              "#d8576b"
             ],
             [
              0.6666666666666666,
              "#ed7953"
             ],
             [
              0.7777777777777778,
              "#fb9f3a"
             ],
             [
              0.8888888888888888,
              "#fdca26"
             ],
             [
              1,
              "#f0f921"
             ]
            ],
            "type": "surface"
           }
          ],
          "table": [
           {
            "cells": {
             "fill": {
              "color": "#EBF0F8"
             },
             "line": {
              "color": "white"
             }
            },
            "header": {
             "fill": {
              "color": "#C8D4E3"
             },
             "line": {
              "color": "white"
             }
            },
            "type": "table"
           }
          ]
         },
         "layout": {
          "annotationdefaults": {
           "arrowcolor": "#2a3f5f",
           "arrowhead": 0,
           "arrowwidth": 1
          },
          "autotypenumbers": "strict",
          "coloraxis": {
           "colorbar": {
            "outlinewidth": 0,
            "ticks": ""
           }
          },
          "colorscale": {
           "diverging": [
            [
             0,
             "#8e0152"
            ],
            [
             0.1,
             "#c51b7d"
            ],
            [
             0.2,
             "#de77ae"
            ],
            [
             0.3,
             "#f1b6da"
            ],
            [
             0.4,
             "#fde0ef"
            ],
            [
             0.5,
             "#f7f7f7"
            ],
            [
             0.6,
             "#e6f5d0"
            ],
            [
             0.7,
             "#b8e186"
            ],
            [
             0.8,
             "#7fbc41"
            ],
            [
             0.9,
             "#4d9221"
            ],
            [
             1,
             "#276419"
            ]
           ],
           "sequential": [
            [
             0,
             "#0d0887"
            ],
            [
             0.1111111111111111,
             "#46039f"
            ],
            [
             0.2222222222222222,
             "#7201a8"
            ],
            [
             0.3333333333333333,
             "#9c179e"
            ],
            [
             0.4444444444444444,
             "#bd3786"
            ],
            [
             0.5555555555555556,
             "#d8576b"
            ],
            [
             0.6666666666666666,
             "#ed7953"
            ],
            [
             0.7777777777777778,
             "#fb9f3a"
            ],
            [
             0.8888888888888888,
             "#fdca26"
            ],
            [
             1,
             "#f0f921"
            ]
           ],
           "sequentialminus": [
            [
             0,
             "#0d0887"
            ],
            [
             0.1111111111111111,
             "#46039f"
            ],
            [
             0.2222222222222222,
             "#7201a8"
            ],
            [
             0.3333333333333333,
             "#9c179e"
            ],
            [
             0.4444444444444444,
             "#bd3786"
            ],
            [
             0.5555555555555556,
             "#d8576b"
            ],
            [
             0.6666666666666666,
             "#ed7953"
            ],
            [
             0.7777777777777778,
             "#fb9f3a"
            ],
            [
             0.8888888888888888,
             "#fdca26"
            ],
            [
             1,
             "#f0f921"
            ]
           ]
          },
          "colorway": [
           "#636efa",
           "#EF553B",
           "#00cc96",
           "#ab63fa",
           "#FFA15A",
           "#19d3f3",
           "#FF6692",
           "#B6E880",
           "#FF97FF",
           "#FECB52"
          ],
          "font": {
           "color": "#2a3f5f"
          },
          "geo": {
           "bgcolor": "white",
           "lakecolor": "white",
           "landcolor": "#E5ECF6",
           "showlakes": true,
           "showland": true,
           "subunitcolor": "white"
          },
          "hoverlabel": {
           "align": "left"
          },
          "hovermode": "closest",
          "mapbox": {
           "style": "light"
          },
          "paper_bgcolor": "white",
          "plot_bgcolor": "#E5ECF6",
          "polar": {
           "angularaxis": {
            "gridcolor": "white",
            "linecolor": "white",
            "ticks": ""
           },
           "bgcolor": "#E5ECF6",
           "radialaxis": {
            "gridcolor": "white",
            "linecolor": "white",
            "ticks": ""
           }
          },
          "scene": {
           "xaxis": {
            "backgroundcolor": "#E5ECF6",
            "gridcolor": "white",
            "gridwidth": 2,
            "linecolor": "white",
            "showbackground": true,
            "ticks": "",
            "zerolinecolor": "white"
           },
           "yaxis": {
            "backgroundcolor": "#E5ECF6",
            "gridcolor": "white",
            "gridwidth": 2,
            "linecolor": "white",
            "showbackground": true,
            "ticks": "",
            "zerolinecolor": "white"
           },
           "zaxis": {
            "backgroundcolor": "#E5ECF6",
            "gridcolor": "white",
            "gridwidth": 2,
            "linecolor": "white",
            "showbackground": true,
            "ticks": "",
            "zerolinecolor": "white"
           }
          },
          "shapedefaults": {
           "line": {
            "color": "#2a3f5f"
           }
          },
          "ternary": {
           "aaxis": {
            "gridcolor": "white",
            "linecolor": "white",
            "ticks": ""
           },
           "baxis": {
            "gridcolor": "white",
            "linecolor": "white",
            "ticks": ""
           },
           "bgcolor": "#E5ECF6",
           "caxis": {
            "gridcolor": "white",
            "linecolor": "white",
            "ticks": ""
           }
          },
          "title": {
           "x": 0.05
          },
          "xaxis": {
           "automargin": true,
           "gridcolor": "white",
           "linecolor": "white",
           "ticks": "",
           "title": {
            "standoff": 15
           },
           "zerolinecolor": "white",
           "zerolinewidth": 2
          },
          "yaxis": {
           "automargin": true,
           "gridcolor": "white",
           "linecolor": "white",
           "ticks": "",
           "title": {
            "standoff": 15
           },
           "zerolinecolor": "white",
           "zerolinewidth": 2
          }
         }
        },
        "xaxis": {
         "anchor": "y",
         "domain": [
          0,
          1
         ],
         "title": {
          "text": ""
         },
         "type": "date"
        },
        "yaxis": {
         "anchor": "x",
         "autorange": "reversed",
         "domain": [
          0,
          1
         ],
         "title": {
          "text": "정반명"
         }
        }
       }
      },
      "text/html": [
       "<div>                            <div id=\"9215c5be-38b7-4287-88b3-1a9c796fdc5e\" class=\"plotly-graph-div\" style=\"height:500px; width:100%;\"></div>            <script type=\"text/javascript\">                require([\"plotly\"], function(Plotly) {                    window.PLOTLYENV=window.PLOTLYENV || {};                                    if (document.getElementById(\"9215c5be-38b7-4287-88b3-1a9c796fdc5e\")) {                    Plotly.newPlot(                        \"9215c5be-38b7-4287-88b3-1a9c796fdc5e\",                        [{\"alignmentgroup\":\"True\",\"base\":[\"2024-02-01\"],\"customdata\":[[5,60]],\"hovertemplate\":\"정반명=B<br>착수일자=%{base}<br>종료일자=%{x}<br>블록명=%{y}<br>차트텍스트=%{text}<br>표준공기=%{customdata[0]}<br>중량=%{customdata[1]}<extra></extra>\",\"legendgroup\":\"B\",\"marker\":{\"color\":\"#636efa\",\"opacity\":0.7,\"pattern\":{\"shape\":\"\"}},\"name\":\"B\",\"offsetgroup\":\"B\",\"orientation\":\"h\",\"showlegend\":true,\"text\":[\"S2 / 조립중량: 5ton\"],\"textposition\":\"auto\",\"x\":[432000000.0],\"xaxis\":\"x\",\"y\":[\"S2\"],\"yaxis\":\"y\",\"type\":\"bar\"},{\"alignmentgroup\":\"True\",\"base\":[\"2024-02-01\",\"2024-02-01\",\"2024-02-01\"],\"customdata\":[[8,50],[6,20],[5,30]],\"hovertemplate\":\"정반명=A<br>착수일자=%{base}<br>종료일자=%{x}<br>블록명=%{y}<br>차트텍스트=%{text}<br>표준공기=%{customdata[0]}<br>중량=%{customdata[1]}<extra></extra>\",\"legendgroup\":\"A\",\"marker\":{\"color\":\"#EF553B\",\"opacity\":0.7,\"pattern\":{\"shape\":\"\"}},\"name\":\"A\",\"offsetgroup\":\"A\",\"orientation\":\"h\",\"showlegend\":true,\"text\":[\"S1 / 조립중량: 8ton\",\"S4 / 조립중량: 6ton\",\"S3 / 조립중량: 5ton\"],\"textposition\":\"auto\",\"x\":[691200000.0,518400000.0,432000000.0],\"xaxis\":\"x\",\"y\":[\"S1\",\"S4\",\"S3\"],\"yaxis\":\"y\",\"type\":\"bar\"}],                        {\"template\":{\"data\":{\"histogram2dcontour\":[{\"type\":\"histogram2dcontour\",\"colorbar\":{\"outlinewidth\":0,\"ticks\":\"\"},\"colorscale\":[[0.0,\"#0d0887\"],[0.1111111111111111,\"#46039f\"],[0.2222222222222222,\"#7201a8\"],[0.3333333333333333,\"#9c179e\"],[0.4444444444444444,\"#bd3786\"],[0.5555555555555556,\"#d8576b\"],[0.6666666666666666,\"#ed7953\"],[0.7777777777777778,\"#fb9f3a\"],[0.8888888888888888,\"#fdca26\"],[1.0,\"#f0f921\"]]}],\"choropleth\":[{\"type\":\"choropleth\",\"colorbar\":{\"outlinewidth\":0,\"ticks\":\"\"}}],\"histogram2d\":[{\"type\":\"histogram2d\",\"colorbar\":{\"outlinewidth\":0,\"ticks\":\"\"},\"colorscale\":[[0.0,\"#0d0887\"],[0.1111111111111111,\"#46039f\"],[0.2222222222222222,\"#7201a8\"],[0.3333333333333333,\"#9c179e\"],[0.4444444444444444,\"#bd3786\"],[0.5555555555555556,\"#d8576b\"],[0.6666666666666666,\"#ed7953\"],[0.7777777777777778,\"#fb9f3a\"],[0.8888888888888888,\"#fdca26\"],[1.0,\"#f0f921\"]]}],\"heatmap\":[{\"type\":\"heatmap\",\"colorbar\":{\"outlinewidth\":0,\"ticks\":\"\"},\"colorscale\":[[0.0,\"#0d0887\"],[0.1111111111111111,\"#46039f\"],[0.2222222222222222,\"#7201a8\"],[0.3333333333333333,\"#9c179e\"],[0.4444444444444444,\"#bd3786\"],[0.5555555555555556,\"#d8576b\"],[0.6666666666666666,\"#ed7953\"],[0.7777777777777778,\"#fb9f3a\"],[0.8888888888888888,\"#fdca26\"],[1.0,\"#f0f921\"]]}],\"heatmapgl\":[{\"type\":\"heatmapgl\",\"colorbar\":{\"outlinewidth\":0,\"ticks\":\"\"},\"colorscale\":[[0.0,\"#0d0887\"],[0.1111111111111111,\"#46039f\"],[0.2222222222222222,\"#7201a8\"],[0.3333333333333333,\"#9c179e\"],[0.4444444444444444,\"#bd3786\"],[0.5555555555555556,\"#d8576b\"],[0.6666666666666666,\"#ed7953\"],[0.7777777777777778,\"#fb9f3a\"],[0.8888888888888888,\"#fdca26\"],[1.0,\"#f0f921\"]]}],\"contourcarpet\":[{\"type\":\"contourcarpet\",\"colorbar\":{\"outlinewidth\":0,\"ticks\":\"\"}}],\"contour\":[{\"type\":\"contour\",\"colorbar\":{\"outlinewidth\":0,\"ticks\":\"\"},\"colorscale\":[[0.0,\"#0d0887\"],[0.1111111111111111,\"#46039f\"],[0.2222222222222222,\"#7201a8\"],[0.3333333333333333,\"#9c179e\"],[0.4444444444444444,\"#bd3786\"],[0.5555555555555556,\"#d8576b\"],[0.6666666666666666,\"#ed7953\"],[0.7777777777777778,\"#fb9f3a\"],[0.8888888888888888,\"#fdca26\"],[1.0,\"#f0f921\"]]}],\"surface\":[{\"type\":\"surface\",\"colorbar\":{\"outlinewidth\":0,\"ticks\":\"\"},\"colorscale\":[[0.0,\"#0d0887\"],[0.1111111111111111,\"#46039f\"],[0.2222222222222222,\"#7201a8\"],[0.3333333333333333,\"#9c179e\"],[0.4444444444444444,\"#bd3786\"],[0.5555555555555556,\"#d8576b\"],[0.6666666666666666,\"#ed7953\"],[0.7777777777777778,\"#fb9f3a\"],[0.8888888888888888,\"#fdca26\"],[1.0,\"#f0f921\"]]}],\"mesh3d\":[{\"type\":\"mesh3d\",\"colorbar\":{\"outlinewidth\":0,\"ticks\":\"\"}}],\"scatter\":[{\"fillpattern\":{\"fillmode\":\"overlay\",\"size\":10,\"solidity\":0.2},\"type\":\"scatter\"}],\"parcoords\":[{\"type\":\"parcoords\",\"line\":{\"colorbar\":{\"outlinewidth\":0,\"ticks\":\"\"}}}],\"scatterpolargl\":[{\"type\":\"scatterpolargl\",\"marker\":{\"colorbar\":{\"outlinewidth\":0,\"ticks\":\"\"}}}],\"bar\":[{\"error_x\":{\"color\":\"#2a3f5f\"},\"error_y\":{\"color\":\"#2a3f5f\"},\"marker\":{\"line\":{\"color\":\"#E5ECF6\",\"width\":0.5},\"pattern\":{\"fillmode\":\"overlay\",\"size\":10,\"solidity\":0.2}},\"type\":\"bar\"}],\"scattergeo\":[{\"type\":\"scattergeo\",\"marker\":{\"colorbar\":{\"outlinewidth\":0,\"ticks\":\"\"}}}],\"scatterpolar\":[{\"type\":\"scatterpolar\",\"marker\":{\"colorbar\":{\"outlinewidth\":0,\"ticks\":\"\"}}}],\"histogram\":[{\"marker\":{\"pattern\":{\"fillmode\":\"overlay\",\"size\":10,\"solidity\":0.2}},\"type\":\"histogram\"}],\"scattergl\":[{\"type\":\"scattergl\",\"marker\":{\"colorbar\":{\"outlinewidth\":0,\"ticks\":\"\"}}}],\"scatter3d\":[{\"type\":\"scatter3d\",\"line\":{\"colorbar\":{\"outlinewidth\":0,\"ticks\":\"\"}},\"marker\":{\"colorbar\":{\"outlinewidth\":0,\"ticks\":\"\"}}}],\"scattermapbox\":[{\"type\":\"scattermapbox\",\"marker\":{\"colorbar\":{\"outlinewidth\":0,\"ticks\":\"\"}}}],\"scatterternary\":[{\"type\":\"scatterternary\",\"marker\":{\"colorbar\":{\"outlinewidth\":0,\"ticks\":\"\"}}}],\"scattercarpet\":[{\"type\":\"scattercarpet\",\"marker\":{\"colorbar\":{\"outlinewidth\":0,\"ticks\":\"\"}}}],\"carpet\":[{\"aaxis\":{\"endlinecolor\":\"#2a3f5f\",\"gridcolor\":\"white\",\"linecolor\":\"white\",\"minorgridcolor\":\"white\",\"startlinecolor\":\"#2a3f5f\"},\"baxis\":{\"endlinecolor\":\"#2a3f5f\",\"gridcolor\":\"white\",\"linecolor\":\"white\",\"minorgridcolor\":\"white\",\"startlinecolor\":\"#2a3f5f\"},\"type\":\"carpet\"}],\"table\":[{\"cells\":{\"fill\":{\"color\":\"#EBF0F8\"},\"line\":{\"color\":\"white\"}},\"header\":{\"fill\":{\"color\":\"#C8D4E3\"},\"line\":{\"color\":\"white\"}},\"type\":\"table\"}],\"barpolar\":[{\"marker\":{\"line\":{\"color\":\"#E5ECF6\",\"width\":0.5},\"pattern\":{\"fillmode\":\"overlay\",\"size\":10,\"solidity\":0.2}},\"type\":\"barpolar\"}],\"pie\":[{\"automargin\":true,\"type\":\"pie\"}]},\"layout\":{\"autotypenumbers\":\"strict\",\"colorway\":[\"#636efa\",\"#EF553B\",\"#00cc96\",\"#ab63fa\",\"#FFA15A\",\"#19d3f3\",\"#FF6692\",\"#B6E880\",\"#FF97FF\",\"#FECB52\"],\"font\":{\"color\":\"#2a3f5f\"},\"hovermode\":\"closest\",\"hoverlabel\":{\"align\":\"left\"},\"paper_bgcolor\":\"white\",\"plot_bgcolor\":\"#E5ECF6\",\"polar\":{\"bgcolor\":\"#E5ECF6\",\"angularaxis\":{\"gridcolor\":\"white\",\"linecolor\":\"white\",\"ticks\":\"\"},\"radialaxis\":{\"gridcolor\":\"white\",\"linecolor\":\"white\",\"ticks\":\"\"}},\"ternary\":{\"bgcolor\":\"#E5ECF6\",\"aaxis\":{\"gridcolor\":\"white\",\"linecolor\":\"white\",\"ticks\":\"\"},\"baxis\":{\"gridcolor\":\"white\",\"linecolor\":\"white\",\"ticks\":\"\"},\"caxis\":{\"gridcolor\":\"white\",\"linecolor\":\"white\",\"ticks\":\"\"}},\"coloraxis\":{\"colorbar\":{\"outlinewidth\":0,\"ticks\":\"\"}},\"colorscale\":{\"sequential\":[[0.0,\"#0d0887\"],[0.1111111111111111,\"#46039f\"],[0.2222222222222222,\"#7201a8\"],[0.3333333333333333,\"#9c179e\"],[0.4444444444444444,\"#bd3786\"],[0.5555555555555556,\"#d8576b\"],[0.6666666666666666,\"#ed7953\"],[0.7777777777777778,\"#fb9f3a\"],[0.8888888888888888,\"#fdca26\"],[1.0,\"#f0f921\"]],\"sequentialminus\":[[0.0,\"#0d0887\"],[0.1111111111111111,\"#46039f\"],[0.2222222222222222,\"#7201a8\"],[0.3333333333333333,\"#9c179e\"],[0.4444444444444444,\"#bd3786\"],[0.5555555555555556,\"#d8576b\"],[0.6666666666666666,\"#ed7953\"],[0.7777777777777778,\"#fb9f3a\"],[0.8888888888888888,\"#fdca26\"],[1.0,\"#f0f921\"]],\"diverging\":[[0,\"#8e0152\"],[0.1,\"#c51b7d\"],[0.2,\"#de77ae\"],[0.3,\"#f1b6da\"],[0.4,\"#fde0ef\"],[0.5,\"#f7f7f7\"],[0.6,\"#e6f5d0\"],[0.7,\"#b8e186\"],[0.8,\"#7fbc41\"],[0.9,\"#4d9221\"],[1,\"#276419\"]]},\"xaxis\":{\"gridcolor\":\"white\",\"linecolor\":\"white\",\"ticks\":\"\",\"title\":{\"standoff\":15},\"zerolinecolor\":\"white\",\"automargin\":true,\"zerolinewidth\":2},\"yaxis\":{\"gridcolor\":\"white\",\"linecolor\":\"white\",\"ticks\":\"\",\"title\":{\"standoff\":15},\"zerolinecolor\":\"white\",\"automargin\":true,\"zerolinewidth\":2},\"scene\":{\"xaxis\":{\"backgroundcolor\":\"#E5ECF6\",\"gridcolor\":\"white\",\"linecolor\":\"white\",\"showbackground\":true,\"ticks\":\"\",\"zerolinecolor\":\"white\",\"gridwidth\":2},\"yaxis\":{\"backgroundcolor\":\"#E5ECF6\",\"gridcolor\":\"white\",\"linecolor\":\"white\",\"showbackground\":true,\"ticks\":\"\",\"zerolinecolor\":\"white\",\"gridwidth\":2},\"zaxis\":{\"backgroundcolor\":\"#E5ECF6\",\"gridcolor\":\"white\",\"linecolor\":\"white\",\"showbackground\":true,\"ticks\":\"\",\"zerolinecolor\":\"white\",\"gridwidth\":2}},\"shapedefaults\":{\"line\":{\"color\":\"#2a3f5f\"}},\"annotationdefaults\":{\"arrowcolor\":\"#2a3f5f\",\"arrowhead\":0,\"arrowwidth\":1},\"geo\":{\"bgcolor\":\"white\",\"landcolor\":\"#E5ECF6\",\"subunitcolor\":\"white\",\"showland\":true,\"showlakes\":true,\"lakecolor\":\"white\"},\"title\":{\"x\":0.05},\"mapbox\":{\"style\":\"light\"}}},\"xaxis\":{\"anchor\":\"y\",\"domain\":[0.0,1.0],\"type\":\"date\",\"title\":{\"text\":\"\"}},\"yaxis\":{\"anchor\":\"x\",\"domain\":[0.0,1.0],\"title\":{\"text\":\"정반명\"},\"autorange\":\"reversed\"},\"legend\":{\"title\":{\"text\":\"정반명\"},\"tracegroupgap\":0},\"margin\":{\"t\":60},\"barmode\":\"overlay\",\"hoverlabel\":{\"bgcolor\":\"#DAEEED\"},\"font\":{\"family\":\"Courier New, monospace\",\"size\":12,\"color\":\"RebeccaPurple\"},\"bargap\":0.2,\"height\":500},                        {\"responsive\": true}                    ).then(function(){\n",
       "                            \n",
       "var gd = document.getElementById('9215c5be-38b7-4287-88b3-1a9c796fdc5e');\n",
       "var x = new MutationObserver(function (mutations, observer) {{\n",
       "        var display = window.getComputedStyle(gd).display;\n",
       "        if (!display || display === 'none') {{\n",
       "            console.log([gd, 'removed!']);\n",
       "            Plotly.purge(gd);\n",
       "            observer.disconnect();\n",
       "        }}\n",
       "}});\n",
       "\n",
       "// Listen for the removal of the full notebook cells\n",
       "var notebookContainer = gd.closest('#notebook-container');\n",
       "if (notebookContainer) {{\n",
       "    x.observe(notebookContainer, {childList: true});\n",
       "}}\n",
       "\n",
       "// Listen for the clearing of the current output cell\n",
       "var outputEl = gd.closest('.output');\n",
       "if (outputEl) {{\n",
       "    x.observe(outputEl, {childList: true});\n",
       "}}\n",
       "\n",
       "                        })                };                });            </script>        </div>"
      ]
     },
     "metadata": {},
     "output_type": "display_data"
    }
   ],
   "source": [
    "draw_gant(merged_df)"
   ]
  },
  {
   "cell_type": "code",
   "execution_count": null,
   "id": "39a1f6b9",
   "metadata": {},
   "outputs": [],
   "source": []
  },
  {
   "cell_type": "code",
   "execution_count": null,
   "id": "e9da67db",
   "metadata": {},
   "outputs": [],
   "source": []
  }
 ],
 "metadata": {
  "kernelspec": {
   "display_name": "Python 3 (ipykernel)",
   "language": "python",
   "name": "python3"
  },
  "language_info": {
   "codemirror_mode": {
    "name": "ipython",
    "version": 3
   },
   "file_extension": ".py",
   "mimetype": "text/x-python",
   "name": "python",
   "nbconvert_exporter": "python",
   "pygments_lexer": "ipython3",
   "version": "3.10.6"
  },
  "toc": {
   "base_numbering": 1,
   "nav_menu": {
    "height": "190.99px",
    "width": "257.309px"
   },
   "number_sections": true,
   "sideBar": true,
   "skip_h1_title": false,
   "title_cell": "Table of Contents",
   "title_sidebar": "Contents",
   "toc_cell": false,
   "toc_position": {
    "height": "648.182px",
    "left": "39px",
    "top": "110.795px",
    "width": "245.682px"
   },
   "toc_section_display": true,
   "toc_window_display": false
  }
 },
 "nbformat": 4,
 "nbformat_minor": 5
}
