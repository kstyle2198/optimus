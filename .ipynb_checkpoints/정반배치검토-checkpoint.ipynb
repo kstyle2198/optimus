{
 "cells": [
  {
   "cell_type": "code",
   "execution_count": 2,
   "id": "e1cc6462",
   "metadata": {},
   "outputs": [],
   "source": [
    "import numpy as np\n",
    "import matplotlib.pyplot as plt\n",
    "import matplotlib.colors as mcolors"
   ]
  },
  {
   "cell_type": "code",
   "execution_count": 3,
   "id": "6aa224f8",
   "metadata": {},
   "outputs": [
    {
     "data": {
      "text/plain": [
       "10"
      ]
     },
     "execution_count": 3,
     "metadata": {},
     "output_type": "execute_result"
    }
   ],
   "source": [
    "# Define the dimensions of the surface\n",
    "사이즈 = (10, 10)\n",
    "사이즈[0]"
   ]
  },
  {
   "cell_type": "code",
   "execution_count": 4,
   "id": "234bebf4",
   "metadata": {},
   "outputs": [],
   "source": [
    "def 정반세팅(사이즈):  #사이즈 = (10, 10)\n",
    "    surface_width, surface_height = 사이즈[0], 사이즈[1]  # Adjusted to match the provided image for demonstration\n",
    "    surface = np.zeros((surface_height, surface_width), dtype=int)\n",
    "    return surface, surface_width, surface_height"
   ]
  },
  {
   "cell_type": "code",
   "execution_count": 5,
   "id": "c45de35b",
   "metadata": {},
   "outputs": [
    {
     "data": {
      "text/plain": [
       "array([[0, 0, 0, 0, 0, 0, 0, 0, 0, 0],\n",
       "       [0, 0, 0, 0, 0, 0, 0, 0, 0, 0],\n",
       "       [0, 0, 0, 0, 0, 0, 0, 0, 0, 0],\n",
       "       [0, 0, 0, 0, 0, 0, 0, 0, 0, 0],\n",
       "       [0, 0, 0, 0, 0, 0, 0, 0, 0, 0],\n",
       "       [0, 0, 0, 0, 0, 0, 0, 0, 0, 0],\n",
       "       [0, 0, 0, 0, 0, 0, 0, 0, 0, 0],\n",
       "       [0, 0, 0, 0, 0, 0, 0, 0, 0, 0],\n",
       "       [0, 0, 0, 0, 0, 0, 0, 0, 0, 0],\n",
       "       [0, 0, 0, 0, 0, 0, 0, 0, 0, 0]])"
      ]
     },
     "execution_count": 5,
     "metadata": {},
     "output_type": "execute_result"
    }
   ],
   "source": [
    "surface = 정반세팅(사이즈)\n",
    "surface"
   ]
  },
  {
   "cell_type": "code",
   "execution_count": 6,
   "id": "b07ac981",
   "metadata": {},
   "outputs": [],
   "source": [
    "# Define the blocks we want to place with a unique ID for each block type\n",
    "block_sizes = [(2, 2), (3, 3), (2, 4), (4, 5), (2, 4), (2, 6), (2, 5), (4, 6), (2, 8), (4, 5)]  # Updated block list\n",
    "block_names = [\"S1\", \"S2\", \"S3\", \"S4\", \"S5\", \"S6\", \"S7\", \"S8\",\"S9\", \"S10\"]"
   ]
  },
  {
   "cell_type": "code",
   "execution_count": 7,
   "id": "bfd7e575",
   "metadata": {},
   "outputs": [],
   "source": [
    "# Function to check if a block can be placed on the surface\n",
    "def can_place(surface, block, start_row, start_col):\n",
    "    block_height, block_width = block\n",
    "    if start_row + block_height > surface_height or start_col + block_width > surface_width:\n",
    "        return False\n",
    "    return np.all(surface[start_row:start_row + block_height, start_col:start_col + block_width] == 0)\n",
    "\n",
    "# Function to place a block on the surface, if possible\n",
    "def place_block(surface, block, start_row, start_col, block_id):\n",
    "    block_height, block_width = block\n",
    "    surface[start_row:start_row + block_height, start_col:start_col + block_width] = block_id\n",
    "\n",
    "# Function to find the best fit for a block on the surface\n",
    "def find_best_fit(surface, block, block_id):\n",
    "    best_fit_score = float('inf')\n",
    "    best_position = None\n",
    "    block_height, block_width = block\n",
    "\n",
    "    # Iterate over all possible positions on the surface\n",
    "    for y in range(surface_height - block_height + 1):\n",
    "        for x in range(surface_width - block_width + 1):\n",
    "            if can_place(surface, block, y, x):\n",
    "                # Calculate a score; here we use the top-left corner (y, x) as the score\n",
    "                # A lower score means the block is closer to the top-left\n",
    "                score = y + x\n",
    "                if score < best_fit_score:\n",
    "                    best_fit_score = score\n",
    "                    best_position = (y, x)\n",
    "\n",
    "    # If a best position was found, place the block there\n",
    "    if best_position:\n",
    "        place_block(surface, block, *best_position, block_id)\n",
    "        return True\n",
    "    return False  # No fit found\n",
    "\n",
    "# Function to fit blocks on the surface in order\n",
    "def fit_blocks(surface, blocks, names):\n",
    "    result_dict = dict()\n",
    "    block_id = 1  # Start numbering blocks from 1\n",
    "    for name, block in zip(names, blocks):\n",
    "        if not find_best_fit(surface, block, block_id):\n",
    "            print(f\"Block {block_id} of size {block} could not be placed.\")\n",
    "            result_dict[name] = \"미배치\"\n",
    "        else:\n",
    "            result_dict[name] = \"배치\"\n",
    "        block_id += 1  # Increment block_id for the next block\n",
    "    return surface, result_dict"
   ]
  },
  {
   "cell_type": "code",
   "execution_count": 8,
   "id": "14d933b5",
   "metadata": {},
   "outputs": [
    {
     "ename": "NameError",
     "evalue": "name 'surface_height' is not defined",
     "output_type": "error",
     "traceback": [
      "\u001b[1;31m---------------------------------------------------------------------------\u001b[0m",
      "\u001b[1;31mNameError\u001b[0m                                 Traceback (most recent call last)",
      "Cell \u001b[1;32mIn[8], line 2\u001b[0m\n\u001b[0;32m      1\u001b[0m \u001b[38;5;66;03m# Place the blocks on the surface\u001b[39;00m\n\u001b[1;32m----> 2\u001b[0m surface \u001b[38;5;241m=\u001b[39m \u001b[43mfit_blocks\u001b[49m\u001b[43m(\u001b[49m\u001b[43msurface\u001b[49m\u001b[43m,\u001b[49m\u001b[43m \u001b[49m\u001b[43mblock_sizes\u001b[49m\u001b[43m,\u001b[49m\u001b[43m \u001b[49m\u001b[43mblock_names\u001b[49m\u001b[43m)\u001b[49m\n\u001b[0;32m      3\u001b[0m surface[\u001b[38;5;241m0\u001b[39m]\n",
      "Cell \u001b[1;32mIn[7], line 41\u001b[0m, in \u001b[0;36mfit_blocks\u001b[1;34m(surface, blocks, names)\u001b[0m\n\u001b[0;32m     39\u001b[0m block_id \u001b[38;5;241m=\u001b[39m \u001b[38;5;241m1\u001b[39m  \u001b[38;5;66;03m# Start numbering blocks from 1\u001b[39;00m\n\u001b[0;32m     40\u001b[0m \u001b[38;5;28;01mfor\u001b[39;00m name, block \u001b[38;5;129;01min\u001b[39;00m \u001b[38;5;28mzip\u001b[39m(names, blocks):\n\u001b[1;32m---> 41\u001b[0m     \u001b[38;5;28;01mif\u001b[39;00m \u001b[38;5;129;01mnot\u001b[39;00m \u001b[43mfind_best_fit\u001b[49m\u001b[43m(\u001b[49m\u001b[43msurface\u001b[49m\u001b[43m,\u001b[49m\u001b[43m \u001b[49m\u001b[43mblock\u001b[49m\u001b[43m,\u001b[49m\u001b[43m \u001b[49m\u001b[43mblock_id\u001b[49m\u001b[43m)\u001b[49m:\n\u001b[0;32m     42\u001b[0m         \u001b[38;5;28mprint\u001b[39m(\u001b[38;5;124mf\u001b[39m\u001b[38;5;124m\"\u001b[39m\u001b[38;5;124mBlock \u001b[39m\u001b[38;5;132;01m{\u001b[39;00mblock_id\u001b[38;5;132;01m}\u001b[39;00m\u001b[38;5;124m of size \u001b[39m\u001b[38;5;132;01m{\u001b[39;00mblock\u001b[38;5;132;01m}\u001b[39;00m\u001b[38;5;124m could not be placed.\u001b[39m\u001b[38;5;124m\"\u001b[39m)\n\u001b[0;32m     43\u001b[0m         result_dict[name] \u001b[38;5;241m=\u001b[39m \u001b[38;5;124m\"\u001b[39m\u001b[38;5;124m미배치\u001b[39m\u001b[38;5;124m\"\u001b[39m\n",
      "Cell \u001b[1;32mIn[7], line 20\u001b[0m, in \u001b[0;36mfind_best_fit\u001b[1;34m(surface, block, block_id)\u001b[0m\n\u001b[0;32m     17\u001b[0m block_height, block_width \u001b[38;5;241m=\u001b[39m block\n\u001b[0;32m     19\u001b[0m \u001b[38;5;66;03m# Iterate over all possible positions on the surface\u001b[39;00m\n\u001b[1;32m---> 20\u001b[0m \u001b[38;5;28;01mfor\u001b[39;00m y \u001b[38;5;129;01min\u001b[39;00m \u001b[38;5;28mrange\u001b[39m(\u001b[43msurface_height\u001b[49m \u001b[38;5;241m-\u001b[39m block_height \u001b[38;5;241m+\u001b[39m \u001b[38;5;241m1\u001b[39m):\n\u001b[0;32m     21\u001b[0m     \u001b[38;5;28;01mfor\u001b[39;00m x \u001b[38;5;129;01min\u001b[39;00m \u001b[38;5;28mrange\u001b[39m(surface_width \u001b[38;5;241m-\u001b[39m block_width \u001b[38;5;241m+\u001b[39m \u001b[38;5;241m1\u001b[39m):\n\u001b[0;32m     22\u001b[0m         \u001b[38;5;28;01mif\u001b[39;00m can_place(surface, block, y, x):\n\u001b[0;32m     23\u001b[0m             \u001b[38;5;66;03m# Calculate a score; here we use the top-left corner (y, x) as the score\u001b[39;00m\n\u001b[0;32m     24\u001b[0m             \u001b[38;5;66;03m# A lower score means the block is closer to the top-left\u001b[39;00m\n",
      "\u001b[1;31mNameError\u001b[0m: name 'surface_height' is not defined"
     ]
    }
   ],
   "source": [
    "# Place the blocks on the surface\n",
    "surface = fit_blocks(surface, block_sizes, block_names)\n",
    "surface[0]"
   ]
  },
  {
   "cell_type": "code",
   "execution_count": null,
   "id": "4ba6d8fc",
   "metadata": {},
   "outputs": [],
   "source": [
    "surface[1]"
   ]
  },
  {
   "cell_type": "code",
   "execution_count": null,
   "id": "8d714bd9",
   "metadata": {
    "scrolled": false
   },
   "outputs": [],
   "source": [
    "# Visualize the surface with the blocks placed\n",
    "def draw(surface):\n",
    "    fig, ax = plt.subplots(figsize=(8, 8))  # Adjust figure size to be square\n",
    "    # Create a colormap with a distinct color for each block ID\n",
    "    cmap = mcolors.ListedColormap(['white'] + ['C{}'.format(i) for i in range(len(blocks))])\n",
    "    norm = mcolors.BoundaryNorm(np.arange(0.5, len(blocks) + 2), cmap.N)\n",
    "\n",
    "    ax.imshow(surface[0], cmap=cmap, norm=norm)\n",
    "\n",
    "    # Add gridlines and block numbers\n",
    "    for y in range(surface_height):\n",
    "        for x in range(surface_width):\n",
    "            if surface[0][y, x] != 0:\n",
    "                ax.text(x, y, str(block_names[surface[0][y, x]-1]), ha='center', va='center', color='black')\n",
    "\n",
    "    # Draw gridlines\n",
    "    ax.set_xticks(np.arange(-.5, surface_width, 1), minor=True)\n",
    "    ax.set_yticks(np.arange(-.5, surface_height, 1), minor=True)\n",
    "    ax.grid(which=\"minor\", color=\"black\", linestyle='-', linewidth=1)\n",
    "    ax.tick_params(which=\"minor\", size=0)\n",
    "\n",
    "    # Remove the major ticks\n",
    "    ax.set_xticks([])\n",
    "    ax.set_yticks([])\n",
    "\n",
    "    plt.show()"
   ]
  },
  {
   "cell_type": "code",
   "execution_count": null,
   "id": "e8219239",
   "metadata": {},
   "outputs": [],
   "source": [
    "draw(surface)"
   ]
  },
  {
   "cell_type": "code",
   "execution_count": null,
   "id": "bfce60a6",
   "metadata": {},
   "outputs": [],
   "source": []
  }
 ],
 "metadata": {
  "kernelspec": {
   "display_name": "Python 3 (ipykernel)",
   "language": "python",
   "name": "python3"
  },
  "language_info": {
   "codemirror_mode": {
    "name": "ipython",
    "version": 3
   },
   "file_extension": ".py",
   "mimetype": "text/x-python",
   "name": "python",
   "nbconvert_exporter": "python",
   "pygments_lexer": "ipython3",
   "version": "3.10.6"
  },
  "toc": {
   "base_numbering": 1,
   "nav_menu": {},
   "number_sections": true,
   "sideBar": true,
   "skip_h1_title": false,
   "title_cell": "Table of Contents",
   "title_sidebar": "Contents",
   "toc_cell": false,
   "toc_position": {
    "height": "648.182px",
    "left": "92px",
    "top": "110.795px",
    "width": "349.091px"
   },
   "toc_section_display": true,
   "toc_window_display": true
  }
 },
 "nbformat": 4,
 "nbformat_minor": 5
}
