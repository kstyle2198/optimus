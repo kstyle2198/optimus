{
 "cells": [
  {
   "cell_type": "code",
   "execution_count": 1,
   "id": "73bc2453-12a3-41e0-b2ed-325a084b88e7",
   "metadata": {},
   "outputs": [],
   "source": [
    "import numpy as np"
   ]
  },
  {
   "cell_type": "code",
   "execution_count": 49,
   "id": "cb352bc7-ff6d-4435-b026-3065182e4f78",
   "metadata": {},
   "outputs": [
    {
     "data": {
      "text/plain": [
       "array([[0., 0., 0.],\n",
       "       [0., 0., 0.],\n",
       "       [0., 0., 0.]])"
      ]
     },
     "execution_count": 49,
     "metadata": {},
     "output_type": "execute_result"
    }
   ],
   "source": [
    "base = np.zeros((3, 3))\n",
    "base"
   ]
  },
  {
   "cell_type": "code",
   "execution_count": 36,
   "id": "d399dd88-fd85-4d68-b313-4af783081158",
   "metadata": {},
   "outputs": [],
   "source": [
    "# base[1,1] = 1\n",
    "# base"
   ]
  },
  {
   "cell_type": "code",
   "execution_count": 35,
   "id": "01b07d56-54d3-4327-8839-4929863debcf",
   "metadata": {},
   "outputs": [],
   "source": [
    "# for i in range(가로):\n",
    "#     for j in range(세로):\n",
    "#         print(i, j)"
   ]
  },
  {
   "cell_type": "code",
   "execution_count": 66,
   "id": "850b1968-4b9c-488f-ae8c-6e8e5bdcdf10",
   "metadata": {},
   "outputs": [
    {
     "data": {
      "text/plain": [
       "array([[0., 0., 0., 0., 0., 0., 0., 0., 0., 0.],\n",
       "       [0., 0., 0., 0., 0., 0., 0., 0., 0., 0.],\n",
       "       [0., 0., 1., 1., 1., 1., 0., 0., 0., 0.],\n",
       "       [0., 0., 1., 1., 1., 1., 0., 0., 0., 0.],\n",
       "       [0., 0., 1., 1., 1., 1., 0., 0., 0., 0.],\n",
       "       [0., 0., 0., 0., 0., 0., 0., 0., 0., 0.],\n",
       "       [0., 0., 0., 0., 0., 0., 0., 0., 0., 0.],\n",
       "       [0., 0., 0., 0., 0., 0., 0., 0., 0., 0.],\n",
       "       [0., 0., 0., 0., 0., 0., 0., 0., 0., 0.],\n",
       "       [0., 0., 0., 0., 0., 0., 0., 0., 0., 0.]])"
      ]
     },
     "execution_count": 66,
     "metadata": {},
     "output_type": "execute_result"
    }
   ],
   "source": [
    "좌상단꼭지점 = (3, 3)\n",
    "사이즈 = (3, 4)\n",
    "\n",
    "base_arr = np.zeros((10, 10))\n",
    "\n",
    "x, y = 좌상단꼭지점\n",
    "x = max(x - 1, 0)\n",
    "y = max(y - 1, 0)\n",
    "\n",
    "for i in range(사이즈[0]):\n",
    "    for j in range(사이즈[1]):\n",
    "        # print(i+좌상단꼭지점[0], j+좌상단꼭지점[1])\n",
    "        base_arr[i+y, j+x] = 1\n",
    "base_arr     "
   ]
  },
  {
   "cell_type": "code",
   "execution_count": 68,
   "id": "f5f0fe86-b823-4e44-aad2-354433b4cd4e",
   "metadata": {},
   "outputs": [],
   "source": [
    "def 블록배치레이아웃(정반사이즈, 좌상단꼭지점좌표, 블록사이즈, blk_id):\n",
    "    정반어레이 = np.zeros((정반사이즈[0], 정반사이즈[1]))\n",
    "    x, y = 좌상단꼭지점\n",
    "    x = max(x - 1, 0)\n",
    "    y = max(y - 1, 0)\n",
    "    for i in range(블록사이즈[0]):\n",
    "        for j in range(블록사이즈[1]):\n",
    "            정반어레이[i+x,j+y] = blk_id   \n",
    "    return 정반어레이   "
   ]
  },
  {
   "cell_type": "code",
   "execution_count": 69,
   "id": "55a4adb0-bff8-4884-bb0a-3ecc87cf0b46",
   "metadata": {},
   "outputs": [
    {
     "data": {
      "text/plain": [
       "array([[0., 0., 0., 0., 0., 0., 0., 0., 0., 0.],\n",
       "       [0., 0., 0., 0., 0., 0., 0., 0., 0., 0.],\n",
       "       [0., 0., 1., 1., 1., 0., 0., 0., 0., 0.],\n",
       "       [0., 0., 1., 1., 1., 0., 0., 0., 0., 0.],\n",
       "       [0., 0., 1., 1., 1., 0., 0., 0., 0., 0.],\n",
       "       [0., 0., 1., 1., 1., 0., 0., 0., 0., 0.],\n",
       "       [0., 0., 1., 1., 1., 0., 0., 0., 0., 0.],\n",
       "       [0., 0., 0., 0., 0., 0., 0., 0., 0., 0.],\n",
       "       [0., 0., 0., 0., 0., 0., 0., 0., 0., 0.],\n",
       "       [0., 0., 0., 0., 0., 0., 0., 0., 0., 0.]])"
      ]
     },
     "execution_count": 69,
     "metadata": {},
     "output_type": "execute_result"
    }
   ],
   "source": [
    "정반어레이 = 블록배치레이아웃((10, 10), (2, 1), (5, 3), 1)\n",
    "정반어레이"
   ]
  },
  {
   "cell_type": "code",
   "execution_count": null,
   "id": "cce6ed08-9290-4464-8a74-68dd171ae863",
   "metadata": {},
   "outputs": [],
   "source": []
  }
 ],
 "metadata": {
  "kernelspec": {
   "display_name": "Python 3 (ipykernel)",
   "language": "python",
   "name": "python3"
  },
  "language_info": {
   "codemirror_mode": {
    "name": "ipython",
    "version": 3
   },
   "file_extension": ".py",
   "mimetype": "text/x-python",
   "name": "python",
   "nbconvert_exporter": "python",
   "pygments_lexer": "ipython3",
   "version": "3.10.11"
  }
 },
 "nbformat": 4,
 "nbformat_minor": 5
}
