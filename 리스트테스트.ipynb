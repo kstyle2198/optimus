{
 "cells": [
  {
   "cell_type": "code",
   "execution_count": 27,
   "id": "5cc6495c",
   "metadata": {},
   "outputs": [
    {
     "name": "stdout",
     "output_type": "stream",
     "text": [
      "리무브후 명단들 : ['B', 'C', 'D', 'E']\n",
      "---------------------\n",
      "리무브후 명단들 : ['C', 'D', 'E']\n",
      "---------------------\n",
      "리무브후 명단들 : ['D', 'E']\n",
      "---------------------\n"
     ]
    }
   ],
   "source": [
    "명단들 = [\"A\", \"B\", \"C\", \"D\", \"E\"]\n",
    "\n",
    "for _ in 명단들:\n",
    "\n",
    "    명단들.pop(0)\n",
    "    print(f\"리무브후 명단들 : {명단들}\")\n",
    "    print(\"---------------------\")"
   ]
  },
  {
   "cell_type": "code",
   "execution_count": 24,
   "id": "b3f36777",
   "metadata": {},
   "outputs": [
    {
     "data": {
      "text/plain": [
       "[2]"
      ]
     },
     "execution_count": 24,
     "metadata": {},
     "output_type": "execute_result"
    }
   ],
   "source": [
    "a = [1, 2]\n",
    "a.pop(0)\n",
    "a"
   ]
  },
  {
   "cell_type": "code",
   "execution_count": 25,
   "id": "bc1dd74d",
   "metadata": {},
   "outputs": [
    {
     "data": {
      "text/plain": [
       "[2, 3]"
      ]
     },
     "execution_count": 25,
     "metadata": {},
     "output_type": "execute_result"
    }
   ],
   "source": [
    "a = [1, 2, 3]\n",
    "a.pop(0)\n",
    "a"
   ]
  },
  {
   "cell_type": "code",
   "execution_count": 28,
   "id": "d9351659",
   "metadata": {},
   "outputs": [
    {
     "name": "stdout",
     "output_type": "stream",
     "text": [
      "B\n",
      "---------------------\n",
      "C\n",
      "---------------------\n",
      "D\n",
      "---------------------\n",
      "E\n",
      "---------------------\n",
      "None\n",
      "---------------------\n"
     ]
    }
   ],
   "source": [
    "명단들 = [\"A\", \"B\", \"C\", \"D\", \"E\"]\n",
    "\n",
    "for _ in range(len(명단들)):\n",
    "    removed_value = 명단들.pop(0)\n",
    "    \n",
    "    if 명단들:\n",
    "        result = 명단들[0]\n",
    "    else:\n",
    "        result = None\n",
    "    print(result)\n",
    "    print(\"---------------------\")"
   ]
  },
  {
   "cell_type": "code",
   "execution_count": null,
   "id": "d021aa48",
   "metadata": {},
   "outputs": [],
   "source": []
  }
 ],
 "metadata": {
  "kernelspec": {
   "display_name": "Python 3 (ipykernel)",
   "language": "python",
   "name": "python3"
  },
  "language_info": {
   "codemirror_mode": {
    "name": "ipython",
    "version": 3
   },
   "file_extension": ".py",
   "mimetype": "text/x-python",
   "name": "python",
   "nbconvert_exporter": "python",
   "pygments_lexer": "ipython3",
   "version": "3.10.6"
  },
  "toc": {
   "base_numbering": 1,
   "nav_menu": {},
   "number_sections": true,
   "sideBar": true,
   "skip_h1_title": false,
   "title_cell": "Table of Contents",
   "title_sidebar": "Contents",
   "toc_cell": false,
   "toc_position": {},
   "toc_section_display": true,
   "toc_window_display": true
  }
 },
 "nbformat": 4,
 "nbformat_minor": 5
}
