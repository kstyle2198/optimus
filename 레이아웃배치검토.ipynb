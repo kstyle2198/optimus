{
 "cells": [
  {
   "cell_type": "code",
   "execution_count": 1,
   "id": "2fa08197-8377-4053-86a2-5a1e9d978b1d",
   "metadata": {},
   "outputs": [],
   "source": [
    "import pandas as pd\n",
    "import numpy as np\n",
    "from tqdm.notebook import tqdm\n",
    "from random import random, randrange, choice, shuffle\n",
    "from datetime import datetime, timedelta, date\n",
    "from itertools import combinations\n",
    "from pprint import pprint\n",
    "import calendar\n",
    "import plotly.express as px\n",
    "import time\n",
    "\n",
    "import matplotlib.pyplot as plt\n",
    "import matplotlib.colors as mcolors\n",
    "\n",
    "import warnings\n",
    "warnings.filterwarnings('ignore')\n",
    "\n",
    "from IPython.core.interactiveshell import InteractiveShell \n",
    "InteractiveShell.ast_node_interactivity = \"all\" # Cell의 모든 반환값 출력\n",
    "\n",
    "pd.set_option('display.max_rows', None)\n",
    "\n",
    "import sys\n",
    "import numpy\n",
    "numpy.set_printoptions(threshold=sys.maxsize)"
   ]
  },
  {
   "cell_type": "code",
   "execution_count": 2,
   "id": "ea97238d-6b81-47ba-bdfd-82c2a51966cb",
   "metadata": {},
   "outputs": [],
   "source": [
    "def init_jungban(사이즈):  #사이즈 = (10, 10)\n",
    "    surface_width, surface_height = 사이즈[0], 사이즈[1]  # Adjusted to match the provided image for demonstration\n",
    "    surface = np.zeros((surface_height, surface_width), dtype=int)\n",
    "    return surface, surface_width, surface_height\n",
    "\n",
    "def can_place_with_thresh(surface, surface_width, surface_height, block_height, block_width, start_row, start_col, thresh):\n",
    "    new_width = surface_width - thresh\n",
    "    new_height = surface_height - thresh\n",
    "    \n",
    "    if start_row + block_height > surface_height or start_col + block_width > surface_width:\n",
    "        return False\n",
    "\n",
    "    block_area = surface[start_row:start_row+block_height, start_col:start_col+block_width]\n",
    "    if np.any(block_area != 0):\n",
    "        return False\n",
    "    \n",
    "    if start_row > 0 and np.any(surface[start_row-thresh: start_row, start_col:start_col+block_width] != 0):\n",
    "        return False\n",
    "    if start_col > 0 and np.any(surface[start_row: start_row+block_height, start_col-thresh: start_col] != 0):\n",
    "        return False\n",
    "    \n",
    "    return True\n",
    "\n",
    "# Function to place a block on the surface, if possible\n",
    "def place_block(surface, block_height, block_width, start_row, start_col, block_id):\n",
    "    block_height, block_width = block_height, block_width\n",
    "    surface[start_row:start_row + block_height, start_col:start_col + block_width] = block_id\n",
    "    return surface"
   ]
  },
  {
   "cell_type": "code",
   "execution_count": 3,
   "id": "cae55577-eb68-4217-97f7-81fc26264bed",
   "metadata": {},
   "outputs": [],
   "source": [
    "def 레이아웃배치(surface, surface_width, surface_height, block_width, block_height, block_id, thresh):\n",
    "    \n",
    "    best_fit_score = float('inf')\n",
    "    best_position = None\n",
    "    \n",
    "    for start_row in range(surface_height - block_height + 1):\n",
    "        for start_col in range(surface_width - block_width + 1):\n",
    "            if can_place_with_thresh(surface, surface_width, surface_height, block_height, block_width, start_row, start_col, thresh):\n",
    "                # Calculate a score; here we use the top-left corner (y, x) as the score\n",
    "                # A lower score means the block is closer to the top-left\n",
    "                score = start_row + start_col\n",
    "                if score < best_fit_score:\n",
    "                    best_fit_score = score\n",
    "                    best_position = (start_row, start_col)\n",
    "    \n",
    "    if best_position:\n",
    "        surface = place_block(surface, block_height, block_width, *best_position, block_id)\n",
    "        return True, surface\n",
    "    else:\n",
    "        return False, surface"
   ]
  },
  {
   "cell_type": "code",
   "execution_count": 4,
   "id": "46be54ad-1903-4551-8b79-e8d39cda4133",
   "metadata": {},
   "outputs": [],
   "source": [
    "def remove_block(arr, del_id):\n",
    "    new_arr = arr.copy()\n",
    "    new_arr[new_arr == del_id] = 0\n",
    "    return new_arr"
   ]
  },
  {
   "cell_type": "code",
   "execution_count": 5,
   "id": "3f0b0870-3799-485a-b9c9-b7298680d25d",
   "metadata": {},
   "outputs": [
    {
     "data": {
      "text/plain": [
       "((8, 16), 16, 8)"
      ]
     },
     "execution_count": 5,
     "metadata": {},
     "output_type": "execute_result"
    }
   ],
   "source": [
    "# 정반 Init\n",
    "사이즈 = (16, 8)\n",
    "surface0, surface_width, surface_height = init_jungban(사이즈)\n",
    "surface0.shape, surface_width, surface_height"
   ]
  },
  {
   "cell_type": "code",
   "execution_count": 6,
   "id": "3d516560-0beb-41e3-b770-db73153d405b",
   "metadata": {},
   "outputs": [
    {
     "data": {
      "text/plain": [
       "(True,\n",
       " array([[1, 1, 1, 0, 0, 0, 0, 0, 0, 0, 0, 0, 0, 0, 0, 0],\n",
       "        [1, 1, 1, 0, 0, 0, 0, 0, 0, 0, 0, 0, 0, 0, 0, 0],\n",
       "        [1, 1, 1, 0, 0, 0, 0, 0, 0, 0, 0, 0, 0, 0, 0, 0],\n",
       "        [1, 1, 1, 0, 0, 0, 0, 0, 0, 0, 0, 0, 0, 0, 0, 0],\n",
       "        [1, 1, 1, 0, 0, 0, 0, 0, 0, 0, 0, 0, 0, 0, 0, 0],\n",
       "        [1, 1, 1, 0, 0, 0, 0, 0, 0, 0, 0, 0, 0, 0, 0, 0],\n",
       "        [0, 0, 0, 0, 0, 0, 0, 0, 0, 0, 0, 0, 0, 0, 0, 0],\n",
       "        [0, 0, 0, 0, 0, 0, 0, 0, 0, 0, 0, 0, 0, 0, 0, 0]]))"
      ]
     },
     "execution_count": 6,
     "metadata": {},
     "output_type": "execute_result"
    }
   ],
   "source": [
    "bool_res, surface1 = 레이아웃배치(surface0, surface_width, surface_height, 3, 6, 1, 1)\n",
    "bool_res, surface1"
   ]
  },
  {
   "cell_type": "code",
   "execution_count": 7,
   "id": "5f0140b4-8491-4ad3-b6a7-7d34abd3598e",
   "metadata": {},
   "outputs": [
    {
     "data": {
      "text/plain": [
       "(True,\n",
       " array([[1, 1, 1, 0, 2, 2, 2, 2, 0, 0, 0, 0, 0, 0, 0, 0],\n",
       "        [1, 1, 1, 0, 2, 2, 2, 2, 0, 0, 0, 0, 0, 0, 0, 0],\n",
       "        [1, 1, 1, 0, 2, 2, 2, 2, 0, 0, 0, 0, 0, 0, 0, 0],\n",
       "        [1, 1, 1, 0, 2, 2, 2, 2, 0, 0, 0, 0, 0, 0, 0, 0],\n",
       "        [1, 1, 1, 0, 2, 2, 2, 2, 0, 0, 0, 0, 0, 0, 0, 0],\n",
       "        [1, 1, 1, 0, 2, 2, 2, 2, 0, 0, 0, 0, 0, 0, 0, 0],\n",
       "        [0, 0, 0, 0, 2, 2, 2, 2, 0, 0, 0, 0, 0, 0, 0, 0],\n",
       "        [0, 0, 0, 0, 0, 0, 0, 0, 0, 0, 0, 0, 0, 0, 0, 0]]))"
      ]
     },
     "execution_count": 7,
     "metadata": {},
     "output_type": "execute_result"
    }
   ],
   "source": [
    "bool_res, surface2 = 레이아웃배치(surface1, surface_width, surface_height, 4, 7, 2, 1)\n",
    "bool_res, surface2"
   ]
  },
  {
   "cell_type": "code",
   "execution_count": 8,
   "id": "9452652c-7546-4e17-90fe-4ef7a021b7cc",
   "metadata": {},
   "outputs": [
    {
     "data": {
      "text/plain": [
       "(True,\n",
       " array([[1, 1, 1, 0, 2, 2, 2, 2, 0, 3, 3, 3, 0, 0, 0, 0],\n",
       "        [1, 1, 1, 0, 2, 2, 2, 2, 0, 3, 3, 3, 0, 0, 0, 0],\n",
       "        [1, 1, 1, 0, 2, 2, 2, 2, 0, 3, 3, 3, 0, 0, 0, 0],\n",
       "        [1, 1, 1, 0, 2, 2, 2, 2, 0, 3, 3, 3, 0, 0, 0, 0],\n",
       "        [1, 1, 1, 0, 2, 2, 2, 2, 0, 3, 3, 3, 0, 0, 0, 0],\n",
       "        [1, 1, 1, 0, 2, 2, 2, 2, 0, 0, 0, 0, 0, 0, 0, 0],\n",
       "        [0, 0, 0, 0, 2, 2, 2, 2, 0, 0, 0, 0, 0, 0, 0, 0],\n",
       "        [0, 0, 0, 0, 0, 0, 0, 0, 0, 0, 0, 0, 0, 0, 0, 0]]))"
      ]
     },
     "execution_count": 8,
     "metadata": {},
     "output_type": "execute_result"
    }
   ],
   "source": [
    "bool_res, surface3 = 레이아웃배치(surface2, surface_width, surface_height, 3, 5, 3, 1)\n",
    "bool_res, surface3"
   ]
  },
  {
   "cell_type": "code",
   "execution_count": 9,
   "id": "8a0cde98-b94a-4ede-9b23-de11a9af0eef",
   "metadata": {},
   "outputs": [
    {
     "data": {
      "text/plain": [
       "array([[1, 1, 1, 0, 0, 0, 0, 0, 0, 3, 3, 3, 0, 0, 0, 0],\n",
       "       [1, 1, 1, 0, 0, 0, 0, 0, 0, 3, 3, 3, 0, 0, 0, 0],\n",
       "       [1, 1, 1, 0, 0, 0, 0, 0, 0, 3, 3, 3, 0, 0, 0, 0],\n",
       "       [1, 1, 1, 0, 0, 0, 0, 0, 0, 3, 3, 3, 0, 0, 0, 0],\n",
       "       [1, 1, 1, 0, 0, 0, 0, 0, 0, 3, 3, 3, 0, 0, 0, 0],\n",
       "       [1, 1, 1, 0, 0, 0, 0, 0, 0, 0, 0, 0, 0, 0, 0, 0],\n",
       "       [0, 0, 0, 0, 0, 0, 0, 0, 0, 0, 0, 0, 0, 0, 0, 0],\n",
       "       [0, 0, 0, 0, 0, 0, 0, 0, 0, 0, 0, 0, 0, 0, 0, 0]])"
      ]
     },
     "execution_count": 9,
     "metadata": {},
     "output_type": "execute_result"
    }
   ],
   "source": [
    "surface4 = remove_block(surface3, 2)\n",
    "surface4"
   ]
  },
  {
   "cell_type": "code",
   "execution_count": 10,
   "id": "d1e50418-69e2-453c-a1a1-c2935b6cfe3e",
   "metadata": {},
   "outputs": [
    {
     "data": {
      "text/plain": [
       "array([[1, 1, 1, 0, 2, 2, 2, 2, 0, 3, 3, 3, 0, 0, 0, 0],\n",
       "       [1, 1, 1, 0, 2, 2, 2, 2, 0, 3, 3, 3, 0, 0, 0, 0],\n",
       "       [1, 1, 1, 0, 2, 2, 2, 2, 0, 3, 3, 3, 0, 0, 0, 0],\n",
       "       [1, 1, 1, 0, 2, 2, 2, 2, 0, 3, 3, 3, 0, 0, 0, 0],\n",
       "       [1, 1, 1, 0, 2, 2, 2, 2, 0, 3, 3, 3, 0, 0, 0, 0],\n",
       "       [1, 1, 1, 0, 2, 2, 2, 2, 0, 0, 0, 0, 0, 0, 0, 0],\n",
       "       [0, 0, 0, 0, 2, 2, 2, 2, 0, 0, 0, 0, 0, 0, 0, 0],\n",
       "       [0, 0, 0, 0, 0, 0, 0, 0, 0, 0, 0, 0, 0, 0, 0, 0]])"
      ]
     },
     "execution_count": 10,
     "metadata": {},
     "output_type": "execute_result"
    }
   ],
   "source": [
    "surface3"
   ]
  },
  {
   "cell_type": "code",
   "execution_count": 11,
   "id": "05c6d737-f5c2-420b-be9c-e76bea64cdd3",
   "metadata": {},
   "outputs": [],
   "source": [
    "def get_overlapped_surface(*arrays):\n",
    "    result = arrays[0]\n",
    "    for arr in arrays[1:]:\n",
    "        result = np.add(result, arr)\n",
    "    return result"
   ]
  },
  {
   "cell_type": "code",
   "execution_count": 12,
   "id": "2f388040-3cf4-4d9e-b79d-a4400bfff6e5",
   "metadata": {},
   "outputs": [
    {
     "data": {
      "text/plain": [
       "array([[2, 2, 2, 0, 2, 2, 2, 2, 0, 6, 6, 6, 0, 0, 0, 0],\n",
       "       [2, 2, 2, 0, 2, 2, 2, 2, 0, 6, 6, 6, 0, 0, 0, 0],\n",
       "       [2, 2, 2, 0, 2, 2, 2, 2, 0, 6, 6, 6, 0, 0, 0, 0],\n",
       "       [2, 2, 2, 0, 2, 2, 2, 2, 0, 6, 6, 6, 0, 0, 0, 0],\n",
       "       [2, 2, 2, 0, 2, 2, 2, 2, 0, 6, 6, 6, 0, 0, 0, 0],\n",
       "       [2, 2, 2, 0, 2, 2, 2, 2, 0, 0, 0, 0, 0, 0, 0, 0],\n",
       "       [0, 0, 0, 0, 2, 2, 2, 2, 0, 0, 0, 0, 0, 0, 0, 0],\n",
       "       [0, 0, 0, 0, 0, 0, 0, 0, 0, 0, 0, 0, 0, 0, 0, 0]])"
      ]
     },
     "execution_count": 12,
     "metadata": {},
     "output_type": "execute_result"
    }
   ],
   "source": [
    "overlapped_surface = get_overlapped_surface(*[surface3, surface4])\n",
    "overlapped_surface"
   ]
  },
  {
   "cell_type": "code",
   "execution_count": 13,
   "id": "579244f4-34c9-48a6-899e-641f7b866142",
   "metadata": {},
   "outputs": [
    {
     "data": {
      "text/plain": [
       "(True,\n",
       " array([[2, 2, 2, 0, 2, 2, 2, 2, 0, 6, 6, 6, 0, 0, 0, 0],\n",
       "        [2, 2, 2, 0, 2, 2, 2, 2, 0, 6, 6, 6, 0, 0, 0, 0],\n",
       "        [2, 2, 2, 0, 2, 2, 2, 2, 0, 6, 6, 6, 0, 0, 0, 0],\n",
       "        [2, 2, 2, 0, 2, 2, 2, 2, 0, 6, 6, 6, 0, 0, 0, 0],\n",
       "        [2, 2, 2, 0, 2, 2, 2, 2, 0, 6, 6, 6, 0, 0, 0, 0],\n",
       "        [2, 2, 2, 0, 2, 2, 2, 2, 0, 0, 0, 0, 4, 4, 4, 4],\n",
       "        [0, 0, 0, 0, 2, 2, 2, 2, 0, 0, 0, 0, 4, 4, 4, 4],\n",
       "        [0, 0, 0, 0, 0, 0, 0, 0, 0, 0, 0, 0, 4, 4, 4, 4]]))"
      ]
     },
     "execution_count": 13,
     "metadata": {},
     "output_type": "execute_result"
    }
   ],
   "source": [
    "bool_res, surface6 = 레이아웃배치(overlapped_surface, surface_width, surface_height, 4, 3, 4, 1)\n",
    "bool_res, surface6"
   ]
  },
  {
   "cell_type": "code",
   "execution_count": 14,
   "id": "e59c5b53-d861-4c9e-9ee6-63f5aa8daf17",
   "metadata": {},
   "outputs": [],
   "source": [
    "# 특정 값만 남기고 다 지운후에 그 결과를 다시 각 해당일 surface에 더해준다...천재네..ㅋ\n",
    "def extract_newblock_layout_only(overlapped_surface, block_id):\n",
    "    mask = overlapped_surface != block_id\n",
    "    overlapped_surface[mask] = 0\n",
    "    newblock_layout = overlapped_surface\n",
    "    return newblock_layout"
   ]
  },
  {
   "cell_type": "code",
   "execution_count": 15,
   "id": "02488748-0e4f-4671-9a63-e8965b94b72c",
   "metadata": {},
   "outputs": [
    {
     "data": {
      "text/plain": [
       "array([[0, 0, 0, 0, 0, 0, 0, 0, 0, 0, 0, 0, 0, 0, 0, 0],\n",
       "       [0, 0, 0, 0, 0, 0, 0, 0, 0, 0, 0, 0, 0, 0, 0, 0],\n",
       "       [0, 0, 0, 0, 0, 0, 0, 0, 0, 0, 0, 0, 0, 0, 0, 0],\n",
       "       [0, 0, 0, 0, 0, 0, 0, 0, 0, 0, 0, 0, 0, 0, 0, 0],\n",
       "       [0, 0, 0, 0, 0, 0, 0, 0, 0, 0, 0, 0, 0, 0, 0, 0],\n",
       "       [0, 0, 0, 0, 0, 0, 0, 0, 0, 0, 0, 0, 4, 4, 4, 4],\n",
       "       [0, 0, 0, 0, 0, 0, 0, 0, 0, 0, 0, 0, 4, 4, 4, 4],\n",
       "       [0, 0, 0, 0, 0, 0, 0, 0, 0, 0, 0, 0, 4, 4, 4, 4]])"
      ]
     },
     "execution_count": 15,
     "metadata": {},
     "output_type": "execute_result"
    }
   ],
   "source": [
    "newblock_layout = extract_newblock_layout_only(surface6, 4)\n",
    "newblock_layout"
   ]
  },
  {
   "cell_type": "code",
   "execution_count": null,
   "id": "d4431844-bf8b-4434-ad43-a8424b90f868",
   "metadata": {},
   "outputs": [],
   "source": []
  },
  {
   "cell_type": "code",
   "execution_count": null,
   "id": "4ac55d18-4df5-415e-88b6-38972c843e6c",
   "metadata": {},
   "outputs": [],
   "source": []
  },
  {
   "cell_type": "code",
   "execution_count": null,
   "id": "2f2cb0b6-0a9d-4005-957f-731927023f75",
   "metadata": {},
   "outputs": [],
   "source": []
  },
  {
   "cell_type": "code",
   "execution_count": null,
   "id": "c4373d19-d99a-4221-a3a6-0222cf656088",
   "metadata": {},
   "outputs": [],
   "source": []
  },
  {
   "cell_type": "code",
   "execution_count": null,
   "id": "2eda7df6-6a74-40c5-aafd-5ee4b0a16ecc",
   "metadata": {},
   "outputs": [],
   "source": []
  },
  {
   "cell_type": "code",
   "execution_count": null,
   "id": "e99de98f-c724-474e-8997-247b84b97d02",
   "metadata": {},
   "outputs": [],
   "source": []
  },
  {
   "cell_type": "code",
   "execution_count": 26,
   "id": "df4c76d3-0d97-4892-8d4c-c46eac667004",
   "metadata": {},
   "outputs": [],
   "source": [
    "def draw_layout(surface, block_names):\n",
    "    fig, ax = plt.subplots(figsize=(8, 8))\n",
    "\n",
    "    cmap = mcolors.ListedColormap(['white'] + ['C{}'.format(i) for i in range(len(block_names))])\n",
    "    norm = mcolors.BoundaryNorm(np.arange(0.5, len(block_names) + 2), cmap.N)\n",
    "\n",
    "    ax.imshow(surface, cmap=cmap, norm=norm)\n",
    "\n",
    "    for y in range(surface.shape[0]):\n",
    "        for x in range(surface.shape[1]):\n",
    "            if surface[y, x] != 0:\n",
    "                ax.text(x, y, str(block_names[surface[y, x]-1]), ha='center', va='center', color='black', fontsize=6)\n",
    "                \n",
    "    ax.set_xticks(np.arange(-.5, surface.shape[1], 1), minor=True)\n",
    "    ax.set_yticks(np.arange(-.5, surface.shape[0], 1), minor=True)\n",
    "    ax.grid(which=\"minor\", color=\"black\", linestyle='-', linewidth=1)\n",
    "    ax.tick_params(which=\"minor\", size=0)\n",
    "\n",
    "    ax.set_xticks([])\n",
    "    ax.set_yticks([])\n",
    "\n",
    "    plt.show()"
   ]
  },
  {
   "cell_type": "code",
   "execution_count": 27,
   "id": "fd4f6a09-8d3f-4719-a3aa-dd28e2cece4d",
   "metadata": {},
   "outputs": [
    {
     "data": {
      "image/png": "[encoded data removed]",
      "text/plain": [
       "<Figure size 800x800 with 1 Axes>"
      ]
     },
     "metadata": {},
     "output_type": "display_data"
    }
   ],
   "source": [
    "block_names = [\"S1\", \"S2\", \"S3\", \"S4\", \"S5\"]\n",
    "draw_layout(surface3, block_names)\n"
   ]
  },
  {
   "cell_type": "code",
   "execution_count": 28,
   "id": "292a1e43-8496-459d-81ed-0b3e0e15c724",
   "metadata": {},
   "outputs": [
    {
     "data": {
      "text/plain": [
       "array([[1, 1, 1, 0, 2, 2, 2, 2, 0, 3, 3, 3, 0, 0, 0, 0],\n",
       "       [1, 1, 1, 0, 2, 2, 2, 2, 0, 3, 3, 3, 0, 0, 0, 0],\n",
       "       [1, 1, 1, 0, 2, 2, 2, 2, 0, 3, 3, 3, 0, 0, 0, 0],\n",
       "       [1, 1, 1, 0, 2, 2, 2, 2, 0, 3, 3, 3, 0, 0, 0, 0],\n",
       "       [1, 1, 1, 0, 2, 2, 2, 2, 0, 3, 3, 3, 0, 0, 0, 0],\n",
       "       [1, 1, 1, 0, 2, 2, 2, 2, 0, 0, 0, 0, 0, 0, 0, 0],\n",
       "       [0, 0, 0, 0, 2, 2, 2, 2, 0, 0, 0, 0, 0, 0, 0, 0],\n",
       "       [0, 0, 0, 0, 0, 0, 0, 0, 0, 0, 0, 0, 0, 0, 0, 0]])"
      ]
     },
     "execution_count": 28,
     "metadata": {},
     "output_type": "execute_result"
    }
   ],
   "source": [
    "surface3"
   ]
  },
  {
   "cell_type": "code",
   "execution_count": null,
   "id": "7866341a-11e7-433e-b4ed-b9c653694012",
   "metadata": {},
   "outputs": [],
   "source": []
  }
 ],
 "metadata": {
  "kernelspec": {
   "display_name": "Python 3 (ipykernel)",
   "language": "python",
   "name": "python3"
  },
  "language_info": {
   "codemirror_mode": {
    "name": "ipython",
    "version": 3
   },
   "file_extension": ".py",
   "mimetype": "text/x-python",
   "name": "python",
   "nbconvert_exporter": "python",
   "pygments_lexer": "ipython3",
   "version": "3.10.11"
  }
 },
 "nbformat": 4,
 "nbformat_minor": 5
}
