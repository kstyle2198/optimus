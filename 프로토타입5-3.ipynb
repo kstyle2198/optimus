{
 "cells": [
  {
   "cell_type": "code",
   "execution_count": 1,
   "id": "f9b64f3a",
   "metadata": {},
   "outputs": [],
   "source": [
    "import pandas as pd\n",
    "import numpy as np\n",
    "from tqdm import tqdm\n",
    "from random import random, randrange, choice, shuffle\n",
    "from datetime import datetime, timedelta\n",
    "from itertools import combinations\n",
    "from pprint import pprint\n",
    "\n",
    "import matplotlib.pyplot as plt\n",
    "import matplotlib.colors as mcolors\n",
    "\n",
    "import warnings\n",
    "warnings.filterwarnings('ignore')\n",
    "\n",
    "from IPython.core.interactiveshell import InteractiveShell \n",
    "InteractiveShell.ast_node_interactivity = \"all\" # Cell의 모든 반환값 출력"
   ]
  },
  {
   "cell_type": "markdown",
   "id": "09df493d",
   "metadata": {},
   "source": [
    "# 기본 데이터 세팅"
   ]
  },
  {
   "cell_type": "code",
   "execution_count": 2,
   "id": "e9045597",
   "metadata": {},
   "outputs": [
    {
     "data": {
      "text/html": [
       "<div>\n",
       "<style scoped>\n",
       "    .dataframe tbody tr th:only-of-type {\n",
       "        vertical-align: middle;\n",
       "    }\n",
       "\n",
       "    .dataframe tbody tr th {\n",
       "        vertical-align: top;\n",
       "    }\n",
       "\n",
       "    .dataframe thead th {\n",
       "        text-align: right;\n",
       "    }\n",
       "</style>\n",
       "<table border=\"1\" class=\"dataframe\">\n",
       "  <thead>\n",
       "    <tr style=\"text-align: right;\">\n",
       "      <th></th>\n",
       "      <th>블록명</th>\n",
       "      <th>중량</th>\n",
       "      <th>가로</th>\n",
       "      <th>세로</th>\n",
       "      <th>표준공기</th>\n",
       "      <th>납기</th>\n",
       "      <th>정반배치</th>\n",
       "    </tr>\n",
       "  </thead>\n",
       "  <tbody>\n",
       "    <tr>\n",
       "      <th>0</th>\n",
       "      <td>S1</td>\n",
       "      <td>50</td>\n",
       "      <td>10</td>\n",
       "      <td>10</td>\n",
       "      <td>2</td>\n",
       "      <td>2024-02-15</td>\n",
       "      <td>0</td>\n",
       "    </tr>\n",
       "    <tr>\n",
       "      <th>1</th>\n",
       "      <td>S2</td>\n",
       "      <td>60</td>\n",
       "      <td>10</td>\n",
       "      <td>12</td>\n",
       "      <td>3</td>\n",
       "      <td>2024-02-15</td>\n",
       "      <td>0</td>\n",
       "    </tr>\n",
       "    <tr>\n",
       "      <th>2</th>\n",
       "      <td>S3</td>\n",
       "      <td>30</td>\n",
       "      <td>5</td>\n",
       "      <td>6</td>\n",
       "      <td>1</td>\n",
       "      <td>2024-02-15</td>\n",
       "      <td>0</td>\n",
       "    </tr>\n",
       "    <tr>\n",
       "      <th>3</th>\n",
       "      <td>S4</td>\n",
       "      <td>20</td>\n",
       "      <td>5</td>\n",
       "      <td>6</td>\n",
       "      <td>2</td>\n",
       "      <td>2024-02-15</td>\n",
       "      <td>0</td>\n",
       "    </tr>\n",
       "  </tbody>\n",
       "</table>\n",
       "</div>"
      ],
      "text/plain": [
       "  블록명  중량  가로  세로  표준공기          납기  정반배치\n",
       "0  S1  50  10  10     2  2024-02-15     0\n",
       "1  S2  60  10  12     3  2024-02-15     0\n",
       "2  S3  30   5   6     1  2024-02-15     0\n",
       "3  S4  20   5   6     2  2024-02-15     0"
      ]
     },
     "execution_count": 2,
     "metadata": {},
     "output_type": "execute_result"
    }
   ],
   "source": [
    "블록원데이터 = pd.DataFrame({\"블록명\":[\"S1\", \"S2\", \"S3\", \"S4\"], \n",
    "                    \"중량\": [50, 60, 30, 20], \n",
    "                    \"가로\": [10, 10, 5, 5], \n",
    "                    \"세로\":[10, 12, 6, 6], \n",
    "                    \"표준공기\":[2, 3, 1, 2], \n",
    "                    \"납기\":[\"2024-02-15\", \"2024-02-15\", \"2024-02-15\", \"2024-02-15\"],\n",
    "                    \"정반배치\":[0, 0, 0, 0]})\n",
    "블록원데이터.head()"
   ]
  },
  {
   "cell_type": "code",
   "execution_count": 3,
   "id": "d5908f92",
   "metadata": {},
   "outputs": [
    {
     "data": {
      "text/html": [
       "<div>\n",
       "<style scoped>\n",
       "    .dataframe tbody tr th:only-of-type {\n",
       "        vertical-align: middle;\n",
       "    }\n",
       "\n",
       "    .dataframe tbody tr th {\n",
       "        vertical-align: top;\n",
       "    }\n",
       "\n",
       "    .dataframe thead th {\n",
       "        text-align: right;\n",
       "    }\n",
       "</style>\n",
       "<table border=\"1\" class=\"dataframe\">\n",
       "  <thead>\n",
       "    <tr style=\"text-align: right;\">\n",
       "      <th></th>\n",
       "      <th>정반명</th>\n",
       "      <th>가능중량</th>\n",
       "      <th>가로</th>\n",
       "      <th>세로</th>\n",
       "    </tr>\n",
       "  </thead>\n",
       "  <tbody>\n",
       "    <tr>\n",
       "      <th>0</th>\n",
       "      <td>A</td>\n",
       "      <td>100</td>\n",
       "      <td>10</td>\n",
       "      <td>20</td>\n",
       "    </tr>\n",
       "    <tr>\n",
       "      <th>1</th>\n",
       "      <td>B</td>\n",
       "      <td>100</td>\n",
       "      <td>10</td>\n",
       "      <td>10</td>\n",
       "    </tr>\n",
       "    <tr>\n",
       "      <th>2</th>\n",
       "      <td>C</td>\n",
       "      <td>30</td>\n",
       "      <td>5</td>\n",
       "      <td>10</td>\n",
       "    </tr>\n",
       "  </tbody>\n",
       "</table>\n",
       "</div>"
      ],
      "text/plain": [
       "  정반명  가능중량  가로  세로\n",
       "0   A   100  10  20\n",
       "1   B   100  10  10\n",
       "2   C    30   5  10"
      ]
     },
     "execution_count": 3,
     "metadata": {},
     "output_type": "execute_result"
    }
   ],
   "source": [
    "정반원데이터 = pd.DataFrame({\"정반명\":[\"A\", \"B\", \"C\"],\n",
    "                   \"가능중량\":[100, 100, 30],\n",
    "                   \"가로\":[10, 10, 5],\n",
    "                   \"세로\":[20, 10, 10],\n",
    "                   })\n",
    "정반원데이터.head()"
   ]
  },
  {
   "cell_type": "code",
   "execution_count": 4,
   "id": "3afd4249",
   "metadata": {},
   "outputs": [
    {
     "data": {
      "text/plain": [
       "1"
      ]
     },
     "execution_count": 4,
     "metadata": {},
     "output_type": "execute_result"
    }
   ],
   "source": [
    "정반원데이터.index[정반원데이터[\"정반명\"]==\"B\"].values[0]"
   ]
  },
  {
   "cell_type": "code",
   "execution_count": 5,
   "id": "ef19c09f",
   "metadata": {},
   "outputs": [
    {
     "data": {
      "text/plain": [
       "DatetimeIndex(['2024-02-01', '2024-02-02', '2024-02-03', '2024-02-04',\n",
       "               '2024-02-05', '2024-02-06', '2024-02-07', '2024-02-08',\n",
       "               '2024-02-09', '2024-02-10', '2024-02-11', '2024-02-12',\n",
       "               '2024-02-13', '2024-02-14', '2024-02-15', '2024-02-16',\n",
       "               '2024-02-17', '2024-02-18', '2024-02-19', '2024-02-20',\n",
       "               '2024-02-21', '2024-02-22', '2024-02-23', '2024-02-24',\n",
       "               '2024-02-25', '2024-02-26', '2024-02-27', '2024-02-28'],\n",
       "              dtype='datetime64[ns]', freq='D')"
      ]
     },
     "execution_count": 5,
     "metadata": {},
     "output_type": "execute_result"
    }
   ],
   "source": [
    "start_date = datetime(2024, 2, 1)\n",
    "end_date = datetime(2024, 2, 28)\n",
    "날짜집합  = pd.date_range(start=start_date, end=end_date, freq='D')\n",
    "날짜집합"
   ]
  },
  {
   "cell_type": "code",
   "execution_count": 6,
   "id": "ee2ee346",
   "metadata": {},
   "outputs": [
    {
     "data": {
      "text/plain": [
       "['S1', 'S2', 'S3', 'S4']"
      ]
     },
     "execution_count": 6,
     "metadata": {},
     "output_type": "execute_result"
    }
   ],
   "source": [
    "블록집합 = 블록원데이터[\"블록명\"].unique().tolist()\n",
    "블록집합"
   ]
  },
  {
   "cell_type": "code",
   "execution_count": 7,
   "id": "71d472fc",
   "metadata": {},
   "outputs": [
    {
     "data": {
      "text/plain": [
       "['A', 'B', 'C']"
      ]
     },
     "execution_count": 7,
     "metadata": {},
     "output_type": "execute_result"
    }
   ],
   "source": [
    "최초정반집합 = 정반원데이터[\"정반명\"].unique().tolist()\n",
    "최초정반집합"
   ]
  },
  {
   "cell_type": "markdown",
   "id": "70935972",
   "metadata": {},
   "source": [
    "# 블록 데이터 전처리 함수"
   ]
  },
  {
   "cell_type": "code",
   "execution_count": 8,
   "id": "52c1c100",
   "metadata": {},
   "outputs": [],
   "source": [
    "import functools\n",
    "def unpack_df_columns(func):\n",
    "    @functools.wraps(func)\n",
    "    def _unpack_df_columns(*args, **kwargs):\n",
    "        series = args[0]\n",
    "        return func(*series.values)\n",
    "    return _unpack_df_columns"
   ]
  },
  {
   "cell_type": "code",
   "execution_count": 9,
   "id": "aa800a66",
   "metadata": {},
   "outputs": [],
   "source": [
    "@unpack_df_columns\n",
    "def 최소착수요구일구하기(납기, 공기):\n",
    "    result = pd.to_datetime(납기) - timedelta(days=int(공기))\n",
    "    return result.date()"
   ]
  },
  {
   "cell_type": "code",
   "execution_count": 10,
   "id": "1c77f1ff",
   "metadata": {},
   "outputs": [],
   "source": [
    "착수일가중치, 공기가중치, 크기가중치 = 0.7, 0.5, 0.5\n",
    "\n",
    "@unpack_df_columns\n",
    "def 블록우선순위구하기(날순, 공순, 크순):\n",
    "    global 착수일가중치, 공기가중치, 크기가중치\n",
    "    result = np.round((날순*착수일가중치 + 공순*공기가중치 + 크순*크기가중치)/3,1)\n",
    "    return result\n",
    "\n",
    "@unpack_df_columns\n",
    "def 블록사이즈튜플만들기(가로, 세로):\n",
    "    길이1 = max(가로, 세로)  \n",
    "    길이2 = min(가로, 세로)\n",
    "    result = (길이2, 길이1)\n",
    "    return result"
   ]
  },
  {
   "cell_type": "code",
   "execution_count": 11,
   "id": "65f716a2",
   "metadata": {},
   "outputs": [],
   "source": [
    "def 블록데이터전처리(블록원데이터):\n",
    "    df1 = 블록원데이터.copy()\n",
    "    df1[\"사이즈\"] = df1[[\"가로\", \"세로\"]].apply(블록사이즈튜플만들기, axis=1)\n",
    "    df1[\"납기\"] = pd.to_datetime(df1[\"납기\"])\n",
    "    df1[\"면적\"] = df1.eval(\"가로*세로\")\n",
    "    df1[\"최소착수요구일\"] = df1[[\"납기\", \"표준공기\"]].apply(최소착수요구일구하기, axis=1)\n",
    "    df1[\"날짜순서\"] = df1[\"최소착수요구일\"].rank()\n",
    "    df1[\"공기순서\"] = df1[\"표준공기\"].rank(ascending=False)\n",
    "    df1[\"크기순서\"] = df1[\"면적\"].rank(ascending=False)\n",
    "    df1[\"우선순위\"] = df1[[\"날짜순서\", \"공기순서\", \"크기순서\"]].apply(블록우선순위구하기, axis=1)\n",
    "    \n",
    "    df1 = df1.drop(['가로', '세로'], axis=1)\n",
    "    df1 = df1.sort_values(by=[\"우선순위\"])\n",
    "    return df1"
   ]
  },
  {
   "cell_type": "code",
   "execution_count": 12,
   "id": "62c11c89",
   "metadata": {},
   "outputs": [
    {
     "data": {
      "text/html": [
       "<div>\n",
       "<style scoped>\n",
       "    .dataframe tbody tr th:only-of-type {\n",
       "        vertical-align: middle;\n",
       "    }\n",
       "\n",
       "    .dataframe tbody tr th {\n",
       "        vertical-align: top;\n",
       "    }\n",
       "\n",
       "    .dataframe thead th {\n",
       "        text-align: right;\n",
       "    }\n",
       "</style>\n",
       "<table border=\"1\" class=\"dataframe\">\n",
       "  <thead>\n",
       "    <tr style=\"text-align: right;\">\n",
       "      <th></th>\n",
       "      <th>블록명</th>\n",
       "      <th>중량</th>\n",
       "      <th>표준공기</th>\n",
       "      <th>납기</th>\n",
       "      <th>정반배치</th>\n",
       "      <th>사이즈</th>\n",
       "      <th>면적</th>\n",
       "      <th>최소착수요구일</th>\n",
       "      <th>날짜순서</th>\n",
       "      <th>공기순서</th>\n",
       "      <th>크기순서</th>\n",
       "      <th>우선순위</th>\n",
       "    </tr>\n",
       "  </thead>\n",
       "  <tbody>\n",
       "    <tr>\n",
       "      <th>1</th>\n",
       "      <td>S2</td>\n",
       "      <td>60</td>\n",
       "      <td>3</td>\n",
       "      <td>2024-02-15</td>\n",
       "      <td>0</td>\n",
       "      <td>(10, 12)</td>\n",
       "      <td>120</td>\n",
       "      <td>2024-02-12</td>\n",
       "      <td>1.0</td>\n",
       "      <td>1.0</td>\n",
       "      <td>1.0</td>\n",
       "      <td>0.6</td>\n",
       "    </tr>\n",
       "    <tr>\n",
       "      <th>0</th>\n",
       "      <td>S1</td>\n",
       "      <td>50</td>\n",
       "      <td>2</td>\n",
       "      <td>2024-02-15</td>\n",
       "      <td>0</td>\n",
       "      <td>(10, 10)</td>\n",
       "      <td>100</td>\n",
       "      <td>2024-02-13</td>\n",
       "      <td>2.5</td>\n",
       "      <td>2.5</td>\n",
       "      <td>2.0</td>\n",
       "      <td>1.3</td>\n",
       "    </tr>\n",
       "    <tr>\n",
       "      <th>3</th>\n",
       "      <td>S4</td>\n",
       "      <td>20</td>\n",
       "      <td>2</td>\n",
       "      <td>2024-02-15</td>\n",
       "      <td>0</td>\n",
       "      <td>(5, 6)</td>\n",
       "      <td>30</td>\n",
       "      <td>2024-02-13</td>\n",
       "      <td>2.5</td>\n",
       "      <td>2.5</td>\n",
       "      <td>3.5</td>\n",
       "      <td>1.6</td>\n",
       "    </tr>\n",
       "    <tr>\n",
       "      <th>2</th>\n",
       "      <td>S3</td>\n",
       "      <td>30</td>\n",
       "      <td>1</td>\n",
       "      <td>2024-02-15</td>\n",
       "      <td>0</td>\n",
       "      <td>(5, 6)</td>\n",
       "      <td>30</td>\n",
       "      <td>2024-02-14</td>\n",
       "      <td>4.0</td>\n",
       "      <td>4.0</td>\n",
       "      <td>3.5</td>\n",
       "      <td>2.2</td>\n",
       "    </tr>\n",
       "  </tbody>\n",
       "</table>\n",
       "</div>"
      ],
      "text/plain": [
       "  블록명  중량  표준공기         납기  정반배치       사이즈   면적     최소착수요구일  날짜순서  공기순서  크기순서  \\\n",
       "1  S2  60     3 2024-02-15     0  (10, 12)  120  2024-02-12   1.0   1.0   1.0   \n",
       "0  S1  50     2 2024-02-15     0  (10, 10)  100  2024-02-13   2.5   2.5   2.0   \n",
       "3  S4  20     2 2024-02-15     0    (5, 6)   30  2024-02-13   2.5   2.5   3.5   \n",
       "2  S3  30     1 2024-02-15     0    (5, 6)   30  2024-02-14   4.0   4.0   3.5   \n",
       "\n",
       "   우선순위  \n",
       "1   0.6  \n",
       "0   1.3  \n",
       "3   1.6  \n",
       "2   2.2  "
      ]
     },
     "execution_count": 12,
     "metadata": {},
     "output_type": "execute_result"
    }
   ],
   "source": [
    "df1 = 블록데이터전처리(블록원데이터)\n",
    "df1"
   ]
  },
  {
   "cell_type": "code",
   "execution_count": 13,
   "id": "4bce4c99",
   "metadata": {},
   "outputs": [
    {
     "name": "stdout",
     "output_type": "stream",
     "text": [
      "  블록명  우선순위\n",
      "1  S2   3.3\n",
      "0  S1   8.2\n",
      "3  S4   8.5\n",
      "2  S3  13.2\n",
      "  블록명  우선순위\n",
      "1  S2   3.3\n",
      "0  S1   6.8\n",
      "3  S4  11.3\n",
      "2  S3  11.8\n"
     ]
    }
   ],
   "source": [
    "공기가중치 = [9, 0.5]\n",
    "크기가중치 = [0.5, 9]\n",
    "착수일가중치 = 0.5\n",
    "for 공기가중치, 크기가중치 in zip(공기가중치, 크기가중치):\n",
    "    df2 = 블록데이터전처리(블록원데이터)\n",
    "    print(df2[[\"블록명\", \"우선순위\"]])"
   ]
  },
  {
   "cell_type": "markdown",
   "id": "23c1b482",
   "metadata": {},
   "source": [
    "# 정반 데이터 전처리 함수"
   ]
  },
  {
   "cell_type": "code",
   "execution_count": 14,
   "id": "21a217cc",
   "metadata": {},
   "outputs": [],
   "source": [
    "중량가중치, 크기가중치 = 0.5, 0.7\n",
    "\n",
    "@unpack_df_columns\n",
    "def 정반우선순위구하기(중순, 크순):\n",
    "    global 중량가중치, 크기가중치\n",
    "    result = np.round((중순*중량가중치 + 크순*크기가중치)/3,1)\n",
    "    return result\n",
    "\n",
    "@unpack_df_columns\n",
    "def 정반사이즈튜플만들기(가로, 세로):\n",
    "    길이1 = max(가로, 세로)  \n",
    "    길이2 = min(가로, 세로)\n",
    "    result = (길이1, 길이2)\n",
    "    return result"
   ]
  },
  {
   "cell_type": "code",
   "execution_count": 15,
   "id": "e8232335",
   "metadata": {},
   "outputs": [],
   "source": [
    "def 정반데이터전처리(정반원데이터):\n",
    "    df = 정반원데이터.copy()\n",
    "    \n",
    "    df[\"사이즈\"] = df[[\"가로\", \"세로\"]].apply(정반사이즈튜플만들기, axis=1)\n",
    "    df[\"면적\"] = df.eval(\"가로*세로\")\n",
    "    df[\"중량순서\"] = df[\"가능중량\"].rank(ascending=False)\n",
    "    df[\"크기순서\"] = df[\"면적\"].rank(ascending=False)\n",
    "    df[\"우선순위\"] = df[[\"중량순서\", \"크기순서\"]].apply(정반우선순위구하기, axis=1)\n",
    "    \n",
    "    df = df.drop(['가로', '세로'], axis=1)\n",
    "    df = df.sort_values(by=[\"우선순위\"])\n",
    "    return df"
   ]
  },
  {
   "cell_type": "code",
   "execution_count": 16,
   "id": "ff9147f0",
   "metadata": {},
   "outputs": [
    {
     "data": {
      "text/html": [
       "<div>\n",
       "<style scoped>\n",
       "    .dataframe tbody tr th:only-of-type {\n",
       "        vertical-align: middle;\n",
       "    }\n",
       "\n",
       "    .dataframe tbody tr th {\n",
       "        vertical-align: top;\n",
       "    }\n",
       "\n",
       "    .dataframe thead th {\n",
       "        text-align: right;\n",
       "    }\n",
       "</style>\n",
       "<table border=\"1\" class=\"dataframe\">\n",
       "  <thead>\n",
       "    <tr style=\"text-align: right;\">\n",
       "      <th></th>\n",
       "      <th>정반명</th>\n",
       "      <th>가능중량</th>\n",
       "      <th>사이즈</th>\n",
       "      <th>면적</th>\n",
       "      <th>중량순서</th>\n",
       "      <th>크기순서</th>\n",
       "      <th>우선순위</th>\n",
       "    </tr>\n",
       "  </thead>\n",
       "  <tbody>\n",
       "    <tr>\n",
       "      <th>0</th>\n",
       "      <td>A</td>\n",
       "      <td>100</td>\n",
       "      <td>(20, 10)</td>\n",
       "      <td>200</td>\n",
       "      <td>1.5</td>\n",
       "      <td>1.0</td>\n",
       "      <td>0.5</td>\n",
       "    </tr>\n",
       "    <tr>\n",
       "      <th>1</th>\n",
       "      <td>B</td>\n",
       "      <td>100</td>\n",
       "      <td>(10, 10)</td>\n",
       "      <td>100</td>\n",
       "      <td>1.5</td>\n",
       "      <td>2.0</td>\n",
       "      <td>0.7</td>\n",
       "    </tr>\n",
       "    <tr>\n",
       "      <th>2</th>\n",
       "      <td>C</td>\n",
       "      <td>30</td>\n",
       "      <td>(10, 5)</td>\n",
       "      <td>50</td>\n",
       "      <td>3.0</td>\n",
       "      <td>3.0</td>\n",
       "      <td>1.2</td>\n",
       "    </tr>\n",
       "  </tbody>\n",
       "</table>\n",
       "</div>"
      ],
      "text/plain": [
       "  정반명  가능중량       사이즈   면적  중량순서  크기순서  우선순위\n",
       "0   A   100  (20, 10)  200   1.5   1.0   0.5\n",
       "1   B   100  (10, 10)  100   1.5   2.0   0.7\n",
       "2   C    30   (10, 5)   50   3.0   3.0   1.2"
      ]
     },
     "execution_count": 16,
     "metadata": {},
     "output_type": "execute_result"
    }
   ],
   "source": [
    "df2 = 정반데이터전처리(정반원데이터)\n",
    "df2"
   ]
  },
  {
   "cell_type": "code",
   "execution_count": 17,
   "id": "9b59b991",
   "metadata": {},
   "outputs": [
    {
     "name": "stdout",
     "output_type": "stream",
     "text": [
      "  정반명  우선순위\n",
      "0   A   0.5\n",
      "1   B   0.5\n",
      "2   C   0.9\n",
      "  정반명  우선순위\n",
      "0   A   1.0\n",
      "1   B   2.0\n",
      "2   C   3.0\n"
     ]
    }
   ],
   "source": [
    "중량가중치들 = [0.9, 0.01]\n",
    "크기가중치들 = [0.01, 3]\n",
    "\n",
    "for 중량가중치, 크기가중치 in zip(중량가중치들, 크기가중치들):\n",
    "    df2 = 정반데이터전처리(정반원데이터)\n",
    "    print(df2[[\"정반명\", \"우선순위\"]])"
   ]
  },
  {
   "cell_type": "markdown",
   "id": "7cddb3ce",
   "metadata": {},
   "source": [
    "# 변수정리함수"
   ]
  },
  {
   "cell_type": "code",
   "execution_count": 18,
   "id": "9dfa03a2",
   "metadata": {},
   "outputs": [],
   "source": [
    "def 블록변수정리(블록데이터, target_block):\n",
    "    블록 = dict()\n",
    "    블록[\"블록명\"] = target_block\n",
    "    블록[\"인덱스\"] =  블록데이터[블록데이터[\"블록명\"]==target_block].index.values[0]\n",
    "    블록[\"중량\"] = 블록데이터[블록데이터[\"블록명\"]==target_block][\"중량\"].values[0]\n",
    "    블록[\"사이즈\"] = 블록데이터[블록데이터[\"블록명\"]==target_block][\"사이즈\"].values[0]\n",
    "    블록[\"면적\"] = 블록데이터[블록데이터[\"블록명\"]==target_block][\"면적\"].values[0]\n",
    "    블록[\"표준공기\"] = 블록데이터[블록데이터[\"블록명\"]==target_block][\"표준공기\"].values[0]\n",
    "    블록[\"최소착수요구일\"] = 블록데이터[블록데이터[\"블록명\"]==target_block][\"최소착수요구일\"].values[0]\n",
    "    return 블록"
   ]
  },
  {
   "cell_type": "code",
   "execution_count": 19,
   "id": "d5e8bfb7",
   "metadata": {},
   "outputs": [
    {
     "data": {
      "text/plain": [
       "{'블록명': 'S1',\n",
       " '인덱스': 0,\n",
       " '중량': 50,\n",
       " '사이즈': (10, 10),\n",
       " '면적': 100,\n",
       " '표준공기': 2,\n",
       " '최소착수요구일': datetime.date(2024, 2, 13)}"
      ]
     },
     "execution_count": 19,
     "metadata": {},
     "output_type": "execute_result"
    }
   ],
   "source": [
    "블록변수정리(df1, \"S1\")"
   ]
  },
  {
   "cell_type": "code",
   "execution_count": 20,
   "id": "fc35acd5",
   "metadata": {},
   "outputs": [],
   "source": [
    "def 정반변수정리(정반데이터, 정반명):\n",
    "    정반 = dict()\n",
    "    정반[\"정반명\"] = 정반명\n",
    "    정반[\"가능중량\"] = 정반데이터[정반데이터[\"정반명\"]==정반명][\"가능중량\"].values[0]\n",
    "    정반[\"사이즈\"] = 정반데이터[정반데이터[\"정반명\"]==정반명][\"사이즈\"].values[0]\n",
    "    정반[\"면적\"] = 정반데이터[정반데이터[\"정반명\"]==정반명][\"면적\"].values[0]\n",
    "    \n",
    "    return 정반"
   ]
  },
  {
   "cell_type": "code",
   "execution_count": 21,
   "id": "d34599db",
   "metadata": {},
   "outputs": [
    {
     "data": {
      "text/plain": [
       "{'정반명': 'A', '가능중량': 100, '사이즈': (20, 10), '면적': 200}"
      ]
     },
     "execution_count": 21,
     "metadata": {},
     "output_type": "execute_result"
    }
   ],
   "source": [
    "A = 정반변수정리(df2, \"A\")\n",
    "A"
   ]
  },
  {
   "cell_type": "markdown",
   "id": "fe0f8e07",
   "metadata": {},
   "source": [
    "# 정반가능중량 조건 적합도 검토"
   ]
  },
  {
   "cell_type": "code",
   "execution_count": 22,
   "id": "dcce5421",
   "metadata": {},
   "outputs": [],
   "source": [
    "def 정반가능중량검토(target_block, 블록데이터, 정반, 정반데이터):\n",
    "    블록중량 = 블록데이터[블록데이터[\"블록명\"]==target_block][\"중량\"].values[0]\n",
    "    정반가능중량 = 정반데이터[정반데이터[\"정반명\"]==정반][\"가능중량\"].values[0]\n",
    "    \n",
    "    if 정반가능중량 > 블록중량: \n",
    "        return \"적합\"\n",
    "    else:\n",
    "        return \"부적합\""
   ]
  },
  {
   "cell_type": "code",
   "execution_count": 23,
   "id": "d4c19bac",
   "metadata": {},
   "outputs": [
    {
     "data": {
      "text/plain": [
       "'적합'"
      ]
     },
     "execution_count": 23,
     "metadata": {},
     "output_type": "execute_result"
    }
   ],
   "source": [
    "정반가능중량검토(\"S1\", df1, \"A\", df2)"
   ]
  },
  {
   "cell_type": "markdown",
   "id": "e7bd96f6",
   "metadata": {},
   "source": [
    "# 면적 달력"
   ]
  },
  {
   "cell_type": "code",
   "execution_count": 24,
   "id": "f1840920",
   "metadata": {},
   "outputs": [],
   "source": [
    "def create_면적달력(시작년:int, 시작월:int, 종료년:int, 종료월:int, 정반데이터):\n",
    "    start_date = datetime(시작년, 시작월, 1)\n",
    "    end_date = datetime(종료년, 종료월, 28)\n",
    "    정반집합 = 정반데이터[\"정반명\"].tolist()\n",
    "    날짜집합  = pd.date_range(start=start_date, end=end_date, freq='D')\n",
    "    \n",
    "    면적달력 = pd.DataFrame()\n",
    "    면적달력.index = 날짜집합\n",
    "   \n",
    "    for 정반 in 정반집합:\n",
    "        면적달력[f\"{정반}\"] = 정반데이터[정반데이터[\"정반명\"]==정반][\"면적\"].values[0]\n",
    "\n",
    "    return 면적달력"
   ]
  },
  {
   "cell_type": "code",
   "execution_count": 25,
   "id": "3d43b85b",
   "metadata": {},
   "outputs": [
    {
     "data": {
      "text/html": [
       "<div>\n",
       "<style scoped>\n",
       "    .dataframe tbody tr th:only-of-type {\n",
       "        vertical-align: middle;\n",
       "    }\n",
       "\n",
       "    .dataframe tbody tr th {\n",
       "        vertical-align: top;\n",
       "    }\n",
       "\n",
       "    .dataframe thead th {\n",
       "        text-align: right;\n",
       "    }\n",
       "</style>\n",
       "<table border=\"1\" class=\"dataframe\">\n",
       "  <thead>\n",
       "    <tr style=\"text-align: right;\">\n",
       "      <th></th>\n",
       "      <th>A</th>\n",
       "      <th>B</th>\n",
       "      <th>C</th>\n",
       "    </tr>\n",
       "  </thead>\n",
       "  <tbody>\n",
       "    <tr>\n",
       "      <th>2024-02-01</th>\n",
       "      <td>200</td>\n",
       "      <td>100</td>\n",
       "      <td>50</td>\n",
       "    </tr>\n",
       "    <tr>\n",
       "      <th>2024-02-02</th>\n",
       "      <td>200</td>\n",
       "      <td>100</td>\n",
       "      <td>50</td>\n",
       "    </tr>\n",
       "    <tr>\n",
       "      <th>2024-02-03</th>\n",
       "      <td>200</td>\n",
       "      <td>100</td>\n",
       "      <td>50</td>\n",
       "    </tr>\n",
       "  </tbody>\n",
       "</table>\n",
       "</div>"
      ],
      "text/plain": [
       "              A    B   C\n",
       "2024-02-01  200  100  50\n",
       "2024-02-02  200  100  50\n",
       "2024-02-03  200  100  50"
      ]
     },
     "execution_count": 25,
     "metadata": {},
     "output_type": "execute_result"
    }
   ],
   "source": [
    "면적달력 = create_면적달력(2024, 2, 2024, 2, df2)\n",
    "면적달력.head(3)"
   ]
  },
  {
   "cell_type": "code",
   "execution_count": 376,
   "id": "c5a701ff",
   "metadata": {},
   "outputs": [],
   "source": [
    "def get_최선조기착수일후보(면적달력, 정반리스트, 대상블록, 블록데이터):\n",
    "    result_dict = dict()\n",
    "    \n",
    "    블록면적 = 블록데이터[블록데이터[\"블록명\"]==대상블록][\"면적\"].values[0]\n",
    "    표준공기 = 블록데이터[블록데이터[\"블록명\"]==대상블록][\"표준공기\"].values[0]\n",
    "    print(f\"블록명:{대상블록}, 블록면적:{블록면적}, 표준공기:{표준공기}\")\n",
    "    \n",
    "    for 대상정반 in 정반리스트:\n",
    "        대상정반면적리스트 = 면적달력[f\"{대상정반}\"].iloc[:].values\n",
    "        \n",
    "        for i in range(len(대상정반면적리스트)):\n",
    "            조회시점인덱스 = i\n",
    "            조회구간면적리스트 = 대상정반면적리스트[조회시점인덱스:조회시점인덱스+표준공기]\n",
    "            조회기간최소면적 = min(조회구간면적리스트)\n",
    "            print(f\">>> 조회구간면적리스트: {조회구간면적리스트}, 조회기간최소면적: {조회기간최소면적}\")\n",
    "            \n",
    "            if 조회기간최소면적 > 블록면적 * 1.05: # 블록크기 5% 가중\n",
    "                최선조기착수일 = 면적달력.index[조회시점인덱스]\n",
    "                result_dict[대상정반] = 최선조기착수일\n",
    "                print(f\">>> 대상정반:{대상정반}, 조회기간최소면적:{조회기간최소면적}, 블록명:{대상블록}, 최선조기착수일: {최선조기착수일}\")  \n",
    "                break\n",
    "        \n",
    "    return result_dict"
   ]
  },
  {
   "cell_type": "code",
   "execution_count": 377,
   "id": "78018aba",
   "metadata": {},
   "outputs": [
    {
     "name": "stdout",
     "output_type": "stream",
     "text": [
      "블록명:S2, 블록면적:120, 표준공기:3\n",
      ">>> 조회구간면적리스트: [50 50 50], 조회기간최소면적: 50\n",
      ">>> 조회구간면적리스트: [50 50 50], 조회기간최소면적: 50\n",
      ">>> 조회구간면적리스트: [50 50 50], 조회기간최소면적: 50\n",
      ">>> 조회구간면적리스트: [50 50 10], 조회기간최소면적: 10\n",
      ">>> 조회구간면적리스트: [50 10 10], 조회기간최소면적: 10\n",
      ">>> 조회구간면적리스트: [10 10 10], 조회기간최소면적: 10\n",
      ">>> 조회구간면적리스트: [10 10 10], 조회기간최소면적: 10\n",
      ">>> 조회구간면적리스트: [10 10 10], 조회기간최소면적: 10\n",
      ">>> 조회구간면적리스트: [10 10 20], 조회기간최소면적: 10\n",
      ">>> 조회구간면적리스트: [10 20 20], 조회기간최소면적: 10\n",
      ">>> 조회구간면적리스트: [20 20 20], 조회기간최소면적: 20\n",
      ">>> 조회구간면적리스트: [20 20 90], 조회기간최소면적: 20\n",
      ">>> 조회구간면적리스트: [20 90 90], 조회기간최소면적: 20\n",
      ">>> 조회구간면적리스트: [90 90 90], 조회기간최소면적: 90\n",
      ">>> 조회구간면적리스트: [90 90 90], 조회기간최소면적: 90\n",
      ">>> 조회구간면적리스트: [90 90 90], 조회기간최소면적: 90\n",
      ">>> 조회구간면적리스트: [ 90  90 170], 조회기간최소면적: 90\n",
      ">>> 조회구간면적리스트: [ 90 170 200], 조회기간최소면적: 90\n",
      ">>> 조회구간면적리스트: [170 200 200], 조회기간최소면적: 170\n",
      ">>> 대상정반:A, 조회기간최소면적:170, 블록명:S2, 최선조기착수일: 2024-02-19 00:00:00\n"
     ]
    },
    {
     "ename": "KeyError",
     "evalue": "'B'",
     "output_type": "error",
     "traceback": [
      "\u001b[1;31m---------------------------------------------------------------------------\u001b[0m",
      "\u001b[1;31mKeyError\u001b[0m                                  Traceback (most recent call last)",
      "File \u001b[1;32mC:\\my_data\\venv\\global_venv3.10\\lib\\site-packages\\pandas\\core\\indexes\\base.py:3802\u001b[0m, in \u001b[0;36mIndex.get_loc\u001b[1;34m(self, key, method, tolerance)\u001b[0m\n\u001b[0;32m   3801\u001b[0m \u001b[38;5;28;01mtry\u001b[39;00m:\n\u001b[1;32m-> 3802\u001b[0m     \u001b[38;5;28;01mreturn\u001b[39;00m \u001b[38;5;28;43mself\u001b[39;49m\u001b[38;5;241;43m.\u001b[39;49m\u001b[43m_engine\u001b[49m\u001b[38;5;241;43m.\u001b[39;49m\u001b[43mget_loc\u001b[49m\u001b[43m(\u001b[49m\u001b[43mcasted_key\u001b[49m\u001b[43m)\u001b[49m\n\u001b[0;32m   3803\u001b[0m \u001b[38;5;28;01mexcept\u001b[39;00m \u001b[38;5;167;01mKeyError\u001b[39;00m \u001b[38;5;28;01mas\u001b[39;00m err:\n",
      "File \u001b[1;32mC:\\my_data\\venv\\global_venv3.10\\lib\\site-packages\\pandas\\_libs\\index.pyx:138\u001b[0m, in \u001b[0;36mpandas._libs.index.IndexEngine.get_loc\u001b[1;34m()\u001b[0m\n",
      "File \u001b[1;32mC:\\my_data\\venv\\global_venv3.10\\lib\\site-packages\\pandas\\_libs\\index.pyx:165\u001b[0m, in \u001b[0;36mpandas._libs.index.IndexEngine.get_loc\u001b[1;34m()\u001b[0m\n",
      "File \u001b[1;32mpandas\\_libs\\hashtable_class_helper.pxi:5745\u001b[0m, in \u001b[0;36mpandas._libs.hashtable.PyObjectHashTable.get_item\u001b[1;34m()\u001b[0m\n",
      "File \u001b[1;32mpandas\\_libs\\hashtable_class_helper.pxi:5753\u001b[0m, in \u001b[0;36mpandas._libs.hashtable.PyObjectHashTable.get_item\u001b[1;34m()\u001b[0m\n",
      "\u001b[1;31mKeyError\u001b[0m: 'B'",
      "\nThe above exception was the direct cause of the following exception:\n",
      "\u001b[1;31mKeyError\u001b[0m                                  Traceback (most recent call last)",
      "Cell \u001b[1;32mIn[377], line 2\u001b[0m\n\u001b[0;32m      1\u001b[0m 정반리스트 \u001b[38;5;241m=\u001b[39m [\u001b[38;5;124m\"\u001b[39m\u001b[38;5;124mA\u001b[39m\u001b[38;5;124m\"\u001b[39m, \u001b[38;5;124m\"\u001b[39m\u001b[38;5;124mB\u001b[39m\u001b[38;5;124m\"\u001b[39m]\n\u001b[1;32m----> 2\u001b[0m 최선조기착수일후보 \u001b[38;5;241m=\u001b[39m \u001b[43mget_최선조기착수일후보\u001b[49m\u001b[43m(\u001b[49m\u001b[43m면적달력\u001b[49m\u001b[43m,\u001b[49m\u001b[43m \u001b[49m\u001b[43m정반리스트\u001b[49m\u001b[43m,\u001b[49m\u001b[43m \u001b[49m\u001b[38;5;124;43m\"\u001b[39;49m\u001b[38;5;124;43mS2\u001b[39;49m\u001b[38;5;124;43m\"\u001b[39;49m\u001b[43m,\u001b[49m\u001b[43m \u001b[49m\u001b[43mdf1\u001b[49m\u001b[43m)\u001b[49m\n\u001b[0;32m      3\u001b[0m 최선조기착수일후보\n",
      "Cell \u001b[1;32mIn[376], line 9\u001b[0m, in \u001b[0;36mget_최선조기착수일후보\u001b[1;34m(면적달력, 정반리스트, 대상블록, 블록데이터)\u001b[0m\n\u001b[0;32m      6\u001b[0m \u001b[38;5;28mprint\u001b[39m(\u001b[38;5;124mf\u001b[39m\u001b[38;5;124m\"\u001b[39m\u001b[38;5;124m블록명:\u001b[39m\u001b[38;5;132;01m{\u001b[39;00m대상블록\u001b[38;5;132;01m}\u001b[39;00m\u001b[38;5;124m, 블록면적:\u001b[39m\u001b[38;5;132;01m{\u001b[39;00m블록면적\u001b[38;5;132;01m}\u001b[39;00m\u001b[38;5;124m, 표준공기:\u001b[39m\u001b[38;5;132;01m{\u001b[39;00m표준공기\u001b[38;5;132;01m}\u001b[39;00m\u001b[38;5;124m\"\u001b[39m)\n\u001b[0;32m      8\u001b[0m \u001b[38;5;28;01mfor\u001b[39;00m 대상정반 \u001b[38;5;129;01min\u001b[39;00m 정반리스트:\n\u001b[1;32m----> 9\u001b[0m     대상정반면적리스트 \u001b[38;5;241m=\u001b[39m \u001b[43m면적달력\u001b[49m\u001b[43m[\u001b[49m\u001b[38;5;124;43mf\u001b[39;49m\u001b[38;5;124;43m\"\u001b[39;49m\u001b[38;5;132;43;01m{\u001b[39;49;00m\u001b[43m대상정반\u001b[49m\u001b[38;5;132;43;01m}\u001b[39;49;00m\u001b[38;5;124;43m\"\u001b[39;49m\u001b[43m]\u001b[49m\u001b[38;5;241m.\u001b[39miloc[:]\u001b[38;5;241m.\u001b[39mvalues\n\u001b[0;32m     11\u001b[0m     \u001b[38;5;28;01mfor\u001b[39;00m i \u001b[38;5;129;01min\u001b[39;00m \u001b[38;5;28mrange\u001b[39m(\u001b[38;5;28mlen\u001b[39m(대상정반면적리스트)):\n\u001b[0;32m     12\u001b[0m         조회시점인덱스 \u001b[38;5;241m=\u001b[39m i\n",
      "File \u001b[1;32mC:\\my_data\\venv\\global_venv3.10\\lib\\site-packages\\pandas\\core\\frame.py:3807\u001b[0m, in \u001b[0;36mDataFrame.__getitem__\u001b[1;34m(self, key)\u001b[0m\n\u001b[0;32m   3805\u001b[0m \u001b[38;5;28;01mif\u001b[39;00m \u001b[38;5;28mself\u001b[39m\u001b[38;5;241m.\u001b[39mcolumns\u001b[38;5;241m.\u001b[39mnlevels \u001b[38;5;241m>\u001b[39m \u001b[38;5;241m1\u001b[39m:\n\u001b[0;32m   3806\u001b[0m     \u001b[38;5;28;01mreturn\u001b[39;00m \u001b[38;5;28mself\u001b[39m\u001b[38;5;241m.\u001b[39m_getitem_multilevel(key)\n\u001b[1;32m-> 3807\u001b[0m indexer \u001b[38;5;241m=\u001b[39m \u001b[38;5;28;43mself\u001b[39;49m\u001b[38;5;241;43m.\u001b[39;49m\u001b[43mcolumns\u001b[49m\u001b[38;5;241;43m.\u001b[39;49m\u001b[43mget_loc\u001b[49m\u001b[43m(\u001b[49m\u001b[43mkey\u001b[49m\u001b[43m)\u001b[49m\n\u001b[0;32m   3808\u001b[0m \u001b[38;5;28;01mif\u001b[39;00m is_integer(indexer):\n\u001b[0;32m   3809\u001b[0m     indexer \u001b[38;5;241m=\u001b[39m [indexer]\n",
      "File \u001b[1;32mC:\\my_data\\venv\\global_venv3.10\\lib\\site-packages\\pandas\\core\\indexes\\base.py:3804\u001b[0m, in \u001b[0;36mIndex.get_loc\u001b[1;34m(self, key, method, tolerance)\u001b[0m\n\u001b[0;32m   3802\u001b[0m     \u001b[38;5;28;01mreturn\u001b[39;00m \u001b[38;5;28mself\u001b[39m\u001b[38;5;241m.\u001b[39m_engine\u001b[38;5;241m.\u001b[39mget_loc(casted_key)\n\u001b[0;32m   3803\u001b[0m \u001b[38;5;28;01mexcept\u001b[39;00m \u001b[38;5;167;01mKeyError\u001b[39;00m \u001b[38;5;28;01mas\u001b[39;00m err:\n\u001b[1;32m-> 3804\u001b[0m     \u001b[38;5;28;01mraise\u001b[39;00m \u001b[38;5;167;01mKeyError\u001b[39;00m(key) \u001b[38;5;28;01mfrom\u001b[39;00m \u001b[38;5;21;01merr\u001b[39;00m\n\u001b[0;32m   3805\u001b[0m \u001b[38;5;28;01mexcept\u001b[39;00m \u001b[38;5;167;01mTypeError\u001b[39;00m:\n\u001b[0;32m   3806\u001b[0m     \u001b[38;5;66;03m# If we have a listlike key, _check_indexing_error will raise\u001b[39;00m\n\u001b[0;32m   3807\u001b[0m     \u001b[38;5;66;03m#  InvalidIndexError. Otherwise we fall through and re-raise\u001b[39;00m\n\u001b[0;32m   3808\u001b[0m     \u001b[38;5;66;03m#  the TypeError.\u001b[39;00m\n\u001b[0;32m   3809\u001b[0m     \u001b[38;5;28mself\u001b[39m\u001b[38;5;241m.\u001b[39m_check_indexing_error(key)\n",
      "\u001b[1;31mKeyError\u001b[0m: 'B'"
     ]
    }
   ],
   "source": [
    "정반리스트 = [\"A\", \"B\"]\n",
    "최선조기착수일후보 = get_최선조기착수일후보(면적달력, 정반리스트, \"S2\", df1)\n",
    "최선조기착수일후보"
   ]
  },
  {
   "cell_type": "code",
   "execution_count": null,
   "id": "5a3a65a2",
   "metadata": {},
   "outputs": [],
   "source": [
    "def get_최선조기착수대상(최선조기착수일후보):\n",
    "    # 복수의 경우 셔플후 랜덤 선택\n",
    "    temp_list = list(최선조기착수일후보.items())\n",
    "    shuffle(temp_list)\n",
    "    최선조기착수일후보 = dict(temp_list)\n",
    "\n",
    "    earliest_item = min(최선조기착수일후보.items(), key=lambda x: x[1])\n",
    "    최선정반 = earliest_item[0]\n",
    "    최선착수일 = earliest_item[1].strftime('%Y-%m-%d')\n",
    "    return 최선정반, 최선착수일"
   ]
  },
  {
   "cell_type": "code",
   "execution_count": null,
   "id": "53612213",
   "metadata": {},
   "outputs": [],
   "source": [
    "최선조기착수대상 = get_최선조기착수대상(최선조기착수일후보)\n",
    "최선조기착수대상"
   ]
  },
  {
   "cell_type": "code",
   "execution_count": 214,
   "id": "b2bd80f2",
   "metadata": {},
   "outputs": [],
   "source": [
    "def update_면적달력(면적달력, 최선조기착수대상, 배치블록명, 블록데이터):\n",
    "    \n",
    "    정반리스트 = 면적달력.columns.tolist()\n",
    "    블록면적 = 블록데이터[블록데이터[\"블록명\"]==배치블록명][\"면적\"].values[0]\n",
    "    표준공기 = 블록데이터[블록데이터[\"블록명\"]==배치블록명][\"표준공기\"].values[0]\n",
    "    블록착수일 = 최선조기착수대상[1]\n",
    "    시점인덱스 = list(면적달력.index.strftime('%Y-%m-%d')).index(블록착수일)\n",
    "    정반 = 최선조기착수대상[0]\n",
    "        \n",
    "\n",
    "    조회기간면적리스트 = 면적달력[f\"{정반}\"].iloc[시점인덱스:시점인덱스+표준공기].values\n",
    "\n",
    "    if min(조회기간면적리스트) >= 블록면적:\n",
    "        for idx, 대상일면적 in enumerate(조회기간면적리스트):\n",
    "            수정면적 = 대상일면적 - 블록면적\n",
    "            대상일인덱스 = 시점인덱스 + idx\n",
    "            면적달력[f\"{정반}\"].iloc[대상일인덱스:대상일인덱스+1] = 수정면적\n",
    "    else:\n",
    "        print(\"면적이 부족하여 블록을 배치할 수 없습니다.\")\n",
    "    \n",
    "    return 면적달력\n",
    "    "
   ]
  },
  {
   "cell_type": "code",
   "execution_count": 215,
   "id": "1a26804b",
   "metadata": {},
   "outputs": [
    {
     "name": "stdout",
     "output_type": "stream",
     "text": [
      "면적이 부족하여 블록을 배치할 수 없습니다.\n"
     ]
    },
    {
     "data": {
      "text/html": [
       "<div>\n",
       "<style scoped>\n",
       "    .dataframe tbody tr th:only-of-type {\n",
       "        vertical-align: middle;\n",
       "    }\n",
       "\n",
       "    .dataframe tbody tr th {\n",
       "        vertical-align: top;\n",
       "    }\n",
       "\n",
       "    .dataframe thead th {\n",
       "        text-align: right;\n",
       "    }\n",
       "</style>\n",
       "<table border=\"1\" class=\"dataframe\">\n",
       "  <thead>\n",
       "    <tr style=\"text-align: right;\">\n",
       "      <th></th>\n",
       "      <th>A</th>\n",
       "    </tr>\n",
       "  </thead>\n",
       "  <tbody>\n",
       "    <tr>\n",
       "      <th>2024-02-01</th>\n",
       "      <td>20</td>\n",
       "    </tr>\n",
       "    <tr>\n",
       "      <th>2024-02-02</th>\n",
       "      <td>20</td>\n",
       "    </tr>\n",
       "    <tr>\n",
       "      <th>2024-02-03</th>\n",
       "      <td>20</td>\n",
       "    </tr>\n",
       "    <tr>\n",
       "      <th>2024-02-04</th>\n",
       "      <td>20</td>\n",
       "    </tr>\n",
       "    <tr>\n",
       "      <th>2024-02-05</th>\n",
       "      <td>20</td>\n",
       "    </tr>\n",
       "    <tr>\n",
       "      <th>2024-02-06</th>\n",
       "      <td>80</td>\n",
       "    </tr>\n",
       "    <tr>\n",
       "      <th>2024-02-07</th>\n",
       "      <td>110</td>\n",
       "    </tr>\n",
       "    <tr>\n",
       "      <th>2024-02-08</th>\n",
       "      <td>110</td>\n",
       "    </tr>\n",
       "    <tr>\n",
       "      <th>2024-02-09</th>\n",
       "      <td>110</td>\n",
       "    </tr>\n",
       "    <tr>\n",
       "      <th>2024-02-10</th>\n",
       "      <td>110</td>\n",
       "    </tr>\n",
       "  </tbody>\n",
       "</table>\n",
       "</div>"
      ],
      "text/plain": [
       "              A\n",
       "2024-02-01   20\n",
       "2024-02-02   20\n",
       "2024-02-03   20\n",
       "2024-02-04   20\n",
       "2024-02-05   20\n",
       "2024-02-06   80\n",
       "2024-02-07  110\n",
       "2024-02-08  110\n",
       "2024-02-09  110\n",
       "2024-02-10  110"
      ]
     },
     "execution_count": 215,
     "metadata": {},
     "output_type": "execute_result"
    }
   ],
   "source": [
    "면적달력 = update_면적달력(면적달력, 최선조기착수대상, \"S4\", df1)\n",
    "면적달력.head(10)"
   ]
  },
  {
   "cell_type": "markdown",
   "id": "59fead66",
   "metadata": {},
   "source": [
    "# 블록명 달력"
   ]
  },
  {
   "cell_type": "code",
   "execution_count": 216,
   "id": "c3af6433",
   "metadata": {},
   "outputs": [],
   "source": [
    "def create_블록명달력(시작년:int, 시작월:int, 종료년:int, 종료월:int, 정반데이터):\n",
    "    start_date = datetime(시작년, 시작월, 1)\n",
    "    end_date = datetime(종료년, 종료월, 28)\n",
    "    정반집합 = 정반데이터[\"정반명\"].tolist()\n",
    "    날짜집합  = pd.date_range(start=start_date, end=end_date, freq='D')\n",
    "    \n",
    "    달력 = pd.DataFrame()\n",
    "    달력.index = 날짜집합\n",
    "    \n",
    "    for 정반 in 정반집합:\n",
    "        달력[정반] = [[] for _ in range(len(날짜집합))]\n",
    "        \n",
    "    return 달력"
   ]
  },
  {
   "cell_type": "code",
   "execution_count": 217,
   "id": "a02a2442",
   "metadata": {
    "scrolled": true
   },
   "outputs": [
    {
     "data": {
      "text/html": [
       "<div>\n",
       "<style scoped>\n",
       "    .dataframe tbody tr th:only-of-type {\n",
       "        vertical-align: middle;\n",
       "    }\n",
       "\n",
       "    .dataframe tbody tr th {\n",
       "        vertical-align: top;\n",
       "    }\n",
       "\n",
       "    .dataframe thead th {\n",
       "        text-align: right;\n",
       "    }\n",
       "</style>\n",
       "<table border=\"1\" class=\"dataframe\">\n",
       "  <thead>\n",
       "    <tr style=\"text-align: right;\">\n",
       "      <th></th>\n",
       "      <th>A</th>\n",
       "      <th>B</th>\n",
       "      <th>C</th>\n",
       "    </tr>\n",
       "  </thead>\n",
       "  <tbody>\n",
       "    <tr>\n",
       "      <th>2024-02-01</th>\n",
       "      <td>[]</td>\n",
       "      <td>[]</td>\n",
       "      <td>[]</td>\n",
       "    </tr>\n",
       "    <tr>\n",
       "      <th>2024-02-02</th>\n",
       "      <td>[]</td>\n",
       "      <td>[]</td>\n",
       "      <td>[]</td>\n",
       "    </tr>\n",
       "    <tr>\n",
       "      <th>2024-02-03</th>\n",
       "      <td>[]</td>\n",
       "      <td>[]</td>\n",
       "      <td>[]</td>\n",
       "    </tr>\n",
       "    <tr>\n",
       "      <th>2024-02-04</th>\n",
       "      <td>[]</td>\n",
       "      <td>[]</td>\n",
       "      <td>[]</td>\n",
       "    </tr>\n",
       "    <tr>\n",
       "      <th>2024-02-05</th>\n",
       "      <td>[]</td>\n",
       "      <td>[]</td>\n",
       "      <td>[]</td>\n",
       "    </tr>\n",
       "    <tr>\n",
       "      <th>2024-02-06</th>\n",
       "      <td>[]</td>\n",
       "      <td>[]</td>\n",
       "      <td>[]</td>\n",
       "    </tr>\n",
       "    <tr>\n",
       "      <th>2024-02-07</th>\n",
       "      <td>[]</td>\n",
       "      <td>[]</td>\n",
       "      <td>[]</td>\n",
       "    </tr>\n",
       "    <tr>\n",
       "      <th>2024-02-08</th>\n",
       "      <td>[]</td>\n",
       "      <td>[]</td>\n",
       "      <td>[]</td>\n",
       "    </tr>\n",
       "    <tr>\n",
       "      <th>2024-02-09</th>\n",
       "      <td>[]</td>\n",
       "      <td>[]</td>\n",
       "      <td>[]</td>\n",
       "    </tr>\n",
       "    <tr>\n",
       "      <th>2024-02-10</th>\n",
       "      <td>[]</td>\n",
       "      <td>[]</td>\n",
       "      <td>[]</td>\n",
       "    </tr>\n",
       "    <tr>\n",
       "      <th>2024-02-11</th>\n",
       "      <td>[]</td>\n",
       "      <td>[]</td>\n",
       "      <td>[]</td>\n",
       "    </tr>\n",
       "    <tr>\n",
       "      <th>2024-02-12</th>\n",
       "      <td>[]</td>\n",
       "      <td>[]</td>\n",
       "      <td>[]</td>\n",
       "    </tr>\n",
       "    <tr>\n",
       "      <th>2024-02-13</th>\n",
       "      <td>[]</td>\n",
       "      <td>[]</td>\n",
       "      <td>[]</td>\n",
       "    </tr>\n",
       "    <tr>\n",
       "      <th>2024-02-14</th>\n",
       "      <td>[]</td>\n",
       "      <td>[]</td>\n",
       "      <td>[]</td>\n",
       "    </tr>\n",
       "    <tr>\n",
       "      <th>2024-02-15</th>\n",
       "      <td>[]</td>\n",
       "      <td>[]</td>\n",
       "      <td>[]</td>\n",
       "    </tr>\n",
       "    <tr>\n",
       "      <th>2024-02-16</th>\n",
       "      <td>[]</td>\n",
       "      <td>[]</td>\n",
       "      <td>[]</td>\n",
       "    </tr>\n",
       "    <tr>\n",
       "      <th>2024-02-17</th>\n",
       "      <td>[]</td>\n",
       "      <td>[]</td>\n",
       "      <td>[]</td>\n",
       "    </tr>\n",
       "    <tr>\n",
       "      <th>2024-02-18</th>\n",
       "      <td>[]</td>\n",
       "      <td>[]</td>\n",
       "      <td>[]</td>\n",
       "    </tr>\n",
       "    <tr>\n",
       "      <th>2024-02-19</th>\n",
       "      <td>[]</td>\n",
       "      <td>[]</td>\n",
       "      <td>[]</td>\n",
       "    </tr>\n",
       "    <tr>\n",
       "      <th>2024-02-20</th>\n",
       "      <td>[]</td>\n",
       "      <td>[]</td>\n",
       "      <td>[]</td>\n",
       "    </tr>\n",
       "    <tr>\n",
       "      <th>2024-02-21</th>\n",
       "      <td>[]</td>\n",
       "      <td>[]</td>\n",
       "      <td>[]</td>\n",
       "    </tr>\n",
       "    <tr>\n",
       "      <th>2024-02-22</th>\n",
       "      <td>[]</td>\n",
       "      <td>[]</td>\n",
       "      <td>[]</td>\n",
       "    </tr>\n",
       "    <tr>\n",
       "      <th>2024-02-23</th>\n",
       "      <td>[]</td>\n",
       "      <td>[]</td>\n",
       "      <td>[]</td>\n",
       "    </tr>\n",
       "    <tr>\n",
       "      <th>2024-02-24</th>\n",
       "      <td>[]</td>\n",
       "      <td>[]</td>\n",
       "      <td>[]</td>\n",
       "    </tr>\n",
       "    <tr>\n",
       "      <th>2024-02-25</th>\n",
       "      <td>[]</td>\n",
       "      <td>[]</td>\n",
       "      <td>[]</td>\n",
       "    </tr>\n",
       "    <tr>\n",
       "      <th>2024-02-26</th>\n",
       "      <td>[]</td>\n",
       "      <td>[]</td>\n",
       "      <td>[]</td>\n",
       "    </tr>\n",
       "    <tr>\n",
       "      <th>2024-02-27</th>\n",
       "      <td>[]</td>\n",
       "      <td>[]</td>\n",
       "      <td>[]</td>\n",
       "    </tr>\n",
       "    <tr>\n",
       "      <th>2024-02-28</th>\n",
       "      <td>[]</td>\n",
       "      <td>[]</td>\n",
       "      <td>[]</td>\n",
       "    </tr>\n",
       "  </tbody>\n",
       "</table>\n",
       "</div>"
      ],
      "text/plain": [
       "             A   B   C\n",
       "2024-02-01  []  []  []\n",
       "2024-02-02  []  []  []\n",
       "2024-02-03  []  []  []\n",
       "2024-02-04  []  []  []\n",
       "2024-02-05  []  []  []\n",
       "2024-02-06  []  []  []\n",
       "2024-02-07  []  []  []\n",
       "2024-02-08  []  []  []\n",
       "2024-02-09  []  []  []\n",
       "2024-02-10  []  []  []\n",
       "2024-02-11  []  []  []\n",
       "2024-02-12  []  []  []\n",
       "2024-02-13  []  []  []\n",
       "2024-02-14  []  []  []\n",
       "2024-02-15  []  []  []\n",
       "2024-02-16  []  []  []\n",
       "2024-02-17  []  []  []\n",
       "2024-02-18  []  []  []\n",
       "2024-02-19  []  []  []\n",
       "2024-02-20  []  []  []\n",
       "2024-02-21  []  []  []\n",
       "2024-02-22  []  []  []\n",
       "2024-02-23  []  []  []\n",
       "2024-02-24  []  []  []\n",
       "2024-02-25  []  []  []\n",
       "2024-02-26  []  []  []\n",
       "2024-02-27  []  []  []\n",
       "2024-02-28  []  []  []"
      ]
     },
     "execution_count": 217,
     "metadata": {},
     "output_type": "execute_result"
    }
   ],
   "source": [
    "블록명달력 = create_블록명달력(2024, 2, 2024, 2, df2)\n",
    "블록명달력"
   ]
  },
  {
   "cell_type": "code",
   "execution_count": 218,
   "id": "8b8f5c9d",
   "metadata": {},
   "outputs": [],
   "source": [
    "def update_블록명달력(블록명달력, 최선정반, 블록데이터, block_names, best_st_date):\n",
    "    \n",
    "    달력 = 블록명달력\n",
    "    결과모음 = [[] for _ in range(len(날짜집합))]\n",
    "\n",
    "    for block_name, 블록착수일 in zip(block_names, best_st_date):\n",
    "\n",
    "        시점인덱스 = list(달력.index.strftime('%Y-%m-%d')).index(블록착수일)\n",
    "        표준공기 = 블록데이터[블록데이터[\"블록명\"]==block_name][\"표준공기\"].values[0]\n",
    "\n",
    "        for i in 결과모음[시점인덱스:시점인덱스+표준공기]:\n",
    "            i.append(block_name)\n",
    "            \n",
    "    달력[f\"{최선정반}\"] = 결과모음\n",
    "\n",
    "    return 달력"
   ]
  },
  {
   "cell_type": "code",
   "execution_count": 219,
   "id": "2c41e022",
   "metadata": {
    "scrolled": true
   },
   "outputs": [
    {
     "data": {
      "text/html": [
       "<div>\n",
       "<style scoped>\n",
       "    .dataframe tbody tr th:only-of-type {\n",
       "        vertical-align: middle;\n",
       "    }\n",
       "\n",
       "    .dataframe tbody tr th {\n",
       "        vertical-align: top;\n",
       "    }\n",
       "\n",
       "    .dataframe thead th {\n",
       "        text-align: right;\n",
       "    }\n",
       "</style>\n",
       "<table border=\"1\" class=\"dataframe\">\n",
       "  <thead>\n",
       "    <tr style=\"text-align: right;\">\n",
       "      <th></th>\n",
       "      <th>A</th>\n",
       "      <th>B</th>\n",
       "      <th>C</th>\n",
       "    </tr>\n",
       "  </thead>\n",
       "  <tbody>\n",
       "    <tr>\n",
       "      <th>2024-02-01</th>\n",
       "      <td>[]</td>\n",
       "      <td>[S1]</td>\n",
       "      <td>[]</td>\n",
       "    </tr>\n",
       "    <tr>\n",
       "      <th>2024-02-02</th>\n",
       "      <td>[]</td>\n",
       "      <td>[S1]</td>\n",
       "      <td>[]</td>\n",
       "    </tr>\n",
       "    <tr>\n",
       "      <th>2024-02-03</th>\n",
       "      <td>[]</td>\n",
       "      <td>[S2]</td>\n",
       "      <td>[]</td>\n",
       "    </tr>\n",
       "    <tr>\n",
       "      <th>2024-02-04</th>\n",
       "      <td>[]</td>\n",
       "      <td>[S2]</td>\n",
       "      <td>[]</td>\n",
       "    </tr>\n",
       "    <tr>\n",
       "      <th>2024-02-05</th>\n",
       "      <td>[]</td>\n",
       "      <td>[S2]</td>\n",
       "      <td>[]</td>\n",
       "    </tr>\n",
       "    <tr>\n",
       "      <th>2024-02-06</th>\n",
       "      <td>[]</td>\n",
       "      <td>[S3]</td>\n",
       "      <td>[]</td>\n",
       "    </tr>\n",
       "    <tr>\n",
       "      <th>2024-02-07</th>\n",
       "      <td>[]</td>\n",
       "      <td>[]</td>\n",
       "      <td>[]</td>\n",
       "    </tr>\n",
       "    <tr>\n",
       "      <th>2024-02-08</th>\n",
       "      <td>[]</td>\n",
       "      <td>[]</td>\n",
       "      <td>[]</td>\n",
       "    </tr>\n",
       "    <tr>\n",
       "      <th>2024-02-09</th>\n",
       "      <td>[]</td>\n",
       "      <td>[]</td>\n",
       "      <td>[]</td>\n",
       "    </tr>\n",
       "    <tr>\n",
       "      <th>2024-02-10</th>\n",
       "      <td>[]</td>\n",
       "      <td>[]</td>\n",
       "      <td>[]</td>\n",
       "    </tr>\n",
       "    <tr>\n",
       "      <th>2024-02-11</th>\n",
       "      <td>[]</td>\n",
       "      <td>[]</td>\n",
       "      <td>[]</td>\n",
       "    </tr>\n",
       "    <tr>\n",
       "      <th>2024-02-12</th>\n",
       "      <td>[]</td>\n",
       "      <td>[]</td>\n",
       "      <td>[]</td>\n",
       "    </tr>\n",
       "    <tr>\n",
       "      <th>2024-02-13</th>\n",
       "      <td>[]</td>\n",
       "      <td>[]</td>\n",
       "      <td>[]</td>\n",
       "    </tr>\n",
       "    <tr>\n",
       "      <th>2024-02-14</th>\n",
       "      <td>[]</td>\n",
       "      <td>[]</td>\n",
       "      <td>[]</td>\n",
       "    </tr>\n",
       "    <tr>\n",
       "      <th>2024-02-15</th>\n",
       "      <td>[]</td>\n",
       "      <td>[]</td>\n",
       "      <td>[]</td>\n",
       "    </tr>\n",
       "    <tr>\n",
       "      <th>2024-02-16</th>\n",
       "      <td>[]</td>\n",
       "      <td>[]</td>\n",
       "      <td>[]</td>\n",
       "    </tr>\n",
       "    <tr>\n",
       "      <th>2024-02-17</th>\n",
       "      <td>[]</td>\n",
       "      <td>[]</td>\n",
       "      <td>[]</td>\n",
       "    </tr>\n",
       "    <tr>\n",
       "      <th>2024-02-18</th>\n",
       "      <td>[]</td>\n",
       "      <td>[]</td>\n",
       "      <td>[]</td>\n",
       "    </tr>\n",
       "    <tr>\n",
       "      <th>2024-02-19</th>\n",
       "      <td>[]</td>\n",
       "      <td>[]</td>\n",
       "      <td>[]</td>\n",
       "    </tr>\n",
       "    <tr>\n",
       "      <th>2024-02-20</th>\n",
       "      <td>[]</td>\n",
       "      <td>[]</td>\n",
       "      <td>[]</td>\n",
       "    </tr>\n",
       "    <tr>\n",
       "      <th>2024-02-21</th>\n",
       "      <td>[]</td>\n",
       "      <td>[]</td>\n",
       "      <td>[]</td>\n",
       "    </tr>\n",
       "    <tr>\n",
       "      <th>2024-02-22</th>\n",
       "      <td>[]</td>\n",
       "      <td>[]</td>\n",
       "      <td>[]</td>\n",
       "    </tr>\n",
       "    <tr>\n",
       "      <th>2024-02-23</th>\n",
       "      <td>[]</td>\n",
       "      <td>[]</td>\n",
       "      <td>[]</td>\n",
       "    </tr>\n",
       "    <tr>\n",
       "      <th>2024-02-24</th>\n",
       "      <td>[]</td>\n",
       "      <td>[]</td>\n",
       "      <td>[]</td>\n",
       "    </tr>\n",
       "    <tr>\n",
       "      <th>2024-02-25</th>\n",
       "      <td>[]</td>\n",
       "      <td>[]</td>\n",
       "      <td>[]</td>\n",
       "    </tr>\n",
       "    <tr>\n",
       "      <th>2024-02-26</th>\n",
       "      <td>[]</td>\n",
       "      <td>[]</td>\n",
       "      <td>[]</td>\n",
       "    </tr>\n",
       "    <tr>\n",
       "      <th>2024-02-27</th>\n",
       "      <td>[]</td>\n",
       "      <td>[]</td>\n",
       "      <td>[]</td>\n",
       "    </tr>\n",
       "    <tr>\n",
       "      <th>2024-02-28</th>\n",
       "      <td>[]</td>\n",
       "      <td>[]</td>\n",
       "      <td>[]</td>\n",
       "    </tr>\n",
       "  </tbody>\n",
       "</table>\n",
       "</div>"
      ],
      "text/plain": [
       "             A     B   C\n",
       "2024-02-01  []  [S1]  []\n",
       "2024-02-02  []  [S1]  []\n",
       "2024-02-03  []  [S2]  []\n",
       "2024-02-04  []  [S2]  []\n",
       "2024-02-05  []  [S2]  []\n",
       "2024-02-06  []  [S3]  []\n",
       "2024-02-07  []    []  []\n",
       "2024-02-08  []    []  []\n",
       "2024-02-09  []    []  []\n",
       "2024-02-10  []    []  []\n",
       "2024-02-11  []    []  []\n",
       "2024-02-12  []    []  []\n",
       "2024-02-13  []    []  []\n",
       "2024-02-14  []    []  []\n",
       "2024-02-15  []    []  []\n",
       "2024-02-16  []    []  []\n",
       "2024-02-17  []    []  []\n",
       "2024-02-18  []    []  []\n",
       "2024-02-19  []    []  []\n",
       "2024-02-20  []    []  []\n",
       "2024-02-21  []    []  []\n",
       "2024-02-22  []    []  []\n",
       "2024-02-23  []    []  []\n",
       "2024-02-24  []    []  []\n",
       "2024-02-25  []    []  []\n",
       "2024-02-26  []    []  []\n",
       "2024-02-27  []    []  []\n",
       "2024-02-28  []    []  []"
      ]
     },
     "execution_count": 219,
     "metadata": {},
     "output_type": "execute_result"
    }
   ],
   "source": [
    "block_names = [\"S1\", \"S2\", \"S3\"]\n",
    "block_sizes = [(2, 5), (3, 4), (2, 5)]\n",
    "best_st_date = [\"2024-02-01\", \"2024-02-03\", \"2024-02-06\"]\n",
    "블록명달력 = update_블록명달력(블록명달력, \"B\", df1, block_names, best_st_date)\n",
    "블록명달력"
   ]
  },
  {
   "cell_type": "code",
   "execution_count": 220,
   "id": "2070c694",
   "metadata": {},
   "outputs": [
    {
     "data": {
      "text/html": [
       "<div>\n",
       "<style scoped>\n",
       "    .dataframe tbody tr th:only-of-type {\n",
       "        vertical-align: middle;\n",
       "    }\n",
       "\n",
       "    .dataframe tbody tr th {\n",
       "        vertical-align: top;\n",
       "    }\n",
       "\n",
       "    .dataframe thead th {\n",
       "        text-align: right;\n",
       "    }\n",
       "</style>\n",
       "<table border=\"1\" class=\"dataframe\">\n",
       "  <thead>\n",
       "    <tr style=\"text-align: right;\">\n",
       "      <th></th>\n",
       "      <th>A</th>\n",
       "      <th>B</th>\n",
       "      <th>C</th>\n",
       "    </tr>\n",
       "  </thead>\n",
       "  <tbody>\n",
       "    <tr>\n",
       "      <th>2024-02-01</th>\n",
       "      <td>[]</td>\n",
       "      <td>[S1]</td>\n",
       "      <td>[]</td>\n",
       "    </tr>\n",
       "    <tr>\n",
       "      <th>2024-02-02</th>\n",
       "      <td>[]</td>\n",
       "      <td>[S1, S4]</td>\n",
       "      <td>[]</td>\n",
       "    </tr>\n",
       "    <tr>\n",
       "      <th>2024-02-03</th>\n",
       "      <td>[]</td>\n",
       "      <td>[S2, S4]</td>\n",
       "      <td>[]</td>\n",
       "    </tr>\n",
       "    <tr>\n",
       "      <th>2024-02-04</th>\n",
       "      <td>[]</td>\n",
       "      <td>[S2]</td>\n",
       "      <td>[]</td>\n",
       "    </tr>\n",
       "    <tr>\n",
       "      <th>2024-02-05</th>\n",
       "      <td>[]</td>\n",
       "      <td>[S2]</td>\n",
       "      <td>[]</td>\n",
       "    </tr>\n",
       "    <tr>\n",
       "      <th>2024-02-06</th>\n",
       "      <td>[]</td>\n",
       "      <td>[S3]</td>\n",
       "      <td>[]</td>\n",
       "    </tr>\n",
       "    <tr>\n",
       "      <th>2024-02-07</th>\n",
       "      <td>[]</td>\n",
       "      <td>[]</td>\n",
       "      <td>[]</td>\n",
       "    </tr>\n",
       "    <tr>\n",
       "      <th>2024-02-08</th>\n",
       "      <td>[]</td>\n",
       "      <td>[]</td>\n",
       "      <td>[]</td>\n",
       "    </tr>\n",
       "    <tr>\n",
       "      <th>2024-02-09</th>\n",
       "      <td>[]</td>\n",
       "      <td>[]</td>\n",
       "      <td>[]</td>\n",
       "    </tr>\n",
       "    <tr>\n",
       "      <th>2024-02-10</th>\n",
       "      <td>[]</td>\n",
       "      <td>[]</td>\n",
       "      <td>[]</td>\n",
       "    </tr>\n",
       "    <tr>\n",
       "      <th>2024-02-11</th>\n",
       "      <td>[]</td>\n",
       "      <td>[]</td>\n",
       "      <td>[]</td>\n",
       "    </tr>\n",
       "    <tr>\n",
       "      <th>2024-02-12</th>\n",
       "      <td>[]</td>\n",
       "      <td>[]</td>\n",
       "      <td>[]</td>\n",
       "    </tr>\n",
       "    <tr>\n",
       "      <th>2024-02-13</th>\n",
       "      <td>[]</td>\n",
       "      <td>[]</td>\n",
       "      <td>[]</td>\n",
       "    </tr>\n",
       "    <tr>\n",
       "      <th>2024-02-14</th>\n",
       "      <td>[]</td>\n",
       "      <td>[]</td>\n",
       "      <td>[]</td>\n",
       "    </tr>\n",
       "    <tr>\n",
       "      <th>2024-02-15</th>\n",
       "      <td>[]</td>\n",
       "      <td>[]</td>\n",
       "      <td>[]</td>\n",
       "    </tr>\n",
       "    <tr>\n",
       "      <th>2024-02-16</th>\n",
       "      <td>[]</td>\n",
       "      <td>[]</td>\n",
       "      <td>[]</td>\n",
       "    </tr>\n",
       "    <tr>\n",
       "      <th>2024-02-17</th>\n",
       "      <td>[]</td>\n",
       "      <td>[]</td>\n",
       "      <td>[]</td>\n",
       "    </tr>\n",
       "    <tr>\n",
       "      <th>2024-02-18</th>\n",
       "      <td>[]</td>\n",
       "      <td>[]</td>\n",
       "      <td>[]</td>\n",
       "    </tr>\n",
       "    <tr>\n",
       "      <th>2024-02-19</th>\n",
       "      <td>[]</td>\n",
       "      <td>[]</td>\n",
       "      <td>[]</td>\n",
       "    </tr>\n",
       "    <tr>\n",
       "      <th>2024-02-20</th>\n",
       "      <td>[]</td>\n",
       "      <td>[]</td>\n",
       "      <td>[]</td>\n",
       "    </tr>\n",
       "    <tr>\n",
       "      <th>2024-02-21</th>\n",
       "      <td>[]</td>\n",
       "      <td>[]</td>\n",
       "      <td>[]</td>\n",
       "    </tr>\n",
       "    <tr>\n",
       "      <th>2024-02-22</th>\n",
       "      <td>[]</td>\n",
       "      <td>[]</td>\n",
       "      <td>[]</td>\n",
       "    </tr>\n",
       "    <tr>\n",
       "      <th>2024-02-23</th>\n",
       "      <td>[]</td>\n",
       "      <td>[]</td>\n",
       "      <td>[]</td>\n",
       "    </tr>\n",
       "    <tr>\n",
       "      <th>2024-02-24</th>\n",
       "      <td>[]</td>\n",
       "      <td>[]</td>\n",
       "      <td>[]</td>\n",
       "    </tr>\n",
       "    <tr>\n",
       "      <th>2024-02-25</th>\n",
       "      <td>[]</td>\n",
       "      <td>[]</td>\n",
       "      <td>[]</td>\n",
       "    </tr>\n",
       "    <tr>\n",
       "      <th>2024-02-26</th>\n",
       "      <td>[]</td>\n",
       "      <td>[]</td>\n",
       "      <td>[]</td>\n",
       "    </tr>\n",
       "    <tr>\n",
       "      <th>2024-02-27</th>\n",
       "      <td>[]</td>\n",
       "      <td>[]</td>\n",
       "      <td>[]</td>\n",
       "    </tr>\n",
       "    <tr>\n",
       "      <th>2024-02-28</th>\n",
       "      <td>[]</td>\n",
       "      <td>[]</td>\n",
       "      <td>[]</td>\n",
       "    </tr>\n",
       "  </tbody>\n",
       "</table>\n",
       "</div>"
      ],
      "text/plain": [
       "             A         B   C\n",
       "2024-02-01  []      [S1]  []\n",
       "2024-02-02  []  [S1, S4]  []\n",
       "2024-02-03  []  [S2, S4]  []\n",
       "2024-02-04  []      [S2]  []\n",
       "2024-02-05  []      [S2]  []\n",
       "2024-02-06  []      [S3]  []\n",
       "2024-02-07  []        []  []\n",
       "2024-02-08  []        []  []\n",
       "2024-02-09  []        []  []\n",
       "2024-02-10  []        []  []\n",
       "2024-02-11  []        []  []\n",
       "2024-02-12  []        []  []\n",
       "2024-02-13  []        []  []\n",
       "2024-02-14  []        []  []\n",
       "2024-02-15  []        []  []\n",
       "2024-02-16  []        []  []\n",
       "2024-02-17  []        []  []\n",
       "2024-02-18  []        []  []\n",
       "2024-02-19  []        []  []\n",
       "2024-02-20  []        []  []\n",
       "2024-02-21  []        []  []\n",
       "2024-02-22  []        []  []\n",
       "2024-02-23  []        []  []\n",
       "2024-02-24  []        []  []\n",
       "2024-02-25  []        []  []\n",
       "2024-02-26  []        []  []\n",
       "2024-02-27  []        []  []\n",
       "2024-02-28  []        []  []"
      ]
     },
     "execution_count": 220,
     "metadata": {},
     "output_type": "execute_result"
    }
   ],
   "source": [
    "block_names = [\"S1\", \"S2\", \"S3\", \"S4\"]\n",
    "block_sizes = [(2, 5), (3, 4), (2, 5), (4, 5)]\n",
    "best_st_date = [\"2024-02-01\", \"2024-02-03\", \"2024-02-06\", \"2024-02-02\"]\n",
    "블록명달력 = update_블록명달력(블록명달력, \"B\", df1, block_names, best_st_date)\n",
    "블록명달력"
   ]
  },
  {
   "cell_type": "markdown",
   "id": "8363c84d",
   "metadata": {},
   "source": [
    "# 사이즈 달력"
   ]
  },
  {
   "cell_type": "code",
   "execution_count": 221,
   "id": "434586cf",
   "metadata": {},
   "outputs": [],
   "source": [
    "def create_사이즈달력(시작년:int, 시작월:int, 종료년:int, 종료월:int, 정반데이터):\n",
    "    start_date = datetime(시작년, 시작월, 1)\n",
    "    end_date = datetime(종료년, 종료월, 28)\n",
    "    정반집합 = 정반데이터[\"정반명\"].tolist()\n",
    "    날짜집합  = pd.date_range(start=start_date, end=end_date, freq='D')\n",
    "    \n",
    "    달력 = pd.DataFrame()\n",
    "    달력.index = 날짜집합\n",
    "    \n",
    "    for 정반 in 정반집합:\n",
    "        달력[정반] = [[] for _ in range(len(날짜집합))]\n",
    "        \n",
    "    return 달력"
   ]
  },
  {
   "cell_type": "code",
   "execution_count": 222,
   "id": "a4382995",
   "metadata": {
    "scrolled": true
   },
   "outputs": [
    {
     "data": {
      "text/html": [
       "<div>\n",
       "<style scoped>\n",
       "    .dataframe tbody tr th:only-of-type {\n",
       "        vertical-align: middle;\n",
       "    }\n",
       "\n",
       "    .dataframe tbody tr th {\n",
       "        vertical-align: top;\n",
       "    }\n",
       "\n",
       "    .dataframe thead th {\n",
       "        text-align: right;\n",
       "    }\n",
       "</style>\n",
       "<table border=\"1\" class=\"dataframe\">\n",
       "  <thead>\n",
       "    <tr style=\"text-align: right;\">\n",
       "      <th></th>\n",
       "      <th>A</th>\n",
       "      <th>B</th>\n",
       "      <th>C</th>\n",
       "    </tr>\n",
       "  </thead>\n",
       "  <tbody>\n",
       "    <tr>\n",
       "      <th>2024-02-01</th>\n",
       "      <td>[]</td>\n",
       "      <td>[]</td>\n",
       "      <td>[]</td>\n",
       "    </tr>\n",
       "    <tr>\n",
       "      <th>2024-02-02</th>\n",
       "      <td>[]</td>\n",
       "      <td>[]</td>\n",
       "      <td>[]</td>\n",
       "    </tr>\n",
       "    <tr>\n",
       "      <th>2024-02-03</th>\n",
       "      <td>[]</td>\n",
       "      <td>[]</td>\n",
       "      <td>[]</td>\n",
       "    </tr>\n",
       "    <tr>\n",
       "      <th>2024-02-04</th>\n",
       "      <td>[]</td>\n",
       "      <td>[]</td>\n",
       "      <td>[]</td>\n",
       "    </tr>\n",
       "    <tr>\n",
       "      <th>2024-02-05</th>\n",
       "      <td>[]</td>\n",
       "      <td>[]</td>\n",
       "      <td>[]</td>\n",
       "    </tr>\n",
       "    <tr>\n",
       "      <th>2024-02-06</th>\n",
       "      <td>[]</td>\n",
       "      <td>[]</td>\n",
       "      <td>[]</td>\n",
       "    </tr>\n",
       "    <tr>\n",
       "      <th>2024-02-07</th>\n",
       "      <td>[]</td>\n",
       "      <td>[]</td>\n",
       "      <td>[]</td>\n",
       "    </tr>\n",
       "    <tr>\n",
       "      <th>2024-02-08</th>\n",
       "      <td>[]</td>\n",
       "      <td>[]</td>\n",
       "      <td>[]</td>\n",
       "    </tr>\n",
       "    <tr>\n",
       "      <th>2024-02-09</th>\n",
       "      <td>[]</td>\n",
       "      <td>[]</td>\n",
       "      <td>[]</td>\n",
       "    </tr>\n",
       "    <tr>\n",
       "      <th>2024-02-10</th>\n",
       "      <td>[]</td>\n",
       "      <td>[]</td>\n",
       "      <td>[]</td>\n",
       "    </tr>\n",
       "    <tr>\n",
       "      <th>2024-02-11</th>\n",
       "      <td>[]</td>\n",
       "      <td>[]</td>\n",
       "      <td>[]</td>\n",
       "    </tr>\n",
       "    <tr>\n",
       "      <th>2024-02-12</th>\n",
       "      <td>[]</td>\n",
       "      <td>[]</td>\n",
       "      <td>[]</td>\n",
       "    </tr>\n",
       "    <tr>\n",
       "      <th>2024-02-13</th>\n",
       "      <td>[]</td>\n",
       "      <td>[]</td>\n",
       "      <td>[]</td>\n",
       "    </tr>\n",
       "    <tr>\n",
       "      <th>2024-02-14</th>\n",
       "      <td>[]</td>\n",
       "      <td>[]</td>\n",
       "      <td>[]</td>\n",
       "    </tr>\n",
       "    <tr>\n",
       "      <th>2024-02-15</th>\n",
       "      <td>[]</td>\n",
       "      <td>[]</td>\n",
       "      <td>[]</td>\n",
       "    </tr>\n",
       "    <tr>\n",
       "      <th>2024-02-16</th>\n",
       "      <td>[]</td>\n",
       "      <td>[]</td>\n",
       "      <td>[]</td>\n",
       "    </tr>\n",
       "    <tr>\n",
       "      <th>2024-02-17</th>\n",
       "      <td>[]</td>\n",
       "      <td>[]</td>\n",
       "      <td>[]</td>\n",
       "    </tr>\n",
       "    <tr>\n",
       "      <th>2024-02-18</th>\n",
       "      <td>[]</td>\n",
       "      <td>[]</td>\n",
       "      <td>[]</td>\n",
       "    </tr>\n",
       "    <tr>\n",
       "      <th>2024-02-19</th>\n",
       "      <td>[]</td>\n",
       "      <td>[]</td>\n",
       "      <td>[]</td>\n",
       "    </tr>\n",
       "    <tr>\n",
       "      <th>2024-02-20</th>\n",
       "      <td>[]</td>\n",
       "      <td>[]</td>\n",
       "      <td>[]</td>\n",
       "    </tr>\n",
       "    <tr>\n",
       "      <th>2024-02-21</th>\n",
       "      <td>[]</td>\n",
       "      <td>[]</td>\n",
       "      <td>[]</td>\n",
       "    </tr>\n",
       "    <tr>\n",
       "      <th>2024-02-22</th>\n",
       "      <td>[]</td>\n",
       "      <td>[]</td>\n",
       "      <td>[]</td>\n",
       "    </tr>\n",
       "    <tr>\n",
       "      <th>2024-02-23</th>\n",
       "      <td>[]</td>\n",
       "      <td>[]</td>\n",
       "      <td>[]</td>\n",
       "    </tr>\n",
       "    <tr>\n",
       "      <th>2024-02-24</th>\n",
       "      <td>[]</td>\n",
       "      <td>[]</td>\n",
       "      <td>[]</td>\n",
       "    </tr>\n",
       "    <tr>\n",
       "      <th>2024-02-25</th>\n",
       "      <td>[]</td>\n",
       "      <td>[]</td>\n",
       "      <td>[]</td>\n",
       "    </tr>\n",
       "    <tr>\n",
       "      <th>2024-02-26</th>\n",
       "      <td>[]</td>\n",
       "      <td>[]</td>\n",
       "      <td>[]</td>\n",
       "    </tr>\n",
       "    <tr>\n",
       "      <th>2024-02-27</th>\n",
       "      <td>[]</td>\n",
       "      <td>[]</td>\n",
       "      <td>[]</td>\n",
       "    </tr>\n",
       "    <tr>\n",
       "      <th>2024-02-28</th>\n",
       "      <td>[]</td>\n",
       "      <td>[]</td>\n",
       "      <td>[]</td>\n",
       "    </tr>\n",
       "  </tbody>\n",
       "</table>\n",
       "</div>"
      ],
      "text/plain": [
       "             A   B   C\n",
       "2024-02-01  []  []  []\n",
       "2024-02-02  []  []  []\n",
       "2024-02-03  []  []  []\n",
       "2024-02-04  []  []  []\n",
       "2024-02-05  []  []  []\n",
       "2024-02-06  []  []  []\n",
       "2024-02-07  []  []  []\n",
       "2024-02-08  []  []  []\n",
       "2024-02-09  []  []  []\n",
       "2024-02-10  []  []  []\n",
       "2024-02-11  []  []  []\n",
       "2024-02-12  []  []  []\n",
       "2024-02-13  []  []  []\n",
       "2024-02-14  []  []  []\n",
       "2024-02-15  []  []  []\n",
       "2024-02-16  []  []  []\n",
       "2024-02-17  []  []  []\n",
       "2024-02-18  []  []  []\n",
       "2024-02-19  []  []  []\n",
       "2024-02-20  []  []  []\n",
       "2024-02-21  []  []  []\n",
       "2024-02-22  []  []  []\n",
       "2024-02-23  []  []  []\n",
       "2024-02-24  []  []  []\n",
       "2024-02-25  []  []  []\n",
       "2024-02-26  []  []  []\n",
       "2024-02-27  []  []  []\n",
       "2024-02-28  []  []  []"
      ]
     },
     "execution_count": 222,
     "metadata": {},
     "output_type": "execute_result"
    }
   ],
   "source": [
    "사이즈달력 = create_사이즈달력(2024, 2, 2024, 2, df2)\n",
    "사이즈달력"
   ]
  },
  {
   "cell_type": "code",
   "execution_count": 223,
   "id": "6c7263a5",
   "metadata": {},
   "outputs": [],
   "source": [
    "def update_사이즈달력(사이즈달력, 최선정반, 블록데이터, block_names, block_sizes, best_st_date):\n",
    "    \n",
    "    달력 = 사이즈달력\n",
    "    결과모음 = [[] for _ in range(len(날짜집합))]\n",
    "\n",
    "#     for block_size, 블록착수일 in zip(block_sizes, best_st_date):\n",
    "        \n",
    "    for i in range(len(block_names)):\n",
    "        블록명 = block_names[i]\n",
    "        블록사이즈 = block_sizes[i]\n",
    "        블록착수일 = best_st_date[i]\n",
    "        \n",
    "        표준공기 = 블록데이터[블록데이터[\"블록명\"]==블록명][\"표준공기\"].values[0]\n",
    "        시점인덱스 = list(달력.index.strftime('%Y-%m-%d')).index(블록착수일)\n",
    "        \n",
    "#         표준공기 = 블록데이터[블록데이터[\"블록명\"]==block_names[-1]][\"표준공기\"].values[0]\n",
    "\n",
    "        for i in 결과모음[시점인덱스:시점인덱스+표준공기]:\n",
    "            i.append(블록사이즈)\n",
    "            \n",
    "    달력[f\"{최선정반}\"] = 결과모음\n",
    "\n",
    "    return 달력"
   ]
  },
  {
   "cell_type": "code",
   "execution_count": 224,
   "id": "a725efeb",
   "metadata": {
    "scrolled": true
   },
   "outputs": [
    {
     "data": {
      "text/html": [
       "<div>\n",
       "<style scoped>\n",
       "    .dataframe tbody tr th:only-of-type {\n",
       "        vertical-align: middle;\n",
       "    }\n",
       "\n",
       "    .dataframe tbody tr th {\n",
       "        vertical-align: top;\n",
       "    }\n",
       "\n",
       "    .dataframe thead th {\n",
       "        text-align: right;\n",
       "    }\n",
       "</style>\n",
       "<table border=\"1\" class=\"dataframe\">\n",
       "  <thead>\n",
       "    <tr style=\"text-align: right;\">\n",
       "      <th></th>\n",
       "      <th>A</th>\n",
       "      <th>B</th>\n",
       "      <th>C</th>\n",
       "    </tr>\n",
       "  </thead>\n",
       "  <tbody>\n",
       "    <tr>\n",
       "      <th>2024-02-01</th>\n",
       "      <td>[]</td>\n",
       "      <td>[(2, 5)]</td>\n",
       "      <td>[]</td>\n",
       "    </tr>\n",
       "    <tr>\n",
       "      <th>2024-02-02</th>\n",
       "      <td>[]</td>\n",
       "      <td>[(2, 5)]</td>\n",
       "      <td>[]</td>\n",
       "    </tr>\n",
       "    <tr>\n",
       "      <th>2024-02-03</th>\n",
       "      <td>[]</td>\n",
       "      <td>[(3, 4)]</td>\n",
       "      <td>[]</td>\n",
       "    </tr>\n",
       "    <tr>\n",
       "      <th>2024-02-04</th>\n",
       "      <td>[]</td>\n",
       "      <td>[(3, 4)]</td>\n",
       "      <td>[]</td>\n",
       "    </tr>\n",
       "    <tr>\n",
       "      <th>2024-02-05</th>\n",
       "      <td>[]</td>\n",
       "      <td>[(3, 4)]</td>\n",
       "      <td>[]</td>\n",
       "    </tr>\n",
       "    <tr>\n",
       "      <th>2024-02-06</th>\n",
       "      <td>[]</td>\n",
       "      <td>[(2, 5)]</td>\n",
       "      <td>[]</td>\n",
       "    </tr>\n",
       "    <tr>\n",
       "      <th>2024-02-07</th>\n",
       "      <td>[]</td>\n",
       "      <td>[]</td>\n",
       "      <td>[]</td>\n",
       "    </tr>\n",
       "    <tr>\n",
       "      <th>2024-02-08</th>\n",
       "      <td>[]</td>\n",
       "      <td>[]</td>\n",
       "      <td>[]</td>\n",
       "    </tr>\n",
       "    <tr>\n",
       "      <th>2024-02-09</th>\n",
       "      <td>[]</td>\n",
       "      <td>[]</td>\n",
       "      <td>[]</td>\n",
       "    </tr>\n",
       "    <tr>\n",
       "      <th>2024-02-10</th>\n",
       "      <td>[]</td>\n",
       "      <td>[]</td>\n",
       "      <td>[]</td>\n",
       "    </tr>\n",
       "    <tr>\n",
       "      <th>2024-02-11</th>\n",
       "      <td>[]</td>\n",
       "      <td>[]</td>\n",
       "      <td>[]</td>\n",
       "    </tr>\n",
       "    <tr>\n",
       "      <th>2024-02-12</th>\n",
       "      <td>[]</td>\n",
       "      <td>[]</td>\n",
       "      <td>[]</td>\n",
       "    </tr>\n",
       "    <tr>\n",
       "      <th>2024-02-13</th>\n",
       "      <td>[]</td>\n",
       "      <td>[]</td>\n",
       "      <td>[]</td>\n",
       "    </tr>\n",
       "    <tr>\n",
       "      <th>2024-02-14</th>\n",
       "      <td>[]</td>\n",
       "      <td>[]</td>\n",
       "      <td>[]</td>\n",
       "    </tr>\n",
       "    <tr>\n",
       "      <th>2024-02-15</th>\n",
       "      <td>[]</td>\n",
       "      <td>[]</td>\n",
       "      <td>[]</td>\n",
       "    </tr>\n",
       "    <tr>\n",
       "      <th>2024-02-16</th>\n",
       "      <td>[]</td>\n",
       "      <td>[]</td>\n",
       "      <td>[]</td>\n",
       "    </tr>\n",
       "    <tr>\n",
       "      <th>2024-02-17</th>\n",
       "      <td>[]</td>\n",
       "      <td>[]</td>\n",
       "      <td>[]</td>\n",
       "    </tr>\n",
       "    <tr>\n",
       "      <th>2024-02-18</th>\n",
       "      <td>[]</td>\n",
       "      <td>[]</td>\n",
       "      <td>[]</td>\n",
       "    </tr>\n",
       "    <tr>\n",
       "      <th>2024-02-19</th>\n",
       "      <td>[]</td>\n",
       "      <td>[]</td>\n",
       "      <td>[]</td>\n",
       "    </tr>\n",
       "    <tr>\n",
       "      <th>2024-02-20</th>\n",
       "      <td>[]</td>\n",
       "      <td>[]</td>\n",
       "      <td>[]</td>\n",
       "    </tr>\n",
       "    <tr>\n",
       "      <th>2024-02-21</th>\n",
       "      <td>[]</td>\n",
       "      <td>[]</td>\n",
       "      <td>[]</td>\n",
       "    </tr>\n",
       "    <tr>\n",
       "      <th>2024-02-22</th>\n",
       "      <td>[]</td>\n",
       "      <td>[]</td>\n",
       "      <td>[]</td>\n",
       "    </tr>\n",
       "    <tr>\n",
       "      <th>2024-02-23</th>\n",
       "      <td>[]</td>\n",
       "      <td>[]</td>\n",
       "      <td>[]</td>\n",
       "    </tr>\n",
       "    <tr>\n",
       "      <th>2024-02-24</th>\n",
       "      <td>[]</td>\n",
       "      <td>[]</td>\n",
       "      <td>[]</td>\n",
       "    </tr>\n",
       "    <tr>\n",
       "      <th>2024-02-25</th>\n",
       "      <td>[]</td>\n",
       "      <td>[]</td>\n",
       "      <td>[]</td>\n",
       "    </tr>\n",
       "    <tr>\n",
       "      <th>2024-02-26</th>\n",
       "      <td>[]</td>\n",
       "      <td>[]</td>\n",
       "      <td>[]</td>\n",
       "    </tr>\n",
       "    <tr>\n",
       "      <th>2024-02-27</th>\n",
       "      <td>[]</td>\n",
       "      <td>[]</td>\n",
       "      <td>[]</td>\n",
       "    </tr>\n",
       "    <tr>\n",
       "      <th>2024-02-28</th>\n",
       "      <td>[]</td>\n",
       "      <td>[]</td>\n",
       "      <td>[]</td>\n",
       "    </tr>\n",
       "  </tbody>\n",
       "</table>\n",
       "</div>"
      ],
      "text/plain": [
       "             A         B   C\n",
       "2024-02-01  []  [(2, 5)]  []\n",
       "2024-02-02  []  [(2, 5)]  []\n",
       "2024-02-03  []  [(3, 4)]  []\n",
       "2024-02-04  []  [(3, 4)]  []\n",
       "2024-02-05  []  [(3, 4)]  []\n",
       "2024-02-06  []  [(2, 5)]  []\n",
       "2024-02-07  []        []  []\n",
       "2024-02-08  []        []  []\n",
       "2024-02-09  []        []  []\n",
       "2024-02-10  []        []  []\n",
       "2024-02-11  []        []  []\n",
       "2024-02-12  []        []  []\n",
       "2024-02-13  []        []  []\n",
       "2024-02-14  []        []  []\n",
       "2024-02-15  []        []  []\n",
       "2024-02-16  []        []  []\n",
       "2024-02-17  []        []  []\n",
       "2024-02-18  []        []  []\n",
       "2024-02-19  []        []  []\n",
       "2024-02-20  []        []  []\n",
       "2024-02-21  []        []  []\n",
       "2024-02-22  []        []  []\n",
       "2024-02-23  []        []  []\n",
       "2024-02-24  []        []  []\n",
       "2024-02-25  []        []  []\n",
       "2024-02-26  []        []  []\n",
       "2024-02-27  []        []  []\n",
       "2024-02-28  []        []  []"
      ]
     },
     "execution_count": 224,
     "metadata": {},
     "output_type": "execute_result"
    }
   ],
   "source": [
    "block_names = [\"S1\", \"S2\", \"S3\"]\n",
    "block_sizes = [(2, 5), (3, 4), (2, 5)]\n",
    "best_st_date = [\"2024-02-01\", \"2024-02-03\", \"2024-02-06\"]\n",
    "사이즈달력 = update_사이즈달력(사이즈달력, \"B\", df1, block_names,block_sizes, best_st_date)\n",
    "사이즈달력"
   ]
  },
  {
   "cell_type": "code",
   "execution_count": 225,
   "id": "ad7fa43e",
   "metadata": {
    "scrolled": true
   },
   "outputs": [
    {
     "data": {
      "text/html": [
       "<div>\n",
       "<style scoped>\n",
       "    .dataframe tbody tr th:only-of-type {\n",
       "        vertical-align: middle;\n",
       "    }\n",
       "\n",
       "    .dataframe tbody tr th {\n",
       "        vertical-align: top;\n",
       "    }\n",
       "\n",
       "    .dataframe thead th {\n",
       "        text-align: right;\n",
       "    }\n",
       "</style>\n",
       "<table border=\"1\" class=\"dataframe\">\n",
       "  <thead>\n",
       "    <tr style=\"text-align: right;\">\n",
       "      <th></th>\n",
       "      <th>A</th>\n",
       "      <th>B</th>\n",
       "      <th>C</th>\n",
       "    </tr>\n",
       "  </thead>\n",
       "  <tbody>\n",
       "    <tr>\n",
       "      <th>2024-02-01</th>\n",
       "      <td>[]</td>\n",
       "      <td>[(2, 5)]</td>\n",
       "      <td>[]</td>\n",
       "    </tr>\n",
       "    <tr>\n",
       "      <th>2024-02-02</th>\n",
       "      <td>[]</td>\n",
       "      <td>[(2, 5), (4, 5)]</td>\n",
       "      <td>[]</td>\n",
       "    </tr>\n",
       "    <tr>\n",
       "      <th>2024-02-03</th>\n",
       "      <td>[]</td>\n",
       "      <td>[(3, 4), (4, 5)]</td>\n",
       "      <td>[]</td>\n",
       "    </tr>\n",
       "    <tr>\n",
       "      <th>2024-02-04</th>\n",
       "      <td>[]</td>\n",
       "      <td>[(3, 4)]</td>\n",
       "      <td>[]</td>\n",
       "    </tr>\n",
       "    <tr>\n",
       "      <th>2024-02-05</th>\n",
       "      <td>[]</td>\n",
       "      <td>[(3, 4)]</td>\n",
       "      <td>[]</td>\n",
       "    </tr>\n",
       "    <tr>\n",
       "      <th>2024-02-06</th>\n",
       "      <td>[]</td>\n",
       "      <td>[(2, 5)]</td>\n",
       "      <td>[]</td>\n",
       "    </tr>\n",
       "    <tr>\n",
       "      <th>2024-02-07</th>\n",
       "      <td>[]</td>\n",
       "      <td>[]</td>\n",
       "      <td>[]</td>\n",
       "    </tr>\n",
       "    <tr>\n",
       "      <th>2024-02-08</th>\n",
       "      <td>[]</td>\n",
       "      <td>[]</td>\n",
       "      <td>[]</td>\n",
       "    </tr>\n",
       "    <tr>\n",
       "      <th>2024-02-09</th>\n",
       "      <td>[]</td>\n",
       "      <td>[]</td>\n",
       "      <td>[]</td>\n",
       "    </tr>\n",
       "    <tr>\n",
       "      <th>2024-02-10</th>\n",
       "      <td>[]</td>\n",
       "      <td>[]</td>\n",
       "      <td>[]</td>\n",
       "    </tr>\n",
       "    <tr>\n",
       "      <th>2024-02-11</th>\n",
       "      <td>[]</td>\n",
       "      <td>[]</td>\n",
       "      <td>[]</td>\n",
       "    </tr>\n",
       "    <tr>\n",
       "      <th>2024-02-12</th>\n",
       "      <td>[]</td>\n",
       "      <td>[]</td>\n",
       "      <td>[]</td>\n",
       "    </tr>\n",
       "    <tr>\n",
       "      <th>2024-02-13</th>\n",
       "      <td>[]</td>\n",
       "      <td>[]</td>\n",
       "      <td>[]</td>\n",
       "    </tr>\n",
       "    <tr>\n",
       "      <th>2024-02-14</th>\n",
       "      <td>[]</td>\n",
       "      <td>[]</td>\n",
       "      <td>[]</td>\n",
       "    </tr>\n",
       "    <tr>\n",
       "      <th>2024-02-15</th>\n",
       "      <td>[]</td>\n",
       "      <td>[]</td>\n",
       "      <td>[]</td>\n",
       "    </tr>\n",
       "    <tr>\n",
       "      <th>2024-02-16</th>\n",
       "      <td>[]</td>\n",
       "      <td>[]</td>\n",
       "      <td>[]</td>\n",
       "    </tr>\n",
       "    <tr>\n",
       "      <th>2024-02-17</th>\n",
       "      <td>[]</td>\n",
       "      <td>[]</td>\n",
       "      <td>[]</td>\n",
       "    </tr>\n",
       "    <tr>\n",
       "      <th>2024-02-18</th>\n",
       "      <td>[]</td>\n",
       "      <td>[]</td>\n",
       "      <td>[]</td>\n",
       "    </tr>\n",
       "    <tr>\n",
       "      <th>2024-02-19</th>\n",
       "      <td>[]</td>\n",
       "      <td>[]</td>\n",
       "      <td>[]</td>\n",
       "    </tr>\n",
       "    <tr>\n",
       "      <th>2024-02-20</th>\n",
       "      <td>[]</td>\n",
       "      <td>[]</td>\n",
       "      <td>[]</td>\n",
       "    </tr>\n",
       "    <tr>\n",
       "      <th>2024-02-21</th>\n",
       "      <td>[]</td>\n",
       "      <td>[]</td>\n",
       "      <td>[]</td>\n",
       "    </tr>\n",
       "    <tr>\n",
       "      <th>2024-02-22</th>\n",
       "      <td>[]</td>\n",
       "      <td>[]</td>\n",
       "      <td>[]</td>\n",
       "    </tr>\n",
       "    <tr>\n",
       "      <th>2024-02-23</th>\n",
       "      <td>[]</td>\n",
       "      <td>[]</td>\n",
       "      <td>[]</td>\n",
       "    </tr>\n",
       "    <tr>\n",
       "      <th>2024-02-24</th>\n",
       "      <td>[]</td>\n",
       "      <td>[]</td>\n",
       "      <td>[]</td>\n",
       "    </tr>\n",
       "    <tr>\n",
       "      <th>2024-02-25</th>\n",
       "      <td>[]</td>\n",
       "      <td>[]</td>\n",
       "      <td>[]</td>\n",
       "    </tr>\n",
       "    <tr>\n",
       "      <th>2024-02-26</th>\n",
       "      <td>[]</td>\n",
       "      <td>[]</td>\n",
       "      <td>[]</td>\n",
       "    </tr>\n",
       "    <tr>\n",
       "      <th>2024-02-27</th>\n",
       "      <td>[]</td>\n",
       "      <td>[]</td>\n",
       "      <td>[]</td>\n",
       "    </tr>\n",
       "    <tr>\n",
       "      <th>2024-02-28</th>\n",
       "      <td>[]</td>\n",
       "      <td>[]</td>\n",
       "      <td>[]</td>\n",
       "    </tr>\n",
       "  </tbody>\n",
       "</table>\n",
       "</div>"
      ],
      "text/plain": [
       "             A                 B   C\n",
       "2024-02-01  []          [(2, 5)]  []\n",
       "2024-02-02  []  [(2, 5), (4, 5)]  []\n",
       "2024-02-03  []  [(3, 4), (4, 5)]  []\n",
       "2024-02-04  []          [(3, 4)]  []\n",
       "2024-02-05  []          [(3, 4)]  []\n",
       "2024-02-06  []          [(2, 5)]  []\n",
       "2024-02-07  []                []  []\n",
       "2024-02-08  []                []  []\n",
       "2024-02-09  []                []  []\n",
       "2024-02-10  []                []  []\n",
       "2024-02-11  []                []  []\n",
       "2024-02-12  []                []  []\n",
       "2024-02-13  []                []  []\n",
       "2024-02-14  []                []  []\n",
       "2024-02-15  []                []  []\n",
       "2024-02-16  []                []  []\n",
       "2024-02-17  []                []  []\n",
       "2024-02-18  []                []  []\n",
       "2024-02-19  []                []  []\n",
       "2024-02-20  []                []  []\n",
       "2024-02-21  []                []  []\n",
       "2024-02-22  []                []  []\n",
       "2024-02-23  []                []  []\n",
       "2024-02-24  []                []  []\n",
       "2024-02-25  []                []  []\n",
       "2024-02-26  []                []  []\n",
       "2024-02-27  []                []  []\n",
       "2024-02-28  []                []  []"
      ]
     },
     "execution_count": 225,
     "metadata": {},
     "output_type": "execute_result"
    }
   ],
   "source": [
    "block_names = [\"S1\", \"S2\", \"S3\", \"S4\"]\n",
    "block_sizes = [(2, 5), (3, 4), (2, 5), (4, 5)]\n",
    "best_st_date = [\"2024-02-01\", \"2024-02-03\", \"2024-02-06\", \"2024-02-02\"]\n",
    "사이즈달력 = update_사이즈달력(사이즈달력, \"B\", df1, block_names, block_sizes, best_st_date)\n",
    "사이즈달력"
   ]
  },
  {
   "cell_type": "markdown",
   "id": "692f6bfa",
   "metadata": {},
   "source": [
    "# 정반 레이아웃 배치 적합도 검토"
   ]
  },
  {
   "cell_type": "markdown",
   "id": "1e465264",
   "metadata": {},
   "source": [
    "## 함수 정의"
   ]
  },
  {
   "cell_type": "code",
   "execution_count": 226,
   "id": "3c774c4b",
   "metadata": {},
   "outputs": [],
   "source": [
    "def 정반세팅(사이즈):  #사이즈 = (10, 10)\n",
    "    surface_width, surface_height = 사이즈[0], 사이즈[1]  # Adjusted to match the provided image for demonstration\n",
    "    surface = np.zeros((surface_height, surface_width), dtype=int)\n",
    "    return surface, surface_width, surface_height"
   ]
  },
  {
   "cell_type": "code",
   "execution_count": 227,
   "id": "67927c96",
   "metadata": {},
   "outputs": [],
   "source": [
    "# 수정Function to check if a block can be placed on the surface\n",
    "def can_place(surface, surface_width, surface_height, block_height, block_width, start_row, start_col):\n",
    "    block_height, block_width = block_height, block_width\n",
    "    if start_row + block_height > surface_height or start_col + block_width > surface_width:\n",
    "        return False\n",
    "    return np.all(surface[start_row:start_row + block_height, start_col:start_col + block_width] == 0)\n",
    "\n",
    "# Function to place a block on the surface, if possible\n",
    "def place_block(surface, block_height, block_width, start_row, start_col, block_id):\n",
    "    block_height, block_width = block_height, block_width\n",
    "    surface[start_row:start_row + block_height, start_col:start_col + block_width] = block_id\n",
    "\n",
    "# Function to find the best fit for a block on the surface\n",
    "def find_best_fit(surface, surface_width, surface_height, block_height, block_width, block_id):\n",
    "    best_fit_score = float('inf')\n",
    "    best_position = None\n",
    "    block_height, block_width = block_height, block_width\n",
    "\n",
    "    # Iterate over all possible positions on the surface\n",
    "    for y in range(surface_height - block_height + 1):\n",
    "        for x in range(surface_width - block_width + 1):\n",
    "            if can_place(surface, surface_width, surface_height, block_height, block_width, y, x):\n",
    "                # Calculate a score; here we use the top-left corner (y, x) as the score\n",
    "                # A lower score means the block is closer to the top-left\n",
    "                score = y + x\n",
    "                if score < best_fit_score:\n",
    "                    best_fit_score = score\n",
    "                    best_position = (y, x)\n",
    "\n",
    "    # If a best position was found, place the block there\n",
    "    if best_position:\n",
    "        place_block(surface, block_height, block_width, *best_position, block_id)\n",
    "        return True\n",
    "\n",
    "    return False  # No fit found\n",
    "\n",
    "# Function to fit blocks on the surface in order\n",
    "def fit_blocks(surface, surface_width, surface_height, blocks, names):\n",
    "    result = \"\"\n",
    "    block_id = max(map(max, surface))+1  # Start numbering blocks from 1\n",
    "    for name, block in zip(names, blocks):\n",
    "        \n",
    "        block_height, block_width = block\n",
    "        \n",
    "        if find_best_fit(surface, surface_width, surface_height, block_height, block_width, block_id) == False:\n",
    "            print(f\"1차검토 - Block {block_id} of size {block} could not be placed.\")\n",
    "            result = \"부적합\"\n",
    "            \n",
    "            ## 가로 세로 길이 바꿔서 검토 -------------------------------------\n",
    "            block_height, block_width = block_width, block_height\n",
    "            \n",
    "            if find_best_fit(surface, surface_width, surface_height, block_height, block_width, block_id) == False:\n",
    "                print(f\"2차검토 - Block {block_id} of size {block} could not be placed.\")\n",
    "                result = \"부적합\"\n",
    "            \n",
    "        else:\n",
    "            result = \"적합\"\n",
    "        block_id += 1  # Increment block_id for the next block\n",
    "    return surface, result"
   ]
  },
  {
   "cell_type": "code",
   "execution_count": 228,
   "id": "e03466d1",
   "metadata": {},
   "outputs": [],
   "source": [
    "def draw1(surface, block_names):\n",
    "    fig, ax = plt.subplots(figsize=(5, 5))\n",
    "\n",
    "    cmap = mcolors.ListedColormap(['white'] + ['C{}'.format(i) for i in range(len(block_names))])\n",
    "    norm = mcolors.BoundaryNorm(np.arange(0.5, len(block_names) + 2), cmap.N)\n",
    "\n",
    "    ax.imshow(surface, cmap=cmap, norm=norm)\n",
    "\n",
    "    for y in range(surface.shape[0]):\n",
    "        for x in range(surface.shape[1]):\n",
    "            if surface[y, x] != 0:\n",
    "                ax.text(x, y, str(block_names[surface[y, x]-1]), ha='center', va='center', color='black')\n",
    "                \n",
    "    ax.set_xticks(np.arange(-.5, surface.shape[1], 1), minor=True)\n",
    "    ax.set_yticks(np.arange(-.5, surface.shape[0], 1), minor=True)\n",
    "    ax.grid(which=\"minor\", color=\"black\", linestyle='-', linewidth=1)\n",
    "    ax.tick_params(which=\"minor\", size=0)\n",
    "\n",
    "    ax.set_xticks([])\n",
    "    ax.set_yticks([])\n",
    "\n",
    "    plt.show()"
   ]
  },
  {
   "cell_type": "code",
   "execution_count": 229,
   "id": "8f79e920",
   "metadata": {},
   "outputs": [],
   "source": [
    "def 정반배치레이아웃적합도(정반명, 정반데이터, 조회날짜, 블록명달력, 블록사이즈달력):\n",
    "    \n",
    "    정반사이즈 = 정반데이터[정반데이터[\"정반명\"]==정반명][\"사이즈\"].values[0]\n",
    "    block_names = 블록명달력.at[조회날짜, 정반명]\n",
    "    block_sizes = 블록사이즈달력.at[조회날짜, 정반명]\n",
    "    \n",
    "    print(조회날짜, 정반명, 정반사이즈, block_names, block_sizes)\n",
    "    \n",
    "    surface, surface_width, surface_height = 정반세팅(정반사이즈)\n",
    "    배치결과 = fit_blocks(surface, surface_width, surface_height, block_sizes, block_names)\n",
    "    적합도 = 배치결과[1]\n",
    "#     레이아웃 = 배치결과[0]\n",
    "    \n",
    "    return 적합도"
   ]
  },
  {
   "cell_type": "code",
   "execution_count": 230,
   "id": "6619f0a7",
   "metadata": {},
   "outputs": [
    {
     "name": "stdout",
     "output_type": "stream",
     "text": [
      "2024-02-03 B (10, 10) ['S2', 'S4'] [(3, 4), (4, 5)]\n"
     ]
    },
    {
     "data": {
      "text/plain": [
       "'적합'"
      ]
     },
     "execution_count": 230,
     "metadata": {},
     "output_type": "execute_result"
    }
   ],
   "source": [
    "적합도 = 정반배치레이아웃적합도(\"B\", df2, \"2024-02-03\", 블록명달력, 사이즈달력)\n",
    "적합도"
   ]
  },
  {
   "cell_type": "markdown",
   "id": "f3bbc318",
   "metadata": {},
   "source": [
    "## 복수정반 배치 시뮬"
   ]
  },
  {
   "cell_type": "code",
   "execution_count": 231,
   "id": "dc96e8b6",
   "metadata": {},
   "outputs": [],
   "source": [
    "# def 정반배치적합도체크(정반명, 정반데이터, 추가블록명, 블록데이터, 최선조기착수일):\n",
    "#     global fin_results \n",
    "    \n",
    "  \n",
    "#     정반사이즈 = 정반데이터[정반데이터[\"정반명\"]==정반명][\"사이즈\"].values[0]\n",
    "#     블록사이즈 = 블록데이터[블록데이터[\"블록명\"]==추가블록명][\"사이즈\"].values[0]\n",
    "    \n",
    "#     fin_results[정반명][\"block_sizes\"] = fin_results[정반명][\"block_sizes\"] + [블록사이즈]\n",
    "#     fin_results[정반명][\"block_names\"] = fin_results[정반명][\"block_names\"] + [추가블록명]\n",
    "#     fin_results[정반명][\"best_st_date\"] = fin_results[정반명][\"best_st_date\"] + [최선조기착수일]\n",
    "    \n",
    "#     surface, surface_width, surface_height = 정반세팅(정반사이즈)\n",
    "#     배치결과 = fit_blocks(surface, surface_width, surface_height, fin_results[정반명][\"block_sizes\"], fin_results[정반명][\"block_names\"])\n",
    "# #     print(f\"배치결과: {배치결과[1]}\")\n",
    "    \n",
    "#     if 배치결과[1] == \"적합\":\n",
    "#         배치레이아웃 = 배치결과[0]\n",
    "#         draw1(배치레이아웃, fin_results[정반명][\"block_names\"])\n",
    "        \n",
    "#     else:\n",
    "#         fin_results[정반명][\"block_sizes\"].remove(블록사이즈)\n",
    "#         fin_results[정반명][\"block_names\"].remove(추가블록명)\n",
    "#         fin_results[정반명][\"best_st_date\"].remove(최선조기착수일)\n",
    "    \n",
    "#     return 배치결과[1], fin_results"
   ]
  },
  {
   "cell_type": "code",
   "execution_count": 232,
   "id": "b9b7edfa",
   "metadata": {},
   "outputs": [],
   "source": [
    "# fin_results = {\n",
    "# \"A\": {\"block_sizes\":[], \"block_names\":[], \"best_st_date\":[]},\n",
    "# \"B\": {\"block_sizes\":[], \"block_names\":[], \"best_st_date\":[]},\n",
    "#       }"
   ]
  },
  {
   "cell_type": "markdown",
   "id": "69416b3c",
   "metadata": {},
   "source": [
    "# 생산계획수립"
   ]
  },
  {
   "cell_type": "code",
   "execution_count": 378,
   "id": "a2ef566e",
   "metadata": {},
   "outputs": [],
   "source": [
    "def check_if_value_in_list(my_list, value_to_check):\n",
    "    if value_to_check in my_list:\n",
    "        return \"부적합\"\n",
    "    else:\n",
    "        return \"적합\""
   ]
  },
  {
   "cell_type": "code",
   "execution_count": 379,
   "id": "67400690",
   "metadata": {},
   "outputs": [],
   "source": [
    "def 생산계획수립(블록데이터, 정반데이터, 면적달력, 블록명달력, 사이즈달력):\n",
    "    \n",
    "    블록리스트 = 블록데이터[\"블록명\"].tolist()\n",
    "    정반리스트 = 정반데이터[\"정반명\"].tolist()\n",
    "    \n",
    "    면적달력 = 면적달력\n",
    "    블록명달력 = 블록명달력\n",
    "    사이즈달력 = 사이즈달력\n",
    "        \n",
    "    결론_블록리스트 = []\n",
    "    결론_블록사이즈리스트 = []\n",
    "    결론_정반리스트 = []\n",
    "    결론_착수일자 = []\n",
    "    \n",
    "        \n",
    "    for _ in tqdm(range(len(블록리스트))):\n",
    "        \n",
    "        if 블록리스트:\n",
    "            target_block = 블록리스트[0]\n",
    "        else:\n",
    "            print(\"수정블록리스트에 검토대상 잔여블록이 없습니다.\")\n",
    "            print()\n",
    "            break        \n",
    "        \n",
    "        블록 = 블록변수정리(블록데이터, target_block)\n",
    "        블록명 = 블록[\"블록명\"]\n",
    "        블록사이즈 = 블록[\"사이즈\"]\n",
    "        표준공기 = 블록[\"표준공기\"]\n",
    "        \n",
    "        print(f\"*** 검토대상블록: {블록명}, 사이즈: {블록사이즈}\")\n",
    "        print()\n",
    "        \n",
    "        ## 정반가능중량 조건 적합도 검토 ----------------------------------------------------------\n",
    "        중량조건적합정반들 = []\n",
    "        for 정반 in 정반리스트:\n",
    "            중량적합도 = 정반가능중량검토(블록명, 블록데이터, 정반, 정반데이터)\n",
    "            if 중량적합도 == \"적합\":\n",
    "                중량조건적합정반들.append(정반)\n",
    "        \n",
    "        print(f\"*** 중량조건적합정반들: {중량조건적합정반들}\")\n",
    "        print()\n",
    "        \n",
    "        ## 최선조기착수일 검토 ---------------------------------------------------------------------\n",
    "        최선조기착수일후보 = get_최선조기착수일후보(면적달력, 중량조건적합정반들, 블록명, 블록데이터)\n",
    "        print(f\"*** 최선조기착수일후보: {최선조기착수일후보}\")\n",
    "        \n",
    "        최선조기착수대상 = get_최선조기착수대상(최선조기착수일후보)  ##랜덤 셀렉트 적용\n",
    "        최선정반명 = 최선조기착수대상[0]\n",
    "        최선조기착수일 = 최선조기착수대상[1]\n",
    "        \n",
    "        print(f\"*** 랜덤선택 최선정반명:{최선정반명}, 최선조기착수일:{최선조기착수일}\")\n",
    "        print()\n",
    "        \n",
    "        ###-----------------------------------------------------------------------------------------------------\n",
    "        결론_블록리스트.append(블록명)\n",
    "        결론_블록사이즈리스트.append(블록사이즈)\n",
    "        결론_정반리스트.append(최선정반명)\n",
    "        결론_착수일자.append(최선조기착수일)\n",
    "        \n",
    "        임시_블록명달력 = update_블록명달력(블록명달력, 최선정반명, 블록데이터, 결론_블록리스트, 결론_착수일자)\n",
    "        임시_사이즈달력 = update_사이즈달력(사이즈달력, 최선정반명, 블록데이터, 결론_블록리스트, 결론_블록사이즈리스트, 결론_착수일자)\n",
    "        \n",
    "        레이아웃적합도리스트 = []\n",
    "        for i in range(표준공기):\n",
    "            date_object = datetime.strptime(최선조기착수일, \"%Y-%m-%d\")\n",
    "            new_date = date_object + timedelta(days=i)\n",
    "            레이아웃검토날짜 = new_date.strftime(\"%Y-%m-%d\")   \n",
    "            \n",
    "            적합도 = 정반배치레이아웃적합도(최선정반명, 정반데이터, 레이아웃검토날짜, 임시_블록명달력, 임시_사이즈달력)\n",
    "            레이아웃적합도리스트.append(적합도)\n",
    "            \n",
    "        적합도리스트체크 = check_if_value_in_list(레이아웃적합도리스트, \"부적합\")\n",
    "        print(f\"레이아웃적합도리스트: {레이아웃적합도리스트}\")\n",
    "        print(f\"*** 적합도리스트체크: {적합도리스트체크}\")\n",
    "        \n",
    "        ### -----------------------------------------------------------------------------------------------------\n",
    "        if 적합도리스트체크 == \"부적합\":\n",
    "            결론_블록리스트 = 결론_블록리스트[:-1]\n",
    "            결론_블록사이즈리스트 = 결론_블록사이즈리스트[:-1]\n",
    "            결론_정반리스트 = 결론_정반리스트[:-1]\n",
    "            결론_착수일자 = 결론_착수일자[:-1]\n",
    "            \n",
    "            print(\"생산기간중 레이아웃 배치 불가능!!\")\n",
    "        \n",
    "        else:  # 적합도리스트체크가 적합이라면..\n",
    "            블록명달력 = 임시_블록명달력\n",
    "            사이즈달력 = 임시_사이즈달력\n",
    "            면적달력 = update_면적달력(면적달력, 최선조기착수대상, 블록명, 블록데이터)\n",
    "            \n",
    "        블록리스트.remove(target_block)\n",
    "        print(f\"*** 검토후 블록리스트 : {블록리스트}\")\n",
    "        print(\"=\"*70)\n",
    "        print()\n",
    "        \n",
    "        \n",
    "        \n",
    "    return 결론_블록리스트, 결론_정반리스트, 결론_착수일자, 면적달력, 블록명달력, 사이즈달력"
   ]
  },
  {
   "cell_type": "code",
   "execution_count": 380,
   "id": "08b0dc8b",
   "metadata": {},
   "outputs": [
    {
     "data": {
      "text/plain": [
       "((7, 12), (1, 7))"
      ]
     },
     "execution_count": 380,
     "metadata": {},
     "output_type": "execute_result"
    }
   ],
   "source": [
    "data_num = 0\n",
    "\n",
    "블록원데이터 = pd.read_excel(f\"./data/data{data_num}.xlsx\", sheet_name=\"블록데이터\")\n",
    "정반원데이터 = pd.read_excel(f\"./data/data{data_num}.xlsx\", sheet_name=\"정반데이터\")\n",
    "\n",
    "블록데이터 = 블록데이터전처리(블록원데이터)\n",
    "정반데이터 = 정반데이터전처리(정반원데이터)\n",
    "블록데이터.shape, 정반데이터.shape"
   ]
  },
  {
   "cell_type": "markdown",
   "id": "076441f3",
   "metadata": {},
   "source": [
    "##### 면적요건은 충족하나 레이아웃 미충족시 문제 발생.. 사이즈가 어정쩡한 것이 문제.. 비슷한 사이즈 블록끼리 배치하면.. 이런 문제는 거의 발생 안할 듯 한데..."
   ]
  },
  {
   "cell_type": "code",
   "execution_count": 381,
   "id": "2c058a05",
   "metadata": {
    "scrolled": false
   },
   "outputs": [
    {
     "name": "stderr",
     "output_type": "stream",
     "text": [
      "100%|██████████████████████████████████████████████████████████████████| 7/7 [00:00<00:00, 32.29it/s]"
     ]
    },
    {
     "name": "stdout",
     "output_type": "stream",
     "text": [
      "*** 검토대상블록: S2, 사이즈: (10, 12)\n",
      "\n",
      "*** 중량조건적합정반들: ['A']\n",
      "\n",
      "블록명:S2, 블록면적:120, 표준공기:5\n",
      ">>> 조회구간면적리스트: [200 200 200 200 200], 조회기간최소면적: 200\n",
      ">>> 대상정반:A, 조회기간최소면적:200, 블록명:S2, 최선조기착수일: 2024-02-01 00:00:00\n",
      "*** 최선조기착수일후보: {'A': Timestamp('2024-02-01 00:00:00', freq='D')}\n",
      "*** 랜덤선택 최선정반명:A, 최선조기착수일:2024-02-01\n",
      "\n",
      "2024-02-01 A (20, 10) ['S2'] [(10, 12)]\n",
      "2024-02-02 A (20, 10) ['S2'] [(10, 12)]\n",
      "2024-02-03 A (20, 10) ['S2'] [(10, 12)]\n",
      "2024-02-04 A (20, 10) ['S2'] [(10, 12)]\n",
      "2024-02-05 A (20, 10) ['S2'] [(10, 12)]\n",
      "레이아웃적합도리스트: ['적합', '적합', '적합', '적합', '적합']\n",
      "*** 적합도리스트체크: 적합\n",
      "*** 검토후 블록리스트 : ['S7', 'S1', 'S5', 'S6', 'S4', 'S3']\n",
      "======================================================================\n",
      "\n",
      "*** 검토대상블록: S7, 사이즈: (10, 10)\n",
      "\n",
      "*** 중량조건적합정반들: ['A']\n",
      "\n",
      "블록명:S7, 블록면적:100, 표준공기:5\n",
      ">>> 조회구간면적리스트: [80 80 80 80 80], 조회기간최소면적: 80\n",
      ">>> 조회구간면적리스트: [ 80  80  80  80 200], 조회기간최소면적: 80\n",
      ">>> 조회구간면적리스트: [ 80  80  80 200 200], 조회기간최소면적: 80\n",
      ">>> 조회구간면적리스트: [ 80  80 200 200 200], 조회기간최소면적: 80\n",
      ">>> 조회구간면적리스트: [ 80 200 200 200 200], 조회기간최소면적: 80\n",
      ">>> 조회구간면적리스트: [200 200 200 200 200], 조회기간최소면적: 200\n",
      ">>> 대상정반:A, 조회기간최소면적:200, 블록명:S7, 최선조기착수일: 2024-02-06 00:00:00\n",
      "*** 최선조기착수일후보: {'A': Timestamp('2024-02-06 00:00:00', freq='D')}\n",
      "*** 랜덤선택 최선정반명:A, 최선조기착수일:2024-02-06\n",
      "\n",
      "2024-02-06 A (20, 10) ['S7'] [(10, 10)]\n",
      "2024-02-07 A (20, 10) ['S7'] [(10, 10)]\n",
      "2024-02-08 A (20, 10) ['S7'] [(10, 10)]\n",
      "2024-02-09 A (20, 10) ['S7'] [(10, 10)]\n",
      "2024-02-10 A (20, 10) ['S7'] [(10, 10)]\n",
      "레이아웃적합도리스트: ['적합', '적합', '적합', '적합', '적합']\n",
      "*** 적합도리스트체크: 적합\n",
      "*** 검토후 블록리스트 : ['S1', 'S5', 'S6', 'S4', 'S3']\n",
      "======================================================================\n",
      "\n",
      "*** 검토대상블록: S1, 사이즈: (9, 10)\n",
      "\n",
      "*** 중량조건적합정반들: ['A']\n",
      "\n",
      "블록명:S1, 블록면적:90, 표준공기:8\n",
      ">>> 조회구간면적리스트: [ 80  80  80  80  80 100 100 100], 조회기간최소면적: 80\n",
      ">>> 조회구간면적리스트: [ 80  80  80  80 100 100 100 100], 조회기간최소면적: 80\n",
      ">>> 조회구간면적리스트: [ 80  80  80 100 100 100 100 100], 조회기간최소면적: 80\n",
      ">>> 조회구간면적리스트: [ 80  80 100 100 100 100 100 200], 조회기간최소면적: 80\n",
      ">>> 조회구간면적리스트: [ 80 100 100 100 100 100 200 200], 조회기간최소면적: 80\n",
      ">>> 조회구간면적리스트: [100 100 100 100 100 200 200 200], 조회기간최소면적: 100\n",
      ">>> 대상정반:A, 조회기간최소면적:100, 블록명:S1, 최선조기착수일: 2024-02-06 00:00:00\n",
      "*** 최선조기착수일후보: {'A': Timestamp('2024-02-06 00:00:00', freq='D')}\n",
      "*** 랜덤선택 최선정반명:A, 최선조기착수일:2024-02-06\n",
      "\n",
      "2024-02-06 A (20, 10) ['S7', 'S1'] [(10, 10), (9, 10)]\n",
      "2024-02-07 A (20, 10) ['S7', 'S1'] [(10, 10), (9, 10)]\n",
      "2024-02-08 A (20, 10) ['S7', 'S1'] [(10, 10), (9, 10)]\n",
      "2024-02-09 A (20, 10) ['S7', 'S1'] [(10, 10), (9, 10)]\n",
      "2024-02-10 A (20, 10) ['S7', 'S1'] [(10, 10), (9, 10)]\n",
      "2024-02-11 A (20, 10) ['S1'] [(9, 10)]\n",
      "2024-02-12 A (20, 10) ['S1'] [(9, 10)]\n",
      "2024-02-13 A (20, 10) ['S1'] [(9, 10)]\n",
      "레이아웃적합도리스트: ['적합', '적합', '적합', '적합', '적합', '적합', '적합', '적합']\n",
      "*** 적합도리스트체크: 적합\n",
      "*** 검토후 블록리스트 : ['S5', 'S6', 'S4', 'S3']\n",
      "======================================================================\n",
      "\n",
      "*** 검토대상블록: S5, 사이즈: (9, 10)\n",
      "\n",
      "*** 중량조건적합정반들: ['A']\n",
      "\n",
      "블록명:S5, 블록면적:90, 표준공기:3\n",
      ">>> 조회구간면적리스트: [80 80 80], 조회기간최소면적: 80\n",
      ">>> 조회구간면적리스트: [80 80 80], 조회기간최소면적: 80\n",
      ">>> 조회구간면적리스트: [80 80 80], 조회기간최소면적: 80\n",
      ">>> 조회구간면적리스트: [80 80 10], 조회기간최소면적: 10\n",
      ">>> 조회구간면적리스트: [80 10 10], 조회기간최소면적: 10\n",
      ">>> 조회구간면적리스트: [10 10 10], 조회기간최소면적: 10\n",
      ">>> 조회구간면적리스트: [10 10 10], 조회기간최소면적: 10\n",
      ">>> 조회구간면적리스트: [10 10 10], 조회기간최소면적: 10\n",
      ">>> 조회구간면적리스트: [ 10  10 110], 조회기간최소면적: 10\n",
      ">>> 조회구간면적리스트: [ 10 110 110], 조회기간최소면적: 10\n",
      ">>> 조회구간면적리스트: [110 110 110], 조회기간최소면적: 110\n",
      ">>> 대상정반:A, 조회기간최소면적:110, 블록명:S5, 최선조기착수일: 2024-02-11 00:00:00\n",
      "*** 최선조기착수일후보: {'A': Timestamp('2024-02-11 00:00:00', freq='D')}\n",
      "*** 랜덤선택 최선정반명:A, 최선조기착수일:2024-02-11\n",
      "\n",
      "2024-02-11 A (20, 10) ['S1', 'S5'] [(9, 10), (9, 10)]\n",
      "2024-02-12 A (20, 10) ['S1', 'S5'] [(9, 10), (9, 10)]\n",
      "2024-02-13 A (20, 10) ['S1', 'S5'] [(9, 10), (9, 10)]\n",
      "레이아웃적합도리스트: ['적합', '적합', '적합']\n",
      "*** 적합도리스트체크: 적합\n",
      "*** 검토후 블록리스트 : ['S6', 'S4', 'S3']\n",
      "======================================================================\n",
      "\n",
      "*** 검토대상블록: S6, 사이즈: (8, 10)\n",
      "\n",
      "*** 중량조건적합정반들: ['A']\n",
      "\n",
      "블록명:S6, 블록면적:80, 표준공기:5\n",
      ">>> 조회구간면적리스트: [80 80 80 80 80], 조회기간최소면적: 80\n",
      ">>> 조회구간면적리스트: [80 80 80 80 10], 조회기간최소면적: 10\n",
      ">>> 조회구간면적리스트: [80 80 80 10 10], 조회기간최소면적: 10\n",
      ">>> 조회구간면적리스트: [80 80 10 10 10], 조회기간최소면적: 10\n",
      ">>> 조회구간면적리스트: [80 10 10 10 10], 조회기간최소면적: 10\n",
      ">>> 조회구간면적리스트: [10 10 10 10 10], 조회기간최소면적: 10\n",
      ">>> 조회구간면적리스트: [10 10 10 10 20], 조회기간최소면적: 10\n",
      ">>> 조회구간면적리스트: [10 10 10 20 20], 조회기간최소면적: 10\n",
      ">>> 조회구간면적리스트: [10 10 20 20 20], 조회기간최소면적: 10\n",
      ">>> 조회구간면적리스트: [ 10  20  20  20 200], 조회기간최소면적: 10\n",
      ">>> 조회구간면적리스트: [ 20  20  20 200 200], 조회기간최소면적: 20\n",
      ">>> 조회구간면적리스트: [ 20  20 200 200 200], 조회기간최소면적: 20\n",
      ">>> 조회구간면적리스트: [ 20 200 200 200 200], 조회기간최소면적: 20\n",
      ">>> 조회구간면적리스트: [200 200 200 200 200], 조회기간최소면적: 200\n",
      ">>> 대상정반:A, 조회기간최소면적:200, 블록명:S6, 최선조기착수일: 2024-02-14 00:00:00\n",
      "*** 최선조기착수일후보: {'A': Timestamp('2024-02-14 00:00:00', freq='D')}\n",
      "*** 랜덤선택 최선정반명:A, 최선조기착수일:2024-02-14\n",
      "\n",
      "2024-02-14 A (20, 10) ['S6'] [(8, 10)]\n",
      "2024-02-15 A (20, 10) ['S6'] [(8, 10)]\n",
      "2024-02-16 A (20, 10) ['S6'] [(8, 10)]\n",
      "2024-02-17 A (20, 10) ['S6'] [(8, 10)]\n",
      "2024-02-18 A (20, 10) ['S6'] [(8, 10)]\n",
      "레이아웃적합도리스트: ['적합', '적합', '적합', '적합', '적합']\n",
      "*** 적합도리스트체크: 적합\n",
      "*** 검토후 블록리스트 : ['S4', 'S3']\n",
      "======================================================================\n",
      "\n",
      "*** 검토대상블록: S4, 사이즈: (5, 6)\n",
      "\n",
      "*** 중량조건적합정반들: ['A']\n",
      "\n",
      "블록명:S4, 블록면적:30, 표준공기:6\n",
      ">>> 조회구간면적리스트: [80 80 80 80 80 10], 조회기간최소면적: 10\n",
      ">>> 조회구간면적리스트: [80 80 80 80 10 10], 조회기간최소면적: 10\n",
      ">>> 조회구간면적리스트: [80 80 80 10 10 10], 조회기간최소면적: 10\n",
      ">>> 조회구간면적리스트: [80 80 10 10 10 10], 조회기간최소면적: 10\n",
      ">>> 조회구간면적리스트: [80 10 10 10 10 10], 조회기간최소면적: 10\n",
      ">>> 조회구간면적리스트: [10 10 10 10 10 20], 조회기간최소면적: 10\n",
      ">>> 조회구간면적리스트: [10 10 10 10 20 20], 조회기간최소면적: 10\n",
      ">>> 조회구간면적리스트: [10 10 10 20 20 20], 조회기간최소면적: 10\n",
      ">>> 조회구간면적리스트: [ 10  10  20  20  20 120], 조회기간최소면적: 10\n",
      ">>> 조회구간면적리스트: [ 10  20  20  20 120 120], 조회기간최소면적: 10\n",
      ">>> 조회구간면적리스트: [ 20  20  20 120 120 120], 조회기간최소면적: 20\n",
      ">>> 조회구간면적리스트: [ 20  20 120 120 120 120], 조회기간최소면적: 20\n",
      ">>> 조회구간면적리스트: [ 20 120 120 120 120 120], 조회기간최소면적: 20\n",
      ">>> 조회구간면적리스트: [120 120 120 120 120 200], 조회기간최소면적: 120\n",
      ">>> 대상정반:A, 조회기간최소면적:120, 블록명:S4, 최선조기착수일: 2024-02-14 00:00:00\n",
      "*** 최선조기착수일후보: {'A': Timestamp('2024-02-14 00:00:00', freq='D')}\n",
      "*** 랜덤선택 최선정반명:A, 최선조기착수일:2024-02-14\n",
      "\n",
      "2024-02-14 A (20, 10) ['S6', 'S4'] [(8, 10), (5, 6)]\n",
      "2024-02-15 A (20, 10) ['S6', 'S4'] [(8, 10), (5, 6)]\n",
      "2024-02-16 A (20, 10) ['S6', 'S4'] [(8, 10), (5, 6)]\n",
      "2024-02-17 A (20, 10) ['S6', 'S4'] [(8, 10), (5, 6)]\n",
      "2024-02-18 A (20, 10) ['S6', 'S4'] [(8, 10), (5, 6)]\n",
      "2024-02-19 A (20, 10) ['S4'] [(5, 6)]\n",
      "레이아웃적합도리스트: ['적합', '적합', '적합', '적합', '적합', '적합']\n",
      "*** 적합도리스트체크: 적합\n",
      "*** 검토후 블록리스트 : ['S3']\n",
      "======================================================================\n",
      "\n",
      "*** 검토대상블록: S3, 사이즈: (5, 6)\n",
      "\n",
      "*** 중량조건적합정반들: ['A']\n",
      "\n",
      "블록명:S3, 블록면적:30, 표준공기:5\n",
      ">>> 조회구간면적리스트: [80 80 80 80 80], 조회기간최소면적: 80\n",
      ">>> 대상정반:A, 조회기간최소면적:80, 블록명:S3, 최선조기착수일: 2024-02-01 00:00:00\n",
      "*** 최선조기착수일후보: {'A': Timestamp('2024-02-01 00:00:00', freq='D')}\n",
      "*** 랜덤선택 최선정반명:A, 최선조기착수일:2024-02-01\n",
      "\n",
      "2024-02-01 A (20, 10) ['S2', 'S3'] [(10, 12), (5, 6)]\n",
      "2024-02-02 A (20, 10) ['S2', 'S3'] [(10, 12), (5, 6)]\n",
      "2024-02-03 A (20, 10) ['S2', 'S3'] [(10, 12), (5, 6)]\n",
      "2024-02-04 A (20, 10) ['S2', 'S3'] [(10, 12), (5, 6)]\n",
      "2024-02-05 A (20, 10) ['S2', 'S3'] [(10, 12), (5, 6)]\n",
      "레이아웃적합도리스트: ['적합', '적합', '적합', '적합', '적합']\n",
      "*** 적합도리스트체크: 적합\n",
      "*** 검토후 블록리스트 : []\n",
      "======================================================================\n",
      "\n"
     ]
    },
    {
     "name": "stderr",
     "output_type": "stream",
     "text": [
      "\n"
     ]
    }
   ],
   "source": [
    "면적달력 = create_면적달력(2024, 2, 2024, 2, 정반데이터)\n",
    "블록명달력 = create_블록명달력(2024, 2, 2024, 2, 정반데이터)\n",
    "사이즈달력 = create_사이즈달력(2024, 2, 2024, 2, 정반데이터)\n",
    "생산계획결과 = 생산계획수립(블록데이터, 정반데이터, 면적달력, 블록명달력, 사이즈달력)"
   ]
  },
  {
   "cell_type": "code",
   "execution_count": 358,
   "id": "eb113687",
   "metadata": {
    "scrolled": false
   },
   "outputs": [],
   "source": [
    "결론_블록리스트 = 생산계획결과[0]\n",
    "결론_정반리스트 = 생산계획결과[1]\n",
    "결론_착수일자 = 생산계획결과[2]\n",
    "면적달력 = 생산계획결과[3]\n",
    "블록명달력 = 생산계획결과[4]\n",
    "사이즈달력 = 생산계획결과[5]"
   ]
  },
  {
   "cell_type": "code",
   "execution_count": 359,
   "id": "28ecc670",
   "metadata": {
    "scrolled": true
   },
   "outputs": [
    {
     "data": {
      "text/plain": [
       "['S2', 'S7', 'S1', 'S5', 'S6', 'S4', 'S3']"
      ]
     },
     "execution_count": 359,
     "metadata": {},
     "output_type": "execute_result"
    },
    {
     "data": {
      "text/plain": [
       "['A', 'A', 'A', 'A', 'A', 'A', 'A']"
      ]
     },
     "execution_count": 359,
     "metadata": {},
     "output_type": "execute_result"
    },
    {
     "data": {
      "text/plain": [
       "['2024-02-01',\n",
       " '2024-02-06',\n",
       " '2024-02-06',\n",
       " '2024-02-11',\n",
       " '2024-02-14',\n",
       " '2024-02-14',\n",
       " '2024-02-01']"
      ]
     },
     "execution_count": 359,
     "metadata": {},
     "output_type": "execute_result"
    },
    {
     "data": {
      "text/html": [
       "<div>\n",
       "<style scoped>\n",
       "    .dataframe tbody tr th:only-of-type {\n",
       "        vertical-align: middle;\n",
       "    }\n",
       "\n",
       "    .dataframe tbody tr th {\n",
       "        vertical-align: top;\n",
       "    }\n",
       "\n",
       "    .dataframe thead th {\n",
       "        text-align: right;\n",
       "    }\n",
       "</style>\n",
       "<table border=\"1\" class=\"dataframe\">\n",
       "  <thead>\n",
       "    <tr style=\"text-align: right;\">\n",
       "      <th></th>\n",
       "      <th>A</th>\n",
       "    </tr>\n",
       "  </thead>\n",
       "  <tbody>\n",
       "    <tr>\n",
       "      <th>2024-02-01</th>\n",
       "      <td>50</td>\n",
       "    </tr>\n",
       "    <tr>\n",
       "      <th>2024-02-02</th>\n",
       "      <td>50</td>\n",
       "    </tr>\n",
       "    <tr>\n",
       "      <th>2024-02-03</th>\n",
       "      <td>50</td>\n",
       "    </tr>\n",
       "    <tr>\n",
       "      <th>2024-02-04</th>\n",
       "      <td>50</td>\n",
       "    </tr>\n",
       "    <tr>\n",
       "      <th>2024-02-05</th>\n",
       "      <td>50</td>\n",
       "    </tr>\n",
       "    <tr>\n",
       "      <th>2024-02-06</th>\n",
       "      <td>10</td>\n",
       "    </tr>\n",
       "    <tr>\n",
       "      <th>2024-02-07</th>\n",
       "      <td>10</td>\n",
       "    </tr>\n",
       "    <tr>\n",
       "      <th>2024-02-08</th>\n",
       "      <td>10</td>\n",
       "    </tr>\n",
       "    <tr>\n",
       "      <th>2024-02-09</th>\n",
       "      <td>10</td>\n",
       "    </tr>\n",
       "    <tr>\n",
       "      <th>2024-02-10</th>\n",
       "      <td>10</td>\n",
       "    </tr>\n",
       "    <tr>\n",
       "      <th>2024-02-11</th>\n",
       "      <td>20</td>\n",
       "    </tr>\n",
       "    <tr>\n",
       "      <th>2024-02-12</th>\n",
       "      <td>20</td>\n",
       "    </tr>\n",
       "    <tr>\n",
       "      <th>2024-02-13</th>\n",
       "      <td>20</td>\n",
       "    </tr>\n",
       "    <tr>\n",
       "      <th>2024-02-14</th>\n",
       "      <td>90</td>\n",
       "    </tr>\n",
       "    <tr>\n",
       "      <th>2024-02-15</th>\n",
       "      <td>90</td>\n",
       "    </tr>\n",
       "    <tr>\n",
       "      <th>2024-02-16</th>\n",
       "      <td>90</td>\n",
       "    </tr>\n",
       "    <tr>\n",
       "      <th>2024-02-17</th>\n",
       "      <td>90</td>\n",
       "    </tr>\n",
       "    <tr>\n",
       "      <th>2024-02-18</th>\n",
       "      <td>90</td>\n",
       "    </tr>\n",
       "    <tr>\n",
       "      <th>2024-02-19</th>\n",
       "      <td>170</td>\n",
       "    </tr>\n",
       "    <tr>\n",
       "      <th>2024-02-20</th>\n",
       "      <td>200</td>\n",
       "    </tr>\n",
       "    <tr>\n",
       "      <th>2024-02-21</th>\n",
       "      <td>200</td>\n",
       "    </tr>\n",
       "    <tr>\n",
       "      <th>2024-02-22</th>\n",
       "      <td>200</td>\n",
       "    </tr>\n",
       "    <tr>\n",
       "      <th>2024-02-23</th>\n",
       "      <td>200</td>\n",
       "    </tr>\n",
       "    <tr>\n",
       "      <th>2024-02-24</th>\n",
       "      <td>200</td>\n",
       "    </tr>\n",
       "    <tr>\n",
       "      <th>2024-02-25</th>\n",
       "      <td>200</td>\n",
       "    </tr>\n",
       "    <tr>\n",
       "      <th>2024-02-26</th>\n",
       "      <td>200</td>\n",
       "    </tr>\n",
       "    <tr>\n",
       "      <th>2024-02-27</th>\n",
       "      <td>200</td>\n",
       "    </tr>\n",
       "    <tr>\n",
       "      <th>2024-02-28</th>\n",
       "      <td>200</td>\n",
       "    </tr>\n",
       "  </tbody>\n",
       "</table>\n",
       "</div>"
      ],
      "text/plain": [
       "              A\n",
       "2024-02-01   50\n",
       "2024-02-02   50\n",
       "2024-02-03   50\n",
       "2024-02-04   50\n",
       "2024-02-05   50\n",
       "2024-02-06   10\n",
       "2024-02-07   10\n",
       "2024-02-08   10\n",
       "2024-02-09   10\n",
       "2024-02-10   10\n",
       "2024-02-11   20\n",
       "2024-02-12   20\n",
       "2024-02-13   20\n",
       "2024-02-14   90\n",
       "2024-02-15   90\n",
       "2024-02-16   90\n",
       "2024-02-17   90\n",
       "2024-02-18   90\n",
       "2024-02-19  170\n",
       "2024-02-20  200\n",
       "2024-02-21  200\n",
       "2024-02-22  200\n",
       "2024-02-23  200\n",
       "2024-02-24  200\n",
       "2024-02-25  200\n",
       "2024-02-26  200\n",
       "2024-02-27  200\n",
       "2024-02-28  200"
      ]
     },
     "execution_count": 359,
     "metadata": {},
     "output_type": "execute_result"
    },
    {
     "data": {
      "text/html": [
       "<div>\n",
       "<style scoped>\n",
       "    .dataframe tbody tr th:only-of-type {\n",
       "        vertical-align: middle;\n",
       "    }\n",
       "\n",
       "    .dataframe tbody tr th {\n",
       "        vertical-align: top;\n",
       "    }\n",
       "\n",
       "    .dataframe thead th {\n",
       "        text-align: right;\n",
       "    }\n",
       "</style>\n",
       "<table border=\"1\" class=\"dataframe\">\n",
       "  <thead>\n",
       "    <tr style=\"text-align: right;\">\n",
       "      <th></th>\n",
       "      <th>A</th>\n",
       "    </tr>\n",
       "  </thead>\n",
       "  <tbody>\n",
       "    <tr>\n",
       "      <th>2024-02-01</th>\n",
       "      <td>[S2, S3]</td>\n",
       "    </tr>\n",
       "    <tr>\n",
       "      <th>2024-02-02</th>\n",
       "      <td>[S2, S3]</td>\n",
       "    </tr>\n",
       "    <tr>\n",
       "      <th>2024-02-03</th>\n",
       "      <td>[S2, S3]</td>\n",
       "    </tr>\n",
       "    <tr>\n",
       "      <th>2024-02-04</th>\n",
       "      <td>[S2, S3]</td>\n",
       "    </tr>\n",
       "    <tr>\n",
       "      <th>2024-02-05</th>\n",
       "      <td>[S2, S3]</td>\n",
       "    </tr>\n",
       "    <tr>\n",
       "      <th>2024-02-06</th>\n",
       "      <td>[S7, S1]</td>\n",
       "    </tr>\n",
       "    <tr>\n",
       "      <th>2024-02-07</th>\n",
       "      <td>[S7, S1]</td>\n",
       "    </tr>\n",
       "    <tr>\n",
       "      <th>2024-02-08</th>\n",
       "      <td>[S7, S1]</td>\n",
       "    </tr>\n",
       "    <tr>\n",
       "      <th>2024-02-09</th>\n",
       "      <td>[S7, S1]</td>\n",
       "    </tr>\n",
       "    <tr>\n",
       "      <th>2024-02-10</th>\n",
       "      <td>[S7, S1]</td>\n",
       "    </tr>\n",
       "    <tr>\n",
       "      <th>2024-02-11</th>\n",
       "      <td>[S1, S5]</td>\n",
       "    </tr>\n",
       "    <tr>\n",
       "      <th>2024-02-12</th>\n",
       "      <td>[S1, S5]</td>\n",
       "    </tr>\n",
       "    <tr>\n",
       "      <th>2024-02-13</th>\n",
       "      <td>[S1, S5]</td>\n",
       "    </tr>\n",
       "    <tr>\n",
       "      <th>2024-02-14</th>\n",
       "      <td>[S6, S4]</td>\n",
       "    </tr>\n",
       "    <tr>\n",
       "      <th>2024-02-15</th>\n",
       "      <td>[S6, S4]</td>\n",
       "    </tr>\n",
       "    <tr>\n",
       "      <th>2024-02-16</th>\n",
       "      <td>[S6, S4]</td>\n",
       "    </tr>\n",
       "    <tr>\n",
       "      <th>2024-02-17</th>\n",
       "      <td>[S6, S4]</td>\n",
       "    </tr>\n",
       "    <tr>\n",
       "      <th>2024-02-18</th>\n",
       "      <td>[S6, S4]</td>\n",
       "    </tr>\n",
       "    <tr>\n",
       "      <th>2024-02-19</th>\n",
       "      <td>[S4]</td>\n",
       "    </tr>\n",
       "    <tr>\n",
       "      <th>2024-02-20</th>\n",
       "      <td>[]</td>\n",
       "    </tr>\n",
       "    <tr>\n",
       "      <th>2024-02-21</th>\n",
       "      <td>[]</td>\n",
       "    </tr>\n",
       "    <tr>\n",
       "      <th>2024-02-22</th>\n",
       "      <td>[]</td>\n",
       "    </tr>\n",
       "    <tr>\n",
       "      <th>2024-02-23</th>\n",
       "      <td>[]</td>\n",
       "    </tr>\n",
       "    <tr>\n",
       "      <th>2024-02-24</th>\n",
       "      <td>[]</td>\n",
       "    </tr>\n",
       "    <tr>\n",
       "      <th>2024-02-25</th>\n",
       "      <td>[]</td>\n",
       "    </tr>\n",
       "    <tr>\n",
       "      <th>2024-02-26</th>\n",
       "      <td>[]</td>\n",
       "    </tr>\n",
       "    <tr>\n",
       "      <th>2024-02-27</th>\n",
       "      <td>[]</td>\n",
       "    </tr>\n",
       "    <tr>\n",
       "      <th>2024-02-28</th>\n",
       "      <td>[]</td>\n",
       "    </tr>\n",
       "  </tbody>\n",
       "</table>\n",
       "</div>"
      ],
      "text/plain": [
       "                   A\n",
       "2024-02-01  [S2, S3]\n",
       "2024-02-02  [S2, S3]\n",
       "2024-02-03  [S2, S3]\n",
       "2024-02-04  [S2, S3]\n",
       "2024-02-05  [S2, S3]\n",
       "2024-02-06  [S7, S1]\n",
       "2024-02-07  [S7, S1]\n",
       "2024-02-08  [S7, S1]\n",
       "2024-02-09  [S7, S1]\n",
       "2024-02-10  [S7, S1]\n",
       "2024-02-11  [S1, S5]\n",
       "2024-02-12  [S1, S5]\n",
       "2024-02-13  [S1, S5]\n",
       "2024-02-14  [S6, S4]\n",
       "2024-02-15  [S6, S4]\n",
       "2024-02-16  [S6, S4]\n",
       "2024-02-17  [S6, S4]\n",
       "2024-02-18  [S6, S4]\n",
       "2024-02-19      [S4]\n",
       "2024-02-20        []\n",
       "2024-02-21        []\n",
       "2024-02-22        []\n",
       "2024-02-23        []\n",
       "2024-02-24        []\n",
       "2024-02-25        []\n",
       "2024-02-26        []\n",
       "2024-02-27        []\n",
       "2024-02-28        []"
      ]
     },
     "execution_count": 359,
     "metadata": {},
     "output_type": "execute_result"
    },
    {
     "data": {
      "text/html": [
       "<div>\n",
       "<style scoped>\n",
       "    .dataframe tbody tr th:only-of-type {\n",
       "        vertical-align: middle;\n",
       "    }\n",
       "\n",
       "    .dataframe tbody tr th {\n",
       "        vertical-align: top;\n",
       "    }\n",
       "\n",
       "    .dataframe thead th {\n",
       "        text-align: right;\n",
       "    }\n",
       "</style>\n",
       "<table border=\"1\" class=\"dataframe\">\n",
       "  <thead>\n",
       "    <tr style=\"text-align: right;\">\n",
       "      <th></th>\n",
       "      <th>A</th>\n",
       "    </tr>\n",
       "  </thead>\n",
       "  <tbody>\n",
       "    <tr>\n",
       "      <th>2024-02-01</th>\n",
       "      <td>[(10, 12), (5, 6)]</td>\n",
       "    </tr>\n",
       "    <tr>\n",
       "      <th>2024-02-02</th>\n",
       "      <td>[(10, 12), (5, 6)]</td>\n",
       "    </tr>\n",
       "    <tr>\n",
       "      <th>2024-02-03</th>\n",
       "      <td>[(10, 12), (5, 6)]</td>\n",
       "    </tr>\n",
       "    <tr>\n",
       "      <th>2024-02-04</th>\n",
       "      <td>[(10, 12), (5, 6)]</td>\n",
       "    </tr>\n",
       "    <tr>\n",
       "      <th>2024-02-05</th>\n",
       "      <td>[(10, 12), (5, 6)]</td>\n",
       "    </tr>\n",
       "    <tr>\n",
       "      <th>2024-02-06</th>\n",
       "      <td>[(10, 10), (9, 10)]</td>\n",
       "    </tr>\n",
       "    <tr>\n",
       "      <th>2024-02-07</th>\n",
       "      <td>[(10, 10), (9, 10)]</td>\n",
       "    </tr>\n",
       "    <tr>\n",
       "      <th>2024-02-08</th>\n",
       "      <td>[(10, 10), (9, 10)]</td>\n",
       "    </tr>\n",
       "    <tr>\n",
       "      <th>2024-02-09</th>\n",
       "      <td>[(10, 10), (9, 10)]</td>\n",
       "    </tr>\n",
       "    <tr>\n",
       "      <th>2024-02-10</th>\n",
       "      <td>[(10, 10), (9, 10)]</td>\n",
       "    </tr>\n",
       "    <tr>\n",
       "      <th>2024-02-11</th>\n",
       "      <td>[(9, 10), (9, 10)]</td>\n",
       "    </tr>\n",
       "    <tr>\n",
       "      <th>2024-02-12</th>\n",
       "      <td>[(9, 10), (9, 10)]</td>\n",
       "    </tr>\n",
       "    <tr>\n",
       "      <th>2024-02-13</th>\n",
       "      <td>[(9, 10), (9, 10)]</td>\n",
       "    </tr>\n",
       "    <tr>\n",
       "      <th>2024-02-14</th>\n",
       "      <td>[(8, 10), (5, 6)]</td>\n",
       "    </tr>\n",
       "    <tr>\n",
       "      <th>2024-02-15</th>\n",
       "      <td>[(8, 10), (5, 6)]</td>\n",
       "    </tr>\n",
       "    <tr>\n",
       "      <th>2024-02-16</th>\n",
       "      <td>[(8, 10), (5, 6)]</td>\n",
       "    </tr>\n",
       "    <tr>\n",
       "      <th>2024-02-17</th>\n",
       "      <td>[(8, 10), (5, 6)]</td>\n",
       "    </tr>\n",
       "    <tr>\n",
       "      <th>2024-02-18</th>\n",
       "      <td>[(8, 10), (5, 6)]</td>\n",
       "    </tr>\n",
       "    <tr>\n",
       "      <th>2024-02-19</th>\n",
       "      <td>[(5, 6)]</td>\n",
       "    </tr>\n",
       "    <tr>\n",
       "      <th>2024-02-20</th>\n",
       "      <td>[]</td>\n",
       "    </tr>\n",
       "    <tr>\n",
       "      <th>2024-02-21</th>\n",
       "      <td>[]</td>\n",
       "    </tr>\n",
       "    <tr>\n",
       "      <th>2024-02-22</th>\n",
       "      <td>[]</td>\n",
       "    </tr>\n",
       "    <tr>\n",
       "      <th>2024-02-23</th>\n",
       "      <td>[]</td>\n",
       "    </tr>\n",
       "    <tr>\n",
       "      <th>2024-02-24</th>\n",
       "      <td>[]</td>\n",
       "    </tr>\n",
       "    <tr>\n",
       "      <th>2024-02-25</th>\n",
       "      <td>[]</td>\n",
       "    </tr>\n",
       "    <tr>\n",
       "      <th>2024-02-26</th>\n",
       "      <td>[]</td>\n",
       "    </tr>\n",
       "    <tr>\n",
       "      <th>2024-02-27</th>\n",
       "      <td>[]</td>\n",
       "    </tr>\n",
       "    <tr>\n",
       "      <th>2024-02-28</th>\n",
       "      <td>[]</td>\n",
       "    </tr>\n",
       "  </tbody>\n",
       "</table>\n",
       "</div>"
      ],
      "text/plain": [
       "                              A\n",
       "2024-02-01   [(10, 12), (5, 6)]\n",
       "2024-02-02   [(10, 12), (5, 6)]\n",
       "2024-02-03   [(10, 12), (5, 6)]\n",
       "2024-02-04   [(10, 12), (5, 6)]\n",
       "2024-02-05   [(10, 12), (5, 6)]\n",
       "2024-02-06  [(10, 10), (9, 10)]\n",
       "2024-02-07  [(10, 10), (9, 10)]\n",
       "2024-02-08  [(10, 10), (9, 10)]\n",
       "2024-02-09  [(10, 10), (9, 10)]\n",
       "2024-02-10  [(10, 10), (9, 10)]\n",
       "2024-02-11   [(9, 10), (9, 10)]\n",
       "2024-02-12   [(9, 10), (9, 10)]\n",
       "2024-02-13   [(9, 10), (9, 10)]\n",
       "2024-02-14    [(8, 10), (5, 6)]\n",
       "2024-02-15    [(8, 10), (5, 6)]\n",
       "2024-02-16    [(8, 10), (5, 6)]\n",
       "2024-02-17    [(8, 10), (5, 6)]\n",
       "2024-02-18    [(8, 10), (5, 6)]\n",
       "2024-02-19             [(5, 6)]\n",
       "2024-02-20                   []\n",
       "2024-02-21                   []\n",
       "2024-02-22                   []\n",
       "2024-02-23                   []\n",
       "2024-02-24                   []\n",
       "2024-02-25                   []\n",
       "2024-02-26                   []\n",
       "2024-02-27                   []\n",
       "2024-02-28                   []"
      ]
     },
     "execution_count": 359,
     "metadata": {},
     "output_type": "execute_result"
    }
   ],
   "source": [
    "결론_블록리스트\n",
    "결론_정반리스트\n",
    "결론_착수일자\n",
    "면적달력\n",
    "블록명달력\n",
    "사이즈달력"
   ]
  },
  {
   "cell_type": "markdown",
   "id": "82d10c55",
   "metadata": {},
   "source": [
    "# 결과정리 - 레이아웃 달력"
   ]
  },
  {
   "cell_type": "code",
   "execution_count": 360,
   "id": "826c3383",
   "metadata": {},
   "outputs": [],
   "source": [
    "def 정반배치레이아웃(정반명, 정반데이터, 조회날짜, 블록명달력, 블록사이즈달력):\n",
    "    \n",
    "    정반사이즈 = 정반데이터[정반데이터[\"정반명\"]==정반명][\"사이즈\"].values[0]\n",
    "    block_names = 블록명달력.at[조회날짜, 정반명]\n",
    "    block_sizes = 블록사이즈달력.at[조회날짜, 정반명]\n",
    "    \n",
    "    print(정반사이즈, block_names, block_sizes)\n",
    "    \n",
    "    surface, surface_width, surface_height = 정반세팅(정반사이즈)\n",
    "    배치결과 = fit_blocks(surface, surface_width, surface_height, block_sizes, block_names)\n",
    "    배치레이아웃 = 배치결과[0]\n",
    "    draw1(배치레이아웃, block_names)\n"
   ]
  },
  {
   "cell_type": "code",
   "execution_count": 361,
   "id": "959121d9",
   "metadata": {
    "scrolled": true
   },
   "outputs": [
    {
     "name": "stdout",
     "output_type": "stream",
     "text": [
      "2024-02-01 00:00:00\n",
      "(20, 10) ['S2', 'S3'] [(10, 12), (5, 6)]\n"
     ]
    },
    {
     "data": {
      "image/png": "[encoded data removed]",
      "text/plain": [
       "<Figure size 360x360 with 1 Axes>"
      ]
     },
     "metadata": {},
     "output_type": "display_data"
    },
    {
     "name": "stdout",
     "output_type": "stream",
     "text": [
      "2024-02-02 00:00:00\n",
      "(20, 10) ['S2', 'S3'] [(10, 12), (5, 6)]\n"
     ]
    },
    {
     "data": {
      "image/png": "[encoded data removed]",
      "text/plain": [
       "<Figure size 360x360 with 1 Axes>"
      ]
     },
     "metadata": {},
     "output_type": "display_data"
    },
    {
     "name": "stdout",
     "output_type": "stream",
     "text": [
      "2024-02-03 00:00:00\n",
      "(20, 10) ['S2', 'S3'] [(10, 12), (5, 6)]\n"
     ]
    },
    {
     "data": {
      "image/png": "[encoded data removed]",
      "text/plain": [
       "<Figure size 360x360 with 1 Axes>"
      ]
     },
     "metadata": {},
     "output_type": "display_data"
    },
    {
     "name": "stdout",
     "output_type": "stream",
     "text": [
      "2024-02-04 00:00:00\n",
      "(20, 10) ['S2', 'S3'] [(10, 12), (5, 6)]\n"
     ]
    },
    {
     "data": {
      "image/png": "[encoded data removed]",
      "text/plain": [
       "<Figure size 360x360 with 1 Axes>"
      ]
     },
     "metadata": {},
     "output_type": "display_data"
    },
    {
     "name": "stdout",
     "output_type": "stream",
     "text": [
      "2024-02-05 00:00:00\n",
      "(20, 10) ['S2', 'S3'] [(10, 12), (5, 6)]\n"
     ]
    },
    {
     "data": {
      "image/png": "[encoded data removed]",
      "text/plain": [
       "<Figure size 360x360 with 1 Axes>"
      ]
     },
     "metadata": {},
     "output_type": "display_data"
    },
    {
     "name": "stdout",
     "output_type": "stream",
     "text": [
      "2024-02-06 00:00:00\n",
      "(20, 10) ['S7', 'S1'] [(10, 10), (9, 10)]\n"
     ]
    },
    {
     "data": {
      "image/png": "[encoded data removed]",
      "text/plain": [
       "<Figure size 360x360 with 1 Axes>"
      ]
     },
     "metadata": {},
     "output_type": "display_data"
    },
    {
     "name": "stdout",
     "output_type": "stream",
     "text": [
      "2024-02-07 00:00:00\n",
      "(20, 10) ['S7', 'S1'] [(10, 10), (9, 10)]\n"
     ]
    },
    {
     "data": {
      "image/png": "[encoded data removed]",
      "text/plain": [
       "<Figure size 360x360 with 1 Axes>"
      ]
     },
     "metadata": {},
     "output_type": "display_data"
    },
    {
     "name": "stdout",
     "output_type": "stream",
     "text": [
      "2024-02-08 00:00:00\n",
      "(20, 10) ['S7', 'S1'] [(10, 10), (9, 10)]\n"
     ]
    },
    {
     "data": {
      "image/png": "[encoded data removed]",
      "text/plain": [
       "<Figure size 360x360 with 1 Axes>"
      ]
     },
     "metadata": {},
     "output_type": "display_data"
    },
    {
     "name": "stdout",
     "output_type": "stream",
     "text": [
      "2024-02-09 00:00:00\n",
      "(20, 10) ['S7', 'S1'] [(10, 10), (9, 10)]\n"
     ]
    },
    {
     "data": {
      "image/png": "[encoded data removed]",
      "text/plain": [
       "<Figure size 360x360 with 1 Axes>"
      ]
     },
     "metadata": {},
     "output_type": "display_data"
    },
    {
     "name": "stdout",
     "output_type": "stream",
     "text": [
      "2024-02-10 00:00:00\n",
      "(20, 10) ['S7', 'S1'] [(10, 10), (9, 10)]\n"
     ]
    },
    {
     "data": {
      "image/png": "[encoded data removed]",
      "text/plain": [
       "<Figure size 360x360 with 1 Axes>"
      ]
     },
     "metadata": {},
     "output_type": "display_data"
    },
    {
     "name": "stdout",
     "output_type": "stream",
     "text": [
      "2024-02-11 00:00:00\n",
      "(20, 10) ['S1', 'S5'] [(9, 10), (9, 10)]\n"
     ]
    },
    {
     "data": {
      "image/png": "[encoded data removed]",
      "text/plain": [
       "<Figure size 360x360 with 1 Axes>"
      ]
     },
     "metadata": {},
     "output_type": "display_data"
    },
    {
     "name": "stdout",
     "output_type": "stream",
     "text": [
      "2024-02-12 00:00:00\n",
      "(20, 10) ['S1', 'S5'] [(9, 10), (9, 10)]\n"
     ]
    },
    {
     "data": {
      "image/png": "[encoded data removed]",
      "text/plain": [
       "<Figure size 360x360 with 1 Axes>"
      ]
     },
     "metadata": {},
     "output_type": "display_data"
    },
    {
     "name": "stdout",
     "output_type": "stream",
     "text": [
      "2024-02-13 00:00:00\n",
      "(20, 10) ['S1', 'S5'] [(9, 10), (9, 10)]\n"
     ]
    },
    {
     "data": {
      "image/png": "[encoded data removed]",
      "text/plain": [
       "<Figure size 360x360 with 1 Axes>"
      ]
     },
     "metadata": {},
     "output_type": "display_data"
    },
    {
     "name": "stdout",
     "output_type": "stream",
     "text": [
      "2024-02-14 00:00:00\n",
      "(20, 10) ['S6', 'S4'] [(8, 10), (5, 6)]\n"
     ]
    },
    {
     "data": {
      "image/png": "[encoded data removed]",
      "text/plain": [
       "<Figure size 360x360 with 1 Axes>"
      ]
     },
     "metadata": {},
     "output_type": "display_data"
    },
    {
     "name": "stdout",
     "output_type": "stream",
     "text": [
      "2024-02-15 00:00:00\n",
      "(20, 10) ['S6', 'S4'] [(8, 10), (5, 6)]\n"
     ]
    },
    {
     "data": {
      "image/png": "[encoded data removed]",
      "text/plain": [
       "<Figure size 360x360 with 1 Axes>"
      ]
     },
     "metadata": {},
     "output_type": "display_data"
    },
    {
     "name": "stdout",
     "output_type": "stream",
     "text": [
      "2024-02-16 00:00:00\n",
      "(20, 10) ['S6', 'S4'] [(8, 10), (5, 6)]\n"
     ]
    },
    {
     "data": {
      "image/png": "[encoded data removed]",
      "text/plain": [
       "<Figure size 360x360 with 1 Axes>"
      ]
     },
     "metadata": {},
     "output_type": "display_data"
    },
    {
     "name": "stdout",
     "output_type": "stream",
     "text": [
      "2024-02-17 00:00:00\n",
      "(20, 10) ['S6', 'S4'] [(8, 10), (5, 6)]\n"
     ]
    },
    {
     "data": {
      "image/png": "[encoded data removed]",
      "text/plain": [
       "<Figure size 360x360 with 1 Axes>"
      ]
     },
     "metadata": {},
     "output_type": "display_data"
    },
    {
     "name": "stdout",
     "output_type": "stream",
     "text": [
      "2024-02-18 00:00:00\n",
      "(20, 10) ['S6', 'S4'] [(8, 10), (5, 6)]\n"
     ]
    },
    {
     "data": {
      "image/png": "[encoded data removed]",
      "text/plain": [
       "<Figure size 360x360 with 1 Axes>"
      ]
     },
     "metadata": {},
     "output_type": "display_data"
    },
    {
     "name": "stdout",
     "output_type": "stream",
     "text": [
      "2024-02-19 00:00:00\n",
      "(20, 10) ['S4'] [(5, 6)]\n"
     ]
    },
    {
     "data": {
      "image/png": "[encoded data removed]",
      "text/plain": [
       "<Figure size 360x360 with 1 Axes>"
      ]
     },
     "metadata": {},
     "output_type": "display_data"
    },
    {
     "name": "stdout",
     "output_type": "stream",
     "text": [
      "2024-02-20 00:00:00\n",
      "(20, 10) [] []\n"
     ]
    },
    {
     "data": {
      "image/png": "[encoded data removed]",
      "text/plain": [
       "<Figure size 360x360 with 1 Axes>"
      ]
     },
     "metadata": {},
     "output_type": "display_data"
    },
    {
     "name": "stdout",
     "output_type": "stream",
     "text": [
      "2024-02-21 00:00:00\n",
      "(20, 10) [] []\n"
     ]
    },
    {
     "data": {
      "image/png": "[encoded data removed]",
      "text/plain": [
       "<Figure size 360x360 with 1 Axes>"
      ]
     },
     "metadata": {},
     "output_type": "display_data"
    },
    {
     "name": "stdout",
     "output_type": "stream",
     "text": [
      "2024-02-22 00:00:00\n",
      "(20, 10) [] []\n"
     ]
    },
    {
     "data": {
      "image/png": "[encoded data removed]",
      "text/plain": [
       "<Figure size 360x360 with 1 Axes>"
      ]
     },
     "metadata": {},
     "output_type": "display_data"
    },
    {
     "name": "stdout",
     "output_type": "stream",
     "text": [
      "2024-02-23 00:00:00\n",
      "(20, 10) [] []\n"
     ]
    },
    {
     "data": {
      "image/png": "[encoded data removed]",
      "text/plain": [
       "<Figure size 360x360 with 1 Axes>"
      ]
     },
     "metadata": {},
     "output_type": "display_data"
    },
    {
     "name": "stdout",
     "output_type": "stream",
     "text": [
      "2024-02-24 00:00:00\n",
      "(20, 10) [] []\n"
     ]
    },
    {
     "data": {
      "image/png": "[encoded data removed]",
      "text/plain": [
       "<Figure size 360x360 with 1 Axes>"
      ]
     },
     "metadata": {},
     "output_type": "display_data"
    },
    {
     "name": "stdout",
     "output_type": "stream",
     "text": [
      "2024-02-25 00:00:00\n",
      "(20, 10) [] []\n"
     ]
    },
    {
     "data": {
      "image/png": "[encoded data removed]",
      "text/plain": [
       "<Figure size 360x360 with 1 Axes>"
      ]
     },
     "metadata": {},
     "output_type": "display_data"
    },
    {
     "name": "stdout",
     "output_type": "stream",
     "text": [
      "2024-02-26 00:00:00\n",
      "(20, 10) [] []\n"
     ]
    },
    {
     "data": {
      "image/png": "[encoded data removed]",
      "text/plain": [
       "<Figure size 360x360 with 1 Axes>"
      ]
     },
     "metadata": {},
     "output_type": "display_data"
    },
    {
     "name": "stdout",
     "output_type": "stream",
     "text": [
      "2024-02-27 00:00:00\n",
      "(20, 10) [] []\n"
     ]
    },
    {
     "data": {
      "image/png": "[encoded data removed]",
      "text/plain": [
       "<Figure size 360x360 with 1 Axes>"
      ]
     },
     "metadata": {},
     "output_type": "display_data"
    },
    {
     "name": "stdout",
     "output_type": "stream",
     "text": [
      "2024-02-28 00:00:00\n",
      "(20, 10) [] []\n"
     ]
    },
    {
     "data": {
      "image/png": "[encoded data removed]",
      "text/plain": [
       "<Figure size 360x360 with 1 Axes>"
      ]
     },
     "metadata": {},
     "output_type": "display_data"
    }
   ],
   "source": [
    "for 조회날짜 in 면적달력.index[:]:\n",
    "    print(조회날짜)\n",
    "    정반배치레이아웃(\"A\", 정반데이터, 조회날짜, 블록명달력, 사이즈달력)"
   ]
  },
  {
   "cell_type": "code",
   "execution_count": 362,
   "id": "84068545",
   "metadata": {
    "scrolled": true
   },
   "outputs": [],
   "source": [
    "# for 조회날짜 in 면적달력.index[:9]:\n",
    "#     정반배치레이아웃(\"B\", 정반데이터, 조회날짜, 블록명달력, 사이즈달력)"
   ]
  },
  {
   "cell_type": "markdown",
   "id": "0cf69437",
   "metadata": {},
   "source": [
    "# 결과정리 - 간트차트"
   ]
  },
  {
   "cell_type": "code",
   "execution_count": 363,
   "id": "d5e2f97e",
   "metadata": {},
   "outputs": [
    {
     "data": {
      "text/html": [
       "<div>\n",
       "<style scoped>\n",
       "    .dataframe tbody tr th:only-of-type {\n",
       "        vertical-align: middle;\n",
       "    }\n",
       "\n",
       "    .dataframe tbody tr th {\n",
       "        vertical-align: top;\n",
       "    }\n",
       "\n",
       "    .dataframe thead th {\n",
       "        text-align: right;\n",
       "    }\n",
       "</style>\n",
       "<table border=\"1\" class=\"dataframe\">\n",
       "  <thead>\n",
       "    <tr style=\"text-align: right;\">\n",
       "      <th></th>\n",
       "      <th>블록명</th>\n",
       "      <th>정반명</th>\n",
       "      <th>착수일자</th>\n",
       "    </tr>\n",
       "  </thead>\n",
       "  <tbody>\n",
       "    <tr>\n",
       "      <th>0</th>\n",
       "      <td>S2</td>\n",
       "      <td>A</td>\n",
       "      <td>2024-02-01</td>\n",
       "    </tr>\n",
       "    <tr>\n",
       "      <th>1</th>\n",
       "      <td>S7</td>\n",
       "      <td>A</td>\n",
       "      <td>2024-02-06</td>\n",
       "    </tr>\n",
       "    <tr>\n",
       "      <th>2</th>\n",
       "      <td>S1</td>\n",
       "      <td>A</td>\n",
       "      <td>2024-02-06</td>\n",
       "    </tr>\n",
       "    <tr>\n",
       "      <th>3</th>\n",
       "      <td>S5</td>\n",
       "      <td>A</td>\n",
       "      <td>2024-02-11</td>\n",
       "    </tr>\n",
       "    <tr>\n",
       "      <th>4</th>\n",
       "      <td>S6</td>\n",
       "      <td>A</td>\n",
       "      <td>2024-02-14</td>\n",
       "    </tr>\n",
       "    <tr>\n",
       "      <th>5</th>\n",
       "      <td>S4</td>\n",
       "      <td>A</td>\n",
       "      <td>2024-02-14</td>\n",
       "    </tr>\n",
       "    <tr>\n",
       "      <th>6</th>\n",
       "      <td>S3</td>\n",
       "      <td>A</td>\n",
       "      <td>2024-02-01</td>\n",
       "    </tr>\n",
       "  </tbody>\n",
       "</table>\n",
       "</div>"
      ],
      "text/plain": [
       "  블록명 정반명        착수일자\n",
       "0  S2   A  2024-02-01\n",
       "1  S7   A  2024-02-06\n",
       "2  S1   A  2024-02-06\n",
       "3  S5   A  2024-02-11\n",
       "4  S6   A  2024-02-14\n",
       "5  S4   A  2024-02-14\n",
       "6  S3   A  2024-02-01"
      ]
     },
     "execution_count": 363,
     "metadata": {},
     "output_type": "execute_result"
    }
   ],
   "source": [
    "fin_df = pd.DataFrame({\n",
    "    \"블록명\":결론_블록리스트,\n",
    "    \"정반명\":결론_정반리스트,\n",
    "    \"착수일자\":결론_착수일자\n",
    "    })\n",
    "fin_df"
   ]
  },
  {
   "cell_type": "code",
   "execution_count": 364,
   "id": "bc57e1cf",
   "metadata": {
    "scrolled": true
   },
   "outputs": [
    {
     "data": {
      "text/html": [
       "<div>\n",
       "<style scoped>\n",
       "    .dataframe tbody tr th:only-of-type {\n",
       "        vertical-align: middle;\n",
       "    }\n",
       "\n",
       "    .dataframe tbody tr th {\n",
       "        vertical-align: top;\n",
       "    }\n",
       "\n",
       "    .dataframe thead th {\n",
       "        text-align: right;\n",
       "    }\n",
       "</style>\n",
       "<table border=\"1\" class=\"dataframe\">\n",
       "  <thead>\n",
       "    <tr style=\"text-align: right;\">\n",
       "      <th></th>\n",
       "      <th>블록명</th>\n",
       "      <th>중량</th>\n",
       "      <th>표준공기</th>\n",
       "      <th>납기</th>\n",
       "      <th>정반배치</th>\n",
       "      <th>사이즈</th>\n",
       "      <th>면적</th>\n",
       "      <th>최소착수요구일</th>\n",
       "      <th>날짜순서</th>\n",
       "      <th>공기순서</th>\n",
       "      <th>크기순서</th>\n",
       "      <th>우선순위</th>\n",
       "      <th>정반명</th>\n",
       "      <th>착수일자</th>\n",
       "    </tr>\n",
       "  </thead>\n",
       "  <tbody>\n",
       "    <tr>\n",
       "      <th>0</th>\n",
       "      <td>S2</td>\n",
       "      <td>60</td>\n",
       "      <td>5</td>\n",
       "      <td>2024-02-14</td>\n",
       "      <td>0</td>\n",
       "      <td>(10, 12)</td>\n",
       "      <td>120</td>\n",
       "      <td>2024-02-09</td>\n",
       "      <td>4.0</td>\n",
       "      <td>4.5</td>\n",
       "      <td>1.0</td>\n",
       "      <td>2.4</td>\n",
       "      <td>A</td>\n",
       "      <td>2024-02-01</td>\n",
       "    </tr>\n",
       "    <tr>\n",
       "      <th>1</th>\n",
       "      <td>S7</td>\n",
       "      <td>50</td>\n",
       "      <td>5</td>\n",
       "      <td>2024-02-26</td>\n",
       "      <td>0</td>\n",
       "      <td>(10, 10)</td>\n",
       "      <td>100</td>\n",
       "      <td>2024-02-21</td>\n",
       "      <td>7.0</td>\n",
       "      <td>4.5</td>\n",
       "      <td>2.0</td>\n",
       "      <td>3.9</td>\n",
       "      <td>A</td>\n",
       "      <td>2024-02-06</td>\n",
       "    </tr>\n",
       "    <tr>\n",
       "      <th>2</th>\n",
       "      <td>S1</td>\n",
       "      <td>50</td>\n",
       "      <td>8</td>\n",
       "      <td>2024-02-15</td>\n",
       "      <td>0</td>\n",
       "      <td>(9, 10)</td>\n",
       "      <td>90</td>\n",
       "      <td>2024-02-07</td>\n",
       "      <td>2.0</td>\n",
       "      <td>1.0</td>\n",
       "      <td>3.5</td>\n",
       "      <td>4.0</td>\n",
       "      <td>A</td>\n",
       "      <td>2024-02-06</td>\n",
       "    </tr>\n",
       "    <tr>\n",
       "      <th>3</th>\n",
       "      <td>S5</td>\n",
       "      <td>50</td>\n",
       "      <td>3</td>\n",
       "      <td>2024-02-20</td>\n",
       "      <td>0</td>\n",
       "      <td>(9, 10)</td>\n",
       "      <td>90</td>\n",
       "      <td>2024-02-17</td>\n",
       "      <td>5.5</td>\n",
       "      <td>7.0</td>\n",
       "      <td>3.5</td>\n",
       "      <td>5.6</td>\n",
       "      <td>A</td>\n",
       "      <td>2024-02-11</td>\n",
       "    </tr>\n",
       "    <tr>\n",
       "      <th>4</th>\n",
       "      <td>S6</td>\n",
       "      <td>50</td>\n",
       "      <td>5</td>\n",
       "      <td>2024-02-22</td>\n",
       "      <td>0</td>\n",
       "      <td>(8, 10)</td>\n",
       "      <td>80</td>\n",
       "      <td>2024-02-17</td>\n",
       "      <td>5.5</td>\n",
       "      <td>4.5</td>\n",
       "      <td>5.0</td>\n",
       "      <td>6.7</td>\n",
       "      <td>A</td>\n",
       "      <td>2024-02-14</td>\n",
       "    </tr>\n",
       "    <tr>\n",
       "      <th>5</th>\n",
       "      <td>S4</td>\n",
       "      <td>20</td>\n",
       "      <td>6</td>\n",
       "      <td>2024-02-12</td>\n",
       "      <td>0</td>\n",
       "      <td>(5, 6)</td>\n",
       "      <td>30</td>\n",
       "      <td>2024-02-06</td>\n",
       "      <td>1.0</td>\n",
       "      <td>2.0</td>\n",
       "      <td>6.5</td>\n",
       "      <td>7.0</td>\n",
       "      <td>A</td>\n",
       "      <td>2024-02-14</td>\n",
       "    </tr>\n",
       "    <tr>\n",
       "      <th>6</th>\n",
       "      <td>S3</td>\n",
       "      <td>30</td>\n",
       "      <td>5</td>\n",
       "      <td>2024-02-13</td>\n",
       "      <td>0</td>\n",
       "      <td>(5, 6)</td>\n",
       "      <td>30</td>\n",
       "      <td>2024-02-08</td>\n",
       "      <td>3.0</td>\n",
       "      <td>4.5</td>\n",
       "      <td>6.5</td>\n",
       "      <td>7.8</td>\n",
       "      <td>A</td>\n",
       "      <td>2024-02-01</td>\n",
       "    </tr>\n",
       "  </tbody>\n",
       "</table>\n",
       "</div>"
      ],
      "text/plain": [
       "  블록명  중량  표준공기         납기  정반배치       사이즈   면적     최소착수요구일  날짜순서  공기순서  크기순서  \\\n",
       "0  S2  60     5 2024-02-14     0  (10, 12)  120  2024-02-09   4.0   4.5   1.0   \n",
       "1  S7  50     5 2024-02-26     0  (10, 10)  100  2024-02-21   7.0   4.5   2.0   \n",
       "2  S1  50     8 2024-02-15     0   (9, 10)   90  2024-02-07   2.0   1.0   3.5   \n",
       "3  S5  50     3 2024-02-20     0   (9, 10)   90  2024-02-17   5.5   7.0   3.5   \n",
       "4  S6  50     5 2024-02-22     0   (8, 10)   80  2024-02-17   5.5   4.5   5.0   \n",
       "5  S4  20     6 2024-02-12     0    (5, 6)   30  2024-02-06   1.0   2.0   6.5   \n",
       "6  S3  30     5 2024-02-13     0    (5, 6)   30  2024-02-08   3.0   4.5   6.5   \n",
       "\n",
       "   우선순위 정반명        착수일자  \n",
       "0   2.4   A  2024-02-01  \n",
       "1   3.9   A  2024-02-06  \n",
       "2   4.0   A  2024-02-06  \n",
       "3   5.6   A  2024-02-11  \n",
       "4   6.7   A  2024-02-14  \n",
       "5   7.0   A  2024-02-14  \n",
       "6   7.8   A  2024-02-01  "
      ]
     },
     "execution_count": 364,
     "metadata": {},
     "output_type": "execute_result"
    }
   ],
   "source": [
    "merged_df = pd.merge(블록데이터, fin_df, on=\"블록명\", how=\"left\")\n",
    "merged_df"
   ]
  },
  {
   "cell_type": "code",
   "execution_count": 365,
   "id": "d8b7aa25",
   "metadata": {},
   "outputs": [],
   "source": [
    "@unpack_df_columns\n",
    "def 종료일구하기(착수일자, 표준공기):\n",
    "    try:\n",
    "        original_date = datetime.strptime(착수일자, \"%Y-%m-%d\")\n",
    "        종료날짜 = original_date + timedelta(days=int(표준공기)) \n",
    "        종료날짜 = 종료날짜.strftime(\"%Y-%m-%d\")\n",
    "        return 종료날짜\n",
    "    except:\n",
    "        pass"
   ]
  },
  {
   "cell_type": "code",
   "execution_count": 370,
   "id": "4ac0d1f8",
   "metadata": {},
   "outputs": [],
   "source": [
    "@unpack_df_columns\n",
    "def create_text(블록명, 표준공기, 사이즈):\n",
    "    return str(블록명)+\"/\"+\"조립중량:\"+str(표준공기)+\"ton\" + \"/\" +\"사이즈:\"+str(사이즈)"
   ]
  },
  {
   "cell_type": "code",
   "execution_count": 371,
   "id": "a76a49fb",
   "metadata": {
    "scrolled": true
   },
   "outputs": [
    {
     "data": {
      "text/html": [
       "<div>\n",
       "<style scoped>\n",
       "    .dataframe tbody tr th:only-of-type {\n",
       "        vertical-align: middle;\n",
       "    }\n",
       "\n",
       "    .dataframe tbody tr th {\n",
       "        vertical-align: top;\n",
       "    }\n",
       "\n",
       "    .dataframe thead th {\n",
       "        text-align: right;\n",
       "    }\n",
       "</style>\n",
       "<table border=\"1\" class=\"dataframe\">\n",
       "  <thead>\n",
       "    <tr style=\"text-align: right;\">\n",
       "      <th></th>\n",
       "      <th>블록명</th>\n",
       "      <th>중량</th>\n",
       "      <th>표준공기</th>\n",
       "      <th>납기</th>\n",
       "      <th>정반배치</th>\n",
       "      <th>사이즈</th>\n",
       "      <th>면적</th>\n",
       "      <th>최소착수요구일</th>\n",
       "      <th>날짜순서</th>\n",
       "      <th>공기순서</th>\n",
       "      <th>크기순서</th>\n",
       "      <th>우선순위</th>\n",
       "      <th>정반명</th>\n",
       "      <th>착수일자</th>\n",
       "      <th>종료일자</th>\n",
       "      <th>차트텍스트</th>\n",
       "    </tr>\n",
       "  </thead>\n",
       "  <tbody>\n",
       "    <tr>\n",
       "      <th>0</th>\n",
       "      <td>S2</td>\n",
       "      <td>60</td>\n",
       "      <td>5</td>\n",
       "      <td>2024-02-14</td>\n",
       "      <td>0</td>\n",
       "      <td>(10, 12)</td>\n",
       "      <td>120</td>\n",
       "      <td>2024-02-09</td>\n",
       "      <td>4.0</td>\n",
       "      <td>4.5</td>\n",
       "      <td>1.0</td>\n",
       "      <td>2.4</td>\n",
       "      <td>A</td>\n",
       "      <td>2024-02-01</td>\n",
       "      <td>2024-02-06</td>\n",
       "      <td>S2/조립중량:5ton/사이즈:(10, 12)</td>\n",
       "    </tr>\n",
       "    <tr>\n",
       "      <th>1</th>\n",
       "      <td>S7</td>\n",
       "      <td>50</td>\n",
       "      <td>5</td>\n",
       "      <td>2024-02-26</td>\n",
       "      <td>0</td>\n",
       "      <td>(10, 10)</td>\n",
       "      <td>100</td>\n",
       "      <td>2024-02-21</td>\n",
       "      <td>7.0</td>\n",
       "      <td>4.5</td>\n",
       "      <td>2.0</td>\n",
       "      <td>3.9</td>\n",
       "      <td>A</td>\n",
       "      <td>2024-02-06</td>\n",
       "      <td>2024-02-11</td>\n",
       "      <td>S7/조립중량:5ton/사이즈:(10, 10)</td>\n",
       "    </tr>\n",
       "    <tr>\n",
       "      <th>2</th>\n",
       "      <td>S1</td>\n",
       "      <td>50</td>\n",
       "      <td>8</td>\n",
       "      <td>2024-02-15</td>\n",
       "      <td>0</td>\n",
       "      <td>(9, 10)</td>\n",
       "      <td>90</td>\n",
       "      <td>2024-02-07</td>\n",
       "      <td>2.0</td>\n",
       "      <td>1.0</td>\n",
       "      <td>3.5</td>\n",
       "      <td>4.0</td>\n",
       "      <td>A</td>\n",
       "      <td>2024-02-06</td>\n",
       "      <td>2024-02-14</td>\n",
       "      <td>S1/조립중량:8ton/사이즈:(9, 10)</td>\n",
       "    </tr>\n",
       "    <tr>\n",
       "      <th>3</th>\n",
       "      <td>S5</td>\n",
       "      <td>50</td>\n",
       "      <td>3</td>\n",
       "      <td>2024-02-20</td>\n",
       "      <td>0</td>\n",
       "      <td>(9, 10)</td>\n",
       "      <td>90</td>\n",
       "      <td>2024-02-17</td>\n",
       "      <td>5.5</td>\n",
       "      <td>7.0</td>\n",
       "      <td>3.5</td>\n",
       "      <td>5.6</td>\n",
       "      <td>A</td>\n",
       "      <td>2024-02-11</td>\n",
       "      <td>2024-02-14</td>\n",
       "      <td>S5/조립중량:3ton/사이즈:(9, 10)</td>\n",
       "    </tr>\n",
       "    <tr>\n",
       "      <th>4</th>\n",
       "      <td>S6</td>\n",
       "      <td>50</td>\n",
       "      <td>5</td>\n",
       "      <td>2024-02-22</td>\n",
       "      <td>0</td>\n",
       "      <td>(8, 10)</td>\n",
       "      <td>80</td>\n",
       "      <td>2024-02-17</td>\n",
       "      <td>5.5</td>\n",
       "      <td>4.5</td>\n",
       "      <td>5.0</td>\n",
       "      <td>6.7</td>\n",
       "      <td>A</td>\n",
       "      <td>2024-02-14</td>\n",
       "      <td>2024-02-19</td>\n",
       "      <td>S6/조립중량:5ton/사이즈:(8, 10)</td>\n",
       "    </tr>\n",
       "    <tr>\n",
       "      <th>5</th>\n",
       "      <td>S4</td>\n",
       "      <td>20</td>\n",
       "      <td>6</td>\n",
       "      <td>2024-02-12</td>\n",
       "      <td>0</td>\n",
       "      <td>(5, 6)</td>\n",
       "      <td>30</td>\n",
       "      <td>2024-02-06</td>\n",
       "      <td>1.0</td>\n",
       "      <td>2.0</td>\n",
       "      <td>6.5</td>\n",
       "      <td>7.0</td>\n",
       "      <td>A</td>\n",
       "      <td>2024-02-14</td>\n",
       "      <td>2024-02-20</td>\n",
       "      <td>S4/조립중량:6ton/사이즈:(5, 6)</td>\n",
       "    </tr>\n",
       "    <tr>\n",
       "      <th>6</th>\n",
       "      <td>S3</td>\n",
       "      <td>30</td>\n",
       "      <td>5</td>\n",
       "      <td>2024-02-13</td>\n",
       "      <td>0</td>\n",
       "      <td>(5, 6)</td>\n",
       "      <td>30</td>\n",
       "      <td>2024-02-08</td>\n",
       "      <td>3.0</td>\n",
       "      <td>4.5</td>\n",
       "      <td>6.5</td>\n",
       "      <td>7.8</td>\n",
       "      <td>A</td>\n",
       "      <td>2024-02-01</td>\n",
       "      <td>2024-02-06</td>\n",
       "      <td>S3/조립중량:5ton/사이즈:(5, 6)</td>\n",
       "    </tr>\n",
       "  </tbody>\n",
       "</table>\n",
       "</div>"
      ],
      "text/plain": [
       "  블록명  중량  표준공기         납기  정반배치       사이즈   면적     최소착수요구일  날짜순서  공기순서  크기순서  \\\n",
       "0  S2  60     5 2024-02-14     0  (10, 12)  120  2024-02-09   4.0   4.5   1.0   \n",
       "1  S7  50     5 2024-02-26     0  (10, 10)  100  2024-02-21   7.0   4.5   2.0   \n",
       "2  S1  50     8 2024-02-15     0   (9, 10)   90  2024-02-07   2.0   1.0   3.5   \n",
       "3  S5  50     3 2024-02-20     0   (9, 10)   90  2024-02-17   5.5   7.0   3.5   \n",
       "4  S6  50     5 2024-02-22     0   (8, 10)   80  2024-02-17   5.5   4.5   5.0   \n",
       "5  S4  20     6 2024-02-12     0    (5, 6)   30  2024-02-06   1.0   2.0   6.5   \n",
       "6  S3  30     5 2024-02-13     0    (5, 6)   30  2024-02-08   3.0   4.5   6.5   \n",
       "\n",
       "   우선순위 정반명        착수일자        종료일자                      차트텍스트  \n",
       "0   2.4   A  2024-02-01  2024-02-06  S2/조립중량:5ton/사이즈:(10, 12)  \n",
       "1   3.9   A  2024-02-06  2024-02-11  S7/조립중량:5ton/사이즈:(10, 10)  \n",
       "2   4.0   A  2024-02-06  2024-02-14   S1/조립중량:8ton/사이즈:(9, 10)  \n",
       "3   5.6   A  2024-02-11  2024-02-14   S5/조립중량:3ton/사이즈:(9, 10)  \n",
       "4   6.7   A  2024-02-14  2024-02-19   S6/조립중량:5ton/사이즈:(8, 10)  \n",
       "5   7.0   A  2024-02-14  2024-02-20    S4/조립중량:6ton/사이즈:(5, 6)  \n",
       "6   7.8   A  2024-02-01  2024-02-06    S3/조립중량:5ton/사이즈:(5, 6)  "
      ]
     },
     "execution_count": 371,
     "metadata": {},
     "output_type": "execute_result"
    }
   ],
   "source": [
    "merged_df[\"종료일자\"] = merged_df[[\"착수일자\", \"표준공기\"]].apply(종료일구하기, axis=1)\n",
    "merged_df[\"차트텍스트\"] = merged_df[[\"블록명\", \"표준공기\", \"사이즈\"]].apply(create_text, axis=1)\n",
    "merged_df"
   ]
  },
  {
   "cell_type": "code",
   "execution_count": 372,
   "id": "f9a9ca7e",
   "metadata": {},
   "outputs": [],
   "source": [
    "import plotly.express as px\n",
    "def draw_gant(df):\n",
    "    fig = px.timeline(\n",
    "        \n",
    "        df, \n",
    "        x_start=\"착수일자\", \n",
    "        x_end=\"종료일자\", \n",
    "        y=\"블록명\",\n",
    "        color=\"정반명\",\n",
    "        hover_data = [\"표준공기\", \"중량\"],\n",
    "        text = \"차트텍스트\",\n",
    "        opacity=0.7\n",
    "        )\n",
    "\n",
    "    fig.update_yaxes(autorange=\"reversed\")          #if not specified as 'reversed', the tasks will be listed from bottom up       \n",
    "    fig.update_layout(\n",
    "                    # title='Project Plan Gantt Chart',\n",
    "                    hoverlabel_bgcolor='#DAEEED',   #Change the hover tooltip background color to a universal light blue color. If not specified, the background color will vary by team or completion pct, depending on what view the user chooses\n",
    "                    bargap=0.2,\n",
    "                    height=500,              \n",
    "                    xaxis_title=\"\", \n",
    "                    yaxis_title=\"정반명\", \n",
    "                    font=dict(\n",
    "                        family=\"Courier New, monospace\",\n",
    "                        size=12,  # Set the font size here\n",
    "                        color=\"RebeccaPurple\"\n",
    "                        ),\n",
    "    )\n",
    "    fig.show()"
   ]
  },
  {
   "cell_type": "code",
   "execution_count": 373,
   "id": "354ceeb0",
   "metadata": {},
   "outputs": [
    {
     "data": {
      "application/vnd.plotly.v1+json": {
       "config": {
        "plotlyServerURL": "https://plot.ly"
       },
       "data": [
        {
         "alignmentgroup": "True",
         "base": [
          "2024-02-01",
          "2024-02-06",
          "2024-02-06",
          "2024-02-11",
          "2024-02-14",
          "2024-02-14",
          "2024-02-01"
         ],
         "customdata": [
          [
           5,
           60
          ],
          [
           5,
           50
          ],
          [
           8,
           50
          ],
          [
           3,
           50
          ],
          [
           5,
           50
          ],
          [
           6,
           20
          ],
          [
           5,
           30
          ]
         ],
         "hovertemplate": "정반명=A<br>착수일자=%{base}<br>종료일자=%{x}<br>블록명=%{y}<br>차트텍스트=%{text}<br>표준공기=%{customdata[0]}<br>중량=%{customdata[1]}<extra></extra>",
         "legendgroup": "A",
         "marker": {
          "color": "#636efa",
          "opacity": 0.7,
          "pattern": {
           "shape": ""
          }
         },
         "name": "A",
         "offsetgroup": "A",
         "orientation": "h",
         "showlegend": true,
         "text": [
          "S2/조립중량:5ton/사이즈:(10, 12)",
          "S7/조립중량:5ton/사이즈:(10, 10)",
          "S1/조립중량:8ton/사이즈:(9, 10)",
          "S5/조립중량:3ton/사이즈:(9, 10)",
          "S6/조립중량:5ton/사이즈:(8, 10)",
          "S4/조립중량:6ton/사이즈:(5, 6)",
          "S3/조립중량:5ton/사이즈:(5, 6)"
         ],
         "textposition": "auto",
         "type": "bar",
         "x": [
          432000000,
          432000000,
          691200000,
          259200000,
          432000000,
          518400000,
          432000000
         ],
         "xaxis": "x",
         "y": [
          "S2",
          "S7",
          "S1",
          "S5",
          "S6",
          "S4",
          "S3"
         ],
         "yaxis": "y"
        }
       ],
       "layout": {
        "bargap": 0.2,
        "barmode": "overlay",
        "font": {
         "color": "RebeccaPurple",
         "family": "Courier New, monospace",
         "size": 12
        },
        "height": 500,
        "hoverlabel": {
         "bgcolor": "#DAEEED"
        },
        "legend": {
         "title": {
          "text": "정반명"
         },
         "tracegroupgap": 0
        },
        "margin": {
         "t": 60
        },
        "template": {
         "data": {
          "bar": [
           {
            "error_x": {
             "color": "#2a3f5f"
            },
            "error_y": {
             "color": "#2a3f5f"
            },
            "marker": {
             "line": {
              "color": "#E5ECF6",
              "width": 0.5
             },
             "pattern": {
              "fillmode": "overlay",
              "size": 10,
              "solidity": 0.2
             }
            },
            "type": "bar"
           }
          ],
          "barpolar": [
           {
            "marker": {
             "line": {
              "color": "#E5ECF6",
              "width": 0.5
             },
             "pattern": {
              "fillmode": "overlay",
              "size": 10,
              "solidity": 0.2
             }
            },
            "type": "barpolar"
           }
          ],
          "carpet": [
           {
            "aaxis": {
             "endlinecolor": "#2a3f5f",
             "gridcolor": "white",
             "linecolor": "white",
             "minorgridcolor": "white",
             "startlinecolor": "#2a3f5f"
            },
            "baxis": {
             "endlinecolor": "#2a3f5f",
             "gridcolor": "white",
             "linecolor": "white",
             "minorgridcolor": "white",
             "startlinecolor": "#2a3f5f"
            },
            "type": "carpet"
           }
          ],
          "choropleth": [
           {
            "colorbar": {
             "outlinewidth": 0,
             "ticks": ""
            },
            "type": "choropleth"
           }
          ],
          "contour": [
           {
            "colorbar": {
             "outlinewidth": 0,
             "ticks": ""
            },
            "colorscale": [
             [
              0,
              "#0d0887"
             ],
             [
              0.1111111111111111,
              "#46039f"
             ],
             [
              0.2222222222222222,
              "#7201a8"
             ],
             [
              0.3333333333333333,
              "#9c179e"
             ],
             [
              0.4444444444444444,
              "#bd3786"
             ],
             [
              0.5555555555555556,
              "#d8576b"
             ],
             [
              0.6666666666666666,
              "#ed7953"
             ],
             [
              0.7777777777777778,
              "#fb9f3a"
             ],
             [
              0.8888888888888888,
              "#fdca26"
             ],
             [
              1,
              "#f0f921"
             ]
            ],
            "type": "contour"
           }
          ],
          "contourcarpet": [
           {
            "colorbar": {
             "outlinewidth": 0,
             "ticks": ""
            },
            "type": "contourcarpet"
           }
          ],
          "heatmap": [
           {
            "colorbar": {
             "outlinewidth": 0,
             "ticks": ""
            },
            "colorscale": [
             [
              0,
              "#0d0887"
             ],
             [
              0.1111111111111111,
              "#46039f"
             ],
             [
              0.2222222222222222,
              "#7201a8"
             ],
             [
              0.3333333333333333,
              "#9c179e"
             ],
             [
              0.4444444444444444,
              "#bd3786"
             ],
             [
              0.5555555555555556,
              "#d8576b"
             ],
             [
              0.6666666666666666,
              "#ed7953"
             ],
             [
              0.7777777777777778,
              "#fb9f3a"
             ],
             [
              0.8888888888888888,
              "#fdca26"
             ],
             [
              1,
              "#f0f921"
             ]
            ],
            "type": "heatmap"
           }
          ],
          "heatmapgl": [
           {
            "colorbar": {
             "outlinewidth": 0,
             "ticks": ""
            },
            "colorscale": [
             [
              0,
              "#0d0887"
             ],
             [
              0.1111111111111111,
              "#46039f"
             ],
             [
              0.2222222222222222,
              "#7201a8"
             ],
             [
              0.3333333333333333,
              "#9c179e"
             ],
             [
              0.4444444444444444,
              "#bd3786"
             ],
             [
              0.5555555555555556,
              "#d8576b"
             ],
             [
              0.6666666666666666,
              "#ed7953"
             ],
             [
              0.7777777777777778,
              "#fb9f3a"
             ],
             [
              0.8888888888888888,
              "#fdca26"
             ],
             [
              1,
              "#f0f921"
             ]
            ],
            "type": "heatmapgl"
           }
          ],
          "histogram": [
           {
            "marker": {
             "pattern": {
              "fillmode": "overlay",
              "size": 10,
              "solidity": 0.2
             }
            },
            "type": "histogram"
           }
          ],
          "histogram2d": [
           {
            "colorbar": {
             "outlinewidth": 0,
             "ticks": ""
            },
            "colorscale": [
             [
              0,
              "#0d0887"
             ],
             [
              0.1111111111111111,
              "#46039f"
             ],
             [
              0.2222222222222222,
              "#7201a8"
             ],
             [
              0.3333333333333333,
              "#9c179e"
             ],
             [
              0.4444444444444444,
              "#bd3786"
             ],
             [
              0.5555555555555556,
              "#d8576b"
             ],
             [
              0.6666666666666666,
              "#ed7953"
             ],
             [
              0.7777777777777778,
              "#fb9f3a"
             ],
             [
              0.8888888888888888,
              "#fdca26"
             ],
             [
              1,
              "#f0f921"
             ]
            ],
            "type": "histogram2d"
           }
          ],
          "histogram2dcontour": [
           {
            "colorbar": {
             "outlinewidth": 0,
             "ticks": ""
            },
            "colorscale": [
             [
              0,
              "#0d0887"
             ],
             [
              0.1111111111111111,
              "#46039f"
             ],
             [
              0.2222222222222222,
              "#7201a8"
             ],
             [
              0.3333333333333333,
              "#9c179e"
             ],
             [
              0.4444444444444444,
              "#bd3786"
             ],
             [
              0.5555555555555556,
              "#d8576b"
             ],
             [
              0.6666666666666666,
              "#ed7953"
             ],
             [
              0.7777777777777778,
              "#fb9f3a"
             ],
             [
              0.8888888888888888,
              "#fdca26"
             ],
             [
              1,
              "#f0f921"
             ]
            ],
            "type": "histogram2dcontour"
           }
          ],
          "mesh3d": [
           {
            "colorbar": {
             "outlinewidth": 0,
             "ticks": ""
            },
            "type": "mesh3d"
           }
          ],
          "parcoords": [
           {
            "line": {
             "colorbar": {
              "outlinewidth": 0,
              "ticks": ""
             }
            },
            "type": "parcoords"
           }
          ],
          "pie": [
           {
            "automargin": true,
            "type": "pie"
           }
          ],
          "scatter": [
           {
            "fillpattern": {
             "fillmode": "overlay",
             "size": 10,
             "solidity": 0.2
            },
            "type": "scatter"
           }
          ],
          "scatter3d": [
           {
            "line": {
             "colorbar": {
              "outlinewidth": 0,
              "ticks": ""
             }
            },
            "marker": {
             "colorbar": {
              "outlinewidth": 0,
              "ticks": ""
             }
            },
            "type": "scatter3d"
           }
          ],
          "scattercarpet": [
           {
            "marker": {
             "colorbar": {
              "outlinewidth": 0,
              "ticks": ""
             }
            },
            "type": "scattercarpet"
           }
          ],
          "scattergeo": [
           {
            "marker": {
             "colorbar": {
              "outlinewidth": 0,
              "ticks": ""
             }
            },
            "type": "scattergeo"
           }
          ],
          "scattergl": [
           {
            "marker": {
             "colorbar": {
              "outlinewidth": 0,
              "ticks": ""
             }
            },
            "type": "scattergl"
           }
          ],
          "scattermapbox": [
           {
            "marker": {
             "colorbar": {
              "outlinewidth": 0,
              "ticks": ""
             }
            },
            "type": "scattermapbox"
           }
          ],
          "scatterpolar": [
           {
            "marker": {
             "colorbar": {
              "outlinewidth": 0,
              "ticks": ""
             }
            },
            "type": "scatterpolar"
           }
          ],
          "scatterpolargl": [
           {
            "marker": {
             "colorbar": {
              "outlinewidth": 0,
              "ticks": ""
             }
            },
            "type": "scatterpolargl"
           }
          ],
          "scatterternary": [
           {
            "marker": {
             "colorbar": {
              "outlinewidth": 0,
              "ticks": ""
             }
            },
            "type": "scatterternary"
           }
          ],
          "surface": [
           {
            "colorbar": {
             "outlinewidth": 0,
             "ticks": ""
            },
            "colorscale": [
             [
              0,
              "#0d0887"
             ],
             [
              0.1111111111111111,
              "#46039f"
             ],
             [
              0.2222222222222222,
              "#7201a8"
             ],
             [
              0.3333333333333333,
              "#9c179e"
             ],
             [
              0.4444444444444444,
              "#bd3786"
             ],
             [
              0.5555555555555556,
              "#d8576b"
             ],
             [
              0.6666666666666666,
              "#ed7953"
             ],
             [
              0.7777777777777778,
              "#fb9f3a"
             ],
             [
              0.8888888888888888,
              "#fdca26"
             ],
             [
              1,
              "#f0f921"
             ]
            ],
            "type": "surface"
           }
          ],
          "table": [
           {
            "cells": {
             "fill": {
              "color": "#EBF0F8"
             },
             "line": {
              "color": "white"
             }
            },
            "header": {
             "fill": {
              "color": "#C8D4E3"
             },
             "line": {
              "color": "white"
             }
            },
            "type": "table"
           }
          ]
         },
         "layout": {
          "annotationdefaults": {
           "arrowcolor": "#2a3f5f",
           "arrowhead": 0,
           "arrowwidth": 1
          },
          "autotypenumbers": "strict",
          "coloraxis": {
           "colorbar": {
            "outlinewidth": 0,
            "ticks": ""
           }
          },
          "colorscale": {
           "diverging": [
            [
             0,
             "#8e0152"
            ],
            [
             0.1,
             "#c51b7d"
            ],
            [
             0.2,
             "#de77ae"
            ],
            [
             0.3,
             "#f1b6da"
            ],
            [
             0.4,
             "#fde0ef"
            ],
            [
             0.5,
             "#f7f7f7"
            ],
            [
             0.6,
             "#e6f5d0"
            ],
            [
             0.7,
             "#b8e186"
            ],
            [
             0.8,
             "#7fbc41"
            ],
            [
             0.9,
             "#4d9221"
            ],
            [
             1,
             "#276419"
            ]
           ],
           "sequential": [
            [
             0,
             "#0d0887"
            ],
            [
             0.1111111111111111,
             "#46039f"
            ],
            [
             0.2222222222222222,
             "#7201a8"
            ],
            [
             0.3333333333333333,
             "#9c179e"
            ],
            [
             0.4444444444444444,
             "#bd3786"
            ],
            [
             0.5555555555555556,
             "#d8576b"
            ],
            [
             0.6666666666666666,
             "#ed7953"
            ],
            [
             0.7777777777777778,
             "#fb9f3a"
            ],
            [
             0.8888888888888888,
             "#fdca26"
            ],
            [
             1,
             "#f0f921"
            ]
           ],
           "sequentialminus": [
            [
             0,
             "#0d0887"
            ],
            [
             0.1111111111111111,
             "#46039f"
            ],
            [
             0.2222222222222222,
             "#7201a8"
            ],
            [
             0.3333333333333333,
             "#9c179e"
            ],
            [
             0.4444444444444444,
             "#bd3786"
            ],
            [
             0.5555555555555556,
             "#d8576b"
            ],
            [
             0.6666666666666666,
             "#ed7953"
            ],
            [
             0.7777777777777778,
             "#fb9f3a"
            ],
            [
             0.8888888888888888,
             "#fdca26"
            ],
            [
             1,
             "#f0f921"
            ]
           ]
          },
          "colorway": [
           "#636efa",
           "#EF553B",
           "#00cc96",
           "#ab63fa",
           "#FFA15A",
           "#19d3f3",
           "#FF6692",
           "#B6E880",
           "#FF97FF",
           "#FECB52"
          ],
          "font": {
           "color": "#2a3f5f"
          },
          "geo": {
           "bgcolor": "white",
           "lakecolor": "white",
           "landcolor": "#E5ECF6",
           "showlakes": true,
           "showland": true,
           "subunitcolor": "white"
          },
          "hoverlabel": {
           "align": "left"
          },
          "hovermode": "closest",
          "mapbox": {
           "style": "light"
          },
          "paper_bgcolor": "white",
          "plot_bgcolor": "#E5ECF6",
          "polar": {
           "angularaxis": {
            "gridcolor": "white",
            "linecolor": "white",
            "ticks": ""
           },
           "bgcolor": "#E5ECF6",
           "radialaxis": {
            "gridcolor": "white",
            "linecolor": "white",
            "ticks": ""
           }
          },
          "scene": {
           "xaxis": {
            "backgroundcolor": "#E5ECF6",
            "gridcolor": "white",
            "gridwidth": 2,
            "linecolor": "white",
            "showbackground": true,
            "ticks": "",
            "zerolinecolor": "white"
           },
           "yaxis": {
            "backgroundcolor": "#E5ECF6",
            "gridcolor": "white",
            "gridwidth": 2,
            "linecolor": "white",
            "showbackground": true,
            "ticks": "",
            "zerolinecolor": "white"
           },
           "zaxis": {
            "backgroundcolor": "#E5ECF6",
            "gridcolor": "white",
            "gridwidth": 2,
            "linecolor": "white",
            "showbackground": true,
            "ticks": "",
            "zerolinecolor": "white"
           }
          },
          "shapedefaults": {
           "line": {
            "color": "#2a3f5f"
           }
          },
          "ternary": {
           "aaxis": {
            "gridcolor": "white",
            "linecolor": "white",
            "ticks": ""
           },
           "baxis": {
            "gridcolor": "white",
            "linecolor": "white",
            "ticks": ""
           },
           "bgcolor": "#E5ECF6",
           "caxis": {
            "gridcolor": "white",
            "linecolor": "white",
            "ticks": ""
           }
          },
          "title": {
           "x": 0.05
          },
          "xaxis": {
           "automargin": true,
           "gridcolor": "white",
           "linecolor": "white",
           "ticks": "",
           "title": {
            "standoff": 15
           },
           "zerolinecolor": "white",
           "zerolinewidth": 2
          },
          "yaxis": {
           "automargin": true,
           "gridcolor": "white",
           "linecolor": "white",
           "ticks": "",
           "title": {
            "standoff": 15
           },
           "zerolinecolor": "white",
           "zerolinewidth": 2
          }
         }
        },
        "xaxis": {
         "anchor": "y",
         "domain": [
          0,
          1
         ],
         "title": {
          "text": ""
         },
         "type": "date"
        },
        "yaxis": {
         "anchor": "x",
         "autorange": "reversed",
         "domain": [
          0,
          1
         ],
         "title": {
          "text": "정반명"
         }
        }
       }
      },
      "text/html": [
       "<div>                            <div id=\"723044de-1d78-440a-9ab3-103e3886e589\" class=\"plotly-graph-div\" style=\"height:500px; width:100%;\"></div>            <script type=\"text/javascript\">                require([\"plotly\"], function(Plotly) {                    window.PLOTLYENV=window.PLOTLYENV || {};                                    if (document.getElementById(\"723044de-1d78-440a-9ab3-103e3886e589\")) {                    Plotly.newPlot(                        \"723044de-1d78-440a-9ab3-103e3886e589\",                        [{\"alignmentgroup\":\"True\",\"base\":[\"2024-02-01\",\"2024-02-06\",\"2024-02-06\",\"2024-02-11\",\"2024-02-14\",\"2024-02-14\",\"2024-02-01\"],\"customdata\":[[5,60],[5,50],[8,50],[3,50],[5,50],[6,20],[5,30]],\"hovertemplate\":\"정반명=A<br>착수일자=%{base}<br>종료일자=%{x}<br>블록명=%{y}<br>차트텍스트=%{text}<br>표준공기=%{customdata[0]}<br>중량=%{customdata[1]}<extra></extra>\",\"legendgroup\":\"A\",\"marker\":{\"color\":\"#636efa\",\"opacity\":0.7,\"pattern\":{\"shape\":\"\"}},\"name\":\"A\",\"offsetgroup\":\"A\",\"orientation\":\"h\",\"showlegend\":true,\"text\":[\"S2/조립중량:5ton/사이즈:(10, 12)\",\"S7/조립중량:5ton/사이즈:(10, 10)\",\"S1/조립중량:8ton/사이즈:(9, 10)\",\"S5/조립중량:3ton/사이즈:(9, 10)\",\"S6/조립중량:5ton/사이즈:(8, 10)\",\"S4/조립중량:6ton/사이즈:(5, 6)\",\"S3/조립중량:5ton/사이즈:(5, 6)\"],\"textposition\":\"auto\",\"x\":[432000000.0,432000000.0,691200000.0,259200000.0,432000000.0,518400000.0,432000000.0],\"xaxis\":\"x\",\"y\":[\"S2\",\"S7\",\"S1\",\"S5\",\"S6\",\"S4\",\"S3\"],\"yaxis\":\"y\",\"type\":\"bar\"}],                        {\"template\":{\"data\":{\"histogram2dcontour\":[{\"type\":\"histogram2dcontour\",\"colorbar\":{\"outlinewidth\":0,\"ticks\":\"\"},\"colorscale\":[[0.0,\"#0d0887\"],[0.1111111111111111,\"#46039f\"],[0.2222222222222222,\"#7201a8\"],[0.3333333333333333,\"#9c179e\"],[0.4444444444444444,\"#bd3786\"],[0.5555555555555556,\"#d8576b\"],[0.6666666666666666,\"#ed7953\"],[0.7777777777777778,\"#fb9f3a\"],[0.8888888888888888,\"#fdca26\"],[1.0,\"#f0f921\"]]}],\"choropleth\":[{\"type\":\"choropleth\",\"colorbar\":{\"outlinewidth\":0,\"ticks\":\"\"}}],\"histogram2d\":[{\"type\":\"histogram2d\",\"colorbar\":{\"outlinewidth\":0,\"ticks\":\"\"},\"colorscale\":[[0.0,\"#0d0887\"],[0.1111111111111111,\"#46039f\"],[0.2222222222222222,\"#7201a8\"],[0.3333333333333333,\"#9c179e\"],[0.4444444444444444,\"#bd3786\"],[0.5555555555555556,\"#d8576b\"],[0.6666666666666666,\"#ed7953\"],[0.7777777777777778,\"#fb9f3a\"],[0.8888888888888888,\"#fdca26\"],[1.0,\"#f0f921\"]]}],\"heatmap\":[{\"type\":\"heatmap\",\"colorbar\":{\"outlinewidth\":0,\"ticks\":\"\"},\"colorscale\":[[0.0,\"#0d0887\"],[0.1111111111111111,\"#46039f\"],[0.2222222222222222,\"#7201a8\"],[0.3333333333333333,\"#9c179e\"],[0.4444444444444444,\"#bd3786\"],[0.5555555555555556,\"#d8576b\"],[0.6666666666666666,\"#ed7953\"],[0.7777777777777778,\"#fb9f3a\"],[0.8888888888888888,\"#fdca26\"],[1.0,\"#f0f921\"]]}],\"heatmapgl\":[{\"type\":\"heatmapgl\",\"colorbar\":{\"outlinewidth\":0,\"ticks\":\"\"},\"colorscale\":[[0.0,\"#0d0887\"],[0.1111111111111111,\"#46039f\"],[0.2222222222222222,\"#7201a8\"],[0.3333333333333333,\"#9c179e\"],[0.4444444444444444,\"#bd3786\"],[0.5555555555555556,\"#d8576b\"],[0.6666666666666666,\"#ed7953\"],[0.7777777777777778,\"#fb9f3a\"],[0.8888888888888888,\"#fdca26\"],[1.0,\"#f0f921\"]]}],\"contourcarpet\":[{\"type\":\"contourcarpet\",\"colorbar\":{\"outlinewidth\":0,\"ticks\":\"\"}}],\"contour\":[{\"type\":\"contour\",\"colorbar\":{\"outlinewidth\":0,\"ticks\":\"\"},\"colorscale\":[[0.0,\"#0d0887\"],[0.1111111111111111,\"#46039f\"],[0.2222222222222222,\"#7201a8\"],[0.3333333333333333,\"#9c179e\"],[0.4444444444444444,\"#bd3786\"],[0.5555555555555556,\"#d8576b\"],[0.6666666666666666,\"#ed7953\"],[0.7777777777777778,\"#fb9f3a\"],[0.8888888888888888,\"#fdca26\"],[1.0,\"#f0f921\"]]}],\"surface\":[{\"type\":\"surface\",\"colorbar\":{\"outlinewidth\":0,\"ticks\":\"\"},\"colorscale\":[[0.0,\"#0d0887\"],[0.1111111111111111,\"#46039f\"],[0.2222222222222222,\"#7201a8\"],[0.3333333333333333,\"#9c179e\"],[0.4444444444444444,\"#bd3786\"],[0.5555555555555556,\"#d8576b\"],[0.6666666666666666,\"#ed7953\"],[0.7777777777777778,\"#fb9f3a\"],[0.8888888888888888,\"#fdca26\"],[1.0,\"#f0f921\"]]}],\"mesh3d\":[{\"type\":\"mesh3d\",\"colorbar\":{\"outlinewidth\":0,\"ticks\":\"\"}}],\"scatter\":[{\"fillpattern\":{\"fillmode\":\"overlay\",\"size\":10,\"solidity\":0.2},\"type\":\"scatter\"}],\"parcoords\":[{\"type\":\"parcoords\",\"line\":{\"colorbar\":{\"outlinewidth\":0,\"ticks\":\"\"}}}],\"scatterpolargl\":[{\"type\":\"scatterpolargl\",\"marker\":{\"colorbar\":{\"outlinewidth\":0,\"ticks\":\"\"}}}],\"bar\":[{\"error_x\":{\"color\":\"#2a3f5f\"},\"error_y\":{\"color\":\"#2a3f5f\"},\"marker\":{\"line\":{\"color\":\"#E5ECF6\",\"width\":0.5},\"pattern\":{\"fillmode\":\"overlay\",\"size\":10,\"solidity\":0.2}},\"type\":\"bar\"}],\"scattergeo\":[{\"type\":\"scattergeo\",\"marker\":{\"colorbar\":{\"outlinewidth\":0,\"ticks\":\"\"}}}],\"scatterpolar\":[{\"type\":\"scatterpolar\",\"marker\":{\"colorbar\":{\"outlinewidth\":0,\"ticks\":\"\"}}}],\"histogram\":[{\"marker\":{\"pattern\":{\"fillmode\":\"overlay\",\"size\":10,\"solidity\":0.2}},\"type\":\"histogram\"}],\"scattergl\":[{\"type\":\"scattergl\",\"marker\":{\"colorbar\":{\"outlinewidth\":0,\"ticks\":\"\"}}}],\"scatter3d\":[{\"type\":\"scatter3d\",\"line\":{\"colorbar\":{\"outlinewidth\":0,\"ticks\":\"\"}},\"marker\":{\"colorbar\":{\"outlinewidth\":0,\"ticks\":\"\"}}}],\"scattermapbox\":[{\"type\":\"scattermapbox\",\"marker\":{\"colorbar\":{\"outlinewidth\":0,\"ticks\":\"\"}}}],\"scatterternary\":[{\"type\":\"scatterternary\",\"marker\":{\"colorbar\":{\"outlinewidth\":0,\"ticks\":\"\"}}}],\"scattercarpet\":[{\"type\":\"scattercarpet\",\"marker\":{\"colorbar\":{\"outlinewidth\":0,\"ticks\":\"\"}}}],\"carpet\":[{\"aaxis\":{\"endlinecolor\":\"#2a3f5f\",\"gridcolor\":\"white\",\"linecolor\":\"white\",\"minorgridcolor\":\"white\",\"startlinecolor\":\"#2a3f5f\"},\"baxis\":{\"endlinecolor\":\"#2a3f5f\",\"gridcolor\":\"white\",\"linecolor\":\"white\",\"minorgridcolor\":\"white\",\"startlinecolor\":\"#2a3f5f\"},\"type\":\"carpet\"}],\"table\":[{\"cells\":{\"fill\":{\"color\":\"#EBF0F8\"},\"line\":{\"color\":\"white\"}},\"header\":{\"fill\":{\"color\":\"#C8D4E3\"},\"line\":{\"color\":\"white\"}},\"type\":\"table\"}],\"barpolar\":[{\"marker\":{\"line\":{\"color\":\"#E5ECF6\",\"width\":0.5},\"pattern\":{\"fillmode\":\"overlay\",\"size\":10,\"solidity\":0.2}},\"type\":\"barpolar\"}],\"pie\":[{\"automargin\":true,\"type\":\"pie\"}]},\"layout\":{\"autotypenumbers\":\"strict\",\"colorway\":[\"#636efa\",\"#EF553B\",\"#00cc96\",\"#ab63fa\",\"#FFA15A\",\"#19d3f3\",\"#FF6692\",\"#B6E880\",\"#FF97FF\",\"#FECB52\"],\"font\":{\"color\":\"#2a3f5f\"},\"hovermode\":\"closest\",\"hoverlabel\":{\"align\":\"left\"},\"paper_bgcolor\":\"white\",\"plot_bgcolor\":\"#E5ECF6\",\"polar\":{\"bgcolor\":\"#E5ECF6\",\"angularaxis\":{\"gridcolor\":\"white\",\"linecolor\":\"white\",\"ticks\":\"\"},\"radialaxis\":{\"gridcolor\":\"white\",\"linecolor\":\"white\",\"ticks\":\"\"}},\"ternary\":{\"bgcolor\":\"#E5ECF6\",\"aaxis\":{\"gridcolor\":\"white\",\"linecolor\":\"white\",\"ticks\":\"\"},\"baxis\":{\"gridcolor\":\"white\",\"linecolor\":\"white\",\"ticks\":\"\"},\"caxis\":{\"gridcolor\":\"white\",\"linecolor\":\"white\",\"ticks\":\"\"}},\"coloraxis\":{\"colorbar\":{\"outlinewidth\":0,\"ticks\":\"\"}},\"colorscale\":{\"sequential\":[[0.0,\"#0d0887\"],[0.1111111111111111,\"#46039f\"],[0.2222222222222222,\"#7201a8\"],[0.3333333333333333,\"#9c179e\"],[0.4444444444444444,\"#bd3786\"],[0.5555555555555556,\"#d8576b\"],[0.6666666666666666,\"#ed7953\"],[0.7777777777777778,\"#fb9f3a\"],[0.8888888888888888,\"#fdca26\"],[1.0,\"#f0f921\"]],\"sequentialminus\":[[0.0,\"#0d0887\"],[0.1111111111111111,\"#46039f\"],[0.2222222222222222,\"#7201a8\"],[0.3333333333333333,\"#9c179e\"],[0.4444444444444444,\"#bd3786\"],[0.5555555555555556,\"#d8576b\"],[0.6666666666666666,\"#ed7953\"],[0.7777777777777778,\"#fb9f3a\"],[0.8888888888888888,\"#fdca26\"],[1.0,\"#f0f921\"]],\"diverging\":[[0,\"#8e0152\"],[0.1,\"#c51b7d\"],[0.2,\"#de77ae\"],[0.3,\"#f1b6da\"],[0.4,\"#fde0ef\"],[0.5,\"#f7f7f7\"],[0.6,\"#e6f5d0\"],[0.7,\"#b8e186\"],[0.8,\"#7fbc41\"],[0.9,\"#4d9221\"],[1,\"#276419\"]]},\"xaxis\":{\"gridcolor\":\"white\",\"linecolor\":\"white\",\"ticks\":\"\",\"title\":{\"standoff\":15},\"zerolinecolor\":\"white\",\"automargin\":true,\"zerolinewidth\":2},\"yaxis\":{\"gridcolor\":\"white\",\"linecolor\":\"white\",\"ticks\":\"\",\"title\":{\"standoff\":15},\"zerolinecolor\":\"white\",\"automargin\":true,\"zerolinewidth\":2},\"scene\":{\"xaxis\":{\"backgroundcolor\":\"#E5ECF6\",\"gridcolor\":\"white\",\"linecolor\":\"white\",\"showbackground\":true,\"ticks\":\"\",\"zerolinecolor\":\"white\",\"gridwidth\":2},\"yaxis\":{\"backgroundcolor\":\"#E5ECF6\",\"gridcolor\":\"white\",\"linecolor\":\"white\",\"showbackground\":true,\"ticks\":\"\",\"zerolinecolor\":\"white\",\"gridwidth\":2},\"zaxis\":{\"backgroundcolor\":\"#E5ECF6\",\"gridcolor\":\"white\",\"linecolor\":\"white\",\"showbackground\":true,\"ticks\":\"\",\"zerolinecolor\":\"white\",\"gridwidth\":2}},\"shapedefaults\":{\"line\":{\"color\":\"#2a3f5f\"}},\"annotationdefaults\":{\"arrowcolor\":\"#2a3f5f\",\"arrowhead\":0,\"arrowwidth\":1},\"geo\":{\"bgcolor\":\"white\",\"landcolor\":\"#E5ECF6\",\"subunitcolor\":\"white\",\"showland\":true,\"showlakes\":true,\"lakecolor\":\"white\"},\"title\":{\"x\":0.05},\"mapbox\":{\"style\":\"light\"}}},\"xaxis\":{\"anchor\":\"y\",\"domain\":[0.0,1.0],\"type\":\"date\",\"title\":{\"text\":\"\"}},\"yaxis\":{\"anchor\":\"x\",\"domain\":[0.0,1.0],\"title\":{\"text\":\"정반명\"},\"autorange\":\"reversed\"},\"legend\":{\"title\":{\"text\":\"정반명\"},\"tracegroupgap\":0},\"margin\":{\"t\":60},\"barmode\":\"overlay\",\"hoverlabel\":{\"bgcolor\":\"#DAEEED\"},\"font\":{\"family\":\"Courier New, monospace\",\"size\":12,\"color\":\"RebeccaPurple\"},\"bargap\":0.2,\"height\":500},                        {\"responsive\": true}                    ).then(function(){\n",
       "                            \n",
       "var gd = document.getElementById('723044de-1d78-440a-9ab3-103e3886e589');\n",
       "var x = new MutationObserver(function (mutations, observer) {{\n",
       "        var display = window.getComputedStyle(gd).display;\n",
       "        if (!display || display === 'none') {{\n",
       "            console.log([gd, 'removed!']);\n",
       "            Plotly.purge(gd);\n",
       "            observer.disconnect();\n",
       "        }}\n",
       "}});\n",
       "\n",
       "// Listen for the removal of the full notebook cells\n",
       "var notebookContainer = gd.closest('#notebook-container');\n",
       "if (notebookContainer) {{\n",
       "    x.observe(notebookContainer, {childList: true});\n",
       "}}\n",
       "\n",
       "// Listen for the clearing of the current output cell\n",
       "var outputEl = gd.closest('.output');\n",
       "if (outputEl) {{\n",
       "    x.observe(outputEl, {childList: true});\n",
       "}}\n",
       "\n",
       "                        })                };                });            </script>        </div>"
      ]
     },
     "metadata": {},
     "output_type": "display_data"
    }
   ],
   "source": [
    "draw_gant(merged_df)"
   ]
  },
  {
   "cell_type": "code",
   "execution_count": null,
   "id": "e9da67db",
   "metadata": {},
   "outputs": [],
   "source": []
  },
  {
   "cell_type": "code",
   "execution_count": null,
   "id": "eb220c3e",
   "metadata": {},
   "outputs": [],
   "source": []
  },
  {
   "cell_type": "code",
   "execution_count": null,
   "id": "41dc23a3",
   "metadata": {},
   "outputs": [],
   "source": []
  }
 ],
 "metadata": {
  "kernelspec": {
   "display_name": "Python 3 (ipykernel)",
   "language": "python",
   "name": "python3"
  },
  "language_info": {
   "codemirror_mode": {
    "name": "ipython",
    "version": 3
   },
   "file_extension": ".py",
   "mimetype": "text/x-python",
   "name": "python",
   "nbconvert_exporter": "python",
   "pygments_lexer": "ipython3",
   "version": "3.10.6"
  },
  "toc": {
   "base_numbering": 1,
   "nav_menu": {
    "height": "190.99px",
    "width": "257.309px"
   },
   "number_sections": true,
   "sideBar": true,
   "skip_h1_title": false,
   "title_cell": "Table of Contents",
   "title_sidebar": "Contents",
   "toc_cell": false,
   "toc_position": {
    "height": "648.182px",
    "left": "39px",
    "top": "110.795px",
    "width": "245.682px"
   },
   "toc_section_display": true,
   "toc_window_display": true
  }
 },
 "nbformat": 4,
 "nbformat_minor": 5
}
