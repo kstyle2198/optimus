{
 "cells": [
  {
   "cell_type": "code",
   "execution_count": 23,
   "id": "b08303ab",
   "metadata": {},
   "outputs": [],
   "source": [
    "import pandas as pd"
   ]
  },
  {
   "cell_type": "code",
   "execution_count": 24,
   "id": "3a4251cc",
   "metadata": {},
   "outputs": [
    {
     "data": {
      "text/html": [
       "<div>\n",
       "<style scoped>\n",
       "    .dataframe tbody tr th:only-of-type {\n",
       "        vertical-align: middle;\n",
       "    }\n",
       "\n",
       "    .dataframe tbody tr th {\n",
       "        vertical-align: top;\n",
       "    }\n",
       "\n",
       "    .dataframe thead th {\n",
       "        text-align: right;\n",
       "    }\n",
       "</style>\n",
       "<table border=\"1\" class=\"dataframe\">\n",
       "  <thead>\n",
       "    <tr style=\"text-align: right;\">\n",
       "      <th></th>\n",
       "      <th>가로</th>\n",
       "      <th>세로</th>\n",
       "    </tr>\n",
       "  </thead>\n",
       "  <tbody>\n",
       "    <tr>\n",
       "      <th>0</th>\n",
       "      <td>10</td>\n",
       "      <td>5</td>\n",
       "    </tr>\n",
       "    <tr>\n",
       "      <th>1</th>\n",
       "      <td>20</td>\n",
       "      <td>10</td>\n",
       "    </tr>\n",
       "    <tr>\n",
       "      <th>2</th>\n",
       "      <td>30</td>\n",
       "      <td>15</td>\n",
       "    </tr>\n",
       "  </tbody>\n",
       "</table>\n",
       "</div>"
      ],
      "text/plain": [
       "   가로  세로\n",
       "0  10   5\n",
       "1  20  10\n",
       "2  30  15"
      ]
     },
     "execution_count": 24,
     "metadata": {},
     "output_type": "execute_result"
    }
   ],
   "source": [
    "df = pd.DataFrame({\n",
    "    \"가로\":[10, 20, 30],\n",
    "    \"세로\":[5, 10, 15]\n",
    "})\n",
    "df"
   ]
  },
  {
   "cell_type": "code",
   "execution_count": 25,
   "id": "b6a91eac",
   "metadata": {},
   "outputs": [
    {
     "data": {
      "text/html": [
       "<div>\n",
       "<style scoped>\n",
       "    .dataframe tbody tr th:only-of-type {\n",
       "        vertical-align: middle;\n",
       "    }\n",
       "\n",
       "    .dataframe tbody tr th {\n",
       "        vertical-align: top;\n",
       "    }\n",
       "\n",
       "    .dataframe thead th {\n",
       "        text-align: right;\n",
       "    }\n",
       "</style>\n",
       "<table border=\"1\" class=\"dataframe\">\n",
       "  <thead>\n",
       "    <tr style=\"text-align: right;\">\n",
       "      <th></th>\n",
       "      <th>가로</th>\n",
       "      <th>세로</th>\n",
       "      <th>면적</th>\n",
       "    </tr>\n",
       "  </thead>\n",
       "  <tbody>\n",
       "    <tr>\n",
       "      <th>0</th>\n",
       "      <td>10</td>\n",
       "      <td>5</td>\n",
       "      <td>50</td>\n",
       "    </tr>\n",
       "    <tr>\n",
       "      <th>1</th>\n",
       "      <td>20</td>\n",
       "      <td>10</td>\n",
       "      <td>200</td>\n",
       "    </tr>\n",
       "    <tr>\n",
       "      <th>2</th>\n",
       "      <td>30</td>\n",
       "      <td>15</td>\n",
       "      <td>450</td>\n",
       "    </tr>\n",
       "  </tbody>\n",
       "</table>\n",
       "</div>"
      ],
      "text/plain": [
       "   가로  세로   면적\n",
       "0  10   5   50\n",
       "1  20  10  200\n",
       "2  30  15  450"
      ]
     },
     "execution_count": 25,
     "metadata": {},
     "output_type": "execute_result"
    }
   ],
   "source": [
    "df[\"면적\"] = df.eval(\"가로*세로\")\n",
    "df"
   ]
  },
  {
   "cell_type": "code",
   "execution_count": 26,
   "id": "6ce38128",
   "metadata": {},
   "outputs": [],
   "source": [
    "target = {\"가로\": 10, \"세로\": 20, \"면적\": 200, \"최장길이\": 20, \"최소길이\": 10}"
   ]
  },
  {
   "cell_type": "code",
   "execution_count": 27,
   "id": "f0b96680",
   "metadata": {},
   "outputs": [],
   "source": [
    "import functools # not required, but helps in production\n",
    "def unpack_df_columns(func):\n",
    "    @functools.wraps(func)\n",
    "    def _unpack_df_columns(*args, **kwargs):\n",
    "        series = args[0]\n",
    "        return func(*series.values)\n",
    "    return _unpack_df_columns"
   ]
  },
  {
   "cell_type": "code",
   "execution_count": 28,
   "id": "67757967",
   "metadata": {},
   "outputs": [],
   "source": [
    "@unpack_df_columns\n",
    "def 길이리스트만들기(가로, 세로):\n",
    "    result = []\n",
    "    result.append(가로)\n",
    "    result.append(가로)\n",
    "    result.append(세로)\n",
    "    result.append(세로)\n",
    "    return result"
   ]
  },
  {
   "cell_type": "code",
   "execution_count": 29,
   "id": "a9144cbb",
   "metadata": {},
   "outputs": [
    {
     "data": {
      "text/html": [
       "<div>\n",
       "<style scoped>\n",
       "    .dataframe tbody tr th:only-of-type {\n",
       "        vertical-align: middle;\n",
       "    }\n",
       "\n",
       "    .dataframe tbody tr th {\n",
       "        vertical-align: top;\n",
       "    }\n",
       "\n",
       "    .dataframe thead th {\n",
       "        text-align: right;\n",
       "    }\n",
       "</style>\n",
       "<table border=\"1\" class=\"dataframe\">\n",
       "  <thead>\n",
       "    <tr style=\"text-align: right;\">\n",
       "      <th></th>\n",
       "      <th>가로</th>\n",
       "      <th>세로</th>\n",
       "      <th>면적</th>\n",
       "      <th>길이리스트</th>\n",
       "    </tr>\n",
       "  </thead>\n",
       "  <tbody>\n",
       "    <tr>\n",
       "      <th>0</th>\n",
       "      <td>10</td>\n",
       "      <td>5</td>\n",
       "      <td>50</td>\n",
       "      <td>[10, 10, 5, 5]</td>\n",
       "    </tr>\n",
       "    <tr>\n",
       "      <th>1</th>\n",
       "      <td>20</td>\n",
       "      <td>10</td>\n",
       "      <td>200</td>\n",
       "      <td>[20, 20, 10, 10]</td>\n",
       "    </tr>\n",
       "    <tr>\n",
       "      <th>2</th>\n",
       "      <td>30</td>\n",
       "      <td>15</td>\n",
       "      <td>450</td>\n",
       "      <td>[30, 30, 15, 15]</td>\n",
       "    </tr>\n",
       "  </tbody>\n",
       "</table>\n",
       "</div>"
      ],
      "text/plain": [
       "   가로  세로   면적             길이리스트\n",
       "0  10   5   50    [10, 10, 5, 5]\n",
       "1  20  10  200  [20, 20, 10, 10]\n",
       "2  30  15  450  [30, 30, 15, 15]"
      ]
     },
     "execution_count": 29,
     "metadata": {},
     "output_type": "execute_result"
    }
   ],
   "source": [
    "df[\"길이리스트\"] = df[[\"가로\", \"세로\"]].apply(길이리스트만들기, axis=1)\n",
    "df"
   ]
  },
  {
   "cell_type": "code",
   "execution_count": 30,
   "id": "333aa479",
   "metadata": {},
   "outputs": [
    {
     "data": {
      "text/html": [
       "<div>\n",
       "<style scoped>\n",
       "    .dataframe tbody tr th:only-of-type {\n",
       "        vertical-align: middle;\n",
       "    }\n",
       "\n",
       "    .dataframe tbody tr th {\n",
       "        vertical-align: top;\n",
       "    }\n",
       "\n",
       "    .dataframe thead th {\n",
       "        text-align: right;\n",
       "    }\n",
       "</style>\n",
       "<table border=\"1\" class=\"dataframe\">\n",
       "  <thead>\n",
       "    <tr style=\"text-align: right;\">\n",
       "      <th></th>\n",
       "      <th>가로</th>\n",
       "      <th>세로</th>\n",
       "      <th>면적</th>\n",
       "      <th>길이리스트</th>\n",
       "      <th>최장길이</th>\n",
       "      <th>최소길이</th>\n",
       "    </tr>\n",
       "  </thead>\n",
       "  <tbody>\n",
       "    <tr>\n",
       "      <th>0</th>\n",
       "      <td>10</td>\n",
       "      <td>5</td>\n",
       "      <td>50</td>\n",
       "      <td>[10, 10, 5, 5]</td>\n",
       "      <td>10</td>\n",
       "      <td>5</td>\n",
       "    </tr>\n",
       "    <tr>\n",
       "      <th>1</th>\n",
       "      <td>20</td>\n",
       "      <td>10</td>\n",
       "      <td>200</td>\n",
       "      <td>[20, 20, 10, 10]</td>\n",
       "      <td>20</td>\n",
       "      <td>10</td>\n",
       "    </tr>\n",
       "    <tr>\n",
       "      <th>2</th>\n",
       "      <td>30</td>\n",
       "      <td>15</td>\n",
       "      <td>450</td>\n",
       "      <td>[30, 30, 15, 15]</td>\n",
       "      <td>30</td>\n",
       "      <td>15</td>\n",
       "    </tr>\n",
       "  </tbody>\n",
       "</table>\n",
       "</div>"
      ],
      "text/plain": [
       "   가로  세로   면적             길이리스트  최장길이  최소길이\n",
       "0  10   5   50    [10, 10, 5, 5]    10     5\n",
       "1  20  10  200  [20, 20, 10, 10]    20    10\n",
       "2  30  15  450  [30, 30, 15, 15]    30    15"
      ]
     },
     "execution_count": 30,
     "metadata": {},
     "output_type": "execute_result"
    }
   ],
   "source": [
    "df[\"최장길이\"] = df[\"길이리스트\"].apply(lambda x : max(x))\n",
    "df[\"최소길이\"] = df[\"길이리스트\"].apply(lambda x : min(x))\n",
    "df"
   ]
  },
  {
   "cell_type": "code",
   "execution_count": 38,
   "id": "0804a066",
   "metadata": {},
   "outputs": [],
   "source": [
    "@unpack_df_columns\n",
    "def 면적_최장길이적합도_검토(정반면적, 정반최장길이):\n",
    "    global target\n",
    "    \n",
    "    if 정반면적 >= target[\"면적\"] and 정반최장길이 >= target[\"최장길이\"]:\n",
    "        return \"적합\"\n",
    "    else:\n",
    "        return \"부적합\""
   ]
  },
  {
   "cell_type": "code",
   "execution_count": 39,
   "id": "c57ab923",
   "metadata": {},
   "outputs": [
    {
     "data": {
      "text/html": [
       "<div>\n",
       "<style scoped>\n",
       "    .dataframe tbody tr th:only-of-type {\n",
       "        vertical-align: middle;\n",
       "    }\n",
       "\n",
       "    .dataframe tbody tr th {\n",
       "        vertical-align: top;\n",
       "    }\n",
       "\n",
       "    .dataframe thead th {\n",
       "        text-align: right;\n",
       "    }\n",
       "</style>\n",
       "<table border=\"1\" class=\"dataframe\">\n",
       "  <thead>\n",
       "    <tr style=\"text-align: right;\">\n",
       "      <th></th>\n",
       "      <th>가로</th>\n",
       "      <th>세로</th>\n",
       "      <th>면적</th>\n",
       "      <th>길이리스트</th>\n",
       "      <th>최장길이</th>\n",
       "      <th>최소길이</th>\n",
       "      <th>적합도검토</th>\n",
       "    </tr>\n",
       "  </thead>\n",
       "  <tbody>\n",
       "    <tr>\n",
       "      <th>0</th>\n",
       "      <td>10</td>\n",
       "      <td>5</td>\n",
       "      <td>50</td>\n",
       "      <td>[10, 10, 5, 5]</td>\n",
       "      <td>10</td>\n",
       "      <td>5</td>\n",
       "      <td>부적합</td>\n",
       "    </tr>\n",
       "    <tr>\n",
       "      <th>1</th>\n",
       "      <td>20</td>\n",
       "      <td>10</td>\n",
       "      <td>200</td>\n",
       "      <td>[20, 20, 10, 10]</td>\n",
       "      <td>20</td>\n",
       "      <td>10</td>\n",
       "      <td>적합</td>\n",
       "    </tr>\n",
       "    <tr>\n",
       "      <th>2</th>\n",
       "      <td>30</td>\n",
       "      <td>15</td>\n",
       "      <td>450</td>\n",
       "      <td>[30, 30, 15, 15]</td>\n",
       "      <td>30</td>\n",
       "      <td>15</td>\n",
       "      <td>적합</td>\n",
       "    </tr>\n",
       "  </tbody>\n",
       "</table>\n",
       "</div>"
      ],
      "text/plain": [
       "   가로  세로   면적             길이리스트  최장길이  최소길이 적합도검토\n",
       "0  10   5   50    [10, 10, 5, 5]    10     5   부적합\n",
       "1  20  10  200  [20, 20, 10, 10]    20    10    적합\n",
       "2  30  15  450  [30, 30, 15, 15]    30    15    적합"
      ]
     },
     "execution_count": 39,
     "metadata": {},
     "output_type": "execute_result"
    }
   ],
   "source": [
    "df[\"적합도검토\"] = df[[\"면적\", \"최장길이\"]].apply(면적_최장길이적합도_검토, axis=1)\n",
    "df"
   ]
  },
  {
   "cell_type": "code",
   "execution_count": 40,
   "id": "8c8db279",
   "metadata": {},
   "outputs": [],
   "source": [
    "# 만약 target을 2번 정반에 배치했다면...잔여 정반 사이지를 어떻게 표현할 것인가?"
   ]
  },
  {
   "cell_type": "code",
   "execution_count": 83,
   "id": "43525622",
   "metadata": {},
   "outputs": [],
   "source": [
    "# target = {\"가로\": 30, \"세로\": 10, \"면적\": 300, \"최장길이\": 30, \"최소길이\": 10}\n",
    "target = {\"가로\": 20, \"세로\": 5, \"면적\": 100, \"최장길이\": 20, \"최소길이\": 5}\n",
    "길이리스트 = [30, 30, 15, 15]"
   ]
  },
  {
   "cell_type": "code",
   "execution_count": 84,
   "id": "44ad9175",
   "metadata": {},
   "outputs": [],
   "source": [
    "if min(길이리스트) == target[\"최소길이\"] and max(길이리스트) >= target[\"최장길이\"]:\n",
    "    길이리스트[0] = 길이리스트[0] - target[\"최장길이\"]\n",
    "    길이리스트[1] = 길이리스트[1] - target[\"최장길이\"]\n",
    "    길이리스트[2] = target[\"최소길이\"]\n",
    "    길이리스트[3] = target[\"최소길이\"]\n",
    "\n",
    "if max(길이리스트) == target[\"최장길이\"] and min(길이리스트) >= target[\"최소길이\"]:\n",
    "    길이리스트[0] = target[\"최장길이\"]\n",
    "    길이리스트[1] = target[\"최장길이\"]\n",
    "    길이리스트[2] = 길이리스트[2] - target[\"최소길이\"]\n",
    "    길이리스트[3] = 길이리스트[3] - target[\"최소길이\"]\n",
    "\n",
    "else:\n",
    "    길이리스트[0] = 길이리스트[0] - target[\"최장길이\"]\n",
    "    길이리스트[2] = 길이리스트[2] - target[\"최소길이\"]"
   ]
  },
  {
   "cell_type": "code",
   "execution_count": 85,
   "id": "4e2519aa",
   "metadata": {},
   "outputs": [
    {
     "data": {
      "text/plain": [
       "[10, 30, 10, 15]"
      ]
     },
     "execution_count": 85,
     "metadata": {},
     "output_type": "execute_result"
    }
   ],
   "source": [
    "길이리스트"
   ]
  },
  {
   "cell_type": "code",
   "execution_count": 92,
   "id": "1ac1cd88",
   "metadata": {},
   "outputs": [
    {
     "data": {
      "text/plain": [
       "[150, 300]"
      ]
     },
     "execution_count": 92,
     "metadata": {},
     "output_type": "execute_result"
    }
   ],
   "source": [
    "잔여면적 = []\n",
    "if 길이리스트[0] == 길이리스트[1]:\n",
    "    잔여면적.append(길이리스트[0]*길이리스트[3])\n",
    "else:\n",
    "    잔여면적  = []\n",
    "    잔여면적.append(길이리스트[0]*길이리스트[3])\n",
    "    잔여면적.append(길이리스트[1]*길이리스트[2])\n",
    "잔여면적"
   ]
  },
  {
   "cell_type": "code",
   "execution_count": null,
   "id": "37188373",
   "metadata": {},
   "outputs": [],
   "source": []
  }
 ],
 "metadata": {
  "kernelspec": {
   "display_name": "Python 3 (ipykernel)",
   "language": "python",
   "name": "python3"
  },
  "language_info": {
   "codemirror_mode": {
    "name": "ipython",
    "version": 3
   },
   "file_extension": ".py",
   "mimetype": "text/x-python",
   "name": "python",
   "nbconvert_exporter": "python",
   "pygments_lexer": "ipython3",
   "version": "3.10.6"
  },
  "toc": {
   "base_numbering": 1,
   "nav_menu": {},
   "number_sections": true,
   "sideBar": true,
   "skip_h1_title": false,
   "title_cell": "Table of Contents",
   "title_sidebar": "Contents",
   "toc_cell": false,
   "toc_position": {},
   "toc_section_display": true,
   "toc_window_display": true
  }
 },
 "nbformat": 4,
 "nbformat_minor": 5
}
