{
 "cells": [
  {
   "cell_type": "code",
   "execution_count": 509,
   "id": "f9b64f3a",
   "metadata": {},
   "outputs": [],
   "source": [
    "import pandas as pd\n",
    "import numpy as np\n",
    "from tqdm import tqdm\n",
    "from random import random, randrange, choice\n",
    "from datetime import datetime, timedelta\n",
    "from itertools import combinations\n",
    "from pprint import pprint\n",
    "\n",
    "import warnings\n",
    "warnings.filterwarnings('ignore')\n",
    "\n",
    "from IPython.core.interactiveshell import InteractiveShell \n",
    "InteractiveShell.ast_node_interactivity = \"all\" # Cell의 모든 반환값 출력"
   ]
  },
  {
   "cell_type": "markdown",
   "id": "09df493d",
   "metadata": {},
   "source": [
    "# 기본 데이터 세팅"
   ]
  },
  {
   "cell_type": "code",
   "execution_count": 510,
   "id": "e9045597",
   "metadata": {},
   "outputs": [
    {
     "data": {
      "text/html": [
       "<div>\n",
       "<style scoped>\n",
       "    .dataframe tbody tr th:only-of-type {\n",
       "        vertical-align: middle;\n",
       "    }\n",
       "\n",
       "    .dataframe tbody tr th {\n",
       "        vertical-align: top;\n",
       "    }\n",
       "\n",
       "    .dataframe thead th {\n",
       "        text-align: right;\n",
       "    }\n",
       "</style>\n",
       "<table border=\"1\" class=\"dataframe\">\n",
       "  <thead>\n",
       "    <tr style=\"text-align: right;\">\n",
       "      <th></th>\n",
       "      <th>엔진명</th>\n",
       "      <th>중량</th>\n",
       "      <th>가로</th>\n",
       "      <th>세로</th>\n",
       "      <th>표준공기</th>\n",
       "      <th>납기</th>\n",
       "      <th>베드배치</th>\n",
       "    </tr>\n",
       "  </thead>\n",
       "  <tbody>\n",
       "    <tr>\n",
       "      <th>0</th>\n",
       "      <td>S1</td>\n",
       "      <td>50</td>\n",
       "      <td>10</td>\n",
       "      <td>10</td>\n",
       "      <td>2</td>\n",
       "      <td>2024-02-15</td>\n",
       "      <td>0</td>\n",
       "    </tr>\n",
       "    <tr>\n",
       "      <th>1</th>\n",
       "      <td>S2</td>\n",
       "      <td>60</td>\n",
       "      <td>10</td>\n",
       "      <td>12</td>\n",
       "      <td>3</td>\n",
       "      <td>2024-02-15</td>\n",
       "      <td>0</td>\n",
       "    </tr>\n",
       "    <tr>\n",
       "      <th>2</th>\n",
       "      <td>S3</td>\n",
       "      <td>30</td>\n",
       "      <td>5</td>\n",
       "      <td>6</td>\n",
       "      <td>1</td>\n",
       "      <td>2024-02-15</td>\n",
       "      <td>0</td>\n",
       "    </tr>\n",
       "    <tr>\n",
       "      <th>3</th>\n",
       "      <td>S4</td>\n",
       "      <td>20</td>\n",
       "      <td>5</td>\n",
       "      <td>6</td>\n",
       "      <td>2</td>\n",
       "      <td>2024-02-15</td>\n",
       "      <td>0</td>\n",
       "    </tr>\n",
       "  </tbody>\n",
       "</table>\n",
       "</div>"
      ],
      "text/plain": [
       "  엔진명  중량  가로  세로  표준공기          납기  베드배치\n",
       "0  S1  50  10  10     2  2024-02-15     0\n",
       "1  S2  60  10  12     3  2024-02-15     0\n",
       "2  S3  30   5   6     1  2024-02-15     0\n",
       "3  S4  20   5   6     2  2024-02-15     0"
      ]
     },
     "execution_count": 510,
     "metadata": {},
     "output_type": "execute_result"
    }
   ],
   "source": [
    "엔진원데이터 = pd.DataFrame({\"엔진명\":[\"S1\", \"S2\", \"S3\", \"S4\"], \n",
    "                    \"중량\": [50, 60, 30, 20], \n",
    "                    \"가로\": [10, 10, 5, 5], \n",
    "                    \"세로\":[10, 12, 6, 6], \n",
    "                    \"표준공기\":[2, 3, 1, 2], \n",
    "                    \"납기\":[\"2024-02-15\", \"2024-02-15\", \"2024-02-15\", \"2024-02-15\"],\n",
    "                    \"베드배치\":[0, 0, 0, 0]})\n",
    "엔진원데이터.head()"
   ]
  },
  {
   "cell_type": "code",
   "execution_count": 511,
   "id": "d5908f92",
   "metadata": {},
   "outputs": [
    {
     "data": {
      "text/html": [
       "<div>\n",
       "<style scoped>\n",
       "    .dataframe tbody tr th:only-of-type {\n",
       "        vertical-align: middle;\n",
       "    }\n",
       "\n",
       "    .dataframe tbody tr th {\n",
       "        vertical-align: top;\n",
       "    }\n",
       "\n",
       "    .dataframe thead th {\n",
       "        text-align: right;\n",
       "    }\n",
       "</style>\n",
       "<table border=\"1\" class=\"dataframe\">\n",
       "  <thead>\n",
       "    <tr style=\"text-align: right;\">\n",
       "      <th></th>\n",
       "      <th>베드명</th>\n",
       "      <th>가능중량</th>\n",
       "      <th>가로</th>\n",
       "      <th>세로</th>\n",
       "    </tr>\n",
       "  </thead>\n",
       "  <tbody>\n",
       "    <tr>\n",
       "      <th>0</th>\n",
       "      <td>A</td>\n",
       "      <td>100</td>\n",
       "      <td>10</td>\n",
       "      <td>20</td>\n",
       "    </tr>\n",
       "    <tr>\n",
       "      <th>1</th>\n",
       "      <td>B</td>\n",
       "      <td>100</td>\n",
       "      <td>10</td>\n",
       "      <td>10</td>\n",
       "    </tr>\n",
       "    <tr>\n",
       "      <th>2</th>\n",
       "      <td>C</td>\n",
       "      <td>30</td>\n",
       "      <td>5</td>\n",
       "      <td>10</td>\n",
       "    </tr>\n",
       "  </tbody>\n",
       "</table>\n",
       "</div>"
      ],
      "text/plain": [
       "  베드명  가능중량  가로  세로\n",
       "0   A   100  10  20\n",
       "1   B   100  10  10\n",
       "2   C    30   5  10"
      ]
     },
     "execution_count": 511,
     "metadata": {},
     "output_type": "execute_result"
    }
   ],
   "source": [
    "베드원데이터 = pd.DataFrame({\"베드명\":[\"A\", \"B\", \"C\"],\n",
    "                   \"가능중량\":[100, 100, 30],\n",
    "                   \"가로\":[10, 10, 5],\n",
    "                   \"세로\":[20, 10, 10],\n",
    "                   })\n",
    "베드원데이터.head()"
   ]
  },
  {
   "cell_type": "code",
   "execution_count": 512,
   "id": "ef19c09f",
   "metadata": {},
   "outputs": [
    {
     "data": {
      "text/plain": [
       "DatetimeIndex(['2024-02-01', '2024-02-02', '2024-02-03', '2024-02-04',\n",
       "               '2024-02-05', '2024-02-06', '2024-02-07', '2024-02-08',\n",
       "               '2024-02-09', '2024-02-10', '2024-02-11', '2024-02-12',\n",
       "               '2024-02-13', '2024-02-14', '2024-02-15', '2024-02-16',\n",
       "               '2024-02-17', '2024-02-18', '2024-02-19', '2024-02-20',\n",
       "               '2024-02-21', '2024-02-22', '2024-02-23', '2024-02-24',\n",
       "               '2024-02-25', '2024-02-26', '2024-02-27', '2024-02-28',\n",
       "               '2024-02-29'],\n",
       "              dtype='datetime64[ns]', freq='D')"
      ]
     },
     "execution_count": 512,
     "metadata": {},
     "output_type": "execute_result"
    }
   ],
   "source": [
    "start_date = datetime(2024, 2, 1)\n",
    "end_date = datetime(2024, 2, 29)\n",
    "날짜집합  = pd.date_range(start=start_date, end=end_date, freq='D')\n",
    "날짜집합"
   ]
  },
  {
   "cell_type": "code",
   "execution_count": 513,
   "id": "ee2ee346",
   "metadata": {},
   "outputs": [
    {
     "data": {
      "text/plain": [
       "['S1', 'S2', 'S3', 'S4']"
      ]
     },
     "execution_count": 513,
     "metadata": {},
     "output_type": "execute_result"
    }
   ],
   "source": [
    "엔진집합 = 엔진원데이터[\"엔진명\"].unique().tolist()\n",
    "엔진집합"
   ]
  },
  {
   "cell_type": "code",
   "execution_count": 514,
   "id": "71d472fc",
   "metadata": {},
   "outputs": [
    {
     "data": {
      "text/plain": [
       "['A', 'B', 'C']"
      ]
     },
     "execution_count": 514,
     "metadata": {},
     "output_type": "execute_result"
    }
   ],
   "source": [
    "최초베드집합 = 베드원데이터[\"베드명\"].unique().tolist()\n",
    "최초베드집합"
   ]
  },
  {
   "cell_type": "markdown",
   "id": "70935972",
   "metadata": {},
   "source": [
    "# 엔진 데이터 전처리 함수"
   ]
  },
  {
   "cell_type": "code",
   "execution_count": 515,
   "id": "52c1c100",
   "metadata": {},
   "outputs": [],
   "source": [
    "import functools\n",
    "def unpack_df_columns(func):\n",
    "    @functools.wraps(func)\n",
    "    def _unpack_df_columns(*args, **kwargs):\n",
    "        series = args[0]\n",
    "        return func(*series.values)\n",
    "    return _unpack_df_columns"
   ]
  },
  {
   "cell_type": "code",
   "execution_count": 516,
   "id": "aa800a66",
   "metadata": {},
   "outputs": [],
   "source": [
    "@unpack_df_columns\n",
    "def 최소착수요구일구하기(납기, 공기):\n",
    "    result = pd.to_datetime(납기) - timedelta(days=int(공기))\n",
    "    return result.date()"
   ]
  },
  {
   "cell_type": "code",
   "execution_count": 517,
   "id": "1c77f1ff",
   "metadata": {},
   "outputs": [],
   "source": [
    "착수일가중치, 공기가중치, 크기가중치 = 0.7, 0.5, 0.5\n",
    "\n",
    "@unpack_df_columns\n",
    "def 엔진우선순위구하기(날순, 공순, 크순):\n",
    "    global 착수일가중치, 공기가중치, 크기가중치\n",
    "    result = np.round((날순*착수일가중치 + 공순*공기가중치 + 크순*크기가중치)/3,1)\n",
    "    return result\n",
    "\n",
    "@unpack_df_columns\n",
    "def 길이리스트만들기(길이1, 길이2):\n",
    "    result = []\n",
    "    가로 = max(길이1, 길이2)  \n",
    "    세로 = min(길이1, 길이2)\n",
    "    result.append(가로)\n",
    "    result.append(가로)\n",
    "    result.append(세로)\n",
    "    result.append(세로)\n",
    "    return result"
   ]
  },
  {
   "cell_type": "code",
   "execution_count": 518,
   "id": "65f716a2",
   "metadata": {},
   "outputs": [],
   "source": [
    "def 엔진데이터전처리(엔진원데이터):\n",
    "    df1 = 엔진원데이터.copy()\n",
    "    df1[\"납기\"] = pd.to_datetime(df1[\"납기\"])\n",
    "    df1[\"면적\"] = df1.eval(\"가로*세로\")\n",
    "    df1[\"최소착수요구일\"] = df1[[\"납기\", \"표준공기\"]].apply(최소착수요구일구하기, axis=1)\n",
    "    df1[\"날짜순서\"] = df1[\"최소착수요구일\"].rank()\n",
    "    df1[\"공기순서\"] = df1[\"표준공기\"].rank(ascending=False)\n",
    "    df1[\"크기순서\"] = df1[\"면적\"].rank(ascending=False)\n",
    "    df1[\"우선순위\"] = df1[[\"날짜순서\", \"공기순서\", \"크기순서\"]].apply(엔진우선순위구하기, axis=1)\n",
    "    df1[\"길이리스트\"] = df1[[\"가로\", \"세로\"]].apply(길이리스트만들기, axis=1)\n",
    "    df1[\"최장길이\"] = df1[\"길이리스트\"].apply(lambda x : max(x))\n",
    "    df1[\"최소길이\"] = df1[\"길이리스트\"].apply(lambda x : min(x))\n",
    "    df1 = df1.drop(['가로', '세로'], axis=1)\n",
    "    df1 = df1.sort_values(by=[\"우선순위\"])\n",
    "    return df1"
   ]
  },
  {
   "cell_type": "code",
   "execution_count": 519,
   "id": "62c11c89",
   "metadata": {},
   "outputs": [
    {
     "data": {
      "text/html": [
       "<div>\n",
       "<style scoped>\n",
       "    .dataframe tbody tr th:only-of-type {\n",
       "        vertical-align: middle;\n",
       "    }\n",
       "\n",
       "    .dataframe tbody tr th {\n",
       "        vertical-align: top;\n",
       "    }\n",
       "\n",
       "    .dataframe thead th {\n",
       "        text-align: right;\n",
       "    }\n",
       "</style>\n",
       "<table border=\"1\" class=\"dataframe\">\n",
       "  <thead>\n",
       "    <tr style=\"text-align: right;\">\n",
       "      <th></th>\n",
       "      <th>엔진명</th>\n",
       "      <th>중량</th>\n",
       "      <th>표준공기</th>\n",
       "      <th>납기</th>\n",
       "      <th>베드배치</th>\n",
       "      <th>면적</th>\n",
       "      <th>최소착수요구일</th>\n",
       "      <th>날짜순서</th>\n",
       "      <th>공기순서</th>\n",
       "      <th>크기순서</th>\n",
       "      <th>우선순위</th>\n",
       "      <th>길이리스트</th>\n",
       "      <th>최장길이</th>\n",
       "      <th>최소길이</th>\n",
       "    </tr>\n",
       "  </thead>\n",
       "  <tbody>\n",
       "    <tr>\n",
       "      <th>1</th>\n",
       "      <td>S2</td>\n",
       "      <td>60</td>\n",
       "      <td>3</td>\n",
       "      <td>2024-02-15</td>\n",
       "      <td>0</td>\n",
       "      <td>120</td>\n",
       "      <td>2024-02-12</td>\n",
       "      <td>1.0</td>\n",
       "      <td>1.0</td>\n",
       "      <td>1.0</td>\n",
       "      <td>0.6</td>\n",
       "      <td>[12, 12, 10, 10]</td>\n",
       "      <td>12</td>\n",
       "      <td>10</td>\n",
       "    </tr>\n",
       "    <tr>\n",
       "      <th>0</th>\n",
       "      <td>S1</td>\n",
       "      <td>50</td>\n",
       "      <td>2</td>\n",
       "      <td>2024-02-15</td>\n",
       "      <td>0</td>\n",
       "      <td>100</td>\n",
       "      <td>2024-02-13</td>\n",
       "      <td>2.5</td>\n",
       "      <td>2.5</td>\n",
       "      <td>2.0</td>\n",
       "      <td>1.3</td>\n",
       "      <td>[10, 10, 10, 10]</td>\n",
       "      <td>10</td>\n",
       "      <td>10</td>\n",
       "    </tr>\n",
       "    <tr>\n",
       "      <th>3</th>\n",
       "      <td>S4</td>\n",
       "      <td>20</td>\n",
       "      <td>2</td>\n",
       "      <td>2024-02-15</td>\n",
       "      <td>0</td>\n",
       "      <td>30</td>\n",
       "      <td>2024-02-13</td>\n",
       "      <td>2.5</td>\n",
       "      <td>2.5</td>\n",
       "      <td>3.5</td>\n",
       "      <td>1.6</td>\n",
       "      <td>[6, 6, 5, 5]</td>\n",
       "      <td>6</td>\n",
       "      <td>5</td>\n",
       "    </tr>\n",
       "    <tr>\n",
       "      <th>2</th>\n",
       "      <td>S3</td>\n",
       "      <td>30</td>\n",
       "      <td>1</td>\n",
       "      <td>2024-02-15</td>\n",
       "      <td>0</td>\n",
       "      <td>30</td>\n",
       "      <td>2024-02-14</td>\n",
       "      <td>4.0</td>\n",
       "      <td>4.0</td>\n",
       "      <td>3.5</td>\n",
       "      <td>2.2</td>\n",
       "      <td>[6, 6, 5, 5]</td>\n",
       "      <td>6</td>\n",
       "      <td>5</td>\n",
       "    </tr>\n",
       "  </tbody>\n",
       "</table>\n",
       "</div>"
      ],
      "text/plain": [
       "  엔진명  중량  표준공기         납기  베드배치   면적     최소착수요구일  날짜순서  공기순서  크기순서  우선순위  \\\n",
       "1  S2  60     3 2024-02-15     0  120  2024-02-12   1.0   1.0   1.0   0.6   \n",
       "0  S1  50     2 2024-02-15     0  100  2024-02-13   2.5   2.5   2.0   1.3   \n",
       "3  S4  20     2 2024-02-15     0   30  2024-02-13   2.5   2.5   3.5   1.6   \n",
       "2  S3  30     1 2024-02-15     0   30  2024-02-14   4.0   4.0   3.5   2.2   \n",
       "\n",
       "              길이리스트  최장길이  최소길이  \n",
       "1  [12, 12, 10, 10]    12    10  \n",
       "0  [10, 10, 10, 10]    10    10  \n",
       "3      [6, 6, 5, 5]     6     5  \n",
       "2      [6, 6, 5, 5]     6     5  "
      ]
     },
     "execution_count": 519,
     "metadata": {},
     "output_type": "execute_result"
    }
   ],
   "source": [
    "df1 = 엔진데이터전처리(엔진원데이터)\n",
    "df1"
   ]
  },
  {
   "cell_type": "code",
   "execution_count": 520,
   "id": "4bce4c99",
   "metadata": {},
   "outputs": [
    {
     "name": "stdout",
     "output_type": "stream",
     "text": [
      "  엔진명  우선순위\n",
      "1  S2   3.3\n",
      "0  S1   8.2\n",
      "3  S4   8.5\n",
      "2  S3  13.2\n",
      "  엔진명  우선순위\n",
      "1  S2   3.3\n",
      "0  S1   6.8\n",
      "3  S4  11.3\n",
      "2  S3  11.8\n"
     ]
    }
   ],
   "source": [
    "공기가중치 = [9, 0.5]\n",
    "크기가중치 = [0.5, 9]\n",
    "착수일가중치 = 0.5\n",
    "for 공기가중치, 크기가중치 in zip(공기가중치, 크기가중치):\n",
    "    df2 = 엔진데이터전처리(엔진원데이터)\n",
    "    print(df2[[\"엔진명\", \"우선순위\"]])"
   ]
  },
  {
   "cell_type": "markdown",
   "id": "23c1b482",
   "metadata": {},
   "source": [
    "# 베드 데이터 전처리 함수"
   ]
  },
  {
   "cell_type": "code",
   "execution_count": 521,
   "id": "21a217cc",
   "metadata": {},
   "outputs": [],
   "source": [
    "중량가중치, 크기가중치 = 0.5, 0.7\n",
    "\n",
    "@unpack_df_columns\n",
    "def 베드우선순위구하기(중순, 크순):\n",
    "    global 중량가중치, 크기가중치\n",
    "    result = np.round((중순*중량가중치 + 크순*크기가중치)/3,1)\n",
    "    return result\n",
    "\n",
    "def 면적리스트구하기(길이리스트):\n",
    "    면적리스트 = []\n",
    "    if 길이리스트[0] == 길이리스트[1]:\n",
    "        면적리스트.append(길이리스트[0]*길이리스트[3])\n",
    "    else:\n",
    "        면적리스트  = []\n",
    "        면적리스트.append(길이리스트[0]*길이리스트[3])\n",
    "        면적리스트.append(길이리스트[1]*길이리스트[2])\n",
    "    return 면적리스트"
   ]
  },
  {
   "cell_type": "code",
   "execution_count": 522,
   "id": "e8232335",
   "metadata": {},
   "outputs": [],
   "source": [
    "def 베드데이터전처리(베드원데이터):\n",
    "    df = 베드원데이터.copy()\n",
    "    \n",
    "    df[\"베드구분\"] = df[\"베드명\"].apply(lambda x: x[:1])\n",
    "    df[\"모베드\"] = None\n",
    "    df[\"길이리스트\"] = df[[\"가로\", \"세로\"]].apply(길이리스트만들기, axis=1)\n",
    "    df[\"면적리스트\"] = df[\"길이리스트\"].apply(면적리스트구하기)\n",
    "    df[\"평균면적\"] = df[\"면적리스트\"].apply(lambda x: np.mean(x))\n",
    "    \n",
    "    df[\"중량순서\"] = df[\"가능중량\"].rank(ascending=False)\n",
    "    df[\"크기순서\"] = df[\"평균면적\"].rank(ascending=False)\n",
    "    df[\"우선순위\"] = df[[\"중량순서\", \"크기순서\"]].apply(베드우선순위구하기, axis=1)\n",
    "    \n",
    "    df = df.drop(['가로', '세로'], axis=1)\n",
    "    df = df.sort_values(by=[\"우선순위\"])\n",
    "    return df"
   ]
  },
  {
   "cell_type": "code",
   "execution_count": 523,
   "id": "ff9147f0",
   "metadata": {},
   "outputs": [
    {
     "data": {
      "text/html": [
       "<div>\n",
       "<style scoped>\n",
       "    .dataframe tbody tr th:only-of-type {\n",
       "        vertical-align: middle;\n",
       "    }\n",
       "\n",
       "    .dataframe tbody tr th {\n",
       "        vertical-align: top;\n",
       "    }\n",
       "\n",
       "    .dataframe thead th {\n",
       "        text-align: right;\n",
       "    }\n",
       "</style>\n",
       "<table border=\"1\" class=\"dataframe\">\n",
       "  <thead>\n",
       "    <tr style=\"text-align: right;\">\n",
       "      <th></th>\n",
       "      <th>베드명</th>\n",
       "      <th>가능중량</th>\n",
       "      <th>베드구분</th>\n",
       "      <th>모베드</th>\n",
       "      <th>길이리스트</th>\n",
       "      <th>면적리스트</th>\n",
       "      <th>평균면적</th>\n",
       "      <th>중량순서</th>\n",
       "      <th>크기순서</th>\n",
       "      <th>우선순위</th>\n",
       "    </tr>\n",
       "  </thead>\n",
       "  <tbody>\n",
       "    <tr>\n",
       "      <th>0</th>\n",
       "      <td>A</td>\n",
       "      <td>100</td>\n",
       "      <td>A</td>\n",
       "      <td>None</td>\n",
       "      <td>[20, 20, 10, 10]</td>\n",
       "      <td>[200]</td>\n",
       "      <td>200.0</td>\n",
       "      <td>1.5</td>\n",
       "      <td>1.0</td>\n",
       "      <td>0.5</td>\n",
       "    </tr>\n",
       "    <tr>\n",
       "      <th>1</th>\n",
       "      <td>B</td>\n",
       "      <td>100</td>\n",
       "      <td>B</td>\n",
       "      <td>None</td>\n",
       "      <td>[10, 10, 10, 10]</td>\n",
       "      <td>[100]</td>\n",
       "      <td>100.0</td>\n",
       "      <td>1.5</td>\n",
       "      <td>2.0</td>\n",
       "      <td>0.7</td>\n",
       "    </tr>\n",
       "    <tr>\n",
       "      <th>2</th>\n",
       "      <td>C</td>\n",
       "      <td>30</td>\n",
       "      <td>C</td>\n",
       "      <td>None</td>\n",
       "      <td>[10, 10, 5, 5]</td>\n",
       "      <td>[50]</td>\n",
       "      <td>50.0</td>\n",
       "      <td>3.0</td>\n",
       "      <td>3.0</td>\n",
       "      <td>1.2</td>\n",
       "    </tr>\n",
       "  </tbody>\n",
       "</table>\n",
       "</div>"
      ],
      "text/plain": [
       "  베드명  가능중량 베드구분   모베드             길이리스트  면적리스트   평균면적  중량순서  크기순서  우선순위\n",
       "0   A   100    A  None  [20, 20, 10, 10]  [200]  200.0   1.5   1.0   0.5\n",
       "1   B   100    B  None  [10, 10, 10, 10]  [100]  100.0   1.5   2.0   0.7\n",
       "2   C    30    C  None    [10, 10, 5, 5]   [50]   50.0   3.0   3.0   1.2"
      ]
     },
     "execution_count": 523,
     "metadata": {},
     "output_type": "execute_result"
    }
   ],
   "source": [
    "df2 = 베드데이터전처리(베드원데이터)\n",
    "df2"
   ]
  },
  {
   "cell_type": "code",
   "execution_count": 524,
   "id": "9b59b991",
   "metadata": {},
   "outputs": [
    {
     "name": "stdout",
     "output_type": "stream",
     "text": [
      "  베드구분 베드명  우선순위\n",
      "0    A   A   0.5\n",
      "1    B   B   0.5\n",
      "2    C   C   0.9\n",
      "  베드구분 베드명  우선순위\n",
      "0    A   A   1.0\n",
      "1    B   B   2.0\n",
      "2    C   C   3.0\n"
     ]
    }
   ],
   "source": [
    "중량가중치들 = [0.9, 0.01]\n",
    "크기가중치들 = [0.01, 3]\n",
    "\n",
    "for 중량가중치, 크기가중치 in zip(중량가중치들, 크기가중치들):\n",
    "    df2 = 베드데이터전처리(베드원데이터)\n",
    "    print(df2[[\"베드구분\", \"베드명\", \"우선순위\"]])"
   ]
  },
  {
   "cell_type": "markdown",
   "id": "e7bd96f6",
   "metadata": {},
   "source": [
    "# 달력 함수 정의"
   ]
  },
  {
   "cell_type": "markdown",
   "id": "9b2d6165",
   "metadata": {},
   "source": [
    "## 배치달력함수"
   ]
  },
  {
   "cell_type": "code",
   "execution_count": 525,
   "id": "8fd2df35",
   "metadata": {
    "scrolled": true
   },
   "outputs": [],
   "source": [
    "def create_init_calendar(시작년:int, 시작월:int, 종료년:int, 종료월:int, 베드집합):\n",
    "    start_date = datetime(시작년, 시작월, 1)\n",
    "    end_date = datetime(종료년, 종료월, 29)\n",
    "    날짜집합  = pd.date_range(start=start_date, end=end_date, freq='D')\n",
    "    \n",
    "    배치달력 = pd.DataFrame()\n",
    "    배치달력.index = 날짜집합\n",
    "   \n",
    "    for 베드 in 베드집합:\n",
    "        배치달력[f\"{베드}\"] = 0\n",
    "\n",
    "    return 배치달력"
   ]
  },
  {
   "cell_type": "code",
   "execution_count": 526,
   "id": "3f180080",
   "metadata": {
    "scrolled": true
   },
   "outputs": [
    {
     "data": {
      "text/html": [
       "<div>\n",
       "<style scoped>\n",
       "    .dataframe tbody tr th:only-of-type {\n",
       "        vertical-align: middle;\n",
       "    }\n",
       "\n",
       "    .dataframe tbody tr th {\n",
       "        vertical-align: top;\n",
       "    }\n",
       "\n",
       "    .dataframe thead th {\n",
       "        text-align: right;\n",
       "    }\n",
       "</style>\n",
       "<table border=\"1\" class=\"dataframe\">\n",
       "  <thead>\n",
       "    <tr style=\"text-align: right;\">\n",
       "      <th></th>\n",
       "      <th>A</th>\n",
       "      <th>B</th>\n",
       "      <th>C</th>\n",
       "    </tr>\n",
       "  </thead>\n",
       "  <tbody>\n",
       "    <tr>\n",
       "      <th>2024-02-01</th>\n",
       "      <td>0</td>\n",
       "      <td>0</td>\n",
       "      <td>0</td>\n",
       "    </tr>\n",
       "    <tr>\n",
       "      <th>2024-02-02</th>\n",
       "      <td>0</td>\n",
       "      <td>0</td>\n",
       "      <td>0</td>\n",
       "    </tr>\n",
       "    <tr>\n",
       "      <th>2024-02-03</th>\n",
       "      <td>0</td>\n",
       "      <td>0</td>\n",
       "      <td>0</td>\n",
       "    </tr>\n",
       "    <tr>\n",
       "      <th>2024-02-04</th>\n",
       "      <td>0</td>\n",
       "      <td>0</td>\n",
       "      <td>0</td>\n",
       "    </tr>\n",
       "    <tr>\n",
       "      <th>2024-02-05</th>\n",
       "      <td>0</td>\n",
       "      <td>0</td>\n",
       "      <td>0</td>\n",
       "    </tr>\n",
       "  </tbody>\n",
       "</table>\n",
       "</div>"
      ],
      "text/plain": [
       "            A  B  C\n",
       "2024-02-01  0  0  0\n",
       "2024-02-02  0  0  0\n",
       "2024-02-03  0  0  0\n",
       "2024-02-04  0  0  0\n",
       "2024-02-05  0  0  0"
      ]
     },
     "execution_count": 526,
     "metadata": {},
     "output_type": "execute_result"
    }
   ],
   "source": [
    "베드집합 = 베드원데이터[\"베드명\"].unique().tolist()\n",
    "배치달력 = create_init_calendar(2024, 2, 2024, 2, 베드집합)\n",
    "배치달력.head()"
   ]
  },
  {
   "cell_type": "code",
   "execution_count": 527,
   "id": "07003899",
   "metadata": {},
   "outputs": [],
   "source": [
    "def update_배치달력(배치달력, 베드명, 착수날짜, 필요공기, 베드집합):\n",
    "    \n",
    "    신규칼럼리스트 = 베드집합.copy()\n",
    "    try:\n",
    "        for 현칼럼 in 배치달력.columns:\n",
    "            신규칼럼리스트.remove(현칼럼)  # 신규칼럼만 남기기 위해\n",
    "\n",
    "        for 신규칼럼 in 신규칼럼리스트:\n",
    "            # 신규칼럼에는 모베드의 배치달력 정보를 카피(모베드의 제약조건을 승계하도록)\n",
    "            배치달력[f\"{신규칼럼}\"] = 배치달력[f\"{신규칼럼[:1]}\"]\n",
    "\n",
    "        시점인덱스 = list(배치달력.index.strftime('%Y-%m-%d')).index(착수날짜)\n",
    "        배치달력[f\"{베드명}\"].iloc[시점인덱스:시점인덱스+필요공기] = 1\n",
    "        return 배치달력\n",
    "    \n",
    "    except:\n",
    "        return 배치달력"
   ]
  },
  {
   "cell_type": "markdown",
   "id": "7056e00f",
   "metadata": {},
   "source": [
    "## 공기달력 함수"
   ]
  },
  {
   "cell_type": "code",
   "execution_count": 528,
   "id": "83bbc762",
   "metadata": {
    "scrolled": true
   },
   "outputs": [],
   "source": [
    "def create_공기달력(배치달력, 날짜집합, 베드집합):\n",
    "    total_list = []\n",
    "\n",
    "    for 베드 in 베드집합:\n",
    "        검토대상 = 배치달력[f\"{베드}\"].tolist()\n",
    "\n",
    "        new_list = []\n",
    "        new_num = 0\n",
    "        for idx, i in enumerate(검토대상):\n",
    "            if i == 0:\n",
    "                new_num = new_num  + 1\n",
    "                new_list.append(new_num)\n",
    "            else:\n",
    "                new_list.append(0)\n",
    "                new_num = 0\n",
    "        total_list.append(new_list)\n",
    "        \n",
    "    new_total = []\n",
    "    for original_list in total_list:\n",
    "\n",
    "        result_list = []\n",
    "        group = []\n",
    "        for num in original_list:\n",
    "            if num == 0 and group:\n",
    "                result_list.extend(reversed(group))\n",
    "                group = []\n",
    "            group.append(num)\n",
    "\n",
    "        result_list.extend(reversed(group))\n",
    "\n",
    "        new_total.append(result_list)\n",
    "\n",
    "    공기달력 = pd.DataFrame()\n",
    "    공기달력.index = 날짜집합\n",
    "\n",
    "    for idx, 베드 in enumerate(베드집합):\n",
    "        공기달력[f\"{베드}\"] =  new_total[idx]\n",
    "\n",
    "    for 베드 in 베드집합:\n",
    "        if 공기달력[f\"{베드}\"][0]== 0:\n",
    "            공기달력[f\"{베드}\"] = 공기달력[f\"{베드}\"].shift(1)\n",
    "        else:\n",
    "            pass\n",
    "    공기달력.fillna(0, inplace=True)\n",
    "    return 공기달력"
   ]
  },
  {
   "cell_type": "code",
   "execution_count": 529,
   "id": "b0b1c493",
   "metadata": {},
   "outputs": [
    {
     "data": {
      "text/html": [
       "<div>\n",
       "<style scoped>\n",
       "    .dataframe tbody tr th:only-of-type {\n",
       "        vertical-align: middle;\n",
       "    }\n",
       "\n",
       "    .dataframe tbody tr th {\n",
       "        vertical-align: top;\n",
       "    }\n",
       "\n",
       "    .dataframe thead th {\n",
       "        text-align: right;\n",
       "    }\n",
       "</style>\n",
       "<table border=\"1\" class=\"dataframe\">\n",
       "  <thead>\n",
       "    <tr style=\"text-align: right;\">\n",
       "      <th></th>\n",
       "      <th>A</th>\n",
       "      <th>B</th>\n",
       "      <th>C</th>\n",
       "    </tr>\n",
       "  </thead>\n",
       "  <tbody>\n",
       "    <tr>\n",
       "      <th>2024-02-01</th>\n",
       "      <td>29</td>\n",
       "      <td>29</td>\n",
       "      <td>29</td>\n",
       "    </tr>\n",
       "    <tr>\n",
       "      <th>2024-02-02</th>\n",
       "      <td>28</td>\n",
       "      <td>28</td>\n",
       "      <td>28</td>\n",
       "    </tr>\n",
       "    <tr>\n",
       "      <th>2024-02-03</th>\n",
       "      <td>27</td>\n",
       "      <td>27</td>\n",
       "      <td>27</td>\n",
       "    </tr>\n",
       "    <tr>\n",
       "      <th>2024-02-04</th>\n",
       "      <td>26</td>\n",
       "      <td>26</td>\n",
       "      <td>26</td>\n",
       "    </tr>\n",
       "    <tr>\n",
       "      <th>2024-02-05</th>\n",
       "      <td>25</td>\n",
       "      <td>25</td>\n",
       "      <td>25</td>\n",
       "    </tr>\n",
       "  </tbody>\n",
       "</table>\n",
       "</div>"
      ],
      "text/plain": [
       "             A   B   C\n",
       "2024-02-01  29  29  29\n",
       "2024-02-02  28  28  28\n",
       "2024-02-03  27  27  27\n",
       "2024-02-04  26  26  26\n",
       "2024-02-05  25  25  25"
      ]
     },
     "execution_count": 529,
     "metadata": {},
     "output_type": "execute_result"
    }
   ],
   "source": [
    "공기달력 = create_공기달력(배치달력, 날짜집합, 베드집합)\n",
    "공기달력.head()"
   ]
  },
  {
   "cell_type": "markdown",
   "id": "b3404e88",
   "metadata": {},
   "source": [
    "## 공백순서달력(first_zero) 함수"
   ]
  },
  {
   "cell_type": "code",
   "execution_count": 530,
   "id": "a9eec077",
   "metadata": {},
   "outputs": [],
   "source": [
    "def create_공백순서달력(배치달력, 날짜집합):\n",
    "    total = []\n",
    "    베드집합 = 배치달력.columns.tolist()\n",
    "\n",
    "    for 베드 in 배치달력.columns.tolist():\n",
    "        \n",
    "        input_list = 배치달력[f\"{베드}\"].tolist()\n",
    "        \n",
    "        counter = 1\n",
    "        result_list = []\n",
    "\n",
    "        for idx, x in enumerate(input_list):\n",
    "\n",
    "            if idx == 0:\n",
    "                if x == 1:\n",
    "                    result_list.append(0)\n",
    "                else:\n",
    "                    result_list.append(counter)\n",
    "                    counter += 1\n",
    "\n",
    "            else:   \n",
    "                if input_list[idx-1] == 1 and x == 0:\n",
    "                    result_list.append(counter)\n",
    "                    counter += 1\n",
    "                else:\n",
    "                    result_list.append(0)\n",
    "\n",
    "        total.append(result_list)\n",
    "\n",
    "    공백순서달력 = pd.DataFrame()\n",
    "    공백순서달력.index = 날짜집합\n",
    "\n",
    "    for idx, 베드 in enumerate(배치달력.columns.tolist()):\n",
    "        공백순서달력[f\"{베드}\"] =  total[idx]\n",
    "\n",
    "    return 공백순서달력"
   ]
  },
  {
   "cell_type": "code",
   "execution_count": 531,
   "id": "e2802a23",
   "metadata": {
    "scrolled": true
   },
   "outputs": [
    {
     "data": {
      "text/html": [
       "<div>\n",
       "<style scoped>\n",
       "    .dataframe tbody tr th:only-of-type {\n",
       "        vertical-align: middle;\n",
       "    }\n",
       "\n",
       "    .dataframe tbody tr th {\n",
       "        vertical-align: top;\n",
       "    }\n",
       "\n",
       "    .dataframe thead th {\n",
       "        text-align: right;\n",
       "    }\n",
       "</style>\n",
       "<table border=\"1\" class=\"dataframe\">\n",
       "  <thead>\n",
       "    <tr style=\"text-align: right;\">\n",
       "      <th></th>\n",
       "      <th>A</th>\n",
       "      <th>B</th>\n",
       "      <th>C</th>\n",
       "    </tr>\n",
       "  </thead>\n",
       "  <tbody>\n",
       "    <tr>\n",
       "      <th>2024-02-01</th>\n",
       "      <td>1</td>\n",
       "      <td>1</td>\n",
       "      <td>1</td>\n",
       "    </tr>\n",
       "    <tr>\n",
       "      <th>2024-02-02</th>\n",
       "      <td>0</td>\n",
       "      <td>0</td>\n",
       "      <td>0</td>\n",
       "    </tr>\n",
       "    <tr>\n",
       "      <th>2024-02-03</th>\n",
       "      <td>0</td>\n",
       "      <td>0</td>\n",
       "      <td>0</td>\n",
       "    </tr>\n",
       "    <tr>\n",
       "      <th>2024-02-04</th>\n",
       "      <td>0</td>\n",
       "      <td>0</td>\n",
       "      <td>0</td>\n",
       "    </tr>\n",
       "    <tr>\n",
       "      <th>2024-02-05</th>\n",
       "      <td>0</td>\n",
       "      <td>0</td>\n",
       "      <td>0</td>\n",
       "    </tr>\n",
       "  </tbody>\n",
       "</table>\n",
       "</div>"
      ],
      "text/plain": [
       "            A  B  C\n",
       "2024-02-01  1  1  1\n",
       "2024-02-02  0  0  0\n",
       "2024-02-03  0  0  0\n",
       "2024-02-04  0  0  0\n",
       "2024-02-05  0  0  0"
      ]
     },
     "execution_count": 531,
     "metadata": {},
     "output_type": "execute_result"
    }
   ],
   "source": [
    "공백순서달력 = create_공백순서달력(배치달력, 날짜집합)\n",
    "공백순서달력.head()"
   ]
  },
  {
   "cell_type": "markdown",
   "id": "f91e0588",
   "metadata": {},
   "source": [
    "## 착수가능일찾기 함수"
   ]
  },
  {
   "cell_type": "code",
   "execution_count": 532,
   "id": "8bc240f6",
   "metadata": {},
   "outputs": [],
   "source": [
    "def 착수가능일찾기(공기달력, 공백순서달력, 베드, 표준공기):\n",
    "    first_zeros = []\n",
    "    \n",
    "    for idx, i in enumerate(공백순서달력[f\"{베드}\"].tolist()):\n",
    "        if i != 0:\n",
    "            first_zeros.append(공백순서달력.index.strftime('%Y-%m-%d').values[idx])\n",
    "\n",
    "    for idx, 착수가능일 in enumerate(first_zeros):\n",
    "        착수가능일인덱스 = list(공기달력.index.strftime('%Y-%m-%d')).index(first_zeros[idx])\n",
    "        착수가능일의확보가능공기 = 공기달력[f\"{베드}\"].iloc[착수가능일인덱스]\n",
    "        \n",
    "        if 착수가능일의확보가능공기 > 표준공기:\n",
    "            return 착수가능일 \n",
    "        else:\n",
    "            pass"
   ]
  },
  {
   "cell_type": "code",
   "execution_count": 533,
   "id": "6c4b3f41",
   "metadata": {},
   "outputs": [
    {
     "data": {
      "text/plain": [
       "'2024-02-01'"
      ]
     },
     "execution_count": 533,
     "metadata": {},
     "output_type": "execute_result"
    }
   ],
   "source": [
    "착수가능일찾기(공기달력, 공백순서달력, \"A\", 4)"
   ]
  },
  {
   "cell_type": "markdown",
   "id": "a539ddba",
   "metadata": {},
   "source": [
    "# 간트차트 함수"
   ]
  },
  {
   "cell_type": "code",
   "execution_count": 534,
   "id": "d38461f9",
   "metadata": {},
   "outputs": [],
   "source": [
    "import plotly.express as px\n",
    "def draw_gant(df):\n",
    "    fig = px.timeline(\n",
    "        \n",
    "        df, \n",
    "        x_start=\"착수일\", \n",
    "        x_end=\"종료일\", \n",
    "        y=\"베드명\",\n",
    "        color=\"베드구분\",\n",
    "        hover_data = [\"표준공기\", \"조립중량\"],\n",
    "        text = \"차트텍스트\",\n",
    "        opacity=0.7\n",
    "        )\n",
    "\n",
    "    fig.update_yaxes(autorange=\"reversed\")          #if not specified as 'reversed', the tasks will be listed from bottom up       \n",
    "    fig.update_layout(\n",
    "                    # title='Project Plan Gantt Chart',\n",
    "                    hoverlabel_bgcolor='#DAEEED',   #Change the hover tooltip background color to a universal light blue color. If not specified, the background color will vary by team or completion pct, depending on what view the user chooses\n",
    "                    bargap=0.2,\n",
    "                    height=500,              \n",
    "                    xaxis_title=\"\", \n",
    "                    yaxis_title=\"베드명\", \n",
    "                    font=dict(\n",
    "                        family=\"Courier New, monospace\",\n",
    "                        size=12,  # Set the font size here\n",
    "                        color=\"RebeccaPurple\"\n",
    "                        ),\n",
    "    )\n",
    "    fig.show()"
   ]
  },
  {
   "cell_type": "markdown",
   "id": "ce2c4bb5",
   "metadata": {},
   "source": [
    "# 달력생성 및 업데이트 연습"
   ]
  },
  {
   "cell_type": "markdown",
   "id": "6c8f85c3",
   "metadata": {},
   "source": [
    "## 최초달력생성"
   ]
  },
  {
   "cell_type": "code",
   "execution_count": 535,
   "id": "51385a8d",
   "metadata": {
    "scrolled": true
   },
   "outputs": [
    {
     "data": {
      "text/html": [
       "<div>\n",
       "<style scoped>\n",
       "    .dataframe tbody tr th:only-of-type {\n",
       "        vertical-align: middle;\n",
       "    }\n",
       "\n",
       "    .dataframe tbody tr th {\n",
       "        vertical-align: top;\n",
       "    }\n",
       "\n",
       "    .dataframe thead th {\n",
       "        text-align: right;\n",
       "    }\n",
       "</style>\n",
       "<table border=\"1\" class=\"dataframe\">\n",
       "  <thead>\n",
       "    <tr style=\"text-align: right;\">\n",
       "      <th></th>\n",
       "      <th>A</th>\n",
       "      <th>B</th>\n",
       "      <th>C</th>\n",
       "    </tr>\n",
       "  </thead>\n",
       "  <tbody>\n",
       "    <tr>\n",
       "      <th>2024-02-01</th>\n",
       "      <td>0</td>\n",
       "      <td>0</td>\n",
       "      <td>0</td>\n",
       "    </tr>\n",
       "    <tr>\n",
       "      <th>2024-02-02</th>\n",
       "      <td>0</td>\n",
       "      <td>0</td>\n",
       "      <td>0</td>\n",
       "    </tr>\n",
       "    <tr>\n",
       "      <th>2024-02-03</th>\n",
       "      <td>0</td>\n",
       "      <td>0</td>\n",
       "      <td>0</td>\n",
       "    </tr>\n",
       "    <tr>\n",
       "      <th>2024-02-04</th>\n",
       "      <td>0</td>\n",
       "      <td>0</td>\n",
       "      <td>0</td>\n",
       "    </tr>\n",
       "    <tr>\n",
       "      <th>2024-02-05</th>\n",
       "      <td>0</td>\n",
       "      <td>0</td>\n",
       "      <td>0</td>\n",
       "    </tr>\n",
       "    <tr>\n",
       "      <th>2024-02-06</th>\n",
       "      <td>0</td>\n",
       "      <td>0</td>\n",
       "      <td>0</td>\n",
       "    </tr>\n",
       "    <tr>\n",
       "      <th>2024-02-07</th>\n",
       "      <td>0</td>\n",
       "      <td>0</td>\n",
       "      <td>0</td>\n",
       "    </tr>\n",
       "    <tr>\n",
       "      <th>2024-02-08</th>\n",
       "      <td>0</td>\n",
       "      <td>0</td>\n",
       "      <td>0</td>\n",
       "    </tr>\n",
       "    <tr>\n",
       "      <th>2024-02-09</th>\n",
       "      <td>0</td>\n",
       "      <td>0</td>\n",
       "      <td>0</td>\n",
       "    </tr>\n",
       "    <tr>\n",
       "      <th>2024-02-10</th>\n",
       "      <td>0</td>\n",
       "      <td>0</td>\n",
       "      <td>0</td>\n",
       "    </tr>\n",
       "    <tr>\n",
       "      <th>2024-02-11</th>\n",
       "      <td>0</td>\n",
       "      <td>0</td>\n",
       "      <td>0</td>\n",
       "    </tr>\n",
       "    <tr>\n",
       "      <th>2024-02-12</th>\n",
       "      <td>0</td>\n",
       "      <td>0</td>\n",
       "      <td>0</td>\n",
       "    </tr>\n",
       "    <tr>\n",
       "      <th>2024-02-13</th>\n",
       "      <td>0</td>\n",
       "      <td>0</td>\n",
       "      <td>0</td>\n",
       "    </tr>\n",
       "    <tr>\n",
       "      <th>2024-02-14</th>\n",
       "      <td>0</td>\n",
       "      <td>0</td>\n",
       "      <td>0</td>\n",
       "    </tr>\n",
       "    <tr>\n",
       "      <th>2024-02-15</th>\n",
       "      <td>0</td>\n",
       "      <td>0</td>\n",
       "      <td>0</td>\n",
       "    </tr>\n",
       "    <tr>\n",
       "      <th>2024-02-16</th>\n",
       "      <td>0</td>\n",
       "      <td>0</td>\n",
       "      <td>0</td>\n",
       "    </tr>\n",
       "    <tr>\n",
       "      <th>2024-02-17</th>\n",
       "      <td>0</td>\n",
       "      <td>0</td>\n",
       "      <td>0</td>\n",
       "    </tr>\n",
       "    <tr>\n",
       "      <th>2024-02-18</th>\n",
       "      <td>0</td>\n",
       "      <td>0</td>\n",
       "      <td>0</td>\n",
       "    </tr>\n",
       "    <tr>\n",
       "      <th>2024-02-19</th>\n",
       "      <td>0</td>\n",
       "      <td>0</td>\n",
       "      <td>0</td>\n",
       "    </tr>\n",
       "    <tr>\n",
       "      <th>2024-02-20</th>\n",
       "      <td>0</td>\n",
       "      <td>0</td>\n",
       "      <td>0</td>\n",
       "    </tr>\n",
       "    <tr>\n",
       "      <th>2024-02-21</th>\n",
       "      <td>0</td>\n",
       "      <td>0</td>\n",
       "      <td>0</td>\n",
       "    </tr>\n",
       "    <tr>\n",
       "      <th>2024-02-22</th>\n",
       "      <td>0</td>\n",
       "      <td>0</td>\n",
       "      <td>0</td>\n",
       "    </tr>\n",
       "    <tr>\n",
       "      <th>2024-02-23</th>\n",
       "      <td>0</td>\n",
       "      <td>0</td>\n",
       "      <td>0</td>\n",
       "    </tr>\n",
       "    <tr>\n",
       "      <th>2024-02-24</th>\n",
       "      <td>0</td>\n",
       "      <td>0</td>\n",
       "      <td>0</td>\n",
       "    </tr>\n",
       "    <tr>\n",
       "      <th>2024-02-25</th>\n",
       "      <td>0</td>\n",
       "      <td>0</td>\n",
       "      <td>0</td>\n",
       "    </tr>\n",
       "    <tr>\n",
       "      <th>2024-02-26</th>\n",
       "      <td>0</td>\n",
       "      <td>0</td>\n",
       "      <td>0</td>\n",
       "    </tr>\n",
       "    <tr>\n",
       "      <th>2024-02-27</th>\n",
       "      <td>0</td>\n",
       "      <td>0</td>\n",
       "      <td>0</td>\n",
       "    </tr>\n",
       "    <tr>\n",
       "      <th>2024-02-28</th>\n",
       "      <td>0</td>\n",
       "      <td>0</td>\n",
       "      <td>0</td>\n",
       "    </tr>\n",
       "    <tr>\n",
       "      <th>2024-02-29</th>\n",
       "      <td>0</td>\n",
       "      <td>0</td>\n",
       "      <td>0</td>\n",
       "    </tr>\n",
       "  </tbody>\n",
       "</table>\n",
       "</div>"
      ],
      "text/plain": [
       "            A  B  C\n",
       "2024-02-01  0  0  0\n",
       "2024-02-02  0  0  0\n",
       "2024-02-03  0  0  0\n",
       "2024-02-04  0  0  0\n",
       "2024-02-05  0  0  0\n",
       "2024-02-06  0  0  0\n",
       "2024-02-07  0  0  0\n",
       "2024-02-08  0  0  0\n",
       "2024-02-09  0  0  0\n",
       "2024-02-10  0  0  0\n",
       "2024-02-11  0  0  0\n",
       "2024-02-12  0  0  0\n",
       "2024-02-13  0  0  0\n",
       "2024-02-14  0  0  0\n",
       "2024-02-15  0  0  0\n",
       "2024-02-16  0  0  0\n",
       "2024-02-17  0  0  0\n",
       "2024-02-18  0  0  0\n",
       "2024-02-19  0  0  0\n",
       "2024-02-20  0  0  0\n",
       "2024-02-21  0  0  0\n",
       "2024-02-22  0  0  0\n",
       "2024-02-23  0  0  0\n",
       "2024-02-24  0  0  0\n",
       "2024-02-25  0  0  0\n",
       "2024-02-26  0  0  0\n",
       "2024-02-27  0  0  0\n",
       "2024-02-28  0  0  0\n",
       "2024-02-29  0  0  0"
      ]
     },
     "execution_count": 535,
     "metadata": {},
     "output_type": "execute_result"
    }
   ],
   "source": [
    "배치달력 = create_init_calendar(2024, 2, 2024, 2, 최초베드집합)\n",
    "# 배치달력.iloc[:2,:] = 1   ## 날짜 계산의 편의를 위해 초반 2일을 배치상태로 설정\n",
    "배치달력"
   ]
  },
  {
   "cell_type": "code",
   "execution_count": 536,
   "id": "cab72eea",
   "metadata": {
    "scrolled": true
   },
   "outputs": [
    {
     "data": {
      "text/html": [
       "<div>\n",
       "<style scoped>\n",
       "    .dataframe tbody tr th:only-of-type {\n",
       "        vertical-align: middle;\n",
       "    }\n",
       "\n",
       "    .dataframe tbody tr th {\n",
       "        vertical-align: top;\n",
       "    }\n",
       "\n",
       "    .dataframe thead th {\n",
       "        text-align: right;\n",
       "    }\n",
       "</style>\n",
       "<table border=\"1\" class=\"dataframe\">\n",
       "  <thead>\n",
       "    <tr style=\"text-align: right;\">\n",
       "      <th></th>\n",
       "      <th>A</th>\n",
       "      <th>B</th>\n",
       "      <th>C</th>\n",
       "    </tr>\n",
       "  </thead>\n",
       "  <tbody>\n",
       "    <tr>\n",
       "      <th>2024-02-01</th>\n",
       "      <td>29</td>\n",
       "      <td>29</td>\n",
       "      <td>29</td>\n",
       "    </tr>\n",
       "    <tr>\n",
       "      <th>2024-02-02</th>\n",
       "      <td>28</td>\n",
       "      <td>28</td>\n",
       "      <td>28</td>\n",
       "    </tr>\n",
       "    <tr>\n",
       "      <th>2024-02-03</th>\n",
       "      <td>27</td>\n",
       "      <td>27</td>\n",
       "      <td>27</td>\n",
       "    </tr>\n",
       "    <tr>\n",
       "      <th>2024-02-04</th>\n",
       "      <td>26</td>\n",
       "      <td>26</td>\n",
       "      <td>26</td>\n",
       "    </tr>\n",
       "    <tr>\n",
       "      <th>2024-02-05</th>\n",
       "      <td>25</td>\n",
       "      <td>25</td>\n",
       "      <td>25</td>\n",
       "    </tr>\n",
       "    <tr>\n",
       "      <th>2024-02-06</th>\n",
       "      <td>24</td>\n",
       "      <td>24</td>\n",
       "      <td>24</td>\n",
       "    </tr>\n",
       "    <tr>\n",
       "      <th>2024-02-07</th>\n",
       "      <td>23</td>\n",
       "      <td>23</td>\n",
       "      <td>23</td>\n",
       "    </tr>\n",
       "    <tr>\n",
       "      <th>2024-02-08</th>\n",
       "      <td>22</td>\n",
       "      <td>22</td>\n",
       "      <td>22</td>\n",
       "    </tr>\n",
       "    <tr>\n",
       "      <th>2024-02-09</th>\n",
       "      <td>21</td>\n",
       "      <td>21</td>\n",
       "      <td>21</td>\n",
       "    </tr>\n",
       "    <tr>\n",
       "      <th>2024-02-10</th>\n",
       "      <td>20</td>\n",
       "      <td>20</td>\n",
       "      <td>20</td>\n",
       "    </tr>\n",
       "    <tr>\n",
       "      <th>2024-02-11</th>\n",
       "      <td>19</td>\n",
       "      <td>19</td>\n",
       "      <td>19</td>\n",
       "    </tr>\n",
       "    <tr>\n",
       "      <th>2024-02-12</th>\n",
       "      <td>18</td>\n",
       "      <td>18</td>\n",
       "      <td>18</td>\n",
       "    </tr>\n",
       "    <tr>\n",
       "      <th>2024-02-13</th>\n",
       "      <td>17</td>\n",
       "      <td>17</td>\n",
       "      <td>17</td>\n",
       "    </tr>\n",
       "    <tr>\n",
       "      <th>2024-02-14</th>\n",
       "      <td>16</td>\n",
       "      <td>16</td>\n",
       "      <td>16</td>\n",
       "    </tr>\n",
       "    <tr>\n",
       "      <th>2024-02-15</th>\n",
       "      <td>15</td>\n",
       "      <td>15</td>\n",
       "      <td>15</td>\n",
       "    </tr>\n",
       "    <tr>\n",
       "      <th>2024-02-16</th>\n",
       "      <td>14</td>\n",
       "      <td>14</td>\n",
       "      <td>14</td>\n",
       "    </tr>\n",
       "    <tr>\n",
       "      <th>2024-02-17</th>\n",
       "      <td>13</td>\n",
       "      <td>13</td>\n",
       "      <td>13</td>\n",
       "    </tr>\n",
       "    <tr>\n",
       "      <th>2024-02-18</th>\n",
       "      <td>12</td>\n",
       "      <td>12</td>\n",
       "      <td>12</td>\n",
       "    </tr>\n",
       "    <tr>\n",
       "      <th>2024-02-19</th>\n",
       "      <td>11</td>\n",
       "      <td>11</td>\n",
       "      <td>11</td>\n",
       "    </tr>\n",
       "    <tr>\n",
       "      <th>2024-02-20</th>\n",
       "      <td>10</td>\n",
       "      <td>10</td>\n",
       "      <td>10</td>\n",
       "    </tr>\n",
       "    <tr>\n",
       "      <th>2024-02-21</th>\n",
       "      <td>9</td>\n",
       "      <td>9</td>\n",
       "      <td>9</td>\n",
       "    </tr>\n",
       "    <tr>\n",
       "      <th>2024-02-22</th>\n",
       "      <td>8</td>\n",
       "      <td>8</td>\n",
       "      <td>8</td>\n",
       "    </tr>\n",
       "    <tr>\n",
       "      <th>2024-02-23</th>\n",
       "      <td>7</td>\n",
       "      <td>7</td>\n",
       "      <td>7</td>\n",
       "    </tr>\n",
       "    <tr>\n",
       "      <th>2024-02-24</th>\n",
       "      <td>6</td>\n",
       "      <td>6</td>\n",
       "      <td>6</td>\n",
       "    </tr>\n",
       "    <tr>\n",
       "      <th>2024-02-25</th>\n",
       "      <td>5</td>\n",
       "      <td>5</td>\n",
       "      <td>5</td>\n",
       "    </tr>\n",
       "    <tr>\n",
       "      <th>2024-02-26</th>\n",
       "      <td>4</td>\n",
       "      <td>4</td>\n",
       "      <td>4</td>\n",
       "    </tr>\n",
       "    <tr>\n",
       "      <th>2024-02-27</th>\n",
       "      <td>3</td>\n",
       "      <td>3</td>\n",
       "      <td>3</td>\n",
       "    </tr>\n",
       "    <tr>\n",
       "      <th>2024-02-28</th>\n",
       "      <td>2</td>\n",
       "      <td>2</td>\n",
       "      <td>2</td>\n",
       "    </tr>\n",
       "    <tr>\n",
       "      <th>2024-02-29</th>\n",
       "      <td>1</td>\n",
       "      <td>1</td>\n",
       "      <td>1</td>\n",
       "    </tr>\n",
       "  </tbody>\n",
       "</table>\n",
       "</div>"
      ],
      "text/plain": [
       "             A   B   C\n",
       "2024-02-01  29  29  29\n",
       "2024-02-02  28  28  28\n",
       "2024-02-03  27  27  27\n",
       "2024-02-04  26  26  26\n",
       "2024-02-05  25  25  25\n",
       "2024-02-06  24  24  24\n",
       "2024-02-07  23  23  23\n",
       "2024-02-08  22  22  22\n",
       "2024-02-09  21  21  21\n",
       "2024-02-10  20  20  20\n",
       "2024-02-11  19  19  19\n",
       "2024-02-12  18  18  18\n",
       "2024-02-13  17  17  17\n",
       "2024-02-14  16  16  16\n",
       "2024-02-15  15  15  15\n",
       "2024-02-16  14  14  14\n",
       "2024-02-17  13  13  13\n",
       "2024-02-18  12  12  12\n",
       "2024-02-19  11  11  11\n",
       "2024-02-20  10  10  10\n",
       "2024-02-21   9   9   9\n",
       "2024-02-22   8   8   8\n",
       "2024-02-23   7   7   7\n",
       "2024-02-24   6   6   6\n",
       "2024-02-25   5   5   5\n",
       "2024-02-26   4   4   4\n",
       "2024-02-27   3   3   3\n",
       "2024-02-28   2   2   2\n",
       "2024-02-29   1   1   1"
      ]
     },
     "execution_count": 536,
     "metadata": {},
     "output_type": "execute_result"
    }
   ],
   "source": [
    "베드집합 = 배치달력. columns.tolist()\n",
    "공기달력 = create_공기달력(배치달력, 날짜집합, 베드집합)\n",
    "공기달력"
   ]
  },
  {
   "cell_type": "code",
   "execution_count": 537,
   "id": "a1a14621",
   "metadata": {
    "scrolled": true
   },
   "outputs": [
    {
     "data": {
      "text/html": [
       "<div>\n",
       "<style scoped>\n",
       "    .dataframe tbody tr th:only-of-type {\n",
       "        vertical-align: middle;\n",
       "    }\n",
       "\n",
       "    .dataframe tbody tr th {\n",
       "        vertical-align: top;\n",
       "    }\n",
       "\n",
       "    .dataframe thead th {\n",
       "        text-align: right;\n",
       "    }\n",
       "</style>\n",
       "<table border=\"1\" class=\"dataframe\">\n",
       "  <thead>\n",
       "    <tr style=\"text-align: right;\">\n",
       "      <th></th>\n",
       "      <th>A</th>\n",
       "      <th>B</th>\n",
       "      <th>C</th>\n",
       "    </tr>\n",
       "  </thead>\n",
       "  <tbody>\n",
       "    <tr>\n",
       "      <th>2024-02-01</th>\n",
       "      <td>1</td>\n",
       "      <td>1</td>\n",
       "      <td>1</td>\n",
       "    </tr>\n",
       "    <tr>\n",
       "      <th>2024-02-02</th>\n",
       "      <td>0</td>\n",
       "      <td>0</td>\n",
       "      <td>0</td>\n",
       "    </tr>\n",
       "    <tr>\n",
       "      <th>2024-02-03</th>\n",
       "      <td>0</td>\n",
       "      <td>0</td>\n",
       "      <td>0</td>\n",
       "    </tr>\n",
       "    <tr>\n",
       "      <th>2024-02-04</th>\n",
       "      <td>0</td>\n",
       "      <td>0</td>\n",
       "      <td>0</td>\n",
       "    </tr>\n",
       "    <tr>\n",
       "      <th>2024-02-05</th>\n",
       "      <td>0</td>\n",
       "      <td>0</td>\n",
       "      <td>0</td>\n",
       "    </tr>\n",
       "    <tr>\n",
       "      <th>2024-02-06</th>\n",
       "      <td>0</td>\n",
       "      <td>0</td>\n",
       "      <td>0</td>\n",
       "    </tr>\n",
       "    <tr>\n",
       "      <th>2024-02-07</th>\n",
       "      <td>0</td>\n",
       "      <td>0</td>\n",
       "      <td>0</td>\n",
       "    </tr>\n",
       "    <tr>\n",
       "      <th>2024-02-08</th>\n",
       "      <td>0</td>\n",
       "      <td>0</td>\n",
       "      <td>0</td>\n",
       "    </tr>\n",
       "    <tr>\n",
       "      <th>2024-02-09</th>\n",
       "      <td>0</td>\n",
       "      <td>0</td>\n",
       "      <td>0</td>\n",
       "    </tr>\n",
       "    <tr>\n",
       "      <th>2024-02-10</th>\n",
       "      <td>0</td>\n",
       "      <td>0</td>\n",
       "      <td>0</td>\n",
       "    </tr>\n",
       "    <tr>\n",
       "      <th>2024-02-11</th>\n",
       "      <td>0</td>\n",
       "      <td>0</td>\n",
       "      <td>0</td>\n",
       "    </tr>\n",
       "    <tr>\n",
       "      <th>2024-02-12</th>\n",
       "      <td>0</td>\n",
       "      <td>0</td>\n",
       "      <td>0</td>\n",
       "    </tr>\n",
       "    <tr>\n",
       "      <th>2024-02-13</th>\n",
       "      <td>0</td>\n",
       "      <td>0</td>\n",
       "      <td>0</td>\n",
       "    </tr>\n",
       "    <tr>\n",
       "      <th>2024-02-14</th>\n",
       "      <td>0</td>\n",
       "      <td>0</td>\n",
       "      <td>0</td>\n",
       "    </tr>\n",
       "    <tr>\n",
       "      <th>2024-02-15</th>\n",
       "      <td>0</td>\n",
       "      <td>0</td>\n",
       "      <td>0</td>\n",
       "    </tr>\n",
       "    <tr>\n",
       "      <th>2024-02-16</th>\n",
       "      <td>0</td>\n",
       "      <td>0</td>\n",
       "      <td>0</td>\n",
       "    </tr>\n",
       "    <tr>\n",
       "      <th>2024-02-17</th>\n",
       "      <td>0</td>\n",
       "      <td>0</td>\n",
       "      <td>0</td>\n",
       "    </tr>\n",
       "    <tr>\n",
       "      <th>2024-02-18</th>\n",
       "      <td>0</td>\n",
       "      <td>0</td>\n",
       "      <td>0</td>\n",
       "    </tr>\n",
       "    <tr>\n",
       "      <th>2024-02-19</th>\n",
       "      <td>0</td>\n",
       "      <td>0</td>\n",
       "      <td>0</td>\n",
       "    </tr>\n",
       "    <tr>\n",
       "      <th>2024-02-20</th>\n",
       "      <td>0</td>\n",
       "      <td>0</td>\n",
       "      <td>0</td>\n",
       "    </tr>\n",
       "    <tr>\n",
       "      <th>2024-02-21</th>\n",
       "      <td>0</td>\n",
       "      <td>0</td>\n",
       "      <td>0</td>\n",
       "    </tr>\n",
       "    <tr>\n",
       "      <th>2024-02-22</th>\n",
       "      <td>0</td>\n",
       "      <td>0</td>\n",
       "      <td>0</td>\n",
       "    </tr>\n",
       "    <tr>\n",
       "      <th>2024-02-23</th>\n",
       "      <td>0</td>\n",
       "      <td>0</td>\n",
       "      <td>0</td>\n",
       "    </tr>\n",
       "    <tr>\n",
       "      <th>2024-02-24</th>\n",
       "      <td>0</td>\n",
       "      <td>0</td>\n",
       "      <td>0</td>\n",
       "    </tr>\n",
       "    <tr>\n",
       "      <th>2024-02-25</th>\n",
       "      <td>0</td>\n",
       "      <td>0</td>\n",
       "      <td>0</td>\n",
       "    </tr>\n",
       "    <tr>\n",
       "      <th>2024-02-26</th>\n",
       "      <td>0</td>\n",
       "      <td>0</td>\n",
       "      <td>0</td>\n",
       "    </tr>\n",
       "    <tr>\n",
       "      <th>2024-02-27</th>\n",
       "      <td>0</td>\n",
       "      <td>0</td>\n",
       "      <td>0</td>\n",
       "    </tr>\n",
       "    <tr>\n",
       "      <th>2024-02-28</th>\n",
       "      <td>0</td>\n",
       "      <td>0</td>\n",
       "      <td>0</td>\n",
       "    </tr>\n",
       "    <tr>\n",
       "      <th>2024-02-29</th>\n",
       "      <td>0</td>\n",
       "      <td>0</td>\n",
       "      <td>0</td>\n",
       "    </tr>\n",
       "  </tbody>\n",
       "</table>\n",
       "</div>"
      ],
      "text/plain": [
       "            A  B  C\n",
       "2024-02-01  1  1  1\n",
       "2024-02-02  0  0  0\n",
       "2024-02-03  0  0  0\n",
       "2024-02-04  0  0  0\n",
       "2024-02-05  0  0  0\n",
       "2024-02-06  0  0  0\n",
       "2024-02-07  0  0  0\n",
       "2024-02-08  0  0  0\n",
       "2024-02-09  0  0  0\n",
       "2024-02-10  0  0  0\n",
       "2024-02-11  0  0  0\n",
       "2024-02-12  0  0  0\n",
       "2024-02-13  0  0  0\n",
       "2024-02-14  0  0  0\n",
       "2024-02-15  0  0  0\n",
       "2024-02-16  0  0  0\n",
       "2024-02-17  0  0  0\n",
       "2024-02-18  0  0  0\n",
       "2024-02-19  0  0  0\n",
       "2024-02-20  0  0  0\n",
       "2024-02-21  0  0  0\n",
       "2024-02-22  0  0  0\n",
       "2024-02-23  0  0  0\n",
       "2024-02-24  0  0  0\n",
       "2024-02-25  0  0  0\n",
       "2024-02-26  0  0  0\n",
       "2024-02-27  0  0  0\n",
       "2024-02-28  0  0  0\n",
       "2024-02-29  0  0  0"
      ]
     },
     "execution_count": 537,
     "metadata": {},
     "output_type": "execute_result"
    }
   ],
   "source": [
    "공백순서달력 = create_공백순서달력(배치달력, 날짜집합)\n",
    "공백순서달력"
   ]
  },
  {
   "cell_type": "markdown",
   "id": "f5ec9964",
   "metadata": {},
   "source": [
    "## 엔진배치"
   ]
  },
  {
   "cell_type": "code",
   "execution_count": 538,
   "id": "ab9065be",
   "metadata": {},
   "outputs": [
    {
     "data": {
      "text/plain": [
       "'2024-02-01'"
      ]
     },
     "execution_count": 538,
     "metadata": {},
     "output_type": "execute_result"
    }
   ],
   "source": [
    "착수가능일 = 착수가능일찾기(공기달력, 공백순서달력, \"A\", 13)\n",
    "착수가능일"
   ]
  },
  {
   "cell_type": "markdown",
   "id": "5473f952",
   "metadata": {},
   "source": [
    "## 달력 업데이트"
   ]
  },
  {
   "cell_type": "code",
   "execution_count": 539,
   "id": "77e35a93",
   "metadata": {
    "scrolled": true
   },
   "outputs": [
    {
     "data": {
      "text/html": [
       "<div>\n",
       "<style scoped>\n",
       "    .dataframe tbody tr th:only-of-type {\n",
       "        vertical-align: middle;\n",
       "    }\n",
       "\n",
       "    .dataframe tbody tr th {\n",
       "        vertical-align: top;\n",
       "    }\n",
       "\n",
       "    .dataframe thead th {\n",
       "        text-align: right;\n",
       "    }\n",
       "</style>\n",
       "<table border=\"1\" class=\"dataframe\">\n",
       "  <thead>\n",
       "    <tr style=\"text-align: right;\">\n",
       "      <th></th>\n",
       "      <th>A</th>\n",
       "      <th>B</th>\n",
       "      <th>C</th>\n",
       "    </tr>\n",
       "  </thead>\n",
       "  <tbody>\n",
       "    <tr>\n",
       "      <th>2024-02-01</th>\n",
       "      <td>0</td>\n",
       "      <td>0</td>\n",
       "      <td>0</td>\n",
       "    </tr>\n",
       "    <tr>\n",
       "      <th>2024-02-02</th>\n",
       "      <td>0</td>\n",
       "      <td>0</td>\n",
       "      <td>0</td>\n",
       "    </tr>\n",
       "    <tr>\n",
       "      <th>2024-02-03</th>\n",
       "      <td>1</td>\n",
       "      <td>0</td>\n",
       "      <td>0</td>\n",
       "    </tr>\n",
       "    <tr>\n",
       "      <th>2024-02-04</th>\n",
       "      <td>1</td>\n",
       "      <td>0</td>\n",
       "      <td>0</td>\n",
       "    </tr>\n",
       "    <tr>\n",
       "      <th>2024-02-05</th>\n",
       "      <td>0</td>\n",
       "      <td>0</td>\n",
       "      <td>0</td>\n",
       "    </tr>\n",
       "    <tr>\n",
       "      <th>2024-02-06</th>\n",
       "      <td>0</td>\n",
       "      <td>0</td>\n",
       "      <td>0</td>\n",
       "    </tr>\n",
       "    <tr>\n",
       "      <th>2024-02-07</th>\n",
       "      <td>0</td>\n",
       "      <td>0</td>\n",
       "      <td>0</td>\n",
       "    </tr>\n",
       "    <tr>\n",
       "      <th>2024-02-08</th>\n",
       "      <td>0</td>\n",
       "      <td>0</td>\n",
       "      <td>0</td>\n",
       "    </tr>\n",
       "    <tr>\n",
       "      <th>2024-02-09</th>\n",
       "      <td>0</td>\n",
       "      <td>0</td>\n",
       "      <td>0</td>\n",
       "    </tr>\n",
       "    <tr>\n",
       "      <th>2024-02-10</th>\n",
       "      <td>0</td>\n",
       "      <td>0</td>\n",
       "      <td>0</td>\n",
       "    </tr>\n",
       "    <tr>\n",
       "      <th>2024-02-11</th>\n",
       "      <td>0</td>\n",
       "      <td>0</td>\n",
       "      <td>0</td>\n",
       "    </tr>\n",
       "    <tr>\n",
       "      <th>2024-02-12</th>\n",
       "      <td>0</td>\n",
       "      <td>0</td>\n",
       "      <td>0</td>\n",
       "    </tr>\n",
       "    <tr>\n",
       "      <th>2024-02-13</th>\n",
       "      <td>0</td>\n",
       "      <td>0</td>\n",
       "      <td>0</td>\n",
       "    </tr>\n",
       "    <tr>\n",
       "      <th>2024-02-14</th>\n",
       "      <td>0</td>\n",
       "      <td>0</td>\n",
       "      <td>0</td>\n",
       "    </tr>\n",
       "    <tr>\n",
       "      <th>2024-02-15</th>\n",
       "      <td>0</td>\n",
       "      <td>0</td>\n",
       "      <td>0</td>\n",
       "    </tr>\n",
       "    <tr>\n",
       "      <th>2024-02-16</th>\n",
       "      <td>0</td>\n",
       "      <td>0</td>\n",
       "      <td>0</td>\n",
       "    </tr>\n",
       "    <tr>\n",
       "      <th>2024-02-17</th>\n",
       "      <td>0</td>\n",
       "      <td>0</td>\n",
       "      <td>0</td>\n",
       "    </tr>\n",
       "    <tr>\n",
       "      <th>2024-02-18</th>\n",
       "      <td>0</td>\n",
       "      <td>0</td>\n",
       "      <td>0</td>\n",
       "    </tr>\n",
       "    <tr>\n",
       "      <th>2024-02-19</th>\n",
       "      <td>0</td>\n",
       "      <td>0</td>\n",
       "      <td>0</td>\n",
       "    </tr>\n",
       "    <tr>\n",
       "      <th>2024-02-20</th>\n",
       "      <td>0</td>\n",
       "      <td>0</td>\n",
       "      <td>0</td>\n",
       "    </tr>\n",
       "    <tr>\n",
       "      <th>2024-02-21</th>\n",
       "      <td>0</td>\n",
       "      <td>0</td>\n",
       "      <td>0</td>\n",
       "    </tr>\n",
       "    <tr>\n",
       "      <th>2024-02-22</th>\n",
       "      <td>0</td>\n",
       "      <td>0</td>\n",
       "      <td>0</td>\n",
       "    </tr>\n",
       "    <tr>\n",
       "      <th>2024-02-23</th>\n",
       "      <td>0</td>\n",
       "      <td>0</td>\n",
       "      <td>0</td>\n",
       "    </tr>\n",
       "    <tr>\n",
       "      <th>2024-02-24</th>\n",
       "      <td>0</td>\n",
       "      <td>0</td>\n",
       "      <td>0</td>\n",
       "    </tr>\n",
       "    <tr>\n",
       "      <th>2024-02-25</th>\n",
       "      <td>0</td>\n",
       "      <td>0</td>\n",
       "      <td>0</td>\n",
       "    </tr>\n",
       "    <tr>\n",
       "      <th>2024-02-26</th>\n",
       "      <td>0</td>\n",
       "      <td>0</td>\n",
       "      <td>0</td>\n",
       "    </tr>\n",
       "    <tr>\n",
       "      <th>2024-02-27</th>\n",
       "      <td>0</td>\n",
       "      <td>0</td>\n",
       "      <td>0</td>\n",
       "    </tr>\n",
       "    <tr>\n",
       "      <th>2024-02-28</th>\n",
       "      <td>0</td>\n",
       "      <td>0</td>\n",
       "      <td>0</td>\n",
       "    </tr>\n",
       "    <tr>\n",
       "      <th>2024-02-29</th>\n",
       "      <td>0</td>\n",
       "      <td>0</td>\n",
       "      <td>0</td>\n",
       "    </tr>\n",
       "  </tbody>\n",
       "</table>\n",
       "</div>"
      ],
      "text/plain": [
       "            A  B  C\n",
       "2024-02-01  0  0  0\n",
       "2024-02-02  0  0  0\n",
       "2024-02-03  1  0  0\n",
       "2024-02-04  1  0  0\n",
       "2024-02-05  0  0  0\n",
       "2024-02-06  0  0  0\n",
       "2024-02-07  0  0  0\n",
       "2024-02-08  0  0  0\n",
       "2024-02-09  0  0  0\n",
       "2024-02-10  0  0  0\n",
       "2024-02-11  0  0  0\n",
       "2024-02-12  0  0  0\n",
       "2024-02-13  0  0  0\n",
       "2024-02-14  0  0  0\n",
       "2024-02-15  0  0  0\n",
       "2024-02-16  0  0  0\n",
       "2024-02-17  0  0  0\n",
       "2024-02-18  0  0  0\n",
       "2024-02-19  0  0  0\n",
       "2024-02-20  0  0  0\n",
       "2024-02-21  0  0  0\n",
       "2024-02-22  0  0  0\n",
       "2024-02-23  0  0  0\n",
       "2024-02-24  0  0  0\n",
       "2024-02-25  0  0  0\n",
       "2024-02-26  0  0  0\n",
       "2024-02-27  0  0  0\n",
       "2024-02-28  0  0  0\n",
       "2024-02-29  0  0  0"
      ]
     },
     "execution_count": 539,
     "metadata": {},
     "output_type": "execute_result"
    }
   ],
   "source": [
    "새베드집합 = [\"A\",\"B\",\"C\"]\n",
    "배치달력 = update_배치달력(배치달력, \"A\", \"2024-02-03\", 2, 새베드집합)\n",
    "배치달력"
   ]
  },
  {
   "cell_type": "code",
   "execution_count": 540,
   "id": "577c1293",
   "metadata": {
    "scrolled": true
   },
   "outputs": [
    {
     "data": {
      "text/html": [
       "<div>\n",
       "<style scoped>\n",
       "    .dataframe tbody tr th:only-of-type {\n",
       "        vertical-align: middle;\n",
       "    }\n",
       "\n",
       "    .dataframe tbody tr th {\n",
       "        vertical-align: top;\n",
       "    }\n",
       "\n",
       "    .dataframe thead th {\n",
       "        text-align: right;\n",
       "    }\n",
       "</style>\n",
       "<table border=\"1\" class=\"dataframe\">\n",
       "  <thead>\n",
       "    <tr style=\"text-align: right;\">\n",
       "      <th></th>\n",
       "      <th>A</th>\n",
       "      <th>B</th>\n",
       "      <th>C</th>\n",
       "    </tr>\n",
       "  </thead>\n",
       "  <tbody>\n",
       "    <tr>\n",
       "      <th>2024-02-01</th>\n",
       "      <td>2</td>\n",
       "      <td>29</td>\n",
       "      <td>29</td>\n",
       "    </tr>\n",
       "    <tr>\n",
       "      <th>2024-02-02</th>\n",
       "      <td>1</td>\n",
       "      <td>28</td>\n",
       "      <td>28</td>\n",
       "    </tr>\n",
       "    <tr>\n",
       "      <th>2024-02-03</th>\n",
       "      <td>0</td>\n",
       "      <td>27</td>\n",
       "      <td>27</td>\n",
       "    </tr>\n",
       "    <tr>\n",
       "      <th>2024-02-04</th>\n",
       "      <td>25</td>\n",
       "      <td>26</td>\n",
       "      <td>26</td>\n",
       "    </tr>\n",
       "    <tr>\n",
       "      <th>2024-02-05</th>\n",
       "      <td>24</td>\n",
       "      <td>25</td>\n",
       "      <td>25</td>\n",
       "    </tr>\n",
       "    <tr>\n",
       "      <th>2024-02-06</th>\n",
       "      <td>23</td>\n",
       "      <td>24</td>\n",
       "      <td>24</td>\n",
       "    </tr>\n",
       "    <tr>\n",
       "      <th>2024-02-07</th>\n",
       "      <td>22</td>\n",
       "      <td>23</td>\n",
       "      <td>23</td>\n",
       "    </tr>\n",
       "    <tr>\n",
       "      <th>2024-02-08</th>\n",
       "      <td>21</td>\n",
       "      <td>22</td>\n",
       "      <td>22</td>\n",
       "    </tr>\n",
       "    <tr>\n",
       "      <th>2024-02-09</th>\n",
       "      <td>20</td>\n",
       "      <td>21</td>\n",
       "      <td>21</td>\n",
       "    </tr>\n",
       "    <tr>\n",
       "      <th>2024-02-10</th>\n",
       "      <td>19</td>\n",
       "      <td>20</td>\n",
       "      <td>20</td>\n",
       "    </tr>\n",
       "    <tr>\n",
       "      <th>2024-02-11</th>\n",
       "      <td>18</td>\n",
       "      <td>19</td>\n",
       "      <td>19</td>\n",
       "    </tr>\n",
       "    <tr>\n",
       "      <th>2024-02-12</th>\n",
       "      <td>17</td>\n",
       "      <td>18</td>\n",
       "      <td>18</td>\n",
       "    </tr>\n",
       "    <tr>\n",
       "      <th>2024-02-13</th>\n",
       "      <td>16</td>\n",
       "      <td>17</td>\n",
       "      <td>17</td>\n",
       "    </tr>\n",
       "    <tr>\n",
       "      <th>2024-02-14</th>\n",
       "      <td>15</td>\n",
       "      <td>16</td>\n",
       "      <td>16</td>\n",
       "    </tr>\n",
       "    <tr>\n",
       "      <th>2024-02-15</th>\n",
       "      <td>14</td>\n",
       "      <td>15</td>\n",
       "      <td>15</td>\n",
       "    </tr>\n",
       "    <tr>\n",
       "      <th>2024-02-16</th>\n",
       "      <td>13</td>\n",
       "      <td>14</td>\n",
       "      <td>14</td>\n",
       "    </tr>\n",
       "    <tr>\n",
       "      <th>2024-02-17</th>\n",
       "      <td>12</td>\n",
       "      <td>13</td>\n",
       "      <td>13</td>\n",
       "    </tr>\n",
       "    <tr>\n",
       "      <th>2024-02-18</th>\n",
       "      <td>11</td>\n",
       "      <td>12</td>\n",
       "      <td>12</td>\n",
       "    </tr>\n",
       "    <tr>\n",
       "      <th>2024-02-19</th>\n",
       "      <td>10</td>\n",
       "      <td>11</td>\n",
       "      <td>11</td>\n",
       "    </tr>\n",
       "    <tr>\n",
       "      <th>2024-02-20</th>\n",
       "      <td>9</td>\n",
       "      <td>10</td>\n",
       "      <td>10</td>\n",
       "    </tr>\n",
       "    <tr>\n",
       "      <th>2024-02-21</th>\n",
       "      <td>8</td>\n",
       "      <td>9</td>\n",
       "      <td>9</td>\n",
       "    </tr>\n",
       "    <tr>\n",
       "      <th>2024-02-22</th>\n",
       "      <td>7</td>\n",
       "      <td>8</td>\n",
       "      <td>8</td>\n",
       "    </tr>\n",
       "    <tr>\n",
       "      <th>2024-02-23</th>\n",
       "      <td>6</td>\n",
       "      <td>7</td>\n",
       "      <td>7</td>\n",
       "    </tr>\n",
       "    <tr>\n",
       "      <th>2024-02-24</th>\n",
       "      <td>5</td>\n",
       "      <td>6</td>\n",
       "      <td>6</td>\n",
       "    </tr>\n",
       "    <tr>\n",
       "      <th>2024-02-25</th>\n",
       "      <td>4</td>\n",
       "      <td>5</td>\n",
       "      <td>5</td>\n",
       "    </tr>\n",
       "    <tr>\n",
       "      <th>2024-02-26</th>\n",
       "      <td>3</td>\n",
       "      <td>4</td>\n",
       "      <td>4</td>\n",
       "    </tr>\n",
       "    <tr>\n",
       "      <th>2024-02-27</th>\n",
       "      <td>2</td>\n",
       "      <td>3</td>\n",
       "      <td>3</td>\n",
       "    </tr>\n",
       "    <tr>\n",
       "      <th>2024-02-28</th>\n",
       "      <td>1</td>\n",
       "      <td>2</td>\n",
       "      <td>2</td>\n",
       "    </tr>\n",
       "    <tr>\n",
       "      <th>2024-02-29</th>\n",
       "      <td>0</td>\n",
       "      <td>1</td>\n",
       "      <td>1</td>\n",
       "    </tr>\n",
       "  </tbody>\n",
       "</table>\n",
       "</div>"
      ],
      "text/plain": [
       "             A   B   C\n",
       "2024-02-01   2  29  29\n",
       "2024-02-02   1  28  28\n",
       "2024-02-03   0  27  27\n",
       "2024-02-04  25  26  26\n",
       "2024-02-05  24  25  25\n",
       "2024-02-06  23  24  24\n",
       "2024-02-07  22  23  23\n",
       "2024-02-08  21  22  22\n",
       "2024-02-09  20  21  21\n",
       "2024-02-10  19  20  20\n",
       "2024-02-11  18  19  19\n",
       "2024-02-12  17  18  18\n",
       "2024-02-13  16  17  17\n",
       "2024-02-14  15  16  16\n",
       "2024-02-15  14  15  15\n",
       "2024-02-16  13  14  14\n",
       "2024-02-17  12  13  13\n",
       "2024-02-18  11  12  12\n",
       "2024-02-19  10  11  11\n",
       "2024-02-20   9  10  10\n",
       "2024-02-21   8   9   9\n",
       "2024-02-22   7   8   8\n",
       "2024-02-23   6   7   7\n",
       "2024-02-24   5   6   6\n",
       "2024-02-25   4   5   5\n",
       "2024-02-26   3   4   4\n",
       "2024-02-27   2   3   3\n",
       "2024-02-28   1   2   2\n",
       "2024-02-29   0   1   1"
      ]
     },
     "execution_count": 540,
     "metadata": {},
     "output_type": "execute_result"
    }
   ],
   "source": [
    "공기달력 = create_공기달력(배치달력, 날짜집합, 새베드집합)\n",
    "공기달력"
   ]
  },
  {
   "cell_type": "code",
   "execution_count": 541,
   "id": "e5524dea",
   "metadata": {
    "scrolled": true
   },
   "outputs": [
    {
     "data": {
      "text/html": [
       "<div>\n",
       "<style scoped>\n",
       "    .dataframe tbody tr th:only-of-type {\n",
       "        vertical-align: middle;\n",
       "    }\n",
       "\n",
       "    .dataframe tbody tr th {\n",
       "        vertical-align: top;\n",
       "    }\n",
       "\n",
       "    .dataframe thead th {\n",
       "        text-align: right;\n",
       "    }\n",
       "</style>\n",
       "<table border=\"1\" class=\"dataframe\">\n",
       "  <thead>\n",
       "    <tr style=\"text-align: right;\">\n",
       "      <th></th>\n",
       "      <th>A</th>\n",
       "      <th>B</th>\n",
       "      <th>C</th>\n",
       "    </tr>\n",
       "  </thead>\n",
       "  <tbody>\n",
       "    <tr>\n",
       "      <th>2024-02-01</th>\n",
       "      <td>1</td>\n",
       "      <td>1</td>\n",
       "      <td>1</td>\n",
       "    </tr>\n",
       "    <tr>\n",
       "      <th>2024-02-02</th>\n",
       "      <td>0</td>\n",
       "      <td>0</td>\n",
       "      <td>0</td>\n",
       "    </tr>\n",
       "    <tr>\n",
       "      <th>2024-02-03</th>\n",
       "      <td>0</td>\n",
       "      <td>0</td>\n",
       "      <td>0</td>\n",
       "    </tr>\n",
       "    <tr>\n",
       "      <th>2024-02-04</th>\n",
       "      <td>0</td>\n",
       "      <td>0</td>\n",
       "      <td>0</td>\n",
       "    </tr>\n",
       "    <tr>\n",
       "      <th>2024-02-05</th>\n",
       "      <td>2</td>\n",
       "      <td>0</td>\n",
       "      <td>0</td>\n",
       "    </tr>\n",
       "    <tr>\n",
       "      <th>2024-02-06</th>\n",
       "      <td>0</td>\n",
       "      <td>0</td>\n",
       "      <td>0</td>\n",
       "    </tr>\n",
       "    <tr>\n",
       "      <th>2024-02-07</th>\n",
       "      <td>0</td>\n",
       "      <td>0</td>\n",
       "      <td>0</td>\n",
       "    </tr>\n",
       "    <tr>\n",
       "      <th>2024-02-08</th>\n",
       "      <td>0</td>\n",
       "      <td>0</td>\n",
       "      <td>0</td>\n",
       "    </tr>\n",
       "    <tr>\n",
       "      <th>2024-02-09</th>\n",
       "      <td>0</td>\n",
       "      <td>0</td>\n",
       "      <td>0</td>\n",
       "    </tr>\n",
       "    <tr>\n",
       "      <th>2024-02-10</th>\n",
       "      <td>0</td>\n",
       "      <td>0</td>\n",
       "      <td>0</td>\n",
       "    </tr>\n",
       "    <tr>\n",
       "      <th>2024-02-11</th>\n",
       "      <td>0</td>\n",
       "      <td>0</td>\n",
       "      <td>0</td>\n",
       "    </tr>\n",
       "    <tr>\n",
       "      <th>2024-02-12</th>\n",
       "      <td>0</td>\n",
       "      <td>0</td>\n",
       "      <td>0</td>\n",
       "    </tr>\n",
       "    <tr>\n",
       "      <th>2024-02-13</th>\n",
       "      <td>0</td>\n",
       "      <td>0</td>\n",
       "      <td>0</td>\n",
       "    </tr>\n",
       "    <tr>\n",
       "      <th>2024-02-14</th>\n",
       "      <td>0</td>\n",
       "      <td>0</td>\n",
       "      <td>0</td>\n",
       "    </tr>\n",
       "    <tr>\n",
       "      <th>2024-02-15</th>\n",
       "      <td>0</td>\n",
       "      <td>0</td>\n",
       "      <td>0</td>\n",
       "    </tr>\n",
       "    <tr>\n",
       "      <th>2024-02-16</th>\n",
       "      <td>0</td>\n",
       "      <td>0</td>\n",
       "      <td>0</td>\n",
       "    </tr>\n",
       "    <tr>\n",
       "      <th>2024-02-17</th>\n",
       "      <td>0</td>\n",
       "      <td>0</td>\n",
       "      <td>0</td>\n",
       "    </tr>\n",
       "    <tr>\n",
       "      <th>2024-02-18</th>\n",
       "      <td>0</td>\n",
       "      <td>0</td>\n",
       "      <td>0</td>\n",
       "    </tr>\n",
       "    <tr>\n",
       "      <th>2024-02-19</th>\n",
       "      <td>0</td>\n",
       "      <td>0</td>\n",
       "      <td>0</td>\n",
       "    </tr>\n",
       "    <tr>\n",
       "      <th>2024-02-20</th>\n",
       "      <td>0</td>\n",
       "      <td>0</td>\n",
       "      <td>0</td>\n",
       "    </tr>\n",
       "    <tr>\n",
       "      <th>2024-02-21</th>\n",
       "      <td>0</td>\n",
       "      <td>0</td>\n",
       "      <td>0</td>\n",
       "    </tr>\n",
       "    <tr>\n",
       "      <th>2024-02-22</th>\n",
       "      <td>0</td>\n",
       "      <td>0</td>\n",
       "      <td>0</td>\n",
       "    </tr>\n",
       "    <tr>\n",
       "      <th>2024-02-23</th>\n",
       "      <td>0</td>\n",
       "      <td>0</td>\n",
       "      <td>0</td>\n",
       "    </tr>\n",
       "    <tr>\n",
       "      <th>2024-02-24</th>\n",
       "      <td>0</td>\n",
       "      <td>0</td>\n",
       "      <td>0</td>\n",
       "    </tr>\n",
       "    <tr>\n",
       "      <th>2024-02-25</th>\n",
       "      <td>0</td>\n",
       "      <td>0</td>\n",
       "      <td>0</td>\n",
       "    </tr>\n",
       "    <tr>\n",
       "      <th>2024-02-26</th>\n",
       "      <td>0</td>\n",
       "      <td>0</td>\n",
       "      <td>0</td>\n",
       "    </tr>\n",
       "    <tr>\n",
       "      <th>2024-02-27</th>\n",
       "      <td>0</td>\n",
       "      <td>0</td>\n",
       "      <td>0</td>\n",
       "    </tr>\n",
       "    <tr>\n",
       "      <th>2024-02-28</th>\n",
       "      <td>0</td>\n",
       "      <td>0</td>\n",
       "      <td>0</td>\n",
       "    </tr>\n",
       "    <tr>\n",
       "      <th>2024-02-29</th>\n",
       "      <td>0</td>\n",
       "      <td>0</td>\n",
       "      <td>0</td>\n",
       "    </tr>\n",
       "  </tbody>\n",
       "</table>\n",
       "</div>"
      ],
      "text/plain": [
       "            A  B  C\n",
       "2024-02-01  1  1  1\n",
       "2024-02-02  0  0  0\n",
       "2024-02-03  0  0  0\n",
       "2024-02-04  0  0  0\n",
       "2024-02-05  2  0  0\n",
       "2024-02-06  0  0  0\n",
       "2024-02-07  0  0  0\n",
       "2024-02-08  0  0  0\n",
       "2024-02-09  0  0  0\n",
       "2024-02-10  0  0  0\n",
       "2024-02-11  0  0  0\n",
       "2024-02-12  0  0  0\n",
       "2024-02-13  0  0  0\n",
       "2024-02-14  0  0  0\n",
       "2024-02-15  0  0  0\n",
       "2024-02-16  0  0  0\n",
       "2024-02-17  0  0  0\n",
       "2024-02-18  0  0  0\n",
       "2024-02-19  0  0  0\n",
       "2024-02-20  0  0  0\n",
       "2024-02-21  0  0  0\n",
       "2024-02-22  0  0  0\n",
       "2024-02-23  0  0  0\n",
       "2024-02-24  0  0  0\n",
       "2024-02-25  0  0  0\n",
       "2024-02-26  0  0  0\n",
       "2024-02-27  0  0  0\n",
       "2024-02-28  0  0  0\n",
       "2024-02-29  0  0  0"
      ]
     },
     "execution_count": 541,
     "metadata": {},
     "output_type": "execute_result"
    }
   ],
   "source": [
    "공백순서달력 = create_공백순서달력(배치달력, 날짜집합)\n",
    "공백순서달력"
   ]
  },
  {
   "cell_type": "markdown",
   "id": "fe93e04c",
   "metadata": {},
   "source": [
    "# 물리적 스펙 적합도 검토"
   ]
  },
  {
   "cell_type": "code",
   "execution_count": 542,
   "id": "a4805db3",
   "metadata": {},
   "outputs": [],
   "source": [
    "def get_면적리스트(길이리스트):\n",
    "    result = []\n",
    "    if 길이리스트[0] == 길이리스트[1]:\n",
    "        면적 = 길이리스트[1] * 길이리스트[2]\n",
    "        result.append(면적)\n",
    "    else:\n",
    "        면적1 = 길이리스트[0] * 길이리스트[3]\n",
    "        면적2 = 길이리스트[1] * 길이리스트[2]\n",
    "        result.append(면적1)\n",
    "        result.append(면적2)\n",
    "    result.sort(reverse=True)\n",
    "    return result"
   ]
  },
  {
   "cell_type": "code",
   "execution_count": 543,
   "id": "8624a5c3",
   "metadata": {},
   "outputs": [],
   "source": [
    "def 면적_최장길이적합도_검토(베드길이리스트, 엔진길이리스트):\n",
    "    result = []\n",
    "    엔진최장길이 = max(엔진길이리스트)\n",
    "    엔진최소길이 = min(엔진길이리스트)\n",
    "    엔진면적 = get_면적리스트(엔진길이리스트)[0]\n",
    "    베드면적리스트 = get_면적리스트(베드길이리스트)\n",
    "    try:\n",
    "        for i in range(len(베드면적리스트)):\n",
    "            if i == 0:\n",
    "                if 베드면적리스트[i] >= 엔진면적 and max(베드길이리스트[0], 베드길이리스트[3]) >= 엔진최장길이 and min(베드길이리스트[0], 베드길이리스트[3]) >= 엔진최소길이:\n",
    "                    result.append(\"적합\")\n",
    "                else:\n",
    "                    result.append(\"부적합\")\n",
    "\n",
    "            else:\n",
    "                if 베드면적리스트[i] >= 엔진면적 and max(베드길이리스트[1], 베드길이리스트[2]) >= 엔진최장길이 and min(베드길이리스트[1], 베드길이리스트[2]) >= 엔진최소길이:\n",
    "                    result.append(\"적합\")\n",
    "                else:\n",
    "                    result.append(\"부적합\")\n",
    "\n",
    "        return result\n",
    "    except:\n",
    "        return result"
   ]
  },
  {
   "cell_type": "markdown",
   "id": "7cddb3ce",
   "metadata": {},
   "source": [
    "# 변수정리"
   ]
  },
  {
   "cell_type": "code",
   "execution_count": 544,
   "id": "9dfa03a2",
   "metadata": {},
   "outputs": [],
   "source": [
    "def 엔진변수정리(엔진데이터, target_engine):\n",
    "    엔진 = dict()\n",
    "    엔진[\"인덱스\"] =  엔진데이터[엔진데이터[\"엔진명\"]==target_engine].index.values[0]\n",
    "    엔진[\"중량\"] = 엔진데이터[엔진데이터[\"엔진명\"]==target_engine][\"중량\"].values[0]\n",
    "    엔진[\"면적\"] = 엔진데이터[엔진데이터[\"엔진명\"]==target_engine][\"면적\"].values[0]\n",
    "    엔진[\"표준공기\"] = 엔진데이터[엔진데이터[\"엔진명\"]==target_engine][\"표준공기\"].values[0]\n",
    "    엔진[\"최소착수요구일\"] = 엔진데이터[엔진데이터[\"엔진명\"]==target_engine][\"최소착수요구일\"].values[0]\n",
    "    엔진[\"길이리스트\"] = 엔진데이터[엔진데이터[\"엔진명\"]==target_engine][\"길이리스트\"].values[0]\n",
    "    return 엔진"
   ]
  },
  {
   "cell_type": "code",
   "execution_count": 545,
   "id": "d5e8bfb7",
   "metadata": {},
   "outputs": [
    {
     "data": {
      "text/plain": [
       "{'인덱스': 0,\n",
       " '중량': 50,\n",
       " '면적': 120,\n",
       " '표준공기': 3,\n",
       " '최소착수요구일': datetime.date(2024, 2, 2),\n",
       " '길이리스트': [12, 12, 10, 10]}"
      ]
     },
     "execution_count": 545,
     "metadata": {},
     "output_type": "execute_result"
    }
   ],
   "source": [
    "엔진변수정리(엔진데이터, \"S1\")"
   ]
  },
  {
   "cell_type": "code",
   "execution_count": 546,
   "id": "fc35acd5",
   "metadata": {},
   "outputs": [],
   "source": [
    "def 베드변수정리(베드데이터, 베드명):\n",
    "    베드 = dict()\n",
    "    베드[\"가능중량\"] = 베드데이터[베드데이터[\"베드명\"]==베드명][\"가능중량\"].values[0]\n",
    "    베드[\"길이리스트\"] = 베드데이터[베드데이터[\"베드명\"]==베드명][\"길이리스트\"].values[0]\n",
    "    베드[\"면적리스트\"] = 베드데이터[베드데이터[\"베드명\"]==베드명][\"면적리스트\"].values[0]\n",
    "    return 베드"
   ]
  },
  {
   "cell_type": "code",
   "execution_count": 547,
   "id": "d34599db",
   "metadata": {},
   "outputs": [
    {
     "data": {
      "text/plain": [
       "{'가능중량': 100, '길이리스트': [20, 20, 10, 10], '면적리스트': [200]}"
      ]
     },
     "execution_count": 547,
     "metadata": {},
     "output_type": "execute_result"
    }
   ],
   "source": [
    "A = 베드변수정리(베드데이터, \"A\")\n",
    "A"
   ]
  },
  {
   "cell_type": "markdown",
   "id": "8d4114de",
   "metadata": {},
   "source": [
    "# 날짜조건 가능 테스트베드 구하기"
   ]
  },
  {
   "cell_type": "code",
   "execution_count": 548,
   "id": "81451234",
   "metadata": {},
   "outputs": [],
   "source": [
    "def 날짜조건_가능베드dict_구하기(target_engine, 엔진데이터, 베드데이터, 수정베드리스트, 배치달력, 공기달력, 공백순서달력):\n",
    "    \n",
    "    엔진변수 = 엔진변수정리(엔진데이터, target_engine)\n",
    "    엔진표준공기 = 엔진변수[\"표준공기\"]\n",
    "    최소착수요구일 = 엔진변수[\"최소착수요구일\"]\n",
    "#     print(f\"엔진명:{target_engine}, 최소착수요구일:{최소착수요구일}, 엔진표준공기:{엔진표준공기}\")\n",
    "    \n",
    "    가능베드_dict = {}\n",
    "    for 베드 in 수정베드리스트:\n",
    "        \n",
    "        베드변수 = 베드변수정리(베드데이터, 베드)\n",
    "\n",
    "        공백순서1인덱스 = list(공백순서달력[f\"{베드}\"]).index(1)\n",
    "        공백순서1인덱스의날짜 = 배치달력.index[공백순서1인덱스]\n",
    "        공백순서1인덱스의날짜의확보가능공기 = 공기달력[f\"{베드}\"][공백순서1인덱스]\n",
    "        공백순서1인덱스날짜의공백순서 = 공백순서달력[f\"{베드}\"][공백순서1인덱스]\n",
    "        print(f\">>>[검토] 베드명:{베드}, 공백순서1인덱스의날짜: {공백순서1인덱스의날짜}, 인덱스: {공백순서1인덱스}, 확보가능공기:{공백순서1인덱스의날짜의확보가능공기}\")\n",
    "\n",
    "        try:\n",
    "            공백순서2인덱스 = list(공백순서달력[f\"{베드}\"]).index(2)\n",
    "            공백순서2인덱스의날짜 = 배치달력.index[공백순서2인덱스]\n",
    "            공백순서2인덱스의날짜의확보가능공기 = 공기달력[f\"{베드}\"][공백순서2인덱스]\n",
    "            공백순서2인덱스날짜의공백순서 = 공백순서달력[f\"{베드}\"][공백순서2인덱스]\n",
    "            print(f\">>>[검토] 베드명:{베드}, 공백순서2인덱스의날짜: {공백순서2인덱스의날짜}, 인덱스: {공백순서2인덱스}, 확보가능공기:{공백순서2인덱스의날짜의확보가능공기}\")\n",
    "            \n",
    "            if 공백순서1인덱스의날짜 <= 최소착수요구일 and 공백순서1인덱스의날짜의확보가능공기 >= 엔진표준공기 and 공백순서1인덱스날짜의공백순서 == 1:\n",
    "                가능베드_dict[베드] = 공백순서1인덱스의날짜\n",
    "            elif 공백순서2인덱스의날짜 <= 최소착수요구일 and 공백순서2인덱스의날짜의확보가능공기 >= 엔진표준공기 and 공백순서2인덱스날짜의공백순서 == 2:\n",
    "                가능베드_dict[베드] = 공백순서2인덱스의날짜\n",
    "            else:\n",
    "                pass\n",
    "\n",
    "        except:\n",
    "            if 공백순서1인덱스의날짜 <= 최소착수요구일 and 공백순서1인덱스의날짜의확보가능공기 >= 엔진표준공기 and 공백순서1인덱스날짜의공백순서 == 1:\n",
    "                가능베드_dict[베드] = 공백순서1인덱스의날짜\n",
    "            else:\n",
    "                pass\n",
    "\n",
    "    return 가능베드_dict"
   ]
  },
  {
   "cell_type": "code",
   "execution_count": 549,
   "id": "c6dd4240",
   "metadata": {},
   "outputs": [
    {
     "name": "stdout",
     "output_type": "stream",
     "text": [
      ">>>[검토] 베드명:A, 공백순서1인덱스의날짜: 2024-02-01 00:00:00, 인덱스: 0, 확보가능공기:2\n",
      ">>>[검토] 베드명:A, 공백순서2인덱스의날짜: 2024-02-05 00:00:00, 인덱스: 4, 확보가능공기:24\n",
      ">>>[검토] 베드명:B, 공백순서1인덱스의날짜: 2024-02-01 00:00:00, 인덱스: 0, 확보가능공기:29\n",
      ">>>[검토] 베드명:C, 공백순서1인덱스의날짜: 2024-02-01 00:00:00, 인덱스: 0, 확보가능공기:29\n"
     ]
    },
    {
     "data": {
      "text/plain": [
       "{'A': Timestamp('2024-02-01 00:00:00', freq='D'),\n",
       " 'B': Timestamp('2024-02-01 00:00:00', freq='D'),\n",
       " 'C': Timestamp('2024-02-01 00:00:00', freq='D')}"
      ]
     },
     "execution_count": 549,
     "metadata": {},
     "output_type": "execute_result"
    }
   ],
   "source": [
    "베드리스트 = [\"A\", \"B\", \"C\"]\n",
    "가능베드_dict = 날짜조건_가능베드dict_구하기(\"S1\", df1, df2, 베드리스트, 배치달력, 공기달력, 공백순서달력)\n",
    "가능베드_dict"
   ]
  },
  {
   "cell_type": "code",
   "execution_count": 550,
   "id": "f7dadf27",
   "metadata": {},
   "outputs": [],
   "source": [
    "def 최선조기착수가능베드(가능베드_dict):\n",
    "    최선조기착수가능베드 = [key for key, value in 가능베드_dict.items() if value == min(가능베드_dict.values())]\n",
    "    return 최선조기착수가능베드"
   ]
  },
  {
   "cell_type": "code",
   "execution_count": 551,
   "id": "3d3963b6",
   "metadata": {},
   "outputs": [
    {
     "data": {
      "text/plain": [
       "['A', 'B', 'C']"
      ]
     },
     "execution_count": 551,
     "metadata": {},
     "output_type": "execute_result"
    }
   ],
   "source": [
    "최선조기착수가능베드 = 최선조기착수가능베드(가능베드_dict)\n",
    "최선조기착수가능베드"
   ]
  },
  {
   "cell_type": "markdown",
   "id": "4b4fe025",
   "metadata": {},
   "source": [
    "# 물리적 스펙 가능 테스트베드 구하기"
   ]
  },
  {
   "cell_type": "code",
   "execution_count": 552,
   "id": "8cfe3ffe",
   "metadata": {},
   "outputs": [],
   "source": [
    "def get_물리적스펙가능베드(최선조기착수가능베드, 베드데이터, target_engine, 엔진데이터):\n",
    "    \n",
    "    엔진변수 = 엔진변수정리(엔진데이터, target_engine)    \n",
    "    엔진면적 = 엔진변수[\"면적\"]\n",
    "    엔진중량 = 엔진변수[\"중량\"]\n",
    "    엔진길이리스트 = 엔진변수[\"길이리스트\"]\n",
    "    엔진최장길이 = max(엔진길이리스트)\n",
    "    엔진최소길이 = min(엔진길이리스트)\n",
    "    \n",
    "    물리적스펙가능베드 = []\n",
    "    \n",
    "    for 후보베드 in 최선조기착수가능베드:\n",
    "        후보베드변수 = 베드변수정리(베드데이터, 후보베드)\n",
    "        \n",
    "        가능중량 = 후보베드변수[\"가능중량\"]\n",
    "        베드면적리스트 = 후보베드변수[\"면적리스트\"]\n",
    "        베드길이리스트 = 후보베드변수[\"길이리스트\"]\n",
    "        베드최장길이 = max(베드길이리스트)\n",
    "        베드최소길이 = min(베드길이리스트)\n",
    "        print(f\"* 베드명:{후보베드},  가능중량:{가능중량}, 길이리스트:{베드길이리스트}, 면적리스트:{베드면적리스트}\")\n",
    "\n",
    "        ## 물리적 적합도 검토 ##############################\n",
    "        \n",
    "        물리적적합도리스트 = 면적_최장길이적합도_검토(베드길이리스트, 엔진길이리스트)\n",
    "        print(f\">>>[검토]{후보베드}베드의 면적_최장길이 적합도 함수 체크\")\n",
    "        print(f\">>>[검토]베드 {후보베드}의 면적/사이즈 배치가능 여부:{물리적적합도리스트} / 베드가능중량:{가능중량} 베드면적리스트:{베드면적리스트}, 길이리스트:{베드길이리스트}\")\n",
    "        print()\n",
    "\n",
    "        if \"적합\" in 물리적적합도리스트:\n",
    "            물리적스펙가능베드.append(후보베드)\n",
    "        else:\n",
    "            pass\n",
    "    return 물리적스펙가능베드"
   ]
  },
  {
   "cell_type": "code",
   "execution_count": 553,
   "id": "22a02ba3",
   "metadata": {
    "scrolled": true
   },
   "outputs": [
    {
     "name": "stdout",
     "output_type": "stream",
     "text": [
      "* 베드명:A,  가능중량:100, 길이리스트:[20, 20, 10, 10], 면적리스트:[200]\n",
      ">>>[검토]A베드의 면적_최장길이 적합도 함수 체크\n",
      ">>>[검토]베드 A의 면적/사이즈 배치가능 여부:['적합'] / 베드가능중량:100 베드면적리스트:[200], 길이리스트:[20, 20, 10, 10]\n",
      "\n",
      "* 베드명:B,  가능중량:100, 길이리스트:[20, 20, 10, 10], 면적리스트:[200]\n",
      ">>>[검토]B베드의 면적_최장길이 적합도 함수 체크\n",
      ">>>[검토]베드 B의 면적/사이즈 배치가능 여부:['적합'] / 베드가능중량:100 베드면적리스트:[200], 길이리스트:[20, 20, 10, 10]\n",
      "\n",
      "* 베드명:C,  가능중량:100, 길이리스트:[15, 15, 10, 10], 면적리스트:[150]\n",
      ">>>[검토]C베드의 면적_최장길이 적합도 함수 체크\n",
      ">>>[검토]베드 C의 면적/사이즈 배치가능 여부:['적합'] / 베드가능중량:100 베드면적리스트:[150], 길이리스트:[15, 15, 10, 10]\n",
      "\n"
     ]
    },
    {
     "data": {
      "text/plain": [
       "['A', 'B', 'C']"
      ]
     },
     "execution_count": 553,
     "metadata": {},
     "output_type": "execute_result"
    }
   ],
   "source": [
    "물리적스펙가능베드 = get_물리적스펙가능베드(최선조기착수가능베드, 베드데이터, \"S1\", 엔진데이터)\n",
    "물리적스펙가능베드"
   ]
  },
  {
   "cell_type": "markdown",
   "id": "69416b3c",
   "metadata": {},
   "source": [
    "# 생산계획수립 함수 정의"
   ]
  },
  {
   "cell_type": "code",
   "execution_count": 591,
   "id": "2db698b3",
   "metadata": {},
   "outputs": [],
   "source": [
    "def 생산계획수립(엔진데이터, 베드데이터, 배치달력):\n",
    "    ##--------------------------------------------------------------------------------------------------\n",
    "    # 결과모음리스트 \n",
    "    배정된엔진 = []\n",
    "    배정된베드 = []\n",
    "    착수일 = []\n",
    "    표준공기 = []\n",
    "    종료일 = []\n",
    "    조립중량  = []\n",
    "    \n",
    "    상태정보 = []\n",
    "    \n",
    "    # Initial Variables settings\n",
    "    자식베드고유번호 = 0\n",
    "    수정엔진리스트 = 엔진데이터[\"엔진명\"].tolist()\n",
    "    수정베드리스트 = 베드데이터[\"베드명\"].tolist()\n",
    "    공기달력 = create_공기달력(배치달력, 날짜집합, 수정베드리스트)\n",
    "    공백순서달력 = create_공백순서달력(배치달력, 날짜집합)\n",
    "    ##----------------------------------------------------------------------------------------------------------\n",
    "    \n",
    "    for _ in tqdm(range(len(수정엔진리스트))):\n",
    "        if 수정엔진리스트:\n",
    "            target_engine = 수정엔진리스트[0]\n",
    "        else:\n",
    "            print(\"수정엔진리스트에 검토대상 잔여엔진이 없습니다.\")\n",
    "            print()\n",
    "            break\n",
    "        ##------------------------------------------------------------------------------------------  \n",
    "        \n",
    "        \n",
    "        엔진인덱스 = 엔진데이터[엔진데이터[\"엔진명\"]==target_engine].index.values[0]\n",
    "        엔진_weight = 엔진데이터[엔진데이터[\"엔진명\"]==target_engine][\"중량\"].values[0]\n",
    "        엔진_size = 엔진데이터[엔진데이터[\"엔진명\"]==target_engine][\"면적\"].values[0]\n",
    "        least_start_date = 엔진데이터[엔진데이터[\"엔진명\"]==target_engine][\"최소착수요구일\"].values[0]\n",
    "        엔진_표준공기 = 엔진데이터[엔진데이터[\"엔진명\"]==target_engine][\"표준공기\"].values[0]\n",
    "        엔진_길이리스트 = 엔진데이터[엔진데이터[\"엔진명\"]==target_engine][\"길이리스트\"].values[0]\n",
    "        엔진_최장길이 = 엔진데이터[엔진데이터[\"엔진명\"]==target_engine][\"최장길이\"].values[0]\n",
    "        엔진_최소길이 = 엔진데이터[엔진데이터[\"엔진명\"]==target_engine][\"최소길이\"].values[0]\n",
    "        print()\n",
    "        print(f\"*** 타겟엔진-name:{target_engine},weight:{엔진_weight},size:{엔진_size},길이리스트:{엔진_길이리스트},최장길이:{엔진_최장길이},최소길이:{엔진_최소길이},최소착수요구일:{least_start_date},표준공기:{엔진_표준공기}\")\n",
    "        print()\n",
    "        \n",
    "        ### 달력기준 가능 베드 dict 구하기 --------------------------------------------------------------------------\n",
    "        가능베드_dict = 날짜조건_가능베드dict_구하기(target_engine, 엔진데이터, 베드데이터, 수정베드리스트, 배치달력, 공기달력, 공백순서달력)\n",
    "        ###=----------------------------------------------------------------------------------------------------------\n",
    "                \n",
    "        if 가능베드_dict != {}:\n",
    "            최선조기착수가능베드 = [key for key, value in 가능베드_dict.items() if value == min(가능베드_dict.values())]   # 여러개일수 있으므로 리스트로 반환\n",
    "            print(f\"*** 최선조기착수 가능베드:{min(가능베드_dict.values())} ---> {최선조기착수가능베드}\")  \n",
    "            print()         \n",
    "            \n",
    "            \n",
    "            ### 물리적 스펙 가능 검토 #########################################################################\n",
    "            물리적스펙가능베드 = get_물리적스펙가능베드(최선조기착수가능베드, 베드데이터, target_engine, 엔진데이터)\n",
    "            print(f\"*** 물리적 스펙 가능 베드: {물리적스펙가능베드}\")\n",
    "            print()\n",
    "            ####################################################################################################\n",
    "            \n",
    "            if 물리적스펙가능베드:\n",
    "                \n",
    "                랜덤최선베드 = choice(물리적스펙가능베드)\n",
    "                if len(랜덤최선베드) == 1:\n",
    "                    랜덤베드인덱스 = 베드데이터.index[베드데이터[\"베드명\"]==랜덤최선베드].values[0]\n",
    "                    랜덤베드길이리스트 = 베드데이터[베드데이터[\"베드명\"]==랜덤최선베드][\"길이리스트\"].values[0]\n",
    "                    랜덤베드면적리스트 = 베드데이터[베드데이터[\"베드명\"]==랜덤최선베드][\"면적리스트\"].values[0]\n",
    "                    랜덤베드면적 = min(랜덤베드면적리스트)\n",
    "                else:\n",
    "                    랜덤베드인덱스 = 베드데이터.index[베드데이터[\"베드명\"]==랜덤최선베드].values[0]\n",
    "                    랜덤베드길이리스트 = 베드데이터[베드데이터[\"베드명\"]==랜덤최선베드][\"길이리스트\"].values[0]\n",
    "                    랜덤베드면적리스트 = 베드데이터[베드데이터[\"베드명\"]==랜덤최선베드][\"면적리스트\"].values[0]\n",
    "                    랜덤베드면적 = min(랜덤베드면적리스트)\n",
    "                \n",
    "                            \n",
    "                착수가능일 = 착수가능일찾기(공기달력, 공백순서달력, 랜덤최선베드, 엔진_표준공기)\n",
    "                엔진데이터.loc[엔진인덱스, \"베드배치\"] = 1\n",
    "\n",
    "                배정결과 = {\"엔진명\": target_engine, \"베드명\": 랜덤최선베드, \"착수일\": 착수가능일}   \n",
    "                print(f\"***  정상배치 최종배정결과 : {배정결과}\") \n",
    "                상태정보.append(\"정상배치\")\n",
    "                print(\"=\"*80)\n",
    "                print()\n",
    "\n",
    "                배정된엔진.append(target_engine)\n",
    "                배정된베드.append(랜덤최선베드)\n",
    "                착수일.append(착수가능일)\n",
    "                표준공기.append(엔진_표준공기)\n",
    "                original_date = datetime.strptime(착수가능일, \"%Y-%m-%d\")\n",
    "                종료날짜 = original_date + timedelta(days=int(엔진_표준공기)) \n",
    "                종료날짜 = 종료날짜.strftime(\"%Y-%m-%d\")\n",
    "                종료일.append(종료날짜)\n",
    "                조립중량.append(엔진_weight)\n",
    "\n",
    "                수정엔진리스트.remove(target_engine) \n",
    "                print(f\"(엔진배치후) 수정엔진리스트 : {수정엔진리스트}\")\n",
    "                \n",
    "                ##### 달력 1차 업데이트 ############\n",
    "                배치달력 =  update_배치달력(배치달력, 랜덤최선베드, 착수가능일, 엔진_표준공기, 수정베드리스트) \n",
    "                공기달력 = create_공기달력(배치달력, 날짜집합, 수정베드리스트)\n",
    "                공백순서달력 = create_공백순서달력(배치달력, 날짜집합)                \n",
    "\n",
    "            else:\n",
    "                print(\"★ 물리적 스펙상 배치가능한 베드이 없습니다.!!!!\")\n",
    "                상태정보.append(\"배치불가-물리스펙\")\n",
    "                수정엔진리스트.remove(target_engine)\n",
    "                print(\"=\"*80)\n",
    "                pass\n",
    "        else:\n",
    "            print(\"★ 날짜 조건에 따른 배치가능한 베드이 없습니다.!!!!\")\n",
    "            상태정보.append(\"배치불가-날짜조건\")\n",
    "            수정엔진리스트.remove(target_engine)\n",
    "            print(\"=\"*80)\n",
    "            pass\n",
    "\n",
    "    \n",
    "    최종배정결과 = pd.DataFrame({\"엔진명\":배정된엔진, \"베드명\":배정된베드, \"착수일\":착수일, \"표준공기\":표준공기, \"종료일\": 종료일, \"조립중량\": 조립중량})\n",
    "    최종배정결과[\"베드구분\"] = 최종배정결과[\"베드명\"].apply(lambda x: x[:1])\n",
    "    \n",
    "    \n",
    "    return 최종배정결과, 엔진데이터, 베드데이터, 배치달력, 공기달력, 공백순서달력, 상태정보"
   ]
  },
  {
   "cell_type": "markdown",
   "id": "3acfac2f",
   "metadata": {},
   "source": [
    "# 단순 배치 시뮬레이션"
   ]
  },
  {
   "cell_type": "code",
   "execution_count": 592,
   "id": "8997261d",
   "metadata": {},
   "outputs": [],
   "source": [
    "data_num = \"00\"\n",
    "\n",
    "착수일가중치, 공기가중치, 크기가중치 = 0.7, 0.5, 0.5\n",
    "중량가중치, 크기가중치 = 0.5, 0.7\n",
    "\n",
    "엔진원데이터 = pd.read_excel(f\"./data/engine_data{data_num}.xlsx\", sheet_name=\"엔진데이터\")\n",
    "베드원데이터 = pd.read_excel(f\"./data/engine_data{data_num}.xlsx\", sheet_name=\"베드데이터\")\n",
    "\n",
    "엔진데이터 = 엔진데이터전처리(엔진원데이터)\n",
    "베드데이터 = 베드데이터전처리(베드원데이터)\n",
    "최초베드집합 = 베드원데이터[\"베드명\"].unique().tolist()\n",
    "\n",
    "배치달력 = create_init_calendar(2024, 2, 2024, 2, 최초베드집합) \n",
    "배치달력.iloc[:2,:] = 1   ## 날짜 계산의 편의를 위해 초반 2일을 배치상태로 설정"
   ]
  },
  {
   "cell_type": "code",
   "execution_count": 593,
   "id": "c8c96eb9",
   "metadata": {},
   "outputs": [
    {
     "data": {
      "text/html": [
       "<div>\n",
       "<style scoped>\n",
       "    .dataframe tbody tr th:only-of-type {\n",
       "        vertical-align: middle;\n",
       "    }\n",
       "\n",
       "    .dataframe tbody tr th {\n",
       "        vertical-align: top;\n",
       "    }\n",
       "\n",
       "    .dataframe thead th {\n",
       "        text-align: right;\n",
       "    }\n",
       "</style>\n",
       "<table border=\"1\" class=\"dataframe\">\n",
       "  <thead>\n",
       "    <tr style=\"text-align: right;\">\n",
       "      <th></th>\n",
       "      <th>엔진명</th>\n",
       "      <th>중량</th>\n",
       "      <th>표준공기</th>\n",
       "      <th>납기</th>\n",
       "      <th>면적</th>\n",
       "      <th>최소착수요구일</th>\n",
       "      <th>날짜순서</th>\n",
       "      <th>공기순서</th>\n",
       "      <th>크기순서</th>\n",
       "      <th>우선순위</th>\n",
       "      <th>길이리스트</th>\n",
       "      <th>최장길이</th>\n",
       "      <th>최소길이</th>\n",
       "    </tr>\n",
       "  </thead>\n",
       "  <tbody>\n",
       "    <tr>\n",
       "      <th>8</th>\n",
       "      <td>S9</td>\n",
       "      <td>52</td>\n",
       "      <td>8</td>\n",
       "      <td>2024-02-15</td>\n",
       "      <td>70</td>\n",
       "      <td>2024-02-07</td>\n",
       "      <td>6.5</td>\n",
       "      <td>3.5</td>\n",
       "      <td>7.0</td>\n",
       "      <td>3.7</td>\n",
       "      <td>[10, 10, 7, 7]</td>\n",
       "      <td>10</td>\n",
       "      <td>7</td>\n",
       "    </tr>\n",
       "    <tr>\n",
       "      <th>0</th>\n",
       "      <td>S1</td>\n",
       "      <td>50</td>\n",
       "      <td>6</td>\n",
       "      <td>2024-02-10</td>\n",
       "      <td>80</td>\n",
       "      <td>2024-02-04</td>\n",
       "      <td>3.0</td>\n",
       "      <td>12.5</td>\n",
       "      <td>4.5</td>\n",
       "      <td>3.8</td>\n",
       "      <td>[10, 10, 8, 8]</td>\n",
       "      <td>10</td>\n",
       "      <td>8</td>\n",
       "    </tr>\n",
       "    <tr>\n",
       "      <th>3</th>\n",
       "      <td>S4</td>\n",
       "      <td>50</td>\n",
       "      <td>7</td>\n",
       "      <td>2024-02-10</td>\n",
       "      <td>63</td>\n",
       "      <td>2024-02-03</td>\n",
       "      <td>2.0</td>\n",
       "      <td>8.0</td>\n",
       "      <td>10.0</td>\n",
       "      <td>4.1</td>\n",
       "      <td>[9, 9, 7, 7]</td>\n",
       "      <td>9</td>\n",
       "      <td>7</td>\n",
       "    </tr>\n",
       "    <tr>\n",
       "      <th>17</th>\n",
       "      <td>S18</td>\n",
       "      <td>50</td>\n",
       "      <td>8</td>\n",
       "      <td>2024-02-15</td>\n",
       "      <td>63</td>\n",
       "      <td>2024-02-07</td>\n",
       "      <td>6.5</td>\n",
       "      <td>3.5</td>\n",
       "      <td>10.0</td>\n",
       "      <td>4.4</td>\n",
       "      <td>[9, 9, 7, 7]</td>\n",
       "      <td>9</td>\n",
       "      <td>7</td>\n",
       "    </tr>\n",
       "    <tr>\n",
       "      <th>19</th>\n",
       "      <td>S20</td>\n",
       "      <td>59</td>\n",
       "      <td>6</td>\n",
       "      <td>2024-02-15</td>\n",
       "      <td>90</td>\n",
       "      <td>2024-02-09</td>\n",
       "      <td>9.0</td>\n",
       "      <td>12.5</td>\n",
       "      <td>2.0</td>\n",
       "      <td>4.6</td>\n",
       "      <td>[10, 10, 9, 9]</td>\n",
       "      <td>10</td>\n",
       "      <td>9</td>\n",
       "    </tr>\n",
       "  </tbody>\n",
       "</table>\n",
       "</div>"
      ],
      "text/plain": [
       "    엔진명  중량  표준공기         납기  면적     최소착수요구일  날짜순서  공기순서  크기순서  우선순위  \\\n",
       "8    S9  52     8 2024-02-15  70  2024-02-07   6.5   3.5   7.0   3.7   \n",
       "0    S1  50     6 2024-02-10  80  2024-02-04   3.0  12.5   4.5   3.8   \n",
       "3    S4  50     7 2024-02-10  63  2024-02-03   2.0   8.0  10.0   4.1   \n",
       "17  S18  50     8 2024-02-15  63  2024-02-07   6.5   3.5  10.0   4.4   \n",
       "19  S20  59     6 2024-02-15  90  2024-02-09   9.0  12.5   2.0   4.6   \n",
       "\n",
       "             길이리스트  최장길이  최소길이  \n",
       "8   [10, 10, 7, 7]    10     7  \n",
       "0   [10, 10, 8, 8]    10     8  \n",
       "3     [9, 9, 7, 7]     9     7  \n",
       "17    [9, 9, 7, 7]     9     7  \n",
       "19  [10, 10, 9, 9]    10     9  "
      ]
     },
     "execution_count": 593,
     "metadata": {},
     "output_type": "execute_result"
    }
   ],
   "source": [
    "엔진데이터.head()"
   ]
  },
  {
   "cell_type": "code",
   "execution_count": 594,
   "id": "2cf14f0c",
   "metadata": {},
   "outputs": [
    {
     "data": {
      "text/html": [
       "<div>\n",
       "<style scoped>\n",
       "    .dataframe tbody tr th:only-of-type {\n",
       "        vertical-align: middle;\n",
       "    }\n",
       "\n",
       "    .dataframe tbody tr th {\n",
       "        vertical-align: top;\n",
       "    }\n",
       "\n",
       "    .dataframe thead th {\n",
       "        text-align: right;\n",
       "    }\n",
       "</style>\n",
       "<table border=\"1\" class=\"dataframe\">\n",
       "  <thead>\n",
       "    <tr style=\"text-align: right;\">\n",
       "      <th></th>\n",
       "      <th>베드명</th>\n",
       "      <th>가능중량</th>\n",
       "      <th>베드구분</th>\n",
       "      <th>모베드</th>\n",
       "      <th>길이리스트</th>\n",
       "      <th>면적리스트</th>\n",
       "      <th>평균면적</th>\n",
       "      <th>중량순서</th>\n",
       "      <th>크기순서</th>\n",
       "      <th>우선순위</th>\n",
       "    </tr>\n",
       "  </thead>\n",
       "  <tbody>\n",
       "    <tr>\n",
       "      <th>0</th>\n",
       "      <td>A</td>\n",
       "      <td>100</td>\n",
       "      <td>A</td>\n",
       "      <td>None</td>\n",
       "      <td>[20, 20, 10, 10]</td>\n",
       "      <td>[200]</td>\n",
       "      <td>200.0</td>\n",
       "      <td>4.0</td>\n",
       "      <td>2.0</td>\n",
       "      <td>1.1</td>\n",
       "    </tr>\n",
       "    <tr>\n",
       "      <th>1</th>\n",
       "      <td>B</td>\n",
       "      <td>100</td>\n",
       "      <td>B</td>\n",
       "      <td>None</td>\n",
       "      <td>[20, 20, 10, 10]</td>\n",
       "      <td>[200]</td>\n",
       "      <td>200.0</td>\n",
       "      <td>4.0</td>\n",
       "      <td>2.0</td>\n",
       "      <td>1.1</td>\n",
       "    </tr>\n",
       "    <tr>\n",
       "      <th>2</th>\n",
       "      <td>C</td>\n",
       "      <td>100</td>\n",
       "      <td>C</td>\n",
       "      <td>None</td>\n",
       "      <td>[20, 20, 10, 10]</td>\n",
       "      <td>[200]</td>\n",
       "      <td>200.0</td>\n",
       "      <td>4.0</td>\n",
       "      <td>2.0</td>\n",
       "      <td>1.1</td>\n",
       "    </tr>\n",
       "    <tr>\n",
       "      <th>3</th>\n",
       "      <td>D</td>\n",
       "      <td>100</td>\n",
       "      <td>D</td>\n",
       "      <td>None</td>\n",
       "      <td>[15, 15, 10, 10]</td>\n",
       "      <td>[150]</td>\n",
       "      <td>150.0</td>\n",
       "      <td>4.0</td>\n",
       "      <td>5.5</td>\n",
       "      <td>2.0</td>\n",
       "    </tr>\n",
       "    <tr>\n",
       "      <th>4</th>\n",
       "      <td>E</td>\n",
       "      <td>100</td>\n",
       "      <td>E</td>\n",
       "      <td>None</td>\n",
       "      <td>[15, 15, 10, 10]</td>\n",
       "      <td>[150]</td>\n",
       "      <td>150.0</td>\n",
       "      <td>4.0</td>\n",
       "      <td>5.5</td>\n",
       "      <td>2.0</td>\n",
       "    </tr>\n",
       "  </tbody>\n",
       "</table>\n",
       "</div>"
      ],
      "text/plain": [
       "  베드명  가능중량 베드구분   모베드             길이리스트  면적리스트   평균면적  중량순서  크기순서  우선순위\n",
       "0   A   100    A  None  [20, 20, 10, 10]  [200]  200.0   4.0   2.0   1.1\n",
       "1   B   100    B  None  [20, 20, 10, 10]  [200]  200.0   4.0   2.0   1.1\n",
       "2   C   100    C  None  [20, 20, 10, 10]  [200]  200.0   4.0   2.0   1.1\n",
       "3   D   100    D  None  [15, 15, 10, 10]  [150]  150.0   4.0   5.5   2.0\n",
       "4   E   100    E  None  [15, 15, 10, 10]  [150]  150.0   4.0   5.5   2.0"
      ]
     },
     "execution_count": 594,
     "metadata": {},
     "output_type": "execute_result"
    }
   ],
   "source": [
    "베드데이터.head()"
   ]
  },
  {
   "cell_type": "code",
   "execution_count": 595,
   "id": "17166a4f",
   "metadata": {
    "scrolled": true
   },
   "outputs": [
    {
     "name": "stderr",
     "output_type": "stream",
     "text": [
      " 24%|▏| 7/29 [00:00<00:00, 28.38i"
     ]
    },
    {
     "name": "stdout",
     "output_type": "stream",
     "text": [
      "\n",
      "*** 타겟엔진-name:S9,weight:52,size:70,길이리스트:[10, 10, 7, 7],최장길이:10,최소길이:7,최소착수요구일:2024-02-07,표준공기:8\n",
      "\n",
      ">>>[검토] 베드명:A, 공백순서1인덱스의날짜: 2024-02-03 00:00:00, 인덱스: 2, 확보가능공기:27.0\n",
      ">>>[검토] 베드명:B, 공백순서1인덱스의날짜: 2024-02-03 00:00:00, 인덱스: 2, 확보가능공기:27.0\n",
      ">>>[검토] 베드명:C, 공백순서1인덱스의날짜: 2024-02-03 00:00:00, 인덱스: 2, 확보가능공기:27.0\n",
      ">>>[검토] 베드명:D, 공백순서1인덱스의날짜: 2024-02-03 00:00:00, 인덱스: 2, 확보가능공기:27.0\n",
      ">>>[검토] 베드명:E, 공백순서1인덱스의날짜: 2024-02-03 00:00:00, 인덱스: 2, 확보가능공기:27.0\n",
      ">>>[검토] 베드명:F, 공백순서1인덱스의날짜: 2024-02-03 00:00:00, 인덱스: 2, 확보가능공기:27.0\n",
      ">>>[검토] 베드명:G, 공백순서1인덱스의날짜: 2024-02-03 00:00:00, 인덱스: 2, 확보가능공기:27.0\n",
      "*** 최선조기착수 가능베드:2024-02-03 00:00:00 ---> ['A', 'B', 'C', 'D', 'E', 'F', 'G']\n",
      "\n",
      "* 베드명:A,  가능중량:100, 길이리스트:[20, 20, 10, 10], 면적리스트:[200]\n",
      ">>>[검토]A베드의 면적_최장길이 적합도 함수 체크\n",
      ">>>[검토]베드 A의 면적/사이즈 배치가능 여부:['적합'] / 베드가능중량:100 베드면적리스트:[200], 길이리스트:[20, 20, 10, 10]\n",
      "\n",
      "* 베드명:B,  가능중량:100, 길이리스트:[20, 20, 10, 10], 면적리스트:[200]\n",
      ">>>[검토]B베드의 면적_최장길이 적합도 함수 체크\n",
      ">>>[검토]베드 B의 면적/사이즈 배치가능 여부:['적합'] / 베드가능중량:100 베드면적리스트:[200], 길이리스트:[20, 20, 10, 10]\n",
      "\n",
      "* 베드명:C,  가능중량:100, 길이리스트:[20, 20, 10, 10], 면적리스트:[200]\n",
      ">>>[검토]C베드의 면적_최장길이 적합도 함수 체크\n",
      ">>>[검토]베드 C의 면적/사이즈 배치가능 여부:['적합'] / 베드가능중량:100 베드면적리스트:[200], 길이리스트:[20, 20, 10, 10]\n",
      "\n",
      "* 베드명:D,  가능중량:100, 길이리스트:[15, 15, 10, 10], 면적리스트:[150]\n",
      ">>>[검토]D베드의 면적_최장길이 적합도 함수 체크\n",
      ">>>[검토]베드 D의 면적/사이즈 배치가능 여부:['적합'] / 베드가능중량:100 베드면적리스트:[150], 길이리스트:[15, 15, 10, 10]\n",
      "\n",
      "* 베드명:E,  가능중량:100, 길이리스트:[15, 15, 10, 10], 면적리스트:[150]\n",
      ">>>[검토]E베드의 면적_최장길이 적합도 함수 체크\n",
      ">>>[검토]베드 E의 면적/사이즈 배치가능 여부:['적합'] / 베드가능중량:100 베드면적리스트:[150], 길이리스트:[15, 15, 10, 10]\n",
      "\n",
      "* 베드명:F,  가능중량:100, 길이리스트:[15, 15, 10, 10], 면적리스트:[150]\n",
      ">>>[검토]F베드의 면적_최장길이 적합도 함수 체크\n",
      ">>>[검토]베드 F의 면적/사이즈 배치가능 여부:['적합'] / 베드가능중량:100 베드면적리스트:[150], 길이리스트:[15, 15, 10, 10]\n",
      "\n",
      "* 베드명:G,  가능중량:100, 길이리스트:[15, 15, 10, 10], 면적리스트:[150]\n",
      ">>>[검토]G베드의 면적_최장길이 적합도 함수 체크\n",
      ">>>[검토]베드 G의 면적/사이즈 배치가능 여부:['적합'] / 베드가능중량:100 베드면적리스트:[150], 길이리스트:[15, 15, 10, 10]\n",
      "\n",
      "*** 물리적 스펙 가능 베드: ['A', 'B', 'C', 'D', 'E', 'F', 'G']\n",
      "\n",
      "***  정상배치 최종배정결과 : {'엔진명': 'S9', '베드명': 'C', '착수일': '2024-02-03'}\n",
      "================================================================================\n",
      "\n",
      "(엔진배치후) 수정엔진리스트 : ['S1', 'S4', 'S18', 'S20', 'S25', 'S5', 'S6', 'S16', 'S7', 'S3', 'S10', 'S11', 'S22', 'S28', 'S2', 'S24', 'S8', 'S13', 'S23', 'S21', 'S19', 'S12', 'S15', 'S27', 'S29', 'S17', 'S14', 'S26']\n",
      "\n",
      "*** 타겟엔진-name:S1,weight:50,size:80,길이리스트:[10, 10, 8, 8],최장길이:10,최소길이:8,최소착수요구일:2024-02-04,표준공기:6\n",
      "\n",
      ">>>[검토] 베드명:A, 공백순서1인덱스의날짜: 2024-02-03 00:00:00, 인덱스: 2, 확보가능공기:27.0\n",
      ">>>[검토] 베드명:B, 공백순서1인덱스의날짜: 2024-02-03 00:00:00, 인덱스: 2, 확보가능공기:27.0\n",
      ">>>[검토] 베드명:C, 공백순서1인덱스의날짜: 2024-02-11 00:00:00, 인덱스: 10, 확보가능공기:19.0\n",
      ">>>[검토] 베드명:D, 공백순서1인덱스의날짜: 2024-02-03 00:00:00, 인덱스: 2, 확보가능공기:27.0\n",
      ">>>[검토] 베드명:E, 공백순서1인덱스의날짜: 2024-02-03 00:00:00, 인덱스: 2, 확보가능공기:27.0\n",
      ">>>[검토] 베드명:F, 공백순서1인덱스의날짜: 2024-02-03 00:00:00, 인덱스: 2, 확보가능공기:27.0\n",
      ">>>[검토] 베드명:G, 공백순서1인덱스의날짜: 2024-02-03 00:00:00, 인덱스: 2, 확보가능공기:27.0\n",
      "*** 최선조기착수 가능베드:2024-02-03 00:00:00 ---> ['A', 'B', 'D', 'E', 'F', 'G']\n",
      "\n",
      "* 베드명:A,  가능중량:100, 길이리스트:[20, 20, 10, 10], 면적리스트:[200]\n",
      ">>>[검토]A베드의 면적_최장길이 적합도 함수 체크\n",
      ">>>[검토]베드 A의 면적/사이즈 배치가능 여부:['적합'] / 베드가능중량:100 베드면적리스트:[200], 길이리스트:[20, 20, 10, 10]\n",
      "\n",
      "* 베드명:B,  가능중량:100, 길이리스트:[20, 20, 10, 10], 면적리스트:[200]\n",
      ">>>[검토]B베드의 면적_최장길이 적합도 함수 체크\n",
      ">>>[검토]베드 B의 면적/사이즈 배치가능 여부:['적합'] / 베드가능중량:100 베드면적리스트:[200], 길이리스트:[20, 20, 10, 10]\n",
      "\n",
      "* 베드명:D,  가능중량:100, 길이리스트:[15, 15, 10, 10], 면적리스트:[150]\n",
      ">>>[검토]D베드의 면적_최장길이 적합도 함수 체크\n",
      ">>>[검토]베드 D의 면적/사이즈 배치가능 여부:['적합'] / 베드가능중량:100 베드면적리스트:[150], 길이리스트:[15, 15, 10, 10]\n",
      "\n",
      "* 베드명:E,  가능중량:100, 길이리스트:[15, 15, 10, 10], 면적리스트:[150]\n",
      ">>>[검토]E베드의 면적_최장길이 적합도 함수 체크\n",
      ">>>[검토]베드 E의 면적/사이즈 배치가능 여부:['적합'] / 베드가능중량:100 베드면적리스트:[150], 길이리스트:[15, 15, 10, 10]\n",
      "\n",
      "* 베드명:F,  가능중량:100, 길이리스트:[15, 15, 10, 10], 면적리스트:[150]\n",
      ">>>[검토]F베드의 면적_최장길이 적합도 함수 체크\n",
      ">>>[검토]베드 F의 면적/사이즈 배치가능 여부:['적합'] / 베드가능중량:100 베드면적리스트:[150], 길이리스트:[15, 15, 10, 10]\n",
      "\n",
      "* 베드명:G,  가능중량:100, 길이리스트:[15, 15, 10, 10], 면적리스트:[150]\n",
      ">>>[검토]G베드의 면적_최장길이 적합도 함수 체크\n",
      ">>>[검토]베드 G의 면적/사이즈 배치가능 여부:['적합'] / 베드가능중량:100 베드면적리스트:[150], 길이리스트:[15, 15, 10, 10]\n",
      "\n",
      "*** 물리적 스펙 가능 베드: ['A', 'B', 'D', 'E', 'F', 'G']\n",
      "\n",
      "***  정상배치 최종배정결과 : {'엔진명': 'S1', '베드명': 'B', '착수일': '2024-02-03'}\n",
      "================================================================================\n",
      "\n",
      "(엔진배치후) 수정엔진리스트 : ['S4', 'S18', 'S20', 'S25', 'S5', 'S6', 'S16', 'S7', 'S3', 'S10', 'S11', 'S22', 'S28', 'S2', 'S24', 'S8', 'S13', 'S23', 'S21', 'S19', 'S12', 'S15', 'S27', 'S29', 'S17', 'S14', 'S26']\n",
      "\n",
      "*** 타겟엔진-name:S4,weight:50,size:63,길이리스트:[9, 9, 7, 7],최장길이:9,최소길이:7,최소착수요구일:2024-02-03,표준공기:7\n",
      "\n",
      ">>>[검토] 베드명:A, 공백순서1인덱스의날짜: 2024-02-03 00:00:00, 인덱스: 2, 확보가능공기:27.0\n",
      ">>>[검토] 베드명:B, 공백순서1인덱스의날짜: 2024-02-09 00:00:00, 인덱스: 8, 확보가능공기:21.0\n",
      ">>>[검토] 베드명:C, 공백순서1인덱스의날짜: 2024-02-11 00:00:00, 인덱스: 10, 확보가능공기:19.0\n",
      ">>>[검토] 베드명:D, 공백순서1인덱스의날짜: 2024-02-03 00:00:00, 인덱스: 2, 확보가능공기:27.0\n",
      ">>>[검토] 베드명:E, 공백순서1인덱스의날짜: 2024-02-03 00:00:00, 인덱스: 2, 확보가능공기:27.0\n",
      ">>>[검토] 베드명:F, 공백순서1인덱스의날짜: 2024-02-03 00:00:00, 인덱스: 2, 확보가능공기:27.0\n",
      ">>>[검토] 베드명:G, 공백순서1인덱스의날짜: 2024-02-03 00:00:00, 인덱스: 2, 확보가능공기:27.0\n",
      "*** 최선조기착수 가능베드:2024-02-03 00:00:00 ---> ['A', 'D', 'E', 'F', 'G']\n",
      "\n",
      "* 베드명:A,  가능중량:100, 길이리스트:[20, 20, 10, 10], 면적리스트:[200]\n",
      ">>>[검토]A베드의 면적_최장길이 적합도 함수 체크\n",
      ">>>[검토]베드 A의 면적/사이즈 배치가능 여부:['적합'] / 베드가능중량:100 베드면적리스트:[200], 길이리스트:[20, 20, 10, 10]\n",
      "\n",
      "* 베드명:D,  가능중량:100, 길이리스트:[15, 15, 10, 10], 면적리스트:[150]\n",
      ">>>[검토]D베드의 면적_최장길이 적합도 함수 체크\n",
      ">>>[검토]베드 D의 면적/사이즈 배치가능 여부:['적합'] / 베드가능중량:100 베드면적리스트:[150], 길이리스트:[15, 15, 10, 10]\n",
      "\n",
      "* 베드명:E,  가능중량:100, 길이리스트:[15, 15, 10, 10], 면적리스트:[150]\n",
      ">>>[검토]E베드의 면적_최장길이 적합도 함수 체크\n",
      ">>>[검토]베드 E의 면적/사이즈 배치가능 여부:['적합'] / 베드가능중량:100 베드면적리스트:[150], 길이리스트:[15, 15, 10, 10]\n",
      "\n",
      "* 베드명:F,  가능중량:100, 길이리스트:[15, 15, 10, 10], 면적리스트:[150]\n",
      ">>>[검토]F베드의 면적_최장길이 적합도 함수 체크\n",
      ">>>[검토]베드 F의 면적/사이즈 배치가능 여부:['적합'] / 베드가능중량:100 베드면적리스트:[150], 길이리스트:[15, 15, 10, 10]\n",
      "\n",
      "* 베드명:G,  가능중량:100, 길이리스트:[15, 15, 10, 10], 면적리스트:[150]\n",
      ">>>[검토]G베드의 면적_최장길이 적합도 함수 체크\n",
      ">>>[검토]베드 G의 면적/사이즈 배치가능 여부:['적합'] / 베드가능중량:100 베드면적리스트:[150], 길이리스트:[15, 15, 10, 10]\n",
      "\n",
      "*** 물리적 스펙 가능 베드: ['A', 'D', 'E', 'F', 'G']\n",
      "\n",
      "***  정상배치 최종배정결과 : {'엔진명': 'S4', '베드명': 'E', '착수일': '2024-02-03'}\n",
      "================================================================================\n",
      "\n",
      "(엔진배치후) 수정엔진리스트 : ['S18', 'S20', 'S25', 'S5', 'S6', 'S16', 'S7', 'S3', 'S10', 'S11', 'S22', 'S28', 'S2', 'S24', 'S8', 'S13', 'S23', 'S21', 'S19', 'S12', 'S15', 'S27', 'S29', 'S17', 'S14', 'S26']\n",
      "\n",
      "*** 타겟엔진-name:S18,weight:50,size:63,길이리스트:[9, 9, 7, 7],최장길이:9,최소길이:7,최소착수요구일:2024-02-07,표준공기:8\n",
      "\n",
      ">>>[검토] 베드명:A, 공백순서1인덱스의날짜: 2024-02-03 00:00:00, 인덱스: 2, 확보가능공기:27.0\n",
      ">>>[검토] 베드명:B, 공백순서1인덱스의날짜: 2024-02-09 00:00:00, 인덱스: 8, 확보가능공기:21.0\n",
      ">>>[검토] 베드명:C, 공백순서1인덱스의날짜: 2024-02-11 00:00:00, 인덱스: 10, 확보가능공기:19.0\n",
      ">>>[검토] 베드명:D, 공백순서1인덱스의날짜: 2024-02-03 00:00:00, 인덱스: 2, 확보가능공기:27.0\n",
      ">>>[검토] 베드명:E, 공백순서1인덱스의날짜: 2024-02-10 00:00:00, 인덱스: 9, 확보가능공기:20.0\n",
      ">>>[검토] 베드명:F, 공백순서1인덱스의날짜: 2024-02-03 00:00:00, 인덱스: 2, 확보가능공기:27.0\n",
      ">>>[검토] 베드명:G, 공백순서1인덱스의날짜: 2024-02-03 00:00:00, 인덱스: 2, 확보가능공기:27.0\n",
      "*** 최선조기착수 가능베드:2024-02-03 00:00:00 ---> ['A', 'D', 'F', 'G']\n",
      "\n",
      "* 베드명:A,  가능중량:100, 길이리스트:[20, 20, 10, 10], 면적리스트:[200]\n",
      ">>>[검토]A베드의 면적_최장길이 적합도 함수 체크\n",
      ">>>[검토]베드 A의 면적/사이즈 배치가능 여부:['적합'] / 베드가능중량:100 베드면적리스트:[200], 길이리스트:[20, 20, 10, 10]\n",
      "\n",
      "* 베드명:D,  가능중량:100, 길이리스트:[15, 15, 10, 10], 면적리스트:[150]\n",
      ">>>[검토]D베드의 면적_최장길이 적합도 함수 체크\n",
      ">>>[검토]베드 D의 면적/사이즈 배치가능 여부:['적합'] / 베드가능중량:100 베드면적리스트:[150], 길이리스트:[15, 15, 10, 10]\n",
      "\n",
      "* 베드명:F,  가능중량:100, 길이리스트:[15, 15, 10, 10], 면적리스트:[150]\n",
      ">>>[검토]F베드의 면적_최장길이 적합도 함수 체크\n",
      ">>>[검토]베드 F의 면적/사이즈 배치가능 여부:['적합'] / 베드가능중량:100 베드면적리스트:[150], 길이리스트:[15, 15, 10, 10]\n",
      "\n",
      "* 베드명:G,  가능중량:100, 길이리스트:[15, 15, 10, 10], 면적리스트:[150]\n",
      ">>>[검토]G베드의 면적_최장길이 적합도 함수 체크\n",
      ">>>[검토]베드 G의 면적/사이즈 배치가능 여부:['적합'] / 베드가능중량:100 베드면적리스트:[150], 길이리스트:[15, 15, 10, 10]\n",
      "\n",
      "*** 물리적 스펙 가능 베드: ['A', 'D', 'F', 'G']\n",
      "\n",
      "***  정상배치 최종배정결과 : {'엔진명': 'S18', '베드명': 'F', '착수일': '2024-02-03'}\n",
      "================================================================================\n",
      "\n",
      "(엔진배치후) 수정엔진리스트 : ['S20', 'S25', 'S5', 'S6', 'S16', 'S7', 'S3', 'S10', 'S11', 'S22', 'S28', 'S2', 'S24', 'S8', 'S13', 'S23', 'S21', 'S19', 'S12', 'S15', 'S27', 'S29', 'S17', 'S14', 'S26']\n",
      "\n",
      "*** 타겟엔진-name:S20,weight:59,size:90,길이리스트:[10, 10, 9, 9],최장길이:10,최소길이:9,최소착수요구일:2024-02-09,표준공기:6\n",
      "\n",
      ">>>[검토] 베드명:A, 공백순서1인덱스의날짜: 2024-02-03 00:00:00, 인덱스: 2, 확보가능공기:27.0\n",
      ">>>[검토] 베드명:B, 공백순서1인덱스의날짜: 2024-02-09 00:00:00, 인덱스: 8, 확보가능공기:21.0\n",
      ">>>[검토] 베드명:C, 공백순서1인덱스의날짜: 2024-02-11 00:00:00, 인덱스: 10, 확보가능공기:19.0\n",
      ">>>[검토] 베드명:D, 공백순서1인덱스의날짜: 2024-02-03 00:00:00, 인덱스: 2, 확보가능공기:27.0\n",
      ">>>[검토] 베드명:E, 공백순서1인덱스의날짜: 2024-02-10 00:00:00, 인덱스: 9, 확보가능공기:20.0\n",
      ">>>[검토] 베드명:F, 공백순서1인덱스의날짜: 2024-02-11 00:00:00, 인덱스: 10, 확보가능공기:19.0\n",
      ">>>[검토] 베드명:G, 공백순서1인덱스의날짜: 2024-02-03 00:00:00, 인덱스: 2, 확보가능공기:27.0\n",
      "*** 최선조기착수 가능베드:2024-02-03 00:00:00 ---> ['A', 'D', 'G']\n",
      "\n",
      "* 베드명:A,  가능중량:100, 길이리스트:[20, 20, 10, 10], 면적리스트:[200]\n",
      ">>>[검토]A베드의 면적_최장길이 적합도 함수 체크\n",
      ">>>[검토]베드 A의 면적/사이즈 배치가능 여부:['적합'] / 베드가능중량:100 베드면적리스트:[200], 길이리스트:[20, 20, 10, 10]\n",
      "\n",
      "* 베드명:D,  가능중량:100, 길이리스트:[15, 15, 10, 10], 면적리스트:[150]\n",
      ">>>[검토]D베드의 면적_최장길이 적합도 함수 체크\n",
      ">>>[검토]베드 D의 면적/사이즈 배치가능 여부:['적합'] / 베드가능중량:100 베드면적리스트:[150], 길이리스트:[15, 15, 10, 10]\n",
      "\n",
      "* 베드명:G,  가능중량:100, 길이리스트:[15, 15, 10, 10], 면적리스트:[150]\n",
      ">>>[검토]G베드의 면적_최장길이 적합도 함수 체크\n",
      ">>>[검토]베드 G의 면적/사이즈 배치가능 여부:['적합'] / 베드가능중량:100 베드면적리스트:[150], 길이리스트:[15, 15, 10, 10]\n",
      "\n",
      "*** 물리적 스펙 가능 베드: ['A', 'D', 'G']\n",
      "\n",
      "***  정상배치 최종배정결과 : {'엔진명': 'S20', '베드명': 'D', '착수일': '2024-02-03'}\n",
      "================================================================================\n",
      "\n",
      "(엔진배치후) 수정엔진리스트 : ['S25', 'S5', 'S6', 'S16', 'S7', 'S3', 'S10', 'S11', 'S22', 'S28', 'S2', 'S24', 'S8', 'S13', 'S23', 'S21', 'S19', 'S12', 'S15', 'S27', 'S29', 'S17', 'S14', 'S26']\n",
      "\n",
      "*** 타겟엔진-name:S25,weight:55,size:72,길이리스트:[9, 9, 8, 8],최장길이:9,최소길이:8,최소착수요구일:2024-02-12,표준공기:8\n",
      "\n",
      ">>>[검토] 베드명:A, 공백순서1인덱스의날짜: 2024-02-03 00:00:00, 인덱스: 2, 확보가능공기:27.0\n",
      ">>>[검토] 베드명:B, 공백순서1인덱스의날짜: 2024-02-09 00:00:00, 인덱스: 8, 확보가능공기:21.0\n",
      ">>>[검토] 베드명:C, 공백순서1인덱스의날짜: 2024-02-11 00:00:00, 인덱스: 10, 확보가능공기:19.0\n",
      ">>>[검토] 베드명:D, 공백순서1인덱스의날짜: 2024-02-09 00:00:00, 인덱스: 8, 확보가능공기:21.0\n",
      ">>>[검토] 베드명:E, 공백순서1인덱스의날짜: 2024-02-10 00:00:00, 인덱스: 9, 확보가능공기:20.0\n",
      ">>>[검토] 베드명:F, 공백순서1인덱스의날짜: 2024-02-11 00:00:00, 인덱스: 10, 확보가능공기:19.0\n",
      ">>>[검토] 베드명:G, 공백순서1인덱스의날짜: 2024-02-03 00:00:00, 인덱스: 2, 확보가능공기:27.0\n",
      "*** 최선조기착수 가능베드:2024-02-03 00:00:00 ---> ['A', 'G']\n",
      "\n",
      "* 베드명:A,  가능중량:100, 길이리스트:[20, 20, 10, 10], 면적리스트:[200]\n",
      ">>>[검토]A베드의 면적_최장길이 적합도 함수 체크\n",
      ">>>[검토]베드 A의 면적/사이즈 배치가능 여부:['적합'] / 베드가능중량:100 베드면적리스트:[200], 길이리스트:[20, 20, 10, 10]\n",
      "\n",
      "* 베드명:G,  가능중량:100, 길이리스트:[15, 15, 10, 10], 면적리스트:[150]\n",
      ">>>[검토]G베드의 면적_최장길이 적합도 함수 체크\n",
      ">>>[검토]베드 G의 면적/사이즈 배치가능 여부:['적합'] / 베드가능중량:100 베드면적리스트:[150], 길이리스트:[15, 15, 10, 10]\n",
      "\n",
      "*** 물리적 스펙 가능 베드: ['A', 'G']\n",
      "\n",
      "***  정상배치 최종배정결과 : {'엔진명': 'S25', '베드명': 'G', '착수일': '2024-02-03'}\n",
      "================================================================================\n",
      "\n",
      "(엔진배치후) 수정엔진리스트 : ['S5', 'S6', 'S16', 'S7', 'S3', 'S10', 'S11', 'S22', 'S28', 'S2', 'S24', 'S8', 'S13', 'S23', 'S21', 'S19', 'S12', 'S15', 'S27', 'S29', 'S17', 'S14', 'S26']\n",
      "\n",
      "*** 타겟엔진-name:S5,weight:57,size:63,길이리스트:[9, 9, 7, 7],최장길이:9,최소길이:7,최소착수요구일:2024-02-05,표준공기:5\n",
      "\n",
      ">>>[검토] 베드명:A, 공백순서1인덱스의날짜: 2024-02-03 00:00:00, 인덱스: 2, 확보가능공기:27.0\n",
      ">>>[검토] 베드명:B, 공백순서1인덱스의날짜: 2024-02-09 00:00:00, 인덱스: 8, 확보가능공기:21.0\n",
      ">>>[검토] 베드명:C, 공백순서1인덱스의날짜: 2024-02-11 00:00:00, 인덱스: 10, 확보가능공기:19.0\n",
      ">>>[검토] 베드명:D, 공백순서1인덱스의날짜: 2024-02-09 00:00:00, 인덱스: 8, 확보가능공기:21.0\n",
      ">>>[검토] 베드명:E, 공백순서1인덱스의날짜: 2024-02-10 00:00:00, 인덱스: 9, 확보가능공기:20.0\n",
      ">>>[검토] 베드명:F, 공백순서1인덱스의날짜: 2024-02-11 00:00:00, 인덱스: 10, 확보가능공기:19.0\n",
      ">>>[검토] 베드명:G, 공백순서1인덱스의날짜: 2024-02-11 00:00:00, 인덱스: 10, 확보가능공기:19.0\n",
      "*** 최선조기착수 가능베드:2024-02-03 00:00:00 ---> ['A']\n",
      "\n",
      "* 베드명:A,  가능중량:100, 길이리스트:[20, 20, 10, 10], 면적리스트:[200]\n",
      ">>>[검토]A베드의 면적_최장길이 적합도 함수 체크\n",
      ">>>[검토]베드 A의 면적/사이즈 배치가능 여부:['적합'] / 베드가능중량:100 베드면적리스트:[200], 길이리스트:[20, 20, 10, 10]\n",
      "\n",
      "*** 물리적 스펙 가능 베드: ['A']\n",
      "\n",
      "***  정상배치 최종배정결과 : {'엔진명': 'S5', '베드명': 'A', '착수일': '2024-02-03'}\n",
      "================================================================================\n",
      "\n",
      "(엔진배치후) 수정엔진리스트 : ['S6', 'S16', 'S7', 'S3', 'S10', 'S11', 'S22', 'S28', 'S2', 'S24', 'S8', 'S13', 'S23', 'S21', 'S19', 'S12', 'S15', 'S27', 'S29', 'S17', 'S14', 'S26']\n"
     ]
    },
    {
     "name": "stderr",
     "output_type": "stream",
     "text": [
      " 55%|▌| 16/29 [00:00<00:00, 34.67"
     ]
    },
    {
     "name": "stdout",
     "output_type": "stream",
     "text": [
      "\n",
      "*** 타겟엔진-name:S6,weight:59,size:63,길이리스트:[9, 9, 7, 7],최장길이:9,최소길이:7,최소착수요구일:2024-02-09,표준공기:6\n",
      "\n",
      ">>>[검토] 베드명:A, 공백순서1인덱스의날짜: 2024-02-08 00:00:00, 인덱스: 7, 확보가능공기:22.0\n",
      ">>>[검토] 베드명:B, 공백순서1인덱스의날짜: 2024-02-09 00:00:00, 인덱스: 8, 확보가능공기:21.0\n",
      ">>>[검토] 베드명:C, 공백순서1인덱스의날짜: 2024-02-11 00:00:00, 인덱스: 10, 확보가능공기:19.0\n",
      ">>>[검토] 베드명:D, 공백순서1인덱스의날짜: 2024-02-09 00:00:00, 인덱스: 8, 확보가능공기:21.0\n",
      ">>>[검토] 베드명:E, 공백순서1인덱스의날짜: 2024-02-10 00:00:00, 인덱스: 9, 확보가능공기:20.0\n",
      ">>>[검토] 베드명:F, 공백순서1인덱스의날짜: 2024-02-11 00:00:00, 인덱스: 10, 확보가능공기:19.0\n",
      ">>>[검토] 베드명:G, 공백순서1인덱스의날짜: 2024-02-11 00:00:00, 인덱스: 10, 확보가능공기:19.0\n",
      "*** 최선조기착수 가능베드:2024-02-08 00:00:00 ---> ['A']\n",
      "\n",
      "* 베드명:A,  가능중량:100, 길이리스트:[20, 20, 10, 10], 면적리스트:[200]\n",
      ">>>[검토]A베드의 면적_최장길이 적합도 함수 체크\n",
      ">>>[검토]베드 A의 면적/사이즈 배치가능 여부:['적합'] / 베드가능중량:100 베드면적리스트:[200], 길이리스트:[20, 20, 10, 10]\n",
      "\n",
      "*** 물리적 스펙 가능 베드: ['A']\n",
      "\n",
      "***  정상배치 최종배정결과 : {'엔진명': 'S6', '베드명': 'A', '착수일': '2024-02-08'}\n",
      "================================================================================\n",
      "\n",
      "(엔진배치후) 수정엔진리스트 : ['S16', 'S7', 'S3', 'S10', 'S11', 'S22', 'S28', 'S2', 'S24', 'S8', 'S13', 'S23', 'S21', 'S19', 'S12', 'S15', 'S27', 'S29', 'S17', 'S14', 'S26']\n",
      "\n",
      "*** 타겟엔진-name:S16,weight:56,size:81,길이리스트:[9, 9, 9, 9],최장길이:9,최소길이:9,최소착수요구일:2024-02-10,표준공기:5\n",
      "\n",
      ">>>[검토] 베드명:A, 공백순서1인덱스의날짜: 2024-02-14 00:00:00, 인덱스: 13, 확보가능공기:16.0\n",
      ">>>[검토] 베드명:B, 공백순서1인덱스의날짜: 2024-02-09 00:00:00, 인덱스: 8, 확보가능공기:21.0\n",
      ">>>[검토] 베드명:C, 공백순서1인덱스의날짜: 2024-02-11 00:00:00, 인덱스: 10, 확보가능공기:19.0\n",
      ">>>[검토] 베드명:D, 공백순서1인덱스의날짜: 2024-02-09 00:00:00, 인덱스: 8, 확보가능공기:21.0\n",
      ">>>[검토] 베드명:E, 공백순서1인덱스의날짜: 2024-02-10 00:00:00, 인덱스: 9, 확보가능공기:20.0\n",
      ">>>[검토] 베드명:F, 공백순서1인덱스의날짜: 2024-02-11 00:00:00, 인덱스: 10, 확보가능공기:19.0\n",
      ">>>[검토] 베드명:G, 공백순서1인덱스의날짜: 2024-02-11 00:00:00, 인덱스: 10, 확보가능공기:19.0\n",
      "*** 최선조기착수 가능베드:2024-02-09 00:00:00 ---> ['B', 'D']\n",
      "\n",
      "* 베드명:B,  가능중량:100, 길이리스트:[20, 20, 10, 10], 면적리스트:[200]\n",
      ">>>[검토]B베드의 면적_최장길이 적합도 함수 체크\n",
      ">>>[검토]베드 B의 면적/사이즈 배치가능 여부:['적합'] / 베드가능중량:100 베드면적리스트:[200], 길이리스트:[20, 20, 10, 10]\n",
      "\n",
      "* 베드명:D,  가능중량:100, 길이리스트:[15, 15, 10, 10], 면적리스트:[150]\n",
      ">>>[검토]D베드의 면적_최장길이 적합도 함수 체크\n",
      ">>>[검토]베드 D의 면적/사이즈 배치가능 여부:['적합'] / 베드가능중량:100 베드면적리스트:[150], 길이리스트:[15, 15, 10, 10]\n",
      "\n",
      "*** 물리적 스펙 가능 베드: ['B', 'D']\n",
      "\n",
      "***  정상배치 최종배정결과 : {'엔진명': 'S16', '베드명': 'B', '착수일': '2024-02-09'}\n",
      "================================================================================\n",
      "\n",
      "(엔진배치후) 수정엔진리스트 : ['S7', 'S3', 'S10', 'S11', 'S22', 'S28', 'S2', 'S24', 'S8', 'S13', 'S23', 'S21', 'S19', 'S12', 'S15', 'S27', 'S29', 'S17', 'S14', 'S26']\n",
      "\n",
      "*** 타겟엔진-name:S7,weight:50,size:60,길이리스트:[10, 10, 6, 6],최장길이:10,최소길이:6,최소착수요구일:2024-02-09,표준공기:6\n",
      "\n",
      ">>>[검토] 베드명:A, 공백순서1인덱스의날짜: 2024-02-14 00:00:00, 인덱스: 13, 확보가능공기:16.0\n",
      ">>>[검토] 베드명:B, 공백순서1인덱스의날짜: 2024-02-14 00:00:00, 인덱스: 13, 확보가능공기:16.0\n",
      ">>>[검토] 베드명:C, 공백순서1인덱스의날짜: 2024-02-11 00:00:00, 인덱스: 10, 확보가능공기:19.0\n",
      ">>>[검토] 베드명:D, 공백순서1인덱스의날짜: 2024-02-09 00:00:00, 인덱스: 8, 확보가능공기:21.0\n",
      ">>>[검토] 베드명:E, 공백순서1인덱스의날짜: 2024-02-10 00:00:00, 인덱스: 9, 확보가능공기:20.0\n",
      ">>>[검토] 베드명:F, 공백순서1인덱스의날짜: 2024-02-11 00:00:00, 인덱스: 10, 확보가능공기:19.0\n",
      ">>>[검토] 베드명:G, 공백순서1인덱스의날짜: 2024-02-11 00:00:00, 인덱스: 10, 확보가능공기:19.0\n",
      "*** 최선조기착수 가능베드:2024-02-09 00:00:00 ---> ['D']\n",
      "\n",
      "* 베드명:D,  가능중량:100, 길이리스트:[15, 15, 10, 10], 면적리스트:[150]\n",
      ">>>[검토]D베드의 면적_최장길이 적합도 함수 체크\n",
      ">>>[검토]베드 D의 면적/사이즈 배치가능 여부:['적합'] / 베드가능중량:100 베드면적리스트:[150], 길이리스트:[15, 15, 10, 10]\n",
      "\n",
      "*** 물리적 스펙 가능 베드: ['D']\n",
      "\n",
      "***  정상배치 최종배정결과 : {'엔진명': 'S7', '베드명': 'D', '착수일': '2024-02-09'}\n",
      "================================================================================\n",
      "\n",
      "(엔진배치후) 수정엔진리스트 : ['S3', 'S10', 'S11', 'S22', 'S28', 'S2', 'S24', 'S8', 'S13', 'S23', 'S21', 'S19', 'S12', 'S15', 'S27', 'S29', 'S17', 'S14', 'S26']\n",
      "\n",
      "*** 타겟엔진-name:S3,weight:53,size:25,길이리스트:[5, 5, 5, 5],최장길이:5,최소길이:5,최소착수요구일:2024-02-02,표준공기:8\n",
      "\n",
      ">>>[검토] 베드명:A, 공백순서1인덱스의날짜: 2024-02-14 00:00:00, 인덱스: 13, 확보가능공기:16.0\n",
      ">>>[검토] 베드명:B, 공백순서1인덱스의날짜: 2024-02-14 00:00:00, 인덱스: 13, 확보가능공기:16.0\n",
      ">>>[검토] 베드명:C, 공백순서1인덱스의날짜: 2024-02-11 00:00:00, 인덱스: 10, 확보가능공기:19.0\n",
      ">>>[검토] 베드명:D, 공백순서1인덱스의날짜: 2024-02-15 00:00:00, 인덱스: 14, 확보가능공기:15.0\n",
      ">>>[검토] 베드명:E, 공백순서1인덱스의날짜: 2024-02-10 00:00:00, 인덱스: 9, 확보가능공기:20.0\n",
      ">>>[검토] 베드명:F, 공백순서1인덱스의날짜: 2024-02-11 00:00:00, 인덱스: 10, 확보가능공기:19.0\n",
      ">>>[검토] 베드명:G, 공백순서1인덱스의날짜: 2024-02-11 00:00:00, 인덱스: 10, 확보가능공기:19.0\n",
      "★ 날짜 조건에 따른 배치가능한 베드이 없습니다.!!!!\n",
      "================================================================================\n",
      "\n",
      "*** 타겟엔진-name:S10,weight:57,size:100,길이리스트:[10, 10, 10, 10],최장길이:10,최소길이:10,최소착수요구일:2024-02-11,표준공기:4\n",
      "\n",
      ">>>[검토] 베드명:A, 공백순서1인덱스의날짜: 2024-02-14 00:00:00, 인덱스: 13, 확보가능공기:16.0\n",
      ">>>[검토] 베드명:B, 공백순서1인덱스의날짜: 2024-02-14 00:00:00, 인덱스: 13, 확보가능공기:16.0\n",
      ">>>[검토] 베드명:C, 공백순서1인덱스의날짜: 2024-02-11 00:00:00, 인덱스: 10, 확보가능공기:19.0\n",
      ">>>[검토] 베드명:D, 공백순서1인덱스의날짜: 2024-02-15 00:00:00, 인덱스: 14, 확보가능공기:15.0\n",
      ">>>[검토] 베드명:E, 공백순서1인덱스의날짜: 2024-02-10 00:00:00, 인덱스: 9, 확보가능공기:20.0\n",
      ">>>[검토] 베드명:F, 공백순서1인덱스의날짜: 2024-02-11 00:00:00, 인덱스: 10, 확보가능공기:19.0\n",
      ">>>[검토] 베드명:G, 공백순서1인덱스의날짜: 2024-02-11 00:00:00, 인덱스: 10, 확보가능공기:19.0\n",
      "*** 최선조기착수 가능베드:2024-02-10 00:00:00 ---> ['E']\n",
      "\n",
      "* 베드명:E,  가능중량:100, 길이리스트:[15, 15, 10, 10], 면적리스트:[150]\n",
      ">>>[검토]E베드의 면적_최장길이 적합도 함수 체크\n",
      ">>>[검토]베드 E의 면적/사이즈 배치가능 여부:['적합'] / 베드가능중량:100 베드면적리스트:[150], 길이리스트:[15, 15, 10, 10]\n",
      "\n",
      "*** 물리적 스펙 가능 베드: ['E']\n",
      "\n",
      "***  정상배치 최종배정결과 : {'엔진명': 'S10', '베드명': 'E', '착수일': '2024-02-10'}\n",
      "================================================================================\n",
      "\n",
      "(엔진배치후) 수정엔진리스트 : ['S11', 'S22', 'S28', 'S2', 'S24', 'S8', 'S13', 'S23', 'S21', 'S19', 'S12', 'S15', 'S27', 'S29', 'S17', 'S14', 'S26']\n",
      "\n",
      "*** 타겟엔진-name:S11,weight:50,size:45,길이리스트:[9, 9, 5, 5],최장길이:9,최소길이:5,최소착수요구일:2024-02-12,표준공기:8\n",
      "\n",
      ">>>[검토] 베드명:A, 공백순서1인덱스의날짜: 2024-02-14 00:00:00, 인덱스: 13, 확보가능공기:16.0\n",
      ">>>[검토] 베드명:B, 공백순서1인덱스의날짜: 2024-02-14 00:00:00, 인덱스: 13, 확보가능공기:16.0\n",
      ">>>[검토] 베드명:C, 공백순서1인덱스의날짜: 2024-02-11 00:00:00, 인덱스: 10, 확보가능공기:19.0\n",
      ">>>[검토] 베드명:D, 공백순서1인덱스의날짜: 2024-02-15 00:00:00, 인덱스: 14, 확보가능공기:15.0\n",
      ">>>[검토] 베드명:E, 공백순서1인덱스의날짜: 2024-02-14 00:00:00, 인덱스: 13, 확보가능공기:16.0\n",
      ">>>[검토] 베드명:F, 공백순서1인덱스의날짜: 2024-02-11 00:00:00, 인덱스: 10, 확보가능공기:19.0\n",
      ">>>[검토] 베드명:G, 공백순서1인덱스의날짜: 2024-02-11 00:00:00, 인덱스: 10, 확보가능공기:19.0\n",
      "*** 최선조기착수 가능베드:2024-02-11 00:00:00 ---> ['C', 'F', 'G']\n",
      "\n",
      "* 베드명:C,  가능중량:100, 길이리스트:[20, 20, 10, 10], 면적리스트:[200]\n",
      ">>>[검토]C베드의 면적_최장길이 적합도 함수 체크\n",
      ">>>[검토]베드 C의 면적/사이즈 배치가능 여부:['적합'] / 베드가능중량:100 베드면적리스트:[200], 길이리스트:[20, 20, 10, 10]\n",
      "\n",
      "* 베드명:F,  가능중량:100, 길이리스트:[15, 15, 10, 10], 면적리스트:[150]\n",
      ">>>[검토]F베드의 면적_최장길이 적합도 함수 체크\n",
      ">>>[검토]베드 F의 면적/사이즈 배치가능 여부:['적합'] / 베드가능중량:100 베드면적리스트:[150], 길이리스트:[15, 15, 10, 10]\n",
      "\n",
      "* 베드명:G,  가능중량:100, 길이리스트:[15, 15, 10, 10], 면적리스트:[150]\n",
      ">>>[검토]G베드의 면적_최장길이 적합도 함수 체크\n",
      ">>>[검토]베드 G의 면적/사이즈 배치가능 여부:['적합'] / 베드가능중량:100 베드면적리스트:[150], 길이리스트:[15, 15, 10, 10]\n",
      "\n",
      "*** 물리적 스펙 가능 베드: ['C', 'F', 'G']\n",
      "\n",
      "***  정상배치 최종배정결과 : {'엔진명': 'S11', '베드명': 'F', '착수일': '2024-02-11'}\n",
      "================================================================================\n",
      "\n",
      "(엔진배치후) 수정엔진리스트 : ['S22', 'S28', 'S2', 'S24', 'S8', 'S13', 'S23', 'S21', 'S19', 'S12', 'S15', 'S27', 'S29', 'S17', 'S14', 'S26']\n",
      "\n",
      "*** 타겟엔진-name:S22,weight:54,size:48,길이리스트:[8, 8, 6, 6],최장길이:8,최소길이:6,최소착수요구일:2024-02-13,표준공기:7\n",
      "\n",
      ">>>[검토] 베드명:A, 공백순서1인덱스의날짜: 2024-02-14 00:00:00, 인덱스: 13, 확보가능공기:16.0\n",
      ">>>[검토] 베드명:B, 공백순서1인덱스의날짜: 2024-02-14 00:00:00, 인덱스: 13, 확보가능공기:16.0\n",
      ">>>[검토] 베드명:C, 공백순서1인덱스의날짜: 2024-02-11 00:00:00, 인덱스: 10, 확보가능공기:19.0\n",
      ">>>[검토] 베드명:D, 공백순서1인덱스의날짜: 2024-02-15 00:00:00, 인덱스: 14, 확보가능공기:15.0\n",
      ">>>[검토] 베드명:E, 공백순서1인덱스의날짜: 2024-02-14 00:00:00, 인덱스: 13, 확보가능공기:16.0\n",
      ">>>[검토] 베드명:F, 공백순서1인덱스의날짜: 2024-02-19 00:00:00, 인덱스: 18, 확보가능공기:11.0\n",
      ">>>[검토] 베드명:G, 공백순서1인덱스의날짜: 2024-02-11 00:00:00, 인덱스: 10, 확보가능공기:19.0\n",
      "*** 최선조기착수 가능베드:2024-02-11 00:00:00 ---> ['C', 'G']\n",
      "\n",
      "* 베드명:C,  가능중량:100, 길이리스트:[20, 20, 10, 10], 면적리스트:[200]\n",
      ">>>[검토]C베드의 면적_최장길이 적합도 함수 체크\n",
      ">>>[검토]베드 C의 면적/사이즈 배치가능 여부:['적합'] / 베드가능중량:100 베드면적리스트:[200], 길이리스트:[20, 20, 10, 10]\n",
      "\n",
      "* 베드명:G,  가능중량:100, 길이리스트:[15, 15, 10, 10], 면적리스트:[150]\n",
      ">>>[검토]G베드의 면적_최장길이 적합도 함수 체크\n",
      ">>>[검토]베드 G의 면적/사이즈 배치가능 여부:['적합'] / 베드가능중량:100 베드면적리스트:[150], 길이리스트:[15, 15, 10, 10]\n",
      "\n",
      "*** 물리적 스펙 가능 베드: ['C', 'G']\n",
      "\n",
      "***  정상배치 최종배정결과 : {'엔진명': 'S22', '베드명': 'G', '착수일': '2024-02-11'}\n",
      "================================================================================\n",
      "\n",
      "(엔진배치후) 수정엔진리스트 : ['S28', 'S2', 'S24', 'S8', 'S13', 'S23', 'S21', 'S19', 'S12', 'S15', 'S27', 'S29', 'S17', 'S14', 'S26']\n",
      "\n",
      "*** 타겟엔진-name:S28,weight:58,size:56,길이리스트:[8, 8, 7, 7],최장길이:8,최소길이:7,최소착수요구일:2024-02-17,표준공기:8\n",
      "\n",
      ">>>[검토] 베드명:A, 공백순서1인덱스의날짜: 2024-02-14 00:00:00, 인덱스: 13, 확보가능공기:16.0\n",
      ">>>[검토] 베드명:B, 공백순서1인덱스의날짜: 2024-02-14 00:00:00, 인덱스: 13, 확보가능공기:16.0\n",
      ">>>[검토] 베드명:C, 공백순서1인덱스의날짜: 2024-02-11 00:00:00, 인덱스: 10, 확보가능공기:19.0\n",
      ">>>[검토] 베드명:D, 공백순서1인덱스의날짜: 2024-02-15 00:00:00, 인덱스: 14, 확보가능공기:15.0\n",
      ">>>[검토] 베드명:E, 공백순서1인덱스의날짜: 2024-02-14 00:00:00, 인덱스: 13, 확보가능공기:16.0\n",
      ">>>[검토] 베드명:F, 공백순서1인덱스의날짜: 2024-02-19 00:00:00, 인덱스: 18, 확보가능공기:11.0\n",
      ">>>[검토] 베드명:G, 공백순서1인덱스의날짜: 2024-02-18 00:00:00, 인덱스: 17, 확보가능공기:12.0\n",
      "*** 최선조기착수 가능베드:2024-02-11 00:00:00 ---> ['C']\n",
      "\n",
      "* 베드명:C,  가능중량:100, 길이리스트:[20, 20, 10, 10], 면적리스트:[200]\n",
      ">>>[검토]C베드의 면적_최장길이 적합도 함수 체크\n",
      ">>>[검토]베드 C의 면적/사이즈 배치가능 여부:['적합'] / 베드가능중량:100 베드면적리스트:[200], 길이리스트:[20, 20, 10, 10]\n",
      "\n",
      "*** 물리적 스펙 가능 베드: ['C']\n",
      "\n",
      "***  정상배치 최종배정결과 : {'엔진명': 'S28', '베드명': 'C', '착수일': '2024-02-11'}\n",
      "================================================================================\n",
      "\n",
      "(엔진배치후) 수정엔진리스트 : ['S2', 'S24', 'S8', 'S13', 'S23', 'S21', 'S19', 'S12', 'S15', 'S27', 'S29', 'S17', 'S14', 'S26']\n",
      "\n",
      "*** 타겟엔진-name:S2,weight:56,size:40,길이리스트:[8, 8, 5, 5],최장길이:8,최소길이:5,최소착수요구일:2024-02-06,표준공기:4\n",
      "\n",
      ">>>[검토] 베드명:A, 공백순서1인덱스의날짜: 2024-02-14 00:00:00, 인덱스: 13, 확보가능공기:16.0\n",
      ">>>[검토] 베드명:B, 공백순서1인덱스의날짜: 2024-02-14 00:00:00, 인덱스: 13, 확보가능공기:16.0\n",
      ">>>[검토] 베드명:C, 공백순서1인덱스의날짜: 2024-02-19 00:00:00, 인덱스: 18, 확보가능공기:11.0\n",
      ">>>[검토] 베드명:D, 공백순서1인덱스의날짜: 2024-02-15 00:00:00, 인덱스: 14, 확보가능공기:15.0\n",
      ">>>[검토] 베드명:E, 공백순서1인덱스의날짜: 2024-02-14 00:00:00, 인덱스: 13, 확보가능공기:16.0\n",
      ">>>[검토] 베드명:F, 공백순서1인덱스의날짜: 2024-02-19 00:00:00, 인덱스: 18, 확보가능공기:11.0\n",
      ">>>[검토] 베드명:G, 공백순서1인덱스의날짜: 2024-02-18 00:00:00, 인덱스: 17, 확보가능공기:12.0\n",
      "★ 날짜 조건에 따른 배치가능한 베드이 없습니다.!!!!\n",
      "================================================================================\n",
      "\n",
      "*** 타겟엔진-name:S24,weight:56,size:80,길이리스트:[10, 10, 8, 8],최장길이:10,최소길이:8,최소착수요구일:2024-02-16,표준공기:4\n",
      "\n",
      ">>>[검토] 베드명:A, 공백순서1인덱스의날짜: 2024-02-14 00:00:00, 인덱스: 13, 확보가능공기:16.0\n",
      ">>>[검토] 베드명:B, 공백순서1인덱스의날짜: 2024-02-14 00:00:00, 인덱스: 13, 확보가능공기:16.0\n",
      ">>>[검토] 베드명:C, 공백순서1인덱스의날짜: 2024-02-19 00:00:00, 인덱스: 18, 확보가능공기:11.0\n",
      ">>>[검토] 베드명:D, 공백순서1인덱스의날짜: 2024-02-15 00:00:00, 인덱스: 14, 확보가능공기:15.0\n",
      ">>>[검토] 베드명:E, 공백순서1인덱스의날짜: 2024-02-14 00:00:00, 인덱스: 13, 확보가능공기:16.0\n",
      ">>>[검토] 베드명:F, 공백순서1인덱스의날짜: 2024-02-19 00:00:00, 인덱스: 18, 확보가능공기:11.0\n",
      ">>>[검토] 베드명:G, 공백순서1인덱스의날짜: 2024-02-18 00:00:00, 인덱스: 17, 확보가능공기:12.0\n",
      "*** 최선조기착수 가능베드:2024-02-14 00:00:00 ---> ['A', 'B', 'E']\n",
      "\n",
      "* 베드명:A,  가능중량:100, 길이리스트:[20, 20, 10, 10], 면적리스트:[200]\n",
      ">>>[검토]A베드의 면적_최장길이 적합도 함수 체크\n",
      ">>>[검토]베드 A의 면적/사이즈 배치가능 여부:['적합'] / 베드가능중량:100 베드면적리스트:[200], 길이리스트:[20, 20, 10, 10]\n",
      "\n",
      "* 베드명:B,  가능중량:100, 길이리스트:[20, 20, 10, 10], 면적리스트:[200]\n",
      ">>>[검토]B베드의 면적_최장길이 적합도 함수 체크\n",
      ">>>[검토]베드 B의 면적/사이즈 배치가능 여부:['적합'] / 베드가능중량:100 베드면적리스트:[200], 길이리스트:[20, 20, 10, 10]\n",
      "\n",
      "* 베드명:E,  가능중량:100, 길이리스트:[15, 15, 10, 10], 면적리스트:[150]\n",
      ">>>[검토]E베드의 면적_최장길이 적합도 함수 체크\n",
      ">>>[검토]베드 E의 면적/사이즈 배치가능 여부:['적합'] / 베드가능중량:100 베드면적리스트:[150], 길이리스트:[15, 15, 10, 10]\n",
      "\n",
      "*** 물리적 스펙 가능 베드: ['A', 'B', 'E']\n",
      "\n",
      "***  정상배치 최종배정결과 : {'엔진명': 'S24', '베드명': 'A', '착수일': '2024-02-14'}\n",
      "================================================================================\n",
      "\n",
      "(엔진배치후) 수정엔진리스트 : ['S8', 'S13', 'S23', 'S21', 'S19', 'S12', 'S15', 'S27', 'S29', 'S17', 'S14', 'S26']\n",
      "\n",
      "*** 타겟엔진-name:S8,weight:52,size:54,길이리스트:[9, 9, 6, 6],최장길이:9,최소길이:6,최소착수요구일:2024-02-11,표준공기:4\n",
      "\n",
      ">>>[검토] 베드명:A, 공백순서1인덱스의날짜: 2024-02-18 00:00:00, 인덱스: 17, 확보가능공기:12.0\n",
      ">>>[검토] 베드명:B, 공백순서1인덱스의날짜: 2024-02-14 00:00:00, 인덱스: 13, 확보가능공기:16.0\n",
      ">>>[검토] 베드명:C, 공백순서1인덱스의날짜: 2024-02-19 00:00:00, 인덱스: 18, 확보가능공기:11.0\n",
      ">>>[검토] 베드명:D, 공백순서1인덱스의날짜: 2024-02-15 00:00:00, 인덱스: 14, 확보가능공기:15.0\n",
      ">>>[검토] 베드명:E, 공백순서1인덱스의날짜: 2024-02-14 00:00:00, 인덱스: 13, 확보가능공기:16.0\n",
      ">>>[검토] 베드명:F, 공백순서1인덱스의날짜: 2024-02-19 00:00:00, 인덱스: 18, 확보가능공기:11.0\n",
      ">>>[검토] 베드명:G, 공백순서1인덱스의날짜: 2024-02-18 00:00:00, 인덱스: 17, 확보가능공기:12.0\n",
      "★ 날짜 조건에 따른 배치가능한 베드이 없습니다.!!!!\n",
      "================================================================================\n",
      "\n",
      "*** 타겟엔진-name:S13,weight:56,size:54,길이리스트:[9, 9, 6, 6],최장길이:9,최소길이:6,최소착수요구일:2024-02-15,표준공기:5\n",
      "\n",
      ">>>[검토] 베드명:A, 공백순서1인덱스의날짜: 2024-02-18 00:00:00, 인덱스: 17, 확보가능공기:12.0\n",
      ">>>[검토] 베드명:B, 공백순서1인덱스의날짜: 2024-02-14 00:00:00, 인덱스: 13, 확보가능공기:16.0\n",
      ">>>[검토] 베드명:C, 공백순서1인덱스의날짜: 2024-02-19 00:00:00, 인덱스: 18, 확보가능공기:11.0\n",
      ">>>[검토] 베드명:D, 공백순서1인덱스의날짜: 2024-02-15 00:00:00, 인덱스: 14, 확보가능공기:15.0\n",
      ">>>[검토] 베드명:E, 공백순서1인덱스의날짜: 2024-02-14 00:00:00, 인덱스: 13, 확보가능공기:16.0\n",
      ">>>[검토] 베드명:F, 공백순서1인덱스의날짜: 2024-02-19 00:00:00, 인덱스: 18, 확보가능공기:11.0\n",
      ">>>[검토] 베드명:G, 공백순서1인덱스의날짜: 2024-02-18 00:00:00, 인덱스: 17, 확보가능공기:12.0\n",
      "*** 최선조기착수 가능베드:2024-02-14 00:00:00 ---> ['B', 'E']\n",
      "\n",
      "* 베드명:B,  가능중량:100, 길이리스트:[20, 20, 10, 10], 면적리스트:[200]\n",
      ">>>[검토]B베드의 면적_최장길이 적합도 함수 체크\n",
      ">>>[검토]베드 B의 면적/사이즈 배치가능 여부:['적합'] / 베드가능중량:100 베드면적리스트:[200], 길이리스트:[20, 20, 10, 10]\n",
      "\n",
      "* 베드명:E,  가능중량:100, 길이리스트:[15, 15, 10, 10], 면적리스트:[150]\n",
      ">>>[검토]E베드의 면적_최장길이 적합도 함수 체크\n",
      ">>>[검토]베드 E의 면적/사이즈 배치가능 여부:['적합'] / 베드가능중량:100 베드면적리스트:[150], 길이리스트:[15, 15, 10, 10]\n",
      "\n",
      "*** 물리적 스펙 가능 베드: ['B', 'E']\n",
      "\n",
      "***  정상배치 최종배정결과 : {'엔진명': 'S13', '베드명': 'E', '착수일': '2024-02-14'}\n",
      "================================================================================\n",
      "\n",
      "(엔진배치후) 수정엔진리스트 : ['S23', 'S21', 'S19', 'S12', 'S15', 'S27', 'S29', 'S17', 'S14', 'S26']\n",
      "\n",
      "*** 타겟엔진-name:S23,weight:51,size:40,길이리스트:[8, 8, 5, 5],최장길이:8,최소길이:5,최소착수요구일:2024-02-14,표준공기:6\n",
      "\n",
      ">>>[검토] 베드명:A, 공백순서1인덱스의날짜: 2024-02-18 00:00:00, 인덱스: 17, 확보가능공기:12.0\n",
      ">>>[검토] 베드명:B, 공백순서1인덱스의날짜: 2024-02-14 00:00:00, 인덱스: 13, 확보가능공기:16.0\n",
      ">>>[검토] 베드명:C, 공백순서1인덱스의날짜: 2024-02-19 00:00:00, 인덱스: 18, 확보가능공기:11.0\n",
      ">>>[검토] 베드명:D, 공백순서1인덱스의날짜: 2024-02-15 00:00:00, 인덱스: 14, 확보가능공기:15.0\n",
      ">>>[검토] 베드명:E, 공백순서1인덱스의날짜: 2024-02-19 00:00:00, 인덱스: 18, 확보가능공기:11.0\n",
      ">>>[검토] 베드명:F, 공백순서1인덱스의날짜: 2024-02-19 00:00:00, 인덱스: 18, 확보가능공기:11.0\n",
      ">>>[검토] 베드명:G, 공백순서1인덱스의날짜: 2024-02-18 00:00:00, 인덱스: 17, 확보가능공기:12.0\n",
      "*** 최선조기착수 가능베드:2024-02-14 00:00:00 ---> ['B']\n",
      "\n",
      "* 베드명:B,  가능중량:100, 길이리스트:[20, 20, 10, 10], 면적리스트:[200]\n",
      ">>>[검토]B베드의 면적_최장길이 적합도 함수 체크\n",
      ">>>[검토]베드 B의 면적/사이즈 배치가능 여부:['적합'] / 베드가능중량:100 베드면적리스트:[200], 길이리스트:[20, 20, 10, 10]\n",
      "\n",
      "*** 물리적 스펙 가능 베드: ['B']\n",
      "\n",
      "***  정상배치 최종배정결과 : {'엔진명': 'S23', '베드명': 'B', '착수일': '2024-02-14'}\n",
      "================================================================================\n",
      "\n",
      "(엔진배치후) 수정엔진리스트 : ['S21', 'S19', 'S12', 'S15', 'S27', 'S29', 'S17', 'S14', 'S26']\n",
      "\n",
      "*** 타겟엔진-name:S21,weight:58,size:50,길이리스트:[10, 10, 5, 5],최장길이:10,최소길이:5,최소착수요구일:2024-02-15,표준공기:5\n",
      "\n",
      ">>>[검토] 베드명:A, 공백순서1인덱스의날짜: 2024-02-18 00:00:00, 인덱스: 17, 확보가능공기:12.0\n",
      ">>>[검토] 베드명:B, 공백순서1인덱스의날짜: 2024-02-20 00:00:00, 인덱스: 19, 확보가능공기:10.0\n",
      ">>>[검토] 베드명:C, 공백순서1인덱스의날짜: 2024-02-19 00:00:00, 인덱스: 18, 확보가능공기:11.0\n",
      ">>>[검토] 베드명:D, 공백순서1인덱스의날짜: 2024-02-15 00:00:00, 인덱스: 14, 확보가능공기:15.0\n",
      ">>>[검토] 베드명:E, 공백순서1인덱스의날짜: 2024-02-19 00:00:00, 인덱스: 18, 확보가능공기:11.0\n",
      ">>>[검토] 베드명:F, 공백순서1인덱스의날짜: 2024-02-19 00:00:00, 인덱스: 18, 확보가능공기:11.0\n",
      ">>>[검토] 베드명:G, 공백순서1인덱스의날짜: 2024-02-18 00:00:00, 인덱스: 17, 확보가능공기:12.0\n",
      "*** 최선조기착수 가능베드:2024-02-15 00:00:00 ---> ['D']\n",
      "\n",
      "* 베드명:D,  가능중량:100, 길이리스트:[15, 15, 10, 10], 면적리스트:[150]\n",
      ">>>[검토]D베드의 면적_최장길이 적합도 함수 체크\n",
      ">>>[검토]베드 D의 면적/사이즈 배치가능 여부:['적합'] / 베드가능중량:100 베드면적리스트:[150], 길이리스트:[15, 15, 10, 10]\n",
      "\n",
      "*** 물리적 스펙 가능 베드: ['D']\n",
      "\n",
      "***  정상배치 최종배정결과 : {'엔진명': 'S21', '베드명': 'D', '착수일': '2024-02-15'}\n",
      "================================================================================\n",
      "\n",
      "(엔진배치후) 수정엔진리스트 : ['S19', 'S12', 'S15', 'S27', 'S29', 'S17', 'S14', 'S26']\n"
     ]
    },
    {
     "name": "stderr",
     "output_type": "stream",
     "text": [
      "100%|█| 29/29 [00:00<00:00, 37.41"
     ]
    },
    {
     "name": "stdout",
     "output_type": "stream",
     "text": [
      "\n",
      "*** 타겟엔진-name:S19,weight:59,size:30,길이리스트:[6, 6, 5, 5],최장길이:6,최소길이:5,최소착수요구일:2024-02-10,표준공기:5\n",
      "\n",
      ">>>[검토] 베드명:A, 공백순서1인덱스의날짜: 2024-02-18 00:00:00, 인덱스: 17, 확보가능공기:12.0\n",
      ">>>[검토] 베드명:B, 공백순서1인덱스의날짜: 2024-02-20 00:00:00, 인덱스: 19, 확보가능공기:10.0\n",
      ">>>[검토] 베드명:C, 공백순서1인덱스의날짜: 2024-02-19 00:00:00, 인덱스: 18, 확보가능공기:11.0\n",
      ">>>[검토] 베드명:D, 공백순서1인덱스의날짜: 2024-02-20 00:00:00, 인덱스: 19, 확보가능공기:10.0\n",
      ">>>[검토] 베드명:E, 공백순서1인덱스의날짜: 2024-02-19 00:00:00, 인덱스: 18, 확보가능공기:11.0\n",
      ">>>[검토] 베드명:F, 공백순서1인덱스의날짜: 2024-02-19 00:00:00, 인덱스: 18, 확보가능공기:11.0\n",
      ">>>[검토] 베드명:G, 공백순서1인덱스의날짜: 2024-02-18 00:00:00, 인덱스: 17, 확보가능공기:12.0\n",
      "★ 날짜 조건에 따른 배치가능한 베드이 없습니다.!!!!\n",
      "================================================================================\n",
      "\n",
      "*** 타겟엔진-name:S12,weight:60,size:36,길이리스트:[6, 6, 6, 6],최장길이:6,최소길이:6,최소착수요구일:2024-02-14,표준공기:6\n",
      "\n",
      ">>>[검토] 베드명:A, 공백순서1인덱스의날짜: 2024-02-18 00:00:00, 인덱스: 17, 확보가능공기:12.0\n",
      ">>>[검토] 베드명:B, 공백순서1인덱스의날짜: 2024-02-20 00:00:00, 인덱스: 19, 확보가능공기:10.0\n",
      ">>>[검토] 베드명:C, 공백순서1인덱스의날짜: 2024-02-19 00:00:00, 인덱스: 18, 확보가능공기:11.0\n",
      ">>>[검토] 베드명:D, 공백순서1인덱스의날짜: 2024-02-20 00:00:00, 인덱스: 19, 확보가능공기:10.0\n",
      ">>>[검토] 베드명:E, 공백순서1인덱스의날짜: 2024-02-19 00:00:00, 인덱스: 18, 확보가능공기:11.0\n",
      ">>>[검토] 베드명:F, 공백순서1인덱스의날짜: 2024-02-19 00:00:00, 인덱스: 18, 확보가능공기:11.0\n",
      ">>>[검토] 베드명:G, 공백순서1인덱스의날짜: 2024-02-18 00:00:00, 인덱스: 17, 확보가능공기:12.0\n",
      "★ 날짜 조건에 따른 배치가능한 베드이 없습니다.!!!!\n",
      "================================================================================\n",
      "\n",
      "*** 타겟엔진-name:S15,weight:60,size:45,길이리스트:[9, 9, 5, 5],최장길이:9,최소길이:5,최소착수요구일:2024-02-15,표준공기:5\n",
      "\n",
      ">>>[검토] 베드명:A, 공백순서1인덱스의날짜: 2024-02-18 00:00:00, 인덱스: 17, 확보가능공기:12.0\n",
      ">>>[검토] 베드명:B, 공백순서1인덱스의날짜: 2024-02-20 00:00:00, 인덱스: 19, 확보가능공기:10.0\n",
      ">>>[검토] 베드명:C, 공백순서1인덱스의날짜: 2024-02-19 00:00:00, 인덱스: 18, 확보가능공기:11.0\n",
      ">>>[검토] 베드명:D, 공백순서1인덱스의날짜: 2024-02-20 00:00:00, 인덱스: 19, 확보가능공기:10.0\n",
      ">>>[검토] 베드명:E, 공백순서1인덱스의날짜: 2024-02-19 00:00:00, 인덱스: 18, 확보가능공기:11.0\n",
      ">>>[검토] 베드명:F, 공백순서1인덱스의날짜: 2024-02-19 00:00:00, 인덱스: 18, 확보가능공기:11.0\n",
      ">>>[검토] 베드명:G, 공백순서1인덱스의날짜: 2024-02-18 00:00:00, 인덱스: 17, 확보가능공기:12.0\n",
      "★ 날짜 조건에 따른 배치가능한 베드이 없습니다.!!!!\n",
      "================================================================================\n",
      "\n",
      "*** 타겟엔진-name:S27,weight:60,size:63,길이리스트:[9, 9, 7, 7],최장길이:9,최소길이:7,최소착수요구일:2024-02-21,표준공기:4\n",
      "\n",
      ">>>[검토] 베드명:A, 공백순서1인덱스의날짜: 2024-02-18 00:00:00, 인덱스: 17, 확보가능공기:12.0\n",
      ">>>[검토] 베드명:B, 공백순서1인덱스의날짜: 2024-02-20 00:00:00, 인덱스: 19, 확보가능공기:10.0\n",
      ">>>[검토] 베드명:C, 공백순서1인덱스의날짜: 2024-02-19 00:00:00, 인덱스: 18, 확보가능공기:11.0\n",
      ">>>[검토] 베드명:D, 공백순서1인덱스의날짜: 2024-02-20 00:00:00, 인덱스: 19, 확보가능공기:10.0\n",
      ">>>[검토] 베드명:E, 공백순서1인덱스의날짜: 2024-02-19 00:00:00, 인덱스: 18, 확보가능공기:11.0\n",
      ">>>[검토] 베드명:F, 공백순서1인덱스의날짜: 2024-02-19 00:00:00, 인덱스: 18, 확보가능공기:11.0\n",
      ">>>[검토] 베드명:G, 공백순서1인덱스의날짜: 2024-02-18 00:00:00, 인덱스: 17, 확보가능공기:12.0\n",
      "*** 최선조기착수 가능베드:2024-02-18 00:00:00 ---> ['A', 'G']\n",
      "\n",
      "* 베드명:A,  가능중량:100, 길이리스트:[20, 20, 10, 10], 면적리스트:[200]\n",
      ">>>[검토]A베드의 면적_최장길이 적합도 함수 체크\n",
      ">>>[검토]베드 A의 면적/사이즈 배치가능 여부:['적합'] / 베드가능중량:100 베드면적리스트:[200], 길이리스트:[20, 20, 10, 10]\n",
      "\n",
      "* 베드명:G,  가능중량:100, 길이리스트:[15, 15, 10, 10], 면적리스트:[150]\n",
      ">>>[검토]G베드의 면적_최장길이 적합도 함수 체크\n",
      ">>>[검토]베드 G의 면적/사이즈 배치가능 여부:['적합'] / 베드가능중량:100 베드면적리스트:[150], 길이리스트:[15, 15, 10, 10]\n",
      "\n",
      "*** 물리적 스펙 가능 베드: ['A', 'G']\n",
      "\n",
      "***  정상배치 최종배정결과 : {'엔진명': 'S27', '베드명': 'A', '착수일': '2024-02-18'}\n",
      "================================================================================\n",
      "\n",
      "(엔진배치후) 수정엔진리스트 : ['S29', 'S17', 'S14', 'S26']\n",
      "\n",
      "*** 타겟엔진-name:S29,weight:56,size:36,길이리스트:[6, 6, 6, 6],최장길이:6,최소길이:6,최소착수요구일:2024-02-18,표준공기:7\n",
      "\n",
      ">>>[검토] 베드명:A, 공백순서1인덱스의날짜: 2024-02-22 00:00:00, 인덱스: 21, 확보가능공기:8.0\n",
      ">>>[검토] 베드명:B, 공백순서1인덱스의날짜: 2024-02-20 00:00:00, 인덱스: 19, 확보가능공기:10.0\n",
      ">>>[검토] 베드명:C, 공백순서1인덱스의날짜: 2024-02-19 00:00:00, 인덱스: 18, 확보가능공기:11.0\n",
      ">>>[검토] 베드명:D, 공백순서1인덱스의날짜: 2024-02-20 00:00:00, 인덱스: 19, 확보가능공기:10.0\n",
      ">>>[검토] 베드명:E, 공백순서1인덱스의날짜: 2024-02-19 00:00:00, 인덱스: 18, 확보가능공기:11.0\n",
      ">>>[검토] 베드명:F, 공백순서1인덱스의날짜: 2024-02-19 00:00:00, 인덱스: 18, 확보가능공기:11.0\n",
      ">>>[검토] 베드명:G, 공백순서1인덱스의날짜: 2024-02-18 00:00:00, 인덱스: 17, 확보가능공기:12.0\n",
      "*** 최선조기착수 가능베드:2024-02-18 00:00:00 ---> ['G']\n",
      "\n",
      "* 베드명:G,  가능중량:100, 길이리스트:[15, 15, 10, 10], 면적리스트:[150]\n",
      ">>>[검토]G베드의 면적_최장길이 적합도 함수 체크\n",
      ">>>[검토]베드 G의 면적/사이즈 배치가능 여부:['적합'] / 베드가능중량:100 베드면적리스트:[150], 길이리스트:[15, 15, 10, 10]\n",
      "\n",
      "*** 물리적 스펙 가능 베드: ['G']\n",
      "\n",
      "***  정상배치 최종배정결과 : {'엔진명': 'S29', '베드명': 'G', '착수일': '2024-02-18'}\n",
      "================================================================================\n",
      "\n",
      "(엔진배치후) 수정엔진리스트 : ['S17', 'S14', 'S26']\n",
      "\n",
      "*** 타겟엔진-name:S17,weight:51,size:35,길이리스트:[7, 7, 5, 5],최장길이:7,최소길이:5,최소착수요구일:2024-02-11,표준공기:4\n",
      "\n",
      ">>>[검토] 베드명:A, 공백순서1인덱스의날짜: 2024-02-22 00:00:00, 인덱스: 21, 확보가능공기:8.0\n",
      ">>>[검토] 베드명:B, 공백순서1인덱스의날짜: 2024-02-20 00:00:00, 인덱스: 19, 확보가능공기:10.0\n",
      ">>>[검토] 베드명:C, 공백순서1인덱스의날짜: 2024-02-19 00:00:00, 인덱스: 18, 확보가능공기:11.0\n",
      ">>>[검토] 베드명:D, 공백순서1인덱스의날짜: 2024-02-20 00:00:00, 인덱스: 19, 확보가능공기:10.0\n",
      ">>>[검토] 베드명:E, 공백순서1인덱스의날짜: 2024-02-19 00:00:00, 인덱스: 18, 확보가능공기:11.0\n",
      ">>>[검토] 베드명:F, 공백순서1인덱스의날짜: 2024-02-19 00:00:00, 인덱스: 18, 확보가능공기:11.0\n",
      ">>>[검토] 베드명:G, 공백순서1인덱스의날짜: 2024-02-25 00:00:00, 인덱스: 24, 확보가능공기:5.0\n",
      "★ 날짜 조건에 따른 배치가능한 베드이 없습니다.!!!!\n",
      "================================================================================\n",
      "\n",
      "*** 타겟엔진-name:S14,weight:54,size:48,길이리스트:[8, 8, 6, 6],최장길이:8,최소길이:6,최소착수요구일:2024-02-16,표준공기:4\n",
      "\n",
      ">>>[검토] 베드명:A, 공백순서1인덱스의날짜: 2024-02-22 00:00:00, 인덱스: 21, 확보가능공기:8.0\n",
      ">>>[검토] 베드명:B, 공백순서1인덱스의날짜: 2024-02-20 00:00:00, 인덱스: 19, 확보가능공기:10.0\n",
      ">>>[검토] 베드명:C, 공백순서1인덱스의날짜: 2024-02-19 00:00:00, 인덱스: 18, 확보가능공기:11.0\n",
      ">>>[검토] 베드명:D, 공백순서1인덱스의날짜: 2024-02-20 00:00:00, 인덱스: 19, 확보가능공기:10.0\n",
      ">>>[검토] 베드명:E, 공백순서1인덱스의날짜: 2024-02-19 00:00:00, 인덱스: 18, 확보가능공기:11.0\n",
      ">>>[검토] 베드명:F, 공백순서1인덱스의날짜: 2024-02-19 00:00:00, 인덱스: 18, 확보가능공기:11.0\n",
      ">>>[검토] 베드명:G, 공백순서1인덱스의날짜: 2024-02-25 00:00:00, 인덱스: 24, 확보가능공기:5.0\n",
      "★ 날짜 조건에 따른 배치가능한 베드이 없습니다.!!!!\n",
      "================================================================================\n",
      "\n",
      "*** 타겟엔진-name:S26,weight:53,size:40,길이리스트:[8, 8, 5, 5],최장길이:8,최소길이:5,최소착수요구일:2024-02-21,표준공기:4\n",
      "\n",
      ">>>[검토] 베드명:A, 공백순서1인덱스의날짜: 2024-02-22 00:00:00, 인덱스: 21, 확보가능공기:8.0\n",
      ">>>[검토] 베드명:B, 공백순서1인덱스의날짜: 2024-02-20 00:00:00, 인덱스: 19, 확보가능공기:10.0\n",
      ">>>[검토] 베드명:C, 공백순서1인덱스의날짜: 2024-02-19 00:00:00, 인덱스: 18, 확보가능공기:11.0\n",
      ">>>[검토] 베드명:D, 공백순서1인덱스의날짜: 2024-02-20 00:00:00, 인덱스: 19, 확보가능공기:10.0\n",
      ">>>[검토] 베드명:E, 공백순서1인덱스의날짜: 2024-02-19 00:00:00, 인덱스: 18, 확보가능공기:11.0\n",
      ">>>[검토] 베드명:F, 공백순서1인덱스의날짜: 2024-02-19 00:00:00, 인덱스: 18, 확보가능공기:11.0\n",
      ">>>[검토] 베드명:G, 공백순서1인덱스의날짜: 2024-02-25 00:00:00, 인덱스: 24, 확보가능공기:5.0\n",
      "*** 최선조기착수 가능베드:2024-02-19 00:00:00 ---> ['C', 'E', 'F']\n",
      "\n",
      "* 베드명:C,  가능중량:100, 길이리스트:[20, 20, 10, 10], 면적리스트:[200]\n",
      ">>>[검토]C베드의 면적_최장길이 적합도 함수 체크\n",
      ">>>[검토]베드 C의 면적/사이즈 배치가능 여부:['적합'] / 베드가능중량:100 베드면적리스트:[200], 길이리스트:[20, 20, 10, 10]\n",
      "\n",
      "* 베드명:E,  가능중량:100, 길이리스트:[15, 15, 10, 10], 면적리스트:[150]\n",
      ">>>[검토]E베드의 면적_최장길이 적합도 함수 체크\n",
      ">>>[검토]베드 E의 면적/사이즈 배치가능 여부:['적합'] / 베드가능중량:100 베드면적리스트:[150], 길이리스트:[15, 15, 10, 10]\n",
      "\n",
      "* 베드명:F,  가능중량:100, 길이리스트:[15, 15, 10, 10], 면적리스트:[150]\n",
      ">>>[검토]F베드의 면적_최장길이 적합도 함수 체크\n",
      ">>>[검토]베드 F의 면적/사이즈 배치가능 여부:['적합'] / 베드가능중량:100 베드면적리스트:[150], 길이리스트:[15, 15, 10, 10]\n",
      "\n",
      "*** 물리적 스펙 가능 베드: ['C', 'E', 'F']\n",
      "\n",
      "***  정상배치 최종배정결과 : {'엔진명': 'S26', '베드명': 'F', '착수일': '2024-02-19'}\n",
      "================================================================================\n",
      "\n",
      "(엔진배치후) 수정엔진리스트 : []\n"
     ]
    },
    {
     "name": "stderr",
     "output_type": "stream",
     "text": [
      "\n"
     ]
    }
   ],
   "source": [
    "result = 생산계획수립(엔진데이터, 베드데이터, 배치달력)"
   ]
  },
  {
   "cell_type": "code",
   "execution_count": 596,
   "id": "b4c5b93c",
   "metadata": {
    "scrolled": true
   },
   "outputs": [
    {
     "data": {
      "text/html": [
       "<div>\n",
       "<style scoped>\n",
       "    .dataframe tbody tr th:only-of-type {\n",
       "        vertical-align: middle;\n",
       "    }\n",
       "\n",
       "    .dataframe tbody tr th {\n",
       "        vertical-align: top;\n",
       "    }\n",
       "\n",
       "    .dataframe thead th {\n",
       "        text-align: right;\n",
       "    }\n",
       "</style>\n",
       "<table border=\"1\" class=\"dataframe\">\n",
       "  <thead>\n",
       "    <tr style=\"text-align: right;\">\n",
       "      <th></th>\n",
       "      <th>엔진명</th>\n",
       "      <th>베드구분</th>\n",
       "      <th>베드명</th>\n",
       "      <th>착수일</th>\n",
       "      <th>표준공기</th>\n",
       "      <th>종료일</th>\n",
       "      <th>조립중량</th>\n",
       "    </tr>\n",
       "  </thead>\n",
       "  <tbody>\n",
       "    <tr>\n",
       "      <th>18</th>\n",
       "      <td>S27</td>\n",
       "      <td>A</td>\n",
       "      <td>A</td>\n",
       "      <td>2024-02-18</td>\n",
       "      <td>4</td>\n",
       "      <td>2024-02-22</td>\n",
       "      <td>60</td>\n",
       "    </tr>\n",
       "    <tr>\n",
       "      <th>6</th>\n",
       "      <td>S5</td>\n",
       "      <td>A</td>\n",
       "      <td>A</td>\n",
       "      <td>2024-02-03</td>\n",
       "      <td>5</td>\n",
       "      <td>2024-02-08</td>\n",
       "      <td>57</td>\n",
       "    </tr>\n",
       "    <tr>\n",
       "      <th>7</th>\n",
       "      <td>S6</td>\n",
       "      <td>A</td>\n",
       "      <td>A</td>\n",
       "      <td>2024-02-08</td>\n",
       "      <td>6</td>\n",
       "      <td>2024-02-14</td>\n",
       "      <td>59</td>\n",
       "    </tr>\n",
       "    <tr>\n",
       "      <th>14</th>\n",
       "      <td>S24</td>\n",
       "      <td>A</td>\n",
       "      <td>A</td>\n",
       "      <td>2024-02-14</td>\n",
       "      <td>4</td>\n",
       "      <td>2024-02-18</td>\n",
       "      <td>56</td>\n",
       "    </tr>\n",
       "    <tr>\n",
       "      <th>1</th>\n",
       "      <td>S1</td>\n",
       "      <td>B</td>\n",
       "      <td>B</td>\n",
       "      <td>2024-02-03</td>\n",
       "      <td>6</td>\n",
       "      <td>2024-02-09</td>\n",
       "      <td>50</td>\n",
       "    </tr>\n",
       "    <tr>\n",
       "      <th>16</th>\n",
       "      <td>S23</td>\n",
       "      <td>B</td>\n",
       "      <td>B</td>\n",
       "      <td>2024-02-14</td>\n",
       "      <td>6</td>\n",
       "      <td>2024-02-20</td>\n",
       "      <td>51</td>\n",
       "    </tr>\n",
       "    <tr>\n",
       "      <th>8</th>\n",
       "      <td>S16</td>\n",
       "      <td>B</td>\n",
       "      <td>B</td>\n",
       "      <td>2024-02-09</td>\n",
       "      <td>5</td>\n",
       "      <td>2024-02-14</td>\n",
       "      <td>56</td>\n",
       "    </tr>\n",
       "    <tr>\n",
       "      <th>0</th>\n",
       "      <td>S9</td>\n",
       "      <td>C</td>\n",
       "      <td>C</td>\n",
       "      <td>2024-02-03</td>\n",
       "      <td>8</td>\n",
       "      <td>2024-02-11</td>\n",
       "      <td>52</td>\n",
       "    </tr>\n",
       "    <tr>\n",
       "      <th>13</th>\n",
       "      <td>S28</td>\n",
       "      <td>C</td>\n",
       "      <td>C</td>\n",
       "      <td>2024-02-11</td>\n",
       "      <td>8</td>\n",
       "      <td>2024-02-19</td>\n",
       "      <td>58</td>\n",
       "    </tr>\n",
       "    <tr>\n",
       "      <th>17</th>\n",
       "      <td>S21</td>\n",
       "      <td>D</td>\n",
       "      <td>D</td>\n",
       "      <td>2024-02-15</td>\n",
       "      <td>5</td>\n",
       "      <td>2024-02-20</td>\n",
       "      <td>58</td>\n",
       "    </tr>\n",
       "    <tr>\n",
       "      <th>4</th>\n",
       "      <td>S20</td>\n",
       "      <td>D</td>\n",
       "      <td>D</td>\n",
       "      <td>2024-02-03</td>\n",
       "      <td>6</td>\n",
       "      <td>2024-02-09</td>\n",
       "      <td>59</td>\n",
       "    </tr>\n",
       "    <tr>\n",
       "      <th>9</th>\n",
       "      <td>S7</td>\n",
       "      <td>D</td>\n",
       "      <td>D</td>\n",
       "      <td>2024-02-09</td>\n",
       "      <td>6</td>\n",
       "      <td>2024-02-15</td>\n",
       "      <td>50</td>\n",
       "    </tr>\n",
       "    <tr>\n",
       "      <th>15</th>\n",
       "      <td>S13</td>\n",
       "      <td>E</td>\n",
       "      <td>E</td>\n",
       "      <td>2024-02-14</td>\n",
       "      <td>5</td>\n",
       "      <td>2024-02-19</td>\n",
       "      <td>56</td>\n",
       "    </tr>\n",
       "    <tr>\n",
       "      <th>10</th>\n",
       "      <td>S10</td>\n",
       "      <td>E</td>\n",
       "      <td>E</td>\n",
       "      <td>2024-02-10</td>\n",
       "      <td>4</td>\n",
       "      <td>2024-02-14</td>\n",
       "      <td>57</td>\n",
       "    </tr>\n",
       "    <tr>\n",
       "      <th>2</th>\n",
       "      <td>S4</td>\n",
       "      <td>E</td>\n",
       "      <td>E</td>\n",
       "      <td>2024-02-03</td>\n",
       "      <td>7</td>\n",
       "      <td>2024-02-10</td>\n",
       "      <td>50</td>\n",
       "    </tr>\n",
       "    <tr>\n",
       "      <th>11</th>\n",
       "      <td>S11</td>\n",
       "      <td>F</td>\n",
       "      <td>F</td>\n",
       "      <td>2024-02-11</td>\n",
       "      <td>8</td>\n",
       "      <td>2024-02-19</td>\n",
       "      <td>50</td>\n",
       "    </tr>\n",
       "    <tr>\n",
       "      <th>3</th>\n",
       "      <td>S18</td>\n",
       "      <td>F</td>\n",
       "      <td>F</td>\n",
       "      <td>2024-02-03</td>\n",
       "      <td>8</td>\n",
       "      <td>2024-02-11</td>\n",
       "      <td>50</td>\n",
       "    </tr>\n",
       "    <tr>\n",
       "      <th>20</th>\n",
       "      <td>S26</td>\n",
       "      <td>F</td>\n",
       "      <td>F</td>\n",
       "      <td>2024-02-19</td>\n",
       "      <td>4</td>\n",
       "      <td>2024-02-23</td>\n",
       "      <td>53</td>\n",
       "    </tr>\n",
       "    <tr>\n",
       "      <th>19</th>\n",
       "      <td>S29</td>\n",
       "      <td>G</td>\n",
       "      <td>G</td>\n",
       "      <td>2024-02-18</td>\n",
       "      <td>7</td>\n",
       "      <td>2024-02-25</td>\n",
       "      <td>56</td>\n",
       "    </tr>\n",
       "    <tr>\n",
       "      <th>5</th>\n",
       "      <td>S25</td>\n",
       "      <td>G</td>\n",
       "      <td>G</td>\n",
       "      <td>2024-02-03</td>\n",
       "      <td>8</td>\n",
       "      <td>2024-02-11</td>\n",
       "      <td>55</td>\n",
       "    </tr>\n",
       "    <tr>\n",
       "      <th>12</th>\n",
       "      <td>S22</td>\n",
       "      <td>G</td>\n",
       "      <td>G</td>\n",
       "      <td>2024-02-11</td>\n",
       "      <td>7</td>\n",
       "      <td>2024-02-18</td>\n",
       "      <td>54</td>\n",
       "    </tr>\n",
       "  </tbody>\n",
       "</table>\n",
       "</div>"
      ],
      "text/plain": [
       "    엔진명 베드구분 베드명         착수일  표준공기         종료일  조립중량\n",
       "18  S27    A   A  2024-02-18     4  2024-02-22    60\n",
       "6    S5    A   A  2024-02-03     5  2024-02-08    57\n",
       "7    S6    A   A  2024-02-08     6  2024-02-14    59\n",
       "14  S24    A   A  2024-02-14     4  2024-02-18    56\n",
       "1    S1    B   B  2024-02-03     6  2024-02-09    50\n",
       "16  S23    B   B  2024-02-14     6  2024-02-20    51\n",
       "8   S16    B   B  2024-02-09     5  2024-02-14    56\n",
       "0    S9    C   C  2024-02-03     8  2024-02-11    52\n",
       "13  S28    C   C  2024-02-11     8  2024-02-19    58\n",
       "17  S21    D   D  2024-02-15     5  2024-02-20    58\n",
       "4   S20    D   D  2024-02-03     6  2024-02-09    59\n",
       "9    S7    D   D  2024-02-09     6  2024-02-15    50\n",
       "15  S13    E   E  2024-02-14     5  2024-02-19    56\n",
       "10  S10    E   E  2024-02-10     4  2024-02-14    57\n",
       "2    S4    E   E  2024-02-03     7  2024-02-10    50\n",
       "11  S11    F   F  2024-02-11     8  2024-02-19    50\n",
       "3   S18    F   F  2024-02-03     8  2024-02-11    50\n",
       "20  S26    F   F  2024-02-19     4  2024-02-23    53\n",
       "19  S29    G   G  2024-02-18     7  2024-02-25    56\n",
       "5   S25    G   G  2024-02-03     8  2024-02-11    55\n",
       "12  S22    G   G  2024-02-11     7  2024-02-18    54"
      ]
     },
     "execution_count": 596,
     "metadata": {},
     "output_type": "execute_result"
    }
   ],
   "source": [
    "배치결과 = result[0]\n",
    "배치결과 = 배치결과[[\"엔진명\", \"베드구분\", \"베드명\", \"착수일\", \"표준공기\", \"종료일\", \"조립중량\"]].sort_values(by=\"베드구분\")\n",
    "배치결과"
   ]
  },
  {
   "cell_type": "code",
   "execution_count": 597,
   "id": "7bbb07c0",
   "metadata": {},
   "outputs": [],
   "source": [
    "@unpack_df_columns\n",
    "def create_text(엔진명, 표준공기):\n",
    "    return str(엔진명)+\" / \"+\"조립중량: \"+str(표준공기)+\"ton\""
   ]
  },
  {
   "cell_type": "code",
   "execution_count": 604,
   "id": "601e31e1",
   "metadata": {
    "scrolled": true
   },
   "outputs": [
    {
     "data": {
      "text/html": [
       "<div>\n",
       "<style scoped>\n",
       "    .dataframe tbody tr th:only-of-type {\n",
       "        vertical-align: middle;\n",
       "    }\n",
       "\n",
       "    .dataframe tbody tr th {\n",
       "        vertical-align: top;\n",
       "    }\n",
       "\n",
       "    .dataframe thead th {\n",
       "        text-align: right;\n",
       "    }\n",
       "</style>\n",
       "<table border=\"1\" class=\"dataframe\">\n",
       "  <thead>\n",
       "    <tr style=\"text-align: right;\">\n",
       "      <th></th>\n",
       "      <th>엔진명</th>\n",
       "      <th>베드구분</th>\n",
       "      <th>베드명</th>\n",
       "      <th>착수일</th>\n",
       "      <th>표준공기</th>\n",
       "      <th>종료일</th>\n",
       "      <th>조립중량</th>\n",
       "      <th>차트텍스트</th>\n",
       "    </tr>\n",
       "  </thead>\n",
       "  <tbody>\n",
       "    <tr>\n",
       "      <th>18</th>\n",
       "      <td>S27</td>\n",
       "      <td>A</td>\n",
       "      <td>A</td>\n",
       "      <td>2024-02-18</td>\n",
       "      <td>4</td>\n",
       "      <td>2024-02-22</td>\n",
       "      <td>60</td>\n",
       "      <td>S27 / 조립중량: 4ton</td>\n",
       "    </tr>\n",
       "    <tr>\n",
       "      <th>6</th>\n",
       "      <td>S5</td>\n",
       "      <td>A</td>\n",
       "      <td>A</td>\n",
       "      <td>2024-02-03</td>\n",
       "      <td>5</td>\n",
       "      <td>2024-02-08</td>\n",
       "      <td>57</td>\n",
       "      <td>S5 / 조립중량: 5ton</td>\n",
       "    </tr>\n",
       "    <tr>\n",
       "      <th>7</th>\n",
       "      <td>S6</td>\n",
       "      <td>A</td>\n",
       "      <td>A</td>\n",
       "      <td>2024-02-08</td>\n",
       "      <td>6</td>\n",
       "      <td>2024-02-14</td>\n",
       "      <td>59</td>\n",
       "      <td>S6 / 조립중량: 6ton</td>\n",
       "    </tr>\n",
       "    <tr>\n",
       "      <th>14</th>\n",
       "      <td>S24</td>\n",
       "      <td>A</td>\n",
       "      <td>A</td>\n",
       "      <td>2024-02-14</td>\n",
       "      <td>4</td>\n",
       "      <td>2024-02-18</td>\n",
       "      <td>56</td>\n",
       "      <td>S24 / 조립중량: 4ton</td>\n",
       "    </tr>\n",
       "    <tr>\n",
       "      <th>1</th>\n",
       "      <td>S1</td>\n",
       "      <td>B</td>\n",
       "      <td>B</td>\n",
       "      <td>2024-02-03</td>\n",
       "      <td>6</td>\n",
       "      <td>2024-02-09</td>\n",
       "      <td>50</td>\n",
       "      <td>S1 / 조립중량: 6ton</td>\n",
       "    </tr>\n",
       "    <tr>\n",
       "      <th>16</th>\n",
       "      <td>S23</td>\n",
       "      <td>B</td>\n",
       "      <td>B</td>\n",
       "      <td>2024-02-14</td>\n",
       "      <td>6</td>\n",
       "      <td>2024-02-20</td>\n",
       "      <td>51</td>\n",
       "      <td>S23 / 조립중량: 6ton</td>\n",
       "    </tr>\n",
       "    <tr>\n",
       "      <th>8</th>\n",
       "      <td>S16</td>\n",
       "      <td>B</td>\n",
       "      <td>B</td>\n",
       "      <td>2024-02-09</td>\n",
       "      <td>5</td>\n",
       "      <td>2024-02-14</td>\n",
       "      <td>56</td>\n",
       "      <td>S16 / 조립중량: 5ton</td>\n",
       "    </tr>\n",
       "    <tr>\n",
       "      <th>0</th>\n",
       "      <td>S9</td>\n",
       "      <td>C</td>\n",
       "      <td>C</td>\n",
       "      <td>2024-02-03</td>\n",
       "      <td>8</td>\n",
       "      <td>2024-02-11</td>\n",
       "      <td>52</td>\n",
       "      <td>S9 / 조립중량: 8ton</td>\n",
       "    </tr>\n",
       "    <tr>\n",
       "      <th>13</th>\n",
       "      <td>S28</td>\n",
       "      <td>C</td>\n",
       "      <td>C</td>\n",
       "      <td>2024-02-11</td>\n",
       "      <td>8</td>\n",
       "      <td>2024-02-19</td>\n",
       "      <td>58</td>\n",
       "      <td>S28 / 조립중량: 8ton</td>\n",
       "    </tr>\n",
       "    <tr>\n",
       "      <th>17</th>\n",
       "      <td>S21</td>\n",
       "      <td>D</td>\n",
       "      <td>D</td>\n",
       "      <td>2024-02-15</td>\n",
       "      <td>5</td>\n",
       "      <td>2024-02-20</td>\n",
       "      <td>58</td>\n",
       "      <td>S21 / 조립중량: 5ton</td>\n",
       "    </tr>\n",
       "    <tr>\n",
       "      <th>4</th>\n",
       "      <td>S20</td>\n",
       "      <td>D</td>\n",
       "      <td>D</td>\n",
       "      <td>2024-02-03</td>\n",
       "      <td>6</td>\n",
       "      <td>2024-02-09</td>\n",
       "      <td>59</td>\n",
       "      <td>S20 / 조립중량: 6ton</td>\n",
       "    </tr>\n",
       "    <tr>\n",
       "      <th>9</th>\n",
       "      <td>S7</td>\n",
       "      <td>D</td>\n",
       "      <td>D</td>\n",
       "      <td>2024-02-09</td>\n",
       "      <td>6</td>\n",
       "      <td>2024-02-15</td>\n",
       "      <td>50</td>\n",
       "      <td>S7 / 조립중량: 6ton</td>\n",
       "    </tr>\n",
       "    <tr>\n",
       "      <th>15</th>\n",
       "      <td>S13</td>\n",
       "      <td>E</td>\n",
       "      <td>E</td>\n",
       "      <td>2024-02-14</td>\n",
       "      <td>5</td>\n",
       "      <td>2024-02-19</td>\n",
       "      <td>56</td>\n",
       "      <td>S13 / 조립중량: 5ton</td>\n",
       "    </tr>\n",
       "    <tr>\n",
       "      <th>10</th>\n",
       "      <td>S10</td>\n",
       "      <td>E</td>\n",
       "      <td>E</td>\n",
       "      <td>2024-02-10</td>\n",
       "      <td>4</td>\n",
       "      <td>2024-02-14</td>\n",
       "      <td>57</td>\n",
       "      <td>S10 / 조립중량: 4ton</td>\n",
       "    </tr>\n",
       "    <tr>\n",
       "      <th>2</th>\n",
       "      <td>S4</td>\n",
       "      <td>E</td>\n",
       "      <td>E</td>\n",
       "      <td>2024-02-03</td>\n",
       "      <td>7</td>\n",
       "      <td>2024-02-10</td>\n",
       "      <td>50</td>\n",
       "      <td>S4 / 조립중량: 7ton</td>\n",
       "    </tr>\n",
       "    <tr>\n",
       "      <th>11</th>\n",
       "      <td>S11</td>\n",
       "      <td>F</td>\n",
       "      <td>F</td>\n",
       "      <td>2024-02-11</td>\n",
       "      <td>8</td>\n",
       "      <td>2024-02-19</td>\n",
       "      <td>50</td>\n",
       "      <td>S11 / 조립중량: 8ton</td>\n",
       "    </tr>\n",
       "    <tr>\n",
       "      <th>3</th>\n",
       "      <td>S18</td>\n",
       "      <td>F</td>\n",
       "      <td>F</td>\n",
       "      <td>2024-02-03</td>\n",
       "      <td>8</td>\n",
       "      <td>2024-02-11</td>\n",
       "      <td>50</td>\n",
       "      <td>S18 / 조립중량: 8ton</td>\n",
       "    </tr>\n",
       "    <tr>\n",
       "      <th>20</th>\n",
       "      <td>S26</td>\n",
       "      <td>F</td>\n",
       "      <td>F</td>\n",
       "      <td>2024-02-19</td>\n",
       "      <td>4</td>\n",
       "      <td>2024-02-23</td>\n",
       "      <td>53</td>\n",
       "      <td>S26 / 조립중량: 4ton</td>\n",
       "    </tr>\n",
       "    <tr>\n",
       "      <th>19</th>\n",
       "      <td>S29</td>\n",
       "      <td>G</td>\n",
       "      <td>G</td>\n",
       "      <td>2024-02-18</td>\n",
       "      <td>7</td>\n",
       "      <td>2024-02-25</td>\n",
       "      <td>56</td>\n",
       "      <td>S29 / 조립중량: 7ton</td>\n",
       "    </tr>\n",
       "    <tr>\n",
       "      <th>5</th>\n",
       "      <td>S25</td>\n",
       "      <td>G</td>\n",
       "      <td>G</td>\n",
       "      <td>2024-02-03</td>\n",
       "      <td>8</td>\n",
       "      <td>2024-02-11</td>\n",
       "      <td>55</td>\n",
       "      <td>S25 / 조립중량: 8ton</td>\n",
       "    </tr>\n",
       "    <tr>\n",
       "      <th>12</th>\n",
       "      <td>S22</td>\n",
       "      <td>G</td>\n",
       "      <td>G</td>\n",
       "      <td>2024-02-11</td>\n",
       "      <td>7</td>\n",
       "      <td>2024-02-18</td>\n",
       "      <td>54</td>\n",
       "      <td>S22 / 조립중량: 7ton</td>\n",
       "    </tr>\n",
       "  </tbody>\n",
       "</table>\n",
       "</div>"
      ],
      "text/plain": [
       "    엔진명 베드구분 베드명         착수일  표준공기         종료일  조립중량             차트텍스트\n",
       "18  S27    A   A  2024-02-18     4  2024-02-22    60  S27 / 조립중량: 4ton\n",
       "6    S5    A   A  2024-02-03     5  2024-02-08    57   S5 / 조립중량: 5ton\n",
       "7    S6    A   A  2024-02-08     6  2024-02-14    59   S6 / 조립중량: 6ton\n",
       "14  S24    A   A  2024-02-14     4  2024-02-18    56  S24 / 조립중량: 4ton\n",
       "1    S1    B   B  2024-02-03     6  2024-02-09    50   S1 / 조립중량: 6ton\n",
       "16  S23    B   B  2024-02-14     6  2024-02-20    51  S23 / 조립중량: 6ton\n",
       "8   S16    B   B  2024-02-09     5  2024-02-14    56  S16 / 조립중량: 5ton\n",
       "0    S9    C   C  2024-02-03     8  2024-02-11    52   S9 / 조립중량: 8ton\n",
       "13  S28    C   C  2024-02-11     8  2024-02-19    58  S28 / 조립중량: 8ton\n",
       "17  S21    D   D  2024-02-15     5  2024-02-20    58  S21 / 조립중량: 5ton\n",
       "4   S20    D   D  2024-02-03     6  2024-02-09    59  S20 / 조립중량: 6ton\n",
       "9    S7    D   D  2024-02-09     6  2024-02-15    50   S7 / 조립중량: 6ton\n",
       "15  S13    E   E  2024-02-14     5  2024-02-19    56  S13 / 조립중량: 5ton\n",
       "10  S10    E   E  2024-02-10     4  2024-02-14    57  S10 / 조립중량: 4ton\n",
       "2    S4    E   E  2024-02-03     7  2024-02-10    50   S4 / 조립중량: 7ton\n",
       "11  S11    F   F  2024-02-11     8  2024-02-19    50  S11 / 조립중량: 8ton\n",
       "3   S18    F   F  2024-02-03     8  2024-02-11    50  S18 / 조립중량: 8ton\n",
       "20  S26    F   F  2024-02-19     4  2024-02-23    53  S26 / 조립중량: 4ton\n",
       "19  S29    G   G  2024-02-18     7  2024-02-25    56  S29 / 조립중량: 7ton\n",
       "5   S25    G   G  2024-02-03     8  2024-02-11    55  S25 / 조립중량: 8ton\n",
       "12  S22    G   G  2024-02-11     7  2024-02-18    54  S22 / 조립중량: 7ton"
      ]
     },
     "execution_count": 604,
     "metadata": {},
     "output_type": "execute_result"
    }
   ],
   "source": [
    "배치결과[\"차트텍스트\"] = 배치결과[[\"엔진명\",\"표준공기\"]].apply(create_text, axis=1)\n",
    "배치결과"
   ]
  },
  {
   "cell_type": "code",
   "execution_count": 599,
   "id": "468bfb80",
   "metadata": {
    "scrolled": true
   },
   "outputs": [
    {
     "data": {
      "application/vnd.plotly.v1+json": {
       "config": {
        "plotlyServerURL": "https://plot.ly"
       },
       "data": [
        {
         "alignmentgroup": "True",
         "base": [
          "2024-02-18",
          "2024-02-03",
          "2024-02-08",
          "2024-02-14"
         ],
         "customdata": [
          [
           4,
           60
          ],
          [
           5,
           57
          ],
          [
           6,
           59
          ],
          [
           4,
           56
          ]
         ],
         "hovertemplate": "베드구분=A<br>착수일=%{base}<br>종료일=%{x}<br>베드명=%{y}<br>차트텍스트=%{text}<br>표준공기=%{customdata[0]}<br>조립중량=%{customdata[1]}<extra></extra>",
         "legendgroup": "A",
         "marker": {
          "color": "#636efa",
          "opacity": 0.7,
          "pattern": {
           "shape": ""
          }
         },
         "name": "A",
         "offsetgroup": "A",
         "orientation": "h",
         "showlegend": true,
         "text": [
          "S27 / 조립중량: 4ton",
          "S5 / 조립중량: 5ton",
          "S6 / 조립중량: 6ton",
          "S24 / 조립중량: 4ton"
         ],
         "textposition": "auto",
         "type": "bar",
         "x": [
          345600000,
          432000000,
          518400000,
          345600000
         ],
         "xaxis": "x",
         "y": [
          "A",
          "A",
          "A",
          "A"
         ],
         "yaxis": "y"
        },
        {
         "alignmentgroup": "True",
         "base": [
          "2024-02-03",
          "2024-02-14",
          "2024-02-09"
         ],
         "customdata": [
          [
           6,
           50
          ],
          [
           6,
           51
          ],
          [
           5,
           56
          ]
         ],
         "hovertemplate": "베드구분=B<br>착수일=%{base}<br>종료일=%{x}<br>베드명=%{y}<br>차트텍스트=%{text}<br>표준공기=%{customdata[0]}<br>조립중량=%{customdata[1]}<extra></extra>",
         "legendgroup": "B",
         "marker": {
          "color": "#EF553B",
          "opacity": 0.7,
          "pattern": {
           "shape": ""
          }
         },
         "name": "B",
         "offsetgroup": "B",
         "orientation": "h",
         "showlegend": true,
         "text": [
          "S1 / 조립중량: 6ton",
          "S23 / 조립중량: 6ton",
          "S16 / 조립중량: 5ton"
         ],
         "textposition": "auto",
         "type": "bar",
         "x": [
          518400000,
          518400000,
          432000000
         ],
         "xaxis": "x",
         "y": [
          "B",
          "B",
          "B"
         ],
         "yaxis": "y"
        },
        {
         "alignmentgroup": "True",
         "base": [
          "2024-02-03",
          "2024-02-11"
         ],
         "customdata": [
          [
           8,
           52
          ],
          [
           8,
           58
          ]
         ],
         "hovertemplate": "베드구분=C<br>착수일=%{base}<br>종료일=%{x}<br>베드명=%{y}<br>차트텍스트=%{text}<br>표준공기=%{customdata[0]}<br>조립중량=%{customdata[1]}<extra></extra>",
         "legendgroup": "C",
         "marker": {
          "color": "#00cc96",
          "opacity": 0.7,
          "pattern": {
           "shape": ""
          }
         },
         "name": "C",
         "offsetgroup": "C",
         "orientation": "h",
         "showlegend": true,
         "text": [
          "S9 / 조립중량: 8ton",
          "S28 / 조립중량: 8ton"
         ],
         "textposition": "auto",
         "type": "bar",
         "x": [
          691200000,
          691200000
         ],
         "xaxis": "x",
         "y": [
          "C",
          "C"
         ],
         "yaxis": "y"
        },
        {
         "alignmentgroup": "True",
         "base": [
          "2024-02-15",
          "2024-02-03",
          "2024-02-09"
         ],
         "customdata": [
          [
           5,
           58
          ],
          [
           6,
           59
          ],
          [
           6,
           50
          ]
         ],
         "hovertemplate": "베드구분=D<br>착수일=%{base}<br>종료일=%{x}<br>베드명=%{y}<br>차트텍스트=%{text}<br>표준공기=%{customdata[0]}<br>조립중량=%{customdata[1]}<extra></extra>",
         "legendgroup": "D",
         "marker": {
          "color": "#ab63fa",
          "opacity": 0.7,
          "pattern": {
           "shape": ""
          }
         },
         "name": "D",
         "offsetgroup": "D",
         "orientation": "h",
         "showlegend": true,
         "text": [
          "S21 / 조립중량: 5ton",
          "S20 / 조립중량: 6ton",
          "S7 / 조립중량: 6ton"
         ],
         "textposition": "auto",
         "type": "bar",
         "x": [
          432000000,
          518400000,
          518400000
         ],
         "xaxis": "x",
         "y": [
          "D",
          "D",
          "D"
         ],
         "yaxis": "y"
        },
        {
         "alignmentgroup": "True",
         "base": [
          "2024-02-14",
          "2024-02-10",
          "2024-02-03"
         ],
         "customdata": [
          [
           5,
           56
          ],
          [
           4,
           57
          ],
          [
           7,
           50
          ]
         ],
         "hovertemplate": "베드구분=E<br>착수일=%{base}<br>종료일=%{x}<br>베드명=%{y}<br>차트텍스트=%{text}<br>표준공기=%{customdata[0]}<br>조립중량=%{customdata[1]}<extra></extra>",
         "legendgroup": "E",
         "marker": {
          "color": "#FFA15A",
          "opacity": 0.7,
          "pattern": {
           "shape": ""
          }
         },
         "name": "E",
         "offsetgroup": "E",
         "orientation": "h",
         "showlegend": true,
         "text": [
          "S13 / 조립중량: 5ton",
          "S10 / 조립중량: 4ton",
          "S4 / 조립중량: 7ton"
         ],
         "textposition": "auto",
         "type": "bar",
         "x": [
          432000000,
          345600000,
          604800000
         ],
         "xaxis": "x",
         "y": [
          "E",
          "E",
          "E"
         ],
         "yaxis": "y"
        },
        {
         "alignmentgroup": "True",
         "base": [
          "2024-02-11",
          "2024-02-03",
          "2024-02-19"
         ],
         "customdata": [
          [
           8,
           50
          ],
          [
           8,
           50
          ],
          [
           4,
           53
          ]
         ],
         "hovertemplate": "베드구분=F<br>착수일=%{base}<br>종료일=%{x}<br>베드명=%{y}<br>차트텍스트=%{text}<br>표준공기=%{customdata[0]}<br>조립중량=%{customdata[1]}<extra></extra>",
         "legendgroup": "F",
         "marker": {
          "color": "#19d3f3",
          "opacity": 0.7,
          "pattern": {
           "shape": ""
          }
         },
         "name": "F",
         "offsetgroup": "F",
         "orientation": "h",
         "showlegend": true,
         "text": [
          "S11 / 조립중량: 8ton",
          "S18 / 조립중량: 8ton",
          "S26 / 조립중량: 4ton"
         ],
         "textposition": "auto",
         "type": "bar",
         "x": [
          691200000,
          691200000,
          345600000
         ],
         "xaxis": "x",
         "y": [
          "F",
          "F",
          "F"
         ],
         "yaxis": "y"
        },
        {
         "alignmentgroup": "True",
         "base": [
          "2024-02-18",
          "2024-02-03",
          "2024-02-11"
         ],
         "customdata": [
          [
           7,
           56
          ],
          [
           8,
           55
          ],
          [
           7,
           54
          ]
         ],
         "hovertemplate": "베드구분=G<br>착수일=%{base}<br>종료일=%{x}<br>베드명=%{y}<br>차트텍스트=%{text}<br>표준공기=%{customdata[0]}<br>조립중량=%{customdata[1]}<extra></extra>",
         "legendgroup": "G",
         "marker": {
          "color": "#FF6692",
          "opacity": 0.7,
          "pattern": {
           "shape": ""
          }
         },
         "name": "G",
         "offsetgroup": "G",
         "orientation": "h",
         "showlegend": true,
         "text": [
          "S29 / 조립중량: 7ton",
          "S25 / 조립중량: 8ton",
          "S22 / 조립중량: 7ton"
         ],
         "textposition": "auto",
         "type": "bar",
         "x": [
          604800000,
          691200000,
          604800000
         ],
         "xaxis": "x",
         "y": [
          "G",
          "G",
          "G"
         ],
         "yaxis": "y"
        }
       ],
       "layout": {
        "bargap": 0.2,
        "barmode": "overlay",
        "font": {
         "color": "RebeccaPurple",
         "family": "Courier New, monospace",
         "size": 12
        },
        "height": 500,
        "hoverlabel": {
         "bgcolor": "#DAEEED"
        },
        "legend": {
         "title": {
          "text": "베드구분"
         },
         "tracegroupgap": 0
        },
        "margin": {
         "t": 60
        },
        "template": {
         "data": {
          "bar": [
           {
            "error_x": {
             "color": "#2a3f5f"
            },
            "error_y": {
             "color": "#2a3f5f"
            },
            "marker": {
             "line": {
              "color": "#E5ECF6",
              "width": 0.5
             },
             "pattern": {
              "fillmode": "overlay",
              "size": 10,
              "solidity": 0.2
             }
            },
            "type": "bar"
           }
          ],
          "barpolar": [
           {
            "marker": {
             "line": {
              "color": "#E5ECF6",
              "width": 0.5
             },
             "pattern": {
              "fillmode": "overlay",
              "size": 10,
              "solidity": 0.2
             }
            },
            "type": "barpolar"
           }
          ],
          "carpet": [
           {
            "aaxis": {
             "endlinecolor": "#2a3f5f",
             "gridcolor": "white",
             "linecolor": "white",
             "minorgridcolor": "white",
             "startlinecolor": "#2a3f5f"
            },
            "baxis": {
             "endlinecolor": "#2a3f5f",
             "gridcolor": "white",
             "linecolor": "white",
             "minorgridcolor": "white",
             "startlinecolor": "#2a3f5f"
            },
            "type": "carpet"
           }
          ],
          "choropleth": [
           {
            "colorbar": {
             "outlinewidth": 0,
             "ticks": ""
            },
            "type": "choropleth"
           }
          ],
          "contour": [
           {
            "colorbar": {
             "outlinewidth": 0,
             "ticks": ""
            },
            "colorscale": [
             [
              0,
              "#0d0887"
             ],
             [
              0.1111111111111111,
              "#46039f"
             ],
             [
              0.2222222222222222,
              "#7201a8"
             ],
             [
              0.3333333333333333,
              "#9c179e"
             ],
             [
              0.4444444444444444,
              "#bd3786"
             ],
             [
              0.5555555555555556,
              "#d8576b"
             ],
             [
              0.6666666666666666,
              "#ed7953"
             ],
             [
              0.7777777777777778,
              "#fb9f3a"
             ],
             [
              0.8888888888888888,
              "#fdca26"
             ],
             [
              1,
              "#f0f921"
             ]
            ],
            "type": "contour"
           }
          ],
          "contourcarpet": [
           {
            "colorbar": {
             "outlinewidth": 0,
             "ticks": ""
            },
            "type": "contourcarpet"
           }
          ],
          "heatmap": [
           {
            "colorbar": {
             "outlinewidth": 0,
             "ticks": ""
            },
            "colorscale": [
             [
              0,
              "#0d0887"
             ],
             [
              0.1111111111111111,
              "#46039f"
             ],
             [
              0.2222222222222222,
              "#7201a8"
             ],
             [
              0.3333333333333333,
              "#9c179e"
             ],
             [
              0.4444444444444444,
              "#bd3786"
             ],
             [
              0.5555555555555556,
              "#d8576b"
             ],
             [
              0.6666666666666666,
              "#ed7953"
             ],
             [
              0.7777777777777778,
              "#fb9f3a"
             ],
             [
              0.8888888888888888,
              "#fdca26"
             ],
             [
              1,
              "#f0f921"
             ]
            ],
            "type": "heatmap"
           }
          ],
          "heatmapgl": [
           {
            "colorbar": {
             "outlinewidth": 0,
             "ticks": ""
            },
            "colorscale": [
             [
              0,
              "#0d0887"
             ],
             [
              0.1111111111111111,
              "#46039f"
             ],
             [
              0.2222222222222222,
              "#7201a8"
             ],
             [
              0.3333333333333333,
              "#9c179e"
             ],
             [
              0.4444444444444444,
              "#bd3786"
             ],
             [
              0.5555555555555556,
              "#d8576b"
             ],
             [
              0.6666666666666666,
              "#ed7953"
             ],
             [
              0.7777777777777778,
              "#fb9f3a"
             ],
             [
              0.8888888888888888,
              "#fdca26"
             ],
             [
              1,
              "#f0f921"
             ]
            ],
            "type": "heatmapgl"
           }
          ],
          "histogram": [
           {
            "marker": {
             "pattern": {
              "fillmode": "overlay",
              "size": 10,
              "solidity": 0.2
             }
            },
            "type": "histogram"
           }
          ],
          "histogram2d": [
           {
            "colorbar": {
             "outlinewidth": 0,
             "ticks": ""
            },
            "colorscale": [
             [
              0,
              "#0d0887"
             ],
             [
              0.1111111111111111,
              "#46039f"
             ],
             [
              0.2222222222222222,
              "#7201a8"
             ],
             [
              0.3333333333333333,
              "#9c179e"
             ],
             [
              0.4444444444444444,
              "#bd3786"
             ],
             [
              0.5555555555555556,
              "#d8576b"
             ],
             [
              0.6666666666666666,
              "#ed7953"
             ],
             [
              0.7777777777777778,
              "#fb9f3a"
             ],
             [
              0.8888888888888888,
              "#fdca26"
             ],
             [
              1,
              "#f0f921"
             ]
            ],
            "type": "histogram2d"
           }
          ],
          "histogram2dcontour": [
           {
            "colorbar": {
             "outlinewidth": 0,
             "ticks": ""
            },
            "colorscale": [
             [
              0,
              "#0d0887"
             ],
             [
              0.1111111111111111,
              "#46039f"
             ],
             [
              0.2222222222222222,
              "#7201a8"
             ],
             [
              0.3333333333333333,
              "#9c179e"
             ],
             [
              0.4444444444444444,
              "#bd3786"
             ],
             [
              0.5555555555555556,
              "#d8576b"
             ],
             [
              0.6666666666666666,
              "#ed7953"
             ],
             [
              0.7777777777777778,
              "#fb9f3a"
             ],
             [
              0.8888888888888888,
              "#fdca26"
             ],
             [
              1,
              "#f0f921"
             ]
            ],
            "type": "histogram2dcontour"
           }
          ],
          "mesh3d": [
           {
            "colorbar": {
             "outlinewidth": 0,
             "ticks": ""
            },
            "type": "mesh3d"
           }
          ],
          "parcoords": [
           {
            "line": {
             "colorbar": {
              "outlinewidth": 0,
              "ticks": ""
             }
            },
            "type": "parcoords"
           }
          ],
          "pie": [
           {
            "automargin": true,
            "type": "pie"
           }
          ],
          "scatter": [
           {
            "fillpattern": {
             "fillmode": "overlay",
             "size": 10,
             "solidity": 0.2
            },
            "type": "scatter"
           }
          ],
          "scatter3d": [
           {
            "line": {
             "colorbar": {
              "outlinewidth": 0,
              "ticks": ""
             }
            },
            "marker": {
             "colorbar": {
              "outlinewidth": 0,
              "ticks": ""
             }
            },
            "type": "scatter3d"
           }
          ],
          "scattercarpet": [
           {
            "marker": {
             "colorbar": {
              "outlinewidth": 0,
              "ticks": ""
             }
            },
            "type": "scattercarpet"
           }
          ],
          "scattergeo": [
           {
            "marker": {
             "colorbar": {
              "outlinewidth": 0,
              "ticks": ""
             }
            },
            "type": "scattergeo"
           }
          ],
          "scattergl": [
           {
            "marker": {
             "colorbar": {
              "outlinewidth": 0,
              "ticks": ""
             }
            },
            "type": "scattergl"
           }
          ],
          "scattermapbox": [
           {
            "marker": {
             "colorbar": {
              "outlinewidth": 0,
              "ticks": ""
             }
            },
            "type": "scattermapbox"
           }
          ],
          "scatterpolar": [
           {
            "marker": {
             "colorbar": {
              "outlinewidth": 0,
              "ticks": ""
             }
            },
            "type": "scatterpolar"
           }
          ],
          "scatterpolargl": [
           {
            "marker": {
             "colorbar": {
              "outlinewidth": 0,
              "ticks": ""
             }
            },
            "type": "scatterpolargl"
           }
          ],
          "scatterternary": [
           {
            "marker": {
             "colorbar": {
              "outlinewidth": 0,
              "ticks": ""
             }
            },
            "type": "scatterternary"
           }
          ],
          "surface": [
           {
            "colorbar": {
             "outlinewidth": 0,
             "ticks": ""
            },
            "colorscale": [
             [
              0,
              "#0d0887"
             ],
             [
              0.1111111111111111,
              "#46039f"
             ],
             [
              0.2222222222222222,
              "#7201a8"
             ],
             [
              0.3333333333333333,
              "#9c179e"
             ],
             [
              0.4444444444444444,
              "#bd3786"
             ],
             [
              0.5555555555555556,
              "#d8576b"
             ],
             [
              0.6666666666666666,
              "#ed7953"
             ],
             [
              0.7777777777777778,
              "#fb9f3a"
             ],
             [
              0.8888888888888888,
              "#fdca26"
             ],
             [
              1,
              "#f0f921"
             ]
            ],
            "type": "surface"
           }
          ],
          "table": [
           {
            "cells": {
             "fill": {
              "color": "#EBF0F8"
             },
             "line": {
              "color": "white"
             }
            },
            "header": {
             "fill": {
              "color": "#C8D4E3"
             },
             "line": {
              "color": "white"
             }
            },
            "type": "table"
           }
          ]
         },
         "layout": {
          "annotationdefaults": {
           "arrowcolor": "#2a3f5f",
           "arrowhead": 0,
           "arrowwidth": 1
          },
          "autotypenumbers": "strict",
          "coloraxis": {
           "colorbar": {
            "outlinewidth": 0,
            "ticks": ""
           }
          },
          "colorscale": {
           "diverging": [
            [
             0,
             "#8e0152"
            ],
            [
             0.1,
             "#c51b7d"
            ],
            [
             0.2,
             "#de77ae"
            ],
            [
             0.3,
             "#f1b6da"
            ],
            [
             0.4,
             "#fde0ef"
            ],
            [
             0.5,
             "#f7f7f7"
            ],
            [
             0.6,
             "#e6f5d0"
            ],
            [
             0.7,
             "#b8e186"
            ],
            [
             0.8,
             "#7fbc41"
            ],
            [
             0.9,
             "#4d9221"
            ],
            [
             1,
             "#276419"
            ]
           ],
           "sequential": [
            [
             0,
             "#0d0887"
            ],
            [
             0.1111111111111111,
             "#46039f"
            ],
            [
             0.2222222222222222,
             "#7201a8"
            ],
            [
             0.3333333333333333,
             "#9c179e"
            ],
            [
             0.4444444444444444,
             "#bd3786"
            ],
            [
             0.5555555555555556,
             "#d8576b"
            ],
            [
             0.6666666666666666,
             "#ed7953"
            ],
            [
             0.7777777777777778,
             "#fb9f3a"
            ],
            [
             0.8888888888888888,
             "#fdca26"
            ],
            [
             1,
             "#f0f921"
            ]
           ],
           "sequentialminus": [
            [
             0,
             "#0d0887"
            ],
            [
             0.1111111111111111,
             "#46039f"
            ],
            [
             0.2222222222222222,
             "#7201a8"
            ],
            [
             0.3333333333333333,
             "#9c179e"
            ],
            [
             0.4444444444444444,
             "#bd3786"
            ],
            [
             0.5555555555555556,
             "#d8576b"
            ],
            [
             0.6666666666666666,
             "#ed7953"
            ],
            [
             0.7777777777777778,
             "#fb9f3a"
            ],
            [
             0.8888888888888888,
             "#fdca26"
            ],
            [
             1,
             "#f0f921"
            ]
           ]
          },
          "colorway": [
           "#636efa",
           "#EF553B",
           "#00cc96",
           "#ab63fa",
           "#FFA15A",
           "#19d3f3",
           "#FF6692",
           "#B6E880",
           "#FF97FF",
           "#FECB52"
          ],
          "font": {
           "color": "#2a3f5f"
          },
          "geo": {
           "bgcolor": "white",
           "lakecolor": "white",
           "landcolor": "#E5ECF6",
           "showlakes": true,
           "showland": true,
           "subunitcolor": "white"
          },
          "hoverlabel": {
           "align": "left"
          },
          "hovermode": "closest",
          "mapbox": {
           "style": "light"
          },
          "paper_bgcolor": "white",
          "plot_bgcolor": "#E5ECF6",
          "polar": {
           "angularaxis": {
            "gridcolor": "white",
            "linecolor": "white",
            "ticks": ""
           },
           "bgcolor": "#E5ECF6",
           "radialaxis": {
            "gridcolor": "white",
            "linecolor": "white",
            "ticks": ""
           }
          },
          "scene": {
           "xaxis": {
            "backgroundcolor": "#E5ECF6",
            "gridcolor": "white",
            "gridwidth": 2,
            "linecolor": "white",
            "showbackground": true,
            "ticks": "",
            "zerolinecolor": "white"
           },
           "yaxis": {
            "backgroundcolor": "#E5ECF6",
            "gridcolor": "white",
            "gridwidth": 2,
            "linecolor": "white",
            "showbackground": true,
            "ticks": "",
            "zerolinecolor": "white"
           },
           "zaxis": {
            "backgroundcolor": "#E5ECF6",
            "gridcolor": "white",
            "gridwidth": 2,
            "linecolor": "white",
            "showbackground": true,
            "ticks": "",
            "zerolinecolor": "white"
           }
          },
          "shapedefaults": {
           "line": {
            "color": "#2a3f5f"
           }
          },
          "ternary": {
           "aaxis": {
            "gridcolor": "white",
            "linecolor": "white",
            "ticks": ""
           },
           "baxis": {
            "gridcolor": "white",
            "linecolor": "white",
            "ticks": ""
           },
           "bgcolor": "#E5ECF6",
           "caxis": {
            "gridcolor": "white",
            "linecolor": "white",
            "ticks": ""
           }
          },
          "title": {
           "x": 0.05
          },
          "xaxis": {
           "automargin": true,
           "gridcolor": "white",
           "linecolor": "white",
           "ticks": "",
           "title": {
            "standoff": 15
           },
           "zerolinecolor": "white",
           "zerolinewidth": 2
          },
          "yaxis": {
           "automargin": true,
           "gridcolor": "white",
           "linecolor": "white",
           "ticks": "",
           "title": {
            "standoff": 15
           },
           "zerolinecolor": "white",
           "zerolinewidth": 2
          }
         }
        },
        "xaxis": {
         "anchor": "y",
         "domain": [
          0,
          1
         ],
         "title": {
          "text": ""
         },
         "type": "date"
        },
        "yaxis": {
         "anchor": "x",
         "autorange": "reversed",
         "domain": [
          0,
          1
         ],
         "title": {
          "text": "베드명"
         }
        }
       }
      },
      "text/html": [
       "<div>                            <div id=\"f6e73236-3d34-4fd8-ab12-9e0f78a2564e\" class=\"plotly-graph-div\" style=\"height:500px; width:100%;\"></div>            <script type=\"text/javascript\">                require([\"plotly\"], function(Plotly) {                    window.PLOTLYENV=window.PLOTLYENV || {};                                    if (document.getElementById(\"f6e73236-3d34-4fd8-ab12-9e0f78a2564e\")) {                    Plotly.newPlot(                        \"f6e73236-3d34-4fd8-ab12-9e0f78a2564e\",                        [{\"alignmentgroup\":\"True\",\"base\":[\"2024-02-18\",\"2024-02-03\",\"2024-02-08\",\"2024-02-14\"],\"customdata\":[[4,60],[5,57],[6,59],[4,56]],\"hovertemplate\":\"베드구분=A<br>착수일=%{base}<br>종료일=%{x}<br>베드명=%{y}<br>차트텍스트=%{text}<br>표준공기=%{customdata[0]}<br>조립중량=%{customdata[1]}<extra></extra>\",\"legendgroup\":\"A\",\"marker\":{\"color\":\"#636efa\",\"opacity\":0.7,\"pattern\":{\"shape\":\"\"}},\"name\":\"A\",\"offsetgroup\":\"A\",\"orientation\":\"h\",\"showlegend\":true,\"text\":[\"S27 / 조립중량: 4ton\",\"S5 / 조립중량: 5ton\",\"S6 / 조립중량: 6ton\",\"S24 / 조립중량: 4ton\"],\"textposition\":\"auto\",\"x\":[345600000.0,432000000.0,518400000.0,345600000.0],\"xaxis\":\"x\",\"y\":[\"A\",\"A\",\"A\",\"A\"],\"yaxis\":\"y\",\"type\":\"bar\"},{\"alignmentgroup\":\"True\",\"base\":[\"2024-02-03\",\"2024-02-14\",\"2024-02-09\"],\"customdata\":[[6,50],[6,51],[5,56]],\"hovertemplate\":\"베드구분=B<br>착수일=%{base}<br>종료일=%{x}<br>베드명=%{y}<br>차트텍스트=%{text}<br>표준공기=%{customdata[0]}<br>조립중량=%{customdata[1]}<extra></extra>\",\"legendgroup\":\"B\",\"marker\":{\"color\":\"#EF553B\",\"opacity\":0.7,\"pattern\":{\"shape\":\"\"}},\"name\":\"B\",\"offsetgroup\":\"B\",\"orientation\":\"h\",\"showlegend\":true,\"text\":[\"S1 / 조립중량: 6ton\",\"S23 / 조립중량: 6ton\",\"S16 / 조립중량: 5ton\"],\"textposition\":\"auto\",\"x\":[518400000.0,518400000.0,432000000.0],\"xaxis\":\"x\",\"y\":[\"B\",\"B\",\"B\"],\"yaxis\":\"y\",\"type\":\"bar\"},{\"alignmentgroup\":\"True\",\"base\":[\"2024-02-03\",\"2024-02-11\"],\"customdata\":[[8,52],[8,58]],\"hovertemplate\":\"베드구분=C<br>착수일=%{base}<br>종료일=%{x}<br>베드명=%{y}<br>차트텍스트=%{text}<br>표준공기=%{customdata[0]}<br>조립중량=%{customdata[1]}<extra></extra>\",\"legendgroup\":\"C\",\"marker\":{\"color\":\"#00cc96\",\"opacity\":0.7,\"pattern\":{\"shape\":\"\"}},\"name\":\"C\",\"offsetgroup\":\"C\",\"orientation\":\"h\",\"showlegend\":true,\"text\":[\"S9 / 조립중량: 8ton\",\"S28 / 조립중량: 8ton\"],\"textposition\":\"auto\",\"x\":[691200000.0,691200000.0],\"xaxis\":\"x\",\"y\":[\"C\",\"C\"],\"yaxis\":\"y\",\"type\":\"bar\"},{\"alignmentgroup\":\"True\",\"base\":[\"2024-02-15\",\"2024-02-03\",\"2024-02-09\"],\"customdata\":[[5,58],[6,59],[6,50]],\"hovertemplate\":\"베드구분=D<br>착수일=%{base}<br>종료일=%{x}<br>베드명=%{y}<br>차트텍스트=%{text}<br>표준공기=%{customdata[0]}<br>조립중량=%{customdata[1]}<extra></extra>\",\"legendgroup\":\"D\",\"marker\":{\"color\":\"#ab63fa\",\"opacity\":0.7,\"pattern\":{\"shape\":\"\"}},\"name\":\"D\",\"offsetgroup\":\"D\",\"orientation\":\"h\",\"showlegend\":true,\"text\":[\"S21 / 조립중량: 5ton\",\"S20 / 조립중량: 6ton\",\"S7 / 조립중량: 6ton\"],\"textposition\":\"auto\",\"x\":[432000000.0,518400000.0,518400000.0],\"xaxis\":\"x\",\"y\":[\"D\",\"D\",\"D\"],\"yaxis\":\"y\",\"type\":\"bar\"},{\"alignmentgroup\":\"True\",\"base\":[\"2024-02-14\",\"2024-02-10\",\"2024-02-03\"],\"customdata\":[[5,56],[4,57],[7,50]],\"hovertemplate\":\"베드구분=E<br>착수일=%{base}<br>종료일=%{x}<br>베드명=%{y}<br>차트텍스트=%{text}<br>표준공기=%{customdata[0]}<br>조립중량=%{customdata[1]}<extra></extra>\",\"legendgroup\":\"E\",\"marker\":{\"color\":\"#FFA15A\",\"opacity\":0.7,\"pattern\":{\"shape\":\"\"}},\"name\":\"E\",\"offsetgroup\":\"E\",\"orientation\":\"h\",\"showlegend\":true,\"text\":[\"S13 / 조립중량: 5ton\",\"S10 / 조립중량: 4ton\",\"S4 / 조립중량: 7ton\"],\"textposition\":\"auto\",\"x\":[432000000.0,345600000.0,604800000.0],\"xaxis\":\"x\",\"y\":[\"E\",\"E\",\"E\"],\"yaxis\":\"y\",\"type\":\"bar\"},{\"alignmentgroup\":\"True\",\"base\":[\"2024-02-11\",\"2024-02-03\",\"2024-02-19\"],\"customdata\":[[8,50],[8,50],[4,53]],\"hovertemplate\":\"베드구분=F<br>착수일=%{base}<br>종료일=%{x}<br>베드명=%{y}<br>차트텍스트=%{text}<br>표준공기=%{customdata[0]}<br>조립중량=%{customdata[1]}<extra></extra>\",\"legendgroup\":\"F\",\"marker\":{\"color\":\"#19d3f3\",\"opacity\":0.7,\"pattern\":{\"shape\":\"\"}},\"name\":\"F\",\"offsetgroup\":\"F\",\"orientation\":\"h\",\"showlegend\":true,\"text\":[\"S11 / 조립중량: 8ton\",\"S18 / 조립중량: 8ton\",\"S26 / 조립중량: 4ton\"],\"textposition\":\"auto\",\"x\":[691200000.0,691200000.0,345600000.0],\"xaxis\":\"x\",\"y\":[\"F\",\"F\",\"F\"],\"yaxis\":\"y\",\"type\":\"bar\"},{\"alignmentgroup\":\"True\",\"base\":[\"2024-02-18\",\"2024-02-03\",\"2024-02-11\"],\"customdata\":[[7,56],[8,55],[7,54]],\"hovertemplate\":\"베드구분=G<br>착수일=%{base}<br>종료일=%{x}<br>베드명=%{y}<br>차트텍스트=%{text}<br>표준공기=%{customdata[0]}<br>조립중량=%{customdata[1]}<extra></extra>\",\"legendgroup\":\"G\",\"marker\":{\"color\":\"#FF6692\",\"opacity\":0.7,\"pattern\":{\"shape\":\"\"}},\"name\":\"G\",\"offsetgroup\":\"G\",\"orientation\":\"h\",\"showlegend\":true,\"text\":[\"S29 / 조립중량: 7ton\",\"S25 / 조립중량: 8ton\",\"S22 / 조립중량: 7ton\"],\"textposition\":\"auto\",\"x\":[604800000.0,691200000.0,604800000.0],\"xaxis\":\"x\",\"y\":[\"G\",\"G\",\"G\"],\"yaxis\":\"y\",\"type\":\"bar\"}],                        {\"template\":{\"data\":{\"histogram2dcontour\":[{\"type\":\"histogram2dcontour\",\"colorbar\":{\"outlinewidth\":0,\"ticks\":\"\"},\"colorscale\":[[0.0,\"#0d0887\"],[0.1111111111111111,\"#46039f\"],[0.2222222222222222,\"#7201a8\"],[0.3333333333333333,\"#9c179e\"],[0.4444444444444444,\"#bd3786\"],[0.5555555555555556,\"#d8576b\"],[0.6666666666666666,\"#ed7953\"],[0.7777777777777778,\"#fb9f3a\"],[0.8888888888888888,\"#fdca26\"],[1.0,\"#f0f921\"]]}],\"choropleth\":[{\"type\":\"choropleth\",\"colorbar\":{\"outlinewidth\":0,\"ticks\":\"\"}}],\"histogram2d\":[{\"type\":\"histogram2d\",\"colorbar\":{\"outlinewidth\":0,\"ticks\":\"\"},\"colorscale\":[[0.0,\"#0d0887\"],[0.1111111111111111,\"#46039f\"],[0.2222222222222222,\"#7201a8\"],[0.3333333333333333,\"#9c179e\"],[0.4444444444444444,\"#bd3786\"],[0.5555555555555556,\"#d8576b\"],[0.6666666666666666,\"#ed7953\"],[0.7777777777777778,\"#fb9f3a\"],[0.8888888888888888,\"#fdca26\"],[1.0,\"#f0f921\"]]}],\"heatmap\":[{\"type\":\"heatmap\",\"colorbar\":{\"outlinewidth\":0,\"ticks\":\"\"},\"colorscale\":[[0.0,\"#0d0887\"],[0.1111111111111111,\"#46039f\"],[0.2222222222222222,\"#7201a8\"],[0.3333333333333333,\"#9c179e\"],[0.4444444444444444,\"#bd3786\"],[0.5555555555555556,\"#d8576b\"],[0.6666666666666666,\"#ed7953\"],[0.7777777777777778,\"#fb9f3a\"],[0.8888888888888888,\"#fdca26\"],[1.0,\"#f0f921\"]]}],\"heatmapgl\":[{\"type\":\"heatmapgl\",\"colorbar\":{\"outlinewidth\":0,\"ticks\":\"\"},\"colorscale\":[[0.0,\"#0d0887\"],[0.1111111111111111,\"#46039f\"],[0.2222222222222222,\"#7201a8\"],[0.3333333333333333,\"#9c179e\"],[0.4444444444444444,\"#bd3786\"],[0.5555555555555556,\"#d8576b\"],[0.6666666666666666,\"#ed7953\"],[0.7777777777777778,\"#fb9f3a\"],[0.8888888888888888,\"#fdca26\"],[1.0,\"#f0f921\"]]}],\"contourcarpet\":[{\"type\":\"contourcarpet\",\"colorbar\":{\"outlinewidth\":0,\"ticks\":\"\"}}],\"contour\":[{\"type\":\"contour\",\"colorbar\":{\"outlinewidth\":0,\"ticks\":\"\"},\"colorscale\":[[0.0,\"#0d0887\"],[0.1111111111111111,\"#46039f\"],[0.2222222222222222,\"#7201a8\"],[0.3333333333333333,\"#9c179e\"],[0.4444444444444444,\"#bd3786\"],[0.5555555555555556,\"#d8576b\"],[0.6666666666666666,\"#ed7953\"],[0.7777777777777778,\"#fb9f3a\"],[0.8888888888888888,\"#fdca26\"],[1.0,\"#f0f921\"]]}],\"surface\":[{\"type\":\"surface\",\"colorbar\":{\"outlinewidth\":0,\"ticks\":\"\"},\"colorscale\":[[0.0,\"#0d0887\"],[0.1111111111111111,\"#46039f\"],[0.2222222222222222,\"#7201a8\"],[0.3333333333333333,\"#9c179e\"],[0.4444444444444444,\"#bd3786\"],[0.5555555555555556,\"#d8576b\"],[0.6666666666666666,\"#ed7953\"],[0.7777777777777778,\"#fb9f3a\"],[0.8888888888888888,\"#fdca26\"],[1.0,\"#f0f921\"]]}],\"mesh3d\":[{\"type\":\"mesh3d\",\"colorbar\":{\"outlinewidth\":0,\"ticks\":\"\"}}],\"scatter\":[{\"fillpattern\":{\"fillmode\":\"overlay\",\"size\":10,\"solidity\":0.2},\"type\":\"scatter\"}],\"parcoords\":[{\"type\":\"parcoords\",\"line\":{\"colorbar\":{\"outlinewidth\":0,\"ticks\":\"\"}}}],\"scatterpolargl\":[{\"type\":\"scatterpolargl\",\"marker\":{\"colorbar\":{\"outlinewidth\":0,\"ticks\":\"\"}}}],\"bar\":[{\"error_x\":{\"color\":\"#2a3f5f\"},\"error_y\":{\"color\":\"#2a3f5f\"},\"marker\":{\"line\":{\"color\":\"#E5ECF6\",\"width\":0.5},\"pattern\":{\"fillmode\":\"overlay\",\"size\":10,\"solidity\":0.2}},\"type\":\"bar\"}],\"scattergeo\":[{\"type\":\"scattergeo\",\"marker\":{\"colorbar\":{\"outlinewidth\":0,\"ticks\":\"\"}}}],\"scatterpolar\":[{\"type\":\"scatterpolar\",\"marker\":{\"colorbar\":{\"outlinewidth\":0,\"ticks\":\"\"}}}],\"histogram\":[{\"marker\":{\"pattern\":{\"fillmode\":\"overlay\",\"size\":10,\"solidity\":0.2}},\"type\":\"histogram\"}],\"scattergl\":[{\"type\":\"scattergl\",\"marker\":{\"colorbar\":{\"outlinewidth\":0,\"ticks\":\"\"}}}],\"scatter3d\":[{\"type\":\"scatter3d\",\"line\":{\"colorbar\":{\"outlinewidth\":0,\"ticks\":\"\"}},\"marker\":{\"colorbar\":{\"outlinewidth\":0,\"ticks\":\"\"}}}],\"scattermapbox\":[{\"type\":\"scattermapbox\",\"marker\":{\"colorbar\":{\"outlinewidth\":0,\"ticks\":\"\"}}}],\"scatterternary\":[{\"type\":\"scatterternary\",\"marker\":{\"colorbar\":{\"outlinewidth\":0,\"ticks\":\"\"}}}],\"scattercarpet\":[{\"type\":\"scattercarpet\",\"marker\":{\"colorbar\":{\"outlinewidth\":0,\"ticks\":\"\"}}}],\"carpet\":[{\"aaxis\":{\"endlinecolor\":\"#2a3f5f\",\"gridcolor\":\"white\",\"linecolor\":\"white\",\"minorgridcolor\":\"white\",\"startlinecolor\":\"#2a3f5f\"},\"baxis\":{\"endlinecolor\":\"#2a3f5f\",\"gridcolor\":\"white\",\"linecolor\":\"white\",\"minorgridcolor\":\"white\",\"startlinecolor\":\"#2a3f5f\"},\"type\":\"carpet\"}],\"table\":[{\"cells\":{\"fill\":{\"color\":\"#EBF0F8\"},\"line\":{\"color\":\"white\"}},\"header\":{\"fill\":{\"color\":\"#C8D4E3\"},\"line\":{\"color\":\"white\"}},\"type\":\"table\"}],\"barpolar\":[{\"marker\":{\"line\":{\"color\":\"#E5ECF6\",\"width\":0.5},\"pattern\":{\"fillmode\":\"overlay\",\"size\":10,\"solidity\":0.2}},\"type\":\"barpolar\"}],\"pie\":[{\"automargin\":true,\"type\":\"pie\"}]},\"layout\":{\"autotypenumbers\":\"strict\",\"colorway\":[\"#636efa\",\"#EF553B\",\"#00cc96\",\"#ab63fa\",\"#FFA15A\",\"#19d3f3\",\"#FF6692\",\"#B6E880\",\"#FF97FF\",\"#FECB52\"],\"font\":{\"color\":\"#2a3f5f\"},\"hovermode\":\"closest\",\"hoverlabel\":{\"align\":\"left\"},\"paper_bgcolor\":\"white\",\"plot_bgcolor\":\"#E5ECF6\",\"polar\":{\"bgcolor\":\"#E5ECF6\",\"angularaxis\":{\"gridcolor\":\"white\",\"linecolor\":\"white\",\"ticks\":\"\"},\"radialaxis\":{\"gridcolor\":\"white\",\"linecolor\":\"white\",\"ticks\":\"\"}},\"ternary\":{\"bgcolor\":\"#E5ECF6\",\"aaxis\":{\"gridcolor\":\"white\",\"linecolor\":\"white\",\"ticks\":\"\"},\"baxis\":{\"gridcolor\":\"white\",\"linecolor\":\"white\",\"ticks\":\"\"},\"caxis\":{\"gridcolor\":\"white\",\"linecolor\":\"white\",\"ticks\":\"\"}},\"coloraxis\":{\"colorbar\":{\"outlinewidth\":0,\"ticks\":\"\"}},\"colorscale\":{\"sequential\":[[0.0,\"#0d0887\"],[0.1111111111111111,\"#46039f\"],[0.2222222222222222,\"#7201a8\"],[0.3333333333333333,\"#9c179e\"],[0.4444444444444444,\"#bd3786\"],[0.5555555555555556,\"#d8576b\"],[0.6666666666666666,\"#ed7953\"],[0.7777777777777778,\"#fb9f3a\"],[0.8888888888888888,\"#fdca26\"],[1.0,\"#f0f921\"]],\"sequentialminus\":[[0.0,\"#0d0887\"],[0.1111111111111111,\"#46039f\"],[0.2222222222222222,\"#7201a8\"],[0.3333333333333333,\"#9c179e\"],[0.4444444444444444,\"#bd3786\"],[0.5555555555555556,\"#d8576b\"],[0.6666666666666666,\"#ed7953\"],[0.7777777777777778,\"#fb9f3a\"],[0.8888888888888888,\"#fdca26\"],[1.0,\"#f0f921\"]],\"diverging\":[[0,\"#8e0152\"],[0.1,\"#c51b7d\"],[0.2,\"#de77ae\"],[0.3,\"#f1b6da\"],[0.4,\"#fde0ef\"],[0.5,\"#f7f7f7\"],[0.6,\"#e6f5d0\"],[0.7,\"#b8e186\"],[0.8,\"#7fbc41\"],[0.9,\"#4d9221\"],[1,\"#276419\"]]},\"xaxis\":{\"gridcolor\":\"white\",\"linecolor\":\"white\",\"ticks\":\"\",\"title\":{\"standoff\":15},\"zerolinecolor\":\"white\",\"automargin\":true,\"zerolinewidth\":2},\"yaxis\":{\"gridcolor\":\"white\",\"linecolor\":\"white\",\"ticks\":\"\",\"title\":{\"standoff\":15},\"zerolinecolor\":\"white\",\"automargin\":true,\"zerolinewidth\":2},\"scene\":{\"xaxis\":{\"backgroundcolor\":\"#E5ECF6\",\"gridcolor\":\"white\",\"linecolor\":\"white\",\"showbackground\":true,\"ticks\":\"\",\"zerolinecolor\":\"white\",\"gridwidth\":2},\"yaxis\":{\"backgroundcolor\":\"#E5ECF6\",\"gridcolor\":\"white\",\"linecolor\":\"white\",\"showbackground\":true,\"ticks\":\"\",\"zerolinecolor\":\"white\",\"gridwidth\":2},\"zaxis\":{\"backgroundcolor\":\"#E5ECF6\",\"gridcolor\":\"white\",\"linecolor\":\"white\",\"showbackground\":true,\"ticks\":\"\",\"zerolinecolor\":\"white\",\"gridwidth\":2}},\"shapedefaults\":{\"line\":{\"color\":\"#2a3f5f\"}},\"annotationdefaults\":{\"arrowcolor\":\"#2a3f5f\",\"arrowhead\":0,\"arrowwidth\":1},\"geo\":{\"bgcolor\":\"white\",\"landcolor\":\"#E5ECF6\",\"subunitcolor\":\"white\",\"showland\":true,\"showlakes\":true,\"lakecolor\":\"white\"},\"title\":{\"x\":0.05},\"mapbox\":{\"style\":\"light\"}}},\"xaxis\":{\"anchor\":\"y\",\"domain\":[0.0,1.0],\"type\":\"date\",\"title\":{\"text\":\"\"}},\"yaxis\":{\"anchor\":\"x\",\"domain\":[0.0,1.0],\"title\":{\"text\":\"베드명\"},\"autorange\":\"reversed\"},\"legend\":{\"title\":{\"text\":\"베드구분\"},\"tracegroupgap\":0},\"margin\":{\"t\":60},\"barmode\":\"overlay\",\"hoverlabel\":{\"bgcolor\":\"#DAEEED\"},\"font\":{\"family\":\"Courier New, monospace\",\"size\":12,\"color\":\"RebeccaPurple\"},\"bargap\":0.2,\"height\":500},                        {\"responsive\": true}                    ).then(function(){\n",
       "                            \n",
       "var gd = document.getElementById('f6e73236-3d34-4fd8-ab12-9e0f78a2564e');\n",
       "var x = new MutationObserver(function (mutations, observer) {{\n",
       "        var display = window.getComputedStyle(gd).display;\n",
       "        if (!display || display === 'none') {{\n",
       "            console.log([gd, 'removed!']);\n",
       "            Plotly.purge(gd);\n",
       "            observer.disconnect();\n",
       "        }}\n",
       "}});\n",
       "\n",
       "// Listen for the removal of the full notebook cells\n",
       "var notebookContainer = gd.closest('#notebook-container');\n",
       "if (notebookContainer) {{\n",
       "    x.observe(notebookContainer, {childList: true});\n",
       "}}\n",
       "\n",
       "// Listen for the clearing of the current output cell\n",
       "var outputEl = gd.closest('.output');\n",
       "if (outputEl) {{\n",
       "    x.observe(outputEl, {childList: true});\n",
       "}}\n",
       "\n",
       "                        })                };                });            </script>        </div>"
      ]
     },
     "metadata": {},
     "output_type": "display_data"
    }
   ],
   "source": [
    "draw_gant(배치결과)"
   ]
  },
  {
   "cell_type": "code",
   "execution_count": 606,
   "id": "5ad6c033",
   "metadata": {
    "scrolled": true
   },
   "outputs": [
    {
     "data": {
      "text/html": [
       "<div>\n",
       "<style scoped>\n",
       "    .dataframe tbody tr th:only-of-type {\n",
       "        vertical-align: middle;\n",
       "    }\n",
       "\n",
       "    .dataframe tbody tr th {\n",
       "        vertical-align: top;\n",
       "    }\n",
       "\n",
       "    .dataframe thead th {\n",
       "        text-align: right;\n",
       "    }\n",
       "</style>\n",
       "<table border=\"1\" class=\"dataframe\">\n",
       "  <thead>\n",
       "    <tr style=\"text-align: right;\">\n",
       "      <th></th>\n",
       "      <th>엔진명</th>\n",
       "      <th>중량</th>\n",
       "      <th>표준공기</th>\n",
       "      <th>납기</th>\n",
       "      <th>최소착수요구일</th>\n",
       "      <th>길이리스트</th>\n",
       "      <th>베드배치</th>\n",
       "      <th>상태정보</th>\n",
       "    </tr>\n",
       "  </thead>\n",
       "  <tbody>\n",
       "    <tr>\n",
       "      <th>8</th>\n",
       "      <td>S9</td>\n",
       "      <td>52</td>\n",
       "      <td>8</td>\n",
       "      <td>2024-02-15</td>\n",
       "      <td>2024-02-07</td>\n",
       "      <td>[10, 10, 7, 7]</td>\n",
       "      <td>1.0</td>\n",
       "      <td>정상배치</td>\n",
       "    </tr>\n",
       "    <tr>\n",
       "      <th>0</th>\n",
       "      <td>S1</td>\n",
       "      <td>50</td>\n",
       "      <td>6</td>\n",
       "      <td>2024-02-10</td>\n",
       "      <td>2024-02-04</td>\n",
       "      <td>[10, 10, 8, 8]</td>\n",
       "      <td>1.0</td>\n",
       "      <td>정상배치</td>\n",
       "    </tr>\n",
       "    <tr>\n",
       "      <th>3</th>\n",
       "      <td>S4</td>\n",
       "      <td>50</td>\n",
       "      <td>7</td>\n",
       "      <td>2024-02-10</td>\n",
       "      <td>2024-02-03</td>\n",
       "      <td>[9, 9, 7, 7]</td>\n",
       "      <td>1.0</td>\n",
       "      <td>정상배치</td>\n",
       "    </tr>\n",
       "    <tr>\n",
       "      <th>17</th>\n",
       "      <td>S18</td>\n",
       "      <td>50</td>\n",
       "      <td>8</td>\n",
       "      <td>2024-02-15</td>\n",
       "      <td>2024-02-07</td>\n",
       "      <td>[9, 9, 7, 7]</td>\n",
       "      <td>1.0</td>\n",
       "      <td>정상배치</td>\n",
       "    </tr>\n",
       "    <tr>\n",
       "      <th>19</th>\n",
       "      <td>S20</td>\n",
       "      <td>59</td>\n",
       "      <td>6</td>\n",
       "      <td>2024-02-15</td>\n",
       "      <td>2024-02-09</td>\n",
       "      <td>[10, 10, 9, 9]</td>\n",
       "      <td>1.0</td>\n",
       "      <td>정상배치</td>\n",
       "    </tr>\n",
       "    <tr>\n",
       "      <th>24</th>\n",
       "      <td>S25</td>\n",
       "      <td>55</td>\n",
       "      <td>8</td>\n",
       "      <td>2024-02-20</td>\n",
       "      <td>2024-02-12</td>\n",
       "      <td>[9, 9, 8, 8]</td>\n",
       "      <td>1.0</td>\n",
       "      <td>정상배치</td>\n",
       "    </tr>\n",
       "    <tr>\n",
       "      <th>4</th>\n",
       "      <td>S5</td>\n",
       "      <td>57</td>\n",
       "      <td>5</td>\n",
       "      <td>2024-02-10</td>\n",
       "      <td>2024-02-05</td>\n",
       "      <td>[9, 9, 7, 7]</td>\n",
       "      <td>1.0</td>\n",
       "      <td>정상배치</td>\n",
       "    </tr>\n",
       "    <tr>\n",
       "      <th>5</th>\n",
       "      <td>S6</td>\n",
       "      <td>59</td>\n",
       "      <td>6</td>\n",
       "      <td>2024-02-15</td>\n",
       "      <td>2024-02-09</td>\n",
       "      <td>[9, 9, 7, 7]</td>\n",
       "      <td>1.0</td>\n",
       "      <td>정상배치</td>\n",
       "    </tr>\n",
       "    <tr>\n",
       "      <th>15</th>\n",
       "      <td>S16</td>\n",
       "      <td>56</td>\n",
       "      <td>5</td>\n",
       "      <td>2024-02-15</td>\n",
       "      <td>2024-02-10</td>\n",
       "      <td>[9, 9, 9, 9]</td>\n",
       "      <td>1.0</td>\n",
       "      <td>정상배치</td>\n",
       "    </tr>\n",
       "    <tr>\n",
       "      <th>6</th>\n",
       "      <td>S7</td>\n",
       "      <td>50</td>\n",
       "      <td>6</td>\n",
       "      <td>2024-02-15</td>\n",
       "      <td>2024-02-09</td>\n",
       "      <td>[10, 10, 6, 6]</td>\n",
       "      <td>1.0</td>\n",
       "      <td>정상배치</td>\n",
       "    </tr>\n",
       "    <tr>\n",
       "      <th>2</th>\n",
       "      <td>S3</td>\n",
       "      <td>53</td>\n",
       "      <td>8</td>\n",
       "      <td>2024-02-10</td>\n",
       "      <td>2024-02-02</td>\n",
       "      <td>[5, 5, 5, 5]</td>\n",
       "      <td>NaN</td>\n",
       "      <td>배치불가-날짜조건</td>\n",
       "    </tr>\n",
       "    <tr>\n",
       "      <th>9</th>\n",
       "      <td>S10</td>\n",
       "      <td>57</td>\n",
       "      <td>4</td>\n",
       "      <td>2024-02-15</td>\n",
       "      <td>2024-02-11</td>\n",
       "      <td>[10, 10, 10, 10]</td>\n",
       "      <td>1.0</td>\n",
       "      <td>정상배치</td>\n",
       "    </tr>\n",
       "    <tr>\n",
       "      <th>10</th>\n",
       "      <td>S11</td>\n",
       "      <td>50</td>\n",
       "      <td>8</td>\n",
       "      <td>2024-02-20</td>\n",
       "      <td>2024-02-12</td>\n",
       "      <td>[9, 9, 5, 5]</td>\n",
       "      <td>1.0</td>\n",
       "      <td>정상배치</td>\n",
       "    </tr>\n",
       "    <tr>\n",
       "      <th>21</th>\n",
       "      <td>S22</td>\n",
       "      <td>54</td>\n",
       "      <td>7</td>\n",
       "      <td>2024-02-20</td>\n",
       "      <td>2024-02-13</td>\n",
       "      <td>[8, 8, 6, 6]</td>\n",
       "      <td>1.0</td>\n",
       "      <td>정상배치</td>\n",
       "    </tr>\n",
       "    <tr>\n",
       "      <th>27</th>\n",
       "      <td>S28</td>\n",
       "      <td>58</td>\n",
       "      <td>8</td>\n",
       "      <td>2024-02-25</td>\n",
       "      <td>2024-02-17</td>\n",
       "      <td>[8, 8, 7, 7]</td>\n",
       "      <td>1.0</td>\n",
       "      <td>정상배치</td>\n",
       "    </tr>\n",
       "    <tr>\n",
       "      <th>1</th>\n",
       "      <td>S2</td>\n",
       "      <td>56</td>\n",
       "      <td>4</td>\n",
       "      <td>2024-02-10</td>\n",
       "      <td>2024-02-06</td>\n",
       "      <td>[8, 8, 5, 5]</td>\n",
       "      <td>NaN</td>\n",
       "      <td>배치불가-날짜조건</td>\n",
       "    </tr>\n",
       "    <tr>\n",
       "      <th>23</th>\n",
       "      <td>S24</td>\n",
       "      <td>56</td>\n",
       "      <td>4</td>\n",
       "      <td>2024-02-20</td>\n",
       "      <td>2024-02-16</td>\n",
       "      <td>[10, 10, 8, 8]</td>\n",
       "      <td>1.0</td>\n",
       "      <td>정상배치</td>\n",
       "    </tr>\n",
       "    <tr>\n",
       "      <th>7</th>\n",
       "      <td>S8</td>\n",
       "      <td>52</td>\n",
       "      <td>4</td>\n",
       "      <td>2024-02-15</td>\n",
       "      <td>2024-02-11</td>\n",
       "      <td>[9, 9, 6, 6]</td>\n",
       "      <td>NaN</td>\n",
       "      <td>배치불가-날짜조건</td>\n",
       "    </tr>\n",
       "    <tr>\n",
       "      <th>12</th>\n",
       "      <td>S13</td>\n",
       "      <td>56</td>\n",
       "      <td>5</td>\n",
       "      <td>2024-02-20</td>\n",
       "      <td>2024-02-15</td>\n",
       "      <td>[9, 9, 6, 6]</td>\n",
       "      <td>1.0</td>\n",
       "      <td>정상배치</td>\n",
       "    </tr>\n",
       "    <tr>\n",
       "      <th>22</th>\n",
       "      <td>S23</td>\n",
       "      <td>51</td>\n",
       "      <td>6</td>\n",
       "      <td>2024-02-20</td>\n",
       "      <td>2024-02-14</td>\n",
       "      <td>[8, 8, 5, 5]</td>\n",
       "      <td>1.0</td>\n",
       "      <td>정상배치</td>\n",
       "    </tr>\n",
       "    <tr>\n",
       "      <th>20</th>\n",
       "      <td>S21</td>\n",
       "      <td>58</td>\n",
       "      <td>5</td>\n",
       "      <td>2024-02-20</td>\n",
       "      <td>2024-02-15</td>\n",
       "      <td>[10, 10, 5, 5]</td>\n",
       "      <td>1.0</td>\n",
       "      <td>정상배치</td>\n",
       "    </tr>\n",
       "    <tr>\n",
       "      <th>18</th>\n",
       "      <td>S19</td>\n",
       "      <td>59</td>\n",
       "      <td>5</td>\n",
       "      <td>2024-02-15</td>\n",
       "      <td>2024-02-10</td>\n",
       "      <td>[6, 6, 5, 5]</td>\n",
       "      <td>NaN</td>\n",
       "      <td>배치불가-날짜조건</td>\n",
       "    </tr>\n",
       "    <tr>\n",
       "      <th>11</th>\n",
       "      <td>S12</td>\n",
       "      <td>60</td>\n",
       "      <td>6</td>\n",
       "      <td>2024-02-20</td>\n",
       "      <td>2024-02-14</td>\n",
       "      <td>[6, 6, 6, 6]</td>\n",
       "      <td>NaN</td>\n",
       "      <td>배치불가-날짜조건</td>\n",
       "    </tr>\n",
       "    <tr>\n",
       "      <th>14</th>\n",
       "      <td>S15</td>\n",
       "      <td>60</td>\n",
       "      <td>5</td>\n",
       "      <td>2024-02-20</td>\n",
       "      <td>2024-02-15</td>\n",
       "      <td>[9, 9, 5, 5]</td>\n",
       "      <td>NaN</td>\n",
       "      <td>배치불가-날짜조건</td>\n",
       "    </tr>\n",
       "    <tr>\n",
       "      <th>26</th>\n",
       "      <td>S27</td>\n",
       "      <td>60</td>\n",
       "      <td>4</td>\n",
       "      <td>2024-02-25</td>\n",
       "      <td>2024-02-21</td>\n",
       "      <td>[9, 9, 7, 7]</td>\n",
       "      <td>1.0</td>\n",
       "      <td>정상배치</td>\n",
       "    </tr>\n",
       "    <tr>\n",
       "      <th>28</th>\n",
       "      <td>S29</td>\n",
       "      <td>56</td>\n",
       "      <td>7</td>\n",
       "      <td>2024-02-25</td>\n",
       "      <td>2024-02-18</td>\n",
       "      <td>[6, 6, 6, 6]</td>\n",
       "      <td>1.0</td>\n",
       "      <td>정상배치</td>\n",
       "    </tr>\n",
       "    <tr>\n",
       "      <th>16</th>\n",
       "      <td>S17</td>\n",
       "      <td>51</td>\n",
       "      <td>4</td>\n",
       "      <td>2024-02-15</td>\n",
       "      <td>2024-02-11</td>\n",
       "      <td>[7, 7, 5, 5]</td>\n",
       "      <td>NaN</td>\n",
       "      <td>배치불가-날짜조건</td>\n",
       "    </tr>\n",
       "    <tr>\n",
       "      <th>13</th>\n",
       "      <td>S14</td>\n",
       "      <td>54</td>\n",
       "      <td>4</td>\n",
       "      <td>2024-02-20</td>\n",
       "      <td>2024-02-16</td>\n",
       "      <td>[8, 8, 6, 6]</td>\n",
       "      <td>NaN</td>\n",
       "      <td>배치불가-날짜조건</td>\n",
       "    </tr>\n",
       "    <tr>\n",
       "      <th>25</th>\n",
       "      <td>S26</td>\n",
       "      <td>53</td>\n",
       "      <td>4</td>\n",
       "      <td>2024-02-25</td>\n",
       "      <td>2024-02-21</td>\n",
       "      <td>[8, 8, 5, 5]</td>\n",
       "      <td>1.0</td>\n",
       "      <td>정상배치</td>\n",
       "    </tr>\n",
       "  </tbody>\n",
       "</table>\n",
       "</div>"
      ],
      "text/plain": [
       "    엔진명  중량  표준공기         납기     최소착수요구일             길이리스트  베드배치       상태정보\n",
       "8    S9  52     8 2024-02-15  2024-02-07    [10, 10, 7, 7]   1.0       정상배치\n",
       "0    S1  50     6 2024-02-10  2024-02-04    [10, 10, 8, 8]   1.0       정상배치\n",
       "3    S4  50     7 2024-02-10  2024-02-03      [9, 9, 7, 7]   1.0       정상배치\n",
       "17  S18  50     8 2024-02-15  2024-02-07      [9, 9, 7, 7]   1.0       정상배치\n",
       "19  S20  59     6 2024-02-15  2024-02-09    [10, 10, 9, 9]   1.0       정상배치\n",
       "24  S25  55     8 2024-02-20  2024-02-12      [9, 9, 8, 8]   1.0       정상배치\n",
       "4    S5  57     5 2024-02-10  2024-02-05      [9, 9, 7, 7]   1.0       정상배치\n",
       "5    S6  59     6 2024-02-15  2024-02-09      [9, 9, 7, 7]   1.0       정상배치\n",
       "15  S16  56     5 2024-02-15  2024-02-10      [9, 9, 9, 9]   1.0       정상배치\n",
       "6    S7  50     6 2024-02-15  2024-02-09    [10, 10, 6, 6]   1.0       정상배치\n",
       "2    S3  53     8 2024-02-10  2024-02-02      [5, 5, 5, 5]   NaN  배치불가-날짜조건\n",
       "9   S10  57     4 2024-02-15  2024-02-11  [10, 10, 10, 10]   1.0       정상배치\n",
       "10  S11  50     8 2024-02-20  2024-02-12      [9, 9, 5, 5]   1.0       정상배치\n",
       "21  S22  54     7 2024-02-20  2024-02-13      [8, 8, 6, 6]   1.0       정상배치\n",
       "27  S28  58     8 2024-02-25  2024-02-17      [8, 8, 7, 7]   1.0       정상배치\n",
       "1    S2  56     4 2024-02-10  2024-02-06      [8, 8, 5, 5]   NaN  배치불가-날짜조건\n",
       "23  S24  56     4 2024-02-20  2024-02-16    [10, 10, 8, 8]   1.0       정상배치\n",
       "7    S8  52     4 2024-02-15  2024-02-11      [9, 9, 6, 6]   NaN  배치불가-날짜조건\n",
       "12  S13  56     5 2024-02-20  2024-02-15      [9, 9, 6, 6]   1.0       정상배치\n",
       "22  S23  51     6 2024-02-20  2024-02-14      [8, 8, 5, 5]   1.0       정상배치\n",
       "20  S21  58     5 2024-02-20  2024-02-15    [10, 10, 5, 5]   1.0       정상배치\n",
       "18  S19  59     5 2024-02-15  2024-02-10      [6, 6, 5, 5]   NaN  배치불가-날짜조건\n",
       "11  S12  60     6 2024-02-20  2024-02-14      [6, 6, 6, 6]   NaN  배치불가-날짜조건\n",
       "14  S15  60     5 2024-02-20  2024-02-15      [9, 9, 5, 5]   NaN  배치불가-날짜조건\n",
       "26  S27  60     4 2024-02-25  2024-02-21      [9, 9, 7, 7]   1.0       정상배치\n",
       "28  S29  56     7 2024-02-25  2024-02-18      [6, 6, 6, 6]   1.0       정상배치\n",
       "16  S17  51     4 2024-02-15  2024-02-11      [7, 7, 5, 5]   NaN  배치불가-날짜조건\n",
       "13  S14  54     4 2024-02-20  2024-02-16      [8, 8, 6, 6]   NaN  배치불가-날짜조건\n",
       "25  S26  53     4 2024-02-25  2024-02-21      [8, 8, 5, 5]   1.0       정상배치"
      ]
     },
     "execution_count": 606,
     "metadata": {},
     "output_type": "execute_result"
    }
   ],
   "source": [
    "배치후엔진데이터 = result[1]\n",
    "배치후엔진데이터[\"상태정보\"] = result[6]\n",
    "배치후엔진데이터 = 배치후엔진데이터[[\"엔진명\", \"중량\", \"표준공기\", \"납기\", \"최소착수요구일\", \"길이리스트\", \"베드배치\", \"상태정보\"]]\n",
    "배치후엔진데이터"
   ]
  },
  {
   "cell_type": "code",
   "execution_count": 581,
   "id": "7e31ec14",
   "metadata": {
    "scrolled": true
   },
   "outputs": [
    {
     "data": {
      "text/html": [
       "<div>\n",
       "<style scoped>\n",
       "    .dataframe tbody tr th:only-of-type {\n",
       "        vertical-align: middle;\n",
       "    }\n",
       "\n",
       "    .dataframe tbody tr th {\n",
       "        vertical-align: top;\n",
       "    }\n",
       "\n",
       "    .dataframe thead th {\n",
       "        text-align: right;\n",
       "    }\n",
       "</style>\n",
       "<table border=\"1\" class=\"dataframe\">\n",
       "  <thead>\n",
       "    <tr style=\"text-align: right;\">\n",
       "      <th></th>\n",
       "      <th>A</th>\n",
       "      <th>B</th>\n",
       "      <th>C</th>\n",
       "      <th>D</th>\n",
       "      <th>E</th>\n",
       "      <th>F</th>\n",
       "      <th>G</th>\n",
       "    </tr>\n",
       "  </thead>\n",
       "  <tbody>\n",
       "    <tr>\n",
       "      <th>2024-02-01</th>\n",
       "      <td>1</td>\n",
       "      <td>1</td>\n",
       "      <td>1</td>\n",
       "      <td>1</td>\n",
       "      <td>1</td>\n",
       "      <td>1</td>\n",
       "      <td>1</td>\n",
       "    </tr>\n",
       "    <tr>\n",
       "      <th>2024-02-02</th>\n",
       "      <td>1</td>\n",
       "      <td>1</td>\n",
       "      <td>1</td>\n",
       "      <td>1</td>\n",
       "      <td>1</td>\n",
       "      <td>1</td>\n",
       "      <td>1</td>\n",
       "    </tr>\n",
       "    <tr>\n",
       "      <th>2024-02-03</th>\n",
       "      <td>1</td>\n",
       "      <td>1</td>\n",
       "      <td>1</td>\n",
       "      <td>1</td>\n",
       "      <td>1</td>\n",
       "      <td>1</td>\n",
       "      <td>1</td>\n",
       "    </tr>\n",
       "    <tr>\n",
       "      <th>2024-02-04</th>\n",
       "      <td>1</td>\n",
       "      <td>1</td>\n",
       "      <td>1</td>\n",
       "      <td>1</td>\n",
       "      <td>1</td>\n",
       "      <td>1</td>\n",
       "      <td>1</td>\n",
       "    </tr>\n",
       "    <tr>\n",
       "      <th>2024-02-05</th>\n",
       "      <td>1</td>\n",
       "      <td>1</td>\n",
       "      <td>1</td>\n",
       "      <td>1</td>\n",
       "      <td>1</td>\n",
       "      <td>1</td>\n",
       "      <td>1</td>\n",
       "    </tr>\n",
       "    <tr>\n",
       "      <th>2024-02-06</th>\n",
       "      <td>1</td>\n",
       "      <td>1</td>\n",
       "      <td>1</td>\n",
       "      <td>1</td>\n",
       "      <td>1</td>\n",
       "      <td>1</td>\n",
       "      <td>1</td>\n",
       "    </tr>\n",
       "    <tr>\n",
       "      <th>2024-02-07</th>\n",
       "      <td>1</td>\n",
       "      <td>1</td>\n",
       "      <td>1</td>\n",
       "      <td>1</td>\n",
       "      <td>1</td>\n",
       "      <td>1</td>\n",
       "      <td>1</td>\n",
       "    </tr>\n",
       "    <tr>\n",
       "      <th>2024-02-08</th>\n",
       "      <td>1</td>\n",
       "      <td>1</td>\n",
       "      <td>1</td>\n",
       "      <td>1</td>\n",
       "      <td>1</td>\n",
       "      <td>1</td>\n",
       "      <td>1</td>\n",
       "    </tr>\n",
       "    <tr>\n",
       "      <th>2024-02-09</th>\n",
       "      <td>1</td>\n",
       "      <td>1</td>\n",
       "      <td>1</td>\n",
       "      <td>1</td>\n",
       "      <td>1</td>\n",
       "      <td>1</td>\n",
       "      <td>1</td>\n",
       "    </tr>\n",
       "    <tr>\n",
       "      <th>2024-02-10</th>\n",
       "      <td>1</td>\n",
       "      <td>1</td>\n",
       "      <td>1</td>\n",
       "      <td>1</td>\n",
       "      <td>1</td>\n",
       "      <td>1</td>\n",
       "      <td>1</td>\n",
       "    </tr>\n",
       "    <tr>\n",
       "      <th>2024-02-11</th>\n",
       "      <td>1</td>\n",
       "      <td>1</td>\n",
       "      <td>1</td>\n",
       "      <td>1</td>\n",
       "      <td>1</td>\n",
       "      <td>1</td>\n",
       "      <td>1</td>\n",
       "    </tr>\n",
       "    <tr>\n",
       "      <th>2024-02-12</th>\n",
       "      <td>1</td>\n",
       "      <td>1</td>\n",
       "      <td>1</td>\n",
       "      <td>1</td>\n",
       "      <td>1</td>\n",
       "      <td>1</td>\n",
       "      <td>1</td>\n",
       "    </tr>\n",
       "    <tr>\n",
       "      <th>2024-02-13</th>\n",
       "      <td>1</td>\n",
       "      <td>1</td>\n",
       "      <td>1</td>\n",
       "      <td>1</td>\n",
       "      <td>1</td>\n",
       "      <td>1</td>\n",
       "      <td>1</td>\n",
       "    </tr>\n",
       "    <tr>\n",
       "      <th>2024-02-14</th>\n",
       "      <td>1</td>\n",
       "      <td>1</td>\n",
       "      <td>1</td>\n",
       "      <td>1</td>\n",
       "      <td>1</td>\n",
       "      <td>1</td>\n",
       "      <td>1</td>\n",
       "    </tr>\n",
       "    <tr>\n",
       "      <th>2024-02-15</th>\n",
       "      <td>1</td>\n",
       "      <td>1</td>\n",
       "      <td>1</td>\n",
       "      <td>1</td>\n",
       "      <td>1</td>\n",
       "      <td>1</td>\n",
       "      <td>1</td>\n",
       "    </tr>\n",
       "    <tr>\n",
       "      <th>2024-02-16</th>\n",
       "      <td>1</td>\n",
       "      <td>1</td>\n",
       "      <td>1</td>\n",
       "      <td>1</td>\n",
       "      <td>1</td>\n",
       "      <td>1</td>\n",
       "      <td>1</td>\n",
       "    </tr>\n",
       "    <tr>\n",
       "      <th>2024-02-17</th>\n",
       "      <td>1</td>\n",
       "      <td>1</td>\n",
       "      <td>1</td>\n",
       "      <td>1</td>\n",
       "      <td>1</td>\n",
       "      <td>1</td>\n",
       "      <td>1</td>\n",
       "    </tr>\n",
       "    <tr>\n",
       "      <th>2024-02-18</th>\n",
       "      <td>1</td>\n",
       "      <td>1</td>\n",
       "      <td>1</td>\n",
       "      <td>1</td>\n",
       "      <td>1</td>\n",
       "      <td>1</td>\n",
       "      <td>1</td>\n",
       "    </tr>\n",
       "    <tr>\n",
       "      <th>2024-02-19</th>\n",
       "      <td>1</td>\n",
       "      <td>0</td>\n",
       "      <td>1</td>\n",
       "      <td>1</td>\n",
       "      <td>1</td>\n",
       "      <td>1</td>\n",
       "      <td>0</td>\n",
       "    </tr>\n",
       "    <tr>\n",
       "      <th>2024-02-20</th>\n",
       "      <td>1</td>\n",
       "      <td>0</td>\n",
       "      <td>1</td>\n",
       "      <td>1</td>\n",
       "      <td>0</td>\n",
       "      <td>0</td>\n",
       "      <td>0</td>\n",
       "    </tr>\n",
       "    <tr>\n",
       "      <th>2024-02-21</th>\n",
       "      <td>1</td>\n",
       "      <td>0</td>\n",
       "      <td>1</td>\n",
       "      <td>1</td>\n",
       "      <td>0</td>\n",
       "      <td>0</td>\n",
       "      <td>0</td>\n",
       "    </tr>\n",
       "    <tr>\n",
       "      <th>2024-02-22</th>\n",
       "      <td>1</td>\n",
       "      <td>0</td>\n",
       "      <td>1</td>\n",
       "      <td>0</td>\n",
       "      <td>0</td>\n",
       "      <td>0</td>\n",
       "      <td>0</td>\n",
       "    </tr>\n",
       "    <tr>\n",
       "      <th>2024-02-23</th>\n",
       "      <td>1</td>\n",
       "      <td>0</td>\n",
       "      <td>0</td>\n",
       "      <td>0</td>\n",
       "      <td>0</td>\n",
       "      <td>0</td>\n",
       "      <td>0</td>\n",
       "    </tr>\n",
       "    <tr>\n",
       "      <th>2024-02-24</th>\n",
       "      <td>1</td>\n",
       "      <td>0</td>\n",
       "      <td>0</td>\n",
       "      <td>0</td>\n",
       "      <td>0</td>\n",
       "      <td>0</td>\n",
       "      <td>0</td>\n",
       "    </tr>\n",
       "    <tr>\n",
       "      <th>2024-02-25</th>\n",
       "      <td>0</td>\n",
       "      <td>0</td>\n",
       "      <td>0</td>\n",
       "      <td>0</td>\n",
       "      <td>0</td>\n",
       "      <td>0</td>\n",
       "      <td>0</td>\n",
       "    </tr>\n",
       "    <tr>\n",
       "      <th>2024-02-26</th>\n",
       "      <td>0</td>\n",
       "      <td>0</td>\n",
       "      <td>0</td>\n",
       "      <td>0</td>\n",
       "      <td>0</td>\n",
       "      <td>0</td>\n",
       "      <td>0</td>\n",
       "    </tr>\n",
       "    <tr>\n",
       "      <th>2024-02-27</th>\n",
       "      <td>0</td>\n",
       "      <td>0</td>\n",
       "      <td>0</td>\n",
       "      <td>0</td>\n",
       "      <td>0</td>\n",
       "      <td>0</td>\n",
       "      <td>0</td>\n",
       "    </tr>\n",
       "    <tr>\n",
       "      <th>2024-02-28</th>\n",
       "      <td>0</td>\n",
       "      <td>0</td>\n",
       "      <td>0</td>\n",
       "      <td>0</td>\n",
       "      <td>0</td>\n",
       "      <td>0</td>\n",
       "      <td>0</td>\n",
       "    </tr>\n",
       "    <tr>\n",
       "      <th>2024-02-29</th>\n",
       "      <td>0</td>\n",
       "      <td>0</td>\n",
       "      <td>0</td>\n",
       "      <td>0</td>\n",
       "      <td>0</td>\n",
       "      <td>0</td>\n",
       "      <td>0</td>\n",
       "    </tr>\n",
       "  </tbody>\n",
       "</table>\n",
       "</div>"
      ],
      "text/plain": [
       "            A  B  C  D  E  F  G\n",
       "2024-02-01  1  1  1  1  1  1  1\n",
       "2024-02-02  1  1  1  1  1  1  1\n",
       "2024-02-03  1  1  1  1  1  1  1\n",
       "2024-02-04  1  1  1  1  1  1  1\n",
       "2024-02-05  1  1  1  1  1  1  1\n",
       "2024-02-06  1  1  1  1  1  1  1\n",
       "2024-02-07  1  1  1  1  1  1  1\n",
       "2024-02-08  1  1  1  1  1  1  1\n",
       "2024-02-09  1  1  1  1  1  1  1\n",
       "2024-02-10  1  1  1  1  1  1  1\n",
       "2024-02-11  1  1  1  1  1  1  1\n",
       "2024-02-12  1  1  1  1  1  1  1\n",
       "2024-02-13  1  1  1  1  1  1  1\n",
       "2024-02-14  1  1  1  1  1  1  1\n",
       "2024-02-15  1  1  1  1  1  1  1\n",
       "2024-02-16  1  1  1  1  1  1  1\n",
       "2024-02-17  1  1  1  1  1  1  1\n",
       "2024-02-18  1  1  1  1  1  1  1\n",
       "2024-02-19  1  0  1  1  1  1  0\n",
       "2024-02-20  1  0  1  1  0  0  0\n",
       "2024-02-21  1  0  1  1  0  0  0\n",
       "2024-02-22  1  0  1  0  0  0  0\n",
       "2024-02-23  1  0  0  0  0  0  0\n",
       "2024-02-24  1  0  0  0  0  0  0\n",
       "2024-02-25  0  0  0  0  0  0  0\n",
       "2024-02-26  0  0  0  0  0  0  0\n",
       "2024-02-27  0  0  0  0  0  0  0\n",
       "2024-02-28  0  0  0  0  0  0  0\n",
       "2024-02-29  0  0  0  0  0  0  0"
      ]
     },
     "execution_count": 581,
     "metadata": {},
     "output_type": "execute_result"
    }
   ],
   "source": [
    "배치후배치달력 = result[3]\n",
    "배치후배치달력"
   ]
  },
  {
   "cell_type": "code",
   "execution_count": 582,
   "id": "4c74d70e",
   "metadata": {
    "scrolled": true
   },
   "outputs": [
    {
     "data": {
      "text/html": [
       "<div>\n",
       "<style scoped>\n",
       "    .dataframe tbody tr th:only-of-type {\n",
       "        vertical-align: middle;\n",
       "    }\n",
       "\n",
       "    .dataframe tbody tr th {\n",
       "        vertical-align: top;\n",
       "    }\n",
       "\n",
       "    .dataframe thead th {\n",
       "        text-align: right;\n",
       "    }\n",
       "</style>\n",
       "<table border=\"1\" class=\"dataframe\">\n",
       "  <thead>\n",
       "    <tr style=\"text-align: right;\">\n",
       "      <th></th>\n",
       "      <th>A</th>\n",
       "      <th>B</th>\n",
       "      <th>C</th>\n",
       "      <th>D</th>\n",
       "      <th>E</th>\n",
       "      <th>F</th>\n",
       "      <th>G</th>\n",
       "    </tr>\n",
       "  </thead>\n",
       "  <tbody>\n",
       "    <tr>\n",
       "      <th>2024-02-01</th>\n",
       "      <td>0.0</td>\n",
       "      <td>0.0</td>\n",
       "      <td>0.0</td>\n",
       "      <td>0.0</td>\n",
       "      <td>0.0</td>\n",
       "      <td>0.0</td>\n",
       "      <td>0.0</td>\n",
       "    </tr>\n",
       "    <tr>\n",
       "      <th>2024-02-02</th>\n",
       "      <td>0.0</td>\n",
       "      <td>0.0</td>\n",
       "      <td>0.0</td>\n",
       "      <td>0.0</td>\n",
       "      <td>0.0</td>\n",
       "      <td>0.0</td>\n",
       "      <td>0.0</td>\n",
       "    </tr>\n",
       "    <tr>\n",
       "      <th>2024-02-03</th>\n",
       "      <td>0.0</td>\n",
       "      <td>0.0</td>\n",
       "      <td>0.0</td>\n",
       "      <td>0.0</td>\n",
       "      <td>0.0</td>\n",
       "      <td>0.0</td>\n",
       "      <td>0.0</td>\n",
       "    </tr>\n",
       "    <tr>\n",
       "      <th>2024-02-04</th>\n",
       "      <td>0.0</td>\n",
       "      <td>0.0</td>\n",
       "      <td>0.0</td>\n",
       "      <td>0.0</td>\n",
       "      <td>0.0</td>\n",
       "      <td>0.0</td>\n",
       "      <td>0.0</td>\n",
       "    </tr>\n",
       "    <tr>\n",
       "      <th>2024-02-05</th>\n",
       "      <td>0.0</td>\n",
       "      <td>0.0</td>\n",
       "      <td>0.0</td>\n",
       "      <td>0.0</td>\n",
       "      <td>0.0</td>\n",
       "      <td>0.0</td>\n",
       "      <td>0.0</td>\n",
       "    </tr>\n",
       "    <tr>\n",
       "      <th>2024-02-06</th>\n",
       "      <td>0.0</td>\n",
       "      <td>0.0</td>\n",
       "      <td>0.0</td>\n",
       "      <td>0.0</td>\n",
       "      <td>0.0</td>\n",
       "      <td>0.0</td>\n",
       "      <td>0.0</td>\n",
       "    </tr>\n",
       "    <tr>\n",
       "      <th>2024-02-07</th>\n",
       "      <td>0.0</td>\n",
       "      <td>0.0</td>\n",
       "      <td>0.0</td>\n",
       "      <td>0.0</td>\n",
       "      <td>0.0</td>\n",
       "      <td>0.0</td>\n",
       "      <td>0.0</td>\n",
       "    </tr>\n",
       "    <tr>\n",
       "      <th>2024-02-08</th>\n",
       "      <td>0.0</td>\n",
       "      <td>0.0</td>\n",
       "      <td>0.0</td>\n",
       "      <td>0.0</td>\n",
       "      <td>0.0</td>\n",
       "      <td>0.0</td>\n",
       "      <td>0.0</td>\n",
       "    </tr>\n",
       "    <tr>\n",
       "      <th>2024-02-09</th>\n",
       "      <td>0.0</td>\n",
       "      <td>0.0</td>\n",
       "      <td>0.0</td>\n",
       "      <td>0.0</td>\n",
       "      <td>0.0</td>\n",
       "      <td>0.0</td>\n",
       "      <td>0.0</td>\n",
       "    </tr>\n",
       "    <tr>\n",
       "      <th>2024-02-10</th>\n",
       "      <td>0.0</td>\n",
       "      <td>0.0</td>\n",
       "      <td>0.0</td>\n",
       "      <td>0.0</td>\n",
       "      <td>0.0</td>\n",
       "      <td>0.0</td>\n",
       "      <td>0.0</td>\n",
       "    </tr>\n",
       "    <tr>\n",
       "      <th>2024-02-11</th>\n",
       "      <td>0.0</td>\n",
       "      <td>0.0</td>\n",
       "      <td>0.0</td>\n",
       "      <td>0.0</td>\n",
       "      <td>0.0</td>\n",
       "      <td>0.0</td>\n",
       "      <td>0.0</td>\n",
       "    </tr>\n",
       "    <tr>\n",
       "      <th>2024-02-12</th>\n",
       "      <td>0.0</td>\n",
       "      <td>0.0</td>\n",
       "      <td>0.0</td>\n",
       "      <td>0.0</td>\n",
       "      <td>0.0</td>\n",
       "      <td>0.0</td>\n",
       "      <td>0.0</td>\n",
       "    </tr>\n",
       "    <tr>\n",
       "      <th>2024-02-13</th>\n",
       "      <td>0.0</td>\n",
       "      <td>0.0</td>\n",
       "      <td>0.0</td>\n",
       "      <td>0.0</td>\n",
       "      <td>0.0</td>\n",
       "      <td>0.0</td>\n",
       "      <td>0.0</td>\n",
       "    </tr>\n",
       "    <tr>\n",
       "      <th>2024-02-14</th>\n",
       "      <td>0.0</td>\n",
       "      <td>0.0</td>\n",
       "      <td>0.0</td>\n",
       "      <td>0.0</td>\n",
       "      <td>0.0</td>\n",
       "      <td>0.0</td>\n",
       "      <td>0.0</td>\n",
       "    </tr>\n",
       "    <tr>\n",
       "      <th>2024-02-15</th>\n",
       "      <td>0.0</td>\n",
       "      <td>0.0</td>\n",
       "      <td>0.0</td>\n",
       "      <td>0.0</td>\n",
       "      <td>0.0</td>\n",
       "      <td>0.0</td>\n",
       "      <td>0.0</td>\n",
       "    </tr>\n",
       "    <tr>\n",
       "      <th>2024-02-16</th>\n",
       "      <td>0.0</td>\n",
       "      <td>0.0</td>\n",
       "      <td>0.0</td>\n",
       "      <td>0.0</td>\n",
       "      <td>0.0</td>\n",
       "      <td>0.0</td>\n",
       "      <td>0.0</td>\n",
       "    </tr>\n",
       "    <tr>\n",
       "      <th>2024-02-17</th>\n",
       "      <td>0.0</td>\n",
       "      <td>0.0</td>\n",
       "      <td>0.0</td>\n",
       "      <td>0.0</td>\n",
       "      <td>0.0</td>\n",
       "      <td>0.0</td>\n",
       "      <td>0.0</td>\n",
       "    </tr>\n",
       "    <tr>\n",
       "      <th>2024-02-18</th>\n",
       "      <td>0.0</td>\n",
       "      <td>0.0</td>\n",
       "      <td>0.0</td>\n",
       "      <td>0.0</td>\n",
       "      <td>0.0</td>\n",
       "      <td>0.0</td>\n",
       "      <td>0.0</td>\n",
       "    </tr>\n",
       "    <tr>\n",
       "      <th>2024-02-19</th>\n",
       "      <td>0.0</td>\n",
       "      <td>11.0</td>\n",
       "      <td>0.0</td>\n",
       "      <td>0.0</td>\n",
       "      <td>0.0</td>\n",
       "      <td>0.0</td>\n",
       "      <td>11.0</td>\n",
       "    </tr>\n",
       "    <tr>\n",
       "      <th>2024-02-20</th>\n",
       "      <td>0.0</td>\n",
       "      <td>10.0</td>\n",
       "      <td>0.0</td>\n",
       "      <td>0.0</td>\n",
       "      <td>10.0</td>\n",
       "      <td>10.0</td>\n",
       "      <td>10.0</td>\n",
       "    </tr>\n",
       "    <tr>\n",
       "      <th>2024-02-21</th>\n",
       "      <td>0.0</td>\n",
       "      <td>9.0</td>\n",
       "      <td>0.0</td>\n",
       "      <td>0.0</td>\n",
       "      <td>9.0</td>\n",
       "      <td>9.0</td>\n",
       "      <td>9.0</td>\n",
       "    </tr>\n",
       "    <tr>\n",
       "      <th>2024-02-22</th>\n",
       "      <td>0.0</td>\n",
       "      <td>8.0</td>\n",
       "      <td>0.0</td>\n",
       "      <td>8.0</td>\n",
       "      <td>8.0</td>\n",
       "      <td>8.0</td>\n",
       "      <td>8.0</td>\n",
       "    </tr>\n",
       "    <tr>\n",
       "      <th>2024-02-23</th>\n",
       "      <td>0.0</td>\n",
       "      <td>7.0</td>\n",
       "      <td>7.0</td>\n",
       "      <td>7.0</td>\n",
       "      <td>7.0</td>\n",
       "      <td>7.0</td>\n",
       "      <td>7.0</td>\n",
       "    </tr>\n",
       "    <tr>\n",
       "      <th>2024-02-24</th>\n",
       "      <td>0.0</td>\n",
       "      <td>6.0</td>\n",
       "      <td>6.0</td>\n",
       "      <td>6.0</td>\n",
       "      <td>6.0</td>\n",
       "      <td>6.0</td>\n",
       "      <td>6.0</td>\n",
       "    </tr>\n",
       "    <tr>\n",
       "      <th>2024-02-25</th>\n",
       "      <td>5.0</td>\n",
       "      <td>5.0</td>\n",
       "      <td>5.0</td>\n",
       "      <td>5.0</td>\n",
       "      <td>5.0</td>\n",
       "      <td>5.0</td>\n",
       "      <td>5.0</td>\n",
       "    </tr>\n",
       "    <tr>\n",
       "      <th>2024-02-26</th>\n",
       "      <td>4.0</td>\n",
       "      <td>4.0</td>\n",
       "      <td>4.0</td>\n",
       "      <td>4.0</td>\n",
       "      <td>4.0</td>\n",
       "      <td>4.0</td>\n",
       "      <td>4.0</td>\n",
       "    </tr>\n",
       "    <tr>\n",
       "      <th>2024-02-27</th>\n",
       "      <td>3.0</td>\n",
       "      <td>3.0</td>\n",
       "      <td>3.0</td>\n",
       "      <td>3.0</td>\n",
       "      <td>3.0</td>\n",
       "      <td>3.0</td>\n",
       "      <td>3.0</td>\n",
       "    </tr>\n",
       "    <tr>\n",
       "      <th>2024-02-28</th>\n",
       "      <td>2.0</td>\n",
       "      <td>2.0</td>\n",
       "      <td>2.0</td>\n",
       "      <td>2.0</td>\n",
       "      <td>2.0</td>\n",
       "      <td>2.0</td>\n",
       "      <td>2.0</td>\n",
       "    </tr>\n",
       "    <tr>\n",
       "      <th>2024-02-29</th>\n",
       "      <td>1.0</td>\n",
       "      <td>1.0</td>\n",
       "      <td>1.0</td>\n",
       "      <td>1.0</td>\n",
       "      <td>1.0</td>\n",
       "      <td>1.0</td>\n",
       "      <td>1.0</td>\n",
       "    </tr>\n",
       "  </tbody>\n",
       "</table>\n",
       "</div>"
      ],
      "text/plain": [
       "              A     B    C    D     E     F     G\n",
       "2024-02-01  0.0   0.0  0.0  0.0   0.0   0.0   0.0\n",
       "2024-02-02  0.0   0.0  0.0  0.0   0.0   0.0   0.0\n",
       "2024-02-03  0.0   0.0  0.0  0.0   0.0   0.0   0.0\n",
       "2024-02-04  0.0   0.0  0.0  0.0   0.0   0.0   0.0\n",
       "2024-02-05  0.0   0.0  0.0  0.0   0.0   0.0   0.0\n",
       "2024-02-06  0.0   0.0  0.0  0.0   0.0   0.0   0.0\n",
       "2024-02-07  0.0   0.0  0.0  0.0   0.0   0.0   0.0\n",
       "2024-02-08  0.0   0.0  0.0  0.0   0.0   0.0   0.0\n",
       "2024-02-09  0.0   0.0  0.0  0.0   0.0   0.0   0.0\n",
       "2024-02-10  0.0   0.0  0.0  0.0   0.0   0.0   0.0\n",
       "2024-02-11  0.0   0.0  0.0  0.0   0.0   0.0   0.0\n",
       "2024-02-12  0.0   0.0  0.0  0.0   0.0   0.0   0.0\n",
       "2024-02-13  0.0   0.0  0.0  0.0   0.0   0.0   0.0\n",
       "2024-02-14  0.0   0.0  0.0  0.0   0.0   0.0   0.0\n",
       "2024-02-15  0.0   0.0  0.0  0.0   0.0   0.0   0.0\n",
       "2024-02-16  0.0   0.0  0.0  0.0   0.0   0.0   0.0\n",
       "2024-02-17  0.0   0.0  0.0  0.0   0.0   0.0   0.0\n",
       "2024-02-18  0.0   0.0  0.0  0.0   0.0   0.0   0.0\n",
       "2024-02-19  0.0  11.0  0.0  0.0   0.0   0.0  11.0\n",
       "2024-02-20  0.0  10.0  0.0  0.0  10.0  10.0  10.0\n",
       "2024-02-21  0.0   9.0  0.0  0.0   9.0   9.0   9.0\n",
       "2024-02-22  0.0   8.0  0.0  8.0   8.0   8.0   8.0\n",
       "2024-02-23  0.0   7.0  7.0  7.0   7.0   7.0   7.0\n",
       "2024-02-24  0.0   6.0  6.0  6.0   6.0   6.0   6.0\n",
       "2024-02-25  5.0   5.0  5.0  5.0   5.0   5.0   5.0\n",
       "2024-02-26  4.0   4.0  4.0  4.0   4.0   4.0   4.0\n",
       "2024-02-27  3.0   3.0  3.0  3.0   3.0   3.0   3.0\n",
       "2024-02-28  2.0   2.0  2.0  2.0   2.0   2.0   2.0\n",
       "2024-02-29  1.0   1.0  1.0  1.0   1.0   1.0   1.0"
      ]
     },
     "execution_count": 582,
     "metadata": {},
     "output_type": "execute_result"
    }
   ],
   "source": [
    "배치후공기달력 = result[4]\n",
    "배치후공기달력"
   ]
  },
  {
   "cell_type": "code",
   "execution_count": 583,
   "id": "ab753714",
   "metadata": {
    "scrolled": true
   },
   "outputs": [
    {
     "data": {
      "text/html": [
       "<div>\n",
       "<style scoped>\n",
       "    .dataframe tbody tr th:only-of-type {\n",
       "        vertical-align: middle;\n",
       "    }\n",
       "\n",
       "    .dataframe tbody tr th {\n",
       "        vertical-align: top;\n",
       "    }\n",
       "\n",
       "    .dataframe thead th {\n",
       "        text-align: right;\n",
       "    }\n",
       "</style>\n",
       "<table border=\"1\" class=\"dataframe\">\n",
       "  <thead>\n",
       "    <tr style=\"text-align: right;\">\n",
       "      <th></th>\n",
       "      <th>A</th>\n",
       "      <th>B</th>\n",
       "      <th>C</th>\n",
       "      <th>D</th>\n",
       "      <th>E</th>\n",
       "      <th>F</th>\n",
       "      <th>G</th>\n",
       "    </tr>\n",
       "  </thead>\n",
       "  <tbody>\n",
       "    <tr>\n",
       "      <th>2024-02-01</th>\n",
       "      <td>0</td>\n",
       "      <td>0</td>\n",
       "      <td>0</td>\n",
       "      <td>0</td>\n",
       "      <td>0</td>\n",
       "      <td>0</td>\n",
       "      <td>0</td>\n",
       "    </tr>\n",
       "    <tr>\n",
       "      <th>2024-02-02</th>\n",
       "      <td>0</td>\n",
       "      <td>0</td>\n",
       "      <td>0</td>\n",
       "      <td>0</td>\n",
       "      <td>0</td>\n",
       "      <td>0</td>\n",
       "      <td>0</td>\n",
       "    </tr>\n",
       "    <tr>\n",
       "      <th>2024-02-03</th>\n",
       "      <td>0</td>\n",
       "      <td>0</td>\n",
       "      <td>0</td>\n",
       "      <td>0</td>\n",
       "      <td>0</td>\n",
       "      <td>0</td>\n",
       "      <td>0</td>\n",
       "    </tr>\n",
       "    <tr>\n",
       "      <th>2024-02-04</th>\n",
       "      <td>0</td>\n",
       "      <td>0</td>\n",
       "      <td>0</td>\n",
       "      <td>0</td>\n",
       "      <td>0</td>\n",
       "      <td>0</td>\n",
       "      <td>0</td>\n",
       "    </tr>\n",
       "    <tr>\n",
       "      <th>2024-02-05</th>\n",
       "      <td>0</td>\n",
       "      <td>0</td>\n",
       "      <td>0</td>\n",
       "      <td>0</td>\n",
       "      <td>0</td>\n",
       "      <td>0</td>\n",
       "      <td>0</td>\n",
       "    </tr>\n",
       "    <tr>\n",
       "      <th>2024-02-06</th>\n",
       "      <td>0</td>\n",
       "      <td>0</td>\n",
       "      <td>0</td>\n",
       "      <td>0</td>\n",
       "      <td>0</td>\n",
       "      <td>0</td>\n",
       "      <td>0</td>\n",
       "    </tr>\n",
       "    <tr>\n",
       "      <th>2024-02-07</th>\n",
       "      <td>0</td>\n",
       "      <td>0</td>\n",
       "      <td>0</td>\n",
       "      <td>0</td>\n",
       "      <td>0</td>\n",
       "      <td>0</td>\n",
       "      <td>0</td>\n",
       "    </tr>\n",
       "    <tr>\n",
       "      <th>2024-02-08</th>\n",
       "      <td>0</td>\n",
       "      <td>0</td>\n",
       "      <td>0</td>\n",
       "      <td>0</td>\n",
       "      <td>0</td>\n",
       "      <td>0</td>\n",
       "      <td>0</td>\n",
       "    </tr>\n",
       "    <tr>\n",
       "      <th>2024-02-09</th>\n",
       "      <td>0</td>\n",
       "      <td>0</td>\n",
       "      <td>0</td>\n",
       "      <td>0</td>\n",
       "      <td>0</td>\n",
       "      <td>0</td>\n",
       "      <td>0</td>\n",
       "    </tr>\n",
       "    <tr>\n",
       "      <th>2024-02-10</th>\n",
       "      <td>0</td>\n",
       "      <td>0</td>\n",
       "      <td>0</td>\n",
       "      <td>0</td>\n",
       "      <td>0</td>\n",
       "      <td>0</td>\n",
       "      <td>0</td>\n",
       "    </tr>\n",
       "    <tr>\n",
       "      <th>2024-02-11</th>\n",
       "      <td>0</td>\n",
       "      <td>0</td>\n",
       "      <td>0</td>\n",
       "      <td>0</td>\n",
       "      <td>0</td>\n",
       "      <td>0</td>\n",
       "      <td>0</td>\n",
       "    </tr>\n",
       "    <tr>\n",
       "      <th>2024-02-12</th>\n",
       "      <td>0</td>\n",
       "      <td>0</td>\n",
       "      <td>0</td>\n",
       "      <td>0</td>\n",
       "      <td>0</td>\n",
       "      <td>0</td>\n",
       "      <td>0</td>\n",
       "    </tr>\n",
       "    <tr>\n",
       "      <th>2024-02-13</th>\n",
       "      <td>0</td>\n",
       "      <td>0</td>\n",
       "      <td>0</td>\n",
       "      <td>0</td>\n",
       "      <td>0</td>\n",
       "      <td>0</td>\n",
       "      <td>0</td>\n",
       "    </tr>\n",
       "    <tr>\n",
       "      <th>2024-02-14</th>\n",
       "      <td>0</td>\n",
       "      <td>0</td>\n",
       "      <td>0</td>\n",
       "      <td>0</td>\n",
       "      <td>0</td>\n",
       "      <td>0</td>\n",
       "      <td>0</td>\n",
       "    </tr>\n",
       "    <tr>\n",
       "      <th>2024-02-15</th>\n",
       "      <td>0</td>\n",
       "      <td>0</td>\n",
       "      <td>0</td>\n",
       "      <td>0</td>\n",
       "      <td>0</td>\n",
       "      <td>0</td>\n",
       "      <td>0</td>\n",
       "    </tr>\n",
       "    <tr>\n",
       "      <th>2024-02-16</th>\n",
       "      <td>0</td>\n",
       "      <td>0</td>\n",
       "      <td>0</td>\n",
       "      <td>0</td>\n",
       "      <td>0</td>\n",
       "      <td>0</td>\n",
       "      <td>0</td>\n",
       "    </tr>\n",
       "    <tr>\n",
       "      <th>2024-02-17</th>\n",
       "      <td>0</td>\n",
       "      <td>0</td>\n",
       "      <td>0</td>\n",
       "      <td>0</td>\n",
       "      <td>0</td>\n",
       "      <td>0</td>\n",
       "      <td>0</td>\n",
       "    </tr>\n",
       "    <tr>\n",
       "      <th>2024-02-18</th>\n",
       "      <td>0</td>\n",
       "      <td>0</td>\n",
       "      <td>0</td>\n",
       "      <td>0</td>\n",
       "      <td>0</td>\n",
       "      <td>0</td>\n",
       "      <td>0</td>\n",
       "    </tr>\n",
       "    <tr>\n",
       "      <th>2024-02-19</th>\n",
       "      <td>0</td>\n",
       "      <td>1</td>\n",
       "      <td>0</td>\n",
       "      <td>0</td>\n",
       "      <td>0</td>\n",
       "      <td>0</td>\n",
       "      <td>1</td>\n",
       "    </tr>\n",
       "    <tr>\n",
       "      <th>2024-02-20</th>\n",
       "      <td>0</td>\n",
       "      <td>0</td>\n",
       "      <td>0</td>\n",
       "      <td>0</td>\n",
       "      <td>1</td>\n",
       "      <td>1</td>\n",
       "      <td>0</td>\n",
       "    </tr>\n",
       "    <tr>\n",
       "      <th>2024-02-21</th>\n",
       "      <td>0</td>\n",
       "      <td>0</td>\n",
       "      <td>0</td>\n",
       "      <td>0</td>\n",
       "      <td>0</td>\n",
       "      <td>0</td>\n",
       "      <td>0</td>\n",
       "    </tr>\n",
       "    <tr>\n",
       "      <th>2024-02-22</th>\n",
       "      <td>0</td>\n",
       "      <td>0</td>\n",
       "      <td>0</td>\n",
       "      <td>1</td>\n",
       "      <td>0</td>\n",
       "      <td>0</td>\n",
       "      <td>0</td>\n",
       "    </tr>\n",
       "    <tr>\n",
       "      <th>2024-02-23</th>\n",
       "      <td>0</td>\n",
       "      <td>0</td>\n",
       "      <td>1</td>\n",
       "      <td>0</td>\n",
       "      <td>0</td>\n",
       "      <td>0</td>\n",
       "      <td>0</td>\n",
       "    </tr>\n",
       "    <tr>\n",
       "      <th>2024-02-24</th>\n",
       "      <td>0</td>\n",
       "      <td>0</td>\n",
       "      <td>0</td>\n",
       "      <td>0</td>\n",
       "      <td>0</td>\n",
       "      <td>0</td>\n",
       "      <td>0</td>\n",
       "    </tr>\n",
       "    <tr>\n",
       "      <th>2024-02-25</th>\n",
       "      <td>1</td>\n",
       "      <td>0</td>\n",
       "      <td>0</td>\n",
       "      <td>0</td>\n",
       "      <td>0</td>\n",
       "      <td>0</td>\n",
       "      <td>0</td>\n",
       "    </tr>\n",
       "    <tr>\n",
       "      <th>2024-02-26</th>\n",
       "      <td>0</td>\n",
       "      <td>0</td>\n",
       "      <td>0</td>\n",
       "      <td>0</td>\n",
       "      <td>0</td>\n",
       "      <td>0</td>\n",
       "      <td>0</td>\n",
       "    </tr>\n",
       "    <tr>\n",
       "      <th>2024-02-27</th>\n",
       "      <td>0</td>\n",
       "      <td>0</td>\n",
       "      <td>0</td>\n",
       "      <td>0</td>\n",
       "      <td>0</td>\n",
       "      <td>0</td>\n",
       "      <td>0</td>\n",
       "    </tr>\n",
       "    <tr>\n",
       "      <th>2024-02-28</th>\n",
       "      <td>0</td>\n",
       "      <td>0</td>\n",
       "      <td>0</td>\n",
       "      <td>0</td>\n",
       "      <td>0</td>\n",
       "      <td>0</td>\n",
       "      <td>0</td>\n",
       "    </tr>\n",
       "    <tr>\n",
       "      <th>2024-02-29</th>\n",
       "      <td>0</td>\n",
       "      <td>0</td>\n",
       "      <td>0</td>\n",
       "      <td>0</td>\n",
       "      <td>0</td>\n",
       "      <td>0</td>\n",
       "      <td>0</td>\n",
       "    </tr>\n",
       "  </tbody>\n",
       "</table>\n",
       "</div>"
      ],
      "text/plain": [
       "            A  B  C  D  E  F  G\n",
       "2024-02-01  0  0  0  0  0  0  0\n",
       "2024-02-02  0  0  0  0  0  0  0\n",
       "2024-02-03  0  0  0  0  0  0  0\n",
       "2024-02-04  0  0  0  0  0  0  0\n",
       "2024-02-05  0  0  0  0  0  0  0\n",
       "2024-02-06  0  0  0  0  0  0  0\n",
       "2024-02-07  0  0  0  0  0  0  0\n",
       "2024-02-08  0  0  0  0  0  0  0\n",
       "2024-02-09  0  0  0  0  0  0  0\n",
       "2024-02-10  0  0  0  0  0  0  0\n",
       "2024-02-11  0  0  0  0  0  0  0\n",
       "2024-02-12  0  0  0  0  0  0  0\n",
       "2024-02-13  0  0  0  0  0  0  0\n",
       "2024-02-14  0  0  0  0  0  0  0\n",
       "2024-02-15  0  0  0  0  0  0  0\n",
       "2024-02-16  0  0  0  0  0  0  0\n",
       "2024-02-17  0  0  0  0  0  0  0\n",
       "2024-02-18  0  0  0  0  0  0  0\n",
       "2024-02-19  0  1  0  0  0  0  1\n",
       "2024-02-20  0  0  0  0  1  1  0\n",
       "2024-02-21  0  0  0  0  0  0  0\n",
       "2024-02-22  0  0  0  1  0  0  0\n",
       "2024-02-23  0  0  1  0  0  0  0\n",
       "2024-02-24  0  0  0  0  0  0  0\n",
       "2024-02-25  1  0  0  0  0  0  0\n",
       "2024-02-26  0  0  0  0  0  0  0\n",
       "2024-02-27  0  0  0  0  0  0  0\n",
       "2024-02-28  0  0  0  0  0  0  0\n",
       "2024-02-29  0  0  0  0  0  0  0"
      ]
     },
     "execution_count": 583,
     "metadata": {},
     "output_type": "execute_result"
    }
   ],
   "source": [
    "배치후공백순서달력 = result[5]\n",
    "배치후공백순서달력"
   ]
  },
  {
   "cell_type": "markdown",
   "id": "af82d34e",
   "metadata": {},
   "source": [
    "# 가중치 변경 시뮬레이션"
   ]
  },
  {
   "cell_type": "code",
   "execution_count": 584,
   "id": "78998774",
   "metadata": {},
   "outputs": [],
   "source": [
    "data_num = data_num\n",
    "착수일가중치, 공기가중치, 크기가중치 = 0.7, 0.5, 0.5\n",
    "중량가중치, 크기가중치 = 0.5, 0.7\n",
    "\n",
    "엔진원데이터 = pd.read_excel(f\"./data/engine_data{data_num}.xlsx\", sheet_name=\"엔진데이터\")\n",
    "베드원데이터 = pd.read_excel(f\"./data/engine_data{data_num}.xlsx\", sheet_name=\"베드데이터\")\n",
    "\n",
    "엔진데이터 = 엔진데이터전처리(엔진원데이터)\n",
    "베드데이터 = 베드데이터전처리(베드원데이터)\n",
    "최초베드집합 = 베드원데이터[\"베드명\"].unique().tolist()\n",
    "\n",
    "배치달력 = create_init_calendar(2024, 2, 2024, 2, 최초베드집합) \n",
    "배치달력.iloc[:2,:] = 1   ## 날짜 계산의 편의를 위해 초반 2일을 배치상태로 설정"
   ]
  },
  {
   "cell_type": "code",
   "execution_count": 585,
   "id": "8699dccd",
   "metadata": {
    "scrolled": true
   },
   "outputs": [
    {
     "name": "stdout",
     "output_type": "stream",
     "text": [
      "    엔진명  우선순위\n",
      "8    S9  12.8\n",
      "17  S18  13.2\n",
      "24  S25  14.2\n",
      "2    S3  15.5\n",
      "10  S11  16.7\n",
      "27  S28  17.2\n",
      "3    S4  26.0\n",
      "21  S22  30.1\n",
      "28  S29  32.8\n",
      "0    S1  38.8\n",
      "19  S20  39.3\n",
      "5    S6  40.7\n",
      "6    S7  41.2\n",
      "22  S23  44.6\n",
      "11  S12  45.0\n",
      "4    S5  57.8\n",
      "15  S16  57.9\n",
      "12  S13  61.8\n",
      "20  S21  62.0\n",
      "18  S19  62.1\n",
      "14  S15  62.6\n",
      "9   S10  79.0\n",
      "1    S2  81.2\n",
      "23  S24  81.3\n",
      "7    S8  81.4\n",
      "26  S27  82.9\n",
      "16  S17  83.3\n",
      "13  S14  83.7\n",
      "25  S26  85.1\n"
     ]
    },
    {
     "name": "stderr",
     "output_type": "stream",
     "text": [
      " 24%|▏| 7/29 [00:00<00:00, 34.01i"
     ]
    },
    {
     "name": "stdout",
     "output_type": "stream",
     "text": [
      "\n",
      "*** 타겟엔진-name:S9,weight:52,size:70,길이리스트:[10, 10, 7, 7],최장길이:10,최소길이:7,최소착수요구일:2024-02-07,표준공기:8\n",
      "\n",
      ">>>[검토] 베드명:A, 공백순서1인덱스의날짜: 2024-02-03 00:00:00, 인덱스: 2, 확보가능공기:27.0\n",
      ">>>[검토] 베드명:B, 공백순서1인덱스의날짜: 2024-02-03 00:00:00, 인덱스: 2, 확보가능공기:27.0\n",
      ">>>[검토] 베드명:C, 공백순서1인덱스의날짜: 2024-02-03 00:00:00, 인덱스: 2, 확보가능공기:27.0\n",
      ">>>[검토] 베드명:D, 공백순서1인덱스의날짜: 2024-02-03 00:00:00, 인덱스: 2, 확보가능공기:27.0\n",
      ">>>[검토] 베드명:E, 공백순서1인덱스의날짜: 2024-02-03 00:00:00, 인덱스: 2, 확보가능공기:27.0\n",
      ">>>[검토] 베드명:F, 공백순서1인덱스의날짜: 2024-02-03 00:00:00, 인덱스: 2, 확보가능공기:27.0\n",
      ">>>[검토] 베드명:G, 공백순서1인덱스의날짜: 2024-02-03 00:00:00, 인덱스: 2, 확보가능공기:27.0\n",
      "*** 최선조기착수 가능베드:2024-02-03 00:00:00 ---> ['A', 'B', 'C', 'D', 'E', 'F', 'G']\n",
      "\n",
      "* 베드명:A,  가능중량:100, 길이리스트:[20, 20, 10, 10], 면적리스트:[200]\n",
      ">>>[검토]A베드의 면적_최장길이 적합도 함수 체크\n",
      ">>>[검토]베드 A의 면적/사이즈 배치가능 여부:['적합'] / 베드가능중량:100 베드면적리스트:[200], 길이리스트:[20, 20, 10, 10]\n",
      "\n",
      "* 베드명:B,  가능중량:100, 길이리스트:[20, 20, 10, 10], 면적리스트:[200]\n",
      ">>>[검토]B베드의 면적_최장길이 적합도 함수 체크\n",
      ">>>[검토]베드 B의 면적/사이즈 배치가능 여부:['적합'] / 베드가능중량:100 베드면적리스트:[200], 길이리스트:[20, 20, 10, 10]\n",
      "\n",
      "* 베드명:C,  가능중량:100, 길이리스트:[20, 20, 10, 10], 면적리스트:[200]\n",
      ">>>[검토]C베드의 면적_최장길이 적합도 함수 체크\n",
      ">>>[검토]베드 C의 면적/사이즈 배치가능 여부:['적합'] / 베드가능중량:100 베드면적리스트:[200], 길이리스트:[20, 20, 10, 10]\n",
      "\n",
      "* 베드명:D,  가능중량:100, 길이리스트:[15, 15, 10, 10], 면적리스트:[150]\n",
      ">>>[검토]D베드의 면적_최장길이 적합도 함수 체크\n",
      ">>>[검토]베드 D의 면적/사이즈 배치가능 여부:['적합'] / 베드가능중량:100 베드면적리스트:[150], 길이리스트:[15, 15, 10, 10]\n",
      "\n",
      "* 베드명:E,  가능중량:100, 길이리스트:[15, 15, 10, 10], 면적리스트:[150]\n",
      ">>>[검토]E베드의 면적_최장길이 적합도 함수 체크\n",
      ">>>[검토]베드 E의 면적/사이즈 배치가능 여부:['적합'] / 베드가능중량:100 베드면적리스트:[150], 길이리스트:[15, 15, 10, 10]\n",
      "\n",
      "* 베드명:F,  가능중량:100, 길이리스트:[15, 15, 10, 10], 면적리스트:[150]\n",
      ">>>[검토]F베드의 면적_최장길이 적합도 함수 체크\n",
      ">>>[검토]베드 F의 면적/사이즈 배치가능 여부:['적합'] / 베드가능중량:100 베드면적리스트:[150], 길이리스트:[15, 15, 10, 10]\n",
      "\n",
      "* 베드명:G,  가능중량:100, 길이리스트:[15, 15, 10, 10], 면적리스트:[150]\n",
      ">>>[검토]G베드의 면적_최장길이 적합도 함수 체크\n",
      ">>>[검토]베드 G의 면적/사이즈 배치가능 여부:['적합'] / 베드가능중량:100 베드면적리스트:[150], 길이리스트:[15, 15, 10, 10]\n",
      "\n",
      "*** 물리적 스펙 가능 베드: ['A', 'B', 'C', 'D', 'E', 'F', 'G']\n",
      "\n",
      "***  정상배치 최종배정결과 : {'엔진명': 'S9', '베드명': 'D', '착수일': '2024-02-03'}\n",
      "================================================================================\n",
      "\n",
      "(엔진배치후) 수정엔진리스트 : ['S18', 'S25', 'S3', 'S11', 'S28', 'S4', 'S22', 'S29', 'S1', 'S20', 'S6', 'S7', 'S23', 'S12', 'S5', 'S16', 'S13', 'S21', 'S19', 'S15', 'S10', 'S2', 'S24', 'S8', 'S27', 'S17', 'S14', 'S26']\n",
      "\n",
      "*** 타겟엔진-name:S18,weight:50,size:63,길이리스트:[9, 9, 7, 7],최장길이:9,최소길이:7,최소착수요구일:2024-02-07,표준공기:8\n",
      "\n",
      ">>>[검토] 베드명:A, 공백순서1인덱스의날짜: 2024-02-03 00:00:00, 인덱스: 2, 확보가능공기:27.0\n",
      ">>>[검토] 베드명:B, 공백순서1인덱스의날짜: 2024-02-03 00:00:00, 인덱스: 2, 확보가능공기:27.0\n",
      ">>>[검토] 베드명:C, 공백순서1인덱스의날짜: 2024-02-03 00:00:00, 인덱스: 2, 확보가능공기:27.0\n",
      ">>>[검토] 베드명:D, 공백순서1인덱스의날짜: 2024-02-11 00:00:00, 인덱스: 10, 확보가능공기:19.0\n",
      ">>>[검토] 베드명:E, 공백순서1인덱스의날짜: 2024-02-03 00:00:00, 인덱스: 2, 확보가능공기:27.0\n",
      ">>>[검토] 베드명:F, 공백순서1인덱스의날짜: 2024-02-03 00:00:00, 인덱스: 2, 확보가능공기:27.0\n",
      ">>>[검토] 베드명:G, 공백순서1인덱스의날짜: 2024-02-03 00:00:00, 인덱스: 2, 확보가능공기:27.0\n",
      "*** 최선조기착수 가능베드:2024-02-03 00:00:00 ---> ['A', 'B', 'C', 'E', 'F', 'G']\n",
      "\n",
      "* 베드명:A,  가능중량:100, 길이리스트:[20, 20, 10, 10], 면적리스트:[200]\n",
      ">>>[검토]A베드의 면적_최장길이 적합도 함수 체크\n",
      ">>>[검토]베드 A의 면적/사이즈 배치가능 여부:['적합'] / 베드가능중량:100 베드면적리스트:[200], 길이리스트:[20, 20, 10, 10]\n",
      "\n",
      "* 베드명:B,  가능중량:100, 길이리스트:[20, 20, 10, 10], 면적리스트:[200]\n",
      ">>>[검토]B베드의 면적_최장길이 적합도 함수 체크\n",
      ">>>[검토]베드 B의 면적/사이즈 배치가능 여부:['적합'] / 베드가능중량:100 베드면적리스트:[200], 길이리스트:[20, 20, 10, 10]\n",
      "\n",
      "* 베드명:C,  가능중량:100, 길이리스트:[20, 20, 10, 10], 면적리스트:[200]\n",
      ">>>[검토]C베드의 면적_최장길이 적합도 함수 체크\n",
      ">>>[검토]베드 C의 면적/사이즈 배치가능 여부:['적합'] / 베드가능중량:100 베드면적리스트:[200], 길이리스트:[20, 20, 10, 10]\n",
      "\n",
      "* 베드명:E,  가능중량:100, 길이리스트:[15, 15, 10, 10], 면적리스트:[150]\n",
      ">>>[검토]E베드의 면적_최장길이 적합도 함수 체크\n",
      ">>>[검토]베드 E의 면적/사이즈 배치가능 여부:['적합'] / 베드가능중량:100 베드면적리스트:[150], 길이리스트:[15, 15, 10, 10]\n",
      "\n",
      "* 베드명:F,  가능중량:100, 길이리스트:[15, 15, 10, 10], 면적리스트:[150]\n",
      ">>>[검토]F베드의 면적_최장길이 적합도 함수 체크\n",
      ">>>[검토]베드 F의 면적/사이즈 배치가능 여부:['적합'] / 베드가능중량:100 베드면적리스트:[150], 길이리스트:[15, 15, 10, 10]\n",
      "\n",
      "* 베드명:G,  가능중량:100, 길이리스트:[15, 15, 10, 10], 면적리스트:[150]\n",
      ">>>[검토]G베드의 면적_최장길이 적합도 함수 체크\n",
      ">>>[검토]베드 G의 면적/사이즈 배치가능 여부:['적합'] / 베드가능중량:100 베드면적리스트:[150], 길이리스트:[15, 15, 10, 10]\n",
      "\n",
      "*** 물리적 스펙 가능 베드: ['A', 'B', 'C', 'E', 'F', 'G']\n",
      "\n",
      "***  정상배치 최종배정결과 : {'엔진명': 'S18', '베드명': 'B', '착수일': '2024-02-03'}\n",
      "================================================================================\n",
      "\n",
      "(엔진배치후) 수정엔진리스트 : ['S25', 'S3', 'S11', 'S28', 'S4', 'S22', 'S29', 'S1', 'S20', 'S6', 'S7', 'S23', 'S12', 'S5', 'S16', 'S13', 'S21', 'S19', 'S15', 'S10', 'S2', 'S24', 'S8', 'S27', 'S17', 'S14', 'S26']\n",
      "\n",
      "*** 타겟엔진-name:S25,weight:55,size:72,길이리스트:[9, 9, 8, 8],최장길이:9,최소길이:8,최소착수요구일:2024-02-12,표준공기:8\n",
      "\n",
      ">>>[검토] 베드명:A, 공백순서1인덱스의날짜: 2024-02-03 00:00:00, 인덱스: 2, 확보가능공기:27.0\n",
      ">>>[검토] 베드명:B, 공백순서1인덱스의날짜: 2024-02-11 00:00:00, 인덱스: 10, 확보가능공기:19.0\n",
      ">>>[검토] 베드명:C, 공백순서1인덱스의날짜: 2024-02-03 00:00:00, 인덱스: 2, 확보가능공기:27.0\n",
      ">>>[검토] 베드명:D, 공백순서1인덱스의날짜: 2024-02-11 00:00:00, 인덱스: 10, 확보가능공기:19.0\n",
      ">>>[검토] 베드명:E, 공백순서1인덱스의날짜: 2024-02-03 00:00:00, 인덱스: 2, 확보가능공기:27.0\n",
      ">>>[검토] 베드명:F, 공백순서1인덱스의날짜: 2024-02-03 00:00:00, 인덱스: 2, 확보가능공기:27.0\n",
      ">>>[검토] 베드명:G, 공백순서1인덱스의날짜: 2024-02-03 00:00:00, 인덱스: 2, 확보가능공기:27.0\n",
      "*** 최선조기착수 가능베드:2024-02-03 00:00:00 ---> ['A', 'C', 'E', 'F', 'G']\n",
      "\n",
      "* 베드명:A,  가능중량:100, 길이리스트:[20, 20, 10, 10], 면적리스트:[200]\n",
      ">>>[검토]A베드의 면적_최장길이 적합도 함수 체크\n",
      ">>>[검토]베드 A의 면적/사이즈 배치가능 여부:['적합'] / 베드가능중량:100 베드면적리스트:[200], 길이리스트:[20, 20, 10, 10]\n",
      "\n",
      "* 베드명:C,  가능중량:100, 길이리스트:[20, 20, 10, 10], 면적리스트:[200]\n",
      ">>>[검토]C베드의 면적_최장길이 적합도 함수 체크\n",
      ">>>[검토]베드 C의 면적/사이즈 배치가능 여부:['적합'] / 베드가능중량:100 베드면적리스트:[200], 길이리스트:[20, 20, 10, 10]\n",
      "\n",
      "* 베드명:E,  가능중량:100, 길이리스트:[15, 15, 10, 10], 면적리스트:[150]\n",
      ">>>[검토]E베드의 면적_최장길이 적합도 함수 체크\n",
      ">>>[검토]베드 E의 면적/사이즈 배치가능 여부:['적합'] / 베드가능중량:100 베드면적리스트:[150], 길이리스트:[15, 15, 10, 10]\n",
      "\n",
      "* 베드명:F,  가능중량:100, 길이리스트:[15, 15, 10, 10], 면적리스트:[150]\n",
      ">>>[검토]F베드의 면적_최장길이 적합도 함수 체크\n",
      ">>>[검토]베드 F의 면적/사이즈 배치가능 여부:['적합'] / 베드가능중량:100 베드면적리스트:[150], 길이리스트:[15, 15, 10, 10]\n",
      "\n",
      "* 베드명:G,  가능중량:100, 길이리스트:[15, 15, 10, 10], 면적리스트:[150]\n",
      ">>>[검토]G베드의 면적_최장길이 적합도 함수 체크\n",
      ">>>[검토]베드 G의 면적/사이즈 배치가능 여부:['적합'] / 베드가능중량:100 베드면적리스트:[150], 길이리스트:[15, 15, 10, 10]\n",
      "\n",
      "*** 물리적 스펙 가능 베드: ['A', 'C', 'E', 'F', 'G']\n",
      "\n",
      "***  정상배치 최종배정결과 : {'엔진명': 'S25', '베드명': 'F', '착수일': '2024-02-03'}\n",
      "================================================================================\n",
      "\n",
      "(엔진배치후) 수정엔진리스트 : ['S3', 'S11', 'S28', 'S4', 'S22', 'S29', 'S1', 'S20', 'S6', 'S7', 'S23', 'S12', 'S5', 'S16', 'S13', 'S21', 'S19', 'S15', 'S10', 'S2', 'S24', 'S8', 'S27', 'S17', 'S14', 'S26']\n",
      "\n",
      "*** 타겟엔진-name:S3,weight:53,size:25,길이리스트:[5, 5, 5, 5],최장길이:5,최소길이:5,최소착수요구일:2024-02-02,표준공기:8\n",
      "\n",
      ">>>[검토] 베드명:A, 공백순서1인덱스의날짜: 2024-02-03 00:00:00, 인덱스: 2, 확보가능공기:27.0\n",
      ">>>[검토] 베드명:B, 공백순서1인덱스의날짜: 2024-02-11 00:00:00, 인덱스: 10, 확보가능공기:19.0\n",
      ">>>[검토] 베드명:C, 공백순서1인덱스의날짜: 2024-02-03 00:00:00, 인덱스: 2, 확보가능공기:27.0\n",
      ">>>[검토] 베드명:D, 공백순서1인덱스의날짜: 2024-02-11 00:00:00, 인덱스: 10, 확보가능공기:19.0\n",
      ">>>[검토] 베드명:E, 공백순서1인덱스의날짜: 2024-02-03 00:00:00, 인덱스: 2, 확보가능공기:27.0\n",
      ">>>[검토] 베드명:F, 공백순서1인덱스의날짜: 2024-02-11 00:00:00, 인덱스: 10, 확보가능공기:19.0\n",
      ">>>[검토] 베드명:G, 공백순서1인덱스의날짜: 2024-02-03 00:00:00, 인덱스: 2, 확보가능공기:27.0\n",
      "★ 날짜 조건에 따른 배치가능한 베드이 없습니다.!!!!\n",
      "================================================================================\n",
      "\n",
      "*** 타겟엔진-name:S11,weight:50,size:45,길이리스트:[9, 9, 5, 5],최장길이:9,최소길이:5,최소착수요구일:2024-02-12,표준공기:8\n",
      "\n",
      ">>>[검토] 베드명:A, 공백순서1인덱스의날짜: 2024-02-03 00:00:00, 인덱스: 2, 확보가능공기:27.0\n",
      ">>>[검토] 베드명:B, 공백순서1인덱스의날짜: 2024-02-11 00:00:00, 인덱스: 10, 확보가능공기:19.0\n",
      ">>>[검토] 베드명:C, 공백순서1인덱스의날짜: 2024-02-03 00:00:00, 인덱스: 2, 확보가능공기:27.0\n",
      ">>>[검토] 베드명:D, 공백순서1인덱스의날짜: 2024-02-11 00:00:00, 인덱스: 10, 확보가능공기:19.0\n",
      ">>>[검토] 베드명:E, 공백순서1인덱스의날짜: 2024-02-03 00:00:00, 인덱스: 2, 확보가능공기:27.0\n",
      ">>>[검토] 베드명:F, 공백순서1인덱스의날짜: 2024-02-11 00:00:00, 인덱스: 10, 확보가능공기:19.0\n",
      ">>>[검토] 베드명:G, 공백순서1인덱스의날짜: 2024-02-03 00:00:00, 인덱스: 2, 확보가능공기:27.0\n",
      "*** 최선조기착수 가능베드:2024-02-03 00:00:00 ---> ['A', 'C', 'E', 'G']\n",
      "\n",
      "* 베드명:A,  가능중량:100, 길이리스트:[20, 20, 10, 10], 면적리스트:[200]\n",
      ">>>[검토]A베드의 면적_최장길이 적합도 함수 체크\n",
      ">>>[검토]베드 A의 면적/사이즈 배치가능 여부:['적합'] / 베드가능중량:100 베드면적리스트:[200], 길이리스트:[20, 20, 10, 10]\n",
      "\n",
      "* 베드명:C,  가능중량:100, 길이리스트:[20, 20, 10, 10], 면적리스트:[200]\n",
      ">>>[검토]C베드의 면적_최장길이 적합도 함수 체크\n",
      ">>>[검토]베드 C의 면적/사이즈 배치가능 여부:['적합'] / 베드가능중량:100 베드면적리스트:[200], 길이리스트:[20, 20, 10, 10]\n",
      "\n",
      "* 베드명:E,  가능중량:100, 길이리스트:[15, 15, 10, 10], 면적리스트:[150]\n",
      ">>>[검토]E베드의 면적_최장길이 적합도 함수 체크\n",
      ">>>[검토]베드 E의 면적/사이즈 배치가능 여부:['적합'] / 베드가능중량:100 베드면적리스트:[150], 길이리스트:[15, 15, 10, 10]\n",
      "\n",
      "* 베드명:G,  가능중량:100, 길이리스트:[15, 15, 10, 10], 면적리스트:[150]\n",
      ">>>[검토]G베드의 면적_최장길이 적합도 함수 체크\n",
      ">>>[검토]베드 G의 면적/사이즈 배치가능 여부:['적합'] / 베드가능중량:100 베드면적리스트:[150], 길이리스트:[15, 15, 10, 10]\n",
      "\n",
      "*** 물리적 스펙 가능 베드: ['A', 'C', 'E', 'G']\n",
      "\n",
      "***  정상배치 최종배정결과 : {'엔진명': 'S11', '베드명': 'G', '착수일': '2024-02-03'}\n",
      "================================================================================\n",
      "\n",
      "(엔진배치후) 수정엔진리스트 : ['S28', 'S4', 'S22', 'S29', 'S1', 'S20', 'S6', 'S7', 'S23', 'S12', 'S5', 'S16', 'S13', 'S21', 'S19', 'S15', 'S10', 'S2', 'S24', 'S8', 'S27', 'S17', 'S14', 'S26']\n",
      "\n",
      "*** 타겟엔진-name:S28,weight:58,size:56,길이리스트:[8, 8, 7, 7],최장길이:8,최소길이:7,최소착수요구일:2024-02-17,표준공기:8\n",
      "\n",
      ">>>[검토] 베드명:A, 공백순서1인덱스의날짜: 2024-02-03 00:00:00, 인덱스: 2, 확보가능공기:27.0\n",
      ">>>[검토] 베드명:B, 공백순서1인덱스의날짜: 2024-02-11 00:00:00, 인덱스: 10, 확보가능공기:19.0\n",
      ">>>[검토] 베드명:C, 공백순서1인덱스의날짜: 2024-02-03 00:00:00, 인덱스: 2, 확보가능공기:27.0\n",
      ">>>[검토] 베드명:D, 공백순서1인덱스의날짜: 2024-02-11 00:00:00, 인덱스: 10, 확보가능공기:19.0\n",
      ">>>[검토] 베드명:E, 공백순서1인덱스의날짜: 2024-02-03 00:00:00, 인덱스: 2, 확보가능공기:27.0\n",
      ">>>[검토] 베드명:F, 공백순서1인덱스의날짜: 2024-02-11 00:00:00, 인덱스: 10, 확보가능공기:19.0\n",
      ">>>[검토] 베드명:G, 공백순서1인덱스의날짜: 2024-02-11 00:00:00, 인덱스: 10, 확보가능공기:19.0\n",
      "*** 최선조기착수 가능베드:2024-02-03 00:00:00 ---> ['A', 'C', 'E']\n",
      "\n",
      "* 베드명:A,  가능중량:100, 길이리스트:[20, 20, 10, 10], 면적리스트:[200]\n",
      ">>>[검토]A베드의 면적_최장길이 적합도 함수 체크\n",
      ">>>[검토]베드 A의 면적/사이즈 배치가능 여부:['적합'] / 베드가능중량:100 베드면적리스트:[200], 길이리스트:[20, 20, 10, 10]\n",
      "\n",
      "* 베드명:C,  가능중량:100, 길이리스트:[20, 20, 10, 10], 면적리스트:[200]\n",
      ">>>[검토]C베드의 면적_최장길이 적합도 함수 체크\n",
      ">>>[검토]베드 C의 면적/사이즈 배치가능 여부:['적합'] / 베드가능중량:100 베드면적리스트:[200], 길이리스트:[20, 20, 10, 10]\n",
      "\n",
      "* 베드명:E,  가능중량:100, 길이리스트:[15, 15, 10, 10], 면적리스트:[150]\n",
      ">>>[검토]E베드의 면적_최장길이 적합도 함수 체크\n",
      ">>>[검토]베드 E의 면적/사이즈 배치가능 여부:['적합'] / 베드가능중량:100 베드면적리스트:[150], 길이리스트:[15, 15, 10, 10]\n",
      "\n",
      "*** 물리적 스펙 가능 베드: ['A', 'C', 'E']\n",
      "\n",
      "***  정상배치 최종배정결과 : {'엔진명': 'S28', '베드명': 'E', '착수일': '2024-02-03'}\n",
      "================================================================================\n",
      "\n",
      "(엔진배치후) 수정엔진리스트 : ['S4', 'S22', 'S29', 'S1', 'S20', 'S6', 'S7', 'S23', 'S12', 'S5', 'S16', 'S13', 'S21', 'S19', 'S15', 'S10', 'S2', 'S24', 'S8', 'S27', 'S17', 'S14', 'S26']\n",
      "\n",
      "*** 타겟엔진-name:S4,weight:50,size:63,길이리스트:[9, 9, 7, 7],최장길이:9,최소길이:7,최소착수요구일:2024-02-03,표준공기:7\n",
      "\n",
      ">>>[검토] 베드명:A, 공백순서1인덱스의날짜: 2024-02-03 00:00:00, 인덱스: 2, 확보가능공기:27.0\n",
      ">>>[검토] 베드명:B, 공백순서1인덱스의날짜: 2024-02-11 00:00:00, 인덱스: 10, 확보가능공기:19.0\n",
      ">>>[검토] 베드명:C, 공백순서1인덱스의날짜: 2024-02-03 00:00:00, 인덱스: 2, 확보가능공기:27.0\n",
      ">>>[검토] 베드명:D, 공백순서1인덱스의날짜: 2024-02-11 00:00:00, 인덱스: 10, 확보가능공기:19.0\n",
      ">>>[검토] 베드명:E, 공백순서1인덱스의날짜: 2024-02-11 00:00:00, 인덱스: 10, 확보가능공기:19.0\n",
      ">>>[검토] 베드명:F, 공백순서1인덱스의날짜: 2024-02-11 00:00:00, 인덱스: 10, 확보가능공기:19.0\n",
      ">>>[검토] 베드명:G, 공백순서1인덱스의날짜: 2024-02-11 00:00:00, 인덱스: 10, 확보가능공기:19.0\n",
      "*** 최선조기착수 가능베드:2024-02-03 00:00:00 ---> ['A', 'C']\n",
      "\n",
      "* 베드명:A,  가능중량:100, 길이리스트:[20, 20, 10, 10], 면적리스트:[200]\n",
      ">>>[검토]A베드의 면적_최장길이 적합도 함수 체크\n",
      ">>>[검토]베드 A의 면적/사이즈 배치가능 여부:['적합'] / 베드가능중량:100 베드면적리스트:[200], 길이리스트:[20, 20, 10, 10]\n",
      "\n",
      "* 베드명:C,  가능중량:100, 길이리스트:[20, 20, 10, 10], 면적리스트:[200]\n",
      ">>>[검토]C베드의 면적_최장길이 적합도 함수 체크\n",
      ">>>[검토]베드 C의 면적/사이즈 배치가능 여부:['적합'] / 베드가능중량:100 베드면적리스트:[200], 길이리스트:[20, 20, 10, 10]\n",
      "\n",
      "*** 물리적 스펙 가능 베드: ['A', 'C']\n",
      "\n",
      "***  정상배치 최종배정결과 : {'엔진명': 'S4', '베드명': 'C', '착수일': '2024-02-03'}\n",
      "================================================================================\n",
      "\n",
      "(엔진배치후) 수정엔진리스트 : ['S22', 'S29', 'S1', 'S20', 'S6', 'S7', 'S23', 'S12', 'S5', 'S16', 'S13', 'S21', 'S19', 'S15', 'S10', 'S2', 'S24', 'S8', 'S27', 'S17', 'S14', 'S26']\n"
     ]
    },
    {
     "name": "stdout",
     "output_type": "stream",
     "text": [
      "\n"
     ]
    },
    {
     "name": "stderr",
     "output_type": "stream",
     "text": [
      " 62%|▌| 18/29 [00:00<00:00, 43.28"
     ]
    },
    {
     "name": "stdout",
     "output_type": "stream",
     "text": [
      "*** 타겟엔진-name:S22,weight:54,size:48,길이리스트:[8, 8, 6, 6],최장길이:8,최소길이:6,최소착수요구일:2024-02-13,표준공기:7\n",
      "\n",
      ">>>[검토] 베드명:A, 공백순서1인덱스의날짜: 2024-02-03 00:00:00, 인덱스: 2, 확보가능공기:27.0\n",
      ">>>[검토] 베드명:B, 공백순서1인덱스의날짜: 2024-02-11 00:00:00, 인덱스: 10, 확보가능공기:19.0\n",
      ">>>[검토] 베드명:C, 공백순서1인덱스의날짜: 2024-02-10 00:00:00, 인덱스: 9, 확보가능공기:20.0\n",
      ">>>[검토] 베드명:D, 공백순서1인덱스의날짜: 2024-02-11 00:00:00, 인덱스: 10, 확보가능공기:19.0\n",
      ">>>[검토] 베드명:E, 공백순서1인덱스의날짜: 2024-02-11 00:00:00, 인덱스: 10, 확보가능공기:19.0\n",
      ">>>[검토] 베드명:F, 공백순서1인덱스의날짜: 2024-02-11 00:00:00, 인덱스: 10, 확보가능공기:19.0\n",
      ">>>[검토] 베드명:G, 공백순서1인덱스의날짜: 2024-02-11 00:00:00, 인덱스: 10, 확보가능공기:19.0\n",
      "*** 최선조기착수 가능베드:2024-02-03 00:00:00 ---> ['A']\n",
      "\n",
      "* 베드명:A,  가능중량:100, 길이리스트:[20, 20, 10, 10], 면적리스트:[200]\n",
      ">>>[검토]A베드의 면적_최장길이 적합도 함수 체크\n",
      ">>>[검토]베드 A의 면적/사이즈 배치가능 여부:['적합'] / 베드가능중량:100 베드면적리스트:[200], 길이리스트:[20, 20, 10, 10]\n",
      "\n",
      "*** 물리적 스펙 가능 베드: ['A']\n",
      "\n",
      "***  정상배치 최종배정결과 : {'엔진명': 'S22', '베드명': 'A', '착수일': '2024-02-03'}\n",
      "================================================================================\n",
      "\n",
      "(엔진배치후) 수정엔진리스트 : ['S29', 'S1', 'S20', 'S6', 'S7', 'S23', 'S12', 'S5', 'S16', 'S13', 'S21', 'S19', 'S15', 'S10', 'S2', 'S24', 'S8', 'S27', 'S17', 'S14', 'S26']\n",
      "\n",
      "*** 타겟엔진-name:S29,weight:56,size:36,길이리스트:[6, 6, 6, 6],최장길이:6,최소길이:6,최소착수요구일:2024-02-18,표준공기:7\n",
      "\n",
      ">>>[검토] 베드명:A, 공백순서1인덱스의날짜: 2024-02-10 00:00:00, 인덱스: 9, 확보가능공기:20.0\n",
      ">>>[검토] 베드명:B, 공백순서1인덱스의날짜: 2024-02-11 00:00:00, 인덱스: 10, 확보가능공기:19.0\n",
      ">>>[검토] 베드명:C, 공백순서1인덱스의날짜: 2024-02-10 00:00:00, 인덱스: 9, 확보가능공기:20.0\n",
      ">>>[검토] 베드명:D, 공백순서1인덱스의날짜: 2024-02-11 00:00:00, 인덱스: 10, 확보가능공기:19.0\n",
      ">>>[검토] 베드명:E, 공백순서1인덱스의날짜: 2024-02-11 00:00:00, 인덱스: 10, 확보가능공기:19.0\n",
      ">>>[검토] 베드명:F, 공백순서1인덱스의날짜: 2024-02-11 00:00:00, 인덱스: 10, 확보가능공기:19.0\n",
      ">>>[검토] 베드명:G, 공백순서1인덱스의날짜: 2024-02-11 00:00:00, 인덱스: 10, 확보가능공기:19.0\n",
      "*** 최선조기착수 가능베드:2024-02-10 00:00:00 ---> ['A', 'C']\n",
      "\n",
      "* 베드명:A,  가능중량:100, 길이리스트:[20, 20, 10, 10], 면적리스트:[200]\n",
      ">>>[검토]A베드의 면적_최장길이 적합도 함수 체크\n",
      ">>>[검토]베드 A의 면적/사이즈 배치가능 여부:['적합'] / 베드가능중량:100 베드면적리스트:[200], 길이리스트:[20, 20, 10, 10]\n",
      "\n",
      "* 베드명:C,  가능중량:100, 길이리스트:[20, 20, 10, 10], 면적리스트:[200]\n",
      ">>>[검토]C베드의 면적_최장길이 적합도 함수 체크\n",
      ">>>[검토]베드 C의 면적/사이즈 배치가능 여부:['적합'] / 베드가능중량:100 베드면적리스트:[200], 길이리스트:[20, 20, 10, 10]\n",
      "\n",
      "*** 물리적 스펙 가능 베드: ['A', 'C']\n",
      "\n",
      "***  정상배치 최종배정결과 : {'엔진명': 'S29', '베드명': 'A', '착수일': '2024-02-10'}\n",
      "================================================================================\n",
      "\n",
      "(엔진배치후) 수정엔진리스트 : ['S1', 'S20', 'S6', 'S7', 'S23', 'S12', 'S5', 'S16', 'S13', 'S21', 'S19', 'S15', 'S10', 'S2', 'S24', 'S8', 'S27', 'S17', 'S14', 'S26']\n",
      "\n",
      "*** 타겟엔진-name:S1,weight:50,size:80,길이리스트:[10, 10, 8, 8],최장길이:10,최소길이:8,최소착수요구일:2024-02-04,표준공기:6\n",
      "\n",
      ">>>[검토] 베드명:A, 공백순서1인덱스의날짜: 2024-02-17 00:00:00, 인덱스: 16, 확보가능공기:13.0\n",
      ">>>[검토] 베드명:B, 공백순서1인덱스의날짜: 2024-02-11 00:00:00, 인덱스: 10, 확보가능공기:19.0\n",
      ">>>[검토] 베드명:C, 공백순서1인덱스의날짜: 2024-02-10 00:00:00, 인덱스: 9, 확보가능공기:20.0\n",
      ">>>[검토] 베드명:D, 공백순서1인덱스의날짜: 2024-02-11 00:00:00, 인덱스: 10, 확보가능공기:19.0\n",
      ">>>[검토] 베드명:E, 공백순서1인덱스의날짜: 2024-02-11 00:00:00, 인덱스: 10, 확보가능공기:19.0\n",
      ">>>[검토] 베드명:F, 공백순서1인덱스의날짜: 2024-02-11 00:00:00, 인덱스: 10, 확보가능공기:19.0\n",
      ">>>[검토] 베드명:G, 공백순서1인덱스의날짜: 2024-02-11 00:00:00, 인덱스: 10, 확보가능공기:19.0\n",
      "★ 날짜 조건에 따른 배치가능한 베드이 없습니다.!!!!\n",
      "================================================================================\n",
      "\n",
      "*** 타겟엔진-name:S20,weight:59,size:90,길이리스트:[10, 10, 9, 9],최장길이:10,최소길이:9,최소착수요구일:2024-02-09,표준공기:6\n",
      "\n",
      ">>>[검토] 베드명:A, 공백순서1인덱스의날짜: 2024-02-17 00:00:00, 인덱스: 16, 확보가능공기:13.0\n",
      ">>>[검토] 베드명:B, 공백순서1인덱스의날짜: 2024-02-11 00:00:00, 인덱스: 10, 확보가능공기:19.0\n",
      ">>>[검토] 베드명:C, 공백순서1인덱스의날짜: 2024-02-10 00:00:00, 인덱스: 9, 확보가능공기:20.0\n",
      ">>>[검토] 베드명:D, 공백순서1인덱스의날짜: 2024-02-11 00:00:00, 인덱스: 10, 확보가능공기:19.0\n",
      ">>>[검토] 베드명:E, 공백순서1인덱스의날짜: 2024-02-11 00:00:00, 인덱스: 10, 확보가능공기:19.0\n",
      ">>>[검토] 베드명:F, 공백순서1인덱스의날짜: 2024-02-11 00:00:00, 인덱스: 10, 확보가능공기:19.0\n",
      ">>>[검토] 베드명:G, 공백순서1인덱스의날짜: 2024-02-11 00:00:00, 인덱스: 10, 확보가능공기:19.0\n",
      "★ 날짜 조건에 따른 배치가능한 베드이 없습니다.!!!!\n",
      "================================================================================\n",
      "\n",
      "*** 타겟엔진-name:S6,weight:59,size:63,길이리스트:[9, 9, 7, 7],최장길이:9,최소길이:7,최소착수요구일:2024-02-09,표준공기:6\n",
      "\n",
      ">>>[검토] 베드명:A, 공백순서1인덱스의날짜: 2024-02-17 00:00:00, 인덱스: 16, 확보가능공기:13.0\n",
      ">>>[검토] 베드명:B, 공백순서1인덱스의날짜: 2024-02-11 00:00:00, 인덱스: 10, 확보가능공기:19.0\n",
      ">>>[검토] 베드명:C, 공백순서1인덱스의날짜: 2024-02-10 00:00:00, 인덱스: 9, 확보가능공기:20.0\n",
      ">>>[검토] 베드명:D, 공백순서1인덱스의날짜: 2024-02-11 00:00:00, 인덱스: 10, 확보가능공기:19.0\n",
      ">>>[검토] 베드명:E, 공백순서1인덱스의날짜: 2024-02-11 00:00:00, 인덱스: 10, 확보가능공기:19.0\n",
      ">>>[검토] 베드명:F, 공백순서1인덱스의날짜: 2024-02-11 00:00:00, 인덱스: 10, 확보가능공기:19.0\n",
      ">>>[검토] 베드명:G, 공백순서1인덱스의날짜: 2024-02-11 00:00:00, 인덱스: 10, 확보가능공기:19.0\n",
      "★ 날짜 조건에 따른 배치가능한 베드이 없습니다.!!!!\n",
      "================================================================================\n",
      "\n",
      "*** 타겟엔진-name:S7,weight:50,size:60,길이리스트:[10, 10, 6, 6],최장길이:10,최소길이:6,최소착수요구일:2024-02-09,표준공기:6\n",
      "\n",
      ">>>[검토] 베드명:A, 공백순서1인덱스의날짜: 2024-02-17 00:00:00, 인덱스: 16, 확보가능공기:13.0\n",
      ">>>[검토] 베드명:B, 공백순서1인덱스의날짜: 2024-02-11 00:00:00, 인덱스: 10, 확보가능공기:19.0\n",
      ">>>[검토] 베드명:C, 공백순서1인덱스의날짜: 2024-02-10 00:00:00, 인덱스: 9, 확보가능공기:20.0\n",
      ">>>[검토] 베드명:D, 공백순서1인덱스의날짜: 2024-02-11 00:00:00, 인덱스: 10, 확보가능공기:19.0\n",
      ">>>[검토] 베드명:E, 공백순서1인덱스의날짜: 2024-02-11 00:00:00, 인덱스: 10, 확보가능공기:19.0\n",
      ">>>[검토] 베드명:F, 공백순서1인덱스의날짜: 2024-02-11 00:00:00, 인덱스: 10, 확보가능공기:19.0\n",
      ">>>[검토] 베드명:G, 공백순서1인덱스의날짜: 2024-02-11 00:00:00, 인덱스: 10, 확보가능공기:19.0\n",
      "★ 날짜 조건에 따른 배치가능한 베드이 없습니다.!!!!\n",
      "================================================================================\n",
      "\n",
      "*** 타겟엔진-name:S23,weight:51,size:40,길이리스트:[8, 8, 5, 5],최장길이:8,최소길이:5,최소착수요구일:2024-02-14,표준공기:6\n",
      "\n",
      ">>>[검토] 베드명:A, 공백순서1인덱스의날짜: 2024-02-17 00:00:00, 인덱스: 16, 확보가능공기:13.0\n",
      ">>>[검토] 베드명:B, 공백순서1인덱스의날짜: 2024-02-11 00:00:00, 인덱스: 10, 확보가능공기:19.0\n",
      ">>>[검토] 베드명:C, 공백순서1인덱스의날짜: 2024-02-10 00:00:00, 인덱스: 9, 확보가능공기:20.0\n",
      ">>>[검토] 베드명:D, 공백순서1인덱스의날짜: 2024-02-11 00:00:00, 인덱스: 10, 확보가능공기:19.0\n",
      ">>>[검토] 베드명:E, 공백순서1인덱스의날짜: 2024-02-11 00:00:00, 인덱스: 10, 확보가능공기:19.0\n",
      ">>>[검토] 베드명:F, 공백순서1인덱스의날짜: 2024-02-11 00:00:00, 인덱스: 10, 확보가능공기:19.0\n",
      ">>>[검토] 베드명:G, 공백순서1인덱스의날짜: 2024-02-11 00:00:00, 인덱스: 10, 확보가능공기:19.0\n",
      "*** 최선조기착수 가능베드:2024-02-10 00:00:00 ---> ['C']\n",
      "\n",
      "* 베드명:C,  가능중량:100, 길이리스트:[20, 20, 10, 10], 면적리스트:[200]\n",
      ">>>[검토]C베드의 면적_최장길이 적합도 함수 체크\n",
      ">>>[검토]베드 C의 면적/사이즈 배치가능 여부:['적합'] / 베드가능중량:100 베드면적리스트:[200], 길이리스트:[20, 20, 10, 10]\n",
      "\n",
      "*** 물리적 스펙 가능 베드: ['C']\n",
      "\n",
      "***  정상배치 최종배정결과 : {'엔진명': 'S23', '베드명': 'C', '착수일': '2024-02-10'}\n",
      "================================================================================\n",
      "\n",
      "(엔진배치후) 수정엔진리스트 : ['S12', 'S5', 'S16', 'S13', 'S21', 'S19', 'S15', 'S10', 'S2', 'S24', 'S8', 'S27', 'S17', 'S14', 'S26']\n",
      "\n",
      "*** 타겟엔진-name:S12,weight:60,size:36,길이리스트:[6, 6, 6, 6],최장길이:6,최소길이:6,최소착수요구일:2024-02-14,표준공기:6\n",
      "\n",
      ">>>[검토] 베드명:A, 공백순서1인덱스의날짜: 2024-02-17 00:00:00, 인덱스: 16, 확보가능공기:13.0\n",
      ">>>[검토] 베드명:B, 공백순서1인덱스의날짜: 2024-02-11 00:00:00, 인덱스: 10, 확보가능공기:19.0\n",
      ">>>[검토] 베드명:C, 공백순서1인덱스의날짜: 2024-02-16 00:00:00, 인덱스: 15, 확보가능공기:14.0\n",
      ">>>[검토] 베드명:D, 공백순서1인덱스의날짜: 2024-02-11 00:00:00, 인덱스: 10, 확보가능공기:19.0\n",
      ">>>[검토] 베드명:E, 공백순서1인덱스의날짜: 2024-02-11 00:00:00, 인덱스: 10, 확보가능공기:19.0\n",
      ">>>[검토] 베드명:F, 공백순서1인덱스의날짜: 2024-02-11 00:00:00, 인덱스: 10, 확보가능공기:19.0\n",
      ">>>[검토] 베드명:G, 공백순서1인덱스의날짜: 2024-02-11 00:00:00, 인덱스: 10, 확보가능공기:19.0\n",
      "*** 최선조기착수 가능베드:2024-02-11 00:00:00 ---> ['B', 'D', 'E', 'F', 'G']\n",
      "\n",
      "* 베드명:B,  가능중량:100, 길이리스트:[20, 20, 10, 10], 면적리스트:[200]\n",
      ">>>[검토]B베드의 면적_최장길이 적합도 함수 체크\n",
      ">>>[검토]베드 B의 면적/사이즈 배치가능 여부:['적합'] / 베드가능중량:100 베드면적리스트:[200], 길이리스트:[20, 20, 10, 10]\n",
      "\n",
      "* 베드명:D,  가능중량:100, 길이리스트:[15, 15, 10, 10], 면적리스트:[150]\n",
      ">>>[검토]D베드의 면적_최장길이 적합도 함수 체크\n",
      ">>>[검토]베드 D의 면적/사이즈 배치가능 여부:['적합'] / 베드가능중량:100 베드면적리스트:[150], 길이리스트:[15, 15, 10, 10]\n",
      "\n",
      "* 베드명:E,  가능중량:100, 길이리스트:[15, 15, 10, 10], 면적리스트:[150]\n",
      ">>>[검토]E베드의 면적_최장길이 적합도 함수 체크\n",
      ">>>[검토]베드 E의 면적/사이즈 배치가능 여부:['적합'] / 베드가능중량:100 베드면적리스트:[150], 길이리스트:[15, 15, 10, 10]\n",
      "\n",
      "* 베드명:F,  가능중량:100, 길이리스트:[15, 15, 10, 10], 면적리스트:[150]\n",
      ">>>[검토]F베드의 면적_최장길이 적합도 함수 체크\n",
      ">>>[검토]베드 F의 면적/사이즈 배치가능 여부:['적합'] / 베드가능중량:100 베드면적리스트:[150], 길이리스트:[15, 15, 10, 10]\n",
      "\n",
      "* 베드명:G,  가능중량:100, 길이리스트:[15, 15, 10, 10], 면적리스트:[150]\n",
      ">>>[검토]G베드의 면적_최장길이 적합도 함수 체크\n",
      ">>>[검토]베드 G의 면적/사이즈 배치가능 여부:['적합'] / 베드가능중량:100 베드면적리스트:[150], 길이리스트:[15, 15, 10, 10]\n",
      "\n",
      "*** 물리적 스펙 가능 베드: ['B', 'D', 'E', 'F', 'G']\n",
      "\n",
      "***  정상배치 최종배정결과 : {'엔진명': 'S12', '베드명': 'E', '착수일': '2024-02-11'}\n",
      "================================================================================\n",
      "\n",
      "(엔진배치후) 수정엔진리스트 : ['S5', 'S16', 'S13', 'S21', 'S19', 'S15', 'S10', 'S2', 'S24', 'S8', 'S27', 'S17', 'S14', 'S26']\n",
      "\n",
      "*** 타겟엔진-name:S5,weight:57,size:63,길이리스트:[9, 9, 7, 7],최장길이:9,최소길이:7,최소착수요구일:2024-02-05,표준공기:5\n",
      "\n",
      ">>>[검토] 베드명:A, 공백순서1인덱스의날짜: 2024-02-17 00:00:00, 인덱스: 16, 확보가능공기:13.0\n",
      ">>>[검토] 베드명:B, 공백순서1인덱스의날짜: 2024-02-11 00:00:00, 인덱스: 10, 확보가능공기:19.0\n",
      ">>>[검토] 베드명:C, 공백순서1인덱스의날짜: 2024-02-16 00:00:00, 인덱스: 15, 확보가능공기:14.0\n",
      ">>>[검토] 베드명:D, 공백순서1인덱스의날짜: 2024-02-11 00:00:00, 인덱스: 10, 확보가능공기:19.0\n",
      ">>>[검토] 베드명:E, 공백순서1인덱스의날짜: 2024-02-17 00:00:00, 인덱스: 16, 확보가능공기:13.0\n",
      ">>>[검토] 베드명:F, 공백순서1인덱스의날짜: 2024-02-11 00:00:00, 인덱스: 10, 확보가능공기:19.0\n",
      ">>>[검토] 베드명:G, 공백순서1인덱스의날짜: 2024-02-11 00:00:00, 인덱스: 10, 확보가능공기:19.0\n",
      "★ 날짜 조건에 따른 배치가능한 베드이 없습니다.!!!!\n",
      "================================================================================\n",
      "\n",
      "*** 타겟엔진-name:S16,weight:56,size:81,길이리스트:[9, 9, 9, 9],최장길이:9,최소길이:9,최소착수요구일:2024-02-10,표준공기:5\n",
      "\n",
      ">>>[검토] 베드명:A, 공백순서1인덱스의날짜: 2024-02-17 00:00:00, 인덱스: 16, 확보가능공기:13.0\n",
      ">>>[검토] 베드명:B, 공백순서1인덱스의날짜: 2024-02-11 00:00:00, 인덱스: 10, 확보가능공기:19.0\n",
      ">>>[검토] 베드명:C, 공백순서1인덱스의날짜: 2024-02-16 00:00:00, 인덱스: 15, 확보가능공기:14.0\n",
      ">>>[검토] 베드명:D, 공백순서1인덱스의날짜: 2024-02-11 00:00:00, 인덱스: 10, 확보가능공기:19.0\n",
      ">>>[검토] 베드명:E, 공백순서1인덱스의날짜: 2024-02-17 00:00:00, 인덱스: 16, 확보가능공기:13.0\n",
      ">>>[검토] 베드명:F, 공백순서1인덱스의날짜: 2024-02-11 00:00:00, 인덱스: 10, 확보가능공기:19.0\n",
      ">>>[검토] 베드명:G, 공백순서1인덱스의날짜: 2024-02-11 00:00:00, 인덱스: 10, 확보가능공기:19.0\n",
      "★ 날짜 조건에 따른 배치가능한 베드이 없습니다.!!!!\n",
      "================================================================================\n",
      "\n",
      "*** 타겟엔진-name:S13,weight:56,size:54,길이리스트:[9, 9, 6, 6],최장길이:9,최소길이:6,최소착수요구일:2024-02-15,표준공기:5\n",
      "\n",
      ">>>[검토] 베드명:A, 공백순서1인덱스의날짜: 2024-02-17 00:00:00, 인덱스: 16, 확보가능공기:13.0\n",
      ">>>[검토] 베드명:B, 공백순서1인덱스의날짜: 2024-02-11 00:00:00, 인덱스: 10, 확보가능공기:19.0\n",
      ">>>[검토] 베드명:C, 공백순서1인덱스의날짜: 2024-02-16 00:00:00, 인덱스: 15, 확보가능공기:14.0\n",
      ">>>[검토] 베드명:D, 공백순서1인덱스의날짜: 2024-02-11 00:00:00, 인덱스: 10, 확보가능공기:19.0\n",
      ">>>[검토] 베드명:E, 공백순서1인덱스의날짜: 2024-02-17 00:00:00, 인덱스: 16, 확보가능공기:13.0\n",
      ">>>[검토] 베드명:F, 공백순서1인덱스의날짜: 2024-02-11 00:00:00, 인덱스: 10, 확보가능공기:19.0\n",
      ">>>[검토] 베드명:G, 공백순서1인덱스의날짜: 2024-02-11 00:00:00, 인덱스: 10, 확보가능공기:19.0\n",
      "*** 최선조기착수 가능베드:2024-02-11 00:00:00 ---> ['B', 'D', 'F', 'G']\n",
      "\n",
      "* 베드명:B,  가능중량:100, 길이리스트:[20, 20, 10, 10], 면적리스트:[200]\n",
      ">>>[검토]B베드의 면적_최장길이 적합도 함수 체크\n",
      ">>>[검토]베드 B의 면적/사이즈 배치가능 여부:['적합'] / 베드가능중량:100 베드면적리스트:[200], 길이리스트:[20, 20, 10, 10]\n",
      "\n",
      "* 베드명:D,  가능중량:100, 길이리스트:[15, 15, 10, 10], 면적리스트:[150]\n",
      ">>>[검토]D베드의 면적_최장길이 적합도 함수 체크\n",
      ">>>[검토]베드 D의 면적/사이즈 배치가능 여부:['적합'] / 베드가능중량:100 베드면적리스트:[150], 길이리스트:[15, 15, 10, 10]\n",
      "\n",
      "* 베드명:F,  가능중량:100, 길이리스트:[15, 15, 10, 10], 면적리스트:[150]\n",
      ">>>[검토]F베드의 면적_최장길이 적합도 함수 체크\n",
      ">>>[검토]베드 F의 면적/사이즈 배치가능 여부:['적합'] / 베드가능중량:100 베드면적리스트:[150], 길이리스트:[15, 15, 10, 10]\n",
      "\n",
      "* 베드명:G,  가능중량:100, 길이리스트:[15, 15, 10, 10], 면적리스트:[150]\n",
      ">>>[검토]G베드의 면적_최장길이 적합도 함수 체크\n",
      ">>>[검토]베드 G의 면적/사이즈 배치가능 여부:['적합'] / 베드가능중량:100 베드면적리스트:[150], 길이리스트:[15, 15, 10, 10]\n",
      "\n",
      "*** 물리적 스펙 가능 베드: ['B', 'D', 'F', 'G']\n",
      "\n",
      "***  정상배치 최종배정결과 : {'엔진명': 'S13', '베드명': 'B', '착수일': '2024-02-11'}\n",
      "================================================================================\n",
      "\n",
      "(엔진배치후) 수정엔진리스트 : ['S21', 'S19', 'S15', 'S10', 'S2', 'S24', 'S8', 'S27', 'S17', 'S14', 'S26']\n",
      "\n",
      "*** 타겟엔진-name:S21,weight:58,size:50,길이리스트:[10, 10, 5, 5],최장길이:10,최소길이:5,최소착수요구일:2024-02-15,표준공기:5\n",
      "\n",
      ">>>[검토] 베드명:A, 공백순서1인덱스의날짜: 2024-02-17 00:00:00, 인덱스: 16, 확보가능공기:13.0\n",
      ">>>[검토] 베드명:B, 공백순서1인덱스의날짜: 2024-02-16 00:00:00, 인덱스: 15, 확보가능공기:14.0\n",
      ">>>[검토] 베드명:C, 공백순서1인덱스의날짜: 2024-02-16 00:00:00, 인덱스: 15, 확보가능공기:14.0\n",
      ">>>[검토] 베드명:D, 공백순서1인덱스의날짜: 2024-02-11 00:00:00, 인덱스: 10, 확보가능공기:19.0\n",
      ">>>[검토] 베드명:E, 공백순서1인덱스의날짜: 2024-02-17 00:00:00, 인덱스: 16, 확보가능공기:13.0\n",
      ">>>[검토] 베드명:F, 공백순서1인덱스의날짜: 2024-02-11 00:00:00, 인덱스: 10, 확보가능공기:19.0\n",
      ">>>[검토] 베드명:G, 공백순서1인덱스의날짜: 2024-02-11 00:00:00, 인덱스: 10, 확보가능공기:19.0\n",
      "*** 최선조기착수 가능베드:2024-02-11 00:00:00 ---> ['D', 'F', 'G']\n",
      "\n",
      "* 베드명:D,  가능중량:100, 길이리스트:[15, 15, 10, 10], 면적리스트:[150]\n",
      ">>>[검토]D베드의 면적_최장길이 적합도 함수 체크\n",
      ">>>[검토]베드 D의 면적/사이즈 배치가능 여부:['적합'] / 베드가능중량:100 베드면적리스트:[150], 길이리스트:[15, 15, 10, 10]\n",
      "\n",
      "* 베드명:F,  가능중량:100, 길이리스트:[15, 15, 10, 10], 면적리스트:[150]\n",
      ">>>[검토]F베드의 면적_최장길이 적합도 함수 체크\n",
      ">>>[검토]베드 F의 면적/사이즈 배치가능 여부:['적합'] / 베드가능중량:100 베드면적리스트:[150], 길이리스트:[15, 15, 10, 10]\n",
      "\n",
      "* 베드명:G,  가능중량:100, 길이리스트:[15, 15, 10, 10], 면적리스트:[150]\n",
      ">>>[검토]G베드의 면적_최장길이 적합도 함수 체크\n",
      ">>>[검토]베드 G의 면적/사이즈 배치가능 여부:['적합'] / 베드가능중량:100 베드면적리스트:[150], 길이리스트:[15, 15, 10, 10]\n",
      "\n",
      "*** 물리적 스펙 가능 베드: ['D', 'F', 'G']\n",
      "\n",
      "***  정상배치 최종배정결과 : {'엔진명': 'S21', '베드명': 'G', '착수일': '2024-02-11'}\n",
      "================================================================================\n",
      "\n",
      "(엔진배치후) 수정엔진리스트 : ['S19', 'S15', 'S10', 'S2', 'S24', 'S8', 'S27', 'S17', 'S14', 'S26']\n",
      "\n",
      "*** 타겟엔진-name:S19,weight:59,size:30,길이리스트:[6, 6, 5, 5],최장길이:6,최소길이:5,최소착수요구일:2024-02-10,표준공기:5\n",
      "\n",
      ">>>[검토] 베드명:A, 공백순서1인덱스의날짜: 2024-02-17 00:00:00, 인덱스: 16, 확보가능공기:13.0\n",
      ">>>[검토] 베드명:B, 공백순서1인덱스의날짜: 2024-02-16 00:00:00, 인덱스: 15, 확보가능공기:14.0\n",
      ">>>[검토] 베드명:C, 공백순서1인덱스의날짜: 2024-02-16 00:00:00, 인덱스: 15, 확보가능공기:14.0\n",
      ">>>[검토] 베드명:D, 공백순서1인덱스의날짜: 2024-02-11 00:00:00, 인덱스: 10, 확보가능공기:19.0\n",
      ">>>[검토] 베드명:E, 공백순서1인덱스의날짜: 2024-02-17 00:00:00, 인덱스: 16, 확보가능공기:13.0\n",
      ">>>[검토] 베드명:F, 공백순서1인덱스의날짜: 2024-02-11 00:00:00, 인덱스: 10, 확보가능공기:19.0\n",
      ">>>[검토] 베드명:G, 공백순서1인덱스의날짜: 2024-02-16 00:00:00, 인덱스: 15, 확보가능공기:14.0\n",
      "★ 날짜 조건에 따른 배치가능한 베드이 없습니다.!!!!\n",
      "================================================================================\n",
      "\n",
      "*** 타겟엔진-name:S15,weight:60,size:45,길이리스트:[9, 9, 5, 5],최장길이:9,최소길이:5,최소착수요구일:2024-02-15,표준공기:5\n",
      "\n",
      ">>>[검토] 베드명:A, 공백순서1인덱스의날짜: 2024-02-17 00:00:00, 인덱스: 16, 확보가능공기:13.0\n",
      ">>>[검토] 베드명:B, 공백순서1인덱스의날짜: 2024-02-16 00:00:00, 인덱스: 15, 확보가능공기:14.0\n",
      ">>>[검토] 베드명:C, 공백순서1인덱스의날짜: 2024-02-16 00:00:00, 인덱스: 15, 확보가능공기:14.0\n",
      ">>>[검토] 베드명:D, 공백순서1인덱스의날짜: 2024-02-11 00:00:00, 인덱스: 10, 확보가능공기:19.0\n",
      ">>>[검토] 베드명:E, 공백순서1인덱스의날짜: 2024-02-17 00:00:00, 인덱스: 16, 확보가능공기:13.0\n",
      ">>>[검토] 베드명:F, 공백순서1인덱스의날짜: 2024-02-11 00:00:00, 인덱스: 10, 확보가능공기:19.0\n",
      ">>>[검토] 베드명:G, 공백순서1인덱스의날짜: 2024-02-16 00:00:00, 인덱스: 15, 확보가능공기:14.0\n",
      "*** 최선조기착수 가능베드:2024-02-11 00:00:00 ---> ['D', 'F']\n",
      "\n",
      "* 베드명:D,  가능중량:100, 길이리스트:[15, 15, 10, 10], 면적리스트:[150]\n",
      ">>>[검토]D베드의 면적_최장길이 적합도 함수 체크\n",
      ">>>[검토]베드 D의 면적/사이즈 배치가능 여부:['적합'] / 베드가능중량:100 베드면적리스트:[150], 길이리스트:[15, 15, 10, 10]\n",
      "\n",
      "* 베드명:F,  가능중량:100, 길이리스트:[15, 15, 10, 10], 면적리스트:[150]\n",
      ">>>[검토]F베드의 면적_최장길이 적합도 함수 체크\n",
      ">>>[검토]베드 F의 면적/사이즈 배치가능 여부:['적합'] / 베드가능중량:100 베드면적리스트:[150], 길이리스트:[15, 15, 10, 10]\n",
      "\n",
      "*** 물리적 스펙 가능 베드: ['D', 'F']\n",
      "\n",
      "***  정상배치 최종배정결과 : {'엔진명': 'S15', '베드명': 'F', '착수일': '2024-02-11'}\n",
      "================================================================================\n",
      "\n",
      "(엔진배치후) 수정엔진리스트 : ['S10', 'S2', 'S24', 'S8', 'S27', 'S17', 'S14', 'S26']\n",
      "\n",
      "*** 타겟엔진-name:S10,weight:57,size:100,길이리스트:[10, 10, 10, 10],최장길이:10,최소길이:10,최소착수요구일:2024-02-11,표준공기:4\n",
      "\n",
      ">>>[검토] 베드명:A, 공백순서1인덱스의날짜: 2024-02-17 00:00:00, 인덱스: 16, 확보가능공기:13.0\n",
      ">>>[검토] 베드명:B, 공백순서1인덱스의날짜: 2024-02-16 00:00:00, 인덱스: 15, 확보가능공기:14.0\n",
      ">>>[검토] 베드명:C, 공백순서1인덱스의날짜: 2024-02-16 00:00:00, 인덱스: 15, 확보가능공기:14.0\n",
      ">>>[검토] 베드명:D, 공백순서1인덱스의날짜: 2024-02-11 00:00:00, 인덱스: 10, 확보가능공기:19.0\n",
      ">>>[검토] 베드명:E, 공백순서1인덱스의날짜: 2024-02-17 00:00:00, 인덱스: 16, 확보가능공기:13.0\n",
      ">>>[검토] 베드명:F, 공백순서1인덱스의날짜: 2024-02-16 00:00:00, 인덱스: 15, 확보가능공기:14.0\n",
      ">>>[검토] 베드명:G, 공백순서1인덱스의날짜: 2024-02-16 00:00:00, 인덱스: 15, 확보가능공기:14.0\n",
      "*** 최선조기착수 가능베드:2024-02-11 00:00:00 ---> ['D']\n",
      "\n",
      "* 베드명:D,  가능중량:100, 길이리스트:[15, 15, 10, 10], 면적리스트:[150]\n",
      ">>>[검토]D베드의 면적_최장길이 적합도 함수 체크\n",
      ">>>[검토]베드 D의 면적/사이즈 배치가능 여부:['적합'] / 베드가능중량:100 베드면적리스트:[150], 길이리스트:[15, 15, 10, 10]\n",
      "\n",
      "*** 물리적 스펙 가능 베드: ['D']\n",
      "\n",
      "***  정상배치 최종배정결과 : {'엔진명': 'S10', '베드명': 'D', '착수일': '2024-02-11'}\n",
      "================================================================================\n",
      "\n",
      "(엔진배치후) 수정엔진리스트 : ['S2', 'S24', 'S8', 'S27', 'S17', 'S14', 'S26']\n",
      "\n",
      "*** 타겟엔진-name:S2,weight:56,size:40,길이리스트:[8, 8, 5, 5],최장길이:8,최소길이:5,최소착수요구일:2024-02-06,표준공기:4\n",
      "\n",
      ">>>[검토] 베드명:A, 공백순서1인덱스의날짜: 2024-02-17 00:00:00, 인덱스: 16, 확보가능공기:13.0\n",
      ">>>[검토] 베드명:B, 공백순서1인덱스의날짜: 2024-02-16 00:00:00, 인덱스: 15, 확보가능공기:14.0\n",
      ">>>[검토] 베드명:C, 공백순서1인덱스의날짜: 2024-02-16 00:00:00, 인덱스: 15, 확보가능공기:14.0\n",
      ">>>[검토] 베드명:D, 공백순서1인덱스의날짜: 2024-02-15 00:00:00, 인덱스: 14, 확보가능공기:15.0\n",
      ">>>[검토] 베드명:E, 공백순서1인덱스의날짜: 2024-02-17 00:00:00, 인덱스: 16, 확보가능공기:13.0\n",
      ">>>[검토] 베드명:F, 공백순서1인덱스의날짜: 2024-02-16 00:00:00, 인덱스: 15, 확보가능공기:14.0\n",
      ">>>[검토] 베드명:G, 공백순서1인덱스의날짜: 2024-02-16 00:00:00, 인덱스: 15, 확보가능공기:14.0\n",
      "★ 날짜 조건에 따른 배치가능한 베드이 없습니다.!!!!\n",
      "================================================================================\n"
     ]
    },
    {
     "name": "stderr",
     "output_type": "stream",
     "text": [
      "100%|█| 29/29 [00:00<00:00, 41.04"
     ]
    },
    {
     "name": "stdout",
     "output_type": "stream",
     "text": [
      "\n",
      "*** 타겟엔진-name:S24,weight:56,size:80,길이리스트:[10, 10, 8, 8],최장길이:10,최소길이:8,최소착수요구일:2024-02-16,표준공기:4\n",
      "\n",
      ">>>[검토] 베드명:A, 공백순서1인덱스의날짜: 2024-02-17 00:00:00, 인덱스: 16, 확보가능공기:13.0\n",
      ">>>[검토] 베드명:B, 공백순서1인덱스의날짜: 2024-02-16 00:00:00, 인덱스: 15, 확보가능공기:14.0\n",
      ">>>[검토] 베드명:C, 공백순서1인덱스의날짜: 2024-02-16 00:00:00, 인덱스: 15, 확보가능공기:14.0\n",
      ">>>[검토] 베드명:D, 공백순서1인덱스의날짜: 2024-02-15 00:00:00, 인덱스: 14, 확보가능공기:15.0\n",
      ">>>[검토] 베드명:E, 공백순서1인덱스의날짜: 2024-02-17 00:00:00, 인덱스: 16, 확보가능공기:13.0\n",
      ">>>[검토] 베드명:F, 공백순서1인덱스의날짜: 2024-02-16 00:00:00, 인덱스: 15, 확보가능공기:14.0\n",
      ">>>[검토] 베드명:G, 공백순서1인덱스의날짜: 2024-02-16 00:00:00, 인덱스: 15, 확보가능공기:14.0\n",
      "*** 최선조기착수 가능베드:2024-02-15 00:00:00 ---> ['D']\n",
      "\n",
      "* 베드명:D,  가능중량:100, 길이리스트:[15, 15, 10, 10], 면적리스트:[150]\n",
      ">>>[검토]D베드의 면적_최장길이 적합도 함수 체크\n",
      ">>>[검토]베드 D의 면적/사이즈 배치가능 여부:['적합'] / 베드가능중량:100 베드면적리스트:[150], 길이리스트:[15, 15, 10, 10]\n",
      "\n",
      "*** 물리적 스펙 가능 베드: ['D']\n",
      "\n",
      "***  정상배치 최종배정결과 : {'엔진명': 'S24', '베드명': 'D', '착수일': '2024-02-15'}\n",
      "================================================================================\n",
      "\n",
      "(엔진배치후) 수정엔진리스트 : ['S8', 'S27', 'S17', 'S14', 'S26']\n",
      "\n",
      "*** 타겟엔진-name:S8,weight:52,size:54,길이리스트:[9, 9, 6, 6],최장길이:9,최소길이:6,최소착수요구일:2024-02-11,표준공기:4\n",
      "\n",
      ">>>[검토] 베드명:A, 공백순서1인덱스의날짜: 2024-02-17 00:00:00, 인덱스: 16, 확보가능공기:13.0\n",
      ">>>[검토] 베드명:B, 공백순서1인덱스의날짜: 2024-02-16 00:00:00, 인덱스: 15, 확보가능공기:14.0\n",
      ">>>[검토] 베드명:C, 공백순서1인덱스의날짜: 2024-02-16 00:00:00, 인덱스: 15, 확보가능공기:14.0\n",
      ">>>[검토] 베드명:D, 공백순서1인덱스의날짜: 2024-02-19 00:00:00, 인덱스: 18, 확보가능공기:11.0\n",
      ">>>[검토] 베드명:E, 공백순서1인덱스의날짜: 2024-02-17 00:00:00, 인덱스: 16, 확보가능공기:13.0\n",
      ">>>[검토] 베드명:F, 공백순서1인덱스의날짜: 2024-02-16 00:00:00, 인덱스: 15, 확보가능공기:14.0\n",
      ">>>[검토] 베드명:G, 공백순서1인덱스의날짜: 2024-02-16 00:00:00, 인덱스: 15, 확보가능공기:14.0\n",
      "★ 날짜 조건에 따른 배치가능한 베드이 없습니다.!!!!\n",
      "================================================================================\n",
      "\n",
      "*** 타겟엔진-name:S27,weight:60,size:63,길이리스트:[9, 9, 7, 7],최장길이:9,최소길이:7,최소착수요구일:2024-02-21,표준공기:4\n",
      "\n",
      ">>>[검토] 베드명:A, 공백순서1인덱스의날짜: 2024-02-17 00:00:00, 인덱스: 16, 확보가능공기:13.0\n",
      ">>>[검토] 베드명:B, 공백순서1인덱스의날짜: 2024-02-16 00:00:00, 인덱스: 15, 확보가능공기:14.0\n",
      ">>>[검토] 베드명:C, 공백순서1인덱스의날짜: 2024-02-16 00:00:00, 인덱스: 15, 확보가능공기:14.0\n",
      ">>>[검토] 베드명:D, 공백순서1인덱스의날짜: 2024-02-19 00:00:00, 인덱스: 18, 확보가능공기:11.0\n",
      ">>>[검토] 베드명:E, 공백순서1인덱스의날짜: 2024-02-17 00:00:00, 인덱스: 16, 확보가능공기:13.0\n",
      ">>>[검토] 베드명:F, 공백순서1인덱스의날짜: 2024-02-16 00:00:00, 인덱스: 15, 확보가능공기:14.0\n",
      ">>>[검토] 베드명:G, 공백순서1인덱스의날짜: 2024-02-16 00:00:00, 인덱스: 15, 확보가능공기:14.0\n",
      "*** 최선조기착수 가능베드:2024-02-16 00:00:00 ---> ['B', 'C', 'F', 'G']\n",
      "\n",
      "* 베드명:B,  가능중량:100, 길이리스트:[20, 20, 10, 10], 면적리스트:[200]\n",
      ">>>[검토]B베드의 면적_최장길이 적합도 함수 체크\n",
      ">>>[검토]베드 B의 면적/사이즈 배치가능 여부:['적합'] / 베드가능중량:100 베드면적리스트:[200], 길이리스트:[20, 20, 10, 10]\n",
      "\n",
      "* 베드명:C,  가능중량:100, 길이리스트:[20, 20, 10, 10], 면적리스트:[200]\n",
      ">>>[검토]C베드의 면적_최장길이 적합도 함수 체크\n",
      ">>>[검토]베드 C의 면적/사이즈 배치가능 여부:['적합'] / 베드가능중량:100 베드면적리스트:[200], 길이리스트:[20, 20, 10, 10]\n",
      "\n",
      "* 베드명:F,  가능중량:100, 길이리스트:[15, 15, 10, 10], 면적리스트:[150]\n",
      ">>>[검토]F베드의 면적_최장길이 적합도 함수 체크\n",
      ">>>[검토]베드 F의 면적/사이즈 배치가능 여부:['적합'] / 베드가능중량:100 베드면적리스트:[150], 길이리스트:[15, 15, 10, 10]\n",
      "\n",
      "* 베드명:G,  가능중량:100, 길이리스트:[15, 15, 10, 10], 면적리스트:[150]\n",
      ">>>[검토]G베드의 면적_최장길이 적합도 함수 체크\n",
      ">>>[검토]베드 G의 면적/사이즈 배치가능 여부:['적합'] / 베드가능중량:100 베드면적리스트:[150], 길이리스트:[15, 15, 10, 10]\n",
      "\n",
      "*** 물리적 스펙 가능 베드: ['B', 'C', 'F', 'G']\n",
      "\n",
      "***  정상배치 최종배정결과 : {'엔진명': 'S27', '베드명': 'B', '착수일': '2024-02-16'}\n",
      "================================================================================\n",
      "\n",
      "(엔진배치후) 수정엔진리스트 : ['S17', 'S14', 'S26']\n",
      "\n",
      "*** 타겟엔진-name:S17,weight:51,size:35,길이리스트:[7, 7, 5, 5],최장길이:7,최소길이:5,최소착수요구일:2024-02-11,표준공기:4\n",
      "\n",
      ">>>[검토] 베드명:A, 공백순서1인덱스의날짜: 2024-02-17 00:00:00, 인덱스: 16, 확보가능공기:13.0\n",
      ">>>[검토] 베드명:B, 공백순서1인덱스의날짜: 2024-02-20 00:00:00, 인덱스: 19, 확보가능공기:10.0\n",
      ">>>[검토] 베드명:C, 공백순서1인덱스의날짜: 2024-02-16 00:00:00, 인덱스: 15, 확보가능공기:14.0\n",
      ">>>[검토] 베드명:D, 공백순서1인덱스의날짜: 2024-02-19 00:00:00, 인덱스: 18, 확보가능공기:11.0\n",
      ">>>[검토] 베드명:E, 공백순서1인덱스의날짜: 2024-02-17 00:00:00, 인덱스: 16, 확보가능공기:13.0\n",
      ">>>[검토] 베드명:F, 공백순서1인덱스의날짜: 2024-02-16 00:00:00, 인덱스: 15, 확보가능공기:14.0\n",
      ">>>[검토] 베드명:G, 공백순서1인덱스의날짜: 2024-02-16 00:00:00, 인덱스: 15, 확보가능공기:14.0\n",
      "★ 날짜 조건에 따른 배치가능한 베드이 없습니다.!!!!\n",
      "================================================================================\n",
      "\n",
      "*** 타겟엔진-name:S14,weight:54,size:48,길이리스트:[8, 8, 6, 6],최장길이:8,최소길이:6,최소착수요구일:2024-02-16,표준공기:4\n",
      "\n",
      ">>>[검토] 베드명:A, 공백순서1인덱스의날짜: 2024-02-17 00:00:00, 인덱스: 16, 확보가능공기:13.0\n",
      ">>>[검토] 베드명:B, 공백순서1인덱스의날짜: 2024-02-20 00:00:00, 인덱스: 19, 확보가능공기:10.0\n",
      ">>>[검토] 베드명:C, 공백순서1인덱스의날짜: 2024-02-16 00:00:00, 인덱스: 15, 확보가능공기:14.0\n",
      ">>>[검토] 베드명:D, 공백순서1인덱스의날짜: 2024-02-19 00:00:00, 인덱스: 18, 확보가능공기:11.0\n",
      ">>>[검토] 베드명:E, 공백순서1인덱스의날짜: 2024-02-17 00:00:00, 인덱스: 16, 확보가능공기:13.0\n",
      ">>>[검토] 베드명:F, 공백순서1인덱스의날짜: 2024-02-16 00:00:00, 인덱스: 15, 확보가능공기:14.0\n",
      ">>>[검토] 베드명:G, 공백순서1인덱스의날짜: 2024-02-16 00:00:00, 인덱스: 15, 확보가능공기:14.0\n",
      "*** 최선조기착수 가능베드:2024-02-16 00:00:00 ---> ['C', 'F', 'G']\n",
      "\n",
      "* 베드명:C,  가능중량:100, 길이리스트:[20, 20, 10, 10], 면적리스트:[200]\n",
      ">>>[검토]C베드의 면적_최장길이 적합도 함수 체크\n",
      ">>>[검토]베드 C의 면적/사이즈 배치가능 여부:['적합'] / 베드가능중량:100 베드면적리스트:[200], 길이리스트:[20, 20, 10, 10]\n",
      "\n",
      "* 베드명:F,  가능중량:100, 길이리스트:[15, 15, 10, 10], 면적리스트:[150]\n",
      ">>>[검토]F베드의 면적_최장길이 적합도 함수 체크\n",
      ">>>[검토]베드 F의 면적/사이즈 배치가능 여부:['적합'] / 베드가능중량:100 베드면적리스트:[150], 길이리스트:[15, 15, 10, 10]\n",
      "\n",
      "* 베드명:G,  가능중량:100, 길이리스트:[15, 15, 10, 10], 면적리스트:[150]\n",
      ">>>[검토]G베드의 면적_최장길이 적합도 함수 체크\n",
      ">>>[검토]베드 G의 면적/사이즈 배치가능 여부:['적합'] / 베드가능중량:100 베드면적리스트:[150], 길이리스트:[15, 15, 10, 10]\n",
      "\n",
      "*** 물리적 스펙 가능 베드: ['C', 'F', 'G']\n",
      "\n",
      "***  정상배치 최종배정결과 : {'엔진명': 'S14', '베드명': 'F', '착수일': '2024-02-16'}\n",
      "================================================================================\n",
      "\n",
      "(엔진배치후) 수정엔진리스트 : ['S26']\n",
      "\n",
      "*** 타겟엔진-name:S26,weight:53,size:40,길이리스트:[8, 8, 5, 5],최장길이:8,최소길이:5,최소착수요구일:2024-02-21,표준공기:4\n",
      "\n",
      ">>>[검토] 베드명:A, 공백순서1인덱스의날짜: 2024-02-17 00:00:00, 인덱스: 16, 확보가능공기:13.0\n",
      ">>>[검토] 베드명:B, 공백순서1인덱스의날짜: 2024-02-20 00:00:00, 인덱스: 19, 확보가능공기:10.0\n",
      ">>>[검토] 베드명:C, 공백순서1인덱스의날짜: 2024-02-16 00:00:00, 인덱스: 15, 확보가능공기:14.0\n",
      ">>>[검토] 베드명:D, 공백순서1인덱스의날짜: 2024-02-19 00:00:00, 인덱스: 18, 확보가능공기:11.0\n",
      ">>>[검토] 베드명:E, 공백순서1인덱스의날짜: 2024-02-17 00:00:00, 인덱스: 16, 확보가능공기:13.0\n",
      ">>>[검토] 베드명:F, 공백순서1인덱스의날짜: 2024-02-20 00:00:00, 인덱스: 19, 확보가능공기:10.0\n",
      ">>>[검토] 베드명:G, 공백순서1인덱스의날짜: 2024-02-16 00:00:00, 인덱스: 15, 확보가능공기:14.0\n",
      "*** 최선조기착수 가능베드:2024-02-16 00:00:00 ---> ['C', 'G']\n",
      "\n",
      "* 베드명:C,  가능중량:100, 길이리스트:[20, 20, 10, 10], 면적리스트:[200]\n",
      ">>>[검토]C베드의 면적_최장길이 적합도 함수 체크\n",
      ">>>[검토]베드 C의 면적/사이즈 배치가능 여부:['적합'] / 베드가능중량:100 베드면적리스트:[200], 길이리스트:[20, 20, 10, 10]\n",
      "\n",
      "* 베드명:G,  가능중량:100, 길이리스트:[15, 15, 10, 10], 면적리스트:[150]\n",
      ">>>[검토]G베드의 면적_최장길이 적합도 함수 체크\n",
      ">>>[검토]베드 G의 면적/사이즈 배치가능 여부:['적합'] / 베드가능중량:100 베드면적리스트:[150], 길이리스트:[15, 15, 10, 10]\n",
      "\n",
      "*** 물리적 스펙 가능 베드: ['C', 'G']\n",
      "\n",
      "***  정상배치 최종배정결과 : {'엔진명': 'S26', '베드명': 'G', '착수일': '2024-02-16'}\n",
      "================================================================================\n",
      "\n",
      "(엔진배치후) 수정엔진리스트 : []\n"
     ]
    },
    {
     "name": "stderr",
     "output_type": "stream",
     "text": [
      "\n"
     ]
    },
    {
     "data": {
      "text/html": [
       "<div>\n",
       "<style scoped>\n",
       "    .dataframe tbody tr th:only-of-type {\n",
       "        vertical-align: middle;\n",
       "    }\n",
       "\n",
       "    .dataframe tbody tr th {\n",
       "        vertical-align: top;\n",
       "    }\n",
       "\n",
       "    .dataframe thead th {\n",
       "        text-align: right;\n",
       "    }\n",
       "</style>\n",
       "<table border=\"1\" class=\"dataframe\">\n",
       "  <thead>\n",
       "    <tr style=\"text-align: right;\">\n",
       "      <th></th>\n",
       "      <th>엔진명</th>\n",
       "      <th>베드명</th>\n",
       "      <th>착수일</th>\n",
       "      <th>표준공기</th>\n",
       "      <th>종료일</th>\n",
       "      <th>조립중량</th>\n",
       "      <th>베드구분</th>\n",
       "    </tr>\n",
       "  </thead>\n",
       "  <tbody>\n",
       "    <tr>\n",
       "      <th>0</th>\n",
       "      <td>S9</td>\n",
       "      <td>D</td>\n",
       "      <td>2024-02-03</td>\n",
       "      <td>8</td>\n",
       "      <td>2024-02-11</td>\n",
       "      <td>52</td>\n",
       "      <td>D</td>\n",
       "    </tr>\n",
       "    <tr>\n",
       "      <th>1</th>\n",
       "      <td>S18</td>\n",
       "      <td>B</td>\n",
       "      <td>2024-02-03</td>\n",
       "      <td>8</td>\n",
       "      <td>2024-02-11</td>\n",
       "      <td>50</td>\n",
       "      <td>B</td>\n",
       "    </tr>\n",
       "    <tr>\n",
       "      <th>2</th>\n",
       "      <td>S25</td>\n",
       "      <td>F</td>\n",
       "      <td>2024-02-03</td>\n",
       "      <td>8</td>\n",
       "      <td>2024-02-11</td>\n",
       "      <td>55</td>\n",
       "      <td>F</td>\n",
       "    </tr>\n",
       "    <tr>\n",
       "      <th>3</th>\n",
       "      <td>S11</td>\n",
       "      <td>G</td>\n",
       "      <td>2024-02-03</td>\n",
       "      <td>8</td>\n",
       "      <td>2024-02-11</td>\n",
       "      <td>50</td>\n",
       "      <td>G</td>\n",
       "    </tr>\n",
       "    <tr>\n",
       "      <th>4</th>\n",
       "      <td>S28</td>\n",
       "      <td>E</td>\n",
       "      <td>2024-02-03</td>\n",
       "      <td>8</td>\n",
       "      <td>2024-02-11</td>\n",
       "      <td>58</td>\n",
       "      <td>E</td>\n",
       "    </tr>\n",
       "    <tr>\n",
       "      <th>5</th>\n",
       "      <td>S4</td>\n",
       "      <td>C</td>\n",
       "      <td>2024-02-03</td>\n",
       "      <td>7</td>\n",
       "      <td>2024-02-10</td>\n",
       "      <td>50</td>\n",
       "      <td>C</td>\n",
       "    </tr>\n",
       "    <tr>\n",
       "      <th>6</th>\n",
       "      <td>S22</td>\n",
       "      <td>A</td>\n",
       "      <td>2024-02-03</td>\n",
       "      <td>7</td>\n",
       "      <td>2024-02-10</td>\n",
       "      <td>54</td>\n",
       "      <td>A</td>\n",
       "    </tr>\n",
       "    <tr>\n",
       "      <th>7</th>\n",
       "      <td>S29</td>\n",
       "      <td>A</td>\n",
       "      <td>2024-02-10</td>\n",
       "      <td>7</td>\n",
       "      <td>2024-02-17</td>\n",
       "      <td>56</td>\n",
       "      <td>A</td>\n",
       "    </tr>\n",
       "    <tr>\n",
       "      <th>8</th>\n",
       "      <td>S23</td>\n",
       "      <td>C</td>\n",
       "      <td>2024-02-10</td>\n",
       "      <td>6</td>\n",
       "      <td>2024-02-16</td>\n",
       "      <td>51</td>\n",
       "      <td>C</td>\n",
       "    </tr>\n",
       "    <tr>\n",
       "      <th>9</th>\n",
       "      <td>S12</td>\n",
       "      <td>E</td>\n",
       "      <td>2024-02-11</td>\n",
       "      <td>6</td>\n",
       "      <td>2024-02-17</td>\n",
       "      <td>60</td>\n",
       "      <td>E</td>\n",
       "    </tr>\n",
       "    <tr>\n",
       "      <th>10</th>\n",
       "      <td>S13</td>\n",
       "      <td>B</td>\n",
       "      <td>2024-02-11</td>\n",
       "      <td>5</td>\n",
       "      <td>2024-02-16</td>\n",
       "      <td>56</td>\n",
       "      <td>B</td>\n",
       "    </tr>\n",
       "    <tr>\n",
       "      <th>11</th>\n",
       "      <td>S21</td>\n",
       "      <td>G</td>\n",
       "      <td>2024-02-11</td>\n",
       "      <td>5</td>\n",
       "      <td>2024-02-16</td>\n",
       "      <td>58</td>\n",
       "      <td>G</td>\n",
       "    </tr>\n",
       "    <tr>\n",
       "      <th>12</th>\n",
       "      <td>S15</td>\n",
       "      <td>F</td>\n",
       "      <td>2024-02-11</td>\n",
       "      <td>5</td>\n",
       "      <td>2024-02-16</td>\n",
       "      <td>60</td>\n",
       "      <td>F</td>\n",
       "    </tr>\n",
       "    <tr>\n",
       "      <th>13</th>\n",
       "      <td>S10</td>\n",
       "      <td>D</td>\n",
       "      <td>2024-02-11</td>\n",
       "      <td>4</td>\n",
       "      <td>2024-02-15</td>\n",
       "      <td>57</td>\n",
       "      <td>D</td>\n",
       "    </tr>\n",
       "    <tr>\n",
       "      <th>14</th>\n",
       "      <td>S24</td>\n",
       "      <td>D</td>\n",
       "      <td>2024-02-15</td>\n",
       "      <td>4</td>\n",
       "      <td>2024-02-19</td>\n",
       "      <td>56</td>\n",
       "      <td>D</td>\n",
       "    </tr>\n",
       "    <tr>\n",
       "      <th>15</th>\n",
       "      <td>S27</td>\n",
       "      <td>B</td>\n",
       "      <td>2024-02-16</td>\n",
       "      <td>4</td>\n",
       "      <td>2024-02-20</td>\n",
       "      <td>60</td>\n",
       "      <td>B</td>\n",
       "    </tr>\n",
       "    <tr>\n",
       "      <th>16</th>\n",
       "      <td>S14</td>\n",
       "      <td>F</td>\n",
       "      <td>2024-02-16</td>\n",
       "      <td>4</td>\n",
       "      <td>2024-02-20</td>\n",
       "      <td>54</td>\n",
       "      <td>F</td>\n",
       "    </tr>\n",
       "    <tr>\n",
       "      <th>17</th>\n",
       "      <td>S26</td>\n",
       "      <td>G</td>\n",
       "      <td>2024-02-16</td>\n",
       "      <td>4</td>\n",
       "      <td>2024-02-20</td>\n",
       "      <td>53</td>\n",
       "      <td>G</td>\n",
       "    </tr>\n",
       "  </tbody>\n",
       "</table>\n",
       "</div>"
      ],
      "text/plain": [
       "    엔진명 베드명         착수일  표준공기         종료일  조립중량 베드구분\n",
       "0    S9   D  2024-02-03     8  2024-02-11    52    D\n",
       "1   S18   B  2024-02-03     8  2024-02-11    50    B\n",
       "2   S25   F  2024-02-03     8  2024-02-11    55    F\n",
       "3   S11   G  2024-02-03     8  2024-02-11    50    G\n",
       "4   S28   E  2024-02-03     8  2024-02-11    58    E\n",
       "5    S4   C  2024-02-03     7  2024-02-10    50    C\n",
       "6   S22   A  2024-02-03     7  2024-02-10    54    A\n",
       "7   S29   A  2024-02-10     7  2024-02-17    56    A\n",
       "8   S23   C  2024-02-10     6  2024-02-16    51    C\n",
       "9   S12   E  2024-02-11     6  2024-02-17    60    E\n",
       "10  S13   B  2024-02-11     5  2024-02-16    56    B\n",
       "11  S21   G  2024-02-11     5  2024-02-16    58    G\n",
       "12  S15   F  2024-02-11     5  2024-02-16    60    F\n",
       "13  S10   D  2024-02-11     4  2024-02-15    57    D\n",
       "14  S24   D  2024-02-15     4  2024-02-19    56    D\n",
       "15  S27   B  2024-02-16     4  2024-02-20    60    B\n",
       "16  S14   F  2024-02-16     4  2024-02-20    54    F\n",
       "17  S26   G  2024-02-16     4  2024-02-20    53    G"
      ]
     },
     "execution_count": 585,
     "metadata": {},
     "output_type": "execute_result"
    },
    {
     "name": "stdout",
     "output_type": "stream",
     "text": [
      "----------------------------------------------------------------------\n",
      "    엔진명  우선순위\n",
      "9   S10   9.6\n",
      "19  S20   9.6\n",
      "15  S16  14.0\n",
      "0    S1  16.1\n",
      "24  S25  21.3\n",
      "23  S24  21.8\n",
      "8    S9  22.7\n",
      "3    S4  31.7\n",
      "17  S18  31.7\n",
      "5    S6  33.6\n",
      "4    S5  33.8\n",
      "26  S27  39.0\n",
      "6    S7  42.6\n",
      "27  S28  46.9\n",
      "7    S8  53.1\n",
      "12  S13  53.2\n",
      "20  S21  57.8\n",
      "21  S22  59.8\n",
      "13  S14  63.8\n",
      "10  S11  64.8\n",
      "14  S15  68.2\n",
      "1    S2  74.1\n",
      "22  S23  74.3\n",
      "25  S26  78.0\n",
      "11  S12  81.8\n",
      "28  S29  82.3\n",
      "16  S17  87.6\n",
      "2    S3  87.8\n",
      "18  S19  89.0\n"
     ]
    },
    {
     "name": "stderr",
     "output_type": "stream",
     "text": [
      " 14%|▏| 4/29 [00:00<00:00, 32.53i"
     ]
    },
    {
     "name": "stdout",
     "output_type": "stream",
     "text": [
      "\n",
      "*** 타겟엔진-name:S10,weight:57,size:100,길이리스트:[10, 10, 10, 10],최장길이:10,최소길이:10,최소착수요구일:2024-02-11,표준공기:4\n",
      "\n",
      ">>>[검토] 베드명:A, 공백순서1인덱스의날짜: 2024-02-03 00:00:00, 인덱스: 2, 확보가능공기:27.0\n",
      ">>>[검토] 베드명:B, 공백순서1인덱스의날짜: 2024-02-03 00:00:00, 인덱스: 2, 확보가능공기:27.0\n",
      ">>>[검토] 베드명:C, 공백순서1인덱스의날짜: 2024-02-03 00:00:00, 인덱스: 2, 확보가능공기:27.0\n",
      ">>>[검토] 베드명:D, 공백순서1인덱스의날짜: 2024-02-03 00:00:00, 인덱스: 2, 확보가능공기:27.0\n",
      ">>>[검토] 베드명:E, 공백순서1인덱스의날짜: 2024-02-03 00:00:00, 인덱스: 2, 확보가능공기:27.0\n",
      ">>>[검토] 베드명:F, 공백순서1인덱스의날짜: 2024-02-03 00:00:00, 인덱스: 2, 확보가능공기:27.0\n",
      ">>>[검토] 베드명:G, 공백순서1인덱스의날짜: 2024-02-03 00:00:00, 인덱스: 2, 확보가능공기:27.0\n",
      "*** 최선조기착수 가능베드:2024-02-03 00:00:00 ---> ['A', 'B', 'C', 'D', 'E', 'F', 'G']\n",
      "\n",
      "* 베드명:A,  가능중량:100, 길이리스트:[20, 20, 10, 10], 면적리스트:[200]\n",
      ">>>[검토]A베드의 면적_최장길이 적합도 함수 체크\n",
      ">>>[검토]베드 A의 면적/사이즈 배치가능 여부:['적합'] / 베드가능중량:100 베드면적리스트:[200], 길이리스트:[20, 20, 10, 10]\n",
      "\n",
      "* 베드명:B,  가능중량:100, 길이리스트:[20, 20, 10, 10], 면적리스트:[200]\n",
      ">>>[검토]B베드의 면적_최장길이 적합도 함수 체크\n",
      ">>>[검토]베드 B의 면적/사이즈 배치가능 여부:['적합'] / 베드가능중량:100 베드면적리스트:[200], 길이리스트:[20, 20, 10, 10]\n",
      "\n",
      "* 베드명:C,  가능중량:100, 길이리스트:[20, 20, 10, 10], 면적리스트:[200]\n",
      ">>>[검토]C베드의 면적_최장길이 적합도 함수 체크\n",
      ">>>[검토]베드 C의 면적/사이즈 배치가능 여부:['적합'] / 베드가능중량:100 베드면적리스트:[200], 길이리스트:[20, 20, 10, 10]\n",
      "\n",
      "* 베드명:D,  가능중량:100, 길이리스트:[15, 15, 10, 10], 면적리스트:[150]\n",
      ">>>[검토]D베드의 면적_최장길이 적합도 함수 체크\n",
      ">>>[검토]베드 D의 면적/사이즈 배치가능 여부:['적합'] / 베드가능중량:100 베드면적리스트:[150], 길이리스트:[15, 15, 10, 10]\n",
      "\n",
      "* 베드명:E,  가능중량:100, 길이리스트:[15, 15, 10, 10], 면적리스트:[150]\n",
      ">>>[검토]E베드의 면적_최장길이 적합도 함수 체크\n",
      ">>>[검토]베드 E의 면적/사이즈 배치가능 여부:['적합'] / 베드가능중량:100 베드면적리스트:[150], 길이리스트:[15, 15, 10, 10]\n",
      "\n",
      "* 베드명:F,  가능중량:100, 길이리스트:[15, 15, 10, 10], 면적리스트:[150]\n",
      ">>>[검토]F베드의 면적_최장길이 적합도 함수 체크\n",
      ">>>[검토]베드 F의 면적/사이즈 배치가능 여부:['적합'] / 베드가능중량:100 베드면적리스트:[150], 길이리스트:[15, 15, 10, 10]\n",
      "\n",
      "* 베드명:G,  가능중량:100, 길이리스트:[15, 15, 10, 10], 면적리스트:[150]\n",
      ">>>[검토]G베드의 면적_최장길이 적합도 함수 체크\n",
      ">>>[검토]베드 G의 면적/사이즈 배치가능 여부:['적합'] / 베드가능중량:100 베드면적리스트:[150], 길이리스트:[15, 15, 10, 10]\n",
      "\n",
      "*** 물리적 스펙 가능 베드: ['A', 'B', 'C', 'D', 'E', 'F', 'G']\n",
      "\n",
      "***  정상배치 최종배정결과 : {'엔진명': 'S10', '베드명': 'D', '착수일': '2024-02-03'}\n",
      "================================================================================\n",
      "\n",
      "(엔진배치후) 수정엔진리스트 : ['S20', 'S16', 'S1', 'S25', 'S24', 'S9', 'S4', 'S18', 'S6', 'S5', 'S27', 'S7', 'S28', 'S8', 'S13', 'S21', 'S22', 'S14', 'S11', 'S15', 'S2', 'S23', 'S26', 'S12', 'S29', 'S17', 'S3', 'S19']\n",
      "\n",
      "*** 타겟엔진-name:S20,weight:59,size:90,길이리스트:[10, 10, 9, 9],최장길이:10,최소길이:9,최소착수요구일:2024-02-09,표준공기:6\n",
      "\n",
      ">>>[검토] 베드명:A, 공백순서1인덱스의날짜: 2024-02-03 00:00:00, 인덱스: 2, 확보가능공기:27.0\n",
      ">>>[검토] 베드명:B, 공백순서1인덱스의날짜: 2024-02-03 00:00:00, 인덱스: 2, 확보가능공기:27.0\n",
      ">>>[검토] 베드명:C, 공백순서1인덱스의날짜: 2024-02-03 00:00:00, 인덱스: 2, 확보가능공기:27.0\n",
      ">>>[검토] 베드명:D, 공백순서1인덱스의날짜: 2024-02-07 00:00:00, 인덱스: 6, 확보가능공기:23.0\n",
      ">>>[검토] 베드명:E, 공백순서1인덱스의날짜: 2024-02-03 00:00:00, 인덱스: 2, 확보가능공기:27.0\n",
      ">>>[검토] 베드명:F, 공백순서1인덱스의날짜: 2024-02-03 00:00:00, 인덱스: 2, 확보가능공기:27.0\n",
      ">>>[검토] 베드명:G, 공백순서1인덱스의날짜: 2024-02-03 00:00:00, 인덱스: 2, 확보가능공기:27.0\n",
      "*** 최선조기착수 가능베드:2024-02-03 00:00:00 ---> ['A', 'B', 'C', 'E', 'F', 'G']\n",
      "\n",
      "* 베드명:A,  가능중량:100, 길이리스트:[20, 20, 10, 10], 면적리스트:[200]\n",
      ">>>[검토]A베드의 면적_최장길이 적합도 함수 체크\n",
      ">>>[검토]베드 A의 면적/사이즈 배치가능 여부:['적합'] / 베드가능중량:100 베드면적리스트:[200], 길이리스트:[20, 20, 10, 10]\n",
      "\n",
      "* 베드명:B,  가능중량:100, 길이리스트:[20, 20, 10, 10], 면적리스트:[200]\n",
      ">>>[검토]B베드의 면적_최장길이 적합도 함수 체크\n",
      ">>>[검토]베드 B의 면적/사이즈 배치가능 여부:['적합'] / 베드가능중량:100 베드면적리스트:[200], 길이리스트:[20, 20, 10, 10]\n",
      "\n",
      "* 베드명:C,  가능중량:100, 길이리스트:[20, 20, 10, 10], 면적리스트:[200]\n",
      ">>>[검토]C베드의 면적_최장길이 적합도 함수 체크\n",
      ">>>[검토]베드 C의 면적/사이즈 배치가능 여부:['적합'] / 베드가능중량:100 베드면적리스트:[200], 길이리스트:[20, 20, 10, 10]\n",
      "\n",
      "* 베드명:E,  가능중량:100, 길이리스트:[15, 15, 10, 10], 면적리스트:[150]\n",
      ">>>[검토]E베드의 면적_최장길이 적합도 함수 체크\n",
      ">>>[검토]베드 E의 면적/사이즈 배치가능 여부:['적합'] / 베드가능중량:100 베드면적리스트:[150], 길이리스트:[15, 15, 10, 10]\n",
      "\n",
      "* 베드명:F,  가능중량:100, 길이리스트:[15, 15, 10, 10], 면적리스트:[150]\n",
      ">>>[검토]F베드의 면적_최장길이 적합도 함수 체크\n",
      ">>>[검토]베드 F의 면적/사이즈 배치가능 여부:['적합'] / 베드가능중량:100 베드면적리스트:[150], 길이리스트:[15, 15, 10, 10]\n",
      "\n",
      "* 베드명:G,  가능중량:100, 길이리스트:[15, 15, 10, 10], 면적리스트:[150]\n",
      ">>>[검토]G베드의 면적_최장길이 적합도 함수 체크\n",
      ">>>[검토]베드 G의 면적/사이즈 배치가능 여부:['적합'] / 베드가능중량:100 베드면적리스트:[150], 길이리스트:[15, 15, 10, 10]\n",
      "\n",
      "*** 물리적 스펙 가능 베드: ['A', 'B', 'C', 'E', 'F', 'G']\n",
      "\n",
      "***  정상배치 최종배정결과 : {'엔진명': 'S20', '베드명': 'C', '착수일': '2024-02-03'}\n",
      "================================================================================\n",
      "\n",
      "(엔진배치후) 수정엔진리스트 : ['S16', 'S1', 'S25', 'S24', 'S9', 'S4', 'S18', 'S6', 'S5', 'S27', 'S7', 'S28', 'S8', 'S13', 'S21', 'S22', 'S14', 'S11', 'S15', 'S2', 'S23', 'S26', 'S12', 'S29', 'S17', 'S3', 'S19']\n",
      "\n",
      "*** 타겟엔진-name:S16,weight:56,size:81,길이리스트:[9, 9, 9, 9],최장길이:9,최소길이:9,최소착수요구일:2024-02-10,표준공기:5\n",
      "\n",
      ">>>[검토] 베드명:A, 공백순서1인덱스의날짜: 2024-02-03 00:00:00, 인덱스: 2, 확보가능공기:27.0\n",
      ">>>[검토] 베드명:B, 공백순서1인덱스의날짜: 2024-02-03 00:00:00, 인덱스: 2, 확보가능공기:27.0\n",
      ">>>[검토] 베드명:C, 공백순서1인덱스의날짜: 2024-02-09 00:00:00, 인덱스: 8, 확보가능공기:21.0\n",
      ">>>[검토] 베드명:D, 공백순서1인덱스의날짜: 2024-02-07 00:00:00, 인덱스: 6, 확보가능공기:23.0\n",
      ">>>[검토] 베드명:E, 공백순서1인덱스의날짜: 2024-02-03 00:00:00, 인덱스: 2, 확보가능공기:27.0\n",
      ">>>[검토] 베드명:F, 공백순서1인덱스의날짜: 2024-02-03 00:00:00, 인덱스: 2, 확보가능공기:27.0\n",
      ">>>[검토] 베드명:G, 공백순서1인덱스의날짜: 2024-02-03 00:00:00, 인덱스: 2, 확보가능공기:27.0\n",
      "*** 최선조기착수 가능베드:2024-02-03 00:00:00 ---> ['A', 'B', 'E', 'F', 'G']\n",
      "\n",
      "* 베드명:A,  가능중량:100, 길이리스트:[20, 20, 10, 10], 면적리스트:[200]\n",
      ">>>[검토]A베드의 면적_최장길이 적합도 함수 체크\n",
      ">>>[검토]베드 A의 면적/사이즈 배치가능 여부:['적합'] / 베드가능중량:100 베드면적리스트:[200], 길이리스트:[20, 20, 10, 10]\n",
      "\n",
      "* 베드명:B,  가능중량:100, 길이리스트:[20, 20, 10, 10], 면적리스트:[200]\n",
      ">>>[검토]B베드의 면적_최장길이 적합도 함수 체크\n",
      ">>>[검토]베드 B의 면적/사이즈 배치가능 여부:['적합'] / 베드가능중량:100 베드면적리스트:[200], 길이리스트:[20, 20, 10, 10]\n",
      "\n",
      "* 베드명:E,  가능중량:100, 길이리스트:[15, 15, 10, 10], 면적리스트:[150]\n",
      ">>>[검토]E베드의 면적_최장길이 적합도 함수 체크\n",
      ">>>[검토]베드 E의 면적/사이즈 배치가능 여부:['적합'] / 베드가능중량:100 베드면적리스트:[150], 길이리스트:[15, 15, 10, 10]\n",
      "\n",
      "* 베드명:F,  가능중량:100, 길이리스트:[15, 15, 10, 10], 면적리스트:[150]\n",
      ">>>[검토]F베드의 면적_최장길이 적합도 함수 체크\n",
      ">>>[검토]베드 F의 면적/사이즈 배치가능 여부:['적합'] / 베드가능중량:100 베드면적리스트:[150], 길이리스트:[15, 15, 10, 10]\n",
      "\n",
      "* 베드명:G,  가능중량:100, 길이리스트:[15, 15, 10, 10], 면적리스트:[150]\n",
      ">>>[검토]G베드의 면적_최장길이 적합도 함수 체크\n",
      ">>>[검토]베드 G의 면적/사이즈 배치가능 여부:['적합'] / 베드가능중량:100 베드면적리스트:[150], 길이리스트:[15, 15, 10, 10]\n",
      "\n",
      "*** 물리적 스펙 가능 베드: ['A', 'B', 'E', 'F', 'G']\n",
      "\n",
      "***  정상배치 최종배정결과 : {'엔진명': 'S16', '베드명': 'F', '착수일': '2024-02-03'}\n",
      "================================================================================\n",
      "\n",
      "(엔진배치후) 수정엔진리스트 : ['S1', 'S25', 'S24', 'S9', 'S4', 'S18', 'S6', 'S5', 'S27', 'S7', 'S28', 'S8', 'S13', 'S21', 'S22', 'S14', 'S11', 'S15', 'S2', 'S23', 'S26', 'S12', 'S29', 'S17', 'S3', 'S19']\n",
      "\n",
      "*** 타겟엔진-name:S1,weight:50,size:80,길이리스트:[10, 10, 8, 8],최장길이:10,최소길이:8,최소착수요구일:2024-02-04,표준공기:6\n",
      "\n",
      ">>>[검토] 베드명:A, 공백순서1인덱스의날짜: 2024-02-03 00:00:00, 인덱스: 2, 확보가능공기:27.0\n",
      ">>>[검토] 베드명:B, 공백순서1인덱스의날짜: 2024-02-03 00:00:00, 인덱스: 2, 확보가능공기:27.0\n",
      ">>>[검토] 베드명:C, 공백순서1인덱스의날짜: 2024-02-09 00:00:00, 인덱스: 8, 확보가능공기:21.0\n",
      ">>>[검토] 베드명:D, 공백순서1인덱스의날짜: 2024-02-07 00:00:00, 인덱스: 6, 확보가능공기:23.0\n",
      ">>>[검토] 베드명:E, 공백순서1인덱스의날짜: 2024-02-03 00:00:00, 인덱스: 2, 확보가능공기:27.0\n",
      ">>>[검토] 베드명:F, 공백순서1인덱스의날짜: 2024-02-08 00:00:00, 인덱스: 7, 확보가능공기:22.0\n",
      ">>>[검토] 베드명:G, 공백순서1인덱스의날짜: 2024-02-03 00:00:00, 인덱스: 2, 확보가능공기:27.0\n",
      "*** 최선조기착수 가능베드:2024-02-03 00:00:00 ---> ['A', 'B', 'E', 'G']\n",
      "\n",
      "* 베드명:A,  가능중량:100, 길이리스트:[20, 20, 10, 10], 면적리스트:[200]\n",
      ">>>[검토]A베드의 면적_최장길이 적합도 함수 체크\n",
      ">>>[검토]베드 A의 면적/사이즈 배치가능 여부:['적합'] / 베드가능중량:100 베드면적리스트:[200], 길이리스트:[20, 20, 10, 10]\n",
      "\n",
      "* 베드명:B,  가능중량:100, 길이리스트:[20, 20, 10, 10], 면적리스트:[200]\n",
      ">>>[검토]B베드의 면적_최장길이 적합도 함수 체크\n",
      ">>>[검토]베드 B의 면적/사이즈 배치가능 여부:['적합'] / 베드가능중량:100 베드면적리스트:[200], 길이리스트:[20, 20, 10, 10]\n",
      "\n",
      "* 베드명:E,  가능중량:100, 길이리스트:[15, 15, 10, 10], 면적리스트:[150]\n",
      ">>>[검토]E베드의 면적_최장길이 적합도 함수 체크\n",
      ">>>[검토]베드 E의 면적/사이즈 배치가능 여부:['적합'] / 베드가능중량:100 베드면적리스트:[150], 길이리스트:[15, 15, 10, 10]\n",
      "\n",
      "* 베드명:G,  가능중량:100, 길이리스트:[15, 15, 10, 10], 면적리스트:[150]\n",
      ">>>[검토]G베드의 면적_최장길이 적합도 함수 체크\n",
      ">>>[검토]베드 G의 면적/사이즈 배치가능 여부:['적합'] / 베드가능중량:100 베드면적리스트:[150], 길이리스트:[15, 15, 10, 10]\n",
      "\n",
      "*** 물리적 스펙 가능 베드: ['A', 'B', 'E', 'G']\n",
      "\n",
      "***  정상배치 최종배정결과 : {'엔진명': 'S1', '베드명': 'B', '착수일': '2024-02-03'}\n",
      "================================================================================\n",
      "\n",
      "(엔진배치후) 수정엔진리스트 : ['S25', 'S24', 'S9', 'S4', 'S18', 'S6', 'S5', 'S27', 'S7', 'S28', 'S8', 'S13', 'S21', 'S22', 'S14', 'S11', 'S15', 'S2', 'S23', 'S26', 'S12', 'S29', 'S17', 'S3', 'S19']\n"
     ]
    },
    {
     "name": "stderr",
     "output_type": "stream",
     "text": [
      "\r",
      " 28%|▎| 8/29 [00:00<00:00, 36.04i"
     ]
    },
    {
     "name": "stdout",
     "output_type": "stream",
     "text": [
      "\n",
      "*** 타겟엔진-name:S25,weight:55,size:72,길이리스트:[9, 9, 8, 8],최장길이:9,최소길이:8,최소착수요구일:2024-02-12,표준공기:8\n",
      "\n",
      ">>>[검토] 베드명:A, 공백순서1인덱스의날짜: 2024-02-03 00:00:00, 인덱스: 2, 확보가능공기:27.0\n",
      ">>>[검토] 베드명:B, 공백순서1인덱스의날짜: 2024-02-09 00:00:00, 인덱스: 8, 확보가능공기:21.0\n",
      ">>>[검토] 베드명:C, 공백순서1인덱스의날짜: 2024-02-09 00:00:00, 인덱스: 8, 확보가능공기:21.0\n",
      ">>>[검토] 베드명:D, 공백순서1인덱스의날짜: 2024-02-07 00:00:00, 인덱스: 6, 확보가능공기:23.0\n",
      ">>>[검토] 베드명:E, 공백순서1인덱스의날짜: 2024-02-03 00:00:00, 인덱스: 2, 확보가능공기:27.0\n",
      ">>>[검토] 베드명:F, 공백순서1인덱스의날짜: 2024-02-08 00:00:00, 인덱스: 7, 확보가능공기:22.0\n",
      ">>>[검토] 베드명:G, 공백순서1인덱스의날짜: 2024-02-03 00:00:00, 인덱스: 2, 확보가능공기:27.0\n",
      "*** 최선조기착수 가능베드:2024-02-03 00:00:00 ---> ['A', 'E', 'G']\n",
      "\n",
      "* 베드명:A,  가능중량:100, 길이리스트:[20, 20, 10, 10], 면적리스트:[200]\n",
      ">>>[검토]A베드의 면적_최장길이 적합도 함수 체크\n",
      ">>>[검토]베드 A의 면적/사이즈 배치가능 여부:['적합'] / 베드가능중량:100 베드면적리스트:[200], 길이리스트:[20, 20, 10, 10]\n",
      "\n",
      "* 베드명:E,  가능중량:100, 길이리스트:[15, 15, 10, 10], 면적리스트:[150]\n",
      ">>>[검토]E베드의 면적_최장길이 적합도 함수 체크\n",
      ">>>[검토]베드 E의 면적/사이즈 배치가능 여부:['적합'] / 베드가능중량:100 베드면적리스트:[150], 길이리스트:[15, 15, 10, 10]\n",
      "\n",
      "* 베드명:G,  가능중량:100, 길이리스트:[15, 15, 10, 10], 면적리스트:[150]\n",
      ">>>[검토]G베드의 면적_최장길이 적합도 함수 체크\n",
      ">>>[검토]베드 G의 면적/사이즈 배치가능 여부:['적합'] / 베드가능중량:100 베드면적리스트:[150], 길이리스트:[15, 15, 10, 10]\n",
      "\n",
      "*** 물리적 스펙 가능 베드: ['A', 'E', 'G']\n",
      "\n",
      "***  정상배치 최종배정결과 : {'엔진명': 'S25', '베드명': 'E', '착수일': '2024-02-03'}\n",
      "================================================================================\n",
      "\n",
      "(엔진배치후) 수정엔진리스트 : ['S24', 'S9', 'S4', 'S18', 'S6', 'S5', 'S27', 'S7', 'S28', 'S8', 'S13', 'S21', 'S22', 'S14', 'S11', 'S15', 'S2', 'S23', 'S26', 'S12', 'S29', 'S17', 'S3', 'S19']\n",
      "\n",
      "*** 타겟엔진-name:S24,weight:56,size:80,길이리스트:[10, 10, 8, 8],최장길이:10,최소길이:8,최소착수요구일:2024-02-16,표준공기:4\n",
      "\n",
      ">>>[검토] 베드명:A, 공백순서1인덱스의날짜: 2024-02-03 00:00:00, 인덱스: 2, 확보가능공기:27.0\n",
      ">>>[검토] 베드명:B, 공백순서1인덱스의날짜: 2024-02-09 00:00:00, 인덱스: 8, 확보가능공기:21.0\n",
      ">>>[검토] 베드명:C, 공백순서1인덱스의날짜: 2024-02-09 00:00:00, 인덱스: 8, 확보가능공기:21.0\n",
      ">>>[검토] 베드명:D, 공백순서1인덱스의날짜: 2024-02-07 00:00:00, 인덱스: 6, 확보가능공기:23.0\n",
      ">>>[검토] 베드명:E, 공백순서1인덱스의날짜: 2024-02-11 00:00:00, 인덱스: 10, 확보가능공기:19.0\n",
      ">>>[검토] 베드명:F, 공백순서1인덱스의날짜: 2024-02-08 00:00:00, 인덱스: 7, 확보가능공기:22.0\n",
      ">>>[검토] 베드명:G, 공백순서1인덱스의날짜: 2024-02-03 00:00:00, 인덱스: 2, 확보가능공기:27.0\n",
      "*** 최선조기착수 가능베드:2024-02-03 00:00:00 ---> ['A', 'G']\n",
      "\n",
      "* 베드명:A,  가능중량:100, 길이리스트:[20, 20, 10, 10], 면적리스트:[200]\n",
      ">>>[검토]A베드의 면적_최장길이 적합도 함수 체크\n",
      ">>>[검토]베드 A의 면적/사이즈 배치가능 여부:['적합'] / 베드가능중량:100 베드면적리스트:[200], 길이리스트:[20, 20, 10, 10]\n",
      "\n",
      "* 베드명:G,  가능중량:100, 길이리스트:[15, 15, 10, 10], 면적리스트:[150]\n",
      ">>>[검토]G베드의 면적_최장길이 적합도 함수 체크\n",
      ">>>[검토]베드 G의 면적/사이즈 배치가능 여부:['적합'] / 베드가능중량:100 베드면적리스트:[150], 길이리스트:[15, 15, 10, 10]\n",
      "\n",
      "*** 물리적 스펙 가능 베드: ['A', 'G']\n",
      "\n",
      "***  정상배치 최종배정결과 : {'엔진명': 'S24', '베드명': 'A', '착수일': '2024-02-03'}\n",
      "================================================================================\n",
      "\n",
      "(엔진배치후) 수정엔진리스트 : ['S9', 'S4', 'S18', 'S6', 'S5', 'S27', 'S7', 'S28', 'S8', 'S13', 'S21', 'S22', 'S14', 'S11', 'S15', 'S2', 'S23', 'S26', 'S12', 'S29', 'S17', 'S3', 'S19']\n",
      "\n",
      "*** 타겟엔진-name:S9,weight:52,size:70,길이리스트:[10, 10, 7, 7],최장길이:10,최소길이:7,최소착수요구일:2024-02-07,표준공기:8\n",
      "\n",
      ">>>[검토] 베드명:A, 공백순서1인덱스의날짜: 2024-02-07 00:00:00, 인덱스: 6, 확보가능공기:23.0\n",
      ">>>[검토] 베드명:B, 공백순서1인덱스의날짜: 2024-02-09 00:00:00, 인덱스: 8, 확보가능공기:21.0\n",
      ">>>[검토] 베드명:C, 공백순서1인덱스의날짜: 2024-02-09 00:00:00, 인덱스: 8, 확보가능공기:21.0\n",
      ">>>[검토] 베드명:D, 공백순서1인덱스의날짜: 2024-02-07 00:00:00, 인덱스: 6, 확보가능공기:23.0\n",
      ">>>[검토] 베드명:E, 공백순서1인덱스의날짜: 2024-02-11 00:00:00, 인덱스: 10, 확보가능공기:19.0\n",
      ">>>[검토] 베드명:F, 공백순서1인덱스의날짜: 2024-02-08 00:00:00, 인덱스: 7, 확보가능공기:22.0\n",
      ">>>[검토] 베드명:G, 공백순서1인덱스의날짜: 2024-02-03 00:00:00, 인덱스: 2, 확보가능공기:27.0\n",
      "*** 최선조기착수 가능베드:2024-02-03 00:00:00 ---> ['G']\n",
      "\n",
      "* 베드명:G,  가능중량:100, 길이리스트:[15, 15, 10, 10], 면적리스트:[150]\n",
      ">>>[검토]G베드의 면적_최장길이 적합도 함수 체크\n",
      ">>>[검토]베드 G의 면적/사이즈 배치가능 여부:['적합'] / 베드가능중량:100 베드면적리스트:[150], 길이리스트:[15, 15, 10, 10]\n",
      "\n",
      "*** 물리적 스펙 가능 베드: ['G']\n",
      "\n",
      "***  정상배치 최종배정결과 : {'엔진명': 'S9', '베드명': 'G', '착수일': '2024-02-03'}\n",
      "================================================================================\n",
      "\n",
      "(엔진배치후) 수정엔진리스트 : ['S4', 'S18', 'S6', 'S5', 'S27', 'S7', 'S28', 'S8', 'S13', 'S21', 'S22', 'S14', 'S11', 'S15', 'S2', 'S23', 'S26', 'S12', 'S29', 'S17', 'S3', 'S19']\n",
      "\n",
      "*** 타겟엔진-name:S4,weight:50,size:63,길이리스트:[9, 9, 7, 7],최장길이:9,최소길이:7,최소착수요구일:2024-02-03,표준공기:7\n",
      "\n",
      ">>>[검토] 베드명:A, 공백순서1인덱스의날짜: 2024-02-07 00:00:00, 인덱스: 6, 확보가능공기:23.0\n",
      ">>>[검토] 베드명:B, 공백순서1인덱스의날짜: 2024-02-09 00:00:00, 인덱스: 8, 확보가능공기:21.0\n",
      ">>>[검토] 베드명:C, 공백순서1인덱스의날짜: 2024-02-09 00:00:00, 인덱스: 8, 확보가능공기:21.0\n",
      ">>>[검토] 베드명:D, 공백순서1인덱스의날짜: 2024-02-07 00:00:00, 인덱스: 6, 확보가능공기:23.0\n",
      ">>>[검토] 베드명:E, 공백순서1인덱스의날짜: 2024-02-11 00:00:00, 인덱스: 10, 확보가능공기:19.0\n",
      ">>>[검토] 베드명:F, 공백순서1인덱스의날짜: 2024-02-08 00:00:00, 인덱스: 7, 확보가능공기:22.0\n",
      ">>>[검토] 베드명:G, 공백순서1인덱스의날짜: 2024-02-11 00:00:00, 인덱스: 10, 확보가능공기:19.0\n",
      "★ 날짜 조건에 따른 배치가능한 베드이 없습니다.!!!!\n",
      "================================================================================\n"
     ]
    },
    {
     "name": "stderr",
     "output_type": "stream",
     "text": [
      "\r",
      " 41%|▍| 12/29 [00:00<00:00, 35.89"
     ]
    },
    {
     "name": "stdout",
     "output_type": "stream",
     "text": [
      "\n",
      "*** 타겟엔진-name:S18,weight:50,size:63,길이리스트:[9, 9, 7, 7],최장길이:9,최소길이:7,최소착수요구일:2024-02-07,표준공기:8\n",
      "\n",
      ">>>[검토] 베드명:A, 공백순서1인덱스의날짜: 2024-02-07 00:00:00, 인덱스: 6, 확보가능공기:23.0\n",
      ">>>[검토] 베드명:B, 공백순서1인덱스의날짜: 2024-02-09 00:00:00, 인덱스: 8, 확보가능공기:21.0\n",
      ">>>[검토] 베드명:C, 공백순서1인덱스의날짜: 2024-02-09 00:00:00, 인덱스: 8, 확보가능공기:21.0\n",
      ">>>[검토] 베드명:D, 공백순서1인덱스의날짜: 2024-02-07 00:00:00, 인덱스: 6, 확보가능공기:23.0\n",
      ">>>[검토] 베드명:E, 공백순서1인덱스의날짜: 2024-02-11 00:00:00, 인덱스: 10, 확보가능공기:19.0\n",
      ">>>[검토] 베드명:F, 공백순서1인덱스의날짜: 2024-02-08 00:00:00, 인덱스: 7, 확보가능공기:22.0\n",
      ">>>[검토] 베드명:G, 공백순서1인덱스의날짜: 2024-02-11 00:00:00, 인덱스: 10, 확보가능공기:19.0\n",
      "*** 최선조기착수 가능베드:2024-02-07 00:00:00 ---> ['A', 'D']\n",
      "\n",
      "* 베드명:A,  가능중량:100, 길이리스트:[20, 20, 10, 10], 면적리스트:[200]\n",
      ">>>[검토]A베드의 면적_최장길이 적합도 함수 체크\n",
      ">>>[검토]베드 A의 면적/사이즈 배치가능 여부:['적합'] / 베드가능중량:100 베드면적리스트:[200], 길이리스트:[20, 20, 10, 10]\n",
      "\n",
      "* 베드명:D,  가능중량:100, 길이리스트:[15, 15, 10, 10], 면적리스트:[150]\n",
      ">>>[검토]D베드의 면적_최장길이 적합도 함수 체크\n",
      ">>>[검토]베드 D의 면적/사이즈 배치가능 여부:['적합'] / 베드가능중량:100 베드면적리스트:[150], 길이리스트:[15, 15, 10, 10]\n",
      "\n",
      "*** 물리적 스펙 가능 베드: ['A', 'D']\n",
      "\n",
      "***  정상배치 최종배정결과 : {'엔진명': 'S18', '베드명': 'D', '착수일': '2024-02-07'}\n",
      "================================================================================\n",
      "\n",
      "(엔진배치후) 수정엔진리스트 : ['S6', 'S5', 'S27', 'S7', 'S28', 'S8', 'S13', 'S21', 'S22', 'S14', 'S11', 'S15', 'S2', 'S23', 'S26', 'S12', 'S29', 'S17', 'S3', 'S19']\n",
      "\n",
      "*** 타겟엔진-name:S6,weight:59,size:63,길이리스트:[9, 9, 7, 7],최장길이:9,최소길이:7,최소착수요구일:2024-02-09,표준공기:6\n",
      "\n",
      ">>>[검토] 베드명:A, 공백순서1인덱스의날짜: 2024-02-07 00:00:00, 인덱스: 6, 확보가능공기:23.0\n",
      ">>>[검토] 베드명:B, 공백순서1인덱스의날짜: 2024-02-09 00:00:00, 인덱스: 8, 확보가능공기:21.0\n",
      ">>>[검토] 베드명:C, 공백순서1인덱스의날짜: 2024-02-09 00:00:00, 인덱스: 8, 확보가능공기:21.0\n",
      ">>>[검토] 베드명:D, 공백순서1인덱스의날짜: 2024-02-15 00:00:00, 인덱스: 14, 확보가능공기:15.0\n",
      ">>>[검토] 베드명:E, 공백순서1인덱스의날짜: 2024-02-11 00:00:00, 인덱스: 10, 확보가능공기:19.0\n",
      ">>>[검토] 베드명:F, 공백순서1인덱스의날짜: 2024-02-08 00:00:00, 인덱스: 7, 확보가능공기:22.0\n",
      ">>>[검토] 베드명:G, 공백순서1인덱스의날짜: 2024-02-11 00:00:00, 인덱스: 10, 확보가능공기:19.0\n",
      "*** 최선조기착수 가능베드:2024-02-07 00:00:00 ---> ['A']\n",
      "\n",
      "* 베드명:A,  가능중량:100, 길이리스트:[20, 20, 10, 10], 면적리스트:[200]\n",
      ">>>[검토]A베드의 면적_최장길이 적합도 함수 체크\n",
      ">>>[검토]베드 A의 면적/사이즈 배치가능 여부:['적합'] / 베드가능중량:100 베드면적리스트:[200], 길이리스트:[20, 20, 10, 10]\n",
      "\n",
      "*** 물리적 스펙 가능 베드: ['A']\n",
      "\n",
      "***  정상배치 최종배정결과 : {'엔진명': 'S6', '베드명': 'A', '착수일': '2024-02-07'}\n",
      "================================================================================\n",
      "\n",
      "(엔진배치후) 수정엔진리스트 : ['S5', 'S27', 'S7', 'S28', 'S8', 'S13', 'S21', 'S22', 'S14', 'S11', 'S15', 'S2', 'S23', 'S26', 'S12', 'S29', 'S17', 'S3', 'S19']\n",
      "\n",
      "*** 타겟엔진-name:S5,weight:57,size:63,길이리스트:[9, 9, 7, 7],최장길이:9,최소길이:7,최소착수요구일:2024-02-05,표준공기:5\n",
      "\n",
      ">>>[검토] 베드명:A, 공백순서1인덱스의날짜: 2024-02-13 00:00:00, 인덱스: 12, 확보가능공기:17.0\n",
      ">>>[검토] 베드명:B, 공백순서1인덱스의날짜: 2024-02-09 00:00:00, 인덱스: 8, 확보가능공기:21.0\n",
      ">>>[검토] 베드명:C, 공백순서1인덱스의날짜: 2024-02-09 00:00:00, 인덱스: 8, 확보가능공기:21.0\n",
      ">>>[검토] 베드명:D, 공백순서1인덱스의날짜: 2024-02-15 00:00:00, 인덱스: 14, 확보가능공기:15.0\n",
      ">>>[검토] 베드명:E, 공백순서1인덱스의날짜: 2024-02-11 00:00:00, 인덱스: 10, 확보가능공기:19.0\n",
      ">>>[검토] 베드명:F, 공백순서1인덱스의날짜: 2024-02-08 00:00:00, 인덱스: 7, 확보가능공기:22.0\n",
      ">>>[검토] 베드명:G, 공백순서1인덱스의날짜: 2024-02-11 00:00:00, 인덱스: 10, 확보가능공기:19.0\n",
      "★ 날짜 조건에 따른 배치가능한 베드이 없습니다.!!!!\n",
      "================================================================================\n",
      "\n",
      "*** 타겟엔진-name:S27,weight:60,size:63,길이리스트:[9, 9, 7, 7],최장길이:9,최소길이:7,최소착수요구일:2024-02-21,표준공기:4\n",
      "\n",
      ">>>[검토] 베드명:A, 공백순서1인덱스의날짜: 2024-02-13 00:00:00, 인덱스: 12, 확보가능공기:17.0\n",
      ">>>[검토] 베드명:B, 공백순서1인덱스의날짜: 2024-02-09 00:00:00, 인덱스: 8, 확보가능공기:21.0\n",
      ">>>[검토] 베드명:C, 공백순서1인덱스의날짜: 2024-02-09 00:00:00, 인덱스: 8, 확보가능공기:21.0\n",
      ">>>[검토] 베드명:D, 공백순서1인덱스의날짜: 2024-02-15 00:00:00, 인덱스: 14, 확보가능공기:15.0\n",
      ">>>[검토] 베드명:E, 공백순서1인덱스의날짜: 2024-02-11 00:00:00, 인덱스: 10, 확보가능공기:19.0\n",
      ">>>[검토] 베드명:F, 공백순서1인덱스의날짜: 2024-02-08 00:00:00, 인덱스: 7, 확보가능공기:22.0\n",
      ">>>[검토] 베드명:G, 공백순서1인덱스의날짜: 2024-02-11 00:00:00, 인덱스: 10, 확보가능공기:19.0\n",
      "*** 최선조기착수 가능베드:2024-02-08 00:00:00 ---> ['F']\n",
      "\n",
      "* 베드명:F,  가능중량:100, 길이리스트:[15, 15, 10, 10], 면적리스트:[150]\n",
      ">>>[검토]F베드의 면적_최장길이 적합도 함수 체크\n",
      ">>>[검토]베드 F의 면적/사이즈 배치가능 여부:['적합'] / 베드가능중량:100 베드면적리스트:[150], 길이리스트:[15, 15, 10, 10]\n",
      "\n",
      "*** 물리적 스펙 가능 베드: ['F']\n",
      "\n",
      "***  정상배치 최종배정결과 : {'엔진명': 'S27', '베드명': 'F', '착수일': '2024-02-08'}\n",
      "================================================================================\n",
      "\n",
      "(엔진배치후) 수정엔진리스트 : ['S7', 'S28', 'S8', 'S13', 'S21', 'S22', 'S14', 'S11', 'S15', 'S2', 'S23', 'S26', 'S12', 'S29', 'S17', 'S3', 'S19']\n",
      "\n",
      "*** 타겟엔진-name:S7,weight:50,size:60,길이리스트:[10, 10, 6, 6],최장길이:10,최소길이:6,최소착수요구일:2024-02-09,표준공기:6\n",
      "\n",
      ">>>[검토] 베드명:A, 공백순서1인덱스의날짜: 2024-02-13 00:00:00, 인덱스: 12, 확보가능공기:17.0\n",
      ">>>[검토] 베드명:B, 공백순서1인덱스의날짜: 2024-02-09 00:00:00, 인덱스: 8, 확보가능공기:21.0\n",
      ">>>[검토] 베드명:C, 공백순서1인덱스의날짜: 2024-02-09 00:00:00, 인덱스: 8, 확보가능공기:21.0\n",
      ">>>[검토] 베드명:D, 공백순서1인덱스의날짜: 2024-02-15 00:00:00, 인덱스: 14, 확보가능공기:15.0\n",
      ">>>[검토] 베드명:E, 공백순서1인덱스의날짜: 2024-02-11 00:00:00, 인덱스: 10, 확보가능공기:19.0\n",
      ">>>[검토] 베드명:F, 공백순서1인덱스의날짜: 2024-02-12 00:00:00, 인덱스: 11, 확보가능공기:18.0\n",
      ">>>[검토] 베드명:G, 공백순서1인덱스의날짜: 2024-02-11 00:00:00, 인덱스: 10, 확보가능공기:19.0\n",
      "*** 최선조기착수 가능베드:2024-02-09 00:00:00 ---> ['B', 'C']\n",
      "\n",
      "* 베드명:B,  가능중량:100, 길이리스트:[20, 20, 10, 10], 면적리스트:[200]\n",
      ">>>[검토]B베드의 면적_최장길이 적합도 함수 체크\n",
      ">>>[검토]베드 B의 면적/사이즈 배치가능 여부:['적합'] / 베드가능중량:100 베드면적리스트:[200], 길이리스트:[20, 20, 10, 10]\n",
      "\n",
      "* 베드명:C,  가능중량:100, 길이리스트:[20, 20, 10, 10], 면적리스트:[200]\n",
      ">>>[검토]C베드의 면적_최장길이 적합도 함수 체크\n",
      ">>>[검토]베드 C의 면적/사이즈 배치가능 여부:['적합'] / 베드가능중량:100 베드면적리스트:[200], 길이리스트:[20, 20, 10, 10]\n",
      "\n",
      "*** 물리적 스펙 가능 베드: ['B', 'C']\n",
      "\n",
      "***  정상배치 최종배정결과 : {'엔진명': 'S7', '베드명': 'C', '착수일': '2024-02-09'}\n",
      "================================================================================\n",
      "\n",
      "(엔진배치후) 수정엔진리스트 : ['S28', 'S8', 'S13', 'S21', 'S22', 'S14', 'S11', 'S15', 'S2', 'S23', 'S26', 'S12', 'S29', 'S17', 'S3', 'S19']\n",
      "\n",
      "*** 타겟엔진-name:S28,weight:58,size:56,길이리스트:[8, 8, 7, 7],최장길이:8,최소길이:7,최소착수요구일:2024-02-17,표준공기:8\n",
      "\n",
      ">>>[검토] 베드명:A, 공백순서1인덱스의날짜: 2024-02-13 00:00:00, 인덱스: 12, 확보가능공기:17.0\n",
      ">>>[검토] 베드명:B, 공백순서1인덱스의날짜: 2024-02-09 00:00:00, 인덱스: 8, 확보가능공기:21.0\n",
      ">>>[검토] 베드명:C, 공백순서1인덱스의날짜: 2024-02-15 00:00:00, 인덱스: 14, 확보가능공기:15.0\n",
      ">>>[검토] 베드명:D, 공백순서1인덱스의날짜: 2024-02-15 00:00:00, 인덱스: 14, 확보가능공기:15.0\n",
      ">>>[검토] 베드명:E, 공백순서1인덱스의날짜: 2024-02-11 00:00:00, 인덱스: 10, 확보가능공기:19.0\n",
      ">>>[검토] 베드명:F, 공백순서1인덱스의날짜: 2024-02-12 00:00:00, 인덱스: 11, 확보가능공기:18.0\n",
      ">>>[검토] 베드명:G, 공백순서1인덱스의날짜: 2024-02-11 00:00:00, 인덱스: 10, 확보가능공기:19.0\n",
      "*** 최선조기착수 가능베드:2024-02-09 00:00:00 ---> ['B']\n",
      "\n",
      "* 베드명:B,  가능중량:100, 길이리스트:[20, 20, 10, 10], 면적리스트:[200]\n",
      ">>>[검토]B베드의 면적_최장길이 적합도 함수 체크\n",
      ">>>[검토]베드 B의 면적/사이즈 배치가능 여부:['적합'] / 베드가능중량:100 베드면적리스트:[200], 길이리스트:[20, 20, 10, 10]\n",
      "\n",
      "*** 물리적 스펙 가능 베드: ['B']\n",
      "\n",
      "***  정상배치 최종배정결과 : {'엔진명': 'S28', '베드명': 'B', '착수일': '2024-02-09'}\n",
      "================================================================================\n",
      "\n",
      "(엔진배치후) 수정엔진리스트 : ['S8', 'S13', 'S21', 'S22', 'S14', 'S11', 'S15', 'S2', 'S23', 'S26', 'S12', 'S29', 'S17', 'S3', 'S19']\n",
      "\n",
      "*** 타겟엔진-name:S8,weight:52,size:54,길이리스트:[9, 9, 6, 6],최장길이:9,최소길이:6,최소착수요구일:2024-02-11,표준공기:4\n",
      "\n",
      ">>>[검토] 베드명:A, 공백순서1인덱스의날짜: 2024-02-13 00:00:00, 인덱스: 12, 확보가능공기:17.0\n",
      ">>>[검토] 베드명:B, 공백순서1인덱스의날짜: 2024-02-17 00:00:00, 인덱스: 16, 확보가능공기:13.0\n",
      ">>>[검토] 베드명:C, 공백순서1인덱스의날짜: 2024-02-15 00:00:00, 인덱스: 14, 확보가능공기:15.0\n",
      ">>>[검토] 베드명:D, 공백순서1인덱스의날짜: 2024-02-15 00:00:00, 인덱스: 14, 확보가능공기:15.0\n",
      ">>>[검토] 베드명:E, 공백순서1인덱스의날짜: 2024-02-11 00:00:00, 인덱스: 10, 확보가능공기:19.0\n",
      ">>>[검토] 베드명:F, 공백순서1인덱스의날짜: 2024-02-12 00:00:00, 인덱스: 11, 확보가능공기:18.0\n",
      ">>>[검토] 베드명:G, 공백순서1인덱스의날짜: 2024-02-11 00:00:00, 인덱스: 10, 확보가능공기:19.0\n",
      "*** 최선조기착수 가능베드:2024-02-11 00:00:00 ---> ['E', 'G']\n",
      "\n",
      "* 베드명:E,  가능중량:100, 길이리스트:[15, 15, 10, 10], 면적리스트:[150]\n",
      ">>>[검토]E베드의 면적_최장길이 적합도 함수 체크\n",
      ">>>[검토]베드 E의 면적/사이즈 배치가능 여부:['적합'] / 베드가능중량:100 베드면적리스트:[150], 길이리스트:[15, 15, 10, 10]\n",
      "\n",
      "* 베드명:G,  가능중량:100, 길이리스트:[15, 15, 10, 10], 면적리스트:[150]\n",
      ">>>[검토]G베드의 면적_최장길이 적합도 함수 체크\n",
      ">>>[검토]베드 G의 면적/사이즈 배치가능 여부:['적합'] / 베드가능중량:100 베드면적리스트:[150], 길이리스트:[15, 15, 10, 10]\n",
      "\n",
      "*** 물리적 스펙 가능 베드: ['E', 'G']\n",
      "\n",
      "***  정상배치 최종배정결과 : {'엔진명': 'S8', '베드명': 'G', '착수일': '2024-02-11'}\n",
      "================================================================================\n",
      "\n",
      "(엔진배치후) 수정엔진리스트 : ['S13', 'S21', 'S22', 'S14', 'S11', 'S15', 'S2', 'S23', 'S26', 'S12', 'S29', 'S17', 'S3', 'S19']\n"
     ]
    },
    {
     "name": "stderr",
     "output_type": "stream",
     "text": [
      " 69%|▋| 20/29 [00:00<00:00, 33.97"
     ]
    },
    {
     "name": "stdout",
     "output_type": "stream",
     "text": [
      "\n",
      "*** 타겟엔진-name:S13,weight:56,size:54,길이리스트:[9, 9, 6, 6],최장길이:9,최소길이:6,최소착수요구일:2024-02-15,표준공기:5\n",
      "\n",
      ">>>[검토] 베드명:A, 공백순서1인덱스의날짜: 2024-02-13 00:00:00, 인덱스: 12, 확보가능공기:17.0\n",
      ">>>[검토] 베드명:B, 공백순서1인덱스의날짜: 2024-02-17 00:00:00, 인덱스: 16, 확보가능공기:13.0\n",
      ">>>[검토] 베드명:C, 공백순서1인덱스의날짜: 2024-02-15 00:00:00, 인덱스: 14, 확보가능공기:15.0\n",
      ">>>[검토] 베드명:D, 공백순서1인덱스의날짜: 2024-02-15 00:00:00, 인덱스: 14, 확보가능공기:15.0\n",
      ">>>[검토] 베드명:E, 공백순서1인덱스의날짜: 2024-02-11 00:00:00, 인덱스: 10, 확보가능공기:19.0\n",
      ">>>[검토] 베드명:F, 공백순서1인덱스의날짜: 2024-02-12 00:00:00, 인덱스: 11, 확보가능공기:18.0\n",
      ">>>[검토] 베드명:G, 공백순서1인덱스의날짜: 2024-02-15 00:00:00, 인덱스: 14, 확보가능공기:15.0\n",
      "*** 최선조기착수 가능베드:2024-02-11 00:00:00 ---> ['E']\n",
      "\n",
      "* 베드명:E,  가능중량:100, 길이리스트:[15, 15, 10, 10], 면적리스트:[150]\n",
      ">>>[검토]E베드의 면적_최장길이 적합도 함수 체크\n",
      ">>>[검토]베드 E의 면적/사이즈 배치가능 여부:['적합'] / 베드가능중량:100 베드면적리스트:[150], 길이리스트:[15, 15, 10, 10]\n",
      "\n",
      "*** 물리적 스펙 가능 베드: ['E']\n",
      "\n",
      "***  정상배치 최종배정결과 : {'엔진명': 'S13', '베드명': 'E', '착수일': '2024-02-11'}\n",
      "================================================================================\n",
      "\n",
      "(엔진배치후) 수정엔진리스트 : ['S21', 'S22', 'S14', 'S11', 'S15', 'S2', 'S23', 'S26', 'S12', 'S29', 'S17', 'S3', 'S19']\n",
      "\n",
      "*** 타겟엔진-name:S21,weight:58,size:50,길이리스트:[10, 10, 5, 5],최장길이:10,최소길이:5,최소착수요구일:2024-02-15,표준공기:5\n",
      "\n",
      ">>>[검토] 베드명:A, 공백순서1인덱스의날짜: 2024-02-13 00:00:00, 인덱스: 12, 확보가능공기:17.0\n",
      ">>>[검토] 베드명:B, 공백순서1인덱스의날짜: 2024-02-17 00:00:00, 인덱스: 16, 확보가능공기:13.0\n",
      ">>>[검토] 베드명:C, 공백순서1인덱스의날짜: 2024-02-15 00:00:00, 인덱스: 14, 확보가능공기:15.0\n",
      ">>>[검토] 베드명:D, 공백순서1인덱스의날짜: 2024-02-15 00:00:00, 인덱스: 14, 확보가능공기:15.0\n",
      ">>>[검토] 베드명:E, 공백순서1인덱스의날짜: 2024-02-16 00:00:00, 인덱스: 15, 확보가능공기:14.0\n",
      ">>>[검토] 베드명:F, 공백순서1인덱스의날짜: 2024-02-12 00:00:00, 인덱스: 11, 확보가능공기:18.0\n",
      ">>>[검토] 베드명:G, 공백순서1인덱스의날짜: 2024-02-15 00:00:00, 인덱스: 14, 확보가능공기:15.0\n",
      "*** 최선조기착수 가능베드:2024-02-12 00:00:00 ---> ['F']\n",
      "\n",
      "* 베드명:F,  가능중량:100, 길이리스트:[15, 15, 10, 10], 면적리스트:[150]\n",
      ">>>[검토]F베드의 면적_최장길이 적합도 함수 체크\n",
      ">>>[검토]베드 F의 면적/사이즈 배치가능 여부:['적합'] / 베드가능중량:100 베드면적리스트:[150], 길이리스트:[15, 15, 10, 10]\n",
      "\n",
      "*** 물리적 스펙 가능 베드: ['F']\n",
      "\n",
      "***  정상배치 최종배정결과 : {'엔진명': 'S21', '베드명': 'F', '착수일': '2024-02-12'}\n",
      "================================================================================\n",
      "\n",
      "(엔진배치후) 수정엔진리스트 : ['S22', 'S14', 'S11', 'S15', 'S2', 'S23', 'S26', 'S12', 'S29', 'S17', 'S3', 'S19']\n",
      "\n",
      "*** 타겟엔진-name:S22,weight:54,size:48,길이리스트:[8, 8, 6, 6],최장길이:8,최소길이:6,최소착수요구일:2024-02-13,표준공기:7\n",
      "\n",
      ">>>[검토] 베드명:A, 공백순서1인덱스의날짜: 2024-02-13 00:00:00, 인덱스: 12, 확보가능공기:17.0\n",
      ">>>[검토] 베드명:B, 공백순서1인덱스의날짜: 2024-02-17 00:00:00, 인덱스: 16, 확보가능공기:13.0\n",
      ">>>[검토] 베드명:C, 공백순서1인덱스의날짜: 2024-02-15 00:00:00, 인덱스: 14, 확보가능공기:15.0\n",
      ">>>[검토] 베드명:D, 공백순서1인덱스의날짜: 2024-02-15 00:00:00, 인덱스: 14, 확보가능공기:15.0\n",
      ">>>[검토] 베드명:E, 공백순서1인덱스의날짜: 2024-02-16 00:00:00, 인덱스: 15, 확보가능공기:14.0\n",
      ">>>[검토] 베드명:F, 공백순서1인덱스의날짜: 2024-02-17 00:00:00, 인덱스: 16, 확보가능공기:13.0\n",
      ">>>[검토] 베드명:G, 공백순서1인덱스의날짜: 2024-02-15 00:00:00, 인덱스: 14, 확보가능공기:15.0\n",
      "*** 최선조기착수 가능베드:2024-02-13 00:00:00 ---> ['A']\n",
      "\n",
      "* 베드명:A,  가능중량:100, 길이리스트:[20, 20, 10, 10], 면적리스트:[200]\n",
      ">>>[검토]A베드의 면적_최장길이 적합도 함수 체크\n",
      ">>>[검토]베드 A의 면적/사이즈 배치가능 여부:['적합'] / 베드가능중량:100 베드면적리스트:[200], 길이리스트:[20, 20, 10, 10]\n",
      "\n",
      "*** 물리적 스펙 가능 베드: ['A']\n",
      "\n",
      "***  정상배치 최종배정결과 : {'엔진명': 'S22', '베드명': 'A', '착수일': '2024-02-13'}\n",
      "================================================================================\n",
      "\n",
      "(엔진배치후) 수정엔진리스트 : ['S14', 'S11', 'S15', 'S2', 'S23', 'S26', 'S12', 'S29', 'S17', 'S3', 'S19']\n",
      "\n",
      "*** 타겟엔진-name:S14,weight:54,size:48,길이리스트:[8, 8, 6, 6],최장길이:8,최소길이:6,최소착수요구일:2024-02-16,표준공기:4\n",
      "\n",
      ">>>[검토] 베드명:A, 공백순서1인덱스의날짜: 2024-02-20 00:00:00, 인덱스: 19, 확보가능공기:10.0\n",
      ">>>[검토] 베드명:B, 공백순서1인덱스의날짜: 2024-02-17 00:00:00, 인덱스: 16, 확보가능공기:13.0\n",
      ">>>[검토] 베드명:C, 공백순서1인덱스의날짜: 2024-02-15 00:00:00, 인덱스: 14, 확보가능공기:15.0\n",
      ">>>[검토] 베드명:D, 공백순서1인덱스의날짜: 2024-02-15 00:00:00, 인덱스: 14, 확보가능공기:15.0\n",
      ">>>[검토] 베드명:E, 공백순서1인덱스의날짜: 2024-02-16 00:00:00, 인덱스: 15, 확보가능공기:14.0\n",
      ">>>[검토] 베드명:F, 공백순서1인덱스의날짜: 2024-02-17 00:00:00, 인덱스: 16, 확보가능공기:13.0\n",
      ">>>[검토] 베드명:G, 공백순서1인덱스의날짜: 2024-02-15 00:00:00, 인덱스: 14, 확보가능공기:15.0\n",
      "*** 최선조기착수 가능베드:2024-02-15 00:00:00 ---> ['C', 'D', 'G']\n",
      "\n",
      "* 베드명:C,  가능중량:100, 길이리스트:[20, 20, 10, 10], 면적리스트:[200]\n",
      ">>>[검토]C베드의 면적_최장길이 적합도 함수 체크\n",
      ">>>[검토]베드 C의 면적/사이즈 배치가능 여부:['적합'] / 베드가능중량:100 베드면적리스트:[200], 길이리스트:[20, 20, 10, 10]\n",
      "\n",
      "* 베드명:D,  가능중량:100, 길이리스트:[15, 15, 10, 10], 면적리스트:[150]\n",
      ">>>[검토]D베드의 면적_최장길이 적합도 함수 체크\n",
      ">>>[검토]베드 D의 면적/사이즈 배치가능 여부:['적합'] / 베드가능중량:100 베드면적리스트:[150], 길이리스트:[15, 15, 10, 10]\n",
      "\n",
      "* 베드명:G,  가능중량:100, 길이리스트:[15, 15, 10, 10], 면적리스트:[150]\n",
      ">>>[검토]G베드의 면적_최장길이 적합도 함수 체크\n",
      ">>>[검토]베드 G의 면적/사이즈 배치가능 여부:['적합'] / 베드가능중량:100 베드면적리스트:[150], 길이리스트:[15, 15, 10, 10]\n",
      "\n",
      "*** 물리적 스펙 가능 베드: ['C', 'D', 'G']\n",
      "\n",
      "***  정상배치 최종배정결과 : {'엔진명': 'S14', '베드명': 'C', '착수일': '2024-02-15'}\n",
      "================================================================================\n",
      "\n",
      "(엔진배치후) 수정엔진리스트 : ['S11', 'S15', 'S2', 'S23', 'S26', 'S12', 'S29', 'S17', 'S3', 'S19']\n",
      "\n",
      "*** 타겟엔진-name:S11,weight:50,size:45,길이리스트:[9, 9, 5, 5],최장길이:9,최소길이:5,최소착수요구일:2024-02-12,표준공기:8\n",
      "\n",
      ">>>[검토] 베드명:A, 공백순서1인덱스의날짜: 2024-02-20 00:00:00, 인덱스: 19, 확보가능공기:10.0\n",
      ">>>[검토] 베드명:B, 공백순서1인덱스의날짜: 2024-02-17 00:00:00, 인덱스: 16, 확보가능공기:13.0\n",
      ">>>[검토] 베드명:C, 공백순서1인덱스의날짜: 2024-02-19 00:00:00, 인덱스: 18, 확보가능공기:11.0\n",
      ">>>[검토] 베드명:D, 공백순서1인덱스의날짜: 2024-02-15 00:00:00, 인덱스: 14, 확보가능공기:15.0\n",
      ">>>[검토] 베드명:E, 공백순서1인덱스의날짜: 2024-02-16 00:00:00, 인덱스: 15, 확보가능공기:14.0\n",
      ">>>[검토] 베드명:F, 공백순서1인덱스의날짜: 2024-02-17 00:00:00, 인덱스: 16, 확보가능공기:13.0\n",
      ">>>[검토] 베드명:G, 공백순서1인덱스의날짜: 2024-02-15 00:00:00, 인덱스: 14, 확보가능공기:15.0\n",
      "★ 날짜 조건에 따른 배치가능한 베드이 없습니다.!!!!\n",
      "================================================================================\n"
     ]
    },
    {
     "name": "stderr",
     "output_type": "stream",
     "text": [
      "\r",
      " 90%|▉| 26/29 [00:00<00:00, 39.26"
     ]
    },
    {
     "name": "stdout",
     "output_type": "stream",
     "text": [
      "\n",
      "*** 타겟엔진-name:S15,weight:60,size:45,길이리스트:[9, 9, 5, 5],최장길이:9,최소길이:5,최소착수요구일:2024-02-15,표준공기:5\n",
      "\n",
      ">>>[검토] 베드명:A, 공백순서1인덱스의날짜: 2024-02-20 00:00:00, 인덱스: 19, 확보가능공기:10.0\n",
      ">>>[검토] 베드명:B, 공백순서1인덱스의날짜: 2024-02-17 00:00:00, 인덱스: 16, 확보가능공기:13.0\n",
      ">>>[검토] 베드명:C, 공백순서1인덱스의날짜: 2024-02-19 00:00:00, 인덱스: 18, 확보가능공기:11.0\n",
      ">>>[검토] 베드명:D, 공백순서1인덱스의날짜: 2024-02-15 00:00:00, 인덱스: 14, 확보가능공기:15.0\n",
      ">>>[검토] 베드명:E, 공백순서1인덱스의날짜: 2024-02-16 00:00:00, 인덱스: 15, 확보가능공기:14.0\n",
      ">>>[검토] 베드명:F, 공백순서1인덱스의날짜: 2024-02-17 00:00:00, 인덱스: 16, 확보가능공기:13.0\n",
      ">>>[검토] 베드명:G, 공백순서1인덱스의날짜: 2024-02-15 00:00:00, 인덱스: 14, 확보가능공기:15.0\n",
      "*** 최선조기착수 가능베드:2024-02-15 00:00:00 ---> ['D', 'G']\n",
      "\n",
      "* 베드명:D,  가능중량:100, 길이리스트:[15, 15, 10, 10], 면적리스트:[150]\n",
      ">>>[검토]D베드의 면적_최장길이 적합도 함수 체크\n",
      ">>>[검토]베드 D의 면적/사이즈 배치가능 여부:['적합'] / 베드가능중량:100 베드면적리스트:[150], 길이리스트:[15, 15, 10, 10]\n",
      "\n",
      "* 베드명:G,  가능중량:100, 길이리스트:[15, 15, 10, 10], 면적리스트:[150]\n",
      ">>>[검토]G베드의 면적_최장길이 적합도 함수 체크\n",
      ">>>[검토]베드 G의 면적/사이즈 배치가능 여부:['적합'] / 베드가능중량:100 베드면적리스트:[150], 길이리스트:[15, 15, 10, 10]\n",
      "\n",
      "*** 물리적 스펙 가능 베드: ['D', 'G']\n",
      "\n",
      "***  정상배치 최종배정결과 : {'엔진명': 'S15', '베드명': 'G', '착수일': '2024-02-15'}\n",
      "================================================================================\n",
      "\n",
      "(엔진배치후) 수정엔진리스트 : ['S2', 'S23', 'S26', 'S12', 'S29', 'S17', 'S3', 'S19']\n",
      "\n",
      "*** 타겟엔진-name:S2,weight:56,size:40,길이리스트:[8, 8, 5, 5],최장길이:8,최소길이:5,최소착수요구일:2024-02-06,표준공기:4\n",
      "\n",
      ">>>[검토] 베드명:A, 공백순서1인덱스의날짜: 2024-02-20 00:00:00, 인덱스: 19, 확보가능공기:10.0\n",
      ">>>[검토] 베드명:B, 공백순서1인덱스의날짜: 2024-02-17 00:00:00, 인덱스: 16, 확보가능공기:13.0\n",
      ">>>[검토] 베드명:C, 공백순서1인덱스의날짜: 2024-02-19 00:00:00, 인덱스: 18, 확보가능공기:11.0\n",
      ">>>[검토] 베드명:D, 공백순서1인덱스의날짜: 2024-02-15 00:00:00, 인덱스: 14, 확보가능공기:15.0\n",
      ">>>[검토] 베드명:E, 공백순서1인덱스의날짜: 2024-02-16 00:00:00, 인덱스: 15, 확보가능공기:14.0\n",
      ">>>[검토] 베드명:F, 공백순서1인덱스의날짜: 2024-02-17 00:00:00, 인덱스: 16, 확보가능공기:13.0\n",
      ">>>[검토] 베드명:G, 공백순서1인덱스의날짜: 2024-02-20 00:00:00, 인덱스: 19, 확보가능공기:10.0\n",
      "★ 날짜 조건에 따른 배치가능한 베드이 없습니다.!!!!\n",
      "================================================================================\n",
      "\n",
      "*** 타겟엔진-name:S23,weight:51,size:40,길이리스트:[8, 8, 5, 5],최장길이:8,최소길이:5,최소착수요구일:2024-02-14,표준공기:6\n",
      "\n",
      ">>>[검토] 베드명:A, 공백순서1인덱스의날짜: 2024-02-20 00:00:00, 인덱스: 19, 확보가능공기:10.0\n",
      ">>>[검토] 베드명:B, 공백순서1인덱스의날짜: 2024-02-17 00:00:00, 인덱스: 16, 확보가능공기:13.0\n",
      ">>>[검토] 베드명:C, 공백순서1인덱스의날짜: 2024-02-19 00:00:00, 인덱스: 18, 확보가능공기:11.0\n",
      ">>>[검토] 베드명:D, 공백순서1인덱스의날짜: 2024-02-15 00:00:00, 인덱스: 14, 확보가능공기:15.0\n",
      ">>>[검토] 베드명:E, 공백순서1인덱스의날짜: 2024-02-16 00:00:00, 인덱스: 15, 확보가능공기:14.0\n",
      ">>>[검토] 베드명:F, 공백순서1인덱스의날짜: 2024-02-17 00:00:00, 인덱스: 16, 확보가능공기:13.0\n",
      ">>>[검토] 베드명:G, 공백순서1인덱스의날짜: 2024-02-20 00:00:00, 인덱스: 19, 확보가능공기:10.0\n",
      "★ 날짜 조건에 따른 배치가능한 베드이 없습니다.!!!!\n",
      "================================================================================\n",
      "\n",
      "*** 타겟엔진-name:S26,weight:53,size:40,길이리스트:[8, 8, 5, 5],최장길이:8,최소길이:5,최소착수요구일:2024-02-21,표준공기:4\n",
      "\n",
      ">>>[검토] 베드명:A, 공백순서1인덱스의날짜: 2024-02-20 00:00:00, 인덱스: 19, 확보가능공기:10.0\n",
      ">>>[검토] 베드명:B, 공백순서1인덱스의날짜: 2024-02-17 00:00:00, 인덱스: 16, 확보가능공기:13.0\n",
      ">>>[검토] 베드명:C, 공백순서1인덱스의날짜: 2024-02-19 00:00:00, 인덱스: 18, 확보가능공기:11.0\n",
      ">>>[검토] 베드명:D, 공백순서1인덱스의날짜: 2024-02-15 00:00:00, 인덱스: 14, 확보가능공기:15.0\n",
      ">>>[검토] 베드명:E, 공백순서1인덱스의날짜: 2024-02-16 00:00:00, 인덱스: 15, 확보가능공기:14.0\n",
      ">>>[검토] 베드명:F, 공백순서1인덱스의날짜: 2024-02-17 00:00:00, 인덱스: 16, 확보가능공기:13.0\n",
      ">>>[검토] 베드명:G, 공백순서1인덱스의날짜: 2024-02-20 00:00:00, 인덱스: 19, 확보가능공기:10.0\n",
      "*** 최선조기착수 가능베드:2024-02-15 00:00:00 ---> ['D']\n",
      "\n",
      "* 베드명:D,  가능중량:100, 길이리스트:[15, 15, 10, 10], 면적리스트:[150]\n",
      ">>>[검토]D베드의 면적_최장길이 적합도 함수 체크\n",
      ">>>[검토]베드 D의 면적/사이즈 배치가능 여부:['적합'] / 베드가능중량:100 베드면적리스트:[150], 길이리스트:[15, 15, 10, 10]\n",
      "\n",
      "*** 물리적 스펙 가능 베드: ['D']\n",
      "\n",
      "***  정상배치 최종배정결과 : {'엔진명': 'S26', '베드명': 'D', '착수일': '2024-02-15'}\n",
      "================================================================================\n",
      "\n",
      "(엔진배치후) 수정엔진리스트 : ['S12', 'S29', 'S17', 'S3', 'S19']\n",
      "\n",
      "*** 타겟엔진-name:S12,weight:60,size:36,길이리스트:[6, 6, 6, 6],최장길이:6,최소길이:6,최소착수요구일:2024-02-14,표준공기:6\n",
      "\n",
      ">>>[검토] 베드명:A, 공백순서1인덱스의날짜: 2024-02-20 00:00:00, 인덱스: 19, 확보가능공기:10.0\n",
      ">>>[검토] 베드명:B, 공백순서1인덱스의날짜: 2024-02-17 00:00:00, 인덱스: 16, 확보가능공기:13.0\n",
      ">>>[검토] 베드명:C, 공백순서1인덱스의날짜: 2024-02-19 00:00:00, 인덱스: 18, 확보가능공기:11.0\n",
      ">>>[검토] 베드명:D, 공백순서1인덱스의날짜: 2024-02-19 00:00:00, 인덱스: 18, 확보가능공기:11.0\n",
      ">>>[검토] 베드명:E, 공백순서1인덱스의날짜: 2024-02-16 00:00:00, 인덱스: 15, 확보가능공기:14.0\n",
      ">>>[검토] 베드명:F, 공백순서1인덱스의날짜: 2024-02-17 00:00:00, 인덱스: 16, 확보가능공기:13.0\n",
      ">>>[검토] 베드명:G, 공백순서1인덱스의날짜: 2024-02-20 00:00:00, 인덱스: 19, 확보가능공기:10.0\n",
      "★ 날짜 조건에 따른 배치가능한 베드이 없습니다.!!!!\n",
      "================================================================================\n",
      "\n",
      "*** 타겟엔진-name:S29,weight:56,size:36,길이리스트:[6, 6, 6, 6],최장길이:6,최소길이:6,최소착수요구일:2024-02-18,표준공기:7\n",
      "\n",
      ">>>[검토] 베드명:A, 공백순서1인덱스의날짜: 2024-02-20 00:00:00, 인덱스: 19, 확보가능공기:10.0\n",
      ">>>[검토] 베드명:B, 공백순서1인덱스의날짜: 2024-02-17 00:00:00, 인덱스: 16, 확보가능공기:13.0\n",
      ">>>[검토] 베드명:C, 공백순서1인덱스의날짜: 2024-02-19 00:00:00, 인덱스: 18, 확보가능공기:11.0\n",
      ">>>[검토] 베드명:D, 공백순서1인덱스의날짜: 2024-02-19 00:00:00, 인덱스: 18, 확보가능공기:11.0\n",
      ">>>[검토] 베드명:E, 공백순서1인덱스의날짜: 2024-02-16 00:00:00, 인덱스: 15, 확보가능공기:14.0\n",
      ">>>[검토] 베드명:F, 공백순서1인덱스의날짜: 2024-02-17 00:00:00, 인덱스: 16, 확보가능공기:13.0\n",
      ">>>[검토] 베드명:G, 공백순서1인덱스의날짜: 2024-02-20 00:00:00, 인덱스: 19, 확보가능공기:10.0\n",
      "*** 최선조기착수 가능베드:2024-02-16 00:00:00 ---> ['E']\n",
      "\n",
      "* 베드명:E,  가능중량:100, 길이리스트:[15, 15, 10, 10], 면적리스트:[150]\n",
      ">>>[검토]E베드의 면적_최장길이 적합도 함수 체크\n",
      ">>>[검토]베드 E의 면적/사이즈 배치가능 여부:['적합'] / 베드가능중량:100 베드면적리스트:[150], 길이리스트:[15, 15, 10, 10]\n",
      "\n",
      "*** 물리적 스펙 가능 베드: ['E']\n",
      "\n",
      "***  정상배치 최종배정결과 : {'엔진명': 'S29', '베드명': 'E', '착수일': '2024-02-16'}\n",
      "================================================================================\n",
      "\n",
      "(엔진배치후) 수정엔진리스트 : ['S17', 'S3', 'S19']\n"
     ]
    },
    {
     "name": "stderr",
     "output_type": "stream",
     "text": [
      "\r",
      "100%|█| 29/29 [00:00<00:00, 38.54"
     ]
    },
    {
     "name": "stdout",
     "output_type": "stream",
     "text": [
      "\n",
      "*** 타겟엔진-name:S17,weight:51,size:35,길이리스트:[7, 7, 5, 5],최장길이:7,최소길이:5,최소착수요구일:2024-02-11,표준공기:4\n",
      "\n",
      ">>>[검토] 베드명:A, 공백순서1인덱스의날짜: 2024-02-20 00:00:00, 인덱스: 19, 확보가능공기:10.0\n",
      ">>>[검토] 베드명:B, 공백순서1인덱스의날짜: 2024-02-17 00:00:00, 인덱스: 16, 확보가능공기:13.0\n",
      ">>>[검토] 베드명:C, 공백순서1인덱스의날짜: 2024-02-19 00:00:00, 인덱스: 18, 확보가능공기:11.0\n",
      ">>>[검토] 베드명:D, 공백순서1인덱스의날짜: 2024-02-19 00:00:00, 인덱스: 18, 확보가능공기:11.0\n",
      ">>>[검토] 베드명:E, 공백순서1인덱스의날짜: 2024-02-23 00:00:00, 인덱스: 22, 확보가능공기:7.0\n",
      ">>>[검토] 베드명:F, 공백순서1인덱스의날짜: 2024-02-17 00:00:00, 인덱스: 16, 확보가능공기:13.0\n",
      ">>>[검토] 베드명:G, 공백순서1인덱스의날짜: 2024-02-20 00:00:00, 인덱스: 19, 확보가능공기:10.0\n",
      "★ 날짜 조건에 따른 배치가능한 베드이 없습니다.!!!!\n",
      "================================================================================\n",
      "\n",
      "*** 타겟엔진-name:S3,weight:53,size:25,길이리스트:[5, 5, 5, 5],최장길이:5,최소길이:5,최소착수요구일:2024-02-02,표준공기:8\n",
      "\n",
      ">>>[검토] 베드명:A, 공백순서1인덱스의날짜: 2024-02-20 00:00:00, 인덱스: 19, 확보가능공기:10.0\n",
      ">>>[검토] 베드명:B, 공백순서1인덱스의날짜: 2024-02-17 00:00:00, 인덱스: 16, 확보가능공기:13.0\n",
      ">>>[검토] 베드명:C, 공백순서1인덱스의날짜: 2024-02-19 00:00:00, 인덱스: 18, 확보가능공기:11.0\n",
      ">>>[검토] 베드명:D, 공백순서1인덱스의날짜: 2024-02-19 00:00:00, 인덱스: 18, 확보가능공기:11.0\n",
      ">>>[검토] 베드명:E, 공백순서1인덱스의날짜: 2024-02-23 00:00:00, 인덱스: 22, 확보가능공기:7.0\n",
      ">>>[검토] 베드명:F, 공백순서1인덱스의날짜: 2024-02-17 00:00:00, 인덱스: 16, 확보가능공기:13.0\n",
      ">>>[검토] 베드명:G, 공백순서1인덱스의날짜: 2024-02-20 00:00:00, 인덱스: 19, 확보가능공기:10.0\n",
      "★ 날짜 조건에 따른 배치가능한 베드이 없습니다.!!!!\n",
      "================================================================================\n",
      "\n",
      "*** 타겟엔진-name:S19,weight:59,size:30,길이리스트:[6, 6, 5, 5],최장길이:6,최소길이:5,최소착수요구일:2024-02-10,표준공기:5\n",
      "\n",
      ">>>[검토] 베드명:A, 공백순서1인덱스의날짜: 2024-02-20 00:00:00, 인덱스: 19, 확보가능공기:10.0\n",
      ">>>[검토] 베드명:B, 공백순서1인덱스의날짜: 2024-02-17 00:00:00, 인덱스: 16, 확보가능공기:13.0\n",
      ">>>[검토] 베드명:C, 공백순서1인덱스의날짜: 2024-02-19 00:00:00, 인덱스: 18, 확보가능공기:11.0\n",
      ">>>[검토] 베드명:D, 공백순서1인덱스의날짜: 2024-02-19 00:00:00, 인덱스: 18, 확보가능공기:11.0\n",
      ">>>[검토] 베드명:E, 공백순서1인덱스의날짜: 2024-02-23 00:00:00, 인덱스: 22, 확보가능공기:7.0\n",
      ">>>[검토] 베드명:F, 공백순서1인덱스의날짜: 2024-02-17 00:00:00, 인덱스: 16, 확보가능공기:13.0\n",
      ">>>[검토] 베드명:G, 공백순서1인덱스의날짜: 2024-02-20 00:00:00, 인덱스: 19, 확보가능공기:10.0\n",
      "★ 날짜 조건에 따른 배치가능한 베드이 없습니다.!!!!\n",
      "================================================================================\n"
     ]
    },
    {
     "name": "stderr",
     "output_type": "stream",
     "text": [
      "\n"
     ]
    },
    {
     "data": {
      "text/html": [
       "<div>\n",
       "<style scoped>\n",
       "    .dataframe tbody tr th:only-of-type {\n",
       "        vertical-align: middle;\n",
       "    }\n",
       "\n",
       "    .dataframe tbody tr th {\n",
       "        vertical-align: top;\n",
       "    }\n",
       "\n",
       "    .dataframe thead th {\n",
       "        text-align: right;\n",
       "    }\n",
       "</style>\n",
       "<table border=\"1\" class=\"dataframe\">\n",
       "  <thead>\n",
       "    <tr style=\"text-align: right;\">\n",
       "      <th></th>\n",
       "      <th>엔진명</th>\n",
       "      <th>베드명</th>\n",
       "      <th>착수일</th>\n",
       "      <th>표준공기</th>\n",
       "      <th>종료일</th>\n",
       "      <th>조립중량</th>\n",
       "      <th>베드구분</th>\n",
       "    </tr>\n",
       "  </thead>\n",
       "  <tbody>\n",
       "    <tr>\n",
       "      <th>0</th>\n",
       "      <td>S10</td>\n",
       "      <td>D</td>\n",
       "      <td>2024-02-03</td>\n",
       "      <td>4</td>\n",
       "      <td>2024-02-07</td>\n",
       "      <td>57</td>\n",
       "      <td>D</td>\n",
       "    </tr>\n",
       "    <tr>\n",
       "      <th>1</th>\n",
       "      <td>S20</td>\n",
       "      <td>C</td>\n",
       "      <td>2024-02-03</td>\n",
       "      <td>6</td>\n",
       "      <td>2024-02-09</td>\n",
       "      <td>59</td>\n",
       "      <td>C</td>\n",
       "    </tr>\n",
       "    <tr>\n",
       "      <th>2</th>\n",
       "      <td>S16</td>\n",
       "      <td>F</td>\n",
       "      <td>2024-02-03</td>\n",
       "      <td>5</td>\n",
       "      <td>2024-02-08</td>\n",
       "      <td>56</td>\n",
       "      <td>F</td>\n",
       "    </tr>\n",
       "    <tr>\n",
       "      <th>3</th>\n",
       "      <td>S1</td>\n",
       "      <td>B</td>\n",
       "      <td>2024-02-03</td>\n",
       "      <td>6</td>\n",
       "      <td>2024-02-09</td>\n",
       "      <td>50</td>\n",
       "      <td>B</td>\n",
       "    </tr>\n",
       "    <tr>\n",
       "      <th>4</th>\n",
       "      <td>S25</td>\n",
       "      <td>E</td>\n",
       "      <td>2024-02-03</td>\n",
       "      <td>8</td>\n",
       "      <td>2024-02-11</td>\n",
       "      <td>55</td>\n",
       "      <td>E</td>\n",
       "    </tr>\n",
       "    <tr>\n",
       "      <th>5</th>\n",
       "      <td>S24</td>\n",
       "      <td>A</td>\n",
       "      <td>2024-02-03</td>\n",
       "      <td>4</td>\n",
       "      <td>2024-02-07</td>\n",
       "      <td>56</td>\n",
       "      <td>A</td>\n",
       "    </tr>\n",
       "    <tr>\n",
       "      <th>6</th>\n",
       "      <td>S9</td>\n",
       "      <td>G</td>\n",
       "      <td>2024-02-03</td>\n",
       "      <td>8</td>\n",
       "      <td>2024-02-11</td>\n",
       "      <td>52</td>\n",
       "      <td>G</td>\n",
       "    </tr>\n",
       "    <tr>\n",
       "      <th>7</th>\n",
       "      <td>S18</td>\n",
       "      <td>D</td>\n",
       "      <td>2024-02-07</td>\n",
       "      <td>8</td>\n",
       "      <td>2024-02-15</td>\n",
       "      <td>50</td>\n",
       "      <td>D</td>\n",
       "    </tr>\n",
       "    <tr>\n",
       "      <th>8</th>\n",
       "      <td>S6</td>\n",
       "      <td>A</td>\n",
       "      <td>2024-02-07</td>\n",
       "      <td>6</td>\n",
       "      <td>2024-02-13</td>\n",
       "      <td>59</td>\n",
       "      <td>A</td>\n",
       "    </tr>\n",
       "    <tr>\n",
       "      <th>9</th>\n",
       "      <td>S27</td>\n",
       "      <td>F</td>\n",
       "      <td>2024-02-08</td>\n",
       "      <td>4</td>\n",
       "      <td>2024-02-12</td>\n",
       "      <td>60</td>\n",
       "      <td>F</td>\n",
       "    </tr>\n",
       "    <tr>\n",
       "      <th>10</th>\n",
       "      <td>S7</td>\n",
       "      <td>C</td>\n",
       "      <td>2024-02-09</td>\n",
       "      <td>6</td>\n",
       "      <td>2024-02-15</td>\n",
       "      <td>50</td>\n",
       "      <td>C</td>\n",
       "    </tr>\n",
       "    <tr>\n",
       "      <th>11</th>\n",
       "      <td>S28</td>\n",
       "      <td>B</td>\n",
       "      <td>2024-02-09</td>\n",
       "      <td>8</td>\n",
       "      <td>2024-02-17</td>\n",
       "      <td>58</td>\n",
       "      <td>B</td>\n",
       "    </tr>\n",
       "    <tr>\n",
       "      <th>12</th>\n",
       "      <td>S8</td>\n",
       "      <td>G</td>\n",
       "      <td>2024-02-11</td>\n",
       "      <td>4</td>\n",
       "      <td>2024-02-15</td>\n",
       "      <td>52</td>\n",
       "      <td>G</td>\n",
       "    </tr>\n",
       "    <tr>\n",
       "      <th>13</th>\n",
       "      <td>S13</td>\n",
       "      <td>E</td>\n",
       "      <td>2024-02-11</td>\n",
       "      <td>5</td>\n",
       "      <td>2024-02-16</td>\n",
       "      <td>56</td>\n",
       "      <td>E</td>\n",
       "    </tr>\n",
       "    <tr>\n",
       "      <th>14</th>\n",
       "      <td>S21</td>\n",
       "      <td>F</td>\n",
       "      <td>2024-02-12</td>\n",
       "      <td>5</td>\n",
       "      <td>2024-02-17</td>\n",
       "      <td>58</td>\n",
       "      <td>F</td>\n",
       "    </tr>\n",
       "    <tr>\n",
       "      <th>15</th>\n",
       "      <td>S22</td>\n",
       "      <td>A</td>\n",
       "      <td>2024-02-13</td>\n",
       "      <td>7</td>\n",
       "      <td>2024-02-20</td>\n",
       "      <td>54</td>\n",
       "      <td>A</td>\n",
       "    </tr>\n",
       "    <tr>\n",
       "      <th>16</th>\n",
       "      <td>S14</td>\n",
       "      <td>C</td>\n",
       "      <td>2024-02-15</td>\n",
       "      <td>4</td>\n",
       "      <td>2024-02-19</td>\n",
       "      <td>54</td>\n",
       "      <td>C</td>\n",
       "    </tr>\n",
       "    <tr>\n",
       "      <th>17</th>\n",
       "      <td>S15</td>\n",
       "      <td>G</td>\n",
       "      <td>2024-02-15</td>\n",
       "      <td>5</td>\n",
       "      <td>2024-02-20</td>\n",
       "      <td>60</td>\n",
       "      <td>G</td>\n",
       "    </tr>\n",
       "    <tr>\n",
       "      <th>18</th>\n",
       "      <td>S26</td>\n",
       "      <td>D</td>\n",
       "      <td>2024-02-15</td>\n",
       "      <td>4</td>\n",
       "      <td>2024-02-19</td>\n",
       "      <td>53</td>\n",
       "      <td>D</td>\n",
       "    </tr>\n",
       "    <tr>\n",
       "      <th>19</th>\n",
       "      <td>S29</td>\n",
       "      <td>E</td>\n",
       "      <td>2024-02-16</td>\n",
       "      <td>7</td>\n",
       "      <td>2024-02-23</td>\n",
       "      <td>56</td>\n",
       "      <td>E</td>\n",
       "    </tr>\n",
       "  </tbody>\n",
       "</table>\n",
       "</div>"
      ],
      "text/plain": [
       "    엔진명 베드명         착수일  표준공기         종료일  조립중량 베드구분\n",
       "0   S10   D  2024-02-03     4  2024-02-07    57    D\n",
       "1   S20   C  2024-02-03     6  2024-02-09    59    C\n",
       "2   S16   F  2024-02-03     5  2024-02-08    56    F\n",
       "3    S1   B  2024-02-03     6  2024-02-09    50    B\n",
       "4   S25   E  2024-02-03     8  2024-02-11    55    E\n",
       "5   S24   A  2024-02-03     4  2024-02-07    56    A\n",
       "6    S9   G  2024-02-03     8  2024-02-11    52    G\n",
       "7   S18   D  2024-02-07     8  2024-02-15    50    D\n",
       "8    S6   A  2024-02-07     6  2024-02-13    59    A\n",
       "9   S27   F  2024-02-08     4  2024-02-12    60    F\n",
       "10   S7   C  2024-02-09     6  2024-02-15    50    C\n",
       "11  S28   B  2024-02-09     8  2024-02-17    58    B\n",
       "12   S8   G  2024-02-11     4  2024-02-15    52    G\n",
       "13  S13   E  2024-02-11     5  2024-02-16    56    E\n",
       "14  S21   F  2024-02-12     5  2024-02-17    58    F\n",
       "15  S22   A  2024-02-13     7  2024-02-20    54    A\n",
       "16  S14   C  2024-02-15     4  2024-02-19    54    C\n",
       "17  S15   G  2024-02-15     5  2024-02-20    60    G\n",
       "18  S26   D  2024-02-15     4  2024-02-19    53    D\n",
       "19  S29   E  2024-02-16     7  2024-02-23    56    E"
      ]
     },
     "execution_count": 585,
     "metadata": {},
     "output_type": "execute_result"
    },
    {
     "name": "stdout",
     "output_type": "stream",
     "text": [
      "----------------------------------------------------------------------\n"
     ]
    }
   ],
   "source": [
    "공기가중치 = [9, 0.5]\n",
    "크기가중치 = [0.5, 9]\n",
    "착수일가중치 = 0.5\n",
    "\n",
    "배치결과모음 = []\n",
    "\n",
    "for 공기가중치, 크기가중치 in zip(공기가중치, 크기가중치):\n",
    "    엔진데이터 = 엔진데이터전처리(엔진원데이터)\n",
    "    print(엔진데이터[[\"엔진명\", \"우선순위\"]])\n",
    "    \n",
    "    배치달력 = create_init_calendar(2024, 2, 2024, 2, 최초베드집합) \n",
    "    배치달력.iloc[:2,:] = 1   ## 날짜 계산의 편의를 위해 초반 2일을 배치상태로 설정\n",
    "    \n",
    "    result = 생산계획수립(엔진데이터, 베드데이터, 배치달력)\n",
    "    배치결과 = result[0]\n",
    "    배치결과\n",
    "    print(\"-\"*70)\n",
    "    배치결과 = 배치결과[[\"엔진명\", \"베드구분\", \"베드명\", \"착수일\", \"표준공기\", \"종료일\", \"조립중량\"]].sort_values(by=\"베드구분\")\n",
    "    배치결과[\"차트텍스트\"] = 배치결과[[\"엔진명\",\"표준공기\"]].apply(create_text, axis=1)\n",
    "    배치결과모음.append(배치결과)"
   ]
  },
  {
   "cell_type": "code",
   "execution_count": 587,
   "id": "ebaf1ce3",
   "metadata": {},
   "outputs": [
    {
     "data": {
      "application/vnd.plotly.v1+json": {
       "config": {
        "plotlyServerURL": "https://plot.ly"
       },
       "data": [
        {
         "alignmentgroup": "True",
         "base": [
          "2024-02-03",
          "2024-02-10"
         ],
         "customdata": [
          [
           7,
           54
          ],
          [
           7,
           56
          ]
         ],
         "hovertemplate": "베드구분=A<br>착수일=%{base}<br>종료일=%{x}<br>베드명=%{y}<br>차트텍스트=%{text}<br>표준공기=%{customdata[0]}<br>조립중량=%{customdata[1]}<extra></extra>",
         "legendgroup": "A",
         "marker": {
          "color": "#636efa",
          "opacity": 0.7,
          "pattern": {
           "shape": ""
          }
         },
         "name": "A",
         "offsetgroup": "A",
         "orientation": "h",
         "showlegend": true,
         "text": [
          "S22 / 조립중량: 7ton",
          "S29 / 조립중량: 7ton"
         ],
         "textposition": "auto",
         "type": "bar",
         "x": [
          604800000,
          604800000
         ],
         "xaxis": "x",
         "y": [
          "A",
          "A"
         ],
         "yaxis": "y"
        },
        {
         "alignmentgroup": "True",
         "base": [
          "2024-02-03",
          "2024-02-16",
          "2024-02-11"
         ],
         "customdata": [
          [
           8,
           50
          ],
          [
           4,
           60
          ],
          [
           5,
           56
          ]
         ],
         "hovertemplate": "베드구분=B<br>착수일=%{base}<br>종료일=%{x}<br>베드명=%{y}<br>차트텍스트=%{text}<br>표준공기=%{customdata[0]}<br>조립중량=%{customdata[1]}<extra></extra>",
         "legendgroup": "B",
         "marker": {
          "color": "#EF553B",
          "opacity": 0.7,
          "pattern": {
           "shape": ""
          }
         },
         "name": "B",
         "offsetgroup": "B",
         "orientation": "h",
         "showlegend": true,
         "text": [
          "S18 / 조립중량: 8ton",
          "S27 / 조립중량: 4ton",
          "S13 / 조립중량: 5ton"
         ],
         "textposition": "auto",
         "type": "bar",
         "x": [
          691200000,
          345600000,
          432000000
         ],
         "xaxis": "x",
         "y": [
          "B",
          "B",
          "B"
         ],
         "yaxis": "y"
        },
        {
         "alignmentgroup": "True",
         "base": [
          "2024-02-10",
          "2024-02-03"
         ],
         "customdata": [
          [
           6,
           51
          ],
          [
           7,
           50
          ]
         ],
         "hovertemplate": "베드구분=C<br>착수일=%{base}<br>종료일=%{x}<br>베드명=%{y}<br>차트텍스트=%{text}<br>표준공기=%{customdata[0]}<br>조립중량=%{customdata[1]}<extra></extra>",
         "legendgroup": "C",
         "marker": {
          "color": "#00cc96",
          "opacity": 0.7,
          "pattern": {
           "shape": ""
          }
         },
         "name": "C",
         "offsetgroup": "C",
         "orientation": "h",
         "showlegend": true,
         "text": [
          "S23 / 조립중량: 6ton",
          "S4 / 조립중량: 7ton"
         ],
         "textposition": "auto",
         "type": "bar",
         "x": [
          518400000,
          604800000
         ],
         "xaxis": "x",
         "y": [
          "C",
          "C"
         ],
         "yaxis": "y"
        },
        {
         "alignmentgroup": "True",
         "base": [
          "2024-02-15",
          "2024-02-11",
          "2024-02-03"
         ],
         "customdata": [
          [
           4,
           56
          ],
          [
           4,
           57
          ],
          [
           8,
           52
          ]
         ],
         "hovertemplate": "베드구분=D<br>착수일=%{base}<br>종료일=%{x}<br>베드명=%{y}<br>차트텍스트=%{text}<br>표준공기=%{customdata[0]}<br>조립중량=%{customdata[1]}<extra></extra>",
         "legendgroup": "D",
         "marker": {
          "color": "#ab63fa",
          "opacity": 0.7,
          "pattern": {
           "shape": ""
          }
         },
         "name": "D",
         "offsetgroup": "D",
         "orientation": "h",
         "showlegend": true,
         "text": [
          "S24 / 조립중량: 4ton",
          "S10 / 조립중량: 4ton",
          "S9 / 조립중량: 8ton"
         ],
         "textposition": "auto",
         "type": "bar",
         "x": [
          345600000,
          345600000,
          691200000
         ],
         "xaxis": "x",
         "y": [
          "D",
          "D",
          "D"
         ],
         "yaxis": "y"
        },
        {
         "alignmentgroup": "True",
         "base": [
          "2024-02-03",
          "2024-02-11"
         ],
         "customdata": [
          [
           8,
           58
          ],
          [
           6,
           60
          ]
         ],
         "hovertemplate": "베드구분=E<br>착수일=%{base}<br>종료일=%{x}<br>베드명=%{y}<br>차트텍스트=%{text}<br>표준공기=%{customdata[0]}<br>조립중량=%{customdata[1]}<extra></extra>",
         "legendgroup": "E",
         "marker": {
          "color": "#FFA15A",
          "opacity": 0.7,
          "pattern": {
           "shape": ""
          }
         },
         "name": "E",
         "offsetgroup": "E",
         "orientation": "h",
         "showlegend": true,
         "text": [
          "S28 / 조립중량: 8ton",
          "S12 / 조립중량: 6ton"
         ],
         "textposition": "auto",
         "type": "bar",
         "x": [
          691200000,
          518400000
         ],
         "xaxis": "x",
         "y": [
          "E",
          "E"
         ],
         "yaxis": "y"
        },
        {
         "alignmentgroup": "True",
         "base": [
          "2024-02-16",
          "2024-02-11",
          "2024-02-03"
         ],
         "customdata": [
          [
           4,
           54
          ],
          [
           5,
           60
          ],
          [
           8,
           55
          ]
         ],
         "hovertemplate": "베드구분=F<br>착수일=%{base}<br>종료일=%{x}<br>베드명=%{y}<br>차트텍스트=%{text}<br>표준공기=%{customdata[0]}<br>조립중량=%{customdata[1]}<extra></extra>",
         "legendgroup": "F",
         "marker": {
          "color": "#19d3f3",
          "opacity": 0.7,
          "pattern": {
           "shape": ""
          }
         },
         "name": "F",
         "offsetgroup": "F",
         "orientation": "h",
         "showlegend": true,
         "text": [
          "S14 / 조립중량: 4ton",
          "S15 / 조립중량: 5ton",
          "S25 / 조립중량: 8ton"
         ],
         "textposition": "auto",
         "type": "bar",
         "x": [
          345600000,
          432000000,
          691200000
         ],
         "xaxis": "x",
         "y": [
          "F",
          "F",
          "F"
         ],
         "yaxis": "y"
        },
        {
         "alignmentgroup": "True",
         "base": [
          "2024-02-11",
          "2024-02-03",
          "2024-02-16"
         ],
         "customdata": [
          [
           5,
           58
          ],
          [
           8,
           50
          ],
          [
           4,
           53
          ]
         ],
         "hovertemplate": "베드구분=G<br>착수일=%{base}<br>종료일=%{x}<br>베드명=%{y}<br>차트텍스트=%{text}<br>표준공기=%{customdata[0]}<br>조립중량=%{customdata[1]}<extra></extra>",
         "legendgroup": "G",
         "marker": {
          "color": "#FF6692",
          "opacity": 0.7,
          "pattern": {
           "shape": ""
          }
         },
         "name": "G",
         "offsetgroup": "G",
         "orientation": "h",
         "showlegend": true,
         "text": [
          "S21 / 조립중량: 5ton",
          "S11 / 조립중량: 8ton",
          "S26 / 조립중량: 4ton"
         ],
         "textposition": "auto",
         "type": "bar",
         "x": [
          432000000,
          691200000,
          345600000
         ],
         "xaxis": "x",
         "y": [
          "G",
          "G",
          "G"
         ],
         "yaxis": "y"
        }
       ],
       "layout": {
        "bargap": 0.2,
        "barmode": "overlay",
        "font": {
         "color": "RebeccaPurple",
         "family": "Courier New, monospace",
         "size": 12
        },
        "height": 500,
        "hoverlabel": {
         "bgcolor": "#DAEEED"
        },
        "legend": {
         "title": {
          "text": "베드구분"
         },
         "tracegroupgap": 0
        },
        "margin": {
         "t": 60
        },
        "template": {
         "data": {
          "bar": [
           {
            "error_x": {
             "color": "#2a3f5f"
            },
            "error_y": {
             "color": "#2a3f5f"
            },
            "marker": {
             "line": {
              "color": "#E5ECF6",
              "width": 0.5
             },
             "pattern": {
              "fillmode": "overlay",
              "size": 10,
              "solidity": 0.2
             }
            },
            "type": "bar"
           }
          ],
          "barpolar": [
           {
            "marker": {
             "line": {
              "color": "#E5ECF6",
              "width": 0.5
             },
             "pattern": {
              "fillmode": "overlay",
              "size": 10,
              "solidity": 0.2
             }
            },
            "type": "barpolar"
           }
          ],
          "carpet": [
           {
            "aaxis": {
             "endlinecolor": "#2a3f5f",
             "gridcolor": "white",
             "linecolor": "white",
             "minorgridcolor": "white",
             "startlinecolor": "#2a3f5f"
            },
            "baxis": {
             "endlinecolor": "#2a3f5f",
             "gridcolor": "white",
             "linecolor": "white",
             "minorgridcolor": "white",
             "startlinecolor": "#2a3f5f"
            },
            "type": "carpet"
           }
          ],
          "choropleth": [
           {
            "colorbar": {
             "outlinewidth": 0,
             "ticks": ""
            },
            "type": "choropleth"
           }
          ],
          "contour": [
           {
            "colorbar": {
             "outlinewidth": 0,
             "ticks": ""
            },
            "colorscale": [
             [
              0,
              "#0d0887"
             ],
             [
              0.1111111111111111,
              "#46039f"
             ],
             [
              0.2222222222222222,
              "#7201a8"
             ],
             [
              0.3333333333333333,
              "#9c179e"
             ],
             [
              0.4444444444444444,
              "#bd3786"
             ],
             [
              0.5555555555555556,
              "#d8576b"
             ],
             [
              0.6666666666666666,
              "#ed7953"
             ],
             [
              0.7777777777777778,
              "#fb9f3a"
             ],
             [
              0.8888888888888888,
              "#fdca26"
             ],
             [
              1,
              "#f0f921"
             ]
            ],
            "type": "contour"
           }
          ],
          "contourcarpet": [
           {
            "colorbar": {
             "outlinewidth": 0,
             "ticks": ""
            },
            "type": "contourcarpet"
           }
          ],
          "heatmap": [
           {
            "colorbar": {
             "outlinewidth": 0,
             "ticks": ""
            },
            "colorscale": [
             [
              0,
              "#0d0887"
             ],
             [
              0.1111111111111111,
              "#46039f"
             ],
             [
              0.2222222222222222,
              "#7201a8"
             ],
             [
              0.3333333333333333,
              "#9c179e"
             ],
             [
              0.4444444444444444,
              "#bd3786"
             ],
             [
              0.5555555555555556,
              "#d8576b"
             ],
             [
              0.6666666666666666,
              "#ed7953"
             ],
             [
              0.7777777777777778,
              "#fb9f3a"
             ],
             [
              0.8888888888888888,
              "#fdca26"
             ],
             [
              1,
              "#f0f921"
             ]
            ],
            "type": "heatmap"
           }
          ],
          "heatmapgl": [
           {
            "colorbar": {
             "outlinewidth": 0,
             "ticks": ""
            },
            "colorscale": [
             [
              0,
              "#0d0887"
             ],
             [
              0.1111111111111111,
              "#46039f"
             ],
             [
              0.2222222222222222,
              "#7201a8"
             ],
             [
              0.3333333333333333,
              "#9c179e"
             ],
             [
              0.4444444444444444,
              "#bd3786"
             ],
             [
              0.5555555555555556,
              "#d8576b"
             ],
             [
              0.6666666666666666,
              "#ed7953"
             ],
             [
              0.7777777777777778,
              "#fb9f3a"
             ],
             [
              0.8888888888888888,
              "#fdca26"
             ],
             [
              1,
              "#f0f921"
             ]
            ],
            "type": "heatmapgl"
           }
          ],
          "histogram": [
           {
            "marker": {
             "pattern": {
              "fillmode": "overlay",
              "size": 10,
              "solidity": 0.2
             }
            },
            "type": "histogram"
           }
          ],
          "histogram2d": [
           {
            "colorbar": {
             "outlinewidth": 0,
             "ticks": ""
            },
            "colorscale": [
             [
              0,
              "#0d0887"
             ],
             [
              0.1111111111111111,
              "#46039f"
             ],
             [
              0.2222222222222222,
              "#7201a8"
             ],
             [
              0.3333333333333333,
              "#9c179e"
             ],
             [
              0.4444444444444444,
              "#bd3786"
             ],
             [
              0.5555555555555556,
              "#d8576b"
             ],
             [
              0.6666666666666666,
              "#ed7953"
             ],
             [
              0.7777777777777778,
              "#fb9f3a"
             ],
             [
              0.8888888888888888,
              "#fdca26"
             ],
             [
              1,
              "#f0f921"
             ]
            ],
            "type": "histogram2d"
           }
          ],
          "histogram2dcontour": [
           {
            "colorbar": {
             "outlinewidth": 0,
             "ticks": ""
            },
            "colorscale": [
             [
              0,
              "#0d0887"
             ],
             [
              0.1111111111111111,
              "#46039f"
             ],
             [
              0.2222222222222222,
              "#7201a8"
             ],
             [
              0.3333333333333333,
              "#9c179e"
             ],
             [
              0.4444444444444444,
              "#bd3786"
             ],
             [
              0.5555555555555556,
              "#d8576b"
             ],
             [
              0.6666666666666666,
              "#ed7953"
             ],
             [
              0.7777777777777778,
              "#fb9f3a"
             ],
             [
              0.8888888888888888,
              "#fdca26"
             ],
             [
              1,
              "#f0f921"
             ]
            ],
            "type": "histogram2dcontour"
           }
          ],
          "mesh3d": [
           {
            "colorbar": {
             "outlinewidth": 0,
             "ticks": ""
            },
            "type": "mesh3d"
           }
          ],
          "parcoords": [
           {
            "line": {
             "colorbar": {
              "outlinewidth": 0,
              "ticks": ""
             }
            },
            "type": "parcoords"
           }
          ],
          "pie": [
           {
            "automargin": true,
            "type": "pie"
           }
          ],
          "scatter": [
           {
            "fillpattern": {
             "fillmode": "overlay",
             "size": 10,
             "solidity": 0.2
            },
            "type": "scatter"
           }
          ],
          "scatter3d": [
           {
            "line": {
             "colorbar": {
              "outlinewidth": 0,
              "ticks": ""
             }
            },
            "marker": {
             "colorbar": {
              "outlinewidth": 0,
              "ticks": ""
             }
            },
            "type": "scatter3d"
           }
          ],
          "scattercarpet": [
           {
            "marker": {
             "colorbar": {
              "outlinewidth": 0,
              "ticks": ""
             }
            },
            "type": "scattercarpet"
           }
          ],
          "scattergeo": [
           {
            "marker": {
             "colorbar": {
              "outlinewidth": 0,
              "ticks": ""
             }
            },
            "type": "scattergeo"
           }
          ],
          "scattergl": [
           {
            "marker": {
             "colorbar": {
              "outlinewidth": 0,
              "ticks": ""
             }
            },
            "type": "scattergl"
           }
          ],
          "scattermapbox": [
           {
            "marker": {
             "colorbar": {
              "outlinewidth": 0,
              "ticks": ""
             }
            },
            "type": "scattermapbox"
           }
          ],
          "scatterpolar": [
           {
            "marker": {
             "colorbar": {
              "outlinewidth": 0,
              "ticks": ""
             }
            },
            "type": "scatterpolar"
           }
          ],
          "scatterpolargl": [
           {
            "marker": {
             "colorbar": {
              "outlinewidth": 0,
              "ticks": ""
             }
            },
            "type": "scatterpolargl"
           }
          ],
          "scatterternary": [
           {
            "marker": {
             "colorbar": {
              "outlinewidth": 0,
              "ticks": ""
             }
            },
            "type": "scatterternary"
           }
          ],
          "surface": [
           {
            "colorbar": {
             "outlinewidth": 0,
             "ticks": ""
            },
            "colorscale": [
             [
              0,
              "#0d0887"
             ],
             [
              0.1111111111111111,
              "#46039f"
             ],
             [
              0.2222222222222222,
              "#7201a8"
             ],
             [
              0.3333333333333333,
              "#9c179e"
             ],
             [
              0.4444444444444444,
              "#bd3786"
             ],
             [
              0.5555555555555556,
              "#d8576b"
             ],
             [
              0.6666666666666666,
              "#ed7953"
             ],
             [
              0.7777777777777778,
              "#fb9f3a"
             ],
             [
              0.8888888888888888,
              "#fdca26"
             ],
             [
              1,
              "#f0f921"
             ]
            ],
            "type": "surface"
           }
          ],
          "table": [
           {
            "cells": {
             "fill": {
              "color": "#EBF0F8"
             },
             "line": {
              "color": "white"
             }
            },
            "header": {
             "fill": {
              "color": "#C8D4E3"
             },
             "line": {
              "color": "white"
             }
            },
            "type": "table"
           }
          ]
         },
         "layout": {
          "annotationdefaults": {
           "arrowcolor": "#2a3f5f",
           "arrowhead": 0,
           "arrowwidth": 1
          },
          "autotypenumbers": "strict",
          "coloraxis": {
           "colorbar": {
            "outlinewidth": 0,
            "ticks": ""
           }
          },
          "colorscale": {
           "diverging": [
            [
             0,
             "#8e0152"
            ],
            [
             0.1,
             "#c51b7d"
            ],
            [
             0.2,
             "#de77ae"
            ],
            [
             0.3,
             "#f1b6da"
            ],
            [
             0.4,
             "#fde0ef"
            ],
            [
             0.5,
             "#f7f7f7"
            ],
            [
             0.6,
             "#e6f5d0"
            ],
            [
             0.7,
             "#b8e186"
            ],
            [
             0.8,
             "#7fbc41"
            ],
            [
             0.9,
             "#4d9221"
            ],
            [
             1,
             "#276419"
            ]
           ],
           "sequential": [
            [
             0,
             "#0d0887"
            ],
            [
             0.1111111111111111,
             "#46039f"
            ],
            [
             0.2222222222222222,
             "#7201a8"
            ],
            [
             0.3333333333333333,
             "#9c179e"
            ],
            [
             0.4444444444444444,
             "#bd3786"
            ],
            [
             0.5555555555555556,
             "#d8576b"
            ],
            [
             0.6666666666666666,
             "#ed7953"
            ],
            [
             0.7777777777777778,
             "#fb9f3a"
            ],
            [
             0.8888888888888888,
             "#fdca26"
            ],
            [
             1,
             "#f0f921"
            ]
           ],
           "sequentialminus": [
            [
             0,
             "#0d0887"
            ],
            [
             0.1111111111111111,
             "#46039f"
            ],
            [
             0.2222222222222222,
             "#7201a8"
            ],
            [
             0.3333333333333333,
             "#9c179e"
            ],
            [
             0.4444444444444444,
             "#bd3786"
            ],
            [
             0.5555555555555556,
             "#d8576b"
            ],
            [
             0.6666666666666666,
             "#ed7953"
            ],
            [
             0.7777777777777778,
             "#fb9f3a"
            ],
            [
             0.8888888888888888,
             "#fdca26"
            ],
            [
             1,
             "#f0f921"
            ]
           ]
          },
          "colorway": [
           "#636efa",
           "#EF553B",
           "#00cc96",
           "#ab63fa",
           "#FFA15A",
           "#19d3f3",
           "#FF6692",
           "#B6E880",
           "#FF97FF",
           "#FECB52"
          ],
          "font": {
           "color": "#2a3f5f"
          },
          "geo": {
           "bgcolor": "white",
           "lakecolor": "white",
           "landcolor": "#E5ECF6",
           "showlakes": true,
           "showland": true,
           "subunitcolor": "white"
          },
          "hoverlabel": {
           "align": "left"
          },
          "hovermode": "closest",
          "mapbox": {
           "style": "light"
          },
          "paper_bgcolor": "white",
          "plot_bgcolor": "#E5ECF6",
          "polar": {
           "angularaxis": {
            "gridcolor": "white",
            "linecolor": "white",
            "ticks": ""
           },
           "bgcolor": "#E5ECF6",
           "radialaxis": {
            "gridcolor": "white",
            "linecolor": "white",
            "ticks": ""
           }
          },
          "scene": {
           "xaxis": {
            "backgroundcolor": "#E5ECF6",
            "gridcolor": "white",
            "gridwidth": 2,
            "linecolor": "white",
            "showbackground": true,
            "ticks": "",
            "zerolinecolor": "white"
           },
           "yaxis": {
            "backgroundcolor": "#E5ECF6",
            "gridcolor": "white",
            "gridwidth": 2,
            "linecolor": "white",
            "showbackground": true,
            "ticks": "",
            "zerolinecolor": "white"
           },
           "zaxis": {
            "backgroundcolor": "#E5ECF6",
            "gridcolor": "white",
            "gridwidth": 2,
            "linecolor": "white",
            "showbackground": true,
            "ticks": "",
            "zerolinecolor": "white"
           }
          },
          "shapedefaults": {
           "line": {
            "color": "#2a3f5f"
           }
          },
          "ternary": {
           "aaxis": {
            "gridcolor": "white",
            "linecolor": "white",
            "ticks": ""
           },
           "baxis": {
            "gridcolor": "white",
            "linecolor": "white",
            "ticks": ""
           },
           "bgcolor": "#E5ECF6",
           "caxis": {
            "gridcolor": "white",
            "linecolor": "white",
            "ticks": ""
           }
          },
          "title": {
           "x": 0.05
          },
          "xaxis": {
           "automargin": true,
           "gridcolor": "white",
           "linecolor": "white",
           "ticks": "",
           "title": {
            "standoff": 15
           },
           "zerolinecolor": "white",
           "zerolinewidth": 2
          },
          "yaxis": {
           "automargin": true,
           "gridcolor": "white",
           "linecolor": "white",
           "ticks": "",
           "title": {
            "standoff": 15
           },
           "zerolinecolor": "white",
           "zerolinewidth": 2
          }
         }
        },
        "xaxis": {
         "anchor": "y",
         "domain": [
          0,
          1
         ],
         "title": {
          "text": ""
         },
         "type": "date"
        },
        "yaxis": {
         "anchor": "x",
         "autorange": "reversed",
         "domain": [
          0,
          1
         ],
         "title": {
          "text": "베드명"
         }
        }
       }
      },
      "text/html": [
       "<div>                            <div id=\"0c69524d-35be-427f-8e32-bfd8e07a21d6\" class=\"plotly-graph-div\" style=\"height:500px; width:100%;\"></div>            <script type=\"text/javascript\">                require([\"plotly\"], function(Plotly) {                    window.PLOTLYENV=window.PLOTLYENV || {};                                    if (document.getElementById(\"0c69524d-35be-427f-8e32-bfd8e07a21d6\")) {                    Plotly.newPlot(                        \"0c69524d-35be-427f-8e32-bfd8e07a21d6\",                        [{\"alignmentgroup\":\"True\",\"base\":[\"2024-02-03\",\"2024-02-10\"],\"customdata\":[[7,54],[7,56]],\"hovertemplate\":\"베드구분=A<br>착수일=%{base}<br>종료일=%{x}<br>베드명=%{y}<br>차트텍스트=%{text}<br>표준공기=%{customdata[0]}<br>조립중량=%{customdata[1]}<extra></extra>\",\"legendgroup\":\"A\",\"marker\":{\"color\":\"#636efa\",\"opacity\":0.7,\"pattern\":{\"shape\":\"\"}},\"name\":\"A\",\"offsetgroup\":\"A\",\"orientation\":\"h\",\"showlegend\":true,\"text\":[\"S22 / 조립중량: 7ton\",\"S29 / 조립중량: 7ton\"],\"textposition\":\"auto\",\"x\":[604800000.0,604800000.0],\"xaxis\":\"x\",\"y\":[\"A\",\"A\"],\"yaxis\":\"y\",\"type\":\"bar\"},{\"alignmentgroup\":\"True\",\"base\":[\"2024-02-03\",\"2024-02-16\",\"2024-02-11\"],\"customdata\":[[8,50],[4,60],[5,56]],\"hovertemplate\":\"베드구분=B<br>착수일=%{base}<br>종료일=%{x}<br>베드명=%{y}<br>차트텍스트=%{text}<br>표준공기=%{customdata[0]}<br>조립중량=%{customdata[1]}<extra></extra>\",\"legendgroup\":\"B\",\"marker\":{\"color\":\"#EF553B\",\"opacity\":0.7,\"pattern\":{\"shape\":\"\"}},\"name\":\"B\",\"offsetgroup\":\"B\",\"orientation\":\"h\",\"showlegend\":true,\"text\":[\"S18 / 조립중량: 8ton\",\"S27 / 조립중량: 4ton\",\"S13 / 조립중량: 5ton\"],\"textposition\":\"auto\",\"x\":[691200000.0,345600000.0,432000000.0],\"xaxis\":\"x\",\"y\":[\"B\",\"B\",\"B\"],\"yaxis\":\"y\",\"type\":\"bar\"},{\"alignmentgroup\":\"True\",\"base\":[\"2024-02-10\",\"2024-02-03\"],\"customdata\":[[6,51],[7,50]],\"hovertemplate\":\"베드구분=C<br>착수일=%{base}<br>종료일=%{x}<br>베드명=%{y}<br>차트텍스트=%{text}<br>표준공기=%{customdata[0]}<br>조립중량=%{customdata[1]}<extra></extra>\",\"legendgroup\":\"C\",\"marker\":{\"color\":\"#00cc96\",\"opacity\":0.7,\"pattern\":{\"shape\":\"\"}},\"name\":\"C\",\"offsetgroup\":\"C\",\"orientation\":\"h\",\"showlegend\":true,\"text\":[\"S23 / 조립중량: 6ton\",\"S4 / 조립중량: 7ton\"],\"textposition\":\"auto\",\"x\":[518400000.0,604800000.0],\"xaxis\":\"x\",\"y\":[\"C\",\"C\"],\"yaxis\":\"y\",\"type\":\"bar\"},{\"alignmentgroup\":\"True\",\"base\":[\"2024-02-15\",\"2024-02-11\",\"2024-02-03\"],\"customdata\":[[4,56],[4,57],[8,52]],\"hovertemplate\":\"베드구분=D<br>착수일=%{base}<br>종료일=%{x}<br>베드명=%{y}<br>차트텍스트=%{text}<br>표준공기=%{customdata[0]}<br>조립중량=%{customdata[1]}<extra></extra>\",\"legendgroup\":\"D\",\"marker\":{\"color\":\"#ab63fa\",\"opacity\":0.7,\"pattern\":{\"shape\":\"\"}},\"name\":\"D\",\"offsetgroup\":\"D\",\"orientation\":\"h\",\"showlegend\":true,\"text\":[\"S24 / 조립중량: 4ton\",\"S10 / 조립중량: 4ton\",\"S9 / 조립중량: 8ton\"],\"textposition\":\"auto\",\"x\":[345600000.0,345600000.0,691200000.0],\"xaxis\":\"x\",\"y\":[\"D\",\"D\",\"D\"],\"yaxis\":\"y\",\"type\":\"bar\"},{\"alignmentgroup\":\"True\",\"base\":[\"2024-02-03\",\"2024-02-11\"],\"customdata\":[[8,58],[6,60]],\"hovertemplate\":\"베드구분=E<br>착수일=%{base}<br>종료일=%{x}<br>베드명=%{y}<br>차트텍스트=%{text}<br>표준공기=%{customdata[0]}<br>조립중량=%{customdata[1]}<extra></extra>\",\"legendgroup\":\"E\",\"marker\":{\"color\":\"#FFA15A\",\"opacity\":0.7,\"pattern\":{\"shape\":\"\"}},\"name\":\"E\",\"offsetgroup\":\"E\",\"orientation\":\"h\",\"showlegend\":true,\"text\":[\"S28 / 조립중량: 8ton\",\"S12 / 조립중량: 6ton\"],\"textposition\":\"auto\",\"x\":[691200000.0,518400000.0],\"xaxis\":\"x\",\"y\":[\"E\",\"E\"],\"yaxis\":\"y\",\"type\":\"bar\"},{\"alignmentgroup\":\"True\",\"base\":[\"2024-02-16\",\"2024-02-11\",\"2024-02-03\"],\"customdata\":[[4,54],[5,60],[8,55]],\"hovertemplate\":\"베드구분=F<br>착수일=%{base}<br>종료일=%{x}<br>베드명=%{y}<br>차트텍스트=%{text}<br>표준공기=%{customdata[0]}<br>조립중량=%{customdata[1]}<extra></extra>\",\"legendgroup\":\"F\",\"marker\":{\"color\":\"#19d3f3\",\"opacity\":0.7,\"pattern\":{\"shape\":\"\"}},\"name\":\"F\",\"offsetgroup\":\"F\",\"orientation\":\"h\",\"showlegend\":true,\"text\":[\"S14 / 조립중량: 4ton\",\"S15 / 조립중량: 5ton\",\"S25 / 조립중량: 8ton\"],\"textposition\":\"auto\",\"x\":[345600000.0,432000000.0,691200000.0],\"xaxis\":\"x\",\"y\":[\"F\",\"F\",\"F\"],\"yaxis\":\"y\",\"type\":\"bar\"},{\"alignmentgroup\":\"True\",\"base\":[\"2024-02-11\",\"2024-02-03\",\"2024-02-16\"],\"customdata\":[[5,58],[8,50],[4,53]],\"hovertemplate\":\"베드구분=G<br>착수일=%{base}<br>종료일=%{x}<br>베드명=%{y}<br>차트텍스트=%{text}<br>표준공기=%{customdata[0]}<br>조립중량=%{customdata[1]}<extra></extra>\",\"legendgroup\":\"G\",\"marker\":{\"color\":\"#FF6692\",\"opacity\":0.7,\"pattern\":{\"shape\":\"\"}},\"name\":\"G\",\"offsetgroup\":\"G\",\"orientation\":\"h\",\"showlegend\":true,\"text\":[\"S21 / 조립중량: 5ton\",\"S11 / 조립중량: 8ton\",\"S26 / 조립중량: 4ton\"],\"textposition\":\"auto\",\"x\":[432000000.0,691200000.0,345600000.0],\"xaxis\":\"x\",\"y\":[\"G\",\"G\",\"G\"],\"yaxis\":\"y\",\"type\":\"bar\"}],                        {\"template\":{\"data\":{\"histogram2dcontour\":[{\"type\":\"histogram2dcontour\",\"colorbar\":{\"outlinewidth\":0,\"ticks\":\"\"},\"colorscale\":[[0.0,\"#0d0887\"],[0.1111111111111111,\"#46039f\"],[0.2222222222222222,\"#7201a8\"],[0.3333333333333333,\"#9c179e\"],[0.4444444444444444,\"#bd3786\"],[0.5555555555555556,\"#d8576b\"],[0.6666666666666666,\"#ed7953\"],[0.7777777777777778,\"#fb9f3a\"],[0.8888888888888888,\"#fdca26\"],[1.0,\"#f0f921\"]]}],\"choropleth\":[{\"type\":\"choropleth\",\"colorbar\":{\"outlinewidth\":0,\"ticks\":\"\"}}],\"histogram2d\":[{\"type\":\"histogram2d\",\"colorbar\":{\"outlinewidth\":0,\"ticks\":\"\"},\"colorscale\":[[0.0,\"#0d0887\"],[0.1111111111111111,\"#46039f\"],[0.2222222222222222,\"#7201a8\"],[0.3333333333333333,\"#9c179e\"],[0.4444444444444444,\"#bd3786\"],[0.5555555555555556,\"#d8576b\"],[0.6666666666666666,\"#ed7953\"],[0.7777777777777778,\"#fb9f3a\"],[0.8888888888888888,\"#fdca26\"],[1.0,\"#f0f921\"]]}],\"heatmap\":[{\"type\":\"heatmap\",\"colorbar\":{\"outlinewidth\":0,\"ticks\":\"\"},\"colorscale\":[[0.0,\"#0d0887\"],[0.1111111111111111,\"#46039f\"],[0.2222222222222222,\"#7201a8\"],[0.3333333333333333,\"#9c179e\"],[0.4444444444444444,\"#bd3786\"],[0.5555555555555556,\"#d8576b\"],[0.6666666666666666,\"#ed7953\"],[0.7777777777777778,\"#fb9f3a\"],[0.8888888888888888,\"#fdca26\"],[1.0,\"#f0f921\"]]}],\"heatmapgl\":[{\"type\":\"heatmapgl\",\"colorbar\":{\"outlinewidth\":0,\"ticks\":\"\"},\"colorscale\":[[0.0,\"#0d0887\"],[0.1111111111111111,\"#46039f\"],[0.2222222222222222,\"#7201a8\"],[0.3333333333333333,\"#9c179e\"],[0.4444444444444444,\"#bd3786\"],[0.5555555555555556,\"#d8576b\"],[0.6666666666666666,\"#ed7953\"],[0.7777777777777778,\"#fb9f3a\"],[0.8888888888888888,\"#fdca26\"],[1.0,\"#f0f921\"]]}],\"contourcarpet\":[{\"type\":\"contourcarpet\",\"colorbar\":{\"outlinewidth\":0,\"ticks\":\"\"}}],\"contour\":[{\"type\":\"contour\",\"colorbar\":{\"outlinewidth\":0,\"ticks\":\"\"},\"colorscale\":[[0.0,\"#0d0887\"],[0.1111111111111111,\"#46039f\"],[0.2222222222222222,\"#7201a8\"],[0.3333333333333333,\"#9c179e\"],[0.4444444444444444,\"#bd3786\"],[0.5555555555555556,\"#d8576b\"],[0.6666666666666666,\"#ed7953\"],[0.7777777777777778,\"#fb9f3a\"],[0.8888888888888888,\"#fdca26\"],[1.0,\"#f0f921\"]]}],\"surface\":[{\"type\":\"surface\",\"colorbar\":{\"outlinewidth\":0,\"ticks\":\"\"},\"colorscale\":[[0.0,\"#0d0887\"],[0.1111111111111111,\"#46039f\"],[0.2222222222222222,\"#7201a8\"],[0.3333333333333333,\"#9c179e\"],[0.4444444444444444,\"#bd3786\"],[0.5555555555555556,\"#d8576b\"],[0.6666666666666666,\"#ed7953\"],[0.7777777777777778,\"#fb9f3a\"],[0.8888888888888888,\"#fdca26\"],[1.0,\"#f0f921\"]]}],\"mesh3d\":[{\"type\":\"mesh3d\",\"colorbar\":{\"outlinewidth\":0,\"ticks\":\"\"}}],\"scatter\":[{\"fillpattern\":{\"fillmode\":\"overlay\",\"size\":10,\"solidity\":0.2},\"type\":\"scatter\"}],\"parcoords\":[{\"type\":\"parcoords\",\"line\":{\"colorbar\":{\"outlinewidth\":0,\"ticks\":\"\"}}}],\"scatterpolargl\":[{\"type\":\"scatterpolargl\",\"marker\":{\"colorbar\":{\"outlinewidth\":0,\"ticks\":\"\"}}}],\"bar\":[{\"error_x\":{\"color\":\"#2a3f5f\"},\"error_y\":{\"color\":\"#2a3f5f\"},\"marker\":{\"line\":{\"color\":\"#E5ECF6\",\"width\":0.5},\"pattern\":{\"fillmode\":\"overlay\",\"size\":10,\"solidity\":0.2}},\"type\":\"bar\"}],\"scattergeo\":[{\"type\":\"scattergeo\",\"marker\":{\"colorbar\":{\"outlinewidth\":0,\"ticks\":\"\"}}}],\"scatterpolar\":[{\"type\":\"scatterpolar\",\"marker\":{\"colorbar\":{\"outlinewidth\":0,\"ticks\":\"\"}}}],\"histogram\":[{\"marker\":{\"pattern\":{\"fillmode\":\"overlay\",\"size\":10,\"solidity\":0.2}},\"type\":\"histogram\"}],\"scattergl\":[{\"type\":\"scattergl\",\"marker\":{\"colorbar\":{\"outlinewidth\":0,\"ticks\":\"\"}}}],\"scatter3d\":[{\"type\":\"scatter3d\",\"line\":{\"colorbar\":{\"outlinewidth\":0,\"ticks\":\"\"}},\"marker\":{\"colorbar\":{\"outlinewidth\":0,\"ticks\":\"\"}}}],\"scattermapbox\":[{\"type\":\"scattermapbox\",\"marker\":{\"colorbar\":{\"outlinewidth\":0,\"ticks\":\"\"}}}],\"scatterternary\":[{\"type\":\"scatterternary\",\"marker\":{\"colorbar\":{\"outlinewidth\":0,\"ticks\":\"\"}}}],\"scattercarpet\":[{\"type\":\"scattercarpet\",\"marker\":{\"colorbar\":{\"outlinewidth\":0,\"ticks\":\"\"}}}],\"carpet\":[{\"aaxis\":{\"endlinecolor\":\"#2a3f5f\",\"gridcolor\":\"white\",\"linecolor\":\"white\",\"minorgridcolor\":\"white\",\"startlinecolor\":\"#2a3f5f\"},\"baxis\":{\"endlinecolor\":\"#2a3f5f\",\"gridcolor\":\"white\",\"linecolor\":\"white\",\"minorgridcolor\":\"white\",\"startlinecolor\":\"#2a3f5f\"},\"type\":\"carpet\"}],\"table\":[{\"cells\":{\"fill\":{\"color\":\"#EBF0F8\"},\"line\":{\"color\":\"white\"}},\"header\":{\"fill\":{\"color\":\"#C8D4E3\"},\"line\":{\"color\":\"white\"}},\"type\":\"table\"}],\"barpolar\":[{\"marker\":{\"line\":{\"color\":\"#E5ECF6\",\"width\":0.5},\"pattern\":{\"fillmode\":\"overlay\",\"size\":10,\"solidity\":0.2}},\"type\":\"barpolar\"}],\"pie\":[{\"automargin\":true,\"type\":\"pie\"}]},\"layout\":{\"autotypenumbers\":\"strict\",\"colorway\":[\"#636efa\",\"#EF553B\",\"#00cc96\",\"#ab63fa\",\"#FFA15A\",\"#19d3f3\",\"#FF6692\",\"#B6E880\",\"#FF97FF\",\"#FECB52\"],\"font\":{\"color\":\"#2a3f5f\"},\"hovermode\":\"closest\",\"hoverlabel\":{\"align\":\"left\"},\"paper_bgcolor\":\"white\",\"plot_bgcolor\":\"#E5ECF6\",\"polar\":{\"bgcolor\":\"#E5ECF6\",\"angularaxis\":{\"gridcolor\":\"white\",\"linecolor\":\"white\",\"ticks\":\"\"},\"radialaxis\":{\"gridcolor\":\"white\",\"linecolor\":\"white\",\"ticks\":\"\"}},\"ternary\":{\"bgcolor\":\"#E5ECF6\",\"aaxis\":{\"gridcolor\":\"white\",\"linecolor\":\"white\",\"ticks\":\"\"},\"baxis\":{\"gridcolor\":\"white\",\"linecolor\":\"white\",\"ticks\":\"\"},\"caxis\":{\"gridcolor\":\"white\",\"linecolor\":\"white\",\"ticks\":\"\"}},\"coloraxis\":{\"colorbar\":{\"outlinewidth\":0,\"ticks\":\"\"}},\"colorscale\":{\"sequential\":[[0.0,\"#0d0887\"],[0.1111111111111111,\"#46039f\"],[0.2222222222222222,\"#7201a8\"],[0.3333333333333333,\"#9c179e\"],[0.4444444444444444,\"#bd3786\"],[0.5555555555555556,\"#d8576b\"],[0.6666666666666666,\"#ed7953\"],[0.7777777777777778,\"#fb9f3a\"],[0.8888888888888888,\"#fdca26\"],[1.0,\"#f0f921\"]],\"sequentialminus\":[[0.0,\"#0d0887\"],[0.1111111111111111,\"#46039f\"],[0.2222222222222222,\"#7201a8\"],[0.3333333333333333,\"#9c179e\"],[0.4444444444444444,\"#bd3786\"],[0.5555555555555556,\"#d8576b\"],[0.6666666666666666,\"#ed7953\"],[0.7777777777777778,\"#fb9f3a\"],[0.8888888888888888,\"#fdca26\"],[1.0,\"#f0f921\"]],\"diverging\":[[0,\"#8e0152\"],[0.1,\"#c51b7d\"],[0.2,\"#de77ae\"],[0.3,\"#f1b6da\"],[0.4,\"#fde0ef\"],[0.5,\"#f7f7f7\"],[0.6,\"#e6f5d0\"],[0.7,\"#b8e186\"],[0.8,\"#7fbc41\"],[0.9,\"#4d9221\"],[1,\"#276419\"]]},\"xaxis\":{\"gridcolor\":\"white\",\"linecolor\":\"white\",\"ticks\":\"\",\"title\":{\"standoff\":15},\"zerolinecolor\":\"white\",\"automargin\":true,\"zerolinewidth\":2},\"yaxis\":{\"gridcolor\":\"white\",\"linecolor\":\"white\",\"ticks\":\"\",\"title\":{\"standoff\":15},\"zerolinecolor\":\"white\",\"automargin\":true,\"zerolinewidth\":2},\"scene\":{\"xaxis\":{\"backgroundcolor\":\"#E5ECF6\",\"gridcolor\":\"white\",\"linecolor\":\"white\",\"showbackground\":true,\"ticks\":\"\",\"zerolinecolor\":\"white\",\"gridwidth\":2},\"yaxis\":{\"backgroundcolor\":\"#E5ECF6\",\"gridcolor\":\"white\",\"linecolor\":\"white\",\"showbackground\":true,\"ticks\":\"\",\"zerolinecolor\":\"white\",\"gridwidth\":2},\"zaxis\":{\"backgroundcolor\":\"#E5ECF6\",\"gridcolor\":\"white\",\"linecolor\":\"white\",\"showbackground\":true,\"ticks\":\"\",\"zerolinecolor\":\"white\",\"gridwidth\":2}},\"shapedefaults\":{\"line\":{\"color\":\"#2a3f5f\"}},\"annotationdefaults\":{\"arrowcolor\":\"#2a3f5f\",\"arrowhead\":0,\"arrowwidth\":1},\"geo\":{\"bgcolor\":\"white\",\"landcolor\":\"#E5ECF6\",\"subunitcolor\":\"white\",\"showland\":true,\"showlakes\":true,\"lakecolor\":\"white\"},\"title\":{\"x\":0.05},\"mapbox\":{\"style\":\"light\"}}},\"xaxis\":{\"anchor\":\"y\",\"domain\":[0.0,1.0],\"type\":\"date\",\"title\":{\"text\":\"\"}},\"yaxis\":{\"anchor\":\"x\",\"domain\":[0.0,1.0],\"title\":{\"text\":\"베드명\"},\"autorange\":\"reversed\"},\"legend\":{\"title\":{\"text\":\"베드구분\"},\"tracegroupgap\":0},\"margin\":{\"t\":60},\"barmode\":\"overlay\",\"hoverlabel\":{\"bgcolor\":\"#DAEEED\"},\"font\":{\"family\":\"Courier New, monospace\",\"size\":12,\"color\":\"RebeccaPurple\"},\"bargap\":0.2,\"height\":500},                        {\"responsive\": true}                    ).then(function(){\n",
       "                            \n",
       "var gd = document.getElementById('0c69524d-35be-427f-8e32-bfd8e07a21d6');\n",
       "var x = new MutationObserver(function (mutations, observer) {{\n",
       "        var display = window.getComputedStyle(gd).display;\n",
       "        if (!display || display === 'none') {{\n",
       "            console.log([gd, 'removed!']);\n",
       "            Plotly.purge(gd);\n",
       "            observer.disconnect();\n",
       "        }}\n",
       "}});\n",
       "\n",
       "// Listen for the removal of the full notebook cells\n",
       "var notebookContainer = gd.closest('#notebook-container');\n",
       "if (notebookContainer) {{\n",
       "    x.observe(notebookContainer, {childList: true});\n",
       "}}\n",
       "\n",
       "// Listen for the clearing of the current output cell\n",
       "var outputEl = gd.closest('.output');\n",
       "if (outputEl) {{\n",
       "    x.observe(outputEl, {childList: true});\n",
       "}}\n",
       "\n",
       "                        })                };                });            </script>        </div>"
      ]
     },
     "metadata": {},
     "output_type": "display_data"
    }
   ],
   "source": [
    "draw_gant(배치결과모음[0])"
   ]
  },
  {
   "cell_type": "code",
   "execution_count": 588,
   "id": "1e2fd8cd",
   "metadata": {},
   "outputs": [
    {
     "data": {
      "application/vnd.plotly.v1+json": {
       "config": {
        "plotlyServerURL": "https://plot.ly"
       },
       "data": [
        {
         "alignmentgroup": "True",
         "base": [
          "2024-02-13",
          "2024-02-03",
          "2024-02-07"
         ],
         "customdata": [
          [
           7,
           54
          ],
          [
           4,
           56
          ],
          [
           6,
           59
          ]
         ],
         "hovertemplate": "베드구분=A<br>착수일=%{base}<br>종료일=%{x}<br>베드명=%{y}<br>차트텍스트=%{text}<br>표준공기=%{customdata[0]}<br>조립중량=%{customdata[1]}<extra></extra>",
         "legendgroup": "A",
         "marker": {
          "color": "#636efa",
          "opacity": 0.7,
          "pattern": {
           "shape": ""
          }
         },
         "name": "A",
         "offsetgroup": "A",
         "orientation": "h",
         "showlegend": true,
         "text": [
          "S22 / 조립중량: 7ton",
          "S24 / 조립중량: 4ton",
          "S6 / 조립중량: 6ton"
         ],
         "textposition": "auto",
         "type": "bar",
         "x": [
          604800000,
          345600000,
          518400000
         ],
         "xaxis": "x",
         "y": [
          "A",
          "A",
          "A"
         ],
         "yaxis": "y"
        },
        {
         "alignmentgroup": "True",
         "base": [
          "2024-02-03",
          "2024-02-09"
         ],
         "customdata": [
          [
           6,
           50
          ],
          [
           8,
           58
          ]
         ],
         "hovertemplate": "베드구분=B<br>착수일=%{base}<br>종료일=%{x}<br>베드명=%{y}<br>차트텍스트=%{text}<br>표준공기=%{customdata[0]}<br>조립중량=%{customdata[1]}<extra></extra>",
         "legendgroup": "B",
         "marker": {
          "color": "#EF553B",
          "opacity": 0.7,
          "pattern": {
           "shape": ""
          }
         },
         "name": "B",
         "offsetgroup": "B",
         "orientation": "h",
         "showlegend": true,
         "text": [
          "S1 / 조립중량: 6ton",
          "S28 / 조립중량: 8ton"
         ],
         "textposition": "auto",
         "type": "bar",
         "x": [
          518400000,
          691200000
         ],
         "xaxis": "x",
         "y": [
          "B",
          "B"
         ],
         "yaxis": "y"
        },
        {
         "alignmentgroup": "True",
         "base": [
          "2024-02-03",
          "2024-02-15",
          "2024-02-09"
         ],
         "customdata": [
          [
           6,
           59
          ],
          [
           4,
           54
          ],
          [
           6,
           50
          ]
         ],
         "hovertemplate": "베드구분=C<br>착수일=%{base}<br>종료일=%{x}<br>베드명=%{y}<br>차트텍스트=%{text}<br>표준공기=%{customdata[0]}<br>조립중량=%{customdata[1]}<extra></extra>",
         "legendgroup": "C",
         "marker": {
          "color": "#00cc96",
          "opacity": 0.7,
          "pattern": {
           "shape": ""
          }
         },
         "name": "C",
         "offsetgroup": "C",
         "orientation": "h",
         "showlegend": true,
         "text": [
          "S20 / 조립중량: 6ton",
          "S14 / 조립중량: 4ton",
          "S7 / 조립중량: 6ton"
         ],
         "textposition": "auto",
         "type": "bar",
         "x": [
          518400000,
          345600000,
          518400000
         ],
         "xaxis": "x",
         "y": [
          "C",
          "C",
          "C"
         ],
         "yaxis": "y"
        },
        {
         "alignmentgroup": "True",
         "base": [
          "2024-02-03",
          "2024-02-07",
          "2024-02-15"
         ],
         "customdata": [
          [
           4,
           57
          ],
          [
           8,
           50
          ],
          [
           4,
           53
          ]
         ],
         "hovertemplate": "베드구분=D<br>착수일=%{base}<br>종료일=%{x}<br>베드명=%{y}<br>차트텍스트=%{text}<br>표준공기=%{customdata[0]}<br>조립중량=%{customdata[1]}<extra></extra>",
         "legendgroup": "D",
         "marker": {
          "color": "#ab63fa",
          "opacity": 0.7,
          "pattern": {
           "shape": ""
          }
         },
         "name": "D",
         "offsetgroup": "D",
         "orientation": "h",
         "showlegend": true,
         "text": [
          "S10 / 조립중량: 4ton",
          "S18 / 조립중량: 8ton",
          "S26 / 조립중량: 4ton"
         ],
         "textposition": "auto",
         "type": "bar",
         "x": [
          345600000,
          691200000,
          345600000
         ],
         "xaxis": "x",
         "y": [
          "D",
          "D",
          "D"
         ],
         "yaxis": "y"
        },
        {
         "alignmentgroup": "True",
         "base": [
          "2024-02-11",
          "2024-02-16",
          "2024-02-03"
         ],
         "customdata": [
          [
           5,
           56
          ],
          [
           7,
           56
          ],
          [
           8,
           55
          ]
         ],
         "hovertemplate": "베드구분=E<br>착수일=%{base}<br>종료일=%{x}<br>베드명=%{y}<br>차트텍스트=%{text}<br>표준공기=%{customdata[0]}<br>조립중량=%{customdata[1]}<extra></extra>",
         "legendgroup": "E",
         "marker": {
          "color": "#FFA15A",
          "opacity": 0.7,
          "pattern": {
           "shape": ""
          }
         },
         "name": "E",
         "offsetgroup": "E",
         "orientation": "h",
         "showlegend": true,
         "text": [
          "S13 / 조립중량: 5ton",
          "S29 / 조립중량: 7ton",
          "S25 / 조립중량: 8ton"
         ],
         "textposition": "auto",
         "type": "bar",
         "x": [
          432000000,
          604800000,
          691200000
         ],
         "xaxis": "x",
         "y": [
          "E",
          "E",
          "E"
         ],
         "yaxis": "y"
        },
        {
         "alignmentgroup": "True",
         "base": [
          "2024-02-12",
          "2024-02-03",
          "2024-02-08"
         ],
         "customdata": [
          [
           5,
           58
          ],
          [
           5,
           56
          ],
          [
           4,
           60
          ]
         ],
         "hovertemplate": "베드구분=F<br>착수일=%{base}<br>종료일=%{x}<br>베드명=%{y}<br>차트텍스트=%{text}<br>표준공기=%{customdata[0]}<br>조립중량=%{customdata[1]}<extra></extra>",
         "legendgroup": "F",
         "marker": {
          "color": "#19d3f3",
          "opacity": 0.7,
          "pattern": {
           "shape": ""
          }
         },
         "name": "F",
         "offsetgroup": "F",
         "orientation": "h",
         "showlegend": true,
         "text": [
          "S21 / 조립중량: 5ton",
          "S16 / 조립중량: 5ton",
          "S27 / 조립중량: 4ton"
         ],
         "textposition": "auto",
         "type": "bar",
         "x": [
          432000000,
          432000000,
          345600000
         ],
         "xaxis": "x",
         "y": [
          "F",
          "F",
          "F"
         ],
         "yaxis": "y"
        },
        {
         "alignmentgroup": "True",
         "base": [
          "2024-02-03",
          "2024-02-15",
          "2024-02-11"
         ],
         "customdata": [
          [
           8,
           52
          ],
          [
           5,
           60
          ],
          [
           4,
           52
          ]
         ],
         "hovertemplate": "베드구분=G<br>착수일=%{base}<br>종료일=%{x}<br>베드명=%{y}<br>차트텍스트=%{text}<br>표준공기=%{customdata[0]}<br>조립중량=%{customdata[1]}<extra></extra>",
         "legendgroup": "G",
         "marker": {
          "color": "#FF6692",
          "opacity": 0.7,
          "pattern": {
           "shape": ""
          }
         },
         "name": "G",
         "offsetgroup": "G",
         "orientation": "h",
         "showlegend": true,
         "text": [
          "S9 / 조립중량: 8ton",
          "S15 / 조립중량: 5ton",
          "S8 / 조립중량: 4ton"
         ],
         "textposition": "auto",
         "type": "bar",
         "x": [
          691200000,
          432000000,
          345600000
         ],
         "xaxis": "x",
         "y": [
          "G",
          "G",
          "G"
         ],
         "yaxis": "y"
        }
       ],
       "layout": {
        "bargap": 0.2,
        "barmode": "overlay",
        "font": {
         "color": "RebeccaPurple",
         "family": "Courier New, monospace",
         "size": 12
        },
        "height": 500,
        "hoverlabel": {
         "bgcolor": "#DAEEED"
        },
        "legend": {
         "title": {
          "text": "베드구분"
         },
         "tracegroupgap": 0
        },
        "margin": {
         "t": 60
        },
        "template": {
         "data": {
          "bar": [
           {
            "error_x": {
             "color": "#2a3f5f"
            },
            "error_y": {
             "color": "#2a3f5f"
            },
            "marker": {
             "line": {
              "color": "#E5ECF6",
              "width": 0.5
             },
             "pattern": {
              "fillmode": "overlay",
              "size": 10,
              "solidity": 0.2
             }
            },
            "type": "bar"
           }
          ],
          "barpolar": [
           {
            "marker": {
             "line": {
              "color": "#E5ECF6",
              "width": 0.5
             },
             "pattern": {
              "fillmode": "overlay",
              "size": 10,
              "solidity": 0.2
             }
            },
            "type": "barpolar"
           }
          ],
          "carpet": [
           {
            "aaxis": {
             "endlinecolor": "#2a3f5f",
             "gridcolor": "white",
             "linecolor": "white",
             "minorgridcolor": "white",
             "startlinecolor": "#2a3f5f"
            },
            "baxis": {
             "endlinecolor": "#2a3f5f",
             "gridcolor": "white",
             "linecolor": "white",
             "minorgridcolor": "white",
             "startlinecolor": "#2a3f5f"
            },
            "type": "carpet"
           }
          ],
          "choropleth": [
           {
            "colorbar": {
             "outlinewidth": 0,
             "ticks": ""
            },
            "type": "choropleth"
           }
          ],
          "contour": [
           {
            "colorbar": {
             "outlinewidth": 0,
             "ticks": ""
            },
            "colorscale": [
             [
              0,
              "#0d0887"
             ],
             [
              0.1111111111111111,
              "#46039f"
             ],
             [
              0.2222222222222222,
              "#7201a8"
             ],
             [
              0.3333333333333333,
              "#9c179e"
             ],
             [
              0.4444444444444444,
              "#bd3786"
             ],
             [
              0.5555555555555556,
              "#d8576b"
             ],
             [
              0.6666666666666666,
              "#ed7953"
             ],
             [
              0.7777777777777778,
              "#fb9f3a"
             ],
             [
              0.8888888888888888,
              "#fdca26"
             ],
             [
              1,
              "#f0f921"
             ]
            ],
            "type": "contour"
           }
          ],
          "contourcarpet": [
           {
            "colorbar": {
             "outlinewidth": 0,
             "ticks": ""
            },
            "type": "contourcarpet"
           }
          ],
          "heatmap": [
           {
            "colorbar": {
             "outlinewidth": 0,
             "ticks": ""
            },
            "colorscale": [
             [
              0,
              "#0d0887"
             ],
             [
              0.1111111111111111,
              "#46039f"
             ],
             [
              0.2222222222222222,
              "#7201a8"
             ],
             [
              0.3333333333333333,
              "#9c179e"
             ],
             [
              0.4444444444444444,
              "#bd3786"
             ],
             [
              0.5555555555555556,
              "#d8576b"
             ],
             [
              0.6666666666666666,
              "#ed7953"
             ],
             [
              0.7777777777777778,
              "#fb9f3a"
             ],
             [
              0.8888888888888888,
              "#fdca26"
             ],
             [
              1,
              "#f0f921"
             ]
            ],
            "type": "heatmap"
           }
          ],
          "heatmapgl": [
           {
            "colorbar": {
             "outlinewidth": 0,
             "ticks": ""
            },
            "colorscale": [
             [
              0,
              "#0d0887"
             ],
             [
              0.1111111111111111,
              "#46039f"
             ],
             [
              0.2222222222222222,
              "#7201a8"
             ],
             [
              0.3333333333333333,
              "#9c179e"
             ],
             [
              0.4444444444444444,
              "#bd3786"
             ],
             [
              0.5555555555555556,
              "#d8576b"
             ],
             [
              0.6666666666666666,
              "#ed7953"
             ],
             [
              0.7777777777777778,
              "#fb9f3a"
             ],
             [
              0.8888888888888888,
              "#fdca26"
             ],
             [
              1,
              "#f0f921"
             ]
            ],
            "type": "heatmapgl"
           }
          ],
          "histogram": [
           {
            "marker": {
             "pattern": {
              "fillmode": "overlay",
              "size": 10,
              "solidity": 0.2
             }
            },
            "type": "histogram"
           }
          ],
          "histogram2d": [
           {
            "colorbar": {
             "outlinewidth": 0,
             "ticks": ""
            },
            "colorscale": [
             [
              0,
              "#0d0887"
             ],
             [
              0.1111111111111111,
              "#46039f"
             ],
             [
              0.2222222222222222,
              "#7201a8"
             ],
             [
              0.3333333333333333,
              "#9c179e"
             ],
             [
              0.4444444444444444,
              "#bd3786"
             ],
             [
              0.5555555555555556,
              "#d8576b"
             ],
             [
              0.6666666666666666,
              "#ed7953"
             ],
             [
              0.7777777777777778,
              "#fb9f3a"
             ],
             [
              0.8888888888888888,
              "#fdca26"
             ],
             [
              1,
              "#f0f921"
             ]
            ],
            "type": "histogram2d"
           }
          ],
          "histogram2dcontour": [
           {
            "colorbar": {
             "outlinewidth": 0,
             "ticks": ""
            },
            "colorscale": [
             [
              0,
              "#0d0887"
             ],
             [
              0.1111111111111111,
              "#46039f"
             ],
             [
              0.2222222222222222,
              "#7201a8"
             ],
             [
              0.3333333333333333,
              "#9c179e"
             ],
             [
              0.4444444444444444,
              "#bd3786"
             ],
             [
              0.5555555555555556,
              "#d8576b"
             ],
             [
              0.6666666666666666,
              "#ed7953"
             ],
             [
              0.7777777777777778,
              "#fb9f3a"
             ],
             [
              0.8888888888888888,
              "#fdca26"
             ],
             [
              1,
              "#f0f921"
             ]
            ],
            "type": "histogram2dcontour"
           }
          ],
          "mesh3d": [
           {
            "colorbar": {
             "outlinewidth": 0,
             "ticks": ""
            },
            "type": "mesh3d"
           }
          ],
          "parcoords": [
           {
            "line": {
             "colorbar": {
              "outlinewidth": 0,
              "ticks": ""
             }
            },
            "type": "parcoords"
           }
          ],
          "pie": [
           {
            "automargin": true,
            "type": "pie"
           }
          ],
          "scatter": [
           {
            "fillpattern": {
             "fillmode": "overlay",
             "size": 10,
             "solidity": 0.2
            },
            "type": "scatter"
           }
          ],
          "scatter3d": [
           {
            "line": {
             "colorbar": {
              "outlinewidth": 0,
              "ticks": ""
             }
            },
            "marker": {
             "colorbar": {
              "outlinewidth": 0,
              "ticks": ""
             }
            },
            "type": "scatter3d"
           }
          ],
          "scattercarpet": [
           {
            "marker": {
             "colorbar": {
              "outlinewidth": 0,
              "ticks": ""
             }
            },
            "type": "scattercarpet"
           }
          ],
          "scattergeo": [
           {
            "marker": {
             "colorbar": {
              "outlinewidth": 0,
              "ticks": ""
             }
            },
            "type": "scattergeo"
           }
          ],
          "scattergl": [
           {
            "marker": {
             "colorbar": {
              "outlinewidth": 0,
              "ticks": ""
             }
            },
            "type": "scattergl"
           }
          ],
          "scattermapbox": [
           {
            "marker": {
             "colorbar": {
              "outlinewidth": 0,
              "ticks": ""
             }
            },
            "type": "scattermapbox"
           }
          ],
          "scatterpolar": [
           {
            "marker": {
             "colorbar": {
              "outlinewidth": 0,
              "ticks": ""
             }
            },
            "type": "scatterpolar"
           }
          ],
          "scatterpolargl": [
           {
            "marker": {
             "colorbar": {
              "outlinewidth": 0,
              "ticks": ""
             }
            },
            "type": "scatterpolargl"
           }
          ],
          "scatterternary": [
           {
            "marker": {
             "colorbar": {
              "outlinewidth": 0,
              "ticks": ""
             }
            },
            "type": "scatterternary"
           }
          ],
          "surface": [
           {
            "colorbar": {
             "outlinewidth": 0,
             "ticks": ""
            },
            "colorscale": [
             [
              0,
              "#0d0887"
             ],
             [
              0.1111111111111111,
              "#46039f"
             ],
             [
              0.2222222222222222,
              "#7201a8"
             ],
             [
              0.3333333333333333,
              "#9c179e"
             ],
             [
              0.4444444444444444,
              "#bd3786"
             ],
             [
              0.5555555555555556,
              "#d8576b"
             ],
             [
              0.6666666666666666,
              "#ed7953"
             ],
             [
              0.7777777777777778,
              "#fb9f3a"
             ],
             [
              0.8888888888888888,
              "#fdca26"
             ],
             [
              1,
              "#f0f921"
             ]
            ],
            "type": "surface"
           }
          ],
          "table": [
           {
            "cells": {
             "fill": {
              "color": "#EBF0F8"
             },
             "line": {
              "color": "white"
             }
            },
            "header": {
             "fill": {
              "color": "#C8D4E3"
             },
             "line": {
              "color": "white"
             }
            },
            "type": "table"
           }
          ]
         },
         "layout": {
          "annotationdefaults": {
           "arrowcolor": "#2a3f5f",
           "arrowhead": 0,
           "arrowwidth": 1
          },
          "autotypenumbers": "strict",
          "coloraxis": {
           "colorbar": {
            "outlinewidth": 0,
            "ticks": ""
           }
          },
          "colorscale": {
           "diverging": [
            [
             0,
             "#8e0152"
            ],
            [
             0.1,
             "#c51b7d"
            ],
            [
             0.2,
             "#de77ae"
            ],
            [
             0.3,
             "#f1b6da"
            ],
            [
             0.4,
             "#fde0ef"
            ],
            [
             0.5,
             "#f7f7f7"
            ],
            [
             0.6,
             "#e6f5d0"
            ],
            [
             0.7,
             "#b8e186"
            ],
            [
             0.8,
             "#7fbc41"
            ],
            [
             0.9,
             "#4d9221"
            ],
            [
             1,
             "#276419"
            ]
           ],
           "sequential": [
            [
             0,
             "#0d0887"
            ],
            [
             0.1111111111111111,
             "#46039f"
            ],
            [
             0.2222222222222222,
             "#7201a8"
            ],
            [
             0.3333333333333333,
             "#9c179e"
            ],
            [
             0.4444444444444444,
             "#bd3786"
            ],
            [
             0.5555555555555556,
             "#d8576b"
            ],
            [
             0.6666666666666666,
             "#ed7953"
            ],
            [
             0.7777777777777778,
             "#fb9f3a"
            ],
            [
             0.8888888888888888,
             "#fdca26"
            ],
            [
             1,
             "#f0f921"
            ]
           ],
           "sequentialminus": [
            [
             0,
             "#0d0887"
            ],
            [
             0.1111111111111111,
             "#46039f"
            ],
            [
             0.2222222222222222,
             "#7201a8"
            ],
            [
             0.3333333333333333,
             "#9c179e"
            ],
            [
             0.4444444444444444,
             "#bd3786"
            ],
            [
             0.5555555555555556,
             "#d8576b"
            ],
            [
             0.6666666666666666,
             "#ed7953"
            ],
            [
             0.7777777777777778,
             "#fb9f3a"
            ],
            [
             0.8888888888888888,
             "#fdca26"
            ],
            [
             1,
             "#f0f921"
            ]
           ]
          },
          "colorway": [
           "#636efa",
           "#EF553B",
           "#00cc96",
           "#ab63fa",
           "#FFA15A",
           "#19d3f3",
           "#FF6692",
           "#B6E880",
           "#FF97FF",
           "#FECB52"
          ],
          "font": {
           "color": "#2a3f5f"
          },
          "geo": {
           "bgcolor": "white",
           "lakecolor": "white",
           "landcolor": "#E5ECF6",
           "showlakes": true,
           "showland": true,
           "subunitcolor": "white"
          },
          "hoverlabel": {
           "align": "left"
          },
          "hovermode": "closest",
          "mapbox": {
           "style": "light"
          },
          "paper_bgcolor": "white",
          "plot_bgcolor": "#E5ECF6",
          "polar": {
           "angularaxis": {
            "gridcolor": "white",
            "linecolor": "white",
            "ticks": ""
           },
           "bgcolor": "#E5ECF6",
           "radialaxis": {
            "gridcolor": "white",
            "linecolor": "white",
            "ticks": ""
           }
          },
          "scene": {
           "xaxis": {
            "backgroundcolor": "#E5ECF6",
            "gridcolor": "white",
            "gridwidth": 2,
            "linecolor": "white",
            "showbackground": true,
            "ticks": "",
            "zerolinecolor": "white"
           },
           "yaxis": {
            "backgroundcolor": "#E5ECF6",
            "gridcolor": "white",
            "gridwidth": 2,
            "linecolor": "white",
            "showbackground": true,
            "ticks": "",
            "zerolinecolor": "white"
           },
           "zaxis": {
            "backgroundcolor": "#E5ECF6",
            "gridcolor": "white",
            "gridwidth": 2,
            "linecolor": "white",
            "showbackground": true,
            "ticks": "",
            "zerolinecolor": "white"
           }
          },
          "shapedefaults": {
           "line": {
            "color": "#2a3f5f"
           }
          },
          "ternary": {
           "aaxis": {
            "gridcolor": "white",
            "linecolor": "white",
            "ticks": ""
           },
           "baxis": {
            "gridcolor": "white",
            "linecolor": "white",
            "ticks": ""
           },
           "bgcolor": "#E5ECF6",
           "caxis": {
            "gridcolor": "white",
            "linecolor": "white",
            "ticks": ""
           }
          },
          "title": {
           "x": 0.05
          },
          "xaxis": {
           "automargin": true,
           "gridcolor": "white",
           "linecolor": "white",
           "ticks": "",
           "title": {
            "standoff": 15
           },
           "zerolinecolor": "white",
           "zerolinewidth": 2
          },
          "yaxis": {
           "automargin": true,
           "gridcolor": "white",
           "linecolor": "white",
           "ticks": "",
           "title": {
            "standoff": 15
           },
           "zerolinecolor": "white",
           "zerolinewidth": 2
          }
         }
        },
        "xaxis": {
         "anchor": "y",
         "domain": [
          0,
          1
         ],
         "title": {
          "text": ""
         },
         "type": "date"
        },
        "yaxis": {
         "anchor": "x",
         "autorange": "reversed",
         "domain": [
          0,
          1
         ],
         "title": {
          "text": "베드명"
         }
        }
       }
      },
      "text/html": [
       "<div>                            <div id=\"5e3d3491-85f8-457b-aa61-cd584be33eb1\" class=\"plotly-graph-div\" style=\"height:500px; width:100%;\"></div>            <script type=\"text/javascript\">                require([\"plotly\"], function(Plotly) {                    window.PLOTLYENV=window.PLOTLYENV || {};                                    if (document.getElementById(\"5e3d3491-85f8-457b-aa61-cd584be33eb1\")) {                    Plotly.newPlot(                        \"5e3d3491-85f8-457b-aa61-cd584be33eb1\",                        [{\"alignmentgroup\":\"True\",\"base\":[\"2024-02-13\",\"2024-02-03\",\"2024-02-07\"],\"customdata\":[[7,54],[4,56],[6,59]],\"hovertemplate\":\"베드구분=A<br>착수일=%{base}<br>종료일=%{x}<br>베드명=%{y}<br>차트텍스트=%{text}<br>표준공기=%{customdata[0]}<br>조립중량=%{customdata[1]}<extra></extra>\",\"legendgroup\":\"A\",\"marker\":{\"color\":\"#636efa\",\"opacity\":0.7,\"pattern\":{\"shape\":\"\"}},\"name\":\"A\",\"offsetgroup\":\"A\",\"orientation\":\"h\",\"showlegend\":true,\"text\":[\"S22 / 조립중량: 7ton\",\"S24 / 조립중량: 4ton\",\"S6 / 조립중량: 6ton\"],\"textposition\":\"auto\",\"x\":[604800000.0,345600000.0,518400000.0],\"xaxis\":\"x\",\"y\":[\"A\",\"A\",\"A\"],\"yaxis\":\"y\",\"type\":\"bar\"},{\"alignmentgroup\":\"True\",\"base\":[\"2024-02-03\",\"2024-02-09\"],\"customdata\":[[6,50],[8,58]],\"hovertemplate\":\"베드구분=B<br>착수일=%{base}<br>종료일=%{x}<br>베드명=%{y}<br>차트텍스트=%{text}<br>표준공기=%{customdata[0]}<br>조립중량=%{customdata[1]}<extra></extra>\",\"legendgroup\":\"B\",\"marker\":{\"color\":\"#EF553B\",\"opacity\":0.7,\"pattern\":{\"shape\":\"\"}},\"name\":\"B\",\"offsetgroup\":\"B\",\"orientation\":\"h\",\"showlegend\":true,\"text\":[\"S1 / 조립중량: 6ton\",\"S28 / 조립중량: 8ton\"],\"textposition\":\"auto\",\"x\":[518400000.0,691200000.0],\"xaxis\":\"x\",\"y\":[\"B\",\"B\"],\"yaxis\":\"y\",\"type\":\"bar\"},{\"alignmentgroup\":\"True\",\"base\":[\"2024-02-03\",\"2024-02-15\",\"2024-02-09\"],\"customdata\":[[6,59],[4,54],[6,50]],\"hovertemplate\":\"베드구분=C<br>착수일=%{base}<br>종료일=%{x}<br>베드명=%{y}<br>차트텍스트=%{text}<br>표준공기=%{customdata[0]}<br>조립중량=%{customdata[1]}<extra></extra>\",\"legendgroup\":\"C\",\"marker\":{\"color\":\"#00cc96\",\"opacity\":0.7,\"pattern\":{\"shape\":\"\"}},\"name\":\"C\",\"offsetgroup\":\"C\",\"orientation\":\"h\",\"showlegend\":true,\"text\":[\"S20 / 조립중량: 6ton\",\"S14 / 조립중량: 4ton\",\"S7 / 조립중량: 6ton\"],\"textposition\":\"auto\",\"x\":[518400000.0,345600000.0,518400000.0],\"xaxis\":\"x\",\"y\":[\"C\",\"C\",\"C\"],\"yaxis\":\"y\",\"type\":\"bar\"},{\"alignmentgroup\":\"True\",\"base\":[\"2024-02-03\",\"2024-02-07\",\"2024-02-15\"],\"customdata\":[[4,57],[8,50],[4,53]],\"hovertemplate\":\"베드구분=D<br>착수일=%{base}<br>종료일=%{x}<br>베드명=%{y}<br>차트텍스트=%{text}<br>표준공기=%{customdata[0]}<br>조립중량=%{customdata[1]}<extra></extra>\",\"legendgroup\":\"D\",\"marker\":{\"color\":\"#ab63fa\",\"opacity\":0.7,\"pattern\":{\"shape\":\"\"}},\"name\":\"D\",\"offsetgroup\":\"D\",\"orientation\":\"h\",\"showlegend\":true,\"text\":[\"S10 / 조립중량: 4ton\",\"S18 / 조립중량: 8ton\",\"S26 / 조립중량: 4ton\"],\"textposition\":\"auto\",\"x\":[345600000.0,691200000.0,345600000.0],\"xaxis\":\"x\",\"y\":[\"D\",\"D\",\"D\"],\"yaxis\":\"y\",\"type\":\"bar\"},{\"alignmentgroup\":\"True\",\"base\":[\"2024-02-11\",\"2024-02-16\",\"2024-02-03\"],\"customdata\":[[5,56],[7,56],[8,55]],\"hovertemplate\":\"베드구분=E<br>착수일=%{base}<br>종료일=%{x}<br>베드명=%{y}<br>차트텍스트=%{text}<br>표준공기=%{customdata[0]}<br>조립중량=%{customdata[1]}<extra></extra>\",\"legendgroup\":\"E\",\"marker\":{\"color\":\"#FFA15A\",\"opacity\":0.7,\"pattern\":{\"shape\":\"\"}},\"name\":\"E\",\"offsetgroup\":\"E\",\"orientation\":\"h\",\"showlegend\":true,\"text\":[\"S13 / 조립중량: 5ton\",\"S29 / 조립중량: 7ton\",\"S25 / 조립중량: 8ton\"],\"textposition\":\"auto\",\"x\":[432000000.0,604800000.0,691200000.0],\"xaxis\":\"x\",\"y\":[\"E\",\"E\",\"E\"],\"yaxis\":\"y\",\"type\":\"bar\"},{\"alignmentgroup\":\"True\",\"base\":[\"2024-02-12\",\"2024-02-03\",\"2024-02-08\"],\"customdata\":[[5,58],[5,56],[4,60]],\"hovertemplate\":\"베드구분=F<br>착수일=%{base}<br>종료일=%{x}<br>베드명=%{y}<br>차트텍스트=%{text}<br>표준공기=%{customdata[0]}<br>조립중량=%{customdata[1]}<extra></extra>\",\"legendgroup\":\"F\",\"marker\":{\"color\":\"#19d3f3\",\"opacity\":0.7,\"pattern\":{\"shape\":\"\"}},\"name\":\"F\",\"offsetgroup\":\"F\",\"orientation\":\"h\",\"showlegend\":true,\"text\":[\"S21 / 조립중량: 5ton\",\"S16 / 조립중량: 5ton\",\"S27 / 조립중량: 4ton\"],\"textposition\":\"auto\",\"x\":[432000000.0,432000000.0,345600000.0],\"xaxis\":\"x\",\"y\":[\"F\",\"F\",\"F\"],\"yaxis\":\"y\",\"type\":\"bar\"},{\"alignmentgroup\":\"True\",\"base\":[\"2024-02-03\",\"2024-02-15\",\"2024-02-11\"],\"customdata\":[[8,52],[5,60],[4,52]],\"hovertemplate\":\"베드구분=G<br>착수일=%{base}<br>종료일=%{x}<br>베드명=%{y}<br>차트텍스트=%{text}<br>표준공기=%{customdata[0]}<br>조립중량=%{customdata[1]}<extra></extra>\",\"legendgroup\":\"G\",\"marker\":{\"color\":\"#FF6692\",\"opacity\":0.7,\"pattern\":{\"shape\":\"\"}},\"name\":\"G\",\"offsetgroup\":\"G\",\"orientation\":\"h\",\"showlegend\":true,\"text\":[\"S9 / 조립중량: 8ton\",\"S15 / 조립중량: 5ton\",\"S8 / 조립중량: 4ton\"],\"textposition\":\"auto\",\"x\":[691200000.0,432000000.0,345600000.0],\"xaxis\":\"x\",\"y\":[\"G\",\"G\",\"G\"],\"yaxis\":\"y\",\"type\":\"bar\"}],                        {\"template\":{\"data\":{\"histogram2dcontour\":[{\"type\":\"histogram2dcontour\",\"colorbar\":{\"outlinewidth\":0,\"ticks\":\"\"},\"colorscale\":[[0.0,\"#0d0887\"],[0.1111111111111111,\"#46039f\"],[0.2222222222222222,\"#7201a8\"],[0.3333333333333333,\"#9c179e\"],[0.4444444444444444,\"#bd3786\"],[0.5555555555555556,\"#d8576b\"],[0.6666666666666666,\"#ed7953\"],[0.7777777777777778,\"#fb9f3a\"],[0.8888888888888888,\"#fdca26\"],[1.0,\"#f0f921\"]]}],\"choropleth\":[{\"type\":\"choropleth\",\"colorbar\":{\"outlinewidth\":0,\"ticks\":\"\"}}],\"histogram2d\":[{\"type\":\"histogram2d\",\"colorbar\":{\"outlinewidth\":0,\"ticks\":\"\"},\"colorscale\":[[0.0,\"#0d0887\"],[0.1111111111111111,\"#46039f\"],[0.2222222222222222,\"#7201a8\"],[0.3333333333333333,\"#9c179e\"],[0.4444444444444444,\"#bd3786\"],[0.5555555555555556,\"#d8576b\"],[0.6666666666666666,\"#ed7953\"],[0.7777777777777778,\"#fb9f3a\"],[0.8888888888888888,\"#fdca26\"],[1.0,\"#f0f921\"]]}],\"heatmap\":[{\"type\":\"heatmap\",\"colorbar\":{\"outlinewidth\":0,\"ticks\":\"\"},\"colorscale\":[[0.0,\"#0d0887\"],[0.1111111111111111,\"#46039f\"],[0.2222222222222222,\"#7201a8\"],[0.3333333333333333,\"#9c179e\"],[0.4444444444444444,\"#bd3786\"],[0.5555555555555556,\"#d8576b\"],[0.6666666666666666,\"#ed7953\"],[0.7777777777777778,\"#fb9f3a\"],[0.8888888888888888,\"#fdca26\"],[1.0,\"#f0f921\"]]}],\"heatmapgl\":[{\"type\":\"heatmapgl\",\"colorbar\":{\"outlinewidth\":0,\"ticks\":\"\"},\"colorscale\":[[0.0,\"#0d0887\"],[0.1111111111111111,\"#46039f\"],[0.2222222222222222,\"#7201a8\"],[0.3333333333333333,\"#9c179e\"],[0.4444444444444444,\"#bd3786\"],[0.5555555555555556,\"#d8576b\"],[0.6666666666666666,\"#ed7953\"],[0.7777777777777778,\"#fb9f3a\"],[0.8888888888888888,\"#fdca26\"],[1.0,\"#f0f921\"]]}],\"contourcarpet\":[{\"type\":\"contourcarpet\",\"colorbar\":{\"outlinewidth\":0,\"ticks\":\"\"}}],\"contour\":[{\"type\":\"contour\",\"colorbar\":{\"outlinewidth\":0,\"ticks\":\"\"},\"colorscale\":[[0.0,\"#0d0887\"],[0.1111111111111111,\"#46039f\"],[0.2222222222222222,\"#7201a8\"],[0.3333333333333333,\"#9c179e\"],[0.4444444444444444,\"#bd3786\"],[0.5555555555555556,\"#d8576b\"],[0.6666666666666666,\"#ed7953\"],[0.7777777777777778,\"#fb9f3a\"],[0.8888888888888888,\"#fdca26\"],[1.0,\"#f0f921\"]]}],\"surface\":[{\"type\":\"surface\",\"colorbar\":{\"outlinewidth\":0,\"ticks\":\"\"},\"colorscale\":[[0.0,\"#0d0887\"],[0.1111111111111111,\"#46039f\"],[0.2222222222222222,\"#7201a8\"],[0.3333333333333333,\"#9c179e\"],[0.4444444444444444,\"#bd3786\"],[0.5555555555555556,\"#d8576b\"],[0.6666666666666666,\"#ed7953\"],[0.7777777777777778,\"#fb9f3a\"],[0.8888888888888888,\"#fdca26\"],[1.0,\"#f0f921\"]]}],\"mesh3d\":[{\"type\":\"mesh3d\",\"colorbar\":{\"outlinewidth\":0,\"ticks\":\"\"}}],\"scatter\":[{\"fillpattern\":{\"fillmode\":\"overlay\",\"size\":10,\"solidity\":0.2},\"type\":\"scatter\"}],\"parcoords\":[{\"type\":\"parcoords\",\"line\":{\"colorbar\":{\"outlinewidth\":0,\"ticks\":\"\"}}}],\"scatterpolargl\":[{\"type\":\"scatterpolargl\",\"marker\":{\"colorbar\":{\"outlinewidth\":0,\"ticks\":\"\"}}}],\"bar\":[{\"error_x\":{\"color\":\"#2a3f5f\"},\"error_y\":{\"color\":\"#2a3f5f\"},\"marker\":{\"line\":{\"color\":\"#E5ECF6\",\"width\":0.5},\"pattern\":{\"fillmode\":\"overlay\",\"size\":10,\"solidity\":0.2}},\"type\":\"bar\"}],\"scattergeo\":[{\"type\":\"scattergeo\",\"marker\":{\"colorbar\":{\"outlinewidth\":0,\"ticks\":\"\"}}}],\"scatterpolar\":[{\"type\":\"scatterpolar\",\"marker\":{\"colorbar\":{\"outlinewidth\":0,\"ticks\":\"\"}}}],\"histogram\":[{\"marker\":{\"pattern\":{\"fillmode\":\"overlay\",\"size\":10,\"solidity\":0.2}},\"type\":\"histogram\"}],\"scattergl\":[{\"type\":\"scattergl\",\"marker\":{\"colorbar\":{\"outlinewidth\":0,\"ticks\":\"\"}}}],\"scatter3d\":[{\"type\":\"scatter3d\",\"line\":{\"colorbar\":{\"outlinewidth\":0,\"ticks\":\"\"}},\"marker\":{\"colorbar\":{\"outlinewidth\":0,\"ticks\":\"\"}}}],\"scattermapbox\":[{\"type\":\"scattermapbox\",\"marker\":{\"colorbar\":{\"outlinewidth\":0,\"ticks\":\"\"}}}],\"scatterternary\":[{\"type\":\"scatterternary\",\"marker\":{\"colorbar\":{\"outlinewidth\":0,\"ticks\":\"\"}}}],\"scattercarpet\":[{\"type\":\"scattercarpet\",\"marker\":{\"colorbar\":{\"outlinewidth\":0,\"ticks\":\"\"}}}],\"carpet\":[{\"aaxis\":{\"endlinecolor\":\"#2a3f5f\",\"gridcolor\":\"white\",\"linecolor\":\"white\",\"minorgridcolor\":\"white\",\"startlinecolor\":\"#2a3f5f\"},\"baxis\":{\"endlinecolor\":\"#2a3f5f\",\"gridcolor\":\"white\",\"linecolor\":\"white\",\"minorgridcolor\":\"white\",\"startlinecolor\":\"#2a3f5f\"},\"type\":\"carpet\"}],\"table\":[{\"cells\":{\"fill\":{\"color\":\"#EBF0F8\"},\"line\":{\"color\":\"white\"}},\"header\":{\"fill\":{\"color\":\"#C8D4E3\"},\"line\":{\"color\":\"white\"}},\"type\":\"table\"}],\"barpolar\":[{\"marker\":{\"line\":{\"color\":\"#E5ECF6\",\"width\":0.5},\"pattern\":{\"fillmode\":\"overlay\",\"size\":10,\"solidity\":0.2}},\"type\":\"barpolar\"}],\"pie\":[{\"automargin\":true,\"type\":\"pie\"}]},\"layout\":{\"autotypenumbers\":\"strict\",\"colorway\":[\"#636efa\",\"#EF553B\",\"#00cc96\",\"#ab63fa\",\"#FFA15A\",\"#19d3f3\",\"#FF6692\",\"#B6E880\",\"#FF97FF\",\"#FECB52\"],\"font\":{\"color\":\"#2a3f5f\"},\"hovermode\":\"closest\",\"hoverlabel\":{\"align\":\"left\"},\"paper_bgcolor\":\"white\",\"plot_bgcolor\":\"#E5ECF6\",\"polar\":{\"bgcolor\":\"#E5ECF6\",\"angularaxis\":{\"gridcolor\":\"white\",\"linecolor\":\"white\",\"ticks\":\"\"},\"radialaxis\":{\"gridcolor\":\"white\",\"linecolor\":\"white\",\"ticks\":\"\"}},\"ternary\":{\"bgcolor\":\"#E5ECF6\",\"aaxis\":{\"gridcolor\":\"white\",\"linecolor\":\"white\",\"ticks\":\"\"},\"baxis\":{\"gridcolor\":\"white\",\"linecolor\":\"white\",\"ticks\":\"\"},\"caxis\":{\"gridcolor\":\"white\",\"linecolor\":\"white\",\"ticks\":\"\"}},\"coloraxis\":{\"colorbar\":{\"outlinewidth\":0,\"ticks\":\"\"}},\"colorscale\":{\"sequential\":[[0.0,\"#0d0887\"],[0.1111111111111111,\"#46039f\"],[0.2222222222222222,\"#7201a8\"],[0.3333333333333333,\"#9c179e\"],[0.4444444444444444,\"#bd3786\"],[0.5555555555555556,\"#d8576b\"],[0.6666666666666666,\"#ed7953\"],[0.7777777777777778,\"#fb9f3a\"],[0.8888888888888888,\"#fdca26\"],[1.0,\"#f0f921\"]],\"sequentialminus\":[[0.0,\"#0d0887\"],[0.1111111111111111,\"#46039f\"],[0.2222222222222222,\"#7201a8\"],[0.3333333333333333,\"#9c179e\"],[0.4444444444444444,\"#bd3786\"],[0.5555555555555556,\"#d8576b\"],[0.6666666666666666,\"#ed7953\"],[0.7777777777777778,\"#fb9f3a\"],[0.8888888888888888,\"#fdca26\"],[1.0,\"#f0f921\"]],\"diverging\":[[0,\"#8e0152\"],[0.1,\"#c51b7d\"],[0.2,\"#de77ae\"],[0.3,\"#f1b6da\"],[0.4,\"#fde0ef\"],[0.5,\"#f7f7f7\"],[0.6,\"#e6f5d0\"],[0.7,\"#b8e186\"],[0.8,\"#7fbc41\"],[0.9,\"#4d9221\"],[1,\"#276419\"]]},\"xaxis\":{\"gridcolor\":\"white\",\"linecolor\":\"white\",\"ticks\":\"\",\"title\":{\"standoff\":15},\"zerolinecolor\":\"white\",\"automargin\":true,\"zerolinewidth\":2},\"yaxis\":{\"gridcolor\":\"white\",\"linecolor\":\"white\",\"ticks\":\"\",\"title\":{\"standoff\":15},\"zerolinecolor\":\"white\",\"automargin\":true,\"zerolinewidth\":2},\"scene\":{\"xaxis\":{\"backgroundcolor\":\"#E5ECF6\",\"gridcolor\":\"white\",\"linecolor\":\"white\",\"showbackground\":true,\"ticks\":\"\",\"zerolinecolor\":\"white\",\"gridwidth\":2},\"yaxis\":{\"backgroundcolor\":\"#E5ECF6\",\"gridcolor\":\"white\",\"linecolor\":\"white\",\"showbackground\":true,\"ticks\":\"\",\"zerolinecolor\":\"white\",\"gridwidth\":2},\"zaxis\":{\"backgroundcolor\":\"#E5ECF6\",\"gridcolor\":\"white\",\"linecolor\":\"white\",\"showbackground\":true,\"ticks\":\"\",\"zerolinecolor\":\"white\",\"gridwidth\":2}},\"shapedefaults\":{\"line\":{\"color\":\"#2a3f5f\"}},\"annotationdefaults\":{\"arrowcolor\":\"#2a3f5f\",\"arrowhead\":0,\"arrowwidth\":1},\"geo\":{\"bgcolor\":\"white\",\"landcolor\":\"#E5ECF6\",\"subunitcolor\":\"white\",\"showland\":true,\"showlakes\":true,\"lakecolor\":\"white\"},\"title\":{\"x\":0.05},\"mapbox\":{\"style\":\"light\"}}},\"xaxis\":{\"anchor\":\"y\",\"domain\":[0.0,1.0],\"type\":\"date\",\"title\":{\"text\":\"\"}},\"yaxis\":{\"anchor\":\"x\",\"domain\":[0.0,1.0],\"title\":{\"text\":\"베드명\"},\"autorange\":\"reversed\"},\"legend\":{\"title\":{\"text\":\"베드구분\"},\"tracegroupgap\":0},\"margin\":{\"t\":60},\"barmode\":\"overlay\",\"hoverlabel\":{\"bgcolor\":\"#DAEEED\"},\"font\":{\"family\":\"Courier New, monospace\",\"size\":12,\"color\":\"RebeccaPurple\"},\"bargap\":0.2,\"height\":500},                        {\"responsive\": true}                    ).then(function(){\n",
       "                            \n",
       "var gd = document.getElementById('5e3d3491-85f8-457b-aa61-cd584be33eb1');\n",
       "var x = new MutationObserver(function (mutations, observer) {{\n",
       "        var display = window.getComputedStyle(gd).display;\n",
       "        if (!display || display === 'none') {{\n",
       "            console.log([gd, 'removed!']);\n",
       "            Plotly.purge(gd);\n",
       "            observer.disconnect();\n",
       "        }}\n",
       "}});\n",
       "\n",
       "// Listen for the removal of the full notebook cells\n",
       "var notebookContainer = gd.closest('#notebook-container');\n",
       "if (notebookContainer) {{\n",
       "    x.observe(notebookContainer, {childList: true});\n",
       "}}\n",
       "\n",
       "// Listen for the clearing of the current output cell\n",
       "var outputEl = gd.closest('.output');\n",
       "if (outputEl) {{\n",
       "    x.observe(outputEl, {childList: true});\n",
       "}}\n",
       "\n",
       "                        })                };                });            </script>        </div>"
      ]
     },
     "metadata": {},
     "output_type": "display_data"
    }
   ],
   "source": [
    "draw_gant(배치결과모음[1])"
   ]
  },
  {
   "cell_type": "code",
   "execution_count": null,
   "id": "afe344ae",
   "metadata": {},
   "outputs": [],
   "source": []
  },
  {
   "cell_type": "code",
   "execution_count": null,
   "id": "e1c3d63c",
   "metadata": {},
   "outputs": [],
   "source": []
  }
 ],
 "metadata": {
  "kernelspec": {
   "display_name": "Python 3 (ipykernel)",
   "language": "python",
   "name": "python3"
  },
  "language_info": {
   "codemirror_mode": {
    "name": "ipython",
    "version": 3
   },
   "file_extension": ".py",
   "mimetype": "text/x-python",
   "name": "python",
   "nbconvert_exporter": "python",
   "pygments_lexer": "ipython3",
   "version": "3.10.6"
  },
  "toc": {
   "base_numbering": 1,
   "nav_menu": {
    "height": "190.99px",
    "width": "257.309px"
   },
   "number_sections": true,
   "sideBar": true,
   "skip_h1_title": false,
   "title_cell": "Table of Contents",
   "title_sidebar": "Contents",
   "toc_cell": false,
   "toc_position": {
    "height": "648.182px",
    "left": "39px",
    "top": "110.795px",
    "width": "229.503px"
   },
   "toc_section_display": true,
   "toc_window_display": true
  }
 },
 "nbformat": 4,
 "nbformat_minor": 5
}
